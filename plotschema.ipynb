{
 "cells": [
  {
   "cell_type": "markdown",
   "metadata": {},
   "source": [
    "## Collect Schema for Reference page search"
   ]
  },
  {
   "cell_type": "code",
   "execution_count": 156,
   "metadata": {},
   "outputs": [],
   "source": [
    "import json\n",
    "p = json.load(open('_data/plotschema.json'))\n",
    "schema = []"
   ]
  },
  {
   "cell_type": "markdown",
   "metadata": {
    "collapsed": true
   },
   "source": [
    "### 1st Level: Traces "
   ]
  },
  {
   "cell_type": "code",
   "execution_count": 157,
   "metadata": {},
   "outputs": [
    {
     "name": "stdout",
     "output_type": "stream",
     "text": [
      "mesh3d\n",
      "scattercarpet\n",
      "scatterternary\n",
      "surface\n",
      "sankey\n",
      "table\n",
      "contour\n",
      "carpet\n",
      "contourcarpet\n",
      "area\n",
      "ohlc\n",
      "heatmap\n",
      "scattermapbox\n",
      "scatter3d\n",
      "pointcloud\n",
      "scattergl\n",
      "histogram\n",
      "pie\n",
      "heatmapgl\n",
      "histogram2d\n",
      "scattergeo\n",
      "box\n",
      "bar\n",
      "choropleth\n",
      "candlestick\n",
      "parcoords\n",
      "histogram2dcontour\n",
      "scatter\n"
     ]
    }
   ],
   "source": [
    "for i in p['schema']['traces']:\n",
    "    print i"
   ]
  },
  {
   "cell_type": "markdown",
   "metadata": {},
   "source": [
    "Add trace dictionaries to schema array.\n",
    "The trace dictionary include name: trace name, permalink: reference/#trace-name, and description if applicable. "
   ]
  },
  {
   "cell_type": "code",
   "execution_count": 158,
   "metadata": {},
   "outputs": [],
   "source": [
    "for i in p['schema']['traces']:\n",
    "    trace = {}\n",
    "    trace ['name'] = i\n",
    "    trace ['permalink'] = 'reference/#'+i\n",
    "    if p['schema']['traces'][i]['meta']:\n",
    "        trace ['description'] = p['schema']['traces'][i]['meta']['description']\n",
    "    else: pass\n",
    "    schema.append(trace)"
   ]
  },
  {
   "cell_type": "markdown",
   "metadata": {},
   "source": [
    "### Level 2: Nested Attributes"
   ]
  },
  {
   "cell_type": "code",
   "execution_count": 159,
   "metadata": {},
   "outputs": [],
   "source": [
    "for i in p['schema']['traces']:\n",
    "    for att1 in p['schema']['traces'][i]['attributes']:\n",
    "        if not any(value in att1 for value in (\"src\", \"_deprecated\", \"impliedEdits\", \"uid\", \"editType\")):\n",
    "            try:\n",
    "                attribute = {}\n",
    "                attribute ['name'] = i+' > '+att1\n",
    "                attribute ['permalink'] = 'reference/#'+i+'-'+att1\n",
    "                attribute ['description'] = p['schema']['traces'][i]['attributes'][att1]['description']\n",
    "                schema.append(attribute)\n",
    "            except:\n",
    "                attribute = {}\n",
    "                attribute ['name'] = i+' > '+att1\n",
    "                attribute ['permalink'] = 'reference/#'+i+'-'+att1\n",
    "                attribute ['description'] = 'Properties for '+att1\n",
    "                schema.append(attribute)\n",
    "        for att2 in p['schema']['traces'][i]['attributes'][att1]:\n",
    "            if not any(value in att2 for value in (\"src\", \"_deprecated\", \"impliedEdits\", \"uid\", \"editType\")):\n",
    "                try:\n",
    "                    if isinstance(p['schema']['traces'][i]['attributes'][att1][att2], dict):\n",
    "                        try:\n",
    "                            attribute = {}\n",
    "                            attribute ['name'] = i+' > '+att1+' > '+att2\n",
    "                            attribute ['permalink'] = 'reference/#'+i+'-'+att1+'-'+att2\n",
    "                            attribute ['description'] = p['schema']['traces'][i]['attributes'][att1][att2]['description']\n",
    "                            schema.append(attribute)\n",
    "                        except:\n",
    "                            attribute = {}\n",
    "                            attribute ['name'] = i+' > '+att1+' > '+att2\n",
    "                            attribute ['permalink'] = 'reference/#'+i+'-'+att1+'-'+att2\n",
    "                            attribute ['description'] = 'Properties for '+att2\n",
    "                            schema.append(attribute)\n",
    "                except:\n",
    "                    pass\n",
    "                try:\n",
    "                    for att3 in p['schema']['traces'][i]['attributes'][att1][att2]:\n",
    "                        if not any(value in att3 for value in (\"src\", \"_deprecated\", \"impliedEdits\", \"uid\", \"editType\")):\n",
    "                            try:\n",
    "                                if isinstance(p['schema']['traces'][i]['attributes'][att1][att2][att3], dict):\n",
    "                                    try:\n",
    "                                        attribute = {}\n",
    "                                        attribute ['name'] = i+' > '+att1+' > '+att2+' > '+att3\n",
    "                                        attribute ['permalink'] = 'reference/#'+i+'-'+att1+'-'+att2+'-'+att3\n",
    "                                        attribute ['description'] = p['schema']['traces'][i]['attributes'][att1][att2][att3]['description']\n",
    "                                        schema.append(attribute)\n",
    "                                    except:\n",
    "                                        attribute = {}\n",
    "                                        attribute ['name'] = i+' > '+att1+' > '+att2+' > '+att3\n",
    "                                        attribute ['permalink'] = 'reference/#'+i+'-'+att1+'-'+att2+'-'+att3\n",
    "                                        attribute ['description'] = 'Properties for '+att3\n",
    "                                        schema.append(attribute)\n",
    "                            except:\n",
    "                                pass\n",
    "                        try:\n",
    "                            for att4 in p['schema']['traces'][i]['attributes'][att1][att2][att3]:\n",
    "                                if not any(value in att4 for value in (\"src\", \"_deprecated\", \"impliedEdits\", \"uid\", \"editType\")):\n",
    "                                    try:\n",
    "                                        if isinstance(p['schema']['traces'][i]['attributes'][att1][att2][att3][att4], dict):\n",
    "                                            try:\n",
    "                                                attribute = {}\n",
    "                                                attribute ['name'] = i+' > '+att1+' > '+att2+' > '+att3+' > '+att4\n",
    "                                                attribute ['permalink'] = 'reference/#'+i+'-'+att1+'-'+att2+'-'+att3+'-'+att4\n",
    "                                                attribute ['description'] = p['schema']['traces'][i]['attributes'][att1][att2][att3][att4]['description']\n",
    "                                                schema.append(attribute)\n",
    "                                            except:\n",
    "                                                attribute = {}\n",
    "                                                attribute ['name'] = i+' > '+att1+' > '+att2+' > '+att3+' > '+att4\n",
    "                                                attribute ['permalink'] = 'reference/#'+i+'-'+att1+'-'+att2+'-'+att3+'-'+att4\n",
    "                                                attribute ['description'] = 'Properties for '+att4\n",
    "                                                schema.append(attribute)\n",
    "                                    except:\n",
    "                                        pass\n",
    "                        except:\n",
    "                            pass\n",
    "                except:\n",
    "                    pass"
   ]
  },
  {
   "cell_type": "markdown",
   "metadata": {},
   "source": [
    "## LAYOUT Attributes"
   ]
  },
  {
   "cell_type": "code",
   "execution_count": 160,
   "metadata": {},
   "outputs": [],
   "source": [
    "for att1 in p['schema']['layout']['layoutAttributes']:\n",
    "    if not any(value in att1 for value in (\"src\", \"_deprecated\", \"impliedEdits\", \"uid\", \"editType\")):\n",
    "        try:\n",
    "            attribute = {}\n",
    "            attribute ['name'] = 'Layout > '+att1\n",
    "            attribute ['permalink'] = 'reference/#layout-'+att1\n",
    "            attribute ['description'] = p['schema']['layout']['layoutAttributes'][att1]['description']\n",
    "            schema.append(attribute)\n",
    "        except:\n",
    "            attribute = {}\n",
    "            attribute ['name'] = 'Layout > '+att1\n",
    "            attribute ['permalink'] = 'reference/#layout-'+att1\n",
    "            attribute ['description'] = 'Properties for '+att1\n",
    "            schema.append(attribute)\n",
    "    for att2 in p['schema']['layout']['layoutAttributes'][att1]:\n",
    "        if not any(value in att2 for value in (\"src\", \"_deprecated\", \"impliedEdits\", \"uid\", \"editType\")):\n",
    "            try:\n",
    "                if isinstance(p['schema']['layout']['layoutAttributes'][att1][att2], dict):\n",
    "                    try:\n",
    "                        attribute = {}\n",
    "                        attribute ['name'] = 'Layout > '+att1+' > '+att2\n",
    "                        attribute ['permalink'] = 'reference/#layout-'+att1+'-'+att2\n",
    "                        attribute ['description'] = p['schema']['layout']['layoutAttributes'][att1][att2]['description']\n",
    "                        schema.append(attribute)\n",
    "                    except:\n",
    "                        attribute = {}\n",
    "                        attribute ['name'] = 'Layout > '+att1+' > '+att2\n",
    "                        attribute ['permalink'] = 'reference/#layout-'+att1+'-'+att2\n",
    "                        attribute ['description'] = 'Properties for '+att2\n",
    "                        schema.append(attribute)\n",
    "            except:\n",
    "                pass\n",
    "            try:\n",
    "                for att3 in p['schema']['layout']['layoutAttributes'][att1][att2]:\n",
    "                    if not any(value in att3 for value in (\"src\", \"_deprecated\", \"impliedEdits\", \"uid\", \"editType\")):\n",
    "                        if isinstance(p['schema']['layout']['layoutAttributes'][att1][att2][att3], dict):\n",
    "                            try:\n",
    "                                attribute = {}\n",
    "                                attribute ['name'] = 'Layout > '+att1+' > '+att2+' > '+att3\n",
    "                                attribute ['permalink'] = 'reference/#layout-'+att1+'-'+att2+'-'+att3\n",
    "                                attribute ['description'] = p['schema']['layout']['layoutAttributes'][att1][att2][att3]['description']\n",
    "                                schema.append(attribute)\n",
    "                            except:\n",
    "                                attribute = {}\n",
    "                                attribute ['name'] = 'Layout > '+att1+' > '+att2+' > '+att3\n",
    "                                attribute ['permalink'] = 'reference/#layout-'+att1+'-'+att2+'-'+att3\n",
    "                                attribute ['description'] = 'Properties for '+att3\n",
    "                                schema.append(attribute)\n",
    "                    try:\n",
    "                        for att4 in p['schema']['layout']['layoutAttributes'][att1][att2][att3]:\n",
    "                            if not any(value in att4 for value in (\"src\", \"_deprecated\", \"impliedEdits\", \"uid\", \"editType\")):\n",
    "                                    if isinstance(p['schema']['layout']['layoutAttributes'][att1][att2][att3][att4], dict):\n",
    "                                        try:\n",
    "                                            attribute = {}\n",
    "                                            attribute ['name'] = 'Layout > '+att1+' > '+att2+' > '+att3+' > '+att4\n",
    "                                            attribute ['permalink'] = 'reference/#layout-'+att1+'-'+att2+'-'+att3+'-'+att4\n",
    "                                            attribute ['description'] = p['schema']['layout']['layoutAttributes'][att1][att2][att3][att4]['description']\n",
    "                                            schema.append(attribute)\n",
    "                                        except:\n",
    "                                            attribute = {}\n",
    "                                            attribute ['name'] = 'Layout > '+att1+' > '+att2+' > '+att3+' > '+att4\n",
    "                                            attribute ['permalink'] = 'reference/#layout-'+att1+'-'+att2+'-'+att3+'-'+att4\n",
    "                                            attribute ['description'] = 'Properties for '+att4\n",
    "                                            schema.append(attribute)\n",
    "                    except:\n",
    "                        pass\n",
    "            except:\n",
    "                pass                  "
   ]
  },
  {
   "cell_type": "markdown",
   "metadata": {
    "collapsed": true
   },
   "source": [
    "#### Write to JSON file"
   ]
  },
  {
   "cell_type": "code",
   "execution_count": 161,
   "metadata": {
    "collapsed": true
   },
   "outputs": [],
   "source": [
    "import json\n",
    "with open('search_schema.json', 'w') as fp:\n",
    "    json.dump(schema, fp)"
   ]
  },
  {
   "cell_type": "code",
   "execution_count": null,
   "metadata": {
    "collapsed": true
   },
   "outputs": [],
   "source": []
  }
 ],
 "metadata": {
  "kernelspec": {
   "display_name": "Python 2",
   "language": "python",
   "name": "python2"
  },
  "language_info": {
   "codemirror_mode": {
    "name": "ipython",
    "version": 2
   },
   "file_extension": ".py",
   "mimetype": "text/x-python",
   "name": "python",
   "nbconvert_exporter": "python",
   "pygments_lexer": "ipython2",
   "version": "2.7.10"
  }
 },
 "nbformat": 4,
 "nbformat_minor": 1
}
