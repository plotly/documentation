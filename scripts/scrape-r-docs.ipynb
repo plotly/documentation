{
 "cells": [
  {
   "cell_type": "code",
   "execution_count": 98,
   "metadata": {
    "collapsed": true
   },
   "outputs": [],
   "source": [
    "with open('../_posts/markdown/layout.R') as f:\n",
    "    docs = f.read()"
   ]
  },
  {
   "cell_type": "code",
   "execution_count": 99,
   "metadata": {
    "collapsed": false
   },
   "outputs": [
    {
     "data": {
      "text/plain": [
       "'plot.ly/r/setting-graph-size/\\n\\nlibrary(plotly)\\nm = list(\\n  l = 50,\\n  r = 50,\\n  b = 100,\\n  t = 100,\\n  pad = 4\\n)\\nplot_ly(x = seq(0, 8), y = seq(0, 8)) %>%\\n  layout(autosize = F, width = 500, height = 500, margin = m)\\n\\n'"
      ]
     },
     "execution_count": 99,
     "metadata": {},
     "output_type": "execute_result"
    }
   ],
   "source": [
    "docs.split('# https://')[1]"
   ]
  },
  {
   "cell_type": "code",
   "execution_count": 110,
   "metadata": {
    "collapsed": true
   },
   "outputs": [],
   "source": [
    "template = '''\n",
    "---\n",
    "title: {title}\n",
    "name: {name}\n",
    "permalink: {url}\n",
    "description: {description}\n",
    "layout: base\n",
    "thumbnail: {thumbnail}\n",
    "language: r\n",
    "page_type: example_index\n",
    "has_thumbnail: false\n",
    "display_as: {display_as}\n",
    "---\n",
    "\n",
    "```{{r, echo = FALSE, message=FALSE}}\n",
    "knitr::opts_chunk$set(message = FALSE)\n",
    "Sys.setenv(\"plotly_username\"=\"RPlotBot\")\n",
    "Sys.setenv(\"plotly_api_key\"=\"q0lz6r5efr\")\n",
    "```\n",
    "# {name}\n",
    "```{{r, message=FALSE}}\n",
    "{code_block}\n",
    "```\n",
    "'''\n",
    "\n"
   ]
  },
  {
   "cell_type": "code",
   "execution_count": 111,
   "metadata": {
    "collapsed": false
   },
   "outputs": [],
   "source": [
    "import re\n",
    "exs = re.split('# (https://plot\\.ly/r/.*)', docs)[1:]"
   ]
  },
  {
   "cell_type": "code",
   "execution_count": 112,
   "metadata": {
    "collapsed": false
   },
   "outputs": [
    {
     "name": "stdout",
     "output_type": "stream",
     "text": [
      "setting-graph-size/\n",
      "## Rscript -e 'knitr::knit(\\/Users/chriddyp/Repos/documentation/_posts/markdown/2015-07-30-setting-graph-size.Rmd\")'\n",
      "legend/\n",
      "## Rscript -e 'knitr::knit(\\/Users/chriddyp/Repos/documentation/_posts/markdown/2015-07-30-legend.Rmd\")'\n",
      "LaTeX/\n",
      "## Rscript -e 'knitr::knit(\\/Users/chriddyp/Repos/documentation/_posts/markdown/2015-07-30-LaTeX.Rmd\")'\n",
      "figure-labels/\n",
      "## Rscript -e 'knitr::knit(\\/Users/chriddyp/Repos/documentation/_posts/markdown/2015-07-30-figure-labels.Rmd\")'\n",
      "font/\n",
      "## Rscript -e 'knitr::knit(\\/Users/chriddyp/Repos/documentation/_posts/markdown/2015-07-30-font.Rmd\")'\n",
      "axes/\n",
      "## Rscript -e 'knitr::knit(\\/Users/chriddyp/Repos/documentation/_posts/markdown/2015-07-30-axes.Rmd\")'\n",
      "text-and-annotations/\n",
      "## Rscript -e 'knitr::knit(\\/Users/chriddyp/Repos/documentation/_posts/markdown/2015-07-30-text-and-annotations.Rmd\")'\n",
      "mv: rename /Users/chriddyp/Repos/documentation/scripts/*md to /Users/chriddyp/Repos/documentation/_posts/markdown/*md: No such file or directory\n"
     ]
    }
   ],
   "source": [
    "import os.path\n",
    "for i in range(0, len(exs)-1, 2):\n",
    "    relative_url = exs[i].split('https://plot.ly/r/')[1]\n",
    "    url = 'r1/{}'.format(relative_url)\n",
    "    name = relative_url.replace('-', ' ').replace('/', '')\n",
    "    title = name.title()\n",
    "    name = title\n",
    "    description = '{} in R.'.format(relative_url.replace('-', ' '))\n",
    "    thumbnail = '{}.png'.format(relative_url.replace('/',''))\n",
    "    display_as = 'layout'\n",
    "        \n",
    "    code_block = exs[i+1]\n",
    "    code_block = code_block.replace(\"#'\", '###')\n",
    "\n",
    "    example = template.format(\n",
    "        title=title,\n",
    "        name=name,\n",
    "        url=url.lower(),\n",
    "        description=description,\n",
    "        thumbnail=thumbnail,\n",
    "        display_as=display_as,\n",
    "        code_block=code_block\n",
    "    )\n",
    "    \n",
    "    if example[0] == '\\n':\n",
    "        example = example[1:]\n",
    "    \n",
    "    \n",
    "    \n",
    "    print relative_url\n",
    "    filename = '/Users/chriddyp/Repos/documentation/_posts/markdown/2015-07-30-{}.Rmd'.format(relative_url.replace('/', ''))\n",
    "    with open(filename, 'w') as f:\n",
    "        f.write(example)\n",
    "        print \"## Rscript -e 'knitr::knit(\\{}\\\")'\".format(filename)\n",
    "        \n",
    "! mv /Users/chriddyp/Repos/documentation/scripts/*md /Users/chriddyp/Repos/documentation/_posts/markdown/"
   ]
  },
  {
   "cell_type": "code",
   "execution_count": 109,
   "metadata": {
    "collapsed": false
   },
   "outputs": [
    {
     "name": "stdout",
     "output_type": "stream",
     "text": [
      "\n",
      "\n",
      "library(plotly)\n",
      "m = list(\n",
      "  l = 50,\n",
      "  r = 50,\n",
      "  b = 100,\n",
      "  t = 100,\n",
      "  pad = 4\n",
      ")\n",
      "plot_ly(x = seq(0, 8), y = seq(0, 8)) %>%\n",
      "  layout(autosize = F, width = 500, height = 500, margin = m)\n",
      "\n",
      "\n"
     ]
    }
   ],
   "source": [
    "print exs[1]"
   ]
  },
  {
   "cell_type": "code",
   "execution_count": 96,
   "metadata": {
    "collapsed": false
   },
   "outputs": [
    {
     "name": "stdout",
     "output_type": "stream",
     "text": [
      "mv: rename /Users/chriddyp/Repos/documentation/scripts/*md to /Users/chriddyp/Repos/documentation/_posts/markdown/*md: No such file or directory\r\n"
     ]
    }
   ],
   "source": [
    "! mv /Users/chriddyp/Repos/documentation/scripts/*md /Users/chriddyp/Repos/documentation/_posts/markdown/"
   ]
  },
  {
   "cell_type": "code",
   "execution_count": 93,
   "metadata": {
    "collapsed": false
   },
   "outputs": [
    {
     "name": "stdout",
     "output_type": "stream",
     "text": [
      "\n",
      "\n",
      "library(plotly)\n",
      "#' basic boxplot\n",
      "plot_ly(y = rnorm(50), type = \"box\") %>%\n",
      "  add_trace(y = rnorm(50, 1))\n",
      "#' adding jittered points\n",
      "plot_ly(y = rnorm(50), type = \"box\", boxpoints = \"all\", jitter = 0.3,\n",
      "        pointpos = -1.8)\n",
      "#' several box plots\n",
      "plot_ly(ggplot2::diamonds, y = price, color = cut, type = \"box\")\n",
      "\n",
      "#' grouped box plots\n",
      "plot_ly(ggplot2::diamonds, x = cut, y = price, color = clarity, type = \"box\") %>%\n",
      "  layout(boxmode = \"group\")\n",
      "\n",
      "\n"
     ]
    }
   ],
   "source": [
    "print exs[11]"
   ]
  },
  {
   "cell_type": "code",
   "execution_count": null,
   "metadata": {
    "collapsed": true
   },
   "outputs": [],
   "source": []
  }
 ],
 "metadata": {
  "kernelspec": {
   "display_name": "Python 2",
   "language": "python",
   "name": "python2"
  },
  "language_info": {
   "codemirror_mode": {
    "name": "ipython",
    "version": 2
   },
   "file_extension": ".py",
   "mimetype": "text/x-python",
   "name": "python",
   "nbconvert_exporter": "python",
   "pygments_lexer": "ipython2",
   "version": "2.7.10"
  }
 },
 "nbformat": 4,
 "nbformat_minor": 0
}
