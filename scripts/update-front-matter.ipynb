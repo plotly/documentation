{
 "cells": [
  {
   "cell_type": "code",
   "execution_count": 1,
   "metadata": {
    "collapsed": true
   },
   "outputs": [],
   "source": [
    "import os"
   ]
  },
  {
   "cell_type": "code",
   "execution_count": 2,
   "metadata": {
    "collapsed": false
   },
   "outputs": [],
   "source": [
    "import fnmatch\n",
    "import os\n",
    "import os.path\n",
    "import re\n",
    "\n",
    "def walknroll(fun):\n",
    "    includes = ['*.html', '*.md', '*.Rmd']\n",
    "    excludes = ['*all_static*', '*_includes*', '*_layouts*', '*_drafts*']\n",
    "\n",
    "    # transform glob patterns to regular expressions\n",
    "    includes = r'|'.join([fnmatch.translate(x) for x in includes])\n",
    "    excludes = r'|'.join([fnmatch.translate(x) for x in excludes]) or r'$.'\n",
    "\n",
    "    for root, dirs, files in os.walk('..'):\n",
    "        # exclude/include files\n",
    "        files = [os.path.join(root, f) for f in files]\n",
    "        files = [f for f in files if not re.match(excludes, f)]\n",
    "        files = [f for f in files if re.match(includes, f)]\n",
    "\n",
    "        for fname in files:\n",
    "            fun(fname)"
   ]
  },
  {
   "cell_type": "code",
   "execution_count": 10,
   "metadata": {
    "collapsed": false
   },
   "outputs": [],
   "source": [
    "from collections import OrderedDict as OD\n",
    "\n",
    "class NotPost(Exception):\n",
    "    pass\n",
    "\n",
    "class Post:\n",
    "    def __init__(self, fn):\n",
    "        self.fn = fn\n",
    "        content = open(fn).read()\n",
    "        if '---' not in content:\n",
    "            raise NotPost\n",
    "        self.fm = content.split('---')[1] # front matter\n",
    "        self.body = content.split('---')[2]\n",
    "        self.fm_vars = OD((l.split(':')[0], l.split(': ')[1]) for l in self.fm.split('\\n') if ': ' in l)\n",
    "    \n",
    "    def head(self):\n",
    "        return ('---\\n' +\n",
    "            '\\n'.join([k+': '+v for k, v in self.fm_vars.iteritems()]) +\n",
    "            '\\n---')\n",
    "    \n",
    "    def _content(self):\n",
    "        return self.head() + self.body\n",
    "\n",
    "    def __str__(self):\n",
    "        return self._content()\n",
    "    \n",
    "    def __repr__(self):\n",
    "        return 'Post(\\'{}\\')'.format(self.fn)\n",
    "    \n",
    "    def save(self):\n",
    "        with open(self.fn, 'w') as f:\n",
    "            f.write(self._content())"
   ]
  },
  {
   "cell_type": "code",
   "execution_count": 13,
   "metadata": {
    "collapsed": false
   },
   "outputs": [],
   "source": [
    "def process_posts(fn):\n",
    "    try:\n",
    "        p = Post(fn)\n",
    "    except NotPost:\n",
    "        pass\n",
    "    except Exception as e:\n",
    "        print fn\n",
    "        raise e\n",
    "    else:\n",
    "        if 'permalink' in p.fm_vars and 'javascript-graphing' in p.fm_vars['permalink']:\n",
    "            p.fm_vars['redirect_from'] = p.fm_vars['permalink']\n",
    "            p.fm_vars['permalink'] = p.fm_vars['permalink'].replace('javascript-graphing-library', 'javascript')\n",
    "            p.save()"
   ]
  },
  {
   "cell_type": "code",
   "execution_count": 14,
   "metadata": {
    "collapsed": false
   },
   "outputs": [],
   "source": [
    "walknroll(process_posts)"
   ]
  },
  {
   "cell_type": "code",
   "execution_count": null,
   "metadata": {
    "collapsed": true
   },
   "outputs": [],
   "source": []
  },
  {
   "cell_type": "code",
   "execution_count": null,
   "metadata": {
    "collapsed": true
   },
   "outputs": [],
   "source": []
  },
  {
   "cell_type": "code",
   "execution_count": null,
   "metadata": {
    "collapsed": true
   },
   "outputs": [],
   "source": []
  }
 ],
 "metadata": {
  "kernelspec": {
   "display_name": "Python 2",
   "language": "python",
   "name": "python2"
  },
  "language_info": {
   "codemirror_mode": {
    "name": "ipython",
    "version": 2
   },
   "file_extension": ".py",
   "mimetype": "text/x-python",
   "name": "python",
   "nbconvert_exporter": "python",
   "pygments_lexer": "ipython2",
   "version": "2.7.10"
  }
 },
 "nbformat": 4,
 "nbformat_minor": 0
}
