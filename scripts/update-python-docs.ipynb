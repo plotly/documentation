{
 "cells": [
  {
   "cell_type": "code",
   "execution_count": 1,
   "metadata": {
    "collapsed": true
   },
   "outputs": [],
   "source": [
    "import os"
   ]
  },
  {
   "cell_type": "code",
   "execution_count": 147,
   "metadata": {
    "collapsed": false
   },
   "outputs": [
    {
     "name": "stdout",
     "output_type": "stream",
     "text": [
      "\u001b[31mContributing.md\u001b[m\u001b[m*  \u001b[31mRakefile\u001b[m\u001b[m*         \u001b[31m_config.yml\u001b[m\u001b[m*      \u001b[34m_drafts\u001b[m\u001b[m/          \u001b[34m_plugins\u001b[m\u001b[m/         \u001b[34m_site\u001b[m\u001b[m/            \u001b[34mscripts\u001b[m\u001b[m/\r\n",
      "\u001b[31mGemfile\u001b[m\u001b[m*          TODO              \u001b[31m_config_dev.yml\u001b[m\u001b[m*  \u001b[34m_includes\u001b[m\u001b[m/        \u001b[34m_posts\u001b[m\u001b[m/           \u001b[34mall_static\u001b[m\u001b[m/       \u001b[31msitemap.xml\u001b[m\u001b[m*\r\n",
      "\u001b[31mREADME.md\u001b[m\u001b[m*        Untitled.ipynb    \u001b[34m_data\u001b[m\u001b[m/            \u001b[34m_layouts\u001b[m\u001b[m/         \u001b[34m_sass\u001b[m\u001b[m/            plotschema.ipynb\r\n"
     ]
    }
   ],
   "source": [
    "ls .."
   ]
  },
  {
   "cell_type": "code",
   "execution_count": 148,
   "metadata": {
    "collapsed": false
   },
   "outputs": [],
   "source": [
    "import fnmatch\n",
    "import os\n",
    "import os.path\n",
    "import re\n",
    "\n",
    "def walknroll(fun, includes=['*.html', '_posts*'], excludes = ['*all_static*', '*_includes*', '*_layouts*', '*_drafts*']):\n",
    "    # transform glob patterns to regular expressions\n",
    "    includes = r'|'.join([fnmatch.translate(x) for x in includes])\n",
    "    excludes = r'|'.join([fnmatch.translate(x) for x in excludes]) or r'$.'\n",
    "\n",
    "    for root, dirs, files in os.walk('..'):\n",
    "        # exclude/include files\n",
    "        files = [os.path.join(root, f) for f in files]\n",
    "        files = [f for f in files if not re.match(excludes, f)]\n",
    "        files = [f for f in files if re.match(includes, f)]\n",
    "\n",
    "        for fname in files:\n",
    "            fun(fname)"
   ]
  },
  {
   "cell_type": "code",
   "execution_count": 113,
   "metadata": {
    "collapsed": false
   },
   "outputs": [],
   "source": [
    "from collections import OrderedDict as OD\n",
    "\n",
    "class NotPost(Exception):\n",
    "    pass\n",
    "\n",
    "class Post:\n",
    "    def __init__(self, fn):\n",
    "        self.fn = fn\n",
    "        content = open(fn).read()\n",
    "        if '---' not in content:\n",
    "            raise NotPost\n",
    "        self.fm = content.split('---')[1] # front matter\n",
    "        self.body = content.split('---')[2]\n",
    "        self.fm_vars = OD((l.split(':')[0], l.split(': ')[1]) for l in self.fm.split('\\n') if ': ' in l)\n",
    "    \n",
    "    def head(self):\n",
    "        return ('---\\n' +\n",
    "            '\\n'.join([k+': '+v for k, v in self.fm_vars.iteritems()]) +\n",
    "            '\\n---')\n",
    "    \n",
    "    def _content(self):\n",
    "        return self.head() + self.body\n",
    "\n",
    "    def __str__(self):\n",
    "        return self._content()\n",
    "    \n",
    "    def __repr__(self):\n",
    "        return 'Post(\\'{}\\')'.format(self.fn)\n",
    "    \n",
    "    def save(self):\n",
    "        with open(self.fn, 'w') as f:\n",
    "            f.write(self._content())"
   ]
  },
  {
   "cell_type": "code",
   "execution_count": 114,
   "metadata": {
    "collapsed": false
   },
   "outputs": [],
   "source": [
    "def process_posts(fn):\n",
    "    try:\n",
    "        p = Post(fn)\n",
    "    except NotPost:\n",
    "        pass\n",
    "    except Exception as e:\n",
    "        print fn\n",
    "        raise e\n",
    "    else:\n",
    "        if 'permalink' in p.fm_vars and 'javascript-graphing' in p.fm_vars['permalink']:\n",
    "            p.fm_vars['redirect_from'] = p.fm_vars['permalink']\n",
    "            p.fm_vars['permalink'] = p.fm_vars['permalink'].replace('javascript-graphing-library', 'javascript')\n",
    "            p.save()"
   ]
  },
  {
   "cell_type": "code",
   "execution_count": 115,
   "metadata": {
    "collapsed": false
   },
   "outputs": [
    {
     "name": "stdout",
     "output_type": "stream",
     "text": [
      "../_posts/matplotlib/scatter_exclusive/2015-08-20-adding-line.html\n"
     ]
    },
    {
     "ename": "IndexError",
     "evalue": "list index out of range",
     "output_type": "error",
     "traceback": [
      "\u001b[0;31m---------------------------------------------------------------------------\u001b[0m",
      "\u001b[0;31mIndexError\u001b[0m                                Traceback (most recent call last)",
      "\u001b[0;32m<ipython-input-115-d96d3225e011>\u001b[0m in \u001b[0;36m<module>\u001b[0;34m()\u001b[0m\n\u001b[0;32m----> 1\u001b[0;31m \u001b[0mwalknroll\u001b[0m\u001b[0;34m(\u001b[0m\u001b[0mprocess_posts\u001b[0m\u001b[0;34m)\u001b[0m\u001b[0;34m\u001b[0m\u001b[0m\n\u001b[0m",
      "\u001b[0;32m<ipython-input-112-2bf1e9a21d27>\u001b[0m in \u001b[0;36mwalknroll\u001b[0;34m(fun, includes, excludes)\u001b[0m\n\u001b[1;32m     16\u001b[0m \u001b[0;34m\u001b[0m\u001b[0m\n\u001b[1;32m     17\u001b[0m         \u001b[0;32mfor\u001b[0m \u001b[0mfname\u001b[0m \u001b[0;32min\u001b[0m \u001b[0mfiles\u001b[0m\u001b[0;34m:\u001b[0m\u001b[0;34m\u001b[0m\u001b[0m\n\u001b[0;32m---> 18\u001b[0;31m             \u001b[0mfun\u001b[0m\u001b[0;34m(\u001b[0m\u001b[0mfname\u001b[0m\u001b[0;34m)\u001b[0m\u001b[0;34m\u001b[0m\u001b[0m\n\u001b[0m",
      "\u001b[0;32m<ipython-input-114-ce2f050d9b96>\u001b[0m in \u001b[0;36mprocess_posts\u001b[0;34m(fn)\u001b[0m\n\u001b[1;32m      6\u001b[0m     \u001b[0;32mexcept\u001b[0m \u001b[0mException\u001b[0m \u001b[0;32mas\u001b[0m \u001b[0me\u001b[0m\u001b[0;34m:\u001b[0m\u001b[0;34m\u001b[0m\u001b[0m\n\u001b[1;32m      7\u001b[0m         \u001b[0;32mprint\u001b[0m \u001b[0mfn\u001b[0m\u001b[0;34m\u001b[0m\u001b[0m\n\u001b[0;32m----> 8\u001b[0;31m         \u001b[0;32mraise\u001b[0m \u001b[0me\u001b[0m\u001b[0;34m\u001b[0m\u001b[0m\n\u001b[0m\u001b[1;32m      9\u001b[0m     \u001b[0;32melse\u001b[0m\u001b[0;34m:\u001b[0m\u001b[0;34m\u001b[0m\u001b[0m\n\u001b[1;32m     10\u001b[0m         \u001b[0;32mif\u001b[0m \u001b[0;34m'permalink'\u001b[0m \u001b[0;32min\u001b[0m \u001b[0mp\u001b[0m\u001b[0;34m.\u001b[0m\u001b[0mfm_vars\u001b[0m \u001b[0;32mand\u001b[0m \u001b[0;34m'javascript-graphing'\u001b[0m \u001b[0;32min\u001b[0m \u001b[0mp\u001b[0m\u001b[0;34m.\u001b[0m\u001b[0mfm_vars\u001b[0m\u001b[0;34m[\u001b[0m\u001b[0;34m'permalink'\u001b[0m\u001b[0;34m]\u001b[0m\u001b[0;34m:\u001b[0m\u001b[0;34m\u001b[0m\u001b[0m\n",
      "\u001b[0;31mIndexError\u001b[0m: list index out of range"
     ]
    }
   ],
   "source": [
    "walknroll(process_posts)"
   ]
  },
  {
   "cell_type": "code",
   "execution_count": 169,
   "metadata": {
    "collapsed": true
   },
   "outputs": [],
   "source": [
    "import plotly.graph_objs as go\n",
    "\n",
    "trace_objs = ['Area', 'Bar', 'Box', 'Choropleth', 'Figure', 'Heatmap', 'Histogram', 'Histogram2d',\n",
    "              'Histogram2dcontour', 'Layout', 'Mesh3d', 'Pie', 'Scatter', 'Scatter3d', 'Scattergeo',\n",
    "              'Surface']\n",
    "\n",
    "old_objs = ['AngularAxis', 'Annotation', 'Annotations', 'ColorBar', 'Contour', 'Contours',\n",
    "            'ErrorX', 'ErrorY', 'ErrorZ', 'Figure', 'Font', 'Legend', 'Line', 'Margin',\n",
    "            'Marker', 'RadialAxis', 'Scene', 'Stream', 'XAxis', 'XBins', 'YAxis', 'YBins', 'ZAxis']\n",
    "\n",
    "class FailedExec(Exception):\n",
    "    pass\n",
    "\n",
    "def update_post(fn):\n",
    "    try:\n",
    "        p = Post(fn)\n",
    "    except NotPost:\n",
    "        pass\n",
    "    except Exception as e:\n",
    "        print 'wtf not post?'.format(fn)\n",
    "\n",
    "    else:\n",
    "        if p.fm_vars.get('language', '') == 'python' and p.fm_vars.get('page_type', '') != 'example_index':\n",
    "            print 'processing {}'.format(fn)\n",
    "            new_post = p.body\n",
    "            # make a bunch of changes to the script\n",
    "            new_post = new_post.replace('from plotly.graph_objs import *', 'import plotly.graph_objs as go')\n",
    "            for trace in trace_objs:\n",
    "                new_post = new_post.replace(trace, 'go.{}'.format(trace))\n",
    "            for deprecated in old_objs:\n",
    "                new_post = new_post.replace(deprecated, 'dict')\n",
    "            \n",
    "            # replace Data([trace0, trace1]) with [trace0, trace1]\n",
    "            r = r'Data\\(([a-zA-Z =([\\d,\\])]*)\\)'\n",
    "            reg = re.compile(r)            \n",
    "            try:\n",
    "                new_post = ''.join(reg.split(new_post))\n",
    "            except:\n",
    "                pass\n",
    "            \n",
    "            # exec is so sweet\n",
    "            local_vars = {}\n",
    "            try:\n",
    "                exec(new_post, {}, local_vars)\n",
    "            except:\n",
    "                print 'exec failed '.format(fn)\n",
    "\n",
    "            try:\n",
    "                # hah, bam!\n",
    "                p.fm_vars['plot_url'] = local_vars.get('plot_url', local_vars.get('url'))\n",
    "            except:\n",
    "                print 'plot_url not defined '.format(fn)\n",
    "            \n",
    "            p.body = new_post\n",
    "            \n",
    "            p.save()"
   ]
  },
  {
   "cell_type": "code",
   "execution_count": 170,
   "metadata": {
    "collapsed": true
   },
   "outputs": [],
   "source": [
    "import plotly.tools as tls\n",
    "tls.set_credentials_file('PlotBot', 'da05144j7i')\n",
    "tls.set_config_file('https://plot.ly', 'https://stream.plot.ly', auto_open=False)"
   ]
  },
  {
   "cell_type": "code",
   "execution_count": null,
   "metadata": {
    "collapsed": false
   },
   "outputs": [],
   "source": []
  },
  {
   "cell_type": "code",
   "execution_count": null,
   "metadata": {
    "collapsed": false
   },
   "outputs": [
    {
     "name": "stdout",
     "output_type": "stream",
     "text": [
      "Automatic pdb calling has been turned ON\n",
      "processing ../_posts/2015-04-05-python-index.html\n",
      "exec failed \n",
      "processing ../_posts/2015-05-25-ipython-notebooks_gallery.html\n",
      "exec failed \n",
      "processing ../_posts/2015-05-25-ipython-notebooks_index.html\n",
      "exec failed \n",
      "processing ../_posts/2015-09-06-python-reference.html\n",
      "exec failed \n",
      "wtf not post?\n",
      "wtf not post?\n",
      "processing ../_posts/python/3d-clusters/2015-07-15-alpha-shape.html\n",
      "processing ../_posts/python/3d-filled-line/2015-04-09-3d-filled-line.html\n",
      "processing ../_posts/python/3d-line/2015-04-09-random-walk.html\n",
      "exec failed \n",
      "processing ../_posts/python/3d-parametric/2015-08-21-parametric-colorscale.html\n",
      "exec failed \n",
      "processing ../_posts/python/3d-parametric/2015-08-21-parametric.html\n",
      "exec failed \n",
      "processing ../_posts/python/3d-ribbon/2015-07-15-ribbon.html\n",
      "processing ../_posts/python/3d-scatter/2015-04-09-simple-3d-scatter.html\n",
      "exec failed \n",
      "processing ../_posts/python/3d-subplot/2015-08-21-3d-subplots.html\n",
      "This is the format of your plot grid:\n",
      "[ (1,1) scene1 ]  [ (1,2) scene2 ]\n",
      "[ (2,1) scene3 ]  [ (2,2) scene4 ]\n",
      "\n",
      "processing ../_posts/python/3d-surface/2015-04-09-elevations-3d-surface.html\n",
      "exec failed \n",
      "processing ../_posts/python/3d-surface/2015-08-28-multiple-3d-surfaces.html\n",
      "exec failed \n",
      "processing ../_posts/python/3d-wireframe/2015-08-21-wireframe.html\n",
      "exec failed \n",
      "processing ../_posts/python/annotations/2015-04-09-hover-chart-basic.html\n",
      "exec failed \n",
      "processing ../_posts/python/annotations/2015-04-09-multiple-annotation.html\n",
      "exec failed \n",
      "processing ../_posts/python/annotations/2015-04-09-simple-annotation.html\n",
      "exec failed \n",
      "processing ../_posts/python/annotations/2015-04-09-style-annotation.html\n",
      "exec failed \n",
      "processing ../_posts/python/annotations/2015-04-09-text-chart-basic.html\n",
      "exec failed \n",
      "processing ../_posts/python/annotations/2015-04-09-text-chart-styling.html\n",
      "exec failed \n",
      "processing ../_posts/python/annotations/2015-06-29-disable-hover.html\n",
      "processing ../_posts/python/annotations/2015-07-17-text-array.html\n",
      "processing ../_posts/python/area/2015-04-09-basic-area-without-boundary-lines.html\n",
      "processing ../_posts/python/area/2015-04-09-basic-area.html\n",
      "processing ../_posts/python/area/2015-08-14-interior-fill-area.html\n",
      "processing ../_posts/python/area/2015-08-14-stacked-area.html\n",
      "exec failed \n",
      "processing ../_posts/python/axes/2015-04-09-axes-booleans.html\n",
      "exec failed \n",
      "processing ../_posts/python/axes/2015-04-09-axes-labels.html\n",
      "exec failed \n",
      "processing ../_posts/python/axes/2015-04-09-axes-lines.html\n",
      "exec failed \n",
      "processing ../_posts/python/axes/2015-04-09-axes-range-manual.html\n",
      "exec failed \n",
      "processing ../_posts/python/axes/2015-04-09-axes-range-mode.html\n",
      "exec failed \n",
      "processing ../_posts/python/axes/2015-04-09-axes-range-type.html\n",
      "exec failed \n",
      "processing ../_posts/python/axes/2015-04-09-axes-reversed.html\n",
      "exec failed \n",
      "processing ../_posts/python/axes/2015-04-09-axes-ticks.html\n",
      "exec failed \n",
      "processing ../_posts/python/axes/2015-06-29-axes-enumerated-ticks.html\n",
      "exec failed \n",
      "processing ../_posts/python/bar/2015-04-09-bar-with-hover-text.html\n",
      "exec failed \n",
      "processing ../_posts/python/bar/2015-04-09-basic-bar.html\n",
      "exec failed \n",
      "processing ../_posts/python/bar/2015-04-09-grouped-bar.html\n",
      "exec failed \n",
      "processing ../_posts/python/bar/2015-04-09-stacked-bar.html\n",
      "exec failed \n",
      "processing ../_posts/python/bar/2015-04-09-style-bar.html\n",
      "exec failed \n",
      "processing ../_posts/python/bar/2015-05-20-individual-color-bar.html\n",
      "exec failed \n",
      "processing ../_posts/python/bar/2015-05-20-text-angel.html\n",
      "exec failed \n",
      "processing ../_posts/python/bar/2015-05-20-text-hover-bar.html\n",
      "exec failed \n",
      "processing ../_posts/python/bar/2015-05-20-text-with-annotations.html\n",
      "exec failed \n",
      "processing ../_posts/python/bar/2015-06-17-waterfall-bar.html\n",
      "exec failed \n",
      "processing ../_posts/python/box/2015-04-09-basic-box-plot.html\n",
      "processing ../_posts/python/box/2015-04-09-box-grouped.html\n",
      "exec failed \n",
      "processing ../_posts/python/box/2015-04-09-box-plot-jitter.html\n",
      "exec failed \n",
      "processing ../_posts/python/box/2015-05-29-basic-box-color-name.html\n",
      "processing ../_posts/python/box/2015-05-29-horizontal-box.html\n",
      "processing ../_posts/python/box/2015-06-17-box-gallery-NBA.html\n",
      "exec failed \n",
      "processing ../_posts/python/box/2015-06-18-box-all-outliers.html\n",
      "processing ../_posts/python/box/2015-06-18-box-grouped-horizontal.html\n",
      "processing ../_posts/python/box/2016-06-08-box-mean.html\n",
      "processing ../_posts/python/box/2016-06-08-box-rainbow.html\n",
      "processing ../_posts/python/bubble/2015-06-17-bubble-sizeref.html\n",
      "exec failed \n",
      "processing ../_posts/python/bubble/2015-06-18-bubble-color.html\n",
      "exec failed \n",
      "processing ../_posts/python/bubble/2015-06-18-bubble-marker-size.html\n",
      "exec failed \n",
      "processing ../_posts/python/bubble/2015-06-18-bubble-text.html\n",
      "exec failed \n",
      "processing ../_posts/python/bubble/2015-08-14-bubble-colorscale.html\n",
      "processing ../_posts/python/bubble/2015-08-14-bubble-gallery-life-expectancy.html\n",
      "exec failed \n",
      "processing ../_posts/python/bubble-maps/2015-06-29-bubble-map.html\n",
      "processing ../_posts/python/bubble-maps/2015-07-03-ebola-cases.html\n",
      "processing ../_posts/python/callbacks-buttons/2015-04-09-button-bind.html\n",
      "exec failed \n",
      "processing ../_posts/python/callbacks-click/2015-04-09-click.html\n",
      "processing ../_posts/python/callbacks-dropdowns/2015-04-09-dropdown.html\n",
      "processing ../_posts/python/callbacks-hover/2015-04-09-hover-bind.html\n",
      "exec failed \n",
      "processing ../_posts/python/callbacks-sliders/2015-04-09-sliders-bind.html\n",
      "processing ../_posts/python/callbacks-zoom/2015-04-09-zoom-bind.html\n",
      "exec failed \n",
      "processing ../_posts/python/choropleth-maps/2015-06-29-us-states-choropleth-map.html\n",
      "processing ../_posts/python/choropleth-maps/2015-06-29-world-choropleth-map.html\n",
      "processing ../_posts/python/choropleth-maps/2015-07-03-choropleth-inset.html\n",
      "processing ../_posts/python/colorscales/2015-04-09-custom-colorscale.html\n",
      "exec failed \n",
      "processing ../_posts/python/colorscales/2015-06-23-contour-colorscale.html\n",
      "exec failed \n",
      "processing ../_posts/python/colorscales/2015-06-23-contour-customize-colorscale.html\n",
      "exec failed \n",
      "processing ../_posts/python/colorscales/2015-08-12-discrete-colorscale.html\n",
      "exec failed \n",
      "processing ../_posts/python/contour/2015-04-09-simple-contour.html\n",
      "exec failed \n",
      "processing ../_posts/python/contour/2015-06-23-contour-colorbar-size.html\n",
      "exec failed \n",
      "processing ../_posts/python/contour/2015-06-23-contour-colorbar-tick.html\n",
      "processing ../_posts/python/contour/2015-06-23-contour-colorbar-title.html\n",
      "exec failed \n",
      "processing ../_posts/python/contour/2015-06-23-contour-colorscale.html\n",
      "exec failed \n",
      "processing ../_posts/python/contour/2015-06-23-contour-connectgaps.html\n",
      "exec failed \n",
      "processing ../_posts/python/contour/2015-06-23-contour-customize-colorscale.html\n",
      "exec failed \n",
      "processing ../_posts/python/contour/2015-06-23-contour-heatmap.html\n",
      "exec failed \n",
      "processing ../_posts/python/contour/2015-06-23-contour-lines.html\n",
      "exec failed \n",
      "processing ../_posts/python/contour/2015-06-23-contour-size&range.html\n",
      "exec failed \n",
      "processing ../_posts/python/contour/2015-06-23-contour-smoothing.html\n",
      "This is the format of your plot grid:\n",
      "[ (1,1) x1,y1 ]  [ (1,2) x2,y2 ]\n",
      "\n",
      "exec failed \n",
      "processing ../_posts/python/contour/2015-06-23-contour-x-y.html\n",
      "exec failed \n",
      "processing ../_posts/python/contour/2015-06-23-contour-xd-yd.html\n",
      "processing ../_posts/python/contour/2015-06-23-simple-contour.html\n",
      "exec failed \n",
      "processing ../_posts/python/density-plots/2015-04-09-2dhistogram-contour-subplots.html\n",
      "exec failed \n",
      "processing ../_posts/python/density-plots/2015-07-18-2d-hist-contour-with-slider.html\n",
      "exec failed \n",
      "processing ../_posts/python/error-bar/2015-04-09-basic-error-bar.html\n",
      "exec failed \n",
      "processing ../_posts/python/error-bar/2015-04-09-error-bar-asymmetric-array.html\n",
      "exec failed \n",
      "processing ../_posts/python/error-bar/2015-04-09-error-bar-asymmetric-constant.html\n",
      "exec failed \n",
      "processing ../_posts/python/error-bar/2015-04-09-error-bar-bar.html\n",
      "exec failed \n",
      "processing ../_posts/python/error-bar/2015-04-09-error-bar-horizontal.html\n",
      "exec failed \n",
      "processing ../_posts/python/error-bar/2015-04-09-error-bar-style.html\n",
      "processing ../_posts/python/error-bar/2015-04-09-percent-error-bar.html\n",
      "exec failed \n",
      "processing ../_posts/python/font/2015-04-09-global-font.html\n",
      "exec failed \n",
      "processing ../_posts/python/get-requests/2015-04-09-python-change_plot.html\n",
      "processing ../_posts/python/get-requests/2015-04-09-python-get-data.html\n",
      "exec failed \n",
      "processing ../_posts/python/get-requests/2015-04-09-python-replot1.html\n",
      "processing ../_posts/python/get-requests/2015-04-09-python-replot2.html\n",
      "processing ../_posts/python/getting-started/2015-05-25-getting-started_python_index.html\n",
      "exec failed \n",
      "processing ../_posts/python/getting-started/2015-06-30-getting-started.html\n",
      "exec failed \n",
      "processing ../_posts/python/heatmap/2015-04-09-annotated-heatmap.html\n",
      "exec failed \n",
      "processing ../_posts/python/heatmap/2015-04-09-basic-heatmap.html\n",
      "exec failed \n",
      "processing ../_posts/python/heatmap/2015-04-09-datetime-heatmap.html\n",
      "exec failed \n",
      "processing ../_posts/python/heatmap/2015-04-09-golden-spiral.html\n",
      "exec failed \n",
      "processing ../_posts/python/heatmap/2015-04-09-labelled-heatmap.html\n",
      "exec failed \n",
      "processing ../_posts/python/histogram/2015-04-09-basic-histogram.html\n",
      "exec failed \n",
      "processing ../_posts/python/histogram/2015-04-09-horizontal-histogram.html\n",
      "exec failed \n",
      "processing ../_posts/python/histogram/2015-04-09-overlaid-histogram.html\n",
      "exec failed \n",
      "processing ../_posts/python/histogram/2015-04-09-stacked-histogram.html\n",
      "exec failed \n",
      "processing ../_posts/python/histogram/2015-04-09-style-histogram.html\n",
      "exec failed \n",
      "processing ../_posts/python/histogram2d/2015-04-09-2d-histogram-options.html\n",
      "exec failed \n",
      "processing ../_posts/python/histogram2d/2015-04-09-2d-histogram-scatter.html\n",
      "exec failed \n",
      "processing ../_posts/python/histogram2d/2015-04-09-2d-histogram.html\n",
      "exec failed \n",
      "processing ../_posts/python/histogram2d/2015-07-18-2d-hist-with-slider.html\n",
      "exec failed \n",
      "processing ../_posts/python/horizontal-bar/2015-05-20-horizontal-bar.html\n",
      "exec failed \n",
      "processing ../_posts/python/horizontal-bar/2015-05-20-marker-bar.html\n",
      "exec failed \n",
      "processing ../_posts/python/horizontal-bar/2015-06-17-bar-gallery-color-pallette.html\n",
      "exec failed \n",
      "processing ../_posts/python/horizontal-bar/2015-06-17-bar-gallery-scatter.html\n",
      "This is the format of your plot grid:\n",
      "[ (1,1) x1,y1 ]  [ (1,2) x2,y2 ]\n",
      "\n",
      "processing ../_posts/python/insets/2015-04-09-simple-inset.html\n",
      "exec failed \n",
      "processing ../_posts/python/ipython-notebooks/2015-05-25-ipython-notebooks_index.html\n",
      "exec failed \n",
      "processing ../_posts/python/labels/2015-04-09-styling-names.html\n",
      "exec failed \n",
      "processing ../_posts/python/latex/2015-04-09-latex.html\n",
      "exec failed \n",
      "processing ../_posts/python/legends/2015-04-09-legend-inside.html\n",
      "exec failed \n",
      "processing ../_posts/python/legends/2015-04-09-legend-labels.html\n",
      "processing ../_posts/python/legends/2015-04-09-legend-outside.html"
     ]
    }
   ],
   "source": [
    "%pdb\n",
    "walknroll(update_post)"
   ]
  },
  {
   "cell_type": "code",
   "execution_count": 163,
   "metadata": {
    "collapsed": true
   },
   "outputs": [],
   "source": [
    "p = Post('../_posts/2015-04-05-python-index.html')"
   ]
  },
  {
   "cell_type": "code",
   "execution_count": 165,
   "metadata": {
    "collapsed": false
   },
   "outputs": [
    {
     "data": {
      "text/plain": [
       "OrderedDict([('title', 'Python Graphing Library, Plotly'),\n",
       "             ('permalink', '/python/'),\n",
       "             ('description',\n",
       "              \"Plotly's Python graphing library makes interactive, publication-quality graphs online. Examples of how to make line plots, scatter plots, area charts, bar charts, error bars, box plots, histograms, heatmaps, subplots, multiple-axes, polar charts and bubble charts. Examples of how to make line plots, scatter plots, area charts, bar charts, error bars, box plots, histograms, heatmaps, subplots, multiple-axes, polar charts and bubble charts\"),\n",
       "             ('layout', 'langindex'),\n",
       "             ('language', 'python')])"
      ]
     },
     "execution_count": 165,
     "metadata": {},
     "output_type": "execute_result"
    }
   ],
   "source": [
    "p.fm_vars"
   ]
  },
  {
   "cell_type": "code",
   "execution_count": null,
   "metadata": {
    "collapsed": true
   },
   "outputs": [],
   "source": []
  }
 ],
 "metadata": {
  "kernelspec": {
   "display_name": "Python 2",
   "language": "python",
   "name": "python2"
  },
  "language_info": {
   "codemirror_mode": {
    "name": "ipython",
    "version": 2
   },
   "file_extension": ".py",
   "mimetype": "text/x-python",
   "name": "python",
   "nbconvert_exporter": "python",
   "pygments_lexer": "ipython2",
   "version": "2.7.10"
  }
 },
 "nbformat": 4,
 "nbformat_minor": 0
}
