{
 "cells": [
  {
   "cell_type": "markdown",
   "metadata": {},
   "source": [
    "<b>Plotly</b> is a browser-based data analysis and visualization tool that lets you and your team make and share beautiful, interactive graphs, 3D graphs, and streaming graphs via the open source JavaScript graphing library [plotly.js](https://plot.ly/javascript/).\n",
    "<br>This API allows MATLAB users to generate Plotly graphs from the desktop MATLAB environment: turning MATLAB figures into interactive, shareable, collaborative projects.\n",
    "<br>For more information on how to create specific chart types see our [documentation examples](https://plot.ly/matlab/). "
   ]
  },
  {
   "cell_type": "markdown",
   "metadata": {},
   "source": [
    "#### Initial Setup\n",
    "The Plotly MATLAB API has been embedded into our MATLAB toolboxes and our Plotly credentials have been saved using `plotlysetup.m`. In order to start using the Plotly MATLAB API all we have to do now is start MATLAB! More information regarding installation / setting up the Plotly MATLAB API can be found on the [online documentation](https://plot.ly/matlab/getting-started/)."
   ]
  },
  {
   "cell_type": "markdown",
   "metadata": {},
   "source": [
    "#### How It Works\n",
    "Plotly charts are described declaratively with struct and cell array objects. For an extensive list of the keys used to describe plotly graphs see [our reference page](https://plot.ly/matlab/reference/). To get an idea of how the MATLAB API works, check out this simple example of how to translate a MATLAB figure, modify some attributes, and then send it to Plotly."
   ]
  },
  {
   "cell_type": "code",
   "execution_count": null,
   "metadata": {},
   "outputs": [],
   "source": [
    ">> x = linspace(-2*pi, 2*pi);\n",
    ">> y1 = sin(x);\n",
    ">> y2 = cos(x);\n",
    ">> plot(x, y1, x, y2);\n",
    "\n",
    "%% Translate the figure from MATLAB to Plotly\n",
    ">> fig = plotlyfig(gcf);\n",
    "\n",
    ">> fig.PlotOptions.Strip = 0; % If 0, don't strip MATLAB's styling in translation. If 1, strip MATLAB's styling.\n",
    "\n",
    ">> fig.data\n",
    "ans =\n",
    "\n",
    "   [1x1 struct]    [1x1 struct]\n",
    "\n",
    ">> fig.data{1}    % The 'type' of this trace is 'scatter'. scatter's reference: #scatter\n",
    "ans =\n",
    "\n",
    "        xaxis: 'x1'             % more about scatter's 'xaxis': #scatter-xaxis\n",
    "        yaxis: 'y1'             % scatter's 'yaxis' property:   #scatter-yaxis\n",
    "         type: 'scatter'\n",
    "      visible: 1                % scatter's 'visible' property: #scatter-visible\n",
    "            x: [1x100 double]   % scatter's 'x' property:       #scatter-x\n",
    "            y: [1x100 double]   % scatter's 'y' property:       #scatter-y\n",
    "         name: ''               % scatter's 'name' property:    #scatter-name\n",
    "         mode: 'lines'          % scatter's 'mode' property:    #scatter-mode\n",
    "         line: [1x1 struct]     % scatter's 'line' property:    #scatter-line\n",
    "       marker: [1x1 struct]     % scatter's 'marker' property:  #scatter-marker\n",
    "   showlegend: 1                % scatter's 'showlegend':       #scatter-marker\n",
    "\n",
    "%% Modify or add new properties to this trace\n",
    ">> fig.data{1}.name = 'Current'; % Update the legend name to 'Current'\n",
    "\n",
    ">> fig.layout     % layout reference: #layout\n",
    "ans =\n",
    "\n",
    "        autosize: 0                     % layout's 'autosize':      #layout-autosize\n",
    "          margin: [1x1 struct]          % layout's 'margin':        #layout-margin\n",
    "      showlegend: 0                     % layout's 'showlegend':    #layout-showlegend\n",
    "           width: 840                   % layout's 'width':         #layout-width\n",
    "          height: 630                   % layout's 'height':        #layout-height\n",
    "   paper_bgcolor: 'rgb(255,255,255)'    % layout's 'paper_bgcolor': #layout-paper_bgcolor\n",
    "       hovermode: 'closest'             % layout's 'hovermode':     #layout-hovermode\n",
    "    plot_bgcolor: 'rgba(0,0,0,0)'       % layout's 'plot_bgcolor':  #layout-plot_bgcolor\n",
    "          xaxis1: [1x1 struct]          % layout's 'xaxis':         #layout-xaxis\n",
    "          yaxis1: [1x1 struct]          % layout's 'yaxis':         #layout-yaxis\n",
    "     annotations: {[1x1 struct]}        % layout's 'annotations':   #layout-annotations\n",
    "\n",
    ">> fig.layout.showlegend = true;  % layout's 'showlegend':    #layout-showlegend\n",
    ">> fig.layout.legend = struct('x', 1, 'y', 1); % Update the legend: #layout-legend\n",
    ">> fig.layout.title = 'Modified plot';\n",
    "\n",
    "%% Set the filename, and overwrite the plot if it already exists\n",
    ">> fig.PlotOptions.FileName = 'Customized plot';\n",
    ">> fig.PlotOptions.FileOpt = 'overwrite';\n",
    "%% Use offline\n",
    "%% Download the offline bundle\n",
    ">> getplotlyoffline('https://cdn.plot.ly/plotly-latest.min.js') \n",
    ">> fig.PlotOptions.Offline = true;\n",
    "\n",
    "%% Send to plotly\n",
    ">> fig.plotly"
   ]
  },
  {
   "cell_type": "markdown",
   "metadata": {},
   "source": [
    "#### Core Functions"
   ]
  },
  {
   "cell_type": "markdown",
   "metadata": {},
   "source": [
    "`fig2plotly.m`: Plot a MATLAB figure object with Plotly\n",
    "`fig2plotly.m` converts MATLAB figures to online Plotly graphs. MATLAB describes figures differently than Plotly. Plotly's MATLAB library crawls the MATLAB figure objects and translates the MATLAB attributes into the structure that Plotly uses to describe and draw data visualizations."
   ]
  },
  {
   "cell_type": "code",
   "execution_count": null,
   "metadata": {},
   "outputs": [],
   "source": [
    "[INPUT]:\n",
    "resp = fig2plotly()\n",
    "resp = fig2plotly(f)\n",
    "resp = fig2plotly(gcf)\n",
    "resp = fig2plotly(f,'property',value, ... )\n",
    "resp = fig2plotly(gcf,'property',value, ... )\n",
    "\n",
    "[WHERE]:\n",
    "gcf - root figure object handle [double].\n",
    "f - root figure object [struct] >> f = get(gcf)\n",
    "\n",
    "[PROPERTIES]:\n",
    "'name' - name of the plot [string]['untitled']\n",
    "'strip' - use plotly default styling [boolean][0]\n",
    "'open' - opens a browser with plot result [boolean][1]\n",
    "\n",
    "[OUTPUT]:\n",
    "resp - results info of the plot [struct]\n",
    "resp.[url,warning,message,filename,error]"
   ]
  },
  {
   "cell_type": "code",
   "execution_count": null,
   "metadata": {},
   "outputs": [],
   "source": [
    "api_path = ('/Users/chuckbronson/Documents/PLOTLY/MATLAB_API_DEV/DEV/TEST_PLOTS');\n",
    "addpath(genpath(api_path));\n",
    "\n",
    "load fitdata x y yfit;\n",
    "fig = figure;\n",
    "scatter(x, y, 'k');\n",
    "line(x, yfit, 'color', 'k', 'linestyle', '-', 'linewidth', 2);\n",
    "line(x, yfit + 0.3, 'color', 'r', 'linestyle', '--', 'linewidth', 2);\n",
    "line(x, yfit - 0.3, 'color', 'r', 'linestyle', '--', 'linewidth', 2);\n",
    "legend('Data', 'Localized Regression', 'Confidence Intervals', 2);\n",
    "xlabel('X');\n",
    "ylabel('Noisy');\n",
    "\n",
    "%%Just ONE line of Plotly Code!%%\n",
    "resp = fig2plotly(fig,'filename','matlab_overview_1','strip',false); \n",
    "resp.url"
   ]
  },
  {
   "cell_type": "markdown",
   "metadata": {},
   "source": [
    "`ans = https://plot.ly/~matlab_user_guide/661/noisy-vs-x/`"
   ]
  },
  {
   "cell_type": "markdown",
   "metadata": {},
   "source": [
    "<iframe frameborder=\"0\" seamless=\"seamless\" scrolling=\"no\" src=\"https://plot.ly/~matlab_user_guide/661.embed\" width=\"80%\" height=\"500px\"> </iframe>"
   ]
  },
  {
   "cell_type": "markdown",
   "metadata": {},
   "source": [
    "The above plot is the ouptut from calling the `scatter.m` and `line.m` functions inherent in MATLAB. Using the `fig2plotly.m` function, we are able to extract the relevant data from the MATLAB figure object and throw the output over to our Plotly account! The returned response variable, resp, is a structure array which contains a url field with the address of our plot."
   ]
  },
  {
   "cell_type": "markdown",
   "metadata": {},
   "source": [
    "#### Offline Usage \n",
    "We can make a Plotly graph in Matlab offline which will be saved as an html file to your current working directory using Plotly Offline. These html files will contain all of the necessary dependencies to render the plot within a browser."
   ]
  },
  {
   "cell_type": "code",
   "execution_count": null,
   "metadata": {},
   "outputs": [],
   "source": [
    "X = linspace(0,2*pi,50)';\n",
    "Y = [cos(X), 0.5*sin(X)];\n",
    "stem(X,Y)\n",
    "\n",
    "fig2plotly(gcf,'offline',true,'filename','offline-graph');"
   ]
  },
  {
   "cell_type": "markdown",
   "metadata": {},
   "source": [
    "<img src=\"http://i.imgur.com/HeUJ7fw.png\" width=\"80%\" height=\"250px\" alt=\"self-hosted matlab online\">"
   ]
  },
  {
   "cell_type": "markdown",
   "metadata": {},
   "source": [
    "#### Retrieve a Figure\n",
    "`getplotlyfig.m`: Get data, style, and layout from the plots stored online\n",
    "One of Plotly's secret powers is the ability to translate between MATLAB's structure/cell array syntax and JSON. This allows a smooth transition between your figures in MATLAB and those stored in your Plotly account. `getplotlyfig.m` allows you to grab the data, style, and layout information from your plots saved online. In fact, `getploylyfig.m` lets you grab the data, Style and layout of <b>anyone's</b> Plotly plots (as long as they are made public) - not just your own! See a graph you like online? Grab the style, layout, and data and make one for yourself."
   ]
  },
  {
   "cell_type": "code",
   "execution_count": null,
   "metadata": {},
   "outputs": [],
   "source": [
    "[INPUT]:\n",
    "plotlyfigure = getplotlyfig('file_owner',file_id)\n",
    "\n",
    "[WHERE]:\n",
    "file_owner - user name associated with the plot [string].\n",
    "file_id - number identifier associated with the plot [string]\n",
    "\n",
    "[OUTPUT]:\n",
    "plotlyfigure - results info of the plot [struct] plotlyfigure.[data,layout]"
   ]
  },
  {
   "cell_type": "markdown",
   "metadata": {},
   "source": [
    "Here we can use `getplotlyfig.m` and have a go at changing the bar and line colours on a different graph: https://plot.ly/~matlab_user_guide/664/ !"
   ]
  },
  {
   "cell_type": "code",
   "execution_count": null,
   "metadata": {},
   "outputs": [],
   "source": [
    "%%matlab\n",
    "%%%%%%%%%%%%%%%%%%%%%%%%%%%%%%%\n",
    "%       GET PLOTLY FIG!       %\n",
    "%%%%%%%%%%%%%%%%%%%%%%%%%%%%%%%\n",
    "\n",
    "plotlyfigure = getplotlyfig('matlab_user_guide','664'); \n",
    "\n",
    "\n",
    "%%%%%%%%%%%%%%%%%%%%%%%%%%%%%%% \n",
    "%         DATA/STYLE          %\n",
    "%%%%%%%%%%%%%%%%%%%%%%%%%%%%%%%\n",
    "\n",
    "% COLOUR CHOICES \n",
    "col1 = '#3C8A22';\n",
    "col2 = '#097054'; \n",
    "col3 = 'black'; \n",
    "\n",
    "\n",
    "% LINE STYLE \n",
    "plotlyfigure.data{1}.line.width = 10; \n",
    "plotlyfigure.data{1}.line.color = col2;  \n",
    "plotlyfigure.data{1}.opacity = 0.7; \n",
    "plotlyfigure.data{1}.name = 'Infection Rate'; \n",
    "\n",
    "% BAR CHART STYLE \n",
    "plotlyfigure.data{2}.marker.color = col1;\n",
    "plotlyfigure.data{2}.marker.line.width = 2; \n",
    "plotlyfigure.data{2}.marker.line.color = col3; \n",
    "plotlyfigure.data{2}.opacity = 0.7; \n",
    "plotlyfigure.data{2}.name = 'Cases'; \n",
    "\n",
    "%%%%%%%%%%%%%%%%%%%%%%%%%%%%%%% \n",
    "%           LAYOUT            %\n",
    "%%%%%%%%%%%%%%%%%%%%%%%%%%%%%%%\n",
    "\n",
    "% Y2 AXIS STYLE\n",
    "plotlyfigure.layout.yaxis2.titlefont.color = col3; \n",
    "plotlyfigure.layout.yaxis2.tickfont.color = col2;\n",
    "plotlyfigure.layout.yaxis2.tickcolor = col2; \n",
    "plotlyfigure.layout.yaxis2.linecolor = col2; \n",
    "plotlyfigure.layout.yaxis2.linewidth = 2; \n",
    "\n",
    "% X AXIS STYLE\n",
    "plotlyfigure.layout.xaxis.mirror = 0; \n",
    "plotlyfigure.layout.xaxis.showline = 0; \n",
    "\n",
    "% BAR LAYOUT\n",
    "plotlyfigure.layout.bargap = 0.2; \n",
    "\n",
    "%%%%%%%%%%%%%%%%%%%%%%%%%%%%%%% \n",
    "%             ARGS            %\n",
    "%%%%%%%%%%%%%%%%%%%%%%%%%%%%%%%\n",
    "\n",
    "args.layout = plotlyfigure.layout; \n",
    "args.filename = 'matlab_overview_5'; \n",
    "args.fileopt = 'overwrite'; \n",
    "\n",
    "%%%%%%%%%%%%%%%%%%%%%%%%%%%%%%% \n",
    "%           PLOTLY            %\n",
    "%%%%%%%%%%%%%%%%%%%%%%%%%%%%%%%\n",
    "\n",
    "resp = plotly(plotlyfigure.data,args);\n",
    "resp.url"
   ]
  },
  {
   "cell_type": "markdown",
   "metadata": {},
   "source": [
    "<iframe frameborder=\"0\" seamless=\"seamless\" scrolling=\"no\" src=\"https://plot.ly/~matlab_user_guide/665/cases-vs-years.embed\" width=\"80%\" height=\"500px\"> </iframe>"
   ]
  },
  {
   "cell_type": "markdown",
   "metadata": {},
   "source": [
    "#### Export Static Image\n",
    "`saveplotlyfig.m`: save your MATLAB figure as an image using Plotly.\n",
    "`saveplotlyfig.m` allows you to convert your MATLAB figures into static images (.png, .svg, .pdf, .jpeg) using Plotly."
   ]
  },
  {
   "cell_type": "code",
   "execution_count": null,
   "metadata": {},
   "outputs": [],
   "source": [
    "[INPUT]:\n",
    "saveplotlyfig(data, filename, format {otional})\n",
    "saveplotlyfig(plotlyfigure, filename, format {optional})\n",
    "NOTE: if format is unspecified, saveplotlyfig will use the image format given by the extension of filename. If filename does not have an explicit extension (ex: filename.pdf), the default format of PNG will be used for the conversion.\n",
    "\n",
    "[WHERE]:\n",
    "data - data/style of plot [cell array]\n",
    "plotlyfigure.data - data/style of plot [cell array]\n",
    "plotlyfigure.layout - layout of plot [struct]\n",
    "filename - name of image to be saved [string]\n",
    "\n",
    "[OUTPUT]:\n",
    "Image 'filename' of the specified format (PNG, PDF, JPEG, or SVG) saved to your working directory."
   ]
  },
  {
   "cell_type": "markdown",
   "metadata": {},
   "source": [
    "Let's have a look at `saveplotlyfig.m` to see how it works. Check out this next plot that was featured on the MATLAB plot gallery."
   ]
  },
  {
   "cell_type": "code",
   "execution_count": null,
   "metadata": {},
   "outputs": [],
   "source": [
    "%%matlab\n",
    "%%%%%%%%%%%%%%%%%%%%%%%%%%%%%%%%%%%%%%%%%%%%%%%%%%%%\n",
    "%            FROM MATLAB PLOT GALLERY              %\n",
    "%  http://www.mathworks.com/discovery/gallery.html %\n",
    "%%%%%%%%%%%%%%%%%%%%%%%%%%%%%%%%%%%%%%%%%%%%%%%%%%%%\n",
    "\n",
    "% Load Morse data\n",
    "load MDdata dissimilarities dist1 dist2 dist3\n",
    "\n",
    "% Plot the first set of data in blue\n",
    "fig = figure;\n",
    "plot(dissimilarities, dist1, 'bo');\n",
    "hold on;\n",
    "\n",
    "% Plot the second set of data in red\n",
    "plot(dissimilarities, dist2, 'r+');\n",
    "\n",
    "% Plot the third set of data in green\n",
    "plot(dissimilarities, dist3, 'g^');\n",
    "\n",
    "% Add title and axis labels\n",
    "title('Morse Signal Analysis');\n",
    "xlabel('Dissimilarities');\n",
    "ylabel('Distances');\n",
    "\n",
    "\n",
    "%%%%%%%%%%%%%%%%%%%%%%%%%%%%%%%\n",
    "%            PLOTLY           %\n",
    "%%%%%%%%%%%%%%%%%%%%%%%%%%%%%%%\n",
    "\n",
    "filename = 'matlab_overview_8'; \n",
    "resp = fig2plotly(fig,'filename',filename,'strip',false);\n",
    "resp.url"
   ]
  },
  {
   "cell_type": "code",
   "execution_count": null,
   "metadata": {},
   "outputs": [],
   "source": [
    "plotlyfigure = getplotlyfig('matlab_user_guide','670');\n",
    "filename = 'morse.png'; \n",
    "\n",
    "saveplotlyfig(plotlyfigure,filename)"
   ]
  },
  {
   "cell_type": "markdown",
   "metadata": {},
   "source": [
    "Boom! <b>morse.png</b> has been automatically saved to our working directory. Let's have a look."
   ]
  },
  {
   "cell_type": "markdown",
   "metadata": {},
   "source": [
    "![https://plot.ly/~matlab_user_guide/670.png](https://plot.ly/~matlab_user_guide/670.png)"
   ]
  },
  {
   "cell_type": "markdown",
   "metadata": {},
   "source": [
    "Awesome! Do you notice how the above plot is no longer interactive? That's because it is a static PNG image, ready to be placed in your offline documents.\n",
    "Plotly graphics are rendered as high-quality vector graphics so they embed really well in presentations and reports."
   ]
  },
  {
   "cell_type": "code",
   "execution_count": 1,
   "metadata": {},
   "outputs": [
    {
     "name": "stdout",
     "output_type": "stream",
     "text": [
      "Collecting git+https://github.com/plotly/publisher.git\n",
      "  Cloning https://github.com/plotly/publisher.git to /private/var/folders/k_/zf24qrfn2kg710j9pdrxzrz40000gn/T/pip-knHncG-build\n",
      "Installing collected packages: publisher\n",
      "  Found existing installation: publisher 0.10\n",
      "    Uninstalling publisher-0.10:\n",
      "      Successfully uninstalled publisher-0.10\n",
      "  Running setup.py install for publisher ... \u001b[?25ldone\n",
      "\u001b[?25hSuccessfully installed publisher-0.10\n"
     ]
    },
    {
     "name": "stderr",
     "output_type": "stream",
     "text": [
      "/Users/chelsea/venv/venv2.7/lib/python2.7/site-packages/IPython/nbconvert.py:13: ShimWarning: The `IPython.nbconvert` package has been deprecated since IPython 4.0. You should import from nbconvert instead.\n",
      "  \"You should import from nbconvert instead.\", ShimWarning)\n",
      "/Users/chelsea/venv/venv2.7/lib/python2.7/site-packages/publisher/publisher.py:53: UserWarning: Did you \"Save\" this notebook before running this command? Remember to save, always save.\n",
      "  warnings.warn('Did you \"Save\" this notebook before running this command? '\n"
     ]
    }
   ],
   "source": [
    "from IPython.display import display, HTML\n",
    "\n",
    "! pip install git+https://github.com/plotly/publisher.git --upgrade\n",
    "    \n",
    "import publisher\n",
    "publisher.publish(\n",
    "    'matlab-user-guide.ipynb', 'matlab/user-guide/', 'User Guide for Plotly''s MATLAB Library',\n",
    "    'How to use the core functions of Plotly''s Matlab API Library',\n",
    "    title = 'MATLAB User Guide',\n",
    "    has_thumbnail='False', \n",
    "    language='matlab')"
   ]
  },
  {
   "cell_type": "code",
   "execution_count": null,
   "metadata": {
    "collapsed": true
   },
   "outputs": [],
   "source": []
  }
 ],
 "metadata": {
  "kernelspec": {
   "display_name": "Python 2",
   "language": "python",
   "name": "python2"
  },
  "language_info": {
   "codemirror_mode": {
    "name": "ipython",
    "version": 2
   },
   "file_extension": ".py",
   "mimetype": "text/x-python",
   "name": "python",
   "nbconvert_exporter": "python",
   "pygments_lexer": "ipython2",
   "version": "2.7.10"
  }
 },
 "nbformat": 4,
 "nbformat_minor": 1
}
