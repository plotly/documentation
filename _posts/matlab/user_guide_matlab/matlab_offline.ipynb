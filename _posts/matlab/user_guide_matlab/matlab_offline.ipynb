{
 "cells": [
  {
   "cell_type": "markdown",
   "metadata": {},
   "source": [
    "**NEW: Plotly's MATLAB library v.2.2.0 now includes support for Plotly Offline.**\n",
    "- Instead of saving the converted MATLAB figures to a server, your data and graphs will be saved as *html* files to your current working directory using Plotly Offline. These *html* files will contain all of the necessary dependencies to render the plot within a browser.\n",
    "\n",
    "- When you're ready to share, you can just publish them to the [Plotly Cloud](https://plot.ly/feed]) or to your company's internal [Plotly Enterprise](https://plot.ly/product/enterprise) via the save icon in the modebar.\n",
    "\n",
    "![self-hosted matlab online](http://i.imgur.com/FxPBBgD.png)\n",
    "\n",
    "\n",
    "### Getting Started\n",
    "\n",
    "1 - Update the Plotly MATLAB Library so that your version is at least v.2.2.0\n",
    "\n",
    "```\n",
    ">>> plotlyupdate;\n",
    "```\n",
    "\n",
    "2 - Download the offline Plotly bundle:\n",
    "\n",
    "```\n",
    ">>> getplotlyoffline('http://cdn.plot.ly/plotly-latest.min.js')\n",
    "\n",
    "Success! You can generate your first offline graph\n",
    "using the 'offline' flag of fig2plotly as follows:\n",
    "\n",
    ">> plot(1:10); fig2plotly(gcf, 'offline', true);\n",
    "```\n",
    "\n",
    "3 - Now, you are ready to start using Plotly offline! All you need to do is provide the `offline` flag to `fig2plotly`"
   ]
  },
  {
   "cell_type": "code",
   "execution_count": 1,
   "metadata": {},
   "outputs": [
    {
     "data": {
      "text/html": [
       "<iframe id=\"igraph\" scrolling=\"no\" style=\"border:none;\"seamless=\"seamless\" src=\"https://plot.ly/~matlab_user_guide/6235.embed\" height=\"525\" width=\"100%\"></iframe>"
      ],
      "text/plain": [
       "<plotly.tools.PlotlyDisplay object>"
      ]
     },
     "execution_count": 1,
     "metadata": {},
     "output_type": "execute_result"
    }
   ],
   "source": [
    ">> t = linspace(0,1,1000);\n",
    ">> plot(t, sin(2*pi*t*20), '-'); \n",
    "\n",
    ">> plotly_fig = fig2plotly(gcf, 'offline', true, 'filename', 'sine wave');\n",
    ">> plotly_fig.url\n",
    "file:///Users/bronsolo/.plotly/plotlyjs/sinewave.html"
   ]
  },
  {
   "cell_type": "code",
   "execution_count": 2,
   "metadata": {},
   "outputs": [
    {
     "data": {
      "text/html": [
       "<iframe id=\"igraph\" scrolling=\"no\" style=\"border:none;\"seamless=\"seamless\" src=\"https://plot.ly/~matlab_user_guide/6249.embed\" height=\"525\" width=\"100%\"></iframe>"
      ],
      "text/plain": [
       "<plotly.tools.PlotlyDisplay object>"
      ]
     },
     "execution_count": 2,
     "metadata": {},
     "output_type": "execute_result"
    }
   ],
   "source": [
    ">> contour(rand(10,10)); \n",
    ">> plotly_fig = fig2plotly(gcf, 'offline', true, 'filename', 'contour data');\n",
    ">> plotly_fig.url\n",
    "file:///Users/bronsolo/.plotly/plotlyjs/mycontour.html"
   ]
  },
  {
   "cell_type": "code",
   "execution_count": 4,
   "metadata": {},
   "outputs": [
    {
     "data": {
      "text/html": [
       "<iframe id=\"igraph\" scrolling=\"no\" style=\"border:none;\"seamless=\"seamless\" src=\"https://plot.ly/~jackp/9185.embed\" height=\"525\" width=\"100%\"></iframe>"
      ],
      "text/plain": [
       "<plotly.tools.PlotlyDisplay object>"
      ]
     },
     "execution_count": 4,
     "metadata": {},
     "output_type": "execute_result"
    }
   ],
   "source": [
    ">> [X,Y,Z] = peaks(25);\n",
    ">> figure\n",
    ">> surf(X,Y,Z);\n",
    ">> plotly_fig = fig2plotly(gcf, 'offline', true, 'filename', 'peaks');"
   ]
  },
  {
   "cell_type": "code",
   "execution_count": null,
   "metadata": {
    "collapsed": true
   },
   "outputs": [],
   "source": [
    ">> X = linspace(0,2*pi,50)';\n",
    ">> Y = [cos(X), 0.5*sin(X)];\n",
    ">> stem(X,Y)\n",
    "\n",
    ">> fig2plotly(gcf,'offline',true,'filename','offline-graph');\n",
    "file:///Users/Chelsea/Documents/MATLAB/offline-graph.html"
   ]
  },
  {
   "cell_type": "markdown",
   "metadata": {},
   "source": [
    "<img src=\"http://i.imgur.com/HeUJ7fw.png\" width=\"80%\" height=\"250px\" alt=\"self-hosted matlab online\">"
   ]
  },
  {
   "cell_type": "markdown",
   "metadata": {},
   "source": [
    "#### Creating Offline Figures with Plotly's Native Syntax\n",
    "\n",
    "Describing figure's using Plotly's native syntax is a more cumbersome but powerful and flexible way to create Plotly figures. View more examples at the bottom of each example page on [plotly's online MATLAB documentation](https://plot.ly/matlab)."
   ]
  },
  {
   "cell_type": "code",
   "execution_count": null,
   "metadata": {
    "collapsed": true
   },
   "outputs": [],
   "source": [
    "%% Describe your figure: data and layout. \n",
    "% view more examples at the bottom of each example page: https://plot.ly/matlab\n",
    "\n",
    "trace1 = struct(...\n",
    "  'x', [1, 2, 3, 4], ...\n",
    "  'y', [10, 15, 13, 17], ...\n",
    "  'type', 'scatter');\n",
    "trace2 = struct(...\n",
    "  'x', [1, 2, 3, 4], ...\n",
    "  'y', [16, 5, 11, 9], ...\n",
    "  'type', 'scatter');\n",
    "data = {trace1, trace2};\n",
    "\n",
    "layout = struct()\n",
    "layout.title = 'basic offline figure';\n",
    "layout.width = 800; % required\n",
    "layout.height = 650; % required\n",
    "\n",
    "p = plotlyfig; % initalize an empty figure object\n",
    "p.data = data;\n",
    "p.layout = layout;\n",
    "\n",
    "p.PlotOptions.FileName = 'basic-offline'\n",
    "\n",
    "% Create a standalone HTML file\n",
    "html_file = plotlyoffline(p);\n",
    "\n",
    "html_file"
   ]
  },
  {
   "cell_type": "markdown",
   "metadata": {},
   "source": [
    "`html_file = file:///Users/Chelsea/Documents/MATLAB/basic-offline.html`"
   ]
  },
  {
   "cell_type": "code",
   "execution_count": null,
   "metadata": {
    "collapsed": true
   },
   "outputs": [],
   "source": [
    "web file:///Users/Chelsea/Documents/MATLAB/basic-offline.html -browser"
   ]
  },
  {
   "cell_type": "markdown",
   "metadata": {},
   "source": [
    "<img src=\"http://i.imgur.com/Thmg2nf.png\" width=\"80%\" height=\"250px\" alt=\"self-hosted matlab online\">"
   ]
  },
  {
   "cell_type": "code",
   "execution_count": 1,
   "metadata": {},
   "outputs": [
    {
     "data": {
      "text/html": [
       "<link href=\"//fonts.googleapis.com/css?family=Open+Sans:600,400,300,200|Inconsolata|Ubuntu+Mono:400,700\" rel=\"stylesheet\" type=\"text/css\" />"
      ],
      "text/plain": [
       "<IPython.core.display.HTML object>"
      ]
     },
     "metadata": {},
     "output_type": "display_data"
    },
    {
     "data": {
      "text/html": [
       "<link rel=\"stylesheet\" type=\"text/css\" href=\"http://help.plot.ly/documentation/all_static/css/ipython-notebook-custom.css\">"
      ],
      "text/plain": [
       "<IPython.core.display.HTML object>"
      ]
     },
     "metadata": {},
     "output_type": "display_data"
    },
    {
     "name": "stdout",
     "output_type": "stream",
     "text": [
      "Collecting git+https://github.com/plotly/publisher.git\n",
      "  Cloning https://github.com/plotly/publisher.git to /private/var/folders/k_/zf24qrfn2kg710j9pdrxzrz40000gn/T/pip-qNy95S-build\n",
      "Installing collected packages: publisher\n",
      "  Found existing installation: publisher 0.10\n",
      "    Uninstalling publisher-0.10:\n",
      "      Successfully uninstalled publisher-0.10\n",
      "  Running setup.py install for publisher ... \u001b[?25ldone\n",
      "\u001b[?25hSuccessfully installed publisher-0.10\n"
     ]
    },
    {
     "name": "stderr",
     "output_type": "stream",
     "text": [
      "/Users/chelsea/venv/venv2.7/lib/python2.7/site-packages/IPython/nbconvert.py:13: ShimWarning: The `IPython.nbconvert` package has been deprecated since IPython 4.0. You should import from nbconvert instead.\n",
      "  \"You should import from nbconvert instead.\", ShimWarning)\n",
      "/Users/chelsea/venv/venv2.7/lib/python2.7/site-packages/publisher/publisher.py:53: UserWarning: Did you \"Save\" this notebook before running this command? Remember to save, always save.\n",
      "  warnings.warn('Did you \"Save\" this notebook before running this command? '\n"
     ]
    }
   ],
   "source": [
    "from IPython.display import display, HTML\n",
    "\n",
    "display(HTML('<link href=\"//fonts.googleapis.com/css?family=Open+Sans:600,400,300,200|Inconsolata|Ubuntu+Mono:400,700\" rel=\"stylesheet\" type=\"text/css\" />'))\n",
    "display(HTML('<link rel=\"stylesheet\" type=\"text/css\" href=\"http://help.plot.ly/documentation/all_static/css/ipython-notebook-custom.css\">'))\n",
    "\n",
    "! pip install git+https://github.com/plotly/publisher.git --upgrade\n",
    "    \n",
    "import publisher\n",
    "publisher.publish(\n",
    "    'matlab_offline.ipynb', 'matlab/offline/', 'Plotly Offline for Matlab',\n",
    "    'How to use Plotly offline using fig2plotly and MATLAB',\n",
    "    title = 'Offline Plots in Plotly',\n",
    "    has_thumbnail='False', \n",
    "    language='matlab')"
   ]
  },
  {
   "cell_type": "code",
   "execution_count": null,
   "metadata": {
    "collapsed": true
   },
   "outputs": [],
   "source": []
  }
 ],
 "metadata": {
  "kernelspec": {
   "display_name": "Python 2",
   "language": "python",
   "name": "python2"
  },
  "language_info": {
   "codemirror_mode": {
    "name": "ipython",
    "version": 2
   },
   "file_extension": ".py",
   "mimetype": "text/x-python",
   "name": "python",
   "nbconvert_exporter": "python",
   "pygments_lexer": "ipython2",
   "version": "2.7.10"
  }
 },
 "nbformat": 4,
 "nbformat_minor": 1
}
