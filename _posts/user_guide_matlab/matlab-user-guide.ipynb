{
 "metadata": {
  "name": "",
  "signature": "sha256:900f64be51afcfdfd2409d48156df9d53addf0a63736ef195e11fc402ace7cd0"
 },
 "nbformat": 3,
 "nbformat_minor": 0,
 "worksheets": []
}