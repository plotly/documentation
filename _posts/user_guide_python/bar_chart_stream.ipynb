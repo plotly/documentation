{
 "cells": [
  {
   "cell_type": "markdown",
   "metadata": {},
   "source": [
    "## Streaming Bar Chart Demo"
   ]
  },
  {
   "cell_type": "code",
   "execution_count": 8,
   "metadata": {
    "collapsed": false
   },
   "outputs": [],
   "source": [
    "import plotly.plotly as py  \n",
    "import plotly.tools as tls   \n",
    "import numpy as np\n",
    "import time\n",
    " \n",
    "from plotly.graph_objs import *\n",
    " \n",
    "import numpy as np  \n",
    "\n",
    "stream_id = 'jkc6d90yfw'   \n",
    "\n",
    "# Let's generate a new stream id object\n",
    "stream = Stream(\n",
    "    token=stream_id,  \n",
    "    maxpoints=80\n",
    ")"
   ]
  },
  {
   "cell_type": "code",
   "execution_count": 2,
   "metadata": {
    "collapsed": true
   },
   "outputs": [],
   "source": [
    "#A simple bar chart object is generated\n",
    "\n",
    "trace1 = Bar(\n",
    "    x=['one','two','three','four','five'],\n",
    "    y=np.array([20,20,20,20,20]),    \n",
    "    stream=stream              #we set the stream parameter to the stream id object created earlier     \n",
    ")\n",
    "\n",
    "data = Data([trace1])\n",
    "layout = Layout(title='Bar Chart Streaming')\n",
    "fig = Figure(data=data, layout=layout)"
   ]
  },
  {
   "cell_type": "code",
   "execution_count": null,
   "metadata": {
    "collapsed": false
   },
   "outputs": [],
   "source": [
    "py.plot(fig, filename='bar-chart')      #post this plot up onto the plotly servers"
   ]
  },
  {
   "cell_type": "code",
   "execution_count": 13,
   "metadata": {
    "collapsed": true
   },
   "outputs": [],
   "source": [
    "#Now a Stream object is created w/ the same stream_id as the stream id object\n",
    "\n",
    "s = py.Stream(stream_id)\n",
    "s.open()                  "
   ]
  },
  {
   "cell_type": "code",
   "execution_count": null,
   "metadata": {
    "collapsed": false
   },
   "outputs": [],
   "source": [
    "while True:               \n",
    "    \n",
    "    s.write(dict(x=['one','two','three','four','five'], y=np.random.random_integers(0,100,5)))  \n",
    "\n",
    "    time.sleep(0.2)        #wait one second before plotting again\n",
    "    \n",
    "s.close()                  #close the stream"
   ]
  },
  {
   "cell_type": "code",
   "execution_count": 6,
   "metadata": {
    "collapsed": false
   },
   "outputs": [
    {
     "data": {
      "text/html": [
       "<iframe id=\"igraph\" scrolling=\"no\" style=\"border:none;\" seamless=\"seamless\" src=\"https://plot.ly/~streaming-demos/116.embed\" height=\"525\" width=\"100%\"></iframe>"
      ],
      "text/plain": [
       "<plotly.tools.PlotlyDisplay object>"
      ]
     },
     "execution_count": 6,
     "metadata": {},
     "output_type": "execute_result"
    }
   ],
   "source": [
    "tls.embed('https://plot.ly/~streaming-demos/116/bar-chart-streaming')"
   ]
  },
  {
   "cell_type": "markdown",
   "metadata": {},
   "source": [
    "<div style=\"float:right; \\\">\n",
    "    <img src=\"http://i.imgur.com/4vwuxdJ.png\" \n",
    " align=right style=\"float:right; margin-left: 5px; margin-top: -10px\" />\n",
    "</div>\n",
    "\n",
    "<h4>Got Questions or Feedback? </h4>\n",
    "\n",
    "Reach us here at: <a href=\"https://community.plot.ly\" target=\"_blank\">Plotly Community</a>\n",
    "\n",
    "<h4> What's going on at Plotly? </h4>\n",
    "Check out our twitter: \n",
    "<a href=\"https://twitter.com/plotlygraphs\" target=\"_blank\">@plotlygraphs</a>\n",
    "\n"
   ]
  },
  {
   "cell_type": "code",
   "execution_count": 10,
   "metadata": {
    "collapsed": false
   },
   "outputs": [
    {
     "data": {
      "text/html": [
       "<link href=\"//fonts.googleapis.com/css?family=Open+Sans:600,400,300,200|Inconsolata|Ubuntu+Mono:400,700\" rel=\"stylesheet\" type=\"text/css\" />"
      ],
      "text/plain": [
       "<IPython.core.display.HTML object>"
      ]
     },
     "metadata": {},
     "output_type": "display_data"
    },
    {
     "data": {
      "text/html": [
       "<link rel=\"stylesheet\" type=\"text/css\" href=\"http://help.plot.ly/documentation/all_static/css/ipython-notebook-custom.css\">"
      ],
      "text/plain": [
       "<IPython.core.display.HTML object>"
      ]
     },
     "metadata": {},
     "output_type": "display_data"
    },
    {
     "name": "stdout",
     "output_type": "stream",
     "text": [
      "Requirement already up-to-date: publisher in /Library/Frameworks/Python.framework/Versions/2.7/lib/python2.7/site-packages\r\n"
     ]
    }
   ],
   "source": [
    "from IPython.display import display, HTML\n",
    "\n",
    "display(HTML('<link href=\"//fonts.googleapis.com/css?family=Open+Sans:600,400,300,200|Inconsolata|Ubuntu+Mono:400,700\" rel=\"stylesheet\" type=\"text/css\" />'))\n",
    "display(HTML('<link rel=\"stylesheet\" type=\"text/css\" href=\"http://help.plot.ly/documentation/all_static/css/ipython-notebook-custom.css\">'))\n",
    "\n",
    "! pip install publisher --upgrade\n",
    "import publisher\n",
    "publisher.publish(\n",
    "    'bar_chart_stream.ipynb', 'python/bar_chart_stream//', 'Bar Chart Streaming Demo',\n",
    "    'Getting Started with Plotly Streaming',\n",
    "    title = 'Bar Chart Streaming',\n",
    "    thumbnail='', language='python',\n",
    "    layout='user-guide', has_thumbnail='false') "
   ]
  },
  {
   "cell_type": "code",
   "execution_count": null,
   "metadata": {
    "collapsed": true
   },
   "outputs": [],
   "source": []
  }
 ],
 "metadata": {
  "kernelspec": {
   "display_name": "Python 2",
   "language": "python",
   "name": "python2"
  },
  "language_info": {
   "codemirror_mode": {
    "name": "ipython",
    "version": 2
   },
   "file_extension": ".py",
   "mimetype": "text/x-python",
   "name": "python",
   "nbconvert_exporter": "python",
   "pygments_lexer": "ipython2",
   "version": "2.7.9"
  }
 },
 "nbformat": 4,
 "nbformat_minor": 0
}
