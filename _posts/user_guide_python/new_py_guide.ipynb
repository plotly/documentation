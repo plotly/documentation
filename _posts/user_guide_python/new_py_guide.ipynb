{
 "cells": [
  {
   "cell_type": "markdown",
   "metadata": {},
   "source": [
    "# Python API User Guide"
   ]
  },
  {
   "cell_type": "markdown",
   "metadata": {},
   "source": [
    "So you've just finished the [`Getting Started document`](https://plot.ly/python/getting-started) and now you're looking to find out more. In this guide, we'll go through some of the internals of Plotly, as well as some tips and general practices that will allow you generate amazing data visualizations in no time."
   ]
  },
  {
   "cell_type": "markdown",
   "metadata": {},
   "source": [
    "### What is Plotly?:\n",
    "\n",
    "Plotly at its core is a data visualization toolbox. Under every plotly graph is a JSON object, which is a dictionary like data structure. Simply by changing the values of some keywords in this object, we can get vastly different and ever more detailed plots. For example:"
   ]
  },
  {
   "cell_type": "code",
   "execution_count": 79,
   "metadata": {
    "collapsed": false
   },
   "outputs": [
    {
     "data": {
      "text/html": [
       "<iframe id=\"igraph\" scrolling=\"no\" style=\"border:none;\" seamless=\"seamless\" src=\"https://plot.ly/~kevintest/356.embed\" height=\"525px\" width=\"100%\"></iframe>"
      ],
      "text/plain": [
       "<plotly.tools.PlotlyDisplay object>"
      ]
     },
     "execution_count": 79,
     "metadata": {},
     "output_type": "execute_result"
    }
   ],
   "source": [
    "import plotly.plotly as py\n",
    "import plotly.graph_objs as go\n",
    "\n",
    "trace1 = go.Scatter(x=[1,2,3], y=[4,5,6], marker={'color': 'red', 'symbol': 104, 'size': \"10\"}, \n",
    "                    mode=\"markers+lines\",  text=[\"one\",\"two\",\"three\"], name='1st Trace')\n",
    "                                               \n",
    "data=go.Data([trace1])\n",
    "layout=go.Layout(title=\"First Plot\", xaxis={'title':'x1'}, yaxis={'title':'x2'})\n",
    "figure=go.Figure(data=data,layout=layout)\n",
    "py.iplot(figure, filename='pyguide_1')"
   ]
  },
  {
   "cell_type": "code",
   "execution_count": 80,
   "metadata": {
    "collapsed": false
   },
   "outputs": [
    {
     "data": {
      "text/plain": [
       "{'data': [{'marker': {'color': 'red', 'size': '10', 'symbol': 104},\n",
       "   'mode': 'markers+lines',\n",
       "   'name': '1st Trace',\n",
       "   'text': ['one', 'two', 'three'],\n",
       "   'type': 'scatter',\n",
       "   'x': [1, 2, 3],\n",
       "   'y': [4, 5, 6]}],\n",
       " 'layout': {'title': 'First Plot',\n",
       "  'xaxis': {'title': 'x1'},\n",
       "  'yaxis': {'title': 'x2'}}}"
      ]
     },
     "execution_count": 80,
     "metadata": {},
     "output_type": "execute_result"
    }
   ],
   "source": [
    "figure"
   ]
  },
  {
   "cell_type": "markdown",
   "metadata": {},
   "source": [
    "We can see that the figure that we're plotting with `py.iplot` is actually just a dictionary-like object. Moreover, we can customize and alter this plot simply by adding/defining the values of the **[possible keywords](https://plot.ly/python/reference/#scatter)** associated with scatter plots.\n",
    "\n",
    "Let's say we want to change the title of our scatter plot to `Plot update`, while at the same time, make the scatter plot blue instead of red."
   ]
  },
  {
   "cell_type": "code",
   "execution_count": 81,
   "metadata": {
    "collapsed": false
   },
   "outputs": [
    {
     "data": {
      "text/html": [
       "<iframe id=\"igraph\" scrolling=\"no\" style=\"border:none;\" seamless=\"seamless\" src=\"https://plot.ly/~kevintest/358.embed\" height=\"525px\" width=\"100%\"></iframe>"
      ],
      "text/plain": [
       "<plotly.tools.PlotlyDisplay object>"
      ]
     },
     "execution_count": 81,
     "metadata": {},
     "output_type": "execute_result"
    }
   ],
   "source": [
    "figure.update(dict(layout=dict(title='Plot update'), data=dict(marker=dict(color='blue'))))\n",
    "py.iplot(figure, filename='pyguide_2')"
   ]
  },
  {
   "cell_type": "markdown",
   "metadata": {},
   "source": [
    "Moreover, Plotly plots are interactive, meaning you can manually explore the data by panning, selecting, zooming on the graphing surface (among other possible actions, try panning the axes!). We are also continually expanding the expressiveness of the Plotly package so we're able to graph and visualize all sorts of data. "
   ]
  },
  {
   "cell_type": "markdown",
   "metadata": {},
   "source": [
    "In no time you will be able to figure out how to make plots the way you want them, and with the information that you want to be shared with those you want. For example we can take a quick look at how we would define the objects required to generate a scatterplot comparing life expectancies and GDP Per Capita between two different continents. "
   ]
  },
  {
   "cell_type": "code",
   "execution_count": 82,
   "metadata": {
    "collapsed": false
   },
   "outputs": [
    {
     "data": {
      "text/html": [
       "<iframe id=\"igraph\" scrolling=\"no\" style=\"border:none;\" seamless=\"seamless\" src=\"https://plot.ly/~kevintest/426.embed\" height=\"525px\" width=\"100%\"></iframe>"
      ],
      "text/plain": [
       "<plotly.tools.PlotlyDisplay object>"
      ]
     },
     "execution_count": 82,
     "metadata": {},
     "output_type": "execute_result"
    }
   ],
   "source": [
    "import pandas as pd\n",
    "import plotly.plotly as py\n",
    "import plotly.graph_objs as go\n",
    "\n",
    "df = pd.read_csv('https://raw.githubusercontent.com/yankev/test/master/life-expectancy-per-GDP-2007.csv')\n",
    "\n",
    "americas = df[(df.continent=='Americas')]\n",
    "europe = df[(df.continent=='Europe')]\n",
    "\n",
    "trace_comp0 = go.Scatter(\n",
    "    x=americas.gdp_percap,\n",
    "    y=americas.life_exp,\n",
    "    mode='markers',\n",
    "    marker=dict(size=12,\n",
    "                line=dict(width=1),\n",
    "                color=\"navy\"\n",
    "               ),\n",
    "    name='Americas',\n",
    "    text=americas.country,\n",
    "    )\n",
    "\n",
    "trace_comp1 = go.Scatter(\n",
    "    x=europe.gdp_percap,\n",
    "    y=europe.life_exp,\n",
    "    mode='markers',\n",
    "    marker=dict(size=12,\n",
    "                line=dict(width=1),\n",
    "                color=\"red\"\n",
    "               ),\n",
    "    name='Europe',\n",
    "    text=europe.country,\n",
    "        )\n",
    "\n",
    "data_comp = [trace_comp0, trace_comp1]\n",
    "layout_comp = go.Layout(\n",
    "    title='Life Expectancy v. Per Capita GDP, 2007',\n",
    "    hovermode='closest',\n",
    "    xaxis=dict(\n",
    "        title='GDP per capita (2000 dollars)',\n",
    "        ticklen=5,\n",
    "        zeroline=False,\n",
    "        gridwidth=2,\n",
    "    ),\n",
    "    yaxis=dict(\n",
    "        title='Life Expectancy (years)',\n",
    "        ticklen=5,\n",
    "        gridwidth=2,\n",
    "    ),\n",
    ")\n",
    "fig_comp = go.Figure(data=data_comp, layout=layout_comp)\n",
    "py.iplot(fig_comp, filename='life-expectancy-per-GDP-2007')"
   ]
  },
  {
   "cell_type": "markdown",
   "metadata": {},
   "source": [
    "Hopefully this gives you an idea how plots are created with the Plotly Python Library. We'll go into more detail regarding the different parts that make up the plot in later sections. But for now, I hope you can see the customizability that's possible, and how we can define these graphs programmatically. "
   ]
  },
  {
   "cell_type": "markdown",
   "metadata": {
    "collapsed": true
   },
   "source": [
    "#### The Source of Plotly's Power\n",
    "\n",
    "All the graphs and plots which Plotly generates are actually the product of our javascript library [`plotly.js`](https://plot.ly/javascript). Whether you see Plotly graphs in a browser, or an IPython notebook, all the visualizations and interactiveness is made possible by [`plotly.js`](https://plot.ly/javascript). Built on top of `d3.js` and `stack.gl`, [`plotly.js`](https://plot.ly/javascript) is a high-level, declarative charting library. [`plotly.js`](https://plot.ly/javascript) ships with 20 chart types, including 3D charts, statistical graphs, and SVG maps. "
   ]
  },
  {
   "cell_type": "markdown",
   "metadata": {},
   "source": [
    "### Working with the Python API"
   ]
  },
  {
   "cell_type": "markdown",
   "metadata": {},
   "source": [
    "The Python API is a package designed to interact with the `Plotly.js` library in order to allow Python users to create plots in their preferred environment. This way, the package will provide functions and graph objects that will simplify the process of generating plots, which would amount to properly defining keywords in a JSON object (as seen above). To this end, the Python API provides functions and graph objects which will allow us to create our plots functionally. So let's break this down."
   ]
  },
  {
   "cell_type": "code",
   "execution_count": 83,
   "metadata": {
    "collapsed": true
   },
   "outputs": [],
   "source": [
    "import plotly.plotly as py\n",
    "import plotly.graph_objs as go"
   ]
  },
  {
   "cell_type": "markdown",
   "metadata": {},
   "source": [
    "These are the two main modules that we will need in order to generate our Plotly graphs. \n",
    "\n",
    "- `plotly.plotly` contains the functions that will help us communicate with the Plotly servers\n",
    "- `plotly.graph_objs` contains the functions that will generate graph objects for us.\n",
    "\n",
    "**Note:** If we examine the code from the example in the previous section, we can see these parts in action."
   ]
  },
  {
   "cell_type": "markdown",
   "metadata": {},
   "source": [
    "Below we will examine the different aspects/objects that define a plot in Plotly. These are:\n",
    "- Data\n",
    "- Layout\n",
    "- Figure"
   ]
  },
  {
   "cell_type": "markdown",
   "metadata": {},
   "source": [
    "#### Data"
   ]
  },
  {
   "cell_type": "code",
   "execution_count": 84,
   "metadata": {
    "collapsed": false
   },
   "outputs": [
    {
     "data": {
      "text/plain": [
       "[{'marker': {'color': 'red', 'size': '10', 'symbol': 104},\n",
       "  'mode': 'markers+lines',\n",
       "  'name': '1st Trace',\n",
       "  'text': ['one', 'two', 'three'],\n",
       "  'type': 'scatter',\n",
       "  'x': [1, 2, 3],\n",
       "  'y': [4, 5, 6]}]"
      ]
     },
     "execution_count": 84,
     "metadata": {},
     "output_type": "execute_result"
    }
   ],
   "source": [
    "data"
   ]
  },
  {
   "cell_type": "markdown",
   "metadata": {},
   "source": [
    "We see that data is actually a list object in Python. Data will actually contain all the traces that you wish to plot. Now the question may be, what is a trace? A trace is just the name we give a collection of data and the specifications of which we want that data plotted. Notice that a trace will also be an object itself, and these will be named according to how you want the data displayed on the plotting surface.\n",
    "Hence,"
   ]
  },
  {
   "cell_type": "code",
   "execution_count": 85,
   "metadata": {
    "collapsed": false
   },
   "outputs": [
    {
     "data": {
      "text/plain": [
       "{'marker': {'color': 'red', 'size': '10', 'symbol': 104},\n",
       " 'mode': 'markers+lines',\n",
       " 'text': ['one', 'two', 'three'],\n",
       " 'type': 'scatter',\n",
       " 'x': [1, 2, 3],\n",
       " 'y': [4, 5, 6]}"
      ]
     },
     "execution_count": 85,
     "metadata": {},
     "output_type": "execute_result"
    }
   ],
   "source": [
    "go.Scatter(x=[1,2,3], y=[4,5,6], marker={'color': 'red', 'symbol': 104, 'size': \"10\"}, \n",
    "                                               mode=\"markers+lines\",  text=[\"one\",\"two\",\"three\"])"
   ]
  },
  {
   "cell_type": "markdown",
   "metadata": {},
   "source": [
    "defines a trace producing a scatter plot. Moreover it defines the data that we want plotted, which are 3 data points (1,4), (2,5), (3,6), as well as a miriad of specifications related to plotting this data. In this example we wanted the points to be plotted as hollow x's with lines joining them, all in red.\n",
    "\n",
    "In addition, we can add another Scatter object to our data list. We can do this by defining a new Scatter object, and including this in our definition of our data object.\n",
    "\n"
   ]
  },
  {
   "cell_type": "code",
   "execution_count": 86,
   "metadata": {
    "collapsed": false
   },
   "outputs": [
    {
     "data": {
      "text/plain": [
       "array([ 5.04882591,  5.59223452,  5.91269838,  5.99744162,  5.84308579,\n",
       "        5.45578456,  4.85097842,  4.05277908,  3.09300823,  2.0099289 ,\n",
       "        0.84672005])"
      ]
     },
     "execution_count": 86,
     "metadata": {},
     "output_type": "execute_result"
    }
   ],
   "source": [
    "#First let's make up some cool data to plot:\n",
    "import numpy as np\n",
    "x = np.arange(1,3.2,0.2)\n",
    "y = 6*np.sin(x)\n",
    "y"
   ]
  },
  {
   "cell_type": "code",
   "execution_count": 87,
   "metadata": {
    "collapsed": false
   },
   "outputs": [
    {
     "data": {
      "text/plain": [
       "[{'marker': {'color': 'red', 'size': '10', 'symbol': 104},\n",
       "  'mode': 'markers+lines',\n",
       "  'name': '1st Trace',\n",
       "  'text': ['one', 'two', 'three'],\n",
       "  'type': 'scatter',\n",
       "  'x': [1, 2, 3],\n",
       "  'y': [4, 5, 6]},\n",
       " {'marker': {'color': 'blue', 'size': 10, 'symbol': 'star'},\n",
       "  'mode': 'markers',\n",
       "  'name': '2nd trace',\n",
       "  'type': 'scatter',\n",
       "  'x': array([ 1. ,  1.2,  1.4,  1.6,  1.8,  2. ,  2.2,  2.4,  2.6,  2.8,  3. ]),\n",
       "  'y': array([ 5.04882591,  5.59223452,  5.91269838,  5.99744162,  5.84308579,\n",
       "          5.45578456,  4.85097842,  4.05277908,  3.09300823,  2.0099289 ,\n",
       "          0.84672005])}]"
      ]
     },
     "execution_count": 87,
     "metadata": {},
     "output_type": "execute_result"
    }
   ],
   "source": [
    "trace2 = go.Scatter(x=x, y=y, marker={'color': 'blue', 'symbol': 'star', 'size': 10}, mode='markers', name='2nd trace')\n",
    "data = go.Data([trace1, trace2])\n",
    "data"
   ]
  },
  {
   "cell_type": "code",
   "execution_count": 88,
   "metadata": {
    "collapsed": false
   },
   "outputs": [
    {
     "data": {
      "text/html": [
       "<iframe id=\"igraph\" scrolling=\"no\" style=\"border:none;\" seamless=\"seamless\" src=\"https://plot.ly/~kevintest/360.embed\" height=\"525px\" width=\"100%\"></iframe>"
      ],
      "text/plain": [
       "<plotly.tools.PlotlyDisplay object>"
      ]
     },
     "execution_count": 88,
     "metadata": {},
     "output_type": "execute_result"
    }
   ],
   "source": [
    "plot2 = py.iplot(go.Figure(data=data, layout=layout), filename='pyguide_3')\n",
    "plot2"
   ]
  },
  {
   "cell_type": "markdown",
   "metadata": {},
   "source": [
    "#### Layout"
   ]
  },
  {
   "cell_type": "markdown",
   "metadata": {},
   "source": [
    "The Layout object will define the look of the plot, and plot features which are unrelated to the data. So we will be able to change things like the title, axis titles, spacing, font and even draw shapes on top of your plot! In our case,"
   ]
  },
  {
   "cell_type": "code",
   "execution_count": 89,
   "metadata": {
    "collapsed": false
   },
   "outputs": [
    {
     "data": {
      "text/plain": [
       "{'title': 'First Plot', 'xaxis': {'title': 'x1'}, 'yaxis': {'title': 'x2'}}"
      ]
     },
     "execution_count": 89,
     "metadata": {},
     "output_type": "execute_result"
    }
   ],
   "source": [
    "layout=go.Layout(title=\"First Plot\", xaxis={'title':'x1'}, yaxis={'title':'x2'})\n",
    "layout"
   ]
  },
  {
   "cell_type": "markdown",
   "metadata": {},
   "source": [
    "##### Annotations"
   ]
  },
  {
   "cell_type": "markdown",
   "metadata": {},
   "source": [
    "We added a plot title as well as titles for all the axes. \n",
    "For fun we could add some text annotation as well in order to indicate the maximum point that's been plotted on the current plotting surface."
   ]
  },
  {
   "cell_type": "code",
   "execution_count": 90,
   "metadata": {
    "collapsed": false
   },
   "outputs": [
    {
     "data": {
      "text/html": [
       "<iframe id=\"igraph\" scrolling=\"no\" style=\"border:none;\" seamless=\"seamless\" src=\"https://plot.ly/~kevintest/362.embed\" height=\"525px\" width=\"100%\"></iframe>"
      ],
      "text/plain": [
       "<plotly.tools.PlotlyDisplay object>"
      ]
     },
     "execution_count": 90,
     "metadata": {},
     "output_type": "execute_result"
    }
   ],
   "source": [
    "layout.update(dict(annotations=[go.Annotation(text=\"Highest Point\", x=3, y=6)]))\n",
    "py.iplot(go.Figure(data=data, layout=layout), filename='pyguide_4')"
   ]
  },
  {
   "cell_type": "markdown",
   "metadata": {
    "collapsed": true
   },
   "source": [
    "##### Shapes\n",
    "\n",
    "Let's add a rectangular block to highlight the section where trace 1 is above trace2."
   ]
  },
  {
   "cell_type": "code",
   "execution_count": 91,
   "metadata": {
    "collapsed": false
   },
   "outputs": [
    {
     "data": {
      "text/html": [
       "<iframe id=\"igraph\" scrolling=\"no\" style=\"border:none;\" seamless=\"seamless\" src=\"https://plot.ly/~kevintest/424.embed\" height=\"525px\" width=\"100%\"></iframe>"
      ],
      "text/plain": [
       "<plotly.tools.PlotlyDisplay object>"
      ]
     },
     "execution_count": 91,
     "metadata": {},
     "output_type": "execute_result"
    }
   ],
   "source": [
    "layout.update(dict(shapes = [\n",
    "        # 1st highlight during Feb 4 - Feb 6\n",
    "        {\n",
    "            'type': 'rect',\n",
    "            # x-reference is assigned to the x-values\n",
    "            'xref': 'x',\n",
    "            # y-reference is assigned to the plot paper [0,1]\n",
    "            'yref': 'y',\n",
    "            'x0': '1',\n",
    "            'y0': 0,\n",
    "            'x1': '2',\n",
    "            'y1': 7,\n",
    "            'fillcolor': '#d3d3d3',\n",
    "            'opacity': 0.2,\n",
    "            'line': {\n",
    "                'width': 0,\n",
    "            }\n",
    "        }]\n",
    "        ))\n",
    "\n",
    "py.iplot(go.Figure(data=data, layout=layout), filename='pyguide_5')"
   ]
  },
  {
   "cell_type": "markdown",
   "metadata": {},
   "source": [
    "Of course, all this can be found in the `Layout` section of the [Reference Page](https://www.plot.ly/python/referece)."
   ]
  },
  {
   "cell_type": "markdown",
   "metadata": {},
   "source": [
    "#### Figure"
   ]
  },
  {
   "cell_type": "markdown",
   "metadata": {},
   "source": [
    "Finally, we get to the figure object. `go.Figure` just creates the final object to be plotted, and simply just creates a dictionary-like object that contains both the data object and the layout object."
   ]
  },
  {
   "cell_type": "code",
   "execution_count": 92,
   "metadata": {
    "collapsed": false
   },
   "outputs": [
    {
     "data": {
      "text/plain": [
       "{'data': [{'marker': {'color': 'red', 'size': '10', 'symbol': 104},\n",
       "   'mode': 'markers+lines',\n",
       "   'name': '1st Trace',\n",
       "   'text': ['one', 'two', 'three'],\n",
       "   'type': 'scatter',\n",
       "   'x': [1, 2, 3],\n",
       "   'y': [4, 5, 6]},\n",
       "  {'marker': {'color': 'blue', 'size': 10, 'symbol': 'star'},\n",
       "   'mode': 'markers',\n",
       "   'name': '2nd trace',\n",
       "   'type': 'scatter',\n",
       "   'x': array([ 1. ,  1.2,  1.4,  1.6,  1.8,  2. ,  2.2,  2.4,  2.6,  2.8,  3. ]),\n",
       "   'y': array([ 5.04882591,  5.59223452,  5.91269838,  5.99744162,  5.84308579,\n",
       "           5.45578456,  4.85097842,  4.05277908,  3.09300823,  2.0099289 ,\n",
       "           0.84672005])}],\n",
       " 'layout': {'annotations': [{'text': 'Highest Point', 'x': 3, 'y': 6}],\n",
       "  'shapes': [{'fillcolor': '#d3d3d3',\n",
       "    'line': {'width': 0},\n",
       "    'opacity': 0.2,\n",
       "    'type': 'rect',\n",
       "    'x0': '1',\n",
       "    'x1': '2',\n",
       "    'xref': 'x',\n",
       "    'y0': 0,\n",
       "    'y1': 7,\n",
       "    'yref': 'y'}],\n",
       "  'title': 'First Plot',\n",
       "  'xaxis': {'title': 'x1'},\n",
       "  'yaxis': {'title': 'x2'}}}"
      ]
     },
     "execution_count": 92,
     "metadata": {},
     "output_type": "execute_result"
    }
   ],
   "source": [
    "go.Figure(data=data, layout=layout)"
   ]
  },
  {
   "cell_type": "markdown",
   "metadata": {},
   "source": [
    "#### Why `graph_objs`?"
   ]
  },
  {
   "cell_type": "markdown",
   "metadata": {},
   "source": [
    "After viewing the outputs of these functions (ie: the objects), we can see that they are just lists or dictionaries. But they're a little more than that. Though they do inherit properties from dictionaries (traces, and layout) and lists (figure), they provide a bit more functionality as we'll soon see. Not to mention the fact that it's much simpler to create plots in this functional fashion compared to manually writing up a dictionary. "
   ]
  },
  {
   "cell_type": "markdown",
   "metadata": {
    "collapsed": true
   },
   "source": [
    "The first neat option about using graph_objs is that you can call help on them."
   ]
  },
  {
   "cell_type": "code",
   "execution_count": 93,
   "metadata": {
    "collapsed": false
   },
   "outputs": [
    {
     "name": "stdout",
     "output_type": "stream",
     "text": [
      "Help on class Figure in module plotly.graph_objs.graph_objs:\n",
      "\n",
      "class Figure(PlotlyDict)\n",
      " |  Valid attributes for 'figure' at path [] under parents ():\n",
      " |  \n",
      " |      ['layout', 'data']\n",
      " |  \n",
      " |  Run `<figure-object>.help('attribute')` on any of the above.\n",
      " |  '<figure-object>' is the object at []\n",
      " |  \n",
      " |  Method resolution order:\n",
      " |      Figure\n",
      " |      PlotlyDict\n",
      " |      __builtin__.dict\n",
      " |      PlotlyBase\n",
      " |      __builtin__.object\n",
      " |  \n",
      " |  Methods defined here:\n",
      " |  \n",
      " |  __init__(self, *args, **kwargs)\n",
      " |  \n",
      " |  append_trace(self, trace, row, col)\n",
      " |      Add a data traces to your figure bound to axes at the row, col index.\n",
      " |      \n",
      " |      The row, col index is generated from figures created with\n",
      " |      plotly.tools.make_subplots and can be viewed with Figure.print_grid.\n",
      " |      \n",
      " |      :param (dict) trace: The data trace to be bound.\n",
      " |      :param (int) row: Subplot row index (see Figure.print_grid).\n",
      " |      :param (int) col: Subplot column index (see Figure.print_grid).\n",
      " |      \n",
      " |      Example:\n",
      " |      # stack two subplots vertically\n",
      " |      fig = tools.make_subplots(rows=2)\n",
      " |      \n",
      " |      This is the format of your plot grid:\n",
      " |      [ (1,1) x1,y1 ]\n",
      " |      [ (2,1) x2,y2 ]\n",
      " |      \n",
      " |      fig.append_trace(Scatter(x=[1,2,3], y=[2,1,2]), 1, 1)\n",
      " |      fig.append_trace(Scatter(x=[1,2,3], y=[2,1,2]), 2, 1)\n",
      " |  \n",
      " |  get_data(self, flatten=False)\n",
      " |      Returns the JSON for the plot with non-data elements stripped.\n",
      " |      \n",
      " |      Flattening may increase the utility of the result.\n",
      " |      \n",
      " |      :param (bool) flatten: {'a': {'b': ''}} --> {'a.b': ''}\n",
      " |      :returns: (dict|list) Depending on (flat|unflat)\n",
      " |  \n",
      " |  print_grid(self)\n",
      " |      Print a visual layout of the figure's axes arrangement.\n",
      " |      \n",
      " |      This is only valid for figures that are created\n",
      " |      with plotly.tools.make_subplots.\n",
      " |  \n",
      " |  to_dataframe(self)\n",
      " |      Create a pandas dataframe with trace names and keys as column names.\n",
      " |      \n",
      " |      :return: (DataFrame)\n",
      " |  \n",
      " |  ----------------------------------------------------------------------\n",
      " |  Methods inherited from PlotlyDict:\n",
      " |  \n",
      " |  __copy__(self)\n",
      " |  \n",
      " |  __deepcopy__(self, memodict={})\n",
      " |  \n",
      " |  __dir__(self)\n",
      " |      Dynamically return the existing and possible attributes.\n",
      " |  \n",
      " |  __getattr__(self, key)\n",
      " |      Python only calls this when key is missing!\n",
      " |  \n",
      " |  __getitem__(self, key)\n",
      " |      Calls __missing__ when key is not found. May mutate object.\n",
      " |  \n",
      " |  __missing__(self, key)\n",
      " |      Mimics defaultdict. This is called from __getitem__ when key DNE.\n",
      " |  \n",
      " |  __setattr__(self, key, value)\n",
      " |      Maps __setattr__ onto __setitem__\n",
      " |  \n",
      " |  __setitem__(self, key, value, _raise=True)\n",
      " |      Validates/Converts values which should be Graph Objects.\n",
      " |  \n",
      " |  force_clean(self, **kwargs)\n",
      " |      Recursively remove empty/None values.\n",
      " |  \n",
      " |  get_ordered(self, **kwargs)\n",
      " |      Return a predictable, OrderedDict version of self.\n",
      " |  \n",
      " |  help(self, attribute=None, return_help=False)\n",
      " |      Print help string for this object or an attribute of this object.\n",
      " |      \n",
      " |      :param (str) attribute: A valid attribute string for this object.\n",
      " |      :param (bool) return_help: Return help_string instead of printing it?\n",
      " |      :return: (None|str)\n",
      " |  \n",
      " |  strip_style(self)\n",
      " |      Recursively strip style from the current representation.\n",
      " |      \n",
      " |      All PlotlyDicts and PlotlyLists are guaranteed to survive the\n",
      " |      stripping process, though they made be left empty. This is allowable.\n",
      " |      \n",
      " |      Keys that will be stripped in this process are tagged with\n",
      " |      `'type': 'style'` in graph_objs_meta.json. Note that a key tagged as\n",
      " |      style, but with an array as a value may still be considered data.\n",
      " |  \n",
      " |  to_string(self, level=0, indent=4, eol='\\n', pretty=True, max_chars=80)\n",
      " |      Returns a formatted string showing graph_obj constructors.\n",
      " |      \n",
      " |      :param (int) level: The number of indentations to start with.\n",
      " |      :param (int) indent: The indentation amount.\n",
      " |      :param (str) eol: The end of line character(s).\n",
      " |      :param (bool) pretty: Curtail long list output with a '..' ?\n",
      " |      :param (int) max_chars: The max characters per line.\n",
      " |      \n",
      " |      Example:\n",
      " |      \n",
      " |          print(obj.to_string())\n",
      " |  \n",
      " |  update(self, dict1=None, **dict2)\n",
      " |      Update current dict with dict1 and then dict2.\n",
      " |      \n",
      " |      This recursively updates the structure of the original dictionary-like\n",
      " |      object with the new entries in the second and third objects. This\n",
      " |      allows users to update with large, nested structures.\n",
      " |      \n",
      " |      Note, because the dict2 packs up all the keyword arguments, you can\n",
      " |      specify the changes as a list of keyword agruments.\n",
      " |      \n",
      " |      Examples:\n",
      " |      # update with dict\n",
      " |      obj = Layout(title='my title', xaxis=XAxis(range=[0,1], domain=[0,1]))\n",
      " |      update_dict = dict(title='new title', xaxis=dict(domain=[0,.8]))\n",
      " |      obj.update(update_dict)\n",
      " |      obj\n",
      " |      {'title': 'new title', 'xaxis': {'range': [0,1], 'domain': [0,.8]}}\n",
      " |      \n",
      " |      # update with list of keyword arguments\n",
      " |      obj = Layout(title='my title', xaxis=XAxis(range=[0,1], domain=[0,1]))\n",
      " |      obj.update(title='new title', xaxis=dict(domain=[0,.8]))\n",
      " |      obj\n",
      " |      {'title': 'new title', 'xaxis': {'range': [0,1], 'domain': [0,.8]}}\n",
      " |      \n",
      " |      This 'fully' supports duck-typing in that the call signature is\n",
      " |      identical, however this differs slightly from the normal update\n",
      " |      method provided by Python's dictionaries.\n",
      " |  \n",
      " |  ----------------------------------------------------------------------\n",
      " |  Data descriptors inherited from PlotlyDict:\n",
      " |  \n",
      " |  __dict__\n",
      " |      dictionary for instance variables (if defined)\n",
      " |  \n",
      " |  __weakref__\n",
      " |      list of weak references to the object (if defined)\n",
      " |  \n",
      " |  ----------------------------------------------------------------------\n",
      " |  Methods inherited from __builtin__.dict:\n",
      " |  \n",
      " |  __cmp__(...)\n",
      " |      x.__cmp__(y) <==> cmp(x,y)\n",
      " |  \n",
      " |  __contains__(...)\n",
      " |      D.__contains__(k) -> True if D has a key k, else False\n",
      " |  \n",
      " |  __delitem__(...)\n",
      " |      x.__delitem__(y) <==> del x[y]\n",
      " |  \n",
      " |  __eq__(...)\n",
      " |      x.__eq__(y) <==> x==y\n",
      " |  \n",
      " |  __ge__(...)\n",
      " |      x.__ge__(y) <==> x>=y\n",
      " |  \n",
      " |  __getattribute__(...)\n",
      " |      x.__getattribute__('name') <==> x.name\n",
      " |  \n",
      " |  __gt__(...)\n",
      " |      x.__gt__(y) <==> x>y\n",
      " |  \n",
      " |  __iter__(...)\n",
      " |      x.__iter__() <==> iter(x)\n",
      " |  \n",
      " |  __le__(...)\n",
      " |      x.__le__(y) <==> x<=y\n",
      " |  \n",
      " |  __len__(...)\n",
      " |      x.__len__() <==> len(x)\n",
      " |  \n",
      " |  __lt__(...)\n",
      " |      x.__lt__(y) <==> x<y\n",
      " |  \n",
      " |  __ne__(...)\n",
      " |      x.__ne__(y) <==> x!=y\n",
      " |  \n",
      " |  __repr__(...)\n",
      " |      x.__repr__() <==> repr(x)\n",
      " |  \n",
      " |  __sizeof__(...)\n",
      " |      D.__sizeof__() -> size of D in memory, in bytes\n",
      " |  \n",
      " |  clear(...)\n",
      " |      D.clear() -> None.  Remove all items from D.\n",
      " |  \n",
      " |  copy(...)\n",
      " |      D.copy() -> a shallow copy of D\n",
      " |  \n",
      " |  fromkeys(...)\n",
      " |      dict.fromkeys(S[,v]) -> New dict with keys from S and values equal to v.\n",
      " |      v defaults to None.\n",
      " |  \n",
      " |  get(...)\n",
      " |      D.get(k[,d]) -> D[k] if k in D, else d.  d defaults to None.\n",
      " |  \n",
      " |  has_key(...)\n",
      " |      D.has_key(k) -> True if D has a key k, else False\n",
      " |  \n",
      " |  items(...)\n",
      " |      D.items() -> list of D's (key, value) pairs, as 2-tuples\n",
      " |  \n",
      " |  iteritems(...)\n",
      " |      D.iteritems() -> an iterator over the (key, value) items of D\n",
      " |  \n",
      " |  iterkeys(...)\n",
      " |      D.iterkeys() -> an iterator over the keys of D\n",
      " |  \n",
      " |  itervalues(...)\n",
      " |      D.itervalues() -> an iterator over the values of D\n",
      " |  \n",
      " |  keys(...)\n",
      " |      D.keys() -> list of D's keys\n",
      " |  \n",
      " |  pop(...)\n",
      " |      D.pop(k[,d]) -> v, remove specified key and return the corresponding value.\n",
      " |      If key is not found, d is returned if given, otherwise KeyError is raised\n",
      " |  \n",
      " |  popitem(...)\n",
      " |      D.popitem() -> (k, v), remove and return some (key, value) pair as a\n",
      " |      2-tuple; but raise KeyError if D is empty.\n",
      " |  \n",
      " |  setdefault(...)\n",
      " |      D.setdefault(k[,d]) -> D.get(k,d), also set D[k]=d if k not in D\n",
      " |  \n",
      " |  values(...)\n",
      " |      D.values() -> list of D's values\n",
      " |  \n",
      " |  viewitems(...)\n",
      " |      D.viewitems() -> a set-like object providing a view on D's items\n",
      " |  \n",
      " |  viewkeys(...)\n",
      " |      D.viewkeys() -> a set-like object providing a view on D's keys\n",
      " |  \n",
      " |  viewvalues(...)\n",
      " |      D.viewvalues() -> an object providing a view on D's values\n",
      " |  \n",
      " |  ----------------------------------------------------------------------\n",
      " |  Data and other attributes inherited from __builtin__.dict:\n",
      " |  \n",
      " |  __hash__ = None\n",
      " |  \n",
      " |  __new__ = <built-in method __new__ of type object>\n",
      " |      T.__new__(S, ...) -> a new object with type S, a subtype of T\n",
      " |  \n",
      " |  ----------------------------------------------------------------------\n",
      " |  Methods inherited from PlotlyBase:\n",
      " |  \n",
      " |  to_graph_objs(self, **kwargs)\n",
      " |      Everything is cast into graph_objs. Here for backwards compat.\n",
      " |  \n",
      " |  validate(self)\n",
      " |      Everything is *always* validated now. keep for backwards compat.\n",
      "\n"
     ]
    }
   ],
   "source": [
    "help(go.Figure)"
   ]
  },
  {
   "cell_type": "markdown",
   "metadata": {
    "collapsed": true
   },
   "source": []
  },
  {
   "cell_type": "code",
   "execution_count": 94,
   "metadata": {
    "collapsed": false
   },
   "outputs": [
    {
     "name": "stdout",
     "output_type": "stream",
     "text": [
      "Help on class Scatter in module plotly.graph_objs.graph_objs:\n",
      "\n",
      "class Scatter(PlotlyDict)\n",
      " |  Valid attributes for 'scatter' at path [] under parents ():\n",
      " |  \n",
      " |      ['textposition', 'uid', 'stream', 'ysrc', 'hoverinfo', 'xsrc',\n",
      " |      'visible', 'marker', 'y0', 'tsrc', 'line', 'fill', 'showlegend',\n",
      " |      'error_x', 'error_y', 'rsrc', 'xaxis', 'text', 'type', 't', 'opacity',\n",
      " |      'textfont', 'legendgroup', 'textpositionsrc', 'textsrc', 'dx', 'dy',\n",
      " |      'x0', 'name', 'yaxis', 'connectgaps', 'r', 'mode', 'y', 'x',\n",
      " |      'fillcolor']\n",
      " |  \n",
      " |  Run `<scatter-object>.help('attribute')` on any of the above.\n",
      " |  '<scatter-object>' is the object at []\n",
      " |  \n",
      " |  Method resolution order:\n",
      " |      Scatter\n",
      " |      PlotlyDict\n",
      " |      __builtin__.dict\n",
      " |      PlotlyBase\n",
      " |      __builtin__.object\n",
      " |  \n",
      " |  Methods inherited from PlotlyDict:\n",
      " |  \n",
      " |  __copy__(self)\n",
      " |  \n",
      " |  __deepcopy__(self, memodict={})\n",
      " |  \n",
      " |  __dir__(self)\n",
      " |      Dynamically return the existing and possible attributes.\n",
      " |  \n",
      " |  __getattr__(self, key)\n",
      " |      Python only calls this when key is missing!\n",
      " |  \n",
      " |  __getitem__(self, key)\n",
      " |      Calls __missing__ when key is not found. May mutate object.\n",
      " |  \n",
      " |  __init__(self, *args, **kwargs)\n",
      " |  \n",
      " |  __missing__(self, key)\n",
      " |      Mimics defaultdict. This is called from __getitem__ when key DNE.\n",
      " |  \n",
      " |  __setattr__(self, key, value)\n",
      " |      Maps __setattr__ onto __setitem__\n",
      " |  \n",
      " |  __setitem__(self, key, value, _raise=True)\n",
      " |      Validates/Converts values which should be Graph Objects.\n",
      " |  \n",
      " |  force_clean(self, **kwargs)\n",
      " |      Recursively remove empty/None values.\n",
      " |  \n",
      " |  get_data(self, flatten=False)\n",
      " |      Returns the JSON for the plot with non-data elements stripped.\n",
      " |  \n",
      " |  get_ordered(self, **kwargs)\n",
      " |      Return a predictable, OrderedDict version of self.\n",
      " |  \n",
      " |  help(self, attribute=None, return_help=False)\n",
      " |      Print help string for this object or an attribute of this object.\n",
      " |      \n",
      " |      :param (str) attribute: A valid attribute string for this object.\n",
      " |      :param (bool) return_help: Return help_string instead of printing it?\n",
      " |      :return: (None|str)\n",
      " |  \n",
      " |  strip_style(self)\n",
      " |      Recursively strip style from the current representation.\n",
      " |      \n",
      " |      All PlotlyDicts and PlotlyLists are guaranteed to survive the\n",
      " |      stripping process, though they made be left empty. This is allowable.\n",
      " |      \n",
      " |      Keys that will be stripped in this process are tagged with\n",
      " |      `'type': 'style'` in graph_objs_meta.json. Note that a key tagged as\n",
      " |      style, but with an array as a value may still be considered data.\n",
      " |  \n",
      " |  to_string(self, level=0, indent=4, eol='\\n', pretty=True, max_chars=80)\n",
      " |      Returns a formatted string showing graph_obj constructors.\n",
      " |      \n",
      " |      :param (int) level: The number of indentations to start with.\n",
      " |      :param (int) indent: The indentation amount.\n",
      " |      :param (str) eol: The end of line character(s).\n",
      " |      :param (bool) pretty: Curtail long list output with a '..' ?\n",
      " |      :param (int) max_chars: The max characters per line.\n",
      " |      \n",
      " |      Example:\n",
      " |      \n",
      " |          print(obj.to_string())\n",
      " |  \n",
      " |  update(self, dict1=None, **dict2)\n",
      " |      Update current dict with dict1 and then dict2.\n",
      " |      \n",
      " |      This recursively updates the structure of the original dictionary-like\n",
      " |      object with the new entries in the second and third objects. This\n",
      " |      allows users to update with large, nested structures.\n",
      " |      \n",
      " |      Note, because the dict2 packs up all the keyword arguments, you can\n",
      " |      specify the changes as a list of keyword agruments.\n",
      " |      \n",
      " |      Examples:\n",
      " |      # update with dict\n",
      " |      obj = Layout(title='my title', xaxis=XAxis(range=[0,1], domain=[0,1]))\n",
      " |      update_dict = dict(title='new title', xaxis=dict(domain=[0,.8]))\n",
      " |      obj.update(update_dict)\n",
      " |      obj\n",
      " |      {'title': 'new title', 'xaxis': {'range': [0,1], 'domain': [0,.8]}}\n",
      " |      \n",
      " |      # update with list of keyword arguments\n",
      " |      obj = Layout(title='my title', xaxis=XAxis(range=[0,1], domain=[0,1]))\n",
      " |      obj.update(title='new title', xaxis=dict(domain=[0,.8]))\n",
      " |      obj\n",
      " |      {'title': 'new title', 'xaxis': {'range': [0,1], 'domain': [0,.8]}}\n",
      " |      \n",
      " |      This 'fully' supports duck-typing in that the call signature is\n",
      " |      identical, however this differs slightly from the normal update\n",
      " |      method provided by Python's dictionaries.\n",
      " |  \n",
      " |  ----------------------------------------------------------------------\n",
      " |  Data descriptors inherited from PlotlyDict:\n",
      " |  \n",
      " |  __dict__\n",
      " |      dictionary for instance variables (if defined)\n",
      " |  \n",
      " |  __weakref__\n",
      " |      list of weak references to the object (if defined)\n",
      " |  \n",
      " |  ----------------------------------------------------------------------\n",
      " |  Methods inherited from __builtin__.dict:\n",
      " |  \n",
      " |  __cmp__(...)\n",
      " |      x.__cmp__(y) <==> cmp(x,y)\n",
      " |  \n",
      " |  __contains__(...)\n",
      " |      D.__contains__(k) -> True if D has a key k, else False\n",
      " |  \n",
      " |  __delitem__(...)\n",
      " |      x.__delitem__(y) <==> del x[y]\n",
      " |  \n",
      " |  __eq__(...)\n",
      " |      x.__eq__(y) <==> x==y\n",
      " |  \n",
      " |  __ge__(...)\n",
      " |      x.__ge__(y) <==> x>=y\n",
      " |  \n",
      " |  __getattribute__(...)\n",
      " |      x.__getattribute__('name') <==> x.name\n",
      " |  \n",
      " |  __gt__(...)\n",
      " |      x.__gt__(y) <==> x>y\n",
      " |  \n",
      " |  __iter__(...)\n",
      " |      x.__iter__() <==> iter(x)\n",
      " |  \n",
      " |  __le__(...)\n",
      " |      x.__le__(y) <==> x<=y\n",
      " |  \n",
      " |  __len__(...)\n",
      " |      x.__len__() <==> len(x)\n",
      " |  \n",
      " |  __lt__(...)\n",
      " |      x.__lt__(y) <==> x<y\n",
      " |  \n",
      " |  __ne__(...)\n",
      " |      x.__ne__(y) <==> x!=y\n",
      " |  \n",
      " |  __repr__(...)\n",
      " |      x.__repr__() <==> repr(x)\n",
      " |  \n",
      " |  __sizeof__(...)\n",
      " |      D.__sizeof__() -> size of D in memory, in bytes\n",
      " |  \n",
      " |  clear(...)\n",
      " |      D.clear() -> None.  Remove all items from D.\n",
      " |  \n",
      " |  copy(...)\n",
      " |      D.copy() -> a shallow copy of D\n",
      " |  \n",
      " |  fromkeys(...)\n",
      " |      dict.fromkeys(S[,v]) -> New dict with keys from S and values equal to v.\n",
      " |      v defaults to None.\n",
      " |  \n",
      " |  get(...)\n",
      " |      D.get(k[,d]) -> D[k] if k in D, else d.  d defaults to None.\n",
      " |  \n",
      " |  has_key(...)\n",
      " |      D.has_key(k) -> True if D has a key k, else False\n",
      " |  \n",
      " |  items(...)\n",
      " |      D.items() -> list of D's (key, value) pairs, as 2-tuples\n",
      " |  \n",
      " |  iteritems(...)\n",
      " |      D.iteritems() -> an iterator over the (key, value) items of D\n",
      " |  \n",
      " |  iterkeys(...)\n",
      " |      D.iterkeys() -> an iterator over the keys of D\n",
      " |  \n",
      " |  itervalues(...)\n",
      " |      D.itervalues() -> an iterator over the values of D\n",
      " |  \n",
      " |  keys(...)\n",
      " |      D.keys() -> list of D's keys\n",
      " |  \n",
      " |  pop(...)\n",
      " |      D.pop(k[,d]) -> v, remove specified key and return the corresponding value.\n",
      " |      If key is not found, d is returned if given, otherwise KeyError is raised\n",
      " |  \n",
      " |  popitem(...)\n",
      " |      D.popitem() -> (k, v), remove and return some (key, value) pair as a\n",
      " |      2-tuple; but raise KeyError if D is empty.\n",
      " |  \n",
      " |  setdefault(...)\n",
      " |      D.setdefault(k[,d]) -> D.get(k,d), also set D[k]=d if k not in D\n",
      " |  \n",
      " |  values(...)\n",
      " |      D.values() -> list of D's values\n",
      " |  \n",
      " |  viewitems(...)\n",
      " |      D.viewitems() -> a set-like object providing a view on D's items\n",
      " |  \n",
      " |  viewkeys(...)\n",
      " |      D.viewkeys() -> a set-like object providing a view on D's keys\n",
      " |  \n",
      " |  viewvalues(...)\n",
      " |      D.viewvalues() -> an object providing a view on D's values\n",
      " |  \n",
      " |  ----------------------------------------------------------------------\n",
      " |  Data and other attributes inherited from __builtin__.dict:\n",
      " |  \n",
      " |  __hash__ = None\n",
      " |  \n",
      " |  __new__ = <built-in method __new__ of type object>\n",
      " |      T.__new__(S, ...) -> a new object with type S, a subtype of T\n",
      " |  \n",
      " |  ----------------------------------------------------------------------\n",
      " |  Methods inherited from PlotlyBase:\n",
      " |  \n",
      " |  to_graph_objs(self, **kwargs)\n",
      " |      Everything is cast into graph_objs. Here for backwards compat.\n",
      " |  \n",
      " |  validate(self)\n",
      " |      Everything is *always* validated now. keep for backwards compat.\n",
      "\n"
     ]
    }
   ],
   "source": [
    "help(go.Scatter)"
   ]
  },
  {
   "cell_type": "markdown",
   "metadata": {},
   "source": [
    "As you can see, calling help shows us all the attributes that the Scatter object takes as paremeters. Also because the scatter object is based off of a dictionary, you can see all the different methods that are attached to this object as well. For example, we've seen the use of the `update` method above."
   ]
  },
  {
   "cell_type": "markdown",
   "metadata": {},
   "source": [
    "Focussing more on the parameters, we can see that the objects have key-word/name validation. What this means is that it'll raise an exception that provides us some detail of where we went wrong."
   ]
  },
  {
   "cell_type": "code",
   "execution_count": 95,
   "metadata": {
    "collapsed": false
   },
   "outputs": [
    {
     "ename": "PlotlyDictKeyError",
     "evalue": "'markers' is not allowed in 'scatter'\n\nPath To Error: ['markers']\n\nValid attributes for 'scatter' at path [] under parents []:\n\n    ['textposition', 'uid', 'stream', 'ysrc', 'hoverinfo', 'xsrc',\n    'visible', 'marker', 'y0', 'tsrc', 'line', 'fill', 'showlegend',\n    'error_x', 'error_y', 'rsrc', 'xaxis', 'text', 'type', 't', 'opacity',\n    'textfont', 'legendgroup', 'textpositionsrc', 'textsrc', 'dx', 'dy',\n    'x0', 'name', 'yaxis', 'connectgaps', 'r', 'mode', 'y', 'x',\n    'fillcolor']\n\nRun `<scatter-object>.help('attribute')` on any of the above.\n'<scatter-object>' is the object at []",
     "output_type": "error",
     "traceback": [
      "\u001b[0;31m---------------------------------------------------------------------------\u001b[0m",
      "\u001b[0;31mPlotlyDictKeyError\u001b[0m                        Traceback (most recent call last)",
      "\u001b[0;32m<ipython-input-95-f20e7994a2f4>\u001b[0m in \u001b[0;36m<module>\u001b[0;34m()\u001b[0m\n\u001b[0;32m----> 1\u001b[0;31m \u001b[0mgo\u001b[0m\u001b[0;34m.\u001b[0m\u001b[0mScatter\u001b[0m\u001b[0;34m(\u001b[0m\u001b[0mmarkers\u001b[0m\u001b[0;34m=\u001b[0m\u001b[0mdict\u001b[0m\u001b[0;34m(\u001b[0m\u001b[0mcolor\u001b[0m\u001b[0;34m=\u001b[0m\u001b[0;34m'blue'\u001b[0m\u001b[0;34m)\u001b[0m\u001b[0;34m)\u001b[0m\u001b[0;34m\u001b[0m\u001b[0m\n\u001b[0m",
      "\u001b[0;32m/Library/Frameworks/Python.framework/Versions/2.7/lib/python2.7/site-packages/plotly/graph_objs/graph_objs.pyc\u001b[0m in \u001b[0;36m__init__\u001b[0;34m(self, *args, **kwargs)\u001b[0m\n\u001b[1;32m    373\u001b[0m         \u001b[0md\u001b[0m \u001b[0;34m=\u001b[0m \u001b[0;34m{\u001b[0m\u001b[0mkey\u001b[0m\u001b[0;34m:\u001b[0m \u001b[0mval\u001b[0m \u001b[0;32mfor\u001b[0m \u001b[0mkey\u001b[0m\u001b[0;34m,\u001b[0m \u001b[0mval\u001b[0m \u001b[0;32min\u001b[0m \u001b[0mdict\u001b[0m\u001b[0;34m(\u001b[0m\u001b[0;34m*\u001b[0m\u001b[0margs\u001b[0m\u001b[0;34m,\u001b[0m \u001b[0;34m**\u001b[0m\u001b[0mkwargs\u001b[0m\u001b[0;34m)\u001b[0m\u001b[0;34m.\u001b[0m\u001b[0mitems\u001b[0m\u001b[0;34m(\u001b[0m\u001b[0;34m)\u001b[0m\u001b[0;34m}\u001b[0m\u001b[0;34m\u001b[0m\u001b[0m\n\u001b[1;32m    374\u001b[0m         \u001b[0;32mfor\u001b[0m \u001b[0mkey\u001b[0m\u001b[0;34m,\u001b[0m \u001b[0mval\u001b[0m \u001b[0;32min\u001b[0m \u001b[0md\u001b[0m\u001b[0;34m.\u001b[0m\u001b[0mitems\u001b[0m\u001b[0;34m(\u001b[0m\u001b[0;34m)\u001b[0m\u001b[0;34m:\u001b[0m\u001b[0;34m\u001b[0m\u001b[0m\n\u001b[0;32m--> 375\u001b[0;31m             \u001b[0mself\u001b[0m\u001b[0;34m.\u001b[0m\u001b[0m__setitem__\u001b[0m\u001b[0;34m(\u001b[0m\u001b[0mkey\u001b[0m\u001b[0;34m,\u001b[0m \u001b[0mval\u001b[0m\u001b[0;34m,\u001b[0m \u001b[0m_raise\u001b[0m\u001b[0;34m=\u001b[0m\u001b[0m_raise\u001b[0m\u001b[0;34m)\u001b[0m\u001b[0;34m\u001b[0m\u001b[0m\n\u001b[0m\u001b[1;32m    376\u001b[0m \u001b[0;34m\u001b[0m\u001b[0m\n\u001b[1;32m    377\u001b[0m     \u001b[0;32mdef\u001b[0m \u001b[0m__dir__\u001b[0m\u001b[0;34m(\u001b[0m\u001b[0mself\u001b[0m\u001b[0;34m)\u001b[0m\u001b[0;34m:\u001b[0m\u001b[0;34m\u001b[0m\u001b[0m\n",
      "\u001b[0;32m/Library/Frameworks/Python.framework/Versions/2.7/lib/python2.7/site-packages/plotly/graph_objs/graph_objs.pyc\u001b[0m in \u001b[0;36m__setitem__\u001b[0;34m(self, key, value, _raise)\u001b[0m\n\u001b[1;32m    424\u001b[0m                 \u001b[0;32mif\u001b[0m \u001b[0m_raise\u001b[0m\u001b[0;34m:\u001b[0m\u001b[0;34m\u001b[0m\u001b[0m\n\u001b[1;32m    425\u001b[0m                     \u001b[0mpath\u001b[0m \u001b[0;34m=\u001b[0m \u001b[0mself\u001b[0m\u001b[0;34m.\u001b[0m\u001b[0m_get_path\u001b[0m\u001b[0;34m(\u001b[0m\u001b[0;34m)\u001b[0m \u001b[0;34m+\u001b[0m \u001b[0;34m(\u001b[0m\u001b[0mkey\u001b[0m\u001b[0;34m,\u001b[0m \u001b[0;34m)\u001b[0m\u001b[0;34m\u001b[0m\u001b[0m\n\u001b[0;32m--> 426\u001b[0;31m                     \u001b[0;32mraise\u001b[0m \u001b[0mexceptions\u001b[0m\u001b[0;34m.\u001b[0m\u001b[0mPlotlyDictKeyError\u001b[0m\u001b[0;34m(\u001b[0m\u001b[0mself\u001b[0m\u001b[0;34m,\u001b[0m \u001b[0mpath\u001b[0m\u001b[0;34m)\u001b[0m\u001b[0;34m\u001b[0m\u001b[0m\n\u001b[0m\u001b[1;32m    427\u001b[0m                 \u001b[0;32mreturn\u001b[0m\u001b[0;34m\u001b[0m\u001b[0m\n\u001b[1;32m    428\u001b[0m \u001b[0;34m\u001b[0m\u001b[0m\n",
      "\u001b[0;31mPlotlyDictKeyError\u001b[0m: 'markers' is not allowed in 'scatter'\n\nPath To Error: ['markers']\n\nValid attributes for 'scatter' at path [] under parents []:\n\n    ['textposition', 'uid', 'stream', 'ysrc', 'hoverinfo', 'xsrc',\n    'visible', 'marker', 'y0', 'tsrc', 'line', 'fill', 'showlegend',\n    'error_x', 'error_y', 'rsrc', 'xaxis', 'text', 'type', 't', 'opacity',\n    'textfont', 'legendgroup', 'textpositionsrc', 'textsrc', 'dx', 'dy',\n    'x0', 'name', 'yaxis', 'connectgaps', 'r', 'mode', 'y', 'x',\n    'fillcolor']\n\nRun `<scatter-object>.help('attribute')` on any of the above.\n'<scatter-object>' is the object at []"
     ]
    }
   ],
   "source": [
    "go.Scatter(markers=dict(color='blue'))"
   ]
  },
  {
   "cell_type": "markdown",
   "metadata": {},
   "source": [
    "As you can see, it tells us that `markers` is not a key in `scatter`. Instead as we browse the list, we see that what we wanted was actually `marker` (singular, without the s), which is a keyword. Thus this little feature makes for much easier debugging and correction.\n"
   ]
  },
  {
   "cell_type": "markdown",
   "metadata": {},
   "source": [
    "Now let's talk about the methods that come along with these objects. The one of most importance would be the `update` method. The difference here between the regular update method for dictionaries is that it allows for `nested updates`. \n",
    "Let me show you what that means."
   ]
  },
  {
   "cell_type": "code",
   "execution_count": null,
   "metadata": {
    "collapsed": false
   },
   "outputs": [],
   "source": [
    "#Here we have a scatter object:\n",
    "scatter_trace = go.Scatter(marker=dict(color='blue'))"
   ]
  },
  {
   "cell_type": "code",
   "execution_count": null,
   "metadata": {
    "collapsed": false
   },
   "outputs": [],
   "source": [
    "#We can add some information to it like data (x, and y), as well as update the sybmol we want the markers to be\n",
    "scatter_trace.update(dict(x=[1,2,3],y=[4,5,6], marker=dict(symbol='star')))\n",
    "scatter_trace"
   ]
  },
  {
   "cell_type": "code",
   "execution_count": null,
   "metadata": {
    "collapsed": false
   },
   "outputs": [],
   "source": [
    "figure = go.Figure(data=[scatter_trace], layout=layout)\n",
    "py.iplot(figure, filename='pyguide_5')"
   ]
  },
  {
   "cell_type": "markdown",
   "metadata": {},
   "source": [
    "Notice that we were able to add the data as well as add the extra feature for the markers. However if we let `scatter_trace` be just a standard dictionary then we will not be able to just add another feature for the marker in this way. Instead, the value for marker will be replaced with the dictionary we choose to update with."
   ]
  },
  {
   "cell_type": "code",
   "execution_count": null,
   "metadata": {
    "collapsed": false
   },
   "outputs": [],
   "source": [
    "scatter_trace = {'marker': {'color': 'blue'},\n",
    "                 'type': 'scatter',\n",
    "                 ''}"
   ]
  },
  {
   "cell_type": "markdown",
   "metadata": {
    "collapsed": true
   },
   "source": [
    "### Looking at Examples"
   ]
  },
  {
   "cell_type": "markdown",
   "metadata": {
    "collapsed": true
   },
   "source": [
    "Examples are one of the best ways to get started and get your feet wet. Through the examples you can get a good idea of what a certain type of plot is used for, and what can be possible with it. \n",
    "\n",
    "Moreover, the code in the examples are self-contained, meaning you can just copy and paste the code block and run it in your Python script or Ipython Notebook. But if you happen to run into an issue running the example, please let us know at our [Community Forums](http://community.plot.ly). By examining the code, you can further understand and experience the procedure in which Plotly plots are created. Something important to look at would be the data used in these examples; Because certain plots are only able to handle certain types of data (e.g: histograms are only useful for quantitative data), you will get an idea of the limitations and purpose of different plot types. In addition, you can see the effect certain parameters have on the data visualization and hopefully give you a sense of what's possible beyond the standard/default.\n",
    "\n",
    "It's a good place to look for what's possible in Plotly. A brief look at the page you can find sections and examples on types of plots you didn't know existed, or layout options that you had no idea were possible and within reach. Just take a look at all these guys:\n",
    "\n",
    "[![Scientific Charts](https://cloud.githubusercontent.com/assets/12302455/14262495/cd45bc98-fa83-11e5-9d4b-7a49acd37252.png)](https://plot.ly/python)\n"
   ]
  },
  {
   "cell_type": "markdown",
   "metadata": {},
   "source": [
    "What's more you can find layout options that will allow you to create plots with multiple axes and plots.\n",
    "Check this out:\n",
    "[![Layout Options](https://cloud.githubusercontent.com/assets/12302455/14262589/51792702-fa84-11e5-8e3a-b606a0211838.png)](https://plot.ly/python/#layout-options)\n",
    "\n"
   ]
  },
  {
   "cell_type": "markdown",
   "metadata": {},
   "source": [
    "As an example, say we looked at two different types of plots in the `heatmap` and the `box plots`, now equipped with the knowledge of subplots, we can easily two and two together in order to put both these on the same plotting surface (for no other reason than that we can). Let's first load the packages, and then set up the data for our heatmap trace."
   ]
  },
  {
   "cell_type": "code",
   "execution_count": 96,
   "metadata": {
    "collapsed": false
   },
   "outputs": [],
   "source": [
    "from plotly import tools\n",
    "import numpy as np\n",
    "import plotly.plotly as py\n",
    "import plotly.graph_objs as go\n",
    "\n",
    "heatmap = go.Heatmap(\n",
    "        z=[[1, 20, 30],\n",
    "           [20, 1, 60],\n",
    "           [30, 60, 1]],\n",
    "        showscale=False\n",
    "        )\n"
   ]
  },
  {
   "cell_type": "markdown",
   "metadata": {},
   "source": [
    "Next we'll set up the trace object for our wind rose chart, and note I'm just copying code from the example pages for each of these plot types."
   ]
  },
  {
   "cell_type": "code",
   "execution_count": 97,
   "metadata": {
    "collapsed": false
   },
   "outputs": [],
   "source": [
    "y0 = np.random.randn(50)\n",
    "y1 = np.random.randn(50)+1\n",
    "\n",
    "box_1 = go.Box(\n",
    "    y=y0\n",
    ")\n",
    "box_2 = go.Box(\n",
    "    y=y1\n",
    ")\n",
    "data = [heatmap, box_1, box_2]\n"
   ]
  },
  {
   "cell_type": "code",
   "execution_count": 116,
   "metadata": {
    "collapsed": false
   },
   "outputs": [
    {
     "name": "stdout",
     "output_type": "stream",
     "text": [
      "This is the format of your plot grid:\n",
      "[ (1,1) x1,y1 ]  [ (1,2) x2,y2 ]\n",
      "[ (2,1) x3,y3           -      ]\n",
      "\n"
     ]
    },
    {
     "data": {
      "text/html": [
       "<iframe id=\"igraph\" scrolling=\"no\" style=\"border:none;\" seamless=\"seamless\" src=\"https://plot.ly/~kevintest/432.embed\" height=\"600px\" width=\"600px\"></iframe>"
      ],
      "text/plain": [
       "<plotly.tools.PlotlyDisplay object>"
      ]
     },
     "execution_count": 116,
     "metadata": {},
     "output_type": "execute_result"
    }
   ],
   "source": [
    "fig = tools.make_subplots(rows=2, cols=2, specs=[[{}, {}], [{'colspan': 2}, None]],\n",
    "                          subplot_titles=('First Subplot','Second Subplot', 'Third Subplot'))\n",
    "\n",
    "fig.append_trace(box_1, 1, 1)\n",
    "fig.append_trace(box_2, 1, 2)\n",
    "fig.append_trace(heatmap, 2, 1)\n",
    "\n",
    "fig['layout'].update(height=600, width=600, title='i <3 subplots')\n",
    "\n",
    "py.iplot(fig, filename='box_heatmap1')\n"
   ]
  },
  {
   "cell_type": "markdown",
   "metadata": {},
   "source": [
    "This looks great, however we'd like for our subplots to be on the same plotting surface. So let's take a look at the dictionary representation of our figure, and customize it using what we've learned before. "
   ]
  },
  {
   "cell_type": "code",
   "execution_count": 99,
   "metadata": {
    "collapsed": false
   },
   "outputs": [
    {
     "data": {
      "text/plain": [
       "{'data': [{'type': 'box',\n",
       "   'xaxis': 'x1',\n",
       "   'y': array([-0.91373828,  1.20546486, -0.096304  ,  2.37294867,  0.75779673,\n",
       "          -0.85565264, -0.21226529, -0.15192424,  0.6870414 , -0.90325114,\n",
       "           0.77816331, -2.14903403,  0.23682143,  0.47138943, -0.26381095,\n",
       "          -1.72174484,  0.70897631,  1.19831382,  0.6537401 , -0.17682102,\n",
       "          -0.74564104, -0.97780188, -1.87756116, -0.29443922,  0.45824652,\n",
       "          -0.80421393, -0.41012153, -1.04762769,  0.42932349,  1.2102797 ,\n",
       "           0.10064935,  0.38721905, -1.69759714,  0.30360933,  0.18920693,\n",
       "           0.88070821,  0.06445955,  0.2453985 ,  0.42510519, -0.03765171,\n",
       "           0.47967058,  1.37685937, -0.72184219,  0.65808692, -0.36645823,\n",
       "           0.52223803, -0.03703202,  0.09859009,  0.46216406,  0.90797845]),\n",
       "   'yaxis': 'y1'},\n",
       "  {'type': 'box',\n",
       "   'xaxis': 'x2',\n",
       "   'y': array([ 1.39114565,  2.42361719,  0.74492841,  0.5796092 ,  0.70920041,\n",
       "           1.84970903,  1.28910587,  2.46293187,  0.46195123, -0.01825562,\n",
       "           2.60459886,  0.03786005,  1.11958395, -0.20198951, -1.09348176,\n",
       "           1.8939656 , -0.72453807,  1.45243595,  2.39173323,  1.56600484,\n",
       "           1.78916462,  1.61941803,  2.25792077,  0.89589498,  1.0673083 ,\n",
       "           1.0942342 ,  0.42048992, -0.35346571,  0.59505795,  2.17376683,\n",
       "           2.13342539,  0.59371436,  0.32297912,  0.35487172, -0.19119881,\n",
       "           1.43115097,  0.2614727 ,  0.90561162,  1.84856626,  1.49876699,\n",
       "           0.3717146 ,  0.03332516,  0.16060302, -1.63113126,  0.28004198,\n",
       "           0.59134313,  1.76526806, -0.04537056,  1.8133062 ,  0.98513375]),\n",
       "   'yaxis': 'y2'},\n",
       "  {'showscale': False,\n",
       "   'type': 'heatmap',\n",
       "   'xaxis': 'x3',\n",
       "   'yaxis': 'y3',\n",
       "   'z': [[1, 20, 30], [20, 1, 60], [30, 60, 1]]}],\n",
       " 'layout': {'annotations': [{'font': {'size': 16},\n",
       "    'showarrow': False,\n",
       "    'text': 'First Subplot',\n",
       "    'x': 0.225,\n",
       "    'xanchor': 'center',\n",
       "    'xref': 'paper',\n",
       "    'y': 1.0,\n",
       "    'yanchor': 'bottom',\n",
       "    'yref': 'paper'},\n",
       "   {'font': {'size': 16},\n",
       "    'showarrow': False,\n",
       "    'text': 'Second Subplot',\n",
       "    'x': 0.775,\n",
       "    'xanchor': 'center',\n",
       "    'xref': 'paper',\n",
       "    'y': 1.0,\n",
       "    'yanchor': 'bottom',\n",
       "    'yref': 'paper'},\n",
       "   {'font': {'size': 16},\n",
       "    'showarrow': False,\n",
       "    'text': 'Third Subplot',\n",
       "    'x': 0.5,\n",
       "    'xanchor': 'center',\n",
       "    'xref': 'paper',\n",
       "    'y': 0.375,\n",
       "    'yanchor': 'bottom',\n",
       "    'yref': 'paper'}],\n",
       "  'height': 600,\n",
       "  'title': 'i <3 subplots',\n",
       "  'width': 600,\n",
       "  'xaxis1': {'anchor': 'y1', 'domain': [0.0, 0.45]},\n",
       "  'xaxis2': {'anchor': 'y2', 'domain': [0.55, 1.0]},\n",
       "  'xaxis3': {'anchor': 'y3', 'domain': [0.0, 1.0]},\n",
       "  'yaxis1': {'anchor': 'x1', 'domain': [0.625, 1.0]},\n",
       "  'yaxis2': {'anchor': 'x2', 'domain': [0.625, 1.0]},\n",
       "  'yaxis3': {'anchor': 'x3', 'domain': [0.0, 0.375]}}}"
      ]
     },
     "execution_count": 99,
     "metadata": {},
     "output_type": "execute_result"
    }
   ],
   "source": [
    "fig"
   ]
  },
  {
   "cell_type": "markdown",
   "metadata": {},
   "source": [
    "We actually see that the second boxplot has its own xaxis and yaxis. Thus we should unify it with the same axis as the first subplot. Then from the layout section, we should remove the additional xaxis and yaxis that are drawn for us. You can perform these steps seperately to see what I mean, but in this guide, I'll just show you the result of this edit/customization."
   ]
  },
  {
   "cell_type": "code",
   "execution_count": 117,
   "metadata": {
    "collapsed": false
   },
   "outputs": [],
   "source": [
    "fig.data[1].yaxis = 'y1'\n",
    "fig.data[1].xaxis = 'x1'\n",
    "del fig.layout['xaxis2']\n",
    "del fig.layout['yaxis2']\n"
   ]
  },
  {
   "cell_type": "markdown",
   "metadata": {},
   "source": [
    "Now we still have to remove the annotation for the `Second Subplot` title, asell as the `First Subplot` title, and then extend the range of xaxis1 to the entire plotting surface."
   ]
  },
  {
   "cell_type": "code",
   "execution_count": 118,
   "metadata": {
    "collapsed": false
   },
   "outputs": [],
   "source": [
    "del fig.layout.annotations[0]   #deletes annotation for `First Subplot`\n",
    "del fig.layout.annotations[0]   #deletes annotation for `Second Subplot` because of shift\n",
    "fig.layout.xaxis1.domain = [0.0, 1]"
   ]
  },
  {
   "cell_type": "markdown",
   "metadata": {},
   "source": [
    "And voila! We just put together some examples that we've never seen before, and customized out plot using what we learned throughout the guide!"
   ]
  },
  {
   "cell_type": "code",
   "execution_count": 122,
   "metadata": {
    "collapsed": false
   },
   "outputs": [
    {
     "data": {
      "text/html": [
       "<iframe id=\"igraph\" scrolling=\"no\" style=\"border:none;\" seamless=\"seamless\" src=\"https://plot.ly/~kevintest/434.embed\" height=\"600px\" width=\"600px\"></iframe>"
      ],
      "text/plain": [
       "<plotly.tools.PlotlyDisplay object>"
      ]
     },
     "execution_count": 122,
     "metadata": {},
     "output_type": "execute_result"
    }
   ],
   "source": [
    "py.iplot(fig, filename='box-heatmap-fixed')"
   ]
  },
  {
   "cell_type": "markdown",
   "metadata": {
    "collapsed": true
   },
   "source": [
    "### Using the Reference Page"
   ]
  },
  {
   "cell_type": "markdown",
   "metadata": {
    "collapsed": true
   },
   "source": [
    "At this point you may have a good idea of how you want to visualize your data, and which type of plot you would like to use. You've taken a look at some examples of this plot type, but there are still some details that you would like to add or change. Now is the time for you to check out the **[Reference Page!](https://plot.ly/python/reference/)** The reference page details all the parameters that can be set for every type of plot that is possible in Plotly (ie: all the trace objects). In addition it also provides details on the possible parameters that are available to change in the `Layout` object as well.\n",
    "\n",
    "![something](https://cloud.githubusercontent.com/assets/12302455/14263600/681e8c54-fa89-11e5-8467-99e78e4f9135.png)\n",
    "\n",
    "When you first load the page you will see a menu on the left which is segregated into `Plot Objects` and `Layout`. This exemplifies the two components of every Plotly figure. So for example if you knew you wanted to change something related to the visualization of the data, then you would look at the first section. If instead you were interested in a general aesthetic feature of the graph then the Layout will probably be your best option.\n",
    "\n",
    "Now for example, if you decided to create a scatter plot, then you would choose `Scatter` under `Plot Objects`, and that will take you to the the section for `Scatter`. On your immediate right you will be able to see a breakdown of the Scatter section, which includes all the parameters and sub-parameters at your disposal. \n"
   ]
  },
  {
   "cell_type": "markdown",
   "metadata": {},
   "source": [
    "### Issues and Questions"
   ]
  },
  {
   "cell_type": "markdown",
   "metadata": {},
   "source": [
    "So you've developed a better understanding of Plotly now, and you're starting to create cooler plots and visualizations for different projects you're working on. If you ever happen to get stuck with certain use cases or features in Plotly, you can let us know at our **[Community Forums](http://community.plot.ly)**. \n",
    "![Community Support](https://cloud.githubusercontent.com/assets/12302455/14265774/71a43b4a-fa91-11e5-86f8-f069037c74ea.png)\n",
    "Moreover if you sign up for a Pro Plan, we also offer e-mail and intercom support as well. Finally if you think you've caught a bug or if something just doesn't function the way it should, you can create an issue on our **[Github Repo](https://github.com/plotly/plotly.py/issues)**."
   ]
  },
  {
   "cell_type": "markdown",
   "metadata": {},
   "source": []
  },
  {
   "cell_type": "code",
   "execution_count": 123,
   "metadata": {
    "collapsed": false
   },
   "outputs": [
    {
     "data": {
      "text/html": [
       "<link href=\"//fonts.googleapis.com/css?family=Open+Sans:600,400,300,200|Inconsolata|Ubuntu+Mono:400,700\" rel=\"stylesheet\" type=\"text/css\" />"
      ],
      "text/plain": [
       "<IPython.core.display.HTML object>"
      ]
     },
     "metadata": {},
     "output_type": "display_data"
    },
    {
     "data": {
      "text/html": [
       "<link rel=\"stylesheet\" type=\"text/css\" href=\"http://help.plot.ly/documentation/all_static/css/ipython-notebook-custom.css\">"
      ],
      "text/plain": [
       "<IPython.core.display.HTML object>"
      ]
     },
     "metadata": {},
     "output_type": "display_data"
    },
    {
     "name": "stdout",
     "output_type": "stream",
     "text": [
      "Requirement already up-to-date: publisher in /Library/Frameworks/Python.framework/Versions/2.7/lib/python2.7/site-packages\r\n"
     ]
    }
   ],
   "source": [
    "from IPython.display import display, HTML\n",
    "\n",
    "display(HTML('<link href=\"//fonts.googleapis.com/css?family=Open+Sans:600,400,300,200|Inconsolata|Ubuntu+Mono:400,700\" rel=\"stylesheet\" type=\"text/css\" />'))\n",
    "display(HTML('<link rel=\"stylesheet\" type=\"text/css\" href=\"http://help.plot.ly/documentation/all_static/css/ipython-notebook-custom.css\">'))\n",
    "\n",
    "! pip install publisher --upgrade\n",
    "import publisher\n",
    "publisher.publish(\n",
    "    'new_py_guide.ipynb', 'python/user-guide//', 'Plotly User Guide for Python',\n",
    "    'Plotly User Guide for Python',\n",
    "    name = 'Plotly User Guide',\n",
    "    thumbnail='', language='python',\n",
    "    layout='user-guide', has_thumbnail='false') "
   ]
  },
  {
   "cell_type": "code",
   "execution_count": null,
   "metadata": {
    "collapsed": true
   },
   "outputs": [],
   "source": []
  }
 ],
 "metadata": {
  "kernelspec": {
   "display_name": "Python 2",
   "language": "python",
   "name": "python2"
  },
  "language_info": {
   "codemirror_mode": {
    "name": "ipython",
    "version": 2
   },
   "file_extension": ".py",
   "mimetype": "text/x-python",
   "name": "python",
   "nbconvert_exporter": "python",
   "pygments_lexer": "ipython2",
   "version": "2.7.9"
  }
 },
 "nbformat": 4,
 "nbformat_minor": 0
}
