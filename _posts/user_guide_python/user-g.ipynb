{
 "cells": [
  {
   "cell_type": "markdown",
   "metadata": {},
   "source": [
    "# Plotly for Python User Guide "
   ]
  },
  {
   "cell_type": "markdown",
   "metadata": {},
   "source": [
    "  "
   ]
  },
  {
   "cell_type": "markdown",
   "metadata": {
    "collapsed": false
   },
   "source": [
    "<iframe width=\"900\" height=\"800\" frameborder=\"0\" scrolling=\"no\" src=\"https://plot.ly/~kevintest/21.embed\"></iframe>"
   ]
  },
  {
   "cell_type": "markdown",
   "metadata": {
    "collapsed": true
   },
   "source": [
    "\n",
    "This user guide will provide an in-depth overview of the steps required to get your first `Plotly` graph up and running, as well as more specific and thorough guides on a few of our most popular graph types. Hopefully by the end of this user guide you will have a good idea of how Plotly graphs are defined and constructed, and be on your way to creating amazing data visualizations of your own."
   ]
  },
  {
   "cell_type": "markdown",
   "metadata": {},
   "source": [
    "### What is the Python API for Plotly?"
   ]
  },
  {
   "cell_type": "markdown",
   "metadata": {},
   "source": [
    "      \n",
    "As you may know, Plotly is software written to enable users to easily create beautiful interactive plots and graphs to visualize data. All plots are generated using our [javascript library](https://plot.ly/javascript), but we have multiple API's that will allow us to create these plots in our preferred language. Thus the purpose of the Python API is to allow users to generate these plots within a Python environment, including IPython Notebooks!"
   ]
  },
  {
   "cell_type": "markdown",
   "metadata": {},
   "source": [
    "### User Guide Sections: "
   ]
  },
  {
   "cell_type": "markdown",
   "metadata": {},
   "source": [
    "    \n",
    "The user guide is split into the following sections:\n",
    "\n",
    "- Section 0. [Getting Started with Plotly](https://plot.ly/python/getting_started)\n",
    "- Section 1. [Line and Scatter Plots](https://plot.ly/python/line-and-scatter-plots-tutorial)\n",
    "- Section 2. [Bar Charts](https://plot.ly/python/bar-charts-tutorial)\n",
    "- Section 3. [Bubble Charts](https://plot.ly/python/bubble-charts-tutorial)\n",
    "- Section 4. [Histograms and Box Plots](https://plot.ly/python/histograms-and-box-plots-tutorial)\n",
    "- Section 5. [Heatmaps, Contours and 2D Histograms](https://plot.ly/python/heatmaps-contours-and-2dhistograms-tutorial)\n",
    "- Section 6. [Converting Matplotlib Figures to Plotly](https://plot.ly/python/matplotlib-to-plotly-tutorial)\n",
    "- Section 7. [Streaming API](https://plot.ly/python/intro_streaming)\n",
    "- [Appendix A: Getting Started with Python](https://plot.ly/python/python-tutorial)"
   ]
  },
  {
   "cell_type": "markdown",
   "metadata": {
    "collapsed": false
   },
   "source": [
    "### Want to know what's going on at Plotly? \n",
    "\n",
    "* Follow us on twitter: \n",
    "[@plotlygraphs](https://twitter.com/plotlygraphs)\n",
    "\n",
    "### Issues or suggestions for the user guide? \n",
    "\n",
    "* Let us know at: [Plotly Community Support](http://community.plot.ly)"
   ]
  },
  {
   "cell_type": "code",
   "execution_count": 4,
   "metadata": {
    "collapsed": false
   },
   "outputs": [
    {
     "data": {
      "text/html": [
       "<link href=\"//fonts.googleapis.com/css?family=Open+Sans:600,400,300,200|Inconsolata|Ubuntu+Mono:400,700\" rel=\"stylesheet\" type=\"text/css\" />"
      ],
      "text/plain": [
       "<IPython.core.display.HTML object>"
      ]
     },
     "metadata": {},
     "output_type": "display_data"
    },
    {
     "data": {
      "text/html": [
       "<link rel=\"stylesheet\" type=\"text/css\" href=\"http://help.plot.ly/documentation/all_static/css/ipython-notebook-custom.css\">"
      ],
      "text/plain": [
       "<IPython.core.display.HTML object>"
      ]
     },
     "metadata": {},
     "output_type": "display_data"
    },
    {
     "name": "stdout",
     "output_type": "stream",
     "text": [
      "Requirement already up-to-date: publisher in /Library/Frameworks/Python.framework/Versions/2.7/lib/python2.7/site-packages\r\n"
     ]
    }
   ],
   "source": [
    "from IPython.display import display, HTML\n",
    "\n",
    "display(HTML('<link href=\"//fonts.googleapis.com/css?family=Open+Sans:600,400,300,200|Inconsolata|Ubuntu+Mono:400,700\" rel=\"stylesheet\" type=\"text/css\" />'))\n",
    "display(HTML('<link rel=\"stylesheet\" type=\"text/css\" href=\"http://help.plot.ly/documentation/all_static/css/ipython-notebook-custom.css\">'))\n",
    "\n",
    "! pip install publisher --upgrade\n",
    "import publisher\n",
    "publisher.publish(\n",
    "    'user-g.ipynb', 'python/userguide//', 'Getting Started Plotly for Python',\n",
    "    'Getting Started with Plotly for Python',\n",
    "    title = 'Getting Started Plotly for Python',\n",
    "    thumbnail='', language='python',\n",
    "    layout='user-guide', has_thumbnail='false') "
   ]
  },
  {
   "cell_type": "code",
   "execution_count": null,
   "metadata": {
    "collapsed": true
   },
   "outputs": [],
   "source": []
  }
 ],
 "metadata": {
  "kernelspec": {
   "display_name": "Python 2",
   "language": "python",
   "name": "python2"
  },
  "language_info": {
   "codemirror_mode": {
    "name": "ipython",
    "version": 2
   },
   "file_extension": ".py",
   "mimetype": "text/x-python",
   "name": "python",
   "nbconvert_exporter": "python",
   "pygments_lexer": "ipython2",
   "version": "2.7.9"
  }
 },
 "nbformat": 4,
 "nbformat_minor": 0
}
