{
 "cells": [
  {
   "cell_type": "markdown",
   "metadata": {},
   "source": [
    "# Analyze Data Online: Predicting Credit Risk with Excel"
   ]
  },
  {
   "cell_type": "markdown",
   "metadata": {},
   "source": [
    "## Comparing models using Plotly's Excel Plugin"
   ]
  },
  {
   "cell_type": "markdown",
   "metadata": {},
   "source": [
    "The objective of this notebook series is to simulate an analytical workflow between several team members using [Python](https://www.python.org/), [R](http://www.r-project.org/), and [Excel](https://products.office.com/en-us/excel). The data for this notebook is part of a [Kaggle competition](https://www.kaggle.com/c/GiveMeSomeCredit) released three years ago. The objective is to predict the probabilty of credit & loan default from a large set of real customer data. The evaluate metric used in the competition was [AUC](https://www.kaggle.com/wiki/AreaUnderCurve). A perfect model will score an AUC of 1, while random guessing will score an AUC of around 0.5, a meager 50% chance. \n",
    "\n",
    "> This competition requires participants to improve on the state of the art in credit scoring, by predicting the probability that somebody will experience financial distress in the next two years. The goal of this competition is to build a model that borrowers can use to help make the best financial decisions. Historical data are provided on 250,000 borrowers and the prize pool is $5,000.\n",
    "\n",
    "The top score for the competition was 0.869558, which we will try to match! However, it will be challenging since some of the data from the competition is no longer available.\n",
    "\n",
    "[Plotly](https://plot.ly) is a platform for making interactive graphs with R, Python, MATLAB, and Excel. In this notebook series, [Plotly](https://plot.ly) can serve as a sharing platform for data, visualizations, and results between analysts, management, and executives on Plotly’s free public cloud. For collaboration and sensitive data, you can run Plotly [on your own servers](https://plot.ly/product/enterprise/ ).\n",
    "\n",
    "**This is the third notebook in the series**\n",
    "\n",
    "\n",
    "- The [first notebook]() explores, cleans, and generates new features for the data.\n",
    "- The [second notebook]() tests and optimizes the [Random Forest](http://scikit-learn.org/stable/modules/generated/sklearn.ensemble.RandomForestClassifier.html) model using [Plotly](https://plot.ly) and Python.\n",
    "- The [third notebook]() compares the different algorithms using [Plotly's](https://plot.ly) Excel interface.\n",
    "<hr>\n",
    "\n",
    "Need help converting [Plotly](https://plot.ly) graphs from R or Python?\n",
    "- [R](https://plot.ly/r/user-guide/)\n",
    "- [Python](https://plot.ly/python/matplotlib-to-plotly-tutorial/)\n",
    "\n",
    "For this code to run on your machine, you will need to:\n",
    "\n",
    "- Install some Python libraries: Running `sudo pip install <package_name>` from your terminal will install python libraries.\n",
    "\n",
    "- Register an account with [Plotly](https://plot.ly/feed/) to receive your API key. \n",
    "\n",
    "- Download the data for this notebook on the [kaggle website](https://www.kaggle.com/c/GiveMeSomeCredit).\n",
    "\n",
    "- Use this link to [download](https://plot.ly/product/excel-add-in/) the Excel plugin."
   ]
  },
  {
   "cell_type": "markdown",
   "metadata": {},
   "source": [
    "<h1 id=\"tocheading\">Table of Contents</h1>\n",
    "<div id=\"toc\"></div>\n",
    "<script src=\"https://kmahelona.github.io/ipython_notebook_goodies/ipython_notebook_toc.js\"></script>"
   ]
  },
  {
   "cell_type": "markdown",
   "metadata": {},
   "source": [
    "# Plotting the model results in Excel"
   ]
  },
  {
   "cell_type": "markdown",
   "metadata": {},
   "source": [
    "This notebook will walk through creating interactive graphs in Excel using [Plotly's Excel plugin](https://plot.ly/product/excel-add-in/). In the previous notebooks we pre-processed the data and created over 40 new features, then modelled the data using a [decision tree](https://en.wikipedia.org/wiki/Decision_tree) and [random forest](https://en.wikipedia.org/wiki/Random_forest). Here we will take the results from these models and plot the:\n",
    "\n",
    "1. [AUC](http://cling.csd.uwo.ca/papers/ijcai03.pdf) scores\n",
    "2. Comparisons of training time\n",
    "3. Comparisons of feature importances\n",
    "\n",
    "Remember, you can always upload Excel files to Plotly for free graphing and sharing. See Plotly's [Excel Tutorials](https://plot.ly/create-charts-in-excel-with-plotly/) for examples and sample data.\n",
    "\n",
    "<hr>"
   ]
  },
  {
   "cell_type": "code",
   "execution_count": 3,
   "metadata": {
    "collapsed": true
   },
   "outputs": [],
   "source": [
    "import pandas as pd\n",
    "\n",
    "# Useful Python/Plotly tools\n",
    "import plotly.tools as tls"
   ]
  },
  {
   "cell_type": "markdown",
   "metadata": {},
   "source": [
    "Here is the original data from the Kaggle competition."
   ]
  },
  {
   "cell_type": "code",
   "execution_count": 4,
   "metadata": {
    "collapsed": false
   },
   "outputs": [
    {
     "data": {
      "text/html": [
       "<div style=\"max-height:1000px;max-width:1500px;overflow:auto;\">\n",
       "<table border=\"1\" class=\"dataframe\">\n",
       "  <thead>\n",
       "    <tr style=\"text-align: right;\">\n",
       "      <th></th>\n",
       "      <th>Variable Name</th>\n",
       "      <th>Description</th>\n",
       "    </tr>\n",
       "  </thead>\n",
       "  <tbody>\n",
       "    <tr>\n",
       "      <th>0</th>\n",
       "      <td>SeriousDlqin2yrs</td>\n",
       "      <td>Person experienced 90 days past due delinquenc...</td>\n",
       "    </tr>\n",
       "    <tr>\n",
       "      <th>1</th>\n",
       "      <td>RevolvingUtilizationOfUnsecuredLines</td>\n",
       "      <td>Total balance on credit cards and personal lin...</td>\n",
       "    </tr>\n",
       "    <tr>\n",
       "      <th>2</th>\n",
       "      <td>age</td>\n",
       "      <td>Age of borrower in years</td>\n",
       "    </tr>\n",
       "    <tr>\n",
       "      <th>3</th>\n",
       "      <td>NumberOfTime30-59DaysPastDueNotWorse</td>\n",
       "      <td>Number of times borrower has been 30-59 days p...</td>\n",
       "    </tr>\n",
       "    <tr>\n",
       "      <th>4</th>\n",
       "      <td>DebtRatio</td>\n",
       "      <td>Monthly debt payments, alimony,living costs di...</td>\n",
       "    </tr>\n",
       "    <tr>\n",
       "      <th>5</th>\n",
       "      <td>MonthlyIncome</td>\n",
       "      <td>Monthly income</td>\n",
       "    </tr>\n",
       "    <tr>\n",
       "      <th>6</th>\n",
       "      <td>NumberOfOpenCreditLinesAndLoans</td>\n",
       "      <td>Number of Open loans (installment like car loa...</td>\n",
       "    </tr>\n",
       "    <tr>\n",
       "      <th>7</th>\n",
       "      <td>NumberOfTimes90DaysLate</td>\n",
       "      <td>Number of times borrower has been 90 days or m...</td>\n",
       "    </tr>\n",
       "    <tr>\n",
       "      <th>8</th>\n",
       "      <td>NumberRealEstateLoansOrLines</td>\n",
       "      <td>Number of mortgage and real estate loans inclu...</td>\n",
       "    </tr>\n",
       "    <tr>\n",
       "      <th>9</th>\n",
       "      <td>NumberOfTime60-89DaysPastDueNotWorse</td>\n",
       "      <td>Number of times borrower has been 60-89 days p...</td>\n",
       "    </tr>\n",
       "    <tr>\n",
       "      <th>10</th>\n",
       "      <td>NumberOfDependents</td>\n",
       "      <td>Number of dependents in family excluding thems...</td>\n",
       "    </tr>\n",
       "  </tbody>\n",
       "</table>\n",
       "</div>"
      ],
      "text/plain": [
       "                           Variable Name  \\\n",
       "0                       SeriousDlqin2yrs   \n",
       "1   RevolvingUtilizationOfUnsecuredLines   \n",
       "2                                    age   \n",
       "3   NumberOfTime30-59DaysPastDueNotWorse   \n",
       "4                              DebtRatio   \n",
       "5                          MonthlyIncome   \n",
       "6        NumberOfOpenCreditLinesAndLoans   \n",
       "7                NumberOfTimes90DaysLate   \n",
       "8           NumberRealEstateLoansOrLines   \n",
       "9   NumberOfTime60-89DaysPastDueNotWorse   \n",
       "10                    NumberOfDependents   \n",
       "\n",
       "                                          Description  \n",
       "0   Person experienced 90 days past due delinquenc...  \n",
       "1   Total balance on credit cards and personal lin...  \n",
       "2                            Age of borrower in years  \n",
       "3   Number of times borrower has been 30-59 days p...  \n",
       "4   Monthly debt payments, alimony,living costs di...  \n",
       "5                                      Monthly income  \n",
       "6   Number of Open loans (installment like car loa...  \n",
       "7   Number of times borrower has been 90 days or m...  \n",
       "8   Number of mortgage and real estate loans inclu...  \n",
       "9   Number of times borrower has been 60-89 days p...  \n",
       "10  Number of dependents in family excluding thems...  "
      ]
     },
     "execution_count": 4,
     "metadata": {},
     "output_type": "execute_result"
    }
   ],
   "source": [
    "# Reminder of original feature definitions.\n",
    "data_dict = pd.read_csv('https://github.com/plotly/datasets/raw/master/data_dictionary.csv')\n",
    "data_dict.iloc[: , 0:2]"
   ]
  },
  {
   "cell_type": "markdown",
   "metadata": {},
   "source": [
    "Here is the data after pre-processing and feature engineering. Please check out the [first notebook]() to see how we got here."
   ]
  },
  {
   "cell_type": "code",
   "execution_count": 5,
   "metadata": {
    "collapsed": false
   },
   "outputs": [
    {
     "data": {
      "text/html": [
       "<div style=\"max-height:1000px;max-width:1500px;overflow:auto;\">\n",
       "<table border=\"1\" class=\"dataframe\">\n",
       "  <thead>\n",
       "    <tr style=\"text-align: right;\">\n",
       "      <th></th>\n",
       "      <th>0</th>\n",
       "    </tr>\n",
       "  </thead>\n",
       "  <tbody>\n",
       "    <tr>\n",
       "      <th>0</th>\n",
       "      <td>NumberOfOpenCreditLinesAndLoans</td>\n",
       "    </tr>\n",
       "    <tr>\n",
       "      <th>1</th>\n",
       "      <td>log_age</td>\n",
       "    </tr>\n",
       "    <tr>\n",
       "      <th>2</th>\n",
       "      <td>log_income</td>\n",
       "    </tr>\n",
       "    <tr>\n",
       "      <th>3</th>\n",
       "      <td>log_income_person</td>\n",
       "    </tr>\n",
       "    <tr>\n",
       "      <th>4</th>\n",
       "      <td>log_income_age</td>\n",
       "    </tr>\n",
       "    <tr>\n",
       "      <th>5</th>\n",
       "      <td>UnknownIncomeDebtRatio</td>\n",
       "    </tr>\n",
       "    <tr>\n",
       "      <th>6</th>\n",
       "      <td>log_Debt</td>\n",
       "    </tr>\n",
       "    <tr>\n",
       "      <th>7</th>\n",
       "      <td>log_DebtRatio</td>\n",
       "    </tr>\n",
       "    <tr>\n",
       "      <th>8</th>\n",
       "      <td>log_HouseholdSize</td>\n",
       "    </tr>\n",
       "    <tr>\n",
       "      <th>9</th>\n",
       "      <td>log_NumberOfTimes90DaysLate</td>\n",
       "    </tr>\n",
       "    <tr>\n",
       "      <th>10</th>\n",
       "      <td>log_NumberOfTime60.89DaysPastDueNotWorse</td>\n",
       "    </tr>\n",
       "    <tr>\n",
       "      <th>11</th>\n",
       "      <td>log_NumberOfTime30.59DaysPastDueNotWorse</td>\n",
       "    </tr>\n",
       "    <tr>\n",
       "      <th>12</th>\n",
       "      <td>NumberOfTimesPastDue</td>\n",
       "    </tr>\n",
       "    <tr>\n",
       "      <th>13</th>\n",
       "      <td>NumberOfTime30.89DaysPastDueNotWorse</td>\n",
       "    </tr>\n",
       "    <tr>\n",
       "      <th>14</th>\n",
       "      <td>Extreme_RevolvingUtilization</td>\n",
       "    </tr>\n",
       "    <tr>\n",
       "      <th>15</th>\n",
       "      <td>log_RevolvingUtilizationOfUnsecuredLines</td>\n",
       "    </tr>\n",
       "    <tr>\n",
       "      <th>16</th>\n",
       "      <td>log_NumberOfOpenCreditLinesAndLoans</td>\n",
       "    </tr>\n",
       "    <tr>\n",
       "      <th>17</th>\n",
       "      <td>log_NumberOfOpenCreditLinesAndLoansPerPerson</td>\n",
       "    </tr>\n",
       "    <tr>\n",
       "      <th>18</th>\n",
       "      <td>DelinquenciesPerLine</td>\n",
       "    </tr>\n",
       "    <tr>\n",
       "      <th>19</th>\n",
       "      <td>MajorDelinquenciesPerLine</td>\n",
       "    </tr>\n",
       "    <tr>\n",
       "      <th>20</th>\n",
       "      <td>MinorDelinquenciesPerLine</td>\n",
       "    </tr>\n",
       "    <tr>\n",
       "      <th>21</th>\n",
       "      <td>RevolvingLines</td>\n",
       "    </tr>\n",
       "    <tr>\n",
       "      <th>22</th>\n",
       "      <td>RealEstateLoansPerPerson</td>\n",
       "    </tr>\n",
       "    <tr>\n",
       "      <th>23</th>\n",
       "      <td>log_NumberRealEstateLoansOrLines</td>\n",
       "    </tr>\n",
       "    <tr>\n",
       "      <th>24</th>\n",
       "      <td>DisposableIncome</td>\n",
       "    </tr>\n",
       "    <tr>\n",
       "      <th>25</th>\n",
       "      <td>SeriousDlqin2yrs</td>\n",
       "    </tr>\n",
       "    <tr>\n",
       "      <th>26</th>\n",
       "      <td>UnknownIncome</td>\n",
       "    </tr>\n",
       "    <tr>\n",
       "      <th>27</th>\n",
       "      <td>NoIncome</td>\n",
       "    </tr>\n",
       "    <tr>\n",
       "      <th>28</th>\n",
       "      <td>Income_100</td>\n",
       "    </tr>\n",
       "    <tr>\n",
       "      <th>29</th>\n",
       "      <td>Income_1000</td>\n",
       "    </tr>\n",
       "    <tr>\n",
       "      <th>30</th>\n",
       "      <td>Income_5000</td>\n",
       "    </tr>\n",
       "    <tr>\n",
       "      <th>31</th>\n",
       "      <td>ZeroDebtRatio</td>\n",
       "    </tr>\n",
       "    <tr>\n",
       "      <th>32</th>\n",
       "      <td>DTIOver33</td>\n",
       "    </tr>\n",
       "    <tr>\n",
       "      <th>33</th>\n",
       "      <td>DTIOver43</td>\n",
       "    </tr>\n",
       "    <tr>\n",
       "      <th>34</th>\n",
       "      <td>UnknownNumberOfDependents</td>\n",
       "    </tr>\n",
       "    <tr>\n",
       "      <th>35</th>\n",
       "      <td>NoDependents</td>\n",
       "    </tr>\n",
       "    <tr>\n",
       "      <th>36</th>\n",
       "      <td>Has.Dependents</td>\n",
       "    </tr>\n",
       "    <tr>\n",
       "      <th>37</th>\n",
       "      <td>NumberOfTimes90DaysLateLarge</td>\n",
       "    </tr>\n",
       "    <tr>\n",
       "      <th>38</th>\n",
       "      <td>NumberOfTimes90DaysLate96</td>\n",
       "    </tr>\n",
       "    <tr>\n",
       "      <th>39</th>\n",
       "      <td>NumberOfTimes90DaysLate98</td>\n",
       "    </tr>\n",
       "    <tr>\n",
       "      <th>40</th>\n",
       "      <td>Never90DaysLate</td>\n",
       "    </tr>\n",
       "    <tr>\n",
       "      <th>41</th>\n",
       "      <td>NumberOfTime60.89DaysPastDueNotWorseLarge</td>\n",
       "    </tr>\n",
       "    <tr>\n",
       "      <th>42</th>\n",
       "      <td>NumberOfTime60.89DaysPastDueNotWorse96</td>\n",
       "    </tr>\n",
       "    <tr>\n",
       "      <th>43</th>\n",
       "      <td>NumberOfTime60.89DaysPastDueNotWorse98</td>\n",
       "    </tr>\n",
       "    <tr>\n",
       "      <th>44</th>\n",
       "      <td>Never60.89DaysPastDueNotWorse</td>\n",
       "    </tr>\n",
       "    <tr>\n",
       "      <th>45</th>\n",
       "      <td>NumberOfTime30.59DaysPastDueNotWorseLarge</td>\n",
       "    </tr>\n",
       "    <tr>\n",
       "      <th>46</th>\n",
       "      <td>NumberOfTime30.59DaysPastDueNotWorse96</td>\n",
       "    </tr>\n",
       "    <tr>\n",
       "      <th>47</th>\n",
       "      <td>NumberOfTime30.59DaysPastDueNotWorse98</td>\n",
       "    </tr>\n",
       "    <tr>\n",
       "      <th>48</th>\n",
       "      <td>Never30.59DaysPastDueNotWorse</td>\n",
       "    </tr>\n",
       "    <tr>\n",
       "      <th>49</th>\n",
       "      <td>NeverPastDue</td>\n",
       "    </tr>\n",
       "    <tr>\n",
       "      <th>50</th>\n",
       "      <td>Never30.89DaysPastDueNotWorse</td>\n",
       "    </tr>\n",
       "    <tr>\n",
       "      <th>51</th>\n",
       "      <td>ZeroRevolvingUtilization</td>\n",
       "    </tr>\n",
       "    <tr>\n",
       "      <th>52</th>\n",
       "      <td>Weird0999Utilization</td>\n",
       "    </tr>\n",
       "    <tr>\n",
       "      <th>53</th>\n",
       "      <td>FullUtilization</td>\n",
       "    </tr>\n",
       "    <tr>\n",
       "      <th>54</th>\n",
       "      <td>ExcessUtilization</td>\n",
       "    </tr>\n",
       "    <tr>\n",
       "      <th>55</th>\n",
       "      <td>AnyOpenCreditLinesOrLoans</td>\n",
       "    </tr>\n",
       "    <tr>\n",
       "      <th>56</th>\n",
       "      <td>HasRevolvingLines</td>\n",
       "    </tr>\n",
       "    <tr>\n",
       "      <th>57</th>\n",
       "      <td>HasRealEstateLoans</td>\n",
       "    </tr>\n",
       "    <tr>\n",
       "      <th>58</th>\n",
       "      <td>HasMultipleRealEstateLoans</td>\n",
       "    </tr>\n",
       "    <tr>\n",
       "      <th>59</th>\n",
       "      <td>EligibleSS</td>\n",
       "    </tr>\n",
       "  </tbody>\n",
       "</table>\n",
       "</div>"
      ],
      "text/plain": [
       "                                               0\n",
       "0                NumberOfOpenCreditLinesAndLoans\n",
       "1                                        log_age\n",
       "2                                     log_income\n",
       "3                              log_income_person\n",
       "4                                 log_income_age\n",
       "5                         UnknownIncomeDebtRatio\n",
       "6                                       log_Debt\n",
       "7                                  log_DebtRatio\n",
       "8                              log_HouseholdSize\n",
       "9                    log_NumberOfTimes90DaysLate\n",
       "10      log_NumberOfTime60.89DaysPastDueNotWorse\n",
       "11      log_NumberOfTime30.59DaysPastDueNotWorse\n",
       "12                          NumberOfTimesPastDue\n",
       "13          NumberOfTime30.89DaysPastDueNotWorse\n",
       "14                  Extreme_RevolvingUtilization\n",
       "15      log_RevolvingUtilizationOfUnsecuredLines\n",
       "16           log_NumberOfOpenCreditLinesAndLoans\n",
       "17  log_NumberOfOpenCreditLinesAndLoansPerPerson\n",
       "18                          DelinquenciesPerLine\n",
       "19                     MajorDelinquenciesPerLine\n",
       "20                     MinorDelinquenciesPerLine\n",
       "21                                RevolvingLines\n",
       "22                      RealEstateLoansPerPerson\n",
       "23              log_NumberRealEstateLoansOrLines\n",
       "24                              DisposableIncome\n",
       "25                              SeriousDlqin2yrs\n",
       "26                                 UnknownIncome\n",
       "27                                      NoIncome\n",
       "28                                    Income_100\n",
       "29                                   Income_1000\n",
       "30                                   Income_5000\n",
       "31                                 ZeroDebtRatio\n",
       "32                                     DTIOver33\n",
       "33                                     DTIOver43\n",
       "34                     UnknownNumberOfDependents\n",
       "35                                  NoDependents\n",
       "36                                Has.Dependents\n",
       "37                  NumberOfTimes90DaysLateLarge\n",
       "38                     NumberOfTimes90DaysLate96\n",
       "39                     NumberOfTimes90DaysLate98\n",
       "40                               Never90DaysLate\n",
       "41     NumberOfTime60.89DaysPastDueNotWorseLarge\n",
       "42        NumberOfTime60.89DaysPastDueNotWorse96\n",
       "43        NumberOfTime60.89DaysPastDueNotWorse98\n",
       "44                 Never60.89DaysPastDueNotWorse\n",
       "45     NumberOfTime30.59DaysPastDueNotWorseLarge\n",
       "46        NumberOfTime30.59DaysPastDueNotWorse96\n",
       "47        NumberOfTime30.59DaysPastDueNotWorse98\n",
       "48                 Never30.59DaysPastDueNotWorse\n",
       "49                                  NeverPastDue\n",
       "50                 Never30.89DaysPastDueNotWorse\n",
       "51                      ZeroRevolvingUtilization\n",
       "52                          Weird0999Utilization\n",
       "53                               FullUtilization\n",
       "54                             ExcessUtilization\n",
       "55                     AnyOpenCreditLinesOrLoans\n",
       "56                             HasRevolvingLines\n",
       "57                            HasRealEstateLoans\n",
       "58                    HasMultipleRealEstateLoans\n",
       "59                                    EligibleSS"
      ]
     },
     "execution_count": 5,
     "metadata": {},
     "output_type": "execute_result"
    }
   ],
   "source": [
    "dt = pd.read_csv('https://raw.githubusercontent.com/plotly/datasets/master/processed_data.csv')\n",
    "\n",
    "pd.DataFrame(dt.columns.values)"
   ]
  },
  {
   "cell_type": "markdown",
   "metadata": {},
   "source": [
    "# Creating the Plots"
   ]
  },
  {
   "cell_type": "markdown",
   "metadata": {},
   "source": [
    "We will create all plots in Excel, make some aesthetic tweeks in [Plotly's web interface](http://help.plot.ly/tutorials/), then display them in this notebook to showcase them."
   ]
  },
  {
   "cell_type": "markdown",
   "metadata": {},
   "source": [
    "### Step 1: Load data into Excel"
   ]
  },
  {
   "cell_type": "markdown",
   "metadata": {},
   "source": [
    "![](excel_data.png)"
   ]
  },
  {
   "cell_type": "markdown",
   "metadata": {},
   "source": [
    "### Step 2: Click the 'Create Plot' button in the Excel menu"
   ]
  },
  {
   "cell_type": "markdown",
   "metadata": {},
   "source": [
    "![](create_excel_button.png)"
   ]
  },
  {
   "cell_type": "markdown",
   "metadata": {},
   "source": [
    "### Step 3: Add data using the GUI interface"
   ]
  },
  {
   "cell_type": "markdown",
   "metadata": {},
   "source": [
    "![](plugin_params.png)"
   ]
  },
  {
   "cell_type": "markdown",
   "metadata": {},
   "source": [
    "### Step 4: Stylize on Plotly using the web interface - no coding required."
   ]
  },
  {
   "cell_type": "markdown",
   "metadata": {},
   "source": [
    "See [here](http://help.plot.ly/tutorials/) for a detailed tutorial on Plotly's extensive web interface options. "
   ]
  },
  {
   "cell_type": "markdown",
   "metadata": {},
   "source": [
    "![no coding styles](no_coding.png)"
   ]
  },
  {
   "cell_type": "markdown",
   "metadata": {},
   "source": [
    "### Step 5: Sharing "
   ]
  },
  {
   "cell_type": "markdown",
   "metadata": {},
   "source": [
    "Once a graph is created, we can save & download the plot or even download the raw data using Plotly.\n",
    "With Plotly, you can get them like this:\n",
    "\n",
    "- https://plot.ly/~rmdk/908.png\n",
    "- https://plot.ly/~rmdk/908.pdf\n",
    "- https://plot.ly/~rmdk/908.svg\n",
    "- https://plot.ly/~rmdk/908.jpeg\n",
    "- https://plot.ly/~rmdk/908.embed\n",
    "\n",
    "And do the same to translate the plot between languages (.py, .r, .m, .jl, .json). Plus, you can make GET requests for the file from any language and you can get the data from Python, R, or just by downloading it: https://plot.ly/~rmdk/908.csv, and https://plot.ly/~rmdk/908.xlsx. \n",
    "\n",
    "\n",
    "\n",
    "\n",
    "You can [embed plots](http://help.plot.ly/embed-graphs-in-websites/) in blogs, in [PowerPoint](https://store.office.com/plotly-charts-WA104379485.aspx?assetid=WA104379485), using [Plotly Offline](http://purchasing.plot.ly/), with [Shiny](http://moderndata.plot.ly/dashboards-in-r-with-shiny-plotly/), and elsewhere you can put an iframe. Store and share your data and plots in the cloud:\n",
    "\n",
    "![in the cloud storage](cloud_storage.png)"
   ]
  },
  {
   "cell_type": "markdown",
   "metadata": {},
   "source": [
    "# Feature Importances"
   ]
  },
  {
   "cell_type": "markdown",
   "metadata": {},
   "source": [
    "Here we will visualize the most important features for the decision tree model.\n",
    "\n",
    "There are several features here that the model considers to be nearly equally important. Not surprisingly, the first 6 most important features are all realted to `late payments`."
   ]
  },
  {
   "cell_type": "code",
   "execution_count": 6,
   "metadata": {
    "collapsed": false
   },
   "outputs": [
    {
     "data": {
      "text/html": [
       "<iframe id=\"igraph\" scrolling=\"no\" style=\"border:none;\"seamless=\"seamless\" src=\"https://plot.ly/~rmdk/908.embed\" height=\"525\" width=\"100%\"></iframe>"
      ],
      "text/plain": [
       "<plotly.tools.PlotlyDisplay object>"
      ]
     },
     "execution_count": 6,
     "metadata": {},
     "output_type": "execute_result"
    }
   ],
   "source": [
    "tls.embed('https://plot.ly/~rmdk/908')"
   ]
  },
  {
   "cell_type": "markdown",
   "metadata": {},
   "source": [
    "The feature importances for the random forests model are considerably different. Here the `log utilization of unsecured lines` is by far the most important feature, followed by several `late payment` related features, `log age`, and `log debt`."
   ]
  },
  {
   "cell_type": "code",
   "execution_count": 7,
   "metadata": {
    "collapsed": false
   },
   "outputs": [
    {
     "data": {
      "text/html": [
       "<iframe id=\"igraph\" scrolling=\"no\" style=\"border:none;\"seamless=\"seamless\" src=\"https://plot.ly/~rmdk/913.embed\" height=\"525\" width=\"100%\"></iframe>"
      ],
      "text/plain": [
       "<plotly.tools.PlotlyDisplay object>"
      ]
     },
     "execution_count": 7,
     "metadata": {},
     "output_type": "execute_result"
    }
   ],
   "source": [
    "tls.embed('https://plot.ly/~rmdk/913')"
   ]
  },
  {
   "cell_type": "markdown",
   "metadata": {},
   "source": [
    "# Training Time"
   ]
  },
  {
   "cell_type": "markdown",
   "metadata": {},
   "source": [
    "Random forests is certainly a more complex algorithm. In the random forests model, we trainied several thousands of trees. Conversely, a decision tree only trains a single tree. Parallelization helps keep the random forests model training time reasonable."
   ]
  },
  {
   "cell_type": "code",
   "execution_count": 8,
   "metadata": {
    "collapsed": false
   },
   "outputs": [
    {
     "data": {
      "text/html": [
       "<iframe id=\"igraph\" scrolling=\"no\" style=\"border:none;\"seamless=\"seamless\" src=\"https://plot.ly/~rmdk/926.embed\" height=\"525\" width=\"100%\"></iframe>"
      ],
      "text/plain": [
       "<plotly.tools.PlotlyDisplay object>"
      ]
     },
     "execution_count": 8,
     "metadata": {},
     "output_type": "execute_result"
    }
   ],
   "source": [
    "tls.embed('https://plot.ly/~rmdk/926/decision-tree/')"
   ]
  },
  {
   "cell_type": "markdown",
   "metadata": {},
   "source": [
    "# Performance on Validation"
   ]
  },
  {
   "cell_type": "markdown",
   "metadata": {},
   "source": [
    "The difference between the two models in terms of validation set performance is low. "
   ]
  },
  {
   "cell_type": "code",
   "execution_count": 9,
   "metadata": {
    "collapsed": false
   },
   "outputs": [
    {
     "data": {
      "text/html": [
       "<iframe id=\"igraph\" scrolling=\"no\" style=\"border:none;\"seamless=\"seamless\" src=\"https://plot.ly/~rmdk/931.embed\" height=\"525\" width=\"100%\"></iframe>"
      ],
      "text/plain": [
       "<plotly.tools.PlotlyDisplay object>"
      ]
     },
     "execution_count": 9,
     "metadata": {},
     "output_type": "execute_result"
    }
   ],
   "source": [
    "tls.embed('https://plot.ly/~rmdk/931/decision-tree/')"
   ]
  },
  {
   "cell_type": "markdown",
   "metadata": {},
   "source": [
    "# Which model to use in production?"
   ]
  },
  {
   "cell_type": "markdown",
   "metadata": {},
   "source": [
    "Based on the analysis we performed in the previous two notebooks, [Feature Engineering & Decision Trees using R](), and [Random Forests using Python](), which model should we choose to put in production?\n",
    "\n",
    "This answer is obviously quite sensitive to your application. Here are two common scenarios:\n",
    "<hr>\n",
    "- Need absolute predictive power?\n",
    "\n",
    "> Choose the random forests model\n",
    "\n",
    "<hr>\n",
    "\n",
    "- Required to understand how the model works or care about training and re-training time?\n",
    "\n",
    "> Choose the decision tree model."
   ]
  }
 ],
 "metadata": {
  "kernelspec": {
   "display_name": "Python 2",
   "language": "python",
   "name": "python2"
  },
  "language_info": {
   "codemirror_mode": {
    "name": "ipython",
    "version": 2
   },
   "file_extension": ".py",
   "mimetype": "text/x-python",
   "name": "python",
   "nbconvert_exporter": "python",
   "pygments_lexer": "ipython2",
   "version": "2.7.10"
  }
 },
 "nbformat": 4,
 "nbformat_minor": 0
}
