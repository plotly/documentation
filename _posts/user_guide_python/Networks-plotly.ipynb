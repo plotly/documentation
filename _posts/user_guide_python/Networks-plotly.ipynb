{
 "cells": [
  {
   "cell_type": "markdown",
   "metadata": {},
   "source": [
    "# Networks with Plotly"
   ]
  },
  {
   "cell_type": "markdown",
   "metadata": {},
   "source": [
    "##### ABOUT THE AUTHOR:\n",
    "This notebook was contributed by [Plotly user Emilia Petrisor](https://plot.ly/~empet).  You can follow Emilia on Twitter [@mathinpython](https://twitter.com/mathinpython) or [Github](https://github.com/empet)."
   ]
  },
  {
   "cell_type": "markdown",
   "metadata": {},
   "source": [
    "In this notebook we illustrate how to generate planar graphs/networks in Plotly, defined as `Graph` objects \n",
    "in [`networkx`](https://networkx.github.io/). \n",
    "The Plotly  objects defined in this notebook have some attributes introduced only starting with  the Plotly 1.8.6."
   ]
  },
  {
   "cell_type": "markdown",
   "metadata": {},
   "source": [
    "### Planar graphs defined by the lists of nodes and edges"
   ]
  },
  {
   "cell_type": "code",
   "execution_count": 1,
   "metadata": {
    "collapsed": false
   },
   "outputs": [],
   "source": [
    "import networkx as nx\n",
    "import matplotlib.pyplot as plt\n",
    "%matplotlib inline"
   ]
  },
  {
   "cell_type": "code",
   "execution_count": 24,
   "metadata": {
    "collapsed": false
   },
   "outputs": [],
   "source": [
    "G=nx.Graph()#  G is an empty Graph"
   ]
  },
  {
   "cell_type": "code",
   "execution_count": 25,
   "metadata": {
    "collapsed": false
   },
   "outputs": [],
   "source": [
    "Nodes=range(9)\n",
    "G.add_nodes_from(Nodes)\n",
    "Edges=[(0,1), (0,2), (1,3), (1,4), (1,7), (2,5), (2,8), (3, 4), (3,5),(4,6), (4,7), (4,8), (5,7)]\n",
    "G.add_edges_from(Edges)\n",
    "G.add_edge(6,8)"
   ]
  },
  {
   "cell_type": "markdown",
   "metadata": {},
   "source": [
    "Matplotlib plot of the graph:"
   ]
  },
  {
   "cell_type": "code",
   "execution_count": 26,
   "metadata": {
    "collapsed": false
   },
   "outputs": [
    {
     "data": {
      "image/png": "[encoded data removed]",
      "text/plain": [
       "<matplotlib.figure.Figure at 0x109110550>"
      ]
     },
     "metadata": {},
     "output_type": "display_data"
    }
   ],
   "source": [
    "nx.draw(G, node_color='c',edge_color='k', with_labels=True)"
   ]
  },
  {
   "cell_type": "markdown",
   "metadata": {},
   "source": [
    "Graphs are drawn using various layouts. The default layout is `spring_layout`. Other common layouts are\n",
    "`spectral_layout`,  `fruchterman_reingold_layout` (for more details see \n",
    "[here](https://networkx.github.io/documentation/latest/_modules/networkx/drawing/layout.html)). "
   ]
  },
  {
   "cell_type": "markdown",
   "metadata": {},
   "source": [
    "In order to plot a `Graph` with Python Plotly we extract the node positions calling the layout function, `nx.name_layout(G)`."
   ]
  },
  {
   "cell_type": "markdown",
   "metadata": {},
   "source": [
    "Position is a dictionary having as keys the node indices and as values the coordinates assigned to nodes by the layout  algorithm:"
   ]
  },
  {
   "cell_type": "code",
   "execution_count": 27,
   "metadata": {
    "collapsed": false
   },
   "outputs": [
    {
     "name": "stdout",
     "output_type": "stream",
     "text": [
      "{0: array([ 0.47728653,  0.33737497]), 1: array([ 0.60691847, -0.2099272 ]), 2: array([-0.40142844,  0.01379482]), 3: array([ 0.33690849, -0.68390357]), 4: array([ 0.04407113,  0.16611701]), 5: array([-0.3473049 , -0.77470636]), 6: array([-0.20950088,  1.        ]), 7: array([ 0.05039277, -0.45825107]), 8: array([-0.55734318,  0.6095014 ])}\n"
     ]
    }
   ],
   "source": [
    "pos1=nx.spring_layout(G)\n",
    "print pos1"
   ]
  },
  {
   "cell_type": "code",
   "execution_count": 28,
   "metadata": {
    "collapsed": false
   },
   "outputs": [
    {
     "name": "stdout",
     "output_type": "stream",
     "text": [
      "{0: array([-0.57374783,  0.88974609]), 1: array([-0.27562162, -0.18274255]), 2: array([-0.18696238,  0.57932286]), 3: array([-0.214468  , -0.54244963]), 4: array([ 0.22922073, -0.25178448]), 5: array([-0.34098186, -0.34970489]), 6: array([ 1.        ,  0.10256305]), 7: array([-0.214468  , -0.54244963]), 8: array([ 0.57702895,  0.29749919])}\n"
     ]
    }
   ],
   "source": [
    "pos2=nx.spectral_layout(G)\n",
    "print pos2"
   ]
  },
  {
   "cell_type": "markdown",
   "metadata": {},
   "source": [
    "Spring layout and Fruchterman Reingold layout algorithms start with a random positions of nodes. That is why two consecutive calls of the  corresponding functions return different node positions for the same graph.\n",
    "\n",
    "To illustrate non-uniqueness of positions  we call again the  function `nx.spring_layout()` for G:"
   ]
  },
  {
   "cell_type": "code",
   "execution_count": 29,
   "metadata": {
    "collapsed": false
   },
   "outputs": [
    {
     "name": "stdout",
     "output_type": "stream",
     "text": [
      "{0: array([ 0.80302273,  1.        ]), 1: array([ 0.31724259, -0.02083924]), 2: array([ 0.11829213,  0.79579668]), 3: array([ 0.61544763, -0.73781964]), 4: array([-0.48165558, -0.39882195]), 5: array([ 0.87151502, -0.08233352]), 6: array([-1.47906303, -0.19505564]), 7: array([ 0.14750875, -0.77046797]), 8: array([-0.91231024,  0.40954128])}\n"
     ]
    }
   ],
   "source": [
    "pos3=nx.spring_layout(G)\n",
    "print pos3"
   ]
  },
  {
   "cell_type": "markdown",
   "metadata": {},
   "source": [
    "Spectral layout algorithm returns a unique  position, at each call, for a given graph.\n"
   ]
  },
  {
   "cell_type": "markdown",
   "metadata": {},
   "source": [
    " The Plotly plot of a graph involves the `Graph` nodes and edges,  node positions associated by a chosen layout function, and  the attributes of nodes and   edges  defined as Plotly `Scatter` traces of type (mode) marker, respectively line. \n"
   ]
  },
  {
   "cell_type": "code",
   "execution_count": 30,
   "metadata": {
    "collapsed": true
   },
   "outputs": [],
   "source": [
    "import plotly.plotly as py\n",
    "from plotly.graph_objs import *"
   ]
  },
  {
   "cell_type": "markdown",
   "metadata": {},
   "source": [
    "The function `scatter_nodes` sets the position of nodes and their attributes:"
   ]
  },
  {
   "cell_type": "code",
   "execution_count": 31,
   "metadata": {
    "collapsed": false
   },
   "outputs": [],
   "source": [
    "def scatter_nodes(pos, labels=None, color=None, size=20, opacity=1):\n",
    "    # pos is the dict of node positions\n",
    "    # labels is a list  of labels of len(pos), to be displayed when hovering the mouse over the nodes\n",
    "    # color is the color for nodes. When it is set as None the Plotly default color is used\n",
    "    # size is the size of the dots representing the nodes\n",
    "    #opacity is a value between [0,1] defining the node color opacity\n",
    "    L=len(pos)\n",
    "    trace = Scatter(x=[], y=[],  mode='markers', marker=Marker(size=[]))\n",
    "    for k in range(L):\n",
    "        trace['x'].append(pos[k][0])\n",
    "        trace['y'].append(pos[k][1])\n",
    "    attrib=dict(name='', text=labels , hoverinfo='text', opacity=opacity) # a dict of Plotly node attributes\n",
    "    trace=dict(trace, **attrib)# concatenate the dict trace and attrib\n",
    "    trace['marker']['size']=size\n",
    "    return trace       "
   ]
  },
  {
   "cell_type": "markdown",
   "metadata": {},
   "source": [
    "Plotly displays the coordinates of the nodes by default. Because these coordinates have no relevance in the network analysis\n",
    "we hide them  setting `hoverinfo` as 'text', i.e. in the function above with node labels."
   ]
  },
  {
   "cell_type": "markdown",
   "metadata": {},
   "source": [
    "The function `scatter_edges` defines the Graph edges as a Scatter Plotly trace of `mode`='lines'. \n",
    "\n",
    "`hoverinfo` is set  as 'none', because otherwise hovering the mouse over the points of coordinates $(x,y)$, i.e. over nodes, are displayed\n",
    "by default the node coordinates."
   ]
  },
  {
   "cell_type": "code",
   "execution_count": 32,
   "metadata": {
    "collapsed": false
   },
   "outputs": [],
   "source": [
    "def scatter_edges(G, pos, line_color=None, line_width=1):\n",
    "    trace = Scatter(x=[], y=[], mode='lines')\n",
    "    for edge in G.edges():\n",
    "        trace['x'] += [pos[edge[0]][0],pos[edge[1]][0], None]\n",
    "        trace['y'] += [pos[edge[0]][1],pos[edge[1]][1], None]  \n",
    "        trace['hoverinfo']='none'\n",
    "        trace['line']['width']=line_width\n",
    "        if line_color is not None: # when it is None a default Plotly color is used\n",
    "            trace['line']['color']=line_color\n",
    "    return trace            "
   ]
  },
  {
   "cell_type": "markdown",
   "metadata": {},
   "source": [
    "Let us plot the `Graph`, $G$,  defined above using node positions assigned by Fruchterman Reingold layout algorithm:"
   ]
  },
  {
   "cell_type": "code",
   "execution_count": 33,
   "metadata": {
    "collapsed": false
   },
   "outputs": [],
   "source": [
    "pos=nx.fruchterman_reingold_layout(G)   "
   ]
  },
  {
   "cell_type": "code",
   "execution_count": 34,
   "metadata": {
    "collapsed": false
   },
   "outputs": [],
   "source": [
    "labels=[str(k)  for k in range(len(pos))] # labels are  set as being the nodes indices in the list of nodes\n",
    "trace1=scatter_edges(G, pos)\n",
    "trace2=scatter_nodes(pos, labels=labels)"
   ]
  },
  {
   "cell_type": "markdown",
   "metadata": {},
   "source": [
    "Settings for Plotly layout of the plot:"
   ]
  },
  {
   "cell_type": "code",
   "execution_count": 35,
   "metadata": {
    "collapsed": false
   },
   "outputs": [],
   "source": [
    "width=500\n",
    "height=500\n",
    "axis=dict(showline=False, # hide axis line, grid, ticklabels and  title\n",
    "          zeroline=False,\n",
    "          showgrid=False,\n",
    "          showticklabels=False,\n",
    "          title='' \n",
    "          )\n",
    "layout=Layout(title= 'Fruchterman Reingold  layout',  #\n",
    "    font= Font(),\n",
    "    showlegend=False,\n",
    "    autosize=False,\n",
    "    width=width,\n",
    "    height=height,\n",
    "    xaxis=XAxis(axis),\n",
    "    yaxis=YAxis(axis),\n",
    "    margin=Margin(\n",
    "        l=40,\n",
    "        r=40,\n",
    "        b=85,\n",
    "        t=100,\n",
    "        pad=0,\n",
    "       \n",
    "    ),\n",
    "    hovermode='closest',\n",
    "    plot_bgcolor='#EFECEA', #set background color            \n",
    "    )\n",
    "\n",
    "\n",
    "data=Data([trace1, trace2])\n",
    "\n",
    "fig = Figure(data=data, layout=layout)\n",
    "\n"
   ]
  },
  {
   "cell_type": "markdown",
   "metadata": {},
   "source": [
    "To get  a good looking  graph it is recommended to define data as a list having  the first element the trace corresponding to edges, \n",
    "and the second the trace for\n",
    " nodes. Otherwise the lines will be traced over  the node dots."
   ]
  },
  {
   "cell_type": "markdown",
   "metadata": {},
   "source": [
    "If we want to annotate the nodes  we should update the layout with the corresponding annotations. The function below defines the annotations:"
   ]
  },
  {
   "cell_type": "code",
   "execution_count": 36,
   "metadata": {
    "collapsed": true
   },
   "outputs": [],
   "source": [
    "def make_annotations(pos, text, font_size=14, font_color='rgb(25,25,25)'):\n",
    "    L=len(pos)\n",
    "    if len(text)!=L:\n",
    "        raise ValueError('The lists pos and text must have the same len')\n",
    "    annotations = Annotations()\n",
    "    for k in range(L):\n",
    "        annotations.append(\n",
    "            Annotation(\n",
    "                text=text[k], \n",
    "                x=pos[k][0], y=pos[k][1],\n",
    "                xref='x1', yref='y1',\n",
    "                font=dict(color= font_color, size=font_size),\n",
    "                showarrow=False)\n",
    "        )\n",
    "    return annotations  "
   ]
  },
  {
   "cell_type": "code",
   "execution_count": 37,
   "metadata": {
    "collapsed": false
   },
   "outputs": [
    {
     "data": {
      "text/html": [
       "<iframe id=\"igraph\" scrolling=\"no\" style=\"border:none;\"seamless=\"seamless\" src=\"https://plot.ly/~chelsea_lyn/7827.embed\" height=\"500px\" width=\"500px\"></iframe>"
      ],
      "text/plain": [
       "<plotly.tools.PlotlyDisplay object>"
      ]
     },
     "execution_count": 37,
     "metadata": {},
     "output_type": "execute_result"
    }
   ],
   "source": [
    "fig['layout'].update(annotations=make_annotations(pos, [str(k) for k in range(len(pos))]))  \n",
    "#py.sign_in('', '')\n",
    "py.iplot(fig, filename='tst')"
   ]
  },
  {
   "cell_type": "markdown",
   "metadata": {},
   "source": [
    "## Network defined by adjacency matrix ##"
   ]
  },
  {
   "cell_type": "code",
   "execution_count": 38,
   "metadata": {
    "collapsed": true
   },
   "outputs": [],
   "source": [
    "import numpy as np"
   ]
  },
  {
   "cell_type": "code",
   "execution_count": 39,
   "metadata": {
    "collapsed": false
   },
   "outputs": [
    {
     "name": "stdout",
     "output_type": "stream",
     "text": [
      "List of nodes:\n",
      "[0, 1, 2, 3, 4, 5, 6, 7] \n",
      "List of edges:\n",
      "[(0, 1), (0, 2), (0, 3), (0, 7), (1, 2), (1, 4), (1, 5), (1, 6), (2, 6), (2, 7), (3, 4), (3, 5), (3, 6), (3, 7), (4, 5), (4, 6), (5, 6), (6, 7)]\n"
     ]
    },
    {
     "data": {
      "image/png": "[encoded data removed]",
      "text/plain": [
       "<matplotlib.figure.Figure at 0x109117850>"
      ]
     },
     "metadata": {},
     "output_type": "display_data"
    }
   ],
   "source": [
    "Ad=np.array([[0,1,1,1,0,0,0,1], # Adjacency matrix\n",
    "             [1,0,1,0,1,1,1,0],\n",
    "             [1,1,0,0,0,0,1,1],\n",
    "             [1,0,0,0,1,1,1,1],\n",
    "             [0,1,0,1,0,1,1,0],\n",
    "             [0,1,0,1,1,0,1,0],\n",
    "             [0,1,1,1,1,1,0,1],\n",
    "             [1,0,1,1,0,0,1,0]], dtype=float)\n",
    "Gr=nx.from_numpy_matrix(Ad)\n",
    "print 'List of nodes:\\n', Gr.nodes(), '\\n', 'List of edges:\\n', Gr.edges()\n",
    "nx.draw(Gr, node_color='g', with_labels=True, alpha=0.5)#matplotlib plot of the graph Gr\n"
   ]
  },
  {
   "cell_type": "code",
   "execution_count": 40,
   "metadata": {
    "collapsed": true
   },
   "outputs": [],
   "source": [
    "position=nx.spring_layout(Gr)"
   ]
  },
  {
   "cell_type": "markdown",
   "metadata": {},
   "source": [
    "Interpreting the graph as a frienship graph, we set its labels (displayed when hovering over the nodes) \n",
    "as being the friends names:"
   ]
  },
  {
   "cell_type": "code",
   "execution_count": 41,
   "metadata": {
    "collapsed": true
   },
   "outputs": [],
   "source": [
    "labels=['Fred', 'Alice', 'Bob', 'Anna', 'Frida', 'Andrew', 'Jack', 'Maria']"
   ]
  },
  {
   "cell_type": "code",
   "execution_count": 42,
   "metadata": {
    "collapsed": false
   },
   "outputs": [],
   "source": [
    "traceE=scatter_edges(Gr, position)\n",
    "traceN=scatter_nodes(position, labels=labels)"
   ]
  },
  {
   "cell_type": "markdown",
   "metadata": {},
   "source": [
    "Now we update the above  layout of the plot with information on the new graph:"
   ]
  },
  {
   "cell_type": "code",
   "execution_count": 43,
   "metadata": {
    "collapsed": false
   },
   "outputs": [
    {
     "data": {
      "text/html": [
       "<iframe id=\"igraph\" scrolling=\"no\" style=\"border:none;\"seamless=\"seamless\" src=\"https://plot.ly/~chelsea_lyn/7812.embed\" height=\"500px\" width=\"500px\"></iframe>"
      ],
      "text/plain": [
       "<plotly.tools.PlotlyDisplay object>"
      ]
     },
     "execution_count": 43,
     "metadata": {},
     "output_type": "execute_result"
    }
   ],
   "source": [
    "layout.update(title='Friendship Network')\n",
    "data1=Data([traceE, traceN])\n",
    "fig = Figure(data=data1, layout=layout)\n",
    "fig['layout'].update(annotations=make_annotations(position, [str(k) for k in range(len(position))]))  \n",
    "py.iplot(fig, filename='Network-2N')"
   ]
  },
  {
   "cell_type": "code",
   "execution_count": 22,
   "metadata": {
    "collapsed": false
   },
   "outputs": [
    {
     "name": "stdout",
     "output_type": "stream",
     "text": [
      "\u001b[33mYou are using pip version 7.1.0, however version 7.1.2 is available.\n",
      "You should consider upgrading via the 'pip install --upgrade pip' command.\u001b[0m\n",
      "Requirement already up-to-date: publisher in /Users/Chelsea/venv2.7/lib/python2.7/site-packages\n"
     ]
    },
    {
     "data": {
      "text/html": [
       "<link href=\"//fonts.googleapis.com/css?family=Open+Sans:600,400,300,200|Inconsolata|Ubuntu+Mono:400,700\" rel=\"stylesheet\" type=\"text/css\" />"
      ],
      "text/plain": [
       "<IPython.core.display.HTML object>"
      ]
     },
     "metadata": {},
     "output_type": "display_data"
    },
    {
     "data": {
      "text/html": [
       "<link rel=\"stylesheet\" type=\"text/css\" href=\"https://help.plot.ly/documentation/all_static/css/ipython-notebook-custom.css\">"
      ],
      "text/plain": [
       "<IPython.core.display.HTML object>"
      ]
     },
     "metadata": {},
     "output_type": "display_data"
    },
    {
     "name": "stderr",
     "output_type": "stream",
     "text": [
      "/Users/Chelsea/venv2.7/lib/python2.7/site-packages/publisher/publisher.py:53: UserWarning:\n",
      "\n",
      "Did you \"Save\" this notebook before running this command? Remember to save, always save.\n",
      "\n",
      "/Users/Chelsea/venv2.7/lib/python2.7/site-packages/publisher/publisher.py:58: UserWarning:\n",
      "\n",
      "Your URL has more than 2 parts... are you sure?\n",
      "\n"
     ]
    }
   ],
   "source": [
    "! pip install publisher --upgrade\n",
    "\n",
    "from IPython.display import HTML, display\n",
    "\n",
    "display(HTML('<link href=\"//fonts.googleapis.com/css?family=Open+Sans:600,400,300,200|Inconsolata|Ubuntu+Mono:400,700\" rel=\"stylesheet\" type=\"text/css\" />'))\n",
    "display(HTML('<link rel=\"stylesheet\" type=\"text/css\" href=\"https://help.plot.ly/documentation/all_static/css/ipython-notebook-custom.css\">'))\n",
    "\n",
    "import publisher\n",
    "publisher.publish('Networks-plotly', '/ipython-notebooks/networks/', \n",
    "                  'Network Graphs', \n",
    "                  'How to make network graphs with Python and Plotly graphs.')"
   ]
  },
  {
   "cell_type": "code",
   "execution_count": null,
   "metadata": {
    "collapsed": true
   },
   "outputs": [],
   "source": []
  }
 ],
 "metadata": {
  "kernelspec": {
   "display_name": "Python 2",
   "language": "python",
   "name": "python2"
  },
  "language_info": {
   "codemirror_mode": {
    "name": "ipython",
    "version": 2
   },
   "file_extension": ".py",
   "mimetype": "text/x-python",
   "name": "python",
   "nbconvert_exporter": "python",
   "pygments_lexer": "ipython2",
   "version": "2.7.9"
  }
 },
 "nbformat": 4,
 "nbformat_minor": 0
}
