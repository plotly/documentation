{
 "cells": [
  {
   "cell_type": "markdown",
   "metadata": {},
   "source": [
    "## Plotting B&eacute;zier Triangular Patches with <br /> Python Plotly##"
   ]
  },
  {
   "cell_type": "markdown",
   "metadata": {},
   "source": [
    "#### ABOUT THE AUTHOR:"
   ]
  },
  {
   "cell_type": "markdown",
   "metadata": {},
   "source": [
    "This notebook was contributed by [Plotly user Emilia Petrisor](https://plot.ly/~empet).  You can follow Emilia on Twitter [@mathinpython](https://twitter.com/mathinpython) or [Github](https://github.com/empet). "
   ]
  },
  {
   "cell_type": "markdown",
   "metadata": {},
   "source": [
    "### The de  Casteljau algorithm for computing   points on a triangular B&eacute;zier patch###"
   ]
  },
  {
   "cell_type": "markdown",
   "metadata": {},
   "source": [
    "A B&eacute;zier triangular patch is a parameterized polynomial surface. Its  parameters belong to a triangular 2D region, $T$.\n",
    "The triangle vertices, $T_0, T_1, T_2$, are  denoted  counterclockwise like in the figure below:"
   ]
  },
  {
   "cell_type": "code",
   "execution_count": 1,
   "metadata": {
    "collapsed": false
   },
   "outputs": [
    {
     "data": {
      "image/png": "[encoded data removed]",
      "text/plain": [
       "<IPython.core.display.Image object>"
      ]
     },
     "execution_count": 1,
     "metadata": {},
     "output_type": "execute_result"
    }
   ],
   "source": [
    "from IPython.display import Image\n",
    "Image(filename='Imag/triangle.png')"
   ]
  },
  {
   "cell_type": "markdown",
   "metadata": {},
   "source": [
    "Each point $P$ in $T$ is expressed as a convex combination of the vertices $T_0, T_1, T_2$:\n",
    "\n",
    "$P=\\lambda_0T_0+\\lambda_1T_1+\\lambda_2T_2$, $\\lambda_i\\geq 0$, $i=\\overline{0,2}$, and $\\lambda_0+\\lambda_1+\\lambda_2=1$\n",
    "\n",
    "The scalars $\\lambda_i$ are the *barycentric coordinates* of  the point $P$.\n"
   ]
  },
  {
   "cell_type": "markdown",
   "metadata": {},
   "source": [
    "\n",
    "If  $(x_i, y_i)$ are the cartesian coordinates of the vertices $T_i$, $i=\\overline{0,2}$, and $P(x, y)$ \n",
    "is a point in the corresponding triangular region, then its baycentric coordinates are given by \n",
    "the  solution of the linear system:\n",
    "\n",
    "$$\\left[\\begin{array}{ccc} \n",
    "x_0&x_1&x_2\\\\\n",
    "y_0&y_1&y_2\\\\\n",
    "1&1&1\\end{array}\\right]\n",
    "\\left[\\begin{array}{c}\\lambda_0\\\\\\lambda_1\\\\\\lambda_2\\end{array}\\right]=\n",
    "\\left[\\begin{array}{c} x\\\\y\\\\1\\end{array}\\right]$$\n"
   ]
  },
  {
   "cell_type": "markdown",
   "metadata": {},
   "source": [
    "There is a one-to-one correspondence between the points of  the triangle $T$ and the  triangle $\\Delta$, in 3D, of vertices\n",
    "$A_0(1,0,0)$, $A_1(0,1,0)$, $A_2(0,0,1)$. Namely, to each $P(x,y)\\in T$ one associates its barycentric coordinates  $(\\lambda_0, \\lambda_1, \\lambda_2)\\in\\Delta$.\n"
   ]
  },
  {
   "cell_type": "code",
   "execution_count": 2,
   "metadata": {
    "collapsed": false
   },
   "outputs": [
    {
     "data": {
      "image/png": "[encoded data removed]",
      "text/plain": [
       "<IPython.core.display.Image object>"
      ]
     },
     "execution_count": 2,
     "metadata": {},
     "output_type": "execute_result"
    }
   ],
   "source": [
    "Image(filename='Imag/triangle3D.png')"
   ]
  },
  {
   "cell_type": "markdown",
   "metadata": {
    "collapsed": true
   },
   "source": [
    "A B&eacute;zier triangular patch is defined by an integer $n>0$, and a triangular net of 3D points\n",
    "${\\bf b}_{ijk}$, with $i, j, k\\geq 0$  integers such that $i+j+k=n$. Its parameterization is:\n",
    "$S: (\\lambda_0, \\lambda_1, \\lambda_2)\\in \\Delta \\to \\sum_{i+j+k=n}\\frac{n!}{i!j!k!}\\lambda_0^i\\lambda_1^j\\lambda_2^k {\\bf b}_{ijk}$    "
   ]
  },
  {
   "cell_type": "markdown",
   "metadata": {},
   "source": [
    "Since the sum of powers of $\\lambda_0, \\lambda_1, \\lambda_2$ is $n$, the patch is said to have the total degree $n$."
   ]
  },
  {
   "cell_type": "markdown",
   "metadata": {},
   "source": [
    "A point on  such a surface corresponding to the parameters $(\\lambda_0, \\lambda_1, \\lambda_2)$ is computed recursively  by the *triangular de Casteljau algorithm*:"
   ]
  },
  {
   "cell_type": "markdown",
   "metadata": {
    "collapsed": true
   },
   "source": [
    "$$\\begin{array}{lll}\n",
    "{\\bf b}_{ijk}^0&=&{\\bf b}_{ijk}\\\\\n",
    "  {\\bf b}_{ijk}^r&=&\\lambda_0{\\bf b}_{i+1\\,j\\,k}^{r-1}+\\lambda_1{\\bf b}_{i\\, j+1\\, k}^{r-1}\n",
    "+\\lambda_2{\\bf b}_{i\\,j\\,k+1}^{r-1},\\end{array}$$ \n",
    "where $r=\\overline{1,n}$, and $i+j+k=n-r$.\n"
   ]
  },
  {
   "cell_type": "markdown",
   "metadata": {},
   "source": [
    "The last computed point,  ${\\bf }b_{000}^n$, is a point on the surface."
   ]
  },
  {
   "cell_type": "markdown",
   "metadata": {
    "collapsed": true
   },
   "source": [
    "Details on the triangular B&eacute;zier patches can be found in:\n",
    "    \n",
    "   1. G Farin, Curves and Surfaces for Computer Aided Geometric Design: A Practical Guide, Morgan Kaufmann, 2002.\n",
    "   2. J. Gallier, Curves and Surfaces in Geometric Modeling: Theory and Algorithms, Morgan Kaufmann, 1999. \n",
    "    A free electronic version can be downloaded [here](http://www.cis.upenn.edu/~jean/gbooks/geom1.html).    "
   ]
  },
  {
   "cell_type": "markdown",
   "metadata": {},
   "source": [
    " The $(n+1)(n+2)/2$ control points, ${\\bf b}_{ ijk}$, are placed in a triangular  structure  in the same way as\n",
    " the points $(i/n, j/n, k/n)$   are located in the triangle $\\Delta$ of vertices  $A_0(1,0,0)$, $A_1(0,1,0)$, $A_2(0,0,1)$. \n",
    " \n",
    "We illustrate here the case  $n=3$:"
   ]
  },
  {
   "cell_type": "code",
   "execution_count": 3,
   "metadata": {
    "collapsed": false
   },
   "outputs": [
    {
     "data": {
      "image/png": "[encoded data removed]",
      "text/plain": [
       "<IPython.core.display.Image object>"
      ]
     },
     "execution_count": 3,
     "metadata": {},
     "output_type": "execute_result"
    }
   ],
   "source": [
    "Image(filename='Imag/ijk.png')"
   ]
  },
  {
   "cell_type": "markdown",
   "metadata": {},
   "source": [
    "Hence to generate a B&eacute;zier triangular patch of total degree $3$ we start with a net of points:"
   ]
  },
  {
   "cell_type": "markdown",
   "metadata": {},
   "source": [
    "$$\\begin{array}{lllllll}\n",
    "   & &  &          {\\bf b}_{300} &        &  &  \\\\\n",
    "   & & & & & & \\\\\n",
    "   &  & {\\bf b}_{210} &           & {\\bf b}_{201} &  &  \\\\\n",
    "    & & & & & & \\\\\n",
    "   & {\\bf b}_{120} &  &      {\\bf b}_{111}    &  & {\\bf b}_{102} &  \\\\\n",
    "    & & & & & & \\\\\n",
    "  {\\bf b}_{030} &  & {\\bf b}_{021}&          & {\\bf b}_{012} &  & {\\bf b}_{003}\n",
    "\\end{array}$$"
   ]
  },
  {
   "cell_type": "markdown",
   "metadata": {},
   "source": [
    "The point indices in a triangular net or the indices that define points in  a triangular grid  of $\\Delta$,  as above,\n",
    " are returned by the following function::"
   ]
  },
  {
   "cell_type": "code",
   "execution_count": 4,
   "metadata": {
    "collapsed": true
   },
   "outputs": [],
   "source": [
    "def indexes(n):\n",
    "    return [(i,j, n-(i+j)) for i in range(n,-1, -1) for j in range(n-i, -1, -1)]"
   ]
  },
  {
   "cell_type": "code",
   "execution_count": 5,
   "metadata": {
    "collapsed": false
   },
   "outputs": [
    {
     "name": "stdout",
     "output_type": "stream",
     "text": [
      "[(3, 0, 0), (2, 1, 0), (2, 0, 1), (1, 2, 0), (1, 1, 1), (1, 0, 2), (0, 3, 0), (0, 2, 1), (0, 1, 2), (0, 0, 3)]\n"
     ]
    }
   ],
   "source": [
    "print indexes(3)"
   ]
  },
  {
   "cell_type": "markdown",
   "metadata": {},
   "source": [
    "In each step, $r$,  of the de Casteljau recursive formula, one computes  succesively  the convex combinations with the same coefficients, $\\lambda_0, \\lambda_1, \\lambda_2$, of all  triplets of  nearby points\n",
    "in the net ${\\bf b}^{r-1}_{ijk}$. The relative position of points in a such triplet is illustrated  in the next cell:\n"
   ]
  },
  {
   "cell_type": "markdown",
   "metadata": {},
   "source": [
    "$$\\begin{array}{lll} & *& \\\\\n",
    "*& &*\\end{array}$$"
   ]
  },
  {
   "cell_type": "markdown",
   "metadata": {},
   "source": [
    "In the following we give the nets  of points resulted from each  step $r$.\n",
    "Starting with the initial control points:"
   ]
  },
  {
   "cell_type": "markdown",
   "metadata": {},
   "source": [
    "$$\n",
    "\\begin{array}{lllllll}\n",
    "   & &  &          {\\bf b}^0_{300} &        &  &  \\\\\n",
    "   & & & & & & \\\\\n",
    "   &  & {\\bf b}^0_{210} &           & {\\bf b}^0_{201} &  &  \\\\\n",
    "    & & & & & & \\\\\n",
    "   & {\\bf b}^0_{120} &  &      {\\bf b}^0_{111}    &  & {\\bf b}^0_{102} &  \\\\\n",
    "    & & & & & & \\\\\n",
    "  {\\bf b}^0_{030} &  & {\\bf b}^0_{021}&          & {\\bf b}^0_{012} &  & {\\bf b}^0_{003}\n",
    "\\end{array}$$"
   ]
  },
  {
   "cell_type": "markdown",
   "metadata": {},
   "source": [
    "the step $r=1$ computes the points:"
   ]
  },
  {
   "cell_type": "markdown",
   "metadata": {},
   "source": [
    "$$\n",
    "\\begin{array}{lllll}\n",
    "   &  &          {\\bf b}^1_{300} &        &   \\\\\n",
    "    & & & &  \\\\\n",
    "     & {\\bf b}^1_{210} &           & {\\bf b}^1_{201} &    \\\\\n",
    "    & & & &  \\\\\n",
    "    {\\bf b}^1_{120} &  &      {\\bf b}^1_{111}    &  & {\\bf b}^1_{102} &  \n",
    "  \\end{array}$$"
   ]
  },
  {
   "cell_type": "markdown",
   "metadata": {},
   "source": [
    "while $r=2$, the points:"
   ]
  },
  {
   "cell_type": "markdown",
   "metadata": {},
   "source": [
    "$$\\begin{array}{lll}\n",
    "     &          {\\bf b}^2_{300} &          \\\\\n",
    "     & &  \\\\\n",
    "      {\\bf b}^2_{210} &           & {\\bf b}^2_{201}    \n",
    "  \\end{array}$$"
   ]
  },
  {
   "cell_type": "markdown",
   "metadata": {},
   "source": [
    "In the last step, $r=3$,  we get  the point on the surface, ${\\bf b}^3_{300}$, corresponding to the parameters $(\\lambda_0, \\lambda_1,\\lambda_2)$."
   ]
  },
  {
   "cell_type": "markdown",
   "metadata": {},
   "source": [
    "To implement the  de Castelajau algorithm we store the control points   in a list of points, concatenating the rows of the theoretical triangular net."
   ]
  },
  {
   "cell_type": "markdown",
   "metadata": {},
   "source": [
    "We define the function `deCasteljau_step`  that evaluates the convex combinations for one step of the de Casteljau formula. Its arguments are\n",
    "the degree `n`, the list of points, `b`, and the triplet of barycentric coordinates, `lam`:"
   ]
  },
  {
   "cell_type": "code",
   "execution_count": 6,
   "metadata": {
    "collapsed": true
   },
   "outputs": [],
   "source": [
    "import numpy as np\n",
    "from __future__ import division"
   ]
  },
  {
   "cell_type": "code",
   "execution_count": 7,
   "metadata": {
    "collapsed": true
   },
   "outputs": [],
   "source": [
    "def deCasteljau_step(n, b, lam):\n",
    "    \n",
    "    i=0\n",
    "    j=1\n",
    "    for nr in range(1, n+1):\n",
    "        for k in range(nr):\n",
    "            b[i]=lam[0]*b[i]+lam[1]*b[j]+lam[2]*b[j+1]\n",
    "            i+=1\n",
    "            j+=1\n",
    "        j+=1\n",
    "    return b[:-(n+1)]"
   ]
  },
  {
   "cell_type": "markdown",
   "metadata": {},
   "source": [
    "de  Casteljau algorithm is implemented by the following recursive function:"
   ]
  },
  {
   "cell_type": "code",
   "execution_count": 8,
   "metadata": {
    "collapsed": true
   },
   "outputs": [],
   "source": [
    "def deCasteljau(n,b,lam):\n",
    "    \n",
    "    if len(b)>1:       \n",
    "        return deCasteljau(n-1, deCasteljau_step(n, b, lam), lam)   \n",
    "    else: \n",
    "        return b[0]"
   ]
  },
  {
   "cell_type": "markdown",
   "metadata": {},
   "source": [
    "###A discretization method of a triangular B&eacute;zier patch for plotting with Plotly###"
   ]
  },
  {
   "cell_type": "markdown",
   "metadata": {},
   "source": [
    " In the following we present a method of discretization of a triangular B&eacute;zier patch, such that to get the data  that define a `plotly Surface`.\n",
    " \n",
    " The basic idea is to define a rectangular grid  that covers the triangle $\\Delta$ of barycentric coordinates. The `deCasteljau` function, evaluated at each point $(\\lambda_0, \\lambda_1, \\lambda_2)$ of this grid, defines  a triangular net of points on the surface. These points are then integrated into a meshgrid over the rectangle \n",
    " `[min(X), max(X)], [min(Y), max(Y)]`, where `X` and `Y` are the lists  of x, respectively y-coordinates of the points on the surface.\n",
    " \n",
    "\n",
    "We start with   a triangular grid  of the triangle $\\Delta$  constructed from indexes returned by the function `indexes,` called for an even integer $2m$. \n",
    " \n",
    " We illustrate our method for a low value of $m=4$ (see the next image). \n",
    "    "
   ]
  },
  {
   "cell_type": "code",
   "execution_count": 9,
   "metadata": {
    "collapsed": false
   },
   "outputs": [
    {
     "data": {
      "image/png": "[encoded data removed]",
      "text/plain": [
       "<IPython.core.display.Image object>"
      ]
     },
     "execution_count": 9,
     "metadata": {},
     "output_type": "execute_result"
    }
   ],
   "source": [
    "Image(filename='Imag/triangulation.png')"
   ]
  },
  {
   "cell_type": "markdown",
   "metadata": {
    "collapsed": false
   },
   "source": [
    "On each side we have $2m+1$ points. Considering the points on the side $A_1A_2$ as reference points, we exclude from this grid the points that\n",
    "do not lie on perpendiculars at reference points, on $A_1A_2$. That is, we remove the points in the odd rows (parallel to $A_1A_2$).\n",
    "\n",
    "In fact we define a function `even_rows` that just generate only the points in the even rows of the above triangulation:\n"
   ]
  },
  {
   "cell_type": "code",
   "execution_count": 10,
   "metadata": {
    "collapsed": false
   },
   "outputs": [],
   "source": [
    "def even_row_pts(p):#p=2*m\n",
    "    \n",
    "    if p%2:\n",
    "        raise ValueError('p must be an even integer')\n",
    "    I=[2*k for k in range (p+1)]\n",
    "    return [(i/p,j/p, 1-(i+j)/p) for i in I[::-1] for j in range(p-i, -1, -1)]"
   ]
  },
  {
   "cell_type": "markdown",
   "metadata": {},
   "source": [
    "and get a less dense grid:"
   ]
  },
  {
   "cell_type": "code",
   "execution_count": 11,
   "metadata": {
    "collapsed": false
   },
   "outputs": [
    {
     "data": {
      "image/png": "[encoded data removed]",
      "text/plain": [
       "<IPython.core.display.Image object>"
      ]
     },
     "execution_count": 11,
     "metadata": {},
     "output_type": "execute_result"
    }
   ],
   "source": [
    "Image(filename='Imag/even_rows.png')"
   ]
  },
  {
   "cell_type": "markdown",
   "metadata": {
    "collapsed": true
   },
   "source": [
    " Now to each two consecutive points placed on the same perpendicular to $A_1A_2$ one associates the mid point. Thus we construct \n",
    "additional points to the initial grid (the green points in the next image):"
   ]
  },
  {
   "cell_type": "code",
   "execution_count": 12,
   "metadata": {
    "collapsed": true
   },
   "outputs": [],
   "source": [
    "def additional_weights(m, weights):\n",
    "    \n",
    "    wei=map(np.array, weights)\n",
    "    new_weights=[]\n",
    "    a=0\n",
    "    for k in range(1, m+1):\n",
    "        for j in range(1,2*k):\n",
    "            new_weights.append((wei[a]+wei[a+2*k])/2)\n",
    "            a=a+1\n",
    "    return list(map(tuple, new_weights))        "
   ]
  },
  {
   "cell_type": "markdown",
   "metadata": {
    "collapsed": true
   },
   "source": [
    "The  function `grid` mixes the two  lists  of points:"
   ]
  },
  {
   "cell_type": "code",
   "execution_count": 13,
   "metadata": {
    "collapsed": true
   },
   "outputs": [],
   "source": [
    "def grid(m, weights, new_weights):\n",
    "    \n",
    "    L=len(weights)\n",
    "    barycenters=[]\n",
    "    for  k in range(m):\n",
    "        L=2*k+1\n",
    "        enD=k**2+L \n",
    "        barycenters +=weights[k**2: enD] +new_weights[k**2: enD]\n",
    "    barycenters+=weights[m**2:]  \n",
    "    return barycenters"
   ]
  },
  {
   "cell_type": "markdown",
   "metadata": {},
   "source": [
    "and the final grid of the triangle $A_0A_1A_2$ looks as follows:"
   ]
  },
  {
   "cell_type": "code",
   "execution_count": 14,
   "metadata": {
    "collapsed": false
   },
   "outputs": [
    {
     "data": {
      "image/png": "[encoded data removed]",
      "text/plain": [
       "<IPython.core.display.Image object>"
      ]
     },
     "execution_count": 14,
     "metadata": {},
     "output_type": "execute_result"
    }
   ],
   "source": [
    "Image(filename='Imag/finalgrid.png')"
   ]
  },
  {
   "cell_type": "markdown",
   "metadata": {
    "collapsed": true
   },
   "source": [
    "To each point (triplet of weights) in this grid one associates a point on the B&eacute;zier patch. \n",
    "\n",
    "The following function discretizes a B&eacute;zier surface of degree `n`, control points `b`, and grid points `barycenters`, defined  above:"
   ]
  },
  {
   "cell_type": "code",
   "execution_count": 15,
   "metadata": {
    "collapsed": true
   },
   "outputs": [],
   "source": [
    "def surface_points(n, b, barycenters):\n",
    "    \n",
    "    points=[]\n",
    "    for weight in barycenters:\n",
    "        b_aux=np.array(b)\n",
    "        points.append(deCasteljau(n, b_aux, weight))\n",
    "    return zip(*points)    "
   ]
  },
  {
   "cell_type": "markdown",
   "metadata": {},
   "source": [
    "In order to plot the discretized patch we need to construct three arays of shape (2m+1,2m+1) (or a list of lists) that contain in an appropriate position\n",
    "the x, y, respectively z-coordinates of the computed points.\n",
    "\n",
    "The  values in a list of coordinates are   placed  succesively in the red positions, while outside   the triangle, similar to the triangle $A_1A_1A_2$, we store `None` values:"
   ]
  },
  {
   "cell_type": "code",
   "execution_count": 16,
   "metadata": {
    "collapsed": false
   },
   "outputs": [
    {
     "data": {
      "image/png": "[encoded data removed]",
      "text/plain": [
       "<IPython.core.display.Image object>"
      ]
     },
     "execution_count": 16,
     "metadata": {},
     "output_type": "execute_result"
    }
   ],
   "source": [
    "Image(filename='Imag/gridData.png')"
   ]
  },
  {
   "cell_type": "markdown",
   "metadata": {},
   "source": [
    "The function `move_data_to_triangle` returns a list of lists. The values in a list of coordinates, `D`, are assigned correspondingly to  locations   placed within the formal triangle included in this list of lists:"
   ]
  },
  {
   "cell_type": "code",
   "execution_count": 17,
   "metadata": {
    "collapsed": true
   },
   "outputs": [],
   "source": [
    "def move_data_to_triangle(m, D):\n",
    "    \n",
    "    DD=[]\n",
    "    pos=0\n",
    "    for i in range(m):\n",
    "        L1=[None]*(2*m+1)\n",
    "        L2=[None]*(2*m+1)\n",
    "        idx=[m-i+J for J in range(2*i+1)] \n",
    "        \n",
    "        for k in range(2*i+1):\n",
    "            L1[idx[k]]=D[pos]\n",
    "            pos+=1 \n",
    "        for k in range(2*i+1):\n",
    "            L2[idx[k]]=D[pos]\n",
    "            pos+=1\n",
    "        \n",
    "        DD.append(L1)\n",
    "        DD.append(L2)\n",
    "    K=-(2*m+1)    \n",
    "    DD.append(D[K:]) \n",
    "    return DD\n",
    "   "
   ]
  },
  {
   "cell_type": "markdown",
   "metadata": {
    "collapsed": true
   },
   "source": [
    " `set_data_for_Surface` includes all previous functions that prepare data for a plot:"
   ]
  },
  {
   "cell_type": "code",
   "execution_count": 18,
   "metadata": {
    "collapsed": true
   },
   "outputs": [],
   "source": [
    "def set_data_for_Surface(n, b, m):\n",
    "    \n",
    "    if len(b)!=(n+1)*(n+2)/2:\n",
    "        raise ValueError('incorect number of control points')\n",
    "    weights=even_row_pts(2*m)\n",
    "    new_weights=additional_weights(m, weights)\n",
    "    grid_pts=grid(m, weights, new_weights)\n",
    "    X, Y, Z=surface_points(n, b, grid_pts)\n",
    "    ZZ=move_data_to_triangle(m, Z)\n",
    "    XX= move_data_to_triangle(m, X)\n",
    "    YY=move_data_to_triangle(m, Y)\n",
    "    return [XX, YY, ZZ]"
   ]
  },
  {
   "cell_type": "markdown",
   "metadata": {
    "collapsed": true
   },
   "source": [
    "A  colorscale   derived from  the future `viridis` [colormap](http://matplotlib.org/style_changes.html) is used to plot a `Surface`:"
   ]
  },
  {
   "cell_type": "code",
   "execution_count": 19,
   "metadata": {
    "collapsed": true
   },
   "outputs": [],
   "source": [
    "viridisCS=[[0.0, '#440154'],\n",
    " [0.06274509803921569, '#48186a'],\n",
    " [0.12549019607843137, '#472d7b'],\n",
    " [0.18823529411764706, '#424086'],\n",
    " [0.25098039215686274, '#3b528b'],\n",
    " [0.3137254901960784, '#33638d'],\n",
    " [0.3764705882352941, '#2c728e'],\n",
    " [0.4392156862745098, '#26828e'],\n",
    " [0.5019607843137255, '#21918c'],\n",
    " [0.5647058823529412, '#1fa088'],\n",
    " [0.6274509803921569, '#28ae80'],\n",
    " [0.6901960784313725, '#3fbc73'],\n",
    " [0.7529411764705882, '#5ec962'],\n",
    " [0.8156862745098039, '#84d44b'],\n",
    " [0.8784313725490196, '#addc30'],\n",
    " [0.9411764705882353, '#d8e219'],\n",
    " [1.0, '#fde725']]"
   ]
  },
  {
   "cell_type": "code",
   "execution_count": 20,
   "metadata": {
    "collapsed": false
   },
   "outputs": [],
   "source": [
    "import plotly.plotly as py\n",
    "import plotly.tools as tls\n",
    "from plotly.graph_objs import *"
   ]
  },
  {
   "cell_type": "code",
   "execution_count": 21,
   "metadata": {
    "collapsed": false
   },
   "outputs": [],
   "source": [
    "py.sign_in('empet', 'shzbvu3hbh')"
   ]
  },
  {
   "cell_type": "markdown",
   "metadata": {},
   "source": [
    "`plot_Surface`  generates a triangular B&eacute;zier patch of degree `n` and control points `b`, over the triangular grid of $2m+1$ points on each side of the barycenter triangle $\\Delta$:"
   ]
  },
  {
   "cell_type": "code",
   "execution_count": 22,
   "metadata": {
    "collapsed": true
   },
   "outputs": [],
   "source": [
    "def plot_Surface(n, b, m,  plot_title): \n",
    "\n",
    "    x, y, z= set_data_for_Surface(n, b, m)\n",
    "    \n",
    "    trace = Surface(\n",
    "        z=z, \n",
    "        x=x,  \n",
    "        y=y,   \n",
    "        colorscale=viridisCS\n",
    "        )\n",
    "        \n",
    "    axis = dict(\n",
    "    showbackground=True, \n",
    "    backgroundcolor=\"rgb(230, 230,230)\",\n",
    "    gridcolor=\"rgb(255, 255, 255)\",      \n",
    "    zerolinecolor=\"rgb(255, 255, 255)\",  \n",
    "    )\n",
    "\n",
    "    layout = Layout(\n",
    "         title=plot_title, \n",
    "         width=600,\n",
    "         height=600,\n",
    "         scene=Scene(  \n",
    "         xaxis=XAxis(axis),\n",
    "         yaxis=YAxis(axis), \n",
    "         zaxis=ZAxis(axis)  \n",
    "        )\n",
    "        )\n",
    "    fig = Figure(data=[trace], layout=layout)\n",
    "    return fig"
   ]
  },
  {
   "cell_type": "markdown",
   "metadata": {},
   "source": [
    "Finally we generate our first B&eacute;zier patch of degree $n=4$, over a grid corresponding to  $m=80$:"
   ]
  },
  {
   "cell_type": "code",
   "execution_count": 23,
   "metadata": {
    "collapsed": true
   },
   "outputs": [],
   "source": [
    "n=4\n",
    "b=[[2.0, 3.0, 2.0],\n",
    " [1.5, 2.25, 3.0],\n",
    " [2.5, 2.25, 5.0],\n",
    " [1.0, 1.5, 4.0],\n",
    " [2.0, 1.5, 5.0],\n",
    " [3.0, 1.5, 3.0],\n",
    " [0.5, 0.75, 1.0],\n",
    " [1.5, 0.75, 3.0],\n",
    " [2.5, 0.75, 1.0],\n",
    " [3.5, 0.75, 4.0],\n",
    " [0.0, 0.0, 2.0],\n",
    " [1.0, 0.0, 5.0],\n",
    " [2.0, 0.0, 3.0],\n",
    " [3.0, 0.0, 1.0],\n",
    " [4.0, 0.0, 4.0]]\n",
    "m=80"
   ]
  },
  {
   "cell_type": "code",
   "execution_count": 24,
   "metadata": {
    "collapsed": false
   },
   "outputs": [
    {
     "data": {
      "text/html": [
       "<iframe id=\"igraph\" scrolling=\"no\" style=\"border:none;\"seamless=\"seamless\" src=\"https://plot.ly/~empet/2143.embed\" height=\"525\" width=\"100%\"></iframe>"
      ],
      "text/plain": [
       "<plotly.tools.PlotlyDisplay object>"
      ]
     },
     "execution_count": 24,
     "metadata": {},
     "output_type": "execute_result"
    }
   ],
   "source": [
    "fig=plot_Surface(n, b, m,  'Bezier triangular patch of degree 4')\n",
    "py.iplot(fig, filename='Bezier-triangular-patch')"
   ]
  },
  {
   "cell_type": "markdown",
   "metadata": {},
   "source": [
    "###Plotting the control polyhedron of a triangular B&eacute;zier patch###"
   ]
  },
  {
   "cell_type": "markdown",
   "metadata": {},
   "source": [
    "A B&eacute;zier triangular patch of degree $n$ and control points ${\\bf b}_{ijk}$ interpolates the corners of the triangular net formed by these points, that is, it interpolates\n",
    "the points ${\\bf b}_{n00}, {\\bf b}_{0n0}, {\\bf b}_{00n}$, and it is included in the convex hull of all its control points.\n"
   ]
  },
  {
   "cell_type": "markdown",
   "metadata": {
    "collapsed": true
   },
   "source": [
    "To illustrate this property we define the  control polyhedron of the patch, i.e. the plotly trace\n",
    "we get connecting with lines the points in a triplet of nearby points."
   ]
  },
  {
   "cell_type": "markdown",
   "metadata": {},
   "source": [
    "The function `triangles` returns the lists of all triplets of nearby points in the triangular net ${\\bf b}_{ijk}$, $i+j+k=n$:"
   ]
  },
  {
   "cell_type": "code",
   "execution_count": 25,
   "metadata": {
    "collapsed": true
   },
   "outputs": [],
   "source": [
    "def triangles(n, b):\n",
    "    \n",
    "    triplets=[]\n",
    "    i=0\n",
    "    j=1\n",
    "    for nr in range(1,n+1):\n",
    "        for k in range(nr):\n",
    "            triplets.append([b[i], b[j], b[j+1]])\n",
    "            i+=1\n",
    "            j+=1\n",
    "        j+=1\n",
    "    return triplets    "
   ]
  },
  {
   "cell_type": "markdown",
   "metadata": {},
   "source": [
    "and the function `triangle_lines` prepares  data for a `Scater3d` trace of the control polyhedron edges:"
   ]
  },
  {
   "cell_type": "code",
   "execution_count": 26,
   "metadata": {
    "collapsed": true
   },
   "outputs": [],
   "source": [
    "def triangle_lines(triplets):\n",
    "\n",
    "    line_pts=[]\n",
    "    for tri in triplets:\n",
    "        x, y, z=zip(*tri)\n",
    "        x=list(x)+[x[0]]\n",
    "        y=list(y)+[y[0]]\n",
    "        z=list(z)+[z[0]]\n",
    "        line_pts.append(Scatter3d(x=x, y=y, z=z,\n",
    "                              name='',\n",
    "                              mode='lines+markers', \n",
    "                              line=Line(color='#000762',\n",
    "                                        width=4),\n",
    "                              marker=Marker(\n",
    "                              symbol='dot',\n",
    "                              size=5,\n",
    "                              color='#000762')\n",
    "                                 )   \n",
    "                       )\n",
    "    return line_pts"
   ]
  },
  {
   "cell_type": "markdown",
   "metadata": {},
   "source": [
    "The function `plot_surface_polyedron` plots both a B&eacute;zier patch and its control polyedron:\n",
    "    "
   ]
  },
  {
   "cell_type": "code",
   "execution_count": 27,
   "metadata": {
    "collapsed": false
   },
   "outputs": [],
   "source": [
    "def plot_surface_polyhedron(n, b, m, plot_title):\n",
    "    \n",
    "    x, y, z= set_data_for_Surface(n, b, m)\n",
    "    \n",
    "    trace = Surface(\n",
    "        z=z, \n",
    "        x=x,  \n",
    "        y=y,   \n",
    "        colorscale=viridisCS\n",
    "        )\n",
    "    \n",
    "    triplets=triangles(n,b)\n",
    "    lines_pts=triangle_lines(triplets)\n",
    "    \n",
    "    axis = dict(\n",
    "    showbackground=True, \n",
    "    backgroundcolor=\"rgb(230, 230,230)\",\n",
    "    gridcolor=\"rgb(255, 255, 255)\",      \n",
    "    zerolinecolor=\"rgb(255, 255, 255)\",  \n",
    "    )\n",
    "\n",
    "    layout = Layout(\n",
    "         title=plot_title, \n",
    "         width=600,\n",
    "         height=600,\n",
    "         showlegend=False,\n",
    "         scene=Scene(  \n",
    "         xaxis=XAxis(axis),\n",
    "         yaxis=YAxis(axis), \n",
    "         zaxis=ZAxis(axis)  \n",
    "         )\n",
    "        )\n",
    "    fig = Figure(data=[trace]+lines_pts, layout=layout)\n",
    "    return fig"
   ]
  },
  {
   "cell_type": "markdown",
   "metadata": {},
   "source": [
    "Data for a cubic (degree  $n=3$) triangular B&eacute;zier patch and its control polyhedron:"
   ]
  },
  {
   "cell_type": "code",
   "execution_count": 28,
   "metadata": {
    "collapsed": false
   },
   "outputs": [],
   "source": [
    "n=3\n",
    "d=[[2.5, 2.5, 1.5],\n",
    "  [1.3, 2, 3],\n",
    "  [3, 2.5, 3],\n",
    "  [1, 1, 2],\n",
    "  [2.5, 1, 4],\n",
    "  [4, 1, 1],\n",
    "  [0, 1, 1],\n",
    "  [2, 0, 2],\n",
    "  [3, -0.5, 1.5],\n",
    "  [5, 0, -0.5]]\n",
    "m=80"
   ]
  },
  {
   "cell_type": "code",
   "execution_count": 29,
   "metadata": {
    "collapsed": false
   },
   "outputs": [
    {
     "data": {
      "text/html": [
       "<iframe id=\"igraph\" scrolling=\"no\" style=\"border:none;\"seamless=\"seamless\" src=\"https://plot.ly/~empet/2141.embed\" height=\"525\" width=\"100%\"></iframe>"
      ],
      "text/plain": [
       "<plotly.tools.PlotlyDisplay object>"
      ]
     },
     "execution_count": 29,
     "metadata": {},
     "output_type": "execute_result"
    }
   ],
   "source": [
    "fig=plot_surface_polyhedron(n,d, m, 'A cubic triangular Bezier patch and its control polyhedron')\n",
    "py.iplot(fig, filename='Bezier-cubic')"
   ]
  },
  {
   "cell_type": "markdown",
   "metadata": {},
   "source": [
    "### Triangular B&eacute;zier graphs and their contour plots###"
   ]
  },
  {
   "cell_type": "markdown",
   "metadata": {},
   "source": [
    "A degree $n$ triangular B&eacute;zier patch is the graph of a function defined on a planar triangular region of vertices\n",
    "$T_0, T_1, T_2$,  if its control points have the coordinates\n",
    "${\\bf b}_{ijk}=(x_{ijk},y_{ijk}, z_{ijk})$, $i+j+k=n$, where $(x_{ijk},y_{ijk})$ are points in the triangular region $T$, of barycentric coordinates $(i/n, j/n, k/n)$, and $z_{ijk}$ are real values set by the user.\n",
    "\n"
   ]
  },
  {
   "cell_type": "markdown",
   "metadata": {
    "collapsed": true
   },
   "source": [
    "Initial data for defining such a graph are:\n",
    "  - the degree, $n$\n",
    "  - the triangle $T$ given as a list of three numpy arrays of shape (2,)\n",
    "  - a list, `b_z`, of $(n+1)(n+2)/2$ real values representing  $z$-coordinates of the control points "
   ]
  },
  {
   "cell_type": "markdown",
   "metadata": {},
   "source": [
    "The function:"
   ]
  },
  {
   "cell_type": "code",
   "execution_count": 60,
   "metadata": {
    "collapsed": true
   },
   "outputs": [],
   "source": [
    "cartesian_coords=lambda w, T: w[0]*T[0]+w[1]*T[1]+w[2]*T[2]"
   ]
  },
  {
   "cell_type": "markdown",
   "metadata": {},
   "source": [
    "calculates the cartesian coordinates of a point having barycentic coordinates $(w_0, w_1, w_2)$, with respect to a triangle $T$.\n",
    "\n",
    "The control points of the graph are returned by the following function:"
   ]
  },
  {
   "cell_type": "code",
   "execution_count": 64,
   "metadata": {
    "collapsed": true
   },
   "outputs": [],
   "source": [
    "def control_points(n, T, b_z):\n",
    "    ind=indexes(n)\n",
    "    weights=[(i/n, j/n, k/n) for (i, j, k) in ind]\n",
    "    b_xy=[cartesian_coords(w,T) for w in weights]\n",
    "    b_xy=map(list, b_xy)\n",
    "    len_bxy=len(b_xy)\n",
    "    b=[b_xy[k]+[b_z[k]] for k in range(len_bxy)]\n",
    "    return b"
   ]
  },
  {
   "cell_type": "markdown",
   "metadata": {},
   "source": [
    "Let us define a B&eacute;zier triangular graph of degree $n=4$, over the triangle $T$:"
   ]
  },
  {
   "cell_type": "code",
   "execution_count": 65,
   "metadata": {
    "collapsed": true
   },
   "outputs": [],
   "source": [
    "n=4\n",
    "m=80\n",
    "nr_ctrl_pts=(n+1)*(n+2)/2\n",
    "T=[np.array([0, 1.5]), np.array([-1,0]), np.array([1, 0])]"
   ]
  },
  {
   "cell_type": "markdown",
   "metadata": {},
   "source": [
    "$z$-coordinates of the control points are set arbitrary in the interval $[1,5]$:"
   ]
  },
  {
   "cell_type": "code",
   "execution_count": 66,
   "metadata": {
    "collapsed": true
   },
   "outputs": [],
   "source": [
    "b_z=1+4*np.random.random(nr_ctrl_pts)"
   ]
  },
  {
   "cell_type": "markdown",
   "metadata": {},
   "source": [
    "Then the control points of our graph are:"
   ]
  },
  {
   "cell_type": "code",
   "execution_count": 67,
   "metadata": {
    "collapsed": true
   },
   "outputs": [],
   "source": [
    "b=control_points(n, T, b_z)"
   ]
  },
  {
   "cell_type": "code",
   "execution_count": 69,
   "metadata": {
    "collapsed": false
   },
   "outputs": [
    {
     "data": {
      "text/html": [
       "<iframe id=\"igraph\" scrolling=\"no\" style=\"border:none;\"seamless=\"seamless\" src=\"https://plot.ly/~empet/2281.embed\" height=\"525\" width=\"100%\"></iframe>"
      ],
      "text/plain": [
       "<plotly.tools.PlotlyDisplay object>"
      ]
     },
     "execution_count": 69,
     "metadata": {},
     "output_type": "execute_result"
    }
   ],
   "source": [
    "fig=plot_Surface(n, b, m,  'Graph as a triangular Bezier patch')\n",
    "py.iplot(fig, filename='triangular-Bezier-graph4')"
   ]
  },
  {
   "cell_type": "markdown",
   "metadata": {},
   "source": [
    "###Contour plot of a triangular B&eacute;zier graph###"
   ]
  },
  {
   "cell_type": "markdown",
   "metadata": {},
   "source": [
    "Having a method to generate a triangular B&eacute;zier graph, we  can generate its contour plot with Plotly."
   ]
  },
  {
   "cell_type": "markdown",
   "metadata": {},
   "source": [
    "We set the data  for a plotly `Contour`, namely a 2D array or a list of lists for z-values on the surface, and two 1D lists for x, respectively y-coordinates of the grid points in the triangle $T$."
   ]
  },
  {
   "cell_type": "code",
   "execution_count": 70,
   "metadata": {
    "collapsed": true
   },
   "outputs": [],
   "source": [
    "n=4\n",
    "m=80"
   ]
  },
  {
   "cell_type": "code",
   "execution_count": 71,
   "metadata": {
    "collapsed": true
   },
   "outputs": [],
   "source": [
    "weights=even_row_pts(2*m)\n",
    "new_weights=additional_weights(m, weights)\n",
    "grid_pts=grid(m, weights, new_weights)\n",
    "X, Y, Z=surface_points(n, b, grid_pts)\n",
    "ZZ=move_data_to_triangle(m, Z)[::-1]"
   ]
  },
  {
   "cell_type": "markdown",
   "metadata": {},
   "source": [
    "Get the x-list for `Contour`:"
   ]
  },
  {
   "cell_type": "code",
   "execution_count": 73,
   "metadata": {
    "collapsed": false
   },
   "outputs": [],
   "source": [
    "K=-(2*m+1)  \n",
    "XX= [cartesian_coords(w,T)[0] for w in grid_pts[K:]]   \n",
    "x=sorted(list(set(XX)))\n"
   ]
  },
  {
   "cell_type": "markdown",
   "metadata": {},
   "source": [
    "and the y-list:"
   ]
  },
  {
   "cell_type": "code",
   "execution_count": 74,
   "metadata": {
    "collapsed": false
   },
   "outputs": [],
   "source": [
    "I=[k**2 for k in range(m)]\n",
    "Lam=[]\n",
    "for k in range(m):\n",
    "    Lam.append(weights[I[k]+k])\n",
    "    Lam.append(new_weights[I[k]+k])\n",
    "Lam.append(weights[-(m+1)] )   \n",
    "YY=[cartesian_coords(w,T)[1] for w in  Lam]\n",
    "y=sorted(list(set(YY)))\n"
   ]
  },
  {
   "cell_type": "markdown",
   "metadata": {},
   "source": [
    "Plot the triangular contour:"
   ]
  },
  {
   "cell_type": "code",
   "execution_count": 76,
   "metadata": {
    "collapsed": false
   },
   "outputs": [
    {
     "data": {
      "text/html": [
       "<iframe id=\"igraph\" scrolling=\"no\" style=\"border:none;\"seamless=\"seamless\" src=\"https://plot.ly/~empet/2283.embed\" height=\"525\" width=\"100%\"></iframe>"
      ],
      "text/plain": [
       "<plotly.tools.PlotlyDisplay object>"
      ]
     },
     "execution_count": 76,
     "metadata": {},
     "output_type": "execute_result"
    }
   ],
   "source": [
    "title=\"Contourplot of a triangular Bezier function\"\n",
    "data = Data([\n",
    "    Contour(\n",
    "        z=ZZ,\n",
    "        x=x, \n",
    "        y=y,\n",
    "        autocontour=False,\n",
    "        zauto=False,  \n",
    "        contours=Contours(\n",
    "            showlines=False,    \n",
    "            start =min(Z),   \n",
    "            end=max(Z),\n",
    "            size=0.1\n",
    "        ),    \n",
    "        colorscale=viridisCS, \n",
    "    ),\n",
    "    ])\n",
    "layout = Layout(\n",
    "    title= title,  \n",
    "    font= Font(family='Georgia, serif',  color='#635F5D'),\n",
    "    showlegend=False,\n",
    "    autosize=False,\n",
    "    width=500,\n",
    "    height=500,\n",
    "    xaxis=XAxis(\n",
    "        range=[min(x), max(x)],\n",
    "        showgrid=False,\n",
    "    ),\n",
    "    yaxis=YAxis(\n",
    "        range=[min(y), max(y)],\n",
    "        showgrid=False,\n",
    "    ),\n",
    "    margin=Margin(\n",
    "        l=40,\n",
    "        r=40,\n",
    "        b=85,\n",
    "        t=100,\n",
    "        pad=0,\n",
    "        autoexpand=True\n",
    "    ),\n",
    "    )\n",
    "fig = Figure(data=data, layout=layout)\n",
    "py.iplot(fig, filename='Contourplot-triangular-Bezier-graph4')"
   ]
  },
  {
   "cell_type": "markdown",
   "metadata": {},
   "source": [
    "Another pair graph-contour plot can be seen here:\n",
    " - graph: https://plot.ly/~empet/2266/graph-as-a-triangular-bezier-patch/    \n",
    " - contour plot: https://plot.ly/~empet/2268/contourplot-of-a-triangular-bezier-function/   "
   ]
  },
  {
   "cell_type": "code",
   "execution_count": 2,
   "metadata": {
    "collapsed": false
   },
   "outputs": [
    {
     "name": "stdout",
     "output_type": "stream",
     "text": [
      "\u001b[33mYou are using pip version 7.0.3, however version 7.1.2 is available.\n",
      "You should consider upgrading via the 'pip install --upgrade pip' command.\u001b[0m\n",
      "\u001b[33mDEPRECATION: --download-cache has been deprecated and will be removed in the future. Pip now automatically uses and configures its cache.\u001b[0m\n",
      "Requirement already up-to-date: publisher in /Users/nedaamin/Repos/venv27/lib/python2.7/site-packages\n"
     ]
    },
    {
     "data": {
      "text/html": [
       "<link href=\"//fonts.googleapis.com/css?family=Open+Sans:600,400,300,200|Inconsolata|Ubuntu+Mono:400,700\" rel=\"stylesheet\" type=\"text/css\" />"
      ],
      "text/plain": [
       "<IPython.core.display.HTML object>"
      ]
     },
     "metadata": {},
     "output_type": "display_data"
    },
    {
     "data": {
      "text/html": [
       "<link rel=\"stylesheet\" type=\"text/css\" href=\"https://help.plot.ly/documentation/all_static/css/ipython-notebook-custom.css\">"
      ],
      "text/plain": [
       "<IPython.core.display.HTML object>"
      ]
     },
     "metadata": {},
     "output_type": "display_data"
    }
   ],
   "source": [
    "! pip install publisher --upgrade\n",
    "\n",
    "from IPython.display import HTML, display\n",
    "\n",
    "display(HTML('<link href=\"//fonts.googleapis.com/css?family=Open+Sans:600,400,300,200|Inconsolata|Ubuntu+Mono:400,700\" rel=\"stylesheet\" type=\"text/css\" />'))\n",
    "display(HTML('<link rel=\"stylesheet\" type=\"text/css\" href=\"https://help.plot.ly/documentation/all_static/css/ipython-notebook-custom.css\">'))\n",
    "\n",
    "import publisher\n",
    "publisher.publish('bezier', '/ipython-notebooks/bezier-triangular-patches/', \n",
    "                  'Bézier Triangular Patches', \n",
    "                  'How to make bézier triangular patches with Python and Plotly graphs.')"
   ]
  },
  {
   "cell_type": "code",
   "execution_count": null,
   "metadata": {
    "collapsed": true
   },
   "outputs": [],
   "source": []
  }
 ],
 "metadata": {
  "kernelspec": {
   "display_name": "Python 2",
   "language": "python",
   "name": "python2"
  },
  "language_info": {
   "codemirror_mode": {
    "name": "ipython",
    "version": 2
   },
   "file_extension": ".py",
   "mimetype": "text/x-python",
   "name": "python",
   "nbconvert_exporter": "python",
   "pygments_lexer": "ipython2",
   "version": "2.7.10"
  }
 },
 "nbformat": 4,
 "nbformat_minor": 0
}
