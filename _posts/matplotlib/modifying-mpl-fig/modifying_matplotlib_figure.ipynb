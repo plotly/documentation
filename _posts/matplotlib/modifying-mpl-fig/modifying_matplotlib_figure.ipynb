{
 "cells": [
  {
   "cell_type": "markdown",
   "metadata": {},
   "source": [
    "# Modifying a Matplotlib Figure\n",
    "\n",
    "In this example, we will see how we can convert a Matplotlib's Plot to a Plotly Compatible `Figure` object.\n",
    "\n",
    "Importing the dependencies:"
   ]
  },
  {
   "cell_type": "code",
   "execution_count": 1,
   "metadata": {
    "collapsed": true
   },
   "outputs": [],
   "source": [
    "%matplotlib inline \n",
    "import pprint\n",
    "import numpy as np\n",
    "\n",
    "# Matplotlib\n",
    "import matplotlib.pyplot as plt\n",
    "\n",
    "# Plotly\n",
    "import plotly.plotly as py\n",
    "import plotly.tools as tls"
   ]
  },
  {
   "cell_type": "markdown",
   "metadata": {},
   "source": [
    "We will create a simple sine curve using Matplotlib. Then, we will convert it into Plotly's Figure object, and add another curve to the plot. Finally we will be able to plot the curve using Plotly."
   ]
  },
  {
   "cell_type": "code",
   "execution_count": 2,
   "metadata": {
    "collapsed": true
   },
   "outputs": [],
   "source": [
    "## Generating the data..\n",
    "x =  np.linspace(np.pi, 3*np.pi, 1000)\n",
    "sinx = np.sin(x)\n",
    "logx = np.log(x)"
   ]
  },
  {
   "cell_type": "code",
   "execution_count": 3,
   "metadata": {
    "collapsed": false
   },
   "outputs": [
    {
     "data": {
      "text/plain": [
       "<matplotlib.text.Text at 0x10baafd90>"
      ]
     },
     "execution_count": 3,
     "metadata": {},
     "output_type": "execute_result"
    },
    {
     "data": {
      "image/png": "[encoded data removed]",
      "text/plain": [
       "<matplotlib.figure.Figure at 0x10476a810>"
      ]
     },
     "metadata": {},
     "output_type": "display_data"
    }
   ],
   "source": [
    "# Creating the matplotlib graph..\n",
    "mpl_fig = plt.figure()\n",
    "ax = mpl_fig.add_subplot(111)\n",
    "ax.plot(x, sinx)\n",
    "ax.set_title('A Sine Curve')"
   ]
  },
  {
   "cell_type": "markdown",
   "metadata": {},
   "source": [
    "Now we will convert the figure into Plotly compatible figure object using a utility method `mpl_to_plotly`."
   ]
  },
  {
   "cell_type": "code",
   "execution_count": 4,
   "metadata": {
    "collapsed": false
   },
   "outputs": [
    {
     "name": "stdout",
     "output_type": "stream",
     "text": [
      "Help on function mpl_to_plotly in module plotly.tools:\n",
      "\n",
      "mpl_to_plotly(fig, resize=False, strip_style=False, verbose=False)\n",
      "    Convert a matplotlib figure to plotly dictionary and send.\n",
      "    \n",
      "    All available information about matplotlib visualizations are stored\n",
      "    within a matplotlib.figure.Figure object. You can create a plot in python\n",
      "    using matplotlib, store the figure object, and then pass this object to\n",
      "    the fig_to_plotly function. In the background, mplexporter is used to\n",
      "    crawl through the mpl figure object for appropriate information. This\n",
      "    information is then systematically sent to the PlotlyRenderer which\n",
      "    creates the JSON structure used to make plotly visualizations. Finally,\n",
      "    these dictionaries are sent to plotly and your browser should open up a\n",
      "    new tab for viewing! Optionally, if you're working in IPython, you can\n",
      "    set notebook=True and the PlotlyRenderer will call plotly.iplot instead\n",
      "    of plotly.plot to have the graph appear directly in the IPython notebook.\n",
      "    \n",
      "    Note, this function gives the user access to a simple, one-line way to\n",
      "    render an mpl figure in plotly. If you need to trouble shoot, you can do\n",
      "    this step manually by NOT running this fuction and entereing the following:\n",
      "    \n",
      "    ===========================================================================\n",
      "    from mplexporter import Exporter\n",
      "    from mplexporter.renderers import PlotlyRenderer\n",
      "    \n",
      "    # create an mpl figure and store it under a varialble 'fig'\n",
      "    \n",
      "    renderer = PlotlyRenderer()\n",
      "    exporter = Exporter(renderer)\n",
      "    exporter.run(fig)\n",
      "    ===========================================================================\n",
      "    \n",
      "    You can then inspect the JSON structures by accessing these:\n",
      "    \n",
      "    renderer.layout -- a plotly layout dictionary\n",
      "    renderer.data -- a list of plotly data dictionaries\n",
      "    \n",
      "    Positional arguments:\n",
      "    fig -- a matplotlib figure object\n",
      "    username -- a valid plotly username **\n",
      "    api_key -- a valid api_key for the above username **\n",
      "    notebook -- an option for use with an IPython notebook\n",
      "    \n",
      "    ** Don't have a username/api_key? Try looking here:\n",
      "    https://plot.ly/plot\n",
      "    \n",
      "    ** Forgot your api_key? Try signing in and looking here:\n",
      "    https://plot.ly/python/getting-started\n",
      "\n"
     ]
    }
   ],
   "source": [
    "help (tls.mpl_to_plotly)"
   ]
  },
  {
   "cell_type": "code",
   "execution_count": 5,
   "metadata": {
    "collapsed": false
   },
   "outputs": [],
   "source": [
    "# Converting to Plotly's Figure object..\n",
    "plotly_fig = tls.mpl_to_plotly(mpl_fig)"
   ]
  },
  {
   "cell_type": "code",
   "execution_count": 6,
   "metadata": {
    "collapsed": false
   },
   "outputs": [
    {
     "name": "stdout",
     "output_type": "stream",
     "text": [
      "{   'autosize': False,\n",
      "    'height': 320,\n",
      "    'hovermode': 'closest',\n",
      "    'margin': {   'b': 40, 'l': 60, 'pad': 0, 'r': 47, 't': 31},\n",
      "    'showlegend': False,\n",
      "    'title': u'A Sine Curve',\n",
      "    'titlefont': {   'color': '#000000', 'size': 12.0},\n",
      "    'width': 480,\n",
      "    'xaxis1': {   'anchor': 'y1',\n",
      "                  'domain': [0.0, 1.0],\n",
      "                  'mirror': 'ticks',\n",
      "                  'nticks': 8,\n",
      "                  'range': [3.0, 10.0],\n",
      "                  'showgrid': False,\n",
      "                  'showline': True,\n",
      "                  'side': 'bottom',\n",
      "                  'tickfont': {   'size': 10.0},\n",
      "                  'ticks': 'inside',\n",
      "                  'type': u'linear',\n",
      "                  'zeroline': False},\n",
      "    'yaxis1': {   'anchor': 'x1',\n",
      "                  'domain': [0.0, 1.0],\n",
      "                  'mirror': 'ticks',\n",
      "                  'nticks': 5,\n",
      "                  'range': [-1.0, 1.0],\n",
      "                  'showgrid': False,\n",
      "                  'showline': True,\n",
      "                  'side': 'left',\n",
      "                  'tickfont': {   'size': 10.0},\n",
      "                  'ticks': 'inside',\n",
      "                  'type': u'linear',\n",
      "                  'zeroline': False}}\n"
     ]
    }
   ],
   "source": [
    "pp = pprint.PrettyPrinter(indent=4)\n",
    "pp.pprint(plotly_fig['layout'])"
   ]
  },
  {
   "cell_type": "markdown",
   "metadata": {},
   "source": [
    "Now, we will supply some data to `plotly_fig`:"
   ]
  },
  {
   "cell_type": "code",
   "execution_count": 7,
   "metadata": {
    "collapsed": false
   },
   "outputs": [],
   "source": [
    "# Adding some new data points ..\n",
    "plotly_fig['data'].append( dict(x=x, y=logx, type='scatter', mode='lines') )"
   ]
  },
  {
   "cell_type": "markdown",
   "metadata": {},
   "source": [
    "Similarly, we can also edit the `Layout`. We will edit the Plot Title, and enable the grid here:"
   ]
  },
  {
   "cell_type": "code",
   "execution_count": 8,
   "metadata": {
    "collapsed": false
   },
   "outputs": [],
   "source": [
    "plotly_fig['layout']['title'] = 'Sine and Logarithmic Curve'\n",
    "\n",
    "plotly_fig['layout']['xaxis1']['showgrid'] = True\n",
    "plotly_fig['layout']['xaxis1']['autorange'] = True\n",
    "\n",
    "plotly_fig['layout']['yaxis1']['showgrid'] = True\n",
    "plotly_fig['layout']['yaxis1']['autorange'] = True"
   ]
  },
  {
   "cell_type": "markdown",
   "metadata": {},
   "source": [
    "Now we can plot the modified figure using Plotly's Graphing API:\n"
   ]
  },
  {
   "cell_type": "code",
   "execution_count": 9,
   "metadata": {
    "collapsed": false
   },
   "outputs": [
    {
     "data": {
      "text/html": [
       "<iframe id=\"igraph\" scrolling=\"no\" style=\"border:none;\"seamless=\"seamless\" src=\"https://plot.ly/~tarzzz/1291.embed\" height=\"320px\" width=\"480px\"></iframe>"
      ],
      "text/plain": [
       "<plotly.tools.PlotlyDisplay object>"
      ]
     },
     "execution_count": 9,
     "metadata": {},
     "output_type": "execute_result"
    }
   ],
   "source": [
    "py.iplot(plotly_fig, filename='sine-and-logarithmic-plot')"
   ]
  }
 ],
 "metadata": {
  "kernelspec": {
   "display_name": "Python 2",
   "language": "python",
   "name": "python2"
  },
  "language_info": {
   "codemirror_mode": {
    "name": "ipython",
    "version": 2
   },
   "file_extension": ".py",
   "mimetype": "text/x-python",
   "name": "python",
   "nbconvert_exporter": "python",
   "pygments_lexer": "ipython2",
   "version": "2.7.11"
  }
 },
 "nbformat": 4,
 "nbformat_minor": 0
}
