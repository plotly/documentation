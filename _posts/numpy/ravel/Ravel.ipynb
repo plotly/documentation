{
 "cells": [
  {
   "cell_type": "markdown",
   "metadata": {},
   "source": [
    "#### New to Plotly?\n",
    "Plotly's Python library is free and open source! [Get started](https://plot.ly/python/getting-started/) by downloading the client and [reading the primer](https://plot.ly/python/getting-started/).\n",
    "<br>You can set up Plotly to work in [online](https://plot.ly/python/getting-started/#initialization-for-online-plotting) or [offline](https://plot.ly/python/getting-started/#initialization-for-offline-plotting) mode, or in [jupyter notebooks](https://plot.ly/python/getting-started/#start-plotting-online).\n",
    "<br>We also have a quick-reference [cheatsheet](https://images.plot.ly/plotly-documentation/images/python_cheat_sheet.pdf) (new!) to help you get started!"
   ]
  },
  {
   "cell_type": "markdown",
   "metadata": {},
   "source": [
    "### Imports\n",
    "This tutorial imports [Plotly](https://plot.ly/python/getting-started/) and [Numpy](http://www.numpy.org/)."
   ]
  },
  {
   "cell_type": "code",
   "execution_count": 1,
   "metadata": {
    "collapsed": false
   },
   "outputs": [],
   "source": [
    "import plotly.plotly as py\n",
    "from plotly.tools import FigureFactory as FF\n",
    "\n",
    "import numpy as np"
   ]
  },
  {
   "cell_type": "markdown",
   "metadata": {},
   "source": [
    "#### Ravel\n",
    "\n",
    "`np.ravel()` is used to \"flatten\" an ND-array by extracting all its values and returning a 1D-array of all the values from the original."
   ]
  },
  {
   "cell_type": "code",
   "execution_count": 2,
   "metadata": {
    "collapsed": false
   },
   "outputs": [
    {
     "data": {
      "text/html": [
       "<iframe id=\"igraph\" scrolling=\"no\" style=\"border:none;\" seamless=\"seamless\" src=\"https://plot.ly/~AdamKulidjian/1742.embed\" height=\"525px\" width=\"100%\"></iframe>"
      ],
      "text/plain": [
       "<plotly.tools.PlotlyDisplay object>"
      ]
     },
     "execution_count": 2,
     "metadata": {},
     "output_type": "execute_result"
    }
   ],
   "source": [
    "import plotly.plotly as py\n",
    "from plotly.tools import FigureFactory as FF\n",
    "\n",
    "pi_array = np.array([[3, 1, 4, 1],\n",
    "                     [5, 9, 2, 6],\n",
    "                     [5, 3, 5, 8],\n",
    "                     [9, 7, 9, 3]])\n",
    "\n",
    "ravel_array = np.ravel(pi_array)\n",
    "\n",
    "fig = FF.create_annotated_heatmap([ravel_array], colorscale='Earth' )\n",
    "fig.layout.title = '$\\pi$'\n",
    "py.iplot(fig, filename='numpy-ravel-pi')"
   ]
  },
  {
   "cell_type": "code",
   "execution_count": 2,
   "metadata": {
    "collapsed": false
   },
   "outputs": [
    {
     "name": "stdout",
     "output_type": "stream",
     "text": [
      "Help on function ravel in module numpy.core.fromnumeric:\n",
      "\n",
      "ravel(a, order='C')\n",
      "    Return a contiguous flattened array.\n",
      "    \n",
      "    A 1-D array, containing the elements of the input, is returned.  A copy is\n",
      "    made only if needed.\n",
      "    \n",
      "    As of NumPy 1.10, the returned array will have the same type as the input\n",
      "    array. (for example, a masked array will be returned for a masked array\n",
      "    input)\n",
      "    \n",
      "    Parameters\n",
      "    ----------\n",
      "    a : array_like\n",
      "        Input array.  The elements in `a` are read in the order specified by\n",
      "        `order`, and packed as a 1-D array.\n",
      "    order : {'C','F', 'A', 'K'}, optional\n",
      "    \n",
      "        The elements of `a` are read using this index order. 'C' means\n",
      "        to index the elements in row-major, C-style order,\n",
      "        with the last axis index changing fastest, back to the first\n",
      "        axis index changing slowest.  'F' means to index the elements\n",
      "        in column-major, Fortran-style order, with the\n",
      "        first index changing fastest, and the last index changing\n",
      "        slowest. Note that the 'C' and 'F' options take no account of\n",
      "        the memory layout of the underlying array, and only refer to\n",
      "        the order of axis indexing.  'A' means to read the elements in\n",
      "        Fortran-like index order if `a` is Fortran *contiguous* in\n",
      "        memory, C-like order otherwise.  'K' means to read the\n",
      "        elements in the order they occur in memory, except for\n",
      "        reversing the data when strides are negative.  By default, 'C'\n",
      "        index order is used.\n",
      "    \n",
      "    Returns\n",
      "    -------\n",
      "    y : array_like\n",
      "        If `a` is a matrix, y is a 1-D ndarray, otherwise y is an array of\n",
      "        the same subtype as `a`. The shape of the returned array is\n",
      "        ``(a.size,)``. Matrices are special cased for backward\n",
      "        compatibility.\n",
      "    \n",
      "    See Also\n",
      "    --------\n",
      "    ndarray.flat : 1-D iterator over an array.\n",
      "    ndarray.flatten : 1-D array copy of the elements of an array\n",
      "                      in row-major order.\n",
      "    ndarray.reshape : Change the shape of an array without changing its data.\n",
      "    \n",
      "    Notes\n",
      "    -----\n",
      "    In row-major, C-style order, in two dimensions, the row index\n",
      "    varies the slowest, and the column index the quickest.  This can\n",
      "    be generalized to multiple dimensions, where row-major order\n",
      "    implies that the index along the first axis varies slowest, and\n",
      "    the index along the last quickest.  The opposite holds for\n",
      "    column-major, Fortran-style index ordering.\n",
      "    \n",
      "    When a view is desired in as many cases as possible, ``arr.reshape(-1)``\n",
      "    may be preferable.\n",
      "    \n",
      "    Examples\n",
      "    --------\n",
      "    It is equivalent to ``reshape(-1, order=order)``.\n",
      "    \n",
      "    >>> x = np.array([[1, 2, 3], [4, 5, 6]])\n",
      "    >>> print(np.ravel(x))\n",
      "    [1 2 3 4 5 6]\n",
      "    \n",
      "    >>> print(x.reshape(-1))\n",
      "    [1 2 3 4 5 6]\n",
      "    \n",
      "    >>> print(np.ravel(x, order='F'))\n",
      "    [1 4 2 5 3 6]\n",
      "    \n",
      "    When ``order`` is 'A', it will preserve the array's 'C' or 'F' ordering:\n",
      "    \n",
      "    >>> print(np.ravel(x.T))\n",
      "    [1 4 2 5 3 6]\n",
      "    >>> print(np.ravel(x.T, order='A'))\n",
      "    [1 2 3 4 5 6]\n",
      "    \n",
      "    When ``order`` is 'K', it will preserve orderings that are neither 'C'\n",
      "    nor 'F', but won't reverse axes:\n",
      "    \n",
      "    >>> a = np.arange(3)[::-1]; a\n",
      "    array([2, 1, 0])\n",
      "    >>> a.ravel(order='C')\n",
      "    array([2, 1, 0])\n",
      "    >>> a.ravel(order='K')\n",
      "    array([2, 1, 0])\n",
      "    \n",
      "    >>> a = np.arange(12).reshape(2,3,2).swapaxes(1,2); a\n",
      "    array([[[ 0,  2,  4],\n",
      "            [ 1,  3,  5]],\n",
      "           [[ 6,  8, 10],\n",
      "            [ 7,  9, 11]]])\n",
      "    >>> a.ravel(order='C')\n",
      "    array([ 0,  2,  4,  1,  3,  5,  6,  8, 10,  7,  9, 11])\n",
      "    >>> a.ravel(order='K')\n",
      "    array([ 0,  1,  2,  3,  4,  5,  6,  7,  8,  9, 10, 11])\n",
      "\n"
     ]
    }
   ],
   "source": [
    "help(np.ravel)"
   ]
  },
  {
   "cell_type": "code",
   "execution_count": 1,
   "metadata": {
    "collapsed": false
   },
   "outputs": [
    {
     "data": {
      "text/html": [
       "<link href=\"//fonts.googleapis.com/css?family=Open+Sans:600,400,300,200|Inconsolata|Ubuntu+Mono:400,700\" rel=\"stylesheet\" type=\"text/css\" />"
      ],
      "text/plain": [
       "<IPython.core.display.HTML object>"
      ]
     },
     "metadata": {},
     "output_type": "display_data"
    },
    {
     "data": {
      "text/html": [
       "<link rel=\"stylesheet\" type=\"text/css\" href=\"http://help.plot.ly/documentation/all_static/css/ipython-notebook-custom.css\">"
      ],
      "text/plain": [
       "<IPython.core.display.HTML object>"
      ]
     },
     "metadata": {},
     "output_type": "display_data"
    },
    {
     "name": "stdout",
     "output_type": "stream",
     "text": [
      "Collecting git+https://github.com/plotly/publisher.git\n",
      "  Cloning https://github.com/plotly/publisher.git to /private/var/folders/tc/bs9g6vrd36q74m5t8h9cgphh0000gn/T/pip-fu_7cM-build\n",
      "Installing collected packages: publisher\n",
      "  Found existing installation: publisher 0.10\n",
      "    Uninstalling publisher-0.10:\n",
      "      Successfully uninstalled publisher-0.10\n",
      "  Running setup.py install for publisher ... \u001b[?25l-\b \bdone\n",
      "\u001b[?25hSuccessfully installed publisher-0.10\n"
     ]
    },
    {
     "name": "stderr",
     "output_type": "stream",
     "text": [
      "/Library/Frameworks/Python.framework/Versions/2.7/lib/python2.7/site-packages/IPython/nbconvert.py:13: ShimWarning: The `IPython.nbconvert` package has been deprecated. You should import from nbconvert instead.\n",
      "  \"You should import from nbconvert instead.\", ShimWarning)\n",
      "/Library/Frameworks/Python.framework/Versions/2.7/lib/python2.7/site-packages/publisher/publisher.py:53: UserWarning: Did you \"Save\" this notebook before running this command? Remember to save, always save.\n",
      "  warnings.warn('Did you \"Save\" this notebook before running this command? '\n"
     ]
    }
   ],
   "source": [
    "from IPython.display import display, HTML\n",
    "\n",
    "display(HTML('<link href=\"//fonts.googleapis.com/css?family=Open+Sans:600,400,300,200|Inconsolata|Ubuntu+Mono:400,700\" rel=\"stylesheet\" type=\"text/css\" />'))\n",
    "display(HTML('<link rel=\"stylesheet\" type=\"text/css\" href=\"http://help.plot.ly/documentation/all_static/css/ipython-notebook-custom.css\">'))\n",
    "\n",
    "! pip install git+https://github.com/plotly/publisher.git --upgrade\n",
    "import publisher\n",
    "publisher.publish(\n",
    "    'Ravel.ipynb', 'numpy/ravel/', 'Ravel | plotly',\n",
    "    'How to flatten the elements of a NumPy array into a 1D NumPy array.',\n",
    "    title = 'Numpy Ravel | plotly',\n",
    "    name = 'Ravel',\n",
    "    has_thumbnail='true', thumbnail='thumbnail/modify_the_array.jpg', \n",
    "    language='numpy', page_type='example_index',\n",
    "    display_as='modify-the-array', order=3)"
   ]
  },
  {
   "cell_type": "code",
   "execution_count": null,
   "metadata": {
    "collapsed": true
   },
   "outputs": [],
   "source": []
  }
 ],
 "metadata": {
  "kernelspec": {
   "display_name": "Python 2",
   "language": "python",
   "name": "python2"
  },
  "language_info": {
   "codemirror_mode": {
    "name": "ipython",
    "version": 2
   },
   "file_extension": ".py",
   "mimetype": "text/x-python",
   "name": "python",
   "nbconvert_exporter": "python",
   "pygments_lexer": "ipython2",
   "version": "2.7.12"
  }
 },
 "nbformat": 4,
 "nbformat_minor": 0
}
