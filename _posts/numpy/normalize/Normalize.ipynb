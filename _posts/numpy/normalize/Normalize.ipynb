{
 "cells": [
  {
   "cell_type": "markdown",
   "metadata": {},
   "source": [
    "#### New to Plotly?\n",
    "Plotly's Python library is free and open source! [Get started](https://plot.ly/python/getting-started/) by downloading the client and [reading the primer](https://plot.ly/python/getting-started/).\n",
    "<br>You can set up Plotly to work in [online](https://plot.ly/python/getting-started/#initialization-for-online-plotting) or [offline](https://plot.ly/python/getting-started/#initialization-for-offline-plotting) mode, or in [jupyter notebooks](https://plot.ly/python/getting-started/#start-plotting-online).\n",
    "<br>We also have a quick-reference [cheatsheet](https://images.plot.ly/plotly-documentation/images/python_cheat_sheet.pdf) (new!) to help you get started!"
   ]
  },
  {
   "cell_type": "markdown",
   "metadata": {},
   "source": [
    "### Imports\n",
    "This tutorial imports [Numpy](http://www.numpy.org/)."
   ]
  },
  {
   "cell_type": "code",
   "execution_count": 1,
   "metadata": {
    "collapsed": false
   },
   "outputs": [],
   "source": [
    "import plotly.plotly as py\n",
    "import plotly.graph_objs as go\n",
    "\n",
    "from plotly.tools import FigureFactory as FF\n",
    "\n",
    "import numpy as np"
   ]
  },
  {
   "cell_type": "markdown",
   "metadata": {},
   "source": [
    "#### 2-Norm of Array\n",
    "`np.linalg.norm()` computes a norm on a NumPy array according to an order `ord` which specifies the metric by which the norm takes. For example, if we are given an array\n",
    "\n",
    "$$\n",
    "\\begin{align*}\n",
    "[x_1, ..., x_n]\n",
    "\\end{align*}\n",
    "$$\n",
    "\n",
    "with numbers $x_i$ then we can compute the `Frobenius Norm` or more commonly called the `2-norm` by doing:\n",
    "\n",
    "$$\n",
    "\\begin{align*}\n",
    "\\sqrt{\\sum_{i=1}^{n}{x_i^{2}}}\n",
    "\\end{align*}\n",
    "$$\n",
    "\n",
    "In NumPy you can also use `np.linalg.norm()` to compute norms of a matrix, or a matrix's columns or rows, treating each as their own array."
   ]
  },
  {
   "cell_type": "code",
   "execution_count": 2,
   "metadata": {
    "collapsed": false
   },
   "outputs": [
    {
     "data": {
      "text/html": [
       "<iframe id=\"igraph\" scrolling=\"no\" style=\"border:none;\" seamless=\"seamless\" src=\"https://plot.ly/~AdamKulidjian/1811.embed\" height=\"525px\" width=\"100%\"></iframe>"
      ],
      "text/plain": [
       "<plotly.tools.PlotlyDisplay object>"
      ]
     },
     "execution_count": 2,
     "metadata": {},
     "output_type": "execute_result"
    }
   ],
   "source": [
    "import plotly.plotly as py\n",
    "import plotly.graph_objs as go\n",
    "\n",
    "size = 40\n",
    "array_normal = np.random.randn(size)\n",
    "array_random = np.random.random(size)\n",
    "\n",
    "trace_1 = go.Scatter(\n",
    "    x=[i for i in range(size)],\n",
    "    y=array_normal,\n",
    "    mode='markers',\n",
    "    name='sampled from normal distribution',\n",
    "    marker=dict(\n",
    "        color='#F23557',\n",
    "        size=2*int(np.linalg.norm(array_normal))\n",
    "    )\n",
    ")\n",
    "\n",
    "trace_2 = go.Scatter(\n",
    "    x=[i for i in range(size)],\n",
    "    y=array_random,\n",
    "    mode='markers',\n",
    "    name='sampled from [0, 1)',\n",
    "    marker=dict(\n",
    "        color='#1E64F0',\n",
    "        size=2*int(np.linalg.norm(array_random))\n",
    "    )\n",
    ")\n",
    "\n",
    "data = [trace_1, trace_2]\n",
    "py.iplot(data, filename='numpy-normalize-2-norm')"
   ]
  },
  {
   "cell_type": "markdown",
   "metadata": {},
   "source": [
    "#### 2-Norm by Matrix Row\n",
    "By setting `axis` to `1` to return an array of the respective row's norm value. In the example below we can visualize the norm values of each row by looking at their color (the DARKER the blue, the higher)."
   ]
  },
  {
   "cell_type": "code",
   "execution_count": 3,
   "metadata": {
    "collapsed": false
   },
   "outputs": [
    {
     "data": {
      "text/html": [
       "<iframe id=\"igraph\" scrolling=\"no\" style=\"border:none;\" seamless=\"seamless\" src=\"https://plot.ly/~AdamKulidjian/1815.embed\" height=\"525px\" width=\"100%\"></iframe>"
      ],
      "text/plain": [
       "<plotly.tools.PlotlyDisplay object>"
      ]
     },
     "execution_count": 3,
     "metadata": {},
     "output_type": "execute_result"
    }
   ],
   "source": [
    "import plotly.plotly as py\n",
    "from plotly.tools import FigureFactory as FF\n",
    "\n",
    "z_norms = [[.1, .3, .5, .7],  \n",
    "           [1, .8, .6, .4],\n",
    "           [.6, .4, .2, .0],  \n",
    "           [.9, .7, .5, .3]]\n",
    "\n",
    "z_text = [[.1, .3, .5, .7],  \n",
    "          [1, .8, .6, .4],\n",
    "          [.6, .4, .2, .0],  \n",
    "          [.9, .7, .5, .3]]\n",
    "\n",
    "colorscale =  [[0, 'rgb(220,220,220)'],\n",
    "               [0.35, 'rgb(106,137,247)'],\n",
    "               [0.5, 'rgb(90,120,245)'],\n",
    "               [0.6, 'rgb(70,100,245)'],\n",
    "               [0.7, 'rgb(40,60,190)'],\n",
    "               [1, 'rgb(5,10,172)']]\n",
    "\n",
    "row_norms = np.linalg.norm(z_text, axis=1)\n",
    "for index in range(len(z_norms)):\n",
    "    z_norms[index] = [row_norms[index] for j in range(len(z_norms))]\n",
    "    \n",
    "fig = FF.create_annotated_heatmap(z_norms, annotation_text=z_text, colorscale=colorscale)\n",
    "py.iplot(fig, filename='numpy-normalize-matrix-rows-2-norm')"
   ]
  },
  {
   "cell_type": "code",
   "execution_count": 2,
   "metadata": {
    "collapsed": false
   },
   "outputs": [
    {
     "data": {
      "text/html": [
       "<link href=\"//fonts.googleapis.com/css?family=Open+Sans:600,400,300,200|Inconsolata|Ubuntu+Mono:400,700\" rel=\"stylesheet\" type=\"text/css\" />"
      ],
      "text/plain": [
       "<IPython.core.display.HTML object>"
      ]
     },
     "metadata": {},
     "output_type": "display_data"
    },
    {
     "data": {
      "text/html": [
       "<link rel=\"stylesheet\" type=\"text/css\" href=\"http://help.plot.ly/documentation/all_static/css/ipython-notebook-custom.css\">"
      ],
      "text/plain": [
       "<IPython.core.display.HTML object>"
      ]
     },
     "metadata": {},
     "output_type": "display_data"
    },
    {
     "name": "stdout",
     "output_type": "stream",
     "text": [
      "Collecting git+https://github.com/plotly/publisher.git\n",
      "  Cloning https://github.com/plotly/publisher.git to /private/var/folders/tc/bs9g6vrd36q74m5t8h9cgphh0000gn/T/pip-hkv8B3-build\n",
      "Installing collected packages: publisher\n",
      "  Found existing installation: publisher 0.10\n",
      "    Uninstalling publisher-0.10:\n",
      "      Successfully uninstalled publisher-0.10\n",
      "  Running setup.py install for publisher ... \u001b[?25l-\b \bdone\n",
      "\u001b[?25hSuccessfully installed publisher-0.10\n"
     ]
    },
    {
     "name": "stderr",
     "output_type": "stream",
     "text": [
      "/Library/Frameworks/Python.framework/Versions/2.7/lib/python2.7/site-packages/IPython/nbconvert.py:13: ShimWarning:\n",
      "\n",
      "The `IPython.nbconvert` package has been deprecated. You should import from nbconvert instead.\n",
      "\n",
      "/Library/Frameworks/Python.framework/Versions/2.7/lib/python2.7/site-packages/publisher/publisher.py:53: UserWarning:\n",
      "\n",
      "Did you \"Save\" this notebook before running this command? Remember to save, always save.\n",
      "\n"
     ]
    }
   ],
   "source": [
    "from IPython.display import display, HTML\n",
    "\n",
    "display(HTML('<link href=\"//fonts.googleapis.com/css?family=Open+Sans:600,400,300,200|Inconsolata|Ubuntu+Mono:400,700\" rel=\"stylesheet\" type=\"text/css\" />'))\n",
    "display(HTML('<link rel=\"stylesheet\" type=\"text/css\" href=\"http://help.plot.ly/documentation/all_static/css/ipython-notebook-custom.css\">'))\n",
    "\n",
    "! pip install git+https://github.com/plotly/publisher.git --upgrade\n",
    "import publisher\n",
    "publisher.publish(\n",
    "    'Normalize.ipynb', 'numpy/normalize/', 'Normalize | plotly',\n",
    "    'How to compute the norm of a NumPy array. These are scalar quantities which represent the size of the array.',\n",
    "    title = 'Normalize | plotly',\n",
    "    name = 'Normalize',\n",
    "    has_thumbnail='true', thumbnail='thumbnail/histogram.jpg',\n",
    "    language='numpy', page_type='example_index',\n",
    "    display_as='numpy-statistics', order=1)"
   ]
  },
  {
   "cell_type": "code",
   "execution_count": null,
   "metadata": {
    "collapsed": true
   },
   "outputs": [],
   "source": []
  }
 ],
 "metadata": {
  "kernelspec": {
   "display_name": "Python 2",
   "language": "python",
   "name": "python2"
  },
  "language_info": {
   "codemirror_mode": {
    "name": "ipython",
    "version": 2
   },
   "file_extension": ".py",
   "mimetype": "text/x-python",
   "name": "python",
   "nbconvert_exporter": "python",
   "pygments_lexer": "ipython2",
   "version": "2.7.12"
  }
 },
 "nbformat": 4,
 "nbformat_minor": 0
}
