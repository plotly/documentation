{
 "cells": [
  {
   "cell_type": "markdown",
   "metadata": {},
   "source": [
    "###  Installation"
   ]
  },
  {
   "cell_type": "markdown",
   "metadata": {},
   "source": [
    "Python will be required here. You can install it from the [source releases](https://www.python.org/downloads/) if you don't have it.<br>\n",
    "Pandas is supported in Python versions: 2.7, 3.4, and 3.5."
   ]
  },
  {
   "cell_type": "markdown",
   "metadata": {},
   "source": [
    "* **PyPI Installation**\n",
    "```bash\n",
    "$ sudo pip install pandas\n",
    "```\n",
    "This will automatically download all the dependencies, but it will take some time in the process."
   ]
  },
  {
   "cell_type": "markdown",
   "metadata": {},
   "source": [
    "* **Linux Distribution Installation**\n",
    "This commands will install Pandas for Python 2 from your distribution.<br>\n",
    "To install it for Python 3, you should use \"*python3-pandas*\" instead."
   ]
  },
  {
   "cell_type": "markdown",
   "metadata": {},
   "source": [
    "* **Ubuntu & Debian Installation**\n",
    "```bash\n",
    "$ sudo apt-get install python-pandas\n",
    "```"
   ]
  },
  {
   "cell_type": "markdown",
   "metadata": {},
   "source": [
    "* **Fedora & OpenSuse Installation**\n",
    "```bash\n",
    "$ zypper in  python-pandas\n",
    "```\n",
    "It will install from \"Official Debian Repository\" and \"OpenSuse Repository\" respectively."
   ]
  },
  {
   "cell_type": "markdown",
   "metadata": {},
   "source": [
    "* **Anaconda Installation**\n",
    "\n",
    "Anaconda is a cross-platform Python distribution for scientific computing and data analytics. (It makes the installation phase easy for beginners.)<br>\n",
    "You can get Anaconda from [here](https://docs.continuum.io/anaconda/install).\n",
    "\n",
    "You can play with Pandas online at the IPython Notebook service by [Wakari](https://wakari.io/), without installing it."
   ]
  },
  {
   "cell_type": "code",
   "execution_count": 1,
   "metadata": {
    "collapsed": true
   },
   "outputs": [],
   "source": [
    "import pandas as pd\n",
    "import numpy as np\n",
    "import plotly.plotly as py\n",
    "import plotly.graph_objs as go"
   ]
  },
  {
   "cell_type": "markdown",
   "metadata": {},
   "source": [
    "###  Reading, Writing, and Creating data\n",
    "Pandas let you use your data from multiple formats like CSV, EXCEL, JSON etc.\n",
    "\n",
    "You can use the data file on your local system or from an external URL."
   ]
  },
  {
   "cell_type": "markdown",
   "metadata": {},
   "source": [
    "**Create data**\n",
    "\n",
    "DataFrame is the most commonly used data-structure of Pandas, it's a 2-dimensional table like structure that can hold columns of multiple data-types."
   ]
  },
  {
   "cell_type": "code",
   "execution_count": 2,
   "metadata": {
    "collapsed": true
   },
   "outputs": [],
   "source": [
    "subjects = ['Mathematics', 'English', 'History', 'Science', 'Arts']\n",
    "marks = [67, 60, 36, 61, 58]"
   ]
  },
  {
   "cell_type": "markdown",
   "metadata": {},
   "source": [
    "Using the Python's **zip** function, we can merge these two **list** sequences into one."
   ]
  },
  {
   "cell_type": "code",
   "execution_count": 3,
   "metadata": {
    "collapsed": false
   },
   "outputs": [
    {
     "data": {
      "text/plain": [
       "[('Mathematics', 67),\n",
       " ('English', 60),\n",
       " ('History', 36),\n",
       " ('Science', 61),\n",
       " ('Arts', 58)]"
      ]
     },
     "execution_count": 3,
     "metadata": {},
     "output_type": "execute_result"
    }
   ],
   "source": [
    "marks_dataset = zip(subjects, marks)\n",
    "marks_dataset"
   ]
  },
  {
   "cell_type": "code",
   "execution_count": 4,
   "metadata": {
    "collapsed": false
   },
   "outputs": [
    {
     "data": {
      "text/html": [
       "<div>\n",
       "<table border=\"1\" class=\"dataframe\">\n",
       "  <thead>\n",
       "    <tr style=\"text-align: right;\">\n",
       "      <th></th>\n",
       "      <th>Subjects</th>\n",
       "      <th>Marks</th>\n",
       "    </tr>\n",
       "  </thead>\n",
       "  <tbody>\n",
       "    <tr>\n",
       "      <th>0</th>\n",
       "      <td>Mathematics</td>\n",
       "      <td>67</td>\n",
       "    </tr>\n",
       "    <tr>\n",
       "      <th>1</th>\n",
       "      <td>English</td>\n",
       "      <td>60</td>\n",
       "    </tr>\n",
       "    <tr>\n",
       "      <th>2</th>\n",
       "      <td>History</td>\n",
       "      <td>36</td>\n",
       "    </tr>\n",
       "    <tr>\n",
       "      <th>3</th>\n",
       "      <td>Science</td>\n",
       "      <td>61</td>\n",
       "    </tr>\n",
       "    <tr>\n",
       "      <th>4</th>\n",
       "      <td>Arts</td>\n",
       "      <td>58</td>\n",
       "    </tr>\n",
       "  </tbody>\n",
       "</table>\n",
       "</div>"
      ],
      "text/plain": [
       "      Subjects  Marks\n",
       "0  Mathematics     67\n",
       "1      English     60\n",
       "2      History     36\n",
       "3      Science     61\n",
       "4         Arts     58"
      ]
     },
     "execution_count": 4,
     "metadata": {},
     "output_type": "execute_result"
    }
   ],
   "source": [
    "marks_df = pd.DataFrame(marks_dataset, columns=['Subjects', 'Marks'])\n",
    "marks_df"
   ]
  },
  {
   "cell_type": "markdown",
   "metadata": {},
   "source": [
    "The **columns** argument list represents the labels of the respective columns."
   ]
  },
  {
   "cell_type": "markdown",
   "metadata": {},
   "source": [
    "**Marks Distribution**\n",
    "\n",
    "The following bar chart represents the marks distribution per subject."
   ]
  },
  {
   "cell_type": "code",
   "execution_count": 5,
   "metadata": {
    "collapsed": false
   },
   "outputs": [
    {
     "data": {
      "text/html": [
       "<iframe id=\"igraph\" scrolling=\"no\" style=\"border:none;\" seamless=\"seamless\" src=\"https://plot.ly/~tarzzz/2568.embed\" height=\"525px\" width=\"100%\"></iframe>"
      ],
      "text/plain": [
       "<plotly.tools.PlotlyDisplay object>"
      ]
     },
     "execution_count": 5,
     "metadata": {},
     "output_type": "execute_result"
    }
   ],
   "source": [
    "\n",
    "marks_data = [go.Bar(x=marks_df.Subjects, y=marks_df.Marks)]\n",
    "\n",
    "py.iplot({ 'data': marks_data,\n",
    "            'layout': {\n",
    "               'title': 'Marks Distribution',\n",
    "               'xaxis': {\n",
    "                 'title': 'Subjects'},\n",
    "               'yaxis': {\n",
    "                'title': 'Marks '}\n",
    "        }})"
   ]
  },
  {
   "cell_type": "markdown",
   "metadata": {},
   "source": [
    "Add a new column 'Result' using **numpy.where**, set it as 'Pass' if **marks>=40** else 'Fail'."
   ]
  },
  {
   "cell_type": "code",
   "execution_count": 6,
   "metadata": {
    "collapsed": false
   },
   "outputs": [
    {
     "data": {
      "text/html": [
       "<div>\n",
       "<table border=\"1\" class=\"dataframe\">\n",
       "  <thead>\n",
       "    <tr style=\"text-align: right;\">\n",
       "      <th></th>\n",
       "      <th>Subjects</th>\n",
       "      <th>Marks</th>\n",
       "      <th>Result</th>\n",
       "    </tr>\n",
       "  </thead>\n",
       "  <tbody>\n",
       "    <tr>\n",
       "      <th>0</th>\n",
       "      <td>Mathematics</td>\n",
       "      <td>67</td>\n",
       "      <td>Pass</td>\n",
       "    </tr>\n",
       "    <tr>\n",
       "      <th>1</th>\n",
       "      <td>English</td>\n",
       "      <td>60</td>\n",
       "      <td>Pass</td>\n",
       "    </tr>\n",
       "    <tr>\n",
       "      <th>2</th>\n",
       "      <td>History</td>\n",
       "      <td>36</td>\n",
       "      <td>Fail</td>\n",
       "    </tr>\n",
       "    <tr>\n",
       "      <th>3</th>\n",
       "      <td>Science</td>\n",
       "      <td>61</td>\n",
       "      <td>Pass</td>\n",
       "    </tr>\n",
       "    <tr>\n",
       "      <th>4</th>\n",
       "      <td>Arts</td>\n",
       "      <td>58</td>\n",
       "      <td>Pass</td>\n",
       "    </tr>\n",
       "  </tbody>\n",
       "</table>\n",
       "</div>"
      ],
      "text/plain": [
       "      Subjects  Marks Result\n",
       "0  Mathematics     67   Pass\n",
       "1      English     60   Pass\n",
       "2      History     36   Fail\n",
       "3      Science     61   Pass\n",
       "4         Arts     58   Pass"
      ]
     },
     "execution_count": 6,
     "metadata": {},
     "output_type": "execute_result"
    }
   ],
   "source": [
    "marks_df['Result'] = np.where(marks_df['Marks']>=40, 'Pass', 'Fail')\n",
    "marks_df"
   ]
  },
  {
   "cell_type": "markdown",
   "metadata": {},
   "source": [
    "To delete a column (say 'Result'), we can use **`marks_df.pop('Result')`**."
   ]
  },
  {
   "cell_type": "markdown",
   "metadata": {},
   "source": [
    "**Write data**\n",
    "\n",
    "We can write the **DataFrame** object to different file types."
   ]
  },
  {
   "cell_type": "code",
   "execution_count": 7,
   "metadata": {
    "collapsed": true
   },
   "outputs": [],
   "source": [
    "# save the marks dataframe to a csv(comma-separated values) file in your directory\n",
    "marks_df.to_csv('marks.csv', index=False)"
   ]
  },
  {
   "cell_type": "markdown",
   "metadata": {},
   "source": [
    "The argument **index=False** is to prevent writing the index for each row (0...4) in file."
   ]
  },
  {
   "cell_type": "markdown",
   "metadata": {},
   "source": [
    "**Read data**\n",
    "\n",
    "Here, we will be using the [YouTube Channel Dataset.](https://gist.github.com/pravj/9ae9e67d10668c60545e2b858753415c)\n",
    "\n",
    "**Note:- Some of the \"Views\" and \"Comments\" columns have missing values, represented as -1.**"
   ]
  },
  {
   "cell_type": "code",
   "execution_count": 8,
   "metadata": {
    "collapsed": false
   },
   "outputs": [],
   "source": [
    "channels_df = pd.read_csv('http://bit.ly/1rq29Xf')"
   ]
  },
  {
   "cell_type": "markdown",
   "metadata": {},
   "source": [
    "### Selecting and Filtering dataframes\n",
    "You can use the describe mehod to show statistics of dataset."
   ]
  },
  {
   "cell_type": "code",
   "execution_count": 9,
   "metadata": {
    "collapsed": false
   },
   "outputs": [
    {
     "data": {
      "text/html": [
       "<div>\n",
       "<table border=\"1\" class=\"dataframe\">\n",
       "  <thead>\n",
       "    <tr style=\"text-align: right;\">\n",
       "      <th></th>\n",
       "      <th>Views</th>\n",
       "      <th>Comments</th>\n",
       "    </tr>\n",
       "  </thead>\n",
       "  <tbody>\n",
       "    <tr>\n",
       "      <th>count</th>\n",
       "      <td>362.000000</td>\n",
       "      <td>362.000000</td>\n",
       "    </tr>\n",
       "    <tr>\n",
       "      <th>mean</th>\n",
       "      <td>288.229282</td>\n",
       "      <td>17.383978</td>\n",
       "    </tr>\n",
       "    <tr>\n",
       "      <th>std</th>\n",
       "      <td>147.604341</td>\n",
       "      <td>12.479304</td>\n",
       "    </tr>\n",
       "    <tr>\n",
       "      <th>min</th>\n",
       "      <td>-1.000000</td>\n",
       "      <td>-1.000000</td>\n",
       "    </tr>\n",
       "    <tr>\n",
       "      <th>25%</th>\n",
       "      <td>172.750000</td>\n",
       "      <td>8.000000</td>\n",
       "    </tr>\n",
       "    <tr>\n",
       "      <th>50%</th>\n",
       "      <td>295.500000</td>\n",
       "      <td>14.000000</td>\n",
       "    </tr>\n",
       "    <tr>\n",
       "      <th>75%</th>\n",
       "      <td>399.000000</td>\n",
       "      <td>26.000000</td>\n",
       "    </tr>\n",
       "    <tr>\n",
       "      <th>max</th>\n",
       "      <td>533.000000</td>\n",
       "      <td>54.000000</td>\n",
       "    </tr>\n",
       "  </tbody>\n",
       "</table>\n",
       "</div>"
      ],
      "text/plain": [
       "            Views    Comments\n",
       "count  362.000000  362.000000\n",
       "mean   288.229282   17.383978\n",
       "std    147.604341   12.479304\n",
       "min     -1.000000   -1.000000\n",
       "25%    172.750000    8.000000\n",
       "50%    295.500000   14.000000\n",
       "75%    399.000000   26.000000\n",
       "max    533.000000   54.000000"
      ]
     },
     "execution_count": 9,
     "metadata": {},
     "output_type": "execute_result"
    }
   ],
   "source": [
    "channels_df.describe()"
   ]
  },
  {
   "cell_type": "markdown",
   "metadata": {},
   "source": [
    "#### Customer Reach Comparison between \"WorldNews\" and \"WorldWeather\""
   ]
  },
  {
   "cell_type": "code",
   "execution_count": 10,
   "metadata": {
    "collapsed": false
   },
   "outputs": [
    {
     "data": {
      "text/html": [
       "<div>\n",
       "<table border=\"1\" class=\"dataframe\">\n",
       "  <thead>\n",
       "    <tr style=\"text-align: right;\">\n",
       "      <th></th>\n",
       "      <th></th>\n",
       "      <th>Comments</th>\n",
       "      <th>Views</th>\n",
       "    </tr>\n",
       "    <tr>\n",
       "      <th>Channel</th>\n",
       "      <th></th>\n",
       "      <th></th>\n",
       "      <th></th>\n",
       "    </tr>\n",
       "  </thead>\n",
       "  <tbody>\n",
       "    <tr>\n",
       "      <th rowspan=\"8\" valign=\"top\">WorldNews</th>\n",
       "      <th>count</th>\n",
       "      <td>181.000000</td>\n",
       "      <td>181.000000</td>\n",
       "    </tr>\n",
       "    <tr>\n",
       "      <th>mean</th>\n",
       "      <td>16.182320</td>\n",
       "      <td>288.348066</td>\n",
       "    </tr>\n",
       "    <tr>\n",
       "      <th>std</th>\n",
       "      <td>11.131283</td>\n",
       "      <td>151.969936</td>\n",
       "    </tr>\n",
       "    <tr>\n",
       "      <th>min</th>\n",
       "      <td>-1.000000</td>\n",
       "      <td>-1.000000</td>\n",
       "    </tr>\n",
       "    <tr>\n",
       "      <th>25%</th>\n",
       "      <td>7.000000</td>\n",
       "      <td>154.000000</td>\n",
       "    </tr>\n",
       "    <tr>\n",
       "      <th>50%</th>\n",
       "      <td>13.000000</td>\n",
       "      <td>294.000000</td>\n",
       "    </tr>\n",
       "    <tr>\n",
       "      <th>75%</th>\n",
       "      <td>24.000000</td>\n",
       "      <td>405.000000</td>\n",
       "    </tr>\n",
       "    <tr>\n",
       "      <th>max</th>\n",
       "      <td>54.000000</td>\n",
       "      <td>533.000000</td>\n",
       "    </tr>\n",
       "    <tr>\n",
       "      <th rowspan=\"8\" valign=\"top\">WorldWeather</th>\n",
       "      <th>count</th>\n",
       "      <td>181.000000</td>\n",
       "      <td>181.000000</td>\n",
       "    </tr>\n",
       "    <tr>\n",
       "      <th>mean</th>\n",
       "      <td>18.585635</td>\n",
       "      <td>288.110497</td>\n",
       "    </tr>\n",
       "    <tr>\n",
       "      <th>std</th>\n",
       "      <td>13.620638</td>\n",
       "      <td>143.527810</td>\n",
       "    </tr>\n",
       "    <tr>\n",
       "      <th>min</th>\n",
       "      <td>-1.000000</td>\n",
       "      <td>-1.000000</td>\n",
       "    </tr>\n",
       "    <tr>\n",
       "      <th>25%</th>\n",
       "      <td>8.000000</td>\n",
       "      <td>180.000000</td>\n",
       "    </tr>\n",
       "    <tr>\n",
       "      <th>50%</th>\n",
       "      <td>15.000000</td>\n",
       "      <td>296.000000</td>\n",
       "    </tr>\n",
       "    <tr>\n",
       "      <th>75%</th>\n",
       "      <td>28.000000</td>\n",
       "      <td>394.000000</td>\n",
       "    </tr>\n",
       "    <tr>\n",
       "      <th>max</th>\n",
       "      <td>53.000000</td>\n",
       "      <td>532.000000</td>\n",
       "    </tr>\n",
       "  </tbody>\n",
       "</table>\n",
       "</div>"
      ],
      "text/plain": [
       "                      Comments       Views\n",
       "Channel                                   \n",
       "WorldNews    count  181.000000  181.000000\n",
       "             mean    16.182320  288.348066\n",
       "             std     11.131283  151.969936\n",
       "             min     -1.000000   -1.000000\n",
       "             25%      7.000000  154.000000\n",
       "             50%     13.000000  294.000000\n",
       "             75%     24.000000  405.000000\n",
       "             max     54.000000  533.000000\n",
       "WorldWeather count  181.000000  181.000000\n",
       "             mean    18.585635  288.110497\n",
       "             std     13.620638  143.527810\n",
       "             min     -1.000000   -1.000000\n",
       "             25%      8.000000  180.000000\n",
       "             50%     15.000000  296.000000\n",
       "             75%     28.000000  394.000000\n",
       "             max     53.000000  532.000000"
      ]
     },
     "execution_count": 10,
     "metadata": {},
     "output_type": "execute_result"
    }
   ],
   "source": [
    "reach_df = channels_df.groupby('Channel').describe()\n",
    "reach_df"
   ]
  },
  {
   "cell_type": "markdown",
   "metadata": {},
   "source": [
    "You can notice that it's a MultiIndex DataFrame."
   ]
  },
  {
   "cell_type": "code",
   "execution_count": 11,
   "metadata": {
    "collapsed": false
   },
   "outputs": [],
   "source": [
    "channels = []\n",
    "\n",
    "views_reach_data, comments_reach_data = [], []\n",
    "views_mean, comments_mean = [], []\n",
    "\n",
    "# MultiIndex DataFrame Iteration\n",
    "for channel, new_df in reach_df.groupby(level=0):\n",
    "    channels.append(channel)\n",
    "    \n",
    "    for col in new_df.columns:\n",
    "        new_col = new_df[col][channel]\n",
    "        x_label = channel\n",
    "        \n",
    "        # using the Box method of Plotly's graph objects\n",
    "        box = go.Box(y=[new_col['min'], new_col['max']], name=x_label)\n",
    "        \n",
    "        # to prepare two different plots for each section ('views', 'comments')\n",
    "        if (col == 'Views'):\n",
    "            views_reach_data.append(box)\n",
    "            views_mean.append(new_col['mean'])\n",
    "        elif (col == 'Comments'):\n",
    "            comments_reach_data.append(box)\n",
    "            comments_mean.append(new_col['mean'])"
   ]
  },
  {
   "cell_type": "code",
   "execution_count": 12,
   "metadata": {
    "collapsed": false
   },
   "outputs": [
    {
     "data": {
      "text/html": [
       "<iframe id=\"igraph\" scrolling=\"no\" style=\"border:none;\" seamless=\"seamless\" src=\"https://plot.ly/~tarzzz/2570.embed\" height=\"525px\" width=\"100%\"></iframe>"
      ],
      "text/plain": [
       "<plotly.tools.PlotlyDisplay object>"
      ]
     },
     "execution_count": 12,
     "metadata": {},
     "output_type": "execute_result"
    }
   ],
   "source": [
    "# add lines for 'mean' value of 'views'\n",
    "views_reach_data.append(go.Scatter(x=channels, y=views_mean, mode='lines', name='mean'))\n",
    "\n",
    "py.iplot({\n",
    "        'data': views_reach_data,\n",
    "        'layout': {\n",
    "            'title': 'Views Comparison',\n",
    "            'xaxis': {'title': 'Channels'},\n",
    "            'yaxis': {'title': 'Views'}\n",
    "        }\n",
    "})"
   ]
  },
  {
   "cell_type": "code",
   "execution_count": 13,
   "metadata": {
    "collapsed": false
   },
   "outputs": [
    {
     "data": {
      "text/html": [
       "<iframe id=\"igraph\" scrolling=\"no\" style=\"border:none;\" seamless=\"seamless\" src=\"https://plot.ly/~tarzzz/2572.embed\" height=\"525px\" width=\"100%\"></iframe>"
      ],
      "text/plain": [
       "<plotly.tools.PlotlyDisplay object>"
      ]
     },
     "execution_count": 13,
     "metadata": {},
     "output_type": "execute_result"
    }
   ],
   "source": [
    "# add lines for 'mean' values of 'comments'\n",
    "comments_reach_data.append(go.Scatter(x=channels, y=comments_mean, mode='lines', name='mean'))\n",
    "\n",
    "py.iplot({\n",
    "        'data': comments_reach_data,\n",
    "        'layout': {\n",
    "            'title': 'Comments Comparison',\n",
    "            'xaxis': {'title': 'Channels'},\n",
    "            'yaxis': {'title': 'Comments'}\n",
    "}})"
   ]
  },
  {
   "cell_type": "markdown",
   "metadata": {},
   "source": [
    "We can replace the missing data values **(-1)** with **NaN** for some statistical ease."
   ]
  },
  {
   "cell_type": "code",
   "execution_count": 14,
   "metadata": {
    "collapsed": true
   },
   "outputs": [],
   "source": [
    "channels_df = channels_df.replace(-1, np.nan)"
   ]
  },
  {
   "cell_type": "markdown",
   "metadata": {},
   "source": [
    "`head` method select top 5 row for the dataframe. (`tail` method will return last 5 rows)"
   ]
  },
  {
   "cell_type": "code",
   "execution_count": 15,
   "metadata": {
    "collapsed": false
   },
   "outputs": [
    {
     "data": {
      "text/html": [
       "<div>\n",
       "<table border=\"1\" class=\"dataframe\">\n",
       "  <thead>\n",
       "    <tr style=\"text-align: right;\">\n",
       "      <th></th>\n",
       "      <th>Channel</th>\n",
       "      <th>Date</th>\n",
       "      <th>Anchor</th>\n",
       "      <th>Views</th>\n",
       "      <th>Comments</th>\n",
       "    </tr>\n",
       "  </thead>\n",
       "  <tbody>\n",
       "    <tr>\n",
       "      <th>0</th>\n",
       "      <td>WorldNews</td>\n",
       "      <td>2015-01-01</td>\n",
       "      <td>bob</td>\n",
       "      <td>495</td>\n",
       "      <td>39</td>\n",
       "    </tr>\n",
       "    <tr>\n",
       "      <th>1</th>\n",
       "      <td>WorldWeather</td>\n",
       "      <td>2015-01-01</td>\n",
       "      <td>emily</td>\n",
       "      <td>191</td>\n",
       "      <td>24</td>\n",
       "    </tr>\n",
       "    <tr>\n",
       "      <th>2</th>\n",
       "      <td>WorldNews</td>\n",
       "      <td>2015-01-02</td>\n",
       "      <td>bob</td>\n",
       "      <td>293</td>\n",
       "      <td>4</td>\n",
       "    </tr>\n",
       "    <tr>\n",
       "      <th>3</th>\n",
       "      <td>WorldWeather</td>\n",
       "      <td>2015-01-02</td>\n",
       "      <td>harry</td>\n",
       "      <td>238</td>\n",
       "      <td>NaN</td>\n",
       "    </tr>\n",
       "    <tr>\n",
       "      <th>4</th>\n",
       "      <td>WorldNews</td>\n",
       "      <td>2015-01-03</td>\n",
       "      <td>alice</td>\n",
       "      <td>509</td>\n",
       "      <td>13</td>\n",
       "    </tr>\n",
       "  </tbody>\n",
       "</table>\n",
       "</div>"
      ],
      "text/plain": [
       "        Channel        Date Anchor  Views  Comments\n",
       "0     WorldNews  2015-01-01    bob    495        39\n",
       "1  WorldWeather  2015-01-01  emily    191        24\n",
       "2     WorldNews  2015-01-02    bob    293         4\n",
       "3  WorldWeather  2015-01-02  harry    238       NaN\n",
       "4     WorldNews  2015-01-03  alice    509        13"
      ]
     },
     "execution_count": 15,
     "metadata": {},
     "output_type": "execute_result"
    }
   ],
   "source": [
    "channels_df.head()"
   ]
  },
  {
   "cell_type": "markdown",
   "metadata": {},
   "source": [
    "Select rows only for the 'WorldNews' channel."
   ]
  },
  {
   "cell_type": "code",
   "execution_count": 16,
   "metadata": {
    "collapsed": false
   },
   "outputs": [],
   "source": [
    "worldnews_df = channels_df[channels_df['Channel'] == 'WorldNews']"
   ]
  },
  {
   "cell_type": "markdown",
   "metadata": {},
   "source": [
    "Select some sample rows from the new dataframe."
   ]
  },
  {
   "cell_type": "code",
   "execution_count": 17,
   "metadata": {
    "collapsed": false
   },
   "outputs": [
    {
     "data": {
      "text/html": [
       "<div>\n",
       "<table border=\"1\" class=\"dataframe\">\n",
       "  <thead>\n",
       "    <tr style=\"text-align: right;\">\n",
       "      <th></th>\n",
       "      <th>Channel</th>\n",
       "      <th>Date</th>\n",
       "      <th>Anchor</th>\n",
       "      <th>Views</th>\n",
       "      <th>Comments</th>\n",
       "    </tr>\n",
       "  </thead>\n",
       "  <tbody>\n",
       "    <tr>\n",
       "      <th>140</th>\n",
       "      <td>WorldNews</td>\n",
       "      <td>2015-03-12</td>\n",
       "      <td>alice</td>\n",
       "      <td>293</td>\n",
       "      <td>25</td>\n",
       "    </tr>\n",
       "    <tr>\n",
       "      <th>82</th>\n",
       "      <td>WorldNews</td>\n",
       "      <td>2015-02-11</td>\n",
       "      <td>bob</td>\n",
       "      <td>432</td>\n",
       "      <td>9</td>\n",
       "    </tr>\n",
       "    <tr>\n",
       "      <th>124</th>\n",
       "      <td>WorldNews</td>\n",
       "      <td>2015-03-04</td>\n",
       "      <td>bob</td>\n",
       "      <td>133</td>\n",
       "      <td>13</td>\n",
       "    </tr>\n",
       "  </tbody>\n",
       "</table>\n",
       "</div>"
      ],
      "text/plain": [
       "       Channel        Date Anchor  Views  Comments\n",
       "140  WorldNews  2015-03-12  alice    293        25\n",
       "82   WorldNews  2015-02-11    bob    432         9\n",
       "124  WorldNews  2015-03-04    bob    133        13"
      ]
     },
     "execution_count": 17,
     "metadata": {},
     "output_type": "execute_result"
    }
   ],
   "source": [
    "worldnews_df.sample(3)"
   ]
  },
  {
   "cell_type": "markdown",
   "metadata": {},
   "source": [
    "Filter out the rows for 'WorldNews' channel having less than 100 views."
   ]
  },
  {
   "cell_type": "code",
   "execution_count": 18,
   "metadata": {
    "collapsed": false
   },
   "outputs": [],
   "source": [
    "worldnews_less_views_df = worldnews_df[worldnews_df['Views'] < 100]"
   ]
  },
  {
   "cell_type": "markdown",
   "metadata": {},
   "source": [
    "Count the days when 'WorldNews' has received less than 100 views."
   ]
  },
  {
   "cell_type": "code",
   "execution_count": 19,
   "metadata": {
    "collapsed": false
   },
   "outputs": [
    {
     "data": {
      "text/plain": [
       "105"
      ]
     },
     "execution_count": 19,
     "metadata": {},
     "output_type": "execute_result"
    }
   ],
   "source": [
    "worldnews_less_views_df.size"
   ]
  },
  {
   "cell_type": "markdown",
   "metadata": {},
   "source": [
    "### Indexing"
   ]
  },
  {
   "cell_type": "markdown",
   "metadata": {},
   "source": [
    "To get and set subsets of data object, Pandas supports 3 types of multi-axis indexing.\n",
    "\n",
    "* **loc**\n",
    "    * It is based on the index *labels*.\n",
    "* **iloc**\n",
    "    * It is based on the index *positions*, only integer values are accepted.\n",
    "* **ix**\n",
    "    * Generally it behaves like **loc** but falls back to **iloc** when the label is not present in the index."
   ]
  },
  {
   "cell_type": "markdown",
   "metadata": {},
   "source": [
    "In our dataset the index contains only integer values, so all these methods will work similarly."
   ]
  },
  {
   "cell_type": "markdown",
   "metadata": {},
   "source": [
    "**Note:- The DataFrame *worldnews_df* contains only even integers in the index.**"
   ]
  },
  {
   "cell_type": "code",
   "execution_count": 20,
   "metadata": {
    "collapsed": false,
    "scrolled": true
   },
   "outputs": [
    {
     "data": {
      "text/plain": [
       "Int64Index([  0,   2,   4,   6,   8,  10,  12,  14,  16,  18,\n",
       "            ...\n",
       "            342, 344, 346, 348, 350, 352, 354, 356, 358, 360],\n",
       "           dtype='int64', length=181)"
      ]
     },
     "execution_count": 20,
     "metadata": {},
     "output_type": "execute_result"
    }
   ],
   "source": [
    "worldnews_df.index"
   ]
  },
  {
   "cell_type": "markdown",
   "metadata": {},
   "source": [
    "**Selection By Label**"
   ]
  },
  {
   "cell_type": "markdown",
   "metadata": {},
   "source": [
    "In the **label based indexing**, it follows **strict inclusion**. For example **[10:14]** will look for every value in between 10 and 14 including both. **At least 1** labels should be present in the index, otherwise a **KerError** will be raised."
   ]
  },
  {
   "cell_type": "markdown",
   "metadata": {},
   "source": [
    "This will return the top **3** rows having index as 0, 2, and 4; Because it looks at the labels."
   ]
  },
  {
   "cell_type": "code",
   "execution_count": 21,
   "metadata": {
    "collapsed": false
   },
   "outputs": [
    {
     "data": {
      "text/html": [
       "<div>\n",
       "<table border=\"1\" class=\"dataframe\">\n",
       "  <thead>\n",
       "    <tr style=\"text-align: right;\">\n",
       "      <th></th>\n",
       "      <th>Channel</th>\n",
       "      <th>Date</th>\n",
       "      <th>Anchor</th>\n",
       "      <th>Views</th>\n",
       "      <th>Comments</th>\n",
       "    </tr>\n",
       "  </thead>\n",
       "  <tbody>\n",
       "    <tr>\n",
       "      <th>0</th>\n",
       "      <td>WorldNews</td>\n",
       "      <td>2015-01-01</td>\n",
       "      <td>bob</td>\n",
       "      <td>495</td>\n",
       "      <td>39</td>\n",
       "    </tr>\n",
       "    <tr>\n",
       "      <th>2</th>\n",
       "      <td>WorldNews</td>\n",
       "      <td>2015-01-02</td>\n",
       "      <td>bob</td>\n",
       "      <td>293</td>\n",
       "      <td>4</td>\n",
       "    </tr>\n",
       "    <tr>\n",
       "      <th>4</th>\n",
       "      <td>WorldNews</td>\n",
       "      <td>2015-01-03</td>\n",
       "      <td>alice</td>\n",
       "      <td>509</td>\n",
       "      <td>13</td>\n",
       "    </tr>\n",
       "  </tbody>\n",
       "</table>\n",
       "</div>"
      ],
      "text/plain": [
       "     Channel        Date Anchor  Views  Comments\n",
       "0  WorldNews  2015-01-01    bob    495        39\n",
       "2  WorldNews  2015-01-02    bob    293         4\n",
       "4  WorldNews  2015-01-03  alice    509        13"
      ]
     },
     "execution_count": 21,
     "metadata": {},
     "output_type": "execute_result"
    }
   ],
   "source": [
    "worldnews_df.loc[0:4]"
   ]
  },
  {
   "cell_type": "markdown",
   "metadata": {},
   "source": [
    "**Selection By Position**"
   ]
  },
  {
   "cell_type": "markdown",
   "metadata": {},
   "source": [
    "In the **integer based indexing**, it follows **0-based** slicing similar to Python lists that you are used to. Where the starting bound is included but the upper bound is excluded. Using a non-integer, even a valid label will raise a **IndexError**."
   ]
  },
  {
   "cell_type": "markdown",
   "metadata": {},
   "source": [
    "Hence, this will return the top **4** rows, Because it looks at the positions."
   ]
  },
  {
   "cell_type": "code",
   "execution_count": 22,
   "metadata": {
    "collapsed": false
   },
   "outputs": [
    {
     "data": {
      "text/html": [
       "<div>\n",
       "<table border=\"1\" class=\"dataframe\">\n",
       "  <thead>\n",
       "    <tr style=\"text-align: right;\">\n",
       "      <th></th>\n",
       "      <th>Channel</th>\n",
       "      <th>Date</th>\n",
       "      <th>Anchor</th>\n",
       "      <th>Views</th>\n",
       "      <th>Comments</th>\n",
       "    </tr>\n",
       "  </thead>\n",
       "  <tbody>\n",
       "    <tr>\n",
       "      <th>0</th>\n",
       "      <td>WorldNews</td>\n",
       "      <td>2015-01-01</td>\n",
       "      <td>bob</td>\n",
       "      <td>495</td>\n",
       "      <td>39</td>\n",
       "    </tr>\n",
       "    <tr>\n",
       "      <th>2</th>\n",
       "      <td>WorldNews</td>\n",
       "      <td>2015-01-02</td>\n",
       "      <td>bob</td>\n",
       "      <td>293</td>\n",
       "      <td>4</td>\n",
       "    </tr>\n",
       "    <tr>\n",
       "      <th>4</th>\n",
       "      <td>WorldNews</td>\n",
       "      <td>2015-01-03</td>\n",
       "      <td>alice</td>\n",
       "      <td>509</td>\n",
       "      <td>13</td>\n",
       "    </tr>\n",
       "    <tr>\n",
       "      <th>6</th>\n",
       "      <td>WorldNews</td>\n",
       "      <td>2015-01-04</td>\n",
       "      <td>alice</td>\n",
       "      <td>490</td>\n",
       "      <td>54</td>\n",
       "    </tr>\n",
       "  </tbody>\n",
       "</table>\n",
       "</div>"
      ],
      "text/plain": [
       "     Channel        Date Anchor  Views  Comments\n",
       "0  WorldNews  2015-01-01    bob    495        39\n",
       "2  WorldNews  2015-01-02    bob    293         4\n",
       "4  WorldNews  2015-01-03  alice    509        13\n",
       "6  WorldNews  2015-01-04  alice    490        54"
      ]
     },
     "execution_count": 22,
     "metadata": {},
     "output_type": "execute_result"
    }
   ],
   "source": [
    "worldnews_df.iloc[0:4]"
   ]
  },
  {
   "cell_type": "markdown",
   "metadata": {},
   "source": [
    "This will work like **loc** because the index contains integer values."
   ]
  },
  {
   "cell_type": "code",
   "execution_count": 23,
   "metadata": {
    "collapsed": false
   },
   "outputs": [
    {
     "data": {
      "text/html": [
       "<div>\n",
       "<table border=\"1\" class=\"dataframe\">\n",
       "  <thead>\n",
       "    <tr style=\"text-align: right;\">\n",
       "      <th></th>\n",
       "      <th>Channel</th>\n",
       "      <th>Date</th>\n",
       "      <th>Anchor</th>\n",
       "      <th>Views</th>\n",
       "      <th>Comments</th>\n",
       "    </tr>\n",
       "  </thead>\n",
       "  <tbody>\n",
       "    <tr>\n",
       "      <th>0</th>\n",
       "      <td>WorldNews</td>\n",
       "      <td>2015-01-01</td>\n",
       "      <td>bob</td>\n",
       "      <td>495</td>\n",
       "      <td>39</td>\n",
       "    </tr>\n",
       "    <tr>\n",
       "      <th>2</th>\n",
       "      <td>WorldNews</td>\n",
       "      <td>2015-01-02</td>\n",
       "      <td>bob</td>\n",
       "      <td>293</td>\n",
       "      <td>4</td>\n",
       "    </tr>\n",
       "    <tr>\n",
       "      <th>4</th>\n",
       "      <td>WorldNews</td>\n",
       "      <td>2015-01-03</td>\n",
       "      <td>alice</td>\n",
       "      <td>509</td>\n",
       "      <td>13</td>\n",
       "    </tr>\n",
       "  </tbody>\n",
       "</table>\n",
       "</div>"
      ],
      "text/plain": [
       "     Channel        Date Anchor  Views  Comments\n",
       "0  WorldNews  2015-01-01    bob    495        39\n",
       "2  WorldNews  2015-01-02    bob    293         4\n",
       "4  WorldNews  2015-01-03  alice    509        13"
      ]
     },
     "execution_count": 23,
     "metadata": {},
     "output_type": "execute_result"
    }
   ],
   "source": [
    "worldnews_df.ix[0:4]"
   ]
  },
  {
   "cell_type": "markdown",
   "metadata": {},
   "source": [
    "### Grouping, Aggregating, and Pivoting data"
   ]
  },
  {
   "cell_type": "markdown",
   "metadata": {},
   "source": [
    "**Grouping**\n",
    "\n",
    "We can group (combine) the dataset based on certain parameters. For example, here we are grouping the 'WorldNews' dataset based on their 'Anchor' columns."
   ]
  },
  {
   "cell_type": "code",
   "execution_count": 24,
   "metadata": {
    "collapsed": false
   },
   "outputs": [],
   "source": [
    "worldnews_anchors_group = worldnews_df.groupby(worldnews_df['Anchor'])"
   ]
  },
  {
   "cell_type": "markdown",
   "metadata": {},
   "source": [
    "This will return a **DataFrameGroupBy** object."
   ]
  },
  {
   "cell_type": "code",
   "execution_count": 25,
   "metadata": {
    "collapsed": false
   },
   "outputs": [
    {
     "data": {
      "text/plain": [
       "pandas.core.groupby.DataFrameGroupBy"
      ]
     },
     "execution_count": 25,
     "metadata": {},
     "output_type": "execute_result"
    }
   ],
   "source": [
    "type(worldnews_anchors_group)"
   ]
  },
  {
   "cell_type": "markdown",
   "metadata": {},
   "source": [
    "**Aggregating**\n",
    "\n",
    "Aggregating the resultant group will count the respective 'Views' and 'Columns' for each anchor."
   ]
  },
  {
   "cell_type": "code",
   "execution_count": 26,
   "metadata": {
    "collapsed": false
   },
   "outputs": [
    {
     "data": {
      "text/html": [
       "<div>\n",
       "<table border=\"1\" class=\"dataframe\">\n",
       "  <thead>\n",
       "    <tr style=\"text-align: right;\">\n",
       "      <th></th>\n",
       "      <th>Views</th>\n",
       "      <th>Comments</th>\n",
       "    </tr>\n",
       "    <tr>\n",
       "      <th>Anchor</th>\n",
       "      <th></th>\n",
       "      <th></th>\n",
       "    </tr>\n",
       "  </thead>\n",
       "  <tbody>\n",
       "    <tr>\n",
       "      <th>alice</th>\n",
       "      <td>17498</td>\n",
       "      <td>1227</td>\n",
       "    </tr>\n",
       "    <tr>\n",
       "      <th>bob</th>\n",
       "      <td>17754</td>\n",
       "      <td>821</td>\n",
       "    </tr>\n",
       "    <tr>\n",
       "      <th>jenn</th>\n",
       "      <td>16946</td>\n",
       "      <td>888</td>\n",
       "    </tr>\n",
       "  </tbody>\n",
       "</table>\n",
       "</div>"
      ],
      "text/plain": [
       "        Views  Comments\n",
       "Anchor                 \n",
       "alice   17498      1227\n",
       "bob     17754       821\n",
       "jenn    16946       888"
      ]
     },
     "execution_count": 26,
     "metadata": {},
     "output_type": "execute_result"
    }
   ],
   "source": [
    "worldnews_anchors_group.aggregate(np.sum)"
   ]
  },
  {
   "cell_type": "markdown",
   "metadata": {},
   "source": [
    "#### Views and Comments Share per Anchor"
   ]
  },
  {
   "cell_type": "code",
   "execution_count": 27,
   "metadata": {
    "collapsed": false
   },
   "outputs": [
    {
     "data": {
      "text/html": [
       "<iframe id=\"igraph\" scrolling=\"no\" style=\"border:none;\" seamless=\"seamless\" src=\"https://plot.ly/~tarzzz/2574.embed\" height=\"525px\" width=\"100%\"></iframe>"
      ],
      "text/plain": [
       "<plotly.tools.PlotlyDisplay object>"
      ]
     },
     "execution_count": 27,
     "metadata": {},
     "output_type": "execute_result"
    }
   ],
   "source": [
    "# we take the aggregation information as a DataFrame\n",
    "share_df = worldnews_anchors_group.aggregate(np.sum)\n",
    "anchors = share_df.index\n",
    "\n",
    "# for each sections ('views', 'comments') update the data accordingly\n",
    "share_data = [\n",
    "    {\n",
    "        'values': share_df['Views'],\n",
    "        'labels': anchors,\n",
    "        'domain': {'x': [0, .48]},\n",
    "        'name': 'Views',\n",
    "        'hoverinfo': 'label+value+name',\n",
    "        'hole': 0.4,\n",
    "        'type': 'pie'\n",
    "    },\n",
    "    {\n",
    "        'values': share_df['Comments'],\n",
    "        'labels': anchors,\n",
    "        'domain': {'x': [0.52, 1]},\n",
    "        'name': 'Comments',\n",
    "        'hoverinfo': 'label+value+name',\n",
    "        'hole': 0.4,\n",
    "        'type': 'pie'\n",
    "    }\n",
    "]\n",
    "\n",
    "layout = {\n",
    "    'title': 'Views and Comments Share per Anchor [WorldNews]',\n",
    "    'annotations': [\n",
    "        {\n",
    "            'text': 'Views',\n",
    "            'font': {'size': 15},\n",
    "            'x': 0.21,\n",
    "            'y': 0.5,\n",
    "            'showarrow': False\n",
    "        },\n",
    "        {\n",
    "            'text': 'Comments',\n",
    "            'font': {'size': 15},\n",
    "            'x': 0.81,\n",
    "            'y': 0.5,\n",
    "            'showarrow': False\n",
    "        }\n",
    "    ]\n",
    "}\n",
    "\n",
    "py.iplot({'data': share_data, 'layout': layout})"
   ]
  },
  {
   "cell_type": "markdown",
   "metadata": {},
   "source": [
    "**Pivoting**\n",
    "\n",
    "Using the pivot function, we can generate a new table from the original one.\n",
    "\n",
    "It takes three arguments, that decides the **index**, **columns**, and **cell values** of the new table we want.\n",
    "\n",
    "Consider this sample table for example."
   ]
  },
  {
   "cell_type": "code",
   "execution_count": 28,
   "metadata": {
    "collapsed": false
   },
   "outputs": [
    {
     "data": {
      "text/html": [
       "<div>\n",
       "<table border=\"1\" class=\"dataframe\">\n",
       "  <thead>\n",
       "    <tr style=\"text-align: right;\">\n",
       "      <th></th>\n",
       "      <th>Channel</th>\n",
       "      <th>Date</th>\n",
       "      <th>Anchor</th>\n",
       "      <th>Views</th>\n",
       "      <th>Comments</th>\n",
       "    </tr>\n",
       "  </thead>\n",
       "  <tbody>\n",
       "    <tr>\n",
       "      <th>162</th>\n",
       "      <td>WorldNews</td>\n",
       "      <td>2015-03-23</td>\n",
       "      <td>alice</td>\n",
       "      <td>500</td>\n",
       "      <td>13</td>\n",
       "    </tr>\n",
       "    <tr>\n",
       "      <th>34</th>\n",
       "      <td>WorldNews</td>\n",
       "      <td>2015-01-18</td>\n",
       "      <td>bob</td>\n",
       "      <td>376</td>\n",
       "      <td>13</td>\n",
       "    </tr>\n",
       "    <tr>\n",
       "      <th>240</th>\n",
       "      <td>WorldNews</td>\n",
       "      <td>2015-05-01</td>\n",
       "      <td>jenn</td>\n",
       "      <td>97</td>\n",
       "      <td>9</td>\n",
       "    </tr>\n",
       "    <tr>\n",
       "      <th>102</th>\n",
       "      <td>WorldNews</td>\n",
       "      <td>2015-02-21</td>\n",
       "      <td>alice</td>\n",
       "      <td>73</td>\n",
       "      <td>9</td>\n",
       "    </tr>\n",
       "    <tr>\n",
       "      <th>28</th>\n",
       "      <td>WorldNews</td>\n",
       "      <td>2015-01-15</td>\n",
       "      <td>alice</td>\n",
       "      <td>118</td>\n",
       "      <td>4</td>\n",
       "    </tr>\n",
       "    <tr>\n",
       "      <th>244</th>\n",
       "      <td>WorldNews</td>\n",
       "      <td>2015-05-03</td>\n",
       "      <td>alice</td>\n",
       "      <td>99</td>\n",
       "      <td>47</td>\n",
       "    </tr>\n",
       "    <tr>\n",
       "      <th>228</th>\n",
       "      <td>WorldNews</td>\n",
       "      <td>2015-04-25</td>\n",
       "      <td>jenn</td>\n",
       "      <td>504</td>\n",
       "      <td>10</td>\n",
       "    </tr>\n",
       "    <tr>\n",
       "      <th>70</th>\n",
       "      <td>WorldNews</td>\n",
       "      <td>2015-02-05</td>\n",
       "      <td>jenn</td>\n",
       "      <td>497</td>\n",
       "      <td>9</td>\n",
       "    </tr>\n",
       "    <tr>\n",
       "      <th>138</th>\n",
       "      <td>WorldNews</td>\n",
       "      <td>2015-03-11</td>\n",
       "      <td>jenn</td>\n",
       "      <td>316</td>\n",
       "      <td>24</td>\n",
       "    </tr>\n",
       "    <tr>\n",
       "      <th>248</th>\n",
       "      <td>WorldNews</td>\n",
       "      <td>2015-05-05</td>\n",
       "      <td>jenn</td>\n",
       "      <td>135</td>\n",
       "      <td>6</td>\n",
       "    </tr>\n",
       "  </tbody>\n",
       "</table>\n",
       "</div>"
      ],
      "text/plain": [
       "       Channel        Date Anchor  Views  Comments\n",
       "162  WorldNews  2015-03-23  alice    500        13\n",
       "34   WorldNews  2015-01-18    bob    376        13\n",
       "240  WorldNews  2015-05-01   jenn     97         9\n",
       "102  WorldNews  2015-02-21  alice     73         9\n",
       "28   WorldNews  2015-01-15  alice    118         4\n",
       "244  WorldNews  2015-05-03  alice     99        47\n",
       "228  WorldNews  2015-04-25   jenn    504        10\n",
       "70   WorldNews  2015-02-05   jenn    497         9\n",
       "138  WorldNews  2015-03-11   jenn    316        24\n",
       "248  WorldNews  2015-05-05   jenn    135         6"
      ]
     },
     "execution_count": 28,
     "metadata": {},
     "output_type": "execute_result"
    }
   ],
   "source": [
    "worldnews_df.sample(10)"
   ]
  },
  {
   "cell_type": "markdown",
   "metadata": {},
   "source": [
    "We can try reshaping this table to find out how many 'Views' each anchor has received.\n",
    "\n",
    "So we will create a new table whose 'index' is 'Date', 'columns' will be different values of 'Anchor column'.\n",
    "\n",
    "The cell values will be the respective value of the 'Views' column."
   ]
  },
  {
   "cell_type": "code",
   "execution_count": 29,
   "metadata": {
    "collapsed": false,
    "scrolled": true
   },
   "outputs": [
    {
     "data": {
      "text/html": [
       "<div>\n",
       "<table border=\"1\" class=\"dataframe\">\n",
       "  <thead>\n",
       "    <tr style=\"text-align: right;\">\n",
       "      <th>Anchor</th>\n",
       "      <th>alice</th>\n",
       "      <th>bob</th>\n",
       "      <th>jenn</th>\n",
       "    </tr>\n",
       "    <tr>\n",
       "      <th>Date</th>\n",
       "      <th></th>\n",
       "      <th></th>\n",
       "      <th></th>\n",
       "    </tr>\n",
       "  </thead>\n",
       "  <tbody>\n",
       "    <tr>\n",
       "      <th>2015-03-08</th>\n",
       "      <td>382</td>\n",
       "      <td>NaN</td>\n",
       "      <td>NaN</td>\n",
       "    </tr>\n",
       "    <tr>\n",
       "      <th>2015-04-18</th>\n",
       "      <td>470</td>\n",
       "      <td>NaN</td>\n",
       "      <td>NaN</td>\n",
       "    </tr>\n",
       "    <tr>\n",
       "      <th>2015-03-24</th>\n",
       "      <td>NaN</td>\n",
       "      <td>NaN</td>\n",
       "      <td>154</td>\n",
       "    </tr>\n",
       "    <tr>\n",
       "      <th>2015-02-12</th>\n",
       "      <td>390</td>\n",
       "      <td>NaN</td>\n",
       "      <td>NaN</td>\n",
       "    </tr>\n",
       "    <tr>\n",
       "      <th>2015-06-04</th>\n",
       "      <td>NaN</td>\n",
       "      <td>113</td>\n",
       "      <td>NaN</td>\n",
       "    </tr>\n",
       "    <tr>\n",
       "      <th>2015-01-28</th>\n",
       "      <td>NaN</td>\n",
       "      <td>NaN</td>\n",
       "      <td>212</td>\n",
       "    </tr>\n",
       "    <tr>\n",
       "      <th>2015-04-17</th>\n",
       "      <td>NaN</td>\n",
       "      <td>301</td>\n",
       "      <td>NaN</td>\n",
       "    </tr>\n",
       "    <tr>\n",
       "      <th>2015-05-25</th>\n",
       "      <td>NaN</td>\n",
       "      <td>298</td>\n",
       "      <td>NaN</td>\n",
       "    </tr>\n",
       "    <tr>\n",
       "      <th>2015-01-12</th>\n",
       "      <td>NaN</td>\n",
       "      <td>NaN</td>\n",
       "      <td>506</td>\n",
       "    </tr>\n",
       "    <tr>\n",
       "      <th>2015-03-23</th>\n",
       "      <td>500</td>\n",
       "      <td>NaN</td>\n",
       "      <td>NaN</td>\n",
       "    </tr>\n",
       "  </tbody>\n",
       "</table>\n",
       "</div>"
      ],
      "text/plain": [
       "Anchor      alice  bob  jenn\n",
       "Date                        \n",
       "2015-03-08    382  NaN   NaN\n",
       "2015-04-18    470  NaN   NaN\n",
       "2015-03-24    NaN  NaN   154\n",
       "2015-02-12    390  NaN   NaN\n",
       "2015-06-04    NaN  113   NaN\n",
       "2015-01-28    NaN  NaN   212\n",
       "2015-04-17    NaN  301   NaN\n",
       "2015-05-25    NaN  298   NaN\n",
       "2015-01-12    NaN  NaN   506\n",
       "2015-03-23    500  NaN   NaN"
      ]
     },
     "execution_count": 29,
     "metadata": {},
     "output_type": "execute_result"
    }
   ],
   "source": [
    "worldnews_pivoted_df = worldnews_df.pivot(index='Date', columns='Anchor', values='Views')\n",
    "worldnews_pivoted_df.sample(10)"
   ]
  },
  {
   "cell_type": "markdown",
   "metadata": {},
   "source": [
    "This is our derived table, you can see how many views different anchors have received.\n",
    "\n",
    "Similarly you can reshape your tables according to your usecase."
   ]
  },
  {
   "cell_type": "markdown",
   "metadata": {},
   "source": [
    "### Interpolation"
   ]
  },
  {
   "cell_type": "markdown",
   "metadata": {},
   "source": [
    "Sometimes your dataset has missing values in it.Pandas provide the **interpolate** function to insert data between fixed points. It uses different methods to regularize the missing values, by default it uses **linear interpolation** for the same."
   ]
  },
  {
   "cell_type": "markdown",
   "metadata": {},
   "source": [
    "We can count the absent values (**NaN**) using the **isnull** method."
   ]
  },
  {
   "cell_type": "code",
   "execution_count": 30,
   "metadata": {
    "collapsed": false
   },
   "outputs": [
    {
     "data": {
      "text/plain": [
       "Channel     0\n",
       "Date        0\n",
       "Anchor      0\n",
       "Views       7\n",
       "Comments    7\n",
       "dtype: int64"
      ]
     },
     "execution_count": 30,
     "metadata": {},
     "output_type": "execute_result"
    }
   ],
   "source": [
    "worldnews_df.isnull().sum()"
   ]
  },
  {
   "cell_type": "markdown",
   "metadata": {},
   "source": [
    "Now let's interpolate the Series object."
   ]
  },
  {
   "cell_type": "code",
   "execution_count": 31,
   "metadata": {
    "collapsed": false
   },
   "outputs": [],
   "source": [
    "worldnews_interpolated_df = worldnews_df.interpolate()"
   ]
  },
  {
   "cell_type": "markdown",
   "metadata": {},
   "source": [
    "After interpolation, we can see that there are no more **NaN** values."
   ]
  },
  {
   "cell_type": "code",
   "execution_count": 32,
   "metadata": {
    "collapsed": false
   },
   "outputs": [
    {
     "data": {
      "text/plain": [
       "Channel     0\n",
       "Date        0\n",
       "Anchor      0\n",
       "Views       0\n",
       "Comments    0\n",
       "dtype: int64"
      ]
     },
     "execution_count": 32,
     "metadata": {},
     "output_type": "execute_result"
    }
   ],
   "source": [
    "worldnews_interpolated_df.isnull().sum()"
   ]
  },
  {
   "cell_type": "markdown",
   "metadata": {},
   "source": [
    "### Joining data"
   ]
  },
  {
   "cell_type": "markdown",
   "metadata": {},
   "source": [
    "Pandas provides multiple methods to easily combine DataFrame and Series objects, like we see in SQL's join operations."
   ]
  },
  {
   "cell_type": "markdown",
   "metadata": {},
   "source": [
    "Consider these two small DataFrames."
   ]
  },
  {
   "cell_type": "code",
   "execution_count": 33,
   "metadata": {
    "collapsed": false
   },
   "outputs": [],
   "source": [
    "Adf = worldnews_df.iloc[3:8]\n",
    "Bdf = channels_df[channels_df['Channel'] == 'WorldWeather'].iloc[5:10]"
   ]
  },
  {
   "cell_type": "code",
   "execution_count": 34,
   "metadata": {
    "collapsed": false
   },
   "outputs": [
    {
     "data": {
      "text/html": [
       "<div>\n",
       "<table border=\"1\" class=\"dataframe\">\n",
       "  <thead>\n",
       "    <tr style=\"text-align: right;\">\n",
       "      <th></th>\n",
       "      <th>Channel</th>\n",
       "      <th>Date</th>\n",
       "      <th>Anchor</th>\n",
       "      <th>Views</th>\n",
       "      <th>Comments</th>\n",
       "    </tr>\n",
       "  </thead>\n",
       "  <tbody>\n",
       "    <tr>\n",
       "      <th>6</th>\n",
       "      <td>WorldNews</td>\n",
       "      <td>2015-01-04</td>\n",
       "      <td>alice</td>\n",
       "      <td>490</td>\n",
       "      <td>54</td>\n",
       "    </tr>\n",
       "    <tr>\n",
       "      <th>8</th>\n",
       "      <td>WorldNews</td>\n",
       "      <td>2015-01-05</td>\n",
       "      <td>bob</td>\n",
       "      <td>231</td>\n",
       "      <td>13</td>\n",
       "    </tr>\n",
       "    <tr>\n",
       "      <th>10</th>\n",
       "      <td>WorldNews</td>\n",
       "      <td>2015-01-06</td>\n",
       "      <td>jenn</td>\n",
       "      <td>399</td>\n",
       "      <td>17</td>\n",
       "    </tr>\n",
       "    <tr>\n",
       "      <th>12</th>\n",
       "      <td>WorldNews</td>\n",
       "      <td>2015-01-07</td>\n",
       "      <td>jenn</td>\n",
       "      <td>463</td>\n",
       "      <td>26</td>\n",
       "    </tr>\n",
       "    <tr>\n",
       "      <th>14</th>\n",
       "      <td>WorldNews</td>\n",
       "      <td>2015-01-08</td>\n",
       "      <td>bob</td>\n",
       "      <td>479</td>\n",
       "      <td>27</td>\n",
       "    </tr>\n",
       "  </tbody>\n",
       "</table>\n",
       "</div>"
      ],
      "text/plain": [
       "      Channel        Date Anchor  Views  Comments\n",
       "6   WorldNews  2015-01-04  alice    490        54\n",
       "8   WorldNews  2015-01-05    bob    231        13\n",
       "10  WorldNews  2015-01-06   jenn    399        17\n",
       "12  WorldNews  2015-01-07   jenn    463        26\n",
       "14  WorldNews  2015-01-08    bob    479        27"
      ]
     },
     "execution_count": 34,
     "metadata": {},
     "output_type": "execute_result"
    }
   ],
   "source": [
    "Adf"
   ]
  },
  {
   "cell_type": "code",
   "execution_count": 35,
   "metadata": {
    "collapsed": false
   },
   "outputs": [
    {
     "data": {
      "text/html": [
       "<div>\n",
       "<table border=\"1\" class=\"dataframe\">\n",
       "  <thead>\n",
       "    <tr style=\"text-align: right;\">\n",
       "      <th></th>\n",
       "      <th>Channel</th>\n",
       "      <th>Date</th>\n",
       "      <th>Anchor</th>\n",
       "      <th>Views</th>\n",
       "      <th>Comments</th>\n",
       "    </tr>\n",
       "  </thead>\n",
       "  <tbody>\n",
       "    <tr>\n",
       "      <th>11</th>\n",
       "      <td>WorldWeather</td>\n",
       "      <td>2015-01-06</td>\n",
       "      <td>harry</td>\n",
       "      <td>293</td>\n",
       "      <td>9</td>\n",
       "    </tr>\n",
       "    <tr>\n",
       "      <th>13</th>\n",
       "      <td>WorldWeather</td>\n",
       "      <td>2015-01-07</td>\n",
       "      <td>emily</td>\n",
       "      <td>304</td>\n",
       "      <td>6</td>\n",
       "    </tr>\n",
       "    <tr>\n",
       "      <th>15</th>\n",
       "      <td>WorldWeather</td>\n",
       "      <td>2015-01-08</td>\n",
       "      <td>emily</td>\n",
       "      <td>470</td>\n",
       "      <td>10</td>\n",
       "    </tr>\n",
       "    <tr>\n",
       "      <th>17</th>\n",
       "      <td>WorldWeather</td>\n",
       "      <td>2015-01-09</td>\n",
       "      <td>tom</td>\n",
       "      <td>NaN</td>\n",
       "      <td>15</td>\n",
       "    </tr>\n",
       "    <tr>\n",
       "      <th>19</th>\n",
       "      <td>WorldWeather</td>\n",
       "      <td>2015-01-10</td>\n",
       "      <td>harry</td>\n",
       "      <td>337</td>\n",
       "      <td>4</td>\n",
       "    </tr>\n",
       "  </tbody>\n",
       "</table>\n",
       "</div>"
      ],
      "text/plain": [
       "         Channel        Date Anchor  Views  Comments\n",
       "11  WorldWeather  2015-01-06  harry    293         9\n",
       "13  WorldWeather  2015-01-07  emily    304         6\n",
       "15  WorldWeather  2015-01-08  emily    470        10\n",
       "17  WorldWeather  2015-01-09    tom    NaN        15\n",
       "19  WorldWeather  2015-01-10  harry    337         4"
      ]
     },
     "execution_count": 35,
     "metadata": {},
     "output_type": "execute_result"
    }
   ],
   "source": [
    "Bdf"
   ]
  },
  {
   "cell_type": "markdown",
   "metadata": {},
   "source": [
    "**Concat**\n",
    "\n",
    "This function performs the concatenation operation along a given axis. *axis=0* means the operation will be performed along the *rows*, and for *axis=1* it will be along columns. (By default, it's acted along *rows*, ie *axis=0*.)"
   ]
  },
  {
   "cell_type": "code",
   "execution_count": 36,
   "metadata": {
    "collapsed": false
   },
   "outputs": [
    {
     "data": {
      "text/html": [
       "<div>\n",
       "<table border=\"1\" class=\"dataframe\">\n",
       "  <thead>\n",
       "    <tr style=\"text-align: right;\">\n",
       "      <th></th>\n",
       "      <th>Channel</th>\n",
       "      <th>Date</th>\n",
       "      <th>Anchor</th>\n",
       "      <th>Views</th>\n",
       "      <th>Comments</th>\n",
       "    </tr>\n",
       "  </thead>\n",
       "  <tbody>\n",
       "    <tr>\n",
       "      <th>6</th>\n",
       "      <td>WorldNews</td>\n",
       "      <td>2015-01-04</td>\n",
       "      <td>alice</td>\n",
       "      <td>490</td>\n",
       "      <td>54</td>\n",
       "    </tr>\n",
       "    <tr>\n",
       "      <th>8</th>\n",
       "      <td>WorldNews</td>\n",
       "      <td>2015-01-05</td>\n",
       "      <td>bob</td>\n",
       "      <td>231</td>\n",
       "      <td>13</td>\n",
       "    </tr>\n",
       "    <tr>\n",
       "      <th>10</th>\n",
       "      <td>WorldNews</td>\n",
       "      <td>2015-01-06</td>\n",
       "      <td>jenn</td>\n",
       "      <td>399</td>\n",
       "      <td>17</td>\n",
       "    </tr>\n",
       "    <tr>\n",
       "      <th>12</th>\n",
       "      <td>WorldNews</td>\n",
       "      <td>2015-01-07</td>\n",
       "      <td>jenn</td>\n",
       "      <td>463</td>\n",
       "      <td>26</td>\n",
       "    </tr>\n",
       "    <tr>\n",
       "      <th>14</th>\n",
       "      <td>WorldNews</td>\n",
       "      <td>2015-01-08</td>\n",
       "      <td>bob</td>\n",
       "      <td>479</td>\n",
       "      <td>27</td>\n",
       "    </tr>\n",
       "    <tr>\n",
       "      <th>11</th>\n",
       "      <td>WorldWeather</td>\n",
       "      <td>2015-01-06</td>\n",
       "      <td>harry</td>\n",
       "      <td>293</td>\n",
       "      <td>9</td>\n",
       "    </tr>\n",
       "    <tr>\n",
       "      <th>13</th>\n",
       "      <td>WorldWeather</td>\n",
       "      <td>2015-01-07</td>\n",
       "      <td>emily</td>\n",
       "      <td>304</td>\n",
       "      <td>6</td>\n",
       "    </tr>\n",
       "    <tr>\n",
       "      <th>15</th>\n",
       "      <td>WorldWeather</td>\n",
       "      <td>2015-01-08</td>\n",
       "      <td>emily</td>\n",
       "      <td>470</td>\n",
       "      <td>10</td>\n",
       "    </tr>\n",
       "    <tr>\n",
       "      <th>17</th>\n",
       "      <td>WorldWeather</td>\n",
       "      <td>2015-01-09</td>\n",
       "      <td>tom</td>\n",
       "      <td>NaN</td>\n",
       "      <td>15</td>\n",
       "    </tr>\n",
       "    <tr>\n",
       "      <th>19</th>\n",
       "      <td>WorldWeather</td>\n",
       "      <td>2015-01-10</td>\n",
       "      <td>harry</td>\n",
       "      <td>337</td>\n",
       "      <td>4</td>\n",
       "    </tr>\n",
       "  </tbody>\n",
       "</table>\n",
       "</div>"
      ],
      "text/plain": [
       "         Channel        Date Anchor  Views  Comments\n",
       "6      WorldNews  2015-01-04  alice    490        54\n",
       "8      WorldNews  2015-01-05    bob    231        13\n",
       "10     WorldNews  2015-01-06   jenn    399        17\n",
       "12     WorldNews  2015-01-07   jenn    463        26\n",
       "14     WorldNews  2015-01-08    bob    479        27\n",
       "11  WorldWeather  2015-01-06  harry    293         9\n",
       "13  WorldWeather  2015-01-07  emily    304         6\n",
       "15  WorldWeather  2015-01-08  emily    470        10\n",
       "17  WorldWeather  2015-01-09    tom    NaN        15\n",
       "19  WorldWeather  2015-01-10  harry    337         4"
      ]
     },
     "execution_count": 36,
     "metadata": {},
     "output_type": "execute_result"
    }
   ],
   "source": [
    "pd.concat([Adf, Bdf])"
   ]
  },
  {
   "cell_type": "code",
   "execution_count": 37,
   "metadata": {
    "collapsed": false
   },
   "outputs": [
    {
     "data": {
      "text/html": [
       "<div>\n",
       "<table border=\"1\" class=\"dataframe\">\n",
       "  <thead>\n",
       "    <tr style=\"text-align: right;\">\n",
       "      <th></th>\n",
       "      <th>Channel</th>\n",
       "      <th>Date</th>\n",
       "      <th>Anchor</th>\n",
       "      <th>Views</th>\n",
       "      <th>Comments</th>\n",
       "      <th>Channel</th>\n",
       "      <th>Date</th>\n",
       "      <th>Anchor</th>\n",
       "      <th>Views</th>\n",
       "      <th>Comments</th>\n",
       "    </tr>\n",
       "  </thead>\n",
       "  <tbody>\n",
       "    <tr>\n",
       "      <th>6</th>\n",
       "      <td>WorldNews</td>\n",
       "      <td>2015-01-04</td>\n",
       "      <td>alice</td>\n",
       "      <td>490</td>\n",
       "      <td>54</td>\n",
       "      <td>NaN</td>\n",
       "      <td>NaN</td>\n",
       "      <td>NaN</td>\n",
       "      <td>NaN</td>\n",
       "      <td>NaN</td>\n",
       "    </tr>\n",
       "    <tr>\n",
       "      <th>8</th>\n",
       "      <td>WorldNews</td>\n",
       "      <td>2015-01-05</td>\n",
       "      <td>bob</td>\n",
       "      <td>231</td>\n",
       "      <td>13</td>\n",
       "      <td>NaN</td>\n",
       "      <td>NaN</td>\n",
       "      <td>NaN</td>\n",
       "      <td>NaN</td>\n",
       "      <td>NaN</td>\n",
       "    </tr>\n",
       "    <tr>\n",
       "      <th>10</th>\n",
       "      <td>WorldNews</td>\n",
       "      <td>2015-01-06</td>\n",
       "      <td>jenn</td>\n",
       "      <td>399</td>\n",
       "      <td>17</td>\n",
       "      <td>NaN</td>\n",
       "      <td>NaN</td>\n",
       "      <td>NaN</td>\n",
       "      <td>NaN</td>\n",
       "      <td>NaN</td>\n",
       "    </tr>\n",
       "    <tr>\n",
       "      <th>11</th>\n",
       "      <td>NaN</td>\n",
       "      <td>NaN</td>\n",
       "      <td>NaN</td>\n",
       "      <td>NaN</td>\n",
       "      <td>NaN</td>\n",
       "      <td>WorldWeather</td>\n",
       "      <td>2015-01-06</td>\n",
       "      <td>harry</td>\n",
       "      <td>293</td>\n",
       "      <td>9</td>\n",
       "    </tr>\n",
       "    <tr>\n",
       "      <th>12</th>\n",
       "      <td>WorldNews</td>\n",
       "      <td>2015-01-07</td>\n",
       "      <td>jenn</td>\n",
       "      <td>463</td>\n",
       "      <td>26</td>\n",
       "      <td>NaN</td>\n",
       "      <td>NaN</td>\n",
       "      <td>NaN</td>\n",
       "      <td>NaN</td>\n",
       "      <td>NaN</td>\n",
       "    </tr>\n",
       "    <tr>\n",
       "      <th>13</th>\n",
       "      <td>NaN</td>\n",
       "      <td>NaN</td>\n",
       "      <td>NaN</td>\n",
       "      <td>NaN</td>\n",
       "      <td>NaN</td>\n",
       "      <td>WorldWeather</td>\n",
       "      <td>2015-01-07</td>\n",
       "      <td>emily</td>\n",
       "      <td>304</td>\n",
       "      <td>6</td>\n",
       "    </tr>\n",
       "    <tr>\n",
       "      <th>14</th>\n",
       "      <td>WorldNews</td>\n",
       "      <td>2015-01-08</td>\n",
       "      <td>bob</td>\n",
       "      <td>479</td>\n",
       "      <td>27</td>\n",
       "      <td>NaN</td>\n",
       "      <td>NaN</td>\n",
       "      <td>NaN</td>\n",
       "      <td>NaN</td>\n",
       "      <td>NaN</td>\n",
       "    </tr>\n",
       "    <tr>\n",
       "      <th>15</th>\n",
       "      <td>NaN</td>\n",
       "      <td>NaN</td>\n",
       "      <td>NaN</td>\n",
       "      <td>NaN</td>\n",
       "      <td>NaN</td>\n",
       "      <td>WorldWeather</td>\n",
       "      <td>2015-01-08</td>\n",
       "      <td>emily</td>\n",
       "      <td>470</td>\n",
       "      <td>10</td>\n",
       "    </tr>\n",
       "    <tr>\n",
       "      <th>17</th>\n",
       "      <td>NaN</td>\n",
       "      <td>NaN</td>\n",
       "      <td>NaN</td>\n",
       "      <td>NaN</td>\n",
       "      <td>NaN</td>\n",
       "      <td>WorldWeather</td>\n",
       "      <td>2015-01-09</td>\n",
       "      <td>tom</td>\n",
       "      <td>NaN</td>\n",
       "      <td>15</td>\n",
       "    </tr>\n",
       "    <tr>\n",
       "      <th>19</th>\n",
       "      <td>NaN</td>\n",
       "      <td>NaN</td>\n",
       "      <td>NaN</td>\n",
       "      <td>NaN</td>\n",
       "      <td>NaN</td>\n",
       "      <td>WorldWeather</td>\n",
       "      <td>2015-01-10</td>\n",
       "      <td>harry</td>\n",
       "      <td>337</td>\n",
       "      <td>4</td>\n",
       "    </tr>\n",
       "  </tbody>\n",
       "</table>\n",
       "</div>"
      ],
      "text/plain": [
       "      Channel        Date Anchor  Views  Comments       Channel        Date  \\\n",
       "6   WorldNews  2015-01-04  alice    490        54           NaN         NaN   \n",
       "8   WorldNews  2015-01-05    bob    231        13           NaN         NaN   \n",
       "10  WorldNews  2015-01-06   jenn    399        17           NaN         NaN   \n",
       "11        NaN         NaN    NaN    NaN       NaN  WorldWeather  2015-01-06   \n",
       "12  WorldNews  2015-01-07   jenn    463        26           NaN         NaN   \n",
       "13        NaN         NaN    NaN    NaN       NaN  WorldWeather  2015-01-07   \n",
       "14  WorldNews  2015-01-08    bob    479        27           NaN         NaN   \n",
       "15        NaN         NaN    NaN    NaN       NaN  WorldWeather  2015-01-08   \n",
       "17        NaN         NaN    NaN    NaN       NaN  WorldWeather  2015-01-09   \n",
       "19        NaN         NaN    NaN    NaN       NaN  WorldWeather  2015-01-10   \n",
       "\n",
       "   Anchor  Views  Comments  \n",
       "6     NaN    NaN       NaN  \n",
       "8     NaN    NaN       NaN  \n",
       "10    NaN    NaN       NaN  \n",
       "11  harry    293         9  \n",
       "12    NaN    NaN       NaN  \n",
       "13  emily    304         6  \n",
       "14    NaN    NaN       NaN  \n",
       "15  emily    470        10  \n",
       "17    tom    NaN        15  \n",
       "19  harry    337         4  "
      ]
     },
     "execution_count": 37,
     "metadata": {},
     "output_type": "execute_result"
    }
   ],
   "source": [
    "pd.concat([Adf, Bdf], axis=1)"
   ]
  },
  {
   "cell_type": "markdown",
   "metadata": {},
   "source": [
    "**Join**\n",
    "\n",
    "Pandas provides a single function, **merge**, for all standard join operations between DataFrame objects. We will look the basic arguments for this function.\n",
    "\n",
    "```python\n",
    "merge(left, right, how='inner', on=None)\n",
    "```\n",
    "\n",
    "* **left** - A DataFrame object\n",
    "* **right** - Another DataFrame to combine with.\n",
    "* **how** - Type of join operation, defaults to *inner*. Can be one of *left*, *right*, *inner*, and *outer*.\n",
    "* **on** - Columns names on which the join operation will be performed. Must be available in both the left and right DataFrame."
   ]
  },
  {
   "cell_type": "markdown",
   "metadata": {},
   "source": [
    "**Inner Join**\n",
    "\n",
    "By default, **join** operates like the **inner join** of SQL. Here, we are performing the join on the 'Date' column.\n",
    "Uses intersection of keys from both the DataFrames."
   ]
  },
  {
   "cell_type": "markdown",
   "metadata": {},
   "source": [
    "We will get 3 rows because in the 'Date' columns there are only three matches."
   ]
  },
  {
   "cell_type": "code",
   "execution_count": 38,
   "metadata": {
    "collapsed": false,
    "scrolled": true
   },
   "outputs": [
    {
     "data": {
      "text/html": [
       "<div>\n",
       "<table border=\"1\" class=\"dataframe\">\n",
       "  <thead>\n",
       "    <tr style=\"text-align: right;\">\n",
       "      <th></th>\n",
       "      <th>Channel_x</th>\n",
       "      <th>Date</th>\n",
       "      <th>Anchor_x</th>\n",
       "      <th>Views_x</th>\n",
       "      <th>Comments_x</th>\n",
       "      <th>Channel_y</th>\n",
       "      <th>Anchor_y</th>\n",
       "      <th>Views_y</th>\n",
       "      <th>Comments_y</th>\n",
       "    </tr>\n",
       "  </thead>\n",
       "  <tbody>\n",
       "    <tr>\n",
       "      <th>0</th>\n",
       "      <td>WorldNews</td>\n",
       "      <td>2015-01-06</td>\n",
       "      <td>jenn</td>\n",
       "      <td>399</td>\n",
       "      <td>17</td>\n",
       "      <td>WorldWeather</td>\n",
       "      <td>harry</td>\n",
       "      <td>293</td>\n",
       "      <td>9</td>\n",
       "    </tr>\n",
       "    <tr>\n",
       "      <th>1</th>\n",
       "      <td>WorldNews</td>\n",
       "      <td>2015-01-07</td>\n",
       "      <td>jenn</td>\n",
       "      <td>463</td>\n",
       "      <td>26</td>\n",
       "      <td>WorldWeather</td>\n",
       "      <td>emily</td>\n",
       "      <td>304</td>\n",
       "      <td>6</td>\n",
       "    </tr>\n",
       "    <tr>\n",
       "      <th>2</th>\n",
       "      <td>WorldNews</td>\n",
       "      <td>2015-01-08</td>\n",
       "      <td>bob</td>\n",
       "      <td>479</td>\n",
       "      <td>27</td>\n",
       "      <td>WorldWeather</td>\n",
       "      <td>emily</td>\n",
       "      <td>470</td>\n",
       "      <td>10</td>\n",
       "    </tr>\n",
       "  </tbody>\n",
       "</table>\n",
       "</div>"
      ],
      "text/plain": [
       "   Channel_x        Date Anchor_x  Views_x  Comments_x     Channel_y Anchor_y  \\\n",
       "0  WorldNews  2015-01-06     jenn      399          17  WorldWeather    harry   \n",
       "1  WorldNews  2015-01-07     jenn      463          26  WorldWeather    emily   \n",
       "2  WorldNews  2015-01-08      bob      479          27  WorldWeather    emily   \n",
       "\n",
       "   Views_y  Comments_y  \n",
       "0      293           9  \n",
       "1      304           6  \n",
       "2      470          10  "
      ]
     },
     "execution_count": 38,
     "metadata": {},
     "output_type": "execute_result"
    }
   ],
   "source": [
    "pd.merge(Adf, Bdf, on='Date')"
   ]
  },
  {
   "cell_type": "markdown",
   "metadata": {},
   "source": [
    "**Left Outer Join**\n",
    "\n",
    "Uses the keys from left DataFrame only.\n",
    "\n",
    "```python\n",
    "how='left'\n",
    "```"
   ]
  },
  {
   "cell_type": "markdown",
   "metadata": {},
   "source": [
    "We can see that for the 'Date' values '2015-01-04' and '2015-01-05', there is not any corresponding matches **(NaN)** in the right DataFrame.\n",
    "\n",
    "Because these rows are not present in the right DataFrame, **Bdf**."
   ]
  },
  {
   "cell_type": "code",
   "execution_count": 39,
   "metadata": {
    "collapsed": false
   },
   "outputs": [
    {
     "data": {
      "text/html": [
       "<div>\n",
       "<table border=\"1\" class=\"dataframe\">\n",
       "  <thead>\n",
       "    <tr style=\"text-align: right;\">\n",
       "      <th></th>\n",
       "      <th>Channel_x</th>\n",
       "      <th>Date</th>\n",
       "      <th>Anchor_x</th>\n",
       "      <th>Views_x</th>\n",
       "      <th>Comments_x</th>\n",
       "      <th>Channel_y</th>\n",
       "      <th>Anchor_y</th>\n",
       "      <th>Views_y</th>\n",
       "      <th>Comments_y</th>\n",
       "    </tr>\n",
       "  </thead>\n",
       "  <tbody>\n",
       "    <tr>\n",
       "      <th>0</th>\n",
       "      <td>WorldNews</td>\n",
       "      <td>2015-01-04</td>\n",
       "      <td>alice</td>\n",
       "      <td>490</td>\n",
       "      <td>54</td>\n",
       "      <td>NaN</td>\n",
       "      <td>NaN</td>\n",
       "      <td>NaN</td>\n",
       "      <td>NaN</td>\n",
       "    </tr>\n",
       "    <tr>\n",
       "      <th>1</th>\n",
       "      <td>WorldNews</td>\n",
       "      <td>2015-01-05</td>\n",
       "      <td>bob</td>\n",
       "      <td>231</td>\n",
       "      <td>13</td>\n",
       "      <td>NaN</td>\n",
       "      <td>NaN</td>\n",
       "      <td>NaN</td>\n",
       "      <td>NaN</td>\n",
       "    </tr>\n",
       "    <tr>\n",
       "      <th>2</th>\n",
       "      <td>WorldNews</td>\n",
       "      <td>2015-01-06</td>\n",
       "      <td>jenn</td>\n",
       "      <td>399</td>\n",
       "      <td>17</td>\n",
       "      <td>WorldWeather</td>\n",
       "      <td>harry</td>\n",
       "      <td>293</td>\n",
       "      <td>9</td>\n",
       "    </tr>\n",
       "    <tr>\n",
       "      <th>3</th>\n",
       "      <td>WorldNews</td>\n",
       "      <td>2015-01-07</td>\n",
       "      <td>jenn</td>\n",
       "      <td>463</td>\n",
       "      <td>26</td>\n",
       "      <td>WorldWeather</td>\n",
       "      <td>emily</td>\n",
       "      <td>304</td>\n",
       "      <td>6</td>\n",
       "    </tr>\n",
       "    <tr>\n",
       "      <th>4</th>\n",
       "      <td>WorldNews</td>\n",
       "      <td>2015-01-08</td>\n",
       "      <td>bob</td>\n",
       "      <td>479</td>\n",
       "      <td>27</td>\n",
       "      <td>WorldWeather</td>\n",
       "      <td>emily</td>\n",
       "      <td>470</td>\n",
       "      <td>10</td>\n",
       "    </tr>\n",
       "  </tbody>\n",
       "</table>\n",
       "</div>"
      ],
      "text/plain": [
       "   Channel_x        Date Anchor_x  Views_x  Comments_x     Channel_y Anchor_y  \\\n",
       "0  WorldNews  2015-01-04    alice      490          54           NaN      NaN   \n",
       "1  WorldNews  2015-01-05      bob      231          13           NaN      NaN   \n",
       "2  WorldNews  2015-01-06     jenn      399          17  WorldWeather    harry   \n",
       "3  WorldNews  2015-01-07     jenn      463          26  WorldWeather    emily   \n",
       "4  WorldNews  2015-01-08      bob      479          27  WorldWeather    emily   \n",
       "\n",
       "   Views_y  Comments_y  \n",
       "0      NaN         NaN  \n",
       "1      NaN         NaN  \n",
       "2      293           9  \n",
       "3      304           6  \n",
       "4      470          10  "
      ]
     },
     "execution_count": 39,
     "metadata": {},
     "output_type": "execute_result"
    }
   ],
   "source": [
    "pd.merge(Adf, Bdf, how='left', on='Date')"
   ]
  },
  {
   "cell_type": "markdown",
   "metadata": {},
   "source": [
    "**Right Outer Join**\n",
    "\n",
    "Uses the keys from right DataFrame only.\n",
    "\n",
    "```python\n",
    "how='right'\n",
    "```"
   ]
  },
  {
   "cell_type": "code",
   "execution_count": 40,
   "metadata": {
    "collapsed": false,
    "scrolled": true
   },
   "outputs": [
    {
     "data": {
      "text/html": [
       "<div>\n",
       "<table border=\"1\" class=\"dataframe\">\n",
       "  <thead>\n",
       "    <tr style=\"text-align: right;\">\n",
       "      <th></th>\n",
       "      <th>Channel_x</th>\n",
       "      <th>Date</th>\n",
       "      <th>Anchor_x</th>\n",
       "      <th>Views_x</th>\n",
       "      <th>Comments_x</th>\n",
       "      <th>Channel_y</th>\n",
       "      <th>Anchor_y</th>\n",
       "      <th>Views_y</th>\n",
       "      <th>Comments_y</th>\n",
       "    </tr>\n",
       "  </thead>\n",
       "  <tbody>\n",
       "    <tr>\n",
       "      <th>0</th>\n",
       "      <td>WorldNews</td>\n",
       "      <td>2015-01-06</td>\n",
       "      <td>jenn</td>\n",
       "      <td>399</td>\n",
       "      <td>17</td>\n",
       "      <td>WorldWeather</td>\n",
       "      <td>harry</td>\n",
       "      <td>293</td>\n",
       "      <td>9</td>\n",
       "    </tr>\n",
       "    <tr>\n",
       "      <th>1</th>\n",
       "      <td>WorldNews</td>\n",
       "      <td>2015-01-07</td>\n",
       "      <td>jenn</td>\n",
       "      <td>463</td>\n",
       "      <td>26</td>\n",
       "      <td>WorldWeather</td>\n",
       "      <td>emily</td>\n",
       "      <td>304</td>\n",
       "      <td>6</td>\n",
       "    </tr>\n",
       "    <tr>\n",
       "      <th>2</th>\n",
       "      <td>WorldNews</td>\n",
       "      <td>2015-01-08</td>\n",
       "      <td>bob</td>\n",
       "      <td>479</td>\n",
       "      <td>27</td>\n",
       "      <td>WorldWeather</td>\n",
       "      <td>emily</td>\n",
       "      <td>470</td>\n",
       "      <td>10</td>\n",
       "    </tr>\n",
       "    <tr>\n",
       "      <th>3</th>\n",
       "      <td>NaN</td>\n",
       "      <td>2015-01-09</td>\n",
       "      <td>NaN</td>\n",
       "      <td>NaN</td>\n",
       "      <td>NaN</td>\n",
       "      <td>WorldWeather</td>\n",
       "      <td>tom</td>\n",
       "      <td>NaN</td>\n",
       "      <td>15</td>\n",
       "    </tr>\n",
       "    <tr>\n",
       "      <th>4</th>\n",
       "      <td>NaN</td>\n",
       "      <td>2015-01-10</td>\n",
       "      <td>NaN</td>\n",
       "      <td>NaN</td>\n",
       "      <td>NaN</td>\n",
       "      <td>WorldWeather</td>\n",
       "      <td>harry</td>\n",
       "      <td>337</td>\n",
       "      <td>4</td>\n",
       "    </tr>\n",
       "  </tbody>\n",
       "</table>\n",
       "</div>"
      ],
      "text/plain": [
       "   Channel_x        Date Anchor_x  Views_x  Comments_x     Channel_y Anchor_y  \\\n",
       "0  WorldNews  2015-01-06     jenn      399          17  WorldWeather    harry   \n",
       "1  WorldNews  2015-01-07     jenn      463          26  WorldWeather    emily   \n",
       "2  WorldNews  2015-01-08      bob      479          27  WorldWeather    emily   \n",
       "3        NaN  2015-01-09      NaN      NaN         NaN  WorldWeather      tom   \n",
       "4        NaN  2015-01-10      NaN      NaN         NaN  WorldWeather    harry   \n",
       "\n",
       "   Views_y  Comments_y  \n",
       "0      293           9  \n",
       "1      304           6  \n",
       "2      470          10  \n",
       "3      NaN          15  \n",
       "4      337           4  "
      ]
     },
     "execution_count": 40,
     "metadata": {},
     "output_type": "execute_result"
    }
   ],
   "source": [
    "pd.merge(Adf, Bdf, how='right', on='Date')"
   ]
  },
  {
   "cell_type": "markdown",
   "metadata": {},
   "source": [
    "** Full Outer Join**\n",
    "\n",
    "Uses the intersection of keys from both DataFrames.\n",
    "\n",
    "```python\n",
    "how='outer'\n",
    "```"
   ]
  },
  {
   "cell_type": "code",
   "execution_count": 41,
   "metadata": {
    "collapsed": false
   },
   "outputs": [
    {
     "data": {
      "text/html": [
       "<div>\n",
       "<table border=\"1\" class=\"dataframe\">\n",
       "  <thead>\n",
       "    <tr style=\"text-align: right;\">\n",
       "      <th></th>\n",
       "      <th>Channel_x</th>\n",
       "      <th>Date</th>\n",
       "      <th>Anchor_x</th>\n",
       "      <th>Views_x</th>\n",
       "      <th>Comments_x</th>\n",
       "      <th>Channel_y</th>\n",
       "      <th>Anchor_y</th>\n",
       "      <th>Views_y</th>\n",
       "      <th>Comments_y</th>\n",
       "    </tr>\n",
       "  </thead>\n",
       "  <tbody>\n",
       "    <tr>\n",
       "      <th>0</th>\n",
       "      <td>WorldNews</td>\n",
       "      <td>2015-01-04</td>\n",
       "      <td>alice</td>\n",
       "      <td>490</td>\n",
       "      <td>54</td>\n",
       "      <td>NaN</td>\n",
       "      <td>NaN</td>\n",
       "      <td>NaN</td>\n",
       "      <td>NaN</td>\n",
       "    </tr>\n",
       "    <tr>\n",
       "      <th>1</th>\n",
       "      <td>WorldNews</td>\n",
       "      <td>2015-01-05</td>\n",
       "      <td>bob</td>\n",
       "      <td>231</td>\n",
       "      <td>13</td>\n",
       "      <td>NaN</td>\n",
       "      <td>NaN</td>\n",
       "      <td>NaN</td>\n",
       "      <td>NaN</td>\n",
       "    </tr>\n",
       "    <tr>\n",
       "      <th>2</th>\n",
       "      <td>WorldNews</td>\n",
       "      <td>2015-01-06</td>\n",
       "      <td>jenn</td>\n",
       "      <td>399</td>\n",
       "      <td>17</td>\n",
       "      <td>WorldWeather</td>\n",
       "      <td>harry</td>\n",
       "      <td>293</td>\n",
       "      <td>9</td>\n",
       "    </tr>\n",
       "    <tr>\n",
       "      <th>3</th>\n",
       "      <td>WorldNews</td>\n",
       "      <td>2015-01-07</td>\n",
       "      <td>jenn</td>\n",
       "      <td>463</td>\n",
       "      <td>26</td>\n",
       "      <td>WorldWeather</td>\n",
       "      <td>emily</td>\n",
       "      <td>304</td>\n",
       "      <td>6</td>\n",
       "    </tr>\n",
       "    <tr>\n",
       "      <th>4</th>\n",
       "      <td>WorldNews</td>\n",
       "      <td>2015-01-08</td>\n",
       "      <td>bob</td>\n",
       "      <td>479</td>\n",
       "      <td>27</td>\n",
       "      <td>WorldWeather</td>\n",
       "      <td>emily</td>\n",
       "      <td>470</td>\n",
       "      <td>10</td>\n",
       "    </tr>\n",
       "    <tr>\n",
       "      <th>5</th>\n",
       "      <td>NaN</td>\n",
       "      <td>2015-01-09</td>\n",
       "      <td>NaN</td>\n",
       "      <td>NaN</td>\n",
       "      <td>NaN</td>\n",
       "      <td>WorldWeather</td>\n",
       "      <td>tom</td>\n",
       "      <td>NaN</td>\n",
       "      <td>15</td>\n",
       "    </tr>\n",
       "    <tr>\n",
       "      <th>6</th>\n",
       "      <td>NaN</td>\n",
       "      <td>2015-01-10</td>\n",
       "      <td>NaN</td>\n",
       "      <td>NaN</td>\n",
       "      <td>NaN</td>\n",
       "      <td>WorldWeather</td>\n",
       "      <td>harry</td>\n",
       "      <td>337</td>\n",
       "      <td>4</td>\n",
       "    </tr>\n",
       "  </tbody>\n",
       "</table>\n",
       "</div>"
      ],
      "text/plain": [
       "   Channel_x        Date Anchor_x  Views_x  Comments_x     Channel_y Anchor_y  \\\n",
       "0  WorldNews  2015-01-04    alice      490          54           NaN      NaN   \n",
       "1  WorldNews  2015-01-05      bob      231          13           NaN      NaN   \n",
       "2  WorldNews  2015-01-06     jenn      399          17  WorldWeather    harry   \n",
       "3  WorldNews  2015-01-07     jenn      463          26  WorldWeather    emily   \n",
       "4  WorldNews  2015-01-08      bob      479          27  WorldWeather    emily   \n",
       "5        NaN  2015-01-09      NaN      NaN         NaN  WorldWeather      tom   \n",
       "6        NaN  2015-01-10      NaN      NaN         NaN  WorldWeather    harry   \n",
       "\n",
       "   Views_y  Comments_y  \n",
       "0      NaN         NaN  \n",
       "1      NaN         NaN  \n",
       "2      293           9  \n",
       "3      304           6  \n",
       "4      470          10  \n",
       "5      NaN          15  \n",
       "6      337           4  "
      ]
     },
     "execution_count": 41,
     "metadata": {},
     "output_type": "execute_result"
    }
   ],
   "source": [
    "pd.merge(Adf, Bdf, how='outer', on='Date')"
   ]
  },
  {
   "cell_type": "markdown",
   "metadata": {},
   "source": [
    "### Cleaning Data: Dates, Strings, and Formatting"
   ]
  },
  {
   "cell_type": "markdown",
   "metadata": {},
   "source": [
    "We want our data to be in the cleanest form, so that we can use it further. For this, we need to get it in the desired structure, that's called cleaning the data."
   ]
  },
  {
   "cell_type": "markdown",
   "metadata": {},
   "source": [
    "** Numerical Formatting**"
   ]
  },
  {
   "cell_type": "markdown",
   "metadata": {},
   "source": [
    "Remember the interpolated DataFrame result? You can notice that the resultant values are **Float64** type.\n",
    "\n",
    "Some of the values are like 11.5, 7.5 etc."
   ]
  },
  {
   "cell_type": "code",
   "execution_count": 42,
   "metadata": {
    "collapsed": false
   },
   "outputs": [
    {
     "data": {
      "text/plain": [
       "numpy.float64"
      ]
     },
     "execution_count": 42,
     "metadata": {},
     "output_type": "execute_result"
    }
   ],
   "source": [
    "type(worldnews_interpolated_df['Comments'][0])"
   ]
  },
  {
   "cell_type": "markdown",
   "metadata": {},
   "source": [
    "As we know that 'Views' or 'Comments' should be a perfect number by definition. We can format them by applying the ceil function on the 'Comments' column."
   ]
  },
  {
   "cell_type": "code",
   "execution_count": 43,
   "metadata": {
    "collapsed": true
   },
   "outputs": [],
   "source": [
    "worldnews_interpolated_df['Comments'] = worldnews_interpolated_df['Comments'].apply(np.ceil)"
   ]
  },
  {
   "cell_type": "markdown",
   "metadata": {},
   "source": [
    "That will map a number to the smallest integer greater than or equal to it."
   ]
  },
  {
   "cell_type": "markdown",
   "metadata": {},
   "source": [
    "**Dates Formatting**"
   ]
  },
  {
   "cell_type": "markdown",
   "metadata": {},
   "source": [
    "We can see that the Series objects in the column 'Date' are 'str' types."
   ]
  },
  {
   "cell_type": "code",
   "execution_count": 44,
   "metadata": {
    "collapsed": false
   },
   "outputs": [
    {
     "data": {
      "text/plain": [
       "str"
      ]
     },
     "execution_count": 44,
     "metadata": {},
     "output_type": "execute_result"
    }
   ],
   "source": [
    "type(worldnews_df['Date'][0])"
   ]
  },
  {
   "cell_type": "markdown",
   "metadata": {},
   "source": [
    "We can use the **to_datetime** function to convert them into 'Timestamp' type. The 'format' argument can be used to define the format of date in the 'Series', '2015-01-01' matches with '%Y-%m-%d'.\n",
    "\n",
    "This can be used to timestamp related calculations."
   ]
  },
  {
   "cell_type": "code",
   "execution_count": 46,
   "metadata": {
    "collapsed": false,
    "scrolled": true
   },
   "outputs": [],
   "source": [
    "worldnews_df.loc[:, 'Date'] = pd.to_datetime(worldnews_df['Date'], format=\"%Y-%m-%d\")"
   ]
  },
  {
   "cell_type": "code",
   "execution_count": 47,
   "metadata": {
    "collapsed": false,
    "scrolled": true
   },
   "outputs": [
    {
     "data": {
      "text/plain": [
       "pandas.tslib.Timestamp"
      ]
     },
     "execution_count": 47,
     "metadata": {},
     "output_type": "execute_result"
    }
   ],
   "source": [
    "type(worldnews_df['Date'][0])"
   ]
  },
  {
   "cell_type": "markdown",
   "metadata": {},
   "source": [
    "Pandas also provides functinoality equivalent to \"datetime.timedelta\", which is called \"Timedelta\"."
   ]
  },
  {
   "cell_type": "code",
   "execution_count": 48,
   "metadata": {
    "collapsed": false
   },
   "outputs": [
    {
     "data": {
      "text/plain": [
       "pandas.tslib.Timedelta"
      ]
     },
     "execution_count": 48,
     "metadata": {},
     "output_type": "execute_result"
    }
   ],
   "source": [
    "time_a = worldnews_df['Date'][0]\n",
    "time_b = worldnews_df['Date'][2]\n",
    "\n",
    "time_diff = time_b - time_a\n",
    "type(time_diff)"
   ]
  },
  {
   "cell_type": "markdown",
   "metadata": {},
   "source": [
    "We can collect different components of \"Timedelta\" object like \"days\", \"hours\", \"minutes\" etc."
   ]
  },
  {
   "cell_type": "code",
   "execution_count": 49,
   "metadata": {
    "collapsed": false
   },
   "outputs": [
    {
     "data": {
      "text/plain": [
       "Components(days=1, hours=0, minutes=0, seconds=0, milliseconds=0, microseconds=0, nanoseconds=0)"
      ]
     },
     "execution_count": 49,
     "metadata": {},
     "output_type": "execute_result"
    }
   ],
   "source": [
    "time_diff.components"
   ]
  },
  {
   "cell_type": "markdown",
   "metadata": {
    "collapsed": true
   },
   "source": [
    "** String Formatting**"
   ]
  },
  {
   "cell_type": "markdown",
   "metadata": {},
   "source": [
    "Pandas provide you a lot of [string formatting](http://pandas.pydata.org/pandas-docs/stable/api.html#string-handling) methods. You can count the occurence of a particular pattern in a column."
   ]
  },
  {
   "cell_type": "code",
   "execution_count": 50,
   "metadata": {
    "collapsed": false
   },
   "outputs": [
    {
     "data": {
      "text/plain": [
       "57"
      ]
     },
     "execution_count": 50,
     "metadata": {},
     "output_type": "execute_result"
    }
   ],
   "source": [
    "worldnews_df['Anchor'].str.count('jenn').sum()"
   ]
  },
  {
   "cell_type": "markdown",
   "metadata": {},
   "source": [
    "Using the **unique** method you can check that different values in a column."
   ]
  },
  {
   "cell_type": "markdown",
   "metadata": {},
   "source": [
    "You can observe that the name of 'Anchor' is in smallcase."
   ]
  },
  {
   "cell_type": "code",
   "execution_count": 51,
   "metadata": {
    "collapsed": false
   },
   "outputs": [
    {
     "data": {
      "text/plain": [
       "array(['bob', 'alice', 'jenn'], dtype=object)"
      ]
     },
     "execution_count": 51,
     "metadata": {},
     "output_type": "execute_result"
    }
   ],
   "source": [
    "worldnews_df['Anchor'].unique()"
   ]
  },
  {
   "cell_type": "markdown",
   "metadata": {},
   "source": [
    "Using the **capitalize** method, we can format the string values. There are other methods such as **upper**, **lower** etc."
   ]
  },
  {
   "cell_type": "code",
   "execution_count": 52,
   "metadata": {
    "collapsed": false
   },
   "outputs": [
    {
     "data": {
      "text/plain": [
       "array(['Bob', 'Alice', 'Jenn'], dtype=object)"
      ]
     },
     "execution_count": 52,
     "metadata": {},
     "output_type": "execute_result"
    }
   ],
   "source": [
    "worldnews_df['Anchor'].str.capitalize().unique()"
   ]
  },
  {
   "cell_type": "markdown",
   "metadata": {},
   "source": [
    "Now suppose that there was a problem in data collection, the name of an anchor was \"Matt\" instead of \"Bob\"."
   ]
  },
  {
   "cell_type": "markdown",
   "metadata": {},
   "source": [
    "We do have a method for this situation too, **replace**. Taking arguments as the \"pattern\" and \"expected replacing string\"."
   ]
  },
  {
   "cell_type": "code",
   "execution_count": 53,
   "metadata": {
    "collapsed": false
   },
   "outputs": [
    {
     "data": {
      "text/plain": [
       "array(['matt', 'alice', 'jenn'], dtype=object)"
      ]
     },
     "execution_count": 53,
     "metadata": {},
     "output_type": "execute_result"
    }
   ],
   "source": [
    "worldnews_df['Anchor'].apply(lambda s: s.replace('bob', 'matt')).unique()"
   ]
  },
  {
   "cell_type": "code",
   "execution_count": 1,
   "metadata": {
    "collapsed": false,
    "scrolled": true
   },
   "outputs": [
    {
     "data": {
      "text/html": [
       "<link href=\"//fonts.googleapis.com/css?family=Open+Sans:600,400,300,200|Inconsolata|Ubuntu+Mono:400,700rel=\"stylesheet\" type=\"text/css\" />"
      ],
      "text/plain": [
       "<IPython.core.display.HTML object>"
      ]
     },
     "metadata": {},
     "output_type": "display_data"
    },
    {
     "data": {
      "text/html": [
       "<link rel=\"stylesheet\" type=\"text/csshref=\"http://help.plot.ly/documentation/all_static/css/ipython-notebook-custom.css\">"
      ],
      "text/plain": [
       "<IPython.core.display.HTML object>"
      ]
     },
     "metadata": {},
     "output_type": "display_data"
    },
    {
     "name": "stdout",
     "output_type": "stream",
     "text": [
      "Collecting git+https://github.com/plotly/publisher.git\n",
      "  Cloning https://github.com/plotly/publisher.git to /var/folders/72/g6h98xwx0h1gp4kc8rzhsdh80000gn/T/pip-IA7BPi-build\n",
      "Installing collected packages: publisher\n",
      "  Found existing installation: publisher 0.10\n",
      "    Uninstalling publisher-0.10:\n",
      "      Successfully uninstalled publisher-0.10\n",
      "  Running setup.py install for publisher ... \u001b[?25l-\b \bdone\n",
      "\u001b[?25hSuccessfully installed publisher-0.10\n"
     ]
    },
    {
     "name": "stderr",
     "output_type": "stream",
     "text": [
      "/Library/Frameworks/Python.framework/Versions/2.7/lib/python2.7/site-packages/IPython/nbconvert.py:13: ShimWarning: The `IPython.nbconvert` package has been deprecated. You should import from nbconvert instead.\n",
      "  \"You should import from nbconvert instead.\", ShimWarning)\n",
      "/Library/Frameworks/Python.framework/Versions/2.7/lib/python2.7/site-packages/publisher/publisher.py:53: UserWarning: Did you \"Save\" this notebook before running this command? Remember to save, always save.\n",
      "  warnings.warn('Did you \"Save\" this notebook before running this command? '\n",
      "/Library/Frameworks/Python.framework/Versions/2.7/lib/python2.7/site-packages/publisher/publisher.py:58: UserWarning: Your URL has more than 2 parts... are you sure?\n",
      "  warnings.warn('Your URL has more than 2 parts... are you sure?')\n"
     ]
    }
   ],
   "source": [
    "from IPython.display import display, HTML\n",
    "\n",
    "display(HTML('<link href=\"//fonts.googleapis.com/css?family=Open+Sans:600,400,300,200|Inconsolata|Ubuntu+Mono:400,700rel=\"stylesheet\" type=\"text/css\" />'))\n",
    "display(HTML('<link rel=\"stylesheet\" type=\"text/csshref=\"http://help.plot.ly/documentation/all_static/css/ipython-notebook-custom.css\">'))\n",
    "\n",
    "! pip install git+https://github.com/plotly/publisher.git --upgrade\n",
    "\n",
    "import publisher\n",
    "publisher.publish(\n",
    "    'Pandas-101.ipynb', '/pandas/intro-to-pandas-tutorial/', 'Pandas 101 | plotly',\n",
    "    'How to use Pandas, the Python data analysis tools, to manipulate and analyse data in plotly.',\n",
    "    title = 'Pandas 101 | plotly',\n",
    "    name = 'Pandas 101',\n",
    "    has_thumbnail='false',\n",
    "    language='pandas')"
   ]
  },
  {
   "cell_type": "code",
   "execution_count": null,
   "metadata": {
    "collapsed": true
   },
   "outputs": [],
   "source": []
  }
 ],
 "metadata": {
  "kernelspec": {
   "display_name": "Python 2",
   "language": "python",
   "name": "python2"
  },
  "language_info": {
   "codemirror_mode": {
    "name": "ipython",
    "version": 2
   },
   "file_extension": ".py",
   "mimetype": "text/x-python",
   "name": "python",
   "nbconvert_exporter": "python",
   "pygments_lexer": "ipython2",
   "version": "2.7.11"
  }
 },
 "nbformat": 4,
 "nbformat_minor": 0
}
