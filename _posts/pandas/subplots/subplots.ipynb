{
 "cells": [
  {
   "cell_type": "markdown",
   "metadata": {},
   "source": [
    "### Pandas Subplots"
   ]
  },
  {
   "cell_type": "code",
   "execution_count": 1,
   "metadata": {
    "collapsed": false
   },
   "outputs": [
    {
     "name": "stdout",
     "output_type": "stream",
     "text": [
      "0.6.7\n"
     ]
    }
   ],
   "source": [
    "import cufflinks as cf\n",
    "print cf.__version__"
   ]
  },
  {
   "cell_type": "code",
   "execution_count": 2,
   "metadata": {
    "collapsed": false
   },
   "outputs": [
    {
     "data": {
      "text/html": [
       "<div>\n",
       "<table border=\"1\" class=\"dataframe\">\n",
       "  <thead>\n",
       "    <tr style=\"text-align: right;\">\n",
       "      <th></th>\n",
       "      <th>a</th>\n",
       "      <th>b</th>\n",
       "      <th>c</th>\n",
       "      <th>d</th>\n",
       "    </tr>\n",
       "  </thead>\n",
       "  <tbody>\n",
       "    <tr>\n",
       "      <th>2015-01-01</th>\n",
       "      <td>1.816759</td>\n",
       "      <td>-0.908495</td>\n",
       "      <td>82.280981</td>\n",
       "      <td>168.909237</td>\n",
       "    </tr>\n",
       "    <tr>\n",
       "      <th>2015-01-02</th>\n",
       "      <td>0.659670</td>\n",
       "      <td>-1.797243</td>\n",
       "      <td>206.460737</td>\n",
       "      <td>218.634017</td>\n",
       "    </tr>\n",
       "    <tr>\n",
       "      <th>2015-01-03</th>\n",
       "      <td>-0.255927</td>\n",
       "      <td>-1.576062</td>\n",
       "      <td>167.976038</td>\n",
       "      <td>248.750688</td>\n",
       "    </tr>\n",
       "    <tr>\n",
       "      <th>2015-01-04</th>\n",
       "      <td>0.901447</td>\n",
       "      <td>-2.015771</td>\n",
       "      <td>200.604287</td>\n",
       "      <td>161.162454</td>\n",
       "    </tr>\n",
       "    <tr>\n",
       "      <th>2015-01-05</th>\n",
       "      <td>0.288140</td>\n",
       "      <td>-2.313237</td>\n",
       "      <td>172.220170</td>\n",
       "      <td>311.740292</td>\n",
       "    </tr>\n",
       "  </tbody>\n",
       "</table>\n",
       "</div>"
      ],
      "text/plain": [
       "                   a         b           c           d\n",
       "2015-01-01  1.816759 -0.908495   82.280981  168.909237\n",
       "2015-01-02  0.659670 -1.797243  206.460737  218.634017\n",
       "2015-01-03 -0.255927 -1.576062  167.976038  248.750688\n",
       "2015-01-04  0.901447 -2.015771  200.604287  161.162454\n",
       "2015-01-05  0.288140 -2.313237  172.220170  311.740292"
      ]
     },
     "execution_count": 2,
     "metadata": {},
     "output_type": "execute_result"
    }
   ],
   "source": [
    "df=cf.datagen.lines(4,mode='abc')\n",
    "df[['c','d']]=df[['c','d']]*100\n",
    "df.head()"
   ]
  },
  {
   "cell_type": "code",
   "execution_count": 3,
   "metadata": {
    "collapsed": false
   },
   "outputs": [
    {
     "data": {
      "text/html": [
       "<iframe id=\"igraph\" scrolling=\"no\" style=\"border:none;\"seamless=\"seamless\" src=\"https://plot.ly/~PlotBot/737.embed\" height=\"525px\" width=\"100%\"></iframe>"
      ],
      "text/plain": [
       "<plotly.tools.PlotlyDisplay object>"
      ]
     },
     "execution_count": 3,
     "metadata": {},
     "output_type": "execute_result"
    }
   ],
   "source": [
    "df.iplot(subplots=True, filename='pandas/cufflinks-subplots')"
   ]
  },
  {
   "cell_type": "code",
   "execution_count": 4,
   "metadata": {
    "collapsed": false
   },
   "outputs": [
    {
     "data": {
      "text/html": [
       "<iframe id=\"igraph\" scrolling=\"no\" style=\"border:none;\"seamless=\"seamless\" src=\"https://plot.ly/~PlotBot/739.embed\" height=\"525px\" width=\"100%\"></iframe>"
      ],
      "text/plain": [
       "<plotly.tools.PlotlyDisplay object>"
      ]
     },
     "execution_count": 4,
     "metadata": {},
     "output_type": "execute_result"
    }
   ],
   "source": [
    "df.iplot(subplots=True, shape=(4, 1), filename='pandas/cufflinks-subplot rows')"
   ]
  },
  {
   "cell_type": "markdown",
   "metadata": {},
   "source": [
    "Combining multiple traces into a single subplot, or mixing and matching chart types, isn't as easy with cufflinks. Subplots are entirely customizable with Plotly's native Python syntax:"
   ]
  },
  {
   "cell_type": "code",
   "execution_count": 5,
   "metadata": {
    "collapsed": true
   },
   "outputs": [],
   "source": [
    "import plotly.tools as tls"
   ]
  },
  {
   "cell_type": "code",
   "execution_count": 6,
   "metadata": {
    "collapsed": false
   },
   "outputs": [
    {
     "name": "stdout",
     "output_type": "stream",
     "text": [
      "This is the format of your plot grid:\n",
      "[ (1,1) x1,y1 ]\n",
      "[ (2,1) x1,y2 ]\n",
      "\n"
     ]
    }
   ],
   "source": [
    "fig = tls.make_subplots(rows=2, cols=1, shared_xaxes=True)\n",
    "\n",
    "for col in ['a', 'b']:\n",
    "    fig.append_trace({'x': df.index, 'y': df[col], 'type': 'scatter', 'name': col}, 1, 1)\n",
    "\n",
    "for col in ['c', 'd']:\n",
    "    fig.append_trace({'x': df.index, 'y': df[col], 'type': 'bar', 'name': col}, 2, 1)"
   ]
  },
  {
   "cell_type": "code",
   "execution_count": 7,
   "metadata": {
    "collapsed": false
   },
   "outputs": [
    {
     "data": {
      "text/html": [
       "<iframe id=\"igraph\" scrolling=\"no\" style=\"border:none;\"seamless=\"seamless\" src=\"https://plot.ly/~PlotBot/741.embed\" height=\"525px\" width=\"100%\"></iframe>"
      ],
      "text/plain": [
       "<plotly.tools.PlotlyDisplay object>"
      ]
     },
     "execution_count": 7,
     "metadata": {},
     "output_type": "execute_result"
    }
   ],
   "source": [
    "import plotly.plotly as py\n",
    "py.iplot(fig, filename='pandas/mixed-type subplots')"
   ]
  },
  {
   "cell_type": "markdown",
   "metadata": {},
   "source": [
    "This secondary subplot decouples the hover text from the charts in the top pane and the charts in the bottom pane. You can always customize your hover text, so that all four values are always present:"
   ]
  },
  {
   "cell_type": "code",
   "execution_count": 8,
   "metadata": {
    "collapsed": false
   },
   "outputs": [
    {
     "name": "stdout",
     "output_type": "stream",
     "text": [
      "This is the format of your plot grid:\n",
      "[ (1,1) x1,y1 ]\n",
      "[ (2,1) x1,y2 ]\n",
      "\n"
     ]
    }
   ],
   "source": [
    "hover_text = df.apply(lambda r: '<br>'.join(['{}: {}'.format(c, r[c]) \n",
    "                                            for c in df.columns]), axis=1)\n",
    "\n",
    "fig = tls.make_subplots(rows=2, cols=1, shared_xaxes=True)\n",
    "\n",
    "for col in ['a', 'b']:\n",
    "    fig.append_trace({'x': df.index, 'y': df[col], 'type': 'scatter', \n",
    "                      'name': col, 'text': hover_text}, 1, 1)\n",
    "\n",
    "for col in ['c', 'd']:\n",
    "    fig.append_trace({'x': df.index, 'y': df[col], 'type': 'bar', \n",
    "                      'name': col, 'text': hover_text}, 2, 1)"
   ]
  },
  {
   "cell_type": "code",
   "execution_count": 9,
   "metadata": {
    "collapsed": false
   },
   "outputs": [
    {
     "data": {
      "text/html": [
       "<iframe id=\"igraph\" scrolling=\"no\" style=\"border:none;\"seamless=\"seamless\" src=\"https://plot.ly/~PlotBot/743.embed\" height=\"525px\" width=\"100%\"></iframe>"
      ],
      "text/plain": [
       "<plotly.tools.PlotlyDisplay object>"
      ]
     },
     "execution_count": 9,
     "metadata": {},
     "output_type": "execute_result"
    }
   ],
   "source": [
    "import plotly.plotly as py\n",
    "py.iplot(fig, filename='pandas/mixed-type subplots with custom hover text')"
   ]
  },
  {
   "cell_type": "markdown",
   "metadata": {},
   "source": [
    "View more [examples of subplots with Plotly's python syntax](https://plot.ly/python/subplots)."
   ]
  },
  {
   "cell_type": "code",
   "execution_count": 10,
   "metadata": {
    "collapsed": false
   },
   "outputs": [
    {
     "data": {
      "text/html": [
       "<link href=\"//fonts.googleapis.com/css?family=Open+Sans:600,400,300,200|Inconsolata|Ubuntu+Mono:400,700\" rel=\"stylesheet\" type=\"text/css\" />"
      ],
      "text/plain": [
       "<IPython.core.display.HTML object>"
      ]
     },
     "metadata": {},
     "output_type": "display_data"
    },
    {
     "data": {
      "text/html": [
       "<link rel=\"stylesheet\" type=\"text/css\" href=\"http://help.plot.ly/documentation/all_static/css/ipython-notebook-custom.css\">"
      ],
      "text/plain": [
       "<IPython.core.display.HTML object>"
      ]
     },
     "metadata": {},
     "output_type": "display_data"
    },
    {
     "name": "stdout",
     "output_type": "stream",
     "text": [
      "\u001b[33mYou are using pip version 7.1.0, however version 7.1.2 is available.\n",
      "You should consider upgrading via the 'pip install --upgrade pip' command.\u001b[0m\n",
      "Requirement already up-to-date: publisher in /Users/chriddyp/Repos/dashboardsly/vv/lib/python2.7/site-packages\n"
     ]
    },
    {
     "name": "stderr",
     "output_type": "stream",
     "text": [
      "/Users/chriddyp/Repos/dashboardsly/vv/lib/python2.7/site-packages/publisher/publisher.py:53: UserWarning:\n",
      "\n",
      "Did you \"Save\" this notebook before running this command? Remember to save, always save.\n",
      "\n"
     ]
    }
   ],
   "source": [
    "# this cell is ignored on output\n",
    "import plotly.plotly as py\n",
    "py.sign_in('PlotBot', 'da05144j7i')\n",
    "cf.set_config_file(offline=False, world_readable=True)\n",
    "\n",
    "from IPython.display import display, HTML\n",
    "\n",
    "display(HTML('<link href=\"//fonts.googleapis.com/css?family=Open+Sans:600,400,300,200|Inconsolata|Ubuntu+Mono:400,700\" rel=\"stylesheet\" type=\"text/css\" />'))\n",
    "display(HTML('<link rel=\"stylesheet\" type=\"text/css\" href=\"http://help.plot.ly/documentation/all_static/css/ipython-notebook-custom.css\">'))\n",
    "\n",
    "! pip install publisher --upgrade\n",
    "import publisher\n",
    "publisher.publish(\n",
    "    'subplots.ipynb', '/pandas/subplots', 'Subplots in Pandas | Examples | plotly',\n",
    "    'How to create a chart with subplots, or small multiples, with Pandas in Python.', \n",
    "    thumbnail='/images/subplots.png', page_type='example_index', has_thumbnail='true',\n",
    "    display_as='multiple_axes', language='pandas')"
   ]
  },
  {
   "cell_type": "code",
   "execution_count": null,
   "metadata": {
    "collapsed": true
   },
   "outputs": [],
   "source": []
  }
 ],
 "metadata": {
  "kernelspec": {
   "display_name": "Python 2",
   "language": "python",
   "name": "python2"
  },
  "language_info": {
   "codemirror_mode": {
    "name": "ipython",
    "version": 2
   },
   "file_extension": ".py",
   "mimetype": "text/x-python",
   "name": "python",
   "nbconvert_exporter": "python",
   "pygments_lexer": "ipython2",
   "version": "2.7.10"
  }
 },
 "nbformat": 4,
 "nbformat_minor": 0
}
