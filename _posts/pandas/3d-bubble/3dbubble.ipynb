{
 "cells": [
  {
   "cell_type": "markdown",
   "metadata": {},
   "source": [
    "# 3D Bubble Charts in Pandas"
   ]
  },
  {
   "cell_type": "markdown",
   "metadata": {},
   "source": [
    "##### Example with Sizing and Color by Variables from a dataset"
   ]
  },
  {
   "cell_type": "code",
   "execution_count": 1,
   "metadata": {
    "collapsed": false
   },
   "outputs": [
    {
     "data": {
      "text/html": [
       "<iframe id=\"igraph\" scrolling=\"no\" style=\"border:none;\"seamless=\"seamless\" src=\"https://plot.ly/~chelsea_lyn/8792.embed\" height=\"800px\" width=\"800px\"></iframe>"
      ],
      "text/plain": [
       "<plotly.tools.PlotlyDisplay object>"
      ]
     },
     "execution_count": 1,
     "metadata": {},
     "output_type": "execute_result"
    }
   ],
   "source": [
    "import plotly.plotly as py\n",
    "from plotly.graph_objs import *\n",
    "\n",
    "import pandas as pd\n",
    "\n",
    "# Get Data: this ex will only use part of it (i.e. rows 750-1500)\n",
    "df = pd.read_csv('https://raw.githubusercontent.com/plotly/datasets/master/gapminderDataFiveYear.csv')\n",
    "\n",
    "trace1 = Scatter3d(\n",
    "    x=df['year'][750:1500],\n",
    "    y=df['continent'][750:1500],\n",
    "    z=df['pop'][750:1500],\n",
    "    text=df['country'][750:1500],\n",
    "    mode='markers',\n",
    "    marker=dict(\n",
    "        sizemode='diameter',\n",
    "        sizeref=750,\n",
    "        size=df['gdpPercap'][750:1500],\n",
    "        color = df['lifeExp'][750:1500],\n",
    "        colorscale = 'Viridis',\n",
    "        colorbar = dict(title = 'Life<br>Expectancy'),\n",
    "        line=dict(color='rgb(140, 140, 170)')\n",
    "    )\n",
    ")\n",
    "\n",
    "data=[trace1]\n",
    "layout=dict(height=800, width=800, title='Examining Population and Life Expectancy Over Time')\n",
    "fig=dict(data=data, layout=layout)\n",
    "py.iplot(fig, filename='3DBubble')"
   ]
  },
  {
   "cell_type": "markdown",
   "metadata": {},
   "source": [
    "### Reference"
   ]
  },
  {
   "cell_type": "markdown",
   "metadata": {},
   "source": [
    "https://plot.ly/python/reference/#scatter3d"
   ]
  },
  {
   "cell_type": "code",
   "execution_count": 2,
   "metadata": {
    "collapsed": false
   },
   "outputs": [
    {
     "data": {
      "text/html": [
       "<link href=\"//fonts.googleapis.com/css?family=Open+Sans:600,400,300,200|Inconsolata|Ubuntu+Mono:400,700\" rel=\"stylesheet\" type=\"text/css\" />"
      ],
      "text/plain": [
       "<IPython.core.display.HTML object>"
      ]
     },
     "metadata": {},
     "output_type": "display_data"
    },
    {
     "data": {
      "text/html": [
       "<link rel=\"stylesheet\" type=\"text/css\" href=\"http://help.plot.ly/documentation/all_static/css/ipython-notebook-custom.css\">"
      ],
      "text/plain": [
       "<IPython.core.display.HTML object>"
      ]
     },
     "metadata": {},
     "output_type": "display_data"
    },
    {
     "name": "stdout",
     "output_type": "stream",
     "text": [
      "\u001b[33mYou are using pip version 7.1.0, however version 7.1.2 is available.\n",
      "You should consider upgrading via the 'pip install --upgrade pip' command.\u001b[0m\n",
      "Requirement already up-to-date: publisher in /Users/Chelsea/venv2.7/lib/python2.7/site-packages\n"
     ]
    },
    {
     "name": "stderr",
     "output_type": "stream",
     "text": [
      "/Users/Chelsea/venv2.7/lib/python2.7/site-packages/publisher/publisher.py:53: UserWarning:\n",
      "\n",
      "Did you \"Save\" this notebook before running this command? Remember to save, always save.\n",
      "\n"
     ]
    }
   ],
   "source": [
    "from IPython.display import display, HTML\n",
    "\n",
    "display(HTML('<link href=\"//fonts.googleapis.com/css?family=Open+Sans:600,400,300,200|Inconsolata|Ubuntu+Mono:400,700\" rel=\"stylesheet\" type=\"text/css\" />'))\n",
    "display(HTML('<link rel=\"stylesheet\" type=\"text/css\" href=\"http://help.plot.ly/documentation/all_static/css/ipython-notebook-custom.css\">'))\n",
    "\n",
    "! pip install publisher --upgrade\n",
    "import publisher\n",
    "publisher.publish(\n",
    "    '3dbubble.ipynb', 'pandas/3d-bubble-charts', 'Pandas 3D Bubble Charts | plotly',\n",
    "    'How to make 3D Bubble Charts with Pandas and Plotly. ',\n",
    "    name = '3D Bubble Charts',\n",
    "    thumbnail='/images/3dbubble.png', language='pandas',\n",
    "    page_type='example_index', has_thumbnail='true', display_as='3d_charts', order=6)"
   ]
  },
  {
   "cell_type": "code",
   "execution_count": null,
   "metadata": {
    "collapsed": true
   },
   "outputs": [],
   "source": []
  }
 ],
 "metadata": {
  "kernelspec": {
   "display_name": "Python 2",
   "language": "python",
   "name": "python2"
  },
  "language_info": {
   "codemirror_mode": {
    "name": "ipython",
    "version": 2
   },
   "file_extension": ".py",
   "mimetype": "text/x-python",
   "name": "python",
   "nbconvert_exporter": "python",
   "pygments_lexer": "ipython2",
   "version": "2.7.9"
  }
 },
 "nbformat": 4,
 "nbformat_minor": 0
}
