{
 "cells": [
  {
   "cell_type": "markdown",
   "metadata": {},
   "source": [
    "## Adding Colorscales to Pandas DataFrames\n",
    "\n",
    "`Colorlover` is a great library for easily accessing colorscales. We can use it to conveniently provide the colorscales for Plotly Charts! We will be using the [`cufflinks`](https://github.com/santosjorge/cufflinks) library, which binds Plotly directly to pandas dataframes.\n",
    "\n",
    "To install Cufflinks:"
   ]
  },
  {
   "cell_type": "markdown",
   "metadata": {
    "collapsed": false
   },
   "source": [
    "`$ pip install cufflinks`"
   ]
  },
  {
   "cell_type": "markdown",
   "metadata": {},
   "source": [
    "And Colorlover:"
   ]
  },
  {
   "cell_type": "markdown",
   "metadata": {
    "collapsed": false
   },
   "source": [
    "`$ pip install colorlover`"
   ]
  },
  {
   "cell_type": "markdown",
   "metadata": {},
   "source": [
    "### Using Colorlover to easily access colorscales:"
   ]
  },
  {
   "cell_type": "code",
   "execution_count": 3,
   "metadata": {
    "collapsed": true
   },
   "outputs": [],
   "source": [
    "import colorlover as cl"
   ]
  },
  {
   "cell_type": "code",
   "execution_count": 4,
   "metadata": {
    "collapsed": false
   },
   "outputs": [],
   "source": [
    "from IPython.display import HTML"
   ]
  },
  {
   "cell_type": "markdown",
   "metadata": {},
   "source": [
    "For example, to access all the colorscales with 9 colors:"
   ]
  },
  {
   "cell_type": "code",
   "execution_count": 5,
   "metadata": {
    "collapsed": false
   },
   "outputs": [
    {
     "data": {
      "text/html": [
       "<h4>Qualitative</h4><div style=\"display:inline-block;padding:10px;\"><div>Paired</div><div style=\"background-color:rgb(166,206,227);height:20px;width:20px;display:inline-block;\"></div><div style=\"background-color:rgb(31,120,180);height:20px;width:20px;display:inline-block;\"></div><div style=\"background-color:rgb(178,223,138);height:20px;width:20px;display:inline-block;\"></div><div style=\"background-color:rgb(51,160,44);height:20px;width:20px;display:inline-block;\"></div><div style=\"background-color:rgb(251,154,153);height:20px;width:20px;display:inline-block;\"></div><div style=\"background-color:rgb(227,26,28);height:20px;width:20px;display:inline-block;\"></div><div style=\"background-color:rgb(253,191,111);height:20px;width:20px;display:inline-block;\"></div><div style=\"background-color:rgb(255,127,0);height:20px;width:20px;display:inline-block;\"></div><div style=\"background-color:rgb(202,178,214);height:20px;width:20px;display:inline-block;\"></div></div><div style=\"display:inline-block;padding:10px;\"><div>Pastel1</div><div style=\"background-color:rgb(251,180,174);height:20px;width:20px;display:inline-block;\"></div><div style=\"background-color:rgb(179,205,227);height:20px;width:20px;display:inline-block;\"></div><div style=\"background-color:rgb(204,235,197);height:20px;width:20px;display:inline-block;\"></div><div style=\"background-color:rgb(222,203,228);height:20px;width:20px;display:inline-block;\"></div><div style=\"background-color:rgb(254,217,166);height:20px;width:20px;display:inline-block;\"></div><div style=\"background-color:rgb(255,255,204);height:20px;width:20px;display:inline-block;\"></div><div style=\"background-color:rgb(229,216,189);height:20px;width:20px;display:inline-block;\"></div><div style=\"background-color:rgb(253,218,236);height:20px;width:20px;display:inline-block;\"></div><div style=\"background-color:rgb(242,242,242);height:20px;width:20px;display:inline-block;\"></div></div><div style=\"display:inline-block;padding:10px;\"><div>Set1</div><div style=\"background-color:rgb(228,26,28);height:20px;width:20px;display:inline-block;\"></div><div style=\"background-color:rgb(55,126,184);height:20px;width:20px;display:inline-block;\"></div><div style=\"background-color:rgb(77,175,74);height:20px;width:20px;display:inline-block;\"></div><div style=\"background-color:rgb(152,78,163);height:20px;width:20px;display:inline-block;\"></div><div style=\"background-color:rgb(255,127,0);height:20px;width:20px;display:inline-block;\"></div><div style=\"background-color:rgb(255,255,51);height:20px;width:20px;display:inline-block;\"></div><div style=\"background-color:rgb(166,86,40);height:20px;width:20px;display:inline-block;\"></div><div style=\"background-color:rgb(247,129,191);height:20px;width:20px;display:inline-block;\"></div><div style=\"background-color:rgb(153,153,153);height:20px;width:20px;display:inline-block;\"></div></div><div style=\"display:inline-block;padding:10px;\"><div>Set3</div><div style=\"background-color:rgb(141,211,199);height:20px;width:20px;display:inline-block;\"></div><div style=\"background-color:rgb(255,255,179);height:20px;width:20px;display:inline-block;\"></div><div style=\"background-color:rgb(190,186,218);height:20px;width:20px;display:inline-block;\"></div><div style=\"background-color:rgb(251,128,114);height:20px;width:20px;display:inline-block;\"></div><div style=\"background-color:rgb(128,177,211);height:20px;width:20px;display:inline-block;\"></div><div style=\"background-color:rgb(253,180,98);height:20px;width:20px;display:inline-block;\"></div><div style=\"background-color:rgb(179,222,105);height:20px;width:20px;display:inline-block;\"></div><div style=\"background-color:rgb(252,205,229);height:20px;width:20px;display:inline-block;\"></div><div style=\"background-color:rgb(217,217,217);height:20px;width:20px;display:inline-block;\"></div></div><h4>Diverging</h4><div style=\"display:inline-block;padding:10px;\"><div>RdYlBu</div><div style=\"background-color:rgb(215,48,39);height:20px;width:20px;display:inline-block;\"></div><div style=\"background-color:rgb(244,109,67);height:20px;width:20px;display:inline-block;\"></div><div style=\"background-color:rgb(253,174,97);height:20px;width:20px;display:inline-block;\"></div><div style=\"background-color:rgb(254,224,144);height:20px;width:20px;display:inline-block;\"></div><div style=\"background-color:rgb(255,255,191);height:20px;width:20px;display:inline-block;\"></div><div style=\"background-color:rgb(224,243,248);height:20px;width:20px;display:inline-block;\"></div><div style=\"background-color:rgb(171,217,233);height:20px;width:20px;display:inline-block;\"></div><div style=\"background-color:rgb(116,173,209);height:20px;width:20px;display:inline-block;\"></div><div style=\"background-color:rgb(69,117,180);height:20px;width:20px;display:inline-block;\"></div></div><div style=\"display:inline-block;padding:10px;\"><div>Spectral</div><div style=\"background-color:rgb(213,62,79);height:20px;width:20px;display:inline-block;\"></div><div style=\"background-color:rgb(244,109,67);height:20px;width:20px;display:inline-block;\"></div><div style=\"background-color:rgb(253,174,97);height:20px;width:20px;display:inline-block;\"></div><div style=\"background-color:rgb(254,224,139);height:20px;width:20px;display:inline-block;\"></div><div style=\"background-color:rgb(255,255,191);height:20px;width:20px;display:inline-block;\"></div><div style=\"background-color:rgb(230,245,152);height:20px;width:20px;display:inline-block;\"></div><div style=\"background-color:rgb(171,221,164);height:20px;width:20px;display:inline-block;\"></div><div style=\"background-color:rgb(102,194,165);height:20px;width:20px;display:inline-block;\"></div><div style=\"background-color:rgb(50,136,189);height:20px;width:20px;display:inline-block;\"></div></div><div style=\"display:inline-block;padding:10px;\"><div>RdYlGn</div><div style=\"background-color:rgb(215,48,39);height:20px;width:20px;display:inline-block;\"></div><div style=\"background-color:rgb(244,109,67);height:20px;width:20px;display:inline-block;\"></div><div style=\"background-color:rgb(253,174,97);height:20px;width:20px;display:inline-block;\"></div><div style=\"background-color:rgb(254,224,139);height:20px;width:20px;display:inline-block;\"></div><div style=\"background-color:rgb(255,255,191);height:20px;width:20px;display:inline-block;\"></div><div style=\"background-color:rgb(217,239,139);height:20px;width:20px;display:inline-block;\"></div><div style=\"background-color:rgb(166,217,106);height:20px;width:20px;display:inline-block;\"></div><div style=\"background-color:rgb(102,189,99);height:20px;width:20px;display:inline-block;\"></div><div style=\"background-color:rgb(26,152,80);height:20px;width:20px;display:inline-block;\"></div></div><div style=\"display:inline-block;padding:10px;\"><div>PiYG</div><div style=\"background-color:rgb(197,27,125);height:20px;width:20px;display:inline-block;\"></div><div style=\"background-color:rgb(222,119,174);height:20px;width:20px;display:inline-block;\"></div><div style=\"background-color:rgb(241,182,218);height:20px;width:20px;display:inline-block;\"></div><div style=\"background-color:rgb(253,224,239);height:20px;width:20px;display:inline-block;\"></div><div style=\"background-color:rgb(247,247,247);height:20px;width:20px;display:inline-block;\"></div><div style=\"background-color:rgb(230,245,208);height:20px;width:20px;display:inline-block;\"></div><div style=\"background-color:rgb(184,225,134);height:20px;width:20px;display:inline-block;\"></div><div style=\"background-color:rgb(127,188,65);height:20px;width:20px;display:inline-block;\"></div><div style=\"background-color:rgb(77,146,33);height:20px;width:20px;display:inline-block;\"></div></div><div style=\"display:inline-block;padding:10px;\"><div>PuOr</div><div style=\"background-color:rgb(179,88,6);height:20px;width:20px;display:inline-block;\"></div><div style=\"background-color:rgb(224,130,20);height:20px;width:20px;display:inline-block;\"></div><div style=\"background-color:rgb(253,184,99);height:20px;width:20px;display:inline-block;\"></div><div style=\"background-color:rgb(254,224,182);height:20px;width:20px;display:inline-block;\"></div><div style=\"background-color:rgb(247,247,247);height:20px;width:20px;display:inline-block;\"></div><div style=\"background-color:rgb(216,218,235);height:20px;width:20px;display:inline-block;\"></div><div style=\"background-color:rgb(178,171,210);height:20px;width:20px;display:inline-block;\"></div><div style=\"background-color:rgb(128,115,172);height:20px;width:20px;display:inline-block;\"></div><div style=\"background-color:rgb(84,39,136);height:20px;width:20px;display:inline-block;\"></div></div><div style=\"display:inline-block;padding:10px;\"><div>PRGn</div><div style=\"background-color:rgb(118,42,131);height:20px;width:20px;display:inline-block;\"></div><div style=\"background-color:rgb(153,112,171);height:20px;width:20px;display:inline-block;\"></div><div style=\"background-color:rgb(194,165,207);height:20px;width:20px;display:inline-block;\"></div><div style=\"background-color:rgb(231,212,232);height:20px;width:20px;display:inline-block;\"></div><div style=\"background-color:rgb(247,247,247);height:20px;width:20px;display:inline-block;\"></div><div style=\"background-color:rgb(217,240,211);height:20px;width:20px;display:inline-block;\"></div><div style=\"background-color:rgb(166,219,160);height:20px;width:20px;display:inline-block;\"></div><div style=\"background-color:rgb(90,174,97);height:20px;width:20px;display:inline-block;\"></div><div style=\"background-color:rgb(27,120,55);height:20px;width:20px;display:inline-block;\"></div></div><div style=\"display:inline-block;padding:10px;\"><div>BrBG</div><div style=\"background-color:rgb(140,81,10);height:20px;width:20px;display:inline-block;\"></div><div style=\"background-color:rgb(191,129,45);height:20px;width:20px;display:inline-block;\"></div><div style=\"background-color:rgb(223,194,125);height:20px;width:20px;display:inline-block;\"></div><div style=\"background-color:rgb(246,232,195);height:20px;width:20px;display:inline-block;\"></div><div style=\"background-color:rgb(245,245,245);height:20px;width:20px;display:inline-block;\"></div><div style=\"background-color:rgb(199,234,229);height:20px;width:20px;display:inline-block;\"></div><div style=\"background-color:rgb(128,205,193);height:20px;width:20px;display:inline-block;\"></div><div style=\"background-color:rgb(53,151,143);height:20px;width:20px;display:inline-block;\"></div><div style=\"background-color:rgb(1,102,94);height:20px;width:20px;display:inline-block;\"></div></div><div style=\"display:inline-block;padding:10px;\"><div>RdBu</div><div style=\"background-color:rgb(178,24,43);height:20px;width:20px;display:inline-block;\"></div><div style=\"background-color:rgb(214,96,77);height:20px;width:20px;display:inline-block;\"></div><div style=\"background-color:rgb(244,165,130);height:20px;width:20px;display:inline-block;\"></div><div style=\"background-color:rgb(253,219,199);height:20px;width:20px;display:inline-block;\"></div><div style=\"background-color:rgb(247,247,247);height:20px;width:20px;display:inline-block;\"></div><div style=\"background-color:rgb(209,229,240);height:20px;width:20px;display:inline-block;\"></div><div style=\"background-color:rgb(146,197,222);height:20px;width:20px;display:inline-block;\"></div><div style=\"background-color:rgb(67,147,195);height:20px;width:20px;display:inline-block;\"></div><div style=\"background-color:rgb(33,102,172);height:20px;width:20px;display:inline-block;\"></div></div><div style=\"display:inline-block;padding:10px;\"><div>RdGy</div><div style=\"background-color:rgb(178,24,43);height:20px;width:20px;display:inline-block;\"></div><div style=\"background-color:rgb(214,96,77);height:20px;width:20px;display:inline-block;\"></div><div style=\"background-color:rgb(244,165,130);height:20px;width:20px;display:inline-block;\"></div><div style=\"background-color:rgb(253,219,199);height:20px;width:20px;display:inline-block;\"></div><div style=\"background-color:rgb(255,255,255);height:20px;width:20px;display:inline-block;\"></div><div style=\"background-color:rgb(224,224,224);height:20px;width:20px;display:inline-block;\"></div><div style=\"background-color:rgb(186,186,186);height:20px;width:20px;display:inline-block;\"></div><div style=\"background-color:rgb(135,135,135);height:20px;width:20px;display:inline-block;\"></div><div style=\"background-color:rgb(77,77,77);height:20px;width:20px;display:inline-block;\"></div></div><h4>Sequential</h4><div style=\"display:inline-block;padding:10px;\"><div>Reds</div><div style=\"background-color:rgb(255,245,240);height:20px;width:20px;display:inline-block;\"></div><div style=\"background-color:rgb(254,224,210);height:20px;width:20px;display:inline-block;\"></div><div style=\"background-color:rgb(252,187,161);height:20px;width:20px;display:inline-block;\"></div><div style=\"background-color:rgb(252,146,114);height:20px;width:20px;display:inline-block;\"></div><div style=\"background-color:rgb(251,106,74);height:20px;width:20px;display:inline-block;\"></div><div style=\"background-color:rgb(239,59,44);height:20px;width:20px;display:inline-block;\"></div><div style=\"background-color:rgb(203,24,29);height:20px;width:20px;display:inline-block;\"></div><div style=\"background-color:rgb(165,15,21);height:20px;width:20px;display:inline-block;\"></div><div style=\"background-color:rgb(103,0,13);height:20px;width:20px;display:inline-block;\"></div></div><div style=\"display:inline-block;padding:10px;\"><div>YlOrRd</div><div style=\"background-color:rgb(255,255,204);height:20px;width:20px;display:inline-block;\"></div><div style=\"background-color:rgb(255,237,160);height:20px;width:20px;display:inline-block;\"></div><div style=\"background-color:rgb(254,217,118);height:20px;width:20px;display:inline-block;\"></div><div style=\"background-color:rgb(254,178,76);height:20px;width:20px;display:inline-block;\"></div><div style=\"background-color:rgb(253,141,60);height:20px;width:20px;display:inline-block;\"></div><div style=\"background-color:rgb(252,78,42);height:20px;width:20px;display:inline-block;\"></div><div style=\"background-color:rgb(227,26,28);height:20px;width:20px;display:inline-block;\"></div><div style=\"background-color:rgb(189,0,38);height:20px;width:20px;display:inline-block;\"></div><div style=\"background-color:rgb(128,0,38);height:20px;width:20px;display:inline-block;\"></div></div><div style=\"display:inline-block;padding:10px;\"><div>RdPu</div><div style=\"background-color:rgb(255,247,243);height:20px;width:20px;display:inline-block;\"></div><div style=\"background-color:rgb(253,224,221);height:20px;width:20px;display:inline-block;\"></div><div style=\"background-color:rgb(252,197,192);height:20px;width:20px;display:inline-block;\"></div><div style=\"background-color:rgb(250,159,181);height:20px;width:20px;display:inline-block;\"></div><div style=\"background-color:rgb(247,104,161);height:20px;width:20px;display:inline-block;\"></div><div style=\"background-color:rgb(221,52,151);height:20px;width:20px;display:inline-block;\"></div><div style=\"background-color:rgb(174,1,126);height:20px;width:20px;display:inline-block;\"></div><div style=\"background-color:rgb(122,1,119);height:20px;width:20px;display:inline-block;\"></div><div style=\"background-color:rgb(73,0,106);height:20px;width:20px;display:inline-block;\"></div></div><div style=\"display:inline-block;padding:10px;\"><div>YlOrBr</div><div style=\"background-color:rgb(255,255,229);height:20px;width:20px;display:inline-block;\"></div><div style=\"background-color:rgb(255,247,188);height:20px;width:20px;display:inline-block;\"></div><div style=\"background-color:rgb(254,227,145);height:20px;width:20px;display:inline-block;\"></div><div style=\"background-color:rgb(254,196,79);height:20px;width:20px;display:inline-block;\"></div><div style=\"background-color:rgb(254,153,41);height:20px;width:20px;display:inline-block;\"></div><div style=\"background-color:rgb(236,112,20);height:20px;width:20px;display:inline-block;\"></div><div style=\"background-color:rgb(204,76,2);height:20px;width:20px;display:inline-block;\"></div><div style=\"background-color:rgb(153,52,4);height:20px;width:20px;display:inline-block;\"></div><div style=\"background-color:rgb(102,37,6);height:20px;width:20px;display:inline-block;\"></div></div><div style=\"display:inline-block;padding:10px;\"><div>Greens</div><div style=\"background-color:rgb(247,252,245);height:20px;width:20px;display:inline-block;\"></div><div style=\"background-color:rgb(229,245,224);height:20px;width:20px;display:inline-block;\"></div><div style=\"background-color:rgb(199,233,192);height:20px;width:20px;display:inline-block;\"></div><div style=\"background-color:rgb(161,217,155);height:20px;width:20px;display:inline-block;\"></div><div style=\"background-color:rgb(116,196,118);height:20px;width:20px;display:inline-block;\"></div><div style=\"background-color:rgb(65,171,93);height:20px;width:20px;display:inline-block;\"></div><div style=\"background-color:rgb(35,139,69);height:20px;width:20px;display:inline-block;\"></div><div style=\"background-color:rgb(0,109,44);height:20px;width:20px;display:inline-block;\"></div><div style=\"background-color:rgb(0,68,27);height:20px;width:20px;display:inline-block;\"></div></div><div style=\"display:inline-block;padding:10px;\"><div>YlGnBu</div><div style=\"background-color:rgb(255,255,217);height:20px;width:20px;display:inline-block;\"></div><div style=\"background-color:rgb(237,248,177);height:20px;width:20px;display:inline-block;\"></div><div style=\"background-color:rgb(199,233,180);height:20px;width:20px;display:inline-block;\"></div><div style=\"background-color:rgb(127,205,187);height:20px;width:20px;display:inline-block;\"></div><div style=\"background-color:rgb(65,182,196);height:20px;width:20px;display:inline-block;\"></div><div style=\"background-color:rgb(29,145,192);height:20px;width:20px;display:inline-block;\"></div><div style=\"background-color:rgb(34,94,168);height:20px;width:20px;display:inline-block;\"></div><div style=\"background-color:rgb(37,52,148);height:20px;width:20px;display:inline-block;\"></div><div style=\"background-color:rgb(8,29,88);height:20px;width:20px;display:inline-block;\"></div></div><div style=\"display:inline-block;padding:10px;\"><div>GnBu</div><div style=\"background-color:rgb(247,252,240);height:20px;width:20px;display:inline-block;\"></div><div style=\"background-color:rgb(224,243,219);height:20px;width:20px;display:inline-block;\"></div><div style=\"background-color:rgb(204,235,197);height:20px;width:20px;display:inline-block;\"></div><div style=\"background-color:rgb(168,221,181);height:20px;width:20px;display:inline-block;\"></div><div style=\"background-color:rgb(123,204,196);height:20px;width:20px;display:inline-block;\"></div><div style=\"background-color:rgb(78,179,211);height:20px;width:20px;display:inline-block;\"></div><div style=\"background-color:rgb(43,140,190);height:20px;width:20px;display:inline-block;\"></div><div style=\"background-color:rgb(8,104,172);height:20px;width:20px;display:inline-block;\"></div><div style=\"background-color:rgb(8,64,129);height:20px;width:20px;display:inline-block;\"></div></div><div style=\"display:inline-block;padding:10px;\"><div>BuPu</div><div style=\"background-color:rgb(247,252,253);height:20px;width:20px;display:inline-block;\"></div><div style=\"background-color:rgb(224,236,244);height:20px;width:20px;display:inline-block;\"></div><div style=\"background-color:rgb(191,211,230);height:20px;width:20px;display:inline-block;\"></div><div style=\"background-color:rgb(158,188,218);height:20px;width:20px;display:inline-block;\"></div><div style=\"background-color:rgb(140,150,198);height:20px;width:20px;display:inline-block;\"></div><div style=\"background-color:rgb(140,107,177);height:20px;width:20px;display:inline-block;\"></div><div style=\"background-color:rgb(136,65,157);height:20px;width:20px;display:inline-block;\"></div><div style=\"background-color:rgb(129,15,124);height:20px;width:20px;display:inline-block;\"></div><div style=\"background-color:rgb(77,0,75);height:20px;width:20px;display:inline-block;\"></div></div><div style=\"display:inline-block;padding:10px;\"><div>Greys</div><div style=\"background-color:rgb(255,255,255);height:20px;width:20px;display:inline-block;\"></div><div style=\"background-color:rgb(240,240,240);height:20px;width:20px;display:inline-block;\"></div><div style=\"background-color:rgb(217,217,217);height:20px;width:20px;display:inline-block;\"></div><div style=\"background-color:rgb(189,189,189);height:20px;width:20px;display:inline-block;\"></div><div style=\"background-color:rgb(150,150,150);height:20px;width:20px;display:inline-block;\"></div><div style=\"background-color:rgb(115,115,115);height:20px;width:20px;display:inline-block;\"></div><div style=\"background-color:rgb(82,82,82);height:20px;width:20px;display:inline-block;\"></div><div style=\"background-color:rgb(37,37,37);height:20px;width:20px;display:inline-block;\"></div><div style=\"background-color:rgb(0,0,0);height:20px;width:20px;display:inline-block;\"></div></div><div style=\"display:inline-block;padding:10px;\"><div>Oranges</div><div style=\"background-color:rgb(255,245,235);height:20px;width:20px;display:inline-block;\"></div><div style=\"background-color:rgb(254,230,206);height:20px;width:20px;display:inline-block;\"></div><div style=\"background-color:rgb(253,208,162);height:20px;width:20px;display:inline-block;\"></div><div style=\"background-color:rgb(253,174,107);height:20px;width:20px;display:inline-block;\"></div><div style=\"background-color:rgb(253,141,60);height:20px;width:20px;display:inline-block;\"></div><div style=\"background-color:rgb(241,105,19);height:20px;width:20px;display:inline-block;\"></div><div style=\"background-color:rgb(217,72,1);height:20px;width:20px;display:inline-block;\"></div><div style=\"background-color:rgb(166,54,3);height:20px;width:20px;display:inline-block;\"></div><div style=\"background-color:rgb(127,39,4);height:20px;width:20px;display:inline-block;\"></div></div><div style=\"display:inline-block;padding:10px;\"><div>OrRd</div><div style=\"background-color:rgb(255,247,236);height:20px;width:20px;display:inline-block;\"></div><div style=\"background-color:rgb(254,232,200);height:20px;width:20px;display:inline-block;\"></div><div style=\"background-color:rgb(253,212,158);height:20px;width:20px;display:inline-block;\"></div><div style=\"background-color:rgb(253,187,132);height:20px;width:20px;display:inline-block;\"></div><div style=\"background-color:rgb(252,141,89);height:20px;width:20px;display:inline-block;\"></div><div style=\"background-color:rgb(239,101,72);height:20px;width:20px;display:inline-block;\"></div><div style=\"background-color:rgb(215,48,31);height:20px;width:20px;display:inline-block;\"></div><div style=\"background-color:rgb(179,0,0);height:20px;width:20px;display:inline-block;\"></div><div style=\"background-color:rgb(127,0,0);height:20px;width:20px;display:inline-block;\"></div></div><div style=\"display:inline-block;padding:10px;\"><div>BuGn</div><div style=\"background-color:rgb(247,252,253);height:20px;width:20px;display:inline-block;\"></div><div style=\"background-color:rgb(229,245,249);height:20px;width:20px;display:inline-block;\"></div><div style=\"background-color:rgb(204,236,230);height:20px;width:20px;display:inline-block;\"></div><div style=\"background-color:rgb(153,216,201);height:20px;width:20px;display:inline-block;\"></div><div style=\"background-color:rgb(102,194,164);height:20px;width:20px;display:inline-block;\"></div><div style=\"background-color:rgb(65,174,118);height:20px;width:20px;display:inline-block;\"></div><div style=\"background-color:rgb(35,139,69);height:20px;width:20px;display:inline-block;\"></div><div style=\"background-color:rgb(0,109,44);height:20px;width:20px;display:inline-block;\"></div><div style=\"background-color:rgb(0,68,27);height:20px;width:20px;display:inline-block;\"></div></div><div style=\"display:inline-block;padding:10px;\"><div>PuBu</div><div style=\"background-color:rgb(255,247,251);height:20px;width:20px;display:inline-block;\"></div><div style=\"background-color:rgb(236,231,242);height:20px;width:20px;display:inline-block;\"></div><div style=\"background-color:rgb(208,209,230);height:20px;width:20px;display:inline-block;\"></div><div style=\"background-color:rgb(166,189,219);height:20px;width:20px;display:inline-block;\"></div><div style=\"background-color:rgb(116,169,207);height:20px;width:20px;display:inline-block;\"></div><div style=\"background-color:rgb(54,144,192);height:20px;width:20px;display:inline-block;\"></div><div style=\"background-color:rgb(5,112,176);height:20px;width:20px;display:inline-block;\"></div><div style=\"background-color:rgb(4,90,141);height:20px;width:20px;display:inline-block;\"></div><div style=\"background-color:rgb(2,56,88);height:20px;width:20px;display:inline-block;\"></div></div><div style=\"display:inline-block;padding:10px;\"><div>PuRd</div><div style=\"background-color:rgb(247,244,249);height:20px;width:20px;display:inline-block;\"></div><div style=\"background-color:rgb(231,225,239);height:20px;width:20px;display:inline-block;\"></div><div style=\"background-color:rgb(212,185,218);height:20px;width:20px;display:inline-block;\"></div><div style=\"background-color:rgb(201,148,199);height:20px;width:20px;display:inline-block;\"></div><div style=\"background-color:rgb(223,101,176);height:20px;width:20px;display:inline-block;\"></div><div style=\"background-color:rgb(231,41,138);height:20px;width:20px;display:inline-block;\"></div><div style=\"background-color:rgb(206,18,86);height:20px;width:20px;display:inline-block;\"></div><div style=\"background-color:rgb(152,0,67);height:20px;width:20px;display:inline-block;\"></div><div style=\"background-color:rgb(103,0,31);height:20px;width:20px;display:inline-block;\"></div></div><div style=\"display:inline-block;padding:10px;\"><div>Blues</div><div style=\"background-color:rgb(247,251,255);height:20px;width:20px;display:inline-block;\"></div><div style=\"background-color:rgb(222,235,247);height:20px;width:20px;display:inline-block;\"></div><div style=\"background-color:rgb(198,219,239);height:20px;width:20px;display:inline-block;\"></div><div style=\"background-color:rgb(158,202,225);height:20px;width:20px;display:inline-block;\"></div><div style=\"background-color:rgb(107,174,214);height:20px;width:20px;display:inline-block;\"></div><div style=\"background-color:rgb(66,146,198);height:20px;width:20px;display:inline-block;\"></div><div style=\"background-color:rgb(33,113,181);height:20px;width:20px;display:inline-block;\"></div><div style=\"background-color:rgb(8,81,156);height:20px;width:20px;display:inline-block;\"></div><div style=\"background-color:rgb(8,48,107);height:20px;width:20px;display:inline-block;\"></div></div><div style=\"display:inline-block;padding:10px;\"><div>PuBuGn</div><div style=\"background-color:rgb(255,247,251);height:20px;width:20px;display:inline-block;\"></div><div style=\"background-color:rgb(236,226,240);height:20px;width:20px;display:inline-block;\"></div><div style=\"background-color:rgb(208,209,230);height:20px;width:20px;display:inline-block;\"></div><div style=\"background-color:rgb(166,189,219);height:20px;width:20px;display:inline-block;\"></div><div style=\"background-color:rgb(103,169,207);height:20px;width:20px;display:inline-block;\"></div><div style=\"background-color:rgb(54,144,192);height:20px;width:20px;display:inline-block;\"></div><div style=\"background-color:rgb(2,129,138);height:20px;width:20px;display:inline-block;\"></div><div style=\"background-color:rgb(1,108,89);height:20px;width:20px;display:inline-block;\"></div><div style=\"background-color:rgb(1,70,54);height:20px;width:20px;display:inline-block;\"></div></div><div style=\"display:inline-block;padding:10px;\"><div>YlGn</div><div style=\"background-color:rgb(255,255,229);height:20px;width:20px;display:inline-block;\"></div><div style=\"background-color:rgb(247,252,185);height:20px;width:20px;display:inline-block;\"></div><div style=\"background-color:rgb(217,240,163);height:20px;width:20px;display:inline-block;\"></div><div style=\"background-color:rgb(173,221,142);height:20px;width:20px;display:inline-block;\"></div><div style=\"background-color:rgb(120,198,121);height:20px;width:20px;display:inline-block;\"></div><div style=\"background-color:rgb(65,171,93);height:20px;width:20px;display:inline-block;\"></div><div style=\"background-color:rgb(35,132,67);height:20px;width:20px;display:inline-block;\"></div><div style=\"background-color:rgb(0,104,55);height:20px;width:20px;display:inline-block;\"></div><div style=\"background-color:rgb(0,69,41);height:20px;width:20px;display:inline-block;\"></div></div><div style=\"display:inline-block;padding:10px;\"><div>Purples</div><div style=\"background-color:rgb(252,251,253);height:20px;width:20px;display:inline-block;\"></div><div style=\"background-color:rgb(239,237,245);height:20px;width:20px;display:inline-block;\"></div><div style=\"background-color:rgb(218,218,235);height:20px;width:20px;display:inline-block;\"></div><div style=\"background-color:rgb(188,189,220);height:20px;width:20px;display:inline-block;\"></div><div style=\"background-color:rgb(158,154,200);height:20px;width:20px;display:inline-block;\"></div><div style=\"background-color:rgb(128,125,186);height:20px;width:20px;display:inline-block;\"></div><div style=\"background-color:rgb(106,81,163);height:20px;width:20px;display:inline-block;\"></div><div style=\"background-color:rgb(84,39,143);height:20px;width:20px;display:inline-block;\"></div><div style=\"background-color:rgb(63,0,125);height:20px;width:20px;display:inline-block;\"></div></div>"
      ],
      "text/plain": [
       "<IPython.core.display.HTML object>"
      ]
     },
     "execution_count": 5,
     "metadata": {},
     "output_type": "execute_result"
    }
   ],
   "source": [
    "HTML(cl.to_html(cl.scales['9']))"
   ]
  },
  {
   "cell_type": "markdown",
   "metadata": {},
   "source": [
    "### Binding Plotly to Pandas Dataframes ( Cufflinks ):"
   ]
  },
  {
   "cell_type": "code",
   "execution_count": 6,
   "metadata": {
    "collapsed": true
   },
   "outputs": [],
   "source": [
    "import cufflinks as cf"
   ]
  },
  {
   "cell_type": "code",
   "execution_count": 7,
   "metadata": {
    "collapsed": false
   },
   "outputs": [],
   "source": [
    "# Generate a sample dataset of 9 traces (lines)..\n",
    "sample_data = cf.datagen.lines(5)"
   ]
  },
  {
   "cell_type": "markdown",
   "metadata": {},
   "source": [
    "### Plotting the data using Plotly:"
   ]
  },
  {
   "cell_type": "code",
   "execution_count": 8,
   "metadata": {
    "collapsed": false,
    "scrolled": true
   },
   "outputs": [
    {
     "data": {
      "text/html": [
       "<iframe id=\"igraph\" scrolling=\"no\" style=\"border:none;\" seamless=\"seamless\" src=\"https://plot.ly/~chelsea_lyn/11299.embed\" height=\"525px\" width=\"100%\"></iframe>"
      ],
      "text/plain": [
       "<plotly.tools.PlotlyDisplay object>"
      ]
     },
     "execution_count": 8,
     "metadata": {},
     "output_type": "execute_result"
    }
   ],
   "source": [
    "sample_data.iplot(kind='scatter', filename='basic-cufflinks-example')"
   ]
  },
  {
   "cell_type": "markdown",
   "metadata": {},
   "source": [
    "### Adding Colorscales using Colorlover:"
   ]
  },
  {
   "cell_type": "code",
   "execution_count": 9,
   "metadata": {
    "collapsed": false
   },
   "outputs": [],
   "source": [
    "color_scale_blues = cl.scales['5']['seq']['Blues']"
   ]
  },
  {
   "cell_type": "code",
   "execution_count": 10,
   "metadata": {
    "collapsed": false,
    "scrolled": true
   },
   "outputs": [
    {
     "data": {
      "text/html": [
       "<iframe id=\"igraph\" scrolling=\"no\" style=\"border:none;\" seamless=\"seamless\" src=\"https://plot.ly/~chelsea_lyn/11301.embed\" height=\"525px\" width=\"100%\"></iframe>"
      ],
      "text/plain": [
       "<plotly.tools.PlotlyDisplay object>"
      ]
     },
     "execution_count": 10,
     "metadata": {},
     "output_type": "execute_result"
    }
   ],
   "source": [
    "sample_data.iplot(kind='scatter', colors=color_scale_blues, theme='pearl')"
   ]
  },
  {
   "cell_type": "markdown",
   "metadata": {},
   "source": [
    "A list of all the colorscales supported by `colorlover` is available <a href=\"http://nbviewer.jupyter.org/gist/jackparmer/4696226c9b6b931bbdf6#All-colors\" target=\"_blank\">here!</a>"
   ]
  },
  {
   "cell_type": "code",
   "execution_count": 12,
   "metadata": {
    "collapsed": false
   },
   "outputs": [
    {
     "data": {
      "text/html": [
       "<link href=\"//fonts.googleapis.com/css?family=Open+Sans:600,400,300,200|Inconsolata|Ubuntu+Mono:400,700\" rel=\"stylesheet\" type=\"text/css\" />"
      ],
      "text/plain": [
       "<IPython.core.display.HTML object>"
      ]
     },
     "metadata": {},
     "output_type": "display_data"
    },
    {
     "data": {
      "text/html": [
       "<link rel=\"stylesheet\" type=\"text/css\" href=\"http://help.plot.ly/documentation/all_static/css/ipython-notebook-custom.css\">"
      ],
      "text/plain": [
       "<IPython.core.display.HTML object>"
      ]
     },
     "metadata": {},
     "output_type": "display_data"
    }
   ],
   "source": [
    "from IPython.display import display, HTML\n",
    "\n",
    "display(HTML('<link href=\"//fonts.googleapis.com/css?family=Open+Sans:600,400,300,200|Inconsolata|Ubuntu+Mono:400,700\" rel=\"stylesheet\" type=\"text/css\" />'))\n",
    "display(HTML('<link rel=\"stylesheet\" type=\"text/css\" href=\"http://help.plot.ly/documentation/all_static/css/ipython-notebook-custom.css\">'))\n",
    "\n",
    "import publisher\n",
    "publisher.publish(\n",
    "    'colorlover-with-pandas.ipynb', 'pandas/colorlover/', 'Pandas Adding Colorscales with Colorlover | plotly',\n",
    "    'How to easily add colorscales to pandas dataframe using Colorlover and Plotly.',\n",
    "    name = 'Adding Colorscales (Using Colorlover)',\n",
    "    thumbnail='thumbnail/pandas-colorlover.jpg', language='pandas',\n",
    "    page_type='example_index', has_thumbnail='true', display_as='chart_type', order=5)"
   ]
  },
  {
   "cell_type": "code",
   "execution_count": null,
   "metadata": {
    "collapsed": true
   },
   "outputs": [],
   "source": []
  }
 ],
 "metadata": {
  "kernelspec": {
   "display_name": "Python 2",
   "language": "python",
   "name": "python2"
  },
  "language_info": {
   "codemirror_mode": {
    "name": "ipython",
    "version": 2
   },
   "file_extension": ".py",
   "mimetype": "text/x-python",
   "name": "python",
   "nbconvert_exporter": "python",
   "pygments_lexer": "ipython2",
   "version": "2.7.11"
  }
 },
 "nbformat": 4,
 "nbformat_minor": 0
}
