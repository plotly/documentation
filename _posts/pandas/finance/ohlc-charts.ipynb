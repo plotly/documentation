{
 "cells": [
  {
   "cell_type": "markdown",
   "metadata": {},
   "source": [
    "# OHLC Charts in Python"
   ]
  },
  {
   "cell_type": "code",
   "execution_count": 1,
   "metadata": {
    "collapsed": false
   },
   "outputs": [
    {
     "data": {
      "text/plain": [
       "'1.8.8'"
      ]
     },
     "execution_count": 1,
     "metadata": {},
     "output_type": "execute_result"
    }
   ],
   "source": [
    "import plotly\n",
    "plotly.__version__"
   ]
  },
  {
   "cell_type": "markdown",
   "metadata": {},
   "source": [
    "##### Simple OHLC Chart with Pandas"
   ]
  },
  {
   "cell_type": "code",
   "execution_count": 2,
   "metadata": {
    "collapsed": false
   },
   "outputs": [
    {
     "data": {
      "text/html": [
       "<iframe id=\"igraph\" scrolling=\"no\" style=\"border:none;\"seamless=\"seamless\" src=\"https://plot.ly/~chelsea_lyn/8313.embed\" height=\"525px\" width=\"100%\"></iframe>"
      ],
      "text/plain": [
       "<plotly.tools.PlotlyDisplay object>"
      ]
     },
     "execution_count": 2,
     "metadata": {},
     "output_type": "execute_result"
    }
   ],
   "source": [
    "import plotly.plotly as py\n",
    "from plotly.tools import FigureFactory as FF\n",
    "from datetime import datetime\n",
    "\n",
    "import pandas.io.data as web\n",
    "\n",
    "df = web.DataReader(\"aapl\", 'yahoo', datetime(2008, 8, 15), datetime(2008, 10, 15))\n",
    "fig = FF.create_ohlc(df.Open, df.High, df.Low, df.Close, dates=df.index)\n",
    "\n",
    "py.iplot(fig, filename='finance/aapl-ohlc')"
   ]
  },
  {
   "cell_type": "markdown",
   "metadata": {},
   "source": [
    "##### Customizing the Figure with Text and Annotations"
   ]
  },
  {
   "cell_type": "code",
   "execution_count": 3,
   "metadata": {
    "collapsed": false
   },
   "outputs": [
    {
     "data": {
      "text/html": [
       "<iframe id=\"igraph\" scrolling=\"no\" style=\"border:none;\"seamless=\"seamless\" src=\"https://plot.ly/~chelsea_lyn/8315.embed\" height=\"525px\" width=\"100%\"></iframe>"
      ],
      "text/plain": [
       "<plotly.tools.PlotlyDisplay object>"
      ]
     },
     "execution_count": 3,
     "metadata": {},
     "output_type": "execute_result"
    }
   ],
   "source": [
    "import plotly.plotly as py\n",
    "from plotly.tools import FigureFactory as FF\n",
    "\n",
    "import pandas.io.data as web\n",
    "\n",
    "df = web.DataReader(\"aapl\", 'yahoo', datetime(2008, 8, 15), datetime(2008, 10, 15))\n",
    "fig = FF.create_ohlc(df.Open, df.High, df.Low, df.Close, dates=df.index)\n",
    "\n",
    "# Update the fig - all options here: https://plot.ly/python/reference/#Layout\n",
    "fig['layout'].update({\n",
    "    'title': 'The Great Recession',\n",
    "    'yaxis': {'title': 'AAPL Stock'},\n",
    "    'shapes': [{\n",
    "        'x0': '2008-09-15', 'x1': '2008-09-15', 'type': 'line',\n",
    "        'y0': 0, 'y1': 1, 'xref': 'x', 'yref': 'paper',\n",
    "        'line': {'color': 'rgb(40,40,40)', 'width': 0.5}\n",
    "    }],\n",
    "    'annotations': [{\n",
    "        'text': \"the fall of Lehman Brothers\",\n",
    "        'x': '2008-09-15', 'y': 1.02,\n",
    "        'xref': 'x', 'yref': 'paper',\n",
    "        'showarrow': False, 'xanchor': 'left'\n",
    "    }]\n",
    "})\n",
    "\n",
    "py.iplot(fig, filename='finance/aapl-recession-ohlc', validate=False)"
   ]
  },
  {
   "cell_type": "markdown",
   "metadata": {},
   "source": [
    "##### Custom OHLC Chart Colors"
   ]
  },
  {
   "cell_type": "code",
   "execution_count": 4,
   "metadata": {
    "collapsed": false
   },
   "outputs": [
    {
     "data": {
      "text/html": [
       "<iframe id=\"igraph\" scrolling=\"no\" style=\"border:none;\"seamless=\"seamless\" src=\"https://plot.ly/~chelsea_lyn/8317.embed\" height=\"525px\" width=\"100%\"></iframe>"
      ],
      "text/plain": [
       "<plotly.tools.PlotlyDisplay object>"
      ]
     },
     "execution_count": 4,
     "metadata": {},
     "output_type": "execute_result"
    }
   ],
   "source": [
    "import plotly.plotly as py\n",
    "from plotly.tools import FigureFactory as FF\n",
    "from plotly.graph_objs import Line, Marker\n",
    "from datetime import datetime\n",
    "\n",
    "import pandas.io.data as web\n",
    "\n",
    "df = web.DataReader(\"aapl\", 'yahoo', datetime(2008, 1, 1), datetime(2009, 4, 1))\n",
    "\n",
    "# Make increasing ohlc sticks and customize their color and name\n",
    "fig_increasing = FF.create_ohlc(df.Open, df.High, df.Low, df.Close, dates=df.index,\n",
    "    direction='increasing', name='AAPL',\n",
    "    line=Line(color='rgb(150, 200, 250)'))\n",
    "\n",
    "# Make decreasing ohlc sticks and customize their color and name\n",
    "fig_decreasing = FF.create_ohlc(df.Open, df.High, df.Low, df.Close, dates=df.index,\n",
    "    direction='decreasing',\n",
    "    line=Line(color='rgb(128, 128, 128)'))\n",
    "\n",
    "# Initialize the figure\n",
    "fig = fig_increasing\n",
    "\n",
    "# Add decreasing data with .extend()\n",
    "fig['data'].extend(fig_decreasing['data'])\n",
    "\n",
    "py.iplot(fig, filename='finance/aapl-ohlc-colors', validate=False)"
   ]
  },
  {
   "cell_type": "markdown",
   "metadata": {},
   "source": [
    "##### Simple Example with `datetime` Objects"
   ]
  },
  {
   "cell_type": "code",
   "execution_count": 5,
   "metadata": {
    "collapsed": false
   },
   "outputs": [
    {
     "data": {
      "text/html": [
       "<iframe id=\"igraph\" scrolling=\"no\" style=\"border:none;\"seamless=\"seamless\" src=\"https://plot.ly/~chelsea_lyn/8319.embed\" height=\"525px\" width=\"100%\"></iframe>"
      ],
      "text/plain": [
       "<plotly.tools.PlotlyDisplay object>"
      ]
     },
     "execution_count": 5,
     "metadata": {},
     "output_type": "execute_result"
    }
   ],
   "source": [
    "import plotly.plotly as py\n",
    "from plotly.tools import FigureFactory as FF\n",
    "\n",
    "from datetime import datetime\n",
    "\n",
    "# Add data\n",
    "open_data = [33.0, 33.3, 33.5, 33.0, 34.1]\n",
    "high_data = [33.1, 33.3, 33.6, 33.2, 34.8]\n",
    "low_data = [32.7, 32.7, 32.8, 32.6, 32.8]\n",
    "close_data = [33.0, 32.9, 33.3, 33.1, 33.1]\n",
    "dates = [datetime(year=2013, month=10, day=10),\n",
    "         datetime(year=2013, month=11, day=10),\n",
    "         datetime(year=2013, month=12, day=10),\n",
    "         datetime(year=2014, month=1, day=10),\n",
    "         datetime(year=2014, month=2, day=10)]\n",
    "\n",
    "# Create ohlc\n",
    "fig = FF.create_ohlc(open_data, high_data,\n",
    "    low_data, close_data, dates=dates)\n",
    "\n",
    "py.iplot(fig, filename='finance/simple-ohlc', validate=False)"
   ]
  },
  {
   "cell_type": "markdown",
   "metadata": {},
   "source": [
    "###Open, High, Low, Close Charts in Cufflinks"
   ]
  },
  {
   "cell_type": "code",
   "execution_count": 6,
   "metadata": {
    "collapsed": false
   },
   "outputs": [
    {
     "data": {
      "text/html": [
       "<div>\n",
       "<table border=\"1\" class=\"dataframe\">\n",
       "  <thead>\n",
       "    <tr style=\"text-align: right;\">\n",
       "      <th></th>\n",
       "      <th>open</th>\n",
       "      <th>high</th>\n",
       "      <th>low</th>\n",
       "      <th>close</th>\n",
       "    </tr>\n",
       "  </thead>\n",
       "  <tbody>\n",
       "    <tr>\n",
       "      <th>2015-01-01 00:00:00+00:00</th>\n",
       "      <td>100.000000</td>\n",
       "      <td>101.789089</td>\n",
       "      <td>78.062507</td>\n",
       "      <td>99.197149</td>\n",
       "    </tr>\n",
       "    <tr>\n",
       "      <th>2015-01-02 00:00:00+00:00</th>\n",
       "      <td>99.523991</td>\n",
       "      <td>114.548820</td>\n",
       "      <td>94.171902</td>\n",
       "      <td>109.412094</td>\n",
       "    </tr>\n",
       "    <tr>\n",
       "      <th>2015-01-03 00:00:00+00:00</th>\n",
       "      <td>110.412538</td>\n",
       "      <td>124.291269</td>\n",
       "      <td>85.566579</td>\n",
       "      <td>95.512897</td>\n",
       "    </tr>\n",
       "    <tr>\n",
       "      <th>2015-01-04 00:00:00+00:00</th>\n",
       "      <td>94.187397</td>\n",
       "      <td>110.011045</td>\n",
       "      <td>84.495936</td>\n",
       "      <td>108.208498</td>\n",
       "    </tr>\n",
       "    <tr>\n",
       "      <th>2015-01-05 00:00:00+00:00</th>\n",
       "      <td>107.742944</td>\n",
       "      <td>110.223364</td>\n",
       "      <td>91.743416</td>\n",
       "      <td>105.990083</td>\n",
       "    </tr>\n",
       "  </tbody>\n",
       "</table>\n",
       "</div>"
      ],
      "text/plain": [
       "                                 open        high        low       close\n",
       "2015-01-01 00:00:00+00:00  100.000000  101.789089  78.062507   99.197149\n",
       "2015-01-02 00:00:00+00:00   99.523991  114.548820  94.171902  109.412094\n",
       "2015-01-03 00:00:00+00:00  110.412538  124.291269  85.566579   95.512897\n",
       "2015-01-04 00:00:00+00:00   94.187397  110.011045  84.495936  108.208498\n",
       "2015-01-05 00:00:00+00:00  107.742944  110.223364  91.743416  105.990083"
      ]
     },
     "execution_count": 6,
     "metadata": {},
     "output_type": "execute_result"
    }
   ],
   "source": [
    "import cufflinks as cf\n",
    "import pandas as pd\n",
    "\n",
    "cf.set_config_file(world_readable=True,offline=False)\n",
    "\n",
    "# Open, High, Low, Close Data Generation \n",
    "ohlc=cf.datagen.ohlc()\n",
    "ohlc.head()"
   ]
  },
  {
   "cell_type": "code",
   "execution_count": 7,
   "metadata": {
    "collapsed": false
   },
   "outputs": [
    {
     "data": {
      "text/html": [
       "<iframe id=\"igraph\" scrolling=\"no\" style=\"border:none;\"seamless=\"seamless\" src=\"https://plot.ly/~chelsea_lyn/8321.embed\" height=\"525px\" width=\"100%\"></iframe>"
      ],
      "text/plain": [
       "<plotly.tools.PlotlyDisplay object>"
      ]
     },
     "execution_count": 7,
     "metadata": {},
     "output_type": "execute_result"
    }
   ],
   "source": [
    "ohlc.iplot(kind='ohlc')"
   ]
  },
  {
   "cell_type": "code",
   "execution_count": 8,
   "metadata": {
    "collapsed": false
   },
   "outputs": [
    {
     "data": {
      "text/html": [
       "<iframe id=\"igraph\" scrolling=\"no\" style=\"border:none;\"seamless=\"seamless\" src=\"https://plot.ly/~chelsea_lyn/8323.embed\" height=\"525px\" width=\"100%\"></iframe>"
      ],
      "text/plain": [
       "<plotly.tools.PlotlyDisplay object>"
      ]
     },
     "execution_count": 8,
     "metadata": {},
     "output_type": "execute_result"
    }
   ],
   "source": [
    "import cufflinks as cf\n",
    "import pandas as pd\n",
    "\n",
    "cf.set_config_file(world_readable=True,offline=False)\n",
    "\n",
    "ohlc=cf.datagen.ohlc()\n",
    "ohlc.iplot(kind='ohlc', up_color='rgb(20, 140, 200)', down_color='rgb(100, 100, 100)')"
   ]
  },
  {
   "cell_type": "markdown",
   "metadata": {},
   "source": [
    "### Reference"
   ]
  },
  {
   "cell_type": "code",
   "execution_count": 9,
   "metadata": {
    "collapsed": false
   },
   "outputs": [
    {
     "name": "stdout",
     "output_type": "stream",
     "text": [
      "Help on function create_ohlc in module plotly.tools:\n",
      "\n",
      "create_ohlc(open, high, low, close, dates=None, direction='both', **kwargs)\n",
      "    BETA function that creates an ohlc chart\n",
      "    \n",
      "    :param (list) open: opening values\n",
      "    :param (list) high: high values\n",
      "    :param (list) low: low values\n",
      "    :param (list) close: closing\n",
      "    :param (list) dates: list of datetime objects. Default: None\n",
      "    :param (string) direction: direction can be 'increasing', 'decreasing',\n",
      "        or 'both'. When the direction is 'increasing', the returned figure\n",
      "        consists of all units where the close value is greater than the\n",
      "        corresponding open value, and when the direction is 'decreasing',\n",
      "        the returned figure consists of all units where the close value is\n",
      "        less than or equal to the corresponding open value. When the\n",
      "        direction is 'both', both increasing and decreasing units are\n",
      "        returned. Default: 'both'\n",
      "    :param kwargs: kwargs passed through plotly.graph_objs.Scatter.\n",
      "        These kwargs describe other attributes about the ohlc Scatter trace\n",
      "        such as the color or the legend name. For more information on valid\n",
      "        kwargs call help(plotly.graph_objs.Scatter)\n",
      "    \n",
      "    :rtype (dict): returns a representation of an ohlc chart figure.\n",
      "    \n",
      "    Example 1: Simple OHLC chart from a Pandas DataFrame\n",
      "    ```\n",
      "    import plotly.plotly as py\n",
      "    from plotly.tools import FigureFactory as FF\n",
      "    from datetime import datetime\n",
      "    \n",
      "    import pandas.io.data as web\n",
      "    \n",
      "    df = web.DataReader(\"aapl\", 'yahoo', datetime(2008, 8, 15), datetime(2008, 10, 15))\n",
      "    fig = FF.create_ohlc(df.Open, df.High, df.Low, df.Close, dates=df.index)\n",
      "    \n",
      "    py.plot(fig, filename='finance/aapl-ohlc')\n",
      "    ```\n",
      "    \n",
      "    Example 2: Add text and annotations to the OHLC chart\n",
      "    ```\n",
      "    import plotly.plotly as py\n",
      "    from plotly.tools import FigureFactory as FF\n",
      "    from datetime import datetime\n",
      "    \n",
      "    import pandas.io.data as web\n",
      "    \n",
      "    df = web.DataReader(\"aapl\", 'yahoo', datetime(2008, 8, 15), datetime(2008, 10, 15))\n",
      "    fig = FF.create_ohlc(df.Open, df.High, df.Low, df.Close, dates=df.index)\n",
      "    \n",
      "    # Update the fig - all options here: https://plot.ly/python/reference/#Layout\n",
      "    fig['layout'].update({\n",
      "        'title': 'The Great Recession',\n",
      "        'yaxis': {'title': 'AAPL Stock'},\n",
      "        'shapes': [{\n",
      "            'x0': '2008-09-15', 'x1': '2008-09-15', 'type': 'line',\n",
      "            'y0': 0, 'y1': 1, 'xref': 'x', 'yref': 'paper',\n",
      "            'line': {'color': 'rgb(40,40,40)', 'width': 0.5}\n",
      "        }],\n",
      "        'annotations': [{\n",
      "            'text': \"the fall of Lehman Brothers\",\n",
      "            'x': '2008-09-15', 'y': 1.02,\n",
      "            'xref': 'x', 'yref': 'paper',\n",
      "            'showarrow': False, 'xanchor': 'left'\n",
      "        }]\n",
      "    })\n",
      "    \n",
      "    py.plot(fig, filename='finance/aapl-recession-ohlc', validate=False)\n",
      "    ```\n",
      "    \n",
      "    Example 3: Customize the OHLC colors\n",
      "    ```\n",
      "    import plotly.plotly as py\n",
      "    from plotly.tools import FigureFactory as FF\n",
      "    from plotly.graph_objs import Line, Marker\n",
      "    from datetime import datetime\n",
      "    \n",
      "    import pandas.io.data as web\n",
      "    \n",
      "    df = web.DataReader(\"aapl\", 'yahoo', datetime(2008, 1, 1), datetime(2009, 4, 1))\n",
      "    \n",
      "    # Make increasing ohlc sticks and customize their color and name\n",
      "    fig_increasing = FF.create_ohlc(df.Open, df.High, df.Low, df.Close, dates=df.index,\n",
      "        direction='increasing', name='AAPL',\n",
      "        line=Line(color='rgb(150, 200, 250)'))\n",
      "    \n",
      "    # Make decreasing ohlc sticks and customize their color and name\n",
      "    fig_decreasing = FF.create_ohlc(df.Open, df.High, df.Low, df.Close, dates=df.index,\n",
      "        direction='decreasing',\n",
      "        line=Line(color='rgb(128, 128, 128)'))\n",
      "    \n",
      "    # Initialize the figure\n",
      "    fig = fig_increasing\n",
      "    \n",
      "    # Add decreasing data with .extend()\n",
      "    fig['data'].extend(fig_decreasing['data'])\n",
      "    \n",
      "    py.iplot(fig, filename='finance/aapl-ohlc-colors', validate=False)\n",
      "    ```\n",
      "    \n",
      "    Example 4: OHLC chart with datetime objects\n",
      "    ```\n",
      "    import plotly.plotly as py\n",
      "    from plotly.tools import FigureFactory as FF\n",
      "    \n",
      "    from datetime import datetime\n",
      "    \n",
      "    # Add data\n",
      "    open_data = [33.0, 33.3, 33.5, 33.0, 34.1]\n",
      "    high_data = [33.1, 33.3, 33.6, 33.2, 34.8]\n",
      "    low_data = [32.7, 32.7, 32.8, 32.6, 32.8]\n",
      "    close_data = [33.0, 32.9, 33.3, 33.1, 33.1]\n",
      "    dates = [datetime(year=2013, month=10, day=10),\n",
      "             datetime(year=2013, month=11, day=10),\n",
      "             datetime(year=2013, month=12, day=10),\n",
      "             datetime(year=2014, month=1, day=10),\n",
      "             datetime(year=2014, month=2, day=10)]\n",
      "    \n",
      "    # Create ohlc\n",
      "    fig = FF.create_ohlc(open_data, high_data,\n",
      "        low_data, close_data, dates=dates)\n",
      "    \n",
      "    py.iplot(fig, filename='finance/simple-ohlc', validate=False)\n",
      "    ```\n",
      "\n"
     ]
    }
   ],
   "source": [
    "help(FF.create_ohlc)"
   ]
  },
  {
   "cell_type": "code",
   "execution_count": 10,
   "metadata": {
    "collapsed": false
   },
   "outputs": [
    {
     "data": {
      "text/html": [
       "<link href=\"//fonts.googleapis.com/css?family=Open+Sans:600,400,300,200|Inconsolata|Ubuntu+Mono:400,700\" rel=\"stylesheet\" type=\"text/css\" />"
      ],
      "text/plain": [
       "<IPython.core.display.HTML object>"
      ]
     },
     "metadata": {},
     "output_type": "display_data"
    },
    {
     "data": {
      "text/html": [
       "<link rel=\"stylesheet\" type=\"text/css\" href=\"http://help.plot.ly/documentation/all_static/css/ipython-notebook-custom.css\">"
      ],
      "text/plain": [
       "<IPython.core.display.HTML object>"
      ]
     },
     "metadata": {},
     "output_type": "display_data"
    },
    {
     "name": "stdout",
     "output_type": "stream",
     "text": [
      "\u001b[33mYou are using pip version 7.1.0, however version 7.1.2 is available.\n",
      "You should consider upgrading via the 'pip install --upgrade pip' command.\u001b[0m\n",
      "Requirement already up-to-date: publisher in /Users/Chelsea/venv2.7/lib/python2.7/site-packages\n"
     ]
    },
    {
     "name": "stderr",
     "output_type": "stream",
     "text": [
      "/Users/Chelsea/venv2.7/lib/python2.7/site-packages/publisher/publisher.py:53: UserWarning:\n",
      "\n",
      "Did you \"Save\" this notebook before running this command? Remember to save, always save.\n",
      "\n"
     ]
    }
   ],
   "source": [
    "from IPython.display import display, HTML\n",
    "\n",
    "display(HTML('<link href=\"//fonts.googleapis.com/css?family=Open+Sans:600,400,300,200|Inconsolata|Ubuntu+Mono:400,700\" rel=\"stylesheet\" type=\"text/css\" />'))\n",
    "display(HTML('<link rel=\"stylesheet\" type=\"text/css\" href=\"http://help.plot.ly/documentation/all_static/css/ipython-notebook-custom.css\">'))\n",
    "\n",
    "! pip install publisher --upgrade\n",
    "import publisher\n",
    "publisher.publish(\n",
    "    'ohlc-charts.ipynb', 'pandas/ohlc-charts/', 'OHLC Charts',\n",
    "    'How to make interactive OHLC charts in Python with Plotly. '\n",
    "    'Six examples of OHLC charts with Pandas, time series, and yahoo finance data.',\n",
    "    title = 'Python OHLC Charts | plotly',\n",
    "    thumbnail='/images/ohlc.png', language='pandas',\n",
    "    page_type='example_index', has_thumbnail='true', display_as='chart_type', order=20)    "
   ]
  },
  {
   "cell_type": "code",
   "execution_count": null,
   "metadata": {
    "collapsed": true
   },
   "outputs": [],
   "source": []
  }
 ],
 "metadata": {
  "kernelspec": {
   "display_name": "Python 2",
   "language": "python",
   "name": "python2"
  },
  "language_info": {
   "codemirror_mode": {
    "name": "ipython",
    "version": 2
   },
   "file_extension": ".py",
   "mimetype": "text/x-python",
   "name": "python",
   "nbconvert_exporter": "python",
   "pygments_lexer": "ipython2",
   "version": "2.7.9"
  }
 },
 "nbformat": 4,
 "nbformat_minor": 0
}
