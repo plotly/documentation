{
 "cells": [
  {
   "cell_type": "markdown",
   "metadata": {},
   "source": [
    "#### New to Plotly?\n",
    "Plotly's Python library is free and open source! [Get started](https://plot.ly/python/getting-started/) by dowloading the client and [reading the primer](https://plot.ly/python/getting-started/).\n",
    "<br>You can set up Plotly to work in [online](https://plot.ly/python/getting-started/#initialization-for-online-plotting) or [offline](https://plot.ly/python/getting-started/#initialization-for-offline-plotting) mode, or in [jupyter notebooks](https://plot.ly/python/getting-started/#start-plotting-online).\n",
    "<br>We also have a quick-reference [cheatsheet](https://images.plot.ly/plotly-documentation/images/python_cheat_sheet.pdf) (new!) to help you get started!"
   ]
  },
  {
   "cell_type": "markdown",
   "metadata": {},
   "source": [
    "#### Version Check\n",
    "Note: Gantt Charts are available in version <b>1.12.2+</b><br>\n",
    "Run  `pip install plotly --upgrade` to update your Plotly version"
   ]
  },
  {
   "cell_type": "code",
   "execution_count": 1,
   "metadata": {
    "collapsed": false
   },
   "outputs": [
    {
     "data": {
      "text/plain": [
       "'1.12.2'"
      ]
     },
     "execution_count": 1,
     "metadata": {},
     "output_type": "execute_result"
    }
   ],
   "source": [
    "import plotly\n",
    "plotly.__version__"
   ]
  },
  {
   "cell_type": "markdown",
   "metadata": {},
   "source": [
    "#### Simple Gantt Chart"
   ]
  },
  {
   "cell_type": "code",
   "execution_count": 2,
   "metadata": {
    "collapsed": false
   },
   "outputs": [
    {
     "data": {
      "text/html": [
       "<iframe id=\"igraph\" scrolling=\"no\" style=\"border:none;\" seamless=\"seamless\" src=\"https://plot.ly/~AdamKulidjian/329.embed\" height=\"600px\" width=\"900px\"></iframe>"
      ],
      "text/plain": [
       "<plotly.tools.PlotlyDisplay object>"
      ]
     },
     "execution_count": 2,
     "metadata": {},
     "output_type": "execute_result"
    }
   ],
   "source": [
    "import plotly.plotly as py\n",
    "from plotly.tools import FigureFactory as FF\n",
    "\n",
    "df = [dict(Task=\"Job A\", Start='2009-01-01', Finish='2009-02-30'),\n",
    "      dict(Task=\"Job B\", Start='2009-03-05', Finish='2009-04-15'),\n",
    "      dict(Task=\"Job C\", Start='2009-02-20', Finish='2009-05-30')]\n",
    "\n",
    "fig = FF.create_gantt(df)\n",
    "py.iplot(fig, filename='Simple Gantt Chart', world_readable=True)"
   ]
  },
  {
   "cell_type": "markdown",
   "metadata": {},
   "source": [
    "#### Index by Numeric Variable"
   ]
  },
  {
   "cell_type": "code",
   "execution_count": 1,
   "metadata": {
    "collapsed": false
   },
   "outputs": [
    {
     "data": {
      "text/html": [
       "<iframe id=\"igraph\" scrolling=\"no\" style=\"border:none;\" seamless=\"seamless\" src=\"https://plot.ly/~AdamKulidjian/341.embed\" height=\"600px\" width=\"900px\"></iframe>"
      ],
      "text/plain": [
       "<plotly.tools.PlotlyDisplay object>"
      ]
     },
     "execution_count": 1,
     "metadata": {},
     "output_type": "execute_result"
    }
   ],
   "source": [
    "import plotly.plotly as py\n",
    "from plotly.tools import FigureFactory as FF\n",
    "\n",
    "df = [dict(Task=\"Job A\", Start='2009-01-01', Finish='2009-02-30', Complete=10),\n",
    "      dict(Task=\"Job B\", Start='2008-12-05', Finish='2009-04-15', Complete=60),\n",
    "      dict(Task=\"Job C\", Start='2009-02-20', Finish='2009-05-30', Complete=95)]\n",
    "\n",
    "fig = FF.create_gantt(df, colors='Viridis', index_col='Complete', show_colorbar=True)\n",
    "py.iplot(fig, filename='Numeric Variable', world_readable=True)"
   ]
  },
  {
   "cell_type": "markdown",
   "metadata": {},
   "source": [
    "#### Index by String Variable"
   ]
  },
  {
   "cell_type": "code",
   "execution_count": 2,
   "metadata": {
    "collapsed": false
   },
   "outputs": [
    {
     "data": {
      "text/html": [
       "<iframe id=\"igraph\" scrolling=\"no\" style=\"border:none;\" seamless=\"seamless\" src=\"https://plot.ly/~AdamKulidjian/343.embed\" height=\"600px\" width=\"900px\"></iframe>"
      ],
      "text/plain": [
       "<plotly.tools.PlotlyDisplay object>"
      ]
     },
     "execution_count": 2,
     "metadata": {},
     "output_type": "execute_result"
    }
   ],
   "source": [
    "import plotly.plotly as py\n",
    "from plotly.tools import FigureFactory as FF\n",
    "\n",
    "df = [dict(Task=\"Job A\", Start='2009-01-01', Finish='2009-02-01', Resource='Apple'),\n",
    "      dict(Task=\"Job B\", Start='2009-03-05', Finish='2009-04-15', Resource='Grape'),\n",
    "      dict(Task=\"Job C\", Start='2009-04-20', Finish='2009-09-30', Resource='Banana')]\n",
    "\n",
    "colors = ['#7a0504', (0.2, 0.7, 0.3), 'rgb(210, 60, 180)']\n",
    "\n",
    "fig = FF.create_gantt(df, colors=colors, index_col='Resource', reverse_colors=True, show_colorbar=True)\n",
    "py.iplot(fig, filename='String Variable', world_readable=True)"
   ]
  },
  {
   "cell_type": "markdown",
   "metadata": {},
   "source": [
    "#### Use a Dictionary for Colors"
   ]
  },
  {
   "cell_type": "code",
   "execution_count": 5,
   "metadata": {
    "collapsed": false
   },
   "outputs": [
    {
     "data": {
      "text/html": [
       "<iframe id=\"igraph\" scrolling=\"no\" style=\"border:none;\" seamless=\"seamless\" src=\"https://plot.ly/~AdamKulidjian/425.embed\" height=\"600px\" width=\"900px\"></iframe>"
      ],
      "text/plain": [
       "<plotly.tools.PlotlyDisplay object>"
      ]
     },
     "execution_count": 5,
     "metadata": {},
     "output_type": "execute_result"
    }
   ],
   "source": [
    "import plotly.plotly as py\n",
    "from plotly.tools import FigureFactory as FF\n",
    "\n",
    "df = [dict(Task=\"Job A\", Start='2016-01-01', Finish='2016-01-02', Resource='Apple'),\n",
    "      dict(Task=\"Job B\", Start='2016-01-02', Finish='2016-01-02 12:00:00', Resource='Grape'),\n",
    "      dict(Task=\"Job C\", Start='2016-01-02', Finish='2016-01-03', Resource='Banana')]\n",
    "\n",
    "colors = dict(Apple = 'rgb(220, 0, 0)',\n",
    "              Grape = 'rgb(170, 14, 200)',\n",
    "              Banana = (1, 0.9, 0.16))\n",
    "\n",
    "fig = FF.create_gantt(df, colors=colors, index_col='Resource', show_colorbar=True)\n",
    "py.iplot(fig, filename='Dictioanry Colors', world_readable=True)"
   ]
  },
  {
   "cell_type": "markdown",
   "metadata": {},
   "source": [
    "#### Use a Pandas Dataframe"
   ]
  },
  {
   "cell_type": "code",
   "execution_count": 14,
   "metadata": {
    "collapsed": false
   },
   "outputs": [
    {
     "data": {
      "text/html": [
       "<iframe id=\"igraph\" scrolling=\"no\" style=\"border:none;\" seamless=\"seamless\" src=\"https://plot.ly/~AdamKulidjian/345.embed\" height=\"600px\" width=\"900px\"></iframe>"
      ],
      "text/plain": [
       "<plotly.tools.PlotlyDisplay object>"
      ]
     },
     "execution_count": 14,
     "metadata": {},
     "output_type": "execute_result"
    }
   ],
   "source": [
    "import plotly.plotly as py\n",
    "from plotly.tools import FigureFactory as FF\n",
    "\n",
    "import pandas as pd\n",
    "\n",
    "df = pd.read_csv('https://raw.githubusercontent.com/plotly/datasets/master/gantt_example.csv')\n",
    "\n",
    "fig = FF.create_gantt(df, colors=['#333F44', '#93e4c1'], index_col='Complete', show_colorbar=True,\n",
    "                      bar_width=0.2, showgrid_x=True, showgrid_y=True)\n",
    "py.iplot(fig, filename='Use a Pandas Dataframe', world_readable=True)"
   ]
  },
  {
   "cell_type": "markdown",
   "metadata": {},
   "source": [
    "#### Reference\n",
    "For info on Plotly Range Slider and Selector, see: https://plot.ly/python/reference/#layout-xaxis-rangeselector."
   ]
  },
  {
   "cell_type": "code",
   "execution_count": 12,
   "metadata": {
    "collapsed": false
   },
   "outputs": [
    {
     "name": "stdout",
     "output_type": "stream",
     "text": [
      "Help on function create_gantt in module plotly.tools:\n",
      "\n",
      "create_gantt(df, colors=None, index_col=None, show_colorbar=False, reverse_colors=False, title='Gantt Chart', bar_width=0.2, showgrid_x=False, showgrid_y=False, height=600, width=900, tasks=None, task_names=None, data=None)\n",
      "    Returns figure for a gantt chart\n",
      "    \n",
      "    :param (array|list) df: input data for gantt chart. Must be either a\n",
      "        a dataframe or a list. If dataframe, the columns must include\n",
      "        'Task', 'Start' and 'Finish'. Other columns can be included and\n",
      "        used for indexing. If a list, its elements must be dictionaries\n",
      "        with the same required column headers: 'Task', 'Start' and\n",
      "        'Finish'.\n",
      "    :param (str|list|dict|tuple) colors: either a plotly scale name, an\n",
      "        rgb or hex color, a color tuple or a list of colors. An rgb color\n",
      "        is of the form 'rgb(x, y, z)' where x, y, z belong to the interval\n",
      "        [0, 255] and a color tuple is a tuple of the form (a, b, c) where\n",
      "        a, b and c belong to [0, 1]. If colors is a list, it must\n",
      "        contain the valid color types aforementioned as its members.\n",
      "        If a dictionary, all values of the indexing column must be keys in\n",
      "        colors.\n",
      "    :param (str|float) index_col: the column header (if df is a data\n",
      "        frame) that will function as the indexing column. If df is a list,\n",
      "        index_col must be one of the keys in all the items of df.\n",
      "    :param (bool) show_colorbar: determines if colorbar will be visible.\n",
      "        Only applies if values in the index column are numeric.\n",
      "    :param (bool) reverse_colors: reverses the order of selected colors\n",
      "    :param (str) title: the title of the chart\n",
      "    :param (float) bar_width: the width of the horizontal bars in the plot\n",
      "    :param (bool) showgrid_x: show/hide the x-axis grid\n",
      "    :param (bool) showgrid_y: show/hide the y-axis grid\n",
      "    :param (float) height: the height of the chart\n",
      "    :param (float) width: the width of the chart\n",
      "    \n",
      "    Example 1: Simple Gantt Chart\n",
      "    ```\n",
      "    import plotly.plotly as py\n",
      "    from plotly.tools import FigureFactory as FF\n",
      "    \n",
      "    # Make data for chart\n",
      "    df = [dict(Task=\"Job A\", Start='2009-01-01', Finish='2009-02-30'),\n",
      "          dict(Task=\"Job B\", Start='2009-03-05', Finish='2009-04-15'),\n",
      "          dict(Task=\"Job C\", Start='2009-02-20', Finish='2009-05-30')]\n",
      "    \n",
      "    # Create a figure\n",
      "    fig = FF.create_gantt(df)\n",
      "    \n",
      "    # Plot the data\n",
      "    py.iplot(fig, filename='Simple Gantt Chart', world_readable=True)\n",
      "    ```\n",
      "    \n",
      "    Example 2: Index by Column with Numerical Entries\n",
      "    ```\n",
      "    import plotly.plotly as py\n",
      "    from plotly.tools import FigureFactory as FF\n",
      "    \n",
      "    # Make data for chart\n",
      "    df = [dict(Task=\"Job A\", Start='2009-01-01',\n",
      "               Finish='2009-02-30', Complete=10),\n",
      "          dict(Task=\"Job B\", Start='2009-03-05',\n",
      "               Finish='2009-04-15', Complete=60),\n",
      "          dict(Task=\"Job C\", Start='2009-02-20',\n",
      "               Finish='2009-05-30', Complete=95)]\n",
      "    \n",
      "    # Create a figure with Plotly colorscale\n",
      "    fig = FF.create_gantt(df, colors='Blues', index_col='Complete',\n",
      "                          show_colorbar=True, bar_width=0.5,\n",
      "                          showgrid_x=True, showgrid_y=True)\n",
      "    \n",
      "    # Plot the data\n",
      "    py.iplot(fig, filename='Numerical Entries', world_readable=True)\n",
      "    ```\n",
      "    \n",
      "    Example 3: Index by Column with String Entries\n",
      "    ```\n",
      "    import plotly.plotly as py\n",
      "    from plotly.tools import FigureFactory as FF\n",
      "    \n",
      "    # Make data for chart\n",
      "    df = [dict(Task=\"Job A\", Start='2009-01-01',\n",
      "               Finish='2009-02-30', Resource='Apple'),\n",
      "          dict(Task=\"Job B\", Start='2009-03-05',\n",
      "               Finish='2009-04-15', Resource='Grape'),\n",
      "          dict(Task=\"Job C\", Start='2009-02-20',\n",
      "               Finish='2009-05-30', Resource='Banana')]\n",
      "    \n",
      "    # Create a figure with Plotly colorscale\n",
      "    fig = FF.create_gantt(df, colors=['rgb(200, 50, 25)',\n",
      "                                      (1, 0, 1),\n",
      "                                      '#6c4774'],\n",
      "                          index_col='Resource',\n",
      "                          reverse_colors=True,\n",
      "                          show_colorbar=True)\n",
      "    \n",
      "    # Plot the data\n",
      "    py.iplot(fig, filename='String Entries', world_readable=True)\n",
      "    ```\n",
      "    \n",
      "    Example 4: Use a dictionary for colors\n",
      "    ```\n",
      "    import plotly.plotly as py\n",
      "    from plotly.tools import FigureFactory as FF\n",
      "    \n",
      "    # Make data for chart\n",
      "    df = [dict(Task=\"Job A\", Start='2009-01-01',\n",
      "               Finish='2009-02-30', Resource='Apple'),\n",
      "          dict(Task=\"Job B\", Start='2009-03-05',\n",
      "               Finish='2009-04-15', Resource='Grape'),\n",
      "          dict(Task=\"Job C\", Start='2009-02-20',\n",
      "               Finish='2009-05-30', Resource='Banana')]\n",
      "    \n",
      "    # Make a dictionary of colors\n",
      "    colors = {'Apple': 'rgb(255, 0, 0)',\n",
      "              'Grape': 'rgb(170, 14, 200)',\n",
      "              'Banana': (1, 1, 0.2)}\n",
      "    \n",
      "    # Create a figure with Plotly colorscale\n",
      "    fig = FF.create_gantt(df, colors=colors,\n",
      "                          index_col='Resource',\n",
      "                          show_colorbar=True)\n",
      "    \n",
      "    # Plot the data\n",
      "    py.iplot(fig, filename='dictioanry colors', world_readable=True)\n",
      "    ```\n",
      "    \n",
      "    Example 5: Use a pandas dataframe\n",
      "    ```\n",
      "    import plotly.plotly as py\n",
      "    from plotly.tools import FigureFactory as FF\n",
      "    \n",
      "    import pandas as pd\n",
      "    \n",
      "    # Make data as a dataframe\n",
      "    df = pd.DataFrame([['Run', '2010-01-01', '2011-02-02', 10],\n",
      "                       ['Fast', '2011-01-01', '2012-06-05', 55],\n",
      "                       ['Eat', '2012-01-05', '2013-07-05', 94]],\n",
      "                      columns=['Task', 'Start', 'Finish', 'Complete'])\n",
      "    \n",
      "    # Create a figure with Plotly colorscale\n",
      "    fig = FF.create_gantt(df, colors='Blues', index_col='Complete',\n",
      "                          show_colorbar=True, bar_width=0.5,\n",
      "                          showgrid_x=True, showgrid_y=True)\n",
      "    \n",
      "    # Plot the data\n",
      "    py.iplot(fig, filename='data with dataframe', world_readable=True)\n",
      "    ```\n",
      "\n"
     ]
    }
   ],
   "source": [
    "help(FF.create_gantt)"
   ]
  },
  {
   "cell_type": "code",
   "execution_count": null,
   "metadata": {
    "collapsed": false
   },
   "outputs": [
    {
     "data": {
      "text/html": [
       "<link href=\"//fonts.googleapis.com/css?family=Open+Sans:600,400,300,200|Inconsolata|Ubuntu+Mono:400,700\" rel=\"stylesheet\" type=\"text/css\" />"
      ],
      "text/plain": [
       "<IPython.core.display.HTML object>"
      ]
     },
     "metadata": {},
     "output_type": "display_data"
    },
    {
     "data": {
      "text/html": [
       "<link rel=\"stylesheet\" type=\"text/css\" href=\"http://help.plot.ly/documentation/all_static/css/ipython-notebook-custom.css\">"
      ],
      "text/plain": [
       "<IPython.core.display.HTML object>"
      ]
     },
     "metadata": {},
     "output_type": "display_data"
    },
    {
     "name": "stdout",
     "output_type": "stream",
     "text": [
      "Collecting git+https://github.com/plotly/publisher.git\r\n",
      "  Cloning https://github.com/plotly/publisher.git to /var/folders/tc/bs9g6vrd36q74m5t8h9cgphh0000gn/T/pip-B1CJpj-build\r\n"
     ]
    }
   ],
   "source": [
    "from IPython.display import display, HTML\n",
    "\n",
    "display(HTML('<link href=\"//fonts.googleapis.com/css?family=Open+Sans:600,400,300,200|Inconsolata|Ubuntu+Mono:400,700\" rel=\"stylesheet\" type=\"text/css\" />'))\n",
    "display(HTML('<link rel=\"stylesheet\" type=\"text/css\" href=\"http://help.plot.ly/documentation/all_static/css/ipython-notebook-custom.css\">'))\n",
    "\n",
    "! pip install git+https://github.com/plotly/publisher.git --upgrade\n",
    "import publisher\n",
    "publisher.publish(\n",
    "    'gantt.ipynb', 'python/gantt/', 'Python Gantt Charts | plotly',\n",
    "    'How to make Gantt Charts in Python with Plotly. Gantt Charts use horizontal bars to represent the start and end times of tasks.',\n",
    "    title='Python Gantt Charts | plotly',\n",
    "    name='Gantt Charts',\n",
    "    thumbnail='thumbnail/gantt.jpg', language='python',\n",
    "    page_type='example_index', has_thumbnail='true', display_as='basic', order=5.5)"
   ]
  },
  {
   "cell_type": "code",
   "execution_count": null,
   "metadata": {
    "collapsed": true
   },
   "outputs": [],
   "source": []
  }
 ],
 "metadata": {
  "kernelspec": {
   "display_name": "Python 2",
   "language": "python",
   "name": "python2"
  },
  "language_info": {
   "codemirror_mode": {
    "name": "ipython",
    "version": 2
   },
   "file_extension": ".py",
   "mimetype": "text/x-python",
   "name": "python",
   "nbconvert_exporter": "python",
   "pygments_lexer": "ipython2",
   "version": "2.7.10"
  }
 },
 "nbformat": 4,
 "nbformat_minor": 0
}
