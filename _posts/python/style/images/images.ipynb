{
 "cells": [
  {
   "cell_type": "markdown",
   "metadata": {},
   "source": [
    "#### New to Plotly?\n",
    "Plotly's Python library is free and open source! [Get started](https://plot.ly/python/getting-started/) by downloading the client and [reading the primer](https://plot.ly/python/getting-started/).\n",
    "<br>You can set up Plotly to work in [online](https://plot.ly/python/getting-started/#initialization-for-online-plotting) or [offline](https://plot.ly/python/getting-started/#initialization-for-offline-plotting) mode, or in [jupyter notebooks](https://plot.ly/python/getting-started/#start-plotting-online).\n",
    "<br>We also have a quick-reference [cheatsheet](https://images.plot.ly/plotly-documentation/images/python_cheat_sheet.pdf) (new!) to help you get started!"
   ]
  },
  {
   "cell_type": "markdown",
   "metadata": {},
   "source": [
    "#### Add a Background Image"
   ]
  },
  {
   "cell_type": "code",
   "execution_count": 2,
   "metadata": {},
   "outputs": [
    {
     "data": {
      "text/html": [
       "<iframe id=\"igraph\" scrolling=\"no\" style=\"border:none;\" seamless=\"seamless\" src=\"https://plot.ly/~PythonPlotBot/2370.embed\" height=\"525px\" width=\"100%\"></iframe>"
      ],
      "text/plain": [
       "<plotly.tools.PlotlyDisplay object>"
      ]
     },
     "execution_count": 2,
     "metadata": {},
     "output_type": "execute_result"
    }
   ],
   "source": [
    "import plotly.plotly as py\n",
    "import plotly.graph_objs as go\n",
    "import numpy as np\n",
    "trace1= go.Scatter(x=[0,0.5,1,2,2.2],y=[1.23,2.5,0.42,3,1])\n",
    "layout= go.Layout(images= [dict(\n",
    "                  source= \"https://images.plot.ly/language-icons/api-home/python-logo.png\",\n",
    "                  xref= \"x\",\n",
    "                  yref= \"y\",\n",
    "                  x= 0,\n",
    "                  y= 3,\n",
    "                  sizex= 2,\n",
    "                  sizey= 2,\n",
    "                  sizing= \"stretch\",\n",
    "                  opacity= 0.5,\n",
    "                  layer= \"below\")])\n",
    "fig=go.Figure(data=[trace1],layout=layout)\n",
    "py.iplot(fig)"
   ]
  },
  {
   "cell_type": "markdown",
   "metadata": {},
   "source": [
    "#### Add a Logo\n",
    "See more examples of [adding logos to charts](https://plot.ly/python/logos/)!"
   ]
  },
  {
   "cell_type": "code",
   "execution_count": 3,
   "metadata": {},
   "outputs": [
    {
     "data": {
      "text/html": [
       "<iframe id=\"igraph\" scrolling=\"no\" style=\"border:none;\" seamless=\"seamless\" src=\"https://plot.ly/~PythonPlotBot/2372.embed\" height=\"800px\" width=\"700px\"></iframe>"
      ],
      "text/plain": [
       "<plotly.tools.PlotlyDisplay object>"
      ]
     },
     "execution_count": 3,
     "metadata": {},
     "output_type": "execute_result"
    }
   ],
   "source": [
    "import plotly.plotly as py\n",
    "from plotly.graph_objs import *\n",
    "\n",
    "data = Data([\n",
    "    Bar(\n",
    "        x=['-35.3', '-15.9', '-15.8', '-15.6', '-11.1',\n",
    "           '-9.6', '-9.2', '-3.5', '-1.9', '-0.9',\n",
    "           '1.0', '1.4', '1.7', '2.0', '2.8', '6.2',\n",
    "           '8.1', '8.5', '8.5', '8.6', '11.4', '12.5',\n",
    "           '13.3', '13.7', '14.4', '17.5', '17.7',\n",
    "           '18.9', '25.1', '28.9', '41.4'],\n",
    "        y=['Designers, musicians, artists, etc.',\n",
    "           'Secretaries and administrative assistants',\n",
    "           'Waiters and servers', 'Archivists, curators, and librarians',\n",
    "           'Sales and related', 'Childcare workers, home car workers, etc.',\n",
    "           'Food preparation occupations', 'Janitors, maids, etc.',\n",
    "           'Healthcare technicians, assistants. and aides',\n",
    "           'Counselors, social and religious workers',\n",
    "           'Physical, life and social scientists', 'Construction',\n",
    "           'Factory assembly workers', 'Machinists, repairmen, etc.',\n",
    "           'Media and communications workers', 'Teachers',\n",
    "           'Mechanics, repairmen, etc.', 'Financial analysts and advisers',\n",
    "           'Farming, fishing and forestry workers',\n",
    "           'Truck drivers, heavy equipment operator, etc.','Accountants and auditors',\n",
    "           'Human resources, management analysts, etc.', 'Managers',\n",
    "           'Lawyers and judges', 'Engineers, architects and surveyors',\n",
    "           'Nurses', 'Legal support workers',\n",
    "           'Computer programmers and system admin.', 'Police officers and firefighters',\n",
    "           'Chief executives', 'Doctors, dentists and surgeons'],\n",
    "        marker=Marker(\n",
    "            color='rgb(253, 240, 54)',\n",
    "            line=Line(color='rgb(0, 0, 0)',\n",
    "                      width=2)\n",
    "        ),\n",
    "        orientation='h',\n",
    "    )\n",
    "])\n",
    "\n",
    "layout = Layout(\n",
    "    images=[dict(\n",
    "        source=\"https://raw.githubusercontent.com/cldougl/plot_images/add_r_img/vox.png\",\n",
    "        xref=\"paper\", yref=\"paper\",\n",
    "        x=1, y=1.05,\n",
    "        sizex=0.2, sizey=0.2,\n",
    "        xanchor=\"right\", yanchor=\"bottom\"\n",
    "      )],\n",
    "    autosize=False, height=800, width=700,\n",
    "    bargap=0.15, bargroupgap=0.1,\n",
    "    barmode='stack', hovermode='x',\n",
    "    margin=Margin(r=20, l=300,\n",
    "                  b=75, t=125),\n",
    "    title='Moving Up, Moving Down<br><i>Percentile change in income between childhood and adulthood</i>',\n",
    "    xaxis=XAxis(\n",
    "        autotick=False, dtick=10, nticks=0,\n",
    "        gridcolor='rgba(102, 102, 102, 0.4)',\n",
    "        linecolor='#000', linewidth=1,\n",
    "        mirror=True,\n",
    "        showticklabels=True, tick0=0, tickwidth=1,\n",
    "        title='<i>Change in percentile</i>',\n",
    "    ),\n",
    "    yaxis=YAxis(\n",
    "        anchor='x', autotick=False,\n",
    "        gridcolor='rgba(102, 102, 102, 0.4)', gridwidth=1,\n",
    "        linecolor='#000', linewidth=1,\n",
    "        mirror=True, showgrid=False,\n",
    "        showline=True, zeroline=False,\n",
    "        showticklabels=True, tick0=0,\n",
    "        type='category',\n",
    "    )\n",
    ")\n",
    "fig = Figure(data=data, layout=layout)\n",
    "py.iplot(fig)"
   ]
  },
  {
   "cell_type": "markdown",
   "metadata": {},
   "source": [
    "#### Add Multiple Images "
   ]
  },
  {
   "cell_type": "code",
   "execution_count": 4,
   "metadata": {},
   "outputs": [
    {
     "data": {
      "text/html": [
       "<iframe id=\"igraph\" scrolling=\"no\" style=\"border:none;\" seamless=\"seamless\" src=\"https://plot.ly/~PythonPlotBot/2374.embed\" height=\"525px\" width=\"100%\"></iframe>"
      ],
      "text/plain": [
       "<plotly.tools.PlotlyDisplay object>"
      ]
     },
     "execution_count": 4,
     "metadata": {},
     "output_type": "execute_result"
    }
   ],
   "source": [
    "import plotly.plotly as py\n",
    "import plotly.graph_objs as go\n",
    "import numpy as np\n",
    "trace1= go.Scatter(x=[0,0.5,1,2,2.2],y=[1.23,2.5,0.42,3,1])\n",
    "layout= go.Layout(images= [dict(\n",
    "        source= \"https://images.plot.ly/language-icons/api-home/python-logo.png\",\n",
    "        xref= \"paper\",\n",
    "        yref= \"paper\",\n",
    "        x= 0,\n",
    "        y= 1,\n",
    "        sizex= 0.2,\n",
    "        sizey= 0.2,\n",
    "        xanchor= \"right\",\n",
    "        yanchor= \"bottom\"\n",
    "      ),dict(\n",
    "        source= \"https://images.plot.ly/language-icons/api-home/js-logo.png\",\n",
    "        xref=\"x\",\n",
    "        yref= \"y\",\n",
    "        x= 1.5,\n",
    "        y= 2,\n",
    "        sizex= 1,\n",
    "        sizey= 1,\n",
    "        xanchor= \"right\",\n",
    "        yanchor= \"bottom\"\n",
    "      ),\n",
    "      dict(\n",
    "        source= \"https://images.plot.ly/language-icons/api-home/r-logo.png\",\n",
    "        xref= \"x\",\n",
    "        yref= \"y\",\n",
    "        x= 2,\n",
    "        y= 1,\n",
    "        sizex= 0.3,\n",
    "        sizey= 0.5,\n",
    "        sizing= \"stretch\",\n",
    "        opacity= 0.4,\n",
    "        layer= \"below\"\n",
    "      ),\n",
    "      dict(\n",
    "        source= \"https://images.plot.ly/language-icons/api-home/matlab-logo.png\",\n",
    "        xref= \"x\",\n",
    "        yref= \"paper\",\n",
    "        x= 3,\n",
    "        y= 0,\n",
    "        sizex= 0.5,\n",
    "        sizey= 1,\n",
    "        opacity= 1,\n",
    "        xanchor= \"right\",\n",
    "        yanchor=\"middle\"\n",
    "      )])\n",
    "fig=go.Figure(data=[trace1],layout=layout)\n",
    "py.iplot(fig)"
   ]
  },
  {
   "cell_type": "markdown",
   "metadata": {},
   "source": [
    "#### Reference\n",
    "See https://plot.ly/python/reference/#layout-images for more information and chart attribute options!"
   ]
  },
  {
   "cell_type": "code",
   "execution_count": 5,
   "metadata": {
    "scrolled": true
   },
   "outputs": [
    {
     "data": {
      "text/html": [
       "<link href=\"//fonts.googleapis.com/css?family=Open+Sans:600,400,300,200|Inconsolata|Ubuntu+Mono:400,700\" rel=\"stylesheet\" type=\"text/css\" />"
      ],
      "text/plain": [
       "<IPython.core.display.HTML object>"
      ]
     },
     "metadata": {},
     "output_type": "display_data"
    },
    {
     "data": {
      "text/html": [
       "<link rel=\"stylesheet\" type=\"text/css\" href=\"http://help.plot.ly/documentation/all_static/css/ipython-notebook-custom.css\">"
      ],
      "text/plain": [
       "<IPython.core.display.HTML object>"
      ]
     },
     "metadata": {},
     "output_type": "display_data"
    },
    {
     "name": "stdout",
     "output_type": "stream",
     "text": [
      "Collecting git+https://github.com/plotly/publisher.git\n",
      "  Cloning https://github.com/plotly/publisher.git to c:\\users\\branden\\appdata\\local\\temp\\pip-0h0md1ps-build\n",
      "Installing collected packages: publisher\n",
      "  Found existing installation: publisher 0.10\n",
      "    Uninstalling publisher-0.10:\n",
      "      Successfully uninstalled publisher-0.10\n",
      "  Running setup.py install for publisher: started\n",
      "    Running setup.py install for publisher: finished with status 'done'\n",
      "Successfully installed publisher-0.10\n"
     ]
    },
    {
     "name": "stderr",
     "output_type": "stream",
     "text": [
      "C:\\Users\\Branden\\Anaconda3\\envs\\ipykernel_py2\\lib\\site-packages\\IPython\\nbconvert.py:13: ShimWarning:\n",
      "\n",
      "The `IPython.nbconvert` package has been deprecated. You should import from nbconvert instead.\n",
      "\n",
      "C:\\Users\\Branden\\Anaconda3\\envs\\ipykernel_py2\\lib\\site-packages\\publisher\\publisher.py:53: UserWarning:\n",
      "\n",
      "Did you \"Save\" this notebook before running this command? Remember to save, always save.\n",
      "\n"
     ]
    }
   ],
   "source": [
    "from IPython.display import display, HTML\n",
    "\n",
    "display(HTML('<link href=\"//fonts.googleapis.com/css?family=Open+Sans:600,400,300,200|Inconsolata|Ubuntu+Mono:400,700\" rel=\"stylesheet\" type=\"text/css\" />'))\n",
    "display(HTML('<link rel=\"stylesheet\" type=\"text/css\" href=\"http://help.plot.ly/documentation/all_static/css/ipython-notebook-custom.css\">'))\n",
    "\n",
    "! pip install git+https://github.com/plotly/publisher.git --upgrade\n",
    "import publisher\n",
    "publisher.publish(\n",
    "    'images.ipynb', 'python/images/', 'Layout with images | plotly',\n",
    "    'How to add images to charts as background images or logos.',\n",
    "    title = 'Layout with images | plotly',\n",
    "    name = 'Images',\n",
    "    has_thumbnail='true', thumbnail='thumbnail/your-tutorial-chart.jpg', \n",
    "    language='python', page_type='example_index',\n",
    "    display_as='style_opt', order=4,\n",
    "    ipynb= '~notebook_demo/93')  "
   ]
  },
  {
   "cell_type": "code",
   "execution_count": null,
   "metadata": {
    "collapsed": true
   },
   "outputs": [],
   "source": []
  }
 ],
 "metadata": {
  "anaconda-cloud": {},
  "kernelspec": {
   "display_name": "Python 2",
   "language": "python",
   "name": "python2"
  },
  "language_info": {
   "codemirror_mode": {
    "name": "ipython",
    "version": 2
   },
   "file_extension": ".py",
   "mimetype": "text/x-python",
   "name": "python",
   "nbconvert_exporter": "python",
   "pygments_lexer": "ipython2",
   "version": "2.7.12"
  }
 },
 "nbformat": 4,
 "nbformat_minor": 1
}
