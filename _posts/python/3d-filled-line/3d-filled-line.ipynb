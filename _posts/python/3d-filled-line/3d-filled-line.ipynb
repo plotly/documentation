{
 "cells": [
  {
   "cell_type": "markdown",
   "metadata": {},
   "source": [
    "#### New to Plotly?\n",
    "Plotly's Python library is free and open source! [Get started](https://plot.ly/python/getting-started/) by downloading the client and [reading the primer](https://plot.ly/python/getting-started/).\n",
    "<br>You can set up Plotly to work in [online](https://plot.ly/python/getting-started/#initialization-for-online-plotting) or [offline](https://plot.ly/python/getting-started/#initialization-for-offline-plotting) mode, or in [jupyter notebooks](https://plot.ly/python/getting-started/#start-plotting-online).\n",
    "<br>We also have a quick-reference [cheatsheet](https://images.plot.ly/plotly-documentation/images/python_cheat_sheet.pdf) (new!) to help you get started!"
   ]
  },
  {
   "cell_type": "markdown",
   "metadata": {},
   "source": [
    "#### Basic Filled Line Plot"
   ]
  },
  {
   "cell_type": "code",
   "execution_count": 3,
   "metadata": {
    "collapsed": false
   },
   "outputs": [
    {
     "data": {
      "text/html": [
       "<iframe id=\"igraph\" scrolling=\"no\" style=\"border:none;\" seamless=\"seamless\" src=\"https://plot.ly/~demo_account/109.embed\" height=\"525px\" width=\"100%\"></iframe>"
      ],
      "text/plain": [
       "<plotly.tools.PlotlyDisplay object>"
      ]
     },
     "execution_count": 3,
     "metadata": {},
     "output_type": "execute_result"
    }
   ],
   "source": [
    "import plotly.plotly as py\n",
    "import pandas as pd\n",
    "\n",
    "# The datasets' url. Thanks Jennifer Bryan!\n",
    "url_csv = 'http://www.stat.ubc.ca/~jenny/notOcto/STAT545A/examples/gapminder/data/gapminderDataFiveYear.txt'\n",
    "\n",
    "df = pd.read_csv(url_csv, sep='\\t')\n",
    "df.head()\n",
    "\n",
    "countries = ['China', 'India', 'United States', 'Bangladesh', 'South Africa']\n",
    "fill_colors = ['#66c2a5', '#fc8d62', '#8da0cb', '#e78ac3', '#a6d854']\n",
    "gf = df.groupby('country')\n",
    "\n",
    "data = []\n",
    "\n",
    "for country, fill_color in zip(countries[::-1], fill_colors):\n",
    "    group = gf.get_group(country)\n",
    "    years = group['year'].tolist()\n",
    "    length = len(years)\n",
    "    country_coords = [country] * length\n",
    "    pop = group['pop'].tolist()\n",
    "    zeros = [0] * length\n",
    "    \n",
    "    data.append(dict(\n",
    "        type='scatter3d',\n",
    "        mode='lines',\n",
    "        x=years + years[::-1] + [years[0]],  # year loop: in incr. order then in decr. order then years[0]\n",
    "        y=country_coords * 2 + [country_coords[0]],\n",
    "        z=pop + zeros + [pop[0]],\n",
    "        name='',\n",
    "        surfaceaxis=1, # add a surface axis ('1' refers to axes[1] i.e. the y-axis)\n",
    "        surfacecolor=fill_color,\n",
    "        line=dict(\n",
    "            color='black',\n",
    "            width=4\n",
    "        ),\n",
    "    ))\n",
    "\n",
    "layout = dict(\n",
    "    title='Population from 1957 to 2007 [Gapminder]',\n",
    "    showlegend=False,\n",
    "    scene=dict(\n",
    "        xaxis=dict(title=''),\n",
    "        yaxis=dict(title=''),\n",
    "        zaxis=dict(title=''),\n",
    "        camera=dict(\n",
    "            eye=dict(x=-1.7, y=-1.7, z=0.5)\n",
    "        )\n",
    "    )\n",
    ")\n",
    "\n",
    "fig = dict(data=data, layout=layout)\n",
    "\n",
    "# IPython notebook\n",
    "# py.iplot(fig, filename='filled-3d-lines')\n",
    "\n",
    "py.iplot(fig, filename='filled-3d-lines')"
   ]
  },
  {
   "cell_type": "markdown",
   "metadata": {},
   "source": [
    "#### Reference"
   ]
  },
  {
   "cell_type": "markdown",
   "metadata": {},
   "source": [
    "See https://plot.ly/python/reference/ for more information!"
   ]
  },
  {
   "cell_type": "code",
   "execution_count": 2,
   "metadata": {
    "collapsed": false
   },
   "outputs": [
    {
     "data": {
      "text/html": [
       "<link href=\"//fonts.googleapis.com/css?family=Open+Sans:600,400,300,200|Inconsolata|Ubuntu+Mono:400,700\" rel=\"stylesheet\" type=\"text/css\" />"
      ],
      "text/plain": [
       "<IPython.core.display.HTML object>"
      ]
     },
     "metadata": {},
     "output_type": "display_data"
    },
    {
     "data": {
      "text/html": [
       "<link rel=\"stylesheet\" type=\"text/css\" href=\"http://help.plot.ly/documentation/all_static/css/ipython-notebook-custom.css\">"
      ],
      "text/plain": [
       "<IPython.core.display.HTML object>"
      ]
     },
     "metadata": {},
     "output_type": "display_data"
    },
    {
     "name": "stdout",
     "output_type": "stream",
     "text": [
      "Collecting git+https://github.com/plotly/publisher.git\n",
      "  Cloning https://github.com/plotly/publisher.git to /var/folders/j3/gt_q6y096cjfts4q8zq2dm2c0000gn/T/pip-CnFSNg-build\n",
      "Installing collected packages: publisher\n",
      "  Found existing installation: publisher 0.10\n",
      "    Uninstalling publisher-0.10:\n",
      "      Successfully uninstalled publisher-0.10\n",
      "  Running setup.py install for publisher\n",
      "Successfully installed publisher-0.10\n"
     ]
    }
   ],
   "source": [
    "from IPython.display import display, HTML\n",
    "\n",
    "display(HTML('<link href=\"//fonts.googleapis.com/css?family=Open+Sans:600,400,300,200|Inconsolata|Ubuntu+Mono:400,700\" rel=\"stylesheet\" type=\"text/css\" />'))\n",
    "display(HTML('<link rel=\"stylesheet\" type=\"text/css\" href=\"http://help.plot.ly/documentation/all_static/css/ipython-notebook-custom.css\">'))\n",
    "\n",
    "! pip install git+https://github.com/plotly/publisher.git --upgrade\n",
    "\n",
    "import publisher\n",
    "publisher.publish(\n",
    "    '3d-filled-line.ipynb', 'python/3d-filled-line-plots/', '3D Filled Line Plots in Python | plotly',\n",
    "    'How to make 3D Filled Line Plots in Python',\n",
    "    title = '3D Filled Line Plots in Python | plotly',\n",
    "    name = '3D Filled Line Plots',\n",
    "    has_thumbnail='true', thumbnail='thumbnail/3d-filled-line-plot.jpg', \n",
    "    language='python', page_type='example_index', \n",
    "    display_as='3d_charts', order=5)"
   ]
  },
  {
   "cell_type": "code",
   "execution_count": null,
   "metadata": {
    "collapsed": true
   },
   "outputs": [],
   "source": []
  }
 ],
 "metadata": {
  "kernelspec": {
   "display_name": "Python 2",
   "language": "python",
   "name": "python2"
  },
  "language_info": {
   "codemirror_mode": {
    "name": "ipython",
    "version": 2
   },
   "file_extension": ".py",
   "mimetype": "text/x-python",
   "name": "python",
   "nbconvert_exporter": "python",
   "pygments_lexer": "ipython2",
   "version": "2.7.9"
  }
 },
 "nbformat": 4,
 "nbformat_minor": 0
}
