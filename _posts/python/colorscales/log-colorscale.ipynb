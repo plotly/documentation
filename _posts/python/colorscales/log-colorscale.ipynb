{
 "cells": [
  {
   "cell_type": "markdown",
   "metadata": {},
   "source": [
    "#Logarithmic Colorscale\n",
    "Learn how to create a logarithmic [colorscale](https://plot.ly/python/heatmap-and-contour-colorscales/) for a plotly graph in python."
   ]
  },
  {
   "cell_type": "markdown",
   "metadata": {},
   "source": [
    "Learn about API authentication here: https://plot.ly/python/getting-started\n",
    "<br>Find your api_key here: https://plot.ly/settings/api"
   ]
  },
  {
   "cell_type": "code",
   "execution_count": 60,
   "metadata": {
    "collapsed": false
   },
   "outputs": [
    {
     "data": {
      "text/html": [
       "<iframe id=\"igraph\" scrolling=\"no\" style=\"border:none;\"seamless=\"seamless\" src=\"https://plot.ly/~chelsea_lyn/10861.embed\" height=\"525px\" width=\"100%\"></iframe>"
      ],
      "text/plain": [
       "<plotly.tools.PlotlyDisplay object>"
      ]
     },
     "execution_count": 60,
     "metadata": {},
     "output_type": "execute_result"
    }
   ],
   "source": [
    "import plotly.plotly as py\n",
    "import math\n",
    "\n",
    "data = [{\n",
    "    'z': [[10, 100.625, 1200.5, 150.625, 2000],\n",
    "           [5000.625, 60.25, 8.125, 100000, 150.625],\n",
    "           [2000.5, 300.125, 50., 8.125, 12.5],\n",
    "           [10.625, 1.25, 3.125, 6000.25, 100.625],\n",
    "           [0, 0.625, 2.5, 50000.625, 10]],\n",
    "    'type': 'heatmap',\n",
    "    'colorscale': [\n",
    "        [0, 'rgb(250, 250, 250)'],        #0\n",
    "        [1./10000, 'rgb(200, 200, 200)'], #10\n",
    "        [1./1000, 'rgb(150, 150, 150)'],  #100\n",
    "        [1./100, 'rgb(100, 100, 100)'],   #1000\n",
    "        [1./10, 'rgb(50, 50, 50)'],       #10000\n",
    "        [1., 'rgb(0, 0, 0)'],             #100000\n",
    "        \n",
    "    ],\n",
    "    'colorbar': {\n",
    "        'tick0': 0,\n",
    "        'tickmode': 'array',\n",
    "        'tickvals': [0, 1000, 10000, 100000]    \n",
    "    }\n",
    "    }] \n",
    "\n",
    "layout = {'title': 'Log Colorscale'}\n",
    "\n",
    "fig = {'data': data, 'layout': layout}\n",
    "\n",
    "py.iplot(fig, filename='docs/log-colorscale')"
   ]
  },
  {
   "cell_type": "markdown",
   "metadata": {},
   "source": [
    "##### For more information, check out our [python figure reference page!](https://plot.ly/python/reference/#heatmap-colorscale)"
   ]
  },
  {
   "cell_type": "code",
   "execution_count": 1,
   "metadata": {
    "collapsed": false
   },
   "outputs": [
    {
     "data": {
      "text/html": [
       "<link href=\"//fonts.googleapis.com/css?family=Open+Sans:600,400,300,200|Inconsolata|Ubuntu+Mono:400,700\" rel=\"stylesheet\" type=\"text/css\" />"
      ],
      "text/plain": [
       "<IPython.core.display.HTML object>"
      ]
     },
     "metadata": {},
     "output_type": "display_data"
    },
    {
     "data": {
      "text/html": [
       "<link rel=\"stylesheet\" type=\"text/css\" href=\"http://help.plot.ly/documentation/all_static/css/ipython-notebook-custom.css\">"
      ],
      "text/plain": [
       "<IPython.core.display.HTML object>"
      ]
     },
     "metadata": {},
     "output_type": "display_data"
    },
    {
     "name": "stdout",
     "output_type": "stream",
     "text": [
      "Requirement already up-to-date: publisher in /Library/Frameworks/Python.framework/Versions/2.7/lib/python2.7/site-packages\r\n"
     ]
    },
    {
     "name": "stderr",
     "output_type": "stream",
     "text": [
      "/Library/Frameworks/Python.framework/Versions/2.7/lib/python2.7/site-packages/IPython/nbconvert.py:13: ShimWarning: The `IPython.nbconvert` package has been deprecated. You should import from nbconvert instead.\n",
      "  \"You should import from nbconvert instead.\", ShimWarning)\n",
      "/Library/Frameworks/Python.framework/Versions/2.7/lib/python2.7/site-packages/publisher/publisher.py:53: UserWarning: Did you \"Save\" this notebook before running this command? Remember to save, always save.\n",
      "  warnings.warn('Did you \"Save\" this notebook before running this command? '\n"
     ]
    }
   ],
   "source": [
    "from IPython.display import display, HTML\n",
    "\n",
    "display(HTML('<link href=\"//fonts.googleapis.com/css?family=Open+Sans:600,400,300,200|Inconsolata|Ubuntu+Mono:400,700\" rel=\"stylesheet\" type=\"text/css\" />'))\n",
    "display(HTML('<link rel=\"stylesheet\" type=\"text/css\" href=\"http://help.plot.ly/documentation/all_static/css/ipython-notebook-custom.css\">'))\n",
    "\n",
    "! pip install publisher --upgrade\n",
    "import publisher\n",
    "publisher.publish(\n",
    "    'log-colorscale.ipynb', 'python/logarithmic-color-scale', 'Python Logarithmic Colorscale | plotly',\n",
    "    'How to make Tables in Python with Plotly.',\n",
    "    name = 'Logarithmic Colorscale',\n",
    "    thumbnail='thumbnail/colorbars.jpg', language='python',\n",
    "    page_type='example_index', has_thumbnail='true', display_as='scientific', order=22.5) "
   ]
  },
  {
   "cell_type": "code",
   "execution_count": null,
   "metadata": {
    "collapsed": true
   },
   "outputs": [],
   "source": []
  }
 ],
 "metadata": {
  "kernelspec": {
   "display_name": "Python 2",
   "language": "python",
   "name": "python2"
  },
  "language_info": {
   "codemirror_mode": {
    "name": "ipython",
    "version": 2
   },
   "file_extension": ".py",
   "mimetype": "text/x-python",
   "name": "python",
   "nbconvert_exporter": "python",
   "pygments_lexer": "ipython2",
   "version": "2.7.11"
  }
 },
 "nbformat": 4,
 "nbformat_minor": 0
}
