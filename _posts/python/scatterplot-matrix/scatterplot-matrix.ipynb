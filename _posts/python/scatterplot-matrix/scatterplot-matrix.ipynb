{
 "cells": [
  {
   "cell_type": "markdown",
   "metadata": {},
   "source": [
    "#### New to Plotly?\n",
    "Plotly's Python library is free and open source! [Get started](https://plot.ly/python/getting-started/) by downloading the client and [reading the primer](https://plot.ly/python/getting-started/).\n",
    "<br>You can set up Plotly to work in [online](https://plot.ly/python/getting-started/#initialization-for-online-plotting) or [offline](https://plot.ly/python/getting-started/#initialization-for-offline-plotting) mode, or in [jupyter notebooks](https://plot.ly/python/getting-started/#start-plotting-online).\n",
    "<br>We also have a quick-reference [cheatsheet](https://images.plot.ly/plotly-documentation/images/python_cheat_sheet.pdf) (new!) to help you get started!"
   ]
  },
  {
   "cell_type": "markdown",
   "metadata": {},
   "source": [
    "#### Version Check\n",
    "Note: Scatterplot Matrix is available in version <b>1.9.11+</b><br>\n",
    "Run  `pip install plotly --upgrade` to update your Plotly version"
   ]
  },
  {
   "cell_type": "code",
   "execution_count": 2,
   "metadata": {
    "collapsed": false
   },
   "outputs": [
    {
     "data": {
      "text/plain": [
       "'1.11.0'"
      ]
     },
     "execution_count": 2,
     "metadata": {},
     "output_type": "execute_result"
    }
   ],
   "source": [
    "import plotly\n",
    "plotly.__version__"
   ]
  },
  {
   "cell_type": "markdown",
   "metadata": {},
   "source": [
    "#### Basic Scatterplot Matrix"
   ]
  },
  {
   "cell_type": "code",
   "execution_count": 20,
   "metadata": {
    "collapsed": false
   },
   "outputs": [
    {
     "name": "stdout",
     "output_type": "stream",
     "text": [
      "This is the format of your plot grid:\n",
      "[ (1,1) x1,y1 ]  [ (1,2) x2,y2 ]\n",
      "[ (2,1) x3,y3 ]  [ (2,2) x4,y4 ]\n",
      "\n"
     ]
    },
    {
     "data": {
      "text/html": [
       "<iframe id=\"igraph\" scrolling=\"no\" style=\"border:none;\" seamless=\"seamless\" src=\"https://plot.ly/~AdamKulidjian/66.embed\" height=\"800px\" width=\"800px\"></iframe>"
      ],
      "text/plain": [
       "<plotly.tools.PlotlyDisplay object>"
      ]
     },
     "execution_count": 20,
     "metadata": {},
     "output_type": "execute_result"
    }
   ],
   "source": [
    "import plotly.plotly as py\n",
    "from plotly.tools import FigureFactory as FF\n",
    "\n",
    "import numpy as np\n",
    "import pandas as pd\n",
    "\n",
    "dataframe = pd.DataFrame(np.random.randn(10, 2),\n",
    "                         columns=['Column A', 'Column B'])\n",
    "\n",
    "fig = FF.create_scatterplotmatrix(dataframe, height=800, width=800)\n",
    "py.iplot(fig, filename='Basic Scatterplot Matrix')"
   ]
  },
  {
   "cell_type": "markdown",
   "metadata": {},
   "source": [
    "#### Index a Column"
   ]
  },
  {
   "cell_type": "code",
   "execution_count": 21,
   "metadata": {
    "collapsed": false
   },
   "outputs": [
    {
     "name": "stdout",
     "output_type": "stream",
     "text": [
      "This is the format of your plot grid:\n",
      "[ (1,1) x1,y1 ]  [ (1,2) x2,y2 ]\n",
      "[ (2,1) x3,y3 ]  [ (2,2) x4,y4 ]\n",
      "\n"
     ]
    },
    {
     "data": {
      "text/html": [
       "<iframe id=\"igraph\" scrolling=\"no\" style=\"border:none;\" seamless=\"seamless\" src=\"https://plot.ly/~AdamKulidjian/54.embed\" height=\"800px\" width=\"800px\"></iframe>"
      ],
      "text/plain": [
       "<plotly.tools.PlotlyDisplay object>"
      ]
     },
     "execution_count": 21,
     "metadata": {},
     "output_type": "execute_result"
    }
   ],
   "source": [
    "import plotly.plotly as py\n",
    "from plotly.tools import FigureFactory as FF\n",
    "\n",
    "import numpy as np\n",
    "import pandas as pd\n",
    "\n",
    "dataframe = pd.DataFrame(np.random.randn(10, 2),\n",
    "                         columns=['Column A', 'Column B'])\n",
    "\n",
    "dataframe['Fruit'] = pd.Series(['apple', 'apple', 'grape', 'apple', 'apple',\n",
    "                                'grape', 'pear', 'pear', 'apple', 'pear'])\n",
    "\n",
    "fig = FF.create_scatterplotmatrix(dataframe, index='Fruit', size=10, height=800, width=800)\n",
    "py.iplot(fig, filename = 'Index a Column')"
   ]
  },
  {
   "cell_type": "markdown",
   "metadata": {},
   "source": [
    "#### Box Plots along Diagonal"
   ]
  },
  {
   "cell_type": "code",
   "execution_count": 22,
   "metadata": {
    "collapsed": false
   },
   "outputs": [
    {
     "name": "stdout",
     "output_type": "stream",
     "text": [
      "This is the format of your plot grid:\n",
      "[ (1,1) x1,y1 ]    [ (1,2) x2,y2 ]    [ (1,3) x3,y3 ]    [ (1,4) x4,y4 ]  \n",
      "[ (2,1) x5,y5 ]    [ (2,2) x6,y6 ]    [ (2,3) x7,y7 ]    [ (2,4) x8,y8 ]  \n",
      "[ (3,1) x9,y9 ]    [ (3,2) x10,y10 ]  [ (3,3) x11,y11 ]  [ (3,4) x12,y12 ]\n",
      "[ (4,1) x13,y13 ]  [ (4,2) x14,y14 ]  [ (4,3) x15,y15 ]  [ (4,4) x16,y16 ]\n",
      "\n"
     ]
    },
    {
     "data": {
      "text/html": [
       "<iframe id=\"igraph\" scrolling=\"no\" style=\"border:none;\" seamless=\"seamless\" src=\"https://plot.ly/~AdamKulidjian/56.embed\" height=\"800px\" width=\"800px\"></iframe>"
      ],
      "text/plain": [
       "<plotly.tools.PlotlyDisplay object>"
      ]
     },
     "execution_count": 22,
     "metadata": {},
     "output_type": "execute_result"
    }
   ],
   "source": [
    "import plotly.plotly as py\n",
    "from plotly.tools import FigureFactory as FF\n",
    "\n",
    "import numpy as np\n",
    "import pandas as pd\n",
    "\n",
    "dataframe = pd.DataFrame(np.random.randn(10, 4),\n",
    "                         columns=['Column A', 'Column B', 'Column C', 'Column D'])\n",
    "\n",
    "dataframe['Fruit'] = pd.Series(['apple', 'apple', 'grape', 'apple', 'apple',\n",
    "                                'grape', 'pear', 'pear', 'apple', 'pear'])\n",
    "\n",
    "\n",
    "fig = FF.create_scatterplotmatrix(dataframe, diag='box', index='Fruit',\n",
    "                                  height=800, width=800)\n",
    "py.iplot(fig, filename='Box plots along Diagonal Subplots')"
   ]
  },
  {
   "cell_type": "markdown",
   "metadata": {},
   "source": [
    "#### Histograms along Diagonal"
   ]
  },
  {
   "cell_type": "code",
   "execution_count": 23,
   "metadata": {
    "collapsed": false
   },
   "outputs": [
    {
     "name": "stdout",
     "output_type": "stream",
     "text": [
      "This is the format of your plot grid:\n",
      "[ (1,1) x1,y1 ]    [ (1,2) x2,y2 ]    [ (1,3) x3,y3 ]    [ (1,4) x4,y4 ]  \n",
      "[ (2,1) x5,y5 ]    [ (2,2) x6,y6 ]    [ (2,3) x7,y7 ]    [ (2,4) x8,y8 ]  \n",
      "[ (3,1) x9,y9 ]    [ (3,2) x10,y10 ]  [ (3,3) x11,y11 ]  [ (3,4) x12,y12 ]\n",
      "[ (4,1) x13,y13 ]  [ (4,2) x14,y14 ]  [ (4,3) x15,y15 ]  [ (4,4) x16,y16 ]\n",
      "\n"
     ]
    },
    {
     "data": {
      "text/html": [
       "<iframe id=\"igraph\" scrolling=\"no\" style=\"border:none;\" seamless=\"seamless\" src=\"https://plot.ly/~AdamKulidjian/58.embed\" height=\"800px\" width=\"800px\"></iframe>"
      ],
      "text/plain": [
       "<plotly.tools.PlotlyDisplay object>"
      ]
     },
     "execution_count": 23,
     "metadata": {},
     "output_type": "execute_result"
    }
   ],
   "source": [
    "import plotly.plotly as py\n",
    "from plotly.tools import FigureFactory as FF\n",
    "\n",
    "import numpy as np\n",
    "import pandas as pd\n",
    "\n",
    "dataframe = pd.DataFrame(np.random.randn(20, 4),\n",
    "                         columns=['Column A', 'Column B', 'Column C', 'Column D'])\n",
    "\n",
    "dataframe['Fruit'] = pd.Series(['apple', 'apple', 'grape', 'apple', 'apple',\n",
    "                                'grape', 'pear', 'pear', 'apple', 'pear',\n",
    "                                'apple', 'apple', 'grape', 'apple', 'apple',\n",
    "                                'grape', 'pear', 'pear', 'apple', 'pear'])\n",
    "\n",
    "\n",
    "fig = FF.create_scatterplotmatrix(dataframe, diag='histogram', index='Fruit',\n",
    "                                  height=800, width=800)\n",
    "py.iplot(fig, filename='Histograms along Diagonal Subplots')"
   ]
  },
  {
   "cell_type": "markdown",
   "metadata": {},
   "source": [
    "#### Sequential Colormap"
   ]
  },
  {
   "cell_type": "code",
   "execution_count": 24,
   "metadata": {
    "collapsed": false
   },
   "outputs": [
    {
     "name": "stdout",
     "output_type": "stream",
     "text": [
      "This is the format of your plot grid:\n",
      "[ (1,1) x1,y1 ]  [ (1,2) x2,y2 ]\n",
      "[ (2,1) x3,y3 ]  [ (2,2) x4,y4 ]\n",
      "\n"
     ]
    },
    {
     "data": {
      "text/html": [
       "<iframe id=\"igraph\" scrolling=\"no\" style=\"border:none;\" seamless=\"seamless\" src=\"https://plot.ly/~AdamKulidjian/278.embed\" height=\"800px\" width=\"800px\"></iframe>"
      ],
      "text/plain": [
       "<plotly.tools.PlotlyDisplay object>"
      ]
     },
     "execution_count": 24,
     "metadata": {},
     "output_type": "execute_result"
    }
   ],
   "source": [
    "import plotly.plotly as py\n",
    "from plotly.tools import FigureFactory as FF\n",
    "\n",
    "import numpy as np\n",
    "import pandas as pd\n",
    "\n",
    "dataframe = pd.DataFrame(np.random.randn(100, 3),\n",
    "                         columns=['Column A', 'Column B', 'Column C'])\n",
    "\n",
    "fig = FF.create_scatterplotmatrix(dataframe, diag='histogram',index='Column A',\n",
    "                                  colormap='Blues', height=800, width=800)\n",
    "py.iplot(fig, filename = 'Use a Sequential Colormap')"
   ]
  },
  {
   "cell_type": "markdown",
   "metadata": {},
   "source": [
    "#### Custom Sequential Colormap"
   ]
  },
  {
   "cell_type": "code",
   "execution_count": 25,
   "metadata": {
    "collapsed": false
   },
   "outputs": [
    {
     "name": "stdout",
     "output_type": "stream",
     "text": [
      "This is the format of your plot grid:\n",
      "[ (1,1) x1,y1 ]  [ (1,2) x2,y2 ]\n",
      "[ (2,1) x3,y3 ]  [ (2,2) x4,y4 ]\n",
      "\n"
     ]
    },
    {
     "data": {
      "text/html": [
       "<iframe id=\"igraph\" scrolling=\"no\" style=\"border:none;\" seamless=\"seamless\" src=\"https://plot.ly/~AdamKulidjian/272.embed\" height=\"800px\" width=\"800px\"></iframe>"
      ],
      "text/plain": [
       "<plotly.tools.PlotlyDisplay object>"
      ]
     },
     "execution_count": 25,
     "metadata": {},
     "output_type": "execute_result"
    }
   ],
   "source": [
    "import plotly.plotly as py\n",
    "from plotly.tools import FigureFactory as FF\n",
    "\n",
    "import numpy as np\n",
    "import pandas as pd\n",
    "\n",
    "dataframe = pd.DataFrame(np.random.randn(100, 3),\n",
    "                         columns=['Column A', 'Column B', 'Column C'])\n",
    "\n",
    "fig = FF.create_scatterplotmatrix(dataframe, diag='histogram', index='Column A',\n",
    "                                  colormap=['rgb(100, 150, 255)', '#F0963C', 'rgb(51, 255, 153)'],\n",
    "                                  colormap_type='seq', height=800, width=800)\n",
    "py.iplot(fig, filename = 'Custom Sequential Colormap')"
   ]
  },
  {
   "cell_type": "markdown",
   "metadata": {},
   "source": [
    "#### Partition Numeric Data into Intervals"
   ]
  },
  {
   "cell_type": "code",
   "execution_count": 26,
   "metadata": {
    "collapsed": false
   },
   "outputs": [
    {
     "name": "stdout",
     "output_type": "stream",
     "text": [
      "This is the format of your plot grid:\n",
      "[ (1,1) x1,y1 ]  [ (1,2) x2,y2 ]\n",
      "[ (2,1) x3,y3 ]  [ (2,2) x4,y4 ]\n",
      "\n"
     ]
    },
    {
     "data": {
      "text/html": [
       "<iframe id=\"igraph\" scrolling=\"no\" style=\"border:none;\" seamless=\"seamless\" src=\"https://plot.ly/~AdamKulidjian/64.embed\" height=\"800px\" width=\"800px\"></iframe>"
      ],
      "text/plain": [
       "<plotly.tools.PlotlyDisplay object>"
      ]
     },
     "execution_count": 26,
     "metadata": {},
     "output_type": "execute_result"
    }
   ],
   "source": [
    "import plotly.plotly as py\n",
    "from plotly.tools import FigureFactory as FF\n",
    "\n",
    "import numpy as np\n",
    "import pandas as pd\n",
    "\n",
    "dataframe = pd.DataFrame(np.random.randn(100, 3),\n",
    "                         columns=['Column A', 'Column B', 'Column C'])\n",
    "\n",
    "fig = FF.create_scatterplotmatrix(dataframe, diag='box', index='Column A',\n",
    "                                  colormap='Portland', colormap_type='seq',\n",
    "                                  endpts=[-1, 0, 1],\n",
    "                                  height=800, width=800, size=12,\n",
    "                                  marker=dict(symbol=25))\n",
    "py.iplot(fig, filename = 'Partition Numeric Data into Intervals')"
   ]
  },
  {
   "cell_type": "markdown",
   "metadata": {},
   "source": [
    "#### Categorical Colormap"
   ]
  },
  {
   "cell_type": "code",
   "execution_count": 27,
   "metadata": {
    "collapsed": false
   },
   "outputs": [
    {
     "name": "stdout",
     "output_type": "stream",
     "text": [
      "This is the format of your plot grid:\n",
      "[ (1,1) x1,y1 ]  [ (1,2) x2,y2 ]\n",
      "[ (2,1) x3,y3 ]  [ (2,2) x4,y4 ]\n",
      "\n"
     ]
    },
    {
     "data": {
      "text/html": [
       "<iframe id=\"igraph\" scrolling=\"no\" style=\"border:none;\" seamless=\"seamless\" src=\"https://plot.ly/~AdamKulidjian/276.embed\" height=\"800px\" width=\"800px\"></iframe>"
      ],
      "text/plain": [
       "<plotly.tools.PlotlyDisplay object>"
      ]
     },
     "execution_count": 27,
     "metadata": {},
     "output_type": "execute_result"
    }
   ],
   "source": [
    "import plotly.plotly as py\n",
    "from plotly.graph_objs import graph_objs\n",
    "from plotly.tools import FigureFactory as FF\n",
    "\n",
    "import numpy as np\n",
    "import pandas as pd\n",
    "import random\n",
    "\n",
    "dataframe = pd.DataFrame(np.random.randn(100, 2),\n",
    "                         columns=['Column A', 'Column B'])\n",
    "\n",
    "new_column = []\n",
    "fruits = ['apple', 'blueberry', 'banana', 'orange', 'raspberry']\n",
    "for j in range(100):\n",
    "    new_column.append(random.choice(fruits))\n",
    "dataframe['Fruits'] = pd.Series(new_column, index=dataframe.index)\n",
    "\n",
    "fig = FF.create_scatterplotmatrix(dataframe, index='Fruits', diag='histogram',\n",
    "                                  colormap= ['#d95f0e', (0.2, 0.6, 1), 'rgb(230,247,188)', '#bcbddc', (0.8, 0.7, 0.65)],\n",
    "                                  colormap_type='cat',\n",
    "                                  height=800, width=800,\n",
    "                                  size=15, marker=dict(symbol='square-open'))\n",
    "py.iplot(fig, filename = 'Use a Categorical Colormap')"
   ]
  },
  {
   "cell_type": "markdown",
   "metadata": {},
   "source": [
    "#### Colormap as a Dictionary"
   ]
  },
  {
   "cell_type": "code",
   "execution_count": 28,
   "metadata": {
    "collapsed": false
   },
   "outputs": [
    {
     "name": "stdout",
     "output_type": "stream",
     "text": [
      "This is the format of your plot grid:\n",
      "[ (1,1) x1,y1 ]  [ (1,2) x2,y2 ]  [ (1,3) x3,y3 ]\n",
      "[ (2,1) x4,y4 ]  [ (2,2) x5,y5 ]  [ (2,3) x6,y6 ]\n",
      "[ (3,1) x7,y7 ]  [ (3,2) x8,y8 ]  [ (3,3) x9,y9 ]\n",
      "\n"
     ]
    },
    {
     "data": {
      "text/html": [
       "<iframe id=\"igraph\" scrolling=\"no\" style=\"border:none;\" seamless=\"seamless\" src=\"https://plot.ly/~AdamKulidjian/274.embed\" height=\"800px\" width=\"800px\"></iframe>"
      ],
      "text/plain": [
       "<plotly.tools.PlotlyDisplay object>"
      ]
     },
     "execution_count": 28,
     "metadata": {},
     "output_type": "execute_result"
    }
   ],
   "source": [
    "import plotly.plotly as py\n",
    "from plotly.graph_objs import graph_objs\n",
    "from plotly.tools import FigureFactory as FF\n",
    "\n",
    "import numpy as np\n",
    "import pandas as pd\n",
    "import random\n",
    "\n",
    "dataframe = pd.DataFrame(np.random.randn(100, 3),\n",
    "                  columns=['Column A', 'Column B', 'Column C'])\n",
    "\n",
    "new_column = []\n",
    "strange_colors = ['turquoise', 'limegreen', 'goldenrod']\n",
    "for j in range(100):\n",
    "    new_column.append(random.choice(strange_colors))\n",
    "dataframe['Colors'] = pd.Series(new_column, index=dataframe.index)\n",
    "\n",
    "fig = FF.create_scatterplotmatrix(dataframe, diag='box', index='Colors',\n",
    "                                  colormap= dict(\n",
    "                                      turquoise = '#00F5FF',\n",
    "                                      limegreen = '#32CD32',\n",
    "                                      goldenrod = '#DAA520'\n",
    "                                  ),\n",
    "                                  colormap_type='cat',\n",
    "                                  height=800, width=800)\n",
    "py.iplot(fig, filename = 'Colormap as a Dictionary')"
   ]
  },
  {
   "cell_type": "markdown",
   "metadata": {},
   "source": [
    "#### Reference"
   ]
  },
  {
   "cell_type": "code",
   "execution_count": 18,
   "metadata": {
    "collapsed": false
   },
   "outputs": [
    {
     "name": "stdout",
     "output_type": "stream",
     "text": [
      "Help on function create_scatterplotmatrix in module plotly.tools:\n",
      "\n",
      "create_scatterplotmatrix(df, index=None, endpts=None, diag='scatter', height=500, width=500, size=6, title='Scatterplot Matrix', colormap=None, colormap_type='cat', dataframe=None, headers=None, index_vals=None, **kwargs)\n",
      "    Returns data for a scatterplot matrix.\n",
      "    \n",
      "    :param (array) df: array of the data with column headers\n",
      "    :param (str) index: name of the index column in data array\n",
      "    :param (list|tuple) endpts: takes an increasing sequece of numbers\n",
      "        that defines intervals on the real line. They are used to group\n",
      "        the entries in an index of numbers into their corresponding\n",
      "        interval and therefore can be treated as categorical data\n",
      "    :param (str) diag: sets the chart type for the main diagonal plots\n",
      "    :param (int|float) height: sets the height of the chart\n",
      "    :param (int|float) width: sets the width of the chart\n",
      "    :param (float) size: sets the marker size (in px)\n",
      "    :param (str) title: the title label of the scatterplot matrix\n",
      "    :param (str|tuple|list|dict) colormap: either a plotly scale name,\n",
      "        an rgb or hex color, a color tuple, a list of colors or a\n",
      "        dictionary. An rgb color is of the form 'rgb(x, y, z)' where\n",
      "        x, y and z belong to the interval [0, 255] and a color tuple is a\n",
      "        tuple of the form (a, b, c) where a, b and c belong to [0, 1].\n",
      "        If colormap is a list, it must contain valid color types as its\n",
      "        members.\n",
      "        If colormap is a dictionary, all the string entries in\n",
      "        the index column must be a key in colormap. In this case, the\n",
      "        colormap_type is forced to 'cat' or categorical\n",
      "    :param (str) colormap_type: determines how colormap is interpreted.\n",
      "        Valid choices are 'seq' (sequential) and 'cat' (categorical). If\n",
      "        'seq' is selected, only the first two colors in colormap will be\n",
      "        considered (when colormap is a list) and the index values will be\n",
      "        linearly interpolated between those two colors. This option is\n",
      "        forced if all index values are numeric.\n",
      "        If 'cat' is selected, a color from colormap will be assigned to\n",
      "        each category from index, including the intervals if endpts is\n",
      "        being used\n",
      "    :param (dict) **kwargs: a dictionary of scatterplot arguments\n",
      "        The only forbidden parameters are 'size', 'color' and\n",
      "        'colorscale' in 'marker'\n",
      "    \n",
      "    Example 1: Vanilla Scatterplot Matrix\n",
      "    ```\n",
      "    import plotly.plotly as py\n",
      "    from plotly.graph_objs import graph_objs\n",
      "    from plotly.tools import FigureFactory as FF\n",
      "    \n",
      "    import numpy as np\n",
      "    import pandas as pd\n",
      "    \n",
      "    # Create dataframe\n",
      "    df = pd.DataFrame(np.random.randn(10, 2),\n",
      "                    columns=['Column 1', 'Column 2'])\n",
      "    \n",
      "    # Create scatterplot matrix\n",
      "    fig = FF.create_scatterplotmatrix(df)\n",
      "    \n",
      "    # Plot\n",
      "    py.iplot(fig, filename='Vanilla Scatterplot Matrix')\n",
      "    ```\n",
      "    \n",
      "    Example 2: Indexing a Column\n",
      "    ```\n",
      "    import plotly.plotly as py\n",
      "    from plotly.graph_objs import graph_objs\n",
      "    from plotly.tools import FigureFactory as FF\n",
      "    \n",
      "    import numpy as np\n",
      "    import pandas as pd\n",
      "    \n",
      "    # Create dataframe with index\n",
      "    df = pd.DataFrame(np.random.randn(10, 2),\n",
      "                       columns=['A', 'B'])\n",
      "    \n",
      "    # Add another column of strings to the dataframe\n",
      "    df['Fruit'] = pd.Series(['apple', 'apple', 'grape', 'apple', 'apple',\n",
      "                             'grape', 'pear', 'pear', 'apple', 'pear'])\n",
      "    \n",
      "    # Create scatterplot matrix\n",
      "    fig = FF.create_scatterplotmatrix(df, index='Fruit', size=10)\n",
      "    \n",
      "    # Plot\n",
      "    py.iplot(fig, filename = 'Scatterplot Matrix with Index')\n",
      "    ```\n",
      "    \n",
      "    Example 3: Styling the Diagonal Subplots\n",
      "    ```\n",
      "    import plotly.plotly as py\n",
      "    from plotly.graph_objs import graph_objs\n",
      "    from plotly.tools import FigureFactory as FF\n",
      "    \n",
      "    import numpy as np\n",
      "    import pandas as pd\n",
      "    \n",
      "    # Create dataframe with index\n",
      "    df = pd.DataFrame(np.random.randn(10, 4),\n",
      "                       columns=['A', 'B', 'C', 'D'])\n",
      "    \n",
      "    # Add another column of strings to the dataframe\n",
      "    df['Fruit'] = pd.Series(['apple', 'apple', 'grape', 'apple', 'apple',\n",
      "                             'grape', 'pear', 'pear', 'apple', 'pear'])\n",
      "    \n",
      "    # Create scatterplot matrix\n",
      "    fig = FF.create_scatterplotmatrix(df, diag='box', index='Fruit',\n",
      "                                      height=1000, width=1000)\n",
      "    \n",
      "    # Plot\n",
      "    py.iplot(fig, filename = 'Scatterplot Matrix - Diagonal Styling')\n",
      "    ```\n",
      "    \n",
      "    Example 4: Use a Theme to Style the Subplots\n",
      "    ```\n",
      "    import plotly.plotly as py\n",
      "    from plotly.graph_objs import graph_objs\n",
      "    from plotly.tools import FigureFactory as FF\n",
      "    \n",
      "    import numpy as np\n",
      "    import pandas as pd\n",
      "    \n",
      "    # Create dataframe with random data\n",
      "    df = pd.DataFrame(np.random.randn(100, 3),\n",
      "                       columns=['A', 'B', 'C'])\n",
      "    \n",
      "    # Create scatterplot matrix using a built-in\n",
      "    # Plotly palette scale and indexing column 'A'\n",
      "    fig = FF.create_scatterplotmatrix(df, diag='histogram',\n",
      "                                      index='A', colormap='Blues',\n",
      "                                      height=800, width=800)\n",
      "    \n",
      "    # Plot\n",
      "    py.iplot(fig, filename = 'Scatterplot Matrix - Colormap Theme')\n",
      "    ```\n",
      "    \n",
      "    Example 5: Example 4 with Interval Factoring\n",
      "    ```\n",
      "    import plotly.plotly as py\n",
      "    from plotly.graph_objs import graph_objs\n",
      "    from plotly.tools import FigureFactory as FF\n",
      "    \n",
      "    import numpy as np\n",
      "    import pandas as pd\n",
      "    \n",
      "    # Create dataframe with random data\n",
      "    df = pd.DataFrame(np.random.randn(100, 3),\n",
      "                       columns=['A', 'B', 'C'])\n",
      "    \n",
      "    # Create scatterplot matrix using a list of 2 rgb tuples\n",
      "    # and endpoints at -1, 0 and 1\n",
      "    fig = FF.create_scatterplotmatrix(df, diag='histogram', index='A',\n",
      "                                      colormap=['rgb(140, 255, 50)',\n",
      "                                                'rgb(170, 60, 115)',\n",
      "                                               '#6c4774',\n",
      "                                                (0.5, 0.1, 0.8)],\n",
      "                                      endpts=[-1, 0, 1],\n",
      "                                      height=800, width=800)\n",
      "    \n",
      "    # Plot\n",
      "    py.iplot(fig, filename = 'Scatterplot Matrix - Intervals')\n",
      "    ```\n",
      "    \n",
      "    Example 6: Using the colormap as a Dictionary\n",
      "    ```\n",
      "    import plotly.plotly as py\n",
      "    from plotly.graph_objs import graph_objs\n",
      "    from plotly.tools import FigureFactory as FF\n",
      "    \n",
      "    import numpy as np\n",
      "    import pandas as pd\n",
      "    import random\n",
      "    \n",
      "    # Create dataframe with random data\n",
      "    df = pd.DataFrame(np.random.randn(100, 3),\n",
      "                       columns=['Column A',\n",
      "                                'Column B',\n",
      "                                'Column C'])\n",
      "    \n",
      "    # Add new color column to dataframe\n",
      "    new_column = []\n",
      "    strange_colors = ['turquoise', 'limegreen', 'goldenrod']\n",
      "    \n",
      "    for j in range(100):\n",
      "        new_column.append(random.choice(strange_colors))\n",
      "    df['Colors'] = pd.Series(new_column, index=df.index)\n",
      "    \n",
      "    # Create scatterplot matrix using a dictionary of hex color values\n",
      "    # which correspond to actual color names in 'Colors' column\n",
      "    fig = FF.create_scatterplotmatrix(\n",
      "        df, diag='box', index='Colors',\n",
      "        colormap= dict(\n",
      "            turquoise = '#00F5FF',\n",
      "            limegreen = '#32CD32',\n",
      "            goldenrod = '#DAA520'\n",
      "        ),\n",
      "        colormap_type='cat',\n",
      "        height=800, width=800\n",
      "    )\n",
      "    \n",
      "    # Plot\n",
      "    py.iplot(fig, filename = 'Scatterplot Matrix - colormap dictionary ')\n",
      "    ```\n",
      "\n"
     ]
    }
   ],
   "source": [
    "help(FF.create_scatterplotmatrix)"
   ]
  },
  {
   "cell_type": "code",
   "execution_count": 1,
   "metadata": {
    "collapsed": false
   },
   "outputs": [
    {
     "data": {
      "text/html": [
       "<link href=\"//fonts.googleapis.com/css?family=Open+Sans:600,400,300,200|Inconsolata|Ubuntu+Mono:400,700rel=\"stylesheet\" type=\"text/css\" />"
      ],
      "text/plain": [
       "<IPython.core.display.HTML object>"
      ]
     },
     "metadata": {},
     "output_type": "display_data"
    },
    {
     "data": {
      "text/html": [
       "<link rel=\"stylesheet\" type=\"text/csshref=\"http://help.plot.ly/documentation/all_static/css/ipython-notebook-custom.css\">"
      ],
      "text/plain": [
       "<IPython.core.display.HTML object>"
      ]
     },
     "metadata": {},
     "output_type": "display_data"
    },
    {
     "name": "stdout",
     "output_type": "stream",
     "text": [
      "Collecting git+https://github.com/plotly/publisher.git\n",
      "  Cloning https://github.com/plotly/publisher.git to /var/folders/tc/bs9g6vrd36q74m5t8h9cgphh0000gn/T/pip-NhX9eO-build\n",
      "Installing collected packages: publisher\n",
      "  Found existing installation: publisher 0.10\n",
      "    Uninstalling publisher-0.10:\n",
      "      Successfully uninstalled publisher-0.10\n",
      "  Running setup.py install for publisher ... \u001b[?25l-\b \b\\\b \bdone\n",
      "\u001b[?25hSuccessfully installed publisher-0.10\n"
     ]
    },
    {
     "name": "stderr",
     "output_type": "stream",
     "text": [
      "//anaconda/lib/python2.7/site-packages/publisher/publisher.py:53: UserWarning: Did you \"Save\" this notebook before running this command? Remember to save, always save.\n",
      "  warnings.warn('Did you \"Save\" this notebook before running this command? '\n"
     ]
    }
   ],
   "source": [
    "from IPython.display import display, HTML\n",
    "\n",
    "display(HTML('<link href=\"//fonts.googleapis.com/css?family=Open+Sans:600,400,300,200|Inconsolata|Ubuntu+Mono:400,700rel=\"stylesheet\" type=\"text/css\" />'))\n",
    "display(HTML('<link rel=\"stylesheet\" type=\"text/csshref=\"http://help.plot.ly/documentation/all_static/css/ipython-notebook-custom.css\">'))\n",
    "\n",
    "! pip install git+https://github.com/plotly/publisher.git --upgrade\n",
    "\n",
    "import publisher\n",
    "publisher.publish(\n",
    "    'scatterplot-matrix.ipynb', 'python/scatterplot-matrix/', 'Scatterplot Matrix | plotly',\n",
    "    'How to make scatterplot-matrix plots in Python with Plotly.',\n",
    "    title = 'Python Scatterplot Matrix | plotly',\n",
    "    name = 'Scatterplot Matrix',\n",
    "    has_thumbnail='true', thumbnail='thumbnail/scatterplot-matrix.jpg', \n",
    "    language='python', page_type='example_index',\n",
    "    display_as='statistical', order=10.1)"
   ]
  },
  {
   "cell_type": "code",
   "execution_count": null,
   "metadata": {
    "collapsed": true
   },
   "outputs": [],
   "source": []
  }
 ],
 "metadata": {
  "kernelspec": {
   "display_name": "Python 2",
   "language": "python",
   "name": "python2"
  },
  "language_info": {
   "codemirror_mode": {
    "name": "ipython",
    "version": 2
   },
   "file_extension": ".py",
   "mimetype": "text/x-python",
   "name": "python",
   "nbconvert_exporter": "python",
   "pygments_lexer": "ipython2",
   "version": "2.7.10"
  }
 },
 "nbformat": 4,
 "nbformat_minor": 0
}
