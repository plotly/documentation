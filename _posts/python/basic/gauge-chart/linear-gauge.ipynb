{
 "cells": [
  {
   "cell_type": "markdown",
   "metadata": {
    "deletable": true,
    "editable": true
   },
   "source": [
    "#### New to Plotly?\n",
    "Plotly's Python library is free and open source! [Get started](https://plot.ly/python/getting-started/) by downloading the client and [reading the primer](https://plot.ly/python/getting-started/).\n",
    "<br>You can set up Plotly to work in [online](https://plot.ly/python/getting-started/#initialization-for-online-plotting) or [offline](https://plot.ly/python/getting-started/#initialization-for-offline-plotting) mode, or in [jupyter notebooks](https://plot.ly/python/getting-started/#start-plotting-online).\n",
    "<br>We also have a quick-reference [cheatsheet](https://images.plot.ly/plotly-documentation/images/python_cheat_sheet.pdf) (new!) to help you get started!"
   ]
  },
  {
   "cell_type": "markdown",
   "metadata": {
    "deletable": true,
    "editable": true
   },
   "source": [
    "#### Linear Gauge Chart Shell\n",
    "Note the following tutorial shows how to create a linear-gauge chart with 4 gauges. It's recommended to use a `width` between 600-1000px and `ticklen` should be `width/20`. These variables are definied in the code below."
   ]
  },
  {
   "cell_type": "code",
   "execution_count": 1,
   "metadata": {
    "collapsed": false,
    "deletable": true,
    "editable": true
   },
   "outputs": [
    {
     "data": {
      "text/html": [
       "<iframe id=\"igraph\" scrolling=\"no\" style=\"border:none;\" seamless=\"seamless\" src=\"https://plot.ly/~PythonPlotBot/344.embed\" height=\"600px\" width=\"800px\"></iframe>"
      ],
      "text/plain": [
       "<plotly.tools.PlotlyDisplay object>"
      ]
     },
     "execution_count": 1,
     "metadata": {},
     "output_type": "execute_result"
    }
   ],
   "source": [
    "from plotly import tools\n",
    "import plotly.plotly as py\n",
    "import plotly.graph_objs as go\n",
    "\n",
    "# Define Titles and Labels for Each Scale\n",
    "scales = ['<b>Tension</b>', '<b>Energy</b>',\n",
    "          '<b>Valence</b>', '<b>Prefer</b>']\n",
    "scale1 = ['Very <br> Calm ', 'Moderately <br> Calm ',\n",
    "          'Slightly <br> Calm ', 'Neutral ',\n",
    "          'Slightly <br> Tense ', 'Moderately <br> Tense ',\n",
    "          'Very <br> Tense ']\n",
    "scale2 = ['Very <br> Tired ', 'Moderately <br> Tired ',\n",
    "          'Slightly <br> Tired ', 'Neutral ',\n",
    "          'Slightly <br> Awake ', 'Moderately <br> Awake ',\n",
    "          'Very <br> Awake ']\n",
    "scale3 = ['Very <br> Displeased ', 'Moderately <br> Displeased ',\n",
    "          'Slightly <br> Displeased ', 'Neutral ',\n",
    "          'Slightly <br> Pleased ', 'Moderately <br> Pleased ',\n",
    "          'Very <br> Pleased ']\n",
    "scale4 = ['Strongly <br> Dislike ', 'Moderately <br> Dislike ',\n",
    "          'Slightly <br> Dislike ', 'Neutral ',\n",
    "          'Slightly <br> Like ', 'Moderately <br> Like ',\n",
    "          'Strongly <br> Like ']\n",
    "scale_labels = [scale1, scale2, scale3, scale4]\n",
    "\n",
    "# Add Scale Titles to the Plot\n",
    "traces = []\n",
    "for i in range(len(scales)):\n",
    "    traces.append(go.Scatter(\n",
    "        x=[0.6], # Pad the title - a longer scale title would need a higher value \n",
    "        y=[6.25],\n",
    "        text=scales[i],\n",
    "        mode='text',\n",
    "        hoverinfo='none',\n",
    "        showlegend=False,\n",
    "        xaxis='x'+str(i+1),\n",
    "        yaxis='y'+str(i+1)\n",
    "    ))\n",
    "\n",
    "# Create Scales\n",
    "## Since we have 7 lables, the scale will range from 0-6\n",
    "shapes = []\n",
    "for i in range(len(scales)):\n",
    "    shapes.append({'type': 'rect',\n",
    "                   'x0': .02, 'x1': 1.02,\n",
    "                   'y0': 0, 'y1': 6,\n",
    "                   'xref':'x'+str(i+1), 'yref':'y'+str(i+1)})\n",
    "\n",
    "x_domains = [[0, .25], [.25, .5], [.5, .75], [.75, 1]] # Split for 4 scales\n",
    "chart_width = 800\n",
    "\n",
    "# Define X-Axes\n",
    "xaxes = []\n",
    "for i in range(len(scales)):\n",
    "    xaxes.append({'domain': x_domains[i], 'range':[0, 4],\n",
    "                  'showgrid': False, 'showline': False,\n",
    "                  'zeroline': False, 'showticklabels': False})\n",
    "\n",
    "# Define Y-Axes (and set scale labels)\n",
    "## ticklen is used to create the segments of the scale,\n",
    "## for more information see: https://plot.ly/python/reference/#layout-yaxis-ticklen\n",
    "yaxes = []\n",
    "for i in range(len(scales)):\n",
    "    yaxes.append({'anchor':'x'+str(i+1), 'range':[-.5,6.5],\n",
    "                  'showgrid': False, 'showline': False, 'zeroline': False,\n",
    "                  'ticks':'inside', 'ticklen': chart_width/20,\n",
    "                  'ticktext':scale_labels[i], 'tickvals':[0., 1., 2., 3., 4., 5., 6.]\n",
    "                 })\n",
    "\n",
    "# Put all elements of the layout together\n",
    "layout = {'shapes': shapes,\n",
    "          'xaxis1': xaxes[0],\n",
    "          'xaxis2': xaxes[1],\n",
    "          'xaxis3': xaxes[2],\n",
    "          'xaxis4': xaxes[3],\n",
    "          'yaxis1': yaxes[0],\n",
    "          'yaxis2': yaxes[1],\n",
    "          'yaxis3': yaxes[2],\n",
    "          'yaxis4': yaxes[3],\n",
    "          'autosize': False,\n",
    "          'width': chart_width,\n",
    "          'height': 600\n",
    "}\n",
    "\n",
    "### ADD RATING DATA HERE ###\n",
    "\n",
    "fig = dict(data=traces, layout=layout)\n",
    "py.iplot(fig, filename='linear-gauge-layout')"
   ]
  },
  {
   "cell_type": "markdown",
   "metadata": {
    "deletable": true,
    "editable": true
   },
   "source": [
    "#### Add Rating Data\n",
    "Ratings should be scaled between 0 - 6 to fit the y-values of the scales created above."
   ]
  },
  {
   "cell_type": "code",
   "execution_count": 2,
   "metadata": {
    "collapsed": false,
    "deletable": true,
    "editable": true
   },
   "outputs": [
    {
     "data": {
      "text/html": [
       "<iframe id=\"igraph\" scrolling=\"no\" style=\"border:none;\" seamless=\"seamless\" src=\"https://plot.ly/~PythonPlotBot/346.embed\" height=\"600px\" width=\"800px\"></iframe>"
      ],
      "text/plain": [
       "<plotly.tools.PlotlyDisplay object>"
      ]
     },
     "execution_count": 2,
     "metadata": {},
     "output_type": "execute_result"
    }
   ],
   "source": [
    "ratings = [4.5, 5, 1, 2.75]\n",
    "\n",
    "for i in range(len(ratings)):\n",
    "    traces.append(go.Scatter(\n",
    "            x=[0.5], y=ratings[i],\n",
    "            xaxis='x'+str(i+1), yaxis='y'+str(i+1),\n",
    "            mode='marker', marker={'size': 16, 'color': '#29ABD6'},\n",
    "            text=ratings[i], hoverinfo='text', showlegend=False\n",
    "    ))\n",
    "\n",
    "fig = dict(data=traces, layout=layout)\n",
    "py.iplot(fig, filename='linear-gauge')"
   ]
  },
  {
   "cell_type": "markdown",
   "metadata": {
    "deletable": true,
    "editable": true
   },
   "source": [
    "#### Reference\n",
    "See https://plot.ly/python/reference/ for more information and chart attribute options!"
   ]
  },
  {
   "cell_type": "code",
   "execution_count": 3,
   "metadata": {
    "collapsed": false,
    "deletable": true,
    "editable": true
   },
   "outputs": [
    {
     "data": {
      "text/html": [
       "<link href=\"//fonts.googleapis.com/css?family=Open+Sans:600,400,300,200|Inconsolata|Ubuntu+Mono:400,700\" rel=\"stylesheet\" type=\"text/css\" />"
      ],
      "text/plain": [
       "<IPython.core.display.HTML object>"
      ]
     },
     "metadata": {},
     "output_type": "display_data"
    },
    {
     "data": {
      "text/html": [
       "<link rel=\"stylesheet\" type=\"text/css\" href=\"http://help.plot.ly/documentation/all_static/css/ipython-notebook-custom.css\">"
      ],
      "text/plain": [
       "<IPython.core.display.HTML object>"
      ]
     },
     "metadata": {},
     "output_type": "display_data"
    },
    {
     "name": "stderr",
     "output_type": "stream",
     "text": [
      "/usr/local/lib/python2.7/site-packages/IPython/nbconvert.py:13: ShimWarning:\n",
      "\n",
      "The `IPython.nbconvert` package has been deprecated. You should import from nbconvert instead.\n",
      "\n",
      "/usr/local/lib/python2.7/site-packages/publisher/publisher.py:53: UserWarning:\n",
      "\n",
      "Did you \"Save\" this notebook before running this command? Remember to save, always save.\n",
      "\n"
     ]
    }
   ],
   "source": [
    "from IPython.display import display, HTML\n",
    "\n",
    "display(HTML('<link href=\"//fonts.googleapis.com/css?family=Open+Sans:600,400,300,200|Inconsolata|Ubuntu+Mono:400,700\" rel=\"stylesheet\" type=\"text/css\" />'))\n",
    "display(HTML('<link rel=\"stylesheet\" type=\"text/css\" href=\"http://help.plot.ly/documentation/all_static/css/ipython-notebook-custom.css\">'))\n",
    "\n",
    "! pip install git+https://github.com/plotly/publisher.git --upgrade\n",
    "import publisher\n",
    "publisher.publish(\n",
    "    'linear-gauge.ipynb', 'python/linear-gauge-chart/', 'Python Linear-Gauge Chart | plotly',\n",
    "    'How to make interactive linear-guage charts in Python with Plotly. ',\n",
    "    title = 'Python Linear-Gauge Chart | plotly',\n",
    "    name = 'Linear-Gauge Chart',\n",
    "    thumbnail='thumbnail/linear-gauge.jpg', language='python',\n",
    "    has_thumbnail='true', display_as='basic', order=12,\n",
    "    ipynb='~notebook_demo/12')"
   ]
  },
  {
   "cell_type": "code",
   "execution_count": null,
   "metadata": {
    "collapsed": true,
    "deletable": true,
    "editable": true
   },
   "outputs": [],
   "source": []
  }
 ],
 "metadata": {
  "kernelspec": {
   "display_name": "Python 2",
   "language": "python",
   "name": "python2"
  },
  "language_info": {
   "codemirror_mode": {
    "name": "ipython",
    "version": 2
   },
   "file_extension": ".py",
   "mimetype": "text/x-python",
   "name": "python",
   "nbconvert_exporter": "python",
   "pygments_lexer": "ipython2",
   "version": "2.7.12"
  }
 },
 "nbformat": 4,
 "nbformat_minor": 0
}
