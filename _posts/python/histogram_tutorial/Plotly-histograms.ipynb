{
 "cells": [
  {
   "cell_type": "markdown",
   "metadata": {},
   "source": [
    "#### New to Plotly?\n",
    "Plotly's Python library is free and open source! [Get started](https://plot.ly/python/getting-started/) by downloading the client and [reading the primer](https://plot.ly/python/getting-started/).\n",
    "<br>You can set up Plotly to work in [online](https://plot.ly/python/getting-started/#initialization-for-online-plotting) or [offline](https://plot.ly/python/getting-started/#initialization-for-offline-plotting) mode, or in [jupyter notebooks](https://plot.ly/python/getting-started/#start-plotting-online).\n",
    "<br>We also have a quick-reference [cheatsheet](https://images.plot.ly/plotly-documentation/images/python_cheat_sheet.pdf) (new!) to help you get started!"
   ]
  },
  {
   "cell_type": "markdown",
   "metadata": {},
   "source": [
    "### Plotly Histograms "
   ]
  },
  {
   "cell_type": "markdown",
   "metadata": {},
   "source": [
    "Plotly provides 5 types of histograms, depending on the value assigned to the  histnorm key:\n",
    "\n",
    " **' ', 'probability density', 'probability', 'density', percent'.**"
   ]
  },
  {
   "cell_type": "code",
   "execution_count": 1,
   "metadata": {
    "collapsed": false
   },
   "outputs": [],
   "source": [
    "import plotly.plotly as py\n",
    "from plotly.graph_objs import *\n",
    "import numpy as np"
   ]
  },
  {
   "cell_type": "markdown",
   "metadata": {},
   "source": [
    "Define a data set from the Weibull distribution, and plot the histograms corresponding to each histnorm:"
   ]
  },
  {
   "cell_type": "code",
   "execution_count": 2,
   "metadata": {
    "collapsed": true
   },
   "outputs": [],
   "source": [
    "x=np.random.weibull(1.25, size=1000)"
   ]
  },
  {
   "cell_type": "markdown",
   "metadata": {},
   "source": [
    "The histogram corresponding to histnorm='probability density' is\n",
    "an estimation of the probability density function of the observed/measured continuous random variable to get sample data.\n"
   ]
  },
  {
   "cell_type": "code",
   "execution_count": 3,
   "metadata": {
    "collapsed": false
   },
   "outputs": [
    {
     "data": {
      "text/html": [
       "<iframe id=\"igraph\" scrolling=\"no\" style=\"border:none;\" seamless=\"seamless\" src=\"https://plot.ly/~Diksha_Gabha/1945.embed\" height=\"600px\" width=\"700px\"></iframe>"
      ],
      "text/plain": [
       "<plotly.tools.PlotlyDisplay object>"
      ]
     },
     "execution_count": 3,
     "metadata": {},
     "output_type": "execute_result"
    }
   ],
   "source": [
    "tr1 = Histogram(x=x, histnorm='probability density', \n",
    "                xbins=dict(start=np.min(x), size= 0.25, end= np.max(x)),\n",
    "                marker=dict(color='rgb(0,0,100)'))\n",
    "\n",
    "title = \"histnorm='probability density'. The area of each bar is equal to<br> the no of points\"+\\\n",
    "\" in the coresponding bin/total no of points\"\n",
    "\n",
    "layout = dict(\n",
    "            title=title,\n",
    "            autosize= True,\n",
    "            bargap= 0.015,\n",
    "            height= 600,\n",
    "            width= 700,       \n",
    "            hovermode= 'x',\n",
    "            xaxis=dict(\n",
    "            autorange= True,\n",
    "            zeroline= False),\n",
    "            yaxis= dict(\n",
    "            autorange= True,\n",
    "            showticklabels= True,\n",
    "           ))\n",
    "fig1 = Figure(data=Data([tr1]), layout=layout)\n",
    "py.iplot(fig1)\n"
   ]
  },
  {
   "cell_type": "markdown",
   "metadata": {},
   "source": [
    "The `histnorm='probability'` is recommended for plotting the distribution of data resulted from\n",
    "observing a discrete variable. \n",
    "\n",
    "For example if data is a list of integer numbers, representing  the number of access requests to  a WEB \n",
    "server in every  10 minutes, then the distribution of data is visualized by a Plotly histogram with this histnorm. \n",
    "In this case, the height of a bar above an integer is equal to the number of times  that integer occured in the data set, over the total number of sample points.\n"
   ]
  },
  {
   "cell_type": "markdown",
   "metadata": {},
   "source": [
    "Let us generate  such a data set from the Poisson distribution of parameter $4.5$:"
   ]
  },
  {
   "cell_type": "code",
   "execution_count": 4,
   "metadata": {
    "collapsed": false
   },
   "outputs": [],
   "source": [
    "X = np.random.poisson(4.5, size=1000)"
   ]
  },
  {
   "cell_type": "code",
   "execution_count": 10,
   "metadata": {
    "collapsed": false
   },
   "outputs": [
    {
     "data": {
      "text/html": [
       "<iframe id=\"igraph\" scrolling=\"no\" style=\"border:none;\" seamless=\"seamless\" src=\"https://plot.ly/~Diksha_Gabha/1957.embed\" height=\"600px\" width=\"700px\"></iframe>"
      ],
      "text/plain": [
       "<plotly.tools.PlotlyDisplay object>"
      ]
     },
     "execution_count": 10,
     "metadata": {},
     "output_type": "execute_result"
    }
   ],
   "source": [
    "tr2 = tr = Histogram(x=X, histnorm='probability', \n",
    "                     xbins=dict(start=np.min(x)-0.25, size= 0.50, end= np.max(x)+0.25),\n",
    "                     marker=dict(color='rgb(0,0,100)'))\n",
    "\n",
    "ntitle = \"histnorm='probability'\"\n",
    "layout.update(title=ntitle, bargap=0.5)\n",
    "\n",
    "fig2 = Figure(data=Data([tr2]), layout=layout)\n",
    "py.iplot(fig2)"
   ]
  },
  {
   "cell_type": "markdown",
   "metadata": {},
   "source": [
    "The histogram with histnorm = 'probability' can be also associated  to data derived from a continuous variable\n",
    "in order to get the probabilities that\n",
    "data points fall in different bins. For the Weibull distributed data set, defined above, such a histogram is as follows:"
   ]
  },
  {
   "cell_type": "code",
   "execution_count": 6,
   "metadata": {
    "collapsed": false
   },
   "outputs": [
    {
     "data": {
      "text/html": [
       "<iframe id=\"igraph\" scrolling=\"no\" style=\"border:none;\" seamless=\"seamless\" src=\"https://plot.ly/~Diksha_Gabha/1949.embed\" height=\"600px\" width=\"700px\"></iframe>"
      ],
      "text/plain": [
       "<plotly.tools.PlotlyDisplay object>"
      ]
     },
     "execution_count": 6,
     "metadata": {},
     "output_type": "execute_result"
    }
   ],
   "source": [
    "tr2n = Histogram(x=x, histnorm='probability', xbins=dict(start=np.min(x), \n",
    "                 size= 0.25, end= np.max(x)),\n",
    "                 marker=dict(color='rgb(0,0,100)'))\n",
    "\n",
    "ntitle = \"histnorm='probability'.The height of a bar=no of points in the associated bin/total no points,<br>\"+\\\n",
    "\"i.e. the height=probability that points fall in that bin\"\n",
    "\n",
    "layout.update(title=ntitle, bargap=0.01)\n",
    "fig2n = Figure(data=Data([tr2n]), layout=layout)\n",
    "py.iplot(fig2n)"
   ]
  },
  {
   "cell_type": "markdown",
   "metadata": {},
   "source": [
    "A default Plotly histogram (that hasn't set the histnorm), is a histogram of counts."
   ]
  },
  {
   "cell_type": "code",
   "execution_count": 7,
   "metadata": {
    "collapsed": false
   },
   "outputs": [
    {
     "data": {
      "text/html": [
       "<iframe id=\"igraph\" scrolling=\"no\" style=\"border:none;\" seamless=\"seamless\" src=\"https://plot.ly/~Diksha_Gabha/1951.embed\" height=\"600px\" width=\"700px\"></iframe>"
      ],
      "text/plain": [
       "<plotly.tools.PlotlyDisplay object>"
      ]
     },
     "execution_count": 7,
     "metadata": {},
     "output_type": "execute_result"
    }
   ],
   "source": [
    "tr3 = Histogram(x=x, xbins=dict(start=np.min(x), size= 0.25, end= np.max(x)),\n",
    "                marker=dict(color='rgb(0,0,100)'))\n",
    "\n",
    "ntitle = 'Histogram with  histnorm=''. Each bar has the height=number of points in the corresp bin'\n",
    "layout.update(title=ntitle)\n",
    "\n",
    "fig3 = Figure(data=Data([tr3]), layout=layout)\n",
    "py.iplot(fig3)"
   ]
  },
  {
   "cell_type": "code",
   "execution_count": 8,
   "metadata": {
    "collapsed": false
   },
   "outputs": [
    {
     "data": {
      "text/html": [
       "<iframe id=\"igraph\" scrolling=\"no\" style=\"border:none;\" seamless=\"seamless\" src=\"https://plot.ly/~Diksha_Gabha/1953.embed\" height=\"600px\" width=\"700px\"></iframe>"
      ],
      "text/plain": [
       "<plotly.tools.PlotlyDisplay object>"
      ]
     },
     "execution_count": 8,
     "metadata": {},
     "output_type": "execute_result"
    }
   ],
   "source": [
    "tr4 = Histogram(x=x, histnorm='density', xbins=dict(start=np.min(x), size= 0.25, end= np.max(x)),\n",
    "                marker=dict(color='rgb(0,0,100)'))\n",
    "\n",
    "ntitle = \"histnorm='density'. The height of each bar=no of points in that bin/size of bin\"\n",
    "layout.update(title=ntitle)\n",
    "\n",
    "fig4 = Figure(data=Data([tr4]), layout=layout)\n",
    "py.iplot(fig4)"
   ]
  },
  {
   "cell_type": "code",
   "execution_count": 9,
   "metadata": {
    "collapsed": false
   },
   "outputs": [
    {
     "data": {
      "text/html": [
       "<iframe id=\"igraph\" scrolling=\"no\" style=\"border:none;\" seamless=\"seamless\" src=\"https://plot.ly/~Diksha_Gabha/1955.embed\" height=\"600px\" width=\"700px\"></iframe>"
      ],
      "text/plain": [
       "<plotly.tools.PlotlyDisplay object>"
      ]
     },
     "execution_count": 9,
     "metadata": {},
     "output_type": "execute_result"
    }
   ],
   "source": [
    "tr5 = tr = Histogram(x=x, histnorm='percent', xbins=dict(start=np.min(x),\n",
    "                     size= 0.25, end= np.max(x)),\n",
    "                     marker=dict(color='rgb(0,0,100)'))\n",
    "\n",
    "ntitle = \"histnorm='percent'. The height of each bar is equal  to the percentage<br>\"+\\\n",
    "\"of the  number of points in that bin with  respect to the total number of sample points \"\n",
    "layout.update(title=ntitle)\n",
    "\n",
    "fig5 = Figure(data=Data([tr5]), layout=layout)\n",
    "py.iplot(fig5)"
   ]
  },
  {
   "cell_type": "code",
   "execution_count": 3,
   "metadata": {
    "collapsed": false,
    "scrolled": true
   },
   "outputs": [
    {
     "data": {
      "text/html": [
       "<link href=\"//fonts.googleapis.com/css?family=Open+Sans:600,400,300,200|Inconsolata|Ubuntu+Mono:400,700\" rel=\"stylesheet\" type=\"text/css\" />"
      ],
      "text/plain": [
       "<IPython.core.display.HTML object>"
      ]
     },
     "metadata": {},
     "output_type": "display_data"
    },
    {
     "data": {
      "text/html": [
       "<link rel=\"stylesheet\" type=\"text/css\" href=\"http://help.plot.ly/documentation/all_static/css/ipython-notebook-custom.css\">"
      ],
      "text/plain": [
       "<IPython.core.display.HTML object>"
      ]
     },
     "metadata": {},
     "output_type": "display_data"
    },
    {
     "name": "stdout",
     "output_type": "stream",
     "text": [
      "Collecting git+https://github.com/plotly/publisher.git\n",
      "  Cloning https://github.com/plotly/publisher.git to /tmp/pip-FR9G0z-build\n",
      "Installing collected packages: publisher\n",
      "  Found existing installation: publisher 0.10\n",
      "    Uninstalling publisher-0.10:\n",
      "      Successfully uninstalled publisher-0.10\n",
      "  Running setup.py install for publisher ... \u001b[?25l-\b \bdone\n",
      "\u001b[?25hSuccessfully installed publisher-0.10\n",
      "\u001b[33mYou are using pip version 8.1.1, however version 8.1.2 is available.\n",
      "You should consider upgrading via the 'pip install --upgrade pip' command.\u001b[0m\n"
     ]
    }
   ],
   "source": [
    "from IPython.display import display, HTML\n",
    "\n",
    "display(HTML('<link href=\"//fonts.googleapis.com/css?family=Open+Sans:600,400,300,200|Inconsolata|Ubuntu+Mono:400,700\" rel=\"stylesheet\" type=\"text/css\" />'))\n",
    "display(HTML('<link rel=\"stylesheet\" type=\"text/css\" href=\"http://help.plot.ly/documentation/all_static/css/ipython-notebook-custom.css\">'))\n",
    "\n",
    "! pip install git+https://github.com/plotly/publisher.git --upgrade\n",
    "import publisher\n",
    "publisher.publish(\n",
    "    'Plotly-histograms.ipynb', 'python/histogram-tutorial/', 'Histogram Tutorial | plotly',\n",
    "    'How to make Histograms in Python with Plotly.',\n",
    "    title = 'Histograms Tutorial | plotly',\n",
    "    name = 'Histogram Tutorial',\n",
    "    has_thumbnail='true', thumbnail='thumbnail/histogram.jpg', \n",
    "    language='python', page_type='example_index',\n",
    "    display_as='statistical', order=12)  "
   ]
  },
  {
   "cell_type": "code",
   "execution_count": null,
   "metadata": {
    "collapsed": true
   },
   "outputs": [],
   "source": []
  }
 ],
 "metadata": {
  "kernelspec": {
   "display_name": "Python 2",
   "language": "python",
   "name": "python2"
  },
  "language_info": {
   "codemirror_mode": {
    "name": "ipython",
    "version": 2
   },
   "file_extension": ".py",
   "mimetype": "text/x-python",
   "name": "python",
   "nbconvert_exporter": "python",
   "pygments_lexer": "ipython2",
   "version": "2.7.11"
  }
 },
 "nbformat": 4,
 "nbformat_minor": 0
}
