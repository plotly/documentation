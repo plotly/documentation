{
 "cells": [
  {
   "cell_type": "markdown",
   "metadata": {},
   "source": [
    "#### New to Plotly?\n",
    "Plotly's Python library is free and open source! [Get started](https://plot.ly/python/getting-started/) by downloading the client and [reading the primer](https://plot.ly/python/getting-started/).\n",
    "<br>You can set up Plotly to work in [online](https://plot.ly/python/getting-started/#initialization-for-online-plotting) or [offline](https://plot.ly/python/getting-started/#initialization-for-offline-plotting) mode, or in [jupyter notebooks](https://plot.ly/python/getting-started/#start-plotting-online).\n",
    "<br>We also have a quick-reference [cheatsheet](https://images.plot.ly/plotly-documentation/images/python_cheat_sheet.pdf) (new!) to help you get started!\n",
    "#### Version Check\n",
    "Plotly's Python API is updated frequently. Run `pip install plotly --upgrade` to update your Plotly version."
   ]
  },
  {
   "cell_type": "code",
   "execution_count": 1,
   "metadata": {},
   "outputs": [
    {
     "data": {
      "text/plain": [
       "'2.1.0'"
      ]
     },
     "execution_count": 1,
     "metadata": {},
     "output_type": "execute_result"
    }
   ],
   "source": [
    "import plotly\n",
    "plotly.__version__"
   ]
  },
  {
   "cell_type": "markdown",
   "metadata": {},
   "source": [
    "##### Simple OHLC Chart with Pandas"
   ]
  },
  {
   "cell_type": "code",
   "execution_count": 4,
   "metadata": {},
   "outputs": [
    {
     "data": {
      "text/html": [
       "<iframe id=\"igraph\" scrolling=\"no\" style=\"border:none;\" seamless=\"seamless\" src=\"https://plot.ly/~PythonPlotBot/2478.embed\" height=\"525px\" width=\"100%\"></iframe>"
      ],
      "text/plain": [
       "<plotly.tools.PlotlyDisplay object>"
      ]
     },
     "execution_count": 4,
     "metadata": {},
     "output_type": "execute_result"
    }
   ],
   "source": [
    "import plotly.plotly as py\n",
    "import plotly.graph_objs as go\n",
    "\n",
    "import pandas_datareader.data as web\n",
    "from datetime import datetime\n",
    "\n",
    "df = web.DataReader(\"aapl\", 'google', datetime(2007, 10, 1), datetime(2009, 4, 1))\n",
    "\n",
    "trace = go.Ohlc(x=df.index,\n",
    "                open=df.Open,\n",
    "                high=df.High,\n",
    "                low=df.Low,\n",
    "                close=df.Close)\n",
    "data = [trace]\n",
    "py.iplot(data, filename='simple_ohlc')"
   ]
  },
  {
   "cell_type": "markdown",
   "metadata": {},
   "source": [
    "#### Adding Customized Text and Annotations"
   ]
  },
  {
   "cell_type": "code",
   "execution_count": 5,
   "metadata": {},
   "outputs": [
    {
     "data": {
      "text/html": [
       "<iframe id=\"igraph\" scrolling=\"no\" style=\"border:none;\" seamless=\"seamless\" src=\"https://plot.ly/~PythonPlotBot/1847.embed\" height=\"525px\" width=\"100%\"></iframe>"
      ],
      "text/plain": [
       "<plotly.tools.PlotlyDisplay object>"
      ]
     },
     "execution_count": 5,
     "metadata": {},
     "output_type": "execute_result"
    }
   ],
   "source": [
    "import plotly.plotly as py\n",
    "import plotly.graph_objs as go\n",
    "\n",
    "from datetime import datetime\n",
    "import pandas_datareader.data as web\n",
    "\n",
    "df = web.DataReader(\"aapl\", 'google', datetime(2007, 10, 1), datetime(2009, 4, 1))\n",
    "\n",
    "trace = go.Ohlc(x=df.index,\n",
    "                open=df.Open,\n",
    "                high=df.High,\n",
    "                low=df.Low,\n",
    "                close=df.Close)\n",
    "data = [trace]\n",
    "layout = {\n",
    "    'title': 'The Great Recession',\n",
    "    'yaxis': {'title': 'AAPL Stock'},\n",
    "    'shapes': [{\n",
    "        'x0': '2007-12-01', 'x1': '2007-12-01',\n",
    "        'y0': 0, 'y1': 1, 'xref': 'x', 'yref': 'paper',\n",
    "        'line': {'color': 'rgb(30,30,30)', 'width': 1}\n",
    "    }],\n",
    "    'annotations': [{\n",
    "        'x': '2007-12-01', 'y': 0.05, 'xref': 'x', 'yref': 'paper',\n",
    "        'showarrow': False, 'xanchor': 'left',\n",
    "        'text': 'Official start of the recession'\n",
    "    }]\n",
    "}\n",
    "fig = dict(data=data, layout=layout)\n",
    "py.iplot(fig, filename='aapl-recession-ohlc')"
   ]
  },
  {
   "cell_type": "markdown",
   "metadata": {},
   "source": [
    "#### Custom OHLC Colors"
   ]
  },
  {
   "cell_type": "code",
   "execution_count": 6,
   "metadata": {},
   "outputs": [
    {
     "data": {
      "text/html": [
       "<iframe id=\"igraph\" scrolling=\"no\" style=\"border:none;\" seamless=\"seamless\" src=\"https://plot.ly/~PythonPlotBot/1849.embed\" height=\"525px\" width=\"100%\"></iframe>"
      ],
      "text/plain": [
       "<plotly.tools.PlotlyDisplay object>"
      ]
     },
     "execution_count": 6,
     "metadata": {},
     "output_type": "execute_result"
    }
   ],
   "source": [
    "import plotly.plotly as py\n",
    "import plotly.graph_objs as go\n",
    "\n",
    "import pandas_datareader.data as web\n",
    "from datetime import datetime\n",
    "\n",
    "df = web.DataReader(\"aapl\", 'google', datetime(2007, 10, 1), datetime(2009, 4, 1))\n",
    "\n",
    "trace = go.Ohlc(x=df.index,\n",
    "                open=df.Open,\n",
    "                high=df.High,\n",
    "                low=df.Low,\n",
    "                close=df.Close,\n",
    "                increasing=dict(line=dict(color= '#17BECF')),\n",
    "                decreasing=dict(line=dict(color= '#7F7F7F')))\n",
    "data = [trace]\n",
    "py.iplot(data, filename='styled_ohlc')"
   ]
  },
  {
   "cell_type": "markdown",
   "metadata": {},
   "source": [
    "##### Simple OHLC with `datetime` Objects"
   ]
  },
  {
   "cell_type": "code",
   "execution_count": 7,
   "metadata": {},
   "outputs": [
    {
     "data": {
      "text/html": [
       "<iframe id=\"igraph\" scrolling=\"no\" style=\"border:none;\" seamless=\"seamless\" src=\"https://plot.ly/~PythonPlotBot/1851.embed\" height=\"525px\" width=\"100%\"></iframe>"
      ],
      "text/plain": [
       "<plotly.tools.PlotlyDisplay object>"
      ]
     },
     "execution_count": 7,
     "metadata": {},
     "output_type": "execute_result"
    }
   ],
   "source": [
    "import plotly.plotly as py\n",
    "import plotly.figure_factory as FF\n",
    "\n",
    "from datetime import datetime\n",
    "\n",
    "df = web.DataReader(\"aapl\", 'google', datetime(2007, 10, 1), datetime(2009, 4, 1))\n",
    "\n",
    "open_data = [33.0, 33.3, 33.5, 33.0, 34.1]\n",
    "high_data = [33.1, 33.3, 33.6, 33.2, 34.8]\n",
    "low_data = [32.7, 32.7, 32.8, 32.6, 32.8]\n",
    "close_data = [33.0, 32.9, 33.3, 33.1, 33.1]\n",
    "dates = [datetime(year=2013, month=10, day=10),\n",
    "         datetime(year=2013, month=11, day=10),\n",
    "         datetime(year=2013, month=12, day=10),\n",
    "         datetime(year=2014, month=1, day=10),\n",
    "         datetime(year=2014, month=2, day=10)]\n",
    "\n",
    "trace = go.Ohlc(x=dates,\n",
    "                open=open_data,\n",
    "                high=high_data,\n",
    "                low=low_data,\n",
    "                close=close_data)\n",
    "data = [trace]\n",
    "py.iplot(data, filename='ohlc_datetime')"
   ]
  },
  {
   "cell_type": "markdown",
   "metadata": {},
   "source": [
    "#### Reference\n",
    "For more information on candlestick attributes, see: https://plot.ly/python/reference/#ohlc"
   ]
  },
  {
   "cell_type": "code",
   "execution_count": 8,
   "metadata": {},
   "outputs": [
    {
     "data": {
      "text/html": [
       "<link href=\"//fonts.googleapis.com/css?family=Open+Sans:600,400,300,200|Inconsolata|Ubuntu+Mono:400,700\" rel=\"stylesheet\" type=\"text/css\" />"
      ],
      "text/plain": [
       "<IPython.core.display.HTML object>"
      ]
     },
     "metadata": {},
     "output_type": "display_data"
    },
    {
     "data": {
      "text/html": [
       "<link rel=\"stylesheet\" type=\"text/css\" href=\"http://help.plot.ly/documentation/all_static/css/ipython-notebook-custom.css\">"
      ],
      "text/plain": [
       "<IPython.core.display.HTML object>"
      ]
     },
     "metadata": {},
     "output_type": "display_data"
    },
    {
     "name": "stdout",
     "output_type": "stream",
     "text": [
      "Collecting git+https://github.com/plotly/publisher.git\n",
      "  Cloning https://github.com/plotly/publisher.git to /private/var/folders/k_/zf24qrfn2kg710j9pdrxzrz40000gn/T/pip-fXvRko-build\n",
      "Installing collected packages: publisher\n",
      "  Found existing installation: publisher 0.10\n",
      "    Uninstalling publisher-0.10:\n",
      "      Successfully uninstalled publisher-0.10\n",
      "  Running setup.py install for publisher ... \u001b[?25ldone\n",
      "\u001b[?25hSuccessfully installed publisher-0.10\n"
     ]
    },
    {
     "name": "stderr",
     "output_type": "stream",
     "text": [
      "/Users/chelsea/venv/venv2.7/lib/python2.7/site-packages/IPython/nbconvert.py:13: ShimWarning:\n",
      "\n",
      "The `IPython.nbconvert` package has been deprecated since IPython 4.0. You should import from nbconvert instead.\n",
      "\n",
      "/Users/chelsea/venv/venv2.7/lib/python2.7/site-packages/publisher/publisher.py:53: UserWarning:\n",
      "\n",
      "Did you \"Save\" this notebook before running this command? Remember to save, always save.\n",
      "\n"
     ]
    }
   ],
   "source": [
    "from IPython.display import display, HTML\n",
    "\n",
    "display(HTML('<link href=\"//fonts.googleapis.com/css?family=Open+Sans:600,400,300,200|Inconsolata|Ubuntu+Mono:400,700\" rel=\"stylesheet\" type=\"text/css\" />'))\n",
    "display(HTML('<link rel=\"stylesheet\" type=\"text/css\" href=\"http://help.plot.ly/documentation/all_static/css/ipython-notebook-custom.css\">'))\n",
    "\n",
    "!pip install git+https://github.com/plotly/publisher.git --upgrade\n",
    "import publisher\n",
    "publisher.publish(\n",
    "    'ohlc-charts.ipynb', 'python/ohlc-charts/', 'Python OHLC Charts | plotly',\n",
    "    'How to make interactive OHLC charts in Python with Plotly. '\n",
    "    'Six examples of OHLC charts with Pandas, time series, and yahoo finance data.',\n",
    "    name = 'OHLC Charts',\n",
    "    thumbnail='thumbnail/ohlc.jpg', language='python',\n",
    "    page_type='example_index', has_thumbnail='true', display_as='financial', order=1,\n",
    "    ipynb= '~notebook_demo/53')    "
   ]
  },
  {
   "cell_type": "code",
   "execution_count": null,
   "metadata": {
    "collapsed": true
   },
   "outputs": [],
   "source": []
  }
 ],
 "metadata": {
  "anaconda-cloud": {},
  "kernelspec": {
   "display_name": "Python 2",
   "language": "python",
   "name": "python2"
  },
  "language_info": {
   "codemirror_mode": {
    "name": "ipython",
    "version": 2
   },
   "file_extension": ".py",
   "mimetype": "text/x-python",
   "name": "python",
   "nbconvert_exporter": "python",
   "pygments_lexer": "ipython2",
   "version": "2.7.10"
  }
 },
 "nbformat": 4,
 "nbformat_minor": 1
}
