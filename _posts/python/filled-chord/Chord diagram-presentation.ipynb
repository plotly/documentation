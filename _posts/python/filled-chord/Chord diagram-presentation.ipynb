{
 "cells": [
  {
   "cell_type": "markdown",
   "metadata": {},
   "source": [
    "## Plotly plot of chord diagrams ##"
   ]
  },
  {
   "cell_type": "markdown",
   "metadata": {},
   "source": [
    "Circular layout or [Chord diagram](https://en.wikipedia.org/wiki/Chord_diagram) is a method of visualizing  data that describe relationships. It was intensively promoted  through [Circos](http://circos.ca/), a software package in Perl that  was initially designed for displaying genomic data."
   ]
  },
  {
   "cell_type": "code",
   "execution_count": 2,
   "metadata": {
    "collapsed": false
   },
   "outputs": [
    {
     "data": {
      "text/html": [
       "<img src=\"http://mkweb.bcgsc.ca/tableviewer/tmp/uzofjjnsamp/results/circos-table-uzofjjnsamp.png\"/>"
      ],
      "text/plain": [
       "<IPython.core.display.Image object>"
      ]
     },
     "execution_count": 2,
     "metadata": {},
     "output_type": "execute_result"
    }
   ],
   "source": [
    "from IPython.display import Image\n",
    "Image(url='http://mkweb.bcgsc.ca/tableviewer/tmp/uzofjjnsamp/results/circos-table-uzofjjnsamp.png')"
   ]
  },
  {
   "cell_type": "markdown",
   "metadata": {},
   "source": [
    "M Bostock developed reusable charts  for [chord diagrams](http://bl.ocks.org/mbostock/4062006) in d3.js"
   ]
  },
  {
   "cell_type": "markdown",
   "metadata": {},
   "source": [
    "Two years ago on [stackoverflow](http://stackoverflow.com/questions/19105801/chord-diagram-in-python) it was adressed the question whether there is a Python package for plotting  chord diagrams. The question was  closed as being considered *off topic*."
   ]
  },
  {
   "cell_type": "markdown",
   "metadata": {},
   "source": [
    "In this Jupyter Notebook we show that a chord diagram can be generated with Python Plotly."
   ]
  },
  {
   "cell_type": "markdown",
   "metadata": {},
   "source": [
    "We illustrate the method of generating a chord diagram from data recorded in a square matrix.  The rows and columns represent  the same entities."
   ]
  },
  {
   "cell_type": "markdown",
   "metadata": {},
   "source": [
    " Suppose that for a community of 5 friends on Facebook we record  the number of comments posted by each member on other friends wall. The data table is given in the next cell: "
   ]
  },
  {
   "cell_type": "code",
   "execution_count": 3,
   "metadata": {
    "collapsed": false
   },
   "outputs": [
    {
     "data": {
      "image/png": "[encoded data removed]",
      "text/plain": [
       "<IPython.core.display.Image object>"
      ]
     },
     "execution_count": 3,
     "metadata": {},
     "output_type": "execute_result"
    }
   ],
   "source": [
    "Image(filename='Data/Data-table.png')"
   ]
  },
  {
   "cell_type": "markdown",
   "metadata": {},
   "source": [
    "The aim of our visualization is to illustrate the total number of posts by each community member, and the \n",
    "flows of posts between pairs of friends."
   ]
  },
  {
   "cell_type": "code",
   "execution_count": 4,
   "metadata": {
    "collapsed": true
   },
   "outputs": [],
   "source": [
    "import numpy as np"
   ]
  },
  {
   "cell_type": "markdown",
   "metadata": {},
   "source": [
    "Define the array of data:"
   ]
  },
  {
   "cell_type": "code",
   "execution_count": 5,
   "metadata": {
    "collapsed": false
   },
   "outputs": [],
   "source": [
    "matrix=np.array([[16,  3, 28,  0, 18],\n",
    "                 [18,  0, 12,  5, 29],\n",
    "                 [ 9, 11, 17, 27,  0],  \n",
    "                 [19,  0, 31, 11, 12],\n",
    "                 [23, 17, 10,  0, 34]], dtype=int)"
   ]
  },
  {
   "cell_type": "code",
   "execution_count": 6,
   "metadata": {
    "collapsed": true
   },
   "outputs": [],
   "source": [
    "def check_data(data_matrix):\n",
    "    L, M=data_matrix.shape\n",
    "    if L!=M:\n",
    "        raise ValueError('Data array must have (n,n) shape')\n",
    "    return L"
   ]
  },
  {
   "cell_type": "code",
   "execution_count": 7,
   "metadata": {
    "collapsed": false
   },
   "outputs": [],
   "source": [
    "L=check_data(matrix)"
   ]
  },
  {
   "cell_type": "markdown",
   "metadata": {},
   "source": [
    "A chord diagram encodes information in two graphical objects:\n",
    "  - ideograms, represented by   distinctly colored arcs of circles;\n",
    "  - ribbons, that are planar shapes bounded by two quadratic Bezier curves and two arcs of circle,that can degenerate to a point;"
   ]
  },
  {
   "cell_type": "markdown",
   "metadata": {},
   "source": [
    "### Ideograms ###"
   ]
  },
  {
   "cell_type": "markdown",
   "metadata": {},
   "source": [
    "Summing up the entries on each matrix row, one gets a value (in our example this value is equal to the number of posts by a community member).\n",
    "Let us denote by `total_comments` the total number of posts recorded in this community.\n",
    "\n",
    "Theoretically the interval `[0, total_comments)` is mapped linearly onto the unit circle, identified with the interval $[0,2\\pi)$. \n",
    "\n",
    "For a better looking plot one proceeds as follows: starting from the angular position $0$, in counter-clockwise direction, one draws succesively, around the unit circle,  two parallel arcs of length equal to a mapped row sum value, minus a fixed gap. Click the image below:\n",
    "\n"
   ]
  },
  {
   "cell_type": "markdown",
   "metadata": {},
   "source": [
    "<div>\n",
    "    <a href=\"https://plot.ly/~empet/12234/\" target=\"_blank\" title=\"Ideograms\" style=\"display: block; text-align: center;\"><img src=\"https://plot.ly/~empet/12234.png\" alt=\"Ideograms\" style=\"max-width: 100%;width: 400px;\"  width=\"400\" onerror=\"this.onerror=null;this.src='https://plot.ly/404.png';\" /></a>\n",
    "    <script data-plotly=\"empet:12234\"  src=\"https://plot.ly/embed.js\" async></script>\n",
    "</div>\n"
   ]
  },
  {
   "cell_type": "markdown",
   "metadata": {},
   "source": [
    "Now we define the functions that process  data in order to get ideogram ends.\n",
    "\n",
    "As we stressed the unit circle is oriented counter-clockwise.\n",
    "In order to get  an arc of circle of  end angular\n",
    "coordinates $\\theta_0<\\theta_1$, we define a function `moduloAB` that resolves the case when an arc contains\n",
    "the  point of angular coordinate $0$ (for example $\\theta_0=2\\pi-\\pi/12$, $\\theta_1=\\pi/9$). The function corresponding to $a=-\\pi, b=\\pi$  allows to map the interval $[0,2\\pi)$ onto $[-\\pi, \\pi)$. Via this transformation we have:\n",
    "\n",
    "$\\theta_0\\mapsto \\theta'_0=-\\pi/12$, and \n",
    "\n",
    "$ \\theta_1=\\mapsto \\theta'_1=\\pi/9$,\n",
    "\n",
    "and now $\\theta'_0<\\theta'_1$."
   ]
  },
  {
   "cell_type": "code",
   "execution_count": 8,
   "metadata": {
    "collapsed": true
   },
   "outputs": [],
   "source": [
    "PI=np.pi"
   ]
  },
  {
   "cell_type": "code",
   "execution_count": 9,
   "metadata": {
    "collapsed": true
   },
   "outputs": [],
   "source": [
    "def moduloAB(x, a, b): #maps a real number onto the unit circle identified with \n",
    "                       #the interval [a,b), b-a=2*PI\n",
    "        if a>=b:\n",
    "            raise ValueError('Incorrect interval ends')\n",
    "        y=(x-a)%(b-a)\n",
    "        return y+b if y<0 else y+a"
   ]
  },
  {
   "cell_type": "code",
   "execution_count": 10,
   "metadata": {
    "collapsed": true
   },
   "outputs": [],
   "source": [
    "def test_2PI(x):\n",
    "     return 0<= x <2*PI"
   ]
  },
  {
   "cell_type": "markdown",
   "metadata": {},
   "source": [
    "Compute the row sums and the lengths of corresponding ideograms:"
   ]
  },
  {
   "cell_type": "code",
   "execution_count": 11,
   "metadata": {
    "collapsed": false
   },
   "outputs": [],
   "source": [
    "row_sum=[np.sum(matrix[k,:]) for k in range(L)]\n",
    "\n",
    "#set the gap between two consecutive ideograms\n",
    "gap=2*PI*0.005\n",
    "ideogram_length=2*PI*np.asarray(row_sum)/sum(row_sum)-gap*np.ones(L)"
   ]
  },
  {
   "cell_type": "markdown",
   "metadata": {},
   "source": [
    "The next function returns the list of  end angular coordinates for each ideogram arc:"
   ]
  },
  {
   "cell_type": "code",
   "execution_count": 12,
   "metadata": {
    "collapsed": true
   },
   "outputs": [],
   "source": [
    "def get_ideogram_ends(ideogram_len, gap):\n",
    "    ideo_ends=[]\n",
    "    left=0\n",
    "    for k in range(len(ideogram_len)):\n",
    "        right=left+ideogram_len[k]\n",
    "        ideo_ends.append([left, right])   \n",
    "        left=right+gap\n",
    "    return ideo_ends "
   ]
  },
  {
   "cell_type": "code",
   "execution_count": 13,
   "metadata": {
    "collapsed": false
   },
   "outputs": [
    {
     "data": {
      "text/plain": [
       "[[0, 1.1354613447974538],\n",
       " [1.1668772713333517, 2.2843866581102921],\n",
       " [2.3158025846461898, 3.4333119714231302],\n",
       " [3.4647278979590279, 4.7438049069205865],\n",
       " [4.7752208334564843, 6.2517693806436867]]"
      ]
     },
     "execution_count": 13,
     "metadata": {},
     "output_type": "execute_result"
    }
   ],
   "source": [
    "ideo_ends=get_ideogram_ends(ideogram_length, gap)\n",
    "ideo_ends"
   ]
  },
  {
   "cell_type": "markdown",
   "metadata": {},
   "source": [
    "The function `make_ideogram_arc` returns equally spaced points on an ideogram arc, expressed as complex\n",
    "numbers in polar form:"
   ]
  },
  {
   "cell_type": "code",
   "execution_count": 14,
   "metadata": {
    "collapsed": false
   },
   "outputs": [],
   "source": [
    "def make_ideogram_arc(R, phi, a=50):\n",
    "    # R is the circle radius\n",
    "    # phi is the list of ends angle coordinates of an arc\n",
    "    # a is a parameter that controls the number of points to be evaluated on an arc\n",
    "    if not test_2PI(phi[0]) or not test_2PI(phi[1]):\n",
    "        phi=[moduloAB(t, 0, 2*PI) for t in phi]\n",
    "    length=(phi[1]-phi[0])% 2*PI \n",
    "    nr=5 if length<=PI/4 else int(a*length/PI)\n",
    "\n",
    "    if phi[0] < phi[1]:   \n",
    "        theta=np.linspace(phi[0], phi[1], nr)\n",
    "    else:\n",
    "        phi=[moduloAB(t, -PI, PI) for t in phi]\n",
    "        theta=np.linspace(phi[0], phi[1], nr)\n",
    "    return R*np.exp(1j*theta)   "
   ]
  },
  {
   "cell_type": "markdown",
   "metadata": {},
   "source": [
    "The real and imaginary parts of these complex numbers will be used to define the ideogram as a [Plotly\n",
    "shape](https://plot.ly/python/shapes/) bounded by a SVG path."
   ]
  },
  {
   "cell_type": "code",
   "execution_count": 15,
   "metadata": {
    "collapsed": false
   },
   "outputs": [
    {
     "name": "stdout",
     "output_type": "stream",
     "text": [
      "[ 1.12583302-0.65j        1.14814501-0.60972373j  1.16901672-0.5686826j\n",
      "  1.18842197-0.5269281j   1.20633642-0.48451259j  1.22273759-0.44148929j\n",
      "  1.23760491-0.39791217j  1.25091973-0.3538359j   1.26266534-0.30931575j\n",
      "  1.27282702-0.26440759j  1.28139202-0.21916775j  1.28834958-0.17365297j\n",
      "  1.29369099-0.12792036j  1.29740954-0.08202728j  1.29950058-0.0360313j\n",
      "  1.29996146+0.01000988j  1.29879163+0.0560385j   1.29599253+0.10199682j\n",
      "  1.29156770+0.1478272j   1.28552267+0.19347214j  1.27786503+0.23887437j]\n"
     ]
    }
   ],
   "source": [
    "z=make_ideogram_arc(1.3, [11*PI/6, PI/17])\n",
    "print z"
   ]
  },
  {
   "cell_type": "markdown",
   "metadata": {},
   "source": [
    "Set ideograms labels and colors:"
   ]
  },
  {
   "cell_type": "code",
   "execution_count": 17,
   "metadata": {
    "collapsed": true
   },
   "outputs": [],
   "source": [
    "labels=['Emma', 'Isabella', 'Ava', 'Olivia', 'Sophia']\n",
    "ideo_colors=['rgba(244, 109, 67, 0.75)',\n",
    "             'rgba(253, 174, 97, 0.75)',\n",
    "             'rgba(254, 224, 139, 0.75)',\n",
    "             'rgba(217, 239, 139, 0.75)',\n",
    "             'rgba(166, 217, 106, 0.75)']#brewer colors with alpha set on 0.75"
   ]
  },
  {
   "cell_type": "markdown",
   "metadata": {},
   "source": [
    "### Ribbons in a chord diagram ###"
   ]
  },
  {
   "cell_type": "markdown",
   "metadata": {},
   "source": [
    "While ideograms illustrate how many comments posted each member of the Facebook community,  ribbons\n",
    "give a comparative information on the flows of comments from one friend to another.\n",
    "\n",
    "To illustrate this flow we map data onto the unit circle. More precisely, for each matrix row, $k$, the application:\n",
    "\n",
    "`t`$\\mapsto$ `t*ideogram_length[k]/row_sum[k]`\n",
    "\n",
    "maps the interval `[0, row_sum[k]]` onto\n",
    "the interval `[0, ideogram_length[k]]`. Hence each entry `matrix[k][j]` of the $k^{th}$  row is mapped to `matrix[k][j]*ideogram_length[k]/row_value[k]`.\n",
    "\n",
    "The function `map_data` maps all matrix entries to the corresponding values in the intervals associated to ideograms:"
   ]
  },
  {
   "cell_type": "code",
   "execution_count": 18,
   "metadata": {
    "collapsed": true
   },
   "outputs": [],
   "source": [
    "def map_data(data_matrix, row_value, ideogram_length):\n",
    "    mapped=np.zeros(data_matrix.shape)\n",
    "    for j  in range(L):\n",
    "        mapped[:, j]=ideogram_length*data_matrix[:,j]/row_value\n",
    "    return mapped  "
   ]
  },
  {
   "cell_type": "code",
   "execution_count": 19,
   "metadata": {
    "collapsed": false
   },
   "outputs": [
    {
     "data": {
      "text/plain": [
       "array([[ 0.27949818,  0.05240591,  0.48912181,  0.        ,  0.31443545],\n",
       "       [ 0.31429952,  0.        ,  0.20953301,  0.08730542,  0.50637144],\n",
       "       [ 0.15714976,  0.19207193,  0.29683843,  0.47144927,  0.        ],\n",
       "       [ 0.33291045,  0.        ,  0.54316969,  0.19273763,  0.21025923],\n",
       "       [ 0.40429305,  0.2988253 ,  0.17577959,  0.        ,  0.5976506 ]])"
      ]
     },
     "execution_count": 19,
     "metadata": {},
     "output_type": "execute_result"
    }
   ],
   "source": [
    "mapped_data=map_data(matrix, row_sum, ideogram_length)\n",
    "mapped_data"
   ]
  },
  {
   "cell_type": "markdown",
   "metadata": {},
   "source": [
    "- To each pair of values `(mapped_data[k][j], mapped_data[j][k])`, $k<=j$,  one associates a ribbon, that is a curvilinear filled rectangle (that can be degenerate), having as opposite sides two subarcs of the $k^{th}$ ideogram, respectively $j^{th}$ ideogram, and two arcs of quadratic B&eacute;zier curves."
   ]
  },
  {
   "cell_type": "markdown",
   "metadata": {},
   "source": [
    "Here we illustrate the ribbons associated to pairs `(mapped_data[0][j], mapped_data[j][0])`, $j=\\overline{0,4}$,\n",
    "that illustrate the flow of comments between Emma and all other friends, and  herself:"
   ]
  },
  {
   "cell_type": "markdown",
   "metadata": {},
   "source": [
    "<div>\n",
    "    <a href=\"https://plot.ly/~empet/12519/\" target=\"_blank\" title=\"Ribbons\" style=\"display: block; text-align: center;\"><img src=\"https://plot.ly/~empet/12519.png\" alt=\"Ribbons\" style=\"max-width: 100%;width: 400px;\"  width=\"400\" onerror=\"this.onerror=null;this.src='https://plot.ly/404.png';\" /></a>\n",
    "    <script data-plotly=\"empet:12519\"  src=\"https://plot.ly/embed.js\" async></script>\n",
    "</div>\n",
    "\n"
   ]
  },
  {
   "cell_type": "markdown",
   "metadata": {},
   "source": [
    "- For a better looking chord diagram, \n",
    "[Circos documentation](http://circos.ca/presentations/articles/vis_tables1/) recommends to sort increasingly each row of the mapped_data. "
   ]
  },
  {
   "cell_type": "markdown",
   "metadata": {},
   "source": [
    "The  array `idx_sort`, defined below, has on each row the indices that sort the corresponding row in `mapped_data`:"
   ]
  },
  {
   "cell_type": "code",
   "execution_count": 22,
   "metadata": {
    "collapsed": false
   },
   "outputs": [
    {
     "data": {
      "text/plain": [
       "array([[3, 1, 0, 4, 2],\n",
       "       [1, 3, 2, 0, 4],\n",
       "       [4, 0, 1, 2, 3],\n",
       "       [1, 3, 4, 0, 2],\n",
       "       [3, 2, 1, 0, 4]])"
      ]
     },
     "execution_count": 22,
     "metadata": {},
     "output_type": "execute_result"
    }
   ],
   "source": [
    "idx_sort=np.argsort(mapped_data, axis=1)\n",
    "idx_sort"
   ]
  },
  {
   "cell_type": "markdown",
   "metadata": {},
   "source": [
    "In the following we call ribbon ends, the lists `l=[l[0], l[1]]`, `r=[r[0], r[1]]` having as elements the angular coordinates\n",
    "of the ends of arcs that are opposite sides in a ribbon. These arcs are sub-arcs in the internal boundaries of\n",
    "the ideograms, connected by the ribbon\n",
    "(see the image above)."
   ]
  },
  {
   "cell_type": "markdown",
   "metadata": {},
   "source": [
    "- Compute the ribbon ends  and store them as tuples \n",
    "in a list of lists ($L\\times L$):"
   ]
  },
  {
   "cell_type": "code",
   "execution_count": 23,
   "metadata": {
    "collapsed": true
   },
   "outputs": [],
   "source": [
    "def make_ribbon_ends(mapped_data, ideo_ends,  idx_sort):\n",
    "    L=mapped_data.shape[0]\n",
    "    ribbon_boundary=np.zeros((L,L+1))\n",
    "    for k in range(L):\n",
    "        start=ideo_ends[k][0]\n",
    "        ribbon_boundary[k][0]=start\n",
    "        for j in range(1,L+1):\n",
    "            J=idx_sort[k][j-1]\n",
    "            ribbon_boundary[k][j]=start+mapped_data[k][J]\n",
    "            start=ribbon_boundary[k][j]\n",
    "    return [[(ribbon_boundary[k][j],ribbon_boundary[k][j+1] ) for j in range(L)] for k in range(L)]   "
   ]
  },
  {
   "cell_type": "code",
   "execution_count": 24,
   "metadata": {
    "collapsed": false
   },
   "outputs": [
    {
     "name": "stdout",
     "output_type": "stream",
     "text": [
      "ribbon ends starting from the ideogram[2]\n",
      "[(2.3158025846461898, 2.3158025846461898), (2.3158025846461898, 2.472952342161697), (2.472952342161697, 2.6650242680139837), (2.6650242680139837, 2.9618626988766086), (2.9618626988766086, 3.4333119714231302)]\n"
     ]
    }
   ],
   "source": [
    "ribbon_ends=make_ribbon_ends(mapped_data, ideo_ends,  idx_sort)\n",
    "print 'ribbon ends starting from the ideogram[2]\\n', ribbon_ends[2]"
   ]
  },
  {
   "cell_type": "markdown",
   "metadata": {},
   "source": [
    "We note that `ribbon_ends[k][j]` correspond to `mapped_data[i][idx_sort[k][j]]`, i.e. the length of the arc of ends\n",
    "in `ribbon_ends[k][j]` is equal to `mapped_data[i][idx_sort[k][j]]`."
   ]
  },
  {
   "cell_type": "markdown",
   "metadata": {},
   "source": [
    "Now we define a few functions that compute the  control points for B&eacute;zier ribbon sides."
   ]
  },
  {
   "cell_type": "markdown",
   "metadata": {},
   "source": [
    "The function `control_pts` returns the cartesian coordinates of  the  control points, $b_0, b_1, b_2$, supposed as being  initially located on the unit circle, and thus defined only by their angular coordinate.  The angular coordinate\n",
    "of the point $b_1$ is the mean of angular coordinates of the points $b_0, b_2$.\n",
    "\n",
    "Since for a  B&eacute;zier ribbon side only $b_0, b_2$ are placed on the unit circle, one gives `radius` as a parameter that controls position of $b_1$.  `radius` is the distance  of $b_1$ to the circle center."
   ]
  },
  {
   "cell_type": "code",
   "execution_count": 41,
   "metadata": {
    "collapsed": true
   },
   "outputs": [],
   "source": [
    "def control_pts(angle, radius):\n",
    "    #angle is a  3-list containing angular coordinates of the control points b0, b1, b2\n",
    "    #radius is the distance from b1 to the  origin O(0,0) \n",
    "\n",
    "    if len(angle)!=3:\n",
    "        raise InvalidInputError('angle must have len =3')\n",
    "    b_cplx=np.array([np.exp(1j*angle[k]) for k in range(3)])\n",
    "    b_cplx[1]=radius*b_cplx[1]\n",
    "    return zip(b_cplx.real, b_cplx.imag)"
   ]
  },
  {
   "cell_type": "code",
   "execution_count": 42,
   "metadata": {
    "collapsed": true
   },
   "outputs": [],
   "source": [
    "def ctrl_rib_chords(l, r, radius):\n",
    "    # this function returns a 2-list containing control poligons of the two quadratic Bezier\n",
    "    #curves that are opposite sides in a ribbon\n",
    "    #l (r) the list of angular variables of the ribbon arc ends defining \n",
    "    #the ribbon starting (ending) arc \n",
    "    # radius is a common parameter for both control polygons\n",
    "    if len(l)!=2 or len(r)!=2:\n",
    "        raise ValueError('the arc ends must be elements in a list of len 2')\n",
    "    return [control_pts([l[j], (l[j]+r[j])/2, r[j]], radius) for j in range(2)]"
   ]
  },
  {
   "cell_type": "markdown",
   "metadata": {
    "collapsed": true
   },
   "source": [
    "Each ribbon is colored with the color of one of the two  ideograms it connects. \n",
    "We define an L-list of L-lists of colors for ribbons. Denote it by `ribbon_color`.\n",
    "\n",
    "`ribbon_color[k][j]` is the Plotly color string for the ribbon associated to `mapped_data[k][j]` and `mapped_data[j][k]`, i.e. the ribbon connecting two subarcs in the $k^{th}$, respectively, $j^{th}$ ideogram. Hence  this structure is symmetric."
   ]
  },
  {
   "cell_type": "markdown",
   "metadata": {},
   "source": [
    "Initially we define:"
   ]
  },
  {
   "cell_type": "code",
   "execution_count": 43,
   "metadata": {
    "collapsed": false
   },
   "outputs": [],
   "source": [
    "ribbon_color=[L*[ideo_colors[k]] for k in range(L)]"
   ]
  },
  {
   "cell_type": "markdown",
   "metadata": {
    "collapsed": false
   },
   "source": [
    "and then eventually we change the color in a few positions.\n",
    "\n",
    "For our example we change:"
   ]
  },
  {
   "cell_type": "code",
   "execution_count": 44,
   "metadata": {
    "collapsed": false
   },
   "outputs": [],
   "source": [
    "ribbon_color[0][4]=ideo_colors[4]\n",
    "ribbon_color[1][2]=ideo_colors[2]\n",
    "ribbon_color[2][3]=ideo_colors[3]\n",
    "ribbon_color[2][4]=ideo_colors[4]"
   ]
  },
  {
   "cell_type": "markdown",
   "metadata": {},
   "source": [
    "The symmetric locations are not modified, because  we do not access \n",
    "`ribbon_color[k][j]`, $k>j$, when drawing the ribbons."
   ]
  },
  {
   "cell_type": "markdown",
   "metadata": {},
   "source": [
    "Functions that return the Plotly SVG paths that are  ribbon boundaries:"
   ]
  },
  {
   "cell_type": "code",
   "execution_count": 45,
   "metadata": {
    "collapsed": true
   },
   "outputs": [],
   "source": [
    "def make_q_bezier(b):# defines the Plotly SVG path for a quadratic Bezier curve defined by the \n",
    "                     #list of its control points\n",
    "    if len(b)!=3:\n",
    "        raise valueError('control poligon must have 3 points')\n",
    "    A, B, C=b    \n",
    "    return 'M '+str(A[0])+',' +str(A[1])+' '+'Q '+\\\n",
    "                str(B[0])+', '+str(B[1])+ ' '+\\\n",
    "                str(C[0])+', '+str(C[1])"
   ]
  },
  {
   "cell_type": "code",
   "execution_count": 46,
   "metadata": {
    "collapsed": true
   },
   "outputs": [],
   "source": [
    "b=[(1,4), (-0.5, 2.35), (3.745, 1.47)]"
   ]
  },
  {
   "cell_type": "code",
   "execution_count": 47,
   "metadata": {
    "collapsed": false
   },
   "outputs": [
    {
     "data": {
      "text/plain": [
       "'M 1,4 Q -0.5, 2.35 3.745, 1.47'"
      ]
     },
     "execution_count": 47,
     "metadata": {},
     "output_type": "execute_result"
    }
   ],
   "source": [
    "make_q_bezier(b)"
   ]
  },
  {
   "cell_type": "markdown",
   "metadata": {},
   "source": [
    "`make_ribbon_arc`  returns the Plotly SVG path corresponding to an arc represented by its end angular coordinates `theta0, theta1`.\n"
   ]
  },
  {
   "cell_type": "code",
   "execution_count": 48,
   "metadata": {
    "collapsed": true
   },
   "outputs": [],
   "source": [
    "def make_ribbon_arc(theta0, theta1):\n",
    "\n",
    "    if test_2PI(theta0) and test_2PI(theta1):\n",
    "        if theta0 < theta1:\n",
    "            theta0= moduloAB(theta0, -PI, PI)\n",
    "            theta1= moduloAB(theta1, -PI, PI)\n",
    "            if theta0*theta1>0:\n",
    "                raise ValueError('incorrect angle coordinates for ribbon')\n",
    "    \n",
    "        nr=int(40*(theta0-theta1)/PI)\n",
    "        if nr<=2: nr=3\n",
    "        theta=np.linspace(theta0, theta1, nr)\n",
    "        pts=np.exp(1j*theta)# points on arc in polar complex form\n",
    "    \n",
    "        string_arc=''\n",
    "        for k in range(len(theta)):\n",
    "            string_arc+='L '+str(pts.real[k])+', '+str(pts.imag[k])+' '\n",
    "        return   string_arc \n",
    "    else:\n",
    "        raise ValueError('the angle coordinates for an arc side of a ribbon must be in [0, 2*pi]')"
   ]
  },
  {
   "cell_type": "code",
   "execution_count": 49,
   "metadata": {
    "collapsed": false
   },
   "outputs": [
    {
     "data": {
      "text/plain": [
       "'L 0.5, 0.866025403784 L 0.587785252292, 0.809016994375 L 0.669130606359, 0.743144825477 L 0.743144825477, 0.669130606359 L 0.809016994375, 0.587785252292 L 0.866025403784, 0.5 '"
      ]
     },
     "execution_count": 49,
     "metadata": {},
     "output_type": "execute_result"
    }
   ],
   "source": [
    "\n",
    "make_ribbon_arc(np.pi/3, np.pi/6)"
   ]
  },
  {
   "cell_type": "markdown",
   "metadata": {
    "collapsed": true
   },
   "source": [
    "Finally we are ready to define data and layout for the Plotly plot of the chord diagram."
   ]
  },
  {
   "cell_type": "code",
   "execution_count": 50,
   "metadata": {
    "collapsed": true
   },
   "outputs": [],
   "source": [
    "import plotly.plotly as py\n",
    "from plotly.graph_objs import *"
   ]
  },
  {
   "cell_type": "code",
   "execution_count": 51,
   "metadata": {
    "collapsed": true
   },
   "outputs": [],
   "source": [
    "def make_layout(title, plot_size):\n",
    "    axis=dict(showline=False, # hide axis line, grid, ticklabels and  title\n",
    "          zeroline=False,\n",
    "          showgrid=False,\n",
    "          showticklabels=False,\n",
    "          title='' \n",
    "          )\n",
    "\n",
    "    return Layout(title=title,\n",
    "                  xaxis=XAxis(axis),\n",
    "                  yaxis=YAxis(axis),\n",
    "                  showlegend=False,\n",
    "                  width=plot_size,\n",
    "                  height=plot_size,\n",
    "                  margin=Margin(t=25, b=25, l=25, r=25),\n",
    "                  hovermode='closest',\n",
    "                  shapes=[]# to this list one appends below the dicts defining the ribbon,\n",
    "                           #respectively the ideogram shapes\n",
    "                 )  "
   ]
  },
  {
   "cell_type": "markdown",
   "metadata": {},
   "source": [
    "Function that returns the Plotly shape of an ideogram:"
   ]
  },
  {
   "cell_type": "code",
   "execution_count": 52,
   "metadata": {
    "collapsed": false
   },
   "outputs": [],
   "source": [
    "def make_ideo_shape(path, line_color, fill_color):\n",
    "    #line_color is the color of the shape boundary\n",
    "    #fill_collor is the color assigned to an ideogram\n",
    "    return  dict(\n",
    "                  line=Line(\n",
    "                  color=line_color, \n",
    "                  width=0.45\n",
    "                 ),\n",
    "\n",
    "            path=  path,\n",
    "            type='path',\n",
    "            fillcolor=fill_color,    \n",
    "        )   \n"
   ]
  },
  {
   "cell_type": "markdown",
   "metadata": {},
   "source": [
    "We generate two types of ribbons: a ribbon connecting subarcs in two distinct ideograms, respectively\n",
    "a ribbon from one ideogram to itself (it corresponds to `mapped_data[k][k]`, i.e. it gives the flow of comments\n",
    "from a community member to herself)."
   ]
  },
  {
   "cell_type": "code",
   "execution_count": 60,
   "metadata": {
    "collapsed": true
   },
   "outputs": [],
   "source": [
    "def make_ribbon(l, r, line_color, fill_color, radius=0.2):\n",
    "    #l=[l[0], l[1]], r=[r[0], r[1]]  represent the opposite arcs in the ribbon \n",
    "    #line_color is the color of the shape boundary\n",
    "    #fill_color is the fill color for the ribbon shape\n",
    "    poligon=ctrl_rib_chords(l,r, radius)\n",
    "    b,c =poligon  \n",
    "           \n",
    "    return  dict(\n",
    "                line=Line(\n",
    "                color=line_color, width=0.5\n",
    "            ),\n",
    "            path=  make_q_bezier(b)+make_ribbon_arc(r[0], r[1])+\n",
    "                   make_q_bezier(c[::-1])+make_ribbon_arc(l[1], l[0]),\n",
    "            type='path',\n",
    "            fillcolor=fill_color,    \n",
    "        )\n",
    "\n",
    "def make_self_rel(l, line_color, fill_color, radius):\n",
    "    #radius is the radius of Bezier control point b_1\n",
    "    b=control_pts([l[0], (l[0]+l[1])/2, l[1]], radius) \n",
    "    return  dict(\n",
    "                line=Line(\n",
    "                color=line_color, width=0.5\n",
    "            ),\n",
    "            path=  make_q_bezier(b)+make_ribbon_arc(l[1], l[0]),\n",
    "            type='path',\n",
    "            fillcolor=fill_color,    \n",
    "        )"
   ]
  },
  {
   "cell_type": "code",
   "execution_count": 61,
   "metadata": {
    "collapsed": true
   },
   "outputs": [],
   "source": [
    "def invPerm(perm):\n",
    "    # function that returns the inverse of a permutation, perm\n",
    "    inv = [0] * len(perm)\n",
    "    for i, s in enumerate(perm):\n",
    "        inv[s] = i\n",
    "    return inv\n"
   ]
  },
  {
   "cell_type": "code",
   "execution_count": 68,
   "metadata": {
    "collapsed": false
   },
   "outputs": [],
   "source": [
    "layout=make_layout('Chord diagram', 400)\n",
    "    "
   ]
  },
  {
   "cell_type": "markdown",
   "metadata": {},
   "source": [
    "Now let us explain the key point of associating  ribbons  to right data:\n",
    "    \n",
    "From the definition of `ribbon_ends` we notice that `ribbon_ends[k][j]` corresponds to data stored in\n",
    "`matrix[k][sigma[j]]`, where `sigma` is the permutation of indices $0, 1, \\ldots L-1$, that sort the row k in `mapped_data`.\n",
    "If `sigma_inv` is the inverse permutation of `sigma`, we get that to `matrix[k][j]` corresponds the\n",
    "`ribbon_ends[k][sigma_inv[j]]`."
   ]
  },
  {
   "cell_type": "markdown",
   "metadata": {},
   "source": [
    "`ribbon_info` is a list of dicts setting the information that is displayed when hovering the mouse over the  ribbon ends."
   ]
  },
  {
   "cell_type": "markdown",
   "metadata": {},
   "source": [
    "Set the radius of B&eacute;zier control point, $b_1$, for each ribbon associated to a diagonal data entry:"
   ]
  },
  {
   "cell_type": "code",
   "execution_count": 69,
   "metadata": {
    "collapsed": true
   },
   "outputs": [],
   "source": [
    "radii_sribb=[0.4, 0.30, 0.35, 0.39, 0.12]# these value are set after a few trials "
   ]
  },
  {
   "cell_type": "code",
   "execution_count": 70,
   "metadata": {
    "collapsed": false
   },
   "outputs": [],
   "source": [
    "ribbon_info=[]\n",
    "for k in range(L):\n",
    "    \n",
    "    sigma=idx_sort[k]\n",
    "    sigma_inv=invPerm(sigma)\n",
    "    for j in range(k, L):\n",
    "        if matrix[k][j]==0 and matrix[j][k]==0: continue\n",
    "        eta=idx_sort[j]\n",
    "        eta_inv=invPerm(eta)\n",
    "        l=ribbon_ends[k][sigma_inv[j]]  \n",
    "        \n",
    "        if j==k:\n",
    "            layout['shapes'].append(make_self_rel(l, 'rgb(175,175,175)' ,\n",
    "                                    ideo_colors[k], radius=radii_sribb[k])) \n",
    "            z=0.9*np.exp(1j*(l[0]+l[1])/2)\n",
    "            #the text below will be displayed when hovering the mouse over the ribbon\n",
    "            text=labels[k]+' commented on '+ '{:d}'.format(matrix[k][k])+' of '+ 'herself Fb posts',\n",
    "            ribbon_info.append(Scatter(x=z.real,\n",
    "                                       y=z.imag,\n",
    "                                       mode='markers',\n",
    "                                       marker=Marker(size=0.5, color=ideo_colors[k]),\n",
    "                                       text=text,\n",
    "                                       hoverinfo='text'\n",
    "                                       )\n",
    "                              )\n",
    "        else:\n",
    "            r=ribbon_ends[j][eta_inv[k]]\n",
    "            zi=0.9*np.exp(1j*(l[0]+l[1])/2)\n",
    "            zf=0.9*np.exp(1j*(r[0]+r[1])/2)\n",
    "            #texti and textf are the strings that will be displayed when hovering the mouse \n",
    "            #over the two ribbon ends\n",
    "            texti=labels[k]+' commented on '+ '{:d}'.format(matrix[k][j])+' of '+\\\n",
    "                  labels[j]+ ' Fb posts',\n",
    "            \n",
    "            textf=labels[j]+' commented on '+ '{:d}'.format(matrix[j][k])+' of '+\\\n",
    "            labels[k]+ ' Fb posts',\n",
    "            ribbon_info.append(Scatter(x=zi.real,\n",
    "                                       y=zi.imag,\n",
    "                                       mode='markers',\n",
    "                                       marker=Marker(size=0.5, color=ribbon_color[k][j]),\n",
    "                                       text=texti,\n",
    "                                       hoverinfo='text'\n",
    "                                       )\n",
    "                              ),\n",
    "            ribbon_info.append(Scatter(x=zf.real,\n",
    "                                       y=zf.imag,\n",
    "                                       mode='markers',\n",
    "                                       marker=Marker(size=0.5, color=ribbon_color[k][j]),\n",
    "                                       text=textf,\n",
    "                                       hoverinfo='text'\n",
    "                                       )\n",
    "                              )\n",
    "            r=(r[1], r[0])#IMPORTANT!!!  Reverse these arc ends because otherwise you get\n",
    "                          # a twisted ribbon\n",
    "            #append the ribbon shape\n",
    "            layout['shapes'].append(make_ribbon(l, r, 'rgb(175,175,175)' , ribbon_color[k][j]))\n",
    "           \n",
    "                                    \n",
    "            "
   ]
  },
  {
   "cell_type": "markdown",
   "metadata": {},
   "source": [
    "`ideograms` is a list of dicts that set the position, and color of ideograms, as well as the information associated to each ideogram.\n"
   ]
  },
  {
   "cell_type": "code",
   "execution_count": 71,
   "metadata": {
    "collapsed": false
   },
   "outputs": [],
   "source": [
    "ideograms=[]\n",
    "for k in range(len(ideo_ends)):\n",
    "    z= make_ideogram_arc(1.1, ideo_ends[k])\n",
    "    zi=make_ideogram_arc(1.0, ideo_ends[k])\n",
    "    m=len(z)\n",
    "    n=len(zi)\n",
    "    ideograms.append(Scatter(x=z.real,\n",
    "                             y=z.imag,\n",
    "                             mode='lines',\n",
    "                             line=Line(color=ideo_colors[k], shape='spline', width=0.25),\n",
    "                             text=labels[k]+'<br>'+'{:d}'.format(row_sum[k]), \n",
    "                             hoverinfo='text'\n",
    "                             )\n",
    "                     )\n",
    "    \n",
    "       \n",
    "    path='M '\n",
    "    for s in range(m):\n",
    "        path+=str(z.real[s])+', '+str(z.imag[s])+' L '\n",
    "        \n",
    "    Zi=np.array(zi.tolist()[::-1]) \n",
    "\n",
    "    for s in range(m):\n",
    "        path+=str(Zi.real[s])+', '+str(Zi.imag[s])+' L '\n",
    "    path+=str(z.real[0])+' ,'+str(z.imag[0]) \n",
    "   \n",
    "    layout['shapes'].append(make_ideo_shape(path,'rgb(150,150,150)' , ideo_colors[k]))"
   ]
  },
  {
   "cell_type": "code",
   "execution_count": 72,
   "metadata": {
    "collapsed": false
   },
   "outputs": [
    {
     "data": {
      "text/html": [
       "<iframe id=\"igraph\" scrolling=\"no\" style=\"border:none;\"seamless=\"seamless\" src=\"https://plot.ly/~empet/12405.embed\" height=\"400px\" width=\"400px\"></iframe>"
      ],
      "text/plain": [
       "<plotly.tools.PlotlyDisplay object>"
      ]
     },
     "execution_count": 72,
     "metadata": {},
     "output_type": "execute_result"
    }
   ],
   "source": [
    "data=Data(ideograms+ribbon_info)\n",
    "py.sign_in('empet', 'my_api_key')\n",
    "fig=Figure(data=data, layout=layout)\n",
    "\n",
    "py.iplot(fig, filename='chord-diagram-Fb') "
   ]
  },
  {
   "cell_type": "markdown",
   "metadata": {},
   "source": [
    "Here is a chord diagram associated to a community of 8 Facebook friends:"
   ]
  },
  {
   "cell_type": "code",
   "execution_count": 75,
   "metadata": {
    "collapsed": false
   },
   "outputs": [
    {
     "data": {
      "text/html": [
       "<iframe src=https://plot.ly/~empet/12148/chord-diagram-of-facebook-comments-in-a-community/     width=500 height=500></iframe>"
      ],
      "text/plain": [
       "<IPython.core.display.HTML object>"
      ]
     },
     "execution_count": 75,
     "metadata": {},
     "output_type": "execute_result"
    }
   ],
   "source": [
    "from IPython.display import HTML\n",
    "HTML('<iframe src=https://plot.ly/~empet/12148/chord-diagram-of-facebook-comments-in-a-community/\\\n",
    "     width=500 height=500></iframe>')"
   ]
  },
  {
   "cell_type": "code",
   "execution_count": 1,
   "metadata": {
    "collapsed": false
   },
   "outputs": [
    {
     "data": {
      "text/html": [
       "<style>\n",
       "    /*body {\n",
       "        background-color: #F5F5F5;\n",
       "    }*/\n",
       "    div.cell{\n",
       "        width: 900px;\n",
       "        margin-left: 13% !important;\n",
       "        margin-right: auto;\n",
       "    }\n",
       "    #notebook li { /* More space between bullet points */\n",
       "    margin-top:0.8em;\n",
       "    }\n",
       "\n",
       "    h1 {\n",
       "        font-family: 'Alegreya Sans', sans-serif;\n",
       "    }\n",
       "    .text_cell_render h1 {\n",
       "        font-weight: 200;\n",
       "        font-size: 40pt;\n",
       "        line-height: 100%;\n",
       "        color: rgb(8, 66, 133);\n",
       "        margin-bottom: 0em;\n",
       "        margin-top: 0em;\n",
       "        display: block;\n",
       "    }\n",
       "    h2 {\n",
       "        font-family: 'Fenix', serif;\n",
       "        text-indent:1em;\n",
       "        text-align:center;\n",
       "    }\n",
       "    .text_cell_render h2 {\n",
       "        font-weight: 200;\n",
       "        font-size: 28pt;\n",
       "        line-height: 100%;\n",
       "        color: rgb(8, 66, 133);\n",
       "        margin-bottom: 1.5em;\n",
       "        margin-top: 0.5em;\n",
       "        display: block;\n",
       "    }\n",
       "    h3 {\n",
       "        font-family: 'Fenix', serif;\n",
       "        %margin-top:12px;\n",
       "        %margin-bottom: 3px;\n",
       "    }\n",
       "    .text_cell_render h3 {\n",
       "        font-weight: 300;\n",
       "        font-size: 18pt;\n",
       "        line-height: 100%;\n",
       "        color: rgb(8, 66, 133);\n",
       "        margin-bottom: 0.5em;\n",
       "        margin-top: 2em;\n",
       "        display: block;\n",
       "    }\n",
       "    h4 {\n",
       "        font-family: 'Fenix', serif;\n",
       "    }\n",
       "    .text_cell_render h4 {\n",
       "        font-weight: 300;\n",
       "        font-size: 16pt;\n",
       "        color: rgb(8, 66, 133);\n",
       "        margin-bottom: 0.5em;\n",
       "        margin-top: 0.5em;\n",
       "        display: block;\n",
       "    }\n",
       "    h5 {\n",
       "        font-family: 'Alegreya Sans', sans-serif;\n",
       "    }\n",
       "    .text_cell_render h5 {\n",
       "        font-weight: 300;\n",
       "        font-style: normal;\n",
       "        font-size: 16pt;\n",
       "        margin-bottom: 0em;\n",
       "        margin-top: 1.5em;\n",
       "        display: block;\n",
       "        }\n",
       "    div.text_cell_render{\n",
       "        font-family: 'Alegreya Sans',Computer Modern, \"Helvetica Neue\", Arial, Helvetica, Geneva, sans-serif;\n",
       "        line-height: 145%;\n",
       "        font-size: 130%;\n",
       "        width:900px;\n",
       "        margin-left:auto;\n",
       "        margin-right:auto;\n",
       "        %text-align:justify;\n",
       "        %text-justify:inter-word;\n",
       "    }\n",
       "    \n",
       "    \n",
       "    code{\n",
       "      font-size: 78%;\n",
       "    }\n",
       "    .rendered_html code{\n",
       "        background-color: transparent;\n",
       "        white-space: inherit;   \n",
       "    }\n",
       "    .prompt{\n",
       "        display: None;\n",
       "     }\n",
       "    .rendered_html code{\n",
       "    background-color: transparent;\n",
       "    }\n",
       "\n",
       "    blockquote{\n",
       "      display:block;\n",
       "      background: #f3f3f3;\n",
       "      font-family: \"Open sans\",verdana,arial,sans-serif;\n",
       "      width:610px;\n",
       "      padding: 15px 15px 15px 15px;\n",
       "      text-align:justify;\n",
       "      text-justify:inter-word;\n",
       "      }\n",
       "      blockquote p {\n",
       "        margin-bottom: 0;\n",
       "        line-height: 125%;\n",
       "        font-size: 100%;\n",
       "      }\n",
       "   /* element.style {\n",
       "    } */\n",
       "</style>\n",
       "<script>\n",
       "    MathJax.Hub.Config({\n",
       "                        TeX: {\n",
       "                           extensions: [\"AMSmath.js\"]\n",
       "                           },\n",
       "                tex2jax: {\n",
       "                    inlineMath: [ [\"$\",\"$\"], [\"\\\\(\",\"\\\\)\"] ],\n",
       "                    displayMath: [ [\"$$\",\"$$\"], [\"\\\\[\",\"\\\\]\"] ]\n",
       "                },\n",
       "                displayAlign: \"center\", // Change this to \"center\" to center equations.\n",
       "                \"HTML-CSS\": {\n",
       "                    styles: {\".MathJax_Display\": {\"margin\": 4}}\n",
       "                }\n",
       "        });\n",
       "</script>\n"
      ],
      "text/plain": [
       "<IPython.core.display.HTML object>"
      ]
     },
     "execution_count": 1,
     "metadata": {},
     "output_type": "execute_result"
    }
   ],
   "source": [
    "from IPython.core.display import HTML\n",
    "def  css_styling():\n",
    "    styles = open(\"./custom.css\", \"r\").read()\n",
    "    return HTML(styles)\n",
    "css_styling()"
   ]
  }
 ],
 "metadata": {
  "kernelspec": {
   "display_name": "Python 2",
   "language": "python",
   "name": "python2"
  },
  "language_info": {
   "codemirror_mode": {
    "name": "ipython",
    "version": 2
   },
   "file_extension": ".py",
   "mimetype": "text/x-python",
   "name": "python",
   "nbconvert_exporter": "python",
   "pygments_lexer": "ipython2",
   "version": "2.7.10"
  }
 },
 "nbformat": 4,
 "nbformat_minor": 0
}
