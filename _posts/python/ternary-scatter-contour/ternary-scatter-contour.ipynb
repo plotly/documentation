{
 "cells": [
  {
   "cell_type": "markdown",
   "metadata": {},
   "source": [
    "## Creating Ternary Plots from JSON Data\n",
    "---\n",
    "\n",
    "### Importing required Libraries:"
   ]
  },
  {
   "cell_type": "code",
   "execution_count": 1,
   "metadata": {
    "collapsed": true
   },
   "outputs": [],
   "source": [
    "import plotly.plotly as py\n",
    "import json"
   ]
  },
  {
   "cell_type": "code",
   "execution_count": 2,
   "metadata": {
    "collapsed": false
   },
   "outputs": [
    {
     "name": "stdout",
     "output_type": "stream",
     "text": [
      "2015-06-30-ternary-scatter-contour.html scatter_data.json\r\n",
      "contour_data.json                       ternary-scatter-contour.ipynb\r\n"
     ]
    }
   ],
   "source": [
    "# Data Files:\n",
    "!ls"
   ]
  },
  {
   "cell_type": "markdown",
   "metadata": {},
   "source": [
    "### Loading Data Files into Python object:"
   ]
  },
  {
   "cell_type": "code",
   "execution_count": 3,
   "metadata": {
    "collapsed": false
   },
   "outputs": [],
   "source": [
    "contour_raw_data = json.loads(open('contour_data.json').read())\n",
    "scatter_raw_data = json.loads(open('scatter_data.json').read())"
   ]
  },
  {
   "cell_type": "code",
   "execution_count": 4,
   "metadata": {
    "collapsed": false
   },
   "outputs": [],
   "source": [
    "scatter_data =  scatter_raw_data['Data']"
   ]
  },
  {
   "cell_type": "markdown",
   "metadata": {},
   "source": [
    "We define a utility method to clean the data, so that it can be conveniently added to the traces:"
   ]
  },
  {
   "cell_type": "code",
   "execution_count": 5,
   "metadata": {
    "collapsed": false
   },
   "outputs": [
    {
     "name": "stdout",
     "output_type": "stream",
     "text": [
      "['L1', [0.03, 0.5, 0.47], [0.4, 0.5, 0.1]]\n"
     ]
    }
   ],
   "source": [
    "def clean_data(data_in):\n",
    "    \"\"\"\n",
    "    Cleans data in a format which can be conveniently \n",
    "    used for drawing traces. Takes a dictionary as the \n",
    "    input, and returns a list in the following format:\n",
    "\n",
    "    input = {'key': ['a b c']}\n",
    "    output = [key, [a, b, c]]\n",
    "    \"\"\"\n",
    "    key = data_in.keys()[0]\n",
    "    data_out = [key]\n",
    "    for i in data_in[key]:\n",
    "        data_out.append(map(float, i.split(' ')))\n",
    "\n",
    "    return data_out\n",
    "\n",
    "\n",
    "#Example:\n",
    "print clean_data({'L1': ['.03 0.5 0.47','0.4 0.5 0.1']})    "
   ]
  },
  {
   "cell_type": "markdown",
   "metadata": {},
   "source": [
    "### Plotting Ternary Scatter Plot:"
   ]
  },
  {
   "cell_type": "code",
   "execution_count": 6,
   "metadata": {
    "collapsed": false
   },
   "outputs": [],
   "source": [
    "# Defining Empty lists for holding clean data\n",
    "a_list = []\n",
    "b_list = []\n",
    "c_list = []\n",
    "text = []\n",
    "\n",
    "for raw_data in scatter_data:\n",
    "    data = clean_data(raw_data)\n",
    "    text.append(data[0])\n",
    "    c_list.append(data[1][0])\n",
    "    a_list.append(data[1][1])\n",
    "    b_list.append(data[1][2])\n",
    "\n",
    "\n",
    "trace1 = dict(type='scatterternary',text=text,\n",
    "        a=a_list,\n",
    "        b=b_list,\n",
    "        c=c_list,\n",
    "        mode='markers',\n",
    "        marker={\n",
    "            'symbol': 100,\n",
    "            'color': 'green',\n",
    "            'size': 10\n",
    "        },\n",
    "    )"
   ]
  },
  {
   "cell_type": "code",
   "execution_count": 7,
   "metadata": {
    "collapsed": false
   },
   "outputs": [],
   "source": [
    "layout = {\n",
    "    'title': 'Ternary Scatter Plot',\n",
    "    'ternary':\n",
    "        {\n",
    "        'sum':1,\n",
    "        'aaxis':{'title': 'X', 'min': 0.01, 'linewidth':2, 'ticks':'outside' },\n",
    "        'baxis':{'title': 'W', 'min': 0.01, 'linewidth':2, 'ticks':'outside' },\n",
    "        'caxis':{'title': 'S', 'min': 0.01, 'linewidth':2, 'ticks':'outside' }\n",
    "    },\n",
    "    'showlegend': False\n",
    "}"
   ]
  },
  {
   "cell_type": "code",
   "execution_count": 8,
   "metadata": {
    "collapsed": false
   },
   "outputs": [],
   "source": [
    "figure = dict(data=[trace1], layout=layout)"
   ]
  },
  {
   "cell_type": "code",
   "execution_count": 9,
   "metadata": {
    "collapsed": false
   },
   "outputs": [
    {
     "data": {
      "text/html": [
       "<iframe id=\"igraph\" scrolling=\"no\" style=\"border:none;\" seamless=\"seamless\" src=\"https://plot.ly/~tarzzz/2300.embed\" height=\"525px\" width=\"100%\"></iframe>"
      ],
      "text/plain": [
       "<plotly.tools.PlotlyDisplay object>"
      ]
     },
     "execution_count": 9,
     "metadata": {},
     "output_type": "execute_result"
    }
   ],
   "source": [
    "py.iplot(figure)"
   ]
  },
  {
   "cell_type": "markdown",
   "metadata": {},
   "source": [
    "---\n",
    "\n",
    "\n",
    "## Ternary Contour Plot:"
   ]
  },
  {
   "cell_type": "code",
   "execution_count": 10,
   "metadata": {
    "collapsed": true
   },
   "outputs": [],
   "source": [
    "contour_dict = contour_raw_data['Data']"
   ]
  },
  {
   "cell_type": "code",
   "execution_count": 11,
   "metadata": {
    "collapsed": false
   },
   "outputs": [],
   "source": [
    "# Defining a colormap:\n",
    "colors = ['#8dd3c7','#ffffb3','#bebada',\n",
    "          '#fb8072','#80b1d3','#fdb462',\n",
    "          '#b3de69','#fccde5','#d9d9d9',\n",
    "          '#bc80bd']\n",
    "colors_iterator = iter(colors)"
   ]
  },
  {
   "cell_type": "code",
   "execution_count": 12,
   "metadata": {
    "collapsed": false
   },
   "outputs": [],
   "source": [
    "traces = []\n",
    "\n",
    "for raw_data in contour_dict:\n",
    "    data = clean_data(raw_data)\n",
    "    \n",
    "    a = [inner_data[0] for inner_data in data[1:]]\n",
    "    a.append(data[1][0]) # Closing the loop \n",
    "    \n",
    "    b = [inner_data[1] for inner_data in data[1:]]\n",
    "    b.append(data[1][1]) # Closing the loop     \n",
    "    \n",
    "    c = [inner_data[2] for inner_data in data[1:]]\n",
    "    c.append(data[1][2]) # Closing the loop     \n",
    "    \n",
    "    trace = dict(\n",
    "        type='scatterternary',text = data[0],\n",
    "        a=a, b=b, c=c, mode='lines',\n",
    "        line=dict(color='#444', shape='spline'),\n",
    "        fill='toself',\n",
    "        fillcolor = colors_iterator.next()\n",
    "    )\n",
    "    traces.append(trace)\n",
    "\n"
   ]
  },
  {
   "cell_type": "code",
   "execution_count": 13,
   "metadata": {
    "collapsed": true
   },
   "outputs": [],
   "source": [
    "layout['title'] = 'Ternary Contour Plot'\n",
    "figure = dict(data=traces, layout=layout)"
   ]
  },
  {
   "cell_type": "code",
   "execution_count": 14,
   "metadata": {
    "collapsed": false
   },
   "outputs": [
    {
     "data": {
      "text/html": [
       "<iframe id=\"igraph\" scrolling=\"no\" style=\"border:none;\" seamless=\"seamless\" src=\"https://plot.ly/~tarzzz/2302.embed\" height=\"525px\" width=\"100%\"></iframe>"
      ],
      "text/plain": [
       "<plotly.tools.PlotlyDisplay object>"
      ]
     },
     "execution_count": 14,
     "metadata": {},
     "output_type": "execute_result"
    }
   ],
   "source": [
    "py.iplot(figure)"
   ]
  },
  {
   "cell_type": "markdown",
   "metadata": {},
   "source": [
    "### Scatter Plot Overlaid on Contour Plot:\n",
    "\n",
    "We will change the marker symbol for the `trace1` (The one used in scatter plot), so that it is distinctly visible on the contour background:"
   ]
  },
  {
   "cell_type": "code",
   "execution_count": 15,
   "metadata": {
    "collapsed": true
   },
   "outputs": [],
   "source": [
    "trace1['marker']['symbol'] = 'x'\n",
    "trace1['marker']['color'] = '#4d79ff'\n",
    "traces.append(trace1)\n",
    "\n",
    "\n",
    "# update title:\n",
    "layout['title'] = 'Scatter Plot overlaid on Ternary Contour Plot'"
   ]
  },
  {
   "cell_type": "code",
   "execution_count": 16,
   "metadata": {
    "collapsed": true
   },
   "outputs": [],
   "source": [
    "figure = dict(data=traces, layout=layout)"
   ]
  },
  {
   "cell_type": "code",
   "execution_count": 17,
   "metadata": {
    "collapsed": false
   },
   "outputs": [
    {
     "data": {
      "text/html": [
       "<iframe id=\"igraph\" scrolling=\"no\" style=\"border:none;\" seamless=\"seamless\" src=\"https://plot.ly/~tarzzz/2303.embed\" height=\"525px\" width=\"100%\"></iframe>"
      ],
      "text/plain": [
       "<plotly.tools.PlotlyDisplay object>"
      ]
     },
     "execution_count": 17,
     "metadata": {},
     "output_type": "execute_result"
    }
   ],
   "source": [
    "py.iplot(figure)"
   ]
  },
  {
   "cell_type": "code",
   "execution_count": null,
   "metadata": {
    "collapsed": true
   },
   "outputs": [],
   "source": []
  },
  {
   "cell_type": "code",
   "execution_count": null,
   "metadata": {
    "collapsed": false
   },
   "outputs": [],
   "source": [
    "from IPython.display import display, HTML\n",
    "\n",
    "display(HTML('<link href=\"//fonts.googleapis.com/css?family=Open+Sans:600,400,300,200|Inconsolata|Ubuntu+Mono:400,700\" rel=\"stylesheet\" type=\"text/css\" />'))\n",
    "display(HTML('<link rel=\"stylesheet\" type=\"text/css\" href=\"http://help.plot.ly/documentation/all_static/css/ipython-notebook-custom.css\">'))\n",
    "\n",
    "! pip install publisher --upgrade\n",
    "import publisher\n",
    "publisher.publish(\n",
    "    'ternary-scatter-contour.ipynb', 'python/ternary-scatter-contour', 'Python Ternary Scatter Overlaid on Contour | plotly',\n",
    "    'How to make A scatter plot overlaid on ternary contour in Python with Plotly.',\n",
    "    name = 'Ternary Scatter Overlaid on Contour',\n",
    "    thumbnail='thumbnail/ternary-scatter-contour.jpg', language='python',\n",
    "    page_type='example_index', has_thumbnail='true', display_as='chart_type', order=1)"
   ]
  },
  {
   "cell_type": "code",
   "execution_count": null,
   "metadata": {
    "collapsed": true
   },
   "outputs": [],
   "source": []
  }
 ],
 "metadata": {
  "kernelspec": {
   "display_name": "Python 2",
   "language": "python",
   "name": "python2"
  },
  "language_info": {
   "codemirror_mode": {
    "name": "ipython",
    "version": 2
   },
   "file_extension": ".py",
   "mimetype": "text/x-python",
   "name": "python",
   "nbconvert_exporter": "python",
   "pygments_lexer": "ipython2",
   "version": "2.7.11"
  }
 },
 "nbformat": 4,
 "nbformat_minor": 0
}
