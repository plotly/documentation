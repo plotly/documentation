{
 "cells": [
  {
   "cell_type": "markdown",
   "metadata": {},
   "source": [
    "#### New to Plotly?\n",
    "Plotly's Python library is free and open source! [Get started](https://plot.ly/python/getting-started/) by downloading the client and [reading the primer](https://plot.ly/python/getting-started/).\n",
    "<br>You can set up Plotly to work in [online](https://plot.ly/python/getting-started/#initialization-for-online-plotting) or [offline](https://plot.ly/python/getting-started/#initialization-for-offline-plotting) mode, or in [jupyter notebooks](https://plot.ly/python/getting-started/#start-plotting-online).\n",
    "<br>We also have a quick-reference [cheatsheet](https://images.plot.ly/plotly-documentation/images/python_cheat_sheet.pdf) (new!) to help you get started!"
   ]
  },
  {
   "cell_type": "markdown",
   "metadata": {
    "collapsed": true
   },
   "source": [
    "#### Version Check\n",
    "Note: Ternary Charts are available in version 1.9.10+\n",
    "Run pip install plotly --upgrade to update your Plotly version"
   ]
  },
  {
   "cell_type": "code",
   "execution_count": 1,
   "metadata": {
    "collapsed": false
   },
   "outputs": [
    {
     "data": {
      "text/plain": [
       "'1.12.1'"
      ]
     },
     "execution_count": 1,
     "metadata": {},
     "output_type": "execute_result"
    }
   ],
   "source": [
    "import plotly\n",
    "plotly.__version__"
   ]
  },
  {
   "cell_type": "markdown",
   "metadata": {},
   "source": [
    "#### Load and Process Data Files"
   ]
  },
  {
   "cell_type": "code",
   "execution_count": 2,
   "metadata": {
    "collapsed": false
   },
   "outputs": [
    {
     "name": "stdout",
     "output_type": "stream",
     "text": [
      "['L1', [0.03, 0.5, 0.47], [0.4, 0.5, 0.1]]\n"
     ]
    }
   ],
   "source": [
    "import plotly.plotly as py\n",
    "\n",
    "import json\n",
    "\n",
    "contour_raw_data = json.loads(open('contour_data.json').read())\n",
    "scatter_raw_data = json.loads(open('scatter_data.json').read())\n",
    "scatter_data =  scatter_raw_data['Data']\n",
    "\n",
    "def clean_data(data_in):\n",
    "    \"\"\"\n",
    "    Cleans data in a format which can be conveniently \n",
    "    used for drawing traces. Takes a dictionary as the \n",
    "    input, and returns a list in the following format:\n",
    "\n",
    "    input = {'key': ['a b c']}\n",
    "    output = [key, [a, b, c]]\n",
    "    \"\"\"\n",
    "    key = data_in.keys()[0]\n",
    "    data_out = [key]\n",
    "    for i in data_in[key]:\n",
    "        data_out.append(map(float, i.split(' ')))\n",
    "\n",
    "    return data_out\n",
    "\n",
    "\n",
    "#Example:\n",
    "print clean_data({'L1': ['.03 0.5 0.47','0.4 0.5 0.1']})"
   ]
  },
  {
   "cell_type": "markdown",
   "metadata": {},
   "source": [
    "#### Create Ternary Scatter Plot:"
   ]
  },
  {
   "cell_type": "code",
   "execution_count": 3,
   "metadata": {
    "collapsed": false
   },
   "outputs": [
    {
     "data": {
      "text/html": [
       "<iframe id=\"igraph\" scrolling=\"no\" style=\"border:none;\" seamless=\"seamless\" src=\"https://plot.ly/~chelsea_lyn/12110.embed\" height=\"525px\" width=\"100%\"></iframe>"
      ],
      "text/plain": [
       "<plotly.tools.PlotlyDisplay object>"
      ]
     },
     "execution_count": 3,
     "metadata": {},
     "output_type": "execute_result"
    }
   ],
   "source": [
    "a_list = []\n",
    "b_list = []\n",
    "c_list = []\n",
    "text = []\n",
    "\n",
    "for raw_data in scatter_data:\n",
    "    data = clean_data(raw_data)\n",
    "    text.append(data[0])\n",
    "    c_list.append(data[1][0])\n",
    "    a_list.append(data[1][1])\n",
    "    b_list.append(data[1][2])\n",
    "    \n",
    "trace1 = dict(type='scatterternary',\n",
    "              text=text,\n",
    "              a=a_list,\n",
    "              b=b_list,\n",
    "              c=c_list,\n",
    "              mode='markers',\n",
    "              marker={'symbol': 100,\n",
    "                      'color': 'green',\n",
    "                      'size': 10},\n",
    ")\n",
    "\n",
    "layout = {\n",
    "    'title': 'Ternary Scatter Plot',\n",
    "    'ternary':\n",
    "        {\n",
    "        'sum':1,\n",
    "        'aaxis':{'title': 'X', 'min': 0.01, 'linewidth':2, 'ticks':'outside' },\n",
    "        'baxis':{'title': 'W', 'min': 0.01, 'linewidth':2, 'ticks':'outside' },\n",
    "        'caxis':{'title': 'S', 'min': 0.01, 'linewidth':2, 'ticks':'outside' }\n",
    "    },\n",
    "    'showlegend': False\n",
    "}\n",
    "\n",
    "scatter_fig = dict(data=[trace1], layout=layout)\n",
    "py.iplot(scatter_fig)"
   ]
  },
  {
   "cell_type": "markdown",
   "metadata": {},
   "source": [
    "#### Create Ternary Contour Plot:"
   ]
  },
  {
   "cell_type": "code",
   "execution_count": 4,
   "metadata": {
    "collapsed": false
   },
   "outputs": [
    {
     "data": {
      "text/html": [
       "<iframe id=\"igraph\" scrolling=\"no\" style=\"border:none;\" seamless=\"seamless\" src=\"https://plot.ly/~chelsea_lyn/12112.embed\" height=\"525px\" width=\"100%\"></iframe>"
      ],
      "text/plain": [
       "<plotly.tools.PlotlyDisplay object>"
      ]
     },
     "execution_count": 4,
     "metadata": {},
     "output_type": "execute_result"
    }
   ],
   "source": [
    "contour_dict = contour_raw_data['Data']\n",
    "\n",
    "# Defining a colormap:\n",
    "colors = ['#8dd3c7','#ffffb3','#bebada',\n",
    "          '#fb8072','#80b1d3','#fdb462',\n",
    "          '#b3de69','#fccde5','#d9d9d9',\n",
    "          '#bc80bd']\n",
    "colors_iterator = iter(colors)\n",
    "\n",
    "traces = []\n",
    "for raw_data in contour_dict:\n",
    "    data = clean_data(raw_data)\n",
    "    \n",
    "    a = [inner_data[0] for inner_data in data[1:]]\n",
    "    a.append(data[1][0]) # Closing the loop \n",
    "    \n",
    "    b = [inner_data[1] for inner_data in data[1:]]\n",
    "    b.append(data[1][1]) # Closing the loop     \n",
    "    \n",
    "    c = [inner_data[2] for inner_data in data[1:]]\n",
    "    c.append(data[1][2]) # Closing the loop     \n",
    "    \n",
    "    trace = dict(\n",
    "        type='scatterternary',text = data[0],\n",
    "        a=a, b=b, c=c, mode='lines',\n",
    "        line=dict(color='#444', shape='spline'),\n",
    "        fill='toself',\n",
    "        fillcolor = colors_iterator.next()\n",
    "    )\n",
    "    traces.append(trace)\n",
    "    \n",
    "layout['title'] = 'Ternary Contour Plot'\n",
    "contour_fig = dict(data=traces, layout=layout)\n",
    "py.iplot(contour_fig)"
   ]
  },
  {
   "cell_type": "markdown",
   "metadata": {},
   "source": [
    "#### Scatter Plot Overlaid on Contour Plot\n",
    "\n",
    "We will change the marker symbol for the `trace1` (The one used in scatter plot), so that it is distinctly visible on the contour background:"
   ]
  },
  {
   "cell_type": "code",
   "execution_count": 5,
   "metadata": {
    "collapsed": false
   },
   "outputs": [
    {
     "data": {
      "text/html": [
       "<iframe id=\"igraph\" scrolling=\"no\" style=\"border:none;\" seamless=\"seamless\" src=\"https://plot.ly/~chelsea_lyn/12113.embed\" height=\"525px\" width=\"100%\"></iframe>"
      ],
      "text/plain": [
       "<plotly.tools.PlotlyDisplay object>"
      ]
     },
     "execution_count": 5,
     "metadata": {},
     "output_type": "execute_result"
    }
   ],
   "source": [
    "trace1['marker']['symbol'] = 'x'\n",
    "trace1['marker']['color'] = '#4d79ff'\n",
    "traces.append(trace1)\n",
    "\n",
    "# update title:\n",
    "layout['title'] = 'Scatter Plot overlaid on Ternary Contour Plot'\n",
    "figure = dict(data=traces, layout=layout)\n",
    "py.iplot(figure)"
   ]
  },
  {
   "cell_type": "code",
   "execution_count": 1,
   "metadata": {
    "collapsed": false
   },
   "outputs": [
    {
     "data": {
      "text/html": [
       "<link href=\"//fonts.googleapis.com/css?family=Open+Sans:600,400,300,200|Inconsolata|Ubuntu+Mono:400,700\" rel=\"stylesheet\" type=\"text/css\" />"
      ],
      "text/plain": [
       "<IPython.core.display.HTML object>"
      ]
     },
     "metadata": {},
     "output_type": "display_data"
    },
    {
     "data": {
      "text/html": [
       "<link rel=\"stylesheet\" type=\"text/css\" href=\"http://help.plot.ly/documentation/all_static/css/ipython-notebook-custom.css\">"
      ],
      "text/plain": [
       "<IPython.core.display.HTML object>"
      ]
     },
     "metadata": {},
     "output_type": "display_data"
    },
    {
     "name": "stdout",
     "output_type": "stream",
     "text": [
      "Collecting git+https://github.com/plotly/publisher.git\n",
      "  Cloning https://github.com/plotly/publisher.git to /var/folders/ld/6cl3s_l50wd40tdjq2b03jxh0000gp/T/pip-t263az3n-build\n",
      "Installing collected packages: publisher\n",
      "  Found existing installation: publisher 0.10\n",
      "    Uninstalling publisher-0.10:\n",
      "      Successfully uninstalled publisher-0.10\n",
      "  Running setup.py install for publisher ... \u001b[?25l-\b \b\\\b \bdone\n",
      "\u001b[?25hSuccessfully installed publisher-0.10\n"
     ]
    },
    {
     "name": "stderr",
     "output_type": "stream",
     "text": [
      "/Users/brandendunbar/Desktop/test/venv/lib/python2.7/site-packages/IPython/nbconvert.py:13: ShimWarning: The `IPython.nbconvert` package has been deprecated. You should import from nbconvert instead.\n",
      "  \"You should import from nbconvert instead.\", ShimWarning)\n",
      "/Users/brandendunbar/Desktop/test/venv/lib/python2.7/site-packages/publisher/publisher.py:53: UserWarning: Did you \"Save\" this notebook before running this command? Remember to save, always save.\n",
      "  warnings.warn('Did you \"Save\" this notebook before running this command? '\n"
     ]
    }
   ],
   "source": [
    "from IPython.display import display, HTML\n",
    "\n",
    "display(HTML('<link href=\"//fonts.googleapis.com/css?family=Open+Sans:600,400,300,200|Inconsolata|Ubuntu+Mono:400,700\" rel=\"stylesheet\" type=\"text/css\" />'))\n",
    "display(HTML('<link rel=\"stylesheet\" type=\"text/css\" href=\"http://help.plot.ly/documentation/all_static/css/ipython-notebook-custom.css\">'))\n",
    "\n",
    "! pip install git+https://github.com/plotly/publisher.git --upgrade\n",
    "import publisher\n",
    "publisher.publish(\n",
    "    'ternary-scatter-contour.ipynb', 'python/ternary-scatter-contour/', 'Python Ternary Scatter Overlaid on Contour | plotly',\n",
    "    'How to make A scatter plot overlaid on ternary contour in Python with Plotly.',\n",
    "    name = 'Ternary Scatter Overlaid on Contour',\n",
    "    thumbnail='thumbnail/ternary-scatter-contour.jpg', language='python',\n",
    "    page_type='example_index', has_thumbnail='true', display_as='scientific', order=11,\n",
    "    ipynb= '~notebook_demo/41')"
   ]
  },
  {
   "cell_type": "code",
   "execution_count": null,
   "metadata": {
    "collapsed": true
   },
   "outputs": [],
   "source": []
  }
 ],
 "metadata": {
  "anaconda-cloud": {},
  "kernelspec": {
   "display_name": "Python 2",
   "language": "python",
   "name": "python2"
  },
  "language_info": {
   "codemirror_mode": {
    "name": "ipython",
    "version": 2
   },
   "file_extension": ".py",
   "mimetype": "text/x-python",
   "name": "python",
   "nbconvert_exporter": "python",
   "pygments_lexer": "ipython2",
   "version": "2.7.10"
  }
 },
 "nbformat": 4,
 "nbformat_minor": 0
}
