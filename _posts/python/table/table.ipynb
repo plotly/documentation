{
 "metadata": {
  "name": "",
  "signature": "sha256:aa0a5f163197fac9c0892d451cc62efa8580d200398cd315c614e8eb641a3164"
 },
 "nbformat": 3,
 "nbformat_minor": 0,
 "worksheets": [
  {
   "cells": [
    {
     "cell_type": "markdown",
     "metadata": {},
     "source": [
      "#Tables"
     ]
    },
    {
     "cell_type": "markdown",
     "metadata": {},
     "source": [
      "#####Make tables in Plotly and Python with a data matrix or Pandas Dataframe!"
     ]
    },
    {
     "cell_type": "markdown",
     "metadata": {},
     "source": [
      "Learn about API authentication here: https://plot.ly/python/getting-started\n",
      "<br>Find your api_key here: https://plot.ly/settings/api"
     ]
    },
    {
     "cell_type": "code",
     "collapsed": false,
     "input": [
      "import plotly\n",
      "plotly.__version__"
     ],
     "language": "python",
     "metadata": {},
     "outputs": [
      {
       "metadata": {},
       "output_type": "pyout",
       "prompt_number": 5,
       "text": [
        "'1.9.1'"
       ]
      }
     ],
     "prompt_number": 5
    },
    {
     "cell_type": "markdown",
     "metadata": {},
     "source": [
      "####Simple Table"
     ]
    },
    {
     "cell_type": "code",
     "collapsed": false,
     "input": [
      "t_text = [['Country', 'Year', 'Population'],\n",
      "          ['US', 2000, 282200000],\n",
      "          ['Canada', 2000, 27790000], \n",
      "          ['US', 2010, 309000000],\n",
      "          ['Canada', 2010, 34000000]]\n",
      "\n",
      "table=FF.create_table(t_text, colorscale=[[0, '#000000'],[.5, '#80beff'],[1, '#cce5ff']],\n",
      "                      font_colors=['#ffffff', '#000000', '#000000'])\n",
      "py.iplot(table)"
     ],
     "language": "python",
     "metadata": {},
     "outputs": []
    },
    {
     "cell_type": "code",
     "collapsed": false,
     "input": [],
     "language": "python",
     "metadata": {},
     "outputs": []
    },
    {
     "cell_type": "code",
     "collapsed": false,
     "input": [],
     "language": "python",
     "metadata": {},
     "outputs": []
    },
    {
     "cell_type": "markdown",
     "metadata": {},
     "source": [
      "###References"
     ]
    },
    {
     "cell_type": "code",
     "collapsed": false,
     "input": [
      "help(FF.create_table)"
     ],
     "language": "python",
     "metadata": {},
     "outputs": [
      {
       "ename": "NameError",
       "evalue": "name 'FF' is not defined",
       "output_type": "pyerr",
       "traceback": [
        "\u001b[0;31m---------------------------------------------------------------------------\u001b[0m\n\u001b[0;31mNameError\u001b[0m                                 Traceback (most recent call last)",
        "\u001b[0;32m<ipython-input-4-dd6b56e08a3e>\u001b[0m in \u001b[0;36m<module>\u001b[0;34m()\u001b[0m\n\u001b[0;32m----> 1\u001b[0;31m \u001b[0mhelp\u001b[0m\u001b[0;34m(\u001b[0m\u001b[0mFF\u001b[0m\u001b[0;34m.\u001b[0m\u001b[0mcreate_table\u001b[0m\u001b[0;34m)\u001b[0m\u001b[0;34m\u001b[0m\u001b[0m\n\u001b[0m",
        "\u001b[0;31mNameError\u001b[0m: name 'FF' is not defined"
       ]
      }
     ],
     "prompt_number": 4
    },
    {
     "cell_type": "code",
     "collapsed": false,
     "input": [
      "from IPython.display import display, HTML\n",
      "\n",
      "display(HTML('<link href=\"//fonts.googleapis.com/css?family=Open+Sans:600,400,300,200|Inconsolata|Ubuntu+Mono:400,700\" rel=\"stylesheet\" type=\"text/css\" />'))\n",
      "display(HTML('<link rel=\"stylesheet\" type=\"text/css\" href=\"http://help.plot.ly/documentation/all_static/css/ipython-notebook-custom.css\">'))\n",
      "\n",
      "! pip install publisher --upgrade\n",
      "import publisher\n",
      "publisher.publish(\n",
      "    'table.ipynb', 'python/table', 'Python Tables | plotly',\n",
      "    'How to make Tables in Python with Plotly.',\n",
      "    name = 'Tables',\n",
      "    thumbnail='/images/tab.png', language='python',\n",
      "    page_type='example_index', has_thumbnail='true', display_as='chart_type', order=31)  "
     ],
     "language": "python",
     "metadata": {},
     "outputs": [
      {
       "html": [
        "<link href=\"//fonts.googleapis.com/css?family=Open+Sans:600,400,300,200|Inconsolata|Ubuntu+Mono:400,700\" rel=\"stylesheet\" type=\"text/css\" />"
       ],
       "metadata": {},
       "output_type": "display_data",
       "text": [
        "<IPython.core.display.HTML at 0x104a93f90>"
       ]
      },
      {
       "html": [
        "<link rel=\"stylesheet\" type=\"text/css\" href=\"http://help.plot.ly/documentation/all_static/css/ipython-notebook-custom.css\">"
       ],
       "metadata": {},
       "output_type": "display_data",
       "text": [
        "<IPython.core.display.HTML at 0x104a93fd0>"
       ]
      },
      {
       "output_type": "stream",
       "stream": "stdout",
       "text": [
        "Requirement already up-to-date: publisher in /Library/Frameworks/Python.framework/Versions/2.7/lib/python2.7/site-packages\r\n"
       ]
      }
     ],
     "prompt_number": 3
    },
    {
     "cell_type": "code",
     "collapsed": false,
     "input": [],
     "language": "python",
     "metadata": {},
     "outputs": []
    }
   ],
   "metadata": {}
  }
 ]
}