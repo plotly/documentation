{
 "metadata": {
  "name": "",
  "signature": "sha256:ef5b66ab769fd304ccb7c830c0175a3c396ee2158e601db0f861a4e88678b240"
 },
 "nbformat": 3,
 "nbformat_minor": 0,
 "worksheets": [
  {
   "cells": [
    {
     "cell_type": "markdown",
     "metadata": {},
     "source": [
      "#Tables"
     ]
    },
    {
     "cell_type": "markdown",
     "metadata": {},
     "source": [
      "#####Make tables in Plotly and Python with a data matrix or Pandas Dataframe!"
     ]
    },
    {
     "cell_type": "markdown",
     "metadata": {},
     "source": [
      "Learn about API authentication here: https://plot.ly/python/getting-started\n",
      "<br>Find your api_key here: https://plot.ly/settings/api"
     ]
    },
    {
     "cell_type": "code",
     "collapsed": false,
     "input": [
      "import plotly\n",
      "plotly.__version__"
     ],
     "language": "python",
     "metadata": {},
     "outputs": [
      {
       "metadata": {},
       "output_type": "pyout",
       "prompt_number": 67,
       "text": [
        "'1.9.1'"
       ]
      }
     ],
     "prompt_number": 67
    },
    {
     "cell_type": "markdown",
     "metadata": {},
     "source": [
      "####Simple Table"
     ]
    },
    {
     "cell_type": "code",
     "collapsed": false,
     "input": [
      "import plotly.plotly as py\n",
      "from plotly.tools import FigureFactory as FF \n",
      "\n",
      "data_matrix = [['Country', 'Year', 'Population'],\n",
      "               ['United States', 2000, 282200000],\n",
      "               ['Canada', 2000, 27790000],\n",
      "               ['United States', 2005, 295500000],\n",
      "               ['Canada', 2005, 32310000],\n",
      "               ['United States', 2010, 309000000],\n",
      "               ['Canada', 2010, 34000000]]\n",
      "\n",
      "table = FF.create_table(data_matrix)\n",
      "py.iplot(table, filename='simple_table')"
     ],
     "language": "python",
     "metadata": {},
     "outputs": [
      {
       "html": [
        "<iframe id=\"igraph\" scrolling=\"no\" style=\"border:none;\"seamless=\"seamless\" src=\"https://plot.ly/~chelsea_lyn/9580.embed\" height=\"260px\" width=\"100%\"></iframe>"
       ],
       "metadata": {},
       "output_type": "pyout",
       "prompt_number": 68,
       "text": [
        "<plotly.tools.PlotlyDisplay at 0x107c070d0>"
       ]
      }
     ],
     "prompt_number": 68
    },
    {
     "cell_type": "markdown",
     "metadata": {},
     "source": [
      " "
     ]
    },
    {
     "cell_type": "markdown",
     "metadata": {},
     "source": [
      "####Add Links"
     ]
    },
    {
     "cell_type": "code",
     "collapsed": false,
     "input": [
      "import plotly.plotly as py\n",
      "from plotly.tools import FigureFactory as FF \n",
      "\n",
      "data_matrix = [['User', 'Language', 'Chart Type', '# of Views'],\n",
      "               ['<a href=\"https://plot.ly/~empet/folder/home\">empet</a>',\n",
      "                '<a href=\"https://plot.ly/python/\">Python</a>',\n",
      "                '<a href=\"https://plot.ly/~empet/8614/communities-in-a-facebook-network-defined-as-an-igraph-graph-data-1/\">Network Graph</a>',\n",
      "                298],\n",
      "               ['<a href=\"https://plot.ly/~Grondo/folder/home\">Grondo</a>',\n",
      "                '<a href=\"https://plot.ly/matlab/\">Matlab</a>',\n",
      "                '<a href=\"https://plot.ly/~Grondo/42/x-ray-reflectivity-from-euo-sample-103-chi2114/\">Subplots</a>',\n",
      "                356],\n",
      "               ['<a href=\"https://plot.ly/~Dreamshot/folder/home\">Dreamshot</a>',\n",
      "                '<a href=\"https://help.plot.ly/tutorials/\">Web App</a>',\n",
      "                '<a href=\"https://plot.ly/~Dreamshot/6575/_2014-us-city-populations/\">Bubble Map</a>',\n",
      "                262],\n",
      "               ['<a href=\"https://plot.ly/~FiveThirtyEight/folder/home\">FiveThirtyEight</a>',\n",
      "                '<a href=\"https://help.plot.ly/tutorials/\">Web App</a>',\n",
      "                '<a href=\"https://plot.ly/~FiveThirtyEight/30/median-ages-for-males-with-the-25-most-common-names-among-americans-estimated-to/\">Scatter</a>',\n",
      "                692],\n",
      "               ['<a href=\"https://plot.ly/~cpsievert/folder/home\">cpsievert</a>',\n",
      "                '<a href=\"https://plot.ly/r/\">R</a>',\n",
      "                '<a href=\"https://plot.ly/~cpsievert/1130/_1/\">Surface</a>',\n",
      "                302]]\n",
      "\n",
      "table = FF.create_table(data_matrix)\n",
      "py.iplot(table, filename='linked_table')"
     ],
     "language": "python",
     "metadata": {},
     "outputs": [
      {
       "html": [
        "<iframe id=\"igraph\" scrolling=\"no\" style=\"border:none;\"seamless=\"seamless\" src=\"https://plot.ly/~chelsea_lyn/9525.embed\" height=\"230px\" width=\"100%\"></iframe>"
       ],
       "metadata": {},
       "output_type": "pyout",
       "prompt_number": 69,
       "text": [
        "<plotly.tools.PlotlyDisplay at 0x107c07a50>"
       ]
      }
     ],
     "prompt_number": 69
    },
    {
     "cell_type": "markdown",
     "metadata": {},
     "source": [
      " "
     ]
    },
    {
     "cell_type": "markdown",
     "metadata": {},
     "source": [
      "####Use LaTeX"
     ]
    },
    {
     "cell_type": "code",
     "collapsed": false,
     "input": [
      "import plotly.plotly as py\n",
      "from plotly.tools import FigureFactory as FF \n",
      "\n",
      "data_matrix = [['Name', 'Equation'],\n",
      "               ['Pythagorean Theorem', '$a^{2}+b^{2}=c^{2}$'],\n",
      "               ['Euler\\'s Formula', '$F-E+V=2$'],\n",
      "               ['The Origin of Complex Numbers', '$i^{2}=-1$'],\n",
      "               ['Einstein\\'s Theory of Relativity', '$E=m c^{2}$']]\n",
      "\n",
      "table = FF.create_table(data_matrix)\n",
      "py.iplot(table, filename='latex_table')"
     ],
     "language": "python",
     "metadata": {},
     "outputs": [
      {
       "html": [
        "<iframe id=\"igraph\" scrolling=\"no\" style=\"border:none;\"seamless=\"seamless\" src=\"https://plot.ly/~chelsea_lyn/9564.embed\" height=\"200px\" width=\"100%\"></iframe>"
       ],
       "metadata": {},
       "output_type": "pyout",
       "prompt_number": 70,
       "text": [
        "<plotly.tools.PlotlyDisplay at 0x107c07c50>"
       ]
      }
     ],
     "prompt_number": 70
    },
    {
     "cell_type": "markdown",
     "metadata": {},
     "source": [
      " "
     ]
    },
    {
     "cell_type": "markdown",
     "metadata": {},
     "source": [
      "####Use a Panda's Dataframe"
     ]
    },
    {
     "cell_type": "code",
     "collapsed": false,
     "input": [
      "import plotly.plotly as py\n",
      "from plotly.tools import FigureFactory as FF\n",
      "\n",
      "import pandas as pd\n",
      "\n",
      "df = pd.read_csv('https://raw.githubusercontent.com/plotly/datasets/master/gapminderDataFiveYear.csv')\n",
      "df_sample = df[100:120]\n",
      "\n",
      "table = FF.create_table(df_sample)\n",
      "py.iplot(table, filename='pandas_table')"
     ],
     "language": "python",
     "metadata": {},
     "outputs": [
      {
       "html": [
        "<iframe id=\"igraph\" scrolling=\"no\" style=\"border:none;\"seamless=\"seamless\" src=\"https://plot.ly/~chelsea_lyn/9566.embed\" height=\"680px\" width=\"100%\"></iframe>"
       ],
       "metadata": {},
       "output_type": "pyout",
       "prompt_number": 71,
       "text": [
        "<plotly.tools.PlotlyDisplay at 0x107c0aad0>"
       ]
      }
     ],
     "prompt_number": 71
    },
    {
     "cell_type": "markdown",
     "metadata": {},
     "source": [
      " "
     ]
    },
    {
     "cell_type": "markdown",
     "metadata": {},
     "source": [
      "####Include and Index Column"
     ]
    },
    {
     "cell_type": "code",
     "collapsed": false,
     "input": [
      "import plotly.plotly as py\n",
      "from plotly.tools import FigureFactory as FF \n",
      "\n",
      "data_matrix = [['Country', 'Year', 'Population'],\n",
      "               ['United States', 2000, 282200000],\n",
      "               ['Canada', 2000, 27790000],\n",
      "               ['United States', 2005, 295500000],\n",
      "               ['Canada', 2005, 32310000],\n",
      "               ['United States', 2010, 309000000],\n",
      "               ['Canada', 2010, 34000000]]\n",
      "\n",
      "table = FF.create_table(data_matrix, index=True)\n",
      "py.iplot(table, filename='index_table')"
     ],
     "language": "python",
     "metadata": {},
     "outputs": [
      {
       "html": [
        "<iframe id=\"igraph\" scrolling=\"no\" style=\"border:none;\"seamless=\"seamless\" src=\"https://plot.ly/~chelsea_lyn/9572.embed\" height=\"260px\" width=\"100%\"></iframe>"
       ],
       "metadata": {},
       "output_type": "pyout",
       "prompt_number": 72,
       "text": [
        "<plotly.tools.PlotlyDisplay at 0x107c0a150>"
       ]
      }
     ],
     "prompt_number": 72
    },
    {
     "cell_type": "markdown",
     "metadata": {},
     "source": [
      " "
     ]
    },
    {
     "cell_type": "code",
     "collapsed": false,
     "input": [
      "import plotly.plotly as py\n",
      "from plotly.tools import FigureFactory as FF\n",
      "\n",
      "from datetime import date\n",
      "import pandas.io.data as web\n",
      "\n",
      "di = web.DataReader(\"aapl\", 'yahoo', date(2009, 1, 1), date(2009, 3, 1))\n",
      "\n",
      "table = FF.create_table(di, index=True, index_title='Date')\n",
      "py.iplot(table, filename='index_table_pd')"
     ],
     "language": "python",
     "metadata": {},
     "outputs": [
      {
       "html": [
        "<iframe id=\"igraph\" scrolling=\"no\" style=\"border:none;\"seamless=\"seamless\" src=\"https://plot.ly/~chelsea_lyn/9574.embed\" height=\"1250px\" width=\"100%\"></iframe>"
       ],
       "metadata": {},
       "output_type": "pyout",
       "prompt_number": 73,
       "text": [
        "<plotly.tools.PlotlyDisplay at 0x107cb9e90>"
       ]
      }
     ],
     "prompt_number": 73
    },
    {
     "cell_type": "markdown",
     "metadata": {},
     "source": [
      " "
     ]
    },
    {
     "cell_type": "markdown",
     "metadata": {},
     "source": [
      "####Custom Table Colors\n",
      "A custom colorscale should be a `list[list]`:<br> `[[0, 'Header_Color'],[.5, 'Odd_Row_Color'],[1, 'Even_Row_Color']]`"
     ]
    },
    {
     "cell_type": "code",
     "collapsed": false,
     "input": [
      "import plotly.plotly as py\n",
      "from plotly.tools import FigureFactory as FF\n",
      "\n",
      "import pandas as pd\n",
      "\n",
      "df = pd.read_csv('https://raw.githubusercontent.com/plotly/datasets/master/gapminderDataFiveYear.csv')\n",
      "df_sample = df[400:410]\n",
      "\n",
      "colorscale = [[0, '#4d004c'],[.5, '#f2e5ff'],[1, '#ffffff']]\n",
      "\n",
      "table = FF.create_table(df_sample, colorscale=colorscale)\n",
      "py.iplot(table, filename='color_table')"
     ],
     "language": "python",
     "metadata": {},
     "outputs": [
      {
       "html": [
        "<iframe id=\"igraph\" scrolling=\"no\" style=\"border:none;\"seamless=\"seamless\" src=\"https://plot.ly/~chelsea_lyn/9576.embed\" height=\"380px\" width=\"100%\"></iframe>"
       ],
       "metadata": {},
       "output_type": "pyout",
       "prompt_number": 81,
       "text": [
        "<plotly.tools.PlotlyDisplay at 0x107c07990>"
       ]
      }
     ],
     "prompt_number": 81
    },
    {
     "cell_type": "markdown",
     "metadata": {},
     "source": [
      " "
     ]
    },
    {
     "cell_type": "markdown",
     "metadata": {},
     "source": [
      "####Custom Font Colors"
     ]
    },
    {
     "cell_type": "code",
     "collapsed": false,
     "input": [
      "import plotly.plotly as py\n",
      "from plotly.tools import FigureFactory as FF\n",
      "\n",
      "text = [['Team', 'Rank'], ['A', 1], ['B', 2], ['C', 3], ['D', 4], ['E', 5], ['F', 6]]\n",
      "\n",
      "colorscale = [[0, '#272D31'],[.5, '#ffffff'],[1, '#ffffff']]\n",
      "font=['#FCFCFC', '#00EE00', '#008B00', '#004F00', '#660000', '#CD0000', '#FF3030']\n",
      "\n",
      "table = FF.create_table(text, colorscale=colorscale, font_colors=font)\n",
      "table.layout.width=250\n",
      "py.iplot(table, filename='font_table')"
     ],
     "language": "python",
     "metadata": {},
     "outputs": [
      {
       "html": [
        "<iframe id=\"igraph\" scrolling=\"no\" style=\"border:none;\"seamless=\"seamless\" src=\"https://plot.ly/~chelsea_lyn/9578.embed\" height=\"260px\" width=\"250px\"></iframe>"
       ],
       "metadata": {},
       "output_type": "pyout",
       "prompt_number": 75,
       "text": [
        "<plotly.tools.PlotlyDisplay at 0x107cb9e10>"
       ]
      }
     ],
     "prompt_number": 75
    },
    {
     "cell_type": "markdown",
     "metadata": {},
     "source": [
      " "
     ]
    },
    {
     "cell_type": "markdown",
     "metadata": {},
     "source": [
      "####Tables with Graphs"
     ]
    },
    {
     "cell_type": "code",
     "collapsed": false,
     "input": [
      "import plotly.plotly as py\n",
      "import plotly.graph_objs as go\n",
      "from plotly.tools import FigureFactory as FF\n",
      "\n",
      "# Add table data\n",
      "table_data = [['Team', 'Wins', 'Losses', 'Ties'],\n",
      "              ['Montr\u00e9al<br>Canadiens', 18, 4, 0],\n",
      "              ['Dallas Stars', 18, 5, 0],\n",
      "              ['NY Rangers', 16, 5, 0], \n",
      "              ['Boston<br>Bruins', 13, 8, 0],\n",
      "              ['Chicago<br>Blackhawks', 13, 8, 0],\n",
      "              ['LA Kings', 13, 8, 0],\n",
      "              ['Ottawa<br>Senators', 12, 5, 0]]\n",
      "# Initialize a figure with FF.create_table(table_data)\n",
      "figure = FF.create_table(table_data, height_constant=60)\n",
      "\n",
      "# Add graph data\n",
      "teams = ['Montr\u00e9al Canadiens', 'Dallas Stars', 'NY Rangers',\n",
      "         'Boston Bruins', 'Chicago Blackhawks', 'Ottawa Senators']\n",
      "GFPG = [3.54, 3.48, 3.0, 3.27, 2.83, 2.45, 3.18]\n",
      "GAPG = [2.17, 2.57, 2.0, 2.91, 2.57, 2.14, 2.77]\n",
      "# Make traces for graph\n",
      "trace1 = go.Scatter(x=teams, y=GFPG,\n",
      "                    marker=dict(color='#0099ff'),\n",
      "                    name='Goals For<br>Per Game',\n",
      "                    xaxis='x2', yaxis='y2')\n",
      "trace2 = go.Scatter(x=teams, y=GAPG,\n",
      "                    marker=dict(color='#404040'),\n",
      "                    name='Goals Against<br>Per Game',\n",
      "                    xaxis='x2', yaxis='y2')\n",
      "\n",
      "# Add trace data to figure\n",
      "figure['data'].extend(Data([trace1, trace2]))\n",
      "\n",
      "# Edit layout for subplots\n",
      "figure.layout.xaxis.update({'domain': [0, .5]})\n",
      "figure.layout.xaxis2.update({'domain': [0.6, 1.]})\n",
      "# The graph's yaxis MUST BE anchored to the graph's xaxis\n",
      "figure.layout.yaxis2.update({'anchor': 'x2'})\n",
      "figure.layout.yaxis2.update({'title': 'Goals'})\n",
      "# Update the margins to add a title and see graph x-labels. \n",
      "figure.layout.margin.update({'t':50, 'b':100})\n",
      "figure.layout.update({'title': '2016 Hockey Stats'})\n",
      "\n",
      "# Plot!\n",
      "py.iplot(figure, filename='subplot_table')\n"
     ],
     "language": "python",
     "metadata": {},
     "outputs": [
      {
       "html": [
        "<iframe id=\"igraph\" scrolling=\"no\" style=\"border:none;\"seamless=\"seamless\" src=\"https://plot.ly/~chelsea_lyn/9584.embed\" height=\"530px\" width=\"100%\"></iframe>"
       ],
       "metadata": {},
       "output_type": "pyout",
       "prompt_number": 77,
       "text": [
        "<plotly.tools.PlotlyDisplay at 0x107cb9990>"
       ]
      }
     ],
     "prompt_number": 77
    },
    {
     "cell_type": "markdown",
     "metadata": {},
     "source": [
      " "
     ]
    },
    {
     "cell_type": "markdown",
     "metadata": {},
     "source": [
      "###References"
     ]
    },
    {
     "cell_type": "code",
     "collapsed": false,
     "input": [
      "help(FF.create_table)"
     ],
     "language": "python",
     "metadata": {},
     "outputs": [
      {
       "output_type": "stream",
       "stream": "stdout",
       "text": [
        "Help on function create_table in module plotly.tools:\n",
        "\n",
        "create_table(table_text, colorscale=None, font_colors=None, index=False, index_title='', annotation_offset=0.45, height_constant=30, hoverinfo='none', **kwargs)\n",
        "    BETA function that creates data tables\n",
        "    \n",
        "    :param (pandas.Dataframe | list[list]) text: data for table.\n",
        "    :param (str|list[list]) colorscale: Colorscale for table where the\n",
        "        color at value 0 is the header color, .5 is the first table color\n",
        "        and 1 is the second table color. (Set .5 and 1 to avoid the striped\n",
        "        table effect). Default=[[0, '#66b2ff'], [.5, '#d9d9d9'],\n",
        "        [1, '#ffffff']]\n",
        "    :param (list) font_colors: Color for fonts in table. Can be a single\n",
        "        color, three colors, or a color for each row in the table.\n",
        "        Default=['#000000'] (black text for the entire table)\n",
        "    :param (int) height_constant: Constant multiplied by # of rows to\n",
        "        create table height. Default=30.\n",
        "    :param (bool) index: Create (header-colored) index column index from\n",
        "        Pandas dataframe or list[0] for each list in text. Default=False.\n",
        "    :param (string) index_title: Title for index column. Default=''.\n",
        "    :param kwargs: kwargs passed through plotly.graph_objs.Heatmap.\n",
        "        These kwargs describe other attributes about the annotated Heatmap\n",
        "        trace such as the colorscale. For more information on valid kwargs\n",
        "        call help(plotly.graph_objs.Heatmap)\n",
        "    \n",
        "    Example 1: Simple Plotly Table\n",
        "    ```\n",
        "    import plotly.plotly as py\n",
        "    from plotly.tools import FigureFactory as FF\n",
        "    \n",
        "    text = [['Country', 'Year', 'Population'],\n",
        "            ['US', 2000, 282200000],\n",
        "            ['Canada', 2000, 27790000],\n",
        "            ['US', 2010, 309000000],\n",
        "            ['Canada', 2010, 34000000]]\n",
        "    \n",
        "    table = FF.create_table(text)\n",
        "    py.iplot(table)\n",
        "    ```\n",
        "    \n",
        "    Example 2: Table with Custom Coloring\n",
        "    ```\n",
        "    import plotly.plotly as py\n",
        "    from plotly.tools import FigureFactory as FF\n",
        "    \n",
        "    text = [['Country', 'Year', 'Population'],\n",
        "            ['US', 2000, 282200000],\n",
        "            ['Canada', 2000, 27790000],\n",
        "            ['US', 2010, 309000000],\n",
        "            ['Canada', 2010, 34000000]]\n",
        "    \n",
        "    table = FF.create_table(text,\n",
        "                          colorscale=[[0, '#000000'],\n",
        "                                      [.5, '#80beff'],\n",
        "                                      [1, '#cce5ff']],\n",
        "                          font_colors=['#ffffff', '#000000',\n",
        "                                     '#000000'])\n",
        "    py.iplot(table)\n",
        "    ```\n",
        "    Example 3: Simple Plotly Table with Pandas\n",
        "    ```\n",
        "    import plotly.plotly as py\n",
        "    from plotly.tools import FigureFactory as FF\n",
        "    \n",
        "    import pandas as pd\n",
        "    \n",
        "    df = pd.read_csv('http://www.stat.ubc.ca/~jenny/notOcto/STAT545A/examples/gapminder/data/gapminderDataFiveYear.txt', sep='      ')\n",
        "    df_p = df[0:25]\n",
        "    \n",
        "    table_simple = FF.create_table(df_p)\n",
        "    py.iplot(table_simple)\n",
        "    ```\n",
        "\n"
       ]
      }
     ],
     "prompt_number": 47
    },
    {
     "cell_type": "code",
     "collapsed": false,
     "input": [
      "from IPython.display import display, HTML\n",
      "\n",
      "display(HTML('<link href=\"//fonts.googleapis.com/css?family=Open+Sans:600,400,300,200|Inconsolata|Ubuntu+Mono:400,700\" rel=\"stylesheet\" type=\"text/css\" />'))\n",
      "display(HTML('<link rel=\"stylesheet\" type=\"text/css\" href=\"http://help.plot.ly/documentation/all_static/css/ipython-notebook-custom.css\">'))\n",
      "\n",
      "! pip install publisher --upgrade\n",
      "import publisher\n",
      "publisher.publish(\n",
      "    'table.ipynb', 'python/table', 'Python Tables | plotly',\n",
      "    'How to make Tables in Python with Plotly.',\n",
      "    name = 'Tables',\n",
      "    thumbnail='/images/tab.png', language='python',\n",
      "    page_type='example_index', has_thumbnail='true', display_as='chart_type', order=31)  "
     ],
     "language": "python",
     "metadata": {},
     "outputs": [
      {
       "html": [
        "<link href=\"//fonts.googleapis.com/css?family=Open+Sans:600,400,300,200|Inconsolata|Ubuntu+Mono:400,700\" rel=\"stylesheet\" type=\"text/css\" />"
       ],
       "metadata": {},
       "output_type": "display_data",
       "text": [
        "<IPython.core.display.HTML at 0x107c07290>"
       ]
      },
      {
       "html": [
        "<link rel=\"stylesheet\" type=\"text/css\" href=\"http://help.plot.ly/documentation/all_static/css/ipython-notebook-custom.css\">"
       ],
       "metadata": {},
       "output_type": "display_data",
       "text": [
        "<IPython.core.display.HTML at 0x107c07710>"
       ]
      },
      {
       "output_type": "stream",
       "stream": "stdout",
       "text": [
        "Requirement already up-to-date: publisher in /Library/Frameworks/Python.framework/Versions/2.7/lib/python2.7/site-packages\r\n"
       ]
      },
      {
       "output_type": "stream",
       "stream": "stderr",
       "text": [
        "/Library/Frameworks/Python.framework/Versions/2.7/lib/python2.7/site-packages/publisher/publisher.py:53: UserWarning:\n",
        "\n",
        "Did you \"Save\" this notebook before running this command? Remember to save, always save.\n",
        "\n"
       ]
      }
     ],
     "prompt_number": 82
    },
    {
     "cell_type": "code",
     "collapsed": false,
     "input": [],
     "language": "python",
     "metadata": {},
     "outputs": []
    }
   ],
   "metadata": {}
  }
 ]
}