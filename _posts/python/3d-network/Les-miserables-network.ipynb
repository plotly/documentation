{
 "metadata": {
  "kernelspec": {
   "display_name": "Python 2",
   "language": "python",
   "name": "python2"
  },
  "language_info": {
   "codemirror_mode": {
    "name": "ipython",
    "version": 2
   },
   "file_extension": ".py",
   "mimetype": "text/x-python",
   "name": "python",
   "nbconvert_exporter": "python",
   "pygments_lexer": "ipython2",
   "version": "2.7.9"
  },
  "name": "",
  "signature": "sha256:9a734989ce093c99f7c98fff76fe86d85f89597b647dfda9c85f467cd5543637"
 },
 "nbformat": 3,
 "nbformat_minor": 0,
 "worksheets": [
  {
   "cells": [
    {
     "cell_type": "markdown",
     "metadata": {},
     "source": [
      "##3D Network Graphs with Plotly and igraph"
     ]
    },
    {
     "cell_type": "markdown",
     "metadata": {},
     "source": [
      "#####A 3D graph representing the network of coappearances of characters in\n",
      "#####Victor Hugo's novel Les Miserables"
     ]
    },
    {
     "cell_type": "markdown",
     "metadata": {},
     "source": [
      "We define our graph as an `igraph.Graph` object. [Python `igraph`](hhttp://igraph.org/python/)\n",
      "is a library for high-performance graph generation  and analysis."
     ]
    },
    {
     "cell_type": "code",
     "collapsed": false,
     "input": [
      "import igraph as ig"
     ],
     "language": "python",
     "metadata": {},
     "outputs": [],
     "prompt_number": 9
    },
    {
     "cell_type": "markdown",
     "metadata": {},
     "source": [
      "Read graph data from a `json` file:"
     ]
    },
    {
     "cell_type": "code",
     "collapsed": false,
     "input": [
      "import json\n",
      "import urllib2\n",
      "\n",
      "data = []\n",
      "req = urllib2.Request(\"https://raw.githubusercontent.com/plotly/datasets/master/miserables.json\")\n",
      "opener = urllib2.build_opener()\n",
      "f = opener.open(req)\n",
      "data = json.loads(f.read())\n",
      "\n",
      "print data.keys()"
     ],
     "language": "python",
     "metadata": {},
     "outputs": [
      {
       "output_type": "stream",
       "stream": "stdout",
       "text": [
        "[u'nodes', u'links']\n"
       ]
      }
     ],
     "prompt_number": 10
    },
    {
     "cell_type": "markdown",
     "metadata": {},
     "source": [
      "Get the number of nodes:"
     ]
    },
    {
     "cell_type": "code",
     "collapsed": false,
     "input": [
      "N=len(data['nodes'])\n",
      "N"
     ],
     "language": "python",
     "metadata": {},
     "outputs": [
      {
       "metadata": {},
       "output_type": "pyout",
       "prompt_number": 11,
       "text": [
        "77"
       ]
      }
     ],
     "prompt_number": 11
    },
    {
     "cell_type": "markdown",
     "metadata": {},
     "source": [
      "Define the list of edges and the Graph object from Edges:"
     ]
    },
    {
     "cell_type": "code",
     "collapsed": false,
     "input": [
      "L=len(data['links'])\n",
      "Edges=[(data['links'][k]['source'], data['links'][k]['target']) for k in range(L)]\n",
      "\n",
      "G=ig.Graph(Edges, directed=False)"
     ],
     "language": "python",
     "metadata": {},
     "outputs": [],
     "prompt_number": 12
    },
    {
     "cell_type": "markdown",
     "metadata": {},
     "source": [
      "Extract the node attributes, 'group', and 'name':"
     ]
    },
    {
     "cell_type": "code",
     "collapsed": false,
     "input": [
      "data['nodes'][0]"
     ],
     "language": "python",
     "metadata": {},
     "outputs": [
      {
       "metadata": {},
       "output_type": "pyout",
       "prompt_number": 13,
       "text": [
        "{u'group': 1, u'name': u'Myriel'}"
       ]
      }
     ],
     "prompt_number": 13
    },
    {
     "cell_type": "code",
     "collapsed": true,
     "input": [
      "labels=[]\n",
      "group=[]\n",
      "for node in data['nodes']:\n",
      "    labels.append(node['name'])\n",
      "    group.append(node['group'])"
     ],
     "language": "python",
     "metadata": {},
     "outputs": [],
     "prompt_number": 14
    },
    {
     "cell_type": "markdown",
     "metadata": {},
     "source": [
      "Get the node positions, set by the Kamada-Kawai layout for 3D graphs:"
     ]
    },
    {
     "cell_type": "code",
     "collapsed": true,
     "input": [
      "layt=G.layout('kk', dim=3) "
     ],
     "language": "python",
     "metadata": {},
     "outputs": [],
     "prompt_number": 15
    },
    {
     "cell_type": "markdown",
     "metadata": {},
     "source": [
      "`layt` is a list of three elements lists (the coordinates of nodes):"
     ]
    },
    {
     "cell_type": "code",
     "collapsed": false,
     "input": [
      "layt[5]"
     ],
     "language": "python",
     "metadata": {},
     "outputs": [
      {
       "metadata": {},
       "output_type": "pyout",
       "prompt_number": 16,
       "text": [
        "[-2.419184216272965, -5.200101033772013, 4.673402139645248]"
       ]
      }
     ],
     "prompt_number": 16
    },
    {
     "cell_type": "markdown",
     "metadata": {},
     "source": [
      "Set data for the Plotly plot of the graph:"
     ]
    },
    {
     "cell_type": "code",
     "collapsed": false,
     "input": [
      "Xn=[layt[k][0] for k in range(N)]# x-coordinates of nodes\n",
      "Yn=[layt[k][1] for k in range(N)]# y-coordinates\n",
      "Zn=[layt[k][2] for k in range(N)]# z-coordinates\n",
      "Xe=[]\n",
      "Ye=[]\n",
      "Ze=[]\n",
      "for e in Edges:\n",
      "    Xe+=[layt[e[0]][0],layt[e[1]][0], None]# x-coordinates of edge ends\n",
      "    Ye+=[layt[e[0]][1],layt[e[1]][1], None]  \n",
      "    Ze+=[layt[e[0]][2],layt[e[1]][2], None]  "
     ],
     "language": "python",
     "metadata": {},
     "outputs": [],
     "prompt_number": 17
    },
    {
     "cell_type": "code",
     "collapsed": true,
     "input": [
      "import plotly.plotly as py\n",
      "from plotly.graph_objs import *"
     ],
     "language": "python",
     "metadata": {},
     "outputs": [],
     "prompt_number": 18
    },
    {
     "cell_type": "code",
     "collapsed": true,
     "input": [
      "trace1=Scatter3d(x=Xe,\n",
      "               y=Ye,\n",
      "               z=Ze,\n",
      "               mode='lines',\n",
      "               line=Line(color='rgb(125,125,125)', width=1),\n",
      "               hoverinfo='none'\n",
      "               )\n",
      "trace2=Scatter3d(x=Xn,\n",
      "               y=Yn,\n",
      "               z=Zn,  \n",
      "               mode='markers',\n",
      "               name='actors',\n",
      "               marker=Marker(symbol='dot',\n",
      "                             size=6, \n",
      "                             color=group, \n",
      "                             colorscale='Viridis',\n",
      "                             line=Line(color='rgb(50,50,50)', width=0.5)\n",
      "                             ),\n",
      "               text=labels,\n",
      "               hoverinfo='text'\n",
      "               )"
     ],
     "language": "python",
     "metadata": {},
     "outputs": [],
     "prompt_number": 19
    },
    {
     "cell_type": "code",
     "collapsed": true,
     "input": [
      "axis=dict(showbackground=False,\n",
      "          showline=False,  \n",
      "          zeroline=False,\n",
      "          showgrid=False,\n",
      "          showticklabels=False,\n",
      "          title='' \n",
      "          )"
     ],
     "language": "python",
     "metadata": {},
     "outputs": [],
     "prompt_number": 20
    },
    {
     "cell_type": "code",
     "collapsed": true,
     "input": [
      "layout = Layout(\n",
      "         title=\"Network of coappearances of characters in Victor Hugo's novel<br> Les Miserables (3D visualization)\", \n",
      "         width=1000,\n",
      "         height=1000,\n",
      "         showlegend=False,\n",
      "         scene=Scene(  \n",
      "         xaxis=XAxis(axis),\n",
      "         yaxis=YAxis(axis), \n",
      "         zaxis=ZAxis(axis), \n",
      "        ),\n",
      "     margin=Margin(\n",
      "        t=100\n",
      "    ),\n",
      "    hovermode='closest',\n",
      "    annotations=Annotations([\n",
      "           Annotation(\n",
      "           showarrow=False, \n",
      "            text=\"Data source: <a href='http://bost.ocks.org/mike/miserables/miserables.json'>[1]</a>\",\n",
      "            xref='paper',     \n",
      "            yref='paper',     \n",
      "            x=0,  \n",
      "            y=0.1,  \n",
      "            xanchor='left',   \n",
      "            yanchor='bottom',  \n",
      "            font=Font(\n",
      "            size=14 \n",
      "            )     \n",
      "            )\n",
      "        ]),    )"
     ],
     "language": "python",
     "metadata": {},
     "outputs": [],
     "prompt_number": 21
    },
    {
     "cell_type": "code",
     "collapsed": false,
     "input": [
      "data=Data([trace1, trace2])\n",
      "fig=Figure(data=data, layout=layout)\n",
      "\n",
      "py.iplot(fig, filename='Les-Miserables')"
     ],
     "language": "python",
     "metadata": {},
     "outputs": [
      {
       "html": [
        "<iframe id=\"igraph\" scrolling=\"no\" style=\"border:none;\"seamless=\"seamless\" src=\"https://plot.ly/~chelsea_lyn/9211.embed\" height=\"1000px\" width=\"1000px\"></iframe>"
       ],
       "metadata": {},
       "output_type": "pyout",
       "prompt_number": 22,
       "text": [
        "<plotly.tools.PlotlyDisplay at 0x106576250>"
       ]
      }
     ],
     "prompt_number": 22
    },
    {
     "cell_type": "code",
     "collapsed": false,
     "input": [
      "from IPython.display import display, HTML\n",
      "\n",
      "display(HTML('<link href=\"//fonts.googleapis.com/css?family=Open+Sans:600,400,300,200|Inconsolata|Ubuntu+Mono:400,700\" rel=\"stylesheet\" type=\"text/css\" />'))\n",
      "display(HTML('<link rel=\"stylesheet\" type=\"text/css\" href=\"http://help.plot.ly/documentation/all_static/css/ipython-notebook-custom.css\">'))\n",
      "\n",
      "! pip install publisher --upgrade\n",
      "import publisher\n",
      "publisher.publish(\n",
      "    'Les-miserables-network.ipynb', 'python/3d-network-graph', 'Python 3D Network Graphs | plotly',\n",
      "    'How to make 3D Network Graphs in Python. ',\n",
      "    name = '3D Network Graphs',\n",
      "    thumbnail='/images/3dnetwork.png', language='python',\n",
      "    page_type='example_index', has_thumbnail='true', display_as='3d_charts', order=11)"
     ],
     "language": "python",
     "metadata": {},
     "outputs": [
      {
       "html": [
        "<link href=\"//fonts.googleapis.com/css?family=Open+Sans:600,400,300,200|Inconsolata|Ubuntu+Mono:400,700\" rel=\"stylesheet\" type=\"text/css\" />"
       ],
       "metadata": {},
       "output_type": "display_data",
       "text": [
        "<IPython.core.display.HTML at 0x107098610>"
       ]
      },
      {
       "html": [
        "<link rel=\"stylesheet\" type=\"text/css\" href=\"http://help.plot.ly/documentation/all_static/css/ipython-notebook-custom.css\">"
       ],
       "metadata": {},
       "output_type": "display_data",
       "text": [
        "<IPython.core.display.HTML at 0x1070981d0>"
       ]
      },
      {
       "output_type": "stream",
       "stream": "stdout",
       "text": [
        "Requirement already up-to-date: publisher in /Library/Frameworks/Python.framework/Versions/2.7/lib/python2.7/site-packages\r\n"
       ]
      },
      {
       "output_type": "stream",
       "stream": "stderr",
       "text": [
        "/Library/Frameworks/Python.framework/Versions/2.7/lib/python2.7/site-packages/publisher/publisher.py:53: UserWarning:\n",
        "\n",
        "Did you \"Save\" this notebook before running this command? Remember to save, always save.\n",
        "\n"
       ]
      }
     ],
     "prompt_number": 23
    },
    {
     "cell_type": "code",
     "collapsed": false,
     "input": [],
     "language": "python",
     "metadata": {},
     "outputs": []
    }
   ],
   "metadata": {}
  }
 ]
}