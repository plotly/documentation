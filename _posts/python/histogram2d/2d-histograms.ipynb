{
 "cells": [
  {
   "cell_type": "markdown",
   "metadata": {},
   "source": [
    "#### New to Plotly?\n",
    "Plotly's Python library is free and open source! [Get started](https://plot.ly/python/getting-started/) by downloading the client and [reading the primer](https://plot.ly/python/getting-started/).\n",
    "<br>You can set up Plotly to work in [online](https://plot.ly/python/getting-started/#initialization-for-online-plotting) or [offline](https://plot.ly/python/getting-started/#initialization-for-offline-plotting) mode, or in [jupyter notebooks](https://plot.ly/python/getting-started/#start-plotting-online).\n",
    "<br>We also have a quick-reference [cheatsheet](https://images.plot.ly/plotly-documentation/images/python_cheat_sheet.pdf) (new!) to help you get started!\n"
   ]
  },
  {
   "cell_type": "markdown",
   "metadata": {},
   "source": [
    "#### Version Check\n",
    "Note: 2D Histograms are available in version <b>1.9.12+</b><br>\n",
    "Run  `pip install plotly --upgrade` to update your Plotly version"
   ]
  },
  {
   "cell_type": "code",
   "execution_count": 1,
   "metadata": {
    "collapsed": false
   },
   "outputs": [
    {
     "data": {
      "text/plain": [
       "'1.9.12'"
      ]
     },
     "execution_count": 1,
     "metadata": {},
     "output_type": "execute_result"
    }
   ],
   "source": [
    "import plotly\n",
    "plotly.__version__"
   ]
  },
  {
   "cell_type": "markdown",
   "metadata": {},
   "source": [
    "### 2D Histogram with Slider Control ###"
   ]
  },
  {
   "cell_type": "markdown",
   "metadata": {},
   "source": [
    "Add slider controls to 2d histograms with the [postMessage API](https://github.com/plotly/postMessage-API).        \n",
    "                                                                                                                   See the [code on JSFiddle](https://jsfiddle.net/plotlygraphs/y9sdy76h/4/).                                        \n",
    "                                                                                                                  Watch [the 5 second video](https://raw.githubusercontent.com/plotly/documentation/gh-pages/all_static/images      \n",
    "/flight_conflicts.gif) of how it works.                                                                           "
   ]
  },
  {
   "cell_type": "code",
   "execution_count": 2,
   "metadata": {
    "collapsed": false
   },
   "outputs": [
    {
     "data": {
      "text/html": [
       "<iframe height=600 width=950 src=\"https://jsfiddle.net/plotlygraphs/y9sdy76h/4/embedded/result,js,html/\"></iframe>"
      ],
      "text/plain": [
       "<IPython.core.display.HTML object>"
      ]
     },
     "metadata": {},
     "output_type": "display_data"
    }
   ],
   "source": [
    "from IPython.core.display import display,HTML\n",
    "display(HTML('<iframe height=600 width=950 src=\"https://jsfiddle.net/plotlygraphs/y9sdy76h/4/embedded/result,js,html/\"></iframe>'))"
   ]
  },
  {
   "cell_type": "markdown",
   "metadata": {},
   "source": [
    "### 2D Histogram of a Bivariate Normal Distribution ###"
   ]
  },
  {
   "cell_type": "code",
   "execution_count": 3,
   "metadata": {
    "collapsed": false
   },
   "outputs": [
    {
     "data": {
      "text/html": [
       "<iframe id=\"igraph\" scrolling=\"no\" style=\"border:none;\" seamless=\"seamless\" src=\"https://plot.ly/~Diksha_Gabha/445.embed\" height=\"525px\" width=\"100%\"></iframe>"
      ],
      "text/plain": [
       "<plotly.tools.PlotlyDisplay object>"
      ]
     },
     "execution_count": 3,
     "metadata": {},
     "output_type": "execute_result"
    }
   ],
   "source": [
    "import plotly.plotly as py\n",
    "import plotly.graph_objs as go\n",
    "\n",
    "import numpy as np\n",
    "\n",
    "x = np.random.randn(500)\n",
    "y = np.random.randn(500)+1\n",
    "\n",
    "data = [\n",
    "    go.Histogram2d(\n",
    "        x=x,\n",
    "        y=y\n",
    "    )\n",
    "]\n",
    "py.iplot(data)\n"
   ]
  },
  {
   "cell_type": "markdown",
   "metadata": {},
   "source": [
    "### 2D Histogram Binning and Styling Options ###"
   ]
  },
  {
   "cell_type": "code",
   "execution_count": 4,
   "metadata": {
    "collapsed": false
   },
   "outputs": [
    {
     "data": {
      "text/html": [
       "<iframe id=\"igraph\" scrolling=\"no\" style=\"border:none;\" seamless=\"seamless\" src=\"https://plot.ly/~Diksha_Gabha/447.embed\" height=\"525px\" width=\"100%\"></iframe>"
      ],
      "text/plain": [
       "<plotly.tools.PlotlyDisplay object>"
      ]
     },
     "execution_count": 4,
     "metadata": {},
     "output_type": "execute_result"
    }
   ],
   "source": [
    "import plotly.plotly as py\n",
    "import plotly.graph_objs as go\n",
    "\n",
    "import numpy as np\n",
    "\n",
    "x = np.random.randn(500)\n",
    "y = np.random.randn(500)+1\n",
    "\n",
    "data = [\n",
    "    go.Histogram2d(x=x, y=y, histnorm='probability',\n",
    "        autobinx=False,\n",
    "        xbins=dict(start=-3, end=3, size=0.1),\n",
    "        autobiny=False,\n",
    "        ybins=dict(start=-2.5, end=4, size=0.1),\n",
    "        colorscale=[[0, 'rgb(12,51,131)'], [0.25, 'rgb(10,136,186)'], [0.5, 'rgb(242,211,56)'], [0.75, 'rgb(242,143,56)'], [1, 'rgb(217,30,30)']]\n",
    "    )\n",
    "]\n",
    "py.iplot(data)\n"
   ]
  },
  {
   "cell_type": "markdown",
   "metadata": {},
   "source": [
    "### 2D Histogram Overlaid with a Scatter Chart ###"
   ]
  },
  {
   "cell_type": "code",
   "execution_count": 5,
   "metadata": {
    "collapsed": false
   },
   "outputs": [
    {
     "data": {
      "text/html": [
       "<iframe id=\"igraph\" scrolling=\"no\" style=\"border:none;\" seamless=\"seamless\" src=\"https://plot.ly/~Diksha_Gabha/449.embed\" height=\"550px\" width=\"550px\"></iframe>"
      ],
      "text/plain": [
       "<plotly.tools.PlotlyDisplay object>"
      ]
     },
     "execution_count": 5,
     "metadata": {},
     "output_type": "execute_result"
    }
   ],
   "source": [
    "import plotly.plotly as py\n",
    "import plotly.graph_objs as go\n",
    "\n",
    "import numpy as np\n",
    "\n",
    "x0 = np.random.randn(100)/5. + 0.5  # 5. enforces float division\n",
    "y0 = np.random.randn(100)/5. + 0.5\n",
    "x1 = np.random.rand(50)\n",
    "y1 = np.random.rand(50) + 1.0\n",
    "\n",
    "x = np.concatenate([x0, x1])\n",
    "y = np.concatenate([y0, y1])\n",
    "\n",
    "trace1 = go.Scatter(\n",
    "    x=x0,\n",
    "    y=y0,\n",
    "    mode='markers',\n",
    "    showlegend=False,\n",
    "    marker=dict(\n",
    "        symbol='x',\n",
    "        opacity=0.7,\n",
    "        color='white',\n",
    "        size=8,\n",
    "        line=dict(width=1),\n",
    "    )\n",
    ")\n",
    "trace2 = go.Scatter(\n",
    "    x=x1,\n",
    "    y=y1,\n",
    "    mode='markers',\n",
    "    showlegend=False,\n",
    "    marker=dict(\n",
    "        symbol='circle',\n",
    "        opacity=0.7,\n",
    "        color='white',\n",
    "        size=8,\n",
    "        line=dict(width=1),\n",
    "    )\n",
    ")\n",
    "trace3 = go.Histogram2d(\n",
    "    x=x,\n",
    "    y=y,\n",
    "    colorscale='YIGnBu',\n",
    "    zmax=10,\n",
    "    nbinsx=14,\n",
    "    nbinsy=14,\n",
    "    zauto=False,\n",
    ")\n",
    "\n",
    "layout = go.Layout(\n",
    "    xaxis=dict( ticks='', showgrid=False, zeroline=False, nticks=20 ),\n",
    "    yaxis=dict( ticks='', showgrid=False, zeroline=False, nticks=20 ),\n",
    "    autosize=False,\n",
    "    height=550,\n",
    "    width=550,\n",
    "    hovermode='closest',\n",
    "\n",
    ")\n",
    "data = [trace1, trace2, trace3]\n",
    "fig = go.Figure(data=data, layout=layout)\n",
    "\n",
    "py.iplot(fig)"
   ]
  },
  {
   "cell_type": "markdown",
   "metadata": {},
   "source": [
    "#### Reference\n",
    "See https://plot.ly/python/reference/#histogram2d for more information and chart attribute options!\n"
   ]
  },
  {
   "cell_type": "code",
   "execution_count": 7,
   "metadata": {
    "collapsed": false
   },
   "outputs": [
    {
     "data": {
      "text/html": [
       "<link href=\"//fonts.googleapis.com/css?family=Open+Sans:600,400,300,200|Inconsolata|Ubuntu+Mono:400,700rel=\"stylesheet\" type=\"text/css\" />"
      ],
      "text/plain": [
       "<IPython.core.display.HTML object>"
      ]
     },
     "metadata": {},
     "output_type": "display_data"
    },
    {
     "data": {
      "text/html": [
       "<link rel=\"stylesheet\" type=\"text/csshref=\"http://help.plot.ly/documentation/all_static/css/ipython-notebook-custom.css\">"
      ],
      "text/plain": [
       "<IPython.core.display.HTML object>"
      ]
     },
     "metadata": {},
     "output_type": "display_data"
    },
    {
     "name": "stdout",
     "output_type": "stream",
     "text": [
      "Downloading/unpacking git+https://github.com/plotly/publisher.git\n",
      "  Cloning https://github.com/plotly/publisher.git to /tmp/pip-IrBApx-build\n",
      "  Running setup.py (path:/tmp/pip-IrBApx-build/setup.py) egg_info for package from git+https://github.com/plotly/publisher.git\n",
      "    \n",
      "    warning: no files found matching '*.txt' under directory 'docs'\n",
      "    no previously-included directories found matching 'dist'\n",
      "Installing collected packages: publisher\n",
      "  Running setup.py install for publisher\n",
      "    \n",
      "    warning: no files found matching '*.txt' under directory 'docs'\n",
      "    no previously-included directories found matching 'dist'\n",
      "Successfully installed publisher\n",
      "Cleaning up...\n"
     ]
    }
   ],
   "source": [
    "from IPython.display import display, HTML\n",
    "\n",
    "display(HTML('<link href=\"//fonts.googleapis.com/css?family=Open+Sans:600,400,300,200|Inconsolata|Ubuntu+Mono:400,700rel=\"stylesheet\" type=\"text/css\" />'))\n",
    "display(HTML('<link rel=\"stylesheet\" type=\"text/csshref=\"http://help.plot.ly/documentation/all_static/css/ipython-notebook-custom.css\">'))\n",
    "\n",
    "! pip install git+https://github.com/plotly/publisher.git --upgrade\n",
    "\n",
    "import publisher\n",
    "publisher.publish(\n",
    "    '2d-histograms.ipynb', 'python/2D-Histogram/', 'Python 2D Histograms | plotly',\n",
    "    'How to make 2D Histograms in Python with Plotly.',\n",
    "    title = 'Python 2D Histograms | plotly',\n",
    "    name = '2D Histograms',\n",
    "    has_thumbnail='true', thumbnail='thumbnail/histogram2d.jpg', \n",
    "    language='python', page_type='example_index',\n",
    "    display_as='statistical', order=6)  "
   ]
  },
  {
   "cell_type": "code",
   "execution_count": null,
   "metadata": {
    "collapsed": true
   },
   "outputs": [],
   "source": []
  }
 ],
 "metadata": {
  "kernelspec": {
   "display_name": "Python 2",
   "language": "python",
   "name": "python2"
  },
  "language_info": {
   "codemirror_mode": {
    "name": "ipython",
    "version": 2
   },
   "file_extension": ".py",
   "mimetype": "text/x-python",
   "name": "python",
   "nbconvert_exporter": "python",
   "pygments_lexer": "ipython2",
   "version": "2.7.9"
  }
 },
 "nbformat": 4,
 "nbformat_minor": 0
}
