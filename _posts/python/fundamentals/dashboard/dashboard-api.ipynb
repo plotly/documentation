{
 "cells": [
  {
   "cell_type": "markdown",
   "metadata": {},
   "source": [
    "#### New to Plotly?\n",
    "Plotly's Python library is free and open source! [Get started](https://plot.ly/python/getting-started/) by downloading the client and [reading the primer](https://plot.ly/python/getting-started/).\n",
    "<br>You can set up Plotly to work in [online](https://plot.ly/python/getting-started/#initialization-for-online-plotting) or [offline](https://plot.ly/python/getting-started/#initialization-for-offline-plotting) mode, or in [jupyter notebooks](https://plot.ly/python/getting-started/#start-plotting-online).\n",
    "<br>We also have a quick-reference [cheatsheet](https://images.plot.ly/plotly-documentation/images/python_cheat_sheet.pdf) (new!) to help you get started!\n",
    "#### Version Check\n",
    "Note: The dashboard API is available in version <b>2.0.5.+</b><br>\n",
    "Run  `pip install plotly --upgrade` to update your Plotly version."
   ]
  },
  {
   "cell_type": "code",
   "execution_count": 1,
   "metadata": {},
   "outputs": [
    {
     "data": {
      "text/plain": [
       "'2.0.6'"
      ]
     },
     "execution_count": 1,
     "metadata": {},
     "output_type": "execute_result"
    }
   ],
   "source": [
    "import plotly\n",
    "plotly.__version__"
   ]
  },
  {
   "cell_type": "markdown",
   "metadata": {},
   "source": [
    "#### Plotly Dashboards\n",
    "A dashboard is a collection of plots and images organized with a certain layout. There are two ways to create a Plotly dashboard: using the [online creator](https://plot.ly/dashboard/create/) or programmatically with Plotly's python API.\n",
    "\n",
    "In Plotly, dashboards can contain plots, text and webpage images. To use the online creator, see https://plot.ly/dashboard/create/. Dashboards are stored in your Plotly account: https://plot.ly/organize\n",
    "#### Dashboard Privacy\n",
    "In the same way that a `plot` can be `public`, `private` or `secret`, dashboards can also be `public`, `private` or `secret` independent of the plots inside them. So if you're sharing a `dashboard` with someone and one or more of your plots are set to `private`, they will not show for the other user. For more information about this refer to the [Dashboard Privacy Doc](http://help.plot.ly/dashboard-privacy/).\n",
    "#### Initialize a Dashboard\n",
    "Now you can programmatically create and modify dashboards in Python. These dashboards can be uploaded to the Plotly server to join your other dashboards. You can also retrieve dashboards from Plotly.\n",
    "\n",
    "Let's start by creating a new dashboard. To get a preview of the HTML representation of the dashboard organization - i.e. where the items in the dashboard are located with respect to one another - run the `.get_preview()` method in a notebook cell. Everytime you modify your dashboard you should run this to check what it looks like.\n",
    "\n",
    "`IMPORTANT NOTE`: because of the way `.get_preview()` works _only_ one cell of the Jupyter notebook can display the preview of the dashboard after running this method. A good setup is to designate one cell to look like `my_dboard.get_preview()` and then run that every time you make a change to update the HTML representation of the dashboard. For the purposes of clarity, each modification of the dashboard in this tutorial is clearly shown."
   ]
  },
  {
   "cell_type": "code",
   "execution_count": 2,
   "metadata": {},
   "outputs": [
    {
     "data": {
      "text/html": [
       "\n",
       "<!DOCTYPE HTML>\n",
       "<html>\n",
       "  <head>\n",
       "    <style>\n",
       "      body {\n",
       "        margin: 0px;\n",
       "        padding: 0px;\n",
       "      }\n",
       "    </style>\n",
       "  </head>\n",
       "  <body>\n",
       "    <canvas id=\"myCanvas\" width=\"400\" height=\"400\"></canvas>\n",
       "    <script>\n",
       "      var canvas = document.getElementById('myCanvas');\n",
       "      var context = canvas.getContext('2d');\n",
       "      <!-- Dashboard -->\n",
       "      context.beginPath();\n",
       "      context.rect(0, 0, 400, 400);\n",
       "      context.lineWidth = 2;\n",
       "      context.strokeStyle = 'black';\n",
       "      context.stroke();\n",
       "      </script>\n",
       "  </body>\n",
       "</html>\n"
      ],
      "text/plain": [
       "<IPython.core.display.HTML object>"
      ]
     },
     "execution_count": 2,
     "metadata": {},
     "output_type": "execute_result"
    }
   ],
   "source": [
    "import plotly.dashboard_objs as dashboard\n",
    "\n",
    "import IPython.display\n",
    "from IPython.display import Image\n",
    "\n",
    "my_dboard = dashboard.Dashboard()\n",
    "my_dboard.get_preview()"
   ]
  },
  {
   "cell_type": "markdown",
   "metadata": {},
   "source": [
    "#### Choose Plots\n",
    "In order to use the dashboard, we need to put some plots into it. You can either make these on-the-fly in Jupyter or use a plot you've already created by using its url."
   ]
  },
  {
   "cell_type": "code",
   "execution_count": 3,
   "metadata": {},
   "outputs": [
    {
     "data": {
      "text/html": [
       "<iframe id=\"igraph\" scrolling=\"no\" style=\"border:none;\" seamless=\"seamless\" src=\"https://plot.ly/~PlotBot/1296.embed\" height=\"525px\" width=\"100%\"></iframe>"
      ],
      "text/plain": [
       "<plotly.tools.PlotlyDisplay object>"
      ]
     },
     "execution_count": 3,
     "metadata": {},
     "output_type": "execute_result"
    }
   ],
   "source": [
    "import plotly.graph_objs as go\n",
    "import plotly.plotly as py\n",
    "\n",
    "import numpy as np\n",
    "\n",
    "colorscale = [[0, '#FAEE1C'], [0.33, '#F3558E'], [0.66, '#9C1DE7'], [1, '#581B98']]\n",
    "trace1 = go.Scatter(\n",
    "    y = np.random.randn(500),\n",
    "    mode='markers',\n",
    "    marker=dict(\n",
    "        size='16',\n",
    "        color = np.random.randn(500),\n",
    "        colorscale=colorscale,\n",
    "        showscale=True\n",
    "    )\n",
    ")\n",
    "data = [trace1]\n",
    "url_1 = py.plot(data, filename='scatter-for-dashboard', auto_open=False)\n",
    "py.iplot(data, filename='scatter-for-dashboard')"
   ]
  },
  {
   "cell_type": "markdown",
   "metadata": {},
   "source": [
    "Create a plot with a secret key:"
   ]
  },
  {
   "cell_type": "code",
   "execution_count": 4,
   "metadata": {},
   "outputs": [
    {
     "data": {
      "text/html": [
       "<iframe id=\"igraph\" scrolling=\"no\" style=\"border:none;\" seamless=\"seamless\" src=\"https://plot.ly/~PlotBot/1342.embed\" height=\"525px\" width=\"100%\"></iframe>"
      ],
      "text/plain": [
       "<plotly.tools.PlotlyDisplay object>"
      ]
     },
     "execution_count": 4,
     "metadata": {},
     "output_type": "execute_result"
    }
   ],
   "source": [
    "import plotly.plotly as py\n",
    "import plotly.graph_objs as go\n",
    "\n",
    "import numpy as np\n",
    "\n",
    "x0 = np.random.randn(50)\n",
    "x1 = np.random.randn(50) + 2\n",
    "x2 = np.random.randn(50) + 4\n",
    "x3 = np.random.randn(50) + 6\n",
    "\n",
    "colors = ['#FAEE1C', '#F3558E', '#9C1DE7', '#581B98']\n",
    "\n",
    "trace0 = go.Box(x=x0, marker={'color': colors[0]})\n",
    "trace1 = go.Box(x=x1, marker={'color': colors[1]})\n",
    "trace2 = go.Box(x=x2, marker={'color': colors[2]})\n",
    "trace3 = go.Box(x=x3, marker={'color': colors[3]})\n",
    "data = [trace0, trace1, trace2, trace3]\n",
    "\n",
    "url_2 = py.plot(data, filename='box-plots-for-dashboard', sharing='secret', auto_open=False)\n",
    "py.iplot(data, filename='box-plots-for-dashboard')"
   ]
  },
  {
   "cell_type": "code",
   "execution_count": 5,
   "metadata": {},
   "outputs": [
    {
     "data": {
      "text/plain": [
       "u'https://plot.ly/~PlotBot/1342?share_key=uVoeGB1i8Xf4fk0b57sT2l'"
      ]
     },
     "execution_count": 5,
     "metadata": {},
     "output_type": "execute_result"
    }
   ],
   "source": [
    "url_2"
   ]
  },
  {
   "cell_type": "markdown",
   "metadata": {},
   "source": [
    "#### Add a Box\n",
    "If you want to place a plot, text box or a webpage into the dashboard, you need to place it in a `box` (which is just a dictionary) and `insert` it into your dashboard. We will be inserting a plot, a text box, and a secret plot.\n",
    "\n",
    "A box with a plot in it takes the form:\n",
    "```\n",
    "{\n",
    "    'type': 'box',\n",
    "    'boxType': 'plot',\n",
    "    'fileId': '',\n",
    "    'shareKey': None,\n",
    "    'title': ''\n",
    "}\n",
    "```\n",
    "- `fileId` is of the form `username:number` (eg. 'PlotBot:1300') which can be found in the url of your plot once it's up on the Plotly server.\n",
    "- `shareKey`: optional - the sharekey if your plot is secret.\n",
    "- `title`: optional - sets the title of your box.\n",
    "\n",
    "A box with text in it takes the form:\n",
    "```\n",
    "{\n",
    "    'type': 'box',\n",
    "    'boxType': 'text',\n",
    "    'text': '',\n",
    "    'title': ''\n",
    "}\n",
    "```\n",
    "- `text`: the text you want displayed in your box.\n",
    "- `title`: optional - sets the title of your box.\n",
    "\n",
    "A box with a webpage in it takes the form:\n",
    "```\n",
    "{\n",
    "    'type': 'box',\n",
    "    'boxType': 'webpage',\n",
    "    'url': '',\n",
    "    'title': ''\n",
    "}\n",
    "```\n",
    "- `url`: the url of your webpage (eg. 'https://en.wikipedia.org/wiki/Main_Page').\n",
    "- `title`: optional - sets the title of your box.\n",
    "\n",
    "Note: As above, you can run `py.plot()` to return the url of your plot and then assign it to a variable to use in a dashboard later."
   ]
  },
  {
   "cell_type": "markdown",
   "metadata": {},
   "source": [
    "To extract the fileId from a url, use the `fileId_from_url` below. If your url is `secret`, use `sharekey_from_url` to return the sharekey from the url, then place in your box that contains a secret plot."
   ]
  },
  {
   "cell_type": "code",
   "execution_count": 6,
   "metadata": {
    "collapsed": true
   },
   "outputs": [],
   "source": [
    "def fileId_from_url(url):\n",
    "    \"\"\"Return fileId from a url.\"\"\"\n",
    "    index = url.find('~')\n",
    "    fileId = url[index + 1:]\n",
    "    local_id_index = fileId.find('/')\n",
    "\n",
    "    share_key_index = fileId.find('?share_key')\n",
    "    if share_key_index == -1:\n",
    "        return fileId.replace('/', ':')\n",
    "    else:\n",
    "        return fileId[:share_key_index].replace('/', ':')\n",
    "\n",
    "def sharekey_from_url(url):\n",
    "    \"\"\"Return the sharekey from a url.\"\"\"\n",
    "    index = url.find('share_key=')\n",
    "    return url[index + len('share_key='):]\n",
    "\n",
    "fileId_1 = fileId_from_url(url_1)\n",
    "fileId_2 = fileId_from_url(url_2)\n",
    "\n",
    "box_a = {\n",
    "    'type': 'box',\n",
    "    'boxType': 'plot',\n",
    "    'fileId': fileId_1,\n",
    "    'title': 'scatter-for-dashboard'\n",
    "}\n",
    "\n",
    "text_for_box = \"\"\" \n",
    "## Distributions: \n",
    "\n",
    "\n",
    "#### Scatter Plot\n",
    "1. Ranging 0 - 500\n",
    "2. Even distribution\n",
    "\n",
    "#### Box Plot\n",
    "1. Similar Range\n",
    "2. Outliers present in trace 1 and trace 3\n",
    "\n",
    "You can view more markdown tips [here](https://daringfireball.net/projects/markdown/syntax).\n",
    "\"\"\"\n",
    "\n",
    "box_b = {\n",
    "    'type': 'box',\n",
    "    'boxType': 'text',\n",
    "    'text': text_for_box,\n",
    "    'title': 'Markdown Options for Text Box'\n",
    "}\n",
    "\n",
    "box_c = {\n",
    "    'type': 'box',\n",
    "    'boxType': 'plot',\n",
    "    'fileId': fileId_2,\n",
    "    'title': 'box-for-dashboard',\n",
    "    'shareKey': sharekey_from_url(url_2)\n",
    "}\n",
    "\n",
    "my_dboard.insert(box_a)"
   ]
  },
  {
   "cell_type": "markdown",
   "metadata": {},
   "source": [
    "![IPython terminal](https://images.plot.ly/plotly-documentation/images/dashboard_1.png)"
   ]
  },
  {
   "cell_type": "code",
   "execution_count": 8,
   "metadata": {},
   "outputs": [],
   "source": [
    "my_dboard.insert(box_b, 'above', 1)"
   ]
  },
  {
   "cell_type": "markdown",
   "metadata": {
    "collapsed": true
   },
   "source": [
    "![IPython terminal](https://images.plot.ly/plotly-documentation/images/dashboard_2.png)"
   ]
  },
  {
   "cell_type": "code",
   "execution_count": 9,
   "metadata": {
    "collapsed": true
   },
   "outputs": [],
   "source": [
    "my_dboard.insert(box_c, 'left', 2)"
   ]
  },
  {
   "cell_type": "markdown",
   "metadata": {},
   "source": [
    "![IPython terminal](https://images.plot.ly/plotly-documentation/images/dashboard_3.png)"
   ]
  },
  {
   "cell_type": "markdown",
   "metadata": {},
   "source": [
    "#### Get Box\n",
    "Each time `my_dboard.get_preview()` is run a layout of the dashboard is returned where each rectangular area is denoted by a number in the center. These numbers or `box ids` are essentially lookup keys that are assigned on-the-fly each time `.get_preview()` is run and are liable to change.\n",
    "\n",
    "Remember that a box is just a dictionary that specifies the plot, webpage or text that it contains. For example, let's say you want to see what plot will show up in the region `1` of the dashboard. Run `my_dboard.get_box(1)` and the dict of the box will be returned:"
   ]
  },
  {
   "cell_type": "code",
   "execution_count": 10,
   "metadata": {},
   "outputs": [
    {
     "data": {
      "text/plain": [
       "{'boxType': 'plot',\n",
       " 'fileId': u'PlotBot:1296',\n",
       " 'title': 'scatter-for-dashboard',\n",
       " 'type': 'box'}"
      ]
     },
     "execution_count": 10,
     "metadata": {},
     "output_type": "execute_result"
    }
   ],
   "source": [
    "my_dboard.get_box(1)"
   ]
  },
  {
   "cell_type": "markdown",
   "metadata": {},
   "source": [
    "You can now reassign the values in the dictionary to update that box. For example, you can change the title of that plot:"
   ]
  },
  {
   "cell_type": "code",
   "execution_count": 11,
   "metadata": {},
   "outputs": [
    {
     "data": {
      "text/plain": [
       "{'boxType': 'plot',\n",
       " 'fileId': u'PlotBot:1296',\n",
       " 'title': 'a new title',\n",
       " 'type': 'box'}"
      ]
     },
     "execution_count": 11,
     "metadata": {},
     "output_type": "execute_result"
    }
   ],
   "source": [
    "my_dboard.get_box(1)['title'] = 'a new title'\n",
    "my_dboard.get_box(1)"
   ]
  },
  {
   "cell_type": "markdown",
   "metadata": {},
   "source": [
    "#### Swap Boxes\n",
    "If you want to swap the locations of two boxes you've already placed in the dashboard, run `my_dboard.get_preview()` to look at the layout of the dashboard, then simply pick two _unique_ box ids and you will swap the contents stored at those locations. "
   ]
  },
  {
   "cell_type": "code",
   "execution_count": 12,
   "metadata": {},
   "outputs": [
    {
     "data": {
      "text/plain": [
       "'box-for-dashboard'"
      ]
     },
     "execution_count": 12,
     "metadata": {},
     "output_type": "execute_result"
    }
   ],
   "source": [
    "my_dboard.get_box(3)['title']"
   ]
  },
  {
   "cell_type": "code",
   "execution_count": 13,
   "metadata": {},
   "outputs": [
    {
     "data": {
      "text/plain": [
       "'Markdown Options for Text Box'"
      ]
     },
     "execution_count": 13,
     "metadata": {},
     "output_type": "execute_result"
    }
   ],
   "source": [
    "my_dboard.swap(2, 3)\n",
    "my_dboard.get_box(3)['title']"
   ]
  },
  {
   "cell_type": "markdown",
   "metadata": {},
   "source": [
    "#### Remove Box\n",
    "You can remove a box from the dashboard by identifying its box id from the `my_dboard.get_preview()`."
   ]
  },
  {
   "cell_type": "code",
   "execution_count": 14,
   "metadata": {
    "collapsed": true
   },
   "outputs": [],
   "source": [
    "my_dboard.insert(box_a, 'below', 2)"
   ]
  },
  {
   "cell_type": "markdown",
   "metadata": {},
   "source": [
    "![IPython terminal](https://images.plot.ly/plotly-documentation/images/dashboard_4.png)"
   ]
  },
  {
   "cell_type": "code",
   "execution_count": 15,
   "metadata": {
    "collapsed": true
   },
   "outputs": [],
   "source": [
    "my_dboard.remove(2)"
   ]
  },
  {
   "cell_type": "markdown",
   "metadata": {},
   "source": [
    "![IPython terminal](https://images.plot.ly/plotly-documentation/images/dashboard_3.png)"
   ]
  },
  {
   "cell_type": "markdown",
   "metadata": {},
   "source": [
    "#### Add Title\n",
    "Set the title of your dashboard."
   ]
  },
  {
   "cell_type": "code",
   "execution_count": 16,
   "metadata": {
    "collapsed": true
   },
   "outputs": [],
   "source": [
    "my_dboard['settings']['title'] = 'My First Dashboard with Python'"
   ]
  },
  {
   "cell_type": "markdown",
   "metadata": {},
   "source": [
    "#### Add a Logo\n",
    "Add a logo to the top-left corner of the dashboard."
   ]
  },
  {
   "cell_type": "code",
   "execution_count": 17,
   "metadata": {
    "collapsed": true
   },
   "outputs": [],
   "source": [
    "my_dboard['settings']['logoUrl'] = 'https://images.plot.ly/language-icons/api-home/python-logo.png'"
   ]
  },
  {
   "cell_type": "markdown",
   "metadata": {},
   "source": [
    "#### Add Links\n",
    "Add some links to the header of the dashboard."
   ]
  },
  {
   "cell_type": "code",
   "execution_count": 18,
   "metadata": {
    "collapsed": true
   },
   "outputs": [],
   "source": [
    "my_dboard['settings']['links'] = []\n",
    "my_dboard['settings']['links'].append({'title': 'Link to Plotly', 'url': 'https://plot.ly/'})\n",
    "my_dboard['settings']['links'].append({'title': 'Link to Python Website', 'url': 'https://www.python.org/'})"
   ]
  },
  {
   "cell_type": "markdown",
   "metadata": {},
   "source": [
    "#### Change Color Settings"
   ]
  },
  {
   "cell_type": "code",
   "execution_count": 19,
   "metadata": {
    "collapsed": true
   },
   "outputs": [],
   "source": [
    "my_dboard['settings']['foregroundColor'] = '#000000'\n",
    "my_dboard['settings']['backgroundColor'] = '#adcaea'\n",
    "my_dboard['settings']['headerForegroundColor'] = '#ffffff'\n",
    "my_dboard['settings']['headerBackgroundColor'] = '#D232C8'\n",
    "my_dboard['settings']['boxBackgroundColor'] = '#ffffff'\n",
    "my_dboard['settings']['boxBorderColor'] = '#000000'\n",
    "my_dboard['settings']['boxHeaderBackgroundColor'] = '#ffffff'"
   ]
  },
  {
   "cell_type": "markdown",
   "metadata": {},
   "source": [
    "#### Update Sizing\n",
    "**COMING SOON: A programatic way to change the sizes of the boxes in a dashboard using the Dashboard API.**\n",
    "Right now there is no native way to adjust the sizes of the dashboard boxes. A current issue with stacking boxes in a dashhboard layout is that each added box gets incrementally half as big as the one before it after inserting into the dashboard."
   ]
  },
  {
   "cell_type": "code",
   "execution_count": 20,
   "metadata": {
    "collapsed": true,
    "scrolled": true
   },
   "outputs": [],
   "source": [
    "stacked_dboard = dashboard.Dashboard()\n",
    "text_box = {\n",
    "    'type': 'box',\n",
    "    'boxType': 'text',\n",
    "    'text': 'empty space' \n",
    "}\n",
    "for _ in range(5):\n",
    "    stacked_dboard.insert(text_box, 'below', 1)"
   ]
  },
  {
   "cell_type": "markdown",
   "metadata": {},
   "source": [
    "If a dashboard looks like the one above with small boxes, it may be difficult to resize in the [online creator](https://plot.ly/dashboard/create/). To avoid this issue, resize the dashboard:"
   ]
  },
  {
   "cell_type": "code",
   "execution_count": 21,
   "metadata": {
    "collapsed": true
   },
   "outputs": [],
   "source": [
    "stacked_dboard['layout']['size'] = 3000"
   ]
  },
  {
   "cell_type": "markdown",
   "metadata": {},
   "source": [
    "#### Upload Dashboard\n",
    "To upload your dashboard to your [Plotly cloud account](https://plot.ly/organize/home/) use `py.dashboard_ops.upload()`."
   ]
  },
  {
   "cell_type": "code",
   "execution_count": 22,
   "metadata": {
    "collapsed": true
   },
   "outputs": [],
   "source": [
    "my_dboard['layout']['first']['first']['first']['text'] = text_for_box"
   ]
  },
  {
   "cell_type": "code",
   "execution_count": 23,
   "metadata": {},
   "outputs": [
    {
     "data": {
      "text/plain": [
       "u'https://plot.ly/~PlotBot/1327/my-first-dashboard-with-python/'"
      ]
     },
     "execution_count": 23,
     "metadata": {},
     "output_type": "execute_result"
    }
   ],
   "source": [
    "import plotly.plotly as py\n",
    "py.dashboard_ops.upload(my_dboard, 'My First Dashboard with Python')"
   ]
  },
  {
   "cell_type": "markdown",
   "metadata": {},
   "source": [
    "[![](https://images.plot.ly/plotly-documentation/images/my_dboard_from_API_with_logo_and_links.png)](https://plot.ly/~PythonPlotBot/540/my-first-dashboard-with-python/)"
   ]
  },
  {
   "cell_type": "markdown",
   "metadata": {},
   "source": [
    "#### Retrieve Dashboard\n",
    "You can also retrieve any of your dashboards from Plotly. To see what dashboards you have in the Plotly cloud, run `py.dashboard_ops.get_dashboard_names()` to get a list of the dashboards you have in your files. To grab a specific dashboard, simply input its name into `py.dashboard_ops.get_dashboard()` to create a `Dashboard()`."
   ]
  },
  {
   "cell_type": "code",
   "execution_count": 24,
   "metadata": {},
   "outputs": [
    {
     "data": {
      "text/plain": [
       "['My First Dashboard with Python']"
      ]
     },
     "execution_count": 24,
     "metadata": {},
     "output_type": "execute_result"
    }
   ],
   "source": [
    "py.dashboard_ops.get_dashboard_names()"
   ]
  },
  {
   "cell_type": "code",
   "execution_count": 25,
   "metadata": {
    "collapsed": true
   },
   "outputs": [],
   "source": [
    "recent_dboard = py.dashboard_ops.get_dashboard('My First Dashboard with Python')"
   ]
  },
  {
   "cell_type": "markdown",
   "metadata": {},
   "source": [
    "#### Examples\n",
    "- [Twitter Marketing Campaign](https://plot.ly/dashboard/jackp:16823/present)\n",
    "- [Shell: Integrated Gas](https://plot.ly/dashboard/jackp:16820/present)\n",
    "- [US Wind Turbine Example](https://plot.ly/dashboard/jackluo:430/present)\n",
    "- [Motorcars Example](https://plot.ly/dashboard/jackp%3A16818/present).\n",
    "\n",
    "You can learn more about making dashboards by going to https://plot.ly/python/dashboard/"
   ]
  },
  {
   "cell_type": "markdown",
   "metadata": {},
   "source": [
    "#### Reference"
   ]
  },
  {
   "cell_type": "code",
   "execution_count": 26,
   "metadata": {},
   "outputs": [
    {
     "name": "stdout",
     "output_type": "stream",
     "text": [
      "Help on class dashboard_ops in module plotly.plotly.plotly:\n",
      "\n",
      "class dashboard_ops\n",
      " |  Interface to Plotly's Dashboards API.\n",
      " |  \n",
      " |  Plotly Dashboards are JSON blobs. They are made up by a bunch of\n",
      " |  containers which contain either empty boxes or boxes with file urls.\n",
      " |  For more info on Dashboard objects themselves, run\n",
      " |  `help(plotly.dashboard_objs)`.\n",
      " |  \n",
      " |  Example 1: Upload Simple Dashboard\n",
      " |  ```\n",
      " |  import plotly.plotly as py\n",
      " |  import plotly.dashboard_objs as dashboard\n",
      " |  box_1 = {\n",
      " |      'type': 'box',\n",
      " |      'boxType': 'plot',\n",
      " |      'fileId': 'username:123',\n",
      " |      'title': 'box 1'\n",
      " |  }\n",
      " |  \n",
      " |  box_2 = {\n",
      " |      'type': 'box',\n",
      " |      'boxType': 'plot',\n",
      " |      'fileId': 'username:456',\n",
      " |      'title': 'box 2'\n",
      " |  }\n",
      " |  \n",
      " |  my_dboard = dashboard.Dashboard()\n",
      " |  my_dboard.insert(box_1)\n",
      " |  # my_dboard.get_preview()\n",
      " |  my_dboard.insert(box_2, 'above', 1)\n",
      " |  # my_dboard.get_preview()\n",
      " |  \n",
      " |  py.dashboard_ops.upload(my_dboard)\n",
      " |  ```\n",
      " |  \n",
      " |  Example 2: Retreive Dashboard from Plotly\n",
      " |  ```\n",
      " |  # works if you have at least one dashboard in your files\n",
      " |  import plotly.plotly as py\n",
      " |  import plotly.dashboard_objs as dashboard\n",
      " |  \n",
      " |  dboard_names = get_dashboard_names()\n",
      " |  first_dboard = get_dashboard(dboard_names[0])\n",
      " |  \n",
      " |  first_dboard.get_preview()\n",
      " |  ```\n",
      " |  \n",
      " |  Class methods defined here:\n",
      " |  \n",
      " |  get_dashboard(cls, dashboard_name) from __builtin__.classobj\n",
      " |      Returns a Dashboard object from a dashboard name.\n",
      " |  \n",
      " |  get_dashboard_names(cls) from __builtin__.classobj\n",
      " |      Return list of all active dashboard names from users' account.\n",
      " |  \n",
      " |  upload(cls, dashboard, filename, sharing='public', auto_open=True) from __builtin__.classobj\n",
      " |      BETA function for uploading/overwriting dashboards to Plotly.\n",
      " |      \n",
      " |      :param (dict) dashboard: the JSON dashboard to be uploaded. Use\n",
      " |          plotly.dashboard_objs.dashboard_objs to create a Dashboard\n",
      " |          object.\n",
      " |      :param (str) filename: the name of the dashboard to be saved in\n",
      " |          your Plotly account. Will overwrite a dashboard of the same\n",
      " |          name if it already exists in your files.\n",
      " |      :param (str) sharing: can be set to either 'public', 'private'\n",
      " |          or 'secret'. If 'public', your dashboard will be viewable by\n",
      " |          all other users. If 'private' only you can see your dashboard.\n",
      " |          If 'secret', the url will be returned with a sharekey appended\n",
      " |          to the url. Anyone with the url may view the dashboard.\n",
      " |      :param (bool) auto_open: automatically opens the dashboard in the\n",
      " |          browser.\n",
      "\n"
     ]
    }
   ],
   "source": [
    "help(py.dashboard_ops)"
   ]
  },
  {
   "cell_type": "code",
   "execution_count": 1,
   "metadata": {},
   "outputs": [
    {
     "data": {
      "text/html": [
       "<link href=\"//fonts.googleapis.com/css?family=Open+Sans:600,400,300,200|Inconsolata|Ubuntu+Mono:400,700\" rel=\"stylesheet\" type=\"text/css\" />"
      ],
      "text/plain": [
       "<IPython.core.display.HTML object>"
      ]
     },
     "metadata": {},
     "output_type": "display_data"
    },
    {
     "data": {
      "text/html": [
       "<link rel=\"stylesheet\" type=\"text/css\" href=\"http://help.plot.ly/documentation/all_static/css/ipython-notebook-custom.css\">"
      ],
      "text/plain": [
       "<IPython.core.display.HTML object>"
      ]
     },
     "metadata": {},
     "output_type": "display_data"
    },
    {
     "name": "stdout",
     "output_type": "stream",
     "text": [
      "Collecting git+https://github.com/plotly/publisher.git\n",
      "  Cloning https://github.com/plotly/publisher.git to /private/var/folders/tc/bs9g6vrd36q74m5t8h9cgphh0000gn/T/pip-ZbWt0_-build\n",
      "Installing collected packages: publisher\n",
      "  Found existing installation: publisher 0.10\n",
      "    Uninstalling publisher-0.10:\n",
      "      Successfully uninstalled publisher-0.10\n",
      "  Running setup.py install for publisher ... \u001b[?25ldone\n",
      "\u001b[?25hSuccessfully installed publisher-0.10\n"
     ]
    },
    {
     "name": "stderr",
     "output_type": "stream",
     "text": [
      "/Library/Frameworks/Python.framework/Versions/2.7/lib/python2.7/site-packages/IPython/nbconvert.py:13: ShimWarning: The `IPython.nbconvert` package has been deprecated since IPython 4.0. You should import from nbconvert instead.\n",
      "  \"You should import from nbconvert instead.\", ShimWarning)\n",
      "/Library/Frameworks/Python.framework/Versions/2.7/lib/python2.7/site-packages/publisher/publisher.py:53: UserWarning: Did you \"Save\" this notebook before running this command? Remember to save, always save.\n",
      "  warnings.warn('Did you \"Save\" this notebook before running this command? '\n"
     ]
    }
   ],
   "source": [
    "from IPython.display import display, HTML\n",
    "\n",
    "display(HTML('<link href=\"//fonts.googleapis.com/css?family=Open+Sans:600,400,300,200|Inconsolata|Ubuntu+Mono:400,700\" rel=\"stylesheet\" type=\"text/css\" />'))\n",
    "display(HTML('<link rel=\"stylesheet\" type=\"text/css\" href=\"http://help.plot.ly/documentation/all_static/css/ipython-notebook-custom.css\">'))\n",
    "\n",
    "!pip install git+https://github.com/plotly/publisher.git --upgrade\n",
    "import publisher\n",
    "publisher.publish(\n",
    "    'dashboard-api.ipynb', 'python/create-online-dashboard/', 'Dashboard API | plotly',\n",
    "    'How to create and publish a dashboard with the Python API.',\n",
    "    title = 'Dashboard API | plotly',\n",
    "    name = 'Dashboard API',\n",
    "    thumbnail='thumbnail/dashboard.jpg', language='python',\n",
    "    page_type='example_index', has_thumbnail='true', display_as='file_settings',\n",
    "    ipynb= '~notebook_demo/148', order=0)"
   ]
  },
  {
   "cell_type": "code",
   "execution_count": null,
   "metadata": {
    "collapsed": true
   },
   "outputs": [],
   "source": []
  }
 ],
 "metadata": {
  "anaconda-cloud": {},
  "kernelspec": {
   "display_name": "Python 2",
   "language": "python",
   "name": "python2"
  },
  "language_info": {
   "codemirror_mode": {
    "name": "ipython",
    "version": 2
   },
   "file_extension": ".py",
   "mimetype": "text/x-python",
   "name": "python",
   "nbconvert_exporter": "python",
   "pygments_lexer": "ipython2",
   "version": "2.7.12"
  }
 },
 "nbformat": 4,
 "nbformat_minor": 1
}
