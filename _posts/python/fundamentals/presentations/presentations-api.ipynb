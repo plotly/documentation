{
 "cells": [
  {
   "cell_type": "markdown",
   "metadata": {},
   "source": [
    "#### New to Plotly?\n",
    "Plotly's Python library is free and open source! [Get started](https://plot.ly/python/getting-started/) by downloading the client and [reading the primer](https://plot.ly/python/getting-started/).\n",
    "<br>You can set up Plotly to work in [online](https://plot.ly/python/getting-started/#initialization-for-online-plotting) or [offline](https://plot.ly/python/getting-started/#initialization-for-offline-plotting) mode, or in [jupyter notebooks](https://plot.ly/python/getting-started/#start-plotting-online).\n",
    "<br>We also have a quick-reference [cheatsheet](https://images.plot.ly/plotly-documentation/images/python_cheat_sheet.pdf) (new!) to help you get started!\n",
    "#### Version Check\n",
    "Note: The presentations API is available in version <b>2.2.1.+</b><br>\n",
    "Run  `pip install plotly --upgrade` to update your Plotly version."
   ]
  },
  {
   "cell_type": "code",
   "execution_count": 1,
   "metadata": {},
   "outputs": [
    {
     "data": {
      "text/plain": [
       "'2.2.1'"
      ]
     },
     "execution_count": 1,
     "metadata": {},
     "output_type": "execute_result"
    }
   ],
   "source": [
    "import plotly\n",
    "plotly.__version__"
   ]
  },
  {
   "cell_type": "markdown",
   "metadata": {},
   "source": [
    "#### Plotly Presentations\n",
    "To use Plotly's Presentations API you will write your presentation code in a string of markdown and then pass that through the Presentations API function `pres.Presentation()`. This creates a JSON version of your presentation. To upload the presentation online pass it through `py.presentation_ops.upload()`.\n",
    "\n",
    "In your string, use `---` on a single line to seperate two slides. To put a title in your slide, put a line that starts with any number of `#`s. Only your first title will be appear in your slide. A title looks like:\n",
    "\n",
    "`# slide title`\n",
    "\n",
    "Anything that comes after the title will be put as text in your slide. Check out the example below to see this in action."
   ]
  },
  {
   "cell_type": "markdown",
   "metadata": {},
   "source": [
    "#### Current Limitations\n",
    "`Boldface`, _italics_ and [hypertext](https://www.w3.org/WhatIs.html) are not supported features of the Presentation API."
   ]
  },
  {
   "cell_type": "markdown",
   "metadata": {},
   "source": [
    "#### Simple Example"
   ]
  },
  {
   "cell_type": "code",
   "execution_count": 4,
   "metadata": {},
   "outputs": [
    {
     "data": {
      "text/plain": [
       "u'https://plot.ly/~AdamKulidjian/3700/simple-pres/'"
      ]
     },
     "execution_count": 4,
     "metadata": {},
     "output_type": "execute_result"
    }
   ],
   "source": [
    "import plotly.plotly as py\n",
    "import plotly.presentation_objs as pres\n",
    "\n",
    "markdown_string = \"\"\"\n",
    "# slide 1\n",
    "There is only one slide.\n",
    "\n",
    "---\n",
    "# slide 2\n",
    "Again, another slide on this page.\n",
    "\n",
    "\"\"\"\n",
    "\n",
    "my_pres = pres.Presentation(markdown_string)\n",
    "py.presentation_ops.upload(my_pres, 'simple-pres')"
   ]
  },
  {
   "cell_type": "markdown",
   "metadata": {},
   "source": [
    "#### Insert Plotly Chart\n",
    "If you want to insert a Plotly chart into your presentation, all you need to do is write a line in your presentation that takes the form:\n",
    "\n",
    "`Plotly(url)`\n",
    "\n",
    "where url is a Plotly url. For example:\n",
    "\n",
    "`Plotly(https://plot.ly/~AdamKulidjian/3564)`\n",
    "\n",
    "The Plotly url lines should be written on a separate line after your title line. You can put as many images in your slide as you want, as the API will arrange them on the slide automatically, but it is _highly_ encouraged that you use `4 OR FEWER IMAGES PER SLIDE`. This will produce the cleanest look.\n",
    "\n",
    "`Useful Tip`: <br>\n",
    "For Plotly charts it is HIGHLY ADVISED that you use a chart that has `layout['autosize']` set to `True`. If it is `False` the image may be cropped or only partially visible when it appears in the presentation slide."
   ]
  },
  {
   "cell_type": "code",
   "execution_count": 5,
   "metadata": {},
   "outputs": [
    {
     "data": {
      "text/plain": [
       "u'https://plot.ly/~AdamKulidjian/3701/pres-with-plotly-charts/'"
      ]
     },
     "execution_count": 5,
     "metadata": {},
     "output_type": "execute_result"
    }
   ],
   "source": [
    "import plotly.plotly as py\n",
    "import plotly.presentation_objs as pres\n",
    "\n",
    "markdown_string = \"\"\"\n",
    "# 3D scatterplots\n",
    "3D Scatterplot are just a collection of balls in a 3D cartesian space each of which have assigned properties like color, size, and more.\n",
    "\n",
    "---\n",
    "# simple 3d scatterplot\n",
    "\n",
    "Plotly(https://plot.ly/~AdamKulidjian/3698)\n",
    "---\n",
    "# different colorscales\n",
    "\n",
    "There are various colorscales and colorschemes to try in Plotly. Check out plotly.colors to find a list of valid and available colorscales.\n",
    "\n",
    "Plotly(https://plot.ly/~AdamKulidjian/3582)\n",
    "Plotly(https://plot.ly/~AdamKulidjian/3698)\n",
    "\"\"\"\n",
    "\n",
    "my_pres = pres.Presentation(markdown_string)\n",
    "py.presentation_ops.upload(my_pres, 'pres-with-plotly-charts')"
   ]
  },
  {
   "cell_type": "markdown",
   "metadata": {},
   "source": [
    "#### Insert Web Images\n",
    "To insert an image from the web, insert the a `Image(url)` where url is the image url."
   ]
  },
  {
   "cell_type": "code",
   "execution_count": 6,
   "metadata": {},
   "outputs": [
    {
     "data": {
      "text/plain": [
       "u'https://plot.ly/~AdamKulidjian/3702/pres-with-images/'"
      ]
     },
     "execution_count": 6,
     "metadata": {},
     "output_type": "execute_result"
    }
   ],
   "source": [
    "import plotly.plotly as py\n",
    "import plotly.presentation_objs as pres\n",
    "\n",
    "markdown_string = \"\"\"\n",
    "# Animals of the Wild\n",
    "---\n",
    "# The Lion\n",
    "\n",
    "Panthera leo is one of the big cats in the Felidae family and a member of genus Panthera. It has been listed as Vulnerable on the IUCN Red List since 1996, as populations in African range countries declined by about 43% since the early 1990s. Lion populations are untenable outside designated protected areas. Although the cause of the decline is not fully understood, habitat loss and conflicts with humans are the greatest causes of concern. The West African lion population is listed as Critically Endangered since 2016. The only lion population in Asia survives in and around India's Gir Forest National Park and is listed as Endangered since 1986.\n",
    "\n",
    "Image(https://i.pinimg.com/736x/da/af/73/daaf73960eb5a21d6bca748195f12052--lion-photography-lion-kings.jpg)\n",
    "---\n",
    "# The Giraffe\n",
    "\n",
    "The giraffe is a genus of African even-toed ungulate mammals, the tallest living terrestrial animals and the largest ruminants. The genus currently consists of one species, Giraffa camelopardalis, the type species. Seven other species are extinct, prehistoric species known from fossils. Taxonomic classifications of one to eight extant giraffe species have been described, based upon research into the mitochondrial and nuclear DNA, as well as morphological measurements of Giraffa, but the IUCN currently recognizes only one species with nine subspecies.\n",
    "\n",
    "Image(https://img.purch.com/w/192/aHR0cDovL3d3dy5saXZlc2NpZW5jZS5jb20vaW1hZ2VzL2kvMDAwLzA2OC8wOTQvaTMwMC9naXJhZmZlLmpwZz8xNDA1MDA4NDQy)\n",
    "Image(https://upload.wikimedia.org/wikipedia/commons/9/9f/Giraffe_standing.jpg)\n",
    "\n",
    "\"\"\"\n",
    "\n",
    "my_pres = pres.Presentation(markdown_string)\n",
    "py.presentation_ops.upload(my_pres, 'pres-with-images')"
   ]
  },
  {
   "cell_type": "markdown",
   "metadata": {},
   "source": [
    "#### Image Stretch\n",
    "If you want to ensure that your image maintains its original width:height ratio, include the parameter `imgStretch=False` in your `pres.Presentation()` function call."
   ]
  },
  {
   "cell_type": "code",
   "execution_count": 7,
   "metadata": {},
   "outputs": [
    {
     "data": {
      "text/plain": [
       "u'https://plot.ly/~AdamKulidjian/3703/pres-with-no-imgstretch/'"
      ]
     },
     "execution_count": 7,
     "metadata": {},
     "output_type": "execute_result"
    }
   ],
   "source": [
    "import plotly.plotly as py\n",
    "import plotly.presentation_objs as pres\n",
    "\n",
    "markdown_string = \"\"\"\n",
    "# images in native aspect ratio\n",
    "\n",
    "Image(https://raw.githubusercontent.com/jackparmer/gradient-backgrounds/master/moods1.png)\n",
    "Image(https://raw.githubusercontent.com/jackparmer/gradient-backgrounds/master/moods1.png)\n",
    "Image(https://raw.githubusercontent.com/jackparmer/gradient-backgrounds/master/moods1.png)\n",
    "Image(https://raw.githubusercontent.com/jackparmer/gradient-backgrounds/master/moods1.png)\n",
    "Image(https://raw.githubusercontent.com/jackparmer/gradient-backgrounds/master/moods1.png)\n",
    "\"\"\"\n",
    "\n",
    "\n",
    "my_pres = pres.Presentation(markdown_string, imgStretch=False)\n",
    "py.presentation_ops.upload(my_pres, 'pres-with-no-imgstretch')"
   ]
  },
  {
   "cell_type": "markdown",
   "metadata": {},
   "source": [
    "#### Insert Code Blocks\n",
    "The Presentations API also supports the insertion of blocks of code with various available langauges to choose from.\n",
    "\n",
    "To instantiate a \"code environment\" in your string, place a \\`\\`\\` at the beginning of a line, followed by the name of the programming language you want your code block to be styled in. Then the next lines will be considered \"code lines \". To close the \"code environment\" put another \\`\\`\\` at the end of the line For example:\n",
    "\n",
    "```\n",
    "```python\n",
    "# code goes here\n",
    "``` ```\n",
    "\n",
    "The valid languages to choose from are:\n",
    "- arecpp\n",
    "- cs\n",
    "- css\n",
    "- fsharp\n",
    "- go\n",
    "- haskell\n",
    "- java\n",
    "- javascript\n",
    "- jsx\n",
    "- julia\n",
    "- xml\n",
    "- matlab\n",
    "- php\n",
    "- python\n",
    "- r\n",
    "- ruby\n",
    "- scala\n",
    "- sql\n",
    "- yaml"
   ]
  },
  {
   "cell_type": "code",
   "execution_count": 8,
   "metadata": {},
   "outputs": [
    {
     "data": {
      "text/plain": [
       "u'https://plot.ly/~AdamKulidjian/3704/pres-with-code/'"
      ]
     },
     "execution_count": 8,
     "metadata": {},
     "output_type": "execute_result"
    }
   ],
   "source": [
    "import plotly.plotly as py\n",
    "import plotly.presentation_objs as pres\n",
    "\n",
    "markdown_string = \"\"\"\n",
    "# Getting Started Using Code\n",
    "A beginner's introduction to computer science.\n",
    "\n",
    "---\n",
    "# Python Functions\n",
    "Functions are one of the most useful tools in Python. Intuitively, you select an input and get an output.\n",
    "\n",
    "In order to set up a function use the key word \"def\" then the name of the function with open parentheses afterwards. Inside the parentheses, write variable names your function will use. These variables can then go into the body of your function and when you give a value to the variable in the call signature, it will pass through the guts of the function until it returns a value.\n",
    "\n",
    "```python\n",
    "def somePrintFunction():\n",
    "\n",
    "    print(\"boo\")\n",
    "\n",
    "somePrintFunction()\n",
    "\n",
    "\n",
    "\n",
    "\n",
    ">>>print(new_z)\n",
    "10\n",
    "\n",
    "def someAddFunction(a, b):\n",
    "\n",
    "    print(a+b)\n",
    "\n",
    "\n",
    "\n",
    "\n",
    ">>>someAddFunction(12,451)\n",
    "463\n",
    "```\n",
    "---\n",
    "# Use scala\n",
    "You can write functions in other languages as well. For example, check out this scala code and notice how the print functions look different:\n",
    "\n",
    "We write 'println()' as opposed to 'print()' as we do in Python.\n",
    "\n",
    "```scala\n",
    "/** Basic command line parsing. */\n",
    "object Main {\n",
    "  var verbose = false\n",
    "\n",
    "  def main(args: Array[String]) {\n",
    "    for (a <- args) a match {\n",
    "      case \"-h\" | \"-help\"    =>\n",
    "        println(\"Usage: scala Main [-help|-verbose]\")\n",
    "      case \"-v\" | \"-verbose\" =>\n",
    "        verbose = true\n",
    "      case x =>\n",
    "        println(\"Unknown option: '\" + x + \"'\")\n",
    "    }\n",
    "    if (verbose)\n",
    "      println(\"How are you today?\")\n",
    "  }\n",
    "}\n",
    "```\n",
    "---\n",
    "# Under the Hood\n",
    "\n",
    "There are many things to find when you look under the Plotly Hood. Of many things, one expected thing is the compliance and adherance to alphebetized and PEP-8'ed imports at the top of any module.\n",
    "\n",
    "This is what the PEP-8 guide has more to say about Imports:\n",
    "\n",
    "Wildcard imports (from <module> import *) should be avoided, as they make it unclear which names are present in the namespace, confusing both readers and many automated tools. There is one defensible use case for a wildcard import, which is to republish an internal interface as part of a public API (for example, overwriting a pure Python implementation of an interface with the definitions from an optional accelerator module and exactly which definitions will be overwritten isn't known in advance).\n",
    "\n",
    "Image(https://help.plot.ly/images/dashboard-carousel.jpg)\n",
    "\n",
    "```python\n",
    "from __future__ import absolute_import\n",
    "\n",
    "import copy\n",
    "import json\n",
    "import os\n",
    "import time\n",
    "import warnings\n",
    "import webbrowser\n",
    "\n",
    "import six\n",
    "import six.moves\n",
    "from requests.compat import json as _json\n",
    "\n",
    "from plotly import exceptions, files, session, tools, utils\n",
    "from plotly.api import v1, v2\n",
    "from plotly.plotly import chunked_requests\n",
    "from plotly.grid_objs import Grid, Column\n",
    "from plotly.dashboard_objs import dashboard_objs as dashboard\n",
    "```\n",
    "\"\"\"\n",
    "\n",
    "my_pres = pres.Presentation(markdown_string)\n",
    "py.presentation_ops.upload(my_pres, 'pres-with-code')"
   ]
  },
  {
   "cell_type": "markdown",
   "metadata": {},
   "source": [
    "#### Style Your Presentation\n",
    "The Presentations API currently has two styles to choose from: [_Martik_](https://www.pinterest.ca/pin/822540319412564330/) and [_Moods_](https://www.pinterest.ca/pin/822540319412564320/). These themes are inspired by  already existing PowerPoint Templates. Let's use the same `markdown_string` in the previous example but this time try the `Martik` style."
   ]
  },
  {
   "cell_type": "code",
   "execution_count": 9,
   "metadata": {},
   "outputs": [
    {
     "data": {
      "text/plain": [
       "u'https://plot.ly/~AdamKulidjian/3707/martik-style/'"
      ]
     },
     "execution_count": 9,
     "metadata": {},
     "output_type": "execute_result"
    }
   ],
   "source": [
    "import plotly.plotly as py\n",
    "import plotly.presentation_objs as pres\n",
    "\n",
    "markdown_string = \"\"\"\n",
    "# Getting Started Using Code\n",
    "A beginner's introduction to computer science.\n",
    "\n",
    "---\n",
    "# Python Functions\n",
    "Functions are one of the most useful tools in Python. Intuitively, you select an input and get an output.\n",
    "\n",
    "In order to set up a function use the key word \"def\" then the name of the function with open parentheses afterwards. Inside the parentheses, write variable names your function will use. These variables can then go into the body of your function and when you give a value to the variable in the call signature, it will pass through the guts of the function until it returns a value.\n",
    "\n",
    "```python\n",
    "def somePrintFunction():\n",
    "\n",
    "    print(\"boo\")\n",
    "\n",
    "somePrintFunction()\n",
    "\n",
    "\n",
    "\n",
    "\n",
    ">>>print(new_z)\n",
    "10\n",
    "\n",
    "def someAddFunction(a, b):\n",
    "\n",
    "    print(a+b)\n",
    "\n",
    "\n",
    "\n",
    "\n",
    ">>>someAddFunction(12,451)\n",
    "463\n",
    "```\n",
    "---\n",
    "# Use scala\n",
    "You can write functions in other languages as well. For example, check out this scala code and notice how the print functions look different:\n",
    "\n",
    "We write 'println()' as opposed to 'print()' as we do in Python.\n",
    "\n",
    "```scala\n",
    "/** Basic command line parsing. */\n",
    "object Main {\n",
    "  var verbose = false\n",
    "\n",
    "  def main(args: Array[String]) {\n",
    "    for (a <- args) a match {\n",
    "      case \"-h\" | \"-help\"    =>\n",
    "        println(\"Usage: scala Main [-help|-verbose]\")\n",
    "      case \"-v\" | \"-verbose\" =>\n",
    "        verbose = true\n",
    "      case x =>\n",
    "        println(\"Unknown option: '\" + x + \"'\")\n",
    "    }\n",
    "    if (verbose)\n",
    "      println(\"How are you today?\")\n",
    "  }\n",
    "}\n",
    "```\n",
    "---\n",
    "# Under the Hood\n",
    "\n",
    "There are many things to find when you look under the Plotly Hood. Of many things, one expected thing is the compliance and adherance to alphebetized and PEP-8'ed imports at the top of any module.\n",
    "\n",
    "This is what the PEP-8 guide has more to say about Imports:\n",
    "\n",
    "Wildcard imports (from <module> import *) should be avoided, as they make it unclear which names are present in the namespace, confusing both readers and many automated tools. There is one defensible use case for a wildcard import, which is to republish an internal interface as part of a public API (for example, overwriting a pure Python implementation of an interface with the definitions from an optional accelerator module and exactly which definitions will be overwritten isn't known in advance).\n",
    "\n",
    "Image(https://help.plot.ly/images/dashboard-carousel.jpg)\n",
    "\n",
    "```python\n",
    "from __future__ import absolute_import\n",
    "\n",
    "import copy\n",
    "import json\n",
    "import os\n",
    "import time\n",
    "import warnings\n",
    "import webbrowser\n",
    "\n",
    "import six\n",
    "import six.moves\n",
    "from requests.compat import json as _json\n",
    "\n",
    "from plotly import exceptions, files, session, tools, utils\n",
    "from plotly.api import v1, v2\n",
    "from plotly.plotly import chunked_requests\n",
    "from plotly.grid_objs import Grid, Column\n",
    "from plotly.dashboard_objs import dashboard_objs as dashboard\n",
    "```\n",
    "\"\"\"\n",
    "\n",
    "my_pres = pres.Presentation(markdown_string, style='martik')\n",
    "py.presentation_ops.upload(my_pres, 'martik-style')"
   ]
  },
  {
   "cell_type": "markdown",
   "metadata": {},
   "source": [
    "#### Transitions\n",
    "You can specify how your want your slides to transition to one another. Just like in the Plotly Presentation Application, there are 4 types of transitions: `slide`, `zoom`, `fade` and `spin`.\n",
    "\n",
    "To apply any combination of these transition to a slide, just insert transitions at the top of the slide as follows:\n",
    "\n",
    "`transition: slide, zoom`\n",
    "\n",
    "Make sure that this line comes before any heading that you define in the slide, i.e. like this:\n",
    "\n",
    "```\n",
    "transition: slide, zoom\n",
    "# slide title\n",
    "```"
   ]
  },
  {
   "cell_type": "code",
   "execution_count": 10,
   "metadata": {},
   "outputs": [
    {
     "data": {
      "text/plain": [
       "u'https://plot.ly/~AdamKulidjian/3708/pres-with-transitions/'"
      ]
     },
     "execution_count": 10,
     "metadata": {},
     "output_type": "execute_result"
    }
   ],
   "source": [
    "import plotly.plotly as py\n",
    "import plotly.presentation_objs as pres\n",
    "\n",
    "markdown_string = \"\"\"\n",
    "transition: slide\n",
    "# slide\n",
    "---\n",
    "transition: zoom\n",
    "# zoom\n",
    "---\n",
    "transition: fade\n",
    "# fade\n",
    "---\n",
    "transition: spin\n",
    "# spin\n",
    "---\n",
    "transition: spin and slide\n",
    "# spin, slide\n",
    "---\n",
    "transition: fade zoom\n",
    "# fade, zoom\n",
    "---\n",
    "transition: slide, zoom, fade, spin, spin, spin, zoom, fade\n",
    "# slide, zoom, fade, spin\n",
    "\n",
    "\"\"\"\n",
    "\n",
    "my_pres = pres.Presentation(markdown_string, style='moods')\n",
    "py.presentation_ops.upload(my_pres, 'pres-with-transitions')"
   ]
  },
  {
   "cell_type": "markdown",
   "metadata": {},
   "source": [
    "#### Add Thin Border Around Text Boxes\n",
    "Every `slide` has `children`, and each of these `children` have a `style` attribute. This `style` property is derived from the CSS element of the same name. Since you have the power of CSS to work with, you could customize text borders in your presentation if you want."
   ]
  },
  {
   "cell_type": "code",
   "execution_count": 24,
   "metadata": {},
   "outputs": [
    {
     "data": {
      "text/plain": [
       "u'https://plot.ly/~AdamKulidjian/3709/pres-with-custom-css/'"
      ]
     },
     "execution_count": 24,
     "metadata": {},
     "output_type": "execute_result"
    }
   ],
   "source": [
    "import plotly.plotly as py\n",
    "import plotly.presentation_objs as pres\n",
    "\n",
    "markdown_string = \"\"\"\n",
    "# custom css\n",
    "---\n",
    "transition: zoom, slide, spin, fade\n",
    "# fun with css\n",
    "\n",
    "Lorem Ipsum is simply dummy text of the printing and typesetting industry. Lorem Ipsum has been the industry's standard dummy text ever since the 1500s, when an unknown printer took a galley of type and scrambled it to make a type specimen book. It has survived not only five centuries, but also the leap into electronic typesetting, remaining essentially unchanged. It was popularised in the 1960s with the release of Letraset sheets containing Lorem Ipsum passages, and more recently with desktop publishing software like Aldus PageMaker including versions of Lorem Ipsum.\n",
    "```python\n",
    "x = 4\n",
    "\n",
    "if x < 2:\n",
    "    x = 2 * x\n",
    "    if x >= 2:\n",
    "        break\n",
    "```\n",
    "\n",
    "\"\"\"\n",
    "\n",
    "my_pres = pres.Presentation(markdown_string)\n",
    "\n",
    "# change text border style\n",
    "my_pres['presentation']['slides'][1]['children'][0]['props']['style']['border'] = 'solid red'\n",
    "\n",
    "py.presentation_ops.upload(my_pres, 'pres-with-custom-css')"
   ]
  },
  {
   "cell_type": "markdown",
   "metadata": {},
   "source": [
    "#### Reference"
   ]
  },
  {
   "cell_type": "code",
   "execution_count": 25,
   "metadata": {},
   "outputs": [
    {
     "name": "stdout",
     "output_type": "stream",
     "text": [
      "Help on class presentation_ops in module plotly.plotly.plotly:\n",
      "\n",
      "class presentation_ops\n",
      " |  Interface to Plotly's Spectacle-Presentations API.\n",
      " |  \n",
      " |  Class methods defined here:\n",
      " |  \n",
      " |  upload(cls, presentation, filename, sharing='public', auto_open=True) from __builtin__.classobj\n",
      " |      Function for uploading presentations to Plotly.\n",
      " |      \n",
      " |      :param (dict) presentation: the JSON presentation to be uploaded. Use\n",
      " |          plotly.presentation_objs.Presentation to create presentations\n",
      " |          from a Markdown-like string.\n",
      " |      :param (str) filename: the name of the presentation to be saved in\n",
      " |          your Plotly account. Will overwrite a presentation of the same\n",
      " |          name if it already exists in your files.\n",
      " |      :param (str) sharing: can be set to either 'public', 'private'\n",
      " |          or 'secret'. If 'public', your presentation will be viewable by\n",
      " |          all other users. If 'private' only you can see your presentation.\n",
      " |          If it is set to 'secret', the url will be returned with a string\n",
      " |          of random characters appended to the url which is called a\n",
      " |          sharekey. The point of a sharekey is that it makes the url very\n",
      " |          hard to guess, but anyone with the url can view the presentation.\n",
      " |      :param (bool) auto_open: automatically opens the presentation in the\n",
      " |          browser.\n",
      " |      \n",
      " |      See the documentation online for examples.\n",
      "\n"
     ]
    }
   ],
   "source": [
    "help(py.presentation_ops)"
   ]
  },
  {
   "cell_type": "code",
   "execution_count": 2,
   "metadata": {},
   "outputs": [
    {
     "data": {
      "text/html": [
       "<link href=\"//fonts.googleapis.com/css?family=Open+Sans:600,400,300,200|Inconsolata|Ubuntu+Mono:400,700\" rel=\"stylesheet\" type=\"text/css\" />"
      ],
      "text/plain": [
       "<IPython.core.display.HTML object>"
      ]
     },
     "metadata": {},
     "output_type": "display_data"
    },
    {
     "data": {
      "text/html": [
       "<link rel=\"stylesheet\" type=\"text/css\" href=\"http://help.plot.ly/documentation/all_static/css/ipython-notebook-custom.css\">"
      ],
      "text/plain": [
       "<IPython.core.display.HTML object>"
      ]
     },
     "metadata": {},
     "output_type": "display_data"
    },
    {
     "name": "stdout",
     "output_type": "stream",
     "text": [
      "Collecting git+https://github.com/plotly/publisher.git\n",
      "  Cloning https://github.com/plotly/publisher.git to /private/var/folders/tc/bs9g6vrd36q74m5t8h9cgphh0000gn/T/pip-P5I1tc-build\n",
      "Installing collected packages: publisher\n",
      "  Found existing installation: publisher 0.10\n",
      "    Uninstalling publisher-0.10:\n",
      "      Successfully uninstalled publisher-0.10\n",
      "  Running setup.py install for publisher ... \u001b[?25ldone\n",
      "\u001b[?25hSuccessfully installed publisher-0.10\n"
     ]
    },
    {
     "name": "stderr",
     "output_type": "stream",
     "text": [
      "/Library/Frameworks/Python.framework/Versions/2.7/lib/python2.7/site-packages/IPython/nbconvert.py:13: ShimWarning:\n",
      "\n",
      "The `IPython.nbconvert` package has been deprecated since IPython 4.0. You should import from nbconvert instead.\n",
      "\n",
      "/Library/Frameworks/Python.framework/Versions/2.7/lib/python2.7/site-packages/publisher/publisher.py:53: UserWarning:\n",
      "\n",
      "Did you \"Save\" this notebook before running this command? Remember to save, always save.\n",
      "\n"
     ]
    }
   ],
   "source": [
    "from IPython.display import display, HTML\n",
    "\n",
    "display(HTML('<link href=\"//fonts.googleapis.com/css?family=Open+Sans:600,400,300,200|Inconsolata|Ubuntu+Mono:400,700\" rel=\"stylesheet\" type=\"text/css\" />'))\n",
    "display(HTML('<link rel=\"stylesheet\" type=\"text/css\" href=\"http://help.plot.ly/documentation/all_static/css/ipython-notebook-custom.css\">'))\n",
    "\n",
    "!pip install git+https://github.com/plotly/publisher.git --upgrade\n",
    "import publisher\n",
    "publisher.publish(\n",
    "    'presentations-api.ipynb', 'python/presentations-api/', 'Presentations API | plotly',\n",
    "    'How to create and publish a spectacle-presentation with the Python API.',\n",
    "    title = 'Presentations API | plotly',\n",
    "    name = 'Presentations API',\n",
    "    thumbnail='thumbnail/pres_api.jpg', language='python',\n",
    "    page_type='example_index', has_thumbnail='true', display_as='file_settings', order=0.6)"
   ]
  },
  {
   "cell_type": "code",
   "execution_count": null,
   "metadata": {
    "collapsed": true
   },
   "outputs": [],
   "source": []
  }
 ],
 "metadata": {
  "anaconda-cloud": {},
  "kernelspec": {
   "display_name": "Python 2",
   "language": "python",
   "name": "python2"
  },
  "language_info": {
   "codemirror_mode": {
    "name": "ipython",
    "version": 2
   },
   "file_extension": ".py",
   "mimetype": "text/x-python",
   "name": "python",
   "nbconvert_exporter": "python",
   "pygments_lexer": "ipython2",
   "version": "2.7.12"
  }
 },
 "nbformat": 4,
 "nbformat_minor": 1
}
