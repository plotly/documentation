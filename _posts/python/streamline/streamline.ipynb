{
 "cells": [
  {
   "cell_type": "markdown",
   "metadata": {},
   "source": [
    "#### New to Plotly?\n",
    "Plotly's Python library is free and open source! [Get started](https://plot.ly/python/getting-started/) by downloading the client and [reading the primer](https://plot.ly/python/getting-started/).\n",
    "<br>You can set up Plotly to work in [online](https://plot.ly/python/getting-started/#initialization-for-online-plotting) or [offline](https://plot.ly/python/getting-started/#initialization-for-offline-plotting) mode, or in [jupyter notebooks](https://plot.ly/python/getting-started/#start-plotting-online).\n",
    "<br>We also have a quick-reference [cheatsheet](https://images.plot.ly/plotly-documentation/images/python_cheat_sheet.pdf) (new!) to help you get started!"
   ]
  },
  {
   "cell_type": "markdown",
   "metadata": {},
   "source": [
    "#### Basic Streamline Plot"
   ]
  },
  {
   "cell_type": "code",
   "execution_count": 1,
   "metadata": {
    "collapsed": false
   },
   "outputs": [
    {
     "data": {
      "text/html": [
       "<iframe id=\"igraph\" scrolling=\"no\" style=\"border:none;\" seamless=\"seamless\" src=\"https://plot.ly/~chelsea_lyn/4297.embed\" height=\"525px\" width=\"100%\"></iframe>"
      ],
      "text/plain": [
       "<plotly.tools.PlotlyDisplay object>"
      ]
     },
     "execution_count": 1,
     "metadata": {},
     "output_type": "execute_result"
    }
   ],
   "source": [
    "import plotly.plotly as py\n",
    "from plotly.tools import FigureFactory as FF\n",
    "\n",
    "import numpy as np\n",
    "\n",
    "x = np.linspace(-3, 3, 100)\n",
    "y = np.linspace(-3, 3, 100)\n",
    "Y, X = np.meshgrid(x, y)\n",
    "u = -1 - X**2 + Y\n",
    "v = 1 + X - Y**2\n",
    "\n",
    "# Create streamline figure\n",
    "fig = FF.create_streamline(x, y, u, v, arrow_scale=.1)\n",
    "py.iplot(fig, filename='Streamline Plot Example')"
   ]
  },
  {
   "cell_type": "markdown",
   "metadata": {},
   "source": [
    "#### Streamline and Source Point Plot"
   ]
  },
  {
   "cell_type": "code",
   "execution_count": 2,
   "metadata": {
    "collapsed": false
   },
   "outputs": [
    {
     "data": {
      "text/html": [
       "<iframe id=\"igraph\" scrolling=\"no\" style=\"border:none;\" seamless=\"seamless\" src=\"https://plot.ly/~chelsea_lyn/4300.embed\" height=\"525px\" width=\"100%\"></iframe>"
      ],
      "text/plain": [
       "<plotly.tools.PlotlyDisplay object>"
      ]
     },
     "execution_count": 2,
     "metadata": {},
     "output_type": "execute_result"
    }
   ],
   "source": [
    "import plotly.plotly as py\n",
    "from plotly.tools import FigureFactory as FF\n",
    "import plotly.graph_objs as go\n",
    "\n",
    "import numpy as np\n",
    "\n",
    "N = 50\n",
    "x_start, x_end = -2.0, 2.0\n",
    "y_start, y_end = -1.0, 1.0\n",
    "x = np.linspace(x_start, x_end, N)\n",
    "y = np.linspace(y_start, y_end, N)\n",
    "X, Y = np.meshgrid(x, y)\n",
    "source_strength = 5.0\n",
    "x_source, y_source = -1.0, 0.0\n",
    "\n",
    "# Compute the velocity field on the mesh grid\n",
    "u = (source_strength/(2*np.pi) *\n",
    "     (X-x_source)/((X-x_source)**2 + (Y-y_source)**2))\n",
    "v = (source_strength/(2*np.pi) *\n",
    "     (Y-y_source)/((X-x_source)**2 + (Y-y_source)**2))\n",
    "\n",
    "# Create streamline figure\n",
    "fig = FF.create_streamline(x, y, u, v,\n",
    "                           name='streamline')\n",
    "\n",
    "# Add source point\n",
    "source_point = go.Scatter(x=[x_source], y=[y_source],\n",
    "                          mode='markers',\n",
    "                          marker=go.Marker(size=14),\n",
    "                          name='source point')\n",
    "\n",
    "# Add source point to figure\n",
    "fig['data'].append(source_point)\n",
    "py.iplot(fig, filename='streamline_source')"
   ]
  },
  {
   "cell_type": "markdown",
   "metadata": {},
   "source": [
    "#### Reference"
   ]
  },
  {
   "cell_type": "code",
   "execution_count": 4,
   "metadata": {
    "collapsed": false
   },
   "outputs": [
    {
     "name": "stdout",
     "output_type": "stream",
     "text": [
      "Help on function create_streamline in module plotly.tools:\n",
      "\n",
      "create_streamline(x, y, u, v, density=1, angle=0.3490658503988659, arrow_scale=0.09, **kwargs)\n",
      "    Returns data for a streamline plot.\n",
      "    \n",
      "    :param (list|ndarray) x: 1 dimensional, evenly spaced list or array\n",
      "    :param (list|ndarray) y: 1 dimensional, evenly spaced list or array\n",
      "    :param (ndarray) u: 2 dimensional array\n",
      "    :param (ndarray) v: 2 dimensional array\n",
      "    :param (float|int) density: controls the density of streamlines in\n",
      "        plot. This is multiplied by 30 to scale similiarly to other\n",
      "        available streamline functions such as matplotlib.\n",
      "        Default = 1\n",
      "    :param (angle in radians) angle: angle of arrowhead. Default = pi/9\n",
      "    :param (float in [0,1]) arrow_scale: value to scale length of arrowhead\n",
      "        Default = .09\n",
      "    :param kwargs: kwargs passed through plotly.graph_objs.Scatter\n",
      "        for more information on valid kwargs call\n",
      "        help(plotly.graph_objs.Scatter)\n",
      "    \n",
      "    :rtype (dict): returns a representation of streamline figure.\n",
      "    \n",
      "    Example 1: Plot simple streamline and increase arrow size\n",
      "    ```\n",
      "    import plotly.plotly as py\n",
      "    from plotly.tools import FigureFactory as FF\n",
      "    \n",
      "    import numpy as np\n",
      "    import math\n",
      "    \n",
      "    # Add data\n",
      "    x = np.linspace(-3, 3, 100)\n",
      "    y = np.linspace(-3, 3, 100)\n",
      "    Y, X = np.meshgrid(x, y)\n",
      "    u = -1 - X**2 + Y\n",
      "    v = 1 + X - Y**2\n",
      "    u = u.T  # Transpose\n",
      "    v = v.T  # Transpose\n",
      "    \n",
      "    # Create streamline\n",
      "    fig = FF.create_streamline(x, y, u, v,\n",
      "                               arrow_scale=.1)\n",
      "    \n",
      "    # Plot\n",
      "    py.plot(fig, filename='streamline')\n",
      "    ```\n",
      "    \n",
      "    Example 2: from nbviewer.ipython.org/github/barbagroup/AeroPython\n",
      "    ```\n",
      "    import plotly.plotly as py\n",
      "    from plotly.tools import FigureFactory as FF\n",
      "    \n",
      "    import numpy as np\n",
      "    import math\n",
      "    \n",
      "    # Add data\n",
      "    N = 50\n",
      "    x_start, x_end = -2.0, 2.0\n",
      "    y_start, y_end = -1.0, 1.0\n",
      "    x = np.linspace(x_start, x_end, N)\n",
      "    y = np.linspace(y_start, y_end, N)\n",
      "    X, Y = np.meshgrid(x, y)\n",
      "    ss = 5.0\n",
      "    x_s, y_s = -1.0, 0.0\n",
      "    \n",
      "    # Compute the velocity field on the mesh grid\n",
      "    u_s = ss/(2*np.pi) * (X-x_s)/((X-x_s)**2 + (Y-y_s)**2)\n",
      "    v_s = ss/(2*np.pi) * (Y-y_s)/((X-x_s)**2 + (Y-y_s)**2)\n",
      "    \n",
      "    # Create streamline\n",
      "    fig = FF.create_streamline(x, y, u_s, v_s,\n",
      "                               density=2, name='streamline')\n",
      "    \n",
      "    # Add source point\n",
      "    point = Scatter(x=[x_s], y=[y_s], mode='markers',\n",
      "                    marker=Marker(size=14), name='source point')\n",
      "    \n",
      "    # Plot\n",
      "    fig['data'].append(point)\n",
      "    py.plot(fig, filename='streamline')\n",
      "    ```\n",
      "\n"
     ]
    }
   ],
   "source": [
    "help(FF.create_streamline)"
   ]
  },
  {
   "cell_type": "code",
   "execution_count": 1,
   "metadata": {
    "collapsed": false
   },
   "outputs": [
    {
     "data": {
      "text/html": [
       "<link href=\"//fonts.googleapis.com/css?family=Open+Sans:600,400,300,200|Inconsolata|Ubuntu+Mono:400,700\" rel=\"stylesheet\" type=\"text/css\" />"
      ],
      "text/plain": [
       "<IPython.core.display.HTML object>"
      ]
     },
     "metadata": {},
     "output_type": "display_data"
    },
    {
     "data": {
      "text/html": [
       "<link rel=\"stylesheet\" type=\"text/css\" href=\"http://help.plot.ly/documentation/all_static/css/ipython-notebook-custom.css\">"
      ],
      "text/plain": [
       "<IPython.core.display.HTML object>"
      ]
     },
     "metadata": {},
     "output_type": "display_data"
    },
    {
     "name": "stdout",
     "output_type": "stream",
     "text": [
      "Collecting git+https://github.com/plotly/publisher.git\n",
      "  Cloning https://github.com/plotly/publisher.git to /var/folders/72/g6h98xwx0h1gp4kc8rzhsdh80000gn/T/pip-GBljM8-build\n",
      "Installing collected packages: publisher\n",
      "  Found existing installation: publisher 0.10\n",
      "    Uninstalling publisher-0.10:\n",
      "      Successfully uninstalled publisher-0.10\n",
      "  Running setup.py install for publisher ... \u001b[?25l-\b \bdone\n",
      "\u001b[?25hSuccessfully installed publisher-0.10\n",
      "\u001b[33mYou are using pip version 8.0.3, however version 8.1.2 is available.\n",
      "You should consider upgrading via the 'pip install --upgrade pip' command.\u001b[0m\n"
     ]
    },
    {
     "name": "stderr",
     "output_type": "stream",
     "text": [
      "/Library/Frameworks/Python.framework/Versions/2.7/lib/python2.7/site-packages/IPython/nbconvert.py:13: ShimWarning: The `IPython.nbconvert` package has been deprecated. You should import from nbconvert instead.\n",
      "  \"You should import from nbconvert instead.\", ShimWarning)\n",
      "/Library/Frameworks/Python.framework/Versions/2.7/lib/python2.7/site-packages/publisher/publisher.py:53: UserWarning: Did you \"Save\" this notebook before running this command? Remember to save, always save.\n",
      "  warnings.warn('Did you \"Save\" this notebook before running this command? '\n"
     ]
    }
   ],
   "source": [
    "from IPython.display import display, HTML\n",
    "\n",
    "display(HTML('<link href=\"//fonts.googleapis.com/css?family=Open+Sans:600,400,300,200|Inconsolata|Ubuntu+Mono:400,700\" rel=\"stylesheet\" type=\"text/css\" />'))\n",
    "display(HTML('<link rel=\"stylesheet\" type=\"text/css\" href=\"http://help.plot.ly/documentation/all_static/css/ipython-notebook-custom.css\">'))\n",
    "\n",
    "! pip install git+https://github.com/plotly/publisher.git --upgrade\n",
    "import publisher\n",
    "publisher.publish(\n",
    "    'streamline.ipynb', 'python/streamline-plots/', 'Python Streamline Plots | plotly',\n",
    "    'How to make a streamline plot in Python. A streamline plot displays vector field data. ',\n",
    "    title = 'Python Streamline Plots | plotly',\n",
    "    name = 'Streamline Plots',\n",
    "    has_thumbnail='true', thumbnail='thumbnail/streamline.jpg', \n",
    "    language='python', page_type='example_index', \n",
    "    display_as='scientific', order=13) "
   ]
  },
  {
   "cell_type": "code",
   "execution_count": null,
   "metadata": {
    "collapsed": true
   },
   "outputs": [],
   "source": []
  }
 ],
 "metadata": {
  "kernelspec": {
   "display_name": "Python 2",
   "language": "python",
   "name": "python2"
  },
  "language_info": {
   "codemirror_mode": {
    "name": "ipython",
    "version": 2
   },
   "file_extension": ".py",
   "mimetype": "text/x-python",
   "name": "python",
   "nbconvert_exporter": "python",
   "pygments_lexer": "ipython2",
   "version": "2.7.11"
  }
 },
 "nbformat": 4,
 "nbformat_minor": 0
}
