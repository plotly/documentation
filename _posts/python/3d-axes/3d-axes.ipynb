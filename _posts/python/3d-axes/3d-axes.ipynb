{
 "cells": [
  {
   "cell_type": "markdown",
   "metadata": {},
   "source": [
    "#### New to Plotly?\n",
    "Plotly's Python library is free and open source! [Get started](https://plot.ly/python/getting-started/) by downloading the client and [reading the primer](https://plot.ly/python/getting-started/).\n",
    "<br>You can set up Plotly to work in [online](https://plot.ly/python/getting-started/#initialization-for-online-plotting) or [offline](https://plot.ly/python/getting-started/#initialization-for-offline-plotting) mode, or in [jupyter notebooks](https://plot.ly/python/getting-started/#start-plotting-online).\n",
    "<br>We also have a quick-reference [cheatsheet](https://images.plot.ly/plotly-documentation/images/python_cheat_sheet.pdf) (new!) to help you get started!"
   ]
  },
  {
   "cell_type": "markdown",
   "metadata": {},
   "source": [
    "### Range of axes"
   ]
  },
  {
   "cell_type": "code",
   "execution_count": 21,
   "metadata": {
    "collapsed": false
   },
   "outputs": [
    {
     "data": {
      "text/html": [
       "<iframe id=\"igraph\" scrolling=\"no\" style=\"border:none;\" seamless=\"seamless\" src=\"https://plot.ly/~Diksha_Gabha/2434.embed\" height=\"525px\" width=\"700px\"></iframe>"
      ],
      "text/plain": [
       "<plotly.tools.PlotlyDisplay object>"
      ]
     },
     "execution_count": 21,
     "metadata": {},
     "output_type": "execute_result"
    }
   ],
   "source": [
    "import plotly.plotly as py\n",
    "import plotly.graph_objs as go\n",
    "import numpy as np\n",
    "\n",
    "N = 70\n",
    "trace1 = go.Mesh3d(x=(70*np.random.randn(N)),\n",
    "                   y=(55*np.random.randn(N)),\n",
    "                   z=(40*np.random.randn(N)),\n",
    "                   opacity=0.5,\n",
    "                   color='rgba(244,22,100,0.6)'\n",
    "                  )\n",
    "\n",
    "layout = go.Layout(\n",
    "                    scene = dict(\n",
    "                    xaxis = dict(\n",
    "                        nticks=4, range = [-100,100],),\n",
    "                    yaxis = dict(\n",
    "                        nticks=4, range = [-50,100],),\n",
    "                    zaxis = dict(\n",
    "                        nticks=4, range = [-100,100],),),\n",
    "                    width=700,\n",
    "                    margin=dict(\n",
    "                    r=20, l=10,\n",
    "                    b=10, t=10)\n",
    "                  )\n",
    "fig = go.Figure(data=[trace1], layout=layout)\n",
    "py.iplot(fig)"
   ]
  },
  {
   "cell_type": "markdown",
   "metadata": {},
   "source": [
    "### Set Axes Title"
   ]
  },
  {
   "cell_type": "code",
   "execution_count": 12,
   "metadata": {
    "collapsed": false
   },
   "outputs": [
    {
     "data": {
      "text/html": [
       "<iframe id=\"igraph\" scrolling=\"no\" style=\"border:none;\" seamless=\"seamless\" src=\"https://plot.ly/~Diksha_Gabha/2420.embed\" height=\"525px\" width=\"700px\"></iframe>"
      ],
      "text/plain": [
       "<plotly.tools.PlotlyDisplay object>"
      ]
     },
     "execution_count": 12,
     "metadata": {},
     "output_type": "execute_result"
    }
   ],
   "source": [
    "import plotly.plotly as py\n",
    "import plotly.graph_objs as go\n",
    "import numpy as np\n",
    "\n",
    "N = 50\n",
    "trace1 = go.Mesh3d(x=(60*np.random.randn(N)),\n",
    "                   y=(25*np.random.randn(N)),\n",
    "                   z=(40*np.random.randn(N)),\n",
    "                   opacity=0.5,\n",
    "                   color='yellow'\n",
    "                  )\n",
    "trace2 = go.Mesh3d(x=(70*np.random.randn(N)),\n",
    "                   y=(55*np.random.randn(N)),\n",
    "                   z=(30*np.random.randn(N)),\n",
    "                   opacity=0.5,\n",
    "                   color='pink'\n",
    "                  )\n",
    "layout = go.Layout(\n",
    "                    scene = dict(\n",
    "                    xaxis = dict(\n",
    "                        title='X AXIS TITLE'),\n",
    "                    yaxis = dict(\n",
    "                        title='Y AXIS TITLE'),\n",
    "                    zaxis = dict(\n",
    "                        title='Z AXIS TITLE'),),\n",
    "                    width=700,\n",
    "                    margin=dict(\n",
    "                    r=20, b=10,\n",
    "                    l=10, t=10)\n",
    "                  )\n",
    "fig = go.Figure(data=[trace1,trace2], layout=layout)\n",
    "py.iplot(fig)"
   ]
  },
  {
   "cell_type": "markdown",
   "metadata": {},
   "source": [
    "### Ticks Formatting"
   ]
  },
  {
   "cell_type": "code",
   "execution_count": 13,
   "metadata": {
    "collapsed": false
   },
   "outputs": [
    {
     "data": {
      "text/html": [
       "<iframe id=\"igraph\" scrolling=\"no\" style=\"border:none;\" seamless=\"seamless\" src=\"https://plot.ly/~Diksha_Gabha/2422.embed\" height=\"525px\" width=\"700px\"></iframe>"
      ],
      "text/plain": [
       "<plotly.tools.PlotlyDisplay object>"
      ]
     },
     "execution_count": 13,
     "metadata": {},
     "output_type": "execute_result"
    }
   ],
   "source": [
    "import plotly.plotly as py\n",
    "import plotly.graph_objs as go\n",
    "import numpy as np\n",
    "\n",
    "N = 50\n",
    "trace1 = go.Mesh3d(x=(60*np.random.randn(N)),\n",
    "                   y=(25*np.random.randn(N)),\n",
    "                   z=(40*np.random.randn(N)),\n",
    "                   opacity=0.5,\n",
    "                   color='rgba(100,22,200,0.5)'\n",
    "                  )\n",
    "\n",
    "layout = go.Layout(\n",
    "                    scene = dict(\n",
    "                    xaxis = dict(\n",
    "                        ticktext= ['TICKS','MESH','PLOTLY','PYTHON'],\n",
    "                        tickvals= [0,50,75,-50]),\n",
    "                    yaxis = dict(\n",
    "                        nticks=5, tickfont=dict(\n",
    "                            color='green',\n",
    "                            size=12,\n",
    "                            family='Old Standard TT, serif',),\n",
    "                        ticksuffix='#'),\n",
    "                    zaxis = dict(\n",
    "                        nticks=4, ticks='outside',\n",
    "                        tick0=0, tickwidth=4),),\n",
    "                    width=700,\n",
    "                    margin=dict(\n",
    "                    r=10, l=10,\n",
    "                    b=10, t=10)\n",
    "                  )\n",
    "fig = go.Figure(data=[trace1], layout=layout)\n",
    "py.iplot(fig)"
   ]
  },
  {
   "cell_type": "markdown",
   "metadata": {
    "collapsed": true
   },
   "source": [
    "### Background and Grid Color"
   ]
  },
  {
   "cell_type": "code",
   "execution_count": 1,
   "metadata": {
    "collapsed": false
   },
   "outputs": [
    {
     "data": {
      "text/html": [
       "<iframe id=\"igraph\" scrolling=\"no\" style=\"border:none;\" seamless=\"seamless\" src=\"https://plot.ly/~Diksha_Gabha/2456.embed\" height=\"525px\" width=\"700px\"></iframe>"
      ],
      "text/plain": [
       "<plotly.tools.PlotlyDisplay object>"
      ]
     },
     "execution_count": 1,
     "metadata": {},
     "output_type": "execute_result"
    }
   ],
   "source": [
    "import plotly.plotly as py\n",
    "import plotly.graph_objs as go\n",
    "import numpy as np\n",
    "\n",
    "N = 50\n",
    "trace1 = go.Mesh3d(x=(30*np.random.randn(N)),\n",
    "                   y=(25*np.random.randn(N)),\n",
    "                   z=(30*np.random.randn(N)),\n",
    "                   opacity=0.5,)\n",
    "\n",
    "\n",
    "layout = go.Layout(\n",
    "                    scene = dict(\n",
    "                    xaxis = dict(\n",
    "                         backgroundcolor=\"rgb(200, 200, 230)\",\n",
    "                         gridcolor=\"rgb(255, 255, 255)\",\n",
    "                         showbackground=True,\n",
    "                         zerolinecolor=\"rgb(255, 255, 255)\",),\n",
    "                    yaxis = dict(\n",
    "                        backgroundcolor=\"rgb(230, 200,230)\",\n",
    "                        gridcolor=\"rgb(255, 255, 255)\",\n",
    "                        showbackground=True,\n",
    "                        zerolinecolor=\"rgb(255, 255, 255)\"),\n",
    "                    zaxis = dict(\n",
    "                        backgroundcolor=\"rgb(230, 230,200)\",\n",
    "                        gridcolor=\"rgb(255, 255, 255)\",\n",
    "                        showbackground=True,\n",
    "                        zerolinecolor=\"rgb(255, 255, 255)\",),),\n",
    "                    width=700,\n",
    "                    margin=dict(\n",
    "                    r=10, l=10,\n",
    "                    b=10, t=10)\n",
    "                  )\n",
    "fig = go.Figure(data=[trace1], layout=layout)\n",
    "py.iplot(fig)"
   ]
  },
  {
   "cell_type": "code",
   "execution_count": 3,
   "metadata": {
    "collapsed": false
   },
   "outputs": [
    {
     "data": {
      "text/html": [
       "<link href=\"//fonts.googleapis.com/css?family=Open+Sans:600,400,300,200|Inconsolata|Ubuntu+Mono:400,700\" rel=\"stylesheet\" type=\"text/css\" />"
      ],
      "text/plain": [
       "<IPython.core.display.HTML object>"
      ]
     },
     "metadata": {},
     "output_type": "display_data"
    },
    {
     "data": {
      "text/html": [
       "<link rel=\"stylesheet\" type=\"text/css\" href=\"http://help.plot.ly/documentation/all_static/css/ipython-notebook-custom.css\">"
      ],
      "text/plain": [
       "<IPython.core.display.HTML object>"
      ]
     },
     "metadata": {},
     "output_type": "display_data"
    },
    {
     "name": "stdout",
     "output_type": "stream",
     "text": [
      "Collecting git+https://github.com/plotly/publisher.git\n",
      "  Cloning https://github.com/plotly/publisher.git to /tmp/pip-j4TIlf-build\n",
      "Installing collected packages: publisher\n",
      "  Found existing installation: publisher 0.10\n",
      "    Uninstalling publisher-0.10:\n",
      "      Successfully uninstalled publisher-0.10\n",
      "  Running setup.py install for publisher ... \u001b[?25l-\b \bdone\n",
      "\u001b[?25hSuccessfully installed publisher-0.10\n",
      "\u001b[33mYou are using pip version 8.1.1, however version 8.1.2 is available.\n",
      "You should consider upgrading via the 'pip install --upgrade pip' command.\u001b[0m\n"
     ]
    }
   ],
   "source": [
    "from IPython.display import display, HTML\n",
    "\n",
    "display(HTML('<link href=\"//fonts.googleapis.com/css?family=Open+Sans:600,400,300,200|Inconsolata|Ubuntu+Mono:400,700\" rel=\"stylesheet\" type=\"text/css\" />'))\n",
    "display(HTML('<link rel=\"stylesheet\" type=\"text/css\" href=\"http://help.plot.ly/documentation/all_static/css/ipython-notebook-custom.css\">'))\n",
    "\n",
    "! pip install git+https://github.com/plotly/publisher.git --upgrade\n",
    "import publisher\n",
    "publisher.publish(\n",
    "    '3d-axes.ipynb', 'python/3d-axes/', 'Axes Formatting in 3d Plots | plotly',\n",
    "    'How to format axes of 3d plots in Python with Plotly.',\n",
    "    title = 'Format 3d Axes | plotly',\n",
    "    name = '3D Axes',\n",
    "    has_thumbnail='false', thumbnail='thumbnail/your-tutorial-chart.jpg', \n",
    "    language='python', page_type='example_index',\n",
    "    display_as='layout_opt', order=1)  "
   ]
  },
  {
   "cell_type": "code",
   "execution_count": null,
   "metadata": {
    "collapsed": true
   },
   "outputs": [],
   "source": []
  }
 ],
 "metadata": {
  "kernelspec": {
   "display_name": "Python 2",
   "language": "python",
   "name": "python2"
  },
  "language_info": {
   "codemirror_mode": {
    "name": "ipython",
    "version": 2
   },
   "file_extension": ".py",
   "mimetype": "text/x-python",
   "name": "python",
   "nbconvert_exporter": "python",
   "pygments_lexer": "ipython2",
   "version": "2.7.11"
  }
 },
 "nbformat": 4,
 "nbformat_minor": 0
}
