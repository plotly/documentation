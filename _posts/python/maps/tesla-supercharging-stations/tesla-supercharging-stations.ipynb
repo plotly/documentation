{
 "cells": [
  {
   "cell_type": "markdown",
   "metadata": {},
   "source": [
    "#### New to Plotly?\n",
    "Plotly's Python library is free and open source! [Get started](https://plot.ly/python/getting-started/) by downloading the client and [reading the primer](https://plot.ly/python/getting-started/).\n",
    "<br>You can set up Plotly to work in [online](https://plot.ly/python/getting-started/#initialization-for-online-plotting) or [offline](https://plot.ly/python/getting-started/#initialization-for-offline-plotting) mode, or in [jupyter notebooks](https://plot.ly/python/getting-started/#start-plotting-online).\n",
    "<br>We also have a quick-reference [cheatsheet](https://images.plot.ly/plotly-documentation/images/python_cheat_sheet.pdf) (new!) to help you get started!"
   ]
  },
  {
   "cell_type": "markdown",
   "metadata": {},
   "source": [
    "#### Version Check\n",
    "Run  `pip install plotly --upgrade` to update your Plotly version"
   ]
  },
  {
   "cell_type": "code",
   "execution_count": 1,
   "metadata": {},
   "outputs": [
    {
     "data": {
      "text/plain": [
       "'2.0.15'"
      ]
     },
     "execution_count": 1,
     "metadata": {},
     "output_type": "execute_result"
    }
   ],
   "source": [
    "import plotly\n",
    "plotly.__version__"
   ]
  },
  {
   "cell_type": "markdown",
   "metadata": {},
   "source": [
    "#### Mapbox Access Token\n",
    "\n",
    "To plot on Mapbox maps with Plotly you'll need a Mapbox account and a [Public Mapbox Access Token](https://www.mapbox.com/studio) which you can add to your [Plotly settings](https://plot.ly/settings/mapbox). If you're using a Plotly On-Premise server, please see additional instructions here: https://help.plot.ly/mapbox-atlas/. "
   ]
  },
  {
   "cell_type": "markdown",
   "metadata": {},
   "source": [
    "#### Google Maps API\n",
    "In order to use the `Google Maps - Directions API`, you need to create an account with Google and get your API key [here](https://developers.google.com/maps/documentation/directions/)."
   ]
  },
  {
   "cell_type": "code",
   "execution_count": 2,
   "metadata": {
    "collapsed": true
   },
   "outputs": [],
   "source": [
    "import plotly.plotly as py\n",
    "from plotly.graph_objs import *\n",
    "\n",
    "import numpy as np\n",
    "import requests\n",
    "import copy\n",
    "import googlemaps\n",
    "\n",
    "# add your google maps api key here\n",
    "my_google_maps_api_key = 'YOUR_API_KEY'"
   ]
  },
  {
   "cell_type": "markdown",
   "metadata": {},
   "source": [
    "#### Parse Tesla Locations\n",
    "Perform a `GET` request to retrieve the HTML of the [Google Maps Page](https://www.tesla.com/en_CA/findus#/bounds/70,-50,42,-142,d?search=supercharger,&name=Canada) with all Tesla locations, then parse through to collect all the USA, Canada ones and store them in a dictionary. The dictionary is indexed by `address` and each address has a parameter for `postal_code`, `country`, `latitude` and `longitude`. Be Patient, it takes a while."
   ]
  },
  {
   "cell_type": "code",
   "execution_count": 3,
   "metadata": {
    "collapsed": true
   },
   "outputs": [],
   "source": [
    "r = requests.get('https://www.tesla.com/en_CA/findus#/bounds/70,-50,42,-142,d?search=supercharger,&name=Canada')\n",
    "r_copy = copy.deepcopy(r.text)"
   ]
  },
  {
   "cell_type": "code",
   "execution_count": 4,
   "metadata": {
    "collapsed": true
   },
   "outputs": [],
   "source": [
    "supercharger_locations = {}\n",
    "params_for_locations = ['latitude\":\"', 'longitude\":\"']\n",
    "location_param = 'location_id\":\"'\n",
    "\n",
    "while True:\n",
    "    # add address line to the dictionary\n",
    "    index = r_copy.find(location_param)\n",
    "    if index == -1:\n",
    "        break\n",
    "    index += len(location_param)\n",
    "\n",
    "    index_end = index\n",
    "    while r_copy[index_end] != '\"':\n",
    "        index_end += 1\n",
    "    address_line_1 = r_copy[index:index_end]\n",
    "    address_line_1 = str(address_line_1)\n",
    "    supercharger_locations[address_line_1] = {}\n",
    "\n",
    "    for param in params_for_locations:\n",
    "        index = r_copy.find(param)\n",
    "        if index == -1:\n",
    "            break\n",
    "        index += len(param)\n",
    "\n",
    "        index_end = index\n",
    "        while r_copy[index_end] != '\"':\n",
    "            index_end += 1\n",
    "        supercharger_locations[address_line_1][param[0:-3]] = r_copy[index:index_end]\n",
    "\n",
    "    r_copy = r_copy[index_end:len(r.text)]  # slice off the traversed code\n",
    "\n",
    "all_keys = supercharger_locations.keys()"
   ]
  },
  {
   "cell_type": "markdown",
   "metadata": {},
   "source": [
    "#### Table of Locations\n",
    "Create a table with a sample of the `supercharger_locations` data."
   ]
  },
  {
   "cell_type": "code",
   "execution_count": 5,
   "metadata": {},
   "outputs": [
    {
     "data": {
      "text/html": [
       "<iframe id=\"igraph\" scrolling=\"no\" style=\"border:none;\" seamless=\"seamless\" src=\"https://plot.ly/~AdamKulidjian/1014.embed\" height=\"380px\" width=\"100%\"></iframe>"
      ],
      "text/plain": [
       "<plotly.tools.PlotlyDisplay object>"
      ]
     },
     "execution_count": 5,
     "metadata": {},
     "output_type": "execute_result"
    }
   ],
   "source": [
    "import plotly.plotly as py\n",
    "import plotly.figure_factory as ff\n",
    "\n",
    "data_matrix = [['Location ID', 'Latitude', 'Longitude']]\n",
    "first_ten_keys = supercharger_locations.keys()[0:10]\n",
    "\n",
    "for key in first_ten_keys:\n",
    "    row = [key,\n",
    "           supercharger_locations[key]['latitude'],\n",
    "           supercharger_locations[key]['longitude']]\n",
    "    data_matrix.append(row)\n",
    "\n",
    "table = ff.create_table(data_matrix)\n",
    "py.iplot(table, filename='supercharger-locations-sample')"
   ]
  },
  {
   "cell_type": "markdown",
   "metadata": {
    "collapsed": true
   },
   "source": [
    "#### Plot the Route\n",
    "The server_key should be replaced with your own Google Maps Directions API key.\n",
    "\n",
    "Be careful! Make sure you are picking a start and end point that can be driven between, eg. both in the United States of America. Otherwise, the Google Maps API cannot comupute directions and will return an empty list."
   ]
  },
  {
   "cell_type": "code",
   "execution_count": 6,
   "metadata": {},
   "outputs": [
    {
     "data": {
      "text/html": [
       "<iframe id=\"igraph\" scrolling=\"no\" style=\"border:none;\" seamless=\"seamless\" src=\"https://plot.ly/~AdamKulidjian/1016.embed\" height=\"525px\" width=\"100%\"></iframe>"
      ],
      "text/plain": [
       "<plotly.tools.PlotlyDisplay object>"
      ]
     },
     "execution_count": 6,
     "metadata": {},
     "output_type": "execute_result"
    }
   ],
   "source": [
    "def plot_route_between_tesla_stations(address_start, address_end, zoom=3, endpt_size=6):\n",
    "    start = (supercharger_locations[address_start]['latitude'], supercharger_locations[address_start]['longitude'])\n",
    "    end = (supercharger_locations[address_end]['latitude'], supercharger_locations[address_end]['longitude'])\n",
    "    \n",
    "    #start = address_start\n",
    "    #end = address_end\n",
    "    \n",
    "    directions = gmaps.directions(start, end)\n",
    "    steps = []\n",
    "    steps.append(start)  # add starting coordinate to trip\n",
    "    \n",
    "    for index in range(len(directions[0]['legs'][0]['steps'])):\n",
    "        start_coords = directions[0]['legs'][0]['steps'][index]['start_location']\n",
    "        steps.append((start_coords['lat'], start_coords['lng']))\n",
    "\n",
    "        if index == len(directions[0]['legs'][0]['steps']) - 1:\n",
    "            end_coords = directions[0]['legs'][0]['steps'][index]['end_location']\n",
    "            steps.append((end_coords['lat'], end_coords['lng']))\n",
    "\n",
    "    steps.append(end)  # add ending coordinate to trip\n",
    "\n",
    "    mapbox_access_token = \"ADD_YOUR_TOKEN_HERE\"\n",
    "\n",
    "    data = Data([\n",
    "        Scattermapbox(\n",
    "            lat=[item_x[0] for item_x in steps],\n",
    "            lon=[item_y[1] for item_y in steps],\n",
    "            mode='markers+lines',\n",
    "            marker=Marker(\n",
    "                size=[endpt_size] + [4 for j in range(len(steps) - 2)] + [endpt_size]\n",
    "            ),\n",
    "        )\n",
    "    ])\n",
    "    layout = Layout(\n",
    "        autosize=True,\n",
    "        hovermode='closest',\n",
    "        mapbox=dict(\n",
    "            accesstoken=mapbox_access_token,\n",
    "            bearing=0,\n",
    "            style='streets',\n",
    "            center=dict(\n",
    "                lat=np.mean([float(step[0]) for step in steps]),\n",
    "                lon=np.mean([float(step[1]) for step in steps]),\n",
    "            ),\n",
    "            pitch=0,\n",
    "            zoom=zoom\n",
    "        ),\n",
    "    )\n",
    "\n",
    "    fig = dict(data=data, layout=layout)\n",
    "    return fig\n",
    "\n",
    "server_key = my_google_maps_api_key\n",
    "gmaps = googlemaps.Client(key=server_key)\n",
    "address_start = supercharger_locations.keys()[0]\n",
    "address_end = supercharger_locations.keys()[501] \n",
    "zoom=12.2\n",
    "endpt_size=20\n",
    "\n",
    "fig = plot_route_between_tesla_stations(address_start, address_end, zoom=10.2, endpt_size=20)\n",
    "py.iplot(fig, filename='tesla-driving-directions-between-superchargers')"
   ]
  },
  {
   "cell_type": "markdown",
   "metadata": {},
   "source": [
    "#### Reference\n",
    "See http://moderndata.plot.ly/visualize-tesla-supercharging-stations-with-mysql-and-plotly/ to visualize Tesla supercharging stations with MYSQL and https://plot.ly/python/scattermapbox/ for more information on how to plot scatterplots on maps."
   ]
  },
  {
   "cell_type": "code",
   "execution_count": 1,
   "metadata": {},
   "outputs": [
    {
     "data": {
      "text/html": [
       "<link href=\"//fonts.googleapis.com/css?family=Open+Sans:600,400,300,200|Inconsolata|Ubuntu+Mono:400,700\" rel=\"stylesheet\" type=\"text/css\" />"
      ],
      "text/plain": [
       "<IPython.core.display.HTML object>"
      ]
     },
     "metadata": {},
     "output_type": "display_data"
    },
    {
     "data": {
      "text/html": [
       "<link rel=\"stylesheet\" type=\"text/css\" href=\"http://help.plot.ly/documentation/all_static/css/ipython-notebook-custom.css\">"
      ],
      "text/plain": [
       "<IPython.core.display.HTML object>"
      ]
     },
     "metadata": {},
     "output_type": "display_data"
    },
    {
     "name": "stderr",
     "output_type": "stream",
     "text": [
      "/Library/Frameworks/Python.framework/Versions/2.7/lib/python2.7/site-packages/IPython/nbconvert.py:13: ShimWarning: The `IPython.nbconvert` package has been deprecated since IPython 4.0. You should import from nbconvert instead.\n",
      "  \"You should import from nbconvert instead.\", ShimWarning)\n",
      "/Library/Frameworks/Python.framework/Versions/2.7/lib/python2.7/site-packages/publisher/publisher.py:53: UserWarning: Did you \"Save\" this notebook before running this command? Remember to save, always save.\n",
      "  warnings.warn('Did you \"Save\" this notebook before running this command? '\n"
     ]
    }
   ],
   "source": [
    "from IPython.display import display, HTML\n",
    "\n",
    "display(HTML('<link href=\"//fonts.googleapis.com/css?family=Open+Sans:600,400,300,200|Inconsolata|Ubuntu+Mono:400,700\" rel=\"stylesheet\" type=\"text/css\" />'))\n",
    "display(HTML('<link rel=\"stylesheet\" type=\"text/css\" href=\"http://help.plot.ly/documentation/all_static/css/ipython-notebook-custom.css\">'))\n",
    "\n",
    "#! pip install git+https://github.com/plotly/publisher.git --upgrade\n",
    "import publisher\n",
    "publisher.publish(\n",
    "    'tesla-supercharging-stations.ipynb', 'python/tesla-supercharging-stations/', 'Python Tesla Supercharging Stations | Examples | Plotly',\n",
    "    'How to plot car-travel routes between USA and Canada Telsa Supercharging Stations in Python.',\n",
    "    title = 'Tesla Supercharging Stations | Plotly',\n",
    "    name = 'Tesla Supercharging Stations',\n",
    "    has_thumbnail='true', thumbnail='thumbnail/tesla-stations.jpg',\n",
    "    language='python',\n",
    "    display_as='maps', order=10,\n",
    "    ipynb= '~notebook_demo/124')"
   ]
  },
  {
   "cell_type": "code",
   "execution_count": null,
   "metadata": {
    "collapsed": true
   },
   "outputs": [],
   "source": []
  }
 ],
 "metadata": {
  "anaconda-cloud": {},
  "kernelspec": {
   "display_name": "Python 2",
   "language": "python",
   "name": "python2"
  },
  "language_info": {
   "codemirror_mode": {
    "name": "ipython",
    "version": 2
   },
   "file_extension": ".py",
   "mimetype": "text/x-python",
   "name": "python",
   "nbconvert_exporter": "python",
   "pygments_lexer": "ipython2",
   "version": "2.7.12"
  }
 },
 "nbformat": 4,
 "nbformat_minor": 1
}
