{
 "cells": [
  {
   "cell_type": "markdown",
   "metadata": {},
   "source": [
    "#### New to Plotly?\n",
    "Plotly's Python library is free and open source! [Get started](https://plot.ly/python/getting-started/) by dowloading the client and [reading the primer](https://plot.ly/python/getting-started/).\n",
    "<br>You can set up Plotly to work in [online](https://plot.ly/python/getting-started/#initialization-for-online-plotting) or [offline](https://plot.ly/python/getting-started/#initialization-for-offline-plotting) mode, or in [jupyter notebooks](https://plot.ly/python/getting-started/#start-plotting-online).\n",
    "<br>We also have a quick-reference [cheatsheet](https://images.plot.ly/plotly-documentation/images/python_cheat_sheet.pdf) (new!) to help you get started!"
   ]
  },
  {
   "cell_type": "markdown",
   "metadata": {},
   "source": [
    "#### Version Check\n",
    "Run  `pip install plotly --upgrade` to update your Plotly version"
   ]
  },
  {
   "cell_type": "code",
   "execution_count": 1,
   "metadata": {},
   "outputs": [
    {
     "data": {
      "text/plain": [
       "'2.0.6'"
      ]
     },
     "execution_count": 1,
     "metadata": {},
     "output_type": "execute_result"
    }
   ],
   "source": [
    "import plotly\n",
    "plotly.__version__"
   ]
  },
  {
   "cell_type": "markdown",
   "metadata": {},
   "source": [
    "In this tutorial, we will be creating a choropleth of Florida's counties with the Republican and Democratic counties colored red and blue respectively."
   ]
  },
  {
   "cell_type": "markdown",
   "metadata": {},
   "source": [
    "#### Mapbox Access Token"
   ]
  },
  {
   "cell_type": "markdown",
   "metadata": {},
   "source": [
    "To plot on Mapbox maps with Plotly you'll need a Mapbox account and a [Mapbox Access Token](https://www.mapbox.com/studio) which you can add to your [Plotly settings](https://plot.ly/settings/mapbox). If you're using a Plotly On-Premise server, please see additional instructions here: https://help.plot.ly/mapbox-atlas/. "
   ]
  },
  {
   "cell_type": "markdown",
   "metadata": {},
   "source": [
    "#### Read the Data"
   ]
  },
  {
   "cell_type": "markdown",
   "metadata": {},
   "source": [
    "Read both a [GeoJSON file](http://catalog.civicdashboards.com/dataset/cda82e8b-7a8b-411e-95ba-1200b921c35d/resource/5c5d19a0-b817-49e6-b76e-ea63a8e2c0f6/download/fd880c1e4d23463ca869f1122109b3eftemp.geojson) of the Florida counties and a [webpage](http://dos.myflorida.com/elections/data-statistics/voter-registration-statistics/voter-registration-monthly-reports/voter-registration-current-by-county/) indicating Florida's voting registration by county"
   ]
  },
  {
   "cell_type": "code",
   "execution_count": 2,
   "metadata": {},
   "outputs": [],
   "source": [
    "import urllib\n",
    "import ast\n",
    "import HTMLParser\n",
    "import string\n",
    "import json\n",
    "\n",
    "url = 'http://catalog.civicdashboards.com/dataset/cda82e8b-7a8b-411e-95ba-1200b921c35d/resource/5c5d19a0-b817-49e6-b76e-ea63a8e2c0f6/download/fd880c1e4d23463ca869f1122109b3eftemp.geojson'\n",
    "florida_data = urllib.urlopen(url).read()\n",
    "florida_data = ast.literal_eval(florida_data)\n",
    "\n",
    "repub_democ_counties_url = 'http://dos.myflorida.com/elections/data-statistics/voter-registration-statistics/voter-registration-monthly-reports/voter-registration-current-by-county/'\n",
    "repub_democ_counties = urllib.urlopen(repub_democ_counties_url).read()"
   ]
  },
  {
   "cell_type": "markdown",
   "metadata": {},
   "source": [
    "Since we want to separate the counties into Republican and Democratic for the seperate coloring, and since the county names in the GeoJSON are fuller text descriptions of each county on the website, we need to parse through and convert the names in the GeoJSON to the website format"
   ]
  },
  {
   "cell_type": "code",
   "execution_count": 3,
   "metadata": {},
   "outputs": [
    {
     "name": "stdout",
     "output_type": "stream",
     "text": [
      "['Charlotte', 'Seminole', 'Baker', 'DeSoto', 'Levy', 'Alachua', 'Pasco', 'Hendry', 'Okeechobee', 'Broward', 'St. Johns', 'Gulf', 'Glades', 'Marion', 'Duval', 'Madison', 'Osceola', 'Lee', 'Volusia', 'Sarasota', 'Indian River', 'Clay', 'Putnam', 'Wakulla', 'Holmes', 'Escambia', 'Flagler', 'Union', 'Brevard', 'Suwannee', 'Orange', 'Martin', 'Nassau', 'Jefferson', 'Santa Rosa', 'Hamilton', 'Calhoun', 'Hernando', 'Miami-Dade', 'Pinellas', 'Palm Beach', 'Hillsborough', 'Collier', 'Gilchrist', 'Dixie', 'Bay', 'Gadsden', 'Okaloosa', 'Citrus', 'Lafayette', 'Manatee', 'Monroe', 'Columbia', 'Sumter', 'Washington', 'St. Lucie', 'Polk', 'Taylor', 'Leon', 'Lake', 'Highlands', 'Hardee', 'Bradford', 'Liberty', 'Franklin', 'Walton', 'Jackson']\n"
     ]
    }
   ],
   "source": [
    "county_names = []\n",
    "county_names_dict = {}\n",
    "\n",
    "for county in florida_data['features']:\n",
    "    for m in range(len(county['properties']['name'])):\n",
    "        if county['properties']['name'][m:m+6] == 'County':\n",
    "            county_names.append(county['properties']['name'][0:m-1])\n",
    "            county_names_dict[county['properties']['name'][0:m-1]] = county['properties']['name']\n",
    "            \n",
    "print county_names"
   ]
  },
  {
   "cell_type": "markdown",
   "metadata": {},
   "source": [
    "#### Color the Counties"
   ]
  },
  {
   "cell_type": "markdown",
   "metadata": {},
   "source": [
    "We now run a script to color our counties based on political party. This involves parsing through our list of counties, finding their cooresponding Republican/Democratic votes on the website, and place our data into the cooresponding list `red_counties` or `blue_counties`, based on which party has more votes"
   ]
  },
  {
   "cell_type": "code",
   "execution_count": 4,
   "metadata": {},
   "outputs": [],
   "source": [
    "red_counties = []\n",
    "blue_counties = []\n",
    "\n",
    "for k, county in enumerate(county_names):\n",
    "    for j in range(len(repub_democ_counties)):\n",
    "        county_len = len(county)\n",
    "        if repub_democ_counties[j:j+county_len] == string.upper(county):\n",
    "            new_j = j\n",
    "\n",
    "            while True:\n",
    "                try:\n",
    "                    int(repub_democ_counties[new_j])\n",
    "                    break\n",
    "                except ValueError:\n",
    "                    new_j += 1\n",
    "\n",
    "    repub_votes = ''\n",
    "    while repub_democ_counties[new_j] != '<':\n",
    "        if repub_democ_counties[new_j] != ',':\n",
    "            repub_votes += repub_democ_counties[new_j]\n",
    "        new_j += 1\n",
    "    \n",
    "    # advance to next set of numbers\n",
    "    new_j += 11\n",
    "\n",
    "    democ_votes = ''\n",
    "    while repub_democ_counties[new_j] != '<':\n",
    "        if repub_democ_counties[new_j] != ',':\n",
    "            democ_votes += repub_democ_counties[new_j]\n",
    "        new_j += 1\n",
    "\n",
    "    repub_votes = int(repub_votes)\n",
    "    democ_votes = int(democ_votes)\n",
    "\n",
    "    if repub_votes >= democ_votes:\n",
    "        red_counties.append(florida_data['features'][k])\n",
    "    else:\n",
    "        blue_counties.append(florida_data['features'][k])"
   ]
  },
  {
   "cell_type": "markdown",
   "metadata": {},
   "source": [
    "#### Create JSON Files"
   ]
  },
  {
   "cell_type": "markdown",
   "metadata": {},
   "source": [
    "In [plotly/datasets](https://github.com/plotly/datasets), you can find the generated JSON files below for the [red counties](https://raw.githubusercontent.com/plotly/datasets/master/florida-red-data.json) and [blue counties](https://raw.githubusercontent.com/plotly/datasets/master/florida-blue-data.json)"
   ]
  },
  {
   "cell_type": "code",
   "execution_count": 5,
   "metadata": {},
   "outputs": [],
   "source": [
    "red_data = {\"type\": \"FeatureCollection\"}\n",
    "red_data['features'] = red_counties\n",
    "\n",
    "blue_data = {\"type\": \"FeatureCollection\"}\n",
    "blue_data['features'] = blue_counties\n",
    "\n",
    "with open('florida-red-data.json', 'w') as f:\n",
    "    f.write(json.dumps(red_data))\n",
    "with open('florida-blue-data.json', 'w') as f:\n",
    "    f.write(json.dumps(blue_data))"
   ]
  },
  {
   "cell_type": "markdown",
   "metadata": {},
   "source": [
    "and we can now plot our choropleth using Python. Make sure to have a [Mapbox Access Tolken](https://www.mapbox.com/studio) for the generation of the plot. For more information on plotting Mapbox maps in Python, checkout the [documentation](https://plot.ly/python/scattermapbox/) "
   ]
  },
  {
   "cell_type": "code",
   "execution_count": 6,
   "metadata": {},
   "outputs": [
    {
     "data": {
      "text/html": [
       "<iframe id=\"igraph\" scrolling=\"no\" style=\"border:none;\" seamless=\"seamless\" src=\"https://plot.ly/~AdamKulidjian/705.embed\" height=\"600px\" width=\"100%\"></iframe>"
      ],
      "text/plain": [
       "<plotly.tools.PlotlyDisplay object>"
      ]
     },
     "execution_count": 6,
     "metadata": {},
     "output_type": "execute_result"
    }
   ],
   "source": [
    "import plotly.plotly as py\n",
    "import plotly.graph_objs as graph_objs\n",
    "\n",
    "mapbox_access_token = \"ADD_YOUR_TOKEN_HERE\"\n",
    "\n",
    "data = graph_objs.Data([\n",
    "    graph_objs.Scattermapbox(\n",
    "        lat=['45.5017'],\n",
    "        lon=['-73.5673'],\n",
    "        mode='markers',\n",
    "    )\n",
    "])\n",
    "layout = graph_objs.Layout(\n",
    "    height=600,\n",
    "    autosize=True,\n",
    "    hovermode='closest',\n",
    "    mapbox=dict(\n",
    "        layers=[\n",
    "            dict(\n",
    "                sourcetype = 'geojson',\n",
    "                source = 'https://raw.githubusercontent.com/plotly/datasets/master/florida-red-data.json',\n",
    "                type = 'fill',\n",
    "                color = 'rgba(163,22,19,0.8)'\n",
    "            ),\n",
    "            dict(\n",
    "                sourcetype = 'geojson',\n",
    "                source = 'https://raw.githubusercontent.com/plotly/datasets/master/florida-blue-data.json',\n",
    "                type = 'fill',\n",
    "                color = 'rgba(40,0,113,0.8)'\n",
    "            )\n",
    "        ],\n",
    "        accesstoken=mapbox_access_token,\n",
    "        bearing=0,\n",
    "        center=dict(\n",
    "            lat=27.8,\n",
    "            lon=-83\n",
    "        ),\n",
    "        pitch=0,\n",
    "        zoom=5.2,\n",
    "        style='light'\n",
    "    ),\n",
    ")\n",
    "\n",
    "fig = dict(data=data, layout=layout)\n",
    "py.iplot(fig, filename='county-level-choropleths-python')"
   ]
  },
  {
   "cell_type": "markdown",
   "metadata": {},
   "source": [
    "#### Reference\n",
    "See https://plot.ly/python/reference/#scattermapbox for more information about mapbox and their attribute options."
   ]
  },
  {
   "cell_type": "code",
   "execution_count": 1,
   "metadata": {},
   "outputs": [
    {
     "data": {
      "text/html": [
       "<link href=\"//fonts.googleapis.com/css?family=Open+Sans:600,400,300,200|Inconsolata|Ubuntu+Mono:400,700\" rel=\"stylesheet\" type=\"text/css\" />"
      ],
      "text/plain": [
       "<IPython.core.display.HTML object>"
      ]
     },
     "metadata": {},
     "output_type": "display_data"
    },
    {
     "data": {
      "text/html": [
       "<link rel=\"stylesheet\" type=\"text/css\" href=\"http://help.plot.ly/documentation/all_static/css/ipython-notebook-custom.css\">"
      ],
      "text/plain": [
       "<IPython.core.display.HTML object>"
      ]
     },
     "metadata": {},
     "output_type": "display_data"
    },
    {
     "name": "stderr",
     "output_type": "stream",
     "text": [
      "/Library/Frameworks/Python.framework/Versions/2.7/lib/python2.7/site-packages/IPython/nbconvert.py:13: ShimWarning: The `IPython.nbconvert` package has been deprecated since IPython 4.0. You should import from nbconvert instead.\n",
      "  \"You should import from nbconvert instead.\", ShimWarning)\n",
      "/Library/Frameworks/Python.framework/Versions/2.7/lib/python2.7/site-packages/publisher/publisher.py:53: UserWarning: Did you \"Save\" this notebook before running this command? Remember to save, always save.\n",
      "  warnings.warn('Did you \"Save\" this notebook before running this command? '\n"
     ]
    }
   ],
   "source": [
    "from IPython.display import display, HTML\n",
    "\n",
    "display(HTML('<link href=\"//fonts.googleapis.com/css?family=Open+Sans:600,400,300,200|Inconsolata|Ubuntu+Mono:400,700\" rel=\"stylesheet\" type=\"text/css\" />'))\n",
    "display(HTML('<link rel=\"stylesheet\" type=\"text/css\" href=\"http://help.plot.ly/documentation/all_static/css/ipython-notebook-custom.css\">'))\n",
    "\n",
    "import publisher\n",
    "publisher.publish(\n",
    "    'county-level-choropleth.ipynb', 'python/county-level-choropleth/', 'Python County Level Choropleth | plotly',\n",
    "    'How to make a Choropleth Map of Florida in Python with Plotly.',\n",
    "    title='Python County Level Choropleth | plotly',\n",
    "    name='County Level Choropleth',\n",
    "    thumbnail='thumbnail/county-level-choropleth.jpg', language='python',\n",
    "    has_thumbnail='true', display_as='maps', order=1.5,\n",
    "    ipynb= '~notebook_demo/56')"
   ]
  },
  {
   "cell_type": "code",
   "execution_count": null,
   "metadata": {
    "collapsed": true
   },
   "outputs": [],
   "source": []
  }
 ],
 "metadata": {
  "kernelspec": {
   "display_name": "Python 2",
   "language": "python",
   "name": "python2"
  },
  "language_info": {
   "codemirror_mode": {
    "name": "ipython",
    "version": 2
   },
   "file_extension": ".py",
   "mimetype": "text/x-python",
   "name": "python",
   "nbconvert_exporter": "python",
   "pygments_lexer": "ipython2",
   "version": "2.7.11"
  }
 },
 "nbformat": 4,
 "nbformat_minor": 1
}
