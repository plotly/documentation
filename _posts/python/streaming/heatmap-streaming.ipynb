{
 "cells": [
  {
   "cell_type": "markdown",
   "metadata": {},
   "source": [
    "#### New to Plotly?\n",
    "Plotly's Python library is free and open source! [Get started](https://plot.ly/python/getting-started/) by downloading the client and [reading the primer](https://plot.ly/python/getting-started/).\n",
    "<br>You can set up Plotly to work in [online](https://plot.ly/python/getting-started/#initialization-for-online-plotting) or [offline](https://plot.ly/python/getting-started/#initialization-for-offline-plotting) mode, or in [jupyter notebooks](https://plot.ly/python/getting-started/#start-plotting-online).\n",
    "<br>We also have a quick-reference [cheatsheet](https://images.plot.ly/plotly-documentation/images/python_cheat_sheet.pdf) (new!) to help you get started!"
   ]
  },
  {
   "cell_type": "markdown",
   "metadata": {
    "deletable": true,
    "editable": true
   },
   "source": [
    "#### Version Check\n",
    "Check which version is installed on your machine and please upgrade if needed. "
   ]
  },
  {
   "cell_type": "code",
   "execution_count": 1,
   "metadata": {
    "collapsed": false,
    "deletable": true,
    "editable": true
   },
   "outputs": [
    {
     "data": {
      "text/plain": [
       "'2.0.6'"
      ]
     },
     "execution_count": 1,
     "metadata": {},
     "output_type": "execute_result"
    }
   ],
   "source": [
    "import plotly\n",
    "plotly.__version__"
   ]
  },
  {
   "cell_type": "markdown",
   "metadata": {
    "deletable": true,
    "editable": true
   },
   "source": [
    "#### Getting Set Up\n",
    "As usual, get your streaming ids and assign `stream_id` to one of your streaming ids in your credentials file."
   ]
  },
  {
   "cell_type": "code",
   "execution_count": 2,
   "metadata": {
    "collapsed": true
   },
   "outputs": [],
   "source": [
    "import plotly.plotly as py\n",
    "import plotly.tools as tls\n",
    "import plotly.figure_factory as ff\n",
    "import plotly.graph_objs as go\n",
    "\n",
    "import numpy as np\n",
    "\n",
    "stream_ids = tls.get_credentials_file()['stream_ids'] = ['ct8pa6ekit']\n",
    "\n",
    "# Get stream id from stream id list \n",
    "stream_id = stream_ids[0]\n",
    "\n",
    "# Make instance of stream id object \n",
    "stream_1 = go.Stream(\n",
    "    token=stream_id,\n",
    "    maxpoints=80\n",
    ")"
   ]
  },
  {
   "cell_type": "markdown",
   "metadata": {},
   "source": [
    "#### Initialize Heatmap"
   ]
  },
  {
   "cell_type": "code",
   "execution_count": 3,
   "metadata": {
    "collapsed": false,
    "deletable": true,
    "editable": true
   },
   "outputs": [
    {
     "data": {
      "text/html": [
       "<iframe id=\"igraph\" scrolling=\"no\" style=\"border:none;\" seamless=\"seamless\" src=\"https://plot.ly/~streaming-demos/135.embed\" height=\"525px\" width=\"100%\"></iframe>"
      ],
      "text/plain": [
       "<plotly.tools.PlotlyDisplay object>"
      ]
     },
     "execution_count": 3,
     "metadata": {},
     "output_type": "execute_result"
    }
   ],
   "source": [
    "z = [\n",
    "    [0, 0.33],\n",
    "    [0.66, 1]\n",
    "]\n",
    "\n",
    "text=[\n",
    "    ['RANDOM', 'COLORS'],\n",
    "    ['LOTS', 'OF'],\n",
    "]\n",
    "\n",
    "colorscale_name = 'Rainbow'\n",
    "fig = ff.create_annotated_heatmap(z, stream=stream_1, colorscale=colorscale_name, annotation_text=text)\n",
    "\n",
    "for heatmap_cell in fig['layout']['annotations']:\n",
    "    heatmap_cell['font']['size'] = 50\n",
    "    \n",
    "py.iplot(fig, filename='annotated_heatmap-streaming')"
   ]
  },
  {
   "cell_type": "markdown",
   "metadata": {
    "deletable": true,
    "editable": true
   },
   "source": [
    "#### Start Streaming Annotated Heatmap\n",
    "As well as being able to write data to traces in a streaming example, you can also stream changes to the `Layout` of a plotly figure.\n",
    "\n",
    "`s.write()` can take a figure object (eg. `go.Scatter()`, `go.Heatmap()`, etc) and can also take a `go.Layout()` object as one of its arguments. This will enable you to change the annotation text in an annotated heatmap, for example."
   ]
  },
  {
   "cell_type": "code",
   "execution_count": null,
   "metadata": {
    "collapsed": false,
    "deletable": true,
    "editable": true
   },
   "outputs": [],
   "source": [
    "s = py.Stream(stream_id)\n",
    "s.open()\n",
    "\n",
    "import plotly.colors as colors\n",
    "\n",
    "import time\n",
    "import random\n",
    "\n",
    "time.sleep(4)\n",
    "while True:\n",
    "\n",
    "    x_1 = random.random()\n",
    "    y_1 = random.random()\n",
    "    x_2 = random.random()\n",
    "    y_2 = random.random()\n",
    "\n",
    "    z = [[x_1, y_1], [x_2, y_2]]\n",
    "    \n",
    "    # add text to annotated heatmap\n",
    "    rainbow_scale = colors.PLOTLY_SCALES[colorscale_name]\n",
    "    scale_values = colors.colorscale_to_scale(rainbow_scale)\n",
    "    text_vals = []\n",
    "    for val in sum(z, []):\n",
    "        for j, value in enumerate(rainbow_scale):\n",
    "            if val < value[0]:\n",
    "                lowindex = rainbow_scale[j - 1][0]\n",
    "                highindex = rainbow_scale[j][0]\n",
    "                lowcolor = rainbow_scale[j - 1][1]\n",
    "                highcolor = rainbow_scale[j][1]\n",
    "                break\n",
    "\n",
    "        inter_color = colors.find_intermediate_color(\n",
    "            colors.unlabel_rgb(lowcolor),\n",
    "            colors.unlabel_rgb(highcolor),\n",
    "            (val - lowindex)/(highindex - lowindex)\n",
    "        )\n",
    "\n",
    "        rounded_color = tuple(int(color) for color in list(inter_color))\n",
    "        cell_color = colors.label_rgb(rounded_color)  \n",
    "        text_vals.append(cell_color)\n",
    "    \n",
    "    annotations = [\n",
    "        {'font': {'color': '#000000', 'size': 30},\n",
    "         'showarrow': False,\n",
    "         'text': text_vals[0],\n",
    "         'x': 0,\n",
    "         'xref': 'x1',\n",
    "         'y': 0,\n",
    "         'yref': 'y1'},\n",
    "        {'font': {'color': '#000000', 'size': 30},\n",
    "         'showarrow': False,\n",
    "         'text': text_vals[1],\n",
    "         'x': 1,\n",
    "         'xref': 'x1',\n",
    "         'y': 0,\n",
    "         'yref': 'y1'},\n",
    "        {'font': {'color': '#000000', 'size': 30},\n",
    "         'showarrow': False,\n",
    "         'text': text_vals[2],\n",
    "         'x': 0,\n",
    "         'xref': 'x1',\n",
    "         'y': 1,\n",
    "         'yref': 'y1'},\n",
    "        {'font': {'color': '#000000', 'size': 30},\n",
    "         'showarrow': False,\n",
    "         'text': text_vals[3],\n",
    "         'x': 1,\n",
    "         'xref': 'x1',\n",
    "         'y': 1,\n",
    "         'yref': 'y1'}\n",
    "    ]\n",
    "    \n",
    "    s.write(go.Heatmap(z=z), go.Layout(annotations=annotations))\n",
    "\n",
    "    time.sleep(2)  \n",
    "s.close()"
   ]
  },
  {
   "cell_type": "markdown",
   "metadata": {
    "deletable": true,
    "editable": true
   },
   "source": [
    "You can see this stream live below:"
   ]
  },
  {
   "cell_type": "code",
   "execution_count": 5,
   "metadata": {
    "collapsed": false,
    "deletable": true,
    "editable": true,
    "scrolled": true
   },
   "outputs": [
    {
     "data": {
      "text/html": [
       "<iframe id=\"igraph\" scrolling=\"no\" style=\"border:none;\" seamless=\"seamless\" src=\"https://plot.ly/~streaming-demos/135.embed\" height=\"525\" width=\"100%\"></iframe>"
      ],
      "text/plain": [
       "<plotly.tools.PlotlyDisplay object>"
      ]
     },
     "execution_count": 5,
     "metadata": {},
     "output_type": "execute_result"
    }
   ],
   "source": [
    "tls.embed('streaming-demos','135')"
   ]
  },
  {
   "cell_type": "markdown",
   "metadata": {},
   "source": [
    "#### References"
   ]
  },
  {
   "cell_type": "code",
   "execution_count": 6,
   "metadata": {
    "collapsed": false
   },
   "outputs": [
    {
     "name": "stdout",
     "output_type": "stream",
     "text": [
      "Help on method write in module plotly.plotly.plotly:\n",
      "\n",
      "write(self, trace, layout=None, validate=True, reconnect_on=(200, '', 408)) unbound plotly.plotly.plotly.Stream method\n",
      "    Write to an open stream.\n",
      "    \n",
      "    Once you've instantiated a 'Stream' object with a 'stream_id',\n",
      "    you can 'write' to it in real time.\n",
      "    \n",
      "    positional arguments:\n",
      "    trace - A valid plotly trace object (e.g., Scatter, Heatmap, etc.).\n",
      "            Not all keys in these are `stremable` run help(Obj) on the type\n",
      "            of trace your trying to stream, for each valid key, if the key\n",
      "            is streamable, it will say 'streamable = True'. Trace objects\n",
      "            must be dictionary-like.\n",
      "    \n",
      "    keyword arguments:\n",
      "    layout (default=None) - A valid Layout object\n",
      "                            Run help(plotly.graph_objs.Layout)\n",
      "    validate (default = True) - Validate this stream before sending?\n",
      "                                This will catch local errors if set to\n",
      "                                True.\n",
      "    \n",
      "    Some valid keys for trace dictionaries:\n",
      "        'x', 'y', 'text', 'z', 'marker', 'line'\n",
      "    \n",
      "    Examples:\n",
      "    >>> write(dict(x=1, y=2))  # assumes 'scatter' type\n",
      "    >>> write(Bar(x=[1, 2, 3], y=[10, 20, 30]))\n",
      "    >>> write(Scatter(x=1, y=2, text='scatter text'))\n",
      "    >>> write(Scatter(x=1, y=3, marker=Marker(color='blue')))\n",
      "    >>> write(Heatmap(z=[[1, 2, 3], [4, 5, 6]]))\n",
      "    \n",
      "    The connection to plotly's servers is checked before writing\n",
      "    and reconnected if disconnected and if the response status code\n",
      "    is in `reconnect_on`.\n",
      "    \n",
      "    For more help, see: `help(plotly.plotly.Stream)`\n",
      "    or see examples and tutorials here:\n",
      "    http://nbviewer.ipython.org/github/plotly/python-user-guide/blob/master/s7_streaming/s7_streaming.ipynb\n",
      "\n"
     ]
    }
   ],
   "source": [
    "help(py.Stream.write)"
   ]
  },
  {
   "cell_type": "code",
   "execution_count": 7,
   "metadata": {
    "collapsed": false,
    "deletable": true,
    "editable": true
   },
   "outputs": [
    {
     "data": {
      "text/html": [
       "<link href=\"//fonts.googleapis.com/css?family=Open+Sans:600,400,300,200|Inconsolata|Ubuntu+Mono:400,700\" rel=\"stylesheet\" type=\"text/css\" />"
      ],
      "text/plain": [
       "<IPython.core.display.HTML object>"
      ]
     },
     "metadata": {},
     "output_type": "display_data"
    },
    {
     "data": {
      "text/html": [
       "<link rel=\"stylesheet\" type=\"text/css\" href=\"http://help.plot.ly/documentation/all_static/css/ipython-notebook-custom.css\">"
      ],
      "text/plain": [
       "<IPython.core.display.HTML object>"
      ]
     },
     "metadata": {},
     "output_type": "display_data"
    },
    {
     "name": "stdout",
     "output_type": "stream",
     "text": [
      "Collecting git+https://github.com/plotly/publisher.git\n",
      "  Cloning https://github.com/plotly/publisher.git to /private/var/folders/tc/bs9g6vrd36q74m5t8h9cgphh0000gn/T/pip-ZK_HIC-build\n",
      "Installing collected packages: publisher\n",
      "  Found existing installation: publisher 0.10\n",
      "    Uninstalling publisher-0.10:\n",
      "      Successfully uninstalled publisher-0.10\n",
      "  Running setup.py install for publisher ... \u001b[?25l-\b \bdone\n",
      "\u001b[?25hSuccessfully installed publisher-0.10\n"
     ]
    },
    {
     "name": "stderr",
     "output_type": "stream",
     "text": [
      "/Library/Frameworks/Python.framework/Versions/2.7/lib/python2.7/site-packages/IPython/nbconvert.py:13: ShimWarning:\n",
      "\n",
      "The `IPython.nbconvert` package has been deprecated since IPython 4.0. You should import from nbconvert instead.\n",
      "\n",
      "/Library/Frameworks/Python.framework/Versions/2.7/lib/python2.7/site-packages/publisher/publisher.py:53: UserWarning:\n",
      "\n",
      "Did you \"Save\" this notebook before running this command? Remember to save, always save.\n",
      "\n"
     ]
    }
   ],
   "source": [
    "from IPython.display import display, HTML\n",
    "\n",
    "display(HTML('<link href=\"//fonts.googleapis.com/css?family=Open+Sans:600,400,300,200|Inconsolata|Ubuntu+Mono:400,700\" rel=\"stylesheet\" type=\"text/css\" />'))\n",
    "display(HTML('<link rel=\"stylesheet\" type=\"text/css\" href=\"http://help.plot.ly/documentation/all_static/css/ipython-notebook-custom.css\">'))\n",
    "\n",
    "! pip install git+https://github.com/plotly/publisher.git --upgrade\n",
    "import publisher\n",
    "publisher.publish(\n",
    "    'heatmap-streaming', 'python/heatmap-streaming/', 'Streaming in Plotly',\n",
    "    'Streaming Heatmaps in Plotly with Python.', name=\"Streaming with Heatmaps\",\n",
    "    title = 'Streaming with Heatmaps with Plotly',\n",
    "    thumbnail='', language='python', order=4,\n",
    "    layout='user-guide', has_thumbnail='false')"
   ]
  },
  {
   "cell_type": "code",
   "execution_count": null,
   "metadata": {
    "collapsed": true,
    "deletable": true,
    "editable": true
   },
   "outputs": [],
   "source": []
  }
 ],
 "metadata": {
  "kernelspec": {
   "display_name": "Python 2",
   "language": "python",
   "name": "python2"
  },
  "language_info": {
   "codemirror_mode": {
    "name": "ipython",
    "version": 2
   },
   "file_extension": ".py",
   "mimetype": "text/x-python",
   "name": "python",
   "nbconvert_exporter": "python",
   "pygments_lexer": "ipython2",
   "version": "2.7.12"
  }
 },
 "nbformat": 4,
 "nbformat_minor": 0
}
