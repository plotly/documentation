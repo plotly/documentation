{
 "cells": [
  {
   "cell_type": "markdown",
   "metadata": {},
   "source": [
    "If you want to skip ahead to other streaming examples, you can go to any of the following links:\n",
    "- https://plot.ly/python/multiple-trace-streaming/\n",
    "- https://plot.ly/python/geo-streaming/\n",
    "- https://plot.ly/python/subplot-streaming"
   ]
  },
  {
   "cell_type": "markdown",
   "metadata": {},
   "source": [
    "<hr>"
   ]
  },
  {
   "cell_type": "markdown",
   "metadata": {},
   "source": [
    "Check which version is installed on your machine and please upgrade if needed. "
   ]
  },
  {
   "cell_type": "code",
   "execution_count": 1,
   "metadata": {
    "collapsed": false
   },
   "outputs": [
    {
     "data": {
      "text/plain": [
       "'1.9.10'"
      ]
     },
     "execution_count": 1,
     "metadata": {},
     "output_type": "execute_result"
    }
   ],
   "source": [
    "import plotly\n",
    "plotly.__version__"
   ]
  },
  {
   "cell_type": "markdown",
   "metadata": {},
   "source": [
    "Now let's load the dependencies/packages that we need in order to get a simple stream going."
   ]
  },
  {
   "cell_type": "code",
   "execution_count": 2,
   "metadata": {
    "collapsed": false
   },
   "outputs": [],
   "source": [
    "import numpy as np \n",
    "import plotly.plotly as py  \n",
    "import plotly.tools as tls   \n",
    "import plotly.graph_objs as go"
   ]
  },
  {
   "cell_type": "markdown",
   "metadata": {},
   "source": [
    "#### Getting Set Up"
   ]
  },
  {
   "cell_type": "markdown",
   "metadata": {},
   "source": [
    "Before you start streaming, you're going to need some [stream tokens](https://plot.ly/settings/api). You will need **one unique stream token for every `trace object` ** you wish to stream to. Thus if you have two traces that you want to plot and stream, you're going to require two unique stream tokens. Notice that more tokens can be added via the settings section of your Plotly profile: https://plot.ly/settings/api"
   ]
  },
  {
   "cell_type": "markdown",
   "metadata": {},
   "source": [
    "![](https://cloud.githubusercontent.com/assets/12302455/15023505/bb729d8c-11fe-11e6-87a6-332ff9dfad2d.png)"
   ]
  },
  {
   "cell_type": "markdown",
   "metadata": {},
   "source": [
    "Now in the same way that you set your credentials, as shown in [Getting Started](https://plot.ly/python/getting-started/), you can add stream tokens to your credentials file. "
   ]
  },
  {
   "cell_type": "code",
   "execution_count": 3,
   "metadata": {
    "collapsed": false
   },
   "outputs": [
    {
     "name": "stdout",
     "output_type": "stream",
     "text": [
      "[u'a3yx8ev3pg', u'2w50b45d0z', u'cew1sbgo4s', u'nhlxf6ig3d', u'n9s75hv9ic', u'96kd717ava', u'v6f5oeb8ut', u'4lm5a0gsr8', u'0xhh453c6m']\n"
     ]
    }
   ],
   "source": [
    "stream_ids = tls.get_credentials_file()['stream_ids']\n",
    "print stream_ids"
   ]
  },
  {
   "cell_type": "markdown",
   "metadata": {},
   "source": [
    "You'll see that `stream_ids` will contain a list of the stream tokens we added to the credentials file. "
   ]
  },
  {
   "cell_type": "markdown",
   "metadata": {},
   "source": [
    "#### An Example to Get You Started"
   ]
  },
  {
   "cell_type": "markdown",
   "metadata": {},
   "source": [
    "Now that you have some stream tokens to play with, we're going to go over how we're going to put these into action. \n",
    "There are two main objects that will be created and used for streaming:\n",
    "- Stream Id Object\n",
    "- Stream link Object\n",
    "\n",
    "We're going to look at these objects sequentially as we work through our first streaming example. For our first example, we're going to be streaming random data to a single scatter trace, and get something that behaves like the following:\n",
    "\n",
    "![](https://cloud.githubusercontent.com/assets/12302455/14826664/e7d59c56-0bac-11e6-953e-e215410f3f03.png)"
   ]
  },
  {
   "cell_type": "markdown",
   "metadata": {},
   "source": [
    "##### Stream Id Object"
   ]
  },
  {
   "cell_type": "markdown",
   "metadata": {},
   "source": [
    "The `Stream Id Object` comes bundled in the `graph_objs` package. We can then call help to see the description of this object:"
   ]
  },
  {
   "cell_type": "code",
   "execution_count": 4,
   "metadata": {
    "collapsed": false
   },
   "outputs": [
    {
     "name": "stdout",
     "output_type": "stream",
     "text": [
      "Help on class Stream in module plotly.graph_objs.graph_objs:\n",
      "\n",
      "class Stream(PlotlyDict)\n",
      " |  Valid attributes for 'stream' at path [] under parents ():\n",
      " |  \n",
      " |      ['token', 'maxpoints']\n",
      " |  \n",
      " |  Run `<stream-object>.help('attribute')` on any of the above.\n",
      " |  '<stream-object>' is the object at []\n",
      " |  \n",
      " |  Method resolution order:\n",
      " |      Stream\n",
      " |      PlotlyDict\n",
      " |      __builtin__.dict\n",
      " |      PlotlyBase\n",
      " |      __builtin__.object\n",
      " |  \n",
      " |  Methods inherited from PlotlyDict:\n",
      " |  \n",
      " |  __copy__(self)\n",
      " |  \n",
      " |  __deepcopy__(self, memodict={})\n",
      " |  \n",
      " |  __dir__(self)\n",
      " |      Dynamically return the existing and possible attributes.\n",
      " |  \n",
      " |  __getattr__(self, key)\n",
      " |      Python only calls this when key is missing!\n",
      " |  \n",
      " |  __getitem__(self, key)\n",
      " |      Calls __missing__ when key is not found. May mutate object.\n",
      " |  \n",
      " |  __init__(self, *args, **kwargs)\n",
      " |  \n",
      " |  __missing__(self, key)\n",
      " |      Mimics defaultdict. This is called from __getitem__ when key DNE.\n",
      " |  \n",
      " |  __setattr__(self, key, value)\n",
      " |      Maps __setattr__ onto __setitem__\n",
      " |  \n",
      " |  __setitem__(self, key, value, _raise=True)\n",
      " |      Validates/Converts values which should be Graph Objects.\n",
      " |  \n",
      " |  force_clean(self, **kwargs)\n",
      " |      Recursively remove empty/None values.\n",
      " |  \n",
      " |  get_data(self, flatten=False)\n",
      " |      Returns the JSON for the plot with non-data elements stripped.\n",
      " |  \n",
      " |  get_ordered(self, **kwargs)\n",
      " |      Return a predictable, OrderedDict version of self.\n",
      " |  \n",
      " |  help(self, attribute=None, return_help=False)\n",
      " |      Print help string for this object or an attribute of this object.\n",
      " |      \n",
      " |      :param (str) attribute: A valid attribute string for this object.\n",
      " |      :param (bool) return_help: Return help_string instead of printing it?\n",
      " |      :return: (None|str)\n",
      " |  \n",
      " |  strip_style(self)\n",
      " |      Recursively strip style from the current representation.\n",
      " |      \n",
      " |      All PlotlyDicts and PlotlyLists are guaranteed to survive the\n",
      " |      stripping process, though they made be left empty. This is allowable.\n",
      " |      \n",
      " |      Keys that will be stripped in this process are tagged with\n",
      " |      `'type': 'style'` in graph_objs_meta.json. Note that a key tagged as\n",
      " |      style, but with an array as a value may still be considered data.\n",
      " |  \n",
      " |  to_string(self, level=0, indent=4, eol='\\n', pretty=True, max_chars=80)\n",
      " |      Returns a formatted string showing graph_obj constructors.\n",
      " |      \n",
      " |      :param (int) level: The number of indentations to start with.\n",
      " |      :param (int) indent: The indentation amount.\n",
      " |      :param (str) eol: The end of line character(s).\n",
      " |      :param (bool) pretty: Curtail long list output with a '..' ?\n",
      " |      :param (int) max_chars: The max characters per line.\n",
      " |      \n",
      " |      Example:\n",
      " |      \n",
      " |          print(obj.to_string())\n",
      " |  \n",
      " |  update(self, dict1=None, **dict2)\n",
      " |      Update current dict with dict1 and then dict2.\n",
      " |      \n",
      " |      This recursively updates the structure of the original dictionary-like\n",
      " |      object with the new entries in the second and third objects. This\n",
      " |      allows users to update with large, nested structures.\n",
      " |      \n",
      " |      Note, because the dict2 packs up all the keyword arguments, you can\n",
      " |      specify the changes as a list of keyword agruments.\n",
      " |      \n",
      " |      Examples:\n",
      " |      # update with dict\n",
      " |      obj = Layout(title='my title', xaxis=XAxis(range=[0,1], domain=[0,1]))\n",
      " |      update_dict = dict(title='new title', xaxis=dict(domain=[0,.8]))\n",
      " |      obj.update(update_dict)\n",
      " |      obj\n",
      " |      {'title': 'new title', 'xaxis': {'range': [0,1], 'domain': [0,.8]}}\n",
      " |      \n",
      " |      # update with list of keyword arguments\n",
      " |      obj = Layout(title='my title', xaxis=XAxis(range=[0,1], domain=[0,1]))\n",
      " |      obj.update(title='new title', xaxis=dict(domain=[0,.8]))\n",
      " |      obj\n",
      " |      {'title': 'new title', 'xaxis': {'range': [0,1], 'domain': [0,.8]}}\n",
      " |      \n",
      " |      This 'fully' supports duck-typing in that the call signature is\n",
      " |      identical, however this differs slightly from the normal update\n",
      " |      method provided by Python's dictionaries.\n",
      " |  \n",
      " |  ----------------------------------------------------------------------\n",
      " |  Data descriptors inherited from PlotlyDict:\n",
      " |  \n",
      " |  __dict__\n",
      " |      dictionary for instance variables (if defined)\n",
      " |  \n",
      " |  __weakref__\n",
      " |      list of weak references to the object (if defined)\n",
      " |  \n",
      " |  ----------------------------------------------------------------------\n",
      " |  Methods inherited from __builtin__.dict:\n",
      " |  \n",
      " |  __cmp__(...)\n",
      " |      x.__cmp__(y) <==> cmp(x,y)\n",
      " |  \n",
      " |  __contains__(...)\n",
      " |      D.__contains__(k) -> True if D has a key k, else False\n",
      " |  \n",
      " |  __delitem__(...)\n",
      " |      x.__delitem__(y) <==> del x[y]\n",
      " |  \n",
      " |  __eq__(...)\n",
      " |      x.__eq__(y) <==> x==y\n",
      " |  \n",
      " |  __ge__(...)\n",
      " |      x.__ge__(y) <==> x>=y\n",
      " |  \n",
      " |  __getattribute__(...)\n",
      " |      x.__getattribute__('name') <==> x.name\n",
      " |  \n",
      " |  __gt__(...)\n",
      " |      x.__gt__(y) <==> x>y\n",
      " |  \n",
      " |  __iter__(...)\n",
      " |      x.__iter__() <==> iter(x)\n",
      " |  \n",
      " |  __le__(...)\n",
      " |      x.__le__(y) <==> x<=y\n",
      " |  \n",
      " |  __len__(...)\n",
      " |      x.__len__() <==> len(x)\n",
      " |  \n",
      " |  __lt__(...)\n",
      " |      x.__lt__(y) <==> x<y\n",
      " |  \n",
      " |  __ne__(...)\n",
      " |      x.__ne__(y) <==> x!=y\n",
      " |  \n",
      " |  __repr__(...)\n",
      " |      x.__repr__() <==> repr(x)\n",
      " |  \n",
      " |  __sizeof__(...)\n",
      " |      D.__sizeof__() -> size of D in memory, in bytes\n",
      " |  \n",
      " |  clear(...)\n",
      " |      D.clear() -> None.  Remove all items from D.\n",
      " |  \n",
      " |  copy(...)\n",
      " |      D.copy() -> a shallow copy of D\n",
      " |  \n",
      " |  fromkeys(...)\n",
      " |      dict.fromkeys(S[,v]) -> New dict with keys from S and values equal to v.\n",
      " |      v defaults to None.\n",
      " |  \n",
      " |  get(...)\n",
      " |      D.get(k[,d]) -> D[k] if k in D, else d.  d defaults to None.\n",
      " |  \n",
      " |  has_key(...)\n",
      " |      D.has_key(k) -> True if D has a key k, else False\n",
      " |  \n",
      " |  items(...)\n",
      " |      D.items() -> list of D's (key, value) pairs, as 2-tuples\n",
      " |  \n",
      " |  iteritems(...)\n",
      " |      D.iteritems() -> an iterator over the (key, value) items of D\n",
      " |  \n",
      " |  iterkeys(...)\n",
      " |      D.iterkeys() -> an iterator over the keys of D\n",
      " |  \n",
      " |  itervalues(...)\n",
      " |      D.itervalues() -> an iterator over the values of D\n",
      " |  \n",
      " |  keys(...)\n",
      " |      D.keys() -> list of D's keys\n",
      " |  \n",
      " |  pop(...)\n",
      " |      D.pop(k[,d]) -> v, remove specified key and return the corresponding value.\n",
      " |      If key is not found, d is returned if given, otherwise KeyError is raised\n",
      " |  \n",
      " |  popitem(...)\n",
      " |      D.popitem() -> (k, v), remove and return some (key, value) pair as a\n",
      " |      2-tuple; but raise KeyError if D is empty.\n",
      " |  \n",
      " |  setdefault(...)\n",
      " |      D.setdefault(k[,d]) -> D.get(k,d), also set D[k]=d if k not in D\n",
      " |  \n",
      " |  values(...)\n",
      " |      D.values() -> list of D's values\n",
      " |  \n",
      " |  viewitems(...)\n",
      " |      D.viewitems() -> a set-like object providing a view on D's items\n",
      " |  \n",
      " |  viewkeys(...)\n",
      " |      D.viewkeys() -> a set-like object providing a view on D's keys\n",
      " |  \n",
      " |  viewvalues(...)\n",
      " |      D.viewvalues() -> an object providing a view on D's values\n",
      " |  \n",
      " |  ----------------------------------------------------------------------\n",
      " |  Data and other attributes inherited from __builtin__.dict:\n",
      " |  \n",
      " |  __hash__ = None\n",
      " |  \n",
      " |  __new__ = <built-in method __new__ of type object>\n",
      " |      T.__new__(S, ...) -> a new object with type S, a subtype of T\n",
      " |  \n",
      " |  ----------------------------------------------------------------------\n",
      " |  Methods inherited from PlotlyBase:\n",
      " |  \n",
      " |  to_graph_objs(self, **kwargs)\n",
      " |      Everything is cast into graph_objs. Here for backwards compat.\n",
      " |  \n",
      " |  validate(self)\n",
      " |      Everything is *always* validated now. keep for backwards compat.\n",
      "\n"
     ]
    }
   ],
   "source": [
    "help(go.Stream)"
   ]
  },
  {
   "cell_type": "markdown",
   "metadata": {},
   "source": [
    "As we can see, the `Stream Id Object` is a dictionary-like object that takes two parameters, and has all the methods that are assoicated with dictionaries. \n",
    "We will need one of these objects for each of trace that we wish to stream data to. \n",
    "We'll now create a single stream token for our streaming example, which will include one scatter trace."
   ]
  },
  {
   "cell_type": "code",
   "execution_count": 5,
   "metadata": {
    "collapsed": false
   },
   "outputs": [],
   "source": [
    "# Get stream id from stream id list \n",
    "stream_id = stream_ids[0]\n",
    "\n",
    "# Make instance of stream id object \n",
    "stream_1 = go.Stream(\n",
    "    token=stream_id,  # link stream id to 'token' key\n",
    "    maxpoints=80      # keep a max of 80 pts on screen\n",
    ")"
   ]
  },
  {
   "cell_type": "markdown",
   "metadata": {},
   "source": [
    "The `'maxpoints'` key sets the maxiumum number of points to keep on the plotting surface at any given time.\n",
    "More over, if you want to avoid the use of these `Stream Id Objects`, you can just create a dictionary with at least the token parameter defined, for example:"
   ]
  },
  {
   "cell_type": "code",
   "execution_count": 6,
   "metadata": {
    "collapsed": false
   },
   "outputs": [],
   "source": [
    "stream_1 = dict(token=stream_id, maxpoints=60)"
   ]
  },
  {
   "cell_type": "markdown",
   "metadata": {},
   "source": [
    "Now that we have our `Stream Id Object` ready to go, we can set up our plot. We do this in the same way that we would any other plot, the only thing is that we now have to set the stream parameter in our trace object."
   ]
  },
  {
   "cell_type": "code",
   "execution_count": 7,
   "metadata": {
    "collapsed": false
   },
   "outputs": [],
   "source": [
    "# Initialize trace of streaming plot by embedding the unique stream_id\n",
    "trace1 = go.Scatter(\n",
    "    x=[],\n",
    "    y=[],\n",
    "    mode='lines+markers',\n",
    "    stream=stream_1         # (!) embed stream id, 1 per trace\n",
    ")\n",
    "\n",
    "data = go.Data([trace1])"
   ]
  },
  {
   "cell_type": "markdown",
   "metadata": {},
   "source": [
    "Then, add a title to the layout object and initialize your Plotly streaming plot:"
   ]
  },
  {
   "cell_type": "code",
   "execution_count": 9,
   "metadata": {
    "collapsed": false
   },
   "outputs": [
    {
     "data": {
      "text/html": [
       "<iframe id=\"igraph\" scrolling=\"no\" style=\"border:none;\" seamless=\"seamless\" src=\"https://plot.ly/~demo_account/22.embed\" height=\"525px\" width=\"100%\"></iframe>"
      ],
      "text/plain": [
       "<plotly.tools.PlotlyDisplay object>"
      ]
     },
     "execution_count": 9,
     "metadata": {},
     "output_type": "execute_result"
    }
   ],
   "source": [
    "# Add title to layout object\n",
    "layout = go.Layout(title='Time Series')\n",
    "\n",
    "# Make a figure object\n",
    "fig = go.Figure(data=data, layout=layout)\n",
    "\n",
    "# Send fig to Plotly, initialize streaming plot, open new tab\n",
    "py.iplot(fig, filename='python-streaming')"
   ]
  },
  {
   "cell_type": "markdown",
   "metadata": {},
   "source": [
    "#### Stream Link Object"
   ]
  },
  {
   "cell_type": "markdown",
   "metadata": {},
   "source": [
    "The Stream Link Object is what will be used to communicate with the Plotly server in order to update the data contained in your trace objects. This object is in the `plotly.plotly` object, an can be reference with `py.Stream`"
   ]
  },
  {
   "cell_type": "code",
   "execution_count": 10,
   "metadata": {
    "collapsed": false
   },
   "outputs": [
    {
     "name": "stdout",
     "output_type": "stream",
     "text": [
      "Help on class Stream in module plotly.plotly.plotly:\n",
      "\n",
      "class Stream\n",
      " |  Interface to Plotly's real-time graphing API.\n",
      " |  \n",
      " |  Initialize a Stream object with a stream_id\n",
      " |  found in https://plot.ly/settings.\n",
      " |  Real-time graphs are initialized with a call to `plot` that embeds\n",
      " |  your unique `stream_id`s in each of the graph's traces. The `Stream`\n",
      " |  interface plots data to these traces, as identified with the unique\n",
      " |  stream_id, in real-time.\n",
      " |  Every viewer of the graph sees the same data at the same time.\n",
      " |  \n",
      " |  View examples and tutorials here:\n",
      " |  https://plot.ly/python/streaming/\n",
      " |  \n",
      " |  Stream example:\n",
      " |  # Initialize a streaming graph\n",
      " |  # by embedding stream_id's in the graph's traces\n",
      " |  import plotly.plotly as py\n",
      " |  from plotly.graph_objs import Data, Scatter, Stream\n",
      " |  stream_id = \"your_stream_id\" # See https://plot.ly/settings\n",
      " |  py.plot(Data([Scatter(x=[], y=[],\n",
      " |                        stream=Stream(token=stream_id, maxpoints=100))]))\n",
      " |  # Stream data to the import trace\n",
      " |  stream = Stream(stream_id) # Initialize a stream object\n",
      " |  stream.open() # Open the stream\n",
      " |  stream.write(dict(x=1, y=1)) # Plot (1, 1) in your graph\n",
      " |  \n",
      " |  Methods defined here:\n",
      " |  \n",
      " |  __init__(self, stream_id)\n",
      " |      Initialize a Stream object with your unique stream_id.\n",
      " |      Find your stream_id at https://plot.ly/settings.\n",
      " |      \n",
      " |      For more help, see: `help(plotly.plotly.Stream)`\n",
      " |      or see examples and tutorials here:\n",
      " |      https://plot.ly/python/streaming/\n",
      " |  \n",
      " |  close(self)\n",
      " |      Close the stream connection to plotly's streaming servers.\n",
      " |      \n",
      " |      For more help, see: `help(plotly.plotly.Stream)`\n",
      " |      or see examples and tutorials here:\n",
      " |      https://plot.ly/python/streaming/\n",
      " |  \n",
      " |  heartbeat(self, reconnect_on=(200, '', 408))\n",
      " |      Keep stream alive. Streams will close after ~1 min of inactivity.\n",
      " |      \n",
      " |      If the interval between stream writes is > 30 seconds, you should\n",
      " |      consider adding a heartbeat between your stream.write() calls like so:\n",
      " |      >>> stream.heartbeat()\n",
      " |  \n",
      " |  open(self)\n",
      " |      Open streaming connection to plotly.\n",
      " |      \n",
      " |      For more help, see: `help(plotly.plotly.Stream)`\n",
      " |      or see examples and tutorials here:\n",
      " |      https://plot.ly/python/streaming/\n",
      " |  \n",
      " |  write(self, trace, layout=None, validate=True, reconnect_on=(200, '', 408))\n",
      " |      Write to an open stream.\n",
      " |      \n",
      " |      Once you've instantiated a 'Stream' object with a 'stream_id',\n",
      " |      you can 'write' to it in real time.\n",
      " |      \n",
      " |      positional arguments:\n",
      " |      trace - A valid plotly trace object (e.g., Scatter, Heatmap, etc.).\n",
      " |              Not all keys in these are `stremable` run help(Obj) on the type\n",
      " |              of trace your trying to stream, for each valid key, if the key\n",
      " |              is streamable, it will say 'streamable = True'. Trace objects\n",
      " |              must be dictionary-like.\n",
      " |      \n",
      " |      keyword arguments:\n",
      " |      layout (default=None) - A valid Layout object\n",
      " |                              Run help(plotly.graph_objs.Layout)\n",
      " |      validate (default = True) - Validate this stream before sending?\n",
      " |                                  This will catch local errors if set to\n",
      " |                                  True.\n",
      " |      \n",
      " |      Some valid keys for trace dictionaries:\n",
      " |          'x', 'y', 'text', 'z', 'marker', 'line'\n",
      " |      \n",
      " |      Examples:\n",
      " |      >>> write(dict(x=1, y=2))  # assumes 'scatter' type\n",
      " |      >>> write(Bar(x=[1, 2, 3], y=[10, 20, 30]))\n",
      " |      >>> write(Scatter(x=1, y=2, text='scatter text'))\n",
      " |      >>> write(Scatter(x=1, y=3, marker=Marker(color='blue')))\n",
      " |      >>> write(Heatmap(z=[[1, 2, 3], [4, 5, 6]]))\n",
      " |      \n",
      " |      The connection to plotly's servers is checked before writing\n",
      " |      and reconnected if disconnected and if the response status code\n",
      " |      is in `reconnect_on`.\n",
      " |      \n",
      " |      For more help, see: `help(plotly.plotly.Stream)`\n",
      " |      or see examples and tutorials here:\n",
      " |      http://nbviewer.ipython.org/github/plotly/python-user-guide/blob/master/s7_streaming/s7_streaming.ipynb\n",
      "\n"
     ]
    }
   ],
   "source": [
    "help(py.Stream)  # run help() of the Stream link object"
   ]
  },
  {
   "cell_type": "markdown",
   "metadata": {},
   "source": [
    "You're going to need to set up one of these stream link objects for each trace you wish to stream data to. \n",
    "<br>Below we'll set one up for the scatter trace we have in our plot. "
   ]
  },
  {
   "cell_type": "code",
   "execution_count": 11,
   "metadata": {
    "collapsed": false
   },
   "outputs": [],
   "source": [
    "# We will provide the stream link object the same token that's associated with the trace we wish to stream to\n",
    "s = py.Stream(stream_id)\n",
    "\n",
    "# We then open a connection\n",
    "s.open()"
   ]
  },
  {
   "cell_type": "markdown",
   "metadata": {},
   "source": [
    "We can now use the Stream Link object `s` in order to `stream` data to our plot. \n",
    "<br>As an example, we will send a time stream and some random numbers:"
   ]
  },
  {
   "cell_type": "code",
   "execution_count": 49,
   "metadata": {
    "collapsed": false
   },
   "outputs": [],
   "source": [
    "# (*) Import module keep track and format current time\n",
    "import datetime \n",
    "import time   \n",
    " \n",
    "i = 0    # a counter\n",
    "k = 5    # some shape parameter\n",
    "\n",
    "# Delay start of stream by 5 sec (time to switch tabs)\n",
    "time.sleep(5) \n",
    "\n",
    "while True:\n",
    "    \n",
    "    # Current time on x-axis, random numbers on y-axis\n",
    "    x = datetime.datetime.now().strftime('%Y-%m-%d %H:%M:%S.%f')\n",
    "    y = (np.cos(k*i/50.)*np.cos(i/50.)+np.random.randn(1))[0] \n",
    "        \n",
    "    # Send data to your plot\n",
    "    s.write(dict(x=x, y=y))  \n",
    "    \n",
    "    #     Write numbers to stream to append current data on plot,\n",
    "    #     write lists to overwrite existing data on plot\n",
    "            \n",
    "    time.sleep(1)  # plot a point every second    \n",
    "# Close the stream when done plotting\n",
    "s.close() "
   ]
  },
  {
   "cell_type": "markdown",
   "metadata": {},
   "source": [
    "Below you can see an example of the same plot, but streaming indefinitely instead of just 200 points. \n",
    "<br>Note that the time points correspond to the internal clock on the servers, which is in UTC time."
   ]
  },
  {
   "cell_type": "code",
   "execution_count": 12,
   "metadata": {
    "collapsed": false
   },
   "outputs": [
    {
     "data": {
      "text/html": [
       "<iframe id=\"igraph\" scrolling=\"no\" style=\"border:none;\" seamless=\"seamless\" src=\"https://plot.ly/~streaming-demos/12.embed\" height=\"525\" width=\"100%\"></iframe>"
      ],
      "text/plain": [
       "<plotly.tools.PlotlyDisplay object>"
      ]
     },
     "execution_count": 12,
     "metadata": {},
     "output_type": "execute_result"
    }
   ],
   "source": [
    "# Embed never-ending time series streaming plot\n",
    "tls.embed('streaming-demos','12')"
   ]
  },
  {
   "cell_type": "markdown",
   "metadata": {},
   "source": [
    "Anyone can view your streaming graph in real-time. All viewers will see the same data simultaneously (try it! Open up this notebook up in two different browser windows and observer\n",
    "that the graphs are plotting identical data!)."
   ]
  },
  {
   "cell_type": "markdown",
   "metadata": {},
   "source": [
    "#### Summmary"
   ]
  },
  {
   "cell_type": "markdown",
   "metadata": {},
   "source": [
    "In summary, these are the steps required in order to start streaming to a trace object:\n",
    "\n",
    "1. Make a `stream id object` (`Stream` in the `plotly.graph_objs` module) containing the `streaming token`(which is found in the **settings** of your Plotly account) and the maximum number of points to be keep on screen (which is optional).\n",
    "2. Provide the `stream id object` as the key value for the `stream` attribute in your trace object. \n",
    "3. Make a `stream link object` (`py.Stream`) containing the same stream token as the `stream id object` and open the stream with the `.open()` method.\n",
    "4. Write data to the plot/your trace with the `.write()` method. When done, close the stream with the `.close()` method.\n"
   ]
  },
  {
   "cell_type": "markdown",
   "metadata": {},
   "source": []
  },
  {
   "cell_type": "code",
   "execution_count": 1,
   "metadata": {
    "collapsed": false
   },
   "outputs": [
    {
     "data": {
      "text/html": [
       "<link href=\"//fonts.googleapis.com/css?family=Open+Sans:600,400,300,200|Inconsolata|Ubuntu+Mono:400,700\" rel=\"stylesheet\" type=\"text/css\" />"
      ],
      "text/plain": [
       "<IPython.core.display.HTML object>"
      ]
     },
     "metadata": {},
     "output_type": "display_data"
    },
    {
     "data": {
      "text/html": [
       "<link rel=\"stylesheet\" type=\"text/css\" href=\"http://help.plot.ly/documentation/all_static/css/ipython-notebook-custom.css\">"
      ],
      "text/plain": [
       "<IPython.core.display.HTML object>"
      ]
     },
     "metadata": {},
     "output_type": "display_data"
    },
    {
     "name": "stderr",
     "output_type": "stream",
     "text": [
      "/Users/brandendunbar/Desktop/test/venv/lib/python2.7/site-packages/IPython/nbconvert.py:13: ShimWarning: The `IPython.nbconvert` package has been deprecated. You should import from nbconvert instead.\n",
      "  \"You should import from nbconvert instead.\", ShimWarning)\n",
      "/Users/brandendunbar/Desktop/test/venv/lib/python2.7/site-packages/publisher/publisher.py:53: UserWarning: Did you \"Save\" this notebook before running this command? Remember to save, always save.\n",
      "  warnings.warn('Did you \"Save\" this notebook before running this command? '\n",
      "/Users/brandendunbar/Desktop/test/venv/lib/python2.7/site-packages/publisher/publisher.py:58: UserWarning: Your URL has more than 2 parts... are you sure?\n",
      "  warnings.warn('Your URL has more than 2 parts... are you sure?')\n"
     ]
    }
   ],
   "source": [
    "from IPython.display import display, HTML\n",
    "\n",
    "display(HTML('<link href=\"//fonts.googleapis.com/css?family=Open+Sans:600,400,300,200|Inconsolata|Ubuntu+Mono:400,700\" rel=\"stylesheet\" type=\"text/css\" />'))\n",
    "display(HTML('<link rel=\"stylesheet\" type=\"text/css\" href=\"http://help.plot.ly/documentation/all_static/css/ipython-notebook-custom.css\">'))\n",
    "\n",
    "import publisher\n",
    "publisher.publish(\n",
    "    'python_streaming', 'python/streaming-tutorial//', 'Getting Started with Plotly Streaming',\n",
    "    'Getting Started with Plotly Streaming', name='Getting Started with Streaming',\n",
    "    title = 'Getting Started with Plotly Streaming',\n",
    "    redirect_from = 'python/streaming-line-tutorial/',\n",
    "    thumbnail='thumbnail/streaming-thumb-square.gif', language='python',\n",
    "    layout='user-guide', has_thumbnail='true',\n",
    "    ipynb= '~notebook_demo/80') "
   ]
  },
  {
   "cell_type": "code",
   "execution_count": null,
   "metadata": {
    "collapsed": true
   },
   "outputs": [],
   "source": []
  }
 ],
 "metadata": {
  "anaconda-cloud": {},
  "kernelspec": {
   "display_name": "Python 2",
   "language": "python",
   "name": "python2"
  },
  "language_info": {
   "codemirror_mode": {
    "name": "ipython",
    "version": 2
   },
   "file_extension": ".py",
   "mimetype": "text/x-python",
   "name": "python",
   "nbconvert_exporter": "python",
   "pygments_lexer": "ipython2",
   "version": "2.7.10"
  }
 },
 "nbformat": 4,
 "nbformat_minor": 0
}
