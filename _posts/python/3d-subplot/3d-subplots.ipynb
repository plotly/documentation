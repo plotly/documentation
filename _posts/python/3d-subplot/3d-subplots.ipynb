{
 "cells": [
  {
   "cell_type": "markdown",
   "metadata": {},
   "source": [
    "#### 3D Surface Subplots"
   ]
  },
  {
   "cell_type": "code",
   "execution_count": 2,
   "metadata": {
    "collapsed": false
   },
   "outputs": [
    {
     "name": "stdout",
     "output_type": "stream",
     "text": [
      "This is the format of your plot grid:\n",
      "[ (1,1) scene1 ]  [ (1,2) scene2 ]\n",
      "[ (2,1) scene3 ]  [ (2,2) scene4 ]\n",
      "\n"
     ]
    },
    {
     "data": {
      "text/html": [
       "<iframe id=\"igraph\" scrolling=\"no\" style=\"border:none;\" seamless=\"seamless\" src=\"https://plot.ly/~demo_account/90.embed\" height=\"800px\" width=\"800px\"></iframe>"
      ],
      "text/plain": [
       "<plotly.tools.PlotlyDisplay object>"
      ]
     },
     "execution_count": 2,
     "metadata": {},
     "output_type": "execute_result"
    }
   ],
   "source": [
    "import plotly.plotly as py\n",
    "import plotly.graph_objs as go\n",
    "from plotly import tools\n",
    "\n",
    "import numpy as np\n",
    "\n",
    "x = np.linspace(-5, 80, 10)\n",
    "y = np.linspace(-5, 60, 10)\n",
    "xGrid, yGrid = np.meshgrid(y, x)\n",
    "z = xGrid ** 3 + yGrid ** 3\n",
    "\n",
    "scene = dict(\n",
    "    xaxis=dict(\n",
    "        gridcolor='rgb(255, 255, 255)',\n",
    "        zerolinecolor='rgb(255, 255, 255)',\n",
    "        showbackground=True,\n",
    "        backgroundcolor='rgb(230, 230,230)'\n",
    "    ),\n",
    "    yaxis=dict(\n",
    "        gridcolor='rgb(255, 255, 255)',\n",
    "        zerolinecolor='rgb(255, 255, 255)',\n",
    "        showbackground=True,\n",
    "        backgroundcolor='rgb(230, 230,230)'\n",
    "    ),\n",
    "    zaxis=dict(\n",
    "        gridcolor='rgb(255, 255, 255)',\n",
    "        zerolinecolor='rgb(255, 255, 255)',\n",
    "        showbackground=True,\n",
    "        backgroundcolor='rgb(230, 230,230)'\n",
    "    )\n",
    ")\n",
    "\n",
    "fig = tools.make_subplots(rows=2, cols=2,\n",
    "                          specs=[[{'is_3d': True}, {'is_3d': True}],\n",
    "                                 [{'is_3d': True}, {'is_3d': True}]])\n",
    "\n",
    "# adding surfaces to subplots.\n",
    "fig.append_trace(dict(type='surface', x=x, y=y, z=z, colorscale='Viridis',\n",
    "                      scene='scene1', showscale=False), 1, 1)\n",
    "fig.append_trace(dict(type='surface', x=x, y=y, z=z, colorscale='RdBu',\n",
    "                      scene='scene2', showscale=False), 1, 2)\n",
    "fig.append_trace(dict(type='surface', x=x, y=y, z=z, colorscale='YIOrRd',\n",
    "                      scene='scene3', showscale=False), 2, 1)\n",
    "fig.append_trace(dict(type='surface', x=x, y=y, z=z, colorscale='YIGnBu',\n",
    "                      scene='scene4', showscale=False), 2, 2)\n",
    "\n",
    "fig['layout'].update(title='subplots with different colorscales',\n",
    "                     height=800, width=800)\n",
    "fig['layout']['scene1'].update(scene)\n",
    "fig['layout']['scene2'].update(scene)\n",
    "fig['layout']['scene3'].update(scene)\n",
    "fig['layout']['scene4'].update(scene)\n",
    "\n",
    "\n",
    "py.iplot(fig, file_name='multiple_plots')\n"
   ]
  },
  {
   "cell_type": "markdown",
   "metadata": {},
   "source": [
    "#### Reference"
   ]
  },
  {
   "cell_type": "markdown",
   "metadata": {},
   "source": [
    "See https://plot.ly/python/subplots/ for more information regarding subplots!"
   ]
  },
  {
   "cell_type": "code",
   "execution_count": 6,
   "metadata": {
    "collapsed": false
   },
   "outputs": [
    {
     "data": {
      "text/html": [
       "<link href=\"//fonts.googleapis.com/css?family=Open+Sans:600,400,300,200|Inconsolata|Ubuntu+Mono:400,700\" rel=\"stylesheet\" type=\"text/css\" />"
      ],
      "text/plain": [
       "<IPython.core.display.HTML object>"
      ]
     },
     "metadata": {},
     "output_type": "display_data"
    },
    {
     "data": {
      "text/html": [
       "<link rel=\"stylesheet\" type=\"text/css\" href=\"http://help.plot.ly/documentation/all_static/css/ipython-notebook-custom.css\">"
      ],
      "text/plain": [
       "<IPython.core.display.HTML object>"
      ]
     },
     "metadata": {},
     "output_type": "display_data"
    },
    {
     "name": "stdout",
     "output_type": "stream",
     "text": [
      "Collecting git+https://github.com/plotly/publisher.git\n",
      "  Cloning https://github.com/plotly/publisher.git to /var/folders/j3/gt_q6y096cjfts4q8zq2dm2c0000gn/T/pip-ACanws-build\n",
      "Installing collected packages: publisher\n",
      "  Found existing installation: publisher 0.10\n",
      "    Uninstalling publisher-0.10:\n",
      "      Successfully uninstalled publisher-0.10\n",
      "  Running setup.py install for publisher\n",
      "Successfully installed publisher-0.10\n"
     ]
    }
   ],
   "source": [
    "from IPython.display import display, HTML\n",
    "\n",
    "display(HTML('<link href=\"//fonts.googleapis.com/css?family=Open+Sans:600,400,300,200|Inconsolata|Ubuntu+Mono:400,700\" rel=\"stylesheet\" type=\"text/css\" />'))\n",
    "display(HTML('<link rel=\"stylesheet\" type=\"text/css\" href=\"http://help.plot.ly/documentation/all_static/css/ipython-notebook-custom.css\">'))\n",
    "\n",
    "! pip install git+https://github.com/plotly/publisher.git --upgrade\n",
    "    \n",
    "import publisher\n",
    "publisher.publish(\n",
    "    '3d-subplots.ipynb', 'python/3d-subplots/', 'Python 3D Subplots | plotly',\n",
    "    'How to make 3D Subplots in Plotly',\n",
    "    title= '3D Subplots in Python | plotly',\n",
    "    name = 'How to make 3D Subplots',\n",
    "    has_thumbnail='true', thumbnail='thumbnail/3d-subplots.jpg', \n",
    "    language='python', page_type='example_index', \n",
    "    display_as='3d_charts', order=13)"
   ]
  },
  {
   "cell_type": "code",
   "execution_count": null,
   "metadata": {
    "collapsed": true
   },
   "outputs": [],
   "source": []
  }
 ],
 "metadata": {
  "kernelspec": {
   "display_name": "Python 2",
   "language": "python",
   "name": "python2"
  },
  "language_info": {
   "codemirror_mode": {
    "name": "ipython",
    "version": 2
   },
   "file_extension": ".py",
   "mimetype": "text/x-python",
   "name": "python",
   "nbconvert_exporter": "python",
   "pygments_lexer": "ipython2",
   "version": "2.7.9"
  }
 },
 "nbformat": 4,
 "nbformat_minor": 0
}
