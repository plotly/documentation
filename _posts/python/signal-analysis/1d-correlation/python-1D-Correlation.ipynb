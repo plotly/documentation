{
 "cells": [
  {
   "cell_type": "markdown",
   "metadata": {},
   "source": [
    "#### New to Plotly?\n",
    "Plotly's Python library is free and open source! [Get started](https://plot.ly/python/getting-started/) by downloading the client and [reading the primer](https://plot.ly/python/getting-started/).\n",
    "<br>You can set up Plotly to work in [online](https://plot.ly/python/getting-started/#initialization-for-online-plotting) or [offline](https://plot.ly/python/getting-started/#initialization-for-offline-plotting) mode, or in [jupyter notebooks](https://plot.ly/python/getting-started/#start-plotting-online).\n",
    "<br>We also have a quick-reference [cheatsheet](https://images.plot.ly/plotly-documentation/images/python_cheat_sheet.pdf) (new!) to help you get started!"
   ]
  },
  {
   "cell_type": "markdown",
   "metadata": {},
   "source": [
    "#### Imports\n",
    "The tutorial below imports [NumPy](http://www.numpy.org/), [Pandas](https://plot.ly/pandas/intro-to-pandas-tutorial/), [SciPy](https://www.scipy.org/) and [Plotly](https://plot.ly/python/getting-started/)."
   ]
  },
  {
   "cell_type": "code",
   "execution_count": 1,
   "metadata": {
    "collapsed": false
   },
   "outputs": [],
   "source": [
    "import plotly.plotly as py\n",
    "import plotly.graph_objs as go\n",
    "\n",
    "import numpy as np\n",
    "import pandas as pd\n",
    "import scipy\n",
    "\n",
    "from scipy import signal"
   ]
  },
  {
   "cell_type": "markdown",
   "metadata": {},
   "source": [
    "#### Correlation Between Saw and Square Wave\n",
    "Similar to convolution, the 1D Cross-Correlation between two functions $f$ and $g$ is a measure of their similarity in terms of the lag of one to another ([source](https://en.wikipedia.org/wiki/Convolution)). Since we are dealing with arrays of data rather than continuous functions, the cross-correlation is mathematically defined as:\n",
    "\n",
    "$$\n",
    "\\begin{align*}\n",
    "(f*g)[n] = \\sum_{m=-\\infty}^{\\infty} f^{*}[m]g[n+m]\n",
    "\\end{align*}\n",
    "$$\n",
    "\n",
    "where $f^*$ is the `complex conjugate` of $f$.\n",
    "\n",
    "To give us an intuitive glance at what this does, let us look at the cross-correlation between a saw wave and a square wave."
   ]
  },
  {
   "cell_type": "code",
   "execution_count": 2,
   "metadata": {
    "collapsed": false,
    "scrolled": false
   },
   "outputs": [
    {
     "data": {
      "text/html": [
       "<iframe id=\"igraph\" scrolling=\"no\" style=\"border:none;\" seamless=\"seamless\" src=\"https://plot.ly/~AdamKulidjian/1082.embed\" height=\"525px\" width=\"100%\"></iframe>"
      ],
      "text/plain": [
       "<plotly.tools.PlotlyDisplay object>"
      ]
     },
     "execution_count": 2,
     "metadata": {},
     "output_type": "execute_result"
    }
   ],
   "source": [
    "x = np.linspace(0, 20, 50)\n",
    "saw_y = signal.sawtooth(t=x)\n",
    "square_y = signal.square(t=x)\n",
    "convolve_y = signal.convolve(saw_y, square_y)\n",
    "\n",
    "trace_saw = go.Scatter(\n",
    "    x = range(len(x)),\n",
    "    y = saw_y,\n",
    "    mode = 'lines',\n",
    "    name = 'Saw',\n",
    "    marker=dict(\n",
    "        color='#57D1C9'\n",
    "    )\n",
    ")\n",
    "\n",
    "trace_square = go.Scatter(\n",
    "    x = range(len(x)),\n",
    "    y = square_y,\n",
    "    mode = 'lines',\n",
    "    name = 'Square',\n",
    "    marker=dict(\n",
    "        color='#ED5485'\n",
    "    )\n",
    ")\n",
    "\n",
    "trace_convolution = go.Scatter(\n",
    "    x = range(len(x)),\n",
    "    y = convolve_y,\n",
    "    mode = 'lines',\n",
    "    name = 'Convolution',\n",
    "    marker=dict(\n",
    "        color='#FFE869'\n",
    "    )\n",
    ")\n",
    "\n",
    "data = [trace_saw, trace_square, trace_convolution]\n",
    "py.iplot(data, filename='1d-convolution-of-saw-and-square')"
   ]
  },
  {
   "cell_type": "markdown",
   "metadata": {},
   "source": [
    "#### Correlation Between Saw and Shifted Saw Wave\n",
    "To compare with the plot above, we can plot a saw wave, a phase shifted saw wave and the convolution between the two to see how they correlate along the axis."
   ]
  },
  {
   "cell_type": "code",
   "execution_count": 3,
   "metadata": {
    "collapsed": false
   },
   "outputs": [
    {
     "data": {
      "text/html": [
       "<iframe id=\"igraph\" scrolling=\"no\" style=\"border:none;\" seamless=\"seamless\" src=\"https://plot.ly/~AdamKulidjian/1084.embed\" height=\"525px\" width=\"100%\"></iframe>"
      ],
      "text/plain": [
       "<plotly.tools.PlotlyDisplay object>"
      ]
     },
     "execution_count": 3,
     "metadata": {},
     "output_type": "execute_result"
    }
   ],
   "source": [
    "x = np.linspace(0, 20, 50)\n",
    "\n",
    "saw_y = signal.sawtooth(t=x)\n",
    "square_y = signal.square(t=x)\n",
    "shifted_saw_y = signal.sawtooth(t=np.linspace(10, 30, 50))\n",
    "convolve_y = signal.convolve(saw_y, shifted_saw_y)\n",
    "\n",
    "trace_saw = go.Scatter(\n",
    "    x = range(len(x)),\n",
    "    y = saw_y,\n",
    "    mode = 'lines',\n",
    "    name = 'Saw',\n",
    "    marker = dict(\n",
    "        color='#FF7844'\n",
    "    ),\n",
    "    opacity = 0.8\n",
    ")\n",
    "\n",
    "trace_shifted_saw = go.Scatter(\n",
    "    x = range(len(x)),\n",
    "    y = shifted_saw_y,\n",
    "    mode = 'lines',\n",
    "    name = 'Shifted Saw',\n",
    "    marker = dict(\n",
    "        color='#A64942'\n",
    "    ),\n",
    "    opacity = 0.8\n",
    ")\n",
    "\n",
    "trace_convolution = go.Scatter(\n",
    "    x = range(len(x)),\n",
    "    y = convolve_y,\n",
    "    mode = 'lines',\n",
    "    name = 'Convolution',\n",
    "    marker = dict(\n",
    "        color='#53354A'\n",
    "    )\n",
    ")\n",
    "\n",
    "data = [trace_saw, trace_shifted_saw, trace_convolution]\n",
    "py.iplot(data, filename='1d-convolution-of-saw-and-shifted-saw')"
   ]
  },
  {
   "cell_type": "code",
   "execution_count": 1,
   "metadata": {
    "collapsed": false
   },
   "outputs": [
    {
     "data": {
      "text/html": [
       "<link href=\"//fonts.googleapis.com/css?family=Open+Sans:600,400,300,200|Inconsolata|Ubuntu+Mono:400,700\" rel=\"stylesheet\" type=\"text/css\" />"
      ],
      "text/plain": [
       "<IPython.core.display.HTML object>"
      ]
     },
     "metadata": {},
     "output_type": "display_data"
    },
    {
     "data": {
      "text/html": [
       "<link rel=\"stylesheet\" type=\"text/css\" href=\"http://help.plot.ly/documentation/all_static/css/ipython-notebook-custom.css\">"
      ],
      "text/plain": [
       "<IPython.core.display.HTML object>"
      ]
     },
     "metadata": {},
     "output_type": "display_data"
    },
    {
     "name": "stdout",
     "output_type": "stream",
     "text": [
      "Collecting git+https://github.com/plotly/publisher.git\n",
      "  Cloning https://github.com/plotly/publisher.git to /private/var/folders/tc/bs9g6vrd36q74m5t8h9cgphh0000gn/T/pip-mQcyd9-build\n",
      "Installing collected packages: publisher\n",
      "  Found existing installation: publisher 0.10\n",
      "    Uninstalling publisher-0.10:\n",
      "      Successfully uninstalled publisher-0.10\n",
      "  Running setup.py install for publisher ... \u001b[?25l-\b \bdone\n",
      "\u001b[?25hSuccessfully installed publisher-0.10\n"
     ]
    },
    {
     "name": "stderr",
     "output_type": "stream",
     "text": [
      "/Library/Frameworks/Python.framework/Versions/2.7/lib/python2.7/site-packages/IPython/nbconvert.py:13: ShimWarning: The `IPython.nbconvert` package has been deprecated. You should import from nbconvert instead.\n",
      "  \"You should import from nbconvert instead.\", ShimWarning)\n",
      "/Library/Frameworks/Python.framework/Versions/2.7/lib/python2.7/site-packages/publisher/publisher.py:53: UserWarning: Did you \"Save\" this notebook before running this command? Remember to save, always save.\n",
      "  warnings.warn('Did you \"Save\" this notebook before running this command? '\n"
     ]
    }
   ],
   "source": [
    "from IPython.display import display, HTML\n",
    "\n",
    "display(HTML('<link href=\"//fonts.googleapis.com/css?family=Open+Sans:600,400,300,200|Inconsolata|Ubuntu+Mono:400,700\" rel=\"stylesheet\" type=\"text/css\" />'))\n",
    "display(HTML('<link rel=\"stylesheet\" type=\"text/css\" href=\"http://help.plot.ly/documentation/all_static/css/ipython-notebook-custom.css\">'))\n",
    "\n",
    "! pip install git+https://github.com/plotly/publisher.git --upgrade\n",
    "import publisher\n",
    "publisher.publish(\n",
    "    'python-1D-Correlation.ipynb', 'python/1d-correlation/', '1D Correlation | plotly',\n",
    "    'Learn how to perform 1 dimensional correlation between two signals in Python.',\n",
    "    title='1D Correlation in Python | plotly',\n",
    "    name='1D Correlation',\n",
    "    language='python',\n",
    "    page_type='example_index', has_thumbnail='false', display_as='signal-analysis', order=5)"
   ]
  },
  {
   "cell_type": "code",
   "execution_count": null,
   "metadata": {
    "collapsed": true
   },
   "outputs": [],
   "source": []
  }
 ],
 "metadata": {
  "kernelspec": {
   "display_name": "Python 2",
   "language": "python",
   "name": "python2"
  },
  "language_info": {
   "codemirror_mode": {
    "name": "ipython",
    "version": 2
   },
   "file_extension": ".py",
   "mimetype": "text/x-python",
   "name": "python",
   "nbconvert_exporter": "python",
   "pygments_lexer": "ipython2",
   "version": "2.7.12"
  }
 },
 "nbformat": 4,
 "nbformat_minor": 0
}
