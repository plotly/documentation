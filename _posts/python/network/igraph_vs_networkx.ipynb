{
 "metadata": {
  "name": "",
  "signature": "sha256:469a163171f163a5b87b3642929790f5fa803bc839baf1b81e8aaec416443052"
 },
 "nbformat": 3,
 "nbformat_minor": 0,
 "worksheets": [
  {
   "cells": [
    {
     "cell_type": "markdown",
     "metadata": {},
     "source": [
      "##Network Graphs with Plotly: igraph vs networkx"
     ]
    },
    {
     "cell_type": "markdown",
     "metadata": {},
     "source": [
      "In this tutorial we plot the same network - the coauthorship network of scientists working on network theory and experiment - first as an igraph.Graph object, with the Kamada-Kawai layout, and then as a networkx.Graph, with the Fruchterman-Reingold layout."
     ]
    },
    {
     "cell_type": "code",
     "collapsed": false,
     "input": [
      "import igraph as ig\n",
      "print ig.__version__"
     ],
     "language": "python",
     "metadata": {},
     "outputs": [
      {
       "output_type": "stream",
       "stream": "stdout",
       "text": [
        "0.7.0\n"
       ]
      }
     ],
     "prompt_number": 1
    },
    {
     "cell_type": "markdown",
     "metadata": {},
     "source": [
      "The graph data are read from a gml file, posted at UC Irvine [Network Data Repository](http://networkdata.ics.uci.edu/data/netscience/netscience.gml):"
     ]
    },
    {
     "cell_type": "code",
     "collapsed": false,
     "input": [
      "G=ig.Graph.Read_GML('netscience.gml.txt')"
     ],
     "language": "python",
     "metadata": {},
     "outputs": [],
     "prompt_number": 2
    },
    {
     "cell_type": "code",
     "collapsed": false,
     "input": [
      "labels=list(G.vs['label'])\n",
      "N=len(labels)\n",
      "N"
     ],
     "language": "python",
     "metadata": {},
     "outputs": [
      {
       "metadata": {},
       "output_type": "pyout",
       "prompt_number": 3,
       "text": [
        "1589"
       ]
      }
     ],
     "prompt_number": 3
    },
    {
     "cell_type": "code",
     "collapsed": false,
     "input": [
      "labels[:10]"
     ],
     "language": "python",
     "metadata": {},
     "outputs": [
      {
       "metadata": {},
       "output_type": "pyout",
       "prompt_number": 4,
       "text": [
        "['ABRAMSON, G',\n",
        " 'KUPERMAN, M',\n",
        " 'ACEBRON, J',\n",
        " 'BONILLA, L',\n",
        " 'PEREZVICENTE, C',\n",
        " 'RITORT, F',\n",
        " 'SPIGLER, R',\n",
        " 'ADAMIC, L',\n",
        " 'ADAR, E',\n",
        " 'HUBERMAN, B']"
       ]
      }
     ],
     "prompt_number": 4
    },
    {
     "cell_type": "code",
     "collapsed": false,
     "input": [
      "E=[e.tuple for e in G.es]# list of edges\n",
      "len(E)"
     ],
     "language": "python",
     "metadata": {},
     "outputs": [
      {
       "metadata": {},
       "output_type": "pyout",
       "prompt_number": 5,
       "text": [
        "2742"
       ]
      }
     ],
     "prompt_number": 5
    },
    {
     "cell_type": "code",
     "collapsed": false,
     "input": [
      "layt=G.layout('kk') #kamada-kawai layout"
     ],
     "language": "python",
     "metadata": {},
     "outputs": [],
     "prompt_number": 6
    },
    {
     "cell_type": "code",
     "collapsed": false,
     "input": [
      "type(layt)"
     ],
     "language": "python",
     "metadata": {},
     "outputs": [
      {
       "metadata": {},
       "output_type": "pyout",
       "prompt_number": 7,
       "text": [
        "igraph.layout.Layout"
       ]
      }
     ],
     "prompt_number": 7
    },
    {
     "cell_type": "code",
     "collapsed": false,
     "input": [
      "layt[:4]"
     ],
     "language": "python",
     "metadata": {},
     "outputs": [
      {
       "metadata": {},
       "output_type": "pyout",
       "prompt_number": 8,
       "text": [
        "[[21.515380608903392, -9.753459199151248],\n",
        " [20.577460782521197, -9.577655398645621],\n",
        " [12.827809461340282, -14.362582273045897],\n",
        " [12.460361108680654, -13.770421725632747]]"
       ]
      }
     ],
     "prompt_number": 8
    },
    {
     "cell_type": "code",
     "collapsed": false,
     "input": [
      "import plotly.plotly as py\n",
      "from plotly.graph_objs import *"
     ],
     "language": "python",
     "metadata": {},
     "outputs": [],
     "prompt_number": 9
    },
    {
     "cell_type": "markdown",
     "metadata": {},
     "source": [
      "Define data for the Plotly plot:"
     ]
    },
    {
     "cell_type": "code",
     "collapsed": false,
     "input": [
      "Xn=[layt[k][0] for k in range(N)]\n",
      "Yn=[layt[k][1] for k in range(N)]\n",
      "Xe=[]\n",
      "Ye=[]\n",
      "for e in E:\n",
      "    Xe+=[layt[e[0]][0],layt[e[1]][0], None]\n",
      "    Ye+=[layt[e[0]][1],layt[e[1]][1], None] \n",
      "    \n",
      "trace1=Scatter(x=Xe,\n",
      "               y=Ye,\n",
      "               mode='lines',\n",
      "               line=Line(color='rgb(210,210,210)', width=1),\n",
      "               hoverinfo='none'\n",
      "               )\n",
      "trace2=Scatter(x=Xn,\n",
      "               y=Yn,\n",
      "               mode='markers',\n",
      "               name='ntw',\n",
      "               marker=Marker(symbol='dot',\n",
      "                             size=5, \n",
      "                             color='#6959CD',\n",
      "                             line=Line(color='rgb(50,50,50)', width=0.5)\n",
      "                             ),\n",
      "               text=labels,\n",
      "               hoverinfo='text'\n",
      "               )"
     ],
     "language": "python",
     "metadata": {},
     "outputs": [],
     "prompt_number": 10
    },
    {
     "cell_type": "markdown",
     "metadata": {},
     "source": [
      "Set the plot layout (don't confuse with graph layout!!!):"
     ]
    },
    {
     "cell_type": "code",
     "collapsed": false,
     "input": [
      "axis=dict(showline=False, # hide axis line, grid, ticklabels and  title\n",
      "          zeroline=False,\n",
      "          showgrid=False,\n",
      "          showticklabels=False,\n",
      "          title='' \n",
      "          )\n",
      "\n",
      "width=800\n",
      "height=800\n",
      "layout=Layout(title= \"Coauthorship network of scientists working on network theory and experiment\"+\\\n",
      "              \"<br> Data source: <a href='https://networkdata.ics.uci.edu/data.php?id=11'> [1]</a>\",  \n",
      "    font= Font(size=12),\n",
      "    showlegend=False,\n",
      "    autosize=False,\n",
      "    width=width,\n",
      "    height=height,\n",
      "    xaxis=XAxis(axis),\n",
      "    yaxis=YAxis(axis),          \n",
      "    margin=Margin(\n",
      "        l=40,\n",
      "        r=40,\n",
      "        b=85,\n",
      "        t=100,\n",
      "    ),\n",
      "    hovermode='closest',\n",
      "    annotations=Annotations([\n",
      "           Annotation(\n",
      "           showarrow=False, \n",
      "            text='This igraph.Graph has the Kamada-Kawai layout',  \n",
      "            xref='paper',     \n",
      "            yref='paper',     \n",
      "            x=0,  \n",
      "            y=-0.1,  \n",
      "            xanchor='left',   \n",
      "            yanchor='bottom',  \n",
      "            font=Font(\n",
      "            size=14 \n",
      "            )     \n",
      "            )\n",
      "        ]),           \n",
      "    )\n",
      "\n",
      "data=Data([trace1, trace2])\n",
      "fig=Figure(data=data, layout=layout)\n",
      "py.iplot(fig, filename='Coautorship-network-igraph') "
     ],
     "language": "python",
     "metadata": {},
     "outputs": [
      {
       "html": [
        "<iframe id=\"igraph\" scrolling=\"no\" style=\"border:none;\"seamless=\"seamless\" src=\"https://plot.ly/~chelsea_lyn/9223.embed\" height=\"800px\" width=\"800px\"></iframe>"
       ],
       "metadata": {},
       "output_type": "pyout",
       "prompt_number": 11,
       "text": [
        "<plotly.tools.PlotlyDisplay at 0x107892310>"
       ]
      }
     ],
     "prompt_number": 11
    },
    {
     "cell_type": "markdown",
     "metadata": {},
     "source": [
      "Now let us read the same gml file, define the network as a networkx.Graph, and plot it with Fruchterman Reingold layout (networkx does not provide the Kamada-Kawai layout):"
     ]
    },
    {
     "cell_type": "code",
     "collapsed": false,
     "input": [
      "import networkx as nx\n",
      "nx.__version__"
     ],
     "language": "python",
     "metadata": {},
     "outputs": [
      {
       "metadata": {},
       "output_type": "pyout",
       "prompt_number": 12,
       "text": [
        "'1.10'"
       ]
      }
     ],
     "prompt_number": 12
    },
    {
     "cell_type": "markdown",
     "metadata": {},
     "source": [
      "Because networkx cannot read the gml file (why?!!), we define the networkx.Graph from data provided by the igraph approach above."
     ]
    },
    {
     "cell_type": "code",
     "collapsed": false,
     "input": [
      "V=range(N)# list of vertices"
     ],
     "language": "python",
     "metadata": {},
     "outputs": [],
     "prompt_number": 13
    },
    {
     "cell_type": "code",
     "collapsed": false,
     "input": [
      "g=nx.Graph()\n",
      "g.add_nodes_from(V)\n",
      "g.add_edges_from(E)# E is the list of edges"
     ],
     "language": "python",
     "metadata": {},
     "outputs": [],
     "prompt_number": 14
    },
    {
     "cell_type": "code",
     "collapsed": false,
     "input": [
      "pos=nx.fruchterman_reingold_layout(g) \n",
      "type(pos)"
     ],
     "language": "python",
     "metadata": {},
     "outputs": [
      {
       "metadata": {},
       "output_type": "pyout",
       "prompt_number": 15,
       "text": [
        "dict"
       ]
      }
     ],
     "prompt_number": 15
    },
    {
     "cell_type": "markdown",
     "metadata": {},
     "source": [
      "Data for the Plotly plot of the same network but with a different layout:"
     ]
    },
    {
     "cell_type": "code",
     "collapsed": false,
     "input": [
      "Xv=[pos[k][0] for k in range(N)]\n",
      "Yv=[pos[k][1] for k in range(N)]\n",
      "Xed=[]\n",
      "Yed=[]\n",
      "for edge in E:\n",
      "    Xed+=[pos[edge[0]][0],pos[edge[1]][0], None]\n",
      "    Yed+=[pos[edge[0]][1],pos[edge[1]][1], None] \n",
      "    \n",
      "trace3=Scatter(x=Xed,\n",
      "               y=Yed,\n",
      "               mode='lines',\n",
      "               line=Line(color='rgb(210,210,210)', width=1),\n",
      "               hoverinfo='none'\n",
      "               )\n",
      "trace4=Scatter(x=Xv,\n",
      "               y=Yv,\n",
      "               mode='markers',\n",
      "               name='net',\n",
      "               marker=Marker(symbol='dot',\n",
      "                             size=5, \n",
      "                             color='#6959CD',\n",
      "                             line=Line(color='rgb(50,50,50)', width=0.5)\n",
      "                             ),\n",
      "               text=labels,\n",
      "               hoverinfo='text'\n",
      "               )\n",
      "\n",
      "annot=\"This networkx.Graph has the Fruchterman-Reingold layout<br>Code:\"+\\\n",
      "\"<a href='http://nbviewer.ipython.org/gist/empet/07ea33b2e4e0b84193bd'> [2]</a>\"\n",
      "\n",
      "data1=Data([trace3, trace4])\n",
      "fig1=Figure(data=data1, layout=layout)\n",
      "fig1['layout']['annotations'][0]['text']=annot\n",
      "py.iplot(fig1, filename='Coautorship-network-nx')"
     ],
     "language": "python",
     "metadata": {},
     "outputs": [
      {
       "html": [
        "<iframe id=\"igraph\" scrolling=\"no\" style=\"border:none;\"seamless=\"seamless\" src=\"https://plot.ly/~chelsea_lyn/9226.embed\" height=\"800px\" width=\"800px\"></iframe>"
       ],
       "metadata": {},
       "output_type": "pyout",
       "prompt_number": 17,
       "text": [
        "<plotly.tools.PlotlyDisplay at 0x1139f4cd0>"
       ]
      }
     ],
     "prompt_number": 17
    },
    {
     "cell_type": "markdown",
     "metadata": {},
     "source": [
      "Zoom in a selected region of nodes to see that edges are also plotted, but due to the node positions assigned by FR layout, they are invisible at the first sight.\n",
      "\n",
      "We get a similar plot setting pos=nx.spring_layout(g)."
     ]
    },
    {
     "cell_type": "code",
     "collapsed": false,
     "input": [
      "from IPython.display import display, HTML\n",
      "\n",
      "display(HTML('<link href=\"//fonts.googleapis.com/css?family=Open+Sans:600,400,300,200|Inconsolata|Ubuntu+Mono:400,700\" rel=\"stylesheet\" type=\"text/css\" />'))\n",
      "display(HTML('<link rel=\"stylesheet\" type=\"text/css\" href=\"http://help.plot.ly/documentation/all_static/css/ipython-notebook-custom.css\">'))\n",
      "\n",
      "! pip install publisher --upgrade\n",
      "import publisher\n",
      "publisher.publish(\n",
      "    'igraph_vs_networkx.ipynb', 'python/igraph-networkx-comparison', 'Python Network Graphs Comparison | plotly',\n",
      "    'Comparing a Network Graph created with igraph to one created with networkx in Python with Plotly. ',\n",
      "    name = 'Network Graphs Comparison',\n",
      "    thumbnail='/images/networks.png', language='python',\n",
      "    page_type='example_index', has_thumbnail='true', display_as='chart_type', order=31) "
     ],
     "language": "python",
     "metadata": {},
     "outputs": [
      {
       "html": [
        "<link href=\"//fonts.googleapis.com/css?family=Open+Sans:600,400,300,200|Inconsolata|Ubuntu+Mono:400,700\" rel=\"stylesheet\" type=\"text/css\" />"
       ],
       "metadata": {},
       "output_type": "display_data",
       "text": [
        "<IPython.core.display.HTML at 0x113a60a10>"
       ]
      },
      {
       "html": [
        "<link rel=\"stylesheet\" type=\"text/css\" href=\"http://help.plot.ly/documentation/all_static/css/ipython-notebook-custom.css\">"
       ],
       "metadata": {},
       "output_type": "display_data",
       "text": [
        "<IPython.core.display.HTML at 0x113a60a50>"
       ]
      },
      {
       "output_type": "stream",
       "stream": "stdout",
       "text": [
        "Requirement already up-to-date: publisher in /Library/Frameworks/Python.framework/Versions/2.7/lib/python2.7/site-packages\r\n"
       ]
      },
      {
       "output_type": "stream",
       "stream": "stderr",
       "text": [
        "/Library/Frameworks/Python.framework/Versions/2.7/lib/python2.7/site-packages/publisher/publisher.py:53: UserWarning:\n",
        "\n",
        "Did you \"Save\" this notebook before running this command? Remember to save, always save.\n",
        "\n"
       ]
      }
     ],
     "prompt_number": 18
    },
    {
     "cell_type": "code",
     "collapsed": false,
     "input": [],
     "language": "python",
     "metadata": {},
     "outputs": []
    }
   ],
   "metadata": {}
  }
 ]
}