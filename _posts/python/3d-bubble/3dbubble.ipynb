{
 "cells": [
  {
   "cell_type": "markdown",
   "metadata": {
    "collapsed": false
   },
   "source": [
    "# 3D Bubble Charts in Python"
   ]
  },
  {
   "cell_type": "markdown",
   "metadata": {
    "collapsed": false
   },
   "source": [
    "##### Example with Sizing and Color by Variables from a dataset"
   ]
  },
  {
   "cell_type": "code",
   "execution_count": 2,
   "metadata": {
    "collapsed": false
   },
   "outputs": [
    {
     "data": {
      "text/html": [
       "<iframe id=\"igraph\" scrolling=\"no\" style=\"border:none;\"seamless=\"seamless\" src=\"https://plot.ly/~chelsea_lyn/8792.embed\" height=\"800px\" width=\"800px\"></iframe>"
      ],
      "text/plain": [
       "<plotly.tools.PlotlyDisplay object>"
      ]
     },
     "execution_count": 2,
     "metadata": {},
     "output_type": "execute_result"
    }
   ],
   "source": [
    "import plotly.plotly as py\n",
    "from plotly.graph_objs import *\n",
    "\n",
    "import pandas as pd\n",
    "\n",
    "# Get Data: this ex will only use part of it (i.e. rows 750-1500)\n",
    "df = pd.read_csv('https://raw.githubusercontent.com/plotly/datasets/master/gapminderDataFiveYear.csv')\n",
    "\n",
    "trace1 = Scatter3d(\n",
    "    x=df['year'][750:1500],\n",
    "    y=df['continent'][750:1500],\n",
    "    z=df['pop'][750:1500],\n",
    "    text=df['country'][750:1500],\n",
    "    mode='markers',\n",
    "    marker=dict(\n",
    "        sizemode='diameter',\n",
    "        sizeref=750,\n",
    "        size=df['gdpPercap'][750:1500],\n",
    "        color = df['lifeExp'][750:1500],\n",
    "        colorscale = 'Viridis',\n",
    "        colorbar = dict(title = 'Life<br>Expectancy'),\n",
    "        line=dict(color='rgb(140, 140, 170)')\n",
    "    )\n",
    ")\n",
    "\n",
    "data=[trace1]\n",
    "layout=dict(height=800, width=800, title='Examining Population and Life Expectancy Over Time')\n",
    "fig=dict(data=data, layout=layout)\n",
    "py.iplot(fig, filename='3DBubble')"
   ]
  },
  {
   "cell_type": "markdown",
   "metadata": {},
   "source": [
    "##### Example with Sizing by a Variable"
   ]
  },
  {
   "cell_type": "markdown",
   "metadata": {},
   "source": [
    "Plot planets' distance from sun, density, and gravity with bubble size based on planet size"
   ]
  },
  {
   "cell_type": "code",
   "execution_count": 3,
   "metadata": {
    "collapsed": false
   },
   "outputs": [
    {
     "data": {
      "text/html": [
       "<iframe id=\"igraph\" scrolling=\"no\" style=\"border:none;\"seamless=\"seamless\" src=\"https://plot.ly/~chelsea_lyn/8794.embed\" height=\"800px\" width=\"800px\"></iframe>"
      ],
      "text/plain": [
       "<plotly.tools.PlotlyDisplay object>"
      ]
     },
     "execution_count": 3,
     "metadata": {},
     "output_type": "execute_result"
    }
   ],
   "source": [
    "import plotly.plotly as py\n",
    "from plotly.graph_objs import *\n",
    "\n",
    "# Add data\n",
    "planets = ['Mercury', 'Venus', 'Earth', 'Mars', 'Jupiter', 'Saturn', 'Uranus', 'Neptune', 'Pluto']\n",
    "planet_colors = ['rgb(135, 135, 125)', 'rgb(210, 50, 0)', 'rgb(50, 90, 255)',\n",
    "                 'rgb(178, 0, 0)', 'rgb(235, 235, 210)', 'rgb(235, 205, 130)',\n",
    "                 'rgb(55, 255, 217)', 'rgb(38, 0, 171)', 'rgb(255, 255, 255)']\n",
    "distance_from_sun = [57.9, 108.2, 149.6, 227.9, 778.6, 1433.5, 2872.5, 4495.1, 5906.4]\n",
    "density = [5427, 5243, 5514, 3933, 1326, 687, 1271, 1638, 2095]\n",
    "gravity = [3.7, 8.9, 9.8, 3.7, 23.1, 9.0, 8.7, 11.0, 0.7]\n",
    "planet_diameter = [4879, 12104, 12756, 6792, 142984, 120536, 51118, 49528, 2370]\n",
    "\n",
    "# Create trace, sizing bubbles by planet diameter\n",
    "trace1 = Scatter3d(\n",
    "    x = distance_from_sun,\n",
    "    y = density,\n",
    "    z = gravity,\n",
    "    text = planets,\n",
    "    mode = 'markers',\n",
    "    marker = dict(\n",
    "        sizemode = 'diameter',\n",
    "        sizeref = 750, # info on sizeref: https://plot.ly/python/reference/#scatter-marker-sizeref\n",
    "        size = planet_diameter,\n",
    "        color = planet_colors,\n",
    "        )  \n",
    ")\n",
    "data=[trace1]\n",
    "\n",
    "# Style Layout\n",
    "layout=Layout(width=800, height=800, title = 'Planets!',\n",
    "              scene = dict(xaxis=dict(title='Distance from Sun',\n",
    "                                      titlefont=dict(color='Orange')),\n",
    "                            yaxis=dict(title='Density',\n",
    "                                       titlefont=dict(color='rgb(220, 220, 220)')),\n",
    "                            zaxis=dict(title='Gravity',\n",
    "                                       titlefont=dict(color='rgb(220, 220, 220)')),\n",
    "                            bgcolor = 'rgb(20, 24, 54)'\n",
    "                           )\n",
    "             )\n",
    "\n",
    "# Plot\n",
    "\n",
    "fig=dict(data=data, layout=layout)\n",
    "py.iplot(fig, filename='solar_system_planet_size')"
   ]
  },
  {
   "cell_type": "markdown",
   "metadata": {},
   "source": [
    "##### Example Editing the Colorbar"
   ]
  },
  {
   "cell_type": "markdown",
   "metadata": {},
   "source": [
    "Plot planets' distance from sun, density, and gravity with bubble size based on planet size"
   ]
  },
  {
   "cell_type": "code",
   "execution_count": 4,
   "metadata": {
    "collapsed": false
   },
   "outputs": [
    {
     "data": {
      "text/html": [
       "<iframe id=\"igraph\" scrolling=\"no\" style=\"border:none;\"seamless=\"seamless\" src=\"https://plot.ly/~chelsea_lyn/8796.embed\" height=\"800px\" width=\"800px\"></iframe>"
      ],
      "text/plain": [
       "<plotly.tools.PlotlyDisplay object>"
      ]
     },
     "execution_count": 4,
     "metadata": {},
     "output_type": "execute_result"
    }
   ],
   "source": [
    "import plotly.plotly as py\n",
    "from plotly.graph_objs import *\n",
    "\n",
    "# Add data\n",
    "planets = ['Mercury', 'Venus', 'Earth', 'Mars', 'Jupiter', 'Saturn', 'Uranus', 'Neptune', 'Pluto']\n",
    "temperatures = [167, 464, 15, -20, -65, -110, -140, -195, -200, -225]\n",
    "distance_from_sun = [57.9, 108.2, 149.6, 227.9, 778.6, 1433.5, 2872.5, 4495.1, 5906.4]\n",
    "density = [5427, 5243, 5514, 3933, 1326, 687, 1271, 1638, 2095]\n",
    "gravity = [3.7, 8.9, 9.8, 3.7, 23.1, 9.0, 8.7, 11.0, 0.7]\n",
    "planet_diameter = [4879, 12104, 12756, 6792, 142984, 120536, 51118, 49528, 2370]\n",
    "\n",
    "# Create trace, sizing bubbles by planet diameter\n",
    "trace1 = Scatter3d(\n",
    "    x = distance_from_sun,\n",
    "    y = density,\n",
    "    z = gravity,\n",
    "    text = planets,\n",
    "    mode = 'markers',\n",
    "    marker = dict(\n",
    "        sizemode = 'diameter',\n",
    "        sizeref = 750, # info on sizeref: https://plot.ly/python/reference/#scatter-marker-sizeref\n",
    "        size = planet_diameter,\n",
    "        color = temperatures,\n",
    "        colorbar = dict(title = 'Mean<br>Temperature'),\n",
    "        colorscale=[[0, 'rgb(5, 10, 172)'], [.3, 'rgb(255, 255, 255)'], [1, 'rgb(178, 10, 28)']]\n",
    "        )  \n",
    ")\n",
    "data=[trace1]\n",
    "\n",
    "# Style Layout\n",
    "layout=dict(width=800, height=800, title = 'Planets!!',\n",
    "            scene = dict(xaxis=dict(title='Distance from Sun',\n",
    "                                    titlefont=dict(color='Orange')),\n",
    "                            yaxis=dict(title='Density',\n",
    "                                       titlefont=dict(color='rgb(220, 220, 220)')),\n",
    "                            zaxis=dict(title='Gravity',\n",
    "                                       titlefont=dict(color='rgb(220, 220, 220)')),\n",
    "                            bgcolor = 'rgb(20, 24, 54)'\n",
    "                           )\n",
    "             )\n",
    "\n",
    "# Plot\n",
    "\n",
    "fig=dict(data=data, layout=layout)\n",
    "py.iplot(fig, filename='solar_system_planet_temp')"
   ]
  },
  {
   "cell_type": "markdown",
   "metadata": {},
   "source": [
    "### Reference"
   ]
  },
  {
   "cell_type": "markdown",
   "metadata": {},
   "source": [
    "https://plot.ly/python/reference/#scatter3d"
   ]
  },
  {
   "cell_type": "code",
   "execution_count": 5,
   "metadata": {
    "collapsed": false
   },
   "outputs": [
    {
     "data": {
      "text/html": [
       "<link href=\"//fonts.googleapis.com/css?family=Open+Sans:600,400,300,200|Inconsolata|Ubuntu+Mono:400,700\" rel=\"stylesheet\" type=\"text/css\" />"
      ],
      "text/plain": [
       "<IPython.core.display.HTML object>"
      ]
     },
     "metadata": {},
     "output_type": "display_data"
    },
    {
     "data": {
      "text/html": [
       "<link rel=\"stylesheet\" type=\"text/css\" href=\"http://help.plot.ly/documentation/all_static/css/ipython-notebook-custom.css\">"
      ],
      "text/plain": [
       "<IPython.core.display.HTML object>"
      ]
     },
     "metadata": {},
     "output_type": "display_data"
    },
    {
     "name": "stdout",
     "output_type": "stream",
     "text": [
      "\u001b[33mYou are using pip version 7.1.0, however version 7.1.2 is available.\n",
      "You should consider upgrading via the 'pip install --upgrade pip' command.\u001b[0m\n",
      "Requirement already up-to-date: publisher in /Users/Chelsea/venv2.7/lib/python2.7/site-packages\n"
     ]
    },
    {
     "name": "stderr",
     "output_type": "stream",
     "text": [
      "/Users/Chelsea/venv2.7/lib/python2.7/site-packages/publisher/publisher.py:53: UserWarning:\n",
      "\n",
      "Did you \"Save\" this notebook before running this command? Remember to save, always save.\n",
      "\n"
     ]
    }
   ],
   "source": [
    "from IPython.display import display, HTML\n",
    "\n",
    "display(HTML('<link href=\"//fonts.googleapis.com/css?family=Open+Sans:600,400,300,200|Inconsolata|Ubuntu+Mono:400,700\" rel=\"stylesheet\" type=\"text/css\" />'))\n",
    "display(HTML('<link rel=\"stylesheet\" type=\"text/css\" href=\"http://help.plot.ly/documentation/all_static/css/ipython-notebook-custom.css\">'))\n",
    "\n",
    "! pip install publisher --upgrade\n",
    "import publisher\n",
    "publisher.publish(\n",
    "    '3dbubble.ipynb', 'python/3d-bubble-charts', 'Python 3D Bubble Charts | plotly',\n",
    "    'How to make 3D Bubble Charts in Python with Plotly. '\n",
    "    'Three examples of 3D Bubble Charts.',\n",
    "    name = '3D Bubble Charts',\n",
    "    thumbnail='/images/3dbubble.png', language='python',\n",
    "    page_type='example_index', has_thumbnail='true', display_as='3d_charts', order=10)"
   ]
  },
  {
   "cell_type": "code",
   "execution_count": null,
   "metadata": {
    "collapsed": true
   },
   "outputs": [],
   "source": []
  }
 ],
 "metadata": {
  "kernelspec": {
   "display_name": "Python 2",
   "language": "python",
   "name": "python2"
  },
  "language_info": {
   "codemirror_mode": {
    "name": "ipython",
    "version": 2
   },
   "file_extension": ".py",
   "mimetype": "text/x-python",
   "name": "python",
   "nbconvert_exporter": "python",
   "pygments_lexer": "ipython2",
   "version": "2.7.9"
  }
 },
 "nbformat": 4,
 "nbformat_minor": 0
}
