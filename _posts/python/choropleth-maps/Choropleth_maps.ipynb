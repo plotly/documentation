{
 "cells": [
  {
   "cell_type": "markdown",
   "metadata": {},
   "source": [
    "#### New to Plotly?\n",
    "Plotly's Python library is free and open source! [Get started](https://plot.ly/python/getting-started/) by downloading the client and [reading the primer](https://plot.ly/python/getting-started/).\n",
    "<br>You can set up Plotly to work in [online](https://plot.ly/python/getting-started/#initialization-for-online-plotting) or [offline](https://plot.ly/python/getting-started/#initialization-for-offline-plotting) mode, or in [jupyter notebooks](https://plot.ly/python/getting-started/#start-plotting-online).\n",
    "<br>We also have a quick-reference [cheatsheet](https://images.plot.ly/plotly-documentation/images/python_cheat_sheet.pdf) (new!) to help you get started!\n"
   ]
  },
  {
   "cell_type": "markdown",
   "metadata": {},
   "source": [
    "### United States Choropleth Map"
   ]
  },
  {
   "cell_type": "code",
   "execution_count": 1,
   "metadata": {
    "collapsed": false
   },
   "outputs": [
    {
     "data": {
      "text/html": [
       "<iframe id=\"igraph\" scrolling=\"no\" style=\"border:none;\" seamless=\"seamless\" src=\"https://plot.ly/~chelsea_lyn/7898.embed\" height=\"525px\" width=\"100%\"></iframe>"
      ],
      "text/plain": [
       "<plotly.tools.PlotlyDisplay object>"
      ]
     },
     "execution_count": 1,
     "metadata": {},
     "output_type": "execute_result"
    }
   ],
   "source": [
    "import plotly.plotly as py\n",
    "import pandas as pd\n",
    "\n",
    "df = pd.read_csv('https://raw.githubusercontent.com/plotly/datasets/master/2011_us_ag_exports.csv')\n",
    "\n",
    "for col in df.columns:\n",
    "    df[col] = df[col].astype(str)\n",
    "\n",
    "scl = [[0.0, 'rgb(242,240,247)'],[0.2, 'rgb(218,218,235)'],[0.4, 'rgb(188,189,220)'],\\\n",
    "            [0.6, 'rgb(158,154,200)'],[0.8, 'rgb(117,107,177)'],[1.0, 'rgb(84,39,143)']]\n",
    "\n",
    "df['text'] = df['state'] + '<br>' +\\\n",
    "    'Beef '+df['beef']+' Dairy '+df['dairy']+'<br>'+\\\n",
    "    'Fruits '+df['total fruits']+' Veggies ' + df['total veggies']+'<br>'+\\\n",
    "    'Wheat '+df['wheat']+' Corn '+df['corn']\n",
    "\n",
    "data = [ dict(\n",
    "        type='choropleth',\n",
    "        colorscale = scl,\n",
    "        autocolorscale = False,\n",
    "        locations = df['code'],\n",
    "        z = df['total exports'].astype(float),\n",
    "        locationmode = 'USA-states',\n",
    "        text = df['text'],\n",
    "        marker = dict(\n",
    "            line = dict (\n",
    "                color = 'rgb(255,255,255)',\n",
    "                width = 2\n",
    "            ) ),\n",
    "        colorbar = dict(\n",
    "            title = \"Millions USD\")\n",
    "        ) ]\n",
    "\n",
    "layout = dict(\n",
    "        title = '2011 US Agriculture Exports by State<br>(Hover for breakdown)',\n",
    "        geo = dict(\n",
    "            scope='usa',\n",
    "            projection=dict( type='albers usa' ),\n",
    "            showlakes = True,\n",
    "            lakecolor = 'rgb(255, 255, 255)'),\n",
    "             )\n",
    "    \n",
    "fig = dict( data=data, layout=layout )\n",
    "py.iplot( fig, filename='d3-cloropleth-map' )"
   ]
  },
  {
   "cell_type": "markdown",
   "metadata": {},
   "source": [
    "### World Choropleth Map"
   ]
  },
  {
   "cell_type": "code",
   "execution_count": 2,
   "metadata": {
    "collapsed": false
   },
   "outputs": [
    {
     "data": {
      "text/html": [
       "<iframe id=\"igraph\" scrolling=\"no\" style=\"border:none;\" seamless=\"seamless\" src=\"https://plot.ly/~chelsea_lyn/7903.embed\" height=\"525px\" width=\"100%\"></iframe>"
      ],
      "text/plain": [
       "<plotly.tools.PlotlyDisplay object>"
      ]
     },
     "execution_count": 2,
     "metadata": {},
     "output_type": "execute_result"
    }
   ],
   "source": [
    "import plotly.plotly as py\n",
    "import pandas as pd\n",
    "\n",
    "df = pd.read_csv('https://raw.githubusercontent.com/plotly/datasets/master/2014_world_gdp_with_codes.csv')\n",
    "\n",
    "data = [ dict(\n",
    "        type = 'choropleth',\n",
    "        locations = df['CODE'],\n",
    "        z = df['GDP (BILLIONS)'],\n",
    "        text = df['COUNTRY'],\n",
    "        colorscale = [[0,\"rgb(5, 10, 172)\"],[0.35,\"rgb(40, 60, 190)\"],[0.5,\"rgb(70, 100, 245)\"],\\\n",
    "            [0.6,\"rgb(90, 120, 245)\"],[0.7,\"rgb(106, 137, 247)\"],[1,\"rgb(220, 220, 220)\"]],\n",
    "        autocolorscale = False,\n",
    "        reversescale = True,\n",
    "        marker = dict(\n",
    "            line = dict (\n",
    "                color = 'rgb(180,180,180)',\n",
    "                width = 0.5\n",
    "            ) ),\n",
    "        colorbar = dict(\n",
    "            autotick = False,\n",
    "            tickprefix = '$',\n",
    "            title = 'GDP<br>Billions US$'),\n",
    "      ) ]\n",
    "\n",
    "layout = dict(\n",
    "    title = '2014 Global GDP<br>Source:\\\n",
    "            <a href=\"https://www.cia.gov/library/publications/the-world-factbook/fields/2195.html\">\\\n",
    "            CIA World Factbook</a>',\n",
    "    geo = dict(\n",
    "        showframe = False,\n",
    "        showcoastlines = False,\n",
    "        projection = dict(\n",
    "            type = 'Mercator'\n",
    "        )\n",
    "    )\n",
    ")\n",
    "\n",
    "fig = dict( data=data, layout=layout )\n",
    "py.iplot( fig, validate=False, filename='d3-world-map' )"
   ]
  },
  {
   "cell_type": "markdown",
   "metadata": {},
   "source": [
    "### Choropleth Inset Map"
   ]
  },
  {
   "cell_type": "code",
   "execution_count": 3,
   "metadata": {
    "collapsed": false
   },
   "outputs": [
    {
     "data": {
      "text/html": [
       "<iframe id=\"igraph\" scrolling=\"no\" style=\"border:none;\" seamless=\"seamless\" src=\"https://plot.ly/~chelsea_lyn/13235.embed\" height=\"525px\" width=\"100%\"></iframe>"
      ],
      "text/plain": [
       "<plotly.tools.PlotlyDisplay object>"
      ]
     },
     "execution_count": 3,
     "metadata": {},
     "output_type": "execute_result"
    }
   ],
   "source": [
    "import plotly.plotly as py\n",
    "import plotly.graph_objs as go\n",
    "\n",
    "import pandas as pd\n",
    "df = pd.read_csv('https://raw.githubusercontent.com/plotly/datasets/master/2014_ebola.csv')\n",
    "df.head()\n",
    "\n",
    "cases = []\n",
    "colors = ['rgb(239,243,255)','rgb(189,215,231)','rgb(107,174,214)','rgb(33,113,181)']\n",
    "months = {6:'June',7:'July',8:'Aug',9:'Sept'}\n",
    "\n",
    "for i in range(6,10)[::-1]:\n",
    "    cases.append(go.Scattergeo(\n",
    "        lon = df[ df['Month'] == i ]['Lon'], #-(max(range(6,10))-i),\n",
    "        lat = df[ df['Month'] == i ]['Lat'],\n",
    "        text = df[ df['Month'] == i ]['Value'],\n",
    "        name = months[i],\n",
    "        marker = dict(\n",
    "            size = df[ df['Month'] == i ]['Value']/50,\n",
    "            color = colors[i-6],\n",
    "            line = dict(width = 0)\n",
    "        ),\n",
    "    ) )\n",
    "\n",
    "cases[0]['text'] = df[ df['Month'] == 9 ]['Value'].map('{:.0f}'.format).astype(str)+' '+\\\n",
    "    df[ df['Month'] == 9 ]['Country']\n",
    "cases[0]['mode'] = 'markers+text'\n",
    "cases[0]['textposition'] = 'bottom center'\n",
    "\n",
    "inset = [\n",
    "    go.Choropleth(\n",
    "        locationmode = 'country names',\n",
    "        locations = df[ df['Month'] == 9 ]['Country'],\n",
    "        z = df[ df['Month'] == 9 ]['Value'],\n",
    "        text = df[ df['Month'] == 9 ]['Country'],\n",
    "        colorscale = [[0,'rgb(0, 0, 0)'],[1,'rgb(0, 0, 0)']],\n",
    "        autocolorscale = False,\n",
    "        showscale = False,\n",
    "        geo = 'geo2'\n",
    "    ),\n",
    "    go.Scattergeo(\n",
    "        lon = [21.0936],\n",
    "        lat = [7.1881],\n",
    "        text = ['Africa'],\n",
    "        mode = 'text',\n",
    "        showlegend = False,\n",
    "        geo = 'geo2'\n",
    "    )\n",
    "]\n",
    "\n",
    "layout = go.Layout(\n",
    "    title = 'Ebola cases reported by month in West Africa 2014<br> \\\n",
    "Source: <a href=\"https://data.hdx.rwlabs.org/dataset/rowca-ebola-cases\">\\\n",
    "HDX</a>',\n",
    "    geo = dict(\n",
    "        resolution = 50,\n",
    "        scope = 'africa',\n",
    "        showframe = False,\n",
    "        showcoastlines = True,\n",
    "        showland = True,\n",
    "        landcolor = \"rgb(229, 229, 229)\",\n",
    "        countrycolor = \"rgb(255, 255, 255)\" ,\n",
    "        coastlinecolor = \"rgb(255, 255, 255)\",\n",
    "        projection = dict(\n",
    "            type = 'Mercator'\n",
    "        ),\n",
    "        lonaxis = dict( range= [ -15.0, -5.0 ] ),\n",
    "        lataxis = dict( range= [ 0.0, 12.0 ] ),\n",
    "        domain = dict(\n",
    "            x = [ 0, 1 ],\n",
    "            y = [ 0, 1 ]\n",
    "        )\n",
    "    ),\n",
    "    geo2 = dict(\n",
    "        scope = 'africa',\n",
    "        showframe = False,\n",
    "        showland = True,\n",
    "        landcolor = \"rgb(229, 229, 229)\",\n",
    "        showcountries = False,\n",
    "        domain = dict(\n",
    "            x = [ 0, 0.6 ],\n",
    "            y = [ 0, 0.6 ]\n",
    "        ),\n",
    "        bgcolor = 'rgba(255, 255, 255, 0.0)',\n",
    "    ),\n",
    "    legend = dict(\n",
    "           traceorder = 'reversed'\n",
    "    )\n",
    ")\n",
    "\n",
    "fig = go.Figure(layout=layout, data=cases+inset)\n",
    "py.iplot(fig, validate=False, filename='West Africa Ebola cases 2014')\n"
   ]
  },
  {
   "cell_type": "markdown",
   "metadata": {},
   "source": [
    "### PACE Approved Legislation "
   ]
  },
  {
   "cell_type": "code",
   "execution_count": 1,
   "metadata": {
    "collapsed": false
   },
   "outputs": [
    {
     "data": {
      "text/html": [
       "<iframe id=\"igraph\" scrolling=\"no\" style=\"border:none;\" seamless=\"seamless\" src=\"https://plot.ly/~Diksha_Gabha/2513.embed\" height=\"525px\" width=\"800px\"></iframe>"
      ],
      "text/plain": [
       "<plotly.tools.PlotlyDisplay object>"
      ]
     },
     "execution_count": 1,
     "metadata": {},
     "output_type": "execute_result"
    }
   ],
   "source": [
    "import plotly.plotly as py\n",
    "from plotly.graph_objs import *\n",
    "\n",
    "trace1 = Choropleth(\n",
    "    z=['1', '1', '1', '1', '1', '1', '1'],\n",
    "    autocolorscale=False,\n",
    "    colorscale=[[0, 'rgb(255,255,255)'], [1, 'rgb(186,58,51)']],\n",
    "    hoverinfo='text',\n",
    "    locationmode='USA-states',\n",
    "    locations=['AR', 'GA', 'KY', 'MO', 'UT', 'TX', 'WY'],\n",
    "    name='Republican',\n",
    "    showscale=False,\n",
    "    text=['Arkansas', 'Georgia', 'Kentucky', 'Missouri', 'Utah', 'Texas', 'Wyoming'],\n",
    "    zauto=False,\n",
    "    zmax=1,\n",
    "    zmin=0,\n",
    ")\n",
    "trace2 = Choropleth(\n",
    "    z=[1.0, 1.0, 1.0, 1.0, 1.0, 1.0, 1.0, 1.0, 1.0, 1.0, 1.0],\n",
    "    autocolorscale=False,\n",
    "    colorscale=[[0, 'rgb(255,255,255)'], [1, 'rgb(68,94,150)']],\n",
    "    hoverinfo='text',\n",
    "    locationmode='USA-states',\n",
    "    locations=['CA', 'CI', 'DOC', 'IL', 'MD', 'NJ', 'NM', 'NY', 'OR', 'RI', 'VT'],\n",
    "    name='Democrat',\n",
    "    showscale=False,\n",
    "    text=['California', 'Connecticut', 'District of Columbia', 'Illinois', \n",
    "          'Maryland', 'New Jersey', 'New Mexico', 'New York', 'Oregon',\n",
    "          'Rhode Island', 'Vermont'],\n",
    "    zauto=False,\n",
    "    zmax=1,\n",
    "    zmin=0,\n",
    ")\n",
    "trace3 = Choropleth(\n",
    "    z=[1.0, 1.0, 1.0, 1.0, 1.0, 1.0, 1.0, 1.0],\n",
    "    autocolorscale=False,\n",
    "    colorscale=[[0, 'rgb(255, 255, 255)'], [1, 'rgb(187, 170, 144)']],\n",
    "    hoverinfo='text',\n",
    "    locationmode='USA-states',\n",
    "    locations=['CO', 'FL', 'MI', 'MN', 'NH', 'OH', 'VA', 'WI'],\n",
    "    name='Swing State',\n",
    "    showscale=False,\n",
    "    text=['Colorado', 'Florida', 'Michigan', 'Minnesota', \n",
    "          'New Hampshire', 'Ohio', 'Virginia', 'Wisconsin'],\n",
    "    zauto=False,\n",
    "    zmax=1,\n",
    "    zmin=0,\n",
    ")\n",
    "\n",
    "data = Data([trace1, trace2, trace3])\n",
    "layout = Layout(\n",
    "    autosize=False,\n",
    "    geo=dict(\n",
    "        countrycolor='rgb(102, 102, 102)',\n",
    "        countrywidth=0.1,\n",
    "        lakecolor='rgb(255, 255, 255)',\n",
    "        landcolor='rgba(237, 247, 138, 0.28)',\n",
    "        lonaxis=dict(\n",
    "            gridwidth=1.5999999999999999,\n",
    "            range=[-180, -50],\n",
    "            showgrid=False\n",
    "        ),\n",
    "        projection=dict(\n",
    "            type='albers usa'\n",
    "        ),\n",
    "        scope='usa',\n",
    "        showland=True,\n",
    "        showrivers=False,\n",
    "        showsubunits=True,\n",
    "        subunitcolor='rgb(102, 102, 102)',\n",
    "        subunitwidth=0.5\n",
    "    ),\n",
    "    hovermode='closest',\n",
    "    images=list([\n",
    "        dict(\n",
    "            x=1,\n",
    "            y=0.6,\n",
    "            sizex=0.155,\n",
    "            sizey=0.4,\n",
    "            source='http://i.imgur.com/Xe3f1zg.png',\n",
    "            xanchor='right',\n",
    "            xref='paper',\n",
    "            yanchor='bottom',\n",
    "            yref='paper'\n",
    "        )\n",
    "    ]),\n",
    "    showlegend=True,\n",
    "    title='<b>PACE Approved legislation</b>',\n",
    "    width= 800,\n",
    "    margin = dict(\n",
    "        l=0,\n",
    "        r=50,\n",
    "        b=100,\n",
    "        t=100,\n",
    "        pad=4)\n",
    ")\n",
    "fig = Figure(data=data, layout=layout)\n",
    "py.iplot(fig, filename='pace')"
   ]
  },
  {
   "cell_type": "markdown",
   "metadata": {},
   "source": [
    "#### Reference\n",
    "See https://plot.ly/python/reference/#choropleth for more information and chart attribute options!"
   ]
  },
  {
   "cell_type": "code",
<<<<<<< HEAD
   "execution_count": 1,
=======
   "execution_count": 2,
>>>>>>> b22a31ab6cd91d151ab51741f3fcb448574008a5
   "metadata": {
    "collapsed": false
   },
   "outputs": [
    {
     "data": {
      "text/html": [
       "<link href=\"//fonts.googleapis.com/css?family=Open+Sans:600,400,300,200|Inconsolata|Ubuntu+Mono:400,700\" rel=\"stylesheet\" type=\"text/css\" />"
      ],
      "text/plain": [
       "<IPython.core.display.HTML object>"
      ]
     },
     "metadata": {},
     "output_type": "display_data"
    },
    {
     "data": {
      "text/html": [
       "<link rel=\"stylesheet\" type=\"text/css\" href=\"http://help.plot.ly/documentation/all_static/css/ipython-notebook-custom.css\">"
      ],
      "text/plain": [
       "<IPython.core.display.HTML object>"
      ]
     },
     "metadata": {},
     "output_type": "display_data"
    },
    {
     "name": "stdout",
     "output_type": "stream",
     "text": [
      "Collecting git+https://github.com/plotly/publisher.git\n",
<<<<<<< HEAD
      "  Cloning https://github.com/plotly/publisher.git to /var/folders/ld/6cl3s_l50wd40tdjq2b03jxh0000gp/T/pip-k8JnpP-build\n",
      "Installing collected packages: publisher\n",
      "  Found existing installation: publisher 0.11\n",
      "    Uninstalling publisher-0.11:\n",
      "      Successfully uninstalled publisher-0.11\n",
      "  Running setup.py install for publisher ... \u001b[?25l-\b \b\\\b \bdone\n",
      "\u001b[?25hSuccessfully installed publisher-0.10\n"
=======
      "  Cloning https://github.com/plotly/publisher.git to /tmp/pip-ittp0v-build\n",
      "Installing collected packages: publisher\n",
      "  Running setup.py install for publisher ... \u001b[?25l-\b \berror\n",
      "    Complete output from command /usr/bin/python -u -c \"import setuptools, tokenize;__file__='/tmp/pip-ittp0v-build/setup.py';exec(compile(getattr(tokenize, 'open', open)(__file__).read().replace('\\r\\n', '\\n'), __file__, 'exec'))\" install --record /tmp/pip-lGFm1Y-record/install-record.txt --single-version-externally-managed --compile:\n",
      "    running install\n",
      "    running build\n",
      "    running build_py\n",
      "    creating build\n",
      "    creating build/lib.linux-x86_64-2.7\n",
      "    creating build/lib.linux-x86_64-2.7/publisher\n",
      "    copying publisher/publisher.py -> build/lib.linux-x86_64-2.7/publisher\n",
      "    copying publisher/__init__.py -> build/lib.linux-x86_64-2.7/publisher\n",
      "    running install_lib\n",
      "    creating /usr/local/lib/python2.7/dist-packages/publisher\n",
      "    error: could not create '/usr/local/lib/python2.7/dist-packages/publisher': Permission denied\n",
      "    \n",
      "    ----------------------------------------\n",
      "\u001b[31mCommand \"/usr/bin/python -u -c \"import setuptools, tokenize;__file__='/tmp/pip-ittp0v-build/setup.py';exec(compile(getattr(tokenize, 'open', open)(__file__).read().replace('\\r\\n', '\\n'), __file__, 'exec'))\" install --record /tmp/pip-lGFm1Y-record/install-record.txt --single-version-externally-managed --compile\" failed with error code 1 in /tmp/pip-ittp0v-build/\u001b[0m\n",
      "\u001b[?25h"
     ]
    },
    {
     "name": "stderr",
     "output_type": "stream",
     "text": [
      "/home/diksha/anaconda2/lib/python2.7/site-packages/IPython/nbconvert.py:13: ShimWarning:\n",
      "\n",
      "The `IPython.nbconvert` package has been deprecated. You should import from nbconvert instead.\n",
      "\n",
      "/home/diksha/anaconda2/lib/python2.7/site-packages/publisher/publisher.py:53: UserWarning:\n",
      "\n",
      "Did you \"Save\" this notebook before running this command? Remember to save, always save.\n",
      "\n"
>>>>>>> b22a31ab6cd91d151ab51741f3fcb448574008a5
     ]
    },
    {
     "name": "stderr",
     "output_type": "stream",
     "text": [
      "/Users/brandendunbar/Desktop/test/venv/lib/python2.7/site-packages/IPython/nbconvert.py:13: ShimWarning: The `IPython.nbconvert` package has been deprecated. You should import from nbconvert instead.\n",
      "  \"You should import from nbconvert instead.\", ShimWarning)\n",
      "/Users/brandendunbar/Desktop/test/venv/lib/python2.7/site-packages/publisher/publisher.py:53: UserWarning: Did you \"Save\" this notebook before running this command? Remember to save, always save.\n",
      "  warnings.warn('Did you \"Save\" this notebook before running this command? '\n"
     ]
    }
   ],
   "source": [
    "from IPython.display import display, HTML\n",
    "\n",
    "display(HTML('<link href=\"//fonts.googleapis.com/css?family=Open+Sans:600,400,300,200|Inconsolata|Ubuntu+Mono:400,700\" rel=\"stylesheet\" type=\"text/css\" />'))\n",
    "display(HTML('<link rel=\"stylesheet\" type=\"text/css\" href=\"http://help.plot.ly/documentation/all_static/css/ipython-notebook-custom.css\">'))\n",
    "\n",
    "! pip install git+https://github.com/plotly/publisher.git --upgrade\n",
    "import publisher\n",
    "publisher.publish(\n",
    "    'Choropleth_maps.ipynb', 'python/choropleth-maps/', 'Choropleth Maps | plotly',\n",
    "    'How to make Choropleth maps in Python with Plotly.',\n",
    "    title = 'Choropleth Maps | plotly',\n",
    "    name = 'Choropleth Maps',\n",
    "    has_thumbnail='true', thumbnail='thumbnail/choropleth.jpg', \n",
    "    language='python', page_type='example_index',\n",
    "    display_as='maps', order=1,\n",
    "    ipynb= '~notebook_demo/55')"
   ]
  },
  {
   "cell_type": "code",
   "execution_count": null,
   "metadata": {
    "collapsed": true
   },
   "outputs": [],
   "source": []
  }
 ],
 "metadata": {
  "anaconda-cloud": {},
  "kernelspec": {
   "display_name": "Python 2",
   "language": "python",
   "name": "python2"
  },
  "language_info": {
   "codemirror_mode": {
    "name": "ipython",
    "version": 2
   },
   "file_extension": ".py",
   "mimetype": "text/x-python",
   "name": "python",
   "nbconvert_exporter": "python",
   "pygments_lexer": "ipython2",
   "version": "2.7.10"
  }
 },
 "nbformat": 4,
 "nbformat_minor": 0
}
