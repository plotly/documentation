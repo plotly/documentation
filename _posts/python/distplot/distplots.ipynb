{
 "cells": [
  {
   "cell_type": "markdown",
   "metadata": {},
   "source": [
    "#### New to Plotly?\n",
    "Plotly's Python library is free and open source! [Get started](https://plot.ly/python/getting-started/) by dowloading the client and [reading the primer](https://plot.ly/python/getting-started/).\n",
    "<br>You can set up Plotly to work in [online](https://plot.ly/python/getting-started/#initialization-for-online-plotting) or [offline](https://plot.ly/python/getting-started/#initialization-for-offline-plotting) mode, or in [jupyter notebooks](https://plot.ly/python/getting-started/#start-plotting-online).\n",
    "<br>We also have a quick-reference [cheatsheet](https://images.plot.ly/plotly-documentation/images/python_cheat_sheet.pdf) (new!) to help you get started!# Distplots in Python"
   ]
  },
  {
   "cell_type": "markdown",
   "metadata": {
    "collapsed": false
   },
   "source": [
    "#### Version Check\n",
    "Note: Distplots are available in version <b>1.11.0+</b><br>\n",
    "Run  `pip install plotly --upgrade` to update your Plotly version"
   ]
  },
  {
   "cell_type": "code",
   "execution_count": 2,
   "metadata": {
    "collapsed": false
   },
   "outputs": [
    {
     "data": {
      "text/plain": [
       "'1.11.0'"
      ]
     },
     "execution_count": 2,
     "metadata": {},
     "output_type": "execute_result"
    }
   ],
   "source": [
    "import plotly\n",
    "plotly.__version__"
   ]
  },
  {
   "cell_type": "markdown",
   "metadata": {},
   "source": [
    "#### Simple Distplot "
   ]
  },
  {
   "cell_type": "code",
   "execution_count": 3,
   "metadata": {
    "collapsed": false
   },
   "outputs": [
    {
     "data": {
      "text/html": [
       "<iframe id=\"igraph\" scrolling=\"no\" style=\"border:none;\" seamless=\"seamless\" src=\"https://plot.ly/~chelsea_lyn/9395.embed\" height=\"525px\" width=\"100%\"></iframe>"
      ],
      "text/plain": [
       "<plotly.tools.PlotlyDisplay object>"
      ]
     },
     "execution_count": 3,
     "metadata": {},
     "output_type": "execute_result"
    }
   ],
   "source": [
    "import plotly.plotly as py\n",
    "from plotly.tools import FigureFactory as FF\n",
    "\n",
    "import numpy as np\n",
    "\n",
    "x = np.random.randn(1000)  \n",
    "hist_data = [x]\n",
    "group_labels = ['distplot']\n",
    "\n",
    "fig = FF.create_distplot(hist_data, group_labels)\n",
    "py.iplot(fig, filename='Simple Distplot', validate=False)"
   ]
  },
  {
   "cell_type": "markdown",
   "metadata": {},
   "source": [
    "#### Plot Multiple Datasets and Customize Bin Size"
   ]
  },
  {
   "cell_type": "code",
   "execution_count": 4,
   "metadata": {
    "collapsed": false
   },
   "outputs": [
    {
     "data": {
      "text/html": [
       "<iframe id=\"igraph\" scrolling=\"no\" style=\"border:none;\" seamless=\"seamless\" src=\"https://plot.ly/~chelsea_lyn/11595.embed\" height=\"525px\" width=\"100%\"></iframe>"
      ],
      "text/plain": [
       "<plotly.tools.PlotlyDisplay object>"
      ]
     },
     "execution_count": 4,
     "metadata": {},
     "output_type": "execute_result"
    }
   ],
   "source": [
    "import plotly.plotly as py\n",
    "from plotly.tools import FigureFactory as FF\n",
    "\n",
    "import numpy as np\n",
    "\n",
    "# Add histogram data\n",
    "x1 = np.random.randn(200)-2  \n",
    "x2 = np.random.randn(200)  \n",
    "x3 = np.random.randn(200)+2  \n",
    "x4 = np.random.randn(200)+4  \n",
    "\n",
    "# Group data together\n",
    "hist_data = [x1, x2, x3, x4]\n",
    "\n",
    "group_labels = ['Group 1', 'Group 2', 'Group 3', 'Group 4']\n",
    "\n",
    "# Create distplot with custom bin_size\n",
    "fig = FF.create_distplot(hist_data, group_labels, bin_size=.2)\n",
    "\n",
    "# Plot!\n",
    "py.iplot(fig, filename='Distplot with Multiple Datasets', validate=False)"
   ]
  },
  {
   "cell_type": "markdown",
   "metadata": {},
   "source": [
    "#### Use Multiple Bin Sizes"
   ]
  },
  {
   "cell_type": "code",
   "execution_count": 6,
   "metadata": {
    "collapsed": false
   },
   "outputs": [
    {
     "data": {
      "text/html": [
       "<iframe id=\"igraph\" scrolling=\"no\" style=\"border:none;\" seamless=\"seamless\" src=\"https://plot.ly/~chelsea_lyn/11595.embed\" height=\"525px\" width=\"100%\"></iframe>"
      ],
      "text/plain": [
       "<plotly.tools.PlotlyDisplay object>"
      ]
     },
     "execution_count": 6,
     "metadata": {},
     "output_type": "execute_result"
    }
   ],
   "source": [
    "import plotly.plotly as py\n",
    "from plotly.tools import FigureFactory as FF\n",
    "\n",
    "import numpy as np\n",
    "\n",
    "# Add histogram data\n",
    "x1 = np.random.randn(200)-2  \n",
    "x2 = np.random.randn(200)  \n",
    "x3 = np.random.randn(200)+2  \n",
    "x4 = np.random.randn(200)+4  \n",
    "\n",
    "# Group data together\n",
    "hist_data = [x1, x2, x3, x4]\n",
    "\n",
    "group_labels = ['Group 1', 'Group 2', 'Group 3', 'Group 4']\n",
    "\n",
    "# Create distplot with custom bin_size\n",
    "fig = FF.create_distplot(hist_data, group_labels, bin_size=[.1, .25, .5, 1])\n",
    "\n",
    "# Plot!\n",
    "py.iplot(fig, filename='Distplot with Multiple Bin Sizes', validate=False)"
   ]
  },
  {
   "cell_type": "markdown",
   "metadata": {},
   "source": [
    "#### Customize Rug Text, Colors & Title"
   ]
  },
  {
   "cell_type": "code",
   "execution_count": 7,
   "metadata": {
    "collapsed": false
   },
   "outputs": [
    {
     "data": {
      "text/html": [
       "<iframe id=\"igraph\" scrolling=\"no\" style=\"border:none;\" seamless=\"seamless\" src=\"https://plot.ly/~chelsea_lyn/11882.embed\" height=\"525px\" width=\"100%\"></iframe>"
      ],
      "text/plain": [
       "<plotly.tools.PlotlyDisplay object>"
      ]
     },
     "execution_count": 7,
     "metadata": {},
     "output_type": "execute_result"
    }
   ],
   "source": [
    "import plotly.plotly as py\n",
    "from plotly.tools import FigureFactory as FF\n",
    "\n",
    "import numpy as np\n",
    "\n",
    "x1 = np.random.randn(26)  \n",
    "x2 = np.random.randn(26) + .5  \n",
    "\n",
    "hist_data = [x1, x2]\n",
    "\n",
    "group_labels = ['2014', '2015']\n",
    "\n",
    "rug_text_one = ['a', 'b', 'c', 'd', 'e',\n",
    "                'f', 'g', 'h', 'i', 'j', \n",
    "                'k', 'l', 'm', 'n', 'o',\n",
    "                'p', 'q', 'r', 's', 't', \n",
    "                'u', 'v', 'w', 'x', 'y', 'z'] \n",
    "\n",
    "rug_text_two = ['aa', 'bb', 'cc', 'dd', 'ee',\n",
    "                'ff', 'gg', 'hh', 'ii', 'jj', \n",
    "                'kk', 'll', 'mm', 'nn', 'oo',\n",
    "                'pp', 'qq', 'rr', 'ss', 'tt', \n",
    "                'uu', 'vv', 'ww', 'xx', 'yy', 'zz'] \n",
    "\n",
    "rug_text = [rug_text_one, rug_text_two]\n",
    "\n",
    "colors = ['rgb(0, 0, 100)', 'rgb(0, 200, 200)']\n",
    "\n",
    "# Create distplot with custom bin_size\n",
    "fig = FF.create_distplot(\n",
    "    hist_data, group_labels, bin_size=.2,\n",
    "    rug_text=rug_text, colors=colors)\n",
    "\n",
    "fig['layout'].update(title='Customized Distplot')\n",
    "\n",
    "# Plot!\n",
    "py.iplot(fig, filename='Distplot Colors', validate=False)"
   ]
  },
  {
   "cell_type": "markdown",
   "metadata": {},
   "source": [
    "#### Plot Normal Curve "
   ]
  },
  {
   "cell_type": "code",
   "execution_count": 13,
   "metadata": {
    "collapsed": false
   },
   "outputs": [
    {
     "data": {
      "text/html": [
       "<iframe id=\"igraph\" scrolling=\"no\" style=\"border:none;\" seamless=\"seamless\" src=\"https://plot.ly/~chelsea_lyn/11884.embed\" height=\"525px\" width=\"100%\"></iframe>"
      ],
      "text/plain": [
       "<plotly.tools.PlotlyDisplay object>"
      ]
     },
     "execution_count": 13,
     "metadata": {},
     "output_type": "execute_result"
    }
   ],
   "source": [
    "import plotly.plotly as py\n",
    "from plotly.tools import FigureFactory as FF\n",
    "\n",
    "import numpy as np\n",
    "\n",
    "x1 = np.random.randn(200)  \n",
    "x2 = np.random.randn(200) + 2    \n",
    "hist_data = [x1, x2]\n",
    "\n",
    "group_labels = ['Group 1', 'Group 2']\n",
    "\n",
    "colors = ['#3A4750', '#F64E8B']\n",
    "\n",
    "# Create distplot with curve_type set to 'normal'\n",
    "fig = FF.create_distplot(hist_data, group_labels, bin_size=.5, curve_type='normal', colors=colors)\n",
    "\n",
    "# Add title\n",
    "fig['layout'].update(title='Distplot with Normal Distribution')\n",
    "\n",
    "# Plot!\n",
    "py.iplot(fig, filename='Distplot with Normal Curve', validate=False)"
   ]
  },
  {
   "cell_type": "markdown",
   "metadata": {
    "collapsed": true
   },
   "source": [
    "#### Plot Only Curve and Rug"
   ]
  },
  {
   "cell_type": "code",
   "execution_count": 12,
   "metadata": {
    "collapsed": false
   },
   "outputs": [
    {
     "data": {
      "text/html": [
       "<iframe id=\"igraph\" scrolling=\"no\" style=\"border:none;\" seamless=\"seamless\" src=\"https://plot.ly/~chelsea_lyn/11886.embed\" height=\"525px\" width=\"100%\"></iframe>"
      ],
      "text/plain": [
       "<plotly.tools.PlotlyDisplay object>"
      ]
     },
     "execution_count": 12,
     "metadata": {},
     "output_type": "execute_result"
    }
   ],
   "source": [
    "import plotly.plotly as py\n",
    "from plotly.tools import FigureFactory as FF\n",
    "\n",
    "import numpy as np\n",
    "\n",
    "x1 = np.random.randn(200) - 1 \n",
    "x2 = np.random.randn(200)\n",
    "x3 = np.random.randn(200) + 1 \n",
    "\n",
    "hist_data = [x1, x2, x3]\n",
    "\n",
    "group_labels = ['Group 1', 'Group 2', 'Group 3']\n",
    "colors = ['#333F44', '#37AA9C', '#94F3E4']\n",
    "\n",
    "# Create distplot with curve_type set to 'normal'\n",
    "fig = FF.create_distplot(hist_data, group_labels, show_hist=False, colors=colors)\n",
    "\n",
    "# Add title\n",
    "fig['layout'].update(title='Curve and Rug Plot')\n",
    "\n",
    "# Plot!\n",
    "py.iplot(fig, filename='Curve and Rug', validate=False)"
   ]
  },
  {
   "cell_type": "markdown",
   "metadata": {},
   "source": [
    "#### Plot Only Hist and Rug"
   ]
  },
  {
   "cell_type": "code",
   "execution_count": 15,
   "metadata": {
    "collapsed": false
   },
   "outputs": [
    {
     "data": {
      "text/html": [
       "<iframe id=\"igraph\" scrolling=\"no\" style=\"border:none;\" seamless=\"seamless\" src=\"https://plot.ly/~chelsea_lyn/11888.embed\" height=\"525px\" width=\"100%\"></iframe>"
      ],
      "text/plain": [
       "<plotly.tools.PlotlyDisplay object>"
      ]
     },
     "execution_count": 15,
     "metadata": {},
     "output_type": "execute_result"
    }
   ],
   "source": [
    "import plotly.plotly as py\n",
    "from plotly.tools import FigureFactory as FF\n",
    "\n",
    "import numpy as np\n",
    "\n",
    "x1 = np.random.randn(200) - 1 \n",
    "x2 = np.random.randn(200)\n",
    "x3 = np.random.randn(200) + 1 \n",
    "\n",
    "hist_data = [x1, x2, x3]\n",
    "\n",
    "group_labels = ['Group 1', 'Group 2', 'Group 3']\n",
    "colors = ['#835AF1', '#7FA6EE', '#B8F7D4']\n",
    "\n",
    "# Create distplot with curve_type set to 'normal'\n",
    "fig = FF.create_distplot(hist_data, group_labels, colors=colors, bin_size=.25, show_curve=False)\n",
    "\n",
    "# Add title\n",
    "fig['layout'].update(title='Hist and Rug Plot')\n",
    "\n",
    "# Plot!\n",
    "py.iplot(fig, filename='Hist and Rug', validate=False)"
   ]
  },
  {
   "cell_type": "markdown",
   "metadata": {},
   "source": [
    "#### Plot Hist and Rug with Different Bin Sizes"
   ]
  },
  {
   "cell_type": "code",
   "execution_count": 17,
   "metadata": {
    "collapsed": false
   },
   "outputs": [
    {
     "data": {
      "text/html": [
       "<iframe id=\"igraph\" scrolling=\"no\" style=\"border:none;\" seamless=\"seamless\" src=\"https://plot.ly/~chelsea_lyn/11890.embed\" height=\"525px\" width=\"100%\"></iframe>"
      ],
      "text/plain": [
       "<plotly.tools.PlotlyDisplay object>"
      ]
     },
     "execution_count": 17,
     "metadata": {},
     "output_type": "execute_result"
    }
   ],
   "source": [
    "import plotly.plotly as py\n",
    "from plotly.tools import FigureFactory as FF\n",
    "\n",
    "import numpy as np\n",
    "\n",
    "x1 = np.random.randn(200) - 2 \n",
    "x2 = np.random.randn(200)\n",
    "x3 = np.random.randn(200) + 2 \n",
    "\n",
    "hist_data = [x1, x2, x3]\n",
    "\n",
    "group_labels = ['Group 1', 'Group 2', 'Group 3']\n",
    "colors = ['#393E46', '#2BCDC1', '#F66095']\n",
    "# Create distplot with curve_type set to 'normal'\n",
    "fig = FF.create_distplot(hist_data, group_labels, colors=colors, \n",
    "                         bin_size=[0.3, 0.2, 0.1], show_curve=False)\n",
    "\n",
    "# Add title\n",
    "fig['layout'].update(title='Hist and Rug Plot')\n",
    "\n",
    "# Plot!\n",
    "py.iplot(fig, filename='Hist and Rug Different Bin Size', validate=False)"
   ]
  },
  {
   "cell_type": "markdown",
   "metadata": {},
   "source": [
    "#### Plot Only Hist and Curve"
   ]
  },
  {
   "cell_type": "code",
   "execution_count": 21,
   "metadata": {
    "collapsed": false
   },
   "outputs": [
    {
     "data": {
      "text/html": [
       "<iframe id=\"igraph\" scrolling=\"no\" style=\"border:none;\" seamless=\"seamless\" src=\"https://plot.ly/~chelsea_lyn/11892.embed\" height=\"525px\" width=\"100%\"></iframe>"
      ],
      "text/plain": [
       "<plotly.tools.PlotlyDisplay object>"
      ]
     },
     "execution_count": 21,
     "metadata": {},
     "output_type": "execute_result"
    }
   ],
   "source": [
    "import plotly.plotly as py\n",
    "from plotly.tools import FigureFactory as FF\n",
    "\n",
    "import numpy as np\n",
    "\n",
    "x1 = np.random.randn(200) - 2 \n",
    "x2 = np.random.randn(200)\n",
    "x3 = np.random.randn(200) + 2 \n",
    "\n",
    "hist_data = [x1, x2, x3]\n",
    "\n",
    "group_labels = ['Group 1', 'Group 2', 'Group 3']\n",
    "colors = ['#A56CC1', '#A6ACEC', '#63F5EF']\n",
    "\n",
    "# Create distplot with curve_type set to 'normal'\n",
    "fig = FF.create_distplot(hist_data, group_labels, colors=colors,\n",
    "                         bin_size=.2, show_rug=False)\n",
    "\n",
    "# Add title\n",
    "fig['layout'].update(title='Hist and Curve Plot')\n",
    "\n",
    "# Plot!\n",
    "py.iplot(fig, filename='Hist and Curve', validate=False)"
   ]
  },
  {
   "cell_type": "markdown",
   "metadata": {},
   "source": [
    "#### Distplot with Pandas"
   ]
  },
  {
   "cell_type": "code",
   "execution_count": 22,
   "metadata": {
    "collapsed": false
   },
   "outputs": [
    {
     "data": {
      "text/html": [
       "<iframe id=\"igraph\" scrolling=\"no\" style=\"border:none;\" seamless=\"seamless\" src=\"https://plot.ly/~chelsea_lyn/8309.embed\" height=\"525px\" width=\"100%\"></iframe>"
      ],
      "text/plain": [
       "<plotly.tools.PlotlyDisplay object>"
      ]
     },
     "execution_count": 22,
     "metadata": {},
     "output_type": "execute_result"
    }
   ],
   "source": [
    "import plotly.plotly as py\n",
    "from plotly.tools import FigureFactory as FF\n",
    "import numpy as np\n",
    "import pandas as pd\n",
    "\n",
    "df = pd.DataFrame({'2012': np.random.randn(200),\n",
    "                   '2013': np.random.randn(200)+1})\n",
    "py.iplot(FF.create_distplot([df[c] for c in df.columns], df.columns, bin_size=.25),\n",
    "                            filename='examples/distplot with pandas',\n",
    "                            validate=False)"
   ]
  },
  {
   "cell_type": "markdown",
   "metadata": {},
   "source": [
    "#### Reference "
   ]
  },
  {
   "cell_type": "code",
   "execution_count": 23,
   "metadata": {
    "collapsed": false
   },
   "outputs": [
    {
     "name": "stdout",
     "output_type": "stream",
     "text": [
      "Help on function create_distplot in module plotly.tools:\n",
      "\n",
      "create_distplot(hist_data, group_labels, bin_size=1.0, curve_type='kde', colors=[], rug_text=[], histnorm='probability density', show_hist=True, show_curve=True, show_rug=True)\n",
      "    BETA function that creates a distplot similar to seaborn.distplot\n",
      "    \n",
      "    The distplot can be composed of all or any combination of the following\n",
      "    3 components: (1) histogram, (2) curve: (a) kernel density estimation\n",
      "    or (b) normal curve, and (3) rug plot. Additionally, multiple distplots\n",
      "    (from multiple datasets) can be created in the same plot.\n",
      "    \n",
      "    :param (list[list]) hist_data: Use list of lists to plot multiple data\n",
      "        sets on the same plot.\n",
      "    :param (list[str]) group_labels: Names for each data set.\n",
      "    :param (list[float]|float) bin_size: Size of histogram bins.\n",
      "        Default = 1.\n",
      "    :param (str) curve_type: 'kde' or 'normal'. Default = 'kde'\n",
      "    :param (str) histnorm: 'probability density' or 'probability'\n",
      "        Default = 'probability density'\n",
      "    :param (bool) show_hist: Add histogram to distplot? Default = True\n",
      "    :param (bool) show_curve: Add curve to distplot? Default = True\n",
      "    :param (bool) show_rug: Add rug to distplot? Default = True\n",
      "    :param (list[str]) colors: Colors for traces.\n",
      "    :param (list[list]) rug_text: Hovertext values for rug_plot,\n",
      "    :return (dict): Representation of a distplot figure.\n",
      "    \n",
      "    Example 1: Simple distplot of 1 data set\n",
      "    ```\n",
      "    import plotly.plotly as py\n",
      "    from plotly.tools import FigureFactory as FF\n",
      "    \n",
      "    hist_data = [[1.1, 1.1, 2.5, 3.0, 3.5,\n",
      "                  3.5, 4.1, 4.4, 4.5, 4.5,\n",
      "                  5.0, 5.0, 5.2, 5.5, 5.5,\n",
      "                  5.5, 5.5, 5.5, 6.1, 7.0]]\n",
      "    \n",
      "    group_labels = ['distplot example']\n",
      "    \n",
      "    fig = FF.create_distplot(hist_data, group_labels)\n",
      "    \n",
      "    url = py.plot(fig, filename='Simple distplot', validate=False)\n",
      "    ```\n",
      "    \n",
      "    Example 2: Two data sets and added rug text\n",
      "    ```\n",
      "    import plotly.plotly as py\n",
      "    from plotly.tools import FigureFactory as FF\n",
      "    \n",
      "    # Add histogram data\n",
      "    hist1_x = [0.8, 1.2, 0.2, 0.6, 1.6,\n",
      "               -0.9, -0.07, 1.95, 0.9, -0.2,\n",
      "               -0.5, 0.3, 0.4, -0.37, 0.6]\n",
      "    hist2_x = [0.8, 1.5, 1.5, 0.6, 0.59,\n",
      "               1.0, 0.8, 1.7, 0.5, 0.8,\n",
      "               -0.3, 1.2, 0.56, 0.3, 2.2]\n",
      "    \n",
      "    # Group data together\n",
      "    hist_data = [hist1_x, hist2_x]\n",
      "    \n",
      "    group_labels = ['2012', '2013']\n",
      "    \n",
      "    # Add text\n",
      "    rug_text_1 = ['a1', 'b1', 'c1', 'd1', 'e1',\n",
      "          'f1', 'g1', 'h1', 'i1', 'j1',\n",
      "          'k1', 'l1', 'm1', 'n1', 'o1']\n",
      "    \n",
      "    rug_text_2 = ['a2', 'b2', 'c2', 'd2', 'e2',\n",
      "          'f2', 'g2', 'h2', 'i2', 'j2',\n",
      "          'k2', 'l2', 'm2', 'n2', 'o2']\n",
      "    \n",
      "    # Group text together\n",
      "    rug_text_all = [rug_text_1, rug_text_2]\n",
      "    \n",
      "    # Create distplot\n",
      "    fig = FF.create_distplot(\n",
      "        hist_data, group_labels, rug_text=rug_text_all, bin_size=.2)\n",
      "    \n",
      "    # Add title\n",
      "    fig['layout'].update(title='Dist Plot')\n",
      "    \n",
      "    # Plot!\n",
      "    url = py.plot(fig, filename='Distplot with rug text', validate=False)\n",
      "    ```\n",
      "    \n",
      "    Example 3: Plot with normal curve and hide rug plot\n",
      "    ```\n",
      "    import plotly.plotly as py\n",
      "    from plotly.tools import FigureFactory as FF\n",
      "    import numpy as np\n",
      "    \n",
      "    x1 = np.random.randn(190)\n",
      "    x2 = np.random.randn(200)+1\n",
      "    x3 = np.random.randn(200)-1\n",
      "    x4 = np.random.randn(210)+2\n",
      "    \n",
      "    hist_data = [x1, x2, x3, x4]\n",
      "    group_labels = ['2012', '2013', '2014', '2015']\n",
      "    \n",
      "    fig = FF.create_distplot(\n",
      "        hist_data, group_labels, curve_type='normal',\n",
      "        show_rug=False, bin_size=.4)\n",
      "    \n",
      "    url = py.plot(fig, filename='hist and normal curve', validate=False)\n",
      "    \n",
      "    Example 4: Distplot with Pandas\n",
      "    ```\n",
      "    import plotly.plotly as py\n",
      "    from plotly.tools import FigureFactory as FF\n",
      "    import numpy as np\n",
      "    import pandas as pd\n",
      "    \n",
      "    df = pd.DataFrame({'2012': np.random.randn(200),\n",
      "                       '2013': np.random.randn(200)+1})\n",
      "    py.iplot(FF.create_distplot([df[c] for c in df.columns], df.columns),\n",
      "                                filename='examples/distplot with pandas',\n",
      "                                validate=False)\n",
      "    ```\n",
      "\n"
     ]
    }
   ],
   "source": [
    "help(FF.create_distplot)"
   ]
  },
  {
   "cell_type": "code",
   "execution_count": 24,
   "metadata": {
    "collapsed": false
   },
   "outputs": [
    {
     "data": {
      "text/html": [
       "<link href=\"//fonts.googleapis.com/css?family=Open+Sans:600,400,300,200|Inconsolata|Ubuntu+Mono:400,700\" rel=\"stylesheet\" type=\"text/css\" />"
      ],
      "text/plain": [
       "<IPython.core.display.HTML object>"
      ]
     },
     "metadata": {},
     "output_type": "display_data"
    },
    {
     "data": {
      "text/html": [
       "<link rel=\"stylesheet\" type=\"text/css\" href=\"http://help.plot.ly/documentation/all_static/css/ipython-notebook-custom.css\">"
      ],
      "text/plain": [
       "<IPython.core.display.HTML object>"
      ]
     },
     "metadata": {},
     "output_type": "display_data"
    },
    {
     "name": "stdout",
     "output_type": "stream",
     "text": [
      "Collecting git+https://github.com/plotly/publisher.git\n",
      "  Cloning https://github.com/plotly/publisher.git to /var/folders/72/g6h98xwx0h1gp4kc8rzhsdh80000gn/T/pip-VEv2Yw-build\n",
      "Installing collected packages: publisher\n",
      "  Found existing installation: publisher 0.10\n",
      "    Uninstalling publisher-0.10:\n",
      "      Successfully uninstalled publisher-0.10\n",
      "  Running setup.py install for publisher ... \u001b[?25l-\b \bdone\n",
      "\u001b[?25hSuccessfully installed publisher-0.10\n",
      "\u001b[33mYou are using pip version 8.0.3, however version 8.1.2 is available.\n",
      "You should consider upgrading via the 'pip install --upgrade pip' command.\u001b[0m\n"
     ]
    }
   ],
   "source": [
    "from IPython.display import display, HTML\n",
    "\n",
    "display(HTML('<link href=\"//fonts.googleapis.com/css?family=Open+Sans:600,400,300,200|Inconsolata|Ubuntu+Mono:400,700\" rel=\"stylesheet\" type=\"text/css\" />'))\n",
    "display(HTML('<link rel=\"stylesheet\" type=\"text/css\" href=\"http://help.plot.ly/documentation/all_static/css/ipython-notebook-custom.css\">'))\n",
    "\n",
    "! pip install git+https://github.com/plotly/publisher.git --upgrade\n",
    "import publisher\n",
    "publisher.publish(\n",
    "    'distplots.ipynb', 'python/distplot/', 'Python Distplots | plotly',\n",
    "    'How to make interactive Distplots in Python with Plotly. ',\n",
    "    title = 'Python Distplots | plotly',\n",
    "    name = 'Distplots',\n",
    "    has_thumbnail='true', thumbnail='thumbnail/distplot.jpg', \n",
    "    language='python', page_type='example_index', \n",
    "    display_as='statistical', order=5)  "
   ]
  },
  {
   "cell_type": "code",
   "execution_count": null,
   "metadata": {
    "collapsed": true
   },
   "outputs": [],
   "source": []
  }
 ],
 "metadata": {
  "kernelspec": {
   "display_name": "Python 2",
   "language": "python",
   "name": "python2"
  },
  "language_info": {
   "codemirror_mode": {
    "name": "ipython",
    "version": 2
   },
   "file_extension": ".py",
   "mimetype": "text/x-python",
   "name": "python",
   "nbconvert_exporter": "python",
   "pygments_lexer": "ipython2",
   "version": "2.7.11"
  }
 },
 "nbformat": 4,
 "nbformat_minor": 0
}
