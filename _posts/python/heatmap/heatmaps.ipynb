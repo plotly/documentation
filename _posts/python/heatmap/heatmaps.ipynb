{
 "cells": [
  {
   "cell_type": "markdown",
   "metadata": {},
   "source": [
    "#### New to Plotly?\n",
    "Plotly's Python library is free and open source! [Get started](https://plot.ly/python/getting-started/) by downloading the client and [reading the primer](https://plot.ly/python/getting-started/).\n",
    "<br>You can set up Plotly to work in [online](https://plot.ly/python/getting-started/#initialization-for-online-plotting) or [offline](https://plot.ly/python/getting-started/#initialization-for-offline-plotting) mode, or in [jupyter notebooks](https://plot.ly/python/getting-started/#start-plotting-online).\n",
    "<br>We also have a quick-reference [cheatsheet](https://images.plot.ly/plotly-documentation/images/python_cheat_sheet.pdf) (new!) to help you get started!\n"
   ]
  },
  {
   "cell_type": "markdown",
   "metadata": {},
   "source": [
    "### Basic Heatmap"
   ]
  },
  {
   "cell_type": "code",
   "execution_count": 1,
   "metadata": {
    "collapsed": false
   },
   "outputs": [
    {
     "data": {
      "text/html": [
       "<iframe id=\"igraph\" scrolling=\"no\" style=\"border:none;\" seamless=\"seamless\" src=\"https://plot.ly/~Diksha_Gabha/553.embed\" height=\"525px\" width=\"100%\"></iframe>"
      ],
      "text/plain": [
       "<plotly.tools.PlotlyDisplay object>"
      ]
     },
     "execution_count": 1,
     "metadata": {},
     "output_type": "execute_result"
    }
   ],
   "source": [
    "import plotly.plotly as py\n",
    "import plotly.graph_objs as go\n",
    "\n",
    "data = [\n",
    "    go.Heatmap(\n",
    "        z=[[1, 20, 30],\n",
    "           [20, 1, 60],\n",
    "           [30, 60, 1]]\n",
    "    )\n",
    "]\n",
    "py.iplot(data, filename='basic-heatmap')"
   ]
  },
  {
   "cell_type": "markdown",
   "metadata": {},
   "source": [
    "### Heatmap with Categorical Axis Labels"
   ]
  },
  {
   "cell_type": "code",
   "execution_count": 2,
   "metadata": {
    "collapsed": false
   },
   "outputs": [
    {
     "data": {
      "text/html": [
       "<iframe id=\"igraph\" scrolling=\"no\" style=\"border:none;\" seamless=\"seamless\" src=\"https://plot.ly/~Diksha_Gabha/555.embed\" height=\"525px\" width=\"100%\"></iframe>"
      ],
      "text/plain": [
       "<plotly.tools.PlotlyDisplay object>"
      ]
     },
     "execution_count": 2,
     "metadata": {},
     "output_type": "execute_result"
    }
   ],
   "source": [
    "\n",
    "import plotly.plotly as py\n",
    "import plotly.graph_objs as go\n",
    "\n",
    "data = [\n",
    "    go.Heatmap(\n",
    "        z=[[1, 20, 30, 50, 1], [20, 1, 60, 80, 30], [30, 60, 1, -10, 20]],\n",
    "        x=['Monday', 'Tuesday', 'Wednesday', 'Thursday', 'Friday'],\n",
    "        y=['Morning', 'Afternoon', 'Evening']\n",
    "    )\n",
    "]\n",
    "py.iplot(data, filename='labelled-heatmap')\n"
   ]
  },
  {
   "cell_type": "markdown",
   "metadata": {},
   "source": [
    "### Annotated Heatmap"
   ]
  },
  {
   "cell_type": "code",
   "execution_count": 3,
   "metadata": {
    "collapsed": false
   },
   "outputs": [
    {
     "data": {
      "text/html": [
       "<iframe id=\"igraph\" scrolling=\"no\" style=\"border:none;\" seamless=\"seamless\" src=\"https://plot.ly/~Diksha_Gabha/557.embed\" height=\"700px\" width=\"700px\"></iframe>"
      ],
      "text/plain": [
       "<plotly.tools.PlotlyDisplay object>"
      ]
     },
     "execution_count": 3,
     "metadata": {},
     "output_type": "execute_result"
    }
   ],
   "source": [
    "import plotly.plotly as py\n",
    "import plotly.graph_objs as go\n",
    "\n",
    "x = ['A', 'B', 'C', 'D', 'E']\n",
    "y = ['W', 'X', 'Y', 'Z']\n",
    "\n",
    "#       x0    x1    x2    x3    x4\n",
    "z = [[0.00, 0.00, 0.75, 0.75, 0.00],  # y0\n",
    "     [0.00, 0.00, 0.75, 0.75, 0.00],  # y1\n",
    "     [0.75, 0.75, 0.75, 0.75, 0.75],  # y2\n",
    "     [0.00, 0.00, 0.00, 0.75, 0.00]]  # y3\n",
    "\n",
    "annotations = []\n",
    "for n, row in enumerate(z):\n",
    "    for m, val in enumerate(row):\n",
    "        var = z[n][m]\n",
    "        annotations.append(\n",
    "            dict(\n",
    "                text=str(val),\n",
    "                x=x[m], y=y[n],\n",
    "                xref='x1', yref='y1',\n",
    "                font=dict(color='white' if val > 0.5 else 'black'),\n",
    "                showarrow=False)\n",
    "            )\n",
    "\n",
    "colorscale = [[0, '#3D9970'], [1, '#001f3f']]  # custom colorscale\n",
    "trace = go.Heatmap(x=x, y=y, z=z, colorscale=colorscale, showscale=False)\n",
    "\n",
    "fig = go.Figure(data=[trace])\n",
    "fig['layout'].update(\n",
    "    title=\"Annotated Heatmap\",\n",
    "    annotations=annotations,\n",
    "    xaxis=dict(ticks='', side='top'),\n",
    "    # ticksuffix is a workaround to add a bit of padding\n",
    "    yaxis=dict(ticks='', ticksuffix='  '),\n",
    "    width=700,\n",
    "    height=700,\n",
    "    autosize=False\n",
    ")\n",
    "py.iplot(fig, filename='Annotated Heatmap', height=750)\n"
   ]
  },
  {
   "cell_type": "markdown",
   "metadata": {},
   "source": [
    "### Heatmap with Unequal Block Sizes\n"
   ]
  },
  {
   "cell_type": "code",
   "execution_count": 4,
   "metadata": {
    "collapsed": false
   },
   "outputs": [
    {
     "data": {
      "text/html": [
       "<iframe id=\"igraph\" scrolling=\"no\" style=\"border:none;\" seamless=\"seamless\" src=\"https://plot.ly/~Diksha_Gabha/559.embed\" height=\"700px\" width=\"700px\"></iframe>"
      ],
      "text/plain": [
       "<plotly.tools.PlotlyDisplay object>"
      ]
     },
     "execution_count": 4,
     "metadata": {},
     "output_type": "execute_result"
    }
   ],
   "source": [
    "import numpy as np\n",
    "import plotly.plotly as py\n",
    "\n",
    "# Golden spiral with fibonacci rectangles\n",
    "\n",
    "## Build the spiral\n",
    "def spiral(th):\n",
    "    a = 1.120529\n",
    "    b = 0.306349\n",
    "    r = a*np.exp(-b*th)\n",
    "    return (r*np.cos(th), r*np.sin(th))\n",
    "\n",
    "nspiral = 2 # number of spiral loops\n",
    "\n",
    "th = np.linspace(-np.pi/13,2*np.pi*nspiral,1000); # angle\n",
    "(x,y) = spiral(th)\n",
    "\n",
    "# shift the spiral north so that it is centered\n",
    "yshift = (1.6 - (max(y)-min(y)))/2\n",
    "\n",
    "s = dict(x= -x+x[0], y= y-y[0]+yshift,\n",
    "     line =dict(color='white',width=3))  # spiral\n",
    "\n",
    "# Build the rectangles as a heatmap\n",
    "# specify the edges of the heatmap squares\n",
    "phi = ( 1+np.sqrt(5) )/2.\n",
    "xe = [0, 1, 1+(1/(phi**4)), 1+(1/(phi**3)), phi]\n",
    "ye = [0, 1/(phi**3),1/phi**3+1/phi**4,1/(phi**2),1]\n",
    "\n",
    "z = [ [13,3,3,5],\n",
    "      [13,2,1,5],\n",
    "      [13,10,11,12],\n",
    "      [13,8,8,8]\n",
    "    ]\n",
    "\n",
    "hm = dict(x = np.sort(xe),\n",
    "          y = np.sort(ye)+yshift,\n",
    "          z = z,\n",
    "          type = 'heatmap',\n",
    "          colorscale = 'Viridis')\n",
    "\n",
    "axis_template = dict(range = [0,1.6], autorange = False,\n",
    "             showgrid = False, zeroline = False,\n",
    "             linecolor = 'black', showticklabels = False,\n",
    "             ticks = '' )\n",
    "\n",
    "layout = dict( margin = dict(t=200,r=200,b=200,l=200),\n",
    "    xaxis = axis_template,\n",
    "    yaxis = axis_template,\n",
    "    showlegend = False,\n",
    "    width = 700, height = 700,\n",
    "    autosize = False )\n",
    "\n",
    "figure = dict(data=[s, hm],layout=layout)\n",
    "\n",
    "py.iplot(figure, filename='golden spiral', height=750)\n"
   ]
  },
  {
   "cell_type": "markdown",
   "metadata": {},
   "source": [
    "### Heatmap with Datetime Axis"
   ]
  },
  {
   "cell_type": "code",
   "execution_count": 5,
   "metadata": {
    "collapsed": false
   },
   "outputs": [
    {
     "data": {
      "text/html": [
       "<iframe id=\"igraph\" scrolling=\"no\" style=\"border:none;\" seamless=\"seamless\" src=\"https://plot.ly/~Diksha_Gabha/561.embed\" height=\"525px\" width=\"100%\"></iframe>"
      ],
      "text/plain": [
       "<plotly.tools.PlotlyDisplay object>"
      ]
     },
     "execution_count": 5,
     "metadata": {},
     "output_type": "execute_result"
    }
   ],
   "source": [
    "\n",
    "import datetime\n",
    "import numpy as np\n",
    "import plotly.plotly as py\n",
    "import plotly.graph_objs as go\n",
    "\n",
    "programmers = ['Alex','Nicole','Sara','Etienne','Chelsea','Jody','Marianne']\n",
    "\n",
    "base = datetime.datetime.today()\n",
    "date_list = [base - datetime.timedelta(days=x) for x in range(0, 180)]\n",
    "\n",
    "z = []\n",
    "\n",
    "for prgmr in programmers:\n",
    "    new_row = []\n",
    "    for date in date_list:\n",
    "        new_row.append( np.random.poisson() )\n",
    "    z.append(list(new_row))\n",
    "\n",
    "data = [\n",
    "    go.Heatmap(\n",
    "        z=z,\n",
    "        x=date_list,\n",
    "        y=programmers,\n",
    "        colorscale='Viridis',\n",
    "    )\n",
    "]\n",
    "\n",
    "layout = go.Layout(\n",
    "    title='GitHub commits per day',\n",
    "    xaxis = dict(ticks='', nticks=36),\n",
    "    yaxis = dict(ticks='' )\n",
    ")\n",
    "\n",
    "fig = go.Figure(data=data, layout=layout)\n",
    "py.iplot(fig, filename='datetime-heatmap')"
   ]
  },
  {
   "cell_type": "markdown",
   "metadata": {},
   "source": [
    "#### Reference\n",
    "See https://plot.ly/python/reference/#heatmap for more information and chart attribute options!\n"
   ]
  },
  {
   "cell_type": "code",
   "execution_count": 10,
   "metadata": {
    "collapsed": false
   },
   "outputs": [
    {
     "data": {
      "text/html": [
       "<link href=\"//fonts.googleapis.com/css?family=Open+Sans:600,400,300,200|Inconsolata|Ubuntu+Mono:400,700rel=\"stylesheet\" type=\"text/css\" />"
      ],
      "text/plain": [
       "<IPython.core.display.HTML object>"
      ]
     },
     "metadata": {},
     "output_type": "display_data"
    },
    {
     "data": {
      "text/html": [
       "<link rel=\"stylesheet\" type=\"text/csshref=\"http://help.plot.ly/documentation/all_static/css/ipython-notebook-custom.css\">"
      ],
      "text/plain": [
       "<IPython.core.display.HTML object>"
      ]
     },
     "metadata": {},
     "output_type": "display_data"
    },
    {
     "name": "stdout",
     "output_type": "stream",
     "text": [
      "Downloading/unpacking git+https://github.com/plotly/publisher.git\n",
      "  Cloning https://github.com/plotly/publisher.git to /tmp/pip-9yJjZN-build\n",
      "  Running setup.py (path:/tmp/pip-9yJjZN-build/setup.py) egg_info for package from git+https://github.com/plotly/publisher.git\n",
      "    \n",
      "    warning: no files found matching '*.txt' under directory 'docs'\n",
      "    no previously-included directories found matching 'dist'\n",
      "Installing collected packages: publisher\n",
      "  Running setup.py install for publisher\n",
      "    \n",
      "    warning: no files found matching '*.txt' under directory 'docs'\n",
      "    no previously-included directories found matching 'dist'\n",
      "Successfully installed publisher\n",
      "Cleaning up...\n"
     ]
    }
   ],
   "source": [
    "from IPython.display import display, HTML\n",
    "\n",
    "display(HTML('<link href=\"//fonts.googleapis.com/css?family=Open+Sans:600,400,300,200|Inconsolata|Ubuntu+Mono:400,700rel=\"stylesheet\" type=\"text/css\" />'))\n",
    "display(HTML('<link rel=\"stylesheet\" type=\"text/csshref=\"http://help.plot.ly/documentation/all_static/css/ipython-notebook-custom.css\">'))\n",
    "\n",
    "! pip install git+https://github.com/plotly/publisher.git --upgrade\n",
    "\n",
    "import publisher\n",
    "publisher.publish(\n",
    "    'heatmaps.ipynb', ' python/heatmaps/', 'Heatmaps | plotly',\n",
    "    'How to make Heatmaps in Python with Plotly.',\n",
    "    title = 'Python Heatmaps | plotly',\n",
    "    name = 'Heatmaps',\n",
    "    has_thumbnail='true', thumbnail='thumbnail/heatmap.jpg', \n",
    "    language='python', page_type='example_index',\n",
    "    display_as='scientific',order=3)  "
   ]
  },
  {
   "cell_type": "code",
   "execution_count": null,
   "metadata": {
    "collapsed": true
   },
   "outputs": [],
   "source": []
  }
 ],
 "metadata": {
  "kernelspec": {
   "display_name": "Python 2",
   "language": "python",
   "name": "python2"
  },
  "language_info": {
   "codemirror_mode": {
    "name": "ipython",
    "version": 2
   },
   "file_extension": ".py",
   "mimetype": "text/x-python",
   "name": "python",
   "nbconvert_exporter": "python",
   "pygments_lexer": "ipython2",
   "version": "2.7.9"
  }
 },
 "nbformat": 4,
 "nbformat_minor": 0
}
