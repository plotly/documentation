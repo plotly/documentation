{
 "cells": [
  {
   "cell_type": "markdown",
   "metadata": {},
   "source": [
    "#### New to Plotly?\n",
    "Plotly's Python library is free and open source! [Get started](https://plot.ly/python/getting-started/) by dowloading the client and [reading the primer](https://plot.ly/python/getting-started/).\n",
    "<br>You can set up Plotly to work in [online](https://plot.ly/python/getting-started/#initialization-for-online-plotting) or [offline](https://plot.ly/python/getting-started/#initialization-for-offline-plotting) mode, or in [jupyter notebooks](https://plot.ly/python/getting-started/#start-plotting-online).\n",
    "<br>We also have a quick-reference [cheatsheet](https://images.plot.ly/plotly-documentation/images/python_cheat_sheet.pdf) (new!) to help you get started!\n"
   ]
  },
  {
   "cell_type": "markdown",
   "metadata": {},
   "source": [
    "### Formatting the Colormap"
   ]
  },
  {
   "cell_type": "code",
   "execution_count": 1,
   "metadata": {
    "collapsed": true
   },
   "outputs": [],
   "source": [
    "parula_colors_list = [[0.2081, 0.1663, 0.5292], [0.2116238095, 0.1897809524, 0.5776761905], \n",
    "                      [0.212252381, 0.2137714286, 0.6269714286], [0.2081, 0.2386, 0.6770857143], \n",
    "                      [0.1959047619, 0.2644571429, 0.7279], [0.1707285714, 0.2919380952, 0.779247619],\n",
    "                      [0.1252714286, 0.3242428571, 0.8302714286], [0.0591333333, 0.3598333333, 0.8683333333],\n",
    "                      [0.0116952381, 0.3875095238, 0.8819571429], [0.0059571429, 0.4086142857, 0.8828428571], \n",
    "                      [0.0165142857, 0.4266, 0.8786333333], [0.032852381, 0.4430428571, 0.8719571429],\n",
    "                      [0.0498142857, 0.4585714286, 0.8640571429], [0.0629333333, 0.4736904762, 0.8554380952],\n",
    "                      [0.0722666667, 0.4886666667, 0.8467], [0.0779428571, 0.5039857143, 0.8383714286], \n",
    "                      [0.079347619, 0.5200238095, 0.8311809524], [0.0749428571, 0.5375428571, 0.8262714286], \n",
    "                      [0.0640571429, 0.5569857143, 0.8239571429], [0.0487714286, 0.5772238095, 0.8228285714],\n",
    "                      [0.0343428571, 0.5965809524, 0.819852381], [0.0265, 0.6137, 0.8135], \n",
    "                      [0.0238904762, 0.6286619048, 0.8037619048], [0.0230904762, 0.6417857143, 0.7912666667], \n",
    "                      [0.0227714286, 0.6534857143, 0.7767571429], [0.0266619048, 0.6641952381, 0.7607190476],\n",
    "                      [0.0383714286, 0.6742714286, 0.743552381], [0.0589714286, 0.6837571429, 0.7253857143], \n",
    "                      [0.0843, 0.6928333333, 0.7061666667], [0.1132952381, 0.7015, 0.6858571429], \n",
    "                      [0.1452714286, 0.7097571429, 0.6646285714], [0.1801333333, 0.7176571429, 0.6424333333],\n",
    "                      [0.2178285714, 0.7250428571, 0.6192619048], [0.2586428571, 0.7317142857, 0.5954285714],\n",
    "                      [0.3021714286, 0.7376047619, 0.5711857143], [0.3481666667, 0.7424333333, 0.5472666667], \n",
    "                      [0.3952571429, 0.7459, 0.5244428571], [0.4420095238, 0.7480809524, 0.5033142857],\n",
    "                      [0.4871238095, 0.7490619048, 0.4839761905], [0.5300285714, 0.7491142857, 0.4661142857], \n",
    "                      [0.5708571429, 0.7485190476, 0.4493904762], [0.609852381, 0.7473142857, 0.4336857143], \n",
    "                      [0.6473, 0.7456, 0.4188], [0.6834190476, 0.7434761905, 0.4044333333], \n",
    "                      [0.7184095238, 0.7411333333, 0.3904761905], [0.7524857143, 0.7384, 0.3768142857], \n",
    "                      [0.7858428571, 0.7355666667,  0.3632714286], [0.8185047619, 0.7327333333, 0.3497904762], \n",
    "                      [0.8506571429, 0.7299, 0.3360285714], [0.8824333333, 0.7274333333, 0.3217], \n",
    "                      [0.9139333333, 0.7257857143, 0.3062761905], [0.9449571429, 0.7261142857, 0.2886428571],\n",
    "                      [0.9738952381, 0.7313952381, 0.266647619], [0.9937714286, 0.7454571429, 0.240347619],\n",
    "                      [0.9990428571, 0.7653142857, 0.2164142857], [0.9955333333, 0.7860571429, 0.196652381], \n",
    "                      [0.988, 0.8066, 0.1793666667], [0.9788571429, 0.8271428571, 0.1633142857], \n",
    "                      [0.9697, 0.8481380952, 0.147452381], [0.9625857143, 0.8705142857, 0.1309], \n",
    "                      [0.9588714286, 0.8949, 0.1132428571], [0.9598238095, 0.9218333333, 0.0948380952], \n",
    "                      [0.9661, 0.9514428571, 0.0755333333], [0.9763, 0.9831, 0.0538]]"
   ]
  },
  {
   "cell_type": "code",
   "execution_count": 2,
   "metadata": {
    "collapsed": false
   },
   "outputs": [],
   "source": [
    "import matplotlib\n",
    "from matplotlib import cm\n",
    "\n",
    "magma_cmap = matplotlib.cm.get_cmap('magma')\n",
    "viridis_cmap = matplotlib.cm.get_cmap('viridis')\n",
    "\n",
    "viridis_rgb = []\n",
    "magma_rgb = []\n",
    "norm = matplotlib.colors.Normalize(vmin=0, vmax=255)\n",
    "\n",
    "for i in range(0, 255):\n",
    "       k = matplotlib.colors.colorConverter.to_rgb(magma_cmap(norm(i)))\n",
    "       magma_rgb.append(k)\n",
    "\n",
    "for i in range(0, 255):\n",
    "       k = matplotlib.colors.colorConverter.to_rgb(viridis_cmap(norm(i)))\n",
    "       viridis_rgb.append(k)\n",
    "\n",
    "def matplotlib_to_plotly(mpl):\n",
    "        return [[float(i)/float(len(mpl)-1), 'rgb' + str((mpl[i][0]*255, mpl[i][1]*255, mpl[i][2]*255))] \\\n",
    "            for i in range(len(mpl))]\n",
    "\n",
    "magma = matplotlib_to_plotly(magma_rgb)\n",
    "viridis = matplotlib_to_plotly(viridis_rgb)\n",
    "parula = matplotlib_to_plotly(parula_colors_list)"
   ]
  },
  {
   "cell_type": "markdown",
   "metadata": {},
   "source": [
    "### Colorscales  for Heatmaps"
   ]
  },
  {
   "cell_type": "code",
   "execution_count": 3,
   "metadata": {
    "collapsed": false
   },
   "outputs": [],
   "source": [
    "import plotly.plotly as py\n",
    "import numpy as np\n",
    "import os\n",
    "import plotly.graph_objs as go\n",
    "from plotly import tools\n",
    "\n",
    "def heatmap_plot(colorscale, title):\n",
    "    example_dir = os.path.join(os.path.dirname('__file__'), \"examples\")\n",
    "    \n",
    "    hist2d = np.loadtxt(os.path.join(example_dir, \"hist2d.txt\"))\n",
    "    trace1 = go.Heatmap(z=hist2d, colorscale=colorscale, showscale=False)\n",
    "\n",
    "    st_helens = np.loadtxt(os.path.join(example_dir,\n",
    "                                        \"st-helens_before-modified.txt.gz\")).T\n",
    "    trace2 = go.Heatmap(z=st_helens, colorscale=colorscale, y0=-5, x0=-5)\n",
    "\n",
    "    dx = dy = 0.05  \n",
    "    y, x = np.mgrid[-5 : 5 + dy : dy, -5 : 10 + dx : dx]\n",
    "    z = np.sin(x)**10 + np.cos(10 + y*x) + np.cos(x) + 0.2*y + 0.1*x\n",
    "    trace3 = go.Heatmap(z=z,colorscale=colorscale, showscale=False)\n",
    "    \n",
    "    fig = tools.make_subplots(rows=1, cols=3, print_grid=False)\n",
    "    fig.append_trace(trace1, 1, 1)\n",
    "    fig.append_trace(trace2, 1, 2)\n",
    "    fig.append_trace(trace3, 1, 3)\n",
    "    fig['layout'].update(title=title)\n",
    "    fig['layout']['xaxis2'].update(range=[0, 450])\n",
    "    fig['layout']['yaxis2'].update(range=[0, 270])\n",
    "    \n",
    "    return fig"
   ]
  },
  {
   "cell_type": "code",
   "execution_count": 4,
   "metadata": {
    "collapsed": false
   },
   "outputs": [
    {
     "data": {
      "text/html": [
       "<iframe id=\"igraph\" scrolling=\"no\" style=\"border:none;\" seamless=\"seamless\" src=\"https://plot.ly/~Diksha_Gabha/1211.embed\" height=\"525px\" width=\"100%\"></iframe>"
      ],
      "text/plain": [
       "<plotly.tools.PlotlyDisplay object>"
      ]
     },
     "execution_count": 4,
     "metadata": {},
     "output_type": "execute_result"
    }
   ],
   "source": [
    "py.iplot(heatmap_plot(colorscale=magma, title='MAGMA'))"
   ]
  },
  {
   "cell_type": "code",
   "execution_count": 5,
   "metadata": {
    "collapsed": false
   },
   "outputs": [
    {
     "data": {
      "text/html": [
       "<iframe id=\"igraph\" scrolling=\"no\" style=\"border:none;\" seamless=\"seamless\" src=\"https://plot.ly/~Diksha_Gabha/1213.embed\" height=\"525px\" width=\"100%\"></iframe>"
      ],
      "text/plain": [
       "<plotly.tools.PlotlyDisplay object>"
      ]
     },
     "execution_count": 5,
     "metadata": {},
     "output_type": "execute_result"
    }
   ],
   "source": [
    "py.iplot(heatmap_plot(colorscale=viridis, title='VIRIDIS'))"
   ]
  },
  {
   "cell_type": "code",
   "execution_count": 6,
   "metadata": {
    "collapsed": false
   },
   "outputs": [
    {
     "data": {
      "text/html": [
       "<iframe id=\"igraph\" scrolling=\"no\" style=\"border:none;\" seamless=\"seamless\" src=\"https://plot.ly/~Diksha_Gabha/1215.embed\" height=\"525px\" width=\"100%\"></iframe>"
      ],
      "text/plain": [
       "<plotly.tools.PlotlyDisplay object>"
      ]
     },
     "execution_count": 6,
     "metadata": {},
     "output_type": "execute_result"
    }
   ],
   "source": [
    "py.iplot(heatmap_plot(colorscale=parula, title='PARULA'))"
   ]
  },
  {
   "cell_type": "markdown",
   "metadata": {},
   "source": [
    "### Colorscales for Trisurf Plots"
   ]
  },
  {
   "cell_type": "code",
   "execution_count": 7,
   "metadata": {
    "collapsed": false,
    "scrolled": false
   },
   "outputs": [
    {
     "data": {
      "text/html": [
       "<iframe id=\"igraph\" scrolling=\"no\" style=\"border:none;\" seamless=\"seamless\" src=\"https://plot.ly/~Diksha_Gabha/1217.embed\" height=\"800px\" width=\"800px\"></iframe>"
      ],
      "text/plain": [
       "<plotly.tools.PlotlyDisplay object>"
      ]
     },
     "execution_count": 7,
     "metadata": {},
     "output_type": "execute_result"
    }
   ],
   "source": [
    "import plotly.plotly as py\n",
    "from plotly.tools import FigureFactory as FF\n",
    "from plotly.graph_objs import graph_objs\n",
    "import colormap\n",
    "import numpy as np\n",
    "from scipy.spatial import Delaunay\n",
    "\n",
    "u = np.linspace(0, 2*np.pi, 24)\n",
    "v = np.linspace(-1, 1, 8)\n",
    "u,v = np.meshgrid(u, v)\n",
    "u = u.flatten()\n",
    "v = v.flatten()\n",
    "\n",
    "tp = 1 + 0.5*v*np.cos(u/2.)\n",
    "x = tp*np.cos(u)\n",
    "y = tp*np.sin(u)\n",
    "z = 0.5*v*np.sin(u/2.)\n",
    "\n",
    "points2D = np.vstack([u, v]).T\n",
    "tri = Delaunay(points2D)\n",
    "simplices = tri.simplices\n",
    "\n",
    "trace1 = FF.create_trisurf(x=x, y=y, z=z,\n",
    "                           simplices=simplices, colormap=magma_rgb, plot_edges=False,\n",
    "                           title='Magma Colorscale for Trisurf Plot')\n",
    "py.iplot(trace1)\n"
   ]
  },
  {
   "cell_type": "code",
   "execution_count": 8,
   "metadata": {
    "collapsed": false
   },
   "outputs": [
    {
     "data": {
      "text/html": [
       "<iframe id=\"igraph\" scrolling=\"no\" style=\"border:none;\" seamless=\"seamless\" src=\"https://plot.ly/~Diksha_Gabha/1219.embed\" height=\"800px\" width=\"800px\"></iframe>"
      ],
      "text/plain": [
       "<plotly.tools.PlotlyDisplay object>"
      ]
     },
     "execution_count": 8,
     "metadata": {},
     "output_type": "execute_result"
    }
   ],
   "source": [
    "trace2 = FF.create_trisurf(x=x, y=y, z=z,\n",
    "                           simplices=simplices, colormap=viridis_rgb, plot_edges=False,\n",
    "                           title='Viridis Colorscale for Trisurf Plot')\n",
    "\n",
    "py.iplot(trace2)\n"
   ]
  },
  {
   "cell_type": "code",
   "execution_count": 10,
   "metadata": {
    "collapsed": false,
    "scrolled": false
   },
   "outputs": [
    {
     "data": {
      "text/html": [
       "<iframe id=\"igraph\" scrolling=\"no\" style=\"border:none;\" seamless=\"seamless\" src=\"https://plot.ly/~Diksha_Gabha/1221.embed\" height=\"800px\" width=\"800px\"></iframe>"
      ],
      "text/plain": [
       "<plotly.tools.PlotlyDisplay object>"
      ]
     },
     "execution_count": 10,
     "metadata": {},
     "output_type": "execute_result"
    }
   ],
   "source": [
    "trace3 = FF.create_trisurf(x=x, y=y, z=z,\n",
    "                          simplices=simplices, colormap=parula_colors_list, plot_edges=False,\n",
    "                          title='Parula Colorscale for Trisurf Plot')\n",
    "\n",
    "py.iplot(trace3)\n"
   ]
  },
  {
   "cell_type": "markdown",
   "metadata": {},
   "source": [
    "### Acknowledgment\n",
    "\n",
    "Special thanks to [Stéfan van der Walt](https://github.com/stefanv) and [Nathaniel Smith](https://github.com/njsmith) for the statistics of colormaps."
   ]
  },
  {
   "cell_type": "code",
   "execution_count": 14,
   "metadata": {
    "collapsed": false
   },
   "outputs": [
    {
     "data": {
      "text/html": [
       "<link href=\"//fonts.googleapis.com/css?family=Open+Sans:600,400,300,200|Inconsolata|Ubuntu+Mono:400,700rel=\"stylesheet\" type=\"text/css\" />"
      ],
      "text/plain": [
       "<IPython.core.display.HTML object>"
      ]
     },
     "metadata": {},
     "output_type": "display_data"
    },
    {
     "data": {
      "text/html": [
       "<link rel=\"stylesheet\" type=\"text/csshref=\"http://help.plot.ly/documentation/all_static/css/ipython-notebook-custom.css\">"
      ],
      "text/plain": [
       "<IPython.core.display.HTML object>"
      ]
     },
     "metadata": {},
     "output_type": "display_data"
    },
    {
     "name": "stdout",
     "output_type": "stream",
     "text": [
      "Collecting git+https://github.com/plotly/publisher.git\n",
      "  Cloning https://github.com/plotly/publisher.git to /tmp/pip-f9hSir-build\n",
      "Installing collected packages: publisher\n",
      "  Found existing installation: publisher 0.10\n",
      "    Uninstalling publisher-0.10:\n",
      "      Successfully uninstalled publisher-0.10\n",
      "  Running setup.py install for publisher ... \u001b[?25l-\b \bdone\n",
      "\u001b[?25hSuccessfully installed publisher-0.10\n",
      "\u001b[33mYou are using pip version 8.1.1, however version 8.1.2 is available.\n",
      "You should consider upgrading via the 'pip install --upgrade pip' command.\u001b[0m\n"
     ]
    }
   ],
   "source": [
    "from IPython.display import display, HTML\n",
    "\n",
    "display(HTML('<link href=\"//fonts.googleapis.com/css?family=Open+Sans:600,400,300,200|Inconsolata|Ubuntu+Mono:400,700rel=\"stylesheet\" type=\"text/css\" />'))\n",
    "display(HTML('<link rel=\"stylesheet\" type=\"text/csshref=\"http://help.plot.ly/documentation/all_static/css/ipython-notebook-custom.css\">'))\n",
    "\n",
    "! pip install git+https://github.com/plotly/publisher.git --upgrade\n",
    "\n",
    "import publisher\n",
    "publisher.publish(\n",
    "    'matplotlib-colorscales.ipynb', 'python/matplotlib-colorscales/', 'Matplotlib Colorscales | plotly',\n",
    "    'How to make Matplotlib Colorscales in Python with Plotly.',\n",
    "    title = 'Python Matplotlib Colorscales | plotly',\n",
    "    name = 'Matplotlib Colorscales',\n",
    "    has_thumbnail='true', thumbnail='thumbnail/colorbars.jpg', \n",
    "    language='python', page_type='example_index',\n",
    "    display_as='scientific', order=21)  \n"
   ]
  },
  {
   "cell_type": "code",
   "execution_count": null,
   "metadata": {
    "collapsed": true
   },
   "outputs": [],
   "source": []
  }
 ],
 "metadata": {
  "kernelspec": {
   "display_name": "Python 2",
   "language": "python",
   "name": "python2"
  },
  "language_info": {
   "codemirror_mode": {
    "name": "ipython",
    "version": 2
   },
   "file_extension": ".py",
   "mimetype": "text/x-python",
   "name": "python",
   "nbconvert_exporter": "python",
   "pygments_lexer": "ipython2",
   "version": "2.7.11"
  }
 },
 "nbformat": 4,
 "nbformat_minor": 0
}
