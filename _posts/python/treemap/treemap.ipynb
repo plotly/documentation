{
 "cells": [
  {
   "cell_type": "markdown",
   "metadata": {},
   "source": [
    "# Treemaps in Python"
   ]
  },
  {
   "cell_type": "code",
   "execution_count": 1,
   "metadata": {
    "collapsed": false
   },
   "outputs": [
    {
     "data": {
      "text/plain": [
       "'1.8.8'"
      ]
     },
     "execution_count": 1,
     "metadata": {},
     "output_type": "execute_result"
    }
   ],
   "source": [
    "import plotly\n",
    "plotly.__version__"
   ]
  },
  {
   "cell_type": "markdown",
   "metadata": {},
   "source": [
    "### Simple Example with Plotly and Squarify"
   ]
  },
  {
   "cell_type": "code",
   "execution_count": 2,
   "metadata": {
    "collapsed": true
   },
   "outputs": [],
   "source": [
    "import plotly.plotly as py\n",
    "import plotly.graph_objs as go\n",
    "\n",
    "import squarify"
   ]
  },
  {
   "cell_type": "markdown",
   "metadata": {
    "collapsed": true
   },
   "source": [
    "Define the coordinate system for the returned rectangles: these values will range from x to x + width and y to y + height.\n",
    "Then define your treemap values. The sum of the treemap values must equal the total area to be laid out (i.e. width `*` height). The values must be sorted in descending order and must be positive."
   ]
  },
  {
   "cell_type": "code",
   "execution_count": 3,
   "metadata": {
    "collapsed": false
   },
   "outputs": [
    {
     "data": {
      "text/html": [
       "<iframe id=\"igraph\" scrolling=\"no\" style=\"border:none;\"seamless=\"seamless\" src=\"https://plot.ly/~chelsea_lyn/8325.embed\" height=\"700px\" width=\"700px\"></iframe>"
      ],
      "text/plain": [
       "<plotly.tools.PlotlyDisplay object>"
      ]
     },
     "execution_count": 3,
     "metadata": {},
     "output_type": "execute_result"
    }
   ],
   "source": [
    "x = 0.\n",
    "y = 0.\n",
    "width = 100.\n",
    "height = 100.\n",
    "\n",
    "values = [500, 433, 78, 25, 25, 7]\n",
    "\n",
    "normed = squarify.normalize_sizes(values, width, height)\n",
    "rects = squarify.squarify(normed, x, y, width, height)\n",
    "\n",
    "# Choose colors from http://colorbrewer2.org/ under \"Export\"\n",
    "color_brewer = ['rgb(166,206,227)','rgb(31,120,180)','rgb(178,223,138)','rgb(51,160,44)','rgb(251,154,153)','rgb(227,26,28)','rgb(253,191,111)','rgb(255,127,0)','rgb(202,178,214)','rgb(106,61,154)','rgb(255,255,153)','rgb(177,89,40)']\n",
    "shapes = []\n",
    "annotations = []\n",
    "counter = 0\n",
    "\n",
    "for r in rects:\n",
    "    shapes.append( \n",
    "        dict(\n",
    "            type = 'rect', \n",
    "            x0 = r['x'], \n",
    "            y0 = r['y'], \n",
    "            x1 = r['x']+r['dx'], \n",
    "            y1 = r['y']+r['dy'],\n",
    "            line = dict( width = 2 ),\n",
    "            fillcolor = color_brewer[counter]\n",
    "        ) \n",
    "    )\n",
    "    annotations.append(\n",
    "        dict(\n",
    "            x = r['x']+(r['dx']/2),\n",
    "            y = r['y']+(r['dy']/2),\n",
    "            text = values[counter],\n",
    "            showarrow = False\n",
    "        )\n",
    "    )\n",
    "    counter = counter + 1\n",
    "    if counter >= len(color_brewer):\n",
    "        counter = 0\n",
    "\n",
    "# For hover text\n",
    "trace0 = go.Scatter(\n",
    "    x = [ r['x']+(r['dx']/2) for r in rects ], \n",
    "    y = [ r['y']+(r['dy']/2) for r in rects ],\n",
    "    text = [ str(v) for v in values ], \n",
    "    mode = 'text',\n",
    ")\n",
    "        \n",
    "layout = dict(\n",
    "    height=700, \n",
    "    width=700,\n",
    "    xaxis=dict(showgrid=False,zeroline=False),\n",
    "    yaxis=dict(showgrid=False,zeroline=False),\n",
    "    shapes=shapes,\n",
    "    annotations=annotations,\n",
    "    hovermode='closest'\n",
    ")\n",
    "\n",
    "# With hovertext\n",
    "figure = dict(data=[trace0], layout=layout)\n",
    "\n",
    "# Without hovertext\n",
    "# figure = dict(data=[Scatter()], layout=layout)\n",
    "\n",
    "py.iplot(figure, filename='squarify-treemap')"
   ]
  },
  {
   "cell_type": "code",
   "execution_count": 1,
   "metadata": {
    "collapsed": false
   },
   "outputs": [
    {
     "data": {
      "text/html": [
       "<link href=\"//fonts.googleapis.com/css?family=Open+Sans:600,400,300,200|Inconsolata|Ubuntu+Mono:400,700\" rel=\"stylesheet\" type=\"text/css\" />"
      ],
      "text/plain": [
       "<IPython.core.display.HTML object>"
      ]
     },
     "metadata": {},
     "output_type": "display_data"
    },
    {
     "data": {
      "text/html": [
       "<link rel=\"stylesheet\" type=\"text/css\" href=\"http://help.plot.ly/documentation/all_static/css/ipython-notebook-custom.css\">"
      ],
      "text/plain": [
       "<IPython.core.display.HTML object>"
      ]
     },
     "metadata": {},
     "output_type": "display_data"
    },
    {
     "name": "stdout",
     "output_type": "stream",
     "text": [
      "\u001b[33mYou are using pip version 7.1.0, however version 7.1.2 is available.\n",
      "You should consider upgrading via the 'pip install --upgrade pip' command.\u001b[0m\n",
      "Requirement already up-to-date: publisher in /Users/Chelsea/venv2.7/lib/python2.7/site-packages\n"
     ]
    },
    {
     "name": "stderr",
     "output_type": "stream",
     "text": [
      "/Users/Chelsea/venv2.7/lib/python2.7/site-packages/publisher/publisher.py:53: UserWarning: Did you \"Save\" this notebook before running this command? Remember to save, always save.\n",
      "  warnings.warn('Did you \"Save\" this notebook before running this command? '\n"
     ]
    }
   ],
   "source": [
    "from IPython.display import display, HTML\n",
    "\n",
    "display(HTML('<link href=\"//fonts.googleapis.com/css?family=Open+Sans:600,400,300,200|Inconsolata|Ubuntu+Mono:400,700\" rel=\"stylesheet\" type=\"text/css\" />'))\n",
    "display(HTML('<link rel=\"stylesheet\" type=\"text/css\" href=\"http://help.plot.ly/documentation/all_static/css/ipython-notebook-custom.css\">'))\n",
    "\n",
    "! pip install publisher --upgrade\n",
    "import publisher\n",
    "publisher.publish(\n",
    "    'treemap.ipynb', 'python/treemaps', 'Python Treemaps | plotly',\n",
    "    'How to make interactive treemap in Python with Plotly and Squarify. '\n",
    "    'An examples of a treemap in Plotly using Squarify.',\n",
    "    name = 'Treemaps',\n",
    "    thumbnail='/images/treemap.png', language='python',\n",
    "    page_type='example_index', has_thumbnail='true', display_as='chart_type', order=28)"
   ]
  },
  {
   "cell_type": "code",
   "execution_count": null,
   "metadata": {
    "collapsed": true
   },
   "outputs": [],
   "source": []
  }
 ],
 "metadata": {
  "kernelspec": {
   "display_name": "Python 2",
   "language": "python",
   "name": "python2"
  },
  "language_info": {
   "codemirror_mode": {
    "name": "ipython",
    "version": 2
   },
   "file_extension": ".py",
   "mimetype": "text/x-python",
   "name": "python",
   "nbconvert_exporter": "python",
   "pygments_lexer": "ipython2",
   "version": "2.7.9"
  }
 },
 "nbformat": 4,
 "nbformat_minor": 0
}
