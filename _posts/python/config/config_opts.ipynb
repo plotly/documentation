{
 "cells": [
  {
   "cell_type": "code",
   "execution_count": null,
   "metadata": {
    "collapsed": true
   },
   "outputs": [],
   "source": [
    "#### API Authentication\n",
    "New to Plotly's python API? <br> \n",
    "Learn about API authentication here: https://plot.ly/python/getting-started <br>\n",
    "Find your api_key here: https://plot.ly/settings/api"
   ]
  },
  {
   "cell_type": "code",
   "execution_count": 1,
   "metadata": {
    "collapsed": false
   },
   "outputs": [
    {
     "data": {
      "text/html": [
       "<iframe id=\"igraph\" scrolling=\"no\" style=\"border:none;\" seamless=\"seamless\" src=\"https://plot.ly/~chelsea_lyn/13266.embed\" height=\"525px\" width=\"100%\"></iframe>"
      ],
      "text/plain": [
       "<plotly.tools.PlotlyDisplay object>"
      ]
     },
     "execution_count": 1,
     "metadata": {},
     "output_type": "execute_result"
    }
   ],
   "source": [
    "import plotly.plotly as py\n",
    "from plotly.graph_objs import *\n",
    "\n",
    "data = Data([\n",
    "    Scatter(\n",
    "        x=[1, 2, 3],\n",
    "        y=[1, 3, 1]\n",
    "    )\n",
    "])\n",
    "py.iplot(data, filename='remove_link', show_link=False)"
   ]
  },
  {
   "cell_type": "code",
   "execution_count": 2,
   "metadata": {
    "collapsed": false
   },
   "outputs": [
    {
     "name": "stdout",
     "output_type": "stream",
     "text": [
      "Help on function iplot in module plotly.plotly.plotly:\n",
      "\n",
      "iplot(figure_or_data, **plot_options)\n",
      "    Create a unique url for this plot in Plotly and open in IPython.\n",
      "    \n",
      "    plot_options keyword agruments:\n",
      "    filename (string) -- the name that will be associated with this figure\n",
      "    fileopt ('new' | 'overwrite' | 'extend' | 'append')\n",
      "        - 'new': create a new, unique url for this plot\n",
      "        - 'overwrite': overwrite the file associated with `filename` with this\n",
      "        - 'extend': add additional numbers (data) to existing traces\n",
      "        - 'append': add additional traces to existing data lists\n",
      "    sharing ('public' | 'private' | 'secret') -- Toggle who can view this graph\n",
      "        - 'public': Anyone can view this graph. It will appear in your profile\n",
      "                    and can appear in search engines. You do not need to be\n",
      "                    logged in to Plotly to view this chart.\n",
      "        - 'private': Only you can view this plot. It will not appear in the\n",
      "                     Plotly feed, your profile, or search engines. You must be\n",
      "                     logged in to Plotly to view this graph. You can privately\n",
      "                     share this graph with other Plotly users in your online\n",
      "                     Plotly account and they will need to be logged in to\n",
      "                     view this plot.\n",
      "        - 'secret': Anyone with this secret link can view this chart. It will\n",
      "                    not appear in the Plotly feed, your profile, or search\n",
      "                    engines. If it is embedded inside a webpage or an IPython\n",
      "                    notebook, anybody who is viewing that page will be able to\n",
      "                    view the graph. You do not need to be logged in to view\n",
      "                    this plot.\n",
      "    world_readable (default=True) -- Deprecated: use \"sharing\".\n",
      "                                     Make this figure private/public\n",
      "\n"
     ]
    }
   ],
   "source": [
    "help(py.iplot)"
   ]
  },
  {
   "cell_type": "code",
   "execution_count": null,
   "metadata": {
    "collapsed": true
   },
   "outputs": [],
   "source": []
  },
  {
   "cell_type": "code",
   "execution_count": null,
   "metadata": {
    "collapsed": true
   },
   "outputs": [],
   "source": [
    "from IPython.display import display, HTML\n",
    "\n",
    "display(HTML('<link href=\"//fonts.googleapis.com/css?family=Open+Sans:600,400,300,200|Inconsolata|Ubuntu+Mono:400,700\" rel=\"stylesheet\" type=\"text/css\" />'))\n",
    "display(HTML('<link rel=\"stylesheet\" type=\"text/css\" href=\"http://help.plot.ly/documentation/all_static/css/ipython-notebook-custom.css\">'))\n",
    "\n",
    "! pip install git+https://github.com/plotly/publisher.git --upgrade\n",
    "import publisher\n",
    "publisher.publish(\n",
    "    'config_opts.ipynb', 'python/privacy/', 'Privacy | plotly',\n",
    "    'How to set the privacy settings of plotly graphs in python. Three examples of different privacy options: public, private and secret.',\n",
    "    title = 'Privacy | plotly',\n",
    "    name = 'Privacy',\n",
    "    language='python', page_type='example_index',\n",
    "    display_as='file_settings', order=3)"
   ]
  }
 ],
 "metadata": {
  "kernelspec": {
   "display_name": "Python 2",
   "language": "python",
   "name": "python2"
  },
  "language_info": {
   "codemirror_mode": {
    "name": "ipython",
    "version": 2
   },
   "file_extension": ".py",
   "mimetype": "text/x-python",
   "name": "python",
   "nbconvert_exporter": "python",
   "pygments_lexer": "ipython2",
   "version": "2.7.11"
  }
 },
 "nbformat": 4,
 "nbformat_minor": 1
}
