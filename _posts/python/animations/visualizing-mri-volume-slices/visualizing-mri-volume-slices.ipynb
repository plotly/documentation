{
 "cells": [
  {
   "cell_type": "markdown",
   "metadata": {},
   "source": [
    "#### New to Plotly?\n",
    "Plotly's Python library is free and open source! [Get started](https://plot.ly/python/getting-started/) by downloading the client and [reading the primer](https://plot.ly/python/getting-started/).\n",
    "<br>You can set up Plotly to work in [online](https://plot.ly/python/getting-started/#initialization-for-online-plotting) or [offline](https://plot.ly/python/getting-started/#initialization-for-offline-plotting) mode, or in [jupyter notebooks](https://plot.ly/python/getting-started/#start-plotting-online).\n",
    "<br>We also have a quick-reference [cheatsheet](https://images.plot.ly/plotly-documentation/images/python_cheat_sheet.pdf) (new!) to help you get started!"
   ]
  },
  {
   "cell_type": "markdown",
   "metadata": {},
   "source": [
    "#### Version Check\n",
    "Note: Animations are available in version 1.12.10+\n",
    "Run `pip install plotly --upgrade` to update your Plotly version."
   ]
  },
  {
   "cell_type": "code",
   "execution_count": 1,
   "metadata": {},
   "outputs": [
    {
     "data": {
      "text/plain": [
       "'2.0.15'"
      ]
     },
     "execution_count": 1,
     "metadata": {},
     "output_type": "execute_result"
    }
   ],
   "source": [
    "import plotly\n",
    "plotly.__version__"
   ]
  },
  {
   "cell_type": "markdown",
   "metadata": {},
   "source": [
    "#### Import Data"
   ]
  },
  {
   "cell_type": "code",
   "execution_count": 2,
   "metadata": {
    "collapsed": true
   },
   "outputs": [],
   "source": [
    "import plotly.plotly as py\n",
    "from plotly.grid_objs import Grid, Column\n",
    "\n",
    "import time\n",
    "import numpy as np\n",
    "\n",
    "from skimage import io\n",
    "\n",
    "vol = io.imread(\"https://s3.amazonaws.com/assets.datacamp.com/blog_assets/attention-mri.tif\")\n",
    "volume = vol.T\n",
    "r, c = volume[0].shape"
   ]
  },
  {
   "cell_type": "markdown",
   "metadata": {},
   "source": [
    "#### Set the Color Scale"
   ]
  },
  {
   "cell_type": "code",
   "execution_count": 3,
   "metadata": {
    "collapsed": true
   },
   "outputs": [],
   "source": [
    "pl_bone = [\n",
    "    [0.0, 'rgb(0, 0, 0)'],\n",
    "    [0.05, 'rgb(10, 10, 14)'],\n",
    "    [0.1, 'rgb(21, 21, 30)'],\n",
    "    [0.15, 'rgb(33, 33, 46)'],\n",
    "    [0.2, 'rgb(44, 44, 62)'],\n",
    "    [0.25, 'rgb(56, 55, 77)'],\n",
    "    [0.3, 'rgb(66, 66, 92)'],\n",
    "    [0.35, 'rgb(77, 77, 108)'],\n",
    "    [0.4, 'rgb(89, 92, 121)'],\n",
    "    [0.45, 'rgb(100, 107, 132)'],\n",
    "    [0.5, 'rgb(112, 123, 143)'],\n",
    "    [0.55, 'rgb(122, 137, 154)'],\n",
    "    [0.6, 'rgb(133, 153, 165)'],\n",
    "    [0.65, 'rgb(145, 169, 177)'],\n",
    "    [0.7, 'rgb(156, 184, 188)'],\n",
    "    [0.75, 'rgb(168, 199, 199)'],\n",
    "    [0.8, 'rgb(185, 210, 210)'],\n",
    "    [0.85, 'rgb(203, 221, 221)'],\n",
    "    [0.9, 'rgb(220, 233, 233)'],\n",
    "    [0.95, 'rgb(238, 244, 244)'],\n",
    "    [1.0, 'rgb(255, 255, 255)']\n",
    "]"
   ]
  },
  {
   "cell_type": "markdown",
   "metadata": {},
   "source": [
    "#### Upload the Grid\n",
    "Note: Since you cannot upload a grid with a filename shared by another grid you own in your profile, `str(time.time())` is appended to the filename to ensure a unique name is given to the grid.\n",
    "\n",
    "Note: Due to the magnanimous size of data being uploaded, it will not work unless your daily data upload limit is high enough. Make sure your subscription is above the Free Community version. See the [Pricing and Plans page](https://plot.ly/products/cloud/) for more information."
   ]
  },
  {
   "cell_type": "code",
   "execution_count": 8,
   "metadata": {},
   "outputs": [
    {
     "data": {
      "text/plain": [
       "u'https://plot.ly/~AdamKulidjian/3668/'"
      ]
     },
     "execution_count": 8,
     "metadata": {},
     "output_type": "execute_result"
    }
   ],
   "source": [
    "my_columns = []\n",
    "nr_frames = 68\n",
    "for k in range(nr_frames):\n",
    "    my_columns.extend(\n",
    "        [Column((6.7 - k * 0.1) * np.ones((r, c)), 'z{}'.format(k + 1)),\n",
    "         Column(np.flipud(volume[67 - k]), 'surfc{}'.format(k + 1))]\n",
    "    )\n",
    "grid = Grid(my_columns)\n",
    "py.grid_ops.upload(grid, 'anim_sliceshead'+str(time.time()), auto_open=False)"
   ]
  },
  {
   "cell_type": "markdown",
   "metadata": {},
   "source": [
    "#### Create Data, Frames, Layout and Sliders"
   ]
  },
  {
   "cell_type": "code",
   "execution_count": 9,
   "metadata": {
    "collapsed": true
   },
   "outputs": [],
   "source": [
    "data=[\n",
    "    dict(\n",
    "        type='surface', \n",
    "        zsrc=grid.get_column_reference('z1'),\n",
    "        surfacecolorsrc=grid.get_column_reference('surfc1'),\n",
    "        colorscale=pl_bone,\n",
    "        colorbar=dict(thickness=20, ticklen=4)\n",
    "    )\n",
    "]\n",
    "\n",
    "frames=[]\n",
    "for k in range(nr_frames):\n",
    "    frames.append(\n",
    "        dict(\n",
    "            data=[dict(zsrc=grid.get_column_reference('z{}'.format(k + 1)),\n",
    "                       surfacecolorsrc=grid.get_column_reference('surfc{}'.format(k + 1)))],\n",
    "            name='frame{}'.format(k + 1)\n",
    "        )\n",
    "    )\n",
    "\n",
    "sliders=[\n",
    "    dict(\n",
    "        steps=[dict(method='animate',\n",
    "                    args= [['frame{}'.format(k + 1)],\n",
    "                            dict(mode='immediate',\n",
    "                                 frame= dict(duration=70, redraw= False),\n",
    "                                 transition=dict(duration=0))],\n",
    "                    label='{:d}'.format(k+1)) for k in range(68)], \n",
    "        transition= dict(duration=0),\n",
    "        x=0,\n",
    "        y=0, \n",
    "        currentvalue=dict(font=dict(size=12), \n",
    "                          prefix='slice: ', \n",
    "                          visible=True, \n",
    "                          xanchor='center'\n",
    "                         ),  \n",
    "        len=1.0\n",
    "    )\n",
    "]\n",
    "\n",
    "axis3d = dict(\n",
    "    showbackground=True, \n",
    "    backgroundcolor=\"rgb(230, 230,230)\",\n",
    "    gridcolor=\"rgb(255, 255, 255)\",      \n",
    "    zerolinecolor=\"rgb(255, 255, 255)\",  \n",
    ")\n",
    "\n",
    "layout3d = dict(\n",
    "         title='Slices in volumetric data', \n",
    "         font=dict(family='Balto'),\n",
    "         width=600,\n",
    "         height=600,\n",
    "         scene=dict(xaxis=(axis3d),\n",
    "                    yaxis=(axis3d), \n",
    "                    zaxis=dict(axis3d, **dict(range=[-0.1, 6.8], autorange=False)), \n",
    "                    aspectratio=dict(x=1, y=1, z=1),\n",
    "                    ),\n",
    "         updatemenus=[\n",
    "             dict(type='buttons',\n",
    "                  showactive=False,\n",
    "                  y=1,\n",
    "                  x=1.3,\n",
    "                  xanchor='right',\n",
    "                  yanchor='top',\n",
    "                  pad=dict(t=0, r=10),\n",
    "                  buttons=[dict(label='Play',\n",
    "                                method='animate',\n",
    "                                args=[\n",
    "                                    None, \n",
    "                                    dict(frame=dict(duration=70, redraw=False),\n",
    "                                         transition=dict(duration=0),\n",
    "                                         fromcurrent=True,\n",
    "                                         mode='immediate')\n",
    "                                ])])\n",
    "         ],\n",
    "        sliders=sliders\n",
    ")"
   ]
  },
  {
   "cell_type": "markdown",
   "metadata": {},
   "source": [
    "#### Upload to Plotly"
   ]
  },
  {
   "cell_type": "code",
   "execution_count": 10,
   "metadata": {},
   "outputs": [
    {
     "data": {
      "text/html": [
       "<iframe id=\"igraph\" scrolling=\"no\" style=\"border:none;\" seamless=\"seamless\" src=\"https://plot.ly/~AdamKulidjian/3669.embed\" height=\"600px\" width=\"600px\"></iframe>"
      ],
      "text/plain": [
       "<plotly.tools.PlotlyDisplay object>"
      ]
     },
     "execution_count": 10,
     "metadata": {},
     "output_type": "execute_result"
    }
   ],
   "source": [
    "fig=dict(data=data, layout=layout3d, frames=frames)\n",
    "py.icreate_animations(fig, filename='animslicesHead'+str(time.time()))"
   ]
  },
  {
   "cell_type": "markdown",
   "metadata": {},
   "source": [
    "#### Credit:\n",
    "All credit goes to Emilia Petrisor for this excellent animation!\n",
    "\n",
    "Here's where you can find her:\n",
    "- Her [Twitter](https://twitter.com/mathinpython) under the handle `@mathinpython`\n",
    "- Her [GitHub Page](https://github.com/empet) with Username `empet`"
   ]
  },
  {
   "cell_type": "markdown",
   "metadata": {},
   "source": [
    "#### Reference\n",
    "For additional information and help setting up a slider in an animation, see https://plot.ly/python/gapminder-example/. For more documentation on creating animations with Plotly, see https://plot.ly/python/#animations."
   ]
  },
  {
   "cell_type": "code",
   "execution_count": 11,
   "metadata": {},
   "outputs": [
    {
     "data": {
      "text/html": [
       "<link href=\"//fonts.googleapis.com/css?family=Open+Sans:600,400,300,200|Inconsolata|Ubuntu+Mono:400,700\" rel=\"stylesheet\" type=\"text/css\" />"
      ],
      "text/plain": [
       "<IPython.core.display.HTML object>"
      ]
     },
     "metadata": {},
     "output_type": "display_data"
    },
    {
     "data": {
      "text/html": [
       "<link rel=\"stylesheet\" type=\"text/css\" href=\"http://help.plot.ly/documentation/all_static/css/ipython-notebook-custom.css\">"
      ],
      "text/plain": [
       "<IPython.core.display.HTML object>"
      ]
     },
     "metadata": {},
     "output_type": "display_data"
    },
    {
     "name": "stdout",
     "output_type": "stream",
     "text": [
      "Collecting git+https://github.com/plotly/publisher.git\n",
      "  Cloning https://github.com/plotly/publisher.git to /private/var/folders/tc/bs9g6vrd36q74m5t8h9cgphh0000gn/T/pip-Lf0I9l-build\n",
      "Installing collected packages: publisher\n",
      "  Found existing installation: publisher 0.10\n",
      "    Uninstalling publisher-0.10:\n",
      "      Successfully uninstalled publisher-0.10\n",
      "  Running setup.py install for publisher ... \u001b[?25ldone\n",
      "\u001b[?25hSuccessfully installed publisher-0.10\n"
     ]
    },
    {
     "name": "stderr",
     "output_type": "stream",
     "text": [
      "/Library/Frameworks/Python.framework/Versions/2.7/lib/python2.7/site-packages/IPython/nbconvert.py:13: ShimWarning:\n",
      "\n",
      "The `IPython.nbconvert` package has been deprecated since IPython 4.0. You should import from nbconvert instead.\n",
      "\n",
      "/Library/Frameworks/Python.framework/Versions/2.7/lib/python2.7/site-packages/publisher/publisher.py:53: UserWarning:\n",
      "\n",
      "Did you \"Save\" this notebook before running this command? Remember to save, always save.\n",
      "\n"
     ]
    }
   ],
   "source": [
    "from IPython.display import display, HTML\n",
    "\n",
    "display(HTML('<link href=\"//fonts.googleapis.com/css?family=Open+Sans:600,400,300,200|Inconsolata|Ubuntu+Mono:400,700\" rel=\"stylesheet\" type=\"text/css\" />'))\n",
    "display(HTML('<link rel=\"stylesheet\" type=\"text/css\" href=\"http://help.plot.ly/documentation/all_static/css/ipython-notebook-custom.css\">'))\n",
    "\n",
    "!pip install git+https://github.com/plotly/publisher.git --upgrade\n",
    "import publisher\n",
    "publisher.publish(\n",
    "    'visualizing-mri-volume-slices.ipynb', 'python/visualizing-mri-volume-slices/', 'Visualizing MRI Volume Slices | plotly',\n",
    "    'How to create an plotly animation with slider that cycles through MRI cross-sections of a human brain.',\n",
    "    title='Visualizing MRI Volume Slices | plotly',\n",
    "    name='Visualizing MRI Volume Slices',\n",
    "    language='python',\n",
    "    page_type='example_index', has_thumbnail='true', thumbnail='thumbnail/brain-mri-animation_square.gif',\n",
    "    display_as='animations', order=4, ipynb='~notebook_demo/190')"
   ]
  },
  {
   "cell_type": "code",
   "execution_count": null,
   "metadata": {
    "collapsed": true
   },
   "outputs": [],
   "source": []
  }
 ],
 "metadata": {
  "kernelspec": {
   "display_name": "Python 2",
   "language": "python",
   "name": "python2"
  },
  "language_info": {
   "codemirror_mode": {
    "name": "ipython",
    "version": 2
   },
   "file_extension": ".py",
   "mimetype": "text/x-python",
   "name": "python",
   "nbconvert_exporter": "python",
   "pygments_lexer": "ipython2",
   "version": "2.7.12"
  }
 },
 "nbformat": 4,
 "nbformat_minor": 1
}
