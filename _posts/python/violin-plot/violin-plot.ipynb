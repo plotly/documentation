{
 "cells": [
  {
   "cell_type": "markdown",
   "metadata": {},
   "source": [
    "#### New to Plotly?\n",
    "Plotly's Python library is free and open source! [Get started](https://plot.ly/python/getting-started/) by downloading the client and [reading the primer](https://plot.ly/python/getting-started/).\n",
    "<br>You can set up Plotly to work in [online](https://plot.ly/python/getting-started/#initialization-for-online-plotting) or [offline](https://plot.ly/python/getting-started/#initialization-for-offline-plotting) mode, or in [jupyter notebooks](https://plot.ly/python/getting-started/#start-plotting-online).\n",
    "<br>We also have a quick-reference [cheatsheet](https://images.plot.ly/plotly-documentation/images/python_cheat_sheet.pdf) (new!) to help you get started!"
   ]
  },
  {
   "cell_type": "markdown",
   "metadata": {},
   "source": [
    "#### Version Check\n",
    "Note: Violin Plots are available in version <b>1.12.1+</b><br>\n",
    "Run  `pip install plotly --upgrade` to update your Plotly version"
   ]
  },
  {
   "cell_type": "code",
   "execution_count": 1,
   "metadata": {
    "collapsed": false
   },
   "outputs": [
    {
     "data": {
      "text/plain": [
       "'1.12.1'"
      ]
     },
     "execution_count": 1,
     "metadata": {},
     "output_type": "execute_result"
    }
   ],
   "source": [
    "import plotly\n",
    "plotly.__version__"
   ]
  },
  {
   "cell_type": "markdown",
   "metadata": {},
   "source": [
    "#### One Violin"
   ]
  },
  {
   "cell_type": "code",
   "execution_count": 2,
   "metadata": {
    "collapsed": false
   },
   "outputs": [
    {
     "data": {
      "text/html": [
       "<iframe id=\"igraph\" scrolling=\"no\" style=\"border:none;\" seamless=\"seamless\" src=\"https://plot.ly/~AdamKulidjian/321.embed\" height=\"450px\" width=\"600px\"></iframe>"
      ],
      "text/plain": [
       "<plotly.tools.PlotlyDisplay object>"
      ]
     },
     "execution_count": 2,
     "metadata": {},
     "output_type": "execute_result"
    }
   ],
   "source": [
    "import plotly.plotly as py\n",
    "from plotly.tools import FigureFactory as FF\n",
    "from plotly.graph_objs import graph_objs\n",
    "\n",
    "import numpy as np\n",
    "from scipy import stats\n",
    "\n",
    "data_list = np.random.randn(100)\n",
    "data_list.tolist()\n",
    "\n",
    "fig = FF.create_violin(data_list, colors='#604d9e')\n",
    "py.iplot(fig, filename='One Violin')"
   ]
  },
  {
   "cell_type": "markdown",
   "metadata": {},
   "source": [
    "#### Multiple Violins"
   ]
  },
  {
   "cell_type": "code",
   "execution_count": 3,
   "metadata": {
    "collapsed": false
   },
   "outputs": [
    {
     "name": "stdout",
     "output_type": "stream",
     "text": [
      "This is the format of your plot grid:\n",
      "[ (1,1) x1,y1 ]  [ (1,2) x2,y1 ]  [ (1,3) x3,y1 ]  [ (1,4) x4,y1 ]  [ (1,5) x5,y1 ]\n",
      "\n"
     ]
    },
    {
     "data": {
      "text/html": [
       "<iframe id=\"igraph\" scrolling=\"no\" style=\"border:none;\" seamless=\"seamless\" src=\"https://plot.ly/~AdamKulidjian/323.embed\" height=\"500px\" width=\"800px\"></iframe>"
      ],
      "text/plain": [
       "<plotly.tools.PlotlyDisplay object>"
      ]
     },
     "execution_count": 3,
     "metadata": {},
     "output_type": "execute_result"
    }
   ],
   "source": [
    "import plotly.plotly as py\n",
    "from plotly.tools import FigureFactory as FF\n",
    "from plotly.graph_objs import graph_objs\n",
    "\n",
    "import numpy as np\n",
    "import pandas as pd\n",
    "from scipy import stats\n",
    "\n",
    "np.random.seed(619517)\n",
    "Nr = 250\n",
    "y = np.random.randn(Nr)\n",
    "gr = np.random.choice(list(\"ABCDE\"), Nr)\n",
    "norm_params = [(0, 1.2), (0.7, 1), (-0.5, 1.4), (0.3, 1), (0.8, 0.9)]\n",
    "\n",
    "for i, letter in enumerate(\"ABCDE\"):\n",
    "    y[gr == letter] *= norm_params[i][1] + norm_params[i][0]\n",
    "df = pd.DataFrame(dict(Score = y, Group = gr))\n",
    "\n",
    "fig = FF.create_violin(df, data_header='Score', group_header='Group',\n",
    "                       height=500, width=800)\n",
    "py.iplot(fig, filename='Multiple Violins')"
   ]
  },
  {
   "cell_type": "markdown",
   "metadata": {},
   "source": [
    "#### Violin Plots with Colorscale"
   ]
  },
  {
   "cell_type": "code",
   "execution_count": 4,
   "metadata": {
    "collapsed": false
   },
   "outputs": [
    {
     "name": "stdout",
     "output_type": "stream",
     "text": [
      "This is the format of your plot grid:\n",
      "[ (1,1) x1,y1 ]  [ (1,2) x2,y1 ]  [ (1,3) x3,y1 ]  [ (1,4) x4,y1 ]  [ (1,5) x5,y1 ]\n",
      "\n"
     ]
    },
    {
     "data": {
      "text/html": [
       "<iframe id=\"igraph\" scrolling=\"no\" style=\"border:none;\" seamless=\"seamless\" src=\"https://plot.ly/~AdamKulidjian/325.embed\" height=\"500px\" width=\"800px\"></iframe>"
      ],
      "text/plain": [
       "<plotly.tools.PlotlyDisplay object>"
      ]
     },
     "execution_count": 4,
     "metadata": {},
     "output_type": "execute_result"
    }
   ],
   "source": [
    "import plotly.plotly as py\n",
    "from plotly.tools import FigureFactory as FF\n",
    "from plotly.graph_objs import graph_objs\n",
    "\n",
    "import numpy as np\n",
    "import pandas as pd\n",
    "from scipy import stats\n",
    "\n",
    "np.random.seed(619517)\n",
    "Nr = 250\n",
    "y = np.random.randn(Nr)\n",
    "gr = np.random.choice(list(\"ABCDE\"), Nr)\n",
    "norm_params = [(0, 1.2), (0.7, 1), (-0.5, 1.4), (0.3, 1), (0.8, 0.9)]\n",
    "\n",
    "for i, letter in enumerate(\"ABCDE\"):\n",
    "    y[gr == letter] *= norm_params[i][1] + norm_params[i][0]\n",
    "df = pd.DataFrame(dict(Score = y, Group = gr))\n",
    "\n",
    "data_header = 'Score'\n",
    "group_header = 'Group'\n",
    "\n",
    "group_stats = {}\n",
    "groupby_data = df.groupby([group_header])\n",
    "\n",
    "for group in \"ABCDE\":\n",
    "    data_from_group = groupby_data.get_group(group)[data_header]\n",
    "    stat = np.median(data_from_group)\n",
    "    group_stats[group] = stat\n",
    "\n",
    "fig = FF.create_violin(df, data_header='Score', group_header='Group',\n",
    "                       colors='YlOrRd', height=500, width=800,\n",
    "                       use_colorscale=True, group_stats=group_stats)\n",
    "py.iplot(fig, filename='Violin Plots with Colorscale')"
   ]
  },
  {
   "cell_type": "markdown",
   "metadata": {},
   "source": [
    "#### Violin Plots with Dictionary Colors"
   ]
  },
  {
   "cell_type": "code",
   "execution_count": 5,
   "metadata": {
    "collapsed": false
   },
   "outputs": [
    {
     "name": "stdout",
     "output_type": "stream",
     "text": [
      "This is the format of your plot grid:\n",
      "[ (1,1) x1,y1 ]  [ (1,2) x2,y1 ]  [ (1,3) x3,y1 ]  [ (1,4) x4,y1 ]  [ (1,5) x5,y1 ]\n",
      "\n"
     ]
    },
    {
     "data": {
      "text/html": [
       "<iframe id=\"igraph\" scrolling=\"no\" style=\"border:none;\" seamless=\"seamless\" src=\"https://plot.ly/~AdamKulidjian/327.embed\" height=\"500px\" width=\"800px\"></iframe>"
      ],
      "text/plain": [
       "<plotly.tools.PlotlyDisplay object>"
      ]
     },
     "execution_count": 5,
     "metadata": {},
     "output_type": "execute_result"
    }
   ],
   "source": [
    "import plotly.plotly as py\n",
    "from plotly.tools import FigureFactory as FF\n",
    "from plotly.graph_objs import graph_objs\n",
    "\n",
    "import numpy as np\n",
    "import pandas as pd\n",
    "from scipy import stats\n",
    "\n",
    "np.random.seed(619517)\n",
    "Nr = 250\n",
    "y = np.random.randn(Nr)\n",
    "gr = np.random.choice(list(\"ABCDE\"), Nr)\n",
    "norm_params = [(0, 1.2), (0.7, 1), (-0.5, 1.4), (0.3, 1), (0.8, 0.9)]\n",
    "\n",
    "for i, letter in enumerate(\"ABCDE\"):\n",
    "    y[gr == letter] *= norm_params[i][1] + norm_params[i][0]\n",
    "df = pd.DataFrame(dict(Score = y, Group = gr))\n",
    "\n",
    "data_header = 'Score'\n",
    "group_header = 'Group'\n",
    "\n",
    "colors_dict = dict(A = 'rgb(25, 200, 120)',\n",
    "                   B = '#aa6ff60',\n",
    "                   C = (0.3, 0.7, 0.3),\n",
    "                   D = 'rgb(175, 25, 122)',\n",
    "                   E = 'rgb(255, 150, 226)')\n",
    "\n",
    "fig = FF.create_violin(df, data_header='Score', group_header='Group',\n",
    "                       colors=colors_dict, height=500, width=800,\n",
    "                       use_colorscale=False)\n",
    "py.iplot(fig, filename='Violin Plots with Dictionary Colors')"
   ]
  },
  {
   "cell_type": "markdown",
   "metadata": {},
   "source": [
    "#### Reference"
   ]
  },
  {
   "cell_type": "code",
   "execution_count": 6,
   "metadata": {
    "collapsed": false
   },
   "outputs": [
    {
     "name": "stdout",
     "output_type": "stream",
     "text": [
      "Help on function create_violin in module plotly.tools:\n",
      "\n",
      "create_violin(data, data_header=None, group_header=None, colors=None, use_colorscale=False, group_stats=None, height=450, width=600, title='Violin and Rug Plot')\n",
      "    Returns figure for a violin plot\n",
      "    \n",
      "    :param (list|array) data: accepts either a list of numerical values,\n",
      "        a list of dictionaries all with identical keys and at least one\n",
      "        column of numeric values, or a pandas dataframe with at least one\n",
      "        column of numbers\n",
      "    :param (str) data_header: the header of the data column to be used\n",
      "        from an inputted pandas dataframe. Not applicable if 'data' is\n",
      "        a list of numeric values\n",
      "    :param (str) group_header: applicable if grouping data by a variable.\n",
      "        'group_header' must be set to the name of the grouping variable.\n",
      "    :param (str|tuple|list|dict) colors: either a plotly scale name,\n",
      "        an rgb or hex color, a color tuple, a list of colors or a\n",
      "        dictionary. An rgb color is of the form 'rgb(x, y, z)' where\n",
      "        x, y and z belong to the interval [0, 255] and a color tuple is a\n",
      "        tuple of the form (a, b, c) where a, b and c belong to [0, 1].\n",
      "        If colors is a list, it must contain valid color types as its\n",
      "        members.\n",
      "    :param (bool) use_colorscale: Only applicable if grouping by another\n",
      "        variable. Will implement a colorscale based on the first 2 colors\n",
      "        of param colors. This means colors must be a list with at least 2\n",
      "        colors in it (Plotly colorscales are accepted since they map to a\n",
      "        list of two rgb colors)\n",
      "    :param (dict) group_stats: a dictioanry where each key is a unique\n",
      "        value from the group_header column in data. Each value must be a\n",
      "        number and will be used to color the violin plots if a colorscale\n",
      "        is being used\n",
      "    :param (float) height: the height of the violin plot\n",
      "    :param (float) width: the width of the violin plot\n",
      "    :param (str) title: the title of the violin plot\n",
      "    \n",
      "    Example 1: Single Violin Plot\n",
      "    ```\n",
      "    import plotly.plotly as py\n",
      "    from plotly.tools import FigureFactory as FF\n",
      "    from plotly.graph_objs import graph_objs\n",
      "    \n",
      "    import numpy as np\n",
      "    from scipy import stats\n",
      "    \n",
      "    # create list of random values\n",
      "    data_list = np.random.randn(100)\n",
      "    data_list.tolist()\n",
      "    \n",
      "    # create violin fig\n",
      "    fig = FF.create_violin(data_list, colors='#604d9e')\n",
      "    \n",
      "    # plot\n",
      "    py.iplot(fig, filename='Violin Plot')\n",
      "    ```\n",
      "    \n",
      "    Example 2: Multiple Violin Plots with Qualitative Coloring\n",
      "    ```\n",
      "    import plotly.plotly as py\n",
      "    from plotly.tools import FigureFactory as FF\n",
      "    from plotly.graph_objs import graph_objs\n",
      "    \n",
      "    import numpy as np\n",
      "    import pandas as pd\n",
      "    from scipy import stats\n",
      "    \n",
      "    # create dataframe\n",
      "    np.random.seed(619517)\n",
      "    Nr=250\n",
      "    y = np.random.randn(Nr)\n",
      "    gr = np.random.choice(list(\"ABCDE\"), Nr)\n",
      "    norm_params=[(0, 1.2), (0.7, 1), (-0.5, 1.4), (0.3, 1), (0.8, 0.9)]\n",
      "    \n",
      "    for i, letter in enumerate(\"ABCDE\"):\n",
      "        y[gr == letter] *=norm_params[i][1]+ norm_params[i][0]\n",
      "    df = pd.DataFrame(dict(Score=y, Group=gr))\n",
      "    \n",
      "    # create violin fig\n",
      "    fig = FF.create_violin(df, data_header='Score', group_header='Group',\n",
      "                           height=600, width=1000)\n",
      "    \n",
      "    # plot\n",
      "    py.iplot(fig, filename='Violin Plot with Coloring')\n",
      "    ```\n",
      "    \n",
      "    Example 3: Violin Plots with Colorscale\n",
      "    ```\n",
      "    import plotly.plotly as py\n",
      "    from plotly.tools import FigureFactory as FF\n",
      "    from plotly.graph_objs import graph_objs\n",
      "    \n",
      "    import numpy as np\n",
      "    import pandas as pd\n",
      "    from scipy import stats\n",
      "    \n",
      "    # create dataframe\n",
      "    np.random.seed(619517)\n",
      "    Nr=250\n",
      "    y = np.random.randn(Nr)\n",
      "    gr = np.random.choice(list(\"ABCDE\"), Nr)\n",
      "    norm_params=[(0, 1.2), (0.7, 1), (-0.5, 1.4), (0.3, 1), (0.8, 0.9)]\n",
      "    \n",
      "    for i, letter in enumerate(\"ABCDE\"):\n",
      "        y[gr == letter] *=norm_params[i][1]+ norm_params[i][0]\n",
      "    df = pd.DataFrame(dict(Score=y, Group=gr))\n",
      "    \n",
      "    # define header params\n",
      "    data_header = 'Score'\n",
      "    group_header = 'Group'\n",
      "    \n",
      "    # make groupby object with pandas\n",
      "    groupby_data = df.groupby([group_header])\n",
      "    \n",
      "    for group in \"ABCDE\":\n",
      "        data_from_group = groupby_data.get_group(group)[data_header]\n",
      "        # take a stat of the grouped data\n",
      "        stat = np.median(data_from_group)\n",
      "        # add to dictionary\n",
      "        group_stats[group] = stat\n",
      "    \n",
      "    # create violin fig\n",
      "    fig = FF.create_violin(df, data_header='Score', group_header='Group',\n",
      "                           height=600, width=1000, use_colorscale=True,\n",
      "                           group_stats=group_stats)\n",
      "    \n",
      "    # plot\n",
      "    py.iplot(fig, filename='Violin Plot with Colorscale')\n",
      "    ```\n",
      "\n"
     ]
    }
   ],
   "source": [
    "help(FF.create_violin)"
   ]
  },
  {
   "cell_type": "code",
   "execution_count": 1,
   "metadata": {
    "collapsed": false
   },
   "outputs": [
    {
     "data": {
      "text/html": [
       "<link href=\"//fonts.googleapis.com/css?family=Open+Sans:600,400,300,200|Inconsolata|Ubuntu+Mono:400,700\" rel=\"stylesheet\" type=\"text/css\" />"
      ],
      "text/plain": [
       "<IPython.core.display.HTML object>"
      ]
     },
     "metadata": {},
     "output_type": "display_data"
    },
    {
     "data": {
      "text/html": [
       "<link rel=\"stylesheet\" type=\"text/css\" href=\"http://help.plot.ly/documentation/all_static/css/ipython-notebook-custom.css\">"
      ],
      "text/plain": [
       "<IPython.core.display.HTML object>"
      ]
     },
     "metadata": {},
     "output_type": "display_data"
    },
    {
     "name": "stderr",
     "output_type": "stream",
     "text": [
      "/Users/brandendunbar/Desktop/test/venv/lib/python2.7/site-packages/IPython/nbconvert.py:13: ShimWarning: The `IPython.nbconvert` package has been deprecated. You should import from nbconvert instead.\n",
      "  \"You should import from nbconvert instead.\", ShimWarning)\n",
      "/Users/brandendunbar/Desktop/test/venv/lib/python2.7/site-packages/publisher/publisher.py:53: UserWarning: Did you \"Save\" this notebook before running this command? Remember to save, always save.\n",
      "  warnings.warn('Did you \"Save\" this notebook before running this command? '\n"
     ]
    }
   ],
   "source": [
    "from IPython.display import display, HTML\n",
    "\n",
    "display(HTML('<link href=\"//fonts.googleapis.com/css?family=Open+Sans:600,400,300,200|Inconsolata|Ubuntu+Mono:400,700\" rel=\"stylesheet\" type=\"text/css\" />'))\n",
    "display(HTML('<link rel=\"stylesheet\" type=\"text/css\" href=\"http://help.plot.ly/documentation/all_static/css/ipython-notebook-custom.css\">'))\n",
    "\n",
    "import publisher\n",
    "publisher.publish(\n",
    "    'violin-plot.ipynb', 'python/violin-plot/', 'Python Violin Plots | plotly',\n",
    "    'How to make Violin Plots in Python with Plotly. A Violin Plot is a plot of numeric data with probability distributions drawn on both sides on the plotted data.',\n",
    "    title='Python Violin Plots | plotly',\n",
    "    name='Violin Plots',\n",
    "    thumbnail='thumbnail/violin-plot.jpg', language='python',\n",
    "    page_type='example_index', has_thumbnail='true', display_as='statistical', order=10,\n",
    "    ipynb= '~notebook_demo/26')"
   ]
  },
  {
   "cell_type": "code",
   "execution_count": null,
   "metadata": {
    "collapsed": true
   },
   "outputs": [],
   "source": []
  }
 ],
 "metadata": {
  "anaconda-cloud": {},
  "kernelspec": {
   "display_name": "Python 2",
   "language": "python",
   "name": "python2"
  },
  "language_info": {
   "codemirror_mode": {
    "name": "ipython",
    "version": 2
   },
   "file_extension": ".py",
   "mimetype": "text/x-python",
   "name": "python",
   "nbconvert_exporter": "python",
   "pygments_lexer": "ipython2",
   "version": "2.7.10"
  }
 },
 "nbformat": 4,
 "nbformat_minor": 0
}
