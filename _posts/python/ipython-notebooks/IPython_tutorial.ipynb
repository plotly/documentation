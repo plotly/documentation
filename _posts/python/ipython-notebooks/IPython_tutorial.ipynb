{
 "cells": [
  {
   "cell_type": "markdown",
   "metadata": {
    "collapsed": false
   },
   "source": [
    "# IPython Notebook Tutorial"
   ]
  },
  {
   "cell_type": "markdown",
   "metadata": {
    "collapsed": false
   },
   "source": [
    "IPython has a beautiful Notebook that lets you write and execute code, analyze data, embed content, and share reproducible work. IPython lets you easily share your code, data, plots, and explanation in one Notebook. Publishing is flexible: PDF, HTML, ipynb, dashboards, slides, and more. Code cells are based on an input and output format.  For example:"
   ]
  },
  {
   "cell_type": "code",
   "execution_count": 5,
   "metadata": {
    "collapsed": false
   },
   "outputs": [
    {
     "name": "stdout",
     "output_type": "stream",
     "text": [
      "hello world\n"
     ]
    }
   ],
   "source": [
    "print \"hello world\"  "
   ]
  },
  {
   "cell_type": "markdown",
   "metadata": {},
   "source": [
    "## Table Of Contents"
   ]
  },
  {
   "cell_type": "markdown",
   "metadata": {},
   "source": [
    "This tutorial will cover:\n",
    "<br> \n",
    "* [Introduction](#I.-Introduction): installation, helpful commands, package management\n",
    "* [SciPy Stack](#II.-SciPy-Stack): SciPy, Numpy, pandas\n",
    "* [Plotting](#III.-Plotting): matplotlib, mpld3, pandas, maps, 3D plotting, ggplot for Python, Seaborn, ggplot2, and R\n",
    "* [Embedding](#IV.-Embedding): iframes, videos, LaTeX\n",
    "* [Publishing](#V.-Publishing): files, widgets, dashboards, styling\n",
    "<br>"
   ]
  },
  {
   "cell_type": "markdown",
   "metadata": {},
   "source": [
    "## I. Introduction "
   ]
  },
  {
   "cell_type": "markdown",
   "metadata": {
    "collapsed": false
   },
   "source": [
    "There are a few ways to use an IPython Notebook. For Windows users, you'll need [```setuptools```](http://ipython.org/ipython-doc/2/install/install.html#windows). This Notebook uses Python 2; Python 3 offers exciting new opportunities for IPython. \n",
    "\n",
    "* If you have ```setuptools``` or ```pip``` installed, you can open a terminal and type: ```$ pip install ipython```.\n",
    "* [Anaconda](https://store.continuum.io/cshop/anaconda/) and [Enthought](https://store.enthought.com/downloads/#default) allow you to download a desktop version of IPython Notebook.\n",
    "* [coLaboratory](https://store.enthought.com/downloads/#default) allows you to run Notebooks using Google Chrome. \n",
    "* [Docker containers](https://hub.docker.com/r/ipython/notebook/) let you run Notebooks.\n",
    "* [Domino](http://support.dominodatalab.com/hc/en-us/articles/204856585-Jupyter-Notebooks), [Authorea](https://www.authorea.com/users/3/articles/3904/_show_article), and [Wakari](https://wakari.io/) offer web-based Notebooks.\n",
    "* [tmpnb](https://github.com/jupyter/tmpnb) launches a temporary online Notebook for individual users. \n",
    "* Hosted services like [Sciencebox](https://aws.amazon.com/marketplace/pp/B00KQY1T32/ref=mkt_wir_yhatsciencebox) let users launch a prebuilt virtual machine.\n",
    "\n",
    "<br>\n",
    "Once you've installed the Notebook, you start from your terminal by calling ```$ ipython notebook```. This will open a browser on a [localhost](https://en.wikipedia.org/wiki/Localhost) to the URL of your Notebooks, by default http://127.0.0.1:8888. Windows users need to open up their Command Prompt. You'll see a dashboard with all your Notebooks. You can launch your Notebooks from there. The Notebook has the advantage of looking the same when you're coding and publishing. You just have all the options to move code, run cells, change kernels, and [use Markdown](https://github.com/adam-p/markdown-here/wiki/Markdown-Cheatsheet) when you're running a NB. Here's what a Notebook looks like in action if you call it from your terminal.\n",
    "<br>\n",
    "<br>\n",
    "\n",
    "<img src=\"http://i.imgur.com/Mlleku9.gif\" />\n",
    "<br>\n",
    "<br>\n",
    "<br>"
   ]
  },
  {
   "cell_type": "markdown",
   "metadata": {},
   "source": [
    "### Helpful commands"
   ]
  },
  {
   "cell_type": "markdown",
   "metadata": {},
   "source": [
    "IPython supports tab completion. You can type ```object_name.<TAB>``` to view an object’s attributes. For  tips on cell magics, running Notebooks, and exploring objects, check out the [IPython docs](https://ipython.org/ipython-doc/dev/interactive/tutorial.html#introducing-ipython). IPython also has a few [helpful commands](https://ipython.org/ipython-doc/dev/interactive/tutorial.html#the-four-most-helpful-commands) like:"
   ]
  },
  {
   "cell_type": "code",
   "execution_count": 6,
   "metadata": {
    "collapsed": false
   },
   "outputs": [
    {
     "data": {
      "text/plain": [
       "Type help() for interactive help, or help(object) for help about object."
      ]
     },
     "execution_count": 6,
     "metadata": {},
     "output_type": "execute_result"
    }
   ],
   "source": [
    "help # introduction and overview of features"
   ]
  },
  {
   "cell_type": "code",
   "execution_count": 7,
   "metadata": {
    "collapsed": true
   },
   "outputs": [],
   "source": [
    "%quickref # opens quick reference"
   ]
  },
  {
   "cell_type": "markdown",
   "metadata": {},
   "source": [
    "The Notebook defaults to C:\\Users\\USERNAME or the folder where you've run the Notebook. You can call ```ipython notebook --help-all``` then [change your directory](http://stackoverflow.com/questions/15680463/change-ipython-working-directory) if needed. You can also [use ```%run```](http://stackoverflow.com/questions/3438531/ipython-workflow-edit-run) to run local Python scripts you've written. \n",
    "\n",
    "<br>\n",
    "IPython has [keyboard shortcuts](https://ipython.org/ipython-doc/1/interactive/notebook.html#keyboard-shortcuts). ```Shift-Enter``` will run a cell, ```Ctrl-Enter``` will run a cell in-place, ```Alt-Enter``` will run a cell and insert another below."
   ]
  },
  {
   "cell_type": "markdown",
   "metadata": {},
   "source": [
    "### Package management"
   ]
  },
  {
   "cell_type": "markdown",
   "metadata": {
    "collapsed": false
   },
   "source": [
    "When installing packages in IPython, you either need to install the package in your actual shell, or run the ```!``` prefix, e.g.:\n",
    "\n",
    "    !pip install packagename\n",
    "    \n",
    "You may want to [reload submodules](http://stackoverflow.com/questions/5364050/reloading-submodules-in-ipython) if you've edited the code in one. IPython comes with automatic reloading magic. You can reload all changed modules before executing a new line. \n",
    "\n",
    "    %load_ext autoreload\n",
    "    %autoreload 2\n",
    "    "
   ]
  },
  {
   "cell_type": "markdown",
   "metadata": {},
   "source": [
    "## II. SciPy Stack"
   ]
  },
  {
   "cell_type": "markdown",
   "metadata": {},
   "source": [
    "### SciPy & NumPy"
   ]
  },
  {
   "cell_type": "markdown",
   "metadata": {},
   "source": [
    "[```SciPy```](http://www.scipy.org/) is a Python-based ecosystem of packages for math, science, and engineering. We'll show a quick [example](https://oneau.wordpress.com/2011/02/28/simple-statistics-with-scipy/) below. [```NumPy```](www.numpy.org) is a package for scientific computing with tools for algebra, random number generation, integrating with databases, and managing data. NumPy functions [have been imported](http://stackoverflow.com/questions/6200910/relationship-between-scipy-and-numpy) into the SciPy namespace so users don't have to differentiate between them. "
   ]
  },
  {
   "cell_type": "code",
   "execution_count": 8,
   "metadata": {
    "collapsed": true
   },
   "outputs": [],
   "source": [
    "import scipy as sp\n",
    "import numpy as np"
   ]
  },
  {
   "cell_type": "code",
   "execution_count": 9,
   "metadata": {
    "collapsed": false
   },
   "outputs": [
    {
     "name": "stdout",
     "output_type": "stream",
     "text": [
      "100\n"
     ]
    }
   ],
   "source": [
    "s = sp.randn(100)\n",
    "print len(s)"
   ]
  },
  {
   "cell_type": "markdown",
   "metadata": {},
   "source": [
    "We can print the mean of our data into our Notebook. Since the returned value is a NumPy array we can find and print descriptive statistics about the random numbers we created with SciPy. "
   ]
  },
  {
   "cell_type": "code",
   "execution_count": 10,
   "metadata": {
    "collapsed": false
   },
   "outputs": [
    {
     "name": "stdout",
     "output_type": "stream",
     "text": [
      "Mean : -0.132854\n"
     ]
    }
   ],
   "source": [
    "print(\"Mean : {0:8.6f}\".format(s.mean()))"
   ]
  },
  {
   "cell_type": "markdown",
   "metadata": {},
   "source": [
    "[Arrays](http://www.python-course.eu/numpy.php) are the central part of NumPy and are more efficient lists of Python. The elements of a NumPy array have to be of the same type, usually float or int. "
   ]
  },
  {
   "cell_type": "code",
   "execution_count": 11,
   "metadata": {
    "collapsed": false
   },
   "outputs": [
    {
     "data": {
      "text/plain": [
       "array([42, 47, 11])"
      ]
     },
     "execution_count": 11,
     "metadata": {},
     "output_type": "execute_result"
    }
   ],
   "source": [
    "x = np.array([42,47,11], int)\n",
    "x = np.array([42,47,11], int)\n",
    "x"
   ]
  },
  {
   "cell_type": "markdown",
   "metadata": {},
   "source": [
    "### pandas"
   ]
  },
  {
   "cell_type": "markdown",
   "metadata": {},
   "source": [
    "If you have a tabular data structure, [```pandas```](http://pandas.pydata.org/pandas-docs/stable/generated/pandas.DataFrame.html) is the way to go. Dataframes are easy to make, and handle data better than Python lists or tuples. The [10 minutes to pandas](http://pandas.pydata.org/pandas-docs/stable/10min.html) guide is a good introduction and a useful exercise. So is Michael Hansen's [tutorial](http://synesthesiam.com/posts/an-introduction-to-pandas.html). "
   ]
  },
  {
   "cell_type": "code",
   "execution_count": 12,
   "metadata": {
    "collapsed": false
   },
   "outputs": [],
   "source": [
    "import pandas as pd"
   ]
  },
  {
   "cell_type": "markdown",
   "metadata": {},
   "source": [
    "One can create a dataframe in pandas with the handy functions in [read_csv](http://pandas.pydata.org/pandas-docs/stable/generated/pandas.read_csv.html). You can read from a URL or a local file. Here we'll make a dataframe from a matplotlib plot we'll make below with Plotly. You can append .py, .r, .m, .jl, .json, .js, .png, .pdf, .png, .svg, .embed, .xlsx, and .csv to any Plotly URL to see extensions of the figure."
   ]
  },
  {
   "cell_type": "code",
   "execution_count": 13,
   "metadata": {
    "collapsed": false
   },
   "outputs": [],
   "source": [
    "df = pd.read_csv(\"https://plot.ly/~MattSundquist/20387.csv\")"
   ]
  },
  {
   "cell_type": "markdown",
   "metadata": {},
   "source": [
    "We can [```describe```](http://pandas.pydata.org/pandas-docs/stable/generated/pandas.DataFrame.describe.html) the dataframe we've just created."
   ]
  },
  {
   "cell_type": "code",
   "execution_count": 14,
   "metadata": {
    "collapsed": false
   },
   "outputs": [
    {
     "data": {
      "text/html": [
       "<div>\n",
       "<table border=\"1\" class=\"dataframe\">\n",
       "  <thead>\n",
       "    <tr style=\"text-align: right;\">\n",
       "      <th></th>\n",
       "      <th>line0_volts</th>\n",
       "      <th>line0_time, line1_time, line3_time</th>\n",
       "      <th>line1_volts</th>\n",
       "      <th>line2_volts</th>\n",
       "      <th>line2_time</th>\n",
       "      <th>line3_volts</th>\n",
       "    </tr>\n",
       "  </thead>\n",
       "  <tbody>\n",
       "    <tr>\n",
       "      <th>count</th>\n",
       "      <td>200.000000</td>\n",
       "      <td>200.000000</td>\n",
       "      <td>2.000000e+02</td>\n",
       "      <td>20.000000</td>\n",
       "      <td>20.000000</td>\n",
       "      <td>2.000000e+02</td>\n",
       "    </tr>\n",
       "    <tr>\n",
       "      <th>mean</th>\n",
       "      <td>0.434498</td>\n",
       "      <td>0.995000</td>\n",
       "      <td>-1.665335e-18</td>\n",
       "      <td>0.620175</td>\n",
       "      <td>0.950000</td>\n",
       "      <td>6.708533e-02</td>\n",
       "    </tr>\n",
       "    <tr>\n",
       "      <th>std</th>\n",
       "      <td>0.243705</td>\n",
       "      <td>0.578792</td>\n",
       "      <td>7.088812e-01</td>\n",
       "      <td>0.324605</td>\n",
       "      <td>0.591608</td>\n",
       "      <td>3.402314e-01</td>\n",
       "    </tr>\n",
       "    <tr>\n",
       "      <th>min</th>\n",
       "      <td>0.136695</td>\n",
       "      <td>0.000000</td>\n",
       "      <td>-1.000000e+00</td>\n",
       "      <td>0.000000</td>\n",
       "      <td>0.000000</td>\n",
       "      <td>-4.781305e-01</td>\n",
       "    </tr>\n",
       "    <tr>\n",
       "      <th>25%</th>\n",
       "      <td>0.224812</td>\n",
       "      <td>0.497500</td>\n",
       "      <td>-6.956525e-01</td>\n",
       "      <td>0.388217</td>\n",
       "      <td>0.475000</td>\n",
       "      <td>-1.651344e-01</td>\n",
       "    </tr>\n",
       "    <tr>\n",
       "      <th>50%</th>\n",
       "      <td>0.369728</td>\n",
       "      <td>0.995000</td>\n",
       "      <td>6.123234e-17</td>\n",
       "      <td>0.667501</td>\n",
       "      <td>0.950000</td>\n",
       "      <td>3.713929e-17</td>\n",
       "    </tr>\n",
       "    <tr>\n",
       "      <th>75%</th>\n",
       "      <td>0.608055</td>\n",
       "      <td>1.492500</td>\n",
       "      <td>6.956525e-01</td>\n",
       "      <td>0.885674</td>\n",
       "      <td>1.425000</td>\n",
       "      <td>2.722606e-01</td>\n",
       "    </tr>\n",
       "    <tr>\n",
       "      <th>max</th>\n",
       "      <td>1.000000</td>\n",
       "      <td>1.990000</td>\n",
       "      <td>1.000000e+00</td>\n",
       "      <td>1.064711</td>\n",
       "      <td>1.900000</td>\n",
       "      <td>7.883040e-01</td>\n",
       "    </tr>\n",
       "  </tbody>\n",
       "</table>\n",
       "</div>"
      ],
      "text/plain": [
       "       line0_volts  line0_time, line1_time, line3_time   line1_volts  \\\n",
       "count   200.000000                          200.000000  2.000000e+02   \n",
       "mean      0.434498                            0.995000 -1.665335e-18   \n",
       "std       0.243705                            0.578792  7.088812e-01   \n",
       "min       0.136695                            0.000000 -1.000000e+00   \n",
       "25%       0.224812                            0.497500 -6.956525e-01   \n",
       "50%       0.369728                            0.995000  6.123234e-17   \n",
       "75%       0.608055                            1.492500  6.956525e-01   \n",
       "max       1.000000                            1.990000  1.000000e+00   \n",
       "\n",
       "       line2_volts  line2_time   line3_volts  \n",
       "count    20.000000   20.000000  2.000000e+02  \n",
       "mean      0.620175    0.950000  6.708533e-02  \n",
       "std       0.324605    0.591608  3.402314e-01  \n",
       "min       0.000000    0.000000 -4.781305e-01  \n",
       "25%       0.388217    0.475000 -1.651344e-01  \n",
       "50%       0.667501    0.950000  3.713929e-17  \n",
       "75%       0.885674    1.425000  2.722606e-01  \n",
       "max       1.064711    1.900000  7.883040e-01  "
      ]
     },
     "execution_count": 14,
     "metadata": {},
     "output_type": "execute_result"
    }
   ],
   "source": [
    "df.describe() # "
   ]
  },
  {
   "cell_type": "markdown",
   "metadata": {},
   "source": [
    "We can also examine how many rows we have. Calling the ```columns``` property gives you columns. "
   ]
  },
  {
   "cell_type": "code",
   "execution_count": 15,
   "metadata": {
    "collapsed": false
   },
   "outputs": [
    {
     "data": {
      "text/plain": [
       "200"
      ]
     },
     "execution_count": 15,
     "metadata": {},
     "output_type": "execute_result"
    }
   ],
   "source": [
    "len(df)"
   ]
  },
  {
   "cell_type": "markdown",
   "metadata": {},
   "source": [
    "Calling .head() will print the first five rows and column headers by default, or we can specify a number."
   ]
  },
  {
   "cell_type": "code",
   "execution_count": 16,
   "metadata": {
    "collapsed": false
   },
   "outputs": [
    {
     "data": {
      "text/html": [
       "<div>\n",
       "<table border=\"1\" class=\"dataframe\">\n",
       "  <thead>\n",
       "    <tr style=\"text-align: right;\">\n",
       "      <th></th>\n",
       "      <th>line0_volts</th>\n",
       "      <th>line0_time, line1_time, line3_time</th>\n",
       "      <th>line1_volts</th>\n",
       "      <th>line2_volts</th>\n",
       "      <th>line2_time</th>\n",
       "      <th>line3_volts</th>\n",
       "    </tr>\n",
       "  </thead>\n",
       "  <tbody>\n",
       "    <tr>\n",
       "      <th>0</th>\n",
       "      <td>1.000000</td>\n",
       "      <td>0.00</td>\n",
       "      <td>0.000000</td>\n",
       "      <td>0.000000</td>\n",
       "      <td>0.0</td>\n",
       "      <td>0.000000</td>\n",
       "    </tr>\n",
       "    <tr>\n",
       "      <th>1</th>\n",
       "      <td>0.990050</td>\n",
       "      <td>0.01</td>\n",
       "      <td>0.062791</td>\n",
       "      <td>0.095310</td>\n",
       "      <td>0.1</td>\n",
       "      <td>0.062166</td>\n",
       "    </tr>\n",
       "    <tr>\n",
       "      <th>2</th>\n",
       "      <td>0.980199</td>\n",
       "      <td>0.02</td>\n",
       "      <td>0.125333</td>\n",
       "      <td>0.182322</td>\n",
       "      <td>0.2</td>\n",
       "      <td>0.122851</td>\n",
       "    </tr>\n",
       "    <tr>\n",
       "      <th>3</th>\n",
       "      <td>0.970446</td>\n",
       "      <td>0.03</td>\n",
       "      <td>0.187381</td>\n",
       "      <td>0.262364</td>\n",
       "      <td>0.3</td>\n",
       "      <td>0.181843</td>\n",
       "    </tr>\n",
       "    <tr>\n",
       "      <th>4</th>\n",
       "      <td>0.960789</td>\n",
       "      <td>0.04</td>\n",
       "      <td>0.248690</td>\n",
       "      <td>0.336472</td>\n",
       "      <td>0.4</td>\n",
       "      <td>0.238939</td>\n",
       "    </tr>\n",
       "  </tbody>\n",
       "</table>\n",
       "</div>"
      ],
      "text/plain": [
       "   line0_volts  line0_time, line1_time, line3_time  line1_volts  line2_volts  \\\n",
       "0     1.000000                                0.00     0.000000     0.000000   \n",
       "1     0.990050                                0.01     0.062791     0.095310   \n",
       "2     0.980199                                0.02     0.125333     0.182322   \n",
       "3     0.970446                                0.03     0.187381     0.262364   \n",
       "4     0.960789                                0.04     0.248690     0.336472   \n",
       "\n",
       "   line2_time  line3_volts  \n",
       "0         0.0     0.000000  \n",
       "1         0.1     0.062166  \n",
       "2         0.2     0.122851  \n",
       "3         0.3     0.181843  \n",
       "4         0.4     0.238939  "
      ]
     },
     "execution_count": 16,
     "metadata": {},
     "output_type": "execute_result"
    }
   ],
   "source": [
    "df.head()  # examine dataframe"
   ]
  },
  {
   "cell_type": "markdown",
   "metadata": {},
   "source": [
    "We can rename our columns once we've made a dataframe."
   ]
  },
  {
   "cell_type": "code",
   "execution_count": 17,
   "metadata": {
    "collapsed": false
   },
   "outputs": [],
   "source": [
    "df.columns = [\"volts_1\", \"time_1\", \"volts_2\", \"volts_2\",\n",
    "                \"time_2\", \"volts_4\"]"
   ]
  },
  {
   "cell_type": "code",
   "execution_count": 18,
   "metadata": {
    "collapsed": false
   },
   "outputs": [
    {
     "data": {
      "text/html": [
       "<div>\n",
       "<table border=\"1\" class=\"dataframe\">\n",
       "  <thead>\n",
       "    <tr style=\"text-align: right;\">\n",
       "      <th></th>\n",
       "      <th>volts_1</th>\n",
       "      <th>time_1</th>\n",
       "      <th>volts_2</th>\n",
       "      <th>volts_2</th>\n",
       "      <th>time_2</th>\n",
       "      <th>volts_4</th>\n",
       "    </tr>\n",
       "  </thead>\n",
       "  <tbody>\n",
       "    <tr>\n",
       "      <th>0</th>\n",
       "      <td>1</td>\n",
       "      <td>0</td>\n",
       "      <td>0</td>\n",
       "      <td>0</td>\n",
       "      <td>0</td>\n",
       "      <td>0</td>\n",
       "    </tr>\n",
       "  </tbody>\n",
       "</table>\n",
       "</div>"
      ],
      "text/plain": [
       "   volts_1  time_1  volts_2  volts_2  time_2  volts_4\n",
       "0        1       0        0        0       0        0"
      ]
     },
     "execution_count": 18,
     "metadata": {},
     "output_type": "execute_result"
    }
   ],
   "source": [
    "df.head(1)"
   ]
  },
  {
   "cell_type": "markdown",
   "metadata": {},
   "source": [
    "We can use pandas for statistics and to examine our rows and columns. "
   ]
  },
  {
   "cell_type": "code",
   "execution_count": 19,
   "metadata": {
    "collapsed": false
   },
   "outputs": [
    {
     "data": {
      "text/plain": [
       "0    1.000000\n",
       "1    0.990050\n",
       "2    0.980199\n",
       "3    0.970446\n",
       "4    0.960789\n",
       "Name: volts_1, dtype: float64"
      ]
     },
     "execution_count": 19,
     "metadata": {},
     "output_type": "execute_result"
    }
   ],
   "source": [
    "df.volts_1.head()"
   ]
  },
  {
   "cell_type": "code",
   "execution_count": 20,
   "metadata": {
    "collapsed": false
   },
   "outputs": [
    {
     "data": {
      "text/plain": [
       "0.24370527032639763"
      ]
     },
     "execution_count": 20,
     "metadata": {},
     "output_type": "execute_result"
    }
   ],
   "source": [
    "df.volts_1.std()"
   ]
  },
  {
   "cell_type": "markdown",
   "metadata": {
    "collapsed": false
   },
   "source": [
    "Most pandas functions also work on an entire dataframe. For example, calling ```std()``` calculates the standard deviation for each column."
   ]
  },
  {
   "cell_type": "code",
   "execution_count": 21,
   "metadata": {
    "collapsed": false
   },
   "outputs": [
    {
     "data": {
      "text/plain": [
       "volts_1    0.243705\n",
       "time_1     0.578792\n",
       "volts_2    0.708881\n",
       "volts_2    0.324605\n",
       "time_2     0.591608\n",
       "volts_4    0.340231\n",
       "dtype: float64"
      ]
     },
     "execution_count": 21,
     "metadata": {},
     "output_type": "execute_result"
    }
   ],
   "source": [
    "df.std()"
   ]
  },
  {
   "cell_type": "markdown",
   "metadata": {},
   "source": [
    "## III. Plotting"
   ]
  },
  {
   "cell_type": "markdown",
   "metadata": {},
   "source": [
    "### matplotlib inline"
   ]
  },
  {
   "cell_type": "markdown",
   "metadata": {},
   "source": [
    "You can [use matplotlib](https://ipython.org/ipython-doc/3/notebook/notebook.html#plotting) inside your IPython Notebook by calling ```%matplotlib inline```, which has the advantage of keeping your plots in one place. If you're having trouble running matplotlib, [here](http://stackoverflow.com/questions/19410042/how-to-make-ipython-notebook-matplotlib-plot-inline) are a few common solutions. ```%matplotlib inline``` activates the inline backend and calls images as static pngs. A new option--```%matplotlib notebook```--lets you interact with the plot in a Notebook. This works in IPython 3.x; for older IPython versions, use ```%matplotlib nbagg```."
   ]
  },
  {
   "cell_type": "code",
   "execution_count": 22,
   "metadata": {
    "collapsed": false
   },
   "outputs": [],
   "source": [
    "%matplotlib inline\n",
    "import matplotlib.pyplot as plt # side-stepping mpl backend\n",
    "import matplotlib.gridspec as gridspec # subplots"
   ]
  },
  {
   "cell_type": "code",
   "execution_count": 23,
   "metadata": {
    "collapsed": true
   },
   "outputs": [],
   "source": [
    "import plotly.plotly as py\n",
    "from plotly.graph_objs import *\n",
    "import plotly.tools as tls"
   ]
  },
  {
   "cell_type": "code",
   "execution_count": 24,
   "metadata": {
    "collapsed": false
   },
   "outputs": [
    {
     "data": {
      "image/png": "[encoded data removed]",
      "text/plain": [
       "<matplotlib.figure.Figure at 0x109961050>"
      ]
     },
     "metadata": {},
     "output_type": "display_data"
    }
   ],
   "source": [
    "fig1 = plt.figure()\n",
    "# Make a legend for specific lines.\n",
    "import matplotlib.pyplot as plt\n",
    "import numpy as np\n",
    "\n",
    "\n",
    "t1 = np.arange(0.0, 2.0, 0.1)\n",
    "t2 = np.arange(0.0, 2.0, 0.01)\n",
    "\n",
    "# note that plot returns a list of lines.  The \"l1, = plot\" usage\n",
    "# extracts the first element of the list into l1 using tuple\n",
    "# unpacking.  So l1 is a Line2D instance, not a sequence of lines\n",
    "l1, = plt.plot(t2, np.exp(-t2))\n",
    "l2, l3 = plt.plot(t2, np.sin(2 * np.pi * t2), '--go', t1, np.log(1 + t1), '.')\n",
    "l4, = plt.plot(t2, np.exp(-t2) * np.sin(2 * np.pi * t2), 'rs-.')\n",
    "\n",
    "plt.xlabel('time')\n",
    "plt.ylabel('volts')\n",
    "plt.title('Damped oscillation')\n",
    "\n",
    "plt.show()"
   ]
  },
  {
   "cell_type": "markdown",
   "metadata": {},
   "source": [
    "Now we can do a bit of interactive plotting. Head to the [Plotly getting started](https://plot.ly/python/) page to get a key and install the API. Calling the plot with ```iplot``` automaticallly generates an interactive version of the matplotlib plot inside the Notebook in an iframe. You can control the privacy with [```sharing```](https://plot.ly/python/privacy/) set to ```public```, ```private```, or ```secret```. We'll use ```strip_style``` to apply the Plotly defaults. You can filter zoom by clicking and dragging and see text if you hover your mouse."
   ]
  },
  {
   "cell_type": "code",
   "execution_count": 25,
   "metadata": {
    "collapsed": false
   },
   "outputs": [
    {
     "data": {
      "text/html": [
       "<iframe id=\"igraph\" scrolling=\"no\" style=\"border:none;\"seamless=\"seamless\" src=\"https://plot.ly/~chelsea_lyn/8986.embed\" height=\"525px\" width=\"100%\"></iframe>"
      ],
      "text/plain": [
       "<plotly.tools.PlotlyDisplay object>"
      ]
     },
     "execution_count": 25,
     "metadata": {},
     "output_type": "execute_result"
    }
   ],
   "source": [
    "py.iplot_mpl(fig1, strip_style = True, filename='ipython/mpl_example')"
   ]
  },
  {
   "cell_type": "markdown",
   "metadata": {},
   "source": [
    "### mpld3"
   ]
  },
  {
   "cell_type": "markdown",
   "metadata": {},
   "source": [
    "We can use [```mpld3```](https://mpld3.github.io/index.html) to make interactive plots in the Notebook from matplotlib figures."
   ]
  },
  {
   "cell_type": "code",
   "execution_count": 26,
   "metadata": {
    "collapsed": false
   },
   "outputs": [
    {
     "data": {
      "text/html": [
       "\n",
       "\n",
       "<style>\n",
       "\n",
       "</style>\n",
       "\n",
       "<div id=\"fig_el2127544557968162619906909\"></div>\n",
       "<script>\n",
       "function mpld3_load_lib(url, callback){\n",
       "  var s = document.createElement('script');\n",
       "  s.src = url;\n",
       "  s.async = true;\n",
       "  s.onreadystatechange = s.onload = callback;\n",
       "  s.onerror = function(){console.warn(\"failed to load library \" + url);};\n",
       "  document.getElementsByTagName(\"head\")[0].appendChild(s);\n",
       "}\n",
       "\n",
       "if(typeof(mpld3) !== \"undefined\" && mpld3._mpld3IsLoaded){\n",
       "   // already loaded: just create the figure\n",
       "   !function(mpld3){\n",
       "       \n",
       "       mpld3.draw_figure(\"fig_el2127544557968162619906909\", {\"axes\": [{\"xlim\": [0.0, 2.0], \"yscale\": \"linear\", \"axesbg\": \"#FFFFFF\", \"texts\": [{\"v_baseline\": \"hanging\", \"h_anchor\": \"middle\", \"color\": \"#000000\", \"text\": \"time\", \"coordinates\": \"axes\", \"zorder\": 3, \"alpha\": 1, \"fontsize\": 10.0, \"position\": [0.5, -0.080645161290322578], \"rotation\": -0.0, \"id\": \"el212754299391696\"}, {\"v_baseline\": \"auto\", \"h_anchor\": \"middle\", \"color\": \"#000000\", \"text\": \"volts\", \"coordinates\": \"axes\", \"zorder\": 3, \"alpha\": 1, \"fontsize\": 10.0, \"position\": [-0.094842069892473138, 0.5], \"rotation\": -90.0, \"id\": \"el212754456047568\"}, {\"v_baseline\": \"auto\", \"h_anchor\": \"middle\", \"color\": \"#000000\", \"text\": \"Damped oscillation\", \"coordinates\": \"axes\", \"zorder\": 3, \"alpha\": 1, \"fontsize\": 12.0, \"position\": [0.5, 1.0224014336917562], \"rotation\": -0.0, \"id\": \"el212754456280144\"}], \"zoomable\": true, \"images\": [], \"xdomain\": [0.0, 2.0], \"ylim\": [-1.0, 1.5], \"paths\": [], \"sharey\": [], \"sharex\": [], \"axesbgalpha\": null, \"axes\": [{\"scale\": \"linear\", \"tickformat\": null, \"grid\": {\"gridOn\": false}, \"fontsize\": 10.0, \"position\": \"bottom\", \"nticks\": 5, \"tickvalues\": null}, {\"scale\": \"linear\", \"tickformat\": null, \"grid\": {\"gridOn\": false}, \"fontsize\": 10.0, \"position\": \"left\", \"nticks\": 6, \"tickvalues\": null}], \"lines\": [{\"color\": \"#0000FF\", \"yindex\": 1, \"coordinates\": \"data\", \"dasharray\": \"10,0\", \"zorder\": 2, \"alpha\": 1, \"xindex\": 0, \"linewidth\": 1.0, \"data\": \"data01\", \"id\": \"el212754456454480\"}, {\"color\": \"#007F00\", \"yindex\": 2, \"coordinates\": \"data\", \"dasharray\": \"6,6\", \"zorder\": 2, \"alpha\": 1, \"xindex\": 0, \"linewidth\": 1.0, \"data\": \"data01\", \"id\": \"el212754455798416\"}, {\"color\": \"#FF0000\", \"yindex\": 3, \"coordinates\": \"data\", \"dasharray\": \"4,4,2,4\", \"zorder\": 2, \"alpha\": 1, \"xindex\": 0, \"linewidth\": 1.0, \"data\": \"data01\", \"id\": \"el212754456455120\"}], \"markers\": [{\"edgecolor\": \"#000000\", \"facecolor\": \"#007F00\", \"edgewidth\": 0.5, \"yindex\": 2, \"coordinates\": \"data\", \"zorder\": 2, \"markerpath\": [[[0.0, 3.0], [0.7956093000000001, 3.0], [1.5587396123545605, 2.683901074764725], [2.121320343559643, 2.121320343559643], [2.683901074764725, 1.5587396123545605], [3.0, 0.7956093000000001], [3.0, 0.0], [3.0, -0.7956093000000001], [2.683901074764725, -1.5587396123545605], [2.121320343559643, -2.121320343559643], [1.5587396123545605, -2.683901074764725], [0.7956093000000001, -3.0], [0.0, -3.0], [-0.7956093000000001, -3.0], [-1.5587396123545605, -2.683901074764725], [-2.121320343559643, -2.121320343559643], [-2.683901074764725, -1.5587396123545605], [-3.0, -0.7956093000000001], [-3.0, 0.0], [-3.0, 0.7956093000000001], [-2.683901074764725, 1.5587396123545605], [-2.121320343559643, 2.121320343559643], [-1.5587396123545605, 2.683901074764725], [-0.7956093000000001, 3.0], [0.0, 3.0]], [\"M\", \"C\", \"C\", \"C\", \"C\", \"C\", \"C\", \"C\", \"C\", \"Z\"]], \"alpha\": 1, \"xindex\": 0, \"data\": \"data01\", \"id\": \"el212754455798416pts\"}, {\"edgecolor\": \"#007F00\", \"facecolor\": \"#007F00\", \"edgewidth\": 0.5, \"yindex\": 1, \"coordinates\": \"data\", \"zorder\": 2, \"markerpath\": [[[0.0, 1.5], [0.39780465000000004, 1.5], [0.7793698061772802, 1.3419505373823626], [1.0606601717798214, 1.0606601717798214], [1.3419505373823626, 0.7793698061772802], [1.5, 0.39780465000000004], [1.5, 0.0], [1.5, -0.39780465000000004], [1.3419505373823626, -0.7793698061772802], [1.0606601717798214, -1.0606601717798214], [0.7793698061772802, -1.3419505373823626], [0.39780465000000004, -1.5], [0.0, -1.5], [-0.39780465000000004, -1.5], [-0.7793698061772802, -1.3419505373823626], [-1.0606601717798214, -1.0606601717798214], [-1.3419505373823626, -0.7793698061772802], [-1.5, -0.39780465000000004], [-1.5, 0.0], [-1.5, 0.39780465000000004], [-1.3419505373823626, 0.7793698061772802], [-1.0606601717798214, 1.0606601717798214], [-0.7793698061772802, 1.3419505373823626], [-0.39780465000000004, 1.5], [0.0, 1.5]], [\"M\", \"C\", \"C\", \"C\", \"C\", \"C\", \"C\", \"C\", \"C\", \"Z\"]], \"alpha\": 1, \"xindex\": 0, \"data\": \"data02\", \"id\": \"el212754456534672pts\"}, {\"edgecolor\": \"#000000\", \"facecolor\": \"#FF0000\", \"edgewidth\": 0.5, \"yindex\": 3, \"coordinates\": \"data\", \"zorder\": 2, \"markerpath\": [[[-3.0, 3.0], [3.0, 3.0], [3.0, -3.0], [-3.0, -3.0]], [\"M\", \"L\", \"L\", \"L\", \"Z\"]], \"alpha\": 1, \"xindex\": 0, \"data\": \"data01\", \"id\": \"el212754456455120pts\"}], \"id\": \"el212754455780304\", \"ydomain\": [-1.0, 1.5], \"collections\": [], \"xscale\": \"linear\", \"bbox\": [0.125, 0.125, 0.77500000000000002, 0.77500000000000002]}], \"height\": 320.0, \"width\": 480.0, \"plugins\": [{\"type\": \"reset\"}, {\"enabled\": false, \"button\": true, \"type\": \"zoom\"}, {\"enabled\": false, \"button\": true, \"type\": \"boxzoom\"}], \"data\": {\"data02\": [[0.0, 0.0], [0.1, 0.09531017980432493], [0.2, 0.1823215567939546], [0.30000000000000004, 0.26236426446749106], [0.4, 0.33647223662121284], [0.5, 0.4054651081081644], [0.6000000000000001, 0.47000362924573563], [0.7000000000000001, 0.5306282510621705], [0.8, 0.5877866649021191], [0.9, 0.6418538861723947], [1.0, 0.6931471805599453], [1.1, 0.7419373447293773], [1.2000000000000002, 0.7884573603642703], [1.3, 0.8329091229351039], [1.4000000000000001, 0.8754687373539001], [1.5, 0.9162907318741551], [1.6, 0.9555114450274363], [1.7000000000000002, 0.9932517730102834], [1.8, 1.0296194171811581], [1.9000000000000001, 1.0647107369924285]], \"data01\": [[0.0, 1.0, 0.0, 0.0], [0.01, 0.9900498337491681, 0.06279051952931337, 0.062165743421020596], [0.02, 0.9801986733067553, 0.12533323356430426, 0.12285146926097672], [0.03, 0.9704455335485082, 0.1873813145857246, 0.18184335981016436], [0.04, 0.9607894391523232, 0.2486898871648548, 0.23893861721197537], [0.05, 0.951229424500714, 0.3090169943749474, 0.2939460577202216], [0.06, 0.9417645335842487, 0.3681245526846779, 0.3466866476599959], [0.07, 0.9323938199059483, 0.4257792915650727, 0.39699398009920667], [0.08, 0.9231163463866358, 0.4817536741017153, 0.4447146914951135], [0.09, 0.9139311852712282, 0.5358267949789967, 0.4897088178352378], [0.1, 0.9048374180359595, 0.5877852522924731, 0.5318500900439365], [0.11, 0.8958341352965282, 0.6374239897486896, 0.5710261686737804], [0.12, 0.8869204367171575, 0.6845471059286886, 0.6071388181437388], [0.13, 0.8780954309205613, 0.7289686274214116, 0.6401040210231744], [0.14, 0.8693582353988059, 0.7705132427757893, 0.6698520330909719], [0.15, 0.8607079764250578, 0.8090169943749473, 0.6963273801219433], [0.16, 0.8521437889662113, 0.8443279255020151, 0.7194887975672681], [0.17, 0.8436648165963837, 0.8763066800438637, 0.7393091145013921], [0.18, 0.835270211411272, 0.9048270524660196, 0.7557750834039303], [0.19, 0.8269591339433623, 0.9297764858882513, 0.7688871575310512], [0.2, 0.8187307530779818, 0.9510565162951535, 0.778659217806053], [0.21, 0.8105842459701871, 0.9685831611286311, 0.7851182513228716], [0.22, 0.8025187979624785, 0.9822872507286886, 0.788303983708655], [0.23, 0.794533602503334, 0.9921147013144779, 0.7882684677319114], [0.24, 0.7866278610665535, 0.9980267284282716, 0.7850756306707813], [0.25, 0.7788007830714049, 1.0, 0.7788007830714049], [0.26, 0.7710515858035663, 0.9980267284282716, 0.7695300916289639], [0.27, 0.7633794943368531, 0.9921147013144778, 0.7573600190136042], [0.28, 0.7557837414557255, 0.9822872507286886, 0.7423967335399866], [0.29, 0.7482635675785653, 0.9685831611286312, 0.7247554916426339], [0.3, 0.7408182206817179, 0.9510565162951536, 0.7045599961695289], [0.31, 0.7334469562242892, 0.9297764858882513, 0.6819417335436537], [0.32, 0.7261490370736909, 0.9048270524660195, 0.657039292866426], [0.33, 0.7189237334319262, 0.8763066800438635, 0.6299976700484707], [0.34, 0.7117703227626097, 0.844327925502015, 0.6009675600520539], [0.35000000000000003, 0.7046880897187134, 0.8090169943749475, 0.5701046403160569], [0.36, 0.697676326071031, 0.7705132427757893, 0.5375688484088891], [0.37, 0.6907343306373547, 0.7289686274214116, 0.5035236569175598], [0.38, 0.6838614092123558, 0.6845471059286888, 0.46813534853263294], [0.39, 0.6770568744981647, 0.6374239897486899, 0.4315722942293981], [0.4, 0.6703200460356393, 0.5877852522924732, 0.39400423737576057], [0.41000000000000003, 0.6636502501363194, 0.5358267949789967, 0.35560158651755347], [0.42, 0.6570468198150567, 0.4817536741017156, 0.3165347195027515], [0.43, 0.6505090947233165, 0.4257792915650729, 0.2769733015079306], [0.44, 0.6440364210831414, 0.36812455268467814, 0.23708561942387243], [0.45, 0.6376281516217733, 0.3090169943749475, 0.1970379349430137], [0.46, 0.631283645506926, 0.2486898871648548, 0.15699385857013562], [0.47000000000000003, 0.6250022682827008, 0.18738131458572455, 0.11711374664987216], [0.48, 0.6187833918061408, 0.12533323356430454, 0.07755412337095162], [0.49, 0.6126263941844161, 0.06279051952931358, 0.03846712956820954], [0.5, 0.6065306597126334, 1.2246467991473532e-16, 7.42785831001809e-17], [0.51, 0.6004955788122659, -0.06279051952931333, -0.03770542936867789], [0.52, 0.5945205479701944, -0.1253332335643043, -0.07451318269752656], [0.53, 0.5886049696783552, -0.18738131458572477, -0.11029357299002086], [0.54, 0.5827482523739896, -0.24868988716485502, -0.14492359712840394], [0.55, 0.5769498103804866, -0.30901699437494773, -0.178287296308974], [0.56, 0.5712090638488149, -0.36812455268467836, -0.21027608111877885], [0.5700000000000001, 0.5655254386995371, -0.4257792915650727, -0.24078902065151586], [0.58, 0.559898366565402, -0.481753674101715, -0.26973309521643124], [0.59, 0.5543272847345071, -0.5358267949789964, -0.2970234123487005], [0.6, 0.5488116360940265, -0.587785252292473, -0.32258338598257225], [0.61, 0.5433508690744998, -0.6374239897486896, -0.3463448787988856], [0.62, 0.5379444375946745, -0.6845471059286887, -0.3682483079058705], [0.63, 0.5325918010068972, -0.7289686274214113, -0.3882427141558953], [0.64, 0.5272924240430485, -0.7705132427757894, -0.4062857955405159], [0.65, 0.522045776761016, -0.8090169943749473, -0.4223439052413319], [0.66, 0.5168513344916992, -0.8443279255020153, -0.43639201504432457], [0.67, 0.5117085777865424, -0.8763066800438636, -0.4484136449500921], [0.68, 0.5066169923655895, -0.9048270524660198, -0.4584007599313564], [0.6900000000000001, 0.5015760690660555, -0.9297764858882515, -0.4663536349018799], [0.7000000000000001, 0.49658530379140947, -0.9510565162951535, -0.47228068906722837], [0.71, 0.4916441974609651, -0.968583161128631, -0.47619829092729044], [0.72, 0.4867522559599717, -0.9822872507286887, -0.47813053529290755], [0.73, 0.48190899009020244, -0.9921147013144778, -0.4781089937641028], [0.74, 0.4771139155210344, -0.9980267284282716, -0.47617244019506066], [0.75, 0.4723665527410147, -1.0, -0.4723665527410147], [0.76, 0.46766642700990924, -0.9980267284282716, -0.4667435941444388], [0.77, 0.46301306831122807, -0.9921147013144779, -0.459362071972294], [0.78, 0.4584060113052235, -0.9822872507286887, -0.4502863805625122], [0.79, 0.45384479528235583, -0.9685831611286311, -0.43958642647636065], [0.8, 0.44932896411722156, -0.9510565162951536, -0.4273372392838348], [0.81, 0.4448580662229411, -0.9297764858882512, -0.41361856953180914], [0.8200000000000001, 0.44043165450599925, -0.9048270524660196, -0.3985144757593956], [0.8300000000000001, 0.43604928632153556, -0.8763066800438634, -0.3821129024319208], [0.84, 0.43171052342907973, -0.8443279255020155, -0.36450525066426415], [0.85, 0.4274149319487267, -0.8090169943749476, -0.34578594359613163], [0.86, 0.4231620823177488, -0.7705132427757896, -0.32605198826640425], [0.87, 0.418951549247639, -0.7289686274214116, -0.3054025358111253], [0.88, 0.4147829116815814, -0.684547105928689, -0.28393844178030153], [0.89, 0.4106557527523455, -0.6374239897486896, -0.2617618283326515], [0.9, 0.4065696597405991, -0.5877852522924732, -0.23897565002509305], [0.91, 0.40252422403363597, -0.5358267949789963, -0.21568326486535064], [0.92, 0.39851904108451414, -0.4817536741017153, -0.19198801224195713], [0.93, 0.3945537103716011, -0.4257792915650722, -0.167992799286391], [0.9400000000000001, 0.3906278353585211, -0.3681245526846778, -0.14379969715753954], [0.9500000000000001, 0.3867410234545012, -0.3090169943749476, -0.11950954866940107], [0.96, 0.38289288597511206, -0.24868988716485535, -0.09522158860937645], [0.97, 0.37908303810339883, -0.18738131458572468, -0.07103307801696523], [0.98, 0.37531109885139957, -0.12533323356430467, -0.0470389536116183], [0.99, 0.3715766910220457, -0.06279051952931326, -0.02333149347425736], [1.0, 0.36787944117144233, -2.4492935982947064e-16, -9.010447602054478e-17], [1.01, 0.3642189795715233, 0.06279051952931276, 0.0228694989497321], [1.02, 0.3605949401730783, 0.12533323356430418, 0.045194529858818715], [1.03, 0.3570069605691474, 0.1873813145857242, 0.06689643358770064], [1.04, 0.35345468195878016, 0.2486898871648549, 0.08790060497421871], [1.05, 0.3499377491111553, 0.3090169943749472, 0.10813671144866356], [1.06, 0.3464558103300574, 0.36812455268467825, 0.1275388902027601], [1.07, 0.34300851741870664, 0.4257792915650726, 0.14604592354732276], [1.08, 0.3395955256449391, 0.4817536741017157, 0.16360139218795283], [1.09, 0.3362164937067333, 0.5358267949789967, 0.1801538062419549], [1.1, 0.33287108369807955, 0.5877852522924737, 0.19565671391234482], [1.11, 0.32955896107518906, 0.63742398974869, 0.21006878782598024], [1.12, 0.32627979462303947, 0.6845471059286893, 0.22335388913220877], [1.1300000000000001, 0.3230332564222529, 0.7289686274214118, 0.23548110954559864], [1.1400000000000001, 0.31981902181630384, 0.7705132427757893, 0.24642479160106115], [1.1500000000000001, 0.31663676937905316, 0.8090169943749478, 0.2561645274716351], [1.16, 0.3134861808826053, 0.8443279255020147, 0.2646851367781595], [1.17, 0.31036694126548503, 0.8763066800438631, 0.27197662389572586], [1.18, 0.30727873860113125, 0.9048270524660194, 0.278034115333938], [1.19, 0.3042212640667041, 0.9297764858882511, 0.2828577778364218], [1.2, 0.30119421191220214, 0.9510565162951534, 0.2864527179094832], [1.21, 0.2981972794298874, 0.968583161128631, 0.288828863550158], [1.22, 0.2952301669240142, 0.9822872507286886, 0.29000082899996177], [1.23, 0.2922925776808594, 0.9921147013144778, 0.28998776340228466], [1.24, 0.2893842179390506, 0.9980267284282716, 0.2888131842884846], [1.25, 0.2865047968601901, 1.0, 0.2865047968601901], [1.26, 0.2836540264997704, 0.9980267284282716, 0.28309430007307207], [1.27, 0.2808316217783798, 0.9921147013144779, 0.2786171805603177], [1.28, 0.27803730045319414, 0.9822872507286886, 0.27311249546219446], [1.29, 0.27527078308975234, 0.9685831611286311, 0.26662264525142604], [1.3, 0.2725317930340126, 0.9510565162951536, 0.2591931376625998], [1.31, 0.2698200563846868, 0.9297764858882517, 0.25087234384752405], [1.32, 0.26713530196585034, 0.9048270524660192, 0.24171124788738035], [1.33, 0.26447726129982396, 0.8763066800438635, 0.23176319079674212], [1.34, 0.261845668580326, 0.8443279255020151, 0.22108361015411482], [1.35, 0.2592402606458915, 0.8090169943749477, 0.20972977648871718], [1.36, 0.2566607769535559, 0.7705132427757886, 0.19776052754383772], [1.37, 0.25410695955280027, 0.728968627421411, 0.1852360015234328], [1.3800000000000001, 0.25157855305975646, 0.6845471059286884, 0.17221737041078325], [1.3900000000000001, 0.24907530463166816, 0.6374239897486896, 0.1587665744261882], [1.4000000000000001, 0.24659696394160643, 0.5877852522924734, 0.1449460586649751], [1.41, 0.2441432831534371, 0.5358267949789972, 0.130818512927756], [1.42, 0.24171401689703645, 0.48175367410171616, 0.1164466157220316], [1.43, 0.23930892224375455, 0.42577929156507394, 0.10189278337814718], [1.44, 0.23692775868212176, 0.368124552684678, 0.0872189251834394], [1.45, 0.23457028809379765, 0.3090169943749478, 0.07248620539641094], [1.46, 0.23223627472975883, 0.2486898871648555, 0.057754812958130106], [1.47, 0.22992548518672384, 0.18738131458572568, 0.04308373967104911], [1.48, 0.22763768838381274, 0.1253332335643039, 0.02853056756624663], [1.49, 0.22537265553943872, 0.06279051952931337, 0.014151266129022342], [1.5, 0.22313016014842982, 3.6739403974420594e-16, 8.197669092570326e-17], [1.51, 0.2209099779593782, -0.06279051952931265, -0.013871052285278363], [1.52, 0.21871188695221475, -0.12533323356430318, -0.027411868010671404], [1.53, 0.21653566731600707, -0.18738131458572496, -0.040574737996370604], [1.54, 0.21438110142697794, -0.24868988716485474, -0.05331441192415243], [1.55, 0.21224797382674304, -0.30901699437494706, -0.06558823093411256], [1.56, 0.21013607120076472, -0.36812455268467725, -0.07735624721369701], [1.57, 0.20804518235702046, -0.42577929156507327, -0.08858133035749866], [1.58, 0.20597509820488344, -0.4817536741017156, -0.09922926033366428], [1.59, 0.20392561173421342, -0.5358267949789967, -0.10926880694967485], [1.6, 0.20189651799465538, -0.5877852522924728, -0.1186717957664603], [1.61, 0.1998876140751445, -0.6374239897486905, -0.1274131604651251], [1.62, 0.19789869908361465, -0.6845471059286892, -0.13547098172474095], [1.6300000000000001, 0.19592957412690934, -0.7289686274214118, -0.14282651272255487], [1.6400000000000001, 0.19398004229089189, -0.7705132427757891, -0.14946419141933984], [1.6500000000000001, 0.19204990862075408, -0.8090169943749472, -0.15537163984234573], [1.6600000000000001, 0.1901389801015205, -0.8443279255020156, -0.16053965062618583], [1.67, 0.1882470656387468, -0.876306680043863, -0.16496216111788936], [1.68, 0.18637397603940997, -0.9048270524660189, -0.16863621539611176], [1.69, 0.18451952399298926, -0.9297764858882513, -0.17156191459597445], [1.7, 0.18268352405273466, -0.9510565162951534, -0.1737423559701157], [1.71, 0.1808657926171221, -0.968583161128631, -0.17518356115312753], [1.72, 0.17906614791149322, -0.9822872507286885, -0.17589439413055735], [1.73, 0.17728440996987782, -0.9921147013144779, -0.17588646944497877], [1.74, 0.17552040061699686, -0.9980267284282716, -0.17517405120020096], [1.75, 0.17377394345044514, -1.0, -0.17377394345044514], [1.76, 0.17204486382305054, -0.9980267284282716, -0.17170537258420662], [1.77, 0.17033298882540943, -0.992114701314478, -0.1689898623325234], [1.78, 0.1686381472685955, -0.9822872507286886, -0.16565110204844838], [1.79, 0.1669601696670407, -0.9685831611286312, -0.16171480891867487], [1.8, 0.16529888822158653, -0.9510565162951538, -0.1572085847794841], [1.81, 0.16365413680270405, -0.9297764858882517, -0.15216176821749336], [1.82, 0.16202575093388075, -0.9048270524660192, -0.14660528264109668], [1.83, 0.16041356777517274, -0.8763066800438635, -0.1405714810110529], [1.84, 0.15881742610692068, -0.8443279255020152, -0.13409398791842592], [1.85, 0.1572371663136276, -0.8090169943749477, -0.12720753969508478], [1.86, 0.1556726303679973, -0.7705132427757886, -0.11994782323628231], [1.87, 0.1541236618151314, -0.7289686274214111, -0.11235131420653809], [1.8800000000000001, 0.15259010575688386, -0.6845471059286885, -0.10445511528922737], [1.8900000000000001, 0.15107180883637084, -0.6374239897486897, -0.09629679512703086], [1.9000000000000001, 0.14956861922263504, -0.5877852522924735, -0.08791422858481343], [1.9100000000000001, 0.14808038659546244, -0.5358267949789958, -0.07934543894869729], [1.92, 0.14660696213035015, -0.48175367410171627, -0.07062844265518736], [1.93, 0.14514819848362373, -0.42577929156507405, -0.06180109712230407], [1.94, 0.14370394977770293, -0.3681245526846781, -0.05290095223093833], [1.95, 0.1422740715865136, -0.3090169943749479, -0.043965105979150605], [1.96, 0.140858420921045, -0.2486898871648556, -0.035030064805074417], [1.97, 0.13945685621505094, -0.18738131458572582, -0.026131609045568792], [1.98, 0.13806923731089282, -0.12533323356430404, -0.01730466396793145], [1.99, 0.13669542544552385, -0.0627905195293135, -0.008583176781004983]]}, \"id\": \"el212754455796816\"});\n",
       "   }(mpld3);\n",
       "}else if(typeof define === \"function\" && define.amd){\n",
       "   // require.js is available: use it to load d3/mpld3\n",
       "   require.config({paths: {d3: \"https://mpld3.github.io/js/d3.v3.min\"}});\n",
       "   require([\"d3\"], function(d3){\n",
       "      window.d3 = d3;\n",
       "      mpld3_load_lib(\"https://mpld3.github.io/js/mpld3.v0.2.js\", function(){\n",
       "         \n",
       "         mpld3.draw_figure(\"fig_el2127544557968162619906909\", {\"axes\": [{\"xlim\": [0.0, 2.0], \"yscale\": \"linear\", \"axesbg\": \"#FFFFFF\", \"texts\": [{\"v_baseline\": \"hanging\", \"h_anchor\": \"middle\", \"color\": \"#000000\", \"text\": \"time\", \"coordinates\": \"axes\", \"zorder\": 3, \"alpha\": 1, \"fontsize\": 10.0, \"position\": [0.5, -0.080645161290322578], \"rotation\": -0.0, \"id\": \"el212754299391696\"}, {\"v_baseline\": \"auto\", \"h_anchor\": \"middle\", \"color\": \"#000000\", \"text\": \"volts\", \"coordinates\": \"axes\", \"zorder\": 3, \"alpha\": 1, \"fontsize\": 10.0, \"position\": [-0.094842069892473138, 0.5], \"rotation\": -90.0, \"id\": \"el212754456047568\"}, {\"v_baseline\": \"auto\", \"h_anchor\": \"middle\", \"color\": \"#000000\", \"text\": \"Damped oscillation\", \"coordinates\": \"axes\", \"zorder\": 3, \"alpha\": 1, \"fontsize\": 12.0, \"position\": [0.5, 1.0224014336917562], \"rotation\": -0.0, \"id\": \"el212754456280144\"}], \"zoomable\": true, \"images\": [], \"xdomain\": [0.0, 2.0], \"ylim\": [-1.0, 1.5], \"paths\": [], \"sharey\": [], \"sharex\": [], \"axesbgalpha\": null, \"axes\": [{\"scale\": \"linear\", \"tickformat\": null, \"grid\": {\"gridOn\": false}, \"fontsize\": 10.0, \"position\": \"bottom\", \"nticks\": 5, \"tickvalues\": null}, {\"scale\": \"linear\", \"tickformat\": null, \"grid\": {\"gridOn\": false}, \"fontsize\": 10.0, \"position\": \"left\", \"nticks\": 6, \"tickvalues\": null}], \"lines\": [{\"color\": \"#0000FF\", \"yindex\": 1, \"coordinates\": \"data\", \"dasharray\": \"10,0\", \"zorder\": 2, \"alpha\": 1, \"xindex\": 0, \"linewidth\": 1.0, \"data\": \"data01\", \"id\": \"el212754456454480\"}, {\"color\": \"#007F00\", \"yindex\": 2, \"coordinates\": \"data\", \"dasharray\": \"6,6\", \"zorder\": 2, \"alpha\": 1, \"xindex\": 0, \"linewidth\": 1.0, \"data\": \"data01\", \"id\": \"el212754455798416\"}, {\"color\": \"#FF0000\", \"yindex\": 3, \"coordinates\": \"data\", \"dasharray\": \"4,4,2,4\", \"zorder\": 2, \"alpha\": 1, \"xindex\": 0, \"linewidth\": 1.0, \"data\": \"data01\", \"id\": \"el212754456455120\"}], \"markers\": [{\"edgecolor\": \"#000000\", \"facecolor\": \"#007F00\", \"edgewidth\": 0.5, \"yindex\": 2, \"coordinates\": \"data\", \"zorder\": 2, \"markerpath\": [[[0.0, 3.0], [0.7956093000000001, 3.0], [1.5587396123545605, 2.683901074764725], [2.121320343559643, 2.121320343559643], [2.683901074764725, 1.5587396123545605], [3.0, 0.7956093000000001], [3.0, 0.0], [3.0, -0.7956093000000001], [2.683901074764725, -1.5587396123545605], [2.121320343559643, -2.121320343559643], [1.5587396123545605, -2.683901074764725], [0.7956093000000001, -3.0], [0.0, -3.0], [-0.7956093000000001, -3.0], [-1.5587396123545605, -2.683901074764725], [-2.121320343559643, -2.121320343559643], [-2.683901074764725, -1.5587396123545605], [-3.0, -0.7956093000000001], [-3.0, 0.0], [-3.0, 0.7956093000000001], [-2.683901074764725, 1.5587396123545605], [-2.121320343559643, 2.121320343559643], [-1.5587396123545605, 2.683901074764725], [-0.7956093000000001, 3.0], [0.0, 3.0]], [\"M\", \"C\", \"C\", \"C\", \"C\", \"C\", \"C\", \"C\", \"C\", \"Z\"]], \"alpha\": 1, \"xindex\": 0, \"data\": \"data01\", \"id\": \"el212754455798416pts\"}, {\"edgecolor\": \"#007F00\", \"facecolor\": \"#007F00\", \"edgewidth\": 0.5, \"yindex\": 1, \"coordinates\": \"data\", \"zorder\": 2, \"markerpath\": [[[0.0, 1.5], [0.39780465000000004, 1.5], [0.7793698061772802, 1.3419505373823626], [1.0606601717798214, 1.0606601717798214], [1.3419505373823626, 0.7793698061772802], [1.5, 0.39780465000000004], [1.5, 0.0], [1.5, -0.39780465000000004], [1.3419505373823626, -0.7793698061772802], [1.0606601717798214, -1.0606601717798214], [0.7793698061772802, -1.3419505373823626], [0.39780465000000004, -1.5], [0.0, -1.5], [-0.39780465000000004, -1.5], [-0.7793698061772802, -1.3419505373823626], [-1.0606601717798214, -1.0606601717798214], [-1.3419505373823626, -0.7793698061772802], [-1.5, -0.39780465000000004], [-1.5, 0.0], [-1.5, 0.39780465000000004], [-1.3419505373823626, 0.7793698061772802], [-1.0606601717798214, 1.0606601717798214], [-0.7793698061772802, 1.3419505373823626], [-0.39780465000000004, 1.5], [0.0, 1.5]], [\"M\", \"C\", \"C\", \"C\", \"C\", \"C\", \"C\", \"C\", \"C\", \"Z\"]], \"alpha\": 1, \"xindex\": 0, \"data\": \"data02\", \"id\": \"el212754456534672pts\"}, {\"edgecolor\": \"#000000\", \"facecolor\": \"#FF0000\", \"edgewidth\": 0.5, \"yindex\": 3, \"coordinates\": \"data\", \"zorder\": 2, \"markerpath\": [[[-3.0, 3.0], [3.0, 3.0], [3.0, -3.0], [-3.0, -3.0]], [\"M\", \"L\", \"L\", \"L\", \"Z\"]], \"alpha\": 1, \"xindex\": 0, \"data\": \"data01\", \"id\": \"el212754456455120pts\"}], \"id\": \"el212754455780304\", \"ydomain\": [-1.0, 1.5], \"collections\": [], \"xscale\": \"linear\", \"bbox\": [0.125, 0.125, 0.77500000000000002, 0.77500000000000002]}], \"height\": 320.0, \"width\": 480.0, \"plugins\": [{\"type\": \"reset\"}, {\"enabled\": false, \"button\": true, \"type\": \"zoom\"}, {\"enabled\": false, \"button\": true, \"type\": \"boxzoom\"}], \"data\": {\"data02\": [[0.0, 0.0], [0.1, 0.09531017980432493], [0.2, 0.1823215567939546], [0.30000000000000004, 0.26236426446749106], [0.4, 0.33647223662121284], [0.5, 0.4054651081081644], [0.6000000000000001, 0.47000362924573563], [0.7000000000000001, 0.5306282510621705], [0.8, 0.5877866649021191], [0.9, 0.6418538861723947], [1.0, 0.6931471805599453], [1.1, 0.7419373447293773], [1.2000000000000002, 0.7884573603642703], [1.3, 0.8329091229351039], [1.4000000000000001, 0.8754687373539001], [1.5, 0.9162907318741551], [1.6, 0.9555114450274363], [1.7000000000000002, 0.9932517730102834], [1.8, 1.0296194171811581], [1.9000000000000001, 1.0647107369924285]], \"data01\": [[0.0, 1.0, 0.0, 0.0], [0.01, 0.9900498337491681, 0.06279051952931337, 0.062165743421020596], [0.02, 0.9801986733067553, 0.12533323356430426, 0.12285146926097672], [0.03, 0.9704455335485082, 0.1873813145857246, 0.18184335981016436], [0.04, 0.9607894391523232, 0.2486898871648548, 0.23893861721197537], [0.05, 0.951229424500714, 0.3090169943749474, 0.2939460577202216], [0.06, 0.9417645335842487, 0.3681245526846779, 0.3466866476599959], [0.07, 0.9323938199059483, 0.4257792915650727, 0.39699398009920667], [0.08, 0.9231163463866358, 0.4817536741017153, 0.4447146914951135], [0.09, 0.9139311852712282, 0.5358267949789967, 0.4897088178352378], [0.1, 0.9048374180359595, 0.5877852522924731, 0.5318500900439365], [0.11, 0.8958341352965282, 0.6374239897486896, 0.5710261686737804], [0.12, 0.8869204367171575, 0.6845471059286886, 0.6071388181437388], [0.13, 0.8780954309205613, 0.7289686274214116, 0.6401040210231744], [0.14, 0.8693582353988059, 0.7705132427757893, 0.6698520330909719], [0.15, 0.8607079764250578, 0.8090169943749473, 0.6963273801219433], [0.16, 0.8521437889662113, 0.8443279255020151, 0.7194887975672681], [0.17, 0.8436648165963837, 0.8763066800438637, 0.7393091145013921], [0.18, 0.835270211411272, 0.9048270524660196, 0.7557750834039303], [0.19, 0.8269591339433623, 0.9297764858882513, 0.7688871575310512], [0.2, 0.8187307530779818, 0.9510565162951535, 0.778659217806053], [0.21, 0.8105842459701871, 0.9685831611286311, 0.7851182513228716], [0.22, 0.8025187979624785, 0.9822872507286886, 0.788303983708655], [0.23, 0.794533602503334, 0.9921147013144779, 0.7882684677319114], [0.24, 0.7866278610665535, 0.9980267284282716, 0.7850756306707813], [0.25, 0.7788007830714049, 1.0, 0.7788007830714049], [0.26, 0.7710515858035663, 0.9980267284282716, 0.7695300916289639], [0.27, 0.7633794943368531, 0.9921147013144778, 0.7573600190136042], [0.28, 0.7557837414557255, 0.9822872507286886, 0.7423967335399866], [0.29, 0.7482635675785653, 0.9685831611286312, 0.7247554916426339], [0.3, 0.7408182206817179, 0.9510565162951536, 0.7045599961695289], [0.31, 0.7334469562242892, 0.9297764858882513, 0.6819417335436537], [0.32, 0.7261490370736909, 0.9048270524660195, 0.657039292866426], [0.33, 0.7189237334319262, 0.8763066800438635, 0.6299976700484707], [0.34, 0.7117703227626097, 0.844327925502015, 0.6009675600520539], [0.35000000000000003, 0.7046880897187134, 0.8090169943749475, 0.5701046403160569], [0.36, 0.697676326071031, 0.7705132427757893, 0.5375688484088891], [0.37, 0.6907343306373547, 0.7289686274214116, 0.5035236569175598], [0.38, 0.6838614092123558, 0.6845471059286888, 0.46813534853263294], [0.39, 0.6770568744981647, 0.6374239897486899, 0.4315722942293981], [0.4, 0.6703200460356393, 0.5877852522924732, 0.39400423737576057], [0.41000000000000003, 0.6636502501363194, 0.5358267949789967, 0.35560158651755347], [0.42, 0.6570468198150567, 0.4817536741017156, 0.3165347195027515], [0.43, 0.6505090947233165, 0.4257792915650729, 0.2769733015079306], [0.44, 0.6440364210831414, 0.36812455268467814, 0.23708561942387243], [0.45, 0.6376281516217733, 0.3090169943749475, 0.1970379349430137], [0.46, 0.631283645506926, 0.2486898871648548, 0.15699385857013562], [0.47000000000000003, 0.6250022682827008, 0.18738131458572455, 0.11711374664987216], [0.48, 0.6187833918061408, 0.12533323356430454, 0.07755412337095162], [0.49, 0.6126263941844161, 0.06279051952931358, 0.03846712956820954], [0.5, 0.6065306597126334, 1.2246467991473532e-16, 7.42785831001809e-17], [0.51, 0.6004955788122659, -0.06279051952931333, -0.03770542936867789], [0.52, 0.5945205479701944, -0.1253332335643043, -0.07451318269752656], [0.53, 0.5886049696783552, -0.18738131458572477, -0.11029357299002086], [0.54, 0.5827482523739896, -0.24868988716485502, -0.14492359712840394], [0.55, 0.5769498103804866, -0.30901699437494773, -0.178287296308974], [0.56, 0.5712090638488149, -0.36812455268467836, -0.21027608111877885], [0.5700000000000001, 0.5655254386995371, -0.4257792915650727, -0.24078902065151586], [0.58, 0.559898366565402, -0.481753674101715, -0.26973309521643124], [0.59, 0.5543272847345071, -0.5358267949789964, -0.2970234123487005], [0.6, 0.5488116360940265, -0.587785252292473, -0.32258338598257225], [0.61, 0.5433508690744998, -0.6374239897486896, -0.3463448787988856], [0.62, 0.5379444375946745, -0.6845471059286887, -0.3682483079058705], [0.63, 0.5325918010068972, -0.7289686274214113, -0.3882427141558953], [0.64, 0.5272924240430485, -0.7705132427757894, -0.4062857955405159], [0.65, 0.522045776761016, -0.8090169943749473, -0.4223439052413319], [0.66, 0.5168513344916992, -0.8443279255020153, -0.43639201504432457], [0.67, 0.5117085777865424, -0.8763066800438636, -0.4484136449500921], [0.68, 0.5066169923655895, -0.9048270524660198, -0.4584007599313564], [0.6900000000000001, 0.5015760690660555, -0.9297764858882515, -0.4663536349018799], [0.7000000000000001, 0.49658530379140947, -0.9510565162951535, -0.47228068906722837], [0.71, 0.4916441974609651, -0.968583161128631, -0.47619829092729044], [0.72, 0.4867522559599717, -0.9822872507286887, -0.47813053529290755], [0.73, 0.48190899009020244, -0.9921147013144778, -0.4781089937641028], [0.74, 0.4771139155210344, -0.9980267284282716, -0.47617244019506066], [0.75, 0.4723665527410147, -1.0, -0.4723665527410147], [0.76, 0.46766642700990924, -0.9980267284282716, -0.4667435941444388], [0.77, 0.46301306831122807, -0.9921147013144779, -0.459362071972294], [0.78, 0.4584060113052235, -0.9822872507286887, -0.4502863805625122], [0.79, 0.45384479528235583, -0.9685831611286311, -0.43958642647636065], [0.8, 0.44932896411722156, -0.9510565162951536, -0.4273372392838348], [0.81, 0.4448580662229411, -0.9297764858882512, -0.41361856953180914], [0.8200000000000001, 0.44043165450599925, -0.9048270524660196, -0.3985144757593956], [0.8300000000000001, 0.43604928632153556, -0.8763066800438634, -0.3821129024319208], [0.84, 0.43171052342907973, -0.8443279255020155, -0.36450525066426415], [0.85, 0.4274149319487267, -0.8090169943749476, -0.34578594359613163], [0.86, 0.4231620823177488, -0.7705132427757896, -0.32605198826640425], [0.87, 0.418951549247639, -0.7289686274214116, -0.3054025358111253], [0.88, 0.4147829116815814, -0.684547105928689, -0.28393844178030153], [0.89, 0.4106557527523455, -0.6374239897486896, -0.2617618283326515], [0.9, 0.4065696597405991, -0.5877852522924732, -0.23897565002509305], [0.91, 0.40252422403363597, -0.5358267949789963, -0.21568326486535064], [0.92, 0.39851904108451414, -0.4817536741017153, -0.19198801224195713], [0.93, 0.3945537103716011, -0.4257792915650722, -0.167992799286391], [0.9400000000000001, 0.3906278353585211, -0.3681245526846778, -0.14379969715753954], [0.9500000000000001, 0.3867410234545012, -0.3090169943749476, -0.11950954866940107], [0.96, 0.38289288597511206, -0.24868988716485535, -0.09522158860937645], [0.97, 0.37908303810339883, -0.18738131458572468, -0.07103307801696523], [0.98, 0.37531109885139957, -0.12533323356430467, -0.0470389536116183], [0.99, 0.3715766910220457, -0.06279051952931326, -0.02333149347425736], [1.0, 0.36787944117144233, -2.4492935982947064e-16, -9.010447602054478e-17], [1.01, 0.3642189795715233, 0.06279051952931276, 0.0228694989497321], [1.02, 0.3605949401730783, 0.12533323356430418, 0.045194529858818715], [1.03, 0.3570069605691474, 0.1873813145857242, 0.06689643358770064], [1.04, 0.35345468195878016, 0.2486898871648549, 0.08790060497421871], [1.05, 0.3499377491111553, 0.3090169943749472, 0.10813671144866356], [1.06, 0.3464558103300574, 0.36812455268467825, 0.1275388902027601], [1.07, 0.34300851741870664, 0.4257792915650726, 0.14604592354732276], [1.08, 0.3395955256449391, 0.4817536741017157, 0.16360139218795283], [1.09, 0.3362164937067333, 0.5358267949789967, 0.1801538062419549], [1.1, 0.33287108369807955, 0.5877852522924737, 0.19565671391234482], [1.11, 0.32955896107518906, 0.63742398974869, 0.21006878782598024], [1.12, 0.32627979462303947, 0.6845471059286893, 0.22335388913220877], [1.1300000000000001, 0.3230332564222529, 0.7289686274214118, 0.23548110954559864], [1.1400000000000001, 0.31981902181630384, 0.7705132427757893, 0.24642479160106115], [1.1500000000000001, 0.31663676937905316, 0.8090169943749478, 0.2561645274716351], [1.16, 0.3134861808826053, 0.8443279255020147, 0.2646851367781595], [1.17, 0.31036694126548503, 0.8763066800438631, 0.27197662389572586], [1.18, 0.30727873860113125, 0.9048270524660194, 0.278034115333938], [1.19, 0.3042212640667041, 0.9297764858882511, 0.2828577778364218], [1.2, 0.30119421191220214, 0.9510565162951534, 0.2864527179094832], [1.21, 0.2981972794298874, 0.968583161128631, 0.288828863550158], [1.22, 0.2952301669240142, 0.9822872507286886, 0.29000082899996177], [1.23, 0.2922925776808594, 0.9921147013144778, 0.28998776340228466], [1.24, 0.2893842179390506, 0.9980267284282716, 0.2888131842884846], [1.25, 0.2865047968601901, 1.0, 0.2865047968601901], [1.26, 0.2836540264997704, 0.9980267284282716, 0.28309430007307207], [1.27, 0.2808316217783798, 0.9921147013144779, 0.2786171805603177], [1.28, 0.27803730045319414, 0.9822872507286886, 0.27311249546219446], [1.29, 0.27527078308975234, 0.9685831611286311, 0.26662264525142604], [1.3, 0.2725317930340126, 0.9510565162951536, 0.2591931376625998], [1.31, 0.2698200563846868, 0.9297764858882517, 0.25087234384752405], [1.32, 0.26713530196585034, 0.9048270524660192, 0.24171124788738035], [1.33, 0.26447726129982396, 0.8763066800438635, 0.23176319079674212], [1.34, 0.261845668580326, 0.8443279255020151, 0.22108361015411482], [1.35, 0.2592402606458915, 0.8090169943749477, 0.20972977648871718], [1.36, 0.2566607769535559, 0.7705132427757886, 0.19776052754383772], [1.37, 0.25410695955280027, 0.728968627421411, 0.1852360015234328], [1.3800000000000001, 0.25157855305975646, 0.6845471059286884, 0.17221737041078325], [1.3900000000000001, 0.24907530463166816, 0.6374239897486896, 0.1587665744261882], [1.4000000000000001, 0.24659696394160643, 0.5877852522924734, 0.1449460586649751], [1.41, 0.2441432831534371, 0.5358267949789972, 0.130818512927756], [1.42, 0.24171401689703645, 0.48175367410171616, 0.1164466157220316], [1.43, 0.23930892224375455, 0.42577929156507394, 0.10189278337814718], [1.44, 0.23692775868212176, 0.368124552684678, 0.0872189251834394], [1.45, 0.23457028809379765, 0.3090169943749478, 0.07248620539641094], [1.46, 0.23223627472975883, 0.2486898871648555, 0.057754812958130106], [1.47, 0.22992548518672384, 0.18738131458572568, 0.04308373967104911], [1.48, 0.22763768838381274, 0.1253332335643039, 0.02853056756624663], [1.49, 0.22537265553943872, 0.06279051952931337, 0.014151266129022342], [1.5, 0.22313016014842982, 3.6739403974420594e-16, 8.197669092570326e-17], [1.51, 0.2209099779593782, -0.06279051952931265, -0.013871052285278363], [1.52, 0.21871188695221475, -0.12533323356430318, -0.027411868010671404], [1.53, 0.21653566731600707, -0.18738131458572496, -0.040574737996370604], [1.54, 0.21438110142697794, -0.24868988716485474, -0.05331441192415243], [1.55, 0.21224797382674304, -0.30901699437494706, -0.06558823093411256], [1.56, 0.21013607120076472, -0.36812455268467725, -0.07735624721369701], [1.57, 0.20804518235702046, -0.42577929156507327, -0.08858133035749866], [1.58, 0.20597509820488344, -0.4817536741017156, -0.09922926033366428], [1.59, 0.20392561173421342, -0.5358267949789967, -0.10926880694967485], [1.6, 0.20189651799465538, -0.5877852522924728, -0.1186717957664603], [1.61, 0.1998876140751445, -0.6374239897486905, -0.1274131604651251], [1.62, 0.19789869908361465, -0.6845471059286892, -0.13547098172474095], [1.6300000000000001, 0.19592957412690934, -0.7289686274214118, -0.14282651272255487], [1.6400000000000001, 0.19398004229089189, -0.7705132427757891, -0.14946419141933984], [1.6500000000000001, 0.19204990862075408, -0.8090169943749472, -0.15537163984234573], [1.6600000000000001, 0.1901389801015205, -0.8443279255020156, -0.16053965062618583], [1.67, 0.1882470656387468, -0.876306680043863, -0.16496216111788936], [1.68, 0.18637397603940997, -0.9048270524660189, -0.16863621539611176], [1.69, 0.18451952399298926, -0.9297764858882513, -0.17156191459597445], [1.7, 0.18268352405273466, -0.9510565162951534, -0.1737423559701157], [1.71, 0.1808657926171221, -0.968583161128631, -0.17518356115312753], [1.72, 0.17906614791149322, -0.9822872507286885, -0.17589439413055735], [1.73, 0.17728440996987782, -0.9921147013144779, -0.17588646944497877], [1.74, 0.17552040061699686, -0.9980267284282716, -0.17517405120020096], [1.75, 0.17377394345044514, -1.0, -0.17377394345044514], [1.76, 0.17204486382305054, -0.9980267284282716, -0.17170537258420662], [1.77, 0.17033298882540943, -0.992114701314478, -0.1689898623325234], [1.78, 0.1686381472685955, -0.9822872507286886, -0.16565110204844838], [1.79, 0.1669601696670407, -0.9685831611286312, -0.16171480891867487], [1.8, 0.16529888822158653, -0.9510565162951538, -0.1572085847794841], [1.81, 0.16365413680270405, -0.9297764858882517, -0.15216176821749336], [1.82, 0.16202575093388075, -0.9048270524660192, -0.14660528264109668], [1.83, 0.16041356777517274, -0.8763066800438635, -0.1405714810110529], [1.84, 0.15881742610692068, -0.8443279255020152, -0.13409398791842592], [1.85, 0.1572371663136276, -0.8090169943749477, -0.12720753969508478], [1.86, 0.1556726303679973, -0.7705132427757886, -0.11994782323628231], [1.87, 0.1541236618151314, -0.7289686274214111, -0.11235131420653809], [1.8800000000000001, 0.15259010575688386, -0.6845471059286885, -0.10445511528922737], [1.8900000000000001, 0.15107180883637084, -0.6374239897486897, -0.09629679512703086], [1.9000000000000001, 0.14956861922263504, -0.5877852522924735, -0.08791422858481343], [1.9100000000000001, 0.14808038659546244, -0.5358267949789958, -0.07934543894869729], [1.92, 0.14660696213035015, -0.48175367410171627, -0.07062844265518736], [1.93, 0.14514819848362373, -0.42577929156507405, -0.06180109712230407], [1.94, 0.14370394977770293, -0.3681245526846781, -0.05290095223093833], [1.95, 0.1422740715865136, -0.3090169943749479, -0.043965105979150605], [1.96, 0.140858420921045, -0.2486898871648556, -0.035030064805074417], [1.97, 0.13945685621505094, -0.18738131458572582, -0.026131609045568792], [1.98, 0.13806923731089282, -0.12533323356430404, -0.01730466396793145], [1.99, 0.13669542544552385, -0.0627905195293135, -0.008583176781004983]]}, \"id\": \"el212754455796816\"});\n",
       "      });\n",
       "    });\n",
       "}else{\n",
       "    // require.js not available: dynamically load d3 & mpld3\n",
       "    mpld3_load_lib(\"https://mpld3.github.io/js/d3.v3.min.js\", function(){\n",
       "         mpld3_load_lib(\"https://mpld3.github.io/js/mpld3.v0.2.js\", function(){\n",
       "                 \n",
       "                 mpld3.draw_figure(\"fig_el2127544557968162619906909\", {\"axes\": [{\"xlim\": [0.0, 2.0], \"yscale\": \"linear\", \"axesbg\": \"#FFFFFF\", \"texts\": [{\"v_baseline\": \"hanging\", \"h_anchor\": \"middle\", \"color\": \"#000000\", \"text\": \"time\", \"coordinates\": \"axes\", \"zorder\": 3, \"alpha\": 1, \"fontsize\": 10.0, \"position\": [0.5, -0.080645161290322578], \"rotation\": -0.0, \"id\": \"el212754299391696\"}, {\"v_baseline\": \"auto\", \"h_anchor\": \"middle\", \"color\": \"#000000\", \"text\": \"volts\", \"coordinates\": \"axes\", \"zorder\": 3, \"alpha\": 1, \"fontsize\": 10.0, \"position\": [-0.094842069892473138, 0.5], \"rotation\": -90.0, \"id\": \"el212754456047568\"}, {\"v_baseline\": \"auto\", \"h_anchor\": \"middle\", \"color\": \"#000000\", \"text\": \"Damped oscillation\", \"coordinates\": \"axes\", \"zorder\": 3, \"alpha\": 1, \"fontsize\": 12.0, \"position\": [0.5, 1.0224014336917562], \"rotation\": -0.0, \"id\": \"el212754456280144\"}], \"zoomable\": true, \"images\": [], \"xdomain\": [0.0, 2.0], \"ylim\": [-1.0, 1.5], \"paths\": [], \"sharey\": [], \"sharex\": [], \"axesbgalpha\": null, \"axes\": [{\"scale\": \"linear\", \"tickformat\": null, \"grid\": {\"gridOn\": false}, \"fontsize\": 10.0, \"position\": \"bottom\", \"nticks\": 5, \"tickvalues\": null}, {\"scale\": \"linear\", \"tickformat\": null, \"grid\": {\"gridOn\": false}, \"fontsize\": 10.0, \"position\": \"left\", \"nticks\": 6, \"tickvalues\": null}], \"lines\": [{\"color\": \"#0000FF\", \"yindex\": 1, \"coordinates\": \"data\", \"dasharray\": \"10,0\", \"zorder\": 2, \"alpha\": 1, \"xindex\": 0, \"linewidth\": 1.0, \"data\": \"data01\", \"id\": \"el212754456454480\"}, {\"color\": \"#007F00\", \"yindex\": 2, \"coordinates\": \"data\", \"dasharray\": \"6,6\", \"zorder\": 2, \"alpha\": 1, \"xindex\": 0, \"linewidth\": 1.0, \"data\": \"data01\", \"id\": \"el212754455798416\"}, {\"color\": \"#FF0000\", \"yindex\": 3, \"coordinates\": \"data\", \"dasharray\": \"4,4,2,4\", \"zorder\": 2, \"alpha\": 1, \"xindex\": 0, \"linewidth\": 1.0, \"data\": \"data01\", \"id\": \"el212754456455120\"}], \"markers\": [{\"edgecolor\": \"#000000\", \"facecolor\": \"#007F00\", \"edgewidth\": 0.5, \"yindex\": 2, \"coordinates\": \"data\", \"zorder\": 2, \"markerpath\": [[[0.0, 3.0], [0.7956093000000001, 3.0], [1.5587396123545605, 2.683901074764725], [2.121320343559643, 2.121320343559643], [2.683901074764725, 1.5587396123545605], [3.0, 0.7956093000000001], [3.0, 0.0], [3.0, -0.7956093000000001], [2.683901074764725, -1.5587396123545605], [2.121320343559643, -2.121320343559643], [1.5587396123545605, -2.683901074764725], [0.7956093000000001, -3.0], [0.0, -3.0], [-0.7956093000000001, -3.0], [-1.5587396123545605, -2.683901074764725], [-2.121320343559643, -2.121320343559643], [-2.683901074764725, -1.5587396123545605], [-3.0, -0.7956093000000001], [-3.0, 0.0], [-3.0, 0.7956093000000001], [-2.683901074764725, 1.5587396123545605], [-2.121320343559643, 2.121320343559643], [-1.5587396123545605, 2.683901074764725], [-0.7956093000000001, 3.0], [0.0, 3.0]], [\"M\", \"C\", \"C\", \"C\", \"C\", \"C\", \"C\", \"C\", \"C\", \"Z\"]], \"alpha\": 1, \"xindex\": 0, \"data\": \"data01\", \"id\": \"el212754455798416pts\"}, {\"edgecolor\": \"#007F00\", \"facecolor\": \"#007F00\", \"edgewidth\": 0.5, \"yindex\": 1, \"coordinates\": \"data\", \"zorder\": 2, \"markerpath\": [[[0.0, 1.5], [0.39780465000000004, 1.5], [0.7793698061772802, 1.3419505373823626], [1.0606601717798214, 1.0606601717798214], [1.3419505373823626, 0.7793698061772802], [1.5, 0.39780465000000004], [1.5, 0.0], [1.5, -0.39780465000000004], [1.3419505373823626, -0.7793698061772802], [1.0606601717798214, -1.0606601717798214], [0.7793698061772802, -1.3419505373823626], [0.39780465000000004, -1.5], [0.0, -1.5], [-0.39780465000000004, -1.5], [-0.7793698061772802, -1.3419505373823626], [-1.0606601717798214, -1.0606601717798214], [-1.3419505373823626, -0.7793698061772802], [-1.5, -0.39780465000000004], [-1.5, 0.0], [-1.5, 0.39780465000000004], [-1.3419505373823626, 0.7793698061772802], [-1.0606601717798214, 1.0606601717798214], [-0.7793698061772802, 1.3419505373823626], [-0.39780465000000004, 1.5], [0.0, 1.5]], [\"M\", \"C\", \"C\", \"C\", \"C\", \"C\", \"C\", \"C\", \"C\", \"Z\"]], \"alpha\": 1, \"xindex\": 0, \"data\": \"data02\", \"id\": \"el212754456534672pts\"}, {\"edgecolor\": \"#000000\", \"facecolor\": \"#FF0000\", \"edgewidth\": 0.5, \"yindex\": 3, \"coordinates\": \"data\", \"zorder\": 2, \"markerpath\": [[[-3.0, 3.0], [3.0, 3.0], [3.0, -3.0], [-3.0, -3.0]], [\"M\", \"L\", \"L\", \"L\", \"Z\"]], \"alpha\": 1, \"xindex\": 0, \"data\": \"data01\", \"id\": \"el212754456455120pts\"}], \"id\": \"el212754455780304\", \"ydomain\": [-1.0, 1.5], \"collections\": [], \"xscale\": \"linear\", \"bbox\": [0.125, 0.125, 0.77500000000000002, 0.77500000000000002]}], \"height\": 320.0, \"width\": 480.0, \"plugins\": [{\"type\": \"reset\"}, {\"enabled\": false, \"button\": true, \"type\": \"zoom\"}, {\"enabled\": false, \"button\": true, \"type\": \"boxzoom\"}], \"data\": {\"data02\": [[0.0, 0.0], [0.1, 0.09531017980432493], [0.2, 0.1823215567939546], [0.30000000000000004, 0.26236426446749106], [0.4, 0.33647223662121284], [0.5, 0.4054651081081644], [0.6000000000000001, 0.47000362924573563], [0.7000000000000001, 0.5306282510621705], [0.8, 0.5877866649021191], [0.9, 0.6418538861723947], [1.0, 0.6931471805599453], [1.1, 0.7419373447293773], [1.2000000000000002, 0.7884573603642703], [1.3, 0.8329091229351039], [1.4000000000000001, 0.8754687373539001], [1.5, 0.9162907318741551], [1.6, 0.9555114450274363], [1.7000000000000002, 0.9932517730102834], [1.8, 1.0296194171811581], [1.9000000000000001, 1.0647107369924285]], \"data01\": [[0.0, 1.0, 0.0, 0.0], [0.01, 0.9900498337491681, 0.06279051952931337, 0.062165743421020596], [0.02, 0.9801986733067553, 0.12533323356430426, 0.12285146926097672], [0.03, 0.9704455335485082, 0.1873813145857246, 0.18184335981016436], [0.04, 0.9607894391523232, 0.2486898871648548, 0.23893861721197537], [0.05, 0.951229424500714, 0.3090169943749474, 0.2939460577202216], [0.06, 0.9417645335842487, 0.3681245526846779, 0.3466866476599959], [0.07, 0.9323938199059483, 0.4257792915650727, 0.39699398009920667], [0.08, 0.9231163463866358, 0.4817536741017153, 0.4447146914951135], [0.09, 0.9139311852712282, 0.5358267949789967, 0.4897088178352378], [0.1, 0.9048374180359595, 0.5877852522924731, 0.5318500900439365], [0.11, 0.8958341352965282, 0.6374239897486896, 0.5710261686737804], [0.12, 0.8869204367171575, 0.6845471059286886, 0.6071388181437388], [0.13, 0.8780954309205613, 0.7289686274214116, 0.6401040210231744], [0.14, 0.8693582353988059, 0.7705132427757893, 0.6698520330909719], [0.15, 0.8607079764250578, 0.8090169943749473, 0.6963273801219433], [0.16, 0.8521437889662113, 0.8443279255020151, 0.7194887975672681], [0.17, 0.8436648165963837, 0.8763066800438637, 0.7393091145013921], [0.18, 0.835270211411272, 0.9048270524660196, 0.7557750834039303], [0.19, 0.8269591339433623, 0.9297764858882513, 0.7688871575310512], [0.2, 0.8187307530779818, 0.9510565162951535, 0.778659217806053], [0.21, 0.8105842459701871, 0.9685831611286311, 0.7851182513228716], [0.22, 0.8025187979624785, 0.9822872507286886, 0.788303983708655], [0.23, 0.794533602503334, 0.9921147013144779, 0.7882684677319114], [0.24, 0.7866278610665535, 0.9980267284282716, 0.7850756306707813], [0.25, 0.7788007830714049, 1.0, 0.7788007830714049], [0.26, 0.7710515858035663, 0.9980267284282716, 0.7695300916289639], [0.27, 0.7633794943368531, 0.9921147013144778, 0.7573600190136042], [0.28, 0.7557837414557255, 0.9822872507286886, 0.7423967335399866], [0.29, 0.7482635675785653, 0.9685831611286312, 0.7247554916426339], [0.3, 0.7408182206817179, 0.9510565162951536, 0.7045599961695289], [0.31, 0.7334469562242892, 0.9297764858882513, 0.6819417335436537], [0.32, 0.7261490370736909, 0.9048270524660195, 0.657039292866426], [0.33, 0.7189237334319262, 0.8763066800438635, 0.6299976700484707], [0.34, 0.7117703227626097, 0.844327925502015, 0.6009675600520539], [0.35000000000000003, 0.7046880897187134, 0.8090169943749475, 0.5701046403160569], [0.36, 0.697676326071031, 0.7705132427757893, 0.5375688484088891], [0.37, 0.6907343306373547, 0.7289686274214116, 0.5035236569175598], [0.38, 0.6838614092123558, 0.6845471059286888, 0.46813534853263294], [0.39, 0.6770568744981647, 0.6374239897486899, 0.4315722942293981], [0.4, 0.6703200460356393, 0.5877852522924732, 0.39400423737576057], [0.41000000000000003, 0.6636502501363194, 0.5358267949789967, 0.35560158651755347], [0.42, 0.6570468198150567, 0.4817536741017156, 0.3165347195027515], [0.43, 0.6505090947233165, 0.4257792915650729, 0.2769733015079306], [0.44, 0.6440364210831414, 0.36812455268467814, 0.23708561942387243], [0.45, 0.6376281516217733, 0.3090169943749475, 0.1970379349430137], [0.46, 0.631283645506926, 0.2486898871648548, 0.15699385857013562], [0.47000000000000003, 0.6250022682827008, 0.18738131458572455, 0.11711374664987216], [0.48, 0.6187833918061408, 0.12533323356430454, 0.07755412337095162], [0.49, 0.6126263941844161, 0.06279051952931358, 0.03846712956820954], [0.5, 0.6065306597126334, 1.2246467991473532e-16, 7.42785831001809e-17], [0.51, 0.6004955788122659, -0.06279051952931333, -0.03770542936867789], [0.52, 0.5945205479701944, -0.1253332335643043, -0.07451318269752656], [0.53, 0.5886049696783552, -0.18738131458572477, -0.11029357299002086], [0.54, 0.5827482523739896, -0.24868988716485502, -0.14492359712840394], [0.55, 0.5769498103804866, -0.30901699437494773, -0.178287296308974], [0.56, 0.5712090638488149, -0.36812455268467836, -0.21027608111877885], [0.5700000000000001, 0.5655254386995371, -0.4257792915650727, -0.24078902065151586], [0.58, 0.559898366565402, -0.481753674101715, -0.26973309521643124], [0.59, 0.5543272847345071, -0.5358267949789964, -0.2970234123487005], [0.6, 0.5488116360940265, -0.587785252292473, -0.32258338598257225], [0.61, 0.5433508690744998, -0.6374239897486896, -0.3463448787988856], [0.62, 0.5379444375946745, -0.6845471059286887, -0.3682483079058705], [0.63, 0.5325918010068972, -0.7289686274214113, -0.3882427141558953], [0.64, 0.5272924240430485, -0.7705132427757894, -0.4062857955405159], [0.65, 0.522045776761016, -0.8090169943749473, -0.4223439052413319], [0.66, 0.5168513344916992, -0.8443279255020153, -0.43639201504432457], [0.67, 0.5117085777865424, -0.8763066800438636, -0.4484136449500921], [0.68, 0.5066169923655895, -0.9048270524660198, -0.4584007599313564], [0.6900000000000001, 0.5015760690660555, -0.9297764858882515, -0.4663536349018799], [0.7000000000000001, 0.49658530379140947, -0.9510565162951535, -0.47228068906722837], [0.71, 0.4916441974609651, -0.968583161128631, -0.47619829092729044], [0.72, 0.4867522559599717, -0.9822872507286887, -0.47813053529290755], [0.73, 0.48190899009020244, -0.9921147013144778, -0.4781089937641028], [0.74, 0.4771139155210344, -0.9980267284282716, -0.47617244019506066], [0.75, 0.4723665527410147, -1.0, -0.4723665527410147], [0.76, 0.46766642700990924, -0.9980267284282716, -0.4667435941444388], [0.77, 0.46301306831122807, -0.9921147013144779, -0.459362071972294], [0.78, 0.4584060113052235, -0.9822872507286887, -0.4502863805625122], [0.79, 0.45384479528235583, -0.9685831611286311, -0.43958642647636065], [0.8, 0.44932896411722156, -0.9510565162951536, -0.4273372392838348], [0.81, 0.4448580662229411, -0.9297764858882512, -0.41361856953180914], [0.8200000000000001, 0.44043165450599925, -0.9048270524660196, -0.3985144757593956], [0.8300000000000001, 0.43604928632153556, -0.8763066800438634, -0.3821129024319208], [0.84, 0.43171052342907973, -0.8443279255020155, -0.36450525066426415], [0.85, 0.4274149319487267, -0.8090169943749476, -0.34578594359613163], [0.86, 0.4231620823177488, -0.7705132427757896, -0.32605198826640425], [0.87, 0.418951549247639, -0.7289686274214116, -0.3054025358111253], [0.88, 0.4147829116815814, -0.684547105928689, -0.28393844178030153], [0.89, 0.4106557527523455, -0.6374239897486896, -0.2617618283326515], [0.9, 0.4065696597405991, -0.5877852522924732, -0.23897565002509305], [0.91, 0.40252422403363597, -0.5358267949789963, -0.21568326486535064], [0.92, 0.39851904108451414, -0.4817536741017153, -0.19198801224195713], [0.93, 0.3945537103716011, -0.4257792915650722, -0.167992799286391], [0.9400000000000001, 0.3906278353585211, -0.3681245526846778, -0.14379969715753954], [0.9500000000000001, 0.3867410234545012, -0.3090169943749476, -0.11950954866940107], [0.96, 0.38289288597511206, -0.24868988716485535, -0.09522158860937645], [0.97, 0.37908303810339883, -0.18738131458572468, -0.07103307801696523], [0.98, 0.37531109885139957, -0.12533323356430467, -0.0470389536116183], [0.99, 0.3715766910220457, -0.06279051952931326, -0.02333149347425736], [1.0, 0.36787944117144233, -2.4492935982947064e-16, -9.010447602054478e-17], [1.01, 0.3642189795715233, 0.06279051952931276, 0.0228694989497321], [1.02, 0.3605949401730783, 0.12533323356430418, 0.045194529858818715], [1.03, 0.3570069605691474, 0.1873813145857242, 0.06689643358770064], [1.04, 0.35345468195878016, 0.2486898871648549, 0.08790060497421871], [1.05, 0.3499377491111553, 0.3090169943749472, 0.10813671144866356], [1.06, 0.3464558103300574, 0.36812455268467825, 0.1275388902027601], [1.07, 0.34300851741870664, 0.4257792915650726, 0.14604592354732276], [1.08, 0.3395955256449391, 0.4817536741017157, 0.16360139218795283], [1.09, 0.3362164937067333, 0.5358267949789967, 0.1801538062419549], [1.1, 0.33287108369807955, 0.5877852522924737, 0.19565671391234482], [1.11, 0.32955896107518906, 0.63742398974869, 0.21006878782598024], [1.12, 0.32627979462303947, 0.6845471059286893, 0.22335388913220877], [1.1300000000000001, 0.3230332564222529, 0.7289686274214118, 0.23548110954559864], [1.1400000000000001, 0.31981902181630384, 0.7705132427757893, 0.24642479160106115], [1.1500000000000001, 0.31663676937905316, 0.8090169943749478, 0.2561645274716351], [1.16, 0.3134861808826053, 0.8443279255020147, 0.2646851367781595], [1.17, 0.31036694126548503, 0.8763066800438631, 0.27197662389572586], [1.18, 0.30727873860113125, 0.9048270524660194, 0.278034115333938], [1.19, 0.3042212640667041, 0.9297764858882511, 0.2828577778364218], [1.2, 0.30119421191220214, 0.9510565162951534, 0.2864527179094832], [1.21, 0.2981972794298874, 0.968583161128631, 0.288828863550158], [1.22, 0.2952301669240142, 0.9822872507286886, 0.29000082899996177], [1.23, 0.2922925776808594, 0.9921147013144778, 0.28998776340228466], [1.24, 0.2893842179390506, 0.9980267284282716, 0.2888131842884846], [1.25, 0.2865047968601901, 1.0, 0.2865047968601901], [1.26, 0.2836540264997704, 0.9980267284282716, 0.28309430007307207], [1.27, 0.2808316217783798, 0.9921147013144779, 0.2786171805603177], [1.28, 0.27803730045319414, 0.9822872507286886, 0.27311249546219446], [1.29, 0.27527078308975234, 0.9685831611286311, 0.26662264525142604], [1.3, 0.2725317930340126, 0.9510565162951536, 0.2591931376625998], [1.31, 0.2698200563846868, 0.9297764858882517, 0.25087234384752405], [1.32, 0.26713530196585034, 0.9048270524660192, 0.24171124788738035], [1.33, 0.26447726129982396, 0.8763066800438635, 0.23176319079674212], [1.34, 0.261845668580326, 0.8443279255020151, 0.22108361015411482], [1.35, 0.2592402606458915, 0.8090169943749477, 0.20972977648871718], [1.36, 0.2566607769535559, 0.7705132427757886, 0.19776052754383772], [1.37, 0.25410695955280027, 0.728968627421411, 0.1852360015234328], [1.3800000000000001, 0.25157855305975646, 0.6845471059286884, 0.17221737041078325], [1.3900000000000001, 0.24907530463166816, 0.6374239897486896, 0.1587665744261882], [1.4000000000000001, 0.24659696394160643, 0.5877852522924734, 0.1449460586649751], [1.41, 0.2441432831534371, 0.5358267949789972, 0.130818512927756], [1.42, 0.24171401689703645, 0.48175367410171616, 0.1164466157220316], [1.43, 0.23930892224375455, 0.42577929156507394, 0.10189278337814718], [1.44, 0.23692775868212176, 0.368124552684678, 0.0872189251834394], [1.45, 0.23457028809379765, 0.3090169943749478, 0.07248620539641094], [1.46, 0.23223627472975883, 0.2486898871648555, 0.057754812958130106], [1.47, 0.22992548518672384, 0.18738131458572568, 0.04308373967104911], [1.48, 0.22763768838381274, 0.1253332335643039, 0.02853056756624663], [1.49, 0.22537265553943872, 0.06279051952931337, 0.014151266129022342], [1.5, 0.22313016014842982, 3.6739403974420594e-16, 8.197669092570326e-17], [1.51, 0.2209099779593782, -0.06279051952931265, -0.013871052285278363], [1.52, 0.21871188695221475, -0.12533323356430318, -0.027411868010671404], [1.53, 0.21653566731600707, -0.18738131458572496, -0.040574737996370604], [1.54, 0.21438110142697794, -0.24868988716485474, -0.05331441192415243], [1.55, 0.21224797382674304, -0.30901699437494706, -0.06558823093411256], [1.56, 0.21013607120076472, -0.36812455268467725, -0.07735624721369701], [1.57, 0.20804518235702046, -0.42577929156507327, -0.08858133035749866], [1.58, 0.20597509820488344, -0.4817536741017156, -0.09922926033366428], [1.59, 0.20392561173421342, -0.5358267949789967, -0.10926880694967485], [1.6, 0.20189651799465538, -0.5877852522924728, -0.1186717957664603], [1.61, 0.1998876140751445, -0.6374239897486905, -0.1274131604651251], [1.62, 0.19789869908361465, -0.6845471059286892, -0.13547098172474095], [1.6300000000000001, 0.19592957412690934, -0.7289686274214118, -0.14282651272255487], [1.6400000000000001, 0.19398004229089189, -0.7705132427757891, -0.14946419141933984], [1.6500000000000001, 0.19204990862075408, -0.8090169943749472, -0.15537163984234573], [1.6600000000000001, 0.1901389801015205, -0.8443279255020156, -0.16053965062618583], [1.67, 0.1882470656387468, -0.876306680043863, -0.16496216111788936], [1.68, 0.18637397603940997, -0.9048270524660189, -0.16863621539611176], [1.69, 0.18451952399298926, -0.9297764858882513, -0.17156191459597445], [1.7, 0.18268352405273466, -0.9510565162951534, -0.1737423559701157], [1.71, 0.1808657926171221, -0.968583161128631, -0.17518356115312753], [1.72, 0.17906614791149322, -0.9822872507286885, -0.17589439413055735], [1.73, 0.17728440996987782, -0.9921147013144779, -0.17588646944497877], [1.74, 0.17552040061699686, -0.9980267284282716, -0.17517405120020096], [1.75, 0.17377394345044514, -1.0, -0.17377394345044514], [1.76, 0.17204486382305054, -0.9980267284282716, -0.17170537258420662], [1.77, 0.17033298882540943, -0.992114701314478, -0.1689898623325234], [1.78, 0.1686381472685955, -0.9822872507286886, -0.16565110204844838], [1.79, 0.1669601696670407, -0.9685831611286312, -0.16171480891867487], [1.8, 0.16529888822158653, -0.9510565162951538, -0.1572085847794841], [1.81, 0.16365413680270405, -0.9297764858882517, -0.15216176821749336], [1.82, 0.16202575093388075, -0.9048270524660192, -0.14660528264109668], [1.83, 0.16041356777517274, -0.8763066800438635, -0.1405714810110529], [1.84, 0.15881742610692068, -0.8443279255020152, -0.13409398791842592], [1.85, 0.1572371663136276, -0.8090169943749477, -0.12720753969508478], [1.86, 0.1556726303679973, -0.7705132427757886, -0.11994782323628231], [1.87, 0.1541236618151314, -0.7289686274214111, -0.11235131420653809], [1.8800000000000001, 0.15259010575688386, -0.6845471059286885, -0.10445511528922737], [1.8900000000000001, 0.15107180883637084, -0.6374239897486897, -0.09629679512703086], [1.9000000000000001, 0.14956861922263504, -0.5877852522924735, -0.08791422858481343], [1.9100000000000001, 0.14808038659546244, -0.5358267949789958, -0.07934543894869729], [1.92, 0.14660696213035015, -0.48175367410171627, -0.07062844265518736], [1.93, 0.14514819848362373, -0.42577929156507405, -0.06180109712230407], [1.94, 0.14370394977770293, -0.3681245526846781, -0.05290095223093833], [1.95, 0.1422740715865136, -0.3090169943749479, -0.043965105979150605], [1.96, 0.140858420921045, -0.2486898871648556, -0.035030064805074417], [1.97, 0.13945685621505094, -0.18738131458572582, -0.026131609045568792], [1.98, 0.13806923731089282, -0.12533323356430404, -0.01730466396793145], [1.99, 0.13669542544552385, -0.0627905195293135, -0.008583176781004983]]}, \"id\": \"el212754455796816\"});\n",
       "            })\n",
       "         });\n",
       "}\n",
       "</script>"
      ],
      "text/plain": [
       "<IPython.core.display.HTML object>"
      ]
     },
     "execution_count": 26,
     "metadata": {},
     "output_type": "execute_result"
    }
   ],
   "source": [
    "import mpld3\n",
    "mpld3.display(fig1)"
   ]
  },
  {
   "cell_type": "markdown",
   "metadata": {},
   "source": [
    "We can make [interactive plots](https://plot.ly/pandas/) from the same dataframe we made with pandas above."
   ]
  },
  {
   "cell_type": "code",
   "execution_count": 27,
   "metadata": {
    "collapsed": false
   },
   "outputs": [],
   "source": [
    "volts_histogram_plot = [{'x': df['volts_1'], \n",
    "                 'type': 'histogram'\n",
    "}]"
   ]
  },
  {
   "cell_type": "code",
   "execution_count": 28,
   "metadata": {
    "collapsed": true
   },
   "outputs": [],
   "source": [
    "data_histogram = Data(volts_histogram_plot)\n",
    "\n",
    "fig_histogram = Figure(data=data_histogram)"
   ]
  },
  {
   "cell_type": "code",
   "execution_count": 29,
   "metadata": {
    "collapsed": false
   },
   "outputs": [
    {
     "data": {
      "text/html": [
       "<iframe id=\"igraph\" scrolling=\"no\" style=\"border:none;\"seamless=\"seamless\" src=\"https://plot.ly/~chelsea_lyn/8989.embed\" height=\"525px\" width=\"100%\"></iframe>"
      ],
      "text/plain": [
       "<plotly.tools.PlotlyDisplay object>"
      ]
     },
     "execution_count": 29,
     "metadata": {},
     "output_type": "execute_result"
    }
   ],
   "source": [
    "py.iplot(fig_histogram, filename='pandas/volts_histogram')"
   ]
  },
  {
   "cell_type": "code",
   "execution_count": 30,
   "metadata": {
    "collapsed": false
   },
   "outputs": [],
   "source": [
    "volts_jitter_plot = [{'y': df['volts_1'], \n",
    "                 'name': 'volts',\n",
    "                 'type': 'box',\n",
    "}]"
   ]
  },
  {
   "cell_type": "code",
   "execution_count": 31,
   "metadata": {
    "collapsed": false
   },
   "outputs": [],
   "source": [
    "data_jitter = Data(volts_jitter_plot)\n",
    "\n",
    "fig_jitter = Figure(data=data_jitter)"
   ]
  },
  {
   "cell_type": "code",
   "execution_count": 32,
   "metadata": {
    "collapsed": false
   },
   "outputs": [
    {
     "data": {
      "text/html": [
       "<iframe id=\"igraph\" scrolling=\"no\" style=\"border:none;\"seamless=\"seamless\" src=\"https://plot.ly/~chelsea_lyn/8991.embed\" height=\"525px\" width=\"100%\"></iframe>"
      ],
      "text/plain": [
       "<plotly.tools.PlotlyDisplay object>"
      ]
     },
     "execution_count": 32,
     "metadata": {},
     "output_type": "execute_result"
    }
   ],
   "source": [
    "py.iplot(fig_jitter, filename='pandas/volts_boxplot')"
   ]
  },
  {
   "cell_type": "markdown",
   "metadata": {},
   "source": [
    "For plotting directly from a dataframe, you can use [cufflinks](https://plot.ly/ipython-notebooks/cufflinks/), a pandas plotting library. Click the legend items to toggle traces on and off."
   ]
  },
  {
   "cell_type": "code",
   "execution_count": 33,
   "metadata": {
    "collapsed": true
   },
   "outputs": [],
   "source": [
    "import cufflinks as cf"
   ]
  },
  {
   "cell_type": "code",
   "execution_count": 34,
   "metadata": {
    "collapsed": false
   },
   "outputs": [
    {
     "data": {
      "text/html": [
       "<iframe id=\"igraph\" scrolling=\"no\" style=\"border:none;\"seamless=\"seamless\" src=\"https://plot.ly/~chelsea_lyn/8994.embed\" height=\"525px\" width=\"100%\"></iframe>"
      ],
      "text/plain": [
       "<plotly.tools.PlotlyDisplay object>"
      ]
     },
     "execution_count": 34,
     "metadata": {},
     "output_type": "execute_result"
    }
   ],
   "source": [
    "import pandas.io.data as web\n",
    "from datetime import datetime\n",
    "\n",
    "start = datetime(2008, 1, 1)\n",
    "end = datetime(2008, 11, 28)\n",
    "df_gis = web.DataReader(\"GIS\", 'yahoo', start, end)\n",
    "df_fdo = web.DataReader(\"FDO\", 'yahoo', start, end)\n",
    "df_sp = web.DataReader(\"GSPC\", 'yahoo', start, end)\n",
    "\n",
    "df = pd.DataFrame({'General Mills': df_gis.Open, 'Family Dollar Stores': df_fdo.Open, 'S&P 500': df_sp.Open})\n",
    "df.head()\n",
    "\n",
    "df.iplot(kind='line', fill=True,\n",
    "         yTitle='Open Price', title='Top Recession Stocks',\n",
    "         filename='cufflinks/stock data', world_readable=True)"
   ]
  },
  {
   "cell_type": "markdown",
   "metadata": {},
   "source": [
    "### Interactive maps"
   ]
  },
  {
   "cell_type": "markdown",
   "metadata": {},
   "source": [
    "Let's make a map. We'll read in the data from another Plotly graph showing the number of electoral votes per state in the U.S. As before, if we add .csv to the end of the plot URL, we can use pandas to make a dataframe."
   ]
  },
  {
   "cell_type": "code",
   "execution_count": 35,
   "metadata": {
    "collapsed": true
   },
   "outputs": [],
   "source": [
    "# Learn about API authentication here: https://plot.ly/python/getting-started\n",
    "# Find your api_key here: https://plot.ly/settings/api\n",
    "\n",
    "import plotly.plotly as py\n",
    "\n",
    "df = pd.read_csv('https://plot.ly/~Dreamshot/5718/electoral-college-votes-by-us-state/.csv')\n",
    "\n",
    "for col in df.columns:\n",
    "    df[col] = df[col].astype(str)"
   ]
  },
  {
   "cell_type": "code",
   "execution_count": 36,
   "metadata": {
    "collapsed": false
   },
   "outputs": [
    {
     "data": {
      "text/html": [
       "<div>\n",
       "<table border=\"1\" class=\"dataframe\">\n",
       "  <thead>\n",
       "    <tr style=\"text-align: right;\">\n",
       "      <th></th>\n",
       "      <th>y</th>\n",
       "      <th>Source: &lt;a href=\"https://en.wikipedia.org/wiki/Electoral_College_%28United_States%29\"&gt;Wikipedia&lt;/a&gt;</th>\n",
       "    </tr>\n",
       "  </thead>\n",
       "  <tbody>\n",
       "    <tr>\n",
       "      <th>0</th>\n",
       "      <td>DE</td>\n",
       "      <td>3</td>\n",
       "    </tr>\n",
       "    <tr>\n",
       "      <th>1</th>\n",
       "      <td>VT</td>\n",
       "      <td>3</td>\n",
       "    </tr>\n",
       "    <tr>\n",
       "      <th>2</th>\n",
       "      <td>ND</td>\n",
       "      <td>3</td>\n",
       "    </tr>\n",
       "    <tr>\n",
       "      <th>3</th>\n",
       "      <td>SD</td>\n",
       "      <td>3</td>\n",
       "    </tr>\n",
       "    <tr>\n",
       "      <th>4</th>\n",
       "      <td>MT</td>\n",
       "      <td>3</td>\n",
       "    </tr>\n",
       "  </tbody>\n",
       "</table>\n",
       "</div>"
      ],
      "text/plain": [
       "    y  \\\n",
       "0  DE   \n",
       "1  VT   \n",
       "2  ND   \n",
       "3  SD   \n",
       "4  MT   \n",
       "\n",
       "  Source: <a href=\"https://en.wikipedia.org/wiki/Electoral_College_%28United_States%29\">Wikipedia</a>  \n",
       "0                                                  3                                                   \n",
       "1                                                  3                                                   \n",
       "2                                                  3                                                   \n",
       "3                                                  3                                                   \n",
       "4                                                  3                                                   "
      ]
     },
     "execution_count": 36,
     "metadata": {},
     "output_type": "execute_result"
    }
   ],
   "source": [
    "df.head()"
   ]
  },
  {
   "cell_type": "code",
   "execution_count": 37,
   "metadata": {
    "collapsed": false
   },
   "outputs": [],
   "source": [
    "df.columns = [\"state\", \"votes\"]  # change column names"
   ]
  },
  {
   "cell_type": "code",
   "execution_count": 38,
   "metadata": {
    "collapsed": false
   },
   "outputs": [
    {
     "data": {
      "text/html": [
       "<div>\n",
       "<table border=\"1\" class=\"dataframe\">\n",
       "  <thead>\n",
       "    <tr style=\"text-align: right;\">\n",
       "      <th></th>\n",
       "      <th>state</th>\n",
       "      <th>votes</th>\n",
       "    </tr>\n",
       "  </thead>\n",
       "  <tbody>\n",
       "    <tr>\n",
       "      <th>0</th>\n",
       "      <td>DE</td>\n",
       "      <td>3</td>\n",
       "    </tr>\n",
       "  </tbody>\n",
       "</table>\n",
       "</div>"
      ],
      "text/plain": [
       "  state votes\n",
       "0    DE     3"
      ]
     },
     "execution_count": 38,
     "metadata": {},
     "output_type": "execute_result"
    }
   ],
   "source": [
    "df.head(1)"
   ]
  },
  {
   "cell_type": "markdown",
   "metadata": {},
   "source": [
    "Now we can make an interactive D3.js graph directly from pandas. See the [pandas maps](https://plot.ly/pandas/#maps) documentation to learn more."
   ]
  },
  {
   "cell_type": "code",
   "execution_count": 39,
   "metadata": {
    "collapsed": false
   },
   "outputs": [
    {
     "data": {
      "text/html": [
       "<iframe id=\"igraph\" scrolling=\"no\" style=\"border:none;\"seamless=\"seamless\" src=\"https://plot.ly/~chelsea_lyn/8996.embed\" height=\"525px\" width=\"100%\"></iframe>"
      ],
      "text/plain": [
       "<plotly.tools.PlotlyDisplay object>"
      ]
     },
     "execution_count": 39,
     "metadata": {},
     "output_type": "execute_result"
    }
   ],
   "source": [
    "scl = [[0.0, 'rgb(242,240,247)'],[0.2, 'rgb(218,218,235)'],[0.4, 'rgb(188,189,220)'],\\\n",
    "            [0.6, 'rgb(158,154,200)'],[0.8, 'rgb(117,107,177)'],[1.0, 'rgb(84,39,143)']]\n",
    "\n",
    "df['text'] = df['state'] \n",
    "    \n",
    "data = [dict(\n",
    "    type='choropleth',\n",
    "    colorscale = scl,\n",
    "    autocolorscale = False,\n",
    "    locations = df['state'],\n",
    "    z = df['votes'].astype(float),\n",
    "    locationmode = 'USA-states',\n",
    "    text = df['text'],\n",
    "    hoverinfo = 'location+z',\n",
    "    marker = dict(\n",
    "        line = dict (\n",
    "            color = 'rgb(255,255,255)',\n",
    "            width = 2\n",
    "        )\n",
    "    ),\n",
    "    colorbar = dict(\n",
    "        title = \"Votes\"\n",
    "    )\n",
    ")]\n",
    "\n",
    "layout = dict(\n",
    "    title = '2016 Electoral College Votes<br>(Hover for breakdown)',\n",
    "    geo = dict(\n",
    "        scope='usa',\n",
    "        projection=dict( type='albers usa' ),\n",
    "        showlakes = True,\n",
    "        lakecolor = 'rgb(255, 255, 255)'\n",
    "    )\n",
    ")\n",
    "    \n",
    "fig = dict(data=data, layout=layout)\n",
    "\n",
    "py.iplot(fig, validate=False, filename='d3-electoral-map')"
   ]
  },
  {
   "cell_type": "markdown",
   "metadata": {},
   "source": [
    "### 3D Plotting"
   ]
  },
  {
   "cell_type": "markdown",
   "metadata": {},
   "source": [
    "Using Numpy and Plotly, we can make interactive [3D plots](https://plot.ly/python/#3d) in the Notebook as well."
   ]
  },
  {
   "cell_type": "code",
   "execution_count": 40,
   "metadata": {
    "collapsed": false
   },
   "outputs": [
    {
     "data": {
      "text/html": [
       "<iframe id=\"igraph\" scrolling=\"no\" style=\"border:none;\"seamless=\"seamless\" src=\"https://plot.ly/~chelsea_lyn/8998.embed\" height=\"525px\" width=\"100%\"></iframe>"
      ],
      "text/plain": [
       "<plotly.tools.PlotlyDisplay object>"
      ]
     },
     "execution_count": 40,
     "metadata": {},
     "output_type": "execute_result"
    }
   ],
   "source": [
    "import plotly.plotly as py\n",
    "from plotly.graph_objs import *\n",
    "\n",
    "import numpy as np\n",
    "\n",
    "s = np.linspace(0, 2 * np.pi, 240)\n",
    "t = np.linspace(0, np.pi, 240)\n",
    "tGrid, sGrid = np.meshgrid(s, t)\n",
    "\n",
    "r = 2 + np.sin(7 * sGrid + 5 * tGrid)  # r = 2 + sin(7s+5t)\n",
    "x = r * np.cos(sGrid) * np.sin(tGrid)  # x = r*cos(s)*sin(t)\n",
    "y = r * np.sin(sGrid) * np.sin(tGrid)  # y = r*sin(s)*sin(t)\n",
    "z = r * np.cos(tGrid)                  # z = r*cos(t)\n",
    "\n",
    "surface = Surface(x=x, y=y, z=z)\n",
    "data = Data([surface])\n",
    "\n",
    "layout = Layout(\n",
    "    title='Parametric Plot',\n",
    "    scene=Scene(\n",
    "        xaxis=XAxis(\n",
    "            gridcolor='rgb(255, 255, 255)',\n",
    "            zerolinecolor='rgb(255, 255, 255)',\n",
    "            showbackground=True,\n",
    "            backgroundcolor='rgb(230, 230,230)'\n",
    "        ),\n",
    "        yaxis=YAxis(\n",
    "            gridcolor='rgb(255, 255, 255)',\n",
    "            zerolinecolor='rgb(255, 255, 255)',\n",
    "            showbackground=True,\n",
    "            backgroundcolor='rgb(230, 230,230)'\n",
    "        ),\n",
    "        zaxis=ZAxis(\n",
    "            gridcolor='rgb(255, 255, 255)',\n",
    "            zerolinecolor='rgb(255, 255, 255)',\n",
    "            showbackground=True,\n",
    "            backgroundcolor='rgb(230, 230,230)'\n",
    "        )\n",
    "    )\n",
    ")\n",
    "\n",
    "fig = Figure(data=data, layout=layout)\n",
    "py.iplot(fig, filename='Parametric_plot')"
   ]
  },
  {
   "cell_type": "markdown",
   "metadata": {},
   "source": [
    "### 3D GIF"
   ]
  },
  {
   "cell_type": "markdown",
   "metadata": {},
   "source": [
    "Note the possible interactions. \n",
    "\n",
    "<img src=\"http://i.imgur.com/K5gTf6v.gif\" />"
   ]
  },
  {
   "cell_type": "markdown",
   "metadata": {},
   "source": [
    "### ggplot for Python\n",
    "        "
   ]
  },
  {
   "cell_type": "markdown",
   "metadata": {},
   "source": [
    "[```ggplot for Python```](https://github.com/yhat/ggplot) ports over ggplot2 syntax from R for Python users. The library has a tight integration with dataframes. We can similarly turn ggplot figures into Plotly graphs."
   ]
  },
  {
   "cell_type": "code",
   "execution_count": 43,
   "metadata": {
    "collapsed": false
   },
   "outputs": [],
   "source": [
    "from ggplot import *"
   ]
  },
  {
   "cell_type": "code",
   "execution_count": 44,
   "metadata": {
    "collapsed": true
   },
   "outputs": [],
   "source": [
    "plot = ggplot(aes(x='date', y='beef'), data=meat) + \\\n",
    "    geom_line() "
   ]
  },
  {
   "cell_type": "code",
   "execution_count": 45,
   "metadata": {
    "collapsed": false
   },
   "outputs": [
    {
     "data": {
      "text/html": [
       "<iframe id=\"igraph\" scrolling=\"no\" style=\"border:none;\"seamless=\"seamless\" src=\"https://plot.ly/~chelsea_lyn/9000.embed\" height=\"525px\" width=\"100%\"></iframe>"
      ],
      "text/plain": [
       "<plotly.tools.PlotlyDisplay object>"
      ]
     },
     "execution_count": 45,
     "metadata": {},
     "output_type": "execute_result"
    }
   ],
   "source": [
    "fig = plot.draw() \n",
    "py.iplot_mpl(fig, filename='ipython/ggplot_plot')"
   ]
  },
  {
   "cell_type": "markdown",
   "metadata": {},
   "source": [
    "### Seaborn"
   ]
  },
  {
   "cell_type": "markdown",
   "metadata": {},
   "source": [
    "[```Seaborn```](http://stanford.edu/~mwaskom/software/seaborn/index.html) is focused on statistical plotting and plot types. Here we show how you can [combine plot types](http://stanford.edu/~mwaskom/software/seaborn/tutorial/distributions.html#basic-visualization-with-histograms)"
   ]
  },
  {
   "cell_type": "code",
   "execution_count": 46,
   "metadata": {
    "collapsed": false
   },
   "outputs": [],
   "source": [
    "from numpy.random import randn\n",
    "from scipy import stats\n",
    "import matplotlib as mpl\n",
    "import seaborn as sns"
   ]
  },
  {
   "cell_type": "code",
   "execution_count": 47,
   "metadata": {
    "collapsed": false
   },
   "outputs": [
    {
     "data": {
      "text/html": [
       "<iframe id=\"igraph\" scrolling=\"no\" style=\"border:none;\"seamless=\"seamless\" src=\"https://plot.ly/~chelsea_lyn/9016.embed\" height=\"525px\" width=\"100%\"></iframe>"
      ],
      "text/plain": [
       "<plotly.tools.PlotlyDisplay object>"
      ]
     },
     "execution_count": 47,
     "metadata": {},
     "output_type": "execute_result"
    }
   ],
   "source": [
    "fig16 = plt.figure()\n",
    "\n",
    "sns.set_palette(\"hls\")\n",
    "mpl.rc(\"figure\", figsize=(8, 4))\n",
    "data = randn(200)\n",
    "sns.distplot(data);\n",
    "\n",
    "py.iplot_mpl(fig16, strip_style = True)"
   ]
  },
  {
   "cell_type": "markdown",
   "metadata": {},
   "source": [
    "### Rmagic"
   ]
  },
  {
   "cell_type": "markdown",
   "metadata": {},
   "source": [
    "```Rmagic``` lets us run R in our Notebook and [embed ggplot2 plots](http://stackoverflow.com/questions/17414349/plot-size-using-ggplot2-in-ipython-notebook-via-rmagic). You can execute code in R, and pull some of the results back into the Python namespace. The return value is determined when [```rpy2```](http://rpy.sourceforge.net/) returns the result of evaluating the final line. Multiple R lines can be executed by joining them with semicolons."
   ]
  },
  {
   "cell_type": "code",
   "execution_count": 48,
   "metadata": {
    "collapsed": true
   },
   "outputs": [],
   "source": [
    "%load_ext rpy2.ipython"
   ]
  },
  {
   "cell_type": "code",
   "execution_count": 49,
   "metadata": {
    "collapsed": false
   },
   "outputs": [
    {
     "data": {
      "text/plain": [
       "array([ 4.25])"
      ]
     },
     "execution_count": 49,
     "metadata": {},
     "output_type": "execute_result"
    }
   ],
   "source": [
    "%R X=c(1,4,5,7); sd(X); mean(X)"
   ]
  },
  {
   "cell_type": "code",
   "execution_count": 50,
   "metadata": {
    "collapsed": false
   },
   "outputs": [
    {
     "data": {
      "image/png": "[encoded data removed]"
     },
     "metadata": {},
     "output_type": "display_data"
    }
   ],
   "source": [
    "%%R \n",
    "library(ggplot2)\n",
    "dsamp <- diamonds[sample(nrow(diamonds), 1000), ]\n",
    "qplot(carat, price, data=dsamp, colour=clarity)"
   ]
  },
  {
   "cell_type": "markdown",
   "metadata": {},
   "source": [
    "## IV. Embedding "
   ]
  },
  {
   "cell_type": "markdown",
   "metadata": {},
   "source": [
    "The Notebook allows us to [embed iframes](http://ipython.org/ipython-doc/2/api/generated/IPython.lib.display.html). For example, from YouTube."
   ]
  },
  {
   "cell_type": "code",
   "execution_count": 51,
   "metadata": {
    "collapsed": true
   },
   "outputs": [],
   "source": [
    "from IPython.display import YouTubeVideo"
   ]
  },
  {
   "cell_type": "code",
   "execution_count": 52,
   "metadata": {
    "collapsed": false
   },
   "outputs": [
    {
     "data": {
      "text/html": [
       "\n",
       "        <iframe\n",
       "            width=\"400\"\n",
       "            height=\"300\"\n",
       "            src=\"https://www.youtube.com/embed/p86BPM1GV8M\"\n",
       "            frameborder=\"0\"\n",
       "            allowfullscreen\n",
       "        ></iframe>\n",
       "        "
      ],
      "text/plain": [
       "<IPython.lib.display.YouTubeVideo at 0x10b668d50>"
      ]
     },
     "execution_count": 52,
     "metadata": {},
     "output_type": "execute_result"
    }
   ],
   "source": [
    "YouTubeVideo(\"p86BPM1GV8M\")"
   ]
  },
  {
   "cell_type": "markdown",
   "metadata": {},
   "source": [
    "We can embed graphs. The plotly [ggplot2 figure](https://plot.ly/ggplot2/) converter lets us make the plot above into an interactive plot. Then you can call the plot in the NB."
   ]
  },
  {
   "cell_type": "code",
   "execution_count": 53,
   "metadata": {
    "collapsed": false
   },
   "outputs": [
    {
     "data": {
      "text/html": [
       "<iframe id=\"igraph\" scrolling=\"no\" style=\"border:none;\"seamless=\"seamless\" src=\"https://plot.ly/~MattSundquist/20391.embed\" height=\"525\" width=\"100%\"></iframe>"
      ],
      "text/plain": [
       "<plotly.tools.PlotlyDisplay object>"
      ]
     },
     "execution_count": 53,
     "metadata": {},
     "output_type": "execute_result"
    }
   ],
   "source": [
    "tls.embed('https://plot.ly/~MattSundquist/20391/price-vs-carat/')"
   ]
  },
  {
   "cell_type": "markdown",
   "metadata": {},
   "source": [
    "### Embedding LaTeX"
   ]
  },
  {
   "cell_type": "markdown",
   "metadata": {},
   "source": [
    "We can embed LaTeX inside a Notebook by putting a ```$$``` around our math, then run the cell as a Markdown cell. For example, the cell below is ```$$c = \\sqrt{a^2 + b^2}$$```, but the Notebook renders the expression."
   ]
  },
  {
   "cell_type": "markdown",
   "metadata": {},
   "source": [
    "$$c = \\sqrt{a^2 + b^2}$$"
   ]
  },
  {
   "cell_type": "markdown",
   "metadata": {},
   "source": [
    "Or, you can display output from Python, as seen [here](http://stackoverflow.com/questions/13208286/how-to-write-latex-in-ipython-notebook)."
   ]
  },
  {
   "cell_type": "code",
   "execution_count": 54,
   "metadata": {
    "collapsed": false
   },
   "outputs": [
    {
     "data": {
      "text/latex": [
       "$$F(k) = \\int_{-\\infty}^{\\infty} f(x) e^{2\\pi i k} dx$$"
      ],
      "text/plain": [
       "<IPython.core.display.Math object>"
      ]
     },
     "metadata": {},
     "output_type": "display_data"
    }
   ],
   "source": [
    "from IPython.display import display, Math, Latex\n",
    "display(Math(r'F(k) = \\int_{-\\infty}^{\\infty} f(x) e^{2\\pi i k} dx'))"
   ]
  },
  {
   "cell_type": "markdown",
   "metadata": {},
   "source": [
    "## V. Publishing "
   ]
  },
  {
   "cell_type": "markdown",
   "metadata": {
    "collapsed": true
   },
   "source": [
    "We can export the Notebook as an HTML, PDF, .py, .ipynb, Markdown, and reST file. You can also turn your NB [into a slideshow](http://ipython.org/ipython-doc/2/notebook/nbconvert.html). For publishing IPython Notebooks directly to GitHub pages, you can use [publisher](https://github.com/plotly/publisher). You can publish Notebooks on GitHub, and they will be generated as a Notebook on [nbviewer.ipython.org](http://nbviewer.ipython.org/). More advanced users can consider [using git for version control](http://stackoverflow.com/questions/18734739/using-ipython-notebooks-under-version-control)."
   ]
  },
  {
   "cell_type": "markdown",
   "metadata": {},
   "source": [
    "<img src=\"http://i.imgur.com/5q1Kqqr.png\" />"
   ]
  },
  {
   "cell_type": "markdown",
   "metadata": {},
   "source": [
    "### IPython widgets"
   ]
  },
  {
   "cell_type": "markdown",
   "metadata": {},
   "source": [
    "[IPython widgets](http://moderndata.plot.ly/widgets-in-ipython-notebook-and-plotly/) allow you to add sliders, widgets, search boxes, and more to your Notebook. See the [widget docs](https://ipython.org/ipython-doc/3/api/generated/IPython.html.widgets.interaction.html) for more information. For others to be able to access your work, they'll need IPython. Or, you can use a cloud-based NB option so others can run your work.\n",
    "<br>\n",
    "<img src=\"http://moderndata.plot.ly/wp-content/uploads/2015/01/best_gif_ever.gif\"/>"
   ]
  },
  {
   "cell_type": "markdown",
   "metadata": {},
   "source": [
    "### Publishing Dash Apps"
   ]
  },
  {
   "cell_type": "markdown",
   "metadata": {},
   "source": [
    "For users looking to ship and productionize Python apps, [dash](https://github.com/plotly/dash) is an assemblage of Flask, Socketio, Jinja, Plotly and boiler plate CSS and JS for easily creating data visualization web-apps with your Python data analysis backend.\n",
    "<br>\n",
    "<img src=\"https://camo.githubusercontent.com/a38f9ed71170e3112dd3e4af1d11d4b081fe2e25/687474703a2f2f692e696d6775722e636f6d2f643379346e776d2e676966\"/>\n",
    "<br>"
   ]
  },
  {
   "cell_type": "markdown",
   "metadata": {},
   "source": [
    "### Publishing dashboards"
   ]
  },
  {
   "cell_type": "markdown",
   "metadata": {},
   "source": [
    "Users publishing interactive graphs can also use [dashboards.ly](http://dashboards.ly/) to arrange a plot with a drag and drop interface. These dashboards can be published, embedded, and shared. <img src=\"http://i.imgur.com/hz0eNpH.png\" />"
   ]
  },
  {
   "cell_type": "markdown",
   "metadata": {},
   "source": [
    "## IPython gallery"
   ]
  },
  {
   "cell_type": "markdown",
   "metadata": {},
   "source": [
    "For more IPython tutorials, see the [IPython gallery](https://plot.ly/ipython-notebooks/). \n",
    "\n",
    "[![IPython Notebook Gallery](http://i.imgur.com/AdElJQx.png)](https://plot.ly/ipython-notebooks/)"
   ]
  },
  {
   "cell_type": "markdown",
   "metadata": {
    "collapsed": true
   },
   "source": [
    "At the end of a Notebook, we can [style a notebook](http://moderndata.plot.ly/custom-styling-for-ipython-notebooks-with-3-lines-of-code/) with these three lines of code. "
   ]
  },
  {
   "cell_type": "markdown",
   "metadata": {
    "collapsed": false
   },
   "source": [
    "`from IPython.core.display import HTML`<br>\n",
    "`import urllib2`<br>\n",
    "`HTML(urllib2.urlopen('http://bit.ly/1Bf5Hft').read())`"
   ]
  },
  {
   "cell_type": "code",
   "execution_count": 1,
   "metadata": {
    "collapsed": false
   },
   "outputs": [
    {
     "data": {
      "text/html": [
       "<link href=\"//fonts.googleapis.com/css?family=Open+Sans:600,400,300,200|Inconsolata|Ubuntu+Mono:400,700\" rel=\"stylesheet\" type=\"text/css\" />"
      ],
      "text/plain": [
       "<IPython.core.display.HTML object>"
      ]
     },
     "metadata": {},
     "output_type": "display_data"
    },
    {
     "data": {
      "text/html": [
       "<link rel=\"stylesheet\" type=\"text/css\" href=\"http://help.plot.ly/documentation/all_static/css/ipython-notebook-custom.css\">"
      ],
      "text/plain": [
       "<IPython.core.display.HTML object>"
      ]
     },
     "metadata": {},
     "output_type": "display_data"
    },
    {
     "name": "stdout",
     "output_type": "stream",
     "text": [
      "\u001b[33mYou are using pip version 7.1.0, however version 7.1.2 is available.\n",
      "You should consider upgrading via the 'pip install --upgrade pip' command.\u001b[0m\n",
      "Requirement already up-to-date: publisher in /Users/Chelsea/venv2.7/lib/python2.7/site-packages\n"
     ]
    },
    {
     "name": "stderr",
     "output_type": "stream",
     "text": [
      "/Users/Chelsea/venv2.7/lib/python2.7/site-packages/publisher/publisher.py:53: UserWarning: Did you \"Save\" this notebook before running this command? Remember to save, always save.\n",
      "  warnings.warn('Did you \"Save\" this notebook before running this command? '\n"
     ]
    }
   ],
   "source": [
    "from IPython.display import display, HTML\n",
    "\n",
    "display(HTML('<link href=\"//fonts.googleapis.com/css?family=Open+Sans:600,400,300,200|Inconsolata|Ubuntu+Mono:400,700\" rel=\"stylesheet\" type=\"text/css\" />'))\n",
    "display(HTML('<link rel=\"stylesheet\" type=\"text/css\" href=\"http://help.plot.ly/documentation/all_static/css/ipython-notebook-custom.css\">'))\n",
    "\n",
    "! pip install publisher --upgrade\n",
    "import publisher\n",
    "publisher.publish(\n",
    "    'IPython_tutorial.ipynb', 'python/ipython-notebook-tutorial', 'IPython Notebook Tutorial | plotly',\n",
    "    'IPython notebook tutorial on how to install, run, and use IPython for interactive matplotlib plotting, data analysis, and publishing code',\n",
    "    name = 'IPython Notebook Tutorial',\n",
    "    thumbnail='/images/ipythonnb.png', language='python',\n",
    "    page_type='example_index', has_thumbnail='true', display_as='chart_type', order=31) "
   ]
  },
  {
   "cell_type": "code",
   "execution_count": null,
   "metadata": {
    "collapsed": true
   },
   "outputs": [],
   "source": []
  }
 ],
 "metadata": {
  "kernelspec": {
   "display_name": "Python 2",
   "language": "python",
   "name": "python2"
  },
  "language_info": {
   "codemirror_mode": {
    "name": "ipython",
    "version": 2
   },
   "file_extension": ".py",
   "mimetype": "text/x-python",
   "name": "python",
   "nbconvert_exporter": "python",
   "pygments_lexer": "ipython2",
   "version": "2.7.9"
  }
 },
 "nbformat": 4,
 "nbformat_minor": 0
}
