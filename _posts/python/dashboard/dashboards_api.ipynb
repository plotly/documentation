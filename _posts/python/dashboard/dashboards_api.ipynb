{
 "cells": [
  {
   "cell_type": "markdown",
   "metadata": {},
   "source": [
    "#### New to Plotly?\n",
    "Plotly's Python library is free and open source! [Get started](https://plot.ly/python/getting-started/) by downloading the client and [reading the primer](https://plot.ly/python/getting-started/).\n",
    "<br>You can set up Plotly to work in [online](https://plot.ly/python/getting-started/#initialization-for-online-plotting) or [offline](https://plot.ly/python/getting-started/#initialization-for-offline-plotting) mode, or in [jupyter notebooks](https://plot.ly/python/getting-started/#start-plotting-online).\n",
    "<br>We also have a quick-reference [cheatsheet](https://images.plot.ly/plotly-documentation/images/python_cheat_sheet.pdf) (new!) to help you get started!\n",
    "\n",
    "#### Plotly Dashboards 2.0\n",
    "Plotly now supports online interactive dashboards. Plotly dashboards can be created with our online [drag-and-drop dashboard creator](https://plot.ly/dashboards/create) or programatically in Python, R, or MATLAB. Dashboards are great for showcasing a collection of graphs like your KPIs, experimental results, or the real-time status of your systems.\n",
    "<br>\n",
    "Like Plotly graphs, datasets, and presentations, you can create dashboards entirely programatically with our APIs. This tutorial explains how to create dashboards programatically with Python. No HTML, CSS, or Javascript is required to create these dashboards, it's all pure Python!\n",
    "<br>\n",
    "Plotly's dashboards aren't part of the official Plotly python API yet but they will be in the coming months. In the meantime, we'll make requests with the `requests` library to [Plotly's V2 API](https://api.plot.ly/v2/dashboards)."
   ]
  },
  {
   "cell_type": "code",
   "execution_count": 23,
   "metadata": {
    "collapsed": false
   },
   "outputs": [],
   "source": [
    "import plotly\n",
    "\n",
    "import json\n",
    "import pprint\n",
    "import requests\n",
    "import webbrowser\n",
    "\n",
    "from IPython import display\n",
    "\n",
    "api_key = plotly.tools.get_credentials_file()['api_key'] \n",
    "\n",
    "# Wrapper around requests.get\n",
    "def get(*args, **kwargs):\n",
    "  return requests.get(*args, auth=('chelsea_lyn', api_key), headers={'Plotly-Client-Platform': 'nteract'}, **kwargs)\n",
    "\n",
    "# upload dashboard to your plotly account\n",
    "def create_dashboard(dashboard_object, filename, world_readable, auto_open=True):\n",
    "  \t# There are a few short-comings to this function. These will get worked out once this is part of the official plotly python library.\n",
    "    # - filename needs to be able to support `/` to create or use folders. This'll require a few API calls.\n",
    "    # - this function only works if the filename is unique. Need to call `update` if this file already exists to \n",
    "    # \toverwrite the file\n",
    "    # - world_readable really should be `sharing` and allow `public`, `private`, or `secret` like in `py.plot`\n",
    "  \t# - dashboard content should be validated before sending it off\n",
    "    # - auto_open parameter for opening the result\n",
    "    \n",
    "\tres = requests.post(\n",
    "      'https://api.plot.ly/v2/dashboards',\n",
    "      auth=('chelsea_lyn', api_key),\n",
    "      headers={\n",
    "        'Plotly-Client-Platform': 'nteract'\n",
    "      },\n",
    "      data={\n",
    "        'content': json.dumps(dashboard_object),\n",
    "        'filename': filename,\n",
    "        'world_readable': world_readable\n",
    "      }\n",
    "    )\n",
    "\tres.raise_for_status()\n",
    "    \n",
    " \turl = res.json()['web_url']\n",
    "\twebbrowser.open_new(res.json()['web_url'])\n",
    "\treturn url"
   ]
  },
  {
   "cell_type": "markdown",
   "metadata": {},
   "source": [
    "#### Viewing and downloading dashboards that you have created\n",
    "\n",
    "Get started by playing around with the [online dashboard editor](https://plot.ly/dashboards/create). Once you've created a few dashboards, we can download the contents with the API.\n",
    "<br>\n",
    "You can get a list of the current dashboards by viewing the REST API docs at https://api.plot.ly/v2/dashboards\n",
    "<br>\n",
    "You can view your dashboards in your list of files at https://plot.ly/organize/"
   ]
  },
  {
   "cell_type": "code",
   "execution_count": 24,
   "metadata": {
    "collapsed": false
   },
   "outputs": [
    {
     "data": {
      "text/plain": [
       "[u'Tern Plots', u'Dashboard Tutorial - Energy Example']"
      ]
     },
     "execution_count": 24,
     "metadata": {},
     "output_type": "execute_result"
    }
   ],
   "source": [
    "dashboards = []\n",
    "response = get('https://api.plot.ly/v2/dashboards').json()\n",
    "dashboards += [dashboard for dashboard in response['results'] if not dashboard['deleted']]\n",
    "while response['next']: # paginated\n",
    "\tresponse = get(response['next']).json()\n",
    "\tdashboards += [dashboard for dashboard in response['results'] if not dashboard['deleted']]\n",
    "\n",
    "[d['filename'] for d in dashboards]"
   ]
  },
  {
   "cell_type": "markdown",
   "metadata": {},
   "source": [
    "Similar to Plotly graphs, dashboards are described declarively in an open JSON format.\n",
    "\n",
    "Let's take a look at a simple dashboard: [https://plot.ly/dashboard/chris:17748/present](https://plot.ly/dashboard/chris:17748/present).\n",
    "![Simple dashboard example](https://cdn.pbrd.co/images/IAqBYVjj.png)"
   ]
  },
  {
   "cell_type": "markdown",
   "metadata": {},
   "source": [
    "We can look at the JSON description of this dashboard by downloading it through the API:"
   ]
  },
  {
   "cell_type": "code",
   "execution_count": 25,
   "metadata": {
    "collapsed": false
   },
   "outputs": [
    {
     "name": "stdout",
     "output_type": "stream",
     "text": [
      "{u'layout': {u'direction': u'vertical',\n",
      "             u'first': {u'direction': u'vertical',\n",
      "                        u'first': {u'direction': u'vertical',\n",
      "                                   u'first': {u'direction': u'vertical',\n",
      "                                              u'first': {u'direction': u'horizontal',\n",
      "                                                         u'first': {u'boxType': u'plot',\n",
      "                                                                    u'fileId': u'chelsea_lyn:13091',\n",
      "                                                                    u'shareKey': u'KIfuEpo259nkweMFWe7NFM',\n",
      "                                                                    u'type': u'box'},\n",
      "                                                         u'second': {u'boxType': u'plot',\n",
      "                                                                     u'fileId': u'chelsea_lyn:13095',\n",
      "                                                                     u'shareKey': u'T2W34xmiL4QejA88LStF8J',\n",
      "                                                                     u'type': u'box'},\n",
      "                                                         u'size': 50,\n",
      "                                                         u'sizeUnit': u'%',\n",
      "                                                         u'type': u'split'},\n",
      "                                              u'second': {u'boxType': u'plot',\n",
      "                                                          u'fileId': u'chelsea_lyn:13086',\n",
      "                                                          u'shareKey': None,\n",
      "                                                          u'type': u'box'},\n",
      "                                              u'size': 657,\n",
      "                                              u'sizeUnit': u'px',\n",
      "                                              u'type': u'split'},\n",
      "                                   u'second': {u'boxType': u'text',\n",
      "                                               u'text': u'',\n",
      "                                               u'type': u'box'},\n",
      "                                   u'size': 1150,\n",
      "                                   u'sizeUnit': u'px',\n",
      "                                   u'type': u'split'},\n",
      "                        u'second': {u'boxType': u'webpage',\n",
      "                                    u'type': u'box',\n",
      "                                    u'url': u''},\n",
      "                        u'size': 1500,\n",
      "                        u'sizeUnit': u'px',\n",
      "                        u'type': u'split'},\n",
      "             u'second': {u'boxType': u'empty', u'type': u'box'},\n",
      "             u'size': 1850,\n",
      "             u'sizeUnit': u'px',\n",
      "             u'type': u'split'},\n",
      " u'settings': {u'backgroundColor': u'#FFFFFF',\n",
      "               u'boxBackgroundColor': u'#ffffff',\n",
      "               u'boxBorderColor': u'#d8d8d8',\n",
      "               u'boxHeaderBackgroundColor': u'#f8f8f8',\n",
      "               u'foregroundColor': u'#333333',\n",
      "               u'headerBackgroundColor': u'#4372a1',\n",
      "               u'headerForegroundColor': u'#FFFFFF',\n",
      "               u'links': [{u'title': u'Google', u'url': u'google.ca'},\n",
      "                          {u'title': u'Link', u'url': u''}],\n",
      "               u'logoUrl': u'',\n",
      "               u'title': u'Tern Plots'},\n",
      " u'version': 2}\n"
     ]
    }
   ],
   "source": [
    "# Everything that Plotly stores about the dashboard is in this response\n",
    "dashboard = get(dashboards[0]['api_urls']['dashboards']).json()\n",
    "\n",
    "# In particular, view the JSON representation of one \n",
    "pprint.pprint(json.loads(dashboard['content']))"
   ]
  },
  {
   "cell_type": "markdown",
   "metadata": {},
   "source": [
    "This content completely describes the dashboard. Although we created this dashboard in the online editor, we can re-create it programatically by uploading that same content to Plotly's API.\n",
    "\n",
    "Here's the same description of the dashboard, annotated with some comments. The full dashboards spec is further below.\n",
    "<br>\n",
    "Declaritvely describe the dashboard:"
   ]
  },
  {
   "cell_type": "code",
   "execution_count": 26,
   "metadata": {
    "collapsed": false
   },
   "outputs": [],
   "source": [
    "dashboard_1 = {\n",
    "  'layout': {\n",
    "    # parent node\n",
    "    'type': 'split',\n",
    "    'direction': 'vertical',\n",
    "    'size': 600,\n",
    "    'sizeUnit': 'px',\n",
    "    \n",
    "    # Each object that is type `split` must have 2 children. \n",
    "    # These children have the keys `first` and `second` and can contain \n",
    "    # plots, text, or can be a container for more cells\n",
    "    'first': {\n",
    "      \t\n",
    "      \t# Another container component ('type': 'split')\n",
    "        'type': 'split',\n",
    "        'direction': 'horizontal', # first and second nodes are split horizontally\n",
    "\n",
    "        # First plot\n",
    "        'first': {\n",
    "            'type': 'box', \t\t\t\t# if the node contains a plot or text, it must be type 'box'\n",
    "            'boxType': 'plot', \t\t\t# 'plot' or 'text'\n",
    "            'fileId': 'chris:17674'\t\t# URL of the plot\n",
    "        },\n",
    "\n",
    "        # Second plot\n",
    "        'second': {\n",
    "            'type': 'box',\n",
    "            'boxType': 'plot',\n",
    "            'url': 'chris:17564'\n",
    "        }   \n",
    "    },\n",
    "    \n",
    "    # every `split` container node has to contain 2 children (first and second)\n",
    "    # In this case, don't render the second child by setting `boxType` to `empty`\n",
    "    'second': {\n",
    "        'boxType': 'empty',\n",
    "        'type': 'box'\n",
    "    }\n",
    "  },\n",
    "  'settings': {\n",
    "    'title': 'Simple Example 1'\n",
    "  }\n",
    "}\n"
   ]
  },
  {
   "cell_type": "markdown",
   "metadata": {},
   "source": [
    "Now let's send that dashboard description up to our plotly account. Plotly will return with a URL of the dashboard and we can always view it by visiting your [list of files in your plotly account](https://plot.ly/organize)."
   ]
  },
  {
   "cell_type": "code",
   "execution_count": 27,
   "metadata": {
    "collapsed": false
   },
   "outputs": [
    {
     "data": {
      "text/plain": [
       "u'https://plot.ly/~chelsea_lyn/13120/'"
      ]
     },
     "execution_count": 27,
     "metadata": {},
     "output_type": "execute_result"
    }
   ],
   "source": [
    "create_dashboard(dashboard_1, 'Dashboard Tutorial - Ex 2', True)"
   ]
  },
  {
   "cell_type": "markdown",
   "metadata": {},
   "source": [
    "Take a peak at the newly created dashboard! [https://plot.ly/~chelsea_lyn/13120/](https://plot.ly/~chelsea_lyn/13120/)\n",
    "\n",
    "#### More about the JSON dashboard spec\n",
    "\n",
    "The layout of dashboards are described in a tree where each node can have at most 2 branches. These nodes have the keys `first` and `second`. These branches may go vertically (to create a new row) or horizontally (to create a new column).\n",
    "\n",
    "\n",
    "Each leaf node has a few properties:\n",
    "- `boxType` - whether to render a `plot` or a `text` block. This will include more types in the future.\n",
    "- `title` - the title of the block. Titles can also be supplied in the plots themselves\n",
    "- `size` - the width of the container\n",
    "- `sizeUnit` - `%`\n",
    "- `fileId` - the plotly identifier of the plot. This is in the form `username:numeric_id`. The numeric ID can be found from the URl of the plot or from the lookup API. For example, the plot [https://plot.ly/~chris/1638](https://plot.ly/~chris/1638) has the `fileId` `chris:1638`\n",
    "- `type` - Equal to `box`.\n",
    "\n",
    "\n",
    "Leaf nodes are contained in container nodes that controls the orientation of the items (`horizontal` or `vertical`) and the size of the container. Container nodes have the following properties:\n",
    "- `type` - Equal to `split` - this indicates the the node is a container node\n",
    "- `first` - Contains one of the two leaf nodes (as described above)\n",
    "- `second` - Contains the other leaf node\n",
    "- `direction` - 'vertical' or 'horizontal'\n",
    "- `size` - 600\n",
    "- `sizeUnit` - 'px' or '%'\n",
    "\n",
    "Finally, other dashboard settings can be found in the `settings` object. These include:\n",
    "- `backgroundColor` - e.g. '#FFFFFF'\n",
    "- `boxBackgroundColor` - e.g. '#ffffff'\n",
    "- `boxBorderColor` - e.g. '#d8d8d8'\n",
    "- `boxHeaderBackgroundColor` - e.g. '#f8f8f8'\n",
    "- `foregroundColor` - e.g. '#333333'\n",
    "- `headerBackgroundColor` - e.g. '#fbfbfb'\n",
    "- `headerForegroundColor` - e.g. '#2b2b2b'\n",
    "- `links` - a list of links in the header. set to [] to show no links. Otherwise, include links as dict with `title` and `url` as keys, e.g. [{'title': 'More Dashboard Examples', 'url': u'http://plot.ly/dashboards'}]\n",
    "- `logoUrl` - an image URL to show in the header\n",
    "- `title` - the title of the dashboard e.g. 'Example Dashboard'\n",
    "<br>\n",
    "By far the easiest way to create these dashboards programatically is to create a template with the editor and then download the JSON with the API.\n",
    "\n",
    "Let's take a look at a more complicated example ([View the live dashboard](https://plot.ly/dashboard/chris:17750/present)).\n",
    "\n",
    "[![Energy dashboard](https://cdn.pbrd.co/images/J8vO8r8d.png)](https://plot.ly/dashboard/chris:17750/present)\n",
    "<br>\n",
    "Let's download this dashboard:"
   ]
  },
  {
   "cell_type": "code",
   "execution_count": 31,
   "metadata": {
    "collapsed": false
   },
   "outputs": [
    {
     "data": {
      "text/plain": [
       "[u'Tern Plots', u'Dashboard Tutorial - Energy Example']"
      ]
     },
     "execution_count": 31,
     "metadata": {},
     "output_type": "execute_result"
    }
   ],
   "source": [
    "[dashboard['filename'] for dashboard in dashboards]"
   ]
  },
  {
   "cell_type": "code",
   "execution_count": 32,
   "metadata": {
    "collapsed": false
   },
   "outputs": [
    {
     "name": "stdout",
     "output_type": "stream",
     "text": [
      "{u'layout': {u'direction': u'vertical',\n",
      "             u'first': {u'direction': u'vertical',\n",
      "                        u'first': {u'direction': u'vertical',\n",
      "                                   u'first': {u'direction': u'vertical',\n",
      "                                              u'first': {u'direction': u'vertical',\n",
      "                                                         u'first': {u'direction': u'vertical',\n",
      "                                                                    u'first': {u'boxType': u'text',\n",
      "                                                                               u'text': u'# Dashboards for a new generation of energy technology\\n\\nPlotly provides best-in-class data visualization tools for oil and gas firms like C12 Energy, energy software providers like Opower, and renewable energy companies like Ambri and Sighten. Plotly graphs help them quickly and easily digest large quantities of data.\\n\\nC-12 Energy\\u2019s technology team built their real-time data acquisition, visualization and analysis platform on Plotly\\u2019s data visualization and dashboard technology. Their platform uses a mix of Python, Javascript and Plotly.js to capture and analyze large data sets.',\n",
      "                                                                               u'type': u'box'},\n",
      "                                                                    u'second': {u'boxType': u'text',\n",
      "                                                                                u'text': u'### Wind Power Prospecting and Analysis',\n",
      "                                                                                u'type': u'box'},\n",
      "                                                                    u'size': 232,\n",
      "                                                                    u'sizeUnit': u'px',\n",
      "                                                                    u'type': u'split'},\n",
      "                                                         u'second': {u'direction': u'horizontal',\n",
      "                                                                     u'first': {u'boxType': u'plot',\n",
      "                                                                                u'fileId': u'jackp:12599',\n",
      "                                                                                u'title': u'NPS 100C-24 turbine',\n",
      "                                                                                u'type': u'box'},\n",
      "                                                                     u'second': {u'boxType': u'plot',\n",
      "                                                                                 u'fileId': u'jackp:12614',\n",
      "                                                                                 u'title': u'D400 turbine power curve',\n",
      "                                                                                 u'type': u'box'},\n",
      "                                                                     u'size': 50,\n",
      "                                                                     u'sizeUnit': u'%',\n",
      "                                                                     u'type': u'split'},\n",
      "                                                         u'size': 382,\n",
      "                                                         u'sizeUnit': u'px',\n",
      "                                                         u'type': u'split'},\n",
      "                                              u'second': {u'boxType': u'text',\n",
      "                                                          u'text': u'## Household Renewable Energy Production',\n",
      "                                                          u'title': u'',\n",
      "                                                          u'type': u'box'},\n",
      "                                              u'size': 962,\n",
      "                                              u'sizeUnit': u'px',\n",
      "                                              u'type': u'split'},\n",
      "                                   u'second': {u'boxType': u'plot',\n",
      "                                               u'fileId': u'jackp:12255',\n",
      "                                               u'title': u'Household Renewable Energy Production',\n",
      "                                               u'type': u'box'},\n",
      "                                   u'size': 1112,\n",
      "                                   u'sizeUnit': u'px',\n",
      "                                   u'type': u'split'},\n",
      "                        u'second': {u'direction': u'horizontal',\n",
      "                                    u'first': {u'boxType': u'plot',\n",
      "                                               u'fileId': u'jackp:12239',\n",
      "                                               u'title': u'Electricity Usage by Month',\n",
      "                                               u'type': u'box'},\n",
      "                                    u'second': {u'boxType': u'plot',\n",
      "                                                u'fileId': u'jackp:12215',\n",
      "                                                u'title': u'',\n",
      "                                                u'type': u'box'},\n",
      "                                    u'size': 72,\n",
      "                                    u'sizeUnit': u'%',\n",
      "                                    u'type': u'split'},\n",
      "                        u'size': 1607,\n",
      "                        u'sizeUnit': u'px',\n",
      "                        u'type': u'split'},\n",
      "             u'second': {u'boxType': u'empty', u'type': u'box'},\n",
      "             u'size': 2307,\n",
      "             u'sizeUnit': u'px',\n",
      "             u'type': u'split'},\n",
      " u'settings': {u'backgroundColor': u'#FFFFFF',\n",
      "               u'boxBackgroundColor': u'#ffffff',\n",
      "               u'boxBorderColor': u'#ffffff',\n",
      "               u'boxHeaderBackgroundColor': u'#ffffff',\n",
      "               u'foregroundColor': u'#333333',\n",
      "               u'headerBackgroundColor': u'#ffffff',\n",
      "               u'headerForegroundColor': u'#484848',\n",
      "               u'links': [{u'title': u'More Dashboard Examples',\n",
      "                           u'url': u'http://plot.ly/dashboards'}],\n",
      "               u'logoUrl': u'',\n",
      "               u'title': u'Energy Dashboard'},\n",
      " u'version': 2}\n"
     ]
    }
   ],
   "source": [
    "# In this case, I'm interested in 'Energy Dashboard', the 3rd one that I've created \n",
    "\n",
    "energy_dashboard = dashboards[1]\n",
    "\n",
    "dashboard = get(energy_dashboard['api_urls']['dashboards']).json()\n",
    "\n",
    "# Pretty print the content\n",
    "energy_dashboard_json = json.loads(dashboard['content'])\n",
    "pprint.pprint(energy_dashboard_json)"
   ]
  },
  {
   "cell_type": "markdown",
   "metadata": {},
   "source": [
    "I'll just re-upload this JSON description to my plotly account to create a new dashboard. In practice, you can create your dashboard templates with the editor and then download the contents or build up the JSON from scratch."
   ]
  },
  {
   "cell_type": "code",
   "execution_count": 34,
   "metadata": {
    "collapsed": false
   },
   "outputs": [
    {
     "data": {
      "text/plain": [
       "u'https://plot.ly/~chelsea_lyn/13121/'"
      ]
     },
     "execution_count": 34,
     "metadata": {},
     "output_type": "execute_result"
    }
   ],
   "source": [
    "create_dashboard(energy_dashboard_json, 'Dashboard Tutorial - Energy Example 2', True)"
   ]
  },
  {
   "cell_type": "markdown",
   "metadata": {},
   "source": [
    "#### Reference\n",
    "- [View more dashboard examples](https://plot.ly/dashboards)\n",
    "- [Create dashboards online](https://plot.ly/dashboard/create)\n",
    "- [Create Plotly graphs in Python](https://plot.ly/python)\n",
    "- You can also embed your plotly graphs in our new [presentations editor](https://formidable.com/open-source/spectacle-editor/).\n",
    "- This tutorial was written using Jupyter notebooks and our new [Jupter notebook desktop app, nteract](http://nteract.io/). You can upload and share Jupter notebooks in plotly too. Like plots and datasets, notebooks shared in plotly can be public, private, or shared privately with a secret URL.\n",
    "- Creating public dashboards is free. To create private dashboards, [subscribe to a pro plan](https://plot.ly/products/cloud/)."
   ]
  },
  {
   "cell_type": "code",
   "execution_count": 35,
   "metadata": {
    "collapsed": false
   },
   "outputs": [
    {
     "data": {
      "text/html": [
       "<link href=\"//fonts.googleapis.com/css?family=Open+Sans:600,400,300,200|Inconsolata|Ubuntu+Mono:400,700\" rel=\"stylesheet\" type=\"text/css\" />"
      ],
      "text/plain": [
       "<IPython.core.display.HTML object>"
      ]
     },
     "metadata": {},
     "output_type": "display_data"
    },
    {
     "data": {
      "text/html": [
       "<link rel=\"stylesheet\" type=\"text/css\" href=\"http://help.plot.ly/documentation/all_static/css/ipython-notebook-custom.css\">"
      ],
      "text/plain": [
       "<IPython.core.display.HTML object>"
      ]
     },
     "metadata": {},
     "output_type": "display_data"
    },
    {
     "name": "stdout",
     "output_type": "stream",
     "text": [
      "Collecting git+https://github.com/plotly/publisher.git\n",
      "  Cloning https://github.com/plotly/publisher.git to /var/folders/72/g6h98xwx0h1gp4kc8rzhsdh80000gn/T/pip-u8aYc3-build\n",
      "Installing collected packages: publisher\n",
      "  Found existing installation: publisher 0.10\n",
      "    Uninstalling publisher-0.10:\n",
      "      Successfully uninstalled publisher-0.10\n",
      "  Running setup.py install for publisher ... \u001b[?25l-\b \bdone\n",
      "\u001b[?25hSuccessfully installed publisher-0.10\n"
     ]
    },
    {
     "name": "stderr",
     "output_type": "stream",
     "text": [
      "/Library/Frameworks/Python.framework/Versions/2.7/lib/python2.7/site-packages/IPython/nbconvert.py:13: ShimWarning:\n",
      "\n",
      "The `IPython.nbconvert` package has been deprecated. You should import from nbconvert instead.\n",
      "\n",
      "/Library/Frameworks/Python.framework/Versions/2.7/lib/python2.7/site-packages/publisher/publisher.py:53: UserWarning:\n",
      "\n",
      "Did you \"Save\" this notebook before running this command? Remember to save, always save.\n",
      "\n"
     ]
    }
   ],
   "source": [
    "from IPython.display import display, HTML\n",
    "\n",
    "display(HTML('<link href=\"//fonts.googleapis.com/css?family=Open+Sans:600,400,300,200|Inconsolata|Ubuntu+Mono:400,700\" rel=\"stylesheet\" type=\"text/css\" />'))\n",
    "display(HTML('<link rel=\"stylesheet\" type=\"text/css\" href=\"http://help.plot.ly/documentation/all_static/css/ipython-notebook-custom.css\">'))\n",
    "\n",
    "! pip install git+https://github.com/plotly/publisher.git --upgrade\n",
    "    \n",
    "import publisher\n",
    "publisher.publish(\n",
    "    'dashboards_api.ipynb', 'python/dashboards-api/', 'Python Dashboards | plotly',\n",
    "    'How to make dashboards in Python with Plotly.',\n",
    "    title = 'Python Dashboards | plotly',\n",
    "    name = 'Python Dashboards',\n",
    "    has_thumbnail='false', \n",
    "    language='python', page_type='example_index')"
   ]
  },
  {
   "cell_type": "code",
   "execution_count": null,
   "metadata": {
    "collapsed": true
   },
   "outputs": [],
   "source": []
  }
 ],
 "metadata": {
  "kernelspec": {
   "display_name": "Python 2",
   "language": "python",
   "name": "python2"
  },
  "language_info": {
   "codemirror_mode": {
    "name": "ipython",
    "version": 2
   },
   "file_extension": ".py",
   "mimetype": "text/x-python",
   "name": "python",
   "nbconvert_exporter": "python",
   "pygments_lexer": "ipython2",
   "version": "2.7.11"
  }
 },
 "nbformat": 4,
 "nbformat_minor": 0
}
