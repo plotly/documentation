{
 "cells": [
  {
   "cell_type": "markdown",
   "metadata": {},
   "source": [
    "# Candlestick Charts in Python"
   ]
  },
  {
   "cell_type": "code",
   "execution_count": 1,
   "metadata": {
    "collapsed": false
   },
   "outputs": [
    {
     "data": {
      "text/plain": [
       "'1.8.3'"
      ]
     },
     "execution_count": 1,
     "metadata": {},
     "output_type": "execute_result"
    }
   ],
   "source": [
    "import plotly\n",
    "plotly.__version__"
   ]
  },
  {
   "cell_type": "markdown",
   "metadata": {},
   "source": [
    "##### Simple Example with Pandas"
   ]
  },
  {
   "cell_type": "code",
   "execution_count": 1,
   "metadata": {
    "collapsed": false
   },
   "outputs": [
    {
     "data": {
      "text/html": [
       "<iframe id=\"igraph\" scrolling=\"no\" style=\"border:none;\"seamless=\"seamless\" src=\"https://plot.ly/~chelsea_lyn/8300.embed\" height=\"525px\" width=\"100%\"></iframe>"
      ],
      "text/plain": [
       "<plotly.tools.PlotlyDisplay object>"
      ]
     },
     "execution_count": 1,
     "metadata": {},
     "output_type": "execute_result"
    }
   ],
   "source": [
    "import plotly.plotly as py\n",
    "from plotly.tools import FigureFactory as FF\n",
    "from datetime import datetime\n",
    "\n",
    "import pandas.io.data as web\n",
    "\n",
    "df = web.DataReader(\"aapl\", 'yahoo', datetime(2007, 10, 1), datetime(2009, 4, 1))\n",
    "fig = FF.create_candlestick(df.Open, df.High, df.Low, df.Close, dates=df.index)\n",
    "py.iplot(fig, filename='finance/aapl-candlestick', validate=False)"
   ]
  },
  {
   "cell_type": "markdown",
   "metadata": {},
   "source": [
    "##### Customizing the Figure with Text and Annotations"
   ]
  },
  {
   "cell_type": "code",
   "execution_count": 2,
   "metadata": {
    "collapsed": false
   },
   "outputs": [
    {
     "data": {
      "text/html": [
       "<iframe id=\"igraph\" scrolling=\"no\" style=\"border:none;\"seamless=\"seamless\" src=\"https://plot.ly/~chelsea_lyn/8302.embed\" height=\"525px\" width=\"100%\"></iframe>"
      ],
      "text/plain": [
       "<plotly.tools.PlotlyDisplay object>"
      ]
     },
     "execution_count": 2,
     "metadata": {},
     "output_type": "execute_result"
    }
   ],
   "source": [
    "import plotly.plotly as py\n",
    "from plotly.tools import FigureFactory as FF\n",
    "from datetime import datetime\n",
    "\n",
    "import pandas.io.data as web\n",
    "\n",
    "fig = FF.create_candlestick(df.Open, df.High, df.Low, df.Close, dates=df.index)\n",
    "# Update the fig - all options here: https://plot.ly/python/reference/#Layout\n",
    "fig['layout'].update({\n",
    "    'title': 'The Great Recession',\n",
    "    'yaxis': {'title': 'AAPL Stock'},\n",
    "    'shapes': [{\n",
    "        'x0': '2007-12-01', 'x1': '2007-12-01',\n",
    "        'y0': 0, 'y1': 1, 'xref': 'x', 'yref': 'paper',\n",
    "        'line': {'color': 'rgb(30,30,30)', 'width': 1}\n",
    "    }],\n",
    "    'annotations': [{\n",
    "        'x': '2007-12-01', 'y': 0.05, 'xref': 'x', 'yref': 'paper',\n",
    "        'showarrow': False, 'xanchor': 'left',\n",
    "        'text': 'Official start of the recession'\n",
    "    }]\n",
    "})\n",
    "py.iplot(fig, filename='finance/aapl-recession-candlestick', validate=False)"
   ]
  },
  {
   "cell_type": "markdown",
   "metadata": {},
   "source": [
    "##### Custom Candlestick Colors"
   ]
  },
  {
   "cell_type": "code",
   "execution_count": 3,
   "metadata": {
    "collapsed": false
   },
   "outputs": [
    {
     "data": {
      "text/html": [
       "<iframe id=\"igraph\" scrolling=\"no\" style=\"border:none;\"seamless=\"seamless\" src=\"https://plot.ly/~chelsea_lyn/8304.embed\" height=\"525px\" width=\"100%\"></iframe>"
      ],
      "text/plain": [
       "<plotly.tools.PlotlyDisplay object>"
      ]
     },
     "execution_count": 3,
     "metadata": {},
     "output_type": "execute_result"
    }
   ],
   "source": [
    "import plotly.plotly as py\n",
    "from plotly.tools import FigureFactory as FF\n",
    "from plotly.graph_objs import Line, Marker\n",
    "from datetime import datetime\n",
    "\n",
    "import pandas.io.data as web\n",
    "\n",
    "df = web.DataReader(\"aapl\", 'yahoo', datetime(2008, 1, 1), datetime(2009, 4, 1))\n",
    "fig = FF.create_candlestick(df.Open, df.High, df.Low, df.Close, dates=df.index)\n",
    "\n",
    "# Make increasing ohlc sticks and customize their color and name\n",
    "fig_increasing = FF.create_candlestick(df.Open, df.High, df.Low, df.Close, dates=df.index,\n",
    "    direction='increasing', name='AAPL',\n",
    "    marker=Marker(color='rgb(150, 200, 250)'),                                       \n",
    "    line=Line(color='rgb(150, 200, 250)'))\n",
    "\n",
    "# Make decreasing ohlc sticks and customize their color and name\n",
    "fig_decreasing = FF.create_candlestick(df.Open, df.High, df.Low, df.Close, dates=df.index,\n",
    "    direction='decreasing',\n",
    "    marker=Marker(color='rgb(128, 128, 128)'),\n",
    "    line=Line(color='rgb(128, 128, 128)'))\n",
    "\n",
    "# Initialize the figure\n",
    "fig = fig_increasing\n",
    "\n",
    "# Add decreasing data with .extend()\n",
    "fig['data'].extend(fig_decreasing['data'])\n",
    "\n",
    "py.iplot(fig, filename='finance/aapl-candlestick-custom', validate=False)"
   ]
  },
  {
   "cell_type": "markdown",
   "metadata": {},
   "source": [
    "##### Simple Example with `datetime` Objects"
   ]
  },
  {
   "cell_type": "code",
   "execution_count": 4,
   "metadata": {
    "collapsed": false
   },
   "outputs": [
    {
     "data": {
      "text/html": [
       "<iframe id=\"igraph\" scrolling=\"no\" style=\"border:none;\"seamless=\"seamless\" src=\"https://plot.ly/~chelsea_lyn/8306.embed\" height=\"525px\" width=\"100%\"></iframe>"
      ],
      "text/plain": [
       "<plotly.tools.PlotlyDisplay object>"
      ]
     },
     "execution_count": 4,
     "metadata": {},
     "output_type": "execute_result"
    }
   ],
   "source": [
    "import plotly.plotly as py\n",
    "from plotly.tools import FigureFactory as FF\n",
    "\n",
    "from datetime import datetime\n",
    "\n",
    "# Add data\n",
    "open_data = [33.0, 33.3, 33.5, 33.0, 34.1]\n",
    "high_data = [33.1, 33.3, 33.6, 33.2, 34.8]\n",
    "low_data = [32.7, 32.7, 32.8, 32.6, 32.8]\n",
    "close_data = [33.0, 32.9, 33.3, 33.1, 33.1]\n",
    "dates = [datetime(year=2013, month=10, day=10),\n",
    "         datetime(year=2013, month=11, day=10),\n",
    "         datetime(year=2013, month=12, day=10),\n",
    "         datetime(year=2014, month=1, day=10),\n",
    "         datetime(year=2014, month=2, day=10)]\n",
    "\n",
    "# Create ohlc\n",
    "fig = FF.create_candlestick(open_data, high_data,\n",
    "    low_data, close_data, dates=dates)\n",
    "\n",
    "py.iplot(fig, filename='finance/simple-candlestick', validate=False)"
   ]
  },
  {
   "cell_type": "markdown",
   "metadata": {
    "collapsed": true
   },
   "source": [
    "##### Simple Example Adding a Trace to a Candlestick Chart"
   ]
  },
  {
   "cell_type": "code",
   "execution_count": 5,
   "metadata": {
    "collapsed": false
   },
   "outputs": [
    {
     "data": {
      "text/html": [
       "<iframe id=\"igraph\" scrolling=\"no\" style=\"border:none;\"seamless=\"seamless\" src=\"https://plot.ly/~chelsea_lyn/6204.embed\" height=\"525px\" width=\"100%\"></iframe>"
      ],
      "text/plain": [
       "<plotly.tools.PlotlyDisplay object>"
      ]
     },
     "execution_count": 5,
     "metadata": {},
     "output_type": "execute_result"
    }
   ],
   "source": [
    "import plotly.plotly as py\n",
    "from plotly.tools import FigureFactory as FF\n",
    "from plotly.graph_objs import *\n",
    "\n",
    "from datetime import datetime\n",
    "\n",
    "import pandas.io.data as web\n",
    "\n",
    "# Create Candlestick\n",
    "df = web.DataReader(\"aapl\", 'yahoo', datetime(2007, 10, 1), datetime(2008, 3, 31))\n",
    "fig = FF.create_candlestick(df.Open, df.High, df.Low, df.Close, dates=df.index)\n",
    "\n",
    "# Create Line of open values\n",
    "add_line = Scatter(\n",
    "    x=df.index, \n",
    "    y=df.Open, \n",
    "    name= 'Open Vals', \n",
    "    line=Line(color='black')\n",
    "    )\n",
    "\n",
    "fig['data'].extend([add_line])\n",
    "py.iplot(fig, filename='candlestick_and_trace', validate=False)"
   ]
  },
  {
   "cell_type": "markdown",
   "metadata": {},
   "source": [
    "### Reference"
   ]
  },
  {
   "cell_type": "code",
   "execution_count": 6,
   "metadata": {
    "collapsed": false,
    "scrolled": true
   },
   "outputs": [
    {
     "name": "stdout",
     "output_type": "stream",
     "text": [
      "Help on function create_candlestick in module plotly.tools:\n",
      "\n",
      "create_candlestick(open, high, low, close, dates=None, direction='both', **kwargs)\n",
      "    BETA function that creates a candlestick chart\n",
      "    \n",
      "    :param (list) open: opening values\n",
      "    :param (list) high: high values\n",
      "    :param (list) low: low values\n",
      "    :param (list) close: closing values\n",
      "    :param (list) dates: list of datetime objects. Default: None\n",
      "    :param (string) direction: direction can be 'increasing', 'decreasing',\n",
      "        or 'both'. When the direction is 'increasing', the returned figure\n",
      "        consists of all candlesticks where the close value is greater than\n",
      "        the corresponding open value, and when the direction is\n",
      "        'decreasing', the returned figure consists of all candlesticks\n",
      "        where the close value is less than or equal to the corresponding\n",
      "        open value. When the direction is 'both', both increasing and\n",
      "        decreasing candlesticks are returned. Default: 'both'\n",
      "    :param kwargs: kwargs passed through plotly.graph_objs.Scatter.\n",
      "        These kwargs describe other attributes about the ohlc Scatter trace\n",
      "        such as the color or the legend name. For more information on valid\n",
      "        kwargs call help(plotly.graph_objs.Scatter)\n",
      "    \n",
      "    :rtype (dict): returns a representation of candlestick chart figure.\n",
      "    \n",
      "    Example 1: Simple candlestick chart from a Pandas DataFrame\n",
      "    ```\n",
      "    import plotly.plotly as py\n",
      "    from plotly.tools import FigureFactory as FF\n",
      "    from datetime import datetime\n",
      "    \n",
      "    import pandas.io.data as web\n",
      "    \n",
      "    df = web.DataReader(\"aapl\", 'yahoo', datetime(2007, 10, 1), datetime(2009, 4, 1))\n",
      "    fig = FF.create_candlestick(df.Open, df.High, df.Low, df.Close, dates=df.index)\n",
      "    py.plot(fig, filename='finance/aapl-candlestick', validate=False)\n",
      "    ```\n",
      "    \n",
      "    Example 2: Add text and annotations to the candlestick chart\n",
      "    ```\n",
      "    fig = FF.create_candlestick(df.Open, df.High, df.Low, df.Close, dates=df.index)\n",
      "    # Update the fig - all options here: https://plot.ly/python/reference/#Layout\n",
      "    fig['layout'].update({\n",
      "        'title': 'The Great Recession',\n",
      "        'yaxis': {'title': 'AAPL Stock'},\n",
      "        'shapes': [{\n",
      "            'x0': '2007-12-01', 'x1': '2007-12-01',\n",
      "            'y0': 0, 'y1': 1, 'xref': 'x', 'yref': 'paper',\n",
      "            'line': {'color': 'rgb(30,30,30)', 'width': 1}\n",
      "        }],\n",
      "        'annotations': [{\n",
      "            'x': '2007-12-01', 'y': 0.05, 'xref': 'x', 'yref': 'paper',\n",
      "            'showarrow': False, 'xanchor': 'left',\n",
      "            'text': 'Official start of the recession'\n",
      "        }]\n",
      "    })\n",
      "    py.plot(fig, filename='finance/aapl-recession-candlestick', validate=False)\n",
      "    ```\n",
      "    \n",
      "    Example 3: Customize the candlestick colors\n",
      "    ```\n",
      "    import plotly.plotly as py\n",
      "    from plotly.tools import FigureFactory as FF\n",
      "    from plotly.graph_objs import Line, Marker\n",
      "    from datetime import datetime\n",
      "    \n",
      "    import pandas.io.data as web\n",
      "    \n",
      "    df = web.DataReader(\"aapl\", 'yahoo', datetime(2008, 1, 1), datetime(2009, 4, 1))\n",
      "    \n",
      "    # Make increasing candlesticks and customize their color and name\n",
      "    fig_increasing = FF.create_candlestick(df.Open, df.High, df.Low, df.Close, dates=df.index,\n",
      "        direction='increasing', name='AAPL',\n",
      "        marker=Marker(color='rgb(150, 200, 250)'),\n",
      "        line=Line(color='rgb(150, 200, 250)'))\n",
      "    \n",
      "    # Make decreasing candlesticks and customize their color and name\n",
      "    fig_decreasing = FF.create_candlestick(df.Open, df.High, df.Low, df.Close, dates=df.index,\n",
      "        direction='decreasing',\n",
      "        marker=Marker(color='rgb(128, 128, 128)'),\n",
      "        line=Line(color='rgb(128, 128, 128)'))\n",
      "    \n",
      "    # Initialize the figure\n",
      "    fig = fig_increasing\n",
      "    \n",
      "    # Add decreasing data with .extend()\n",
      "    fig['data'].extend(fig_decreasing['data'])\n",
      "    \n",
      "    py.iplot(fig, filename='finance/aapl-candlestick-custom', validate=False)\n",
      "    ```\n",
      "    \n",
      "    Example 4: Candlestick chart with datetime objects\n",
      "    ```\n",
      "    import plotly.plotly as py\n",
      "    from plotly.tools import FigureFactory as FF\n",
      "    \n",
      "    from datetime import datetime\n",
      "    \n",
      "    # Add data\n",
      "    open_data = [33.0, 33.3, 33.5, 33.0, 34.1]\n",
      "    high_data = [33.1, 33.3, 33.6, 33.2, 34.8]\n",
      "    low_data = [32.7, 32.7, 32.8, 32.6, 32.8]\n",
      "    close_data = [33.0, 32.9, 33.3, 33.1, 33.1]\n",
      "    dates = [datetime(year=2013, month=10, day=10),\n",
      "             datetime(year=2013, month=11, day=10),\n",
      "             datetime(year=2013, month=12, day=10),\n",
      "             datetime(year=2014, month=1, day=10),\n",
      "             datetime(year=2014, month=2, day=10)]\n",
      "    \n",
      "    # Create ohlc\n",
      "    fig = FF.create_candlestick(open_data, high_data,\n",
      "        low_data, close_data, dates=dates)\n",
      "    \n",
      "    py.iplot(fig, filename='finance/simple-candlestick', validate=False)\n",
      "    ```\n",
      "\n"
     ]
    }
   ],
   "source": [
    "help(FF.create_candlestick)"
   ]
  },
  {
   "cell_type": "code",
   "execution_count": 9,
   "metadata": {
    "collapsed": false
   },
   "outputs": [
    {
     "data": {
      "text/html": [
       "<link href=\"//fonts.googleapis.com/css?family=Open+Sans:600,400,300,200|Inconsolata|Ubuntu+Mono:400,700\" rel=\"stylesheet\" type=\"text/css\" />"
      ],
      "text/plain": [
       "<IPython.core.display.HTML object>"
      ]
     },
     "metadata": {},
     "output_type": "display_data"
    },
    {
     "data": {
      "text/html": [
       "<link rel=\"stylesheet\" type=\"text/css\" href=\"http://help.plot.ly/documentation/all_static/css/ipython-notebook-custom.css\">"
      ],
      "text/plain": [
       "<IPython.core.display.HTML object>"
      ]
     },
     "metadata": {},
     "output_type": "display_data"
    },
    {
     "name": "stdout",
     "output_type": "stream",
     "text": [
      "Requirement already up-to-date: publisher in /Users/Chelsea/venv2.7/lib/python2.7/site-packages\r\n"
     ]
    },
    {
     "name": "stderr",
     "output_type": "stream",
     "text": [
      "/Users/Chelsea/venv2.7/lib/python2.7/site-packages/publisher/publisher.py:54: UserWarning:\n",
      "\n",
      "Did you \"Save\" this notebook before running this command? Remember to save, always save.\n",
      "\n"
     ]
    }
   ],
   "source": [
    "from IPython.display import display, HTML\n",
    "\n",
    "display(HTML('<link href=\"//fonts.googleapis.com/css?family=Open+Sans:600,400,300,200|Inconsolata|Ubuntu+Mono:400,700\" rel=\"stylesheet\" type=\"text/css\" />'))\n",
    "display(HTML('<link rel=\"stylesheet\" type=\"text/css\" href=\"http://help.plot.ly/documentation/all_static/css/ipython-notebook-custom.css\">'))\n",
    "\n",
    "! pip install publisher --upgrade\n",
    "import publisher\n",
    "publisher.publish(\n",
    "    'candlestick-charts.ipynb', 'python/candlestick-charts', 'Candlestick Charts',\n",
    "    'How to make interactive candlestick charts in Python with Plotly. '\n",
    "    'Six examples of candlestick charts with Pandas, time series, and yahoo finance data.',\n",
    "    title = 'Python Candlestick Charts | plotly',\n",
    "    thumbnail='/images/candlestick.png', language='python',\n",
    "    page_type='example_index', has_thumbnail='true', display_as='chart_type', order=26)"
   ]
  },
  {
   "cell_type": "code",
   "execution_count": null,
   "metadata": {
    "collapsed": true
   },
   "outputs": [],
   "source": []
  }
 ],
 "metadata": {
  "kernelspec": {
   "display_name": "Python 2",
   "language": "python",
   "name": "python2"
  },
  "language_info": {
   "codemirror_mode": {
    "name": "ipython",
    "version": 2
   },
   "file_extension": ".py",
   "mimetype": "text/x-python",
   "name": "python",
   "nbconvert_exporter": "python",
   "pygments_lexer": "ipython2",
   "version": "2.7.9"
  }
 },
 "nbformat": 4,
 "nbformat_minor": 0
}
