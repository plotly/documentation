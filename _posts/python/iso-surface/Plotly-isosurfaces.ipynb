{
 "cells": [
  {
   "cell_type": "markdown",
   "metadata": {},
   "source": [
    "#### New to Plotly?\n",
    "Plotly's Python library is free and open source! [Get started](https://plot.ly/python/getting-started/) by downloading the client and [reading the primer](https://plot.ly/python/getting-started/).\n",
    "<br>You can set up Plotly to work in [online](https://plot.ly/python/getting-started/#initialization-for-online-plotting) or [offline](https://plot.ly/python/getting-started/#initialization-for-offline-plotting) mode, or in [jupyter notebooks](https://plot.ly/python/getting-started/#start-plotting-online).\n",
    "<br>We also have a quick-reference [cheatsheet](https://images.plot.ly/plotly-documentation/images/python_cheat_sheet.pdf) (new!) to help you get started!"
   ]
  },
  {
   "cell_type": "markdown",
   "metadata": {},
   "source": [
    "#### Plotly Isosurfaces Defined as Trisurfs\n",
    "A surface, `F(x,y,z) = c` is discretized by a triangular mesh, extracted  by the  [Marching cubes algorithm](http://scikit-image.org/docs/dev/auto_examples/edges/plot_marching_cubes.html) from  a volume given as a \n",
    "(M, N, P) array of doubles.\n",
    "<br>The scikit image function, `measure.marching_cubes(F, c)` returns the vertices and simplices of the triangulated surface. \n",
    "\n",
    "First, define a grid within the parallelepiped [-2,2] x [-2,2] x [-2,2], and give the function F, defining a surface\n",
    "of equation F(x,y,z) = 0:"
   ]
  },
  {
   "cell_type": "code",
   "execution_count": 3,
   "metadata": {
    "collapsed": false
   },
   "outputs": [],
   "source": [
    "import plotly.plotly as py\n",
    "from plotly.graph_objs import *\n",
    "from plotly.tools import FigureFactory as FF\n",
    "\n",
    "import numpy as np\n",
    "from skimage import measure\n",
    "\n",
    "X,Y,Z = np.mgrid[-2:2:40j, -2:2:40j, -2:2:40j]\n",
    "surf_eq = X**4 + Y**4 + Z**4 - (X**2+Y**2+Z**2)**2 + 3*(X**2+Y**2+Z**2) - 3   "
   ]
  },
  {
   "cell_type": "markdown",
   "metadata": {},
   "source": [
    "#### Triangulate the Given Surface:"
   ]
  },
  {
   "cell_type": "code",
   "execution_count": 4,
   "metadata": {
    "collapsed": false
   },
   "outputs": [],
   "source": [
    "vertices, simplices = measure.marching_cubes(surf_eq, 0)\n",
    "x,y,z = zip(*vertices)  "
   ]
  },
  {
   "cell_type": "markdown",
   "metadata": {},
   "source": [
    "#### Color According to a colormap and Plot:"
   ]
  },
  {
   "cell_type": "code",
   "execution_count": 5,
   "metadata": {
    "collapsed": false
   },
   "outputs": [
    {
     "data": {
      "text/html": [
       "<iframe id=\"igraph\" scrolling=\"no\" style=\"border:none;\" seamless=\"seamless\" src=\"https://plot.ly/~chelsea_lyn/12046.embed\" height=\"800px\" width=\"800px\"></iframe>"
      ],
      "text/plain": [
       "<plotly.tools.PlotlyDisplay object>"
      ]
     },
     "execution_count": 5,
     "metadata": {},
     "output_type": "execute_result"
    }
   ],
   "source": [
    "colormap=['rgb(255,105,180)','rgb(255,255,51)','rgb(0,191,255)']\n",
    "fig = FF.create_trisurf(x=x,\n",
    "                        y=y, \n",
    "                        z=z, \n",
    "                        plot_edges=False,\n",
    "                        colormap=colormap,\n",
    "                        simplices=simplices,\n",
    "                        title=\"Isosurface\")\n",
    "py.iplot(fig)"
   ]
  },
  {
   "cell_type": "markdown",
   "metadata": {},
   "source": [
    "#### Reference"
   ]
  },
  {
   "cell_type": "code",
   "execution_count": 6,
   "metadata": {
    "collapsed": false
   },
   "outputs": [
    {
     "name": "stdout",
     "output_type": "stream",
     "text": [
      "Help on function create_trisurf in module plotly.tools:\n",
      "\n",
      "create_trisurf(x, y, z, simplices, colormap=None, color_func=None, title='Trisurf Plot', plot_edges=True, showbackground=True, backgroundcolor='rgb(230, 230, 230)', gridcolor='rgb(255, 255, 255)', zerolinecolor='rgb(255, 255, 255)', height=800, width=800, aspectratio={'x': 1, 'y': 1, 'z': 1})\n",
      "    Returns figure for a triangulated surface plot\n",
      "    \n",
      "    :param (array) x: data values of x in a 1D array\n",
      "    :param (array) y: data values of y in a 1D array\n",
      "    :param (array) z: data values of z in a 1D array\n",
      "    :param (array) simplices: an array of shape (ntri, 3) where ntri is\n",
      "        the number of triangles in the triangularization. Each row of the\n",
      "        array contains the indicies of the verticies of each triangle\n",
      "    :param (str|tuple|list) colormap: either a plotly scale name, an rgb\n",
      "        or hex color, a color tuple or a list of colors. An rgb color is\n",
      "        of the form 'rgb(x, y, z)' where x, y, z belong to the interval\n",
      "        [0, 255] and a color tuple is a tuple of the form (a, b, c) where\n",
      "        a, b and c belong to [0, 1]. If colormap is a list, it must\n",
      "        contain the valid color types aforementioned as its members.\n",
      "    :param (function|list) color_func: The parameter that determines the\n",
      "        coloring of the surface. Takes either a function with 3 arguments\n",
      "        x, y, z or a list/array of color values the same length as\n",
      "        simplices. If set to None, color will only depend on the z axis\n",
      "    :param (str) title: title of the plot\n",
      "    :param (bool) plot_edges: determines if the triangles on the trisurf\n",
      "        are visible\n",
      "    :param (bool) showbackground: makes background in plot visible\n",
      "    :param (str) backgroundcolor: color of background. Takes a string of\n",
      "        the form 'rgb(x,y,z)' x,y,z are between 0 and 255 inclusive\n",
      "    :param (str) gridcolor: color of the gridlines besides the axes. Takes\n",
      "        a string of the form 'rgb(x,y,z)' x,y,z are between 0 and 255\n",
      "        inclusive\n",
      "    :param (str) zerolinecolor: color of the axes. Takes a string of the\n",
      "        form 'rgb(x,y,z)' x,y,z are between 0 and 255 inclusive\n",
      "    :param (int|float) height: the height of the plot (in pixels)\n",
      "    :param (int|float) width: the width of the plot (in pixels)\n",
      "    :param (dict) aspectratio: a dictionary of the aspect ratio values for\n",
      "        the x, y and z axes. 'x', 'y' and 'z' take (int|float) values\n",
      "    \n",
      "    Example 1: Sphere\n",
      "    ```\n",
      "    # Necessary Imports for Trisurf\n",
      "    import numpy as np\n",
      "    from scipy.spatial import Delaunay\n",
      "    \n",
      "    import plotly.plotly as py\n",
      "    from plotly.tools import FigureFactory as FF\n",
      "    from plotly.graph_objs import graph_objs\n",
      "    \n",
      "    # Make data for plot\n",
      "    u = np.linspace(0, 2*np.pi, 20)\n",
      "    v = np.linspace(0, np.pi, 20)\n",
      "    u,v = np.meshgrid(u,v)\n",
      "    u = u.flatten()\n",
      "    v = v.flatten()\n",
      "    \n",
      "    x = np.sin(v)*np.cos(u)\n",
      "    y = np.sin(v)*np.sin(u)\n",
      "    z = np.cos(v)\n",
      "    \n",
      "    points2D = np.vstack([u,v]).T\n",
      "    tri = Delaunay(points2D)\n",
      "    simplices = tri.simplices\n",
      "    \n",
      "    # Create a figure\n",
      "    fig1 = FF.create_trisurf(x=x, y=y, z=z,\n",
      "                             colormap=\"Blues\",\n",
      "                             simplices=simplices)\n",
      "    # Plot the data\n",
      "    py.iplot(fig1, filename='Trisurf Plot - Sphere')\n",
      "    ```\n",
      "    \n",
      "    Example 2: Torus\n",
      "    ```\n",
      "    # Necessary Imports for Trisurf\n",
      "    import numpy as np\n",
      "    from scipy.spatial import Delaunay\n",
      "    \n",
      "    import plotly.plotly as py\n",
      "    from plotly.tools import FigureFactory as FF\n",
      "    from plotly.graph_objs import graph_objs\n",
      "    \n",
      "    # Make data for plot\n",
      "    u = np.linspace(0, 2*np.pi, 20)\n",
      "    v = np.linspace(0, 2*np.pi, 20)\n",
      "    u,v = np.meshgrid(u,v)\n",
      "    u = u.flatten()\n",
      "    v = v.flatten()\n",
      "    \n",
      "    x = (3 + (np.cos(v)))*np.cos(u)\n",
      "    y = (3 + (np.cos(v)))*np.sin(u)\n",
      "    z = np.sin(v)\n",
      "    \n",
      "    points2D = np.vstack([u,v]).T\n",
      "    tri = Delaunay(points2D)\n",
      "    simplices = tri.simplices\n",
      "    \n",
      "    # Create a figure\n",
      "    fig1 = FF.create_trisurf(x=x, y=y, z=z,\n",
      "                             colormap=\"Portland\",\n",
      "                             simplices=simplices)\n",
      "    # Plot the data\n",
      "    py.iplot(fig1, filename='Trisurf Plot - Torus')\n",
      "    ```\n",
      "    \n",
      "    Example 3: Mobius Band\n",
      "    ```\n",
      "    # Necessary Imports for Trisurf\n",
      "    import numpy as np\n",
      "    from scipy.spatial import Delaunay\n",
      "    \n",
      "    import plotly.plotly as py\n",
      "    from plotly.tools import FigureFactory as FF\n",
      "    from plotly.graph_objs import graph_objs\n",
      "    \n",
      "    # Make data for plot\n",
      "    u = np.linspace(0, 2*np.pi, 24)\n",
      "    v = np.linspace(-1, 1, 8)\n",
      "    u,v = np.meshgrid(u,v)\n",
      "    u = u.flatten()\n",
      "    v = v.flatten()\n",
      "    \n",
      "    tp = 1 + 0.5*v*np.cos(u/2.)\n",
      "    x = tp*np.cos(u)\n",
      "    y = tp*np.sin(u)\n",
      "    z = 0.5*v*np.sin(u/2.)\n",
      "    \n",
      "    points2D = np.vstack([u,v]).T\n",
      "    tri = Delaunay(points2D)\n",
      "    simplices = tri.simplices\n",
      "    \n",
      "    # Create a figure\n",
      "    fig1 = FF.create_trisurf(x=x, y=y, z=z,\n",
      "                             colormap=[(0.2, 0.4, 0.6),(1, 1, 1)],\n",
      "                             simplices=simplices)\n",
      "    # Plot the data\n",
      "    py.iplot(fig1, filename='Trisurf Plot - Mobius Band')\n",
      "    ```\n",
      "    \n",
      "    Example 4: Using a Custom Colormap Function with Light Cone\n",
      "    ```\n",
      "    # Necessary Imports for Trisurf\n",
      "    import numpy as np\n",
      "    from scipy.spatial import Delaunay\n",
      "    \n",
      "    import plotly.plotly as py\n",
      "    from plotly.tools import FigureFactory as FF\n",
      "    from plotly.graph_objs import graph_objs\n",
      "    \n",
      "    # Make data for plot\n",
      "    u=np.linspace(-np.pi, np.pi, 30)\n",
      "    v=np.linspace(-np.pi, np.pi, 30)\n",
      "    u,v=np.meshgrid(u,v)\n",
      "    u=u.flatten()\n",
      "    v=v.flatten()\n",
      "    \n",
      "    x = u\n",
      "    y = u*np.cos(v)\n",
      "    z = u*np.sin(v)\n",
      "    \n",
      "    points2D = np.vstack([u,v]).T\n",
      "    tri = Delaunay(points2D)\n",
      "    simplices = tri.simplices\n",
      "    \n",
      "    # Define distance function\n",
      "    def dist_origin(x, y, z):\n",
      "        return np.sqrt((1.0 * x)**2 + (1.0 * y)**2 + (1.0 * z)**2)\n",
      "    \n",
      "    # Create a figure\n",
      "    fig1 = FF.create_trisurf(x=x, y=y, z=z,\n",
      "                             colormap=['#604d9e',\n",
      "                                       'rgb(50, 150, 255)',\n",
      "                                       (0.2, 0.2, 0.8)],\n",
      "                             simplices=simplices,\n",
      "                             color_func=dist_origin)\n",
      "    # Plot the data\n",
      "    py.iplot(fig1, filename='Trisurf Plot - Custom Coloring')\n",
      "    ```\n",
      "    \n",
      "    Example 5: Enter color_func as a list of colors\n",
      "    ```\n",
      "    # Necessary Imports for Trisurf\n",
      "    import numpy as np\n",
      "    from scipy.spatial import Delaunay\n",
      "    import random\n",
      "    \n",
      "    import plotly.plotly as py\n",
      "    from plotly.tools import FigureFactory as FF\n",
      "    from plotly.graph_objs import graph_objs\n",
      "    \n",
      "    # Make data for plot\n",
      "    u=np.linspace(-np.pi, np.pi, 30)\n",
      "    v=np.linspace(-np.pi, np.pi, 30)\n",
      "    u,v=np.meshgrid(u,v)\n",
      "    u=u.flatten()\n",
      "    v=v.flatten()\n",
      "    \n",
      "    x = u\n",
      "    y = u*np.cos(v)\n",
      "    z = u*np.sin(v)\n",
      "    \n",
      "    points2D = np.vstack([u,v]).T\n",
      "    tri = Delaunay(points2D)\n",
      "    simplices = tri.simplices\n",
      "    \n",
      "    \n",
      "    colors = []\n",
      "    color_choices = ['rgb(0, 0, 0)', '#6c4774', '#d6c7dd']\n",
      "    \n",
      "    for index in range(len(simplices)):\n",
      "        colors.append(random.choice(color_choices))\n",
      "    \n",
      "    fig = FF.create_trisurf(\n",
      "        x, y, z, simplices,\n",
      "        color_func=colors,\n",
      "        title=' Modern Art'\n",
      "    )\n",
      "    \n",
      "    py.iplot(fig, filename=\"Modern Art\")\n",
      "    ```\n",
      "\n"
     ]
    }
   ],
   "source": [
    "help(FF.create_trisurf)"
   ]
  },
  {
   "cell_type": "code",
   "execution_count": 8,
   "metadata": {
    "collapsed": false
   },
   "outputs": [
    {
     "data": {
      "text/html": [
       "<link href=\"//fonts.googleapis.com/css?family=Open+Sans:600,400,300,200|Inconsolata|Ubuntu+Mono:400,700\" rel=\"stylesheet\" type=\"text/css\" />"
      ],
      "text/plain": [
       "<IPython.core.display.HTML object>"
      ]
     },
     "metadata": {},
     "output_type": "display_data"
    },
    {
     "data": {
      "text/html": [
       "<link rel=\"stylesheet\" type=\"text/css\" href=\"http://help.plot.ly/documentation/all_static/css/ipython-notebook-custom.css\">"
      ],
      "text/plain": [
       "<IPython.core.display.HTML object>"
      ]
     },
     "metadata": {},
     "output_type": "display_data"
    },
    {
     "name": "stdout",
     "output_type": "stream",
     "text": [
      "Collecting git+https://github.com/plotly/publisher.git\n",
      "  Cloning https://github.com/plotly/publisher.git to /var/folders/72/g6h98xwx0h1gp4kc8rzhsdh80000gn/T/pip-uCZ023-build\n",
      "Installing collected packages: publisher\n",
      "  Found existing installation: publisher 0.10\n",
      "    Uninstalling publisher-0.10:\n",
      "      Successfully uninstalled publisher-0.10\n",
      "  Running setup.py install for publisher ... \u001b[?25l-\b \bdone\n",
      "\u001b[?25hSuccessfully installed publisher-0.10\n",
      "\u001b[33mYou are using pip version 8.0.3, however version 8.1.2 is available.\n",
      "You should consider upgrading via the 'pip install --upgrade pip' command.\u001b[0m\n"
     ]
    }
   ],
   "source": [
    "from IPython.display import display, HTML\n",
    "\n",
    "display(HTML('<link href=\"//fonts.googleapis.com/css?family=Open+Sans:600,400,300,200|Inconsolata|Ubuntu+Mono:400,700\" rel=\"stylesheet\" type=\"text/css\" />'))\n",
    "display(HTML('<link rel=\"stylesheet\" type=\"text/css\" href=\"http://help.plot.ly/documentation/all_static/css/ipython-notebook-custom.css\">'))\n",
    "\n",
    "! pip install git+https://github.com/plotly/publisher.git --upgrade\n",
    "    \n",
    "import publisher\n",
    "publisher.publish(\n",
    "    'Plotly-isosurfaces.ipynb', 'python/isosurfaces-with-marching-cubes/', 'Iso Surface | plotly',\n",
    "    'How to make Iso Surface in Python with Plotly.',\n",
    "    title = 'Python Iso Surface | plotly',\n",
    "    name = 'Iso Surface',\n",
    "    has_thumbnail='true', thumbnail='thumbnail/isosurface.jpg', \n",
    "    language='python', page_type='example_index',\n",
    "    display_as='3d_charts', order=12)  "
   ]
  },
  {
   "cell_type": "code",
   "execution_count": null,
   "metadata": {
    "collapsed": true
   },
   "outputs": [],
   "source": []
  }
 ],
 "metadata": {
  "kernelspec": {
   "display_name": "Python 2",
   "language": "python",
   "name": "python2"
  },
  "language_info": {
   "codemirror_mode": {
    "name": "ipython",
    "version": 2
   },
   "file_extension": ".py",
   "mimetype": "text/x-python",
   "name": "python",
   "nbconvert_exporter": "python",
   "pygments_lexer": "ipython2",
   "version": "2.7.11"
  }
 },
 "nbformat": 4,
 "nbformat_minor": 0
}
