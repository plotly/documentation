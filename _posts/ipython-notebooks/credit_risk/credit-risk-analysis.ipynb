{
 "cells": [
  {
   "cell_type": "markdown",
   "metadata": {},
   "source": [
    "# Predicting Credit Risk with Python and Plotly"
   ]
  },
  {
   "cell_type": "markdown",
   "metadata": {},
   "source": [
    "## Random Forests using Python and sci-kit learn"
   ]
  },
  {
   "cell_type": "markdown",
   "metadata": {},
   "source": [
    "The objective of this notebook series is to simulate an analytical workflow between several team members using [Python](https://www.python.org/) and [R](http://www.r-project.org/). The data for this notebook is part of a [Kaggle competition](https://www.kaggle.com/c/GiveMeSomeCredit) released three years ago. The objective is to predict the probability of credit & loan default from a large set of real customer data. The evaluate metric used in the competition was [AUC](https://www.kaggle.com/wiki/AreaUnderCurve). A perfect model will score an AUC of 1, while random guessing will score an AUC of around 0.5, a meager 50% chance. \n",
    "\n",
    "> This competition requires participants to improve on the state of the art in credit scoring, by predicting the probability that somebody will experience financial distress in the next two years. The goal of this competition is to build a model that borrowers can use to help make the best financial decisions. Historical data are provided on 250,000 borrowers and the prize pool is $5,000.\n",
    "\n",
    "The top score for the competition was 0.869558, which we will try to match! However, it will be challenging since some of the data from the competition is no longer available.\n",
    "\n",
    "[Plotly](https://plot.ly) is a platform for making interactive graphs with R, Python, MATLAB, and Excel. In this notebook series, [Plotly](https://plot.ly) can serve as a sharing platform for data, visualizations, and results between analysts, management, and executives on Plotly’s free public cloud. For collaboration and sensitive data, you can run Plotly [on your own servers](https://plot.ly/product/enterprise/ ).\n",
    "\n",
    "Need help converting [Plotly](https://plot.ly) graphs from R or Python?\n",
    "- [R](https://plot.ly/r/user-guide/)\n",
    "- [Python](https://plot.ly/python/matplotlib-to-plotly-tutorial/)\n",
    "\n",
    "**This is the second notebook in the series**\n",
    "\n",
    "- The [first notebook]() explores, cleans, and generates new features for the data.\n",
    "- The [second notebook]() tests and optimized the [Random Forest](http://scikit-learn.org/stable/modules/generated/sklearn.ensemble.RandomForestClassifier.html) model using [Plotly](https://plot.ly) and Python.\n",
    "<hr>\n",
    "\n",
    "For this code to run on your machine, you will need to:\n",
    "\n",
    "- Install some Python libraries: Running `sudo pip install <package_name>` from your terminal will install python libraries.\n",
    "\n",
    "- Register an account with [Plotly](https://plot.ly/feed/) to receive your API key. \n",
    "\n",
    "- Download the data for this notebook on the [kaggle website](https://www.kaggle.com/c/GiveMeSomeCredit)."
   ]
  },
  {
   "cell_type": "markdown",
   "metadata": {},
   "source": [
    "<h1 id=\"tocheading\">Table of Contents</h1>\n",
    "<div id=\"toc\"></div>\n",
    "<script src=\"https://kmahelona.github.io/ipython_notebook_goodies/ipython_notebook_toc.js\"></script>"
   ]
  },
  {
   "cell_type": "markdown",
   "metadata": {},
   "source": [
    "In this notebook we will train a [Random Forest](http://scikit-learn.org/stable/modules/generated/sklearn.ensemble.RandomForestClassifier.html) model in Python using [sci-kit learn](http://scikit-learn.org/stable/) and finely tune the parameters to improve our previous results. \n"
   ]
  },
  {
   "cell_type": "markdown",
   "metadata": {},
   "source": [
    "In the [previous notebook] we:\n",
    "\n",
    "1. Created over 40 new features by insightfully combining and transforming existing features\n",
    "2. Dealt with missing values\n",
    "3. Standardized the data\n",
    "\n"
   ]
  },
  {
   "cell_type": "markdown",
   "metadata": {},
   "source": [
    "Now we can simply load in this data and get right to modelling. Please see the [previous notebook] for the full details. Below we will summarize the data to give you an idea of the features we created."
   ]
  },
  {
   "cell_type": "markdown",
   "metadata": {},
   "source": [
    "## Load libraries and data"
   ]
  },
  {
   "cell_type": "code",
   "execution_count": 1,
   "metadata": {
    "collapsed": false
   },
   "outputs": [],
   "source": [
    "import pandas as pd\n",
    "import cufflinks as cf\n",
    "import numpy as np\n",
    "import matplotlib.pyplot as plt"
   ]
  },
  {
   "cell_type": "markdown",
   "metadata": {},
   "source": [
    "Here are the original features given to us from the Kaggle competition."
   ]
  },
  {
   "cell_type": "code",
   "execution_count": 2,
   "metadata": {
    "collapsed": false
   },
   "outputs": [
    {
     "data": {
      "text/html": [
       "<div>\n",
       "<table border=\"1\" class=\"dataframe\">\n",
       "  <thead>\n",
       "    <tr style=\"text-align: right;\">\n",
       "      <th></th>\n",
       "      <th>Variable Name</th>\n",
       "      <th>Description</th>\n",
       "    </tr>\n",
       "  </thead>\n",
       "  <tbody>\n",
       "    <tr>\n",
       "      <th>0</th>\n",
       "      <td>SeriousDlqin2yrs</td>\n",
       "      <td>Person experienced 90 days past due delinquenc...</td>\n",
       "    </tr>\n",
       "    <tr>\n",
       "      <th>1</th>\n",
       "      <td>RevolvingUtilizationOfUnsecuredLines</td>\n",
       "      <td>Total balance on credit cards and personal lin...</td>\n",
       "    </tr>\n",
       "    <tr>\n",
       "      <th>2</th>\n",
       "      <td>age</td>\n",
       "      <td>Age of borrower in years</td>\n",
       "    </tr>\n",
       "    <tr>\n",
       "      <th>3</th>\n",
       "      <td>NumberOfTime30-59DaysPastDueNotWorse</td>\n",
       "      <td>Number of times borrower has been 30-59 days p...</td>\n",
       "    </tr>\n",
       "    <tr>\n",
       "      <th>4</th>\n",
       "      <td>DebtRatio</td>\n",
       "      <td>Monthly debt payments, alimony,living costs di...</td>\n",
       "    </tr>\n",
       "    <tr>\n",
       "      <th>5</th>\n",
       "      <td>MonthlyIncome</td>\n",
       "      <td>Monthly income</td>\n",
       "    </tr>\n",
       "    <tr>\n",
       "      <th>6</th>\n",
       "      <td>NumberOfOpenCreditLinesAndLoans</td>\n",
       "      <td>Number of Open loans (installment like car loa...</td>\n",
       "    </tr>\n",
       "    <tr>\n",
       "      <th>7</th>\n",
       "      <td>NumberOfTimes90DaysLate</td>\n",
       "      <td>Number of times borrower has been 90 days or m...</td>\n",
       "    </tr>\n",
       "    <tr>\n",
       "      <th>8</th>\n",
       "      <td>NumberRealEstateLoansOrLines</td>\n",
       "      <td>Number of mortgage and real estate loans inclu...</td>\n",
       "    </tr>\n",
       "    <tr>\n",
       "      <th>9</th>\n",
       "      <td>NumberOfTime60-89DaysPastDueNotWorse</td>\n",
       "      <td>Number of times borrower has been 60-89 days p...</td>\n",
       "    </tr>\n",
       "    <tr>\n",
       "      <th>10</th>\n",
       "      <td>NumberOfDependents</td>\n",
       "      <td>Number of dependents in family excluding thems...</td>\n",
       "    </tr>\n",
       "  </tbody>\n",
       "</table>\n",
       "</div>"
      ],
      "text/plain": [
       "                           Variable Name  \\\n",
       "0                       SeriousDlqin2yrs   \n",
       "1   RevolvingUtilizationOfUnsecuredLines   \n",
       "2                                    age   \n",
       "3   NumberOfTime30-59DaysPastDueNotWorse   \n",
       "4                              DebtRatio   \n",
       "5                          MonthlyIncome   \n",
       "6        NumberOfOpenCreditLinesAndLoans   \n",
       "7                NumberOfTimes90DaysLate   \n",
       "8           NumberRealEstateLoansOrLines   \n",
       "9   NumberOfTime60-89DaysPastDueNotWorse   \n",
       "10                    NumberOfDependents   \n",
       "\n",
       "                                          Description  \n",
       "0   Person experienced 90 days past due delinquenc...  \n",
       "1   Total balance on credit cards and personal lin...  \n",
       "2                            Age of borrower in years  \n",
       "3   Number of times borrower has been 30-59 days p...  \n",
       "4   Monthly debt payments, alimony,living costs di...  \n",
       "5                                      Monthly income  \n",
       "6   Number of Open loans (installment like car loa...  \n",
       "7   Number of times borrower has been 90 days or m...  \n",
       "8   Number of mortgage and real estate loans inclu...  \n",
       "9   Number of times borrower has been 60-89 days p...  \n",
       "10  Number of dependents in family excluding thems...  "
      ]
     },
     "execution_count": 2,
     "metadata": {},
     "output_type": "execute_result"
    }
   ],
   "source": [
    "# Reminder of original feature definitions.\n",
    "data_dict = pd.read_csv('https://github.com/plotly/datasets/raw/master/data_dictionary.csv')\n",
    "data_dict.iloc[ : , 0:2]"
   ]
  },
  {
   "cell_type": "markdown",
   "metadata": {},
   "source": [
    "Below are the new features we derived using our intuition about the dataset."
   ]
  },
  {
   "cell_type": "code",
   "execution_count": 3,
   "metadata": {
    "collapsed": false
   },
   "outputs": [
    {
     "data": {
      "text/html": [
       "<div>\n",
       "<table border=\"1\" class=\"dataframe\">\n",
       "  <thead>\n",
       "    <tr style=\"text-align: right;\">\n",
       "      <th></th>\n",
       "      <th>0</th>\n",
       "    </tr>\n",
       "  </thead>\n",
       "  <tbody>\n",
       "    <tr>\n",
       "      <th>0</th>\n",
       "      <td>NumberOfOpenCreditLinesAndLoans</td>\n",
       "    </tr>\n",
       "    <tr>\n",
       "      <th>1</th>\n",
       "      <td>log_age</td>\n",
       "    </tr>\n",
       "    <tr>\n",
       "      <th>2</th>\n",
       "      <td>log_income</td>\n",
       "    </tr>\n",
       "    <tr>\n",
       "      <th>3</th>\n",
       "      <td>log_income_person</td>\n",
       "    </tr>\n",
       "    <tr>\n",
       "      <th>4</th>\n",
       "      <td>log_income_age</td>\n",
       "    </tr>\n",
       "    <tr>\n",
       "      <th>5</th>\n",
       "      <td>UnknownIncomeDebtRatio</td>\n",
       "    </tr>\n",
       "    <tr>\n",
       "      <th>6</th>\n",
       "      <td>log_Debt</td>\n",
       "    </tr>\n",
       "    <tr>\n",
       "      <th>7</th>\n",
       "      <td>log_DebtRatio</td>\n",
       "    </tr>\n",
       "    <tr>\n",
       "      <th>8</th>\n",
       "      <td>log_HouseholdSize</td>\n",
       "    </tr>\n",
       "    <tr>\n",
       "      <th>9</th>\n",
       "      <td>log_NumberOfTimes90DaysLate</td>\n",
       "    </tr>\n",
       "    <tr>\n",
       "      <th>10</th>\n",
       "      <td>log_NumberOfTime60.89DaysPastDueNotWorse</td>\n",
       "    </tr>\n",
       "    <tr>\n",
       "      <th>11</th>\n",
       "      <td>log_NumberOfTime30.59DaysPastDueNotWorse</td>\n",
       "    </tr>\n",
       "    <tr>\n",
       "      <th>12</th>\n",
       "      <td>NumberOfTimesPastDue</td>\n",
       "    </tr>\n",
       "    <tr>\n",
       "      <th>13</th>\n",
       "      <td>NumberOfTime30.89DaysPastDueNotWorse</td>\n",
       "    </tr>\n",
       "    <tr>\n",
       "      <th>14</th>\n",
       "      <td>Extreme_RevolvingUtilization</td>\n",
       "    </tr>\n",
       "    <tr>\n",
       "      <th>15</th>\n",
       "      <td>log_RevolvingUtilizationOfUnsecuredLines</td>\n",
       "    </tr>\n",
       "    <tr>\n",
       "      <th>16</th>\n",
       "      <td>log_NumberOfOpenCreditLinesAndLoans</td>\n",
       "    </tr>\n",
       "    <tr>\n",
       "      <th>17</th>\n",
       "      <td>log_NumberOfOpenCreditLinesAndLoansPerPerson</td>\n",
       "    </tr>\n",
       "    <tr>\n",
       "      <th>18</th>\n",
       "      <td>DelinquenciesPerLine</td>\n",
       "    </tr>\n",
       "    <tr>\n",
       "      <th>19</th>\n",
       "      <td>MajorDelinquenciesPerLine</td>\n",
       "    </tr>\n",
       "    <tr>\n",
       "      <th>20</th>\n",
       "      <td>MinorDelinquenciesPerLine</td>\n",
       "    </tr>\n",
       "    <tr>\n",
       "      <th>21</th>\n",
       "      <td>RevolvingLines</td>\n",
       "    </tr>\n",
       "    <tr>\n",
       "      <th>22</th>\n",
       "      <td>RealEstateLoansPerPerson</td>\n",
       "    </tr>\n",
       "    <tr>\n",
       "      <th>23</th>\n",
       "      <td>log_NumberRealEstateLoansOrLines</td>\n",
       "    </tr>\n",
       "    <tr>\n",
       "      <th>24</th>\n",
       "      <td>DisposableIncome</td>\n",
       "    </tr>\n",
       "    <tr>\n",
       "      <th>25</th>\n",
       "      <td>SeriousDlqin2yrs</td>\n",
       "    </tr>\n",
       "    <tr>\n",
       "      <th>26</th>\n",
       "      <td>UnknownIncome</td>\n",
       "    </tr>\n",
       "    <tr>\n",
       "      <th>27</th>\n",
       "      <td>NoIncome</td>\n",
       "    </tr>\n",
       "    <tr>\n",
       "      <th>28</th>\n",
       "      <td>Income_100</td>\n",
       "    </tr>\n",
       "    <tr>\n",
       "      <th>29</th>\n",
       "      <td>Income_1000</td>\n",
       "    </tr>\n",
       "    <tr>\n",
       "      <th>30</th>\n",
       "      <td>Income_5000</td>\n",
       "    </tr>\n",
       "    <tr>\n",
       "      <th>31</th>\n",
       "      <td>ZeroDebtRatio</td>\n",
       "    </tr>\n",
       "    <tr>\n",
       "      <th>32</th>\n",
       "      <td>DTIOver33</td>\n",
       "    </tr>\n",
       "    <tr>\n",
       "      <th>33</th>\n",
       "      <td>DTIOver43</td>\n",
       "    </tr>\n",
       "    <tr>\n",
       "      <th>34</th>\n",
       "      <td>UnknownNumberOfDependents</td>\n",
       "    </tr>\n",
       "    <tr>\n",
       "      <th>35</th>\n",
       "      <td>NoDependents</td>\n",
       "    </tr>\n",
       "    <tr>\n",
       "      <th>36</th>\n",
       "      <td>Has.Dependents</td>\n",
       "    </tr>\n",
       "    <tr>\n",
       "      <th>37</th>\n",
       "      <td>NumberOfTimes90DaysLateLarge</td>\n",
       "    </tr>\n",
       "    <tr>\n",
       "      <th>38</th>\n",
       "      <td>NumberOfTimes90DaysLate96</td>\n",
       "    </tr>\n",
       "    <tr>\n",
       "      <th>39</th>\n",
       "      <td>NumberOfTimes90DaysLate98</td>\n",
       "    </tr>\n",
       "    <tr>\n",
       "      <th>40</th>\n",
       "      <td>Never90DaysLate</td>\n",
       "    </tr>\n",
       "    <tr>\n",
       "      <th>41</th>\n",
       "      <td>NumberOfTime60.89DaysPastDueNotWorseLarge</td>\n",
       "    </tr>\n",
       "    <tr>\n",
       "      <th>42</th>\n",
       "      <td>NumberOfTime60.89DaysPastDueNotWorse96</td>\n",
       "    </tr>\n",
       "    <tr>\n",
       "      <th>43</th>\n",
       "      <td>NumberOfTime60.89DaysPastDueNotWorse98</td>\n",
       "    </tr>\n",
       "    <tr>\n",
       "      <th>44</th>\n",
       "      <td>Never60.89DaysPastDueNotWorse</td>\n",
       "    </tr>\n",
       "    <tr>\n",
       "      <th>45</th>\n",
       "      <td>NumberOfTime30.59DaysPastDueNotWorseLarge</td>\n",
       "    </tr>\n",
       "    <tr>\n",
       "      <th>46</th>\n",
       "      <td>NumberOfTime30.59DaysPastDueNotWorse96</td>\n",
       "    </tr>\n",
       "    <tr>\n",
       "      <th>47</th>\n",
       "      <td>NumberOfTime30.59DaysPastDueNotWorse98</td>\n",
       "    </tr>\n",
       "    <tr>\n",
       "      <th>48</th>\n",
       "      <td>Never30.59DaysPastDueNotWorse</td>\n",
       "    </tr>\n",
       "    <tr>\n",
       "      <th>49</th>\n",
       "      <td>NeverPastDue</td>\n",
       "    </tr>\n",
       "    <tr>\n",
       "      <th>50</th>\n",
       "      <td>Never30.89DaysPastDueNotWorse</td>\n",
       "    </tr>\n",
       "    <tr>\n",
       "      <th>51</th>\n",
       "      <td>ZeroRevolvingUtilization</td>\n",
       "    </tr>\n",
       "    <tr>\n",
       "      <th>52</th>\n",
       "      <td>Weird0999Utilization</td>\n",
       "    </tr>\n",
       "    <tr>\n",
       "      <th>53</th>\n",
       "      <td>FullUtilization</td>\n",
       "    </tr>\n",
       "    <tr>\n",
       "      <th>54</th>\n",
       "      <td>ExcessUtilization</td>\n",
       "    </tr>\n",
       "    <tr>\n",
       "      <th>55</th>\n",
       "      <td>AnyOpenCreditLinesOrLoans</td>\n",
       "    </tr>\n",
       "    <tr>\n",
       "      <th>56</th>\n",
       "      <td>HasRevolvingLines</td>\n",
       "    </tr>\n",
       "    <tr>\n",
       "      <th>57</th>\n",
       "      <td>HasRealEstateLoans</td>\n",
       "    </tr>\n",
       "    <tr>\n",
       "      <th>58</th>\n",
       "      <td>HasMultipleRealEstateLoans</td>\n",
       "    </tr>\n",
       "    <tr>\n",
       "      <th>59</th>\n",
       "      <td>EligibleSS</td>\n",
       "    </tr>\n",
       "  </tbody>\n",
       "</table>\n",
       "</div>"
      ],
      "text/plain": [
       "                                               0\n",
       "0                NumberOfOpenCreditLinesAndLoans\n",
       "1                                        log_age\n",
       "2                                     log_income\n",
       "3                              log_income_person\n",
       "4                                 log_income_age\n",
       "5                         UnknownIncomeDebtRatio\n",
       "6                                       log_Debt\n",
       "7                                  log_DebtRatio\n",
       "8                              log_HouseholdSize\n",
       "9                    log_NumberOfTimes90DaysLate\n",
       "10      log_NumberOfTime60.89DaysPastDueNotWorse\n",
       "11      log_NumberOfTime30.59DaysPastDueNotWorse\n",
       "12                          NumberOfTimesPastDue\n",
       "13          NumberOfTime30.89DaysPastDueNotWorse\n",
       "14                  Extreme_RevolvingUtilization\n",
       "15      log_RevolvingUtilizationOfUnsecuredLines\n",
       "16           log_NumberOfOpenCreditLinesAndLoans\n",
       "17  log_NumberOfOpenCreditLinesAndLoansPerPerson\n",
       "18                          DelinquenciesPerLine\n",
       "19                     MajorDelinquenciesPerLine\n",
       "20                     MinorDelinquenciesPerLine\n",
       "21                                RevolvingLines\n",
       "22                      RealEstateLoansPerPerson\n",
       "23              log_NumberRealEstateLoansOrLines\n",
       "24                              DisposableIncome\n",
       "25                              SeriousDlqin2yrs\n",
       "26                                 UnknownIncome\n",
       "27                                      NoIncome\n",
       "28                                    Income_100\n",
       "29                                   Income_1000\n",
       "30                                   Income_5000\n",
       "31                                 ZeroDebtRatio\n",
       "32                                     DTIOver33\n",
       "33                                     DTIOver43\n",
       "34                     UnknownNumberOfDependents\n",
       "35                                  NoDependents\n",
       "36                                Has.Dependents\n",
       "37                  NumberOfTimes90DaysLateLarge\n",
       "38                     NumberOfTimes90DaysLate96\n",
       "39                     NumberOfTimes90DaysLate98\n",
       "40                               Never90DaysLate\n",
       "41     NumberOfTime60.89DaysPastDueNotWorseLarge\n",
       "42        NumberOfTime60.89DaysPastDueNotWorse96\n",
       "43        NumberOfTime60.89DaysPastDueNotWorse98\n",
       "44                 Never60.89DaysPastDueNotWorse\n",
       "45     NumberOfTime30.59DaysPastDueNotWorseLarge\n",
       "46        NumberOfTime30.59DaysPastDueNotWorse96\n",
       "47        NumberOfTime30.59DaysPastDueNotWorse98\n",
       "48                 Never30.59DaysPastDueNotWorse\n",
       "49                                  NeverPastDue\n",
       "50                 Never30.89DaysPastDueNotWorse\n",
       "51                      ZeroRevolvingUtilization\n",
       "52                          Weird0999Utilization\n",
       "53                               FullUtilization\n",
       "54                             ExcessUtilization\n",
       "55                     AnyOpenCreditLinesOrLoans\n",
       "56                             HasRevolvingLines\n",
       "57                            HasRealEstateLoans\n",
       "58                    HasMultipleRealEstateLoans\n",
       "59                                    EligibleSS"
      ]
     },
     "execution_count": 3,
     "metadata": {},
     "output_type": "execute_result"
    }
   ],
   "source": [
    "dt = pd.read_csv('https://raw.githubusercontent.com/plotly/datasets/master/processed_data.csv')\n",
    "\n",
    "pd.DataFrame(dt.columns.values)"
   ]
  },
  {
   "cell_type": "markdown",
   "metadata": {},
   "source": [
    "Let's plot a few graphs to refresh our memory of the data and show-case the [Cufflinks](http://nbviewer.ipython.org/gist/santosjorge/aba934a0d20023a136c2) plotting library, which is designed to work with pandas and Plotly out of the box. \n",
    "\n",
    "A full walkthrough of every feature can be found in the [first notebook]() of this series. [Cufflinks](http://nbviewer.ipython.org/gist/santosjorge/aba934a0d20023a136c2) can set a global theme (style) to use. In this case we will use Matplotlib's ggplot style. With cufflinks and pandas, is it very easy to generate interactive visuals."
   ]
  },
  {
   "cell_type": "code",
   "execution_count": 4,
   "metadata": {
    "collapsed": true
   },
   "outputs": [],
   "source": [
    "cf.set_config_file(theme = 'ggplot', world_readable = True)"
   ]
  },
  {
   "cell_type": "code",
   "execution_count": 6,
   "metadata": {
    "collapsed": false,
    "scrolled": true
   },
   "outputs": [
    {
     "data": {
      "text/html": [
       "<iframe id=\"igraph\" scrolling=\"no\" style=\"border:none;\"seamless=\"seamless\" src=\"https://plot.ly/~neda/7495.embed\" height=\"525px\" width=\"100%\"></iframe>"
      ],
      "text/plain": [
       "<plotly.tools.PlotlyDisplay object>"
      ]
     },
     "execution_count": 6,
     "metadata": {},
     "output_type": "execute_result"
    }
   ],
   "source": [
    "dt['log_age'].iplot(kind='histogram', bins=20, title = 'Log Age Histogram')"
   ]
  },
  {
   "cell_type": "markdown",
   "metadata": {},
   "source": [
    "We could also examine the distribution of a few interesting features using box plots. \n",
    "\n",
    "> You can use your mouse to view the data or click and drag to zoom. You can also click on the legend icons to toggle features on and off."
   ]
  },
  {
   "cell_type": "code",
   "execution_count": 7,
   "metadata": {
    "collapsed": false
   },
   "outputs": [
    {
     "data": {
      "text/html": [
       "<iframe id=\"igraph\" scrolling=\"no\" style=\"border:none;\"seamless=\"seamless\" src=\"https://plot.ly/~neda/7510.embed\" height=\"525px\" width=\"100%\"></iframe>"
      ],
      "text/plain": [
       "<plotly.tools.PlotlyDisplay object>"
      ]
     },
     "execution_count": 7,
     "metadata": {},
     "output_type": "execute_result"
    }
   ],
   "source": [
    "dt[['log_age', 'log_DebtRatio', 'log_income', 'NumberOfOpenCreditLinesAndLoans']].iplot(kind = 'box', )"
   ]
  },
  {
   "cell_type": "markdown",
   "metadata": {},
   "source": [
    "# Random Forests"
   ]
  },
  {
   "cell_type": "markdown",
   "metadata": {},
   "source": [
    "> Random forests is an ensemble method that averages the predictions from many de-correlated trees trained from a sample drawn with replacement. In addition, when splitting a node during the construction of the tree, the split that is chosen is no longer the best split among all features. Instead, the split that is picked is the best split among a random subset of the features. As a result of this randomness, the bias of the forest usually slightly increases (with respect to the bias of a single non-random tree) but, due to averaging, its variance also decreases, usually more than compensating for the increase in bias, hence yielding an overall better model. \n",
    "- L. Breiman, “Random Forests”, Machine Learning, 45(1), 5-32, 2001.\n",
    "\n",
    "<hr>"
   ]
  },
  {
   "cell_type": "markdown",
   "metadata": {},
   "source": [
    "After loading the data, we split it into training and validation sets using a stratified random sample. A stratified sample ensures that we maintain class proportions between the two new datasets.\n",
    "\n",
    "We will train the dataset on a 5-fold stratified CV to tune the model using grid-search, then test the final result on the validation set that we set aside."
   ]
  },
  {
   "cell_type": "code",
   "execution_count": 8,
   "metadata": {
    "collapsed": false
   },
   "outputs": [],
   "source": [
    "from sklearn import cross_validation, grid_search\n",
    "\n",
    "Y = dt['SeriousDlqin2yrs']\n",
    "X = dt.drop(['SeriousDlqin2yrs'], axis = 1)\n",
    "\n",
    "train_valid = cross_validation.StratifiedShuffleSplit(Y.values, test_size = 0.1)\n",
    "\n",
    "for train_index, test_index in train_valid:\n",
    "    X_train, X_test = X.loc[train_index], X.loc[test_index]\n",
    "    y_train, y_test = Y.loc[train_index], Y.loc[test_index]"
   ]
  },
  {
   "cell_type": "markdown",
   "metadata": {},
   "source": [
    "First let's train a random forest with the default parameters."
   ]
  },
  {
   "cell_type": "code",
   "execution_count": 9,
   "metadata": {
    "collapsed": false
   },
   "outputs": [
    {
     "data": {
      "text/plain": [
       "0.55863049559615785"
      ]
     },
     "execution_count": 9,
     "metadata": {},
     "output_type": "execute_result"
    }
   ],
   "source": [
    "from sklearn.ensemble import RandomForestClassifier\n",
    "from sklearn.metrics import roc_auc_score, auc, roc_curve\n",
    "\n",
    "# Create RF classifier\n",
    "clf = RandomForestClassifier(class_weight = 'auto', n_jobs = 4)\n",
    "\n",
    "# Fit the classifier on the training data\n",
    "clf.fit(X_train, y_train)\n",
    "\n",
    "# Predict the response using the test dataset\n",
    "pred = clf.predict(X_test)\n",
    "\n",
    "# Examine the AUC score\n",
    "roc_auc_score(y_test, pred)"
   ]
  },
  {
   "cell_type": "markdown",
   "metadata": {},
   "source": [
    "Let's try and improve the score by tuning the parameters using sci-kit learn's [GridSearchCV](http://scikit-learn.org/stable/modules/grid_search.html) function and 5 stratified [K-folds](http://scikit-learn.org/stable/modules/generated/sklearn.cross_validation.KFold.html). \n",
    "\n",
    "The three parameters we will try to optimize are:\n",
    "\n",
    "1. `max_features`: The number of features to consider when looking for the best split.\n",
    "2. `min_weight_fraction_leaf`: The minimum weighted fraction of the input samples required to be at a leaf node.\n",
    "3. `n_estimators`: The number of trees in the forest.\n",
    "\n",
    "We will also specify the [GridSearchCV](http://scikit-learn.org/stable/modules/grid_search.html) function to score the best parameters using [AUC](https://www.kaggle.com/wiki/AreaUnderCurve)."
   ]
  },
  {
   "cell_type": "code",
   "execution_count": 11,
   "metadata": {
    "collapsed": false
   },
   "outputs": [],
   "source": [
    "from sklearn.ensemble import RandomForestClassifier\n",
    "\n",
    "# Set up stratified cv methods\n",
    "skf = cross_validation.StratifiedKFold(y_train, n_folds = 5)\n",
    "\n",
    "# Create RF classifier\n",
    "clf = RandomForestClassifier(class_weight = 'auto', min_weight_fraction_leaf = 0.001, n_jobs = 8)\n",
    "\n",
    "# Tuning options\n",
    "max_f = [5, 7, 9]\n",
    "n_trees = [200, 300, 400]\n",
    "\n",
    "# Create gridsearch cv classifier\n",
    "grid_search_clf = grid_search.GridSearchCV(\n",
    "                       estimator = clf, \n",
    "                       param_grid = dict(max_features = max_f, n_estimators = n_trees), \n",
    "                       cv = skf, \n",
    "                       scoring = 'roc_auc',\n",
    "                       n_jobs = 4\n",
    "                    )"
   ]
  },
  {
   "cell_type": "code",
   "execution_count": null,
   "metadata": {
    "collapsed": false
   },
   "outputs": [],
   "source": [
    "# Run the grid search\n",
    "grid_search_clf.fit(X_train, y_train)"
   ]
  },
  {
   "cell_type": "markdown",
   "metadata": {},
   "source": [
    "Let's look at the results. Below we compute:\n",
    "\n",
    "1. The best parameters found by the grid search.\n",
    "2. The cross validation training prediction scores for each iteration of the grid search.\n",
    "3. The final prediction on the validation set."
   ]
  },
  {
   "cell_type": "code",
   "execution_count": null,
   "metadata": {
    "collapsed": false
   },
   "outputs": [],
   "source": [
    "print(\"Best parameters set found on development set:\")\n",
    "print('')\n",
    "print(grid_search_clf.best_params_)\n",
    "print('')\n",
    "print(\"Grid scores on development set:\")\n",
    "print('')\n",
    "for params, mean_score, scores in grid_search_clf.grid_scores_:\n",
    "    print(\"%0.3f (+/-%0.03f) for %r\"\n",
    "          % (mean_score, scores.std() * 2, params))\n",
    "print('')\n",
    "\n",
    "print(\"Detailed classification report:\")\n",
    "print('')\n",
    "print(\"The model is trained on the full development set.\")\n",
    "print(\"The scores are computed on the full evaluation set.\")\n",
    "print('')\n",
    "y_true, y_pred = y_test, grid_search_clf.predict(X_test)\n",
    "print(roc_auc_score(y_true, y_pred))"
   ]
  },
  {
   "cell_type": "markdown",
   "metadata": {},
   "source": [
    "We can see that the training AUC is noticably higher than the validation test AUC scores. This is a sign that we are over-fitting our training data, or that we have too few loan defaulters in the test set. To correct this we could try a more complex class balancing techinque such as [SMOTE](https://www.jair.org/media/953/live-953-2037-jair.pdf). \n",
    "\n",
    "The final AUC does however beat the decsion tree model from the [previous notebook]."
   ]
  },
  {
   "cell_type": "markdown",
   "metadata": {},
   "source": [
    "## Plotting ROC Curve"
   ]
  },
  {
   "cell_type": "markdown",
   "metadata": {},
   "source": [
    "Below we plot the ROC curve for this model using [Plotly](https://plot.ly/python/matplotlib-to-plotly-tutorial/). This time we will demonstrate how to plot simply using the [matplotlib converter](https://plot.ly/python/matplotlib-to-plotly-tutorial/)."
   ]
  },
  {
   "cell_type": "code",
   "execution_count": null,
   "metadata": {
    "collapsed": false
   },
   "outputs": [],
   "source": [
    "%matplotlib inline\n",
    "import matplotlib.pyplot as plt\n",
    "\n",
    "import plotly.plotly as py\n",
    "import plotly.tools as tls   \n",
    "from plotly.graph_objs import *\n",
    "\n",
    "from pylab import rcParams\n",
    "rcParams['figure.figsize'] = 10, 5\n",
    "\n",
    "# Compute ROC curve and ROC area for each class\n",
    "fpr = dict()\n",
    "tpr = dict()\n",
    "roc_auc = dict()\n",
    "fpr, tpr, thresholds = roc_curve(y_test, y_pred)\n",
    "\n",
    "ROC_CURVE = plt.figure()\n",
    "plt.plot(fpr, tpr)\n",
    "plt.plot([0, 1], [0, 1], 'k--')\n",
    "plt.xlim([0.0, 1.0])\n",
    "plt.ylim([0.0, 1.05])\n",
    "plt.xlabel('False Positive Rate')\n",
    "plt.ylabel('True Positive Rate')\n",
    "plt.title('Receiver operating characteristic')\n",
    "plt.legend(loc = \"lower right\")"
   ]
  },
  {
   "cell_type": "markdown",
   "metadata": {
    "collapsed": false
   },
   "source": [
    "Now we can convert this plot to an interactive [Plotly](https://plot.ly) object. \n",
    "\n",
    "Please see the Plotly Python [user guide](https://plot.ly/python/overview/#in-%5B37%5D) for more insight on how to update plot parameters. \n",
    "\n",
    "> Don't forget you can also easily edit the chart properties using the Plotly GUI interface by clicking the \"Play with this data!\" link below the chart."
   ]
  },
  {
   "cell_type": "code",
   "execution_count": null,
   "metadata": {
    "collapsed": false
   },
   "outputs": [],
   "source": [
    "py.iplot_mpl(ROC_CURVE)"
   ]
  },
  {
   "cell_type": "code",
   "execution_count": null,
   "metadata": {
    "collapsed": false
   },
   "outputs": [],
   "source": [
    "from IPython.display import HTML, display\n",
    "\n",
    "display(HTML('<link href=\"//fonts.googleapis.com/css?family=Open+Sans:600,400,300,200|Inconsolata|Ubuntu+Mono:400,700\" rel=\"stylesheet\" type=\"text/css\" />'))\n",
    "display(HTML('<link rel=\"stylesheet\" type=\"text/css\" href=\"https://help.plot.ly/documentation/all_static/css/ipython-notebook-custom.css\">'))\n",
    "\n",
    "import publisher\n",
    "publisher.publish('credit-risk-analysis', '/python/credit-risk-analysis/', \n",
    "                  'Credit Risk Analysis with Plotly', \n",
    "                  'Predicting Credit Risk with Python and Plotly')"
   ]
  },
  {
   "cell_type": "code",
   "execution_count": null,
   "metadata": {
    "collapsed": true
   },
   "outputs": [],
   "source": []
  }
 ],
 "metadata": {
  "kernelspec": {
   "display_name": "Python 2",
   "language": "python",
   "name": "python2"
  },
  "language_info": {
   "codemirror_mode": {
    "name": "ipython",
    "version": 2
   },
   "file_extension": ".py",
   "mimetype": "text/x-python",
   "name": "python",
   "nbconvert_exporter": "python",
   "pygments_lexer": "ipython2",
   "version": "2.7.10"
  }
 },
 "nbformat": 4,
 "nbformat_minor": 0
}
