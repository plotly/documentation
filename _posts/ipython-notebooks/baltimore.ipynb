{
 "cells": [
  {
   "cell_type": "markdown",
   "metadata": {},
   "source": [
    "#### Baltimore Vital Signs\n",
    "About the author:\n",
    "This notebook was forked from [https://github.com/jtelszasz/baltimore_vital_signs](https://github.com/jtelszasz/baltimore_vital_signs). The original author is Justin Elszasz. You can follow Justin on Twitter [@TheTrainingSet](http://twitter.com/TheTrainingSet) or read his [blog](http://www.thetrainingset.com).\n",
    "#### Introduction\n",
    "The [Baltimore Neighborhoods Indicators Alliance -- Jacob France Institute (BNIA)](http://bniajfi.org/indicators/all) at the University of Baltimore has made it their mission to provide a clean, concise set of indicators that illustrate the health and wealth of the city. There are 152 socio-economic indicators in the Vital Signs dataset, and some are reported for multiple years which results in 295 total variables for each of the 56 Baltimore neighborhoods captured.  The indicators are dug up from a number of sources, including the U.S. Census Bureau and its American Community Survey, the FBI and Baltimore Police Department, Baltimore departments of city housing, health, and education.\n",
    "#### Imports"
   ]
  },
  {
   "cell_type": "code",
   "execution_count": 1,
   "metadata": {
    "collapsed": true
   },
   "outputs": [],
   "source": [
    "import plotly.plotly as py\n",
    "import plotly.graph_objs as pgo\n",
    "\n",
    "import glob\n",
    "import numpy as np\n",
    "import pandas as pd"
   ]
  },
  {
   "cell_type": "code",
   "execution_count": 2,
   "metadata": {
    "collapsed": true
   },
   "outputs": [],
   "source": [
    "# Load and combine the datasets.\n",
    "path = 'raw_data/csv'\n",
    "\n",
    "allFiles = glob.glob(path + '/*.csv')\n",
    "df = pd.DataFrame()\n",
    "\n",
    "for i, filename in enumerate(allFiles):\n",
    "    df_file = pd.read_csv(filename)\n",
    "    if i == 0:\n",
    "        df = df_file\n",
    "    else:\n",
    "        df = pd.merge(df, df_file)\n",
    "        \n",
    "df.index = df['CSA2010']\n",
    "df.drop('CSA2010', inplace=True)\n",
    "print len(df.columns)\n",
    "del df['CSA2010']\n",
    "print len(df.columns)"
   ]
  },
  {
   "cell_type": "code",
   "execution_count": 4,
   "metadata": {
    "collapsed": true
   },
   "outputs": [],
   "source": [
    "cols = df.columns\n",
    "df[cols] = (\n",
    "    df[cols]\n",
    "    # Replace things that aren't numbers and change any empty entries to nan\n",
    "    # (to allow type conversion)\n",
    "    .replace({r'[^0-9\\.]': '', '': np.nan}, regex=True)\n",
    "    # Change to float and convert from %s\n",
    "    .astype(np.float64)\n",
    ")\n",
    "\n",
    "# One of the rows is an aggregate Baltimore City.\n",
    "df.drop('Baltimore City', inplace=True)"
   ]
  },
  {
   "cell_type": "markdown",
   "metadata": {},
   "source": [
    "# A Few Exploratory Plots"
   ]
  },
  {
   "cell_type": "markdown",
   "metadata": {},
   "source": [
    "Percentage of Population White in Each Neighborhood, Sorted"
   ]
  },
  {
   "cell_type": "code",
   "execution_count": 7,
   "metadata": {
    "collapsed": true
   },
   "outputs": [],
   "source": [
    "df_white_sorted = df['pwhite10'].sort(inplace=False)\n",
    "\n",
    "# Create a horizontal bar chart with plotly.\n",
    "data = pgo.Data([\n",
    "    pgo.Bar(\n",
    "            y=df_white_sorted.index,\n",
    "            x=df_white_sorted,\n",
    "            orientation='h'\n",
    "    )\n",
    "])"
   ]
  },
  {
   "cell_type": "code",
   "execution_count": 8,
   "metadata": {
    "collapsed": true
   },
   "outputs": [],
   "source": [
    "layout = pgo.Layout(\n",
    "    title='% White',\n",
    "    margin=pgo.Margin(l=300)  # add left margin for y-labels are long\n",
    ")"
   ]
  },
  {
   "cell_type": "code",
   "execution_count": 9,
   "metadata": {
    "collapsed": true
   },
   "outputs": [],
   "source": [
    "fig = pgo.Figure(data=data, layout=layout)"
   ]
  },
  {
   "cell_type": "code",
   "execution_count": 11,
   "metadata": {},
   "outputs": [
    {
     "data": {
      "text/html": [
       "<iframe id=\"igraph\" scrolling=\"no\" style=\"border:none;\"seamless=\"seamless\" src=\"https://plot.ly/~marianne2/1584.embed?width=675&height=975\" height=\"1000\" width=\"700\"></iframe>"
      ],
      "text/plain": [
       "<plotly.tools.PlotlyDisplay object>"
      ]
     },
     "execution_count": 11,
     "metadata": {},
     "output_type": "execute_result"
    }
   ],
   "source": [
    "py.iplot(fig, filename='baltimore-barh',\n",
    "         width=700, height=1000)  # adjust notebook display width and height"
   ]
  },
  {
   "cell_type": "markdown",
   "metadata": {},
   "source": [
    "Percentage of Households in Poverty and with Children, Sorted"
   ]
  },
  {
   "cell_type": "code",
   "execution_count": 12,
   "metadata": {
    "collapsed": true
   },
   "outputs": [],
   "source": [
    "df_chpov_sorted = df['hhchpov12'].sort(inplace=False)"
   ]
  },
  {
   "cell_type": "code",
   "execution_count": 13,
   "metadata": {
    "collapsed": true
   },
   "outputs": [],
   "source": [
    "data1 = pgo.Data([\n",
    "    pgo.Bar(\n",
    "            y=df_chpov_sorted.index,\n",
    "            x=df_chpov_sorted,\n",
    "            orientation='h'\n",
    "    )\n",
    "])"
   ]
  },
  {
   "cell_type": "code",
   "execution_count": 14,
   "metadata": {
    "collapsed": true
   },
   "outputs": [],
   "source": [
    "# Specify some layout attributes.\n",
    "layout1 = pgo.Layout(\n",
    "    title='% HH w. Children in Poverty',\n",
    "    margin=pgo.Margin(l=300)  # add left margin for y-labels are long\n",
    ")"
   ]
  },
  {
   "cell_type": "code",
   "execution_count": 15,
   "metadata": {
    "collapsed": true
   },
   "outputs": [],
   "source": [
    "fig1 = pgo.Figure(data=data1, layout=layout1)"
   ]
  },
  {
   "cell_type": "code",
   "execution_count": 16,
   "metadata": {},
   "outputs": [
    {
     "data": {
      "text/html": [
       "<iframe id=\"igraph\" scrolling=\"no\" style=\"border:none;\"seamless=\"seamless\" src=\"https://plot.ly/~marianne2/1603.embed?width=675&height=975\" height=\"1000\" width=\"700\"></iframe>"
      ],
      "text/plain": [
       "<plotly.tools.PlotlyDisplay object>"
      ]
     },
     "execution_count": 16,
     "metadata": {},
     "output_type": "execute_result"
    }
   ],
   "source": [
    "py.iplot(fig1, filename='baltimore-hh-pov', width=700, height=1000)"
   ]
  },
  {
   "cell_type": "markdown",
   "metadata": {},
   "source": [
    "Percentage Households in Poverty with Children vs<br>Percentage Population White (per Neighborhood)"
   ]
  },
  {
   "cell_type": "code",
   "execution_count": 17,
   "metadata": {
    "collapsed": true
   },
   "outputs": [],
   "source": [
    "# Juvenile population (age 10 to 18)\n",
    "juv_pop = df['tpop10'] * df['age18_10'] / 100"
   ]
  },
  {
   "cell_type": "code",
   "execution_count": 18,
   "metadata": {
    "collapsed": true
   },
   "outputs": [],
   "source": [
    "# Display this information in hover box.\n",
    "hover_text = zip(juv_pop.index, np.around(juv_pop, 2))"
   ]
  },
  {
   "cell_type": "code",
   "execution_count": 19,
   "metadata": {
    "collapsed": true
   },
   "outputs": [],
   "source": [
    "# Represent a third dimension (size).\n",
    "data2 = pgo.Data([\n",
    "    pgo.Scatter(\n",
    "            x=df['pwhite10'],\n",
    "            y=df['hhchpov12'],\n",
    "            mode='markers',\n",
    "            marker=pgo.Marker(size=juv_pop,\n",
    "                              sizemode='area',\n",
    "                              sizeref=juv_pop.max()/600,\n",
    "                              opacity=0.4,\n",
    "                              color='blue'),\n",
    "            text=hover_text\n",
    "    )\n",
    "])"
   ]
  },
  {
   "cell_type": "code",
   "execution_count": 20,
   "metadata": {
    "collapsed": true
   },
   "outputs": [],
   "source": [
    "layout2 = pgo.Layout(\n",
    "    title='Baltimore: Too Many Non-White Kids in Poverty',\n",
    "    xaxis=pgo.XAxis(title='% Population White (2010)',\n",
    "                    range=[-5, 100],\n",
    "                    showgrid=False,\n",
    "                    zeroline=False),\n",
    "    yaxis=pgo.YAxis(title='% HH w. Children in Poverty (2012)',\n",
    "                    range=[-5, 100],\n",
    "                    showgrid=False,\n",
    "                    zeroline = False),\n",
    "    hovermode='closest'\n",
    ")"
   ]
  },
  {
   "cell_type": "code",
   "execution_count": 21,
   "metadata": {
    "collapsed": true
   },
   "outputs": [],
   "source": [
    "fig2 = pgo.Figure(data=data2, layout=layout2)"
   ]
  },
  {
   "cell_type": "code",
   "execution_count": 22,
   "metadata": {},
   "outputs": [
    {
     "data": {
      "text/html": [
       "<iframe id=\"igraph\" scrolling=\"no\" style=\"border:none;\"seamless=\"seamless\" src=\"https://plot.ly/~marianne2/1604.embed\" height=\"525\" width=\"100%\"></iframe>"
      ],
      "text/plain": [
       "<plotly.tools.PlotlyDisplay object>"
      ]
     },
     "execution_count": 22,
     "metadata": {},
     "output_type": "execute_result"
    }
   ],
   "source": [
    "py.iplot(fig2, filename='baltimore-bubble-chart')"
   ]
  },
  {
   "cell_type": "markdown",
   "metadata": {},
   "source": [
    "Percentage of Households in Poverty<br>vs Ethnicity's Percentage of Population<br>Let's do this chart using matplotlib for a change."
   ]
  },
  {
   "cell_type": "code",
   "execution_count": 23,
   "metadata": {
    "collapsed": true
   },
   "outputs": [],
   "source": [
    "import matplotlib.pyplot as plt"
   ]
  },
  {
   "cell_type": "code",
   "execution_count": 24,
   "metadata": {},
   "outputs": [
    {
     "data": {
      "text/plain": [
       "<matplotlib.text.Text at 0x7f297414a710>"
      ]
     },
     "execution_count": 24,
     "metadata": {},
     "output_type": "execute_result"
    }
   ],
   "source": [
    "mpl_fig, ax = plt.subplots()\n",
    "\n",
    "size = 100\n",
    "alpha = 0.5\n",
    "fontsize = 16\n",
    "\n",
    "ax.scatter(df['phisp10'], df['hhpov12'], c='r', alpha=alpha, s=size)\n",
    "ax.scatter(df['paa10'], df['hhpov12'], c='c', alpha=alpha, s=size)\n",
    "ax.legend(['Hispanic', 'Black'], fontsize=12)\n",
    "\n",
    "# Turn off square border around plot.\n",
    "ax.spines['top'].set_visible(False)\n",
    "ax.spines['right'].set_visible(False)\n",
    "ax.spines['bottom'].set_visible(False)\n",
    "ax.spines['left'].set_visible(False)\n",
    "\n",
    "# Turn off ticks.\n",
    "ax.tick_params(axis=\"both\", which=\"both\", bottom=\"off\", top=\"off\",\n",
    "               labelbottom=\"on\", left=\"off\", right=\"off\", labelleft=\"on\",\n",
    "               labelsize=16)\n",
    "\n",
    "ax.set_ylim(-5, 60)\n",
    "ax.set_xlim(-5, 100)\n",
    "\n",
    "ax.set_ylabel('% HH in Poverty', fontsize=fontsize)\n",
    "ax.set_xlabel('% Population', fontsize=fontsize)"
   ]
  },
  {
   "cell_type": "markdown",
   "metadata": {},
   "source": [
    "Matplotlib code is very long... But sometimes you have existing matplotlib code, right? The good news is, plotly can eat it! "
   ]
  },
  {
   "cell_type": "code",
   "execution_count": 25,
   "metadata": {},
   "outputs": [
    {
     "name": "stderr",
     "output_type": "stream",
     "text": [
      "/home/marianne/plotly/venvs/baltimore-nb/lib/python2.7/site-packages/plotly/matplotlylib/renderer.py:443: UserWarning:\n",
      "\n",
      "Dang! That path collection is out of this world. I totally don't know what to do with it yet! Plotly can only import path collections linked to 'data' coordinates\n",
      "\n",
      "/home/marianne/plotly/venvs/baltimore-nb/lib/python2.7/site-packages/plotly/matplotlylib/renderer.py:479: UserWarning:\n",
      "\n",
      "I found a path object that I don't think is part of a bar chart. Ignoring.\n",
      "\n"
     ]
    },
    {
     "data": {
      "text/html": [
       "<iframe id=\"igraph\" scrolling=\"no\" style=\"border:none;\"seamless=\"seamless\" src=\"https://plot.ly/~marianne2/1605.embed\" height=\"525\" width=\"100%\"></iframe>"
      ],
      "text/plain": [
       "<plotly.tools.PlotlyDisplay object>"
      ]
     },
     "execution_count": 25,
     "metadata": {},
     "output_type": "execute_result"
    }
   ],
   "source": [
    "py.iplot_mpl(mpl_fig, filename='baltimore-poverty')"
   ]
  },
  {
   "cell_type": "markdown",
   "metadata": {},
   "source": [
    "So, at the moment, matplotlib legends do not fully convert to plotly legends (please refer to our [user guide](https://plot.ly/python/matplotlib-to-plotly-tutorial/#Careful,-matplotlib-is-not-perfect-%28yet%29)). Let's tweak this now."
   ]
  },
  {
   "cell_type": "code",
   "execution_count": 26,
   "metadata": {
    "collapsed": true
   },
   "outputs": [],
   "source": [
    "import plotly.tools as tls"
   ]
  },
  {
   "cell_type": "code",
   "execution_count": 27,
   "metadata": {
    "collapsed": true
   },
   "outputs": [],
   "source": [
    "# Convert mpl fig object to plotly fig object, resize to plotly's default.\n",
    "py_fig = tls.mpl_to_plotly(mpl_fig, resize=True)"
   ]
  },
  {
   "cell_type": "code",
   "execution_count": 28,
   "metadata": {
    "collapsed": true
   },
   "outputs": [],
   "source": [
    "# Give each trace a name to appear in legend.\n",
    "py_fig['data'][0]['name'] = py_fig['layout']['annotations'][0]['text']\n",
    "py_fig['data'][1]['name'] = py_fig['layout']['annotations'][1]['text']"
   ]
  },
  {
   "cell_type": "code",
   "execution_count": 29,
   "metadata": {},
   "outputs": [
    {
     "data": {
      "text/plain": [
       "[{'align': 'left',\n",
       "  'font': {'color': '#000000', 'size': 12.0},\n",
       "  'opacity': 1,\n",
       "  'showarrow': False,\n",
       "  'text': 'Hispanic',\n",
       "  'x': 0.86542338709677413,\n",
       "  'xanchor': 'left',\n",
       "  'xref': 'paper',\n",
       "  'y': 0.94025933721934374,\n",
       "  'yanchor': 'bottom',\n",
       "  'yref': 'paper'},\n",
       " {'align': 'left',\n",
       "  'font': {'color': '#000000', 'size': 12.0},\n",
       "  'opacity': 1,\n",
       "  'showarrow': False,\n",
       "  'text': 'Black',\n",
       "  'x': 0.86542338709677413,\n",
       "  'xanchor': 'left',\n",
       "  'xref': 'paper',\n",
       "  'y': 0.88657932138744955,\n",
       "  'yanchor': 'bottom',\n",
       "  'yref': 'paper'}]"
      ]
     },
     "execution_count": 29,
     "metadata": {},
     "output_type": "execute_result"
    }
   ],
   "source": [
    "# Delete misplaced legend annotations. \n",
    "py_fig['layout'].pop('annotations', None)"
   ]
  },
  {
   "cell_type": "code",
   "execution_count": 30,
   "metadata": {
    "collapsed": true
   },
   "outputs": [],
   "source": [
    "# Add legend, place it at the top right corner of the plot.\n",
    "py_fig['layout'].update(\n",
    "    showlegend=True,\n",
    "    legend=pgo.Legend(\n",
    "        x=1,\n",
    "        y=1\n",
    "    )\n",
    ")"
   ]
  },
  {
   "cell_type": "code",
   "execution_count": 31,
   "metadata": {},
   "outputs": [
    {
     "data": {
      "text/html": [
       "<iframe id=\"igraph\" scrolling=\"no\" style=\"border:none;\"seamless=\"seamless\" src=\"https://plot.ly/~marianne2/1605.embed\" height=\"525\" width=\"100%\"></iframe>"
      ],
      "text/plain": [
       "<plotly.tools.PlotlyDisplay object>"
      ]
     },
     "execution_count": 31,
     "metadata": {},
     "output_type": "execute_result"
    }
   ],
   "source": [
    "# Send updated figure object to Plotly, show result in notebook.\n",
    "py.iplot(py_fig, filename='baltimore-poverty')"
   ]
  },
  {
   "cell_type": "markdown",
   "metadata": {},
   "source": [
    "Hispanic communities are smaller fractions of neighborhood populations."
   ]
  },
  {
   "cell_type": "markdown",
   "metadata": {},
   "source": [
    "# Principal Component Analysis"
   ]
  },
  {
   "cell_type": "markdown",
   "metadata": {},
   "source": [
    "Read this [post](http://www.thetrainingset.com/articles/A-City-Divided-In-N-Dimensions) at The Training Set for purpose of the following analyses (this section and the next one)."
   ]
  },
  {
   "cell_type": "code",
   "execution_count": 32,
   "metadata": {
    "collapsed": true
   },
   "outputs": [],
   "source": [
    "from sklearn.decomposition import PCA\n",
    "from sklearn.preprocessing import StandardScaler"
   ]
  },
  {
   "cell_type": "code",
   "execution_count": 33,
   "metadata": {
    "collapsed": true
   },
   "outputs": [],
   "source": [
    "X = np.array(df)\n",
    "scaler = StandardScaler()\n",
    "X_scaled = scaler.fit_transform(X)"
   ]
  },
  {
   "cell_type": "code",
   "execution_count": 34,
   "metadata": {},
   "outputs": [
    {
     "data": {
      "text/plain": [
       "PCA(copy=True, n_components=None, whiten=False)"
      ]
     },
     "execution_count": 34,
     "metadata": {},
     "output_type": "execute_result"
    }
   ],
   "source": [
    "pca = PCA()\n",
    "pca.fit(X_scaled)"
   ]
  },
  {
   "cell_type": "code",
   "execution_count": 35,
   "metadata": {},
   "outputs": [
    {
     "data": {
      "text/plain": [
       "55"
      ]
     },
     "execution_count": 35,
     "metadata": {},
     "output_type": "execute_result"
    }
   ],
   "source": [
    "len(pca.components_)"
   ]
  },
  {
   "cell_type": "markdown",
   "metadata": {},
   "source": [
    "55 dimensions (or components, or axes) were used in the Principal Component Analysis."
   ]
  },
  {
   "cell_type": "code",
   "execution_count": 36,
   "metadata": {},
   "outputs": [
    {
     "name": "stdout",
     "output_type": "stream",
     "text": [
      "Explained Variance Ratio =  0.483937328909\n"
     ]
    }
   ],
   "source": [
    "print 'Explained Variance Ratio = ', sum(pca.explained_variance_ratio_[: 2])"
   ]
  },
  {
   "cell_type": "markdown",
   "metadata": {},
   "source": [
    "We can see that almost half (~48%) of the total variance comes from only two dimensions (i.e., the first two principal components). Let's visualize the relative contribution of all components."
   ]
  },
  {
   "cell_type": "code",
   "execution_count": 37,
   "metadata": {
    "collapsed": true
   },
   "outputs": [],
   "source": [
    "data3 = pgo.Data([\n",
    "    pgo.Bar(\n",
    "            y=pca.explained_variance_ratio_,\n",
    "    )\n",
    "])"
   ]
  },
  {
   "cell_type": "code",
   "execution_count": 38,
   "metadata": {},
   "outputs": [
    {
     "data": {
      "text/html": [
       "<iframe id=\"igraph\" scrolling=\"no\" style=\"border:none;\"seamless=\"seamless\" src=\"https://plot.ly/~marianne2/1606.embed\" height=\"525\" width=\"100%\"></iframe>"
      ],
      "text/plain": [
       "<plotly.tools.PlotlyDisplay object>"
      ]
     },
     "execution_count": 38,
     "metadata": {},
     "output_type": "execute_result"
    }
   ],
   "source": [
    "py.iplot(data3, filename=\"baltimore-principal-dimensions\")"
   ]
  },
  {
   "cell_type": "markdown",
   "metadata": {},
   "source": [
    "Let's plot a cumulative version of this, to see how many dimensions are needed to account for 90% of the total variance."
   ]
  },
  {
   "cell_type": "code",
   "execution_count": 39,
   "metadata": {
    "collapsed": true
   },
   "outputs": [],
   "source": [
    "data4 = pgo.Data([\n",
    "    pgo.Scatter(\n",
    "            y=np.cumsum(pca.explained_variance_ratio_),\n",
    "    )\n",
    "])"
   ]
  },
  {
   "cell_type": "code",
   "execution_count": 40,
   "metadata": {},
   "outputs": [
    {
     "data": {
      "text/html": [
       "<iframe id=\"igraph\" scrolling=\"no\" style=\"border:none;\"seamless=\"seamless\" src=\"https://plot.ly/~marianne2/1607.embed\" height=\"525\" width=\"100%\"></iframe>"
      ],
      "text/plain": [
       "<plotly.tools.PlotlyDisplay object>"
      ]
     },
     "execution_count": 40,
     "metadata": {},
     "output_type": "execute_result"
    }
   ],
   "source": [
    "py.iplot(data4, filename='baltimore-pca-cumulative')"
   ]
  },
  {
   "cell_type": "markdown",
   "metadata": {},
   "source": [
    "So we need about 20 dimensions to explain ~90% of the total variance."
   ]
  },
  {
   "cell_type": "markdown",
   "metadata": {},
   "source": [
    "Let's focus on the 2 principal dimensions, so it's easy to plot them in the (x, y) plane."
   ]
  },
  {
   "cell_type": "code",
   "execution_count": 41,
   "metadata": {
    "collapsed": true
   },
   "outputs": [],
   "source": [
    "pca.n_components = 2\n",
    "X_reduced = pca.fit_transform(X_scaled)\n",
    "df_X_reduced = pd.DataFrame(X_reduced, index=df.index)"
   ]
  },
  {
   "cell_type": "code",
   "execution_count": 42,
   "metadata": {
    "collapsed": true
   },
   "outputs": [],
   "source": [
    "trace = pgo.Scatter(x=df_X_reduced[0],\n",
    "                    y=df_X_reduced[1],\n",
    "                    text=df.index,\n",
    "                    mode='markers',\n",
    "                    # Size by total population of each neighborhood. \n",
    "                    marker=pgo.Marker(size=df['tpop10'],\n",
    "                                      sizemode='diameter',\n",
    "                                      sizeref=df['tpop10'].max()/50,\n",
    "                                      opacity=0.5)\n",
    ")\n",
    "\n",
    "data5 = pgo.Data([trace])"
   ]
  },
  {
   "cell_type": "code",
   "execution_count": 43,
   "metadata": {
    "collapsed": true
   },
   "outputs": [],
   "source": [
    "layout5 = pgo.Layout(title='Baltimore Vital Signs (PCA)',\n",
    "                     xaxis=pgo.XAxis(showgrid=False,\n",
    "                                     zeroline=False,\n",
    "                                     showticklabels=False),\n",
    "                     yaxis=pgo.YAxis(showgrid=False,\n",
    "                                     zeroline=False,\n",
    "                                     showticklabels=False),\n",
    "                     hovermode='closest'\n",
    ")"
   ]
  },
  {
   "cell_type": "code",
   "execution_count": 44,
   "metadata": {},
   "outputs": [
    {
     "data": {
      "text/html": [
       "<iframe id=\"igraph\" scrolling=\"no\" style=\"border:none;\"seamless=\"seamless\" src=\"https://plot.ly/~marianne2/1608.embed\" height=\"525\" width=\"100%\"></iframe>"
      ],
      "text/plain": [
       "<plotly.tools.PlotlyDisplay object>"
      ]
     },
     "execution_count": 44,
     "metadata": {},
     "output_type": "execute_result"
    }
   ],
   "source": [
    "fig5 = pgo.Figure(data=data5, layout=layout5)\n",
    "py.iplot(fig5, filename='baltimore-2dim')"
   ]
  },
  {
   "cell_type": "markdown",
   "metadata": {},
   "source": [
    "We have reduced a high-dimensional problem to a simple model. We can visualize it in 2 dimensions. Neighborhoods which lie closer to one another are more similar (with respect to these 'vital signs', i.e., socio-economic indicators). Downtown seems very special!"
   ]
  },
  {
   "cell_type": "markdown",
   "metadata": {},
   "source": [
    "# K-means Clustering"
   ]
  },
  {
   "cell_type": "markdown",
   "metadata": {},
   "source": [
    "Could we identify groups of similar neighborhoods? Clearly, Downtown forms its own group. It's not as easy to identify visually the other groups (or clusters). K-means clustering is an algorithmic method to compute closer data points (belonging to the same cluster), given the number of clusters you want."
   ]
  },
  {
   "cell_type": "code",
   "execution_count": 45,
   "metadata": {
    "collapsed": true
   },
   "outputs": [],
   "source": [
    "from sklearn.cluster import KMeans"
   ]
  },
  {
   "cell_type": "markdown",
   "metadata": {},
   "source": [
    "The total number of clusters you expect should be small enough (otherwise there's no *clustering*) but large enough so that *inertia* can be reasonable (small enough). Inertia measures the typical distance between a data point and the center of its cluster. "
   ]
  },
  {
   "cell_type": "code",
   "execution_count": 46,
   "metadata": {
    "collapsed": true
   },
   "outputs": [],
   "source": [
    "# Let the number of clusters be a parameter, so we can get a feel for an appropriate\n",
    "# value thereof.\n",
    "def cluster(n_clusters):\n",
    "    kmeans = KMeans(n_clusters=n_clusters)\n",
    "    kmeans.fit(X_reduced)\n",
    "    Z = kmeans.predict(X_reduced)\n",
    "    return kmeans, Z"
   ]
  },
  {
   "cell_type": "code",
   "execution_count": 47,
   "metadata": {
    "collapsed": true
   },
   "outputs": [],
   "source": [
    "max_clusters = len(df)\n",
    "# n_clusters = max_clusters would be trivial clustering."
   ]
  },
  {
   "cell_type": "code",
   "execution_count": 48,
   "metadata": {
    "collapsed": true
   },
   "outputs": [],
   "source": [
    "inertias = np.zeros(max_clusters)\n",
    "\n",
    "for i in xrange(1, max_clusters):\n",
    "    kmeans, Z = cluster(i)\n",
    "    inertias[i] = kmeans.inertia_"
   ]
  },
  {
   "cell_type": "code",
   "execution_count": 49,
   "metadata": {
    "collapsed": true
   },
   "outputs": [],
   "source": [
    "data6 = pgo.Data([\n",
    "    pgo.Scatter(\n",
    "            x=range(1, max_clusters),\n",
    "            y=inertias[1:]\n",
    "    )\n",
    "])"
   ]
  },
  {
   "cell_type": "code",
   "execution_count": 50,
   "metadata": {
    "collapsed": true
   },
   "outputs": [],
   "source": [
    "layout6 = pgo.Layout(\n",
    "    title='Baltimore dataset - Investigate k-means clustering',\n",
    "    xaxis=pgo.XAxis(title='Number of clusters',\n",
    "                    range=[0, max_clusters]),\n",
    "    yaxis=pgo.YAxis(title='Inertia')\n",
    ")"
   ]
  },
  {
   "cell_type": "code",
   "execution_count": 51,
   "metadata": {
    "collapsed": true
   },
   "outputs": [],
   "source": [
    "fig6 = pgo.Figure(data=data6, layout=layout6)"
   ]
  },
  {
   "cell_type": "code",
   "execution_count": 52,
   "metadata": {},
   "outputs": [
    {
     "data": {
      "text/html": [
       "<iframe id=\"igraph\" scrolling=\"no\" style=\"border:none;\"seamless=\"seamless\" src=\"https://plot.ly/~marianne2/1610.embed\" height=\"525\" width=\"100%\"></iframe>"
      ],
      "text/plain": [
       "<plotly.tools.PlotlyDisplay object>"
      ]
     },
     "execution_count": 52,
     "metadata": {},
     "output_type": "execute_result"
    }
   ],
   "source": [
    "py.iplot(fig6, filename='baltimore-clustering-inertias')"
   ]
  },
  {
   "cell_type": "markdown",
   "metadata": {},
   "source": [
    "Okay, let's go for 7 clusters."
   ]
  },
  {
   "cell_type": "code",
   "execution_count": 53,
   "metadata": {
    "collapsed": true
   },
   "outputs": [],
   "source": [
    "n_clusters = 7\n",
    "model, Z = cluster(n_clusters)"
   ]
  },
  {
   "cell_type": "code",
   "execution_count": 54,
   "metadata": {
    "collapsed": true
   },
   "outputs": [],
   "source": [
    "# Represent neighborhoods as in previous bubble chart, adding cluster information under color.\n",
    "trace0 = pgo.Scatter(x=df_X_reduced[0],\n",
    "                     y=df_X_reduced[1],\n",
    "                     text=df.index,\n",
    "                     name='',\n",
    "                     mode='markers',\n",
    "                     marker=pgo.Marker(size=df['tpop10'],\n",
    "                                       sizemode='diameter',\n",
    "                                       sizeref=df['tpop10'].max()/50,\n",
    "                                       opacity=0.5,\n",
    "                                       color=Z),\n",
    "                     showlegend=False\n",
    ")"
   ]
  },
  {
   "cell_type": "code",
   "execution_count": 55,
   "metadata": {
    "collapsed": true
   },
   "outputs": [],
   "source": [
    "# Represent cluster centers.\n",
    "trace1 = pgo.Scatter(x=model.cluster_centers_[:, 0],\n",
    "                     y=model.cluster_centers_[:, 1],\n",
    "                     name='',\n",
    "                     mode='markers',\n",
    "                     marker=pgo.Marker(symbol='x',\n",
    "                                       size=12,\n",
    "                                       color=range(n_clusters)),\n",
    "                     showlegend=False\n",
    ")\n",
    "data7 = pgo.Data([trace0, trace1])\n",
    "layout7 = layout5\n",
    "layout7['title'] = 'Baltimore Vital Signs (PCA and k-means clustering with 7 clusters)'\n",
    "fig7 = pgo.Figure(data=data7, layout=layout7)"
   ]
  },
  {
   "cell_type": "code",
   "execution_count": 60,
   "metadata": {},
   "outputs": [
    {
     "data": {
      "text/html": [
       "<iframe id=\"igraph\" scrolling=\"no\" style=\"border:none;\"seamless=\"seamless\" src=\"https://plot.ly/~marianne2/1611.embed\" height=\"525\" width=\"100%\"></iframe>"
      ],
      "text/plain": [
       "<plotly.tools.PlotlyDisplay object>"
      ]
     },
     "execution_count": 60,
     "metadata": {},
     "output_type": "execute_result"
    }
   ],
   "source": [
    "py.iplot(fig7, filename='baltimore-cluster-map')"
   ]
  },
  {
   "cell_type": "markdown",
   "metadata": {},
   "source": [
    "Zoom, pan, and hover to explore this reduction of the Baltimore Vital Signs dataset!"
   ]
  },
  {
   "cell_type": "code",
   "execution_count": 1,
   "metadata": {},
   "outputs": [
    {
     "data": {
      "text/html": [
       "<link href=\"//fonts.googleapis.com/css?family=Open+Sans:600,400,300,200|Inconsolata|Ubuntu+Mono:400,700\" rel=\"stylesheet\" type=\"text/css\" />"
      ],
      "text/plain": [
       "<IPython.core.display.HTML object>"
      ]
     },
     "metadata": {},
     "output_type": "display_data"
    },
    {
     "data": {
      "text/html": [
       "<link rel=\"stylesheet\" type=\"text/css\" href=\"http://help.plot.ly/documentation/all_static/css/ipython-notebook-custom.css\">"
      ],
      "text/plain": [
       "<IPython.core.display.HTML object>"
      ]
     },
     "metadata": {},
     "output_type": "display_data"
    },
    {
     "name": "stdout",
     "output_type": "stream",
     "text": [
      "Requirement already up-to-date: publisher in /Users/chelsea/venv/venv2.7/lib/python2.7/site-packages\r\n"
     ]
    },
    {
     "name": "stderr",
     "output_type": "stream",
     "text": [
      "/Users/chelsea/venv/venv2.7/lib/python2.7/site-packages/IPython/nbconvert.py:13: ShimWarning: The `IPython.nbconvert` package has been deprecated since IPython 4.0. You should import from nbconvert instead.\n",
      "  \"You should import from nbconvert instead.\", ShimWarning)\n",
      "/Users/chelsea/venv/venv2.7/lib/python2.7/site-packages/publisher/publisher.py:53: UserWarning: Did you \"Save\" this notebook before running this command? Remember to save, always save.\n",
      "  warnings.warn('Did you \"Save\" this notebook before running this command? '\n"
     ]
    }
   ],
   "source": [
    "from IPython.display import display, HTML\n",
    "\n",
    "display(HTML('<link href=\"//fonts.googleapis.com/css?family=Open+Sans:600,400,300,200|Inconsolata|Ubuntu+Mono:400,700\" rel=\"stylesheet\" type=\"text/css\" />'))\n",
    "display(HTML('<link rel=\"stylesheet\" type=\"text/css\" href=\"http://help.plot.ly/documentation/all_static/css/ipython-notebook-custom.css\">'))\n",
    "\n",
    "! pip install publisher --upgrade\n",
    "import publisher\n",
    "publisher.publish(\n",
    "    'baltimore.ipynb', 'ipython-notebooks/baltimore-vital-signs/', 'Baltimore Vital Signs', \n",
    "    'PCA and k-means clustering on dataset with Baltimore neighborhood indicators', name='Clustering')"
   ]
  },
  {
   "cell_type": "code",
   "execution_count": null,
   "metadata": {
    "collapsed": true
   },
   "outputs": [],
   "source": []
  }
 ],
 "metadata": {
  "kernelspec": {
   "display_name": "Python 2",
   "language": "python",
   "name": "python2"
  },
  "language_info": {
   "codemirror_mode": {
    "name": "ipython",
    "version": 2
   },
   "file_extension": ".py",
   "mimetype": "text/x-python",
   "name": "python",
   "nbconvert_exporter": "python",
   "pygments_lexer": "ipython2",
   "version": "2.7.10"
  }
 },
 "nbformat": 4,
 "nbformat_minor": 1
}
