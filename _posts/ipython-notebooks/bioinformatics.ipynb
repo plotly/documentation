{
 "cells": [
  {
   "cell_type": "markdown",
   "metadata": {},
   "source": [
    "About the author:\n",
    "Oxana is a data scientist based in Stockholm, Sweden. She is studying for a PhD in Bioinformatics, exploring molecular evolution patterns in eukaryotes. You can follow Oxana on Twitter [@Merenlin](http://twitter.com/Merenlin) or read [her blog](http://merenlin.com).\n",
    "\n",
    "#### Introduction\n",
    "This notebook will give you the recipes of the most popular data visualizations I encounter in my work as a bioinformatician. If you always wondered what bioinformatics is all about or would like to create interactive\n",
    "visualization for your genomic data using [plot.ly](https://plot.ly/python/), this is the place to start. \n",
    "\n",
    "We will be working with real [gene expression](http://en.wikipedia.org/wiki/Gene_expression) data obtained by [Cap Analysis of Gene Expression(CAGE)](http://en.wikipedia.org/wiki/Cap_analysis_gene_expression) from human samples by the [FANTOM5](http://fantom.gsc.riken.jp/5/) consortium. We will be following a typical workflow of a bioinformatician exploring new data, looking for the outliers: interesting genes or samples, or general patterns in the data. In the end, you'll get the idea of the challenges and upsides of creating interactive visualizations of biological data using plot.ly Python API. "
   ]
  },
  {
   "cell_type": "markdown",
   "metadata": {},
   "source": [
    "### Obtaining the data"
   ]
  },
  {
   "cell_type": "markdown",
   "metadata": {},
   "source": [
    "FANTOM5 provides high precision data of thousands of human and mouse samples. The vastness of this data can be overwhelming and operating it locally is challenging. Luckily, there are many tools out there to make our life easier.  \n",
    "For creating a small data subset we can work with in this tutorial, I used [TET: Fantom 5 Table Extraction tool](http://fantom.gsc.riken.jp/5/tet). I picked a few human samples, mostly brain tissues with a few outliers, like uterus and downloaded a tab-separated file from the website. For more advanced data extraction, it's good to have a look at [TET's API](https://github.com/Hypercubed/TET/blob/master/README.md). \n",
    "I have picked normalized tpm(tags per million) and annotated data, so we can focus only on processed data for protein coding genes. All data files for this notebook are available on figshare: http://dx.doi.org/10.6084/m9.figshare.1430029"
   ]
  },
  {
   "cell_type": "markdown",
   "metadata": {},
   "source": [
    "###Loading the dataset"
   ]
  },
  {
   "cell_type": "markdown",
   "metadata": {},
   "source": [
    "We are loading the data from the .tsv file, skipping the first two columns (00Annotation and short_description)."
   ]
  },
  {
   "cell_type": "code",
   "execution_count": 47,
   "metadata": {
    "scrolled": false
   },
   "outputs": [
    {
     "name": "stdout",
     "output_type": "stream",
     "text": [
      "Number of genes: 201802\n"
     ]
    },
    {
     "data": {
      "text/html": [
       "<div style=\"max-height:1000px;max-width:1500px;overflow:auto;\">\n",
       "<table border=\"1\" class=\"dataframe\">\n",
       "  <thead>\n",
       "    <tr style=\"text-align: right;\">\n",
       "      <th></th>\n",
       "      <th>uniprot_id</th>\n",
       "      <th>Astrocyte__cerebellum_donor1CNhs1132111500119F6</th>\n",
       "      <th>Astrocyte__cerebral_cortex_donor1CNhs1086411235116D2</th>\n",
       "      <th>brain_adult_donor1CNhs1179610084102B3</th>\n",
       "      <th>brain_adult_pool1CNhs1061710012101C3</th>\n",
       "      <th>brain_fetal_pool1CNhs1179710085102B4</th>\n",
       "      <th>breast_adult_donor1CNhs1179210080102A8</th>\n",
       "      <th>cerebellum__adult_donor10196CNhs1379910173103C2</th>\n",
       "      <th>cerebellum_adult_donor10252CNhs1232310166103B4</th>\n",
       "      <th>cerebellum_newborn_donor10223CNhs1407510357105E6</th>\n",
       "      <th>...</th>\n",
       "      <th>thalamus__adult_donor10196CNhs1379410168103B6</th>\n",
       "      <th>thalamus_adult_donor10252CNhs1231410154103A1</th>\n",
       "      <th>thalamus_adult_donor10258_tech_rep1CNhs1422310370105G1</th>\n",
       "      <th>thalamus_adult_donor10258_tech_rep2CNhs1455110370105G1</th>\n",
       "      <th>thalamus_newborn_donor10223CNhs1408410366105F6</th>\n",
       "      <th>throat_fetal_donor1CNhs1177010061101H7</th>\n",
       "      <th>thyroid_fetal_donor1CNhs1176910060101H6</th>\n",
       "      <th>tongue_epidermis_fungiform_papillae_donor1CNhs1346010288104F9</th>\n",
       "      <th>umbilical_cord_fetal_donor1CNhs1176510057101H3</th>\n",
       "      <th>uterus_fetal_donor1CNhs1176310055101H1</th>\n",
       "    </tr>\n",
       "  </thead>\n",
       "  <tbody>\n",
       "    <tr>\n",
       "      <th>0</th>\n",
       "      <td>             NA</td>\n",
       "      <td>    0</td>\n",
       "      <td>     0</td>\n",
       "      <td> 0</td>\n",
       "      <td> 0</td>\n",
       "      <td> 0</td>\n",
       "      <td>    0</td>\n",
       "      <td> 0</td>\n",
       "      <td>    0</td>\n",
       "      <td>    0</td>\n",
       "      <td>...</td>\n",
       "      <td>   0</td>\n",
       "      <td>    0</td>\n",
       "      <td>    0</td>\n",
       "      <td>    0</td>\n",
       "      <td> 0</td>\n",
       "      <td>    0</td>\n",
       "      <td>    0</td>\n",
       "      <td>    0</td>\n",
       "      <td>    0</td>\n",
       "      <td>    0</td>\n",
       "    </tr>\n",
       "    <tr>\n",
       "      <th>1</th>\n",
       "      <td> uniprot:Q96JB6</td>\n",
       "      <td> 0.12</td>\n",
       "      <td> 11.45</td>\n",
       "      <td> 0</td>\n",
       "      <td> 0</td>\n",
       "      <td> 0</td>\n",
       "      <td> 2.17</td>\n",
       "      <td> 0</td>\n",
       "      <td> 0.22</td>\n",
       "      <td> 1.03</td>\n",
       "      <td>...</td>\n",
       "      <td> 5.8</td>\n",
       "      <td> 0.31</td>\n",
       "      <td> 5.65</td>\n",
       "      <td> 2.99</td>\n",
       "      <td> 0</td>\n",
       "      <td> 1.19</td>\n",
       "      <td> 1.01</td>\n",
       "      <td> 2.58</td>\n",
       "      <td> 7.04</td>\n",
       "      <td> 4.48</td>\n",
       "    </tr>\n",
       "    <tr>\n",
       "      <th>2</th>\n",
       "      <td>             NA</td>\n",
       "      <td>    0</td>\n",
       "      <td>     0</td>\n",
       "      <td> 0</td>\n",
       "      <td> 0</td>\n",
       "      <td> 0</td>\n",
       "      <td>    0</td>\n",
       "      <td> 0</td>\n",
       "      <td>    0</td>\n",
       "      <td>    0</td>\n",
       "      <td>...</td>\n",
       "      <td>   0</td>\n",
       "      <td>    0</td>\n",
       "      <td>    0</td>\n",
       "      <td>    0</td>\n",
       "      <td> 0</td>\n",
       "      <td>    0</td>\n",
       "      <td>    0</td>\n",
       "      <td>    0</td>\n",
       "      <td>    0</td>\n",
       "      <td>    0</td>\n",
       "    </tr>\n",
       "    <tr>\n",
       "      <th>3</th>\n",
       "      <td>             NA</td>\n",
       "      <td>    0</td>\n",
       "      <td>     0</td>\n",
       "      <td> 0</td>\n",
       "      <td> 0</td>\n",
       "      <td> 0</td>\n",
       "      <td>    0</td>\n",
       "      <td> 0</td>\n",
       "      <td>    0</td>\n",
       "      <td>    0</td>\n",
       "      <td>...</td>\n",
       "      <td>   0</td>\n",
       "      <td>    0</td>\n",
       "      <td>    0</td>\n",
       "      <td>    0</td>\n",
       "      <td> 0</td>\n",
       "      <td>    0</td>\n",
       "      <td>    0</td>\n",
       "      <td>    0</td>\n",
       "      <td>    0</td>\n",
       "      <td>    0</td>\n",
       "    </tr>\n",
       "    <tr>\n",
       "      <th>4</th>\n",
       "      <td>             NA</td>\n",
       "      <td>    0</td>\n",
       "      <td>     0</td>\n",
       "      <td> 0</td>\n",
       "      <td> 0</td>\n",
       "      <td> 0</td>\n",
       "      <td>    0</td>\n",
       "      <td> 0</td>\n",
       "      <td>    0</td>\n",
       "      <td>    0</td>\n",
       "      <td>...</td>\n",
       "      <td>   0</td>\n",
       "      <td>    0</td>\n",
       "      <td>    0</td>\n",
       "      <td>    0</td>\n",
       "      <td> 0</td>\n",
       "      <td>    0</td>\n",
       "      <td>    0</td>\n",
       "      <td>    0</td>\n",
       "      <td>    0</td>\n",
       "      <td>    0</td>\n",
       "    </tr>\n",
       "  </tbody>\n",
       "</table>\n",
       "<p>5 rows × 71 columns</p>\n",
       "</div>"
      ],
      "text/plain": [
       "       uniprot_id Astrocyte__cerebellum_donor1CNhs1132111500119F6  \\\n",
       "0              NA                                               0   \n",
       "1  uniprot:Q96JB6                                            0.12   \n",
       "2              NA                                               0   \n",
       "3              NA                                               0   \n",
       "4              NA                                               0   \n",
       "\n",
       "  Astrocyte__cerebral_cortex_donor1CNhs1086411235116D2  \\\n",
       "0                                                  0     \n",
       "1                                              11.45     \n",
       "2                                                  0     \n",
       "3                                                  0     \n",
       "4                                                  0     \n",
       "\n",
       "  brain_adult_donor1CNhs1179610084102B3 brain_adult_pool1CNhs1061710012101C3  \\\n",
       "0                                     0                                    0   \n",
       "1                                     0                                    0   \n",
       "2                                     0                                    0   \n",
       "3                                     0                                    0   \n",
       "4                                     0                                    0   \n",
       "\n",
       "  brain_fetal_pool1CNhs1179710085102B4 breast_adult_donor1CNhs1179210080102A8  \\\n",
       "0                                    0                                      0   \n",
       "1                                    0                                   2.17   \n",
       "2                                    0                                      0   \n",
       "3                                    0                                      0   \n",
       "4                                    0                                      0   \n",
       "\n",
       "  cerebellum__adult_donor10196CNhs1379910173103C2  \\\n",
       "0                                               0   \n",
       "1                                               0   \n",
       "2                                               0   \n",
       "3                                               0   \n",
       "4                                               0   \n",
       "\n",
       "  cerebellum_adult_donor10252CNhs1232310166103B4  \\\n",
       "0                                              0   \n",
       "1                                           0.22   \n",
       "2                                              0   \n",
       "3                                              0   \n",
       "4                                              0   \n",
       "\n",
       "  cerebellum_newborn_donor10223CNhs1407510357105E6  \\\n",
       "0                                                0   \n",
       "1                                             1.03   \n",
       "2                                                0   \n",
       "3                                                0   \n",
       "4                                                0   \n",
       "\n",
       "                        ...                         \\\n",
       "0                       ...                          \n",
       "1                       ...                          \n",
       "2                       ...                          \n",
       "3                       ...                          \n",
       "4                       ...                          \n",
       "\n",
       "  thalamus__adult_donor10196CNhs1379410168103B6  \\\n",
       "0                                             0   \n",
       "1                                           5.8   \n",
       "2                                             0   \n",
       "3                                             0   \n",
       "4                                             0   \n",
       "\n",
       "  thalamus_adult_donor10252CNhs1231410154103A1  \\\n",
       "0                                            0   \n",
       "1                                         0.31   \n",
       "2                                            0   \n",
       "3                                            0   \n",
       "4                                            0   \n",
       "\n",
       "  thalamus_adult_donor10258_tech_rep1CNhs1422310370105G1  \\\n",
       "0                                                  0       \n",
       "1                                               5.65       \n",
       "2                                                  0       \n",
       "3                                                  0       \n",
       "4                                                  0       \n",
       "\n",
       "  thalamus_adult_donor10258_tech_rep2CNhs1455110370105G1  \\\n",
       "0                                                  0       \n",
       "1                                               2.99       \n",
       "2                                                  0       \n",
       "3                                                  0       \n",
       "4                                                  0       \n",
       "\n",
       "  thalamus_newborn_donor10223CNhs1408410366105F6  \\\n",
       "0                                              0   \n",
       "1                                              0   \n",
       "2                                              0   \n",
       "3                                              0   \n",
       "4                                              0   \n",
       "\n",
       "  throat_fetal_donor1CNhs1177010061101H7  \\\n",
       "0                                      0   \n",
       "1                                   1.19   \n",
       "2                                      0   \n",
       "3                                      0   \n",
       "4                                      0   \n",
       "\n",
       "  thyroid_fetal_donor1CNhs1176910060101H6  \\\n",
       "0                                       0   \n",
       "1                                    1.01   \n",
       "2                                       0   \n",
       "3                                       0   \n",
       "4                                       0   \n",
       "\n",
       "  tongue_epidermis_fungiform_papillae_donor1CNhs1346010288104F9  \\\n",
       "0                                                  0              \n",
       "1                                               2.58              \n",
       "2                                                  0              \n",
       "3                                                  0              \n",
       "4                                                  0              \n",
       "\n",
       "  umbilical_cord_fetal_donor1CNhs1176510057101H3  \\\n",
       "0                                              0   \n",
       "1                                           7.04   \n",
       "2                                              0   \n",
       "3                                              0   \n",
       "4                                              0   \n",
       "\n",
       "  uterus_fetal_donor1CNhs1176310055101H1  \n",
       "0                                      0  \n",
       "1                                   4.48  \n",
       "2                                      0  \n",
       "3                                      0  \n",
       "4                                      0  \n",
       "\n",
       "[5 rows x 71 columns]"
      ]
     },
     "execution_count": 47,
     "metadata": {},
     "output_type": "execute_result"
    }
   ],
   "source": [
    "import numpy as np\n",
    "import pandas as pd\n",
    "\n",
    "data = np.genfromtxt(\"http://figshare.com/download/file/2087487/1\",\n",
    "                     comments=\"#\", usecols=range(2,73,1), names=True, dtype=object, delimiter=\"\\t\")\n",
    "df = pd.DataFrame(data)\n",
    "print \"Number of genes: \" + str(len(df))\n",
    "df.head()"
   ]
  },
  {
   "cell_type": "markdown",
   "metadata": {},
   "source": [
    " Let's also make sure that we filter out those genes for which the [Uniprot](http://www.uniprot.org/) Id is unknown. That will reduce our data, besides, we are only interested in proteins in this analysis. "
   ]
  },
  {
   "cell_type": "code",
   "execution_count": 48,
   "metadata": {},
   "outputs": [
    {
     "name": "stdout",
     "output_type": "stream",
     "text": [
      "Number of genes: 59173\n"
     ]
    },
    {
     "data": {
      "text/html": [
       "<div style=\"max-height:1000px;max-width:1500px;overflow:auto;\">\n",
       "<table border=\"1\" class=\"dataframe\">\n",
       "  <thead>\n",
       "    <tr style=\"text-align: right;\">\n",
       "      <th></th>\n",
       "      <th>uniprot_id</th>\n",
       "      <th>Astrocyte__cerebellum_donor1CNhs1132111500119F6</th>\n",
       "      <th>Astrocyte__cerebral_cortex_donor1CNhs1086411235116D2</th>\n",
       "      <th>brain_adult_donor1CNhs1179610084102B3</th>\n",
       "      <th>brain_adult_pool1CNhs1061710012101C3</th>\n",
       "      <th>brain_fetal_pool1CNhs1179710085102B4</th>\n",
       "      <th>breast_adult_donor1CNhs1179210080102A8</th>\n",
       "      <th>cerebellum__adult_donor10196CNhs1379910173103C2</th>\n",
       "      <th>cerebellum_adult_donor10252CNhs1232310166103B4</th>\n",
       "      <th>cerebellum_newborn_donor10223CNhs1407510357105E6</th>\n",
       "      <th>...</th>\n",
       "      <th>thalamus__adult_donor10196CNhs1379410168103B6</th>\n",
       "      <th>thalamus_adult_donor10252CNhs1231410154103A1</th>\n",
       "      <th>thalamus_adult_donor10258_tech_rep1CNhs1422310370105G1</th>\n",
       "      <th>thalamus_adult_donor10258_tech_rep2CNhs1455110370105G1</th>\n",
       "      <th>thalamus_newborn_donor10223CNhs1408410366105F6</th>\n",
       "      <th>throat_fetal_donor1CNhs1177010061101H7</th>\n",
       "      <th>thyroid_fetal_donor1CNhs1176910060101H6</th>\n",
       "      <th>tongue_epidermis_fungiform_papillae_donor1CNhs1346010288104F9</th>\n",
       "      <th>umbilical_cord_fetal_donor1CNhs1176510057101H3</th>\n",
       "      <th>uterus_fetal_donor1CNhs1176310055101H1</th>\n",
       "    </tr>\n",
       "  </thead>\n",
       "  <tbody>\n",
       "    <tr>\n",
       "      <th>1 </th>\n",
       "      <td>                               uniprot:Q96JB6</td>\n",
       "      <td>  0.12</td>\n",
       "      <td> 11.45</td>\n",
       "      <td>     0</td>\n",
       "      <td>     0</td>\n",
       "      <td>     0</td>\n",
       "      <td> 2.17</td>\n",
       "      <td>     0</td>\n",
       "      <td>  0.22</td>\n",
       "      <td>  1.03</td>\n",
       "      <td>...</td>\n",
       "      <td>   5.8</td>\n",
       "      <td>  0.31</td>\n",
       "      <td> 5.65</td>\n",
       "      <td>  2.99</td>\n",
       "      <td>     0</td>\n",
       "      <td>  1.19</td>\n",
       "      <td>  1.01</td>\n",
       "      <td> 2.58</td>\n",
       "      <td>  7.04</td>\n",
       "      <td>  4.48</td>\n",
       "    </tr>\n",
       "    <tr>\n",
       "      <th>6 </th>\n",
       "      <td>                               uniprot:Q8N2H3</td>\n",
       "      <td>  7.51</td>\n",
       "      <td>   6.3</td>\n",
       "      <td>  3.88</td>\n",
       "      <td>  3.71</td>\n",
       "      <td>     2</td>\n",
       "      <td> 5.07</td>\n",
       "      <td>  1.53</td>\n",
       "      <td>  1.99</td>\n",
       "      <td>  6.72</td>\n",
       "      <td>...</td>\n",
       "      <td>  4.15</td>\n",
       "      <td>  7.34</td>\n",
       "      <td> 4.23</td>\n",
       "      <td>  3.84</td>\n",
       "      <td>  4.28</td>\n",
       "      <td> 15.24</td>\n",
       "      <td> 11.92</td>\n",
       "      <td> 7.74</td>\n",
       "      <td>  7.04</td>\n",
       "      <td> 15.87</td>\n",
       "    </tr>\n",
       "    <tr>\n",
       "      <th>7 </th>\n",
       "      <td>                               uniprot:Q8N2H3</td>\n",
       "      <td>  3.69</td>\n",
       "      <td>  3.43</td>\n",
       "      <td>  1.94</td>\n",
       "      <td>  0.65</td>\n",
       "      <td>     0</td>\n",
       "      <td>    0</td>\n",
       "      <td>  1.53</td>\n",
       "      <td>  0.55</td>\n",
       "      <td>  1.55</td>\n",
       "      <td>...</td>\n",
       "      <td>  0.83</td>\n",
       "      <td>  2.69</td>\n",
       "      <td> 2.82</td>\n",
       "      <td>  1.92</td>\n",
       "      <td>     0</td>\n",
       "      <td>  3.33</td>\n",
       "      <td>  3.03</td>\n",
       "      <td> 2.58</td>\n",
       "      <td>  2.35</td>\n",
       "      <td>  5.29</td>\n",
       "    </tr>\n",
       "    <tr>\n",
       "      <th>14</th>\n",
       "      <td> uniprot:Q92902,uniprot:Q658M9,uniprot:Q8WXE5</td>\n",
       "      <td> 35.58</td>\n",
       "      <td> 20.61</td>\n",
       "      <td> 30.05</td>\n",
       "      <td> 21.71</td>\n",
       "      <td> 19.96</td>\n",
       "      <td> 31.9</td>\n",
       "      <td> 13.73</td>\n",
       "      <td> 20.79</td>\n",
       "      <td> 21.72</td>\n",
       "      <td>...</td>\n",
       "      <td> 15.75</td>\n",
       "      <td> 26.89</td>\n",
       "      <td>   24</td>\n",
       "      <td> 26.24</td>\n",
       "      <td> 12.83</td>\n",
       "      <td> 19.76</td>\n",
       "      <td> 22.03</td>\n",
       "      <td> 12.9</td>\n",
       "      <td> 32.85</td>\n",
       "      <td> 17.09</td>\n",
       "    </tr>\n",
       "    <tr>\n",
       "      <th>23</th>\n",
       "      <td>                               uniprot:Q8WWQ2</td>\n",
       "      <td>     0</td>\n",
       "      <td>     0</td>\n",
       "      <td>     0</td>\n",
       "      <td>  1.02</td>\n",
       "      <td>     0</td>\n",
       "      <td>    0</td>\n",
       "      <td>     0</td>\n",
       "      <td>  2.99</td>\n",
       "      <td>     0</td>\n",
       "      <td>...</td>\n",
       "      <td>   5.8</td>\n",
       "      <td>  8.38</td>\n",
       "      <td> 4.23</td>\n",
       "      <td>  8.96</td>\n",
       "      <td>  0.71</td>\n",
       "      <td>  0.71</td>\n",
       "      <td>     0</td>\n",
       "      <td>    0</td>\n",
       "      <td>  7.04</td>\n",
       "      <td>   5.7</td>\n",
       "    </tr>\n",
       "  </tbody>\n",
       "</table>\n",
       "<p>5 rows × 71 columns</p>\n",
       "</div>"
      ],
      "text/plain": [
       "                                      uniprot_id  \\\n",
       "1                                 uniprot:Q96JB6   \n",
       "6                                 uniprot:Q8N2H3   \n",
       "7                                 uniprot:Q8N2H3   \n",
       "14  uniprot:Q92902,uniprot:Q658M9,uniprot:Q8WXE5   \n",
       "23                                uniprot:Q8WWQ2   \n",
       "\n",
       "   Astrocyte__cerebellum_donor1CNhs1132111500119F6  \\\n",
       "1                                             0.12   \n",
       "6                                             7.51   \n",
       "7                                             3.69   \n",
       "14                                           35.58   \n",
       "23                                               0   \n",
       "\n",
       "   Astrocyte__cerebral_cortex_donor1CNhs1086411235116D2  \\\n",
       "1                                               11.45     \n",
       "6                                                 6.3     \n",
       "7                                                3.43     \n",
       "14                                              20.61     \n",
       "23                                                  0     \n",
       "\n",
       "   brain_adult_donor1CNhs1179610084102B3 brain_adult_pool1CNhs1061710012101C3  \\\n",
       "1                                      0                                    0   \n",
       "6                                   3.88                                 3.71   \n",
       "7                                   1.94                                 0.65   \n",
       "14                                 30.05                                21.71   \n",
       "23                                     0                                 1.02   \n",
       "\n",
       "   brain_fetal_pool1CNhs1179710085102B4  \\\n",
       "1                                     0   \n",
       "6                                     2   \n",
       "7                                     0   \n",
       "14                                19.96   \n",
       "23                                    0   \n",
       "\n",
       "   breast_adult_donor1CNhs1179210080102A8  \\\n",
       "1                                    2.17   \n",
       "6                                    5.07   \n",
       "7                                       0   \n",
       "14                                   31.9   \n",
       "23                                      0   \n",
       "\n",
       "   cerebellum__adult_donor10196CNhs1379910173103C2  \\\n",
       "1                                                0   \n",
       "6                                             1.53   \n",
       "7                                             1.53   \n",
       "14                                           13.73   \n",
       "23                                               0   \n",
       "\n",
       "   cerebellum_adult_donor10252CNhs1232310166103B4  \\\n",
       "1                                            0.22   \n",
       "6                                            1.99   \n",
       "7                                            0.55   \n",
       "14                                          20.79   \n",
       "23                                           2.99   \n",
       "\n",
       "   cerebellum_newborn_donor10223CNhs1407510357105E6  \\\n",
       "1                                              1.03   \n",
       "6                                              6.72   \n",
       "7                                              1.55   \n",
       "14                                            21.72   \n",
       "23                                                0   \n",
       "\n",
       "                         ...                         \\\n",
       "1                        ...                          \n",
       "6                        ...                          \n",
       "7                        ...                          \n",
       "14                       ...                          \n",
       "23                       ...                          \n",
       "\n",
       "   thalamus__adult_donor10196CNhs1379410168103B6  \\\n",
       "1                                            5.8   \n",
       "6                                           4.15   \n",
       "7                                           0.83   \n",
       "14                                         15.75   \n",
       "23                                           5.8   \n",
       "\n",
       "   thalamus_adult_donor10252CNhs1231410154103A1  \\\n",
       "1                                          0.31   \n",
       "6                                          7.34   \n",
       "7                                          2.69   \n",
       "14                                        26.89   \n",
       "23                                         8.38   \n",
       "\n",
       "   thalamus_adult_donor10258_tech_rep1CNhs1422310370105G1  \\\n",
       "1                                                5.65       \n",
       "6                                                4.23       \n",
       "7                                                2.82       \n",
       "14                                                 24       \n",
       "23                                               4.23       \n",
       "\n",
       "   thalamus_adult_donor10258_tech_rep2CNhs1455110370105G1  \\\n",
       "1                                                2.99       \n",
       "6                                                3.84       \n",
       "7                                                1.92       \n",
       "14                                              26.24       \n",
       "23                                               8.96       \n",
       "\n",
       "   thalamus_newborn_donor10223CNhs1408410366105F6  \\\n",
       "1                                               0   \n",
       "6                                            4.28   \n",
       "7                                               0   \n",
       "14                                          12.83   \n",
       "23                                           0.71   \n",
       "\n",
       "   throat_fetal_donor1CNhs1177010061101H7  \\\n",
       "1                                    1.19   \n",
       "6                                   15.24   \n",
       "7                                    3.33   \n",
       "14                                  19.76   \n",
       "23                                   0.71   \n",
       "\n",
       "   thyroid_fetal_donor1CNhs1176910060101H6  \\\n",
       "1                                     1.01   \n",
       "6                                    11.92   \n",
       "7                                     3.03   \n",
       "14                                   22.03   \n",
       "23                                       0   \n",
       "\n",
       "   tongue_epidermis_fungiform_papillae_donor1CNhs1346010288104F9  \\\n",
       "1                                                2.58              \n",
       "6                                                7.74              \n",
       "7                                                2.58              \n",
       "14                                               12.9              \n",
       "23                                                  0              \n",
       "\n",
       "   umbilical_cord_fetal_donor1CNhs1176510057101H3  \\\n",
       "1                                            7.04   \n",
       "6                                            7.04   \n",
       "7                                            2.35   \n",
       "14                                          32.85   \n",
       "23                                           7.04   \n",
       "\n",
       "   uterus_fetal_donor1CNhs1176310055101H1  \n",
       "1                                    4.48  \n",
       "6                                   15.87  \n",
       "7                                    5.29  \n",
       "14                                  17.09  \n",
       "23                                    5.7  \n",
       "\n",
       "[5 rows x 71 columns]"
      ]
     },
     "execution_count": 48,
     "metadata": {},
     "output_type": "execute_result"
    }
   ],
   "source": [
    "uniprot_clean = [x for x in df['uniprot_id'] if (x != 'NA') and ((x != ''))]\n",
    "df=df[df[\"uniprot_id\"].isin(uniprot_clean)]\n",
    "print \"Number of genes: \" + str(len(df))\n",
    "df.head()"
   ]
  },
  {
   "cell_type": "markdown",
   "metadata": {},
   "source": [
    "###1. MA scatter plot comparing newborn and adult tissues"
   ]
  },
  {
   "cell_type": "markdown",
   "metadata": {},
   "source": [
    "[MA plot](http://en.wikipedia.org/wiki/MA_plot) is a popular visualization tool coming from the microarray analysis. It allows researchers to explore true statistical differences between the two samples, arrays or other observations. We are going to look at the two samples of substantia nigra tissues from the brain of an adult and a newborn person. How do their genetic profiles differ? \n",
    "\n",
    "Firs, let's subset our big dataframe to only include the samples of interest. We will also prefilter the data to not include genes that are not expressed in these tissues. \n"
   ]
  },
  {
   "cell_type": "code",
   "execution_count": 49,
   "metadata": {},
   "outputs": [],
   "source": [
    "df_MA = df[[\"uniprot_id\",'substantia_nigra_adult_donor10258CNhs1422410371105G2','substantia_nigra_newborn_donor10223CNhs1407610358105E7']]\n",
    "df_MA.columns = ['gene','adult', 'newborn']\n",
    "df_MA[['adult','newborn']] = df_MA[['adult', 'newborn']].astype(float) \n",
    "df_MA = df_MA[(df_MA.T != 0).any()]  #remove rows with all zeros"
   ]
  },
  {
   "cell_type": "markdown",
   "metadata": {},
   "source": [
    "There are many different methods of computing the average expression level(A) between the two observations and\n",
    "the mean variation(M). To keep things simple, for this example we will just compare the sum on the x-axis vs the minus on the y-axis.\n",
    "Our data is already normalized and preprocessed, so this will be enough to find the clear outliers. \n",
    "\n",
    "Here lies the firs problem with web-based interactive visualizations. Plot.ly at the moment has a very hard time rendering more than 40k points in a scatter plot. So for the sake of this example, I'll plot a subset of the data. "
   ]
  },
  {
   "cell_type": "code",
   "execution_count": 50,
   "metadata": {},
   "outputs": [
    {
     "data": {
      "text/html": [
       "<iframe id=\"igraph\" scrolling=\"no\" style=\"border:none;\"seamless=\"seamless\" src=\"https://plot.ly/~oxana/253.embed\" height=\"525\" width=\"100%\"></iframe>"
      ],
      "text/plain": [
       "<plotly.tools.PlotlyDisplay object>"
      ]
     },
     "execution_count": 50,
     "metadata": {},
     "output_type": "execute_result"
    }
   ],
   "source": [
    "import plotly.plotly as py\n",
    "from plotly.graph_objs import *\n",
    "\n",
    "A = df_MA['adult'] + df_MA['newborn']\n",
    "M = df_MA['adult'] - df_MA['newborn']\n",
    "\n",
    "trace = Scatter(\n",
    "    x=A[1:1000],\n",
    "    y=M[1:1000],\n",
    "    mode='markers',\n",
    "    name=\"substantia nigra\",\n",
    "    text=df_MA['gene'][1:1000],\n",
    "    marker=Marker(\n",
    "        size=5,\n",
    "        line=Line(\n",
    "            width=0.5),\n",
    "        opacity=0.8))\n",
    "\n",
    "layout = Layout(showlegend=True,\n",
    "                title=\"MA plot of gene expression in adult and newborn samples of substantia nigra\",\n",
    "                xaxis=XAxis(\n",
    "                    title='A',\n",
    "                ),\n",
    "               yaxis=YAxis(\n",
    "                    title='M',\n",
    "                ),\n",
    "                )\n",
    "fig = Figure(data=Data([trace]), layout=layout)\n",
    "py.iplot(fig)\n"
   ]
  },
  {
   "cell_type": "markdown",
   "metadata": {},
   "source": [
    "Now we can already start exploring some of the genes, that behave differently in adult vs newborn samples. "
   ]
  },
  {
   "cell_type": "markdown",
   "metadata": {
    "collapsed": true
   },
   "source": [
    "### 2. Histograms of expression breadth and average expression levels"
   ]
  },
  {
   "cell_type": "markdown",
   "metadata": {},
   "source": [
    "Another timeless visualization for exploratory data analysis is histogram. Here we don't need to subset our data anymore, for plots like these Plot.ly's capacity is up to 100k points. Let's see how expression breadth(in how many tissues the gene is expressed) and average expression levels look like for all of the samples. \n",
    "\n",
    "Just use the \"domain\" variable to regulate where the axis of each subplot are. "
   ]
  },
  {
   "cell_type": "code",
   "execution_count": 51,
   "metadata": {},
   "outputs": [
    {
     "data": {
      "text/html": [
       "<iframe id=\"igraph\" scrolling=\"no\" style=\"border:none;\"seamless=\"seamless\" src=\"https://plot.ly/~oxana/254.embed\" height=\"525\" width=\"100%\"></iframe>"
      ],
      "text/plain": [
       "<plotly.tools.PlotlyDisplay object>"
      ]
     },
     "execution_count": 51,
     "metadata": {},
     "output_type": "execute_result"
    }
   ],
   "source": [
    "df['breadth'] =  (df[df.columns[1:].values.tolist()].astype('float')\n",
    "\n",
    ">0).sum(axis=1)\n",
    "\n",
    "df['avg'] = df[df.columns[1:].values.tolist()].astype('float').mean(axis=1)\n",
    "\n",
    "trace1 = Histogram(\n",
    "        name=\"expression breadth\",\n",
    "        x = df['breadth'],\n",
    "        marker=Marker(\n",
    "        line=Line(\n",
    "            color='grey',\n",
    "            width=0\n",
    "        ),\n",
    "        opacity=0.75\n",
    "        ),\n",
    ")\n",
    "\n",
    "trace2 = Histogram(\n",
    "        name=\"average expression\",\n",
    "        x = df['avg'],\n",
    "        marker=Marker(\n",
    "        line=Line(\n",
    "            color='grey',\n",
    "            width=0\n",
    "        ),\n",
    "        opacity=0.75\n",
    "        ),\n",
    "    xaxis='x2',\n",
    "    yaxis='y2'\n",
    "    )\n",
    "\n",
    "\n",
    "layout = Layout(\n",
    "    title=\"Exploring the distributions\",\n",
    "    xaxis=XAxis(\n",
    "        title='breadth',\n",
    "         domain=[0, 0.45]\n",
    "    ),\n",
    "    xaxis2=XAxis(\n",
    "        title='average expression',\n",
    "        domain=[0.55, 1],\n",
    "    ), \n",
    "    yaxis2=YAxis(\n",
    "        anchor='x2'\n",
    "    )\n",
    ")\n",
    "\n",
    "fig = Figure(data=Data([trace1, trace2]), layout=layout)\n",
    "py.iplot(fig)"
   ]
  },
  {
   "cell_type": "markdown",
   "metadata": {},
   "source": [
    "Here is where interactive visualization comes in handy. Average expression level distribution looks very wide because of a few outliers, - highly expressed genes and most of the genes actually being expressed at a very low level. But instead of trying to adjust the limits on the x-axis, we can just zoom in on the interesting area. Try it!"
   ]
  },
  {
   "cell_type": "markdown",
   "metadata": {},
   "source": [
    "### 3. Scatter plot with a trend line"
   ]
  },
  {
   "cell_type": "markdown",
   "metadata": {},
   "source": [
    "This kind of plot must be the most popular way to visualize a trend in biological data. We seek clear\n",
    "and simple patterns demonstrating the relationships between different biological parameters or observations.\n",
    "Plot.ly's Python API does not come with out-of-the-box tools for plotting trend lines, but numpy has all we need. \n",
    "\n",
    "Let's say we want to plot the relationship between the breadth of expression and the average level. Again, for speed and simplicity, we only take the first 1000 genes in our data frame. Let's try to fit a polinomial function to our data points and plot both at the same time. By using plot.ly it's simple, just send the regression line trace to the same figure.  "
   ]
  },
  {
   "cell_type": "code",
   "execution_count": 52,
   "metadata": {},
   "outputs": [
    {
     "data": {
      "text/html": [
       "<iframe id=\"igraph\" scrolling=\"no\" style=\"border:none;\"seamless=\"seamless\" src=\"https://plot.ly/~oxana/255.embed\" height=\"525\" width=\"100%\"></iframe>"
      ],
      "text/plain": [
       "<plotly.tools.PlotlyDisplay object>"
      ]
     },
     "execution_count": 52,
     "metadata": {},
     "output_type": "execute_result"
    }
   ],
   "source": [
    "x = df['breadth'][1:1000]\n",
    "y = df['avg'][1:1000]\n",
    "coefficients = np.polyfit(x, y, 6)\n",
    "polynomial = np.poly1d(coefficients)\n",
    "r_x = np.arange(0, 72, 0.5)\n",
    "r_y = polynomial(r_x)\n",
    "\n",
    "trace1 = Scatter(\n",
    "    x=x,\n",
    "    y=y,\n",
    "    mode='markers',\n",
    "    name=\"expression levels\",\n",
    "    text=df['uniprot_id'][1:1000],\n",
    "    marker=Marker(\n",
    "        size=5,\n",
    "        line=Line(\n",
    "            color='rgba(217, 217, 217, 0.14)',\n",
    "            width=0.5),\n",
    "        opacity=0.2))\n",
    "\n",
    "trace2 = Scatter(\n",
    "    mode='lines+markers',\n",
    "    x=r_x, \n",
    "    y=r_y,\n",
    "    marker=Marker(\n",
    "        size=5,\n",
    "        line=Line(\n",
    "            color='purple',\n",
    "            width=0.5),\n",
    "        opacity=0.5),\n",
    "    name=\"breadth regression\")\n",
    "\n",
    "layout = Layout(\n",
    "    title=\"Breadth of expression vs average expression level\",\n",
    "    xaxis=XAxis(\n",
    "        title='breadth',\n",
    "    ),\n",
    "    yaxis=YAxis(\n",
    "        title='average expression',\n",
    "    ),\n",
    ")\n",
    "fig = Figure(data=Data([trace1, trace2]), layout=layout)\n",
    "py.iplot(fig)"
   ]
  },
  {
   "cell_type": "markdown",
   "metadata": {},
   "source": [
    "### 4. Heatmap of gene expression"
   ]
  },
  {
   "cell_type": "markdown",
   "metadata": {},
   "source": [
    "Heatmap is another great way to visualize big amounts of data. It allows to clearly see the outliers and explore the \n",
    "general clustering patterns. Are genes in different tissues, but the same donor expressed similarly or do the same tissues\n",
    "from different donors tend to cluster together? Do brains of newborns and adults differ in gene expression patterns? \n",
    "Heatmaps of gene expression can give you good leads to questions like these. "
   ]
  },
  {
   "cell_type": "markdown",
   "metadata": {},
   "source": [
    "There is one catch with generating a heatmap for biological samples using plot.ly. Labels of the heatmap will actually\n",
    "be coordinates on the x and y axis. For the plot to look less cluttered, I have removed the grid and set dtick to 1. Setting autotick to False also proved useful in order to see all the samples correctly labeled. \n",
    "\n",
    "To improve readability, one often also needs to process samples names. In our data, as you probably noticed, sample names include everything: tissue name, annotation, donor, age. The name becomes long and impossible to display in a plot. Simple shortening will not work with plot.ly though, since the coordinates must be unique! \n",
    "\n",
    "For this tutorial I've cheated a bit, by just adding an integer to each shortened name, I'm sure you can handle the string processing of your samples names on your own ;-)"
   ]
  },
  {
   "cell_type": "code",
   "execution_count": 53,
   "metadata": {},
   "outputs": [
    {
     "data": {
      "text/html": [
       "<iframe id=\"igraph\" scrolling=\"no\" style=\"border:none;\"seamless=\"seamless\" src=\"https://plot.ly/~oxana/256.embed?width=875&height=875\" height=\"900\" width=\"900\"></iframe>"
      ],
      "text/plain": [
       "<plotly.tools.PlotlyDisplay object>"
      ]
     },
     "execution_count": 53,
     "metadata": {},
     "output_type": "execute_result"
    }
   ],
   "source": [
    "from scipy.spatial.distance import pdist, squareform\n",
    "\n",
    "cols = [col for col in df.columns if col not in ['breadth', 'uniprot_id', 'avg']]\n",
    "short_cols = [col[0:20] for col in cols]\n",
    "short_cols = [short_cols[i] + str(i) for i in range(1,len(short_cols),1)]\n",
    "data_dist = pdist(df[cols].as_matrix().transpose())\n",
    "\n",
    "data = Data([\n",
    "    Heatmap(\n",
    "        z=squareform(data_dist), colorscale='YIGnBu',\n",
    "        x=short_cols,\n",
    "        y=short_cols,     # y-axis labels\n",
    "    )\n",
    "])\n",
    "\n",
    "layout = Layout(\n",
    "    title='Transcription profiling of human brain samples',\n",
    "    autosize=False,\n",
    "    margin=Margin(\n",
    "        l=200,\n",
    "        b=200,\n",
    "        pad=4\n",
    "    ),\n",
    "    xaxis=XAxis(\n",
    "        showgrid=False, # remove grid\n",
    "        autotick=False, # custom ticks\n",
    "        dtick=1,        # show 1 tick per day\n",
    "    ),\n",
    "    yaxis=YAxis(\n",
    "        showgrid=False,   # remove grid\n",
    "        autotick=False,   # custom ticks\n",
    "        dtick=1           # show 1 tick per day\n",
    "    ),\n",
    ")\n",
    "fig = Figure(data=data, layout=layout)\n",
    "py.iplot(fig, width=900, height=900)\n"
   ]
  },
  {
   "cell_type": "markdown",
   "metadata": {},
   "source": [
    "### 5. Network of gene interactions"
   ]
  },
  {
   "cell_type": "markdown",
   "metadata": {},
   "source": [
    "Now at some point in our biological investigations, we've got to dig deeper and look at concrete genes/proteins we found interesting. \n",
    "\n",
    "If you go back to our first plot, you'll see that one of the points that stand out corresponds to Q16352(Alpha-internexin, AINX_HUMAN). This gene demonstrates both high level of expression in substantia nigra and the difference between adult and newborn samples is also significant. Which kind of makes sense, since this protein is involved in the morphogenesis of neurons. One of the ways to find out more about a protein is to look at it's interaction networks. \n",
    "\n",
    "I've downloaded the interaction network in tab-separated format from a popular database [string-db.org](http://string-db.org/), so there is nothing novel in plotting it, we are merely reproducing the graph on their website, but, hopefully, you'll be able to use it for your future contributions to science! "
   ]
  },
  {
   "cell_type": "code",
   "execution_count": 54,
   "metadata": {},
   "outputs": [
    {
     "data": {
      "text/html": [
       "<iframe id=\"igraph\" scrolling=\"no\" style=\"border:none;\"seamless=\"seamless\" src=\"https://plot.ly/~oxana/257.embed\" height=\"525\" width=\"100%\"></iframe>"
      ],
      "text/plain": [
       "<plotly.tools.PlotlyDisplay object>"
      ]
     },
     "execution_count": 54,
     "metadata": {},
     "output_type": "execute_result"
    }
   ],
   "source": [
    "import networkx as nx\n",
    "\n",
    "import plotly.plotly as py\n",
    "from plotly.graph_objs import *\n",
    "\n",
    "x = np.genfromtxt('http://figshare.com/download/file/2088824', delimiter=\"\\t\", names=True, usecols=[0,1,14],\n",
    "                  dtype=['S5','S5','f8'])\n",
    "labels = x.dtype.names\n",
    "\n",
    "G=nx.Graph()\n",
    "G.add_weighted_edges_from(x)\n",
    "\n",
    "pos=nx.spring_layout(G)\n",
    "\n",
    "edge_trace = Scatter(x=[], y=[], mode='lines')\n",
    "for edge in G.edges():\n",
    "    x0, y0 = pos[edge[0]] \n",
    "    x1, y1 = pos[edge[1]] \n",
    "    edge_trace['x'] += [x0, x1, None]\n",
    "    edge_trace['y'] += [y0, y1, None]\n",
    "\n",
    "node_trace = Scatter(x=[], y=[], mode='markers+text',\n",
    "                     text=G.nodes(),\n",
    "                     textposition='top',\n",
    "                     marker=Marker(size=10))\n",
    "for node in G.nodes():\n",
    "    x, y = pos[node]\n",
    "    node_trace['x'].append(x)\n",
    "    node_trace['y'].append(y)\n",
    "   \n",
    "fig = Figure(data=Data([edge_trace, node_trace]),\n",
    "             layout=Layout(title='AINX_HUMAN interaction network',\n",
    "                           showlegend=False, xaxis=XAxis(showgrid=False, zeroline=False, showticklabels=False),\n",
    "                           yaxis=YAxis(showgrid=False, zeroline=False, showticklabels=False)))\n",
    "\n",
    "py.iplot(fig)\n",
    "\n"
   ]
  },
  {
   "cell_type": "markdown",
   "metadata": {},
   "source": [
    "Now you see our protein under it's gene name(INA) in the center of the graph. "
   ]
  },
  {
   "cell_type": "markdown",
   "metadata": {
    "collapsed": true
   },
   "source": [
    "Now, that's all, folks! I hope you enjoyed this intro to exploratory bioinformatics and got inspired to create beautiful interactive visualizations for your biological data. "
   ]
  },
  {
   "cell_type": "code",
   "execution_count": 1,
   "metadata": {},
   "outputs": [
    {
     "data": {
      "text/html": [
       "<link href=\"//fonts.googleapis.com/css?family=Open+Sans:600,400,300,200|Inconsolata|Ubuntu+Mono:400,700\" rel=\"stylesheet\" type=\"text/css\" />"
      ],
      "text/plain": [
       "<IPython.core.display.HTML object>"
      ]
     },
     "metadata": {},
     "output_type": "display_data"
    },
    {
     "data": {
      "text/html": [
       "<link rel=\"stylesheet\" type=\"text/css\" href=\"http://help.plot.ly/documentation/all_static/css/ipython-notebook-custom.css\">"
      ],
      "text/plain": [
       "<IPython.core.display.HTML object>"
      ]
     },
     "metadata": {},
     "output_type": "display_data"
    },
    {
     "name": "stdout",
     "output_type": "stream",
     "text": [
      "Requirement already up-to-date: publisher in /Users/chelsea/venv/venv2.7/lib/python2.7/site-packages\r\n"
     ]
    },
    {
     "name": "stderr",
     "output_type": "stream",
     "text": [
      "/Users/chelsea/venv/venv2.7/lib/python2.7/site-packages/IPython/nbconvert.py:13: ShimWarning: The `IPython.nbconvert` package has been deprecated since IPython 4.0. You should import from nbconvert instead.\n",
      "  \"You should import from nbconvert instead.\", ShimWarning)\n",
      "/Users/chelsea/venv/venv2.7/lib/python2.7/site-packages/publisher/publisher.py:53: UserWarning: Did you \"Save\" this notebook before running this command? Remember to save, always save.\n",
      "  warnings.warn('Did you \"Save\" this notebook before running this command? '\n"
     ]
    }
   ],
   "source": [
    "from IPython.display import display, HTML\n",
    "\n",
    "display(HTML('<link href=\"//fonts.googleapis.com/css?family=Open+Sans:600,400,300,200|Inconsolata|Ubuntu+Mono:400,700\" rel=\"stylesheet\" type=\"text/css\" />'))\n",
    "display(HTML('<link rel=\"stylesheet\" type=\"text/css\" href=\"http://help.plot.ly/documentation/all_static/css/ipython-notebook-custom.css\">'))\n",
    "\n",
    "\n",
    "! pip install publisher --upgrade\n",
    "import publisher\n",
    "publisher.publish(\n",
    "    'bioinformatics.ipynb', 'ipython-notebooks/bioinformatics/', 'Visualizing biological data: exploratory bioinformatics with plot.ly', \n",
    "    '5 popular visualizations that bioinformaticians use in exploratory analysis of genomic data.', name='Visualizing Biological Data')"
   ]
  },
  {
   "cell_type": "code",
   "execution_count": null,
   "metadata": {
    "collapsed": true
   },
   "outputs": [],
   "source": []
  }
 ],
 "metadata": {
  "kernelspec": {
   "display_name": "Python 2",
   "language": "python",
   "name": "python2"
  },
  "language_info": {
   "codemirror_mode": {
    "name": "ipython",
    "version": 2
   },
   "file_extension": ".py",
   "mimetype": "text/x-python",
   "name": "python",
   "nbconvert_exporter": "python",
   "pygments_lexer": "ipython2",
   "version": "2.7.10"
  }
 },
 "nbformat": 4,
 "nbformat_minor": 1
}
