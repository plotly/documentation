{
 "cells": [
  {
   "cell_type": "markdown",
   "metadata": {},
   "source": [
    "## IPython and Plotly: A Rosetta Stone for MATLAB,<br>R, Python, and Excel plotting "
   ]
  },
  {
   "cell_type": "markdown",
   "metadata": {},
   "source": [
    "Collaboration, data analysis, and data visualization sometimes feels like this:"
   ]
  },
  {
   "cell_type": "code",
   "execution_count": 1,
   "metadata": {},
   "outputs": [
    {
     "data": {
      "text/html": [
       "<img src=\"https://i.imgur.com/4DrMgLI.png\"/>"
      ],
      "text/plain": [
       "<IPython.core.display.Image at 0x7f54a8e199d0>"
      ]
     },
     "execution_count": 1,
     "metadata": {},
     "output_type": "execute_result"
    }
   ],
   "source": [
    "from IPython.display import Image\n",
    "Image(url = 'https://i.imgur.com/4DrMgLI.png')"
   ]
  },
  {
   "cell_type": "markdown",
   "metadata": {},
   "source": [
    "Graphing and data analysis need a Rosetta Stone to solve the fragmentation and collaboration problem. \n",
    "Plotly is about bridging the divide and serving as an interoperable platform for analysis and plotting. You can import, edit, and plot data using scripts and data from Python, MATLAB, R, Julia, Perl, REST, Arduino, Raspberry Pi, or Excel. So can your team. \n",
    "\n",
    "*All in the same online plot*.\n",
    "\n",
    "Read on to learn more, or run `$ pip install plotly` and copy and paste the code below. Plotly is online, meaning no downloads or installations necessary. "
   ]
  },
  {
   "cell_type": "code",
   "execution_count": 2,
   "metadata": {},
   "outputs": [],
   "source": [
    "%matplotlib inline\n",
    "import matplotlib.pyplot as plt # side-stepping mpl backend\n",
    "import matplotlib.gridspec as gridspec # subplots\n",
    "import numpy as np"
   ]
  },
  {
   "cell_type": "markdown",
   "metadata": {},
   "source": [
    "You can use our key, or [sign-up](https://plot.ly/ssi) to get started. It's free for any public sharing and you own your data, so you can make and share as many plots as you want."
   ]
  },
  {
   "cell_type": "code",
   "execution_count": 3,
   "metadata": {},
   "outputs": [],
   "source": [
    "import plotly.plotly as py\n",
    "import plotly.tools as tls\n",
    "from plotly.graph_objs import *\n",
    "py.sign_in(\"IPython.Demo\", \"1fw3zw2o13\")"
   ]
  },
  {
   "cell_type": "code",
   "execution_count": 4,
   "metadata": {},
   "outputs": [
    {
     "data": {
      "text/plain": [
       "'1.0.12'"
      ]
     },
     "execution_count": 4,
     "metadata": {},
     "output_type": "execute_result"
    }
   ],
   "source": [
    "import plotly\n",
    "plotly.__version__"
   ]
  },
  {
   "cell_type": "markdown",
   "metadata": {},
   "source": [
    "## I. shareable matplotlib figures"
   ]
  },
  {
   "cell_type": "markdown",
   "metadata": {},
   "source": [
    "Let's start out with a matplotlib example. We also have [a user guide section](https://plot.ly/python/matplotlib-to-plotly-tutorial/) on the subject."
   ]
  },
  {
   "cell_type": "code",
   "execution_count": 5,
   "metadata": {},
   "outputs": [
    {
     "data": {
      "text/plain": [
       "<matplotlib.text.Text at 0x7f549f2ea050>"
      ]
     },
     "execution_count": 5,
     "metadata": {},
     "output_type": "execute_result"
    },
    {
     "data": {
      "image/png": "[encoded data removed]",
      "text/plain": [
       "<matplotlib.figure.Figure at 0x7f549f5b1b10>"
      ]
     },
     "metadata": {},
     "output_type": "display_data"
    }
   ],
   "source": [
    "fig1 = plt.figure()\n",
    "\n",
    "import matplotlib.pyplot as plt\n",
    "import numpy as np\n",
    "import matplotlib.mlab as mlab\n",
    "\n",
    "mean = [10,12,16,22,25]\n",
    "variance = [3,6,8,10,12]\n",
    "\n",
    "x = np.linspace(0,40,1000)\n",
    "\n",
    "for i in range(4):\n",
    "    sigma = np.sqrt(variance[i])\n",
    "    y = mlab.normpdf(x,mean[i],sigma)\n",
    "    plt.plot(x,y, label=r'$v_{}$'.format(i+1))\n",
    "\n",
    "plt.xlabel(\"X\")\n",
    "plt.ylabel(\"P(X)\")        "
   ]
  },
  {
   "cell_type": "markdown",
   "metadata": {},
   "source": [
    "To re-create the graph in Plotly and use Plotly's defaults, call `iplot` and add `strip_style`."
   ]
  },
  {
   "cell_type": "code",
   "execution_count": 6,
   "metadata": {},
   "outputs": [
    {
     "data": {
      "text/html": [
       "<iframe id=\"igraph\" scrolling=\"no\" style=\"border:none;\"seamless=\"seamless\" src=\"https://plot.ly/~IPython.Demo/3819\" height=\"525\" width=\"100%\"></iframe>"
      ],
      "text/plain": [
       "<IPython.core.display.HTML at 0x7f54a80ff550>"
      ]
     },
     "metadata": {},
     "output_type": "display_data"
    }
   ],
   "source": [
    "py.iplot_mpl(fig1, strip_style = True)"
   ]
  },
  {
   "cell_type": "markdown",
   "metadata": {},
   "source": [
    "It's shareable at a URL, contains the data as part of the plot, and can be edited collaboratively from any API or our web app. Head over to [Plotly's API](https://plot.ly/api) to see more, and check out our [user guide](https://plot.ly/python/user-guide/) to see how it all works. \n",
    "\n",
    "Plotly also jointly preserves the data in a graph, the graph, and the graph description (in this case JSON). That's valuable. [One study](http://www.smithsonianmag.com/science-nature/the-vast-majority-of-raw-data-from-old-scientific-studies-may-now-be-missing-180948067/?no-ist) in *current biology* found that over 90 percent of data from papers published over the past 20 years was not available. So sharing data is good for science and reproducibility, useful for your projects, and great for collaboration."
   ]
  },
  {
   "cell_type": "markdown",
   "metadata": {},
   "source": [
    "## II. ggplot2 plots in Plotly"
   ]
  },
  {
   "cell_type": "markdown",
   "metadata": {},
   "source": [
    "Let's take a real-world look storing data and graphs together. Suppose you see a graph on the [World Bank website](http://blogs.worldbank.org/opendata/accessing-world-bank-data-apis-python-r-ruby-stata). The graph uses [ggplot2](http://ggplot2.org), a remarkable plotting library for R. "
   ]
  },
  {
   "cell_type": "code",
   "execution_count": 7,
   "metadata": {},
   "outputs": [
    {
     "data": {
      "text/html": [
       "<img src=\"http://i.imgur.com/PkRRmHq.png\"/>"
      ],
      "text/plain": [
       "<IPython.core.display.Image at 0x7f54a819b390>"
      ]
     },
     "execution_count": 7,
     "metadata": {},
     "output_type": "execute_result"
    }
   ],
   "source": [
    "from IPython.display import Image\n",
    "Image(url = 'http://i.imgur.com/PkRRmHq.png')"
   ]
  },
  {
   "cell_type": "markdown",
   "metadata": {},
   "source": [
    "You would like to re-make the graph and analyze and share the data. Getting the data using Plotly is easy. You can run the ggplot2 script in RStudio. Here we're running it using the new [R kernel](https://github.com/takluyver/IRkernel) for IPython). The Notebook with the replicable code and installation is [here](http://nbviewer.ipython.org/gist/msund/403910de45e282d658fa). "
   ]
  },
  {
   "cell_type": "code",
   "execution_count": 8,
   "metadata": {
    "collapsed": true
   },
   "outputs": [],
   "source": [
    "library(WDI)\n",
    "library(ggplot2)\n",
    " \n",
    "#Grab GNI per capita data for Chile, Hungary and Uruguay\n",
    " \n",
    "dat = WDI(indicator='NY.GNP.PCAP.CD', country=c('CL','HU','UY'), start=1960, end=2012)\n",
    " \n",
    "#a quick plot with legend, title and label\n",
    " \n",
    "wb <- ggplot(dat, aes(year, NY.GNP.PCAP.CD, color=country)) + geom_line() \n",
    "+     xlab('Year') + ylab('GDI per capita (Atlas Method USD)') \n",
    "+     labs(title <- \"GNI Per Capita ($USD Atlas Method)\")\n",
    "\n",
    "ggplotly(wb)"
   ]
  },
  {
   "cell_type": "markdown",
   "metadata": {},
   "source": [
    "We can add `ggplotly` to the call, which will draw the figure with Plotly's [R API](https://plot.ly/r). Then we can call it in a Notebook. You can similarly call any Plotly graph with the username and graph id pair."
   ]
  },
  {
   "cell_type": "code",
   "execution_count": 9,
   "metadata": {},
   "outputs": [
    {
     "data": {
      "text/html": [
       "<iframe id=\"igraph\" scrolling=\"no\" style=\"border:none;\"seamless=\"seamless\" src=\"https://plot.ly/~RgraphingAPI/1457\" height=\"525\" width=\"100%\"></iframe>"
      ],
      "text/plain": [
       "<IPython.core.display.HTML at 0x7f54a819b2d0>"
      ]
     },
     "metadata": {},
     "output_type": "display_data"
    }
   ],
   "source": [
    "tls.embed('RgraphingAPI', '1457')"
   ]
  },
  {
   "cell_type": "markdown",
   "metadata": {},
   "source": [
    "Note: the data is called from a WDI database; if you make it with Plotly, the data is stored with the plot. I forked the data and shared it: [https://plot.ly/~MattSundquist/1343](https://plot.ly/~MattSundquist/1343). "
   ]
  },
  {
   "cell_type": "markdown",
   "metadata": {},
   "source": [
    "If you want to use Plotly's default graph look, you can edit the graph with Python."
   ]
  },
  {
   "cell_type": "code",
   "execution_count": 10,
   "metadata": {},
   "outputs": [
    {
     "data": {
      "text/html": [
       "<iframe id=\"igraph\" scrolling=\"no\" style=\"border:none;\"seamless=\"seamless\" src=\"https://plot.ly/~IPython.Demo/3820\" height=\"525\" width=\"100%\"></iframe>"
      ],
      "text/plain": [
       "<IPython.core.display.HTML at 0x7f54a80a9850>"
      ]
     },
     "metadata": {},
     "output_type": "display_data"
    }
   ],
   "source": [
    "fig = py.get_figure('RgraphingAPI', '1457')\n",
    "fig.strip_style()\n",
    "py.iplot(fig)"
   ]
  },
  {
   "cell_type": "markdown",
   "metadata": {},
   "source": [
    "Often we come to a visualization with data rather than coming to data with a visualization. In that case, Plotly is useful for quick exploration, with matplotlib or Plotly's API."
   ]
  },
  {
   "cell_type": "code",
   "execution_count": 11,
   "metadata": {},
   "outputs": [],
   "source": [
    "my_data = py.get_figure('PythonAPI', '455').get_data()"
   ]
  },
  {
   "cell_type": "code",
   "execution_count": 12,
   "metadata": {},
   "outputs": [],
   "source": [
    "%matplotlib inline\n",
    "import matplotlib.pyplot as plt"
   ]
  },
  {
   "cell_type": "code",
   "execution_count": 13,
   "metadata": {},
   "outputs": [
    {
     "data": {
      "text/html": [
       "<iframe id=\"igraph\" scrolling=\"no\" style=\"border:none;\"seamless=\"seamless\" src=\"https://plot.ly/~IPython.Demo/3821\" height=\"525\" width=\"100%\"></iframe>"
      ],
      "text/plain": [
       "<IPython.core.display.HTML at 0x7f54a3a63290>"
      ]
     },
     "metadata": {},
     "output_type": "display_data"
    }
   ],
   "source": [
    "fig1 = plt.figure()\n",
    "\n",
    "plt.subplot(311)\n",
    "plt.plot(my_data[0]['x'], my_data[0]['y'])\n",
    "plt.subplot(312)\n",
    "plt.plot(my_data[1]['x'], my_data[1]['y'])\n",
    "plt.subplot(313)\n",
    "plt.plot(my_data[2]['x'], my_data[2]['y'])\n",
    "\n",
    "py.iplot_mpl(fig1, strip_style = True)"
   ]
  },
  {
   "cell_type": "markdown",
   "metadata": {},
   "source": [
    "You can also draw the graph [with subplots](https://plot.ly/python/subplots/) in Plotly."
   ]
  },
  {
   "cell_type": "code",
   "execution_count": 14,
   "metadata": {},
   "outputs": [
    {
     "data": {
      "text/html": [
       "<iframe id=\"igraph\" scrolling=\"no\" style=\"border:none;\"seamless=\"seamless\" src=\"https://plot.ly/~IPython.Demo/3822\" height=\"525\" width=\"100%\"></iframe>"
      ],
      "text/plain": [
       "<IPython.core.display.HTML at 0x7f54a8154d90>"
      ]
     },
     "metadata": {},
     "output_type": "display_data"
    }
   ],
   "source": [
    "my_data[1]['yaxis'] = 'y2'\n",
    "my_data[2]['yaxis'] = 'y3'\n",
    "\n",
    "layout = Layout(\n",
    "    yaxis=YAxis(\n",
    "        domain=[0, 0.33]\n",
    "    ),\n",
    "    legend=Legend(\n",
    "        traceorder='reversed'\n",
    "    ),\n",
    "    yaxis2=YAxis(\n",
    "        domain=[0.33, 0.66]\n",
    "    ),\n",
    "    yaxis3=YAxis(\n",
    "        domain=[0.66, 1]\n",
    "    )\n",
    ")\n",
    "\n",
    "fig = Figure(data=my_data, layout=layout)\n",
    "\n",
    "py.iplot(fig)"
   ]
  },
  {
   "cell_type": "markdown",
   "metadata": {},
   "source": [
    "Then maybe I want to edit it quickly with a GUI, without coding. I click through to the graph in the \"data and graph\" link, fork my own copy, and can switch between graph types, styling options, and more."
   ]
  },
  {
   "cell_type": "code",
   "execution_count": 15,
   "metadata": {},
   "outputs": [
    {
     "data": {
      "text/html": [
       "<img src=\"http://i.imgur.com/rHP53Oz.png\"/>"
      ],
      "text/plain": [
       "<IPython.core.display.Image at 0x7f54a80d1e90>"
      ]
     },
     "execution_count": 15,
     "metadata": {},
     "output_type": "execute_result"
    }
   ],
   "source": [
    "Image(url = 'http://i.imgur.com/rHP53Oz.png')"
   ]
  },
  {
   "cell_type": "markdown",
   "metadata": {},
   "source": [
    "Now, having re-styled it, we can call the graph back into the NB, and if we want, get the figure information for the new, updated graph. The graphs below are meant to show the flexibility available to you in styling from the GUI."
   ]
  },
  {
   "cell_type": "code",
   "execution_count": 16,
   "metadata": {},
   "outputs": [
    {
     "data": {
      "text/html": [
       "<iframe id=\"igraph\" scrolling=\"no\" style=\"border:none;\"seamless=\"seamless\" src=\"https://plot.ly/~MattSundquist/1404\" height=\"525\" width=\"100%\"></iframe>"
      ],
      "text/plain": [
       "<IPython.core.display.HTML at 0x7f54a803c5d0>"
      ]
     },
     "metadata": {},
     "output_type": "display_data"
    }
   ],
   "source": [
    "tls.embed('MattSundquist', '1404')"
   ]
  },
  {
   "cell_type": "code",
   "execution_count": 17,
   "metadata": {},
   "outputs": [
    {
     "data": {
      "text/html": [
       "<iframe id=\"igraph\" scrolling=\"no\" style=\"border:none;\"seamless=\"seamless\" src=\"https://plot.ly/~MattSundquist/1339\" height=\"525\" width=\"100%\"></iframe>"
      ],
      "text/plain": [
       "<IPython.core.display.HTML at 0x7f54a803c110>"
      ]
     },
     "metadata": {},
     "output_type": "display_data"
    }
   ],
   "source": [
    "tls.embed('MattSundquist', '1339')"
   ]
  },
  {
   "cell_type": "markdown",
   "metadata": {},
   "source": [
    "We can also get the data in a grid, and run stats, fits, functions, add error bars, and more. Plotly keeps data and graphs together. "
   ]
  },
  {
   "cell_type": "code",
   "execution_count": 18,
   "metadata": {},
   "outputs": [
    {
     "data": {
      "text/html": [
       "<img src=\"http://i.imgur.com/JJkNPJg.png\"/>"
      ],
      "text/plain": [
       "<IPython.core.display.Image at 0x7f54a80d18d0>"
      ]
     },
     "execution_count": 18,
     "metadata": {},
     "output_type": "execute_result"
    }
   ],
   "source": [
    "Image(url = 'http://i.imgur.com/JJkNPJg.png')"
   ]
  },
  {
   "cell_type": "markdown",
   "metadata": {},
   "source": [
    "And there we have it. A reproducible figure, drawn with D3 that includes the plot, data, and plot structure. And you can easily call that figure or data as well. Check to see what URL it is by hoving on \"data and graph\" and then call that figure."
   ]
  },
  {
   "cell_type": "code",
   "execution_count": 19,
   "metadata": {},
   "outputs": [],
   "source": [
    "ggplot = py.get_figure('MattSundquist', '1339') "
   ]
  },
  {
   "cell_type": "code",
   "execution_count": 20,
   "metadata": {},
   "outputs": [
    {
     "data": {
      "text/plain": [
       "{'data': [{'line': {'color': 'rgb(31, 119, 180)', 'width': 4},\n",
       "   'mode': 'lines',\n",
       "   'name': 'Chile',\n",
       "   'type': 'scatter',\n",
       "   'x': [1960,\n",
       "    1961,\n",
       "    1962,\n",
       "    1963,\n",
       "    1964,\n",
       "    1965,\n",
       "    1966,\n",
       "    1967,\n",
       "    1968,\n",
       "    1969,\n",
       "    1970,\n",
       "    1971,\n",
       "    1972,\n",
       "    1973,\n",
       "    1974,\n",
       "    1975,\n",
       "    1976,\n",
       "    1977,\n",
       "    1978,\n",
       "    1979,\n",
       "    1980,\n",
       "    1981,\n",
       "    1982,\n",
       "    1983,\n",
       "    1984,\n",
       "    1985,\n",
       "    1986,\n",
       "    1987,\n",
       "    1988,\n",
       "    1989,\n",
       "    1990,\n",
       "    1991,\n",
       "    1992,\n",
       "    1993,\n",
       "    1994,\n",
       "    1995,\n",
       "    1996,\n",
       "    1997,\n",
       "    1998,\n",
       "    1999,\n",
       "    2000,\n",
       "    2001,\n",
       "    2002,\n",
       "    2003,\n",
       "    2004,\n",
       "    2005,\n",
       "    2006,\n",
       "    2007,\n",
       "    2008,\n",
       "    2009,\n",
       "    2010,\n",
       "    2011,\n",
       "    2012],\n",
       "   'y': [None,\n",
       "    None,\n",
       "    600,\n",
       "    640,\n",
       "    660,\n",
       "    650,\n",
       "    740,\n",
       "    760,\n",
       "    770,\n",
       "    800,\n",
       "    860,\n",
       "    1020,\n",
       "    1110,\n",
       "    1320,\n",
       "    1620,\n",
       "    1120,\n",
       "    980,\n",
       "    1070,\n",
       "    1320,\n",
       "    1740,\n",
       "    2240,\n",
       "    2640,\n",
       "    2190,\n",
       "    1780,\n",
       "    1600,\n",
       "    1410,\n",
       "    1410,\n",
       "    1560,\n",
       "    1820,\n",
       "    2090,\n",
       "    2240,\n",
       "    2490,\n",
       "    3020,\n",
       "    3330,\n",
       "    3610,\n",
       "    4320,\n",
       "    4930,\n",
       "    5380,\n",
       "    5250,\n",
       "    4910,\n",
       "    4920,\n",
       "    4760,\n",
       "    4550,\n",
       "    4570,\n",
       "    5230,\n",
       "    6250,\n",
       "    7260,\n",
       "    8630,\n",
       "    10020,\n",
       "    9930,\n",
       "    10720,\n",
       "    12270,\n",
       "    14310]},\n",
       "  {'line': {'color': 'rgb(255, 127, 14)', 'width': 4},\n",
       "   'mode': 'lines',\n",
       "   'name': 'Hungary',\n",
       "   'type': 'scatter',\n",
       "   'x': [1960,\n",
       "    1961,\n",
       "    1962,\n",
       "    1963,\n",
       "    1964,\n",
       "    1965,\n",
       "    1966,\n",
       "    1967,\n",
       "    1968,\n",
       "    1969,\n",
       "    1970,\n",
       "    1971,\n",
       "    1972,\n",
       "    1973,\n",
       "    1974,\n",
       "    1975,\n",
       "    1976,\n",
       "    1977,\n",
       "    1978,\n",
       "    1979,\n",
       "    1980,\n",
       "    1981,\n",
       "    1982,\n",
       "    1983,\n",
       "    1984,\n",
       "    1985,\n",
       "    1986,\n",
       "    1987,\n",
       "    1988,\n",
       "    1989,\n",
       "    1990,\n",
       "    1991,\n",
       "    1992,\n",
       "    1993,\n",
       "    1994,\n",
       "    1995,\n",
       "    1996,\n",
       "    1997,\n",
       "    1998,\n",
       "    1999,\n",
       "    2000,\n",
       "    2001,\n",
       "    2002,\n",
       "    2003,\n",
       "    2004,\n",
       "    2005,\n",
       "    2006,\n",
       "    2007,\n",
       "    2008,\n",
       "    2009,\n",
       "    2010,\n",
       "    2011,\n",
       "    2012],\n",
       "   'y': [None,\n",
       "    None,\n",
       "    None,\n",
       "    None,\n",
       "    None,\n",
       "    None,\n",
       "    None,\n",
       "    None,\n",
       "    None,\n",
       "    None,\n",
       "    540,\n",
       "    590,\n",
       "    670,\n",
       "    830,\n",
       "    1000,\n",
       "    1150,\n",
       "    1200,\n",
       "    1330,\n",
       "    1520,\n",
       "    1770,\n",
       "    2070,\n",
       "    2200,\n",
       "    2170,\n",
       "    2010,\n",
       "    1930,\n",
       "    1860,\n",
       "    2040,\n",
       "    2400,\n",
       "    2710,\n",
       "    2770,\n",
       "    2880,\n",
       "    2740,\n",
       "    3140,\n",
       "    3630,\n",
       "    4000,\n",
       "    4220,\n",
       "    4320,\n",
       "    4370,\n",
       "    4380,\n",
       "    4460,\n",
       "    4580,\n",
       "    4720,\n",
       "    5210,\n",
       "    6550,\n",
       "    8540,\n",
       "    10220,\n",
       "    11040,\n",
       "    11510,\n",
       "    12890,\n",
       "    12980,\n",
       "    12930,\n",
       "    12900,\n",
       "    12410]},\n",
       "  {'line': {'color': 'rgb(44, 160, 44)', 'width': 4},\n",
       "   'mode': 'lines',\n",
       "   'name': 'Uruguay',\n",
       "   'type': 'scatter',\n",
       "   'x': [1960,\n",
       "    1961,\n",
       "    1962,\n",
       "    1963,\n",
       "    1964,\n",
       "    1965,\n",
       "    1966,\n",
       "    1967,\n",
       "    1968,\n",
       "    1969,\n",
       "    1970,\n",
       "    1971,\n",
       "    1972,\n",
       "    1973,\n",
       "    1974,\n",
       "    1975,\n",
       "    1976,\n",
       "    1977,\n",
       "    1978,\n",
       "    1979,\n",
       "    1980,\n",
       "    1981,\n",
       "    1982,\n",
       "    1983,\n",
       "    1984,\n",
       "    1985,\n",
       "    1986,\n",
       "    1987,\n",
       "    1988,\n",
       "    1989,\n",
       "    1990,\n",
       "    1991,\n",
       "    1992,\n",
       "    1993,\n",
       "    1994,\n",
       "    1995,\n",
       "    1996,\n",
       "    1997,\n",
       "    1998,\n",
       "    1999,\n",
       "    2000,\n",
       "    2001,\n",
       "    2002,\n",
       "    2003,\n",
       "    2004,\n",
       "    2005,\n",
       "    2006,\n",
       "    2007,\n",
       "    2008,\n",
       "    2009,\n",
       "    2010,\n",
       "    2011,\n",
       "    2012],\n",
       "   'y': [None,\n",
       "    None,\n",
       "    580,\n",
       "    610,\n",
       "    660,\n",
       "    680,\n",
       "    720,\n",
       "    640,\n",
       "    610,\n",
       "    670,\n",
       "    820,\n",
       "    850,\n",
       "    870,\n",
       "    1060,\n",
       "    1370,\n",
       "    1620,\n",
       "    1490,\n",
       "    1420,\n",
       "    1630,\n",
       "    2150,\n",
       "    2870,\n",
       "    3650,\n",
       "    3290,\n",
       "    2190,\n",
       "    1740,\n",
       "    1510,\n",
       "    1780,\n",
       "    2210,\n",
       "    2600,\n",
       "    2730,\n",
       "    2840,\n",
       "    3180,\n",
       "    3830,\n",
       "    4350,\n",
       "    5040,\n",
       "    5530,\n",
       "    6160,\n",
       "    6970,\n",
       "    7240,\n",
       "    7260,\n",
       "    7050,\n",
       "    6500,\n",
       "    5140,\n",
       "    4240,\n",
       "    4130,\n",
       "    4720,\n",
       "    5380,\n",
       "    6380,\n",
       "    7690,\n",
       "    8520,\n",
       "    10110,\n",
       "    11700,\n",
       "    13580]}],\n",
       " 'layout': {'annotations': [{'align': 'center',\n",
       "    'arrowcolor': '',\n",
       "    'arrowhead': 1,\n",
       "    'arrowsize': 1,\n",
       "    'arrowwidth': 0,\n",
       "    'ax': -10,\n",
       "    'ay': -28.335936546325684,\n",
       "    'bgcolor': 'rgba(0,0,0,0)',\n",
       "    'bordercolor': '',\n",
       "    'borderpad': 1,\n",
       "    'borderwidth': 1,\n",
       "    'font': {'color': '', 'family': '', 'size': 0},\n",
       "    'opacity': 1,\n",
       "    'showarrow': False,\n",
       "    'tag': '',\n",
       "    'text': 'Source: <a href=\"http://blogs.worldbank.org/opendata/accessing-world-bank-data-apis-python-r-ruby-stata\">World Bank</a>',\n",
       "    'x': 0.9880317848410782,\n",
       "    'xanchor': 'auto',\n",
       "    'xref': 'paper',\n",
       "    'y': 0.02994334820619583,\n",
       "    'yanchor': 'auto',\n",
       "    'yref': 'paper'}],\n",
       "  'autosize': True,\n",
       "  'bargap': 0.2,\n",
       "  'bargroupgap': 0,\n",
       "  'barmode': 'group',\n",
       "  'boxgap': 0.3,\n",
       "  'boxgroupgap': 0.3,\n",
       "  'boxmode': 'overlay',\n",
       "  'dragmode': 'zoom',\n",
       "  'font': {'color': 'rgb(67, 67, 67)',\n",
       "   'family': \"'Open sans', verdana, arial, sans-serif\",\n",
       "   'size': 12},\n",
       "  'height': 547,\n",
       "  'hidesources': False,\n",
       "  'hovermode': 'x',\n",
       "  'legend': {'bgcolor': '#fff',\n",
       "   'bordercolor': '#444',\n",
       "   'borderwidth': 0,\n",
       "   'font': {'color': '', 'family': '', 'size': 0},\n",
       "   'traceorder': 'normal',\n",
       "   'x': 1.02,\n",
       "   'xanchor': 'left',\n",
       "   'y': 0.5,\n",
       "   'yanchor': 'auto'},\n",
       "  'margin': {'autoexpand': True,\n",
       "   'b': 80,\n",
       "   'l': 80,\n",
       "   'pad': 0,\n",
       "   'r': 80,\n",
       "   't': 100},\n",
       "  'paper_bgcolor': '#fff',\n",
       "  'plot_bgcolor': 'rgba(245, 247, 247, 0.7)',\n",
       "  'separators': '.,',\n",
       "  'showlegend': True,\n",
       "  'title': 'GNI Per Capita ($USD Atlas Method)',\n",
       "  'titlefont': {'color': '', 'family': '', 'size': 0},\n",
       "  'width': 1304,\n",
       "  'xaxis': {'anchor': 'y',\n",
       "   'autorange': True,\n",
       "   'autotick': True,\n",
       "   'domain': [0, 1],\n",
       "   'dtick': 10,\n",
       "   'exponentformat': 'B',\n",
       "   'gridcolor': 'rgb(255, 255, 255)',\n",
       "   'gridwidth': 1,\n",
       "   'linecolor': '#444',\n",
       "   'linewidth': 1,\n",
       "   'mirror': False,\n",
       "   'nticks': 0,\n",
       "   'overlaying': False,\n",
       "   'position': 0,\n",
       "   'range': [1960, 2012],\n",
       "   'rangemode': 'normal',\n",
       "   'showexponent': 'all',\n",
       "   'showgrid': True,\n",
       "   'showline': False,\n",
       "   'showticklabels': True,\n",
       "   'tick0': 0,\n",
       "   'tickangle': 'auto',\n",
       "   'tickcolor': '#444',\n",
       "   'tickfont': {'color': '', 'family': '', 'size': 0},\n",
       "   'ticklen': 5,\n",
       "   'ticks': '',\n",
       "   'tickwidth': 1,\n",
       "   'title': 'year',\n",
       "   'titlefont': {'color': '', 'family': '', 'size': 0},\n",
       "   'type': 'linear',\n",
       "   'zeroline': False,\n",
       "   'zerolinecolor': '#444',\n",
       "   'zerolinewidth': 1},\n",
       "  'yaxis': {'anchor': 'x',\n",
       "   'autorange': True,\n",
       "   'autotick': True,\n",
       "   'domain': [0, 1],\n",
       "   'dtick': 'D1',\n",
       "   'exponentformat': 'B',\n",
       "   'gridcolor': 'rgb(255, 255, 255)',\n",
       "   'gridwidth': 1,\n",
       "   'linecolor': '#444',\n",
       "   'linewidth': 1,\n",
       "   'mirror': False,\n",
       "   'nticks': 0,\n",
       "   'overlaying': False,\n",
       "   'position': 0,\n",
       "   'range': [2.6533245446042573, 4.234708848978488],\n",
       "   'rangemode': 'normal',\n",
       "   'showexponent': 'all',\n",
       "   'showgrid': True,\n",
       "   'showline': False,\n",
       "   'showticklabels': True,\n",
       "   'tick0': 0,\n",
       "   'tickangle': 'auto',\n",
       "   'tickcolor': '#444',\n",
       "   'tickfont': {'color': '', 'family': '', 'size': 0},\n",
       "   'ticklen': 5,\n",
       "   'ticks': '',\n",
       "   'tickwidth': 1,\n",
       "   'title': 'NY.GNP.PCAP.CD',\n",
       "   'titlefont': {'color': '', 'family': '', 'size': 0},\n",
       "   'type': 'log',\n",
       "   'zeroline': False,\n",
       "   'zerolinecolor': '#444',\n",
       "   'zerolinewidth': 1}}}"
      ]
     },
     "execution_count": 20,
     "metadata": {},
     "output_type": "execute_result"
    }
   ],
   "source": [
    "ggplot #print it"
   ]
  },
  {
   "cell_type": "markdown",
   "metadata": {},
   "source": [
    "Want to analyze the data or use it for another figure?"
   ]
  },
  {
   "cell_type": "code",
   "execution_count": 21,
   "metadata": {},
   "outputs": [],
   "source": [
    "ggplot_data = ggplot.get_data()"
   ]
  },
  {
   "cell_type": "code",
   "execution_count": 22,
   "metadata": {},
   "outputs": [
    {
     "data": {
      "text/plain": [
       "{'data': [{'name': 'Chile',\n",
       "   'x': [1960,\n",
       "    1961,\n",
       "    1962,\n",
       "    1963,\n",
       "    1964,\n",
       "    1965,\n",
       "    1966,\n",
       "    1967,\n",
       "    1968,\n",
       "    1969,\n",
       "    1970,\n",
       "    1971,\n",
       "    1972,\n",
       "    1973,\n",
       "    1974,\n",
       "    1975,\n",
       "    1976,\n",
       "    1977,\n",
       "    1978,\n",
       "    1979,\n",
       "    1980,\n",
       "    1981,\n",
       "    1982,\n",
       "    1983,\n",
       "    1984,\n",
       "    1985,\n",
       "    1986,\n",
       "    1987,\n",
       "    1988,\n",
       "    1989,\n",
       "    1990,\n",
       "    1991,\n",
       "    1992,\n",
       "    1993,\n",
       "    1994,\n",
       "    1995,\n",
       "    1996,\n",
       "    1997,\n",
       "    1998,\n",
       "    1999,\n",
       "    2000,\n",
       "    2001,\n",
       "    2002,\n",
       "    2003,\n",
       "    2004,\n",
       "    2005,\n",
       "    2006,\n",
       "    2007,\n",
       "    2008,\n",
       "    2009,\n",
       "    2010,\n",
       "    2011,\n",
       "    2012],\n",
       "   'y': [None,\n",
       "    None,\n",
       "    600,\n",
       "    640,\n",
       "    660,\n",
       "    650,\n",
       "    740,\n",
       "    760,\n",
       "    770,\n",
       "    800,\n",
       "    860,\n",
       "    1020,\n",
       "    1110,\n",
       "    1320,\n",
       "    1620,\n",
       "    1120,\n",
       "    980,\n",
       "    1070,\n",
       "    1320,\n",
       "    1740,\n",
       "    2240,\n",
       "    2640,\n",
       "    2190,\n",
       "    1780,\n",
       "    1600,\n",
       "    1410,\n",
       "    1410,\n",
       "    1560,\n",
       "    1820,\n",
       "    2090,\n",
       "    2240,\n",
       "    2490,\n",
       "    3020,\n",
       "    3330,\n",
       "    3610,\n",
       "    4320,\n",
       "    4930,\n",
       "    5380,\n",
       "    5250,\n",
       "    4910,\n",
       "    4920,\n",
       "    4760,\n",
       "    4550,\n",
       "    4570,\n",
       "    5230,\n",
       "    6250,\n",
       "    7260,\n",
       "    8630,\n",
       "    10020,\n",
       "    9930,\n",
       "    10720,\n",
       "    12270,\n",
       "    14310]},\n",
       "  {'name': 'Hungary',\n",
       "   'x': [1960,\n",
       "    1961,\n",
       "    1962,\n",
       "    1963,\n",
       "    1964,\n",
       "    1965,\n",
       "    1966,\n",
       "    1967,\n",
       "    1968,\n",
       "    1969,\n",
       "    1970,\n",
       "    1971,\n",
       "    1972,\n",
       "    1973,\n",
       "    1974,\n",
       "    1975,\n",
       "    1976,\n",
       "    1977,\n",
       "    1978,\n",
       "    1979,\n",
       "    1980,\n",
       "    1981,\n",
       "    1982,\n",
       "    1983,\n",
       "    1984,\n",
       "    1985,\n",
       "    1986,\n",
       "    1987,\n",
       "    1988,\n",
       "    1989,\n",
       "    1990,\n",
       "    1991,\n",
       "    1992,\n",
       "    1993,\n",
       "    1994,\n",
       "    1995,\n",
       "    1996,\n",
       "    1997,\n",
       "    1998,\n",
       "    1999,\n",
       "    2000,\n",
       "    2001,\n",
       "    2002,\n",
       "    2003,\n",
       "    2004,\n",
       "    2005,\n",
       "    2006,\n",
       "    2007,\n",
       "    2008,\n",
       "    2009,\n",
       "    2010,\n",
       "    2011,\n",
       "    2012],\n",
       "   'y': [None,\n",
       "    None,\n",
       "    None,\n",
       "    None,\n",
       "    None,\n",
       "    None,\n",
       "    None,\n",
       "    None,\n",
       "    None,\n",
       "    None,\n",
       "    540,\n",
       "    590,\n",
       "    670,\n",
       "    830,\n",
       "    1000,\n",
       "    1150,\n",
       "    1200,\n",
       "    1330,\n",
       "    1520,\n",
       "    1770,\n",
       "    2070,\n",
       "    2200,\n",
       "    2170,\n",
       "    2010,\n",
       "    1930,\n",
       "    1860,\n",
       "    2040,\n",
       "    2400,\n",
       "    2710,\n",
       "    2770,\n",
       "    2880,\n",
       "    2740,\n",
       "    3140,\n",
       "    3630,\n",
       "    4000,\n",
       "    4220,\n",
       "    4320,\n",
       "    4370,\n",
       "    4380,\n",
       "    4460,\n",
       "    4580,\n",
       "    4720,\n",
       "    5210,\n",
       "    6550,\n",
       "    8540,\n",
       "    10220,\n",
       "    11040,\n",
       "    11510,\n",
       "    12890,\n",
       "    12980,\n",
       "    12930,\n",
       "    12900,\n",
       "    12410]},\n",
       "  {'name': 'Uruguay',\n",
       "   'x': [1960,\n",
       "    1961,\n",
       "    1962,\n",
       "    1963,\n",
       "    1964,\n",
       "    1965,\n",
       "    1966,\n",
       "    1967,\n",
       "    1968,\n",
       "    1969,\n",
       "    1970,\n",
       "    1971,\n",
       "    1972,\n",
       "    1973,\n",
       "    1974,\n",
       "    1975,\n",
       "    1976,\n",
       "    1977,\n",
       "    1978,\n",
       "    1979,\n",
       "    1980,\n",
       "    1981,\n",
       "    1982,\n",
       "    1983,\n",
       "    1984,\n",
       "    1985,\n",
       "    1986,\n",
       "    1987,\n",
       "    1988,\n",
       "    1989,\n",
       "    1990,\n",
       "    1991,\n",
       "    1992,\n",
       "    1993,\n",
       "    1994,\n",
       "    1995,\n",
       "    1996,\n",
       "    1997,\n",
       "    1998,\n",
       "    1999,\n",
       "    2000,\n",
       "    2001,\n",
       "    2002,\n",
       "    2003,\n",
       "    2004,\n",
       "    2005,\n",
       "    2006,\n",
       "    2007,\n",
       "    2008,\n",
       "    2009,\n",
       "    2010,\n",
       "    2011,\n",
       "    2012],\n",
       "   'y': [None,\n",
       "    None,\n",
       "    580,\n",
       "    610,\n",
       "    660,\n",
       "    680,\n",
       "    720,\n",
       "    640,\n",
       "    610,\n",
       "    670,\n",
       "    820,\n",
       "    850,\n",
       "    870,\n",
       "    1060,\n",
       "    1370,\n",
       "    1620,\n",
       "    1490,\n",
       "    1420,\n",
       "    1630,\n",
       "    2150,\n",
       "    2870,\n",
       "    3650,\n",
       "    3290,\n",
       "    2190,\n",
       "    1740,\n",
       "    1510,\n",
       "    1780,\n",
       "    2210,\n",
       "    2600,\n",
       "    2730,\n",
       "    2840,\n",
       "    3180,\n",
       "    3830,\n",
       "    4350,\n",
       "    5040,\n",
       "    5530,\n",
       "    6160,\n",
       "    6970,\n",
       "    7240,\n",
       "    7260,\n",
       "    7050,\n",
       "    6500,\n",
       "    5140,\n",
       "    4240,\n",
       "    4130,\n",
       "    4720,\n",
       "    5380,\n",
       "    6380,\n",
       "    7690,\n",
       "    8520,\n",
       "    10110,\n",
       "    11700,\n",
       "    13580]}],\n",
       " 'layout': [{}]}"
      ]
     },
     "execution_count": 22,
     "metadata": {},
     "output_type": "execute_result"
    }
   ],
   "source": [
    "ggplot_data"
   ]
  },
  {
   "cell_type": "markdown",
   "metadata": {},
   "source": [
    "Want to use Python to analyze your data? You can read that data into a pandas DataFrame. "
   ]
  },
  {
   "cell_type": "code",
   "execution_count": 23,
   "metadata": {},
   "outputs": [],
   "source": [
    "import pandas as pd"
   ]
  },
  {
   "cell_type": "code",
   "execution_count": 24,
   "metadata": {},
   "outputs": [
    {
     "data": {
      "text/html": [
       "<div style=\"max-height:1000px;max-width:1500px;overflow:auto;\">\n",
       "<table border=\"1\" class=\"dataframe\">\n",
       "  <thead>\n",
       "    <tr style=\"text-align: right;\">\n",
       "      <th></th>\n",
       "      <th>Chile</th>\n",
       "      <th>Hungary</th>\n",
       "      <th>Uruguay</th>\n",
       "    </tr>\n",
       "  </thead>\n",
       "  <tbody>\n",
       "    <tr>\n",
       "      <th>x</th>\n",
       "      <td> [1960, 1961, 1962, 1963, 1964, 1965, 1966, 196...</td>\n",
       "      <td> [1960, 1961, 1962, 1963, 1964, 1965, 1966, 196...</td>\n",
       "      <td> [1960, 1961, 1962, 1963, 1964, 1965, 1966, 196...</td>\n",
       "    </tr>\n",
       "    <tr>\n",
       "      <th>y</th>\n",
       "      <td> [None, None, 600, 640, 660, 650, 740, 760, 770...</td>\n",
       "      <td> [None, None, None, None, None, None, None, Non...</td>\n",
       "      <td> [None, None, 580, 610, 660, 680, 720, 640, 610...</td>\n",
       "    </tr>\n",
       "  </tbody>\n",
       "</table>\n",
       "<p>2 rows × 3 columns</p>\n",
       "</div>"
      ],
      "text/plain": [
       "                                               Chile  \\\n",
       "x  [1960, 1961, 1962, 1963, 1964, 1965, 1966, 196...   \n",
       "y  [None, None, 600, 640, 660, 650, 740, 760, 770...   \n",
       "\n",
       "                                             Hungary  \\\n",
       "x  [1960, 1961, 1962, 1963, 1964, 1965, 1966, 196...   \n",
       "y  [None, None, None, None, None, None, None, Non...   \n",
       "\n",
       "                                             Uruguay  \n",
       "x  [1960, 1961, 1962, 1963, 1964, 1965, 1966, 196...  \n",
       "y  [None, None, 580, 610, 660, 680, 720, 640, 610...  \n",
       "\n",
       "[2 rows x 3 columns]"
      ]
     },
     "execution_count": 24,
     "metadata": {},
     "output_type": "execute_result"
    }
   ],
   "source": [
    "my_data = py.get_figure('MattSundquist', '1339').get_data()\n",
    "frames = {data['name']: {'x': data['x'], 'y': data['y']} for data in my_data['data']}\n",
    "df = pd.DataFrame(frames)\n",
    "df"
   ]
  },
  {
   "cell_type": "markdown",
   "metadata": {},
   "source": [
    "Plotly has interactive support that lets you call help on graph objects. Try `layout` or `data` too. For example."
   ]
  },
  {
   "cell_type": "code",
   "execution_count": 25,
   "metadata": {},
   "outputs": [],
   "source": [
    "from plotly.graph_objs import Data, Layout, Figure"
   ]
  },
  {
   "cell_type": "code",
   "execution_count": 26,
   "metadata": {},
   "outputs": [
    {
     "name": "stdout",
     "output_type": "stream",
     "text": [
      "Help on class Figure in module plotly.graph_objs.graph_objs:\n",
      "\n",
      "class Figure(PlotlyDict)\n",
      " |  A dictionary-like object representing a figure to be rendered in plotly.\n",
      " |  \n",
      " |      This is the container for all things to be rendered in a figure.\n",
      " |  \n",
      " |      For help with setting up subplots, run:\n",
      " |      `help(plotly.tools.get_subplots)`\n",
      " |  \n",
      " |      \n",
      " |  Quick method reference:\n",
      " |  \n",
      " |      Figure.update(changes)\n",
      " |      Figure.strip_style()\n",
      " |      Figure.get_data()\n",
      " |      Figure.to_graph_objs()\n",
      " |      Figure.validate()\n",
      " |      Figure.to_string()\n",
      " |      Figure.force_clean()\n",
      " |  \n",
      " |  Valid keys:\n",
      " |  \n",
      " |      data [required=False] (value=Data object | dictionary-like):\n",
      " |          A list-like array of the data that is to be visualized.\n",
      " |  \n",
      " |          For more, run `help(plotly.graph_objs.Data)`\n",
      " |  \n",
      " |      layout [required=False] (value=Layout object | dictionary-like):\n",
      " |          The layout dictionary-like object contains axes information, gobal\n",
      " |          settings, and layout information related to the rendering of the\n",
      " |          figure.\n",
      " |  \n",
      " |          For more, run `help(plotly.graph_objs.Layout)`\n",
      " |  \n",
      " |  Method resolution order:\n",
      " |      Figure\n",
      " |      PlotlyDict\n",
      " |      __builtin__.dict\n",
      " |      __builtin__.object\n",
      " |  \n",
      " |  Methods defined here:\n",
      " |  \n",
      " |  __init__(self, *args, **kwargs)\n",
      " |  \n",
      " |  ----------------------------------------------------------------------\n",
      " |  Methods inherited from PlotlyDict:\n",
      " |  \n",
      " |  force_clean(self)\n",
      " |      Attempts to convert to graph_objs and call force_clean() on values.\n",
      " |      \n",
      " |      Calling force_clean() on a PlotlyDict will ensure that the object is\n",
      " |      valid and may be sent to plotly. This process will also remove any\n",
      " |      entries that end up with a length == 0.\n",
      " |      \n",
      " |      Careful! This will delete any invalid entries *silently*.\n",
      " |  \n",
      " |  get_data(self)\n",
      " |      Returns the JSON for the plot with non-data elements stripped.\n",
      " |  \n",
      " |  strip_style(self)\n",
      " |      Strip style from the current representation.\n",
      " |      \n",
      " |      All PlotlyDicts and PlotlyLists are guaranteed to survive the\n",
      " |      stripping process, though they made be left empty. This is allowable.\n",
      " |      \n",
      " |      Keys that will be stripped in this process are tagged with\n",
      " |      `'type': 'style'` in the INFO dictionary listed in graph_objs_meta.py.\n",
      " |      \n",
      " |      This process first attempts to convert nested collections from dicts\n",
      " |      or lists to subclasses of PlotlyList/PlotlyDict. This process forces\n",
      " |      a validation, which may throw exceptions.\n",
      " |      \n",
      " |      Then, each of these objects call `strip_style` on themselves and so\n",
      " |      on, recursively until the entire structure has been validated and\n",
      " |      stripped.\n",
      " |  \n",
      " |  to_graph_objs(self)\n",
      " |      Walk obj, convert dicts and lists to plotly graph objs.\n",
      " |      \n",
      " |      For each key in the object, if it corresponds to a special key that\n",
      " |      should be associated with a graph object, the ordinary dict or list\n",
      " |      will be reinitialized as a special PlotlyDict or PlotlyList of the\n",
      " |      appropriate `kind`.\n",
      " |  \n",
      " |  to_string(self, level=0, indent=4, eol='\\n', pretty=True, max_chars=80)\n",
      " |      Returns a formatted string showing graph_obj constructors.\n",
      " |      \n",
      " |              Example:\n",
      " |      \n",
      " |                  print obj.to_string()\n",
      " |      \n",
      " |              Keyword arguments:\n",
      " |              level (default = 0) -- set number of indentations to start with\n",
      " |              indent (default = 4) -- set indentation amount\n",
      " |              eol (default = '\n",
      " |      ') -- set end of line character(s)\n",
      " |              pretty (default = True) -- curtail long list output with a '...'\n",
      " |              max_chars (default = 80) -- set max characters per line\n",
      " |  \n",
      " |  update(self, dict1=None, **dict2)\n",
      " |      Update current dict with dict1 and then dict2.\n",
      " |      \n",
      " |      This recursively updates the structure of the original dictionary-like\n",
      " |      object with the new entries in the second and third objects. This\n",
      " |      allows users to update with large, nested structures.\n",
      " |      \n",
      " |      Note, because the dict2 packs up all the keyword arguments, you can\n",
      " |      specify the changes as a list of keyword agruments.\n",
      " |      \n",
      " |      Examples:\n",
      " |      # update with dict\n",
      " |      obj = Layout(title='my title', xaxis=XAxis(range=[0,1], domain=[0,1]))\n",
      " |      update_dict = dict(title='new title', xaxis=dict(domain=[0,.8]))\n",
      " |      obj.update(update_dict)\n",
      " |      obj\n",
      " |      {'title': 'new title', 'xaxis': {'range': [0,1], 'domain': [0,.8]}}\n",
      " |      \n",
      " |      # update with list of keyword arguments\n",
      " |      obj = Layout(title='my title', xaxis=XAxis(range=[0,1], domain=[0,1]))\n",
      " |      obj.update(title='new title', xaxis=dict(domain=[0,.8]))\n",
      " |      obj\n",
      " |      {'title': 'new title', 'xaxis': {'range': [0,1], 'domain': [0,.8]}}\n",
      " |      \n",
      " |      This 'fully' supports duck-typing in that the call signature is\n",
      " |      identical, however this differs slightly from the normal update\n",
      " |      method provided by Python's dictionaries.\n",
      " |  \n",
      " |  validate(self)\n",
      " |      Recursively check the validity of the keys in a PlotlyDict.\n",
      " |      \n",
      " |      The valid keys constitute the entries in each object\n",
      " |      dictionary in INFO stored in graph_objs_meta.py.\n",
      " |      \n",
      " |      The validation process first requires that all nested collections be\n",
      " |      converted to the appropriate subclass of PlotlyDict/PlotlyList. Then,\n",
      " |      each of these objects call `validate` and so on, recursively,\n",
      " |      until the entire object has been validated.\n",
      " |  \n",
      " |  ----------------------------------------------------------------------\n",
      " |  Data descriptors inherited from PlotlyDict:\n",
      " |  \n",
      " |  __dict__\n",
      " |      dictionary for instance variables (if defined)\n",
      " |  \n",
      " |  __weakref__\n",
      " |      list of weak references to the object (if defined)\n",
      " |  \n",
      " |  ----------------------------------------------------------------------\n",
      " |  Data and other attributes inherited from PlotlyDict:\n",
      " |  \n",
      " |  __metaclass__ = <class 'plotly.graph_objs.graph_objs.DictMeta'>\n",
      " |      A meta class for PlotlyDict class creation.\n",
      " |      \n",
      " |      The sole purpose of this meta class is to properly create the __doc__\n",
      " |      attribute so that running help(Obj), where Obj is a subclass of PlotlyDict,\n",
      " |      will return information about key-value pairs for that object.\n",
      " |  \n",
      " |  ----------------------------------------------------------------------\n",
      " |  Methods inherited from __builtin__.dict:\n",
      " |  \n",
      " |  __cmp__(...)\n",
      " |      x.__cmp__(y) <==> cmp(x,y)\n",
      " |  \n",
      " |  __contains__(...)\n",
      " |      D.__contains__(k) -> True if D has a key k, else False\n",
      " |  \n",
      " |  __delitem__(...)\n",
      " |      x.__delitem__(y) <==> del x[y]\n",
      " |  \n",
      " |  __eq__(...)\n",
      " |      x.__eq__(y) <==> x==y\n",
      " |  \n",
      " |  __ge__(...)\n",
      " |      x.__ge__(y) <==> x>=y\n",
      " |  \n",
      " |  __getattribute__(...)\n",
      " |      x.__getattribute__('name') <==> x.name\n",
      " |  \n",
      " |  __getitem__(...)\n",
      " |      x.__getitem__(y) <==> x[y]\n",
      " |  \n",
      " |  __gt__(...)\n",
      " |      x.__gt__(y) <==> x>y\n",
      " |  \n",
      " |  __iter__(...)\n",
      " |      x.__iter__() <==> iter(x)\n",
      " |  \n",
      " |  __le__(...)\n",
      " |      x.__le__(y) <==> x<=y\n",
      " |  \n",
      " |  __len__(...)\n",
      " |      x.__len__() <==> len(x)\n",
      " |  \n",
      " |  __lt__(...)\n",
      " |      x.__lt__(y) <==> x<y\n",
      " |  \n",
      " |  __ne__(...)\n",
      " |      x.__ne__(y) <==> x!=y\n",
      " |  \n",
      " |  __repr__(...)\n",
      " |      x.__repr__() <==> repr(x)\n",
      " |  \n",
      " |  __setitem__(...)\n",
      " |      x.__setitem__(i, y) <==> x[i]=y\n",
      " |  \n",
      " |  __sizeof__(...)\n",
      " |      D.__sizeof__() -> size of D in memory, in bytes\n",
      " |  \n",
      " |  clear(...)\n",
      " |      D.clear() -> None.  Remove all items from D.\n",
      " |  \n",
      " |  copy(...)\n",
      " |      D.copy() -> a shallow copy of D\n",
      " |  \n",
      " |  fromkeys(...)\n",
      " |      dict.fromkeys(S[,v]) -> New dict with keys from S and values equal to v.\n",
      " |      v defaults to None.\n",
      " |  \n",
      " |  get(...)\n",
      " |      D.get(k[,d]) -> D[k] if k in D, else d.  d defaults to None.\n",
      " |  \n",
      " |  has_key(...)\n",
      " |      D.has_key(k) -> True if D has a key k, else False\n",
      " |  \n",
      " |  items(...)\n",
      " |      D.items() -> list of D's (key, value) pairs, as 2-tuples\n",
      " |  \n",
      " |  iteritems(...)\n",
      " |      D.iteritems() -> an iterator over the (key, value) items of D\n",
      " |  \n",
      " |  iterkeys(...)\n",
      " |      D.iterkeys() -> an iterator over the keys of D\n",
      " |  \n",
      " |  itervalues(...)\n",
      " |      D.itervalues() -> an iterator over the values of D\n",
      " |  \n",
      " |  keys(...)\n",
      " |      D.keys() -> list of D's keys\n",
      " |  \n",
      " |  pop(...)\n",
      " |      D.pop(k[,d]) -> v, remove specified key and return the corresponding value.\n",
      " |      If key is not found, d is returned if given, otherwise KeyError is raised\n",
      " |  \n",
      " |  popitem(...)\n",
      " |      D.popitem() -> (k, v), remove and return some (key, value) pair as a\n",
      " |      2-tuple; but raise KeyError if D is empty.\n",
      " |  \n",
      " |  setdefault(...)\n",
      " |      D.setdefault(k[,d]) -> D.get(k,d), also set D[k]=d if k not in D\n",
      " |  \n",
      " |  values(...)\n",
      " |      D.values() -> list of D's values\n",
      " |  \n",
      " |  viewitems(...)\n",
      " |      D.viewitems() -> a set-like object providing a view on D's items\n",
      " |  \n",
      " |  viewkeys(...)\n",
      " |      D.viewkeys() -> a set-like object providing a view on D's keys\n",
      " |  \n",
      " |  viewvalues(...)\n",
      " |      D.viewvalues() -> an object providing a view on D's values\n",
      " |  \n",
      " |  ----------------------------------------------------------------------\n",
      " |  Data and other attributes inherited from __builtin__.dict:\n",
      " |  \n",
      " |  __hash__ = None\n",
      " |  \n",
      " |  __new__ = <built-in method __new__ of type object>\n",
      " |      T.__new__(S, ...) -> a new object with type S, a subtype of T\n",
      "\n"
     ]
    }
   ],
   "source": [
    "help(Figure)"
   ]
  },
  {
   "cell_type": "markdown",
   "metadata": {},
   "source": [
    "## III. MATLAB, Julia, and Perl plotting with Plotly"
   ]
  },
  {
   "cell_type": "markdown",
   "metadata": {},
   "source": [
    "We just made a plot with R using `ggplot2`, edited it in an IPython Notebook with Python, edited with our web app, shared it, and read the data into a pandas DataFrame. We have [another Notebook](nbviewer.ipython.org/gist/msund/11349097) that shows how to use Plotly with [seaborn](https://stanford.edu/~mwaskom/software/seaborn/tutorial.html), [prettyplotlib](https://github.com/olgabot/prettyplotlib), and [ggplot for Python](https://ggplot.yhathq.com/) Your whole team can now collaborate, regardless of technical capability or language of choice. This linguistic flexibility and technical interoperability powers collaboration, and it's what Plotly is all about. Let's jump into a few more examples."
   ]
  },
  {
   "cell_type": "markdown",
   "metadata": {},
   "source": [
    "Let's say you see some code and data for a [MATLAB gallery](http://www.mathworks.com/matlabcentral/fileexchange/35265-matlab-plot-gallery-log-log-plot/content/html/Loglog_Plot.html) plot you love and want to share."
   ]
  },
  {
   "cell_type": "code",
   "execution_count": 27,
   "metadata": {},
   "outputs": [
    {
     "data": {
      "text/html": [
       "<img src=\"http://i.imgur.com/bGj8EzI.png?1\"/>"
      ],
      "text/plain": [
       "<IPython.core.display.Image at 0x7f54c5f14c50>"
      ]
     },
     "execution_count": 27,
     "metadata": {},
     "output_type": "execute_result"
    }
   ],
   "source": [
    "Image(url = 'http://i.imgur.com/bGj8EzI.png?1')"
   ]
  },
  {
   "cell_type": "markdown",
   "metadata": {},
   "source": [
    "You can use Plotly's [MATLAB API](https://plot.ly/MATLAB) to make a shareable plots, with LaTeX included. You run the MATLAB code in your MATLAB environrment or the [MATLAB kernel](https://github.com/ipython/ipython/wiki/Extensions-Index#matlab) in IPython and add `fig2plotly` to the call. Check out the [user guide](https://plot.ly/matlab/user-guide/) to see the installation and setup."
   ]
  },
  {
   "cell_type": "code",
   "execution_count": 28,
   "metadata": {},
   "outputs": [
    {
     "data": {
      "text/plain": [
       "https://plot.ly/~MATLAB-demos/4\r\n"
      ]
     },
     "metadata": {},
     "output_type": "display_data"
    },
    {
     "data": {
      "image/png": "[encoded data removed]"
     },
     "metadata": {},
     "output_type": "display_data"
    }
   ],
   "source": [
    "%%matlab\n",
    "\n",
    "close all\n",
    "\n",
    "% Create a set of values for the damping factor\n",
    "zeta = [0.01 .02 0.05 0.1 .2 .5 1 ];\n",
    "\n",
    "% Define a color for each damping factor\n",
    "colors = ['r' 'g' 'b' 'c' 'm' 'y' 'k'];\n",
    "\n",
    "% Create a range of frequency values equally spaced logarithmically\n",
    "w = logspace(-1, 1, 1000);\n",
    "\n",
    "% Plot the gain vs. frequency for each of the seven damping factors\n",
    "figure;\n",
    "for i = 1:7\n",
    "    a = w.^2 - 1;\n",
    "    b = 2*w*zeta(i);\n",
    "    gain = sqrt(1./(a.^2 + b.^2));\n",
    "    loglog(w, gain, 'color', colors(i), 'linewidth', 2);\n",
    "    hold on;\n",
    "end\n",
    "\n",
    "% Set the axis limits\n",
    "axis([0.1 10 0.01 100]);\n",
    "\n",
    "% Add a title and axis labels\n",
    "title('Gain vs Frequency');\n",
    "xlabel('Frequency');\n",
    "ylabel('Gain');\n",
    "\n",
    "% Turn the grid on\n",
    "grid on;\n",
    "\n",
    "% ----------------------------------------\n",
    "% Let's convert the figure to plotly structures, and set stripping to false\n",
    "[data, layout] = convertFigure(get(gcf), false);\n",
    "\n",
    "% But, before we publish, let's modify and add some features:\n",
    "% Naming the traces\n",
    "for i=1:numel(data)\n",
    "    data{i}.name =  ['$\\\\zeta = ' num2str(zeta(i)) '$']; %LATEX FORMATTING\n",
    "    data{i}.showlegend = true;\n",
    "end\n",
    "% Adding a nice the legend\n",
    "legendstyle = struct( ...\n",
    "    'x' , 0.15, ...\n",
    "    'y' , 0.9, ...\n",
    "    'bgcolor' , '#E2E2E2', ...\n",
    "    'bordercolor' , '#FFFFFF', ...\n",
    "    'borderwidth' , 2, ...\n",
    "    'traceorder' , 'normal' ...\n",
    "    );\n",
    "layout.legend = legendstyle;\n",
    "layout.showlegend = true;\n",
    "\n",
    "% Setting the hover mode\n",
    "layout.hovermode = 'closest';\n",
    "\n",
    "% Giving the plot a custom name\n",
    "plot_name = 'My_improved_plot';\n",
    "\n",
    "% Sending to Plotly\n",
    "response = plotly(data, struct('layout', layout, ...\n",
    "    'filename',plot_name, ...\n",
    "\t'fileopt', 'overwrite'));\n",
    "\n",
    "display(response.url)"
   ]
  },
  {
   "cell_type": "markdown",
   "metadata": {},
   "source": [
    "Which produces:"
   ]
  },
  {
   "cell_type": "code",
   "execution_count": 29,
   "metadata": {},
   "outputs": [
    {
     "data": {
      "text/html": [
       "<iframe id=\"igraph\" scrolling=\"no\" style=\"border:none;\"seamless=\"seamless\" src=\"https://plot.ly/~MATLAB-Demos/4\" height=\"525\" width=\"100%\"></iframe>"
      ],
      "text/plain": [
       "<IPython.core.display.HTML at 0x7f549f5b1e10>"
      ]
     },
     "metadata": {},
     "output_type": "display_data"
    }
   ],
   "source": [
    "tls.embed('MATLAB-Demos', '4')"
   ]
  },
  {
   "cell_type": "markdown",
   "metadata": {},
   "source": [
    "And you can similarly collaborate across all Plotly APIs, working on plots from IJulia, Perl, Arduino, Raspberry Pi, or Ruby. You could also append data to any figure from any API, or from the GUI. Want to make your own wrapper? Check out our [REST API](https://plot.ly/rest/). "
   ]
  },
  {
   "cell_type": "markdown",
   "metadata": {},
   "source": [
    "## IV. WebPlotDigitizer and Plotly"
   ]
  },
  {
   "cell_type": "markdown",
   "metadata": {},
   "source": [
    "Let's suppose next that you wanted to plot data from a graph you loved in a [Facebook Data Science post](https://www.facebook.com/notes/facebook-data-science/mothers-day-2014/10152235539518859). "
   ]
  },
  {
   "cell_type": "code",
   "execution_count": 30,
   "metadata": {},
   "outputs": [
    {
     "data": {
      "text/html": [
       "<img src=\"https://i.imgur.com/sAHsjk3.png\"/>"
      ],
      "text/plain": [
       "<IPython.core.display.Image at 0x7f549f5b1c10>"
      ]
     },
     "execution_count": 30,
     "metadata": {},
     "output_type": "execute_result"
    }
   ],
   "source": [
    "Image(url = 'https://i.imgur.com/sAHsjk3.png')"
   ]
  },
  {
   "cell_type": "markdown",
   "metadata": {},
   "source": [
    "You can take a screenshot, and drag and drop the image into [WebPlotDigitizer](http://arohatgi.info/WebPlotDigitizer/app/). Here's [a tutorial](http://blog.plot.ly/post/70293893434/automatically-grab-data-from-an-image-with) on using the helpful tool, which includes the handy [\"Graph in Plotly\"](https://plot.ly/export/) button. You can put it on your website so your users can easily access, graph, and share your data. And it links to your source."
   ]
  },
  {
   "cell_type": "code",
   "execution_count": 31,
   "metadata": {},
   "outputs": [
    {
     "data": {
      "text/html": [
       "<img src=\"https://i.imgur.com/y4t5hdj.png\"/>"
      ],
      "text/plain": [
       "<IPython.core.display.Image at 0x7f549f5b1910>"
      ]
     },
     "execution_count": 31,
     "metadata": {},
     "output_type": "execute_result"
    }
   ],
   "source": [
    "Image (url = 'https://i.imgur.com/y4t5hdj.png')"
   ]
  },
  {
   "cell_type": "markdown",
   "metadata": {},
   "source": [
    "I can then make and share the graph in Plotly. You could do this to access data in any images you find online, then add fits or data from the grid or APIs. Check out [our post with five fits](http://blog.plot.ly/post/84309369787/best-fit-lines-in-plotly) to see more."
   ]
  },
  {
   "cell_type": "code",
   "execution_count": 32,
   "metadata": {},
   "outputs": [
    {
     "data": {
      "text/html": [
       "<img src=\"http://i.imgur.com/BUOe85E.png\"/>"
      ],
      "text/plain": [
       "<IPython.core.display.Image at 0x7f54a3a399d0>"
      ]
     },
     "execution_count": 32,
     "metadata": {},
     "output_type": "execute_result"
    }
   ],
   "source": [
    "Image (url = 'http://i.imgur.com/BUOe85E.png')"
   ]
  },
  {
   "cell_type": "markdown",
   "metadata": {},
   "source": [
    "We'll add a fit then style it a bit."
   ]
  },
  {
   "cell_type": "code",
   "execution_count": 33,
   "metadata": {},
   "outputs": [
    {
     "data": {
      "text/html": [
       "<iframe id=\"igraph\" scrolling=\"no\" style=\"border:none;\"seamless=\"seamless\" src=\"https://plot.ly/~MattSundquist/1337\" height=\"525\" width=\"100%\"></iframe>"
      ],
      "text/plain": [
       "<IPython.core.display.HTML at 0x7f549f5b1cd0>"
      ]
     },
     "metadata": {},
     "output_type": "display_data"
    }
   ],
   "source": [
    "tls.embed('MattSundquist', '1337')"
   ]
  },
  {
   "cell_type": "markdown",
   "metadata": {},
   "source": [
    "## V. Revisions, embedding, and sharing"
   ]
  },
  {
   "cell_type": "markdown",
   "metadata": {},
   "source": [
    "We can share it to edit collaboratively, privately or publicly.  I can share straight [into a folder](https://plot.ly/python/file-sharing) from the API. My collaborators and I can always [add, append, or extend data](https://plot.ly/python/add-append-extend) to that same plot with Python, R, or tbhe GUI. "
   ]
  },
  {
   "cell_type": "code",
   "execution_count": 34,
   "metadata": {},
   "outputs": [
    {
     "data": {
      "text/html": [
       "<img src=\"http://i.imgur.com/YRyTCQy.png\"/>"
      ],
      "text/plain": [
       "<IPython.core.display.Image at 0x7f549f5b1a50>"
      ]
     },
     "execution_count": 34,
     "metadata": {},
     "output_type": "execute_result"
    }
   ],
   "source": [
    "Image(url = 'http://i.imgur.com/YRyTCQy.png')"
   ]
  },
  {
   "cell_type": "markdown",
   "metadata": {},
   "source": [
    "We can also save revisions and versions. "
   ]
  },
  {
   "cell_type": "code",
   "execution_count": 35,
   "metadata": {},
   "outputs": [
    {
     "data": {
      "text/html": [
       "<img src=\"http://i.imgur.com/ATn7vE4.png\"/>"
      ],
      "text/plain": [
       "<IPython.core.display.Image at 0x7f549f5b1d50>"
      ]
     },
     "execution_count": 35,
     "metadata": {},
     "output_type": "execute_result"
    }
   ],
   "source": [
    "Image (url = 'http://i.imgur.com/ATn7vE4.png')"
   ]
  },
  {
   "cell_type": "markdown",
   "metadata": {},
   "source": [
    "You can also export your plot for presentations, emails, infographics, or publications, but link back to the online version so others can access your figure and data."
   ]
  },
  {
   "cell_type": "code",
   "execution_count": 36,
   "metadata": {},
   "outputs": [
    {
     "data": {
      "text/html": [
       "<img src=\"http://i.imgur.com/QaIw9p4.png?1\"/>"
      ],
      "text/plain": [
       "<IPython.core.display.Image at 0x7f549f5b1bd0>"
      ]
     },
     "execution_count": 36,
     "metadata": {},
     "output_type": "execute_result"
    }
   ],
   "source": [
    "Image(url = 'http://i.imgur.com/QaIw9p4.png?1')"
   ]
  },
  {
   "cell_type": "markdown",
   "metadata": {},
   "source": [
    "You can also stop emailing files around. Have your discussion in context in Plotly. The graph being discussed is [here](https://plot.ly/~etpinard/25/average-daily-surface-air-temperature-anomalies-in-deg-c-from-2013-12-01-to-2014/)."
   ]
  },
  {
   "cell_type": "code",
   "execution_count": 37,
   "metadata": {},
   "outputs": [
    {
     "data": {
      "text/html": [
       "<img src=\"http://i.imgur.com/OqXKs0r.png\"/>"
      ],
      "text/plain": [
       "<IPython.core.display.Image at 0x7f549f5b1a90>"
      ]
     },
     "execution_count": 37,
     "metadata": {},
     "output_type": "execute_result"
    }
   ],
   "source": [
    "Image(url = 'http://i.imgur.com/OqXKs0r.png')"
   ]
  },
  {
   "cell_type": "markdown",
   "metadata": {},
   "source": [
    "And displaying in your browser in an iframe is easy. You can copy and paste the snippet below and put it in a blog or website and get a live, interactive graph that lets your readers zoom, toggle, and get text on the hover."
   ]
  },
  {
   "cell_type": "code",
   "execution_count": 38,
   "metadata": {},
   "outputs": [],
   "source": [
    "from IPython.display import HTML"
   ]
  },
  {
   "cell_type": "code",
   "execution_count": 39,
   "metadata": {},
   "outputs": [],
   "source": [
    "i = \"\"\"<pre style=\"background:#f1f1f1;color:#000\">&lt;iframe src=<span style=\"color:#c03030\">\"https://plot.ly/~MattSundquist/1334/650/550\"</span> width=<span style=\"color:#c03030\">\"650\"</span> height=550<span style=\"color:#c03030\">\" frameBorder=\"</span>0<span style=\"color:#c03030\">\" seamless=\"</span>seamless<span style=\"color:#c03030\">\" scrolling=\"</span>no<span style=\"color:#c03030\">\">&lt;/iframe>\n",
    "</span></pre>\"\"\""
   ]
  },
  {
   "cell_type": "code",
   "execution_count": 40,
   "metadata": {},
   "outputs": [
    {
     "data": {
      "text/html": [
       "<pre style=\"background:#f1f1f1;color:#000\">&lt;iframe src=<span style=\"color:#c03030\">\"https://plot.ly/~MattSundquist/1334/650/550\"</span> width=<span style=\"color:#c03030\">\"650\"</span> height=550<span style=\"color:#c03030\">\" frameBorder=\"</span>0<span style=\"color:#c03030\">\" seamless=\"</span>seamless<span style=\"color:#c03030\">\" scrolling=\"</span>no<span style=\"color:#c03030\">\">&lt;/iframe>\n",
       "</span></pre>"
      ],
      "text/plain": [
       "<IPython.core.display.HTML at 0x7f549f5b1c50>"
      ]
     },
     "execution_count": 40,
     "metadata": {},
     "output_type": "execute_result"
    }
   ],
   "source": [
    "h = HTML(i); h"
   ]
  },
  {
   "cell_type": "markdown",
   "metadata": {},
   "source": [
    "It's also interactive, even when embedded."
   ]
  },
  {
   "cell_type": "code",
   "execution_count": 41,
   "metadata": {},
   "outputs": [
    {
     "data": {
      "text/html": [
       "<br><center><iframe class=\"vine-embed\" src=\"https://vine.co/v/Mvzin6HZzLB/embed/simple\" width=\"600\" height=\"600\" frameborder=\"0\"></iframe><script async src=\"//platform.vine.co/static/scripts/embed.js\" charset=\"utf-8\"></script></center><br>"
      ],
      "text/plain": [
       "<IPython.core.display.HTML at 0x7f549f5b1c90>"
      ]
     },
     "execution_count": 41,
     "metadata": {},
     "output_type": "execute_result"
    }
   ],
   "source": [
    "HTML('<br><center><iframe class=\"vine-embed\" src=\"https://vine.co/v/Mvzin6HZzLB/embed/simple\" width=\"600\" height=\"600\" frameborder=\"0\"></iframe><script async src=\"//platform.vine.co/static/scripts/embed.js\" charset=\"utf-8\"></script></center><br>')"
   ]
  },
  {
   "cell_type": "markdown",
   "metadata": {},
   "source": [
    "Your profile keeps all your graphs and data together like this https://plot.ly/~jackp/. "
   ]
  },
  {
   "cell_type": "code",
   "execution_count": 42,
   "metadata": {},
   "outputs": [
    {
     "data": {
      "text/html": [
       "<img src=\"https://i.imgur.com/gUC4ajR.png\"/>"
      ],
      "text/plain": [
       "<IPython.core.display.Image at 0x7f549f5b1d10>"
      ]
     },
     "execution_count": 42,
     "metadata": {},
     "output_type": "execute_result"
    }
   ],
   "source": [
    "Image(url='https://i.imgur.com/gUC4ajR.png')"
   ]
  },
  {
   "cell_type": "markdown",
   "metadata": {},
   "source": [
    "Plotly also does content. Check out our's posts on [boxplots](https://plotly/boxplots) or [histograms](https://plot.ly/histograms)."
   ]
  },
  {
   "cell_type": "code",
   "execution_count": 43,
   "metadata": {},
   "outputs": [
    {
     "data": {
      "text/html": [
       "<center><iframe class=\"vine-embed\" src=\"https://vine.co/v/M6JBhdiqPqA/embed/simple\" width=\"600\" height=\"600\" frameborder=\"0\"></iframe><script async src=\"//platform.vine.co/static/scripts/embed.js\" charset=\"utf-8\"></script></center>"
      ],
      "text/plain": [
       "<IPython.core.display.HTML at 0x7f549f5b1cd0>"
      ]
     },
     "execution_count": 43,
     "metadata": {},
     "output_type": "execute_result"
    }
   ],
   "source": [
    "HTML('<center><iframe class=\"vine-embed\" src=\"https://vine.co/v/M6JBhdiqPqA/embed/simple\" width=\"600\" height=\"600\" frameborder=\"0\"></iframe><script async src=\"//platform.vine.co/static/scripts/embed.js\" charset=\"utf-8\"></script></center>')"
   ]
  },
  {
   "cell_type": "markdown",
   "metadata": {},
   "source": [
    "## VI. Streaming Graphs"
   ]
  },
  {
   "cell_type": "markdown",
   "metadata": {},
   "source": [
    "You can stream data into Plotly. That means you could publish your results to anyone in the world by streaming it through Plotly. You could also send data from multiple sources and languages, and keep your data around to analyze and publish it."
   ]
  },
  {
   "cell_type": "code",
   "execution_count": 44,
   "metadata": {},
   "outputs": [
    {
     "data": {
      "text/html": [
       "<iframe id=\"igraph\" scrolling=\"no\" style=\"border:none;\"seamless=\"seamless\" src=\"https://plot.ly/~flann321/9\" height=\"525\" width=\"100%\"></iframe>"
      ],
      "text/plain": [
       "<IPython.core.display.HTML at 0x7f549f332fd0>"
      ]
     },
     "metadata": {},
     "output_type": "display_data"
    }
   ],
   "source": [
    "tls.embed('flann321', '9')"
   ]
  },
  {
   "cell_type": "markdown",
   "metadata": {},
   "source": [
    "Or you can even stream in real-time. Check out a [Notebook here](https://plot.ly/python/streaming-tutorial/) or see our [Raspberry Pi Instructable](http://www.instructables.com/id/Plotly-Atlas-Scientific-Graph-Real-Time-Dissolved-/) showing real-time dissolved oxygen."
   ]
  },
  {
   "cell_type": "code",
   "execution_count": 45,
   "metadata": {},
   "outputs": [
    {
     "data": {
      "text/html": [
       "<iframe id=\"igraph\" scrolling=\"no\" style=\"border:none;\"seamless=\"seamless\" src=\"https://plot.ly/~streaming-demos/4\" height=\"525\" width=\"100%\"></iframe>"
      ],
      "text/plain": [
       "<IPython.core.display.HTML at 0x7f549f332910>"
      ]
     },
     "metadata": {},
     "output_type": "display_data"
    }
   ],
   "source": [
    "tls.embed('streaming-demos','4')"
   ]
  },
  {
   "cell_type": "markdown",
   "metadata": {},
   "source": [
    "You can stream from basically anywhere."
   ]
  },
  {
   "cell_type": "code",
   "execution_count": 46,
   "metadata": {},
   "outputs": [
    {
     "data": {
      "text/html": [
       "<center><iframe src=\"//instagram.com/p/nJkMMQRyvS/embed/\" width=\"612\" height=\"710\" frameborder=\"0\" scrolling=\"no\" allowtransparency=\"true\"></iframe></center>"
      ],
      "text/plain": [
       "<IPython.core.display.HTML at 0x7f549f5b1ed0>"
      ]
     },
     "execution_count": 46,
     "metadata": {},
     "output_type": "execute_result"
    }
   ],
   "source": [
    "HTML('<center><iframe src=\"//instagram.com/p/nJkMMQRyvS/embed/\" width=\"612\" height=\"710\" frameborder=\"0\" scrolling=\"no\" allowtransparency=\"true\"></iframe></center>')"
   ]
  },
  {
   "cell_type": "code",
   "execution_count": 1,
   "metadata": {},
   "outputs": [
    {
     "data": {
      "text/html": [
       "<link href=\"//fonts.googleapis.com/css?family=Open+Sans:600,400,300,200|Inconsolata|Ubuntu+Mono:400,700\" rel=\"stylesheet\" type=\"text/css\" />"
      ],
      "text/plain": [
       "<IPython.core.display.HTML object>"
      ]
     },
     "metadata": {},
     "output_type": "display_data"
    },
    {
     "data": {
      "text/html": [
       "<link rel=\"stylesheet\" type=\"text/css\" href=\"http://help.plot.ly/documentation/all_static/css/ipython-notebook-custom.css\">"
      ],
      "text/plain": [
       "<IPython.core.display.HTML object>"
      ]
     },
     "metadata": {},
     "output_type": "display_data"
    },
    {
     "name": "stdout",
     "output_type": "stream",
     "text": [
      "Requirement already up-to-date: publisher in /Users/chelsea/venv/venv2.7/lib/python2.7/site-packages\r\n"
     ]
    },
    {
     "name": "stderr",
     "output_type": "stream",
     "text": [
      "/Users/chelsea/venv/venv2.7/lib/python2.7/site-packages/IPython/nbconvert.py:13: ShimWarning: The `IPython.nbconvert` package has been deprecated since IPython 4.0. You should import from nbconvert instead.\n",
      "  \"You should import from nbconvert instead.\", ShimWarning)\n",
      "/Users/chelsea/venv/venv2.7/lib/python2.7/site-packages/publisher/publisher.py:53: UserWarning: Did you \"Save\" this notebook before running this command? Remember to save, always save.\n",
      "  warnings.warn('Did you \"Save\" this notebook before running this command? '\n"
     ]
    }
   ],
   "source": [
    "from IPython.display import display, HTML\n",
    "\n",
    "display(HTML('<link href=\"//fonts.googleapis.com/css?family=Open+Sans:600,400,300,200|Inconsolata|Ubuntu+Mono:400,700\" rel=\"stylesheet\" type=\"text/css\" />'))\n",
    "display(HTML('<link rel=\"stylesheet\" type=\"text/css\" href=\"http://help.plot.ly/documentation/all_static/css/ipython-notebook-custom.css\">'))\n",
    "\n",
    "! pip install publisher --upgrade\n",
    "import publisher\n",
    "publisher.publish(\n",
    "    'collaborate.ipynb', 'ipython-notebooks/collaboration/', 'Collaboration with Plotly using Python, R and MATLAB', \n",
    "    'An IPython Notebook showing how to collaboration between different programming languages with plotly',\n",
    "     name='Collaboration with Plotly')"
   ]
  },
  {
   "cell_type": "code",
   "execution_count": null,
   "metadata": {
    "collapsed": true
   },
   "outputs": [],
   "source": []
  }
 ],
 "metadata": {
  "kernelspec": {
   "display_name": "Python 2",
   "language": "python",
   "name": "python2"
  },
  "language_info": {
   "codemirror_mode": {
    "name": "ipython",
    "version": 2
   },
   "file_extension": ".py",
   "mimetype": "text/x-python",
   "name": "python",
   "nbconvert_exporter": "python",
   "pygments_lexer": "ipython2",
   "version": "2.7.10"
  }
 },
 "nbformat": 4,
 "nbformat_minor": 1
}
