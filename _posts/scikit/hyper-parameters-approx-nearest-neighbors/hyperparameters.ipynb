{
 "cells": [
  {
   "cell_type": "markdown",
   "metadata": {},
   "source": [
    "This example demonstrates the behaviour of the accuracy of the nearest neighbor queries of Locality Sensitive \n",
    "Hashing Forest as the number of candidates and the number of estimators (trees) vary.\n",
    "\n",
    "In the first plot, accuracy is measured with the number of candidates. Here, the term “number of candidates” refers to maximum bound for the number of distinct points retrieved from each tree to calculate the distances. Nearest neighbors are selected from this pool of candidates. Number of estimators is maintained at three fixed levels (1, 5, 10).\n",
    "\n",
    "In the second plot, the number of candidates is fixed at 50. Number of trees is varied and the accuracy is plotted against those values. To measure the accuracy, the true nearest neighbors are required, therefore [sklearn.neighbors.NearestNeighbors](http://scikit-learn.org/stable/modules/generated/sklearn.neighbors.NearestNeighbors.html#sklearn.neighbors.NearestNeighbors) is used to compute the exact neighbors."
   ]
  },
  {
   "cell_type": "markdown",
   "metadata": {},
   "source": [
    "#### New to Plotly?\n",
    "Plotly's Python library is free and open source! [Get started](https://plot.ly/python/getting-started/) by downloading the client and [reading the primer](https://plot.ly/python/getting-started/).\n",
    "<br>You can set up Plotly to work in [online](https://plot.ly/python/getting-started/#initialization-for-online-plotting) or [offline](https://plot.ly/python/getting-started/#initialization-for-offline-plotting) mode, or in [jupyter notebooks](https://plot.ly/python/getting-started/#start-plotting-online).\n",
    "<br>We also have a quick-reference [cheatsheet](https://images.plot.ly/plotly-documentation/images/python_cheat_sheet.pdf) (new!) to help you get started!"
   ]
  },
  {
   "cell_type": "markdown",
   "metadata": {},
   "source": [
    "### Version"
   ]
  },
  {
   "cell_type": "code",
   "execution_count": 1,
   "metadata": {
    "collapsed": false
   },
   "outputs": [
    {
     "data": {
      "text/plain": [
       "'0.18.1'"
      ]
     },
     "execution_count": 1,
     "metadata": {},
     "output_type": "execute_result"
    }
   ],
   "source": [
    "import sklearn\n",
    "sklearn.__version__"
   ]
  },
  {
   "cell_type": "markdown",
   "metadata": {},
   "source": [
    "### Imports"
   ]
  },
  {
   "cell_type": "markdown",
   "metadata": {},
   "source": [
    "This tutorial imports [make_blobs](http://scikit-learn.org/stable/modules/generated/sklearn.datasets.make_blobs.html#sklearn.datasets.make_blobs), [LSHForest](http://scikit-learn.org/stable/modules/generated/sklearn.neighbors.LSHForest.html#sklearn.neighbors.LSHForest) and [NearestNeighbors](http://scikit-learn.org/stable/modules/generated/sklearn.neighbors.NearestNeighbors.html#sklearn.neighbors.NearestNeighbors)."
   ]
  },
  {
   "cell_type": "code",
   "execution_count": 2,
   "metadata": {
    "collapsed": false
   },
   "outputs": [
    {
     "name": "stdout",
     "output_type": "stream",
     "text": [
      "Automatically created module for IPython interactive environment\n"
     ]
    }
   ],
   "source": [
    "import plotly.plotly as py\n",
    "import plotly.graph_objs as go\n",
    "from plotly import tools\n",
    "\n",
    "from __future__ import division\n",
    "print(__doc__)\n",
    "\n",
    "import numpy as np\n",
    "from sklearn.datasets.samples_generator import make_blobs\n",
    "from sklearn.neighbors import LSHForest\n",
    "from sklearn.neighbors import NearestNeighbors"
   ]
  },
  {
   "cell_type": "markdown",
   "metadata": {},
   "source": [
    "### Calculations"
   ]
  },
  {
   "cell_type": "code",
   "execution_count": 3,
   "metadata": {
    "collapsed": true
   },
   "outputs": [],
   "source": [
    "# Initialize size of the database, iterations and required neighbors.\n",
    "n_samples = 10000\n",
    "n_features = 100\n",
    "n_queries = 30\n",
    "rng = np.random.RandomState(42)\n",
    "\n",
    "# Generate sample data\n",
    "X, _ = make_blobs(n_samples=n_samples + n_queries,\n",
    "                  n_features=n_features, centers=10,\n",
    "                  random_state=0)\n",
    "X_index = X[:n_samples]\n",
    "X_query = X[n_samples:]\n",
    "# Get exact neighbors\n",
    "nbrs = NearestNeighbors(n_neighbors=1, algorithm='brute',\n",
    "                        metric='cosine').fit(X_index)\n",
    "neighbors_exact = nbrs.kneighbors(X_query, return_distance=False)\n",
    "\n",
    "# Set `n_candidate` values\n",
    "n_candidates_values = np.linspace(10, 500, 5).astype(np.int)\n",
    "n_estimators_for_candidate_value = [1, 5, 10]\n",
    "n_iter = 10\n",
    "stds_accuracies = np.zeros((len(n_estimators_for_candidate_value),\n",
    "                            n_candidates_values.shape[0]),\n",
    "                           dtype=float)\n",
    "accuracies_c = np.zeros((len(n_estimators_for_candidate_value),\n",
    "                         n_candidates_values.shape[0]), dtype=float)\n",
    "\n"
   ]
  },
  {
   "cell_type": "markdown",
   "metadata": {},
   "source": [
    "LSH Forest is a stochastic index: \n",
    "\n",
    "perform several iteration to estimate expected accuracy and standard deviation displayed as error bars in the plots"
   ]
  },
  {
   "cell_type": "code",
   "execution_count": 4,
   "metadata": {
    "collapsed": true
   },
   "outputs": [],
   "source": [
    "for j, value in enumerate(n_estimators_for_candidate_value):\n",
    "    for i, n_candidates in enumerate(n_candidates_values):\n",
    "        accuracy_c = []\n",
    "        for seed in range(n_iter):\n",
    "            lshf = LSHForest(n_estimators=value,\n",
    "                             n_candidates=n_candidates, n_neighbors=1,\n",
    "                             random_state=seed)\n",
    "            # Build the LSH Forest index\n",
    "            lshf.fit(X_index)\n",
    "            # Get neighbors\n",
    "            neighbors_approx = lshf.kneighbors(X_query,\n",
    "                                               return_distance=False)\n",
    "            accuracy_c.append(np.sum(np.equal(neighbors_approx,\n",
    "                                              neighbors_exact)) /\n",
    "                              n_queries)\n",
    "\n",
    "        stds_accuracies[j, i] = np.std(accuracy_c)\n",
    "        accuracies_c[j, i] = np.mean(accuracy_c)\n",
    "\n",
    "# Set `n_estimators` values\n",
    "n_estimators_values = [1, 5, 10, 20, 30, 40, 50]\n",
    "accuracies_trees = np.zeros(len(n_estimators_values), dtype=float)\n",
    "\n"
   ]
  },
  {
   "cell_type": "markdown",
   "metadata": {},
   "source": [
    "Calculate average accuracy for each value of `n_estimators`"
   ]
  },
  {
   "cell_type": "code",
   "execution_count": 5,
   "metadata": {
    "collapsed": true
   },
   "outputs": [],
   "source": [
    "\n",
    "for i, n_estimators in enumerate(n_estimators_values):\n",
    "    lshf = LSHForest(n_estimators=n_estimators, n_neighbors=1)\n",
    "    # Build the LSH Forest index\n",
    "    lshf.fit(X_index)\n",
    "    # Get neighbors\n",
    "    neighbors_approx = lshf.kneighbors(X_query, return_distance=False)\n",
    "    accuracies_trees[i] = np.sum(np.equal(neighbors_approx,\n",
    "                                          neighbors_exact))/n_queries\n"
   ]
  },
  {
   "cell_type": "markdown",
   "metadata": {},
   "source": [
    "### Plot the Accuracy Variation with n_candidates"
   ]
  },
  {
   "cell_type": "code",
   "execution_count": 6,
   "metadata": {
    "collapsed": true
   },
   "outputs": [],
   "source": [
    "colors = ['cyan', 'magenta', 'yellow']\n",
    "\n",
    "fig = tools.make_subplots(rows=1, cols=2,\n",
    "                          print_grid=False,\n",
    "                          subplot_titles=(\"Accuracy variation with n_candidates\",\n",
    "                                          \"Accuracy variation with n_estimators\"))\n",
    "\n",
    "for i, n_estimators in enumerate(n_estimators_for_candidate_value):\n",
    "    label = 'n_estimators = %d ' % n_estimators\n",
    "    trace = go.Scatter(x=n_candidates_values, \n",
    "                       y=accuracies_c[i, :],\n",
    "                       error_y=dict(visible=True, \n",
    "                                    arrayminus=stds_accuracies[i, :]),\n",
    "                       line=dict(color=colors[i]), name=label)\n",
    "    fig.append_trace(trace, 1, 1)\n",
    "    \n",
    "fig['layout']['xaxis1'].update(title=\"n_candidates\")\n",
    "fig['layout']['yaxis1'].update(title=\"Accuracy\")\n",
    "\n",
    "# Plot the accuracy variation with `n_estimators`\n",
    "trace1 = go.Scatter(x=n_estimators_values, y=accuracies_trees, \n",
    "                    mode='markers', marker=dict(color='black'))\n",
    "fig.append_trace(trace1, 1, 2)\n",
    "trace2 = go.Scatter(x=n_estimators_values, y=accuracies_trees,\n",
    "                    mode='lines', line=dict(color='green', width=2))\n",
    "fig.append_trace(trace2, 1, 2)\n",
    "\n",
    "fig['layout']['xaxis2'].update(title=\"n_estimators\")\n",
    "fig['layout']['yaxis2'].update(title=\"Accuracy\")\n",
    "\n",
    "fig['layout'].update(hovermode='closest',\n",
    "                     showlegend=False, height=600)\n"
   ]
  },
  {
   "cell_type": "code",
   "execution_count": 7,
   "metadata": {
    "collapsed": false
   },
   "outputs": [
    {
     "data": {
      "text/html": [
       "<iframe id=\"igraph\" scrolling=\"no\" style=\"border:none;\" seamless=\"seamless\" src=\"https://plot.ly/~Diksha_Gabha/3478.embed\" height=\"600px\" width=\"100%\"></iframe>"
      ],
      "text/plain": [
       "<plotly.tools.PlotlyDisplay object>"
      ]
     },
     "execution_count": 7,
     "metadata": {},
     "output_type": "execute_result"
    }
   ],
   "source": [
    "py.iplot(fig)"
   ]
  },
  {
   "cell_type": "markdown",
   "metadata": {},
   "source": [
    "### License\n",
    "\n",
    "Author: \n",
    "    \n",
    "        Maheshakya Wijewardena <maheshakya.10@cse.mrt.ac.lk>\n",
    "\n",
    "License:\n",
    "    \n",
    "        BSD 3 clause"
   ]
  },
  {
   "cell_type": "code",
   "execution_count": 4,
   "metadata": {
    "collapsed": false
   },
   "outputs": [
    {
     "data": {
      "text/html": [
       "<link href=\"//fonts.googleapis.com/css?family=Open+Sans:600,400,300,200|Inconsolata|Ubuntu+Mono:400,700\" rel=\"stylesheet\" type=\"text/css\" />"
      ],
      "text/plain": [
       "<IPython.core.display.HTML object>"
      ]
     },
     "metadata": {},
     "output_type": "display_data"
    },
    {
     "data": {
      "text/html": [
       "<link rel=\"stylesheet\" type=\"text/css\" href=\"http://help.plot.ly/documentation/all_static/css/ipython-notebook-custom.css\">"
      ],
      "text/plain": [
       "<IPython.core.display.HTML object>"
      ]
     },
     "metadata": {},
     "output_type": "display_data"
    },
    {
     "name": "stdout",
     "output_type": "stream",
     "text": [
      "Collecting git+https://github.com/plotly/publisher.git\n",
      "  Cloning https://github.com/plotly/publisher.git to /tmp/pip-24Ozmm-build\n",
      "Installing collected packages: publisher\n",
      "  Found existing installation: publisher 0.10\n",
      "    Uninstalling publisher-0.10:\n",
      "      Successfully uninstalled publisher-0.10\n",
      "  Running setup.py install for publisher ... \u001b[?25l-\b \bdone\n",
      "\u001b[?25hSuccessfully installed publisher-0.10\n"
     ]
    }
   ],
   "source": [
    "from IPython.display import display, HTML\n",
    "\n",
    "display(HTML('<link href=\"//fonts.googleapis.com/css?family=Open+Sans:600,400,300,200|Inconsolata|Ubuntu+Mono:400,700\" rel=\"stylesheet\" type=\"text/css\" />'))\n",
    "display(HTML('<link rel=\"stylesheet\" type=\"text/css\" href=\"http://help.plot.ly/documentation/all_static/css/ipython-notebook-custom.css\">'))\n",
    "\n",
    "! pip install git+https://github.com/plotly/publisher.git --upgrade\n",
    "import publisher\n",
    "publisher.publish(\n",
    "    'hyperparameters.ipynb', 'scikit-learn/plot-approximate-nearest-neighbors-hyperparameters/', 'Hyper-Parameters of Approximate Nearest Neighbors | plotly',\n",
    "    ' ',\n",
    "    title = 'Hyper-Parameters of Approximate Nearest Neighbors| plotly',\n",
    "    name = 'Hyper-Parameters of Approximate Nearest Neighbors',\n",
    "    has_thumbnail='true', thumbnail='thumbnail/hyperparameters.jpg', \n",
    "    language='scikit-learn', page_type='example_index',\n",
    "    display_as='nearest_neighbors', order=7,\n",
    "    ipynb= '~Diksha_Gabha/3480')"
   ]
  },
  {
   "cell_type": "code",
   "execution_count": null,
   "metadata": {
    "collapsed": true
   },
   "outputs": [],
   "source": []
  }
 ],
 "metadata": {
  "kernelspec": {
   "display_name": "Python 2",
   "language": "python",
   "name": "python2"
  },
  "language_info": {
   "codemirror_mode": {
    "name": "ipython",
    "version": 2
   },
   "file_extension": ".py",
   "mimetype": "text/x-python",
   "name": "python",
   "nbconvert_exporter": "python",
   "pygments_lexer": "ipython2",
   "version": "2.7.13"
  }
 },
 "nbformat": 4,
 "nbformat_minor": 2
}
