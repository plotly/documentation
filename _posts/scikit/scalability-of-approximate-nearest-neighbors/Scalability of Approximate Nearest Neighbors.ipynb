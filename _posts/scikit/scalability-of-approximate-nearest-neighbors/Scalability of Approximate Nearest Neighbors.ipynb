{
 "cells": [
  {
   "cell_type": "markdown",
   "metadata": {},
   "source": [
    "This example studies the scalability profile of approximate 10-neighbors queries using the LSHForest with n_estimators=20 and n_candidates=200 when varying the number of samples in the dataset.\n",
    "The first plot demonstrates the relationship between query time and index size of LSHForest. Query time is compared with the brute force method in exact nearest neighbor search for the same index sizes. The brute force queries have a very predictable linear scalability with the index (full scan). LSHForest index have sub-linear scalability profile but can be slower for small datasets.\n",
    "\n",
    "The second plot shows the speedup when using approximate queries vs brute force exact queries. The speedup tends to increase with the dataset size but should reach a plateau typically when doing queries on datasets with millions of samples and a few hundreds of dimensions. Higher dimensional datasets tends to benefit more from LSHForest indexing.\n",
    "\n",
    "The break even point (speedup = 1) depends on the dimensionality and structure of the indexed data and the parameters of the LSHForest index.\n",
    "\n",
    "The precision of approximate queries should decrease slowly with the dataset size. The speed of the decrease depends mostly on the LSHForest parameters and the dimensionality of the data."
   ]
  },
  {
   "cell_type": "markdown",
   "metadata": {},
   "source": [
    "#### New to Plotly?\n",
    "Plotly's Python library is free and open source! [Get started](https://plot.ly/python/getting-started/) by downloading the client and [reading the primer](https://plot.ly/python/getting-started/).\n",
    "<br>You can set up Plotly to work in [online](https://plot.ly/python/getting-started/#initialization-for-online-plotting) or [offline](https://plot.ly/python/getting-started/#initialization-for-offline-plotting) mode, or in [jupyter notebooks](https://plot.ly/python/getting-started/#start-plotting-online).\n",
    "<br>We also have a quick-reference [cheatsheet](https://images.plot.ly/plotly-documentation/images/python_cheat_sheet.pdf) (new!) to help you get started!"
   ]
  },
  {
   "cell_type": "markdown",
   "metadata": {},
   "source": [
    "### Version"
   ]
  },
  {
   "cell_type": "code",
   "execution_count": 1,
   "metadata": {
    "collapsed": false
   },
   "outputs": [
    {
     "data": {
      "text/plain": [
       "'0.18.1'"
      ]
     },
     "execution_count": 1,
     "metadata": {},
     "output_type": "execute_result"
    }
   ],
   "source": [
    "import sklearn\n",
    "sklearn.__version__"
   ]
  },
  {
   "cell_type": "markdown",
   "metadata": {},
   "source": [
    "### Imports"
   ]
  },
  {
   "cell_type": "code",
   "execution_count": 2,
   "metadata": {
    "collapsed": false
   },
   "outputs": [
    {
     "name": "stdout",
     "output_type": "stream",
     "text": [
      "Automatically created module for IPython interactive environment\n"
     ]
    }
   ],
   "source": [
    "import plotly.plotly as py\n",
    "import plotly.graph_objs as go\n",
    "\n",
    "from __future__ import division\n",
    "print(__doc__)\n",
    "\n",
    "import time\n",
    "import numpy as np\n",
    "from sklearn.datasets.samples_generator import make_blobs\n",
    "from sklearn.neighbors import LSHForest\n",
    "from sklearn.neighbors import NearestNeighbors"
   ]
  },
  {
   "cell_type": "markdown",
   "metadata": {},
   "source": [
    "### Calculations"
   ]
  },
  {
   "cell_type": "code",
   "execution_count": 3,
   "metadata": {
    "collapsed": true
   },
   "outputs": [],
   "source": [
    "# Parameters of the study\n",
    "n_samples_min = int(1e3)\n",
    "n_samples_max = int(1e5)\n",
    "n_features = 100\n",
    "n_centers = 100\n",
    "n_queries = 100\n",
    "n_steps = 6\n",
    "n_iter = 5\n",
    "\n",
    "# Initialize the range of `n_samples`\n",
    "n_samples_values = np.logspace(np.log10(n_samples_min),\n",
    "                               np.log10(n_samples_max),\n",
    "                               n_steps).astype(np.int)\n",
    "\n",
    "# Generate some structured data\n",
    "rng = np.random.RandomState(42)\n",
    "all_data, _ = make_blobs(n_samples=n_samples_max + n_queries,\n",
    "                         n_features=n_features, centers=n_centers, shuffle=True,\n",
    "                         random_state=0)\n",
    "queries = all_data[:n_queries]\n",
    "index_data = all_data[n_queries:]\n",
    "\n",
    "# Metrics to collect for the plots\n",
    "average_times_exact = []\n",
    "average_times_approx = []\n",
    "std_times_approx = []\n",
    "accuracies = []\n",
    "std_accuracies = []\n",
    "average_speedups = []\n",
    "std_speedups = []\n"
   ]
  },
  {
   "cell_type": "markdown",
   "metadata": {},
   "source": [
    "Calculate the average query time"
   ]
  },
  {
   "cell_type": "code",
   "execution_count": 4,
   "metadata": {
    "collapsed": false
   },
   "outputs": [
    {
     "name": "stdout",
     "output_type": "stream",
     "text": [
      "Index size: 1000, exact: 0.001s, LSHF: 0.006s, speedup: 0.1, accuracy: 1.00 +/-0.00\n",
      "Index size: 2511, exact: 0.002s, LSHF: 0.007s, speedup: 0.2, accuracy: 1.00 +/-0.00\n",
      "Index size: 6309, exact: 0.005s, LSHF: 0.008s, speedup: 0.7, accuracy: 1.00 +/-0.00\n",
      "Index size: 15848, exact: 0.015s, LSHF: 0.010s, speedup: 1.5, accuracy: 1.00 +/-0.00\n",
      "Index size: 39810, exact: 0.027s, LSHF: 0.009s, speedup: 2.9, accuracy: 1.00 +/-0.00\n",
      "Index size: 100000, exact: 0.070s, LSHF: 0.016s, speedup: 4.8, accuracy: 0.98 +/-0.04\n"
     ]
    }
   ],
   "source": [
    "\n",
    "for n_samples in n_samples_values:\n",
    "    X = index_data[:n_samples]\n",
    "    # Initialize LSHForest for queries of a single neighbor\n",
    "    lshf = LSHForest(n_estimators=20, n_candidates=200,\n",
    "                     n_neighbors=10).fit(X)\n",
    "    nbrs = NearestNeighbors(algorithm='brute', metric='cosine',\n",
    "                            n_neighbors=10).fit(X)\n",
    "    time_approx = []\n",
    "    time_exact = []\n",
    "    accuracy = []\n",
    "\n",
    "    for i in range(n_iter):\n",
    "        # pick one query at random to study query time variability in LSHForest\n",
    "        query = queries[[rng.randint(0, n_queries)]]\n",
    "\n",
    "        t0 = time.time()\n",
    "        exact_neighbors = nbrs.kneighbors(query, return_distance=False)\n",
    "        time_exact.append(time.time() - t0)\n",
    "\n",
    "        t0 = time.time()\n",
    "        approx_neighbors = lshf.kneighbors(query, return_distance=False)\n",
    "        time_approx.append(time.time() - t0)\n",
    "\n",
    "        accuracy.append(np.in1d(approx_neighbors, exact_neighbors).mean())\n",
    "\n",
    "    average_time_exact = np.mean(time_exact)\n",
    "    average_time_approx = np.mean(time_approx)\n",
    "    speedup = np.array(time_exact) / np.array(time_approx)\n",
    "    average_speedup = np.mean(speedup)\n",
    "    mean_accuracy = np.mean(accuracy)\n",
    "    std_accuracy = np.std(accuracy)\n",
    "    print(\"Index size: %d, exact: %0.3fs, LSHF: %0.3fs, speedup: %0.1f, \"\n",
    "          \"accuracy: %0.2f +/-%0.2f\" %\n",
    "          (n_samples, average_time_exact, average_time_approx, average_speedup,\n",
    "           mean_accuracy, std_accuracy))\n",
    "\n",
    "    accuracies.append(mean_accuracy)\n",
    "    std_accuracies.append(std_accuracy)\n",
    "    average_times_exact.append(average_time_exact)\n",
    "    average_times_approx.append(average_time_approx)\n",
    "    std_times_approx.append(np.std(time_approx))\n",
    "    average_speedups.append(average_speedup)\n",
    "    std_speedups.append(np.std(speedup))\n"
   ]
  },
  {
   "cell_type": "markdown",
   "metadata": {},
   "source": [
    "### Plot average query time against n_samples"
   ]
  },
  {
   "cell_type": "code",
   "execution_count": 5,
   "metadata": {
    "collapsed": false
   },
   "outputs": [
    {
     "data": {
      "text/html": [
       "<iframe id=\"igraph\" scrolling=\"no\" style=\"border:none;\" seamless=\"seamless\" src=\"https://plot.ly/~Diksha_Gabha/3481.embed\" height=\"525px\" width=\"100%\"></iframe>"
      ],
      "text/plain": [
       "<plotly.tools.PlotlyDisplay object>"
      ]
     },
     "execution_count": 5,
     "metadata": {},
     "output_type": "execute_result"
    }
   ],
   "source": [
    "p1 = go.Scatter(x=n_samples_values,\n",
    "                y=average_times_approx,\n",
    "                error_y=dict(visible=True, \n",
    "                             arrayminus=std_times_approx),\n",
    "                line=dict(color='red', width=2),\n",
    "                name='LSHForest')\n",
    "\n",
    "p2 = go.Scatter(x=n_samples_values, y=average_times_exact,\n",
    "                mode='lines', line=dict(color='blue', width=2),\n",
    "                name=\"NearestNeighbors(algorithm='brute', metric='cosine')\")\n",
    "\n",
    "layout = go.Layout(title = \"Impact of index size on response time for first \"\n",
    "                            \"nearest neighbors queries\",\n",
    "                   xaxis=dict(title=\"n_samples\"),\n",
    "                   yaxis=dict(title=\"Average query time in seconds\"))\n",
    "fig = go.Figure(data=[p1, p2], layout=layout)\n",
    "py.iplot(fig)"
   ]
  },
  {
   "cell_type": "markdown",
   "metadata": {},
   "source": [
    "### Plot average query speedup versus index size"
   ]
  },
  {
   "cell_type": "code",
   "execution_count": 6,
   "metadata": {
    "collapsed": false
   },
   "outputs": [
    {
     "data": {
      "text/html": [
       "<iframe id=\"igraph\" scrolling=\"no\" style=\"border:none;\" seamless=\"seamless\" src=\"https://plot.ly/~Diksha_Gabha/3483.embed\" height=\"525px\" width=\"100%\"></iframe>"
      ],
      "text/plain": [
       "<plotly.tools.PlotlyDisplay object>"
      ]
     },
     "execution_count": 6,
     "metadata": {},
     "output_type": "execute_result"
    }
   ],
   "source": [
    "p1 = go.Scatter(x=n_samples_values, \n",
    "                y=average_speedups, \n",
    "                error_y=dict(visible=True, \n",
    "                             arrayminus=std_speedups),\n",
    "                line=dict(color='red', width=2))\n",
    "\n",
    "layout = go.Layout(title = \"Speedup of the approximate NN queries vs brute force\",\n",
    "                   xaxis=dict(title=\"n_samples\"),\n",
    "                   yaxis=dict(title=\"Average speedup\"))\n",
    "fig = go.Figure(data=[p1], layout=layout)\n",
    "py.iplot(fig)"
   ]
  },
  {
   "cell_type": "markdown",
   "metadata": {},
   "source": [
    "### Plot average precision versus index size"
   ]
  },
  {
   "cell_type": "code",
   "execution_count": 7,
   "metadata": {
    "collapsed": false
   },
   "outputs": [
    {
     "data": {
      "text/html": [
       "<iframe id=\"igraph\" scrolling=\"no\" style=\"border:none;\" seamless=\"seamless\" src=\"https://plot.ly/~Diksha_Gabha/3485.embed\" height=\"525px\" width=\"100%\"></iframe>"
      ],
      "text/plain": [
       "<plotly.tools.PlotlyDisplay object>"
      ]
     },
     "execution_count": 7,
     "metadata": {},
     "output_type": "execute_result"
    }
   ],
   "source": [
    "p1 = go.Scatter(x=n_samples_values, y=accuracies,\n",
    "                error_y=dict(visible=True, \n",
    "                             arrayminus=std_accuracies),\n",
    "                line=dict(color='cyan', width=2))\n",
    "\n",
    "layout = go.Layout(title = \"Precision of 10-nearest-neighbors queries with index size\",\n",
    "                   xaxis=dict(title=\"n_samples\"),\n",
    "                   yaxis=dict(title=\"precision@10\", range=[0, 1.1]))\n",
    "fig = go.Figure(data=[p1], layout=layout)\n",
    "py.iplot(fig)"
   ]
  },
  {
   "cell_type": "markdown",
   "metadata": {},
   "source": [
    "### License"
   ]
  },
  {
   "cell_type": "markdown",
   "metadata": {},
   "source": [
    "Authors: \n",
    "    \n",
    "        Maheshakya Wijewardena <maheshakya.10@cse.mrt.ac.lk>\n",
    "        \n",
    "        Olivier Grisel <olivier.grisel@ensta.org>\n",
    "\n",
    "License: \n",
    "    \n",
    "         BSD 3 clause"
   ]
  },
  {
   "cell_type": "code",
   "execution_count": 9,
   "metadata": {
    "collapsed": false
   },
   "outputs": [
    {
     "data": {
      "text/html": [
       "<link href=\"//fonts.googleapis.com/css?family=Open+Sans:600,400,300,200|Inconsolata|Ubuntu+Mono:400,700\" rel=\"stylesheet\" type=\"text/css\" />"
      ],
      "text/plain": [
       "<IPython.core.display.HTML object>"
      ]
     },
     "metadata": {},
     "output_type": "display_data"
    },
    {
     "data": {
      "text/html": [
       "<link rel=\"stylesheet\" type=\"text/css\" href=\"http://help.plot.ly/documentation/all_static/css/ipython-notebook-custom.css\">"
      ],
      "text/plain": [
       "<IPython.core.display.HTML object>"
      ]
     },
     "metadata": {},
     "output_type": "display_data"
    },
    {
     "name": "stdout",
     "output_type": "stream",
     "text": [
      "Collecting git+https://github.com/plotly/publisher.git\n",
      "  Cloning https://github.com/plotly/publisher.git to /tmp/pip-8Jgp1r-build\n",
      "Installing collected packages: publisher\n",
      "  Found existing installation: publisher 0.10\n",
      "    Uninstalling publisher-0.10:\n",
      "      Successfully uninstalled publisher-0.10\n",
      "  Running setup.py install for publisher ... \u001b[?25l-\b \bdone\n",
      "\u001b[?25hSuccessfully installed publisher-0.10\n"
     ]
    }
   ],
   "source": [
    "from IPython.display import display, HTML\n",
    "\n",
    "display(HTML('<link href=\"//fonts.googleapis.com/css?family=Open+Sans:600,400,300,200|Inconsolata|Ubuntu+Mono:400,700\" rel=\"stylesheet\" type=\"text/css\" />'))\n",
    "display(HTML('<link rel=\"stylesheet\" type=\"text/css\" href=\"http://help.plot.ly/documentation/all_static/css/ipython-notebook-custom.css\">'))\n",
    "\n",
    "! pip install git+https://github.com/plotly/publisher.git --upgrade\n",
    "import publisher\n",
    "publisher.publish(\n",
    "    'Scalability of Approximate Nearest Neighbors.ipynb', 'scikit-learn/plot-approximate-nearest-neighbors-scalability/', 'Scalability of Approximate Nearest Neighbors | plotly',\n",
    "    ' ',\n",
    "    title = 'Scalability of Approximate Nearest Neighbors | plotly',\n",
    "    name = 'Scalability of Approximate Nearest Neighbors',\n",
    "    has_thumbnail='true', thumbnail='thumbnail/scalability.jpg', \n",
    "    language='scikit-learn', page_type='example_index',\n",
    "    display_as='nearest_neighbors', order=8,\n",
    "    ipynb= '~Diksha_Gabha/3487')"
   ]
  },
  {
   "cell_type": "code",
   "execution_count": null,
   "metadata": {
    "collapsed": true
   },
   "outputs": [],
   "source": []
  }
 ],
 "metadata": {
  "kernelspec": {
   "display_name": "Python 2",
   "language": "python",
   "name": "python2"
  },
  "language_info": {
   "codemirror_mode": {
    "name": "ipython",
    "version": 2
   },
   "file_extension": ".py",
   "mimetype": "text/x-python",
   "name": "python",
   "nbconvert_exporter": "python",
   "pygments_lexer": "ipython2",
   "version": "2.7.13"
  }
 },
 "nbformat": 4,
 "nbformat_minor": 2
}
