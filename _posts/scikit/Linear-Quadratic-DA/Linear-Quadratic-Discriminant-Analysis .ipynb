{
 "cells": [
  {
   "cell_type": "markdown",
   "metadata": {},
   "source": [
    "Plot the confidence ellipsoids of each class and decision boundary"
   ]
  },
  {
   "cell_type": "markdown",
   "metadata": {},
   "source": [
    "#### New to Plotly?\n",
    "Plotly's Python library is free and open source! [Get started](https://plot.ly/python/getting-started/) by downloading the client and [reading the primer](https://plot.ly/python/getting-started/).\n",
    "<br>You can set up Plotly to work in [online](https://plot.ly/python/getting-started/#initialization-for-online-plotting) or [offline](https://plot.ly/python/getting-started/#initialization-for-offline-plotting) mode, or in [jupyter notebooks](https://plot.ly/python/getting-started/#start-plotting-online).\n",
    "<br>We also have a quick-reference [cheatsheet](https://images.plot.ly/plotly-documentation/images/python_cheat_sheet.pdf) (new!) to help you get started!"
   ]
  },
  {
   "cell_type": "markdown",
   "metadata": {},
   "source": [
    "### Version"
   ]
  },
  {
   "cell_type": "code",
   "execution_count": 1,
   "metadata": {
    "collapsed": false
   },
   "outputs": [
    {
     "data": {
      "text/plain": [
       "'0.18'"
      ]
     },
     "execution_count": 1,
     "metadata": {},
     "output_type": "execute_result"
    }
   ],
   "source": [
    "import sklearn\n",
    "sklearn.__version__"
   ]
  },
  {
   "cell_type": "markdown",
   "metadata": {},
   "source": [
    "### Imports"
   ]
  },
  {
   "cell_type": "code",
   "execution_count": 2,
   "metadata": {
    "collapsed": false
   },
   "outputs": [
    {
     "name": "stdout",
     "output_type": "stream",
     "text": [
      "Automatically created module for IPython interactive environment\n"
     ]
    }
   ],
   "source": [
    "print(__doc__)\n",
    "\n",
    "import plotly.plotly as py\n",
    "import plotly.graph_objs as go\n",
    "from plotly import tools\n",
    "import math\n",
    "\n",
    "from scipy import linalg\n",
    "import numpy as np\n",
    "import matplotlib.pyplot as plt\n",
    "import matplotlib as mpl\n",
    "from matplotlib import colors\n",
    "\n",
    "from sklearn.discriminant_analysis import LinearDiscriminantAnalysis\n",
    "from sklearn.discriminant_analysis import QuadraticDiscriminantAnalysis"
   ]
  },
  {
   "cell_type": "markdown",
   "metadata": {},
   "source": [
    "### Calculaions"
   ]
  },
  {
   "cell_type": "markdown",
   "metadata": {},
   "source": [
    "Colormap"
   ]
  },
  {
   "cell_type": "code",
   "execution_count": 3,
   "metadata": {
    "collapsed": true
   },
   "outputs": [],
   "source": [
    "cmap = colors.LinearSegmentedColormap(\n",
    "    'red_blue_classes',\n",
    "    {'red': [(0, 1, 1), (1, 0.7, 0.7)],\n",
    "     'green': [(0, 0.7, 0.7), (1, 0.7, 0.7)],\n",
    "     'blue': [(0, 0.7, 0.7), (1, 1, 1)]})\n",
    "plt.cm.register_cmap(cmap=cmap)"
   ]
  },
  {
   "cell_type": "markdown",
   "metadata": {},
   "source": [
    "generate datasets"
   ]
  },
  {
   "cell_type": "code",
   "execution_count": 4,
   "metadata": {
    "collapsed": true
   },
   "outputs": [],
   "source": [
    "def dataset_fixed_cov():\n",
    "    '''Generate 2 Gaussians samples with the same covariance matrix'''\n",
    "    n, dim = 300, 2\n",
    "    np.random.seed(0)\n",
    "    C = np.array([[0., -0.23], [0.83, .23]])\n",
    "    X = np.r_[np.dot(np.random.randn(n, dim), C),\n",
    "              np.dot(np.random.randn(n, dim), C) + np.array([1, 1])]\n",
    "    y = np.hstack((np.zeros(n), np.ones(n)))\n",
    "    return X, y\n",
    "\n",
    "\n",
    "def dataset_cov():\n",
    "    '''Generate 2 Gaussians samples with different covariance matrices'''\n",
    "    n, dim = 300, 2\n",
    "    np.random.seed(0)\n",
    "    C = np.array([[0., -1.], [2.5, .7]]) * 2.\n",
    "    X = np.r_[np.dot(np.random.randn(n, dim), C),\n",
    "              np.dot(np.random.randn(n, dim), C.T) + np.array([1, 4])]\n",
    "    y = np.hstack((np.zeros(n), np.ones(n)))\n",
    "    return X, y"
   ]
  },
  {
   "cell_type": "markdown",
   "metadata": {},
   "source": [
    "### Plot Functions"
   ]
  },
  {
   "cell_type": "code",
   "execution_count": 5,
   "metadata": {
    "collapsed": false,
    "scrolled": false
   },
   "outputs": [],
   "source": [
    "fig = tools.make_subplots(rows=2, cols=2,\n",
    "                          print_grid=False,\n",
    "                          subplot_titles= ('Linear Discriminant Analysis',\n",
    "                                           'Quadratic Discriminant Analysis'))\n",
    "\n",
    "def matplotlib_to_plotly(cmap, pl_entries):\n",
    "    h = 1.0/(pl_entries-1)\n",
    "    pl_colorscale = []\n",
    "    \n",
    "    for k in range(pl_entries):\n",
    "        C = map(np.uint8, np.array(cmap(k*h)[:3])*255)\n",
    "        pl_colorscale.append([k*h, 'rgb'+str((C[0], C[1], C[2]))])\n",
    "        \n",
    "    return pl_colorscale\n",
    "\n",
    "def plot_data(lda, X, y, y_pred, fig_index):\n",
    "    tp = (y == y_pred)  # True Positive\n",
    "    tp0, tp1 = tp[y == 0], tp[y == 1]\n",
    "    X0, X1 = X[y == 0], X[y == 1]\n",
    "    X0_tp, X0_fp = X0[tp0], X0[~tp0]\n",
    "    X1_tp, X1_fp = X1[tp1], X1[~tp1]\n",
    "\n",
    "    alpha = 0.5\n",
    "\n",
    "    # class 0: dots\n",
    "    class0 = go.Scatter(x=X0_tp[:, 0], y=X0_tp[:, 1], mode='markers', \n",
    "                        opacity=0.75, showlegend=False,\n",
    "                        marker=dict(color='red', size=12,\n",
    "                                    line=dict(color='black', width = 1)))\n",
    "    class0_dark = go.Scatter(x=X0_fp[:, 0], y=X0_fp[:, 1], mode='markers', \n",
    "                             opacity=0.75, showlegend=False,\n",
    "                             marker=dict(color='#990000', size=12,\n",
    "                                         line=dict(color='black', width = 1)))  # dark red\n",
    "\n",
    "    # class 1: dots\n",
    "    class1 = go.Scatter(x=X1_tp[:, 0], y=X1_tp[:, 1], mode='markers', \n",
    "                        opacity=0.75, showlegend=False,\n",
    "                        marker=dict(color='blue', size=12,\n",
    "                                   line=dict(color='black', width = 1)))\n",
    "    class1_dark = go.Scatter(x=X1_fp[:, 0], y=X1_fp[:, 1], mode='markers', \n",
    "                             opacity=0.75, showlegend=False,\n",
    "                             marker=dict(color='#000099',size=12,\n",
    "                                        line=dict(color='black', width = 1)))  # dark blue\n",
    "\n",
    "    # class 0 and 1 : areas\n",
    "    nx, ny = 200, 200\n",
    " \n",
    "    x1_max, x1_min, = max(X0_tp[:, 0]),  min(X0_tp[:, 0])\n",
    "    x2_max, x2_min = max(X1_tp[:, 0]),  min(X1_tp[:, 0])\n",
    "    x_max, x_min = max(x1_max, x2_max), min(x1_min, x2_min)\n",
    " \n",
    "    y1_max, y1_min = max(X0_tp[:, 1]),  min(X0_tp[:, 1])\n",
    "    y2_max, y2_min = max(X1_tp[:, 1]),  min(X1_tp[:, 1])\n",
    "    y_max, y_min = max(y1_max, y2_max), min(y1_min, y2_min)\n",
    "    \n",
    "    xx, yy = np.meshgrid(np.linspace(x_min, x_max, nx),\n",
    "                         np.linspace(y_min, y_max, ny))\n",
    "    \n",
    "    Z = lda.predict_proba(np.c_[xx.ravel(), yy.ravel()])\n",
    "    Z = Z[:, 1].reshape(xx.shape)\n",
    "    \n",
    "    trace = go.Heatmap(x=np.linspace(x_min, x_max, nx),\n",
    "                       z=Z,\n",
    "                       y=np.linspace(y_min, y_max, ny),\n",
    "                       colorscale= matplotlib_to_plotly(cmap,300),\n",
    "                       showscale=False)\n",
    "    #means\n",
    "    means1 = go.Scatter(x=lda.means_[0][0], y=lda.means_[0][1],\n",
    "                        opacity=0.75, mode='markers',\n",
    "                        showlegend=False,\n",
    "                        marker=dict(color='black',\n",
    "                                          size=14))\n",
    "    means2 = go.Scatter(x=lda.means_[1][0], y=lda.means_[1][1],\n",
    "                        opacity=0.75, mode='markers',\n",
    "                        showlegend=False,\n",
    "                        marker=dict(color='black',\n",
    "                                          size=14))\n",
    "    \n",
    "    plot = [ means1, means2, class1, class1_dark, class0, class0_dark, trace]\n",
    "    \n",
    "    return plot\n",
    "\n",
    "def plot_ellipse(splot, mean, cov, color):\n",
    "    v, w = linalg.eigh(cov)\n",
    "    u = w[0] / linalg.norm(w[0])\n",
    "    a =  v[1] ** 0.5\n",
    "    b =  v[0] ** 0.5\n",
    "    x_origin = mean[0]\n",
    "    y_origin = mean[1]\n",
    "    x_ = [ ]\n",
    "    y_ = [ ]\n",
    "    \n",
    "    for t in range(0,361,10):\n",
    "        x = a*(math.cos(math.radians(t))) + x_origin\n",
    "        x_.append(x)\n",
    "        y = b*(math.sin(math.radians(t))) + y_origin\n",
    "        y_.append(y)\n",
    "    \n",
    "    elle = go.Scatter(x=x_ , y=y_, mode='lines',\n",
    "                      showlegend=False,\n",
    "                      line=dict(color='rgb(255,215,0)',\n",
    "                                width=3))\n",
    "    \n",
    "    return elle\n",
    "\n",
    "def plot_lda_cov(lda, splot):\n",
    "    ellipse1 = plot_ellipse(splot, lda.means_[0], lda.covariance_, 'red')\n",
    "    ellipse2 = plot_ellipse(splot, lda.means_[1], lda.covariance_, 'blue')\n",
    "    return [ellipse1, ellipse2]\n",
    "\n",
    "def plot_qda_cov(qda, splot):\n",
    "    ellipse1 = plot_ellipse(splot, qda.means_[0], qda.covariances_[0], 'red')\n",
    "    ellipse2 = plot_ellipse(splot, qda.means_[1], qda.covariances_[1], 'blue')\n",
    "    return [ellipse1, ellipse2]\n",
    "\n"
   ]
  },
  {
   "cell_type": "markdown",
   "metadata": {},
   "source": [
    "### Plots"
   ]
  },
  {
   "cell_type": "code",
   "execution_count": 6,
   "metadata": {
    "collapsed": false
   },
   "outputs": [
    {
     "data": {
      "text/html": [
       "<iframe id=\"igraph\" scrolling=\"no\" style=\"border:none;\" seamless=\"seamless\" src=\"https://plot.ly/~Diksha_Gabha/2740.embed\" height=\"900px\" width=\"100%\"></iframe>"
      ],
      "text/plain": [
       "<plotly.tools.PlotlyDisplay object>"
      ]
     },
     "execution_count": 6,
     "metadata": {},
     "output_type": "execute_result"
    }
   ],
   "source": [
    "for i, (X, y) in enumerate([dataset_fixed_cov(), dataset_cov()]):\n",
    "    # Linear Discriminant Analysis\n",
    "    total1 = []\n",
    "    total2 = []\n",
    "    lda = LinearDiscriminantAnalysis(solver=\"svd\", store_covariance=True)\n",
    "    y_pred = lda.fit(X, y).predict(X)\n",
    "    splot = plot_data(lda, X, y, y_pred, fig_index=2 * i + 1)\n",
    "    ellipse_plot = plot_lda_cov(lda, splot)\n",
    "    total1 = splot  + ellipse_plot\n",
    "    for k in range(len(total1)):\n",
    "        if(i==0):\n",
    "            fig.append_trace(total1[k], 1, 1)\n",
    "        \n",
    "        elif(i==1):\n",
    "            fig.append_trace(total1[k], 2, 1)\n",
    "            \n",
    "    # Quadratic Discriminant Analysis\n",
    "    qda = QuadraticDiscriminantAnalysis(store_covariances=True)\n",
    "    y_pred = qda.fit(X, y).predict(X)\n",
    "    splot1 = plot_data(qda, X, y, y_pred, fig_index=2 * i + 2)\n",
    "    ellipse_plot1 = plot_qda_cov(qda, splot)\n",
    "    total2 = splot1 + ellipse_plot1\n",
    "    \n",
    "    for k in range(len(total2)):\n",
    "        if (i==0):\n",
    "            fig.append_trace(total2[k], 1, 2)\n",
    "            \n",
    "        elif (i==1):\n",
    "             fig.append_trace(total2[k], 2, 2)\n",
    "\n",
    "fig['layout'].update(height=900)\n",
    "\n",
    "for i in map(str, range(1,5)):\n",
    "    x = 'xaxis' + i\n",
    "    y = 'yaxis' + i\n",
    "    fig['layout'][y].update(showticklabels=False, ticks='',\n",
    "                            zeroline=False, showgrid=False)\n",
    "    fig['layout'][x].update(showticklabels=False, ticks='',\n",
    "                            zeroline=False, showgrid=False)\n",
    "    \n",
    "y_title = ['Data with Fixed Covariance', 'Data with variable Covariance']\n",
    "j = 0\n",
    "for i in map(str, range(1,5, 2)):\n",
    "    y = 'yaxis' + i\n",
    "    fig['layout'][y].update(title = y_title[j])\n",
    "    j+=1\n",
    "    \n",
    "py.iplot(fig)"
   ]
  },
  {
   "cell_type": "code",
   "execution_count": 7,
   "metadata": {
    "collapsed": false
   },
   "outputs": [
    {
     "data": {
      "text/html": [
       "<link href=\"//fonts.googleapis.com/css?family=Open+Sans:600,400,300,200|Inconsolata|Ubuntu+Mono:400,700\" rel=\"stylesheet\" type=\"text/css\" />"
      ],
      "text/plain": [
       "<IPython.core.display.HTML object>"
      ]
     },
     "metadata": {},
     "output_type": "display_data"
    },
    {
     "data": {
      "text/html": [
       "<link rel=\"stylesheet\" type=\"text/css\" href=\"http://help.plot.ly/documentation/all_static/css/ipython-notebook-custom.css\">"
      ],
      "text/plain": [
       "<IPython.core.display.HTML object>"
      ]
     },
     "metadata": {},
     "output_type": "display_data"
    },
    {
     "name": "stdout",
     "output_type": "stream",
     "text": [
      "Collecting git+https://github.com/plotly/publisher.git\n",
      "  Cloning https://github.com/plotly/publisher.git to /tmp/pip-SJSRiK-build\n",
      "Installing collected packages: publisher\n",
      "  Running setup.py install for publisher ... \u001b[?25l-\b \berror\n",
      "    Complete output from command /usr/bin/python -u -c \"import setuptools, tokenize;__file__='/tmp/pip-SJSRiK-build/setup.py';exec(compile(getattr(tokenize, 'open', open)(__file__).read().replace('\\r\\n', '\\n'), __file__, 'exec'))\" install --record /tmp/pip-ihOT_T-record/install-record.txt --single-version-externally-managed --compile:\n",
      "    running install\n",
      "    running build\n",
      "    running build_py\n",
      "    creating build\n",
      "    creating build/lib.linux-x86_64-2.7\n",
      "    creating build/lib.linux-x86_64-2.7/publisher\n",
      "    copying publisher/publisher.py -> build/lib.linux-x86_64-2.7/publisher\n",
      "    copying publisher/__init__.py -> build/lib.linux-x86_64-2.7/publisher\n",
      "    running install_lib\n",
      "    creating /usr/local/lib/python2.7/dist-packages/publisher\n",
      "    error: could not create '/usr/local/lib/python2.7/dist-packages/publisher': Permission denied\n",
      "    \n",
      "    ----------------------------------------\n",
      "\u001b[31mCommand \"/usr/bin/python -u -c \"import setuptools, tokenize;__file__='/tmp/pip-SJSRiK-build/setup.py';exec(compile(getattr(tokenize, 'open', open)(__file__).read().replace('\\r\\n', '\\n'), __file__, 'exec'))\" install --record /tmp/pip-ihOT_T-record/install-record.txt --single-version-externally-managed --compile\" failed with error code 1 in /tmp/pip-SJSRiK-build/\u001b[0m\n",
      "\u001b[33mYou are using pip version 8.1.2, however version 9.0.1 is available.\n",
      "You should consider upgrading via the 'pip install --upgrade pip' command.\u001b[0m\n",
      "\u001b[?25h"
     ]
    }
   ],
   "source": [
    "from IPython.display import display, HTML\n",
    "\n",
    "display(HTML('<link href=\"//fonts.googleapis.com/css?family=Open+Sans:600,400,300,200|Inconsolata|Ubuntu+Mono:400,700\" rel=\"stylesheet\" type=\"text/css\" />'))\n",
    "display(HTML('<link rel=\"stylesheet\" type=\"text/css\" href=\"http://help.plot.ly/documentation/all_static/css/ipython-notebook-custom.css\">'))\n",
    "\n",
    "! pip install git+https://github.com/plotly/publisher.git --upgrade\n",
    "import publisher\n",
    "publisher.publish(\n",
    "    'Linear-Quadratic-Discriminant-Analysis .ipynb', 'scikit-learn/plot_lda_qda/', 'Linear and Quadratic Discriminant Analysis| plotly',\n",
    "    ' ',\n",
    "    title = 'Linear and Quadratic Discriminant Analysis| plotly',\n",
    "    name = 'Linear and Quadratic Discriminant Analysis with confidence ellipsoid',\n",
    "    has_thumbnail='true', thumbnail='thumbnail/ellipsoid.jpg', \n",
    "    language='scikit-learn', page_type='example_index',\n",
    "    display_as='classification', order=4,\n",
    "    ipynb= '~Diksha_Gabha/2742')"
   ]
  },
  {
   "cell_type": "code",
   "execution_count": null,
   "metadata": {
    "collapsed": true
   },
   "outputs": [],
   "source": []
  }
 ],
 "metadata": {
  "kernelspec": {
   "display_name": "Python 2",
   "language": "python",
   "name": "python2"
  },
  "language_info": {
   "codemirror_mode": {
    "name": "ipython",
    "version": 2
   },
   "file_extension": ".py",
   "mimetype": "text/x-python",
   "name": "python",
   "nbconvert_exporter": "python",
   "pygments_lexer": "ipython2",
   "version": "2.7.11"
  }
 },
 "nbformat": 4,
 "nbformat_minor": 0
}
