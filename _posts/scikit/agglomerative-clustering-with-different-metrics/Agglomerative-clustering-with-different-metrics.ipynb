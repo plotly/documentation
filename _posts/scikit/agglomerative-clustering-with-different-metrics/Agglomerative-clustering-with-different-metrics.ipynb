{
 "cells": [
  {
   "cell_type": "markdown",
   "metadata": {},
   "source": [
    "Demonstrates the effect of different metrics on the hierarchical clustering.\n",
    "\n",
    "The example is engineered to show the effect of the choice of different metrics. It is applied to waveforms, which can be seen as high-dimensional vector. Indeed, the difference between metrics is usually more pronounced in high dimension (in particular for euclidean and cityblock).\n",
    "\n",
    "We generate data from three groups of waveforms. Two of the waveforms (waveform 1 and waveform 2) are proportional one to the other. The cosine distance is invariant to a scaling of the data, as a result, it cannot distinguish these two waveforms. Thus even with no noise, clustering using this distance will not separate out waveform 1 and 2.\n",
    "\n",
    "We add observation noise to these waveforms. We generate very sparse noise: only 6% of the time points contain noise. As a result, the l1 norm of this noise (ie “cityblock” distance) is much smaller than it’s l2 norm (“euclidean” distance). This can be seen on the inter-class distance matrices: the values on the diagonal, that characterize the spread of the class, are much bigger for the Euclidean distance than for the cityblock distance.\n",
    "\n",
    "When we apply clustering to the data, we find that the clustering reflects what was in the distance matrices. Indeed, for the Euclidean distance, the classes are ill-separated because of the noise, and thus the clustering does not separate the waveforms. For the cityblock distance, the separation is good and the waveform classes are recovered. Finally, the cosine distance does not separate at all waveform 1 and 2, thus the clustering puts them in the same cluster."
   ]
  },
  {
   "cell_type": "markdown",
   "metadata": {},
   "source": [
    "#### New to Plotly?\n",
    "Plotly's Python library is free and open source! [Get started](https://plot.ly/python/getting-started/) by downloading the client and [reading the primer](https://plot.ly/python/getting-started/).\n",
    "<br>You can set up Plotly to work in [online](https://plot.ly/python/getting-started/#initialization-for-online-plotting) or [offline](https://plot.ly/python/getting-started/#initialization-for-offline-plotting) mode, or in [jupyter notebooks](https://plot.ly/python/getting-started/#start-plotting-online).\n",
    "<br>We also have a quick-reference [cheatsheet](https://images.plot.ly/plotly-documentation/images/python_cheat_sheet.pdf) (new!) to help you get started!"
   ]
  },
  {
   "cell_type": "markdown",
   "metadata": {},
   "source": [
    "### Version"
   ]
  },
  {
   "cell_type": "code",
   "execution_count": 1,
   "metadata": {
    "collapsed": false
   },
   "outputs": [
    {
     "data": {
      "text/plain": [
       "'0.18'"
      ]
     },
     "execution_count": 1,
     "metadata": {},
     "output_type": "execute_result"
    }
   ],
   "source": [
    "import sklearn\n",
    "sklearn.__version__"
   ]
  },
  {
   "cell_type": "markdown",
   "metadata": {},
   "source": [
    "### Imports"
   ]
  },
  {
   "cell_type": "markdown",
   "metadata": {},
   "source": [
    "This tutorial imports [AgglomerativeClustering](http://scikit-learn.org/stable/modules/generated/sklearn.cluster.AgglomerativeClustering.html#sklearn.cluster.AgglomerativeClustering) anf [pairwise_distances](http://scikit-learn.org/stable/modules/generated/sklearn.metrics.pairwise_distances.html#sklearn.metrics.pairwise_distances)."
   ]
  },
  {
   "cell_type": "code",
   "execution_count": 2,
   "metadata": {
    "collapsed": true
   },
   "outputs": [],
   "source": [
    "import plotly.plotly as py\n",
    "import plotly.graph_objs as go\n",
    "from plotly import tools\n",
    "\n",
    "import matplotlib.pyplot as plt\n",
    "import numpy as np\n",
    "\n",
    "from sklearn.cluster import AgglomerativeClustering\n",
    "from sklearn.metrics import pairwise_distances"
   ]
  },
  {
   "cell_type": "markdown",
   "metadata": {},
   "source": [
    "### Calculations"
   ]
  },
  {
   "cell_type": "code",
   "execution_count": 3,
   "metadata": {
    "collapsed": true
   },
   "outputs": [],
   "source": [
    "np.random.seed(0)\n",
    "\n",
    "# Generate waveform data\n",
    "n_features = 2000\n",
    "t = np.pi * np.linspace(0, 1, n_features)\n",
    "\n",
    "\n",
    "def sqr(x):\n",
    "    return np.sign(np.cos(x))\n",
    "\n",
    "X = list()\n",
    "y = list()\n",
    "for i, (phi, a) in enumerate([(.5, .15), (.5, .6), (.3, .2)]):\n",
    "    for _ in range(30):\n",
    "        phase_noise = .01 * np.random.normal()\n",
    "        amplitude_noise = .04 * np.random.normal()\n",
    "        additional_noise = 1 - 2 * np.random.rand(n_features)\n",
    "        # Make the noise sparse\n",
    "        additional_noise[np.abs(additional_noise) < .997] = 0\n",
    "\n",
    "        X.append(12 * ((a + amplitude_noise)\n",
    "                 * (sqr(6 * (t + phi + phase_noise)))\n",
    "                 + additional_noise))\n",
    "        y.append(i)\n",
    "\n",
    "X = np.array(X)\n",
    "y = np.array(y)\n",
    "\n",
    "n_clusters = 3\n",
    "\n",
    "labels = ('Waveform 1', 'Waveform 2', 'Waveform 3')\n"
   ]
  },
  {
   "cell_type": "markdown",
   "metadata": {},
   "source": [
    "### Plot Ground Truth"
   ]
  },
  {
   "cell_type": "code",
   "execution_count": 4,
   "metadata": {
    "collapsed": false
   },
   "outputs": [
    {
     "name": "stdout",
     "output_type": "stream",
     "text": [
      "The draw time for this plot will be slow for all clients.\n"
     ]
    },
    {
     "name": "stderr",
     "output_type": "stream",
     "text": [
      "/home/diksha/.local/lib/python2.7/site-packages/plotly/plotly/plotly.py:1443: UserWarning:\n",
      "\n",
      "Estimated Draw Time Too Long\n",
      "\n"
     ]
    },
    {
     "data": {
      "text/html": [
       "<iframe id=\"igraph\" scrolling=\"no\" style=\"border:none;\" seamless=\"seamless\" src=\"https://plot.ly/~Diksha_Gabha/2799.embed\" height=\"525px\" width=\"100%\"></iframe>"
      ],
      "text/plain": [
       "<plotly.tools.PlotlyDisplay object>"
      ]
     },
     "execution_count": 4,
     "metadata": {},
     "output_type": "execute_result"
    }
   ],
   "source": [
    "ground_truth = []\n",
    "c=['red','green','blue']\n",
    "for l, n in zip(range(n_clusters), labels): \n",
    "    for i in range(len(X[y == l])):\n",
    "        if i==1:\n",
    "            legend = True\n",
    "        else:\n",
    "            legend = False\n",
    "        lines = go.Scatter(y=X[y == l][i], name=n,\n",
    "                           showlegend=legend,\n",
    "                           line=dict(color=c[l],\n",
    "                                      width=0.3))\n",
    "        ground_truth.append(lines)\n",
    "\n",
    "layout = go.Layout(title='Ground Truth',\n",
    "                   xaxis=dict(zeroline=False, ticks='',\n",
    "                              showticklabels=False, showgrid=False),\n",
    "                   yaxis=dict(zeroline=False, ticks='',\n",
    "                              showticklabels=False, showgrid=False))\n",
    "\n",
    "fig = go.Figure(data=ground_truth, layout=layout)\n",
    "\n",
    "py.iplot(fig)"
   ]
  },
  {
   "cell_type": "markdown",
   "metadata": {},
   "source": [
    "### Plot the Distances"
   ]
  },
  {
   "cell_type": "code",
   "execution_count": 5,
   "metadata": {
    "collapsed": false
   },
   "outputs": [],
   "source": [
    "def matplotlib_to_plotly(cmap, pl_entries):\n",
    "    h = 1.0/(pl_entries-1)\n",
    "    pl_colorscale = []\n",
    "    \n",
    "    for k in range(pl_entries):\n",
    "        C = map(np.uint8, np.array(cmap(k*h)[:3])*255)\n",
    "        pl_colorscale.append([k*h, 'rgb'+str((C[0], C[1], C[2]))])\n",
    "        \n",
    "    return pl_colorscale\n",
    "\n",
    "\n",
    "annotation = [[], [], []]\n",
    "distance = [[], [], []]\n",
    "\n",
    "for index, metric in enumerate([\"cosine\", \"euclidean\", \"cityblock\"]):\n",
    "    avg_dist = np.zeros((n_clusters, n_clusters))\n",
    "    for i in range(n_clusters):\n",
    "        for j in range(n_clusters):\n",
    "            avg_dist[i, j] = pairwise_distances(X[y == i], X[y == j],\n",
    "                                                metric=metric).mean()\n",
    "    avg_dist /= avg_dist.max()\n",
    "    \n",
    "    for i in range(n_clusters):\n",
    "        for j in range(n_clusters):\n",
    "            annotation_ = dict(x=i, y=j, \n",
    "                               showarrow=False,\n",
    "                            text='%5.3f' % avg_dist[i, j])\n",
    "            annotation[index].append(annotation_)\n",
    "\n",
    "    distance_ = go.Heatmap(z=avg_dist, \n",
    "                          showscale=True,\n",
    "                          colorscale=matplotlib_to_plotly(plt.cm.gnuplot2,\n",
    "                                                                     len(avg_dist)))\n",
    "    distance[index].append(distance_)\n",
    "    \n"
   ]
  },
  {
   "cell_type": "markdown",
   "metadata": {},
   "source": [
    "Interclass cosine distances"
   ]
  },
  {
   "cell_type": "code",
   "execution_count": 6,
   "metadata": {
    "collapsed": false
   },
   "outputs": [
    {
     "data": {
      "text/html": [
       "<iframe id=\"igraph\" scrolling=\"no\" style=\"border:none;\" seamless=\"seamless\" src=\"https://plot.ly/~Diksha_Gabha/2801.embed\" height=\"525px\" width=\"100%\"></iframe>"
      ],
      "text/plain": [
       "<plotly.tools.PlotlyDisplay object>"
      ]
     },
     "execution_count": 6,
     "metadata": {},
     "output_type": "execute_result"
    }
   ],
   "source": [
    "layout = go.Layout(title='Interclass cosine distances',\n",
    "                   annotations=annotation[0],\n",
    "                   xaxis=dict(zeroline=False, ticks='',\n",
    "                              showticklabels=False, showgrid=False),\n",
    "                   yaxis=dict(zeroline=False, ticks='',\n",
    "                              showticklabels=False, showgrid=False))\n",
    "\n",
    "fig = go.Figure(data=distance[0], layout=layout) \n",
    "py.iplot(fig)"
   ]
  },
  {
   "cell_type": "markdown",
   "metadata": {},
   "source": [
    "Interclass euclidean distances"
   ]
  },
  {
   "cell_type": "code",
   "execution_count": 7,
   "metadata": {
    "collapsed": false
   },
   "outputs": [
    {
     "data": {
      "text/html": [
       "<iframe id=\"igraph\" scrolling=\"no\" style=\"border:none;\" seamless=\"seamless\" src=\"https://plot.ly/~Diksha_Gabha/2803.embed\" height=\"525px\" width=\"100%\"></iframe>"
      ],
      "text/plain": [
       "<plotly.tools.PlotlyDisplay object>"
      ]
     },
     "execution_count": 7,
     "metadata": {},
     "output_type": "execute_result"
    }
   ],
   "source": [
    "layout = go.Layout(title='Interclass euclidean distances',\n",
    "                   annotations=annotation[1],\n",
    "                   xaxis=dict(zeroline=False, ticks='',\n",
    "                              showticklabels=False, showgrid=False),\n",
    "                   yaxis=dict(zeroline=False, ticks='',\n",
    "                              showticklabels=False, showgrid=False))\n",
    "\n",
    "fig = go.Figure(data=distance[1], layout=layout) \n",
    "py.iplot(fig)"
   ]
  },
  {
   "cell_type": "markdown",
   "metadata": {},
   "source": [
    "Interclass cityblock distances"
   ]
  },
  {
   "cell_type": "code",
   "execution_count": 8,
   "metadata": {
    "collapsed": false
   },
   "outputs": [
    {
     "data": {
      "text/html": [
       "<iframe id=\"igraph\" scrolling=\"no\" style=\"border:none;\" seamless=\"seamless\" src=\"https://plot.ly/~Diksha_Gabha/2805.embed\" height=\"525px\" width=\"100%\"></iframe>"
      ],
      "text/plain": [
       "<plotly.tools.PlotlyDisplay object>"
      ]
     },
     "execution_count": 8,
     "metadata": {},
     "output_type": "execute_result"
    }
   ],
   "source": [
    "layout = go.Layout(title='Interclass cityblock distances',\n",
    "                   annotations=annotation[2],\n",
    "                   xaxis=dict(zeroline=False, ticks='',\n",
    "                              showticklabels=False, showgrid=False),\n",
    "                   yaxis=dict(zeroline=False, ticks='',\n",
    "                              showticklabels=False, showgrid=False))\n",
    "\n",
    "fig = go.Figure(data=distance[2], layout=layout) \n",
    "py.iplot(fig)"
   ]
  },
  {
   "cell_type": "markdown",
   "metadata": {},
   "source": [
    "### Plot Clustering Results"
   ]
  },
  {
   "cell_type": "code",
   "execution_count": 9,
   "metadata": {
    "collapsed": false
   },
   "outputs": [],
   "source": [
    "cluster=[[],[],[]]\n",
    "\n",
    "for index, metric in enumerate([\"cosine\", \"euclidean\", \"cityblock\"]):\n",
    "    model = AgglomerativeClustering(n_clusters=n_clusters,\n",
    "                                    linkage=\"average\", affinity=metric)\n",
    "    model.fit(X)\n",
    "    for l, c in zip(np.arange(model.n_clusters), ['red', 'green', 'blue', 'black']):\n",
    "           for i in range(len(X[model.labels_ == l])):\n",
    "                lines = go.Scatter(y=X[model.labels_ == l][i],\n",
    "                                   showlegend=legend,\n",
    "                                   name=metric,\n",
    "                                   line=dict(color=c,\n",
    "                                            width=0.3))\n",
    "                cluster[index].append(lines)"
   ]
  },
  {
   "cell_type": "markdown",
   "metadata": {},
   "source": [
    "AgglomerativeClustering (affinity=cosine):"
   ]
  },
  {
   "cell_type": "code",
   "execution_count": 10,
   "metadata": {
    "collapsed": false
   },
   "outputs": [
    {
     "name": "stdout",
     "output_type": "stream",
     "text": [
      "The draw time for this plot will be slow for all clients.\n"
     ]
    },
    {
     "data": {
      "text/html": [
       "<iframe id=\"igraph\" scrolling=\"no\" style=\"border:none;\" seamless=\"seamless\" src=\"https://plot.ly/~Diksha_Gabha/2807.embed\" height=\"525px\" width=\"100%\"></iframe>"
      ],
      "text/plain": [
       "<plotly.tools.PlotlyDisplay object>"
      ]
     },
     "execution_count": 10,
     "metadata": {},
     "output_type": "execute_result"
    }
   ],
   "source": [
    "layout = go.Layout(title='AgglomerativeClustering (affinity=cosine)',\n",
    "                   xaxis=dict(zeroline=False, ticks='',\n",
    "                              showticklabels=False, showgrid=False),\n",
    "                   yaxis=dict(zeroline=False, ticks='',\n",
    "                              showticklabels=False, showgrid=False))\n",
    "\n",
    "fig = go.Figure(data=cluster[0], layout=layout) \n",
    "py.iplot(fig)"
   ]
  },
  {
   "cell_type": "markdown",
   "metadata": {},
   "source": [
    "AgglomerativeClustering (affinity=euclidean):"
   ]
  },
  {
   "cell_type": "code",
   "execution_count": 11,
   "metadata": {
    "collapsed": false
   },
   "outputs": [
    {
     "name": "stdout",
     "output_type": "stream",
     "text": [
      "The draw time for this plot will be slow for all clients.\n"
     ]
    },
    {
     "data": {
      "text/html": [
       "<iframe id=\"igraph\" scrolling=\"no\" style=\"border:none;\" seamless=\"seamless\" src=\"https://plot.ly/~Diksha_Gabha/2809.embed\" height=\"525px\" width=\"100%\"></iframe>"
      ],
      "text/plain": [
       "<plotly.tools.PlotlyDisplay object>"
      ]
     },
     "execution_count": 11,
     "metadata": {},
     "output_type": "execute_result"
    }
   ],
   "source": [
    "layout = go.Layout(title='AgglomerativeClustering (affinity=euclidean)',\n",
    "                   xaxis=dict(zeroline=False, ticks='',\n",
    "                              showticklabels=False, showgrid=False),\n",
    "                   yaxis=dict(zeroline=False, ticks='',\n",
    "                              showticklabels=False, showgrid=False))\n",
    "\n",
    "fig = go.Figure(data=cluster[1], layout=layout) \n",
    "\n",
    "py.iplot(fig)"
   ]
  },
  {
   "cell_type": "markdown",
   "metadata": {},
   "source": [
    "AgglomerativeClustering (affinity=cityblock):"
   ]
  },
  {
   "cell_type": "code",
   "execution_count": 12,
   "metadata": {
    "collapsed": false
   },
   "outputs": [
    {
     "name": "stdout",
     "output_type": "stream",
     "text": [
      "The draw time for this plot will be slow for all clients.\n"
     ]
    },
    {
     "data": {
      "text/html": [
       "<iframe id=\"igraph\" scrolling=\"no\" style=\"border:none;\" seamless=\"seamless\" src=\"https://plot.ly/~Diksha_Gabha/2811.embed\" height=\"525px\" width=\"100%\"></iframe>"
      ],
      "text/plain": [
       "<plotly.tools.PlotlyDisplay object>"
      ]
     },
     "execution_count": 12,
     "metadata": {},
     "output_type": "execute_result"
    }
   ],
   "source": [
    "layout = go.Layout(title='AgglomerativeClustering (affinity=cityblock)',\n",
    "                   xaxis=dict(zeroline=False, ticks='',\n",
    "                              showticklabels=False, showgrid=False),\n",
    "                   yaxis=dict(zeroline=False, ticks='',\n",
    "                              showticklabels=False, showgrid=False))\n",
    "\n",
    "fig = go.Figure(data=cluster[2], layout=layout) \n",
    "py.iplot(fig)"
   ]
  },
  {
   "cell_type": "markdown",
   "metadata": {},
   "source": [
    "### License\n",
    "\n",
    "Author: \n",
    "\n",
    "        Gael Varoquaux\n",
    "        \n",
    "License: \n",
    "\n",
    "        BSD 3-Clause or CC-0"
   ]
  },
  {
   "cell_type": "code",
   "execution_count": null,
   "metadata": {
    "collapsed": false
   },
   "outputs": [
    {
     "data": {
      "text/html": [
       "<link href=\"//fonts.googleapis.com/css?family=Open+Sans:600,400,300,200|Inconsolata|Ubuntu+Mono:400,700\" rel=\"stylesheet\" type=\"text/css\" />"
      ],
      "text/plain": [
       "<IPython.core.display.HTML object>"
      ]
     },
     "metadata": {},
     "output_type": "display_data"
    },
    {
     "data": {
      "text/html": [
       "<link rel=\"stylesheet\" type=\"text/css\" href=\"http://help.plot.ly/documentation/all_static/css/ipython-notebook-custom.css\">"
      ],
      "text/plain": [
       "<IPython.core.display.HTML object>"
      ]
     },
     "metadata": {},
     "output_type": "display_data"
    },
    {
     "name": "stdout",
     "output_type": "stream",
     "text": [
      "Collecting git+https://github.com/plotly/publisher.git\r\n",
      "  Cloning https://github.com/plotly/publisher.git to /tmp/pip-Kpd49e-build\r\n"
     ]
    }
   ],
   "source": [
    "from IPython.display import display, HTML\n",
    "\n",
    "display(HTML('<link href=\"//fonts.googleapis.com/css?family=Open+Sans:600,400,300,200|Inconsolata|Ubuntu+Mono:400,700\" rel=\"stylesheet\" type=\"text/css\" />'))\n",
    "display(HTML('<link rel=\"stylesheet\" type=\"text/css\" href=\"http://help.plot.ly/documentation/all_static/css/ipython-notebook-custom.css\">'))\n",
    "\n",
    "! pip install git+https://github.com/plotly/publisher.git --upgrade\n",
    "import publisher\n",
    "publisher.publish(\n",
    "    'Agglomerative-clustering-with-different-metrics.ipynb', 'scikit-learn/plot-agglomerative-clustering-metrics/', 'Agglomerative Clustering With Different Metrics| plotly',\n",
    "    ' ',\n",
    "    title = 'Agglomerative Clustering With Different Metrics | plotly',\n",
    "    name = 'Agglomerative Clustering With Different Metrics',\n",
    "    has_thumbnail='true', thumbnail='thumbnail/ground.jpg', \n",
    "    language='scikit-learn', page_type='example_index',\n",
    "    display_as='clustering', order=14,\n",
    "    ipynb= '~Diksha_Gabha/2825')"
   ]
  },
  {
   "cell_type": "code",
   "execution_count": null,
   "metadata": {
    "collapsed": true
   },
   "outputs": [],
   "source": []
  }
 ],
 "metadata": {
  "kernelspec": {
   "display_name": "Python 2",
   "language": "python",
   "name": "python2"
  },
  "language_info": {
   "codemirror_mode": {
    "name": "ipython",
    "version": 2
   },
   "file_extension": ".py",
   "mimetype": "text/x-python",
   "name": "python",
   "nbconvert_exporter": "python",
   "pygments_lexer": "ipython2",
   "version": "2.7.11"
  }
 },
 "nbformat": 4,
 "nbformat_minor": 0
}
