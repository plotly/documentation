{
 "cells": [
  {
   "cell_type": "markdown",
   "metadata": {},
   "source": [
    "This example shows that Kernel PCA is able to find a projection of the data that makes data linearly separable."
   ]
  },
  {
   "cell_type": "markdown",
   "metadata": {},
   "source": [
    "#### New to Plotly?\n",
    "Plotly's Python library is free and open source! [Get started](https://plot.ly/python/getting-started/) by downloading the client and [reading the primer](https://plot.ly/python/getting-started/).\n",
    "<br>You can set up Plotly to work in [online](https://plot.ly/python/getting-started/#initialization-for-online-plotting) or [offline](https://plot.ly/python/getting-started/#initialization-for-offline-plotting) mode, or in [jupyter notebooks](https://plot.ly/python/getting-started/#start-plotting-online).\n",
    "<br>We also have a quick-reference [cheatsheet](https://images.plot.ly/plotly-documentation/images/python_cheat_sheet.pdf) (new!) to help you get started!"
   ]
  },
  {
   "cell_type": "markdown",
   "metadata": {},
   "source": [
    "### Version"
   ]
  },
  {
   "cell_type": "code",
   "execution_count": 1,
   "metadata": {
    "collapsed": false
   },
   "outputs": [
    {
     "data": {
      "text/plain": [
       "'0.18'"
      ]
     },
     "execution_count": 1,
     "metadata": {},
     "output_type": "execute_result"
    }
   ],
   "source": [
    "import sklearn\n",
    "sklearn.__version__"
   ]
  },
  {
   "cell_type": "markdown",
   "metadata": {},
   "source": [
    "### Imports"
   ]
  },
  {
   "cell_type": "markdown",
   "metadata": {},
   "source": [
    "This tutorial imports [PCA](http://scikit-learn.org/stable/modules/generated/sklearn.decomposition.PCA.html#sklearn.decomposition.PCA), [KernelPCA](http://scikit-learn.org/stable/modules/generated/sklearn.decomposition.KernelPCA.html#sklearn.decomposition.KernelPCA) and [make_circles](http://scikit-learn.org/stable/modules/generated/sklearn.datasets.make_circles.html#sklearn.datasets.make_circles)."
   ]
  },
  {
   "cell_type": "code",
   "execution_count": 2,
   "metadata": {
    "collapsed": true
   },
   "outputs": [],
   "source": [
    "import plotly.plotly as py\n",
    "import plotly.graph_objs as go\n",
    "from plotly import tools\n",
    "\n",
    "import numpy as np\n",
    "import matplotlib.pyplot as plt\n",
    "\n",
    "from sklearn.decomposition import PCA, KernelPCA\n",
    "from sklearn.datasets import make_circles\n"
   ]
  },
  {
   "cell_type": "markdown",
   "metadata": {},
   "source": [
    "### Calculations"
   ]
  },
  {
   "cell_type": "code",
   "execution_count": 3,
   "metadata": {
    "collapsed": true
   },
   "outputs": [],
   "source": [
    "np.random.seed(0)\n",
    "\n",
    "X, y = make_circles(n_samples=400, factor=.3, noise=.05)\n",
    "\n",
    "kpca = KernelPCA(kernel=\"rbf\", fit_inverse_transform=True, gamma=10)\n",
    "X_kpca = kpca.fit_transform(X)\n",
    "X_back = kpca.inverse_transform(X_kpca)\n",
    "pca = PCA()\n",
    "X_pca = pca.fit_transform(X)"
   ]
  },
  {
   "cell_type": "markdown",
   "metadata": {},
   "source": [
    "### Plot Results"
   ]
  },
  {
   "cell_type": "code",
   "execution_count": 4,
   "metadata": {
    "collapsed": false
   },
   "outputs": [
    {
     "name": "stdout",
     "output_type": "stream",
     "text": [
      "This is the format of your plot grid:\n",
      "[ (1,1) x1,y1 ]  [ (1,2) x2,y2 ]\n",
      "[ (2,1) x3,y3 ]  [ (2,2) x4,y4 ]\n",
      "\n"
     ]
    }
   ],
   "source": [
    "fig = tools.make_subplots(rows=2, cols=2,\n",
    "                          subplot_titles=(\"Original space\",\n",
    "                                          \"Projection by PCA\",\n",
    "                                          \"Projection by KPCA\",\n",
    "                                          \"Original space after inverse transform\"))"
   ]
  },
  {
   "cell_type": "code",
   "execution_count": 5,
   "metadata": {
    "collapsed": false
   },
   "outputs": [],
   "source": [
    "reds = y == 0\n",
    "blues = y == 1\n",
    "\n",
    "original_space1 = go.Scatter(x=X[reds, 0], \n",
    "                             y=X[reds, 1],\n",
    "                             mode='markers',\n",
    "                             showlegend=False,\n",
    "                             marker=dict(color='red',\n",
    "                                         line=dict(color='black', width=1))\n",
    "                            )\n",
    "original_space2 = go.Scatter(x=X[blues, 0],\n",
    "                             y=X[blues, 1],\n",
    "                             mode='markers',\n",
    "                             showlegend=False,\n",
    "                             marker=dict(color='blue',\n",
    "                                         line=dict(color='black', width=1))\n",
    "                             \n",
    "                            )\n",
    "\n",
    "X1, X2 = np.linspace(-1.5, 1.5, 50), np.linspace(-1.5, 1.5, 50)\n",
    "X_grid = np.array([np.ravel(X1), np.ravel(X2)]).T\n",
    "\n",
    "# projection on the first principal component (in the phi space)\n",
    "Z_grid = kpca.transform(X_grid)[:, 0].reshape(X1.shape)\n",
    "lines = go.Contour(x=X1, \n",
    "                   y=X2, \n",
    "                   z=Z_grid, \n",
    "                   showscale=False,\n",
    "                   colorscale=[[0,'white'],[1, 'black']],\n",
    "                   contours=dict(coloring='lines')\n",
    "                  )\n",
    "\n",
    "fig.append_trace(lines, 1, 1)\n",
    "fig.append_trace(original_space1, 1, 1)\n",
    "fig.append_trace(original_space2, 1, 1)\n",
    "\n",
    "fig['layout']['xaxis1'].update(title='x<sub>1</sub>',\n",
    "                               zeroline=False, showgrid=False)\n",
    "fig['layout']['yaxis1'].update(title='x<sub>2</sub>',\n",
    "                               zeroline=False, showgrid=False)\n",
    "\n",
    "\n",
    "projection_pca1 = go.Scatter(x=X_pca[reds, 0], \n",
    "                             y=X_pca[reds, 1], \n",
    "                             mode='markers',\n",
    "                             showlegend=False,\n",
    "                             marker=dict(color='red',\n",
    "                                         line=dict(color='black', width=1)) \n",
    "                            )\n",
    "projection_pca2 = go.Scatter(x=X_pca[blues, 0], \n",
    "                             y=X_pca[blues, 1], \n",
    "                             mode='markers',\n",
    "                             showlegend=False,\n",
    "                             marker=dict(color='blue',\n",
    "                                         line=dict(color='black', width=1))\n",
    "                            )\n",
    "\n",
    "fig.append_trace(projection_pca1, 1, 2)\n",
    "fig.append_trace(projection_pca2, 1, 2)\n",
    "\n",
    "fig['layout']['xaxis2'].update(title='1st principal component',\n",
    "                               zeroline=False, showgrid=False)\n",
    "fig['layout']['yaxis2'].update(title='2nd component',\n",
    "                               zeroline=False, showgrid=False)\n",
    "\n",
    "projection_kpca1 = go.Scatter(x=X_kpca[reds, 0], \n",
    "                              y=X_kpca[reds, 1],\n",
    "                              mode='markers',\n",
    "                              showlegend=False,\n",
    "                              marker=dict(color='red',\n",
    "                                          line=dict(color='black', width=1)) \n",
    "                             )\n",
    "projection_kpca2 = go.Scatter(x=X_kpca[blues, 0], \n",
    "                              y=X_kpca[blues, 1], \n",
    "                              mode='markers',\n",
    "                              showlegend=False,\n",
    "                              marker=dict(color='blue',\n",
    "                                          line=dict(color='black', width=1))  \n",
    "                             )\n",
    "\n",
    "fig.append_trace(projection_kpca1, 2, 1)\n",
    "fig.append_trace(projection_kpca2, 2, 1)\n",
    "\n",
    "fig['layout']['xaxis3'].update(title=\"1st principal component in space induced by Phi\",\n",
    "                               zeroline=False, showgrid=False)\n",
    "fig['layout']['yaxis3'].update(title='2nd component',\n",
    "                               zeroline=False, showgrid=False)\n",
    "\n",
    "after_inverse1 = go.Scatter(x=X_back[reds, 0], \n",
    "                            y=X_back[reds, 1], \n",
    "                            mode='markers',\n",
    "                            showlegend=False,\n",
    "                            marker=dict(color='red',\n",
    "                                        line=dict(color='black', width=1))  \n",
    "                           )\n",
    "after_inverse2 = go.Scatter(x=X_back[blues, 0],\n",
    "                            y=X_back[blues, 1], \n",
    "                            mode='markers',\n",
    "                            showlegend=False,\n",
    "                            marker=dict(color='blue',\n",
    "                                        line=dict(color='black', width=1))  \n",
    "                           )\n",
    "\n",
    "fig.append_trace(after_inverse1, 2, 2)\n",
    "fig.append_trace(after_inverse2, 2, 2)\n",
    "\n",
    "fig['layout']['xaxis4'].update(title='x<sub>1</sub>',\n",
    "                               zeroline=False, showgrid=False)\n",
    "fig['layout']['yaxis4'].update(title='x<sub>2</sub>',\n",
    "                               zeroline=False, showgrid=False)\n",
    "\n",
    "fig['layout'].update(height=800)"
   ]
  },
  {
   "cell_type": "code",
   "execution_count": 6,
   "metadata": {
    "collapsed": false
   },
   "outputs": [
    {
     "data": {
      "text/html": [
       "<iframe id=\"igraph\" scrolling=\"no\" style=\"border:none;\" seamless=\"seamless\" src=\"https://plot.ly/~Diksha_Gabha/2925.embed\" height=\"800px\" width=\"100%\"></iframe>"
      ],
      "text/plain": [
       "<plotly.tools.PlotlyDisplay object>"
      ]
     },
     "execution_count": 6,
     "metadata": {},
     "output_type": "execute_result"
    }
   ],
   "source": [
    "py.iplot(fig)"
   ]
  },
  {
   "cell_type": "markdown",
   "metadata": {},
   "source": [
    "### License"
   ]
  },
  {
   "cell_type": "markdown",
   "metadata": {},
   "source": [
    "Authors: \n",
    "    \n",
    "          Mathieu Blondel\n",
    "          \n",
    "          Andreas Mueller\n",
    "        \n",
    "License: \n",
    "    \n",
    "          BSD 3 clause\n"
   ]
  },
  {
   "cell_type": "code",
   "execution_count": 2,
   "metadata": {
    "collapsed": false
   },
   "outputs": [
    {
     "data": {
      "text/html": [
       "<link href=\"//fonts.googleapis.com/css?family=Open+Sans:600,400,300,200|Inconsolata|Ubuntu+Mono:400,700\" rel=\"stylesheet\" type=\"text/css\" />"
      ],
      "text/plain": [
       "<IPython.core.display.HTML object>"
      ]
     },
     "metadata": {},
     "output_type": "display_data"
    },
    {
     "data": {
      "text/html": [
       "<link rel=\"stylesheet\" type=\"text/css\" href=\"http://help.plot.ly/documentation/all_static/css/ipython-notebook-custom.css\">"
      ],
      "text/plain": [
       "<IPython.core.display.HTML object>"
      ]
     },
     "metadata": {},
     "output_type": "display_data"
    },
    {
     "name": "stdout",
     "output_type": "stream",
     "text": [
      "Collecting git+https://github.com/plotly/publisher.git\n",
      "  Cloning https://github.com/plotly/publisher.git to /tmp/pip-hNYG5k-build\n",
      "Installing collected packages: publisher\n",
      "  Running setup.py install for publisher ... \u001b[?25l-\b \berror\n",
      "    Complete output from command /usr/bin/python -u -c \"import setuptools, tokenize;__file__='/tmp/pip-hNYG5k-build/setup.py';exec(compile(getattr(tokenize, 'open', open)(__file__).read().replace('\\r\\n', '\\n'), __file__, 'exec'))\" install --record /tmp/pip-SV6Rf2-record/install-record.txt --single-version-externally-managed --compile:\n",
      "    running install\n",
      "    running build\n",
      "    running build_py\n",
      "    creating build\n",
      "    creating build/lib.linux-x86_64-2.7\n",
      "    creating build/lib.linux-x86_64-2.7/publisher\n",
      "    copying publisher/publisher.py -> build/lib.linux-x86_64-2.7/publisher\n",
      "    copying publisher/__init__.py -> build/lib.linux-x86_64-2.7/publisher\n",
      "    running install_lib\n",
      "    creating /usr/local/lib/python2.7/dist-packages/publisher\n",
      "    error: could not create '/usr/local/lib/python2.7/dist-packages/publisher': Permission denied\n",
      "    \n",
      "    ----------------------------------------\n",
      "\u001b[31mCommand \"/usr/bin/python -u -c \"import setuptools, tokenize;__file__='/tmp/pip-hNYG5k-build/setup.py';exec(compile(getattr(tokenize, 'open', open)(__file__).read().replace('\\r\\n', '\\n'), __file__, 'exec'))\" install --record /tmp/pip-SV6Rf2-record/install-record.txt --single-version-externally-managed --compile\" failed with error code 1 in /tmp/pip-hNYG5k-build/\u001b[0m\n",
      "\u001b[33mYou are using pip version 8.1.2, however version 9.0.1 is available.\n",
      "You should consider upgrading via the 'pip install --upgrade pip' command.\u001b[0m\n",
      "\u001b[?25h"
     ]
    }
   ],
   "source": [
    "from IPython.display import display, HTML\n",
    "\n",
    "display(HTML('<link href=\"//fonts.googleapis.com/css?family=Open+Sans:600,400,300,200|Inconsolata|Ubuntu+Mono:400,700\" rel=\"stylesheet\" type=\"text/css\" />'))\n",
    "display(HTML('<link rel=\"stylesheet\" type=\"text/css\" href=\"http://help.plot.ly/documentation/all_static/css/ipython-notebook-custom.css\">'))\n",
    "\n",
    "! pip install git+https://github.com/plotly/publisher.git --upgrade\n",
    "import publisher\n",
    "publisher.publish(\n",
    "    'Kernel-PCA.ipynb', 'scikit-learn/plot-kernel-pca/', 'Kernel PCA | plotly',\n",
    "    ' ',\n",
    "    title = 'Kernel PCA | plotly',\n",
    "    name = 'Kernel PCA',\n",
    "    has_thumbnail='true', thumbnail='thumbnail/kernel-pca.jpg', \n",
    "    language='scikit-learn', page_type='example_index',\n",
    "    display_as='decomposition', order=4,\n",
    "    ipynb= '~Diksha_Gabha/2927')"
   ]
  },
  {
   "cell_type": "code",
   "execution_count": null,
   "metadata": {
    "collapsed": true
   },
   "outputs": [],
   "source": []
  }
 ],
 "metadata": {
  "kernelspec": {
   "display_name": "Python 2",
   "language": "python",
   "name": "python2"
  },
  "language_info": {
   "codemirror_mode": {
    "name": "ipython",
    "version": 2
   },
   "file_extension": ".py",
   "mimetype": "text/x-python",
   "name": "python",
   "nbconvert_exporter": "python",
   "pygments_lexer": "ipython2",
   "version": "2.7.11"
  }
 },
 "nbformat": 4,
 "nbformat_minor": 0
}
