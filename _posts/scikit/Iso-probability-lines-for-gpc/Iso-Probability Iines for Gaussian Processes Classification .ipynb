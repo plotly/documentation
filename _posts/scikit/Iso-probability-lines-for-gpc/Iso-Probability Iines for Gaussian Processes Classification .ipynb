{
 "cells": [
  {
   "cell_type": "markdown",
   "metadata": {},
   "source": [
    "A two-dimensional classification example showing iso-probability lines for the predicted probabilities."
   ]
  },
  {
   "cell_type": "markdown",
   "metadata": {},
   "source": [
    "#### New to Plotly?\n",
    "Plotly's Python library is free and open source! [Get started](https://plot.ly/python/getting-started/) by downloading the client and [reading the primer](https://plot.ly/python/getting-started/).\n",
    "<br>You can set up Plotly to work in [online](https://plot.ly/python/getting-started/#initialization-for-online-plotting) or [offline](https://plot.ly/python/getting-started/#initialization-for-offline-plotting) mode, or in [jupyter notebooks](https://plot.ly/python/getting-started/#start-plotting-online).\n",
    "<br>We also have a quick-reference [cheatsheet](https://images.plot.ly/plotly-documentation/images/python_cheat_sheet.pdf) (new!) to help you get started!"
   ]
  },
  {
   "cell_type": "markdown",
   "metadata": {},
   "source": [
    "### Version"
   ]
  },
  {
   "cell_type": "code",
   "execution_count": 1,
   "metadata": {
    "collapsed": false
   },
   "outputs": [
    {
     "data": {
      "text/plain": [
       "'0.18.1'"
      ]
     },
     "execution_count": 1,
     "metadata": {},
     "output_type": "execute_result"
    }
   ],
   "source": [
    "import sklearn\n",
    "sklearn.__version__"
   ]
  },
  {
   "cell_type": "markdown",
   "metadata": {},
   "source": [
    "### Imports"
   ]
  },
  {
   "cell_type": "markdown",
   "metadata": {},
   "source": [
    "This tutorial imports [GaussianProcessClassifier](http://scikit-learn.org/stable/modules/generated/sklearn.gaussian_process.GaussianProcessClassifier.html#sklearn.gaussian_process.GaussianProcessClassifier) and [DotProduct](http://scikit-learn.org/stable/modules/generated/sklearn.gaussian_process.kernels.DotProduct.html#sklearn.gaussian_process.kernels.DotProduct)."
   ]
  },
  {
   "cell_type": "code",
   "execution_count": 2,
   "metadata": {
    "collapsed": true
   },
   "outputs": [],
   "source": [
    "import plotly.plotly as py\n",
    "import plotly.graph_objs as go\n",
    "import numpy as np\n",
    "\n",
    "from matplotlib import pyplot as plt\n",
    "from matplotlib import cm\n",
    "from sklearn.gaussian_process import GaussianProcessClassifier\n",
    "from sklearn.gaussian_process.kernels import DotProduct, ConstantKernel as C"
   ]
  },
  {
   "cell_type": "markdown",
   "metadata": {},
   "source": [
    "### Calculations"
   ]
  },
  {
   "cell_type": "code",
   "execution_count": 3,
   "metadata": {
    "collapsed": false
   },
   "outputs": [
    {
     "name": "stdout",
     "output_type": "stream",
     "text": [
      "Learned kernel: 0.0256**2 * DotProduct(sigma_0=5.72) ** 2 \n"
     ]
    }
   ],
   "source": [
    "\n",
    "# A few constants\n",
    "lim = 8\n",
    "\n",
    "\n",
    "def g(x):\n",
    "    \"\"\"The function to predict (classification will then consist in predicting\n",
    "    whether g(x) <= 0 or not)\"\"\"\n",
    "    return 5. - x[:, 1] - .5 * x[:, 0] ** 2.\n",
    "\n",
    "# Design of experiments\n",
    "X = np.array([[-4.61611719, -6.00099547],\n",
    "              [4.10469096, 5.32782448],\n",
    "              [0.00000000, -0.50000000],\n",
    "              [-6.17289014, -4.6984743],\n",
    "              [1.3109306, -6.93271427],\n",
    "              [-5.03823144, 3.10584743],\n",
    "              [-2.87600388, 6.74310541],\n",
    "              [5.21301203, 4.26386883]])\n",
    "\n",
    "# Observations\n",
    "y = np.array(g(X) > 0, dtype=int)\n",
    "\n",
    "# Instanciate and fit Gaussian Process Model\n",
    "kernel = C(0.1, (1e-5, np.inf)) * DotProduct(sigma_0=0.1) ** 2\n",
    "gp = GaussianProcessClassifier(kernel=kernel)\n",
    "gp.fit(X, y)\n",
    "print(\"Learned kernel: %s \" % gp.kernel_)\n",
    "\n",
    "# Evaluate real function and the predicted probability\n",
    "res = 50\n",
    "x_ = np.linspace(- lim, lim, res)\n",
    "y_ =  np.linspace(- lim, lim, res)\n",
    "x1, x2 = np.meshgrid(x_, y_)\n",
    "xx = np.vstack([x1.reshape(x1.size), x2.reshape(x2.size)]).T\n",
    "\n",
    "y_true = g(xx)\n",
    "y_prob = gp.predict_proba(xx)[:, 1]\n",
    "y_true = y_true.reshape((res, res))\n",
    "y_prob = y_prob.reshape((res, res))\n"
   ]
  },
  {
   "cell_type": "markdown",
   "metadata": {},
   "source": [
    "### Plot the probabilistic classification iso-values"
   ]
  },
  {
   "cell_type": "code",
   "execution_count": 4,
   "metadata": {
    "collapsed": true
   },
   "outputs": [],
   "source": [
    "def matplotlib_to_plotly(cmap, pl_entries):\n",
    "    h = 1.0/(pl_entries-1)\n",
    "    pl_colorscale = []\n",
    "    \n",
    "    for k in range(pl_entries):\n",
    "        C = map(np.uint8, np.array(cmap(k*h)[:3])*255)\n",
    "        pl_colorscale.append([k*h, 'rgb'+str((C[0], C[1], C[2]))])\n",
    "        \n",
    "    return pl_colorscale\n",
    "\n",
    "cmap = matplotlib_to_plotly(cm.gray_r, 20)"
   ]
  },
  {
   "cell_type": "code",
   "execution_count": 5,
   "metadata": {
    "collapsed": false
   },
   "outputs": [],
   "source": [
    "cax = go.Heatmap(x=x_, y=y_,\n",
    "                 z=y_prob, \n",
    "                 colorscale=cmap, \n",
    "                 )\n",
    "\n",
    "trace1 = go.Scatter(x=X[y <= 0, 0], y=X[y <= 0, 1],\n",
    "                    mode='markers', \n",
    "                    marker=dict(color='red', size=10),\n",
    "                    showlegend=False)\n",
    "\n",
    "trace2 = go.Scatter(x=X[y > 0, 0], y=X[y > 0, 1],\n",
    "                    mode='markers', \n",
    "                    marker=dict(color='blue', size=10),\n",
    "                    showlegend=False)\n",
    "\n",
    "cs1 = go.Contour(x=x_,\n",
    "                 y=y_[:: -1],\n",
    "                 z=y_true, \n",
    "                 ncontours=2,\n",
    "                 contours=dict(coloring='lines', \n",
    "                              ),\n",
    "                 line=dict(width=1, dash='dashdot'),\n",
    "                 colorscale=[[0, 'black'], [1, 'white']],\n",
    "                 showscale=False)\n",
    "\n",
    "cs2 = go.Contour(x=x_, y=y_[:: -1], z=y_prob, \n",
    "                 ncontours=2,\n",
    "                 contours=dict(coloring='lines', \n",
    "                               end=0.667, \n",
    "                               start=0.666, \n",
    "                               size=0.01),\n",
    "                 line=dict(width=1),\n",
    "                 colorscale=[[0, 'blue'], [1, 'white']],\n",
    "                 showscale=False)\n",
    "\n",
    "cs3 = go.Contour(x=x_, y=y_, z=y_prob[:: -1],  \n",
    "                 contours=dict(coloring='lines', \n",
    "                               end=0.51, \n",
    "                               start=0.5, \n",
    "                               size=0.1),\n",
    "                 line=dict(width=1, dash='dash'),\n",
    "                 colorscale=[[0, 'black'], [1, 'white']],\n",
    "                 showscale=False)\n",
    "\n",
    "\n",
    "cs4 = go.Contour(x=x_, y=y_, z=y_prob[:: -1],  \n",
    "                 contours=dict(coloring='lines', \n",
    "                               end=0.335, \n",
    "                               start=0.334, \n",
    "                               size=0.1),\n",
    "                 line=dict(width=1),\n",
    "                 colorscale=[[0, 'red'], [1, 'white']],\n",
    "                 showscale=False)\n"
   ]
  },
  {
   "cell_type": "code",
   "execution_count": 6,
   "metadata": {
    "collapsed": false
   },
   "outputs": [
    {
     "data": {
      "text/html": [
       "<iframe id=\"igraph\" scrolling=\"no\" style=\"border:none;\" seamless=\"seamless\" src=\"https://plot.ly/~Diksha_Gabha/3130.embed\" height=\"525px\" width=\"100%\"></iframe>"
      ],
      "text/plain": [
       "<plotly.tools.PlotlyDisplay object>"
      ]
     },
     "execution_count": 6,
     "metadata": {},
     "output_type": "execute_result"
    }
   ],
   "source": [
    "layout = go.Layout(yaxis=dict(autorange='reversed', title='x<sub>2</sub>'),\n",
    "                   xaxis=dict(title='x<sub>1</sub>'),\n",
    "                   hovermode='closest',\n",
    "                   annotations=[dict(\n",
    "                                    x=2, y=4.5,\n",
    "                                    xref='x', yref='y',\n",
    "                                    text='0.666',\n",
    "                                    showarrow=False,\n",
    "                                    font=dict(\n",
    "                                        family='Courier New, monospace',\n",
    "                                        size=12,\n",
    "                                        color='blue')),\n",
    "                                dict(\n",
    "                                    x=2, y=0.9,\n",
    "                                    xref='x', yref='y',\n",
    "                                    text='0.5',\n",
    "                                    showarrow=False,\n",
    "                                    font=dict(\n",
    "                                        family='Courier New, monospace',\n",
    "                                        size=12,\n",
    "                                        color='black')),\n",
    "                                dict(\n",
    "                                    x=2, y=-2.2,\n",
    "                                    xref='x', yref='y',\n",
    "                                    text='0.334',\n",
    "                                    showarrow=False,\n",
    "                                    font=dict(\n",
    "                                        family='Courier New, monospace',\n",
    "                                        size=12,\n",
    "                                        color='red')),\n",
    "                               ])\n",
    "\n",
    "fig = go.Figure(data=[cax, cs1, cs2, cs3, cs4, trace1, trace2], layout=layout)\n",
    "py.iplot(fig)"
   ]
  },
  {
   "cell_type": "markdown",
   "metadata": {},
   "source": [
    "### License"
   ]
  },
  {
   "cell_type": "markdown",
   "metadata": {},
   "source": [
    "Author: \n",
    "\n",
    "        Vincent Dubourg <vincent.dubourg@gmail.com>\n",
    "\n",
    "Adapted to GaussianProcessClassifier:\n",
    "    \n",
    "        Jan Hendrik Metzen <jhm@informatik.uni-bremen.de>\n",
    "\n",
    "License: \n",
    "\n",
    "        BSD 3 clause"
   ]
  },
  {
   "cell_type": "code",
   "execution_count": 8,
   "metadata": {
    "collapsed": false
   },
   "outputs": [
    {
     "data": {
      "text/html": [
       "<link href=\"//fonts.googleapis.com/css?family=Open+Sans:600,400,300,200|Inconsolata|Ubuntu+Mono:400,700\" rel=\"stylesheet\" type=\"text/css\" />"
      ],
      "text/plain": [
       "<IPython.core.display.HTML object>"
      ]
     },
     "metadata": {},
     "output_type": "display_data"
    },
    {
     "data": {
      "text/html": [
       "<link rel=\"stylesheet\" type=\"text/css\" href=\"http://help.plot.ly/documentation/all_static/css/ipython-notebook-custom.css\">"
      ],
      "text/plain": [
       "<IPython.core.display.HTML object>"
      ]
     },
     "metadata": {},
     "output_type": "display_data"
    },
    {
     "name": "stdout",
     "output_type": "stream",
     "text": [
      "Collecting git+https://github.com/plotly/publisher.git\n",
      "  Cloning https://github.com/plotly/publisher.git to /tmp/pip-QgDa1a-build\n",
      "Installing collected packages: publisher\n",
      "  Found existing installation: publisher 0.10\n",
      "    Uninstalling publisher-0.10:\n",
      "      Successfully uninstalled publisher-0.10\n",
      "  Running setup.py install for publisher ... \u001b[?25l-\b \bdone\n",
      "\u001b[?25hSuccessfully installed publisher-0.10\n"
     ]
    }
   ],
   "source": [
    "from IPython.display import display, HTML\n",
    "\n",
    "display(HTML('<link href=\"//fonts.googleapis.com/css?family=Open+Sans:600,400,300,200|Inconsolata|Ubuntu+Mono:400,700\" rel=\"stylesheet\" type=\"text/css\" />'))\n",
    "display(HTML('<link rel=\"stylesheet\" type=\"text/css\" href=\"http://help.plot.ly/documentation/all_static/css/ipython-notebook-custom.css\">'))\n",
    "\n",
    "! pip install git+https://github.com/plotly/publisher.git --upgrade\n",
    "import publisher\n",
    "publisher.publish(\n",
    "    'Iso-Probability Iines for Gaussian Processes Classification .ipynb', 'scikit-learn/plot-gpc-isoprobability/', 'Iso-Probability Iines for Gaussian Processes Classification | plotly',\n",
    "    ' ',\n",
    "    title = 'Iso-Probability Iines for Gaussian Processes Classification | plotly',\n",
    "    name = 'Iso-Probability Iines for Gaussian Processes Classification ',\n",
    "    has_thumbnail='true', thumbnail='thumbnail/isoprobability.jpg', \n",
    "    language='scikit-learn', page_type='example_index',\n",
    "    display_as='gaussian-process', order=6,\n",
    "    ipynb= '~Diksha_Gabha/3132')"
   ]
  },
  {
   "cell_type": "code",
   "execution_count": null,
   "metadata": {
    "collapsed": true
   },
   "outputs": [],
   "source": []
  }
 ],
 "metadata": {
  "anaconda-cloud": {},
  "kernelspec": {
   "display_name": "Python [default]",
   "language": "python",
   "name": "python2"
  },
  "language_info": {
   "codemirror_mode": {
    "name": "ipython",
    "version": 2
   },
   "file_extension": ".py",
   "mimetype": "text/x-python",
   "name": "python",
   "nbconvert_exporter": "python",
   "pygments_lexer": "ipython2",
   "version": "2.7.12"
  }
 },
 "nbformat": 4,
 "nbformat_minor": 1
}
