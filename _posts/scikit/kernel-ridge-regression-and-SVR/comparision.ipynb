{
 "cells": [
  {
   "cell_type": "markdown",
   "metadata": {},
   "source": [
    "Both kernel ridge regression (KRR) and SVR learn a non-linear function by employing the kernel trick, i.e., they learn a linear function in the space induced by the respective kernel which corresponds to a non-linear function in the original space. They differ in the loss functions (ridge versus epsilon-insensitive loss). In contrast to SVR, fitting a KRR can be done in closed-form and is typically faster for medium-sized datasets. On the other hand, the learned model is non-sparse and thus slower than SVR at prediction-time.\n",
    "\n",
    "This example illustrates both methods on an artificial dataset, which consists of a sinusoidal target function and strong noise added to every fifth datapoint. The first figure compares the learned model of KRR and SVR when both complexity/regularization and bandwidth of the RBF kernel are optimized using grid-search. The learned functions are very similar; however, fitting KRR is approx. seven times faster than fitting SVR (both with grid-search). However, prediction of 100000 target values is more than tree times faster with SVR since it has learned a sparse model using only approx. 1/3 of the 100 training datapoints as support vectors.\n",
    "\n",
    "The next figure compares the time for fitting and prediction of KRR and SVR for different sizes of the training set. Fitting KRR is faster than SVR for medium- sized training sets (less than 1000 samples); however, for larger training sets SVR scales better. With regard to prediction time, SVR is faster than KRR for all sizes of the training set because of the learned sparse solution. Note that the degree of sparsity and thus the prediction time depends on the parameters epsilon and C of the SVR."
   ]
  },
  {
   "cell_type": "markdown",
   "metadata": {},
   "source": [
    "#### New to Plotly?\n",
    "Plotly's Python library is free and open source! [Get started](https://plot.ly/python/getting-started/) by downloading the client and [reading the primer](https://plot.ly/python/getting-started/).\n",
    "<br>You can set up Plotly to work in [online](https://plot.ly/python/getting-started/#initialization-for-online-plotting) or [offline](https://plot.ly/python/getting-started/#initialization-for-offline-plotting) mode, or in [jupyter notebooks](https://plot.ly/python/getting-started/#start-plotting-online).\n",
    "<br>We also have a quick-reference [cheatsheet](https://images.plot.ly/plotly-documentation/images/python_cheat_sheet.pdf) (new!) to help you get started!"
   ]
  },
  {
   "cell_type": "markdown",
   "metadata": {},
   "source": [
    "### Version"
   ]
  },
  {
   "cell_type": "code",
   "execution_count": 1,
   "metadata": {
    "collapsed": false
   },
   "outputs": [
    {
     "data": {
      "text/plain": [
       "'0.18'"
      ]
     },
     "execution_count": 1,
     "metadata": {},
     "output_type": "execute_result"
    }
   ],
   "source": [
    "import sklearn\n",
    "sklearn.__version__"
   ]
  },
  {
   "cell_type": "markdown",
   "metadata": {},
   "source": [
    "### Imports"
   ]
  },
  {
   "cell_type": "markdown",
   "metadata": {},
   "source": [
    "This tutorial imports [SVR](http://scikit-learn.org/stable/modules/generated/sklearn.svm.SVR.html#sklearn.svm.SVR), [GridSearchCV](http://scikit-learn.org/stable/modules/generated/sklearn.model_selection.GridSearchCV.html#sklearn.model_selection.GridSearchCV) and [KernelRidge](http://scikit-learn.org/stable/modules/generated/sklearn.kernel_ridge.KernelRidge.html#sklearn.kernel_ridge.KernelRidge)"
   ]
  },
  {
   "cell_type": "code",
   "execution_count": 2,
   "metadata": {
    "collapsed": true
   },
   "outputs": [],
   "source": [
    "import plotly.plotly as py\n",
    "import plotly.graph_objs as go\n",
    "from plotly import tools\n",
    "\n",
    "from __future__ import division\n",
    "import time\n",
    "import numpy as np\n",
    "from sklearn.svm import SVR\n",
    "from sklearn.model_selection import GridSearchCV\n",
    "from sklearn.model_selection import learning_curve\n",
    "from sklearn.kernel_ridge import KernelRidge"
   ]
  },
  {
   "cell_type": "markdown",
   "metadata": {},
   "source": [
    "### Calculatons"
   ]
  },
  {
   "cell_type": "markdown",
   "metadata": {},
   "source": [
    "Generate sample data"
   ]
  },
  {
   "cell_type": "code",
   "execution_count": 3,
   "metadata": {
    "collapsed": false
   },
   "outputs": [
    {
     "name": "stderr",
     "output_type": "stream",
     "text": [
      "/home/diksha/anaconda2/lib/python2.7/site-packages/ipykernel/__main__.py:6: VisibleDeprecationWarning:\n",
      "\n",
      "using a non-integer number instead of an integer will result in an error in the future\n",
      "\n"
     ]
    }
   ],
   "source": [
    "rng = np.random.RandomState(0)\n",
    "X = 5 * rng.rand(10000, 1)\n",
    "y = np.sin(X).ravel()\n",
    "\n",
    "# Add noise to targets\n",
    "y[::5] += 3 * (0.5 - rng.rand(X.shape[0]/5))\n",
    "\n",
    "X_plot = np.linspace(0, 5, 100000)[:, None]"
   ]
  },
  {
   "cell_type": "markdown",
   "metadata": {},
   "source": [
    "### Fit regression model"
   ]
  },
  {
   "cell_type": "code",
   "execution_count": 4,
   "metadata": {
    "collapsed": false
   },
   "outputs": [
    {
     "name": "stdout",
     "output_type": "stream",
     "text": [
      "SVR complexity and bandwidth selected and model fitted in 0.898 s\n",
      "KRR complexity and bandwidth selected and model fitted in 0.431 s\n",
      "Support vector ratio: 0.320\n",
      "SVR prediction for 100000 inputs in 0.138 s\n",
      "KRR prediction for 100000 inputs in 0.312 s\n"
     ]
    }
   ],
   "source": [
    "train_size = 100\n",
    "svr = GridSearchCV(SVR(kernel='rbf', gamma=0.1), cv=5,\n",
    "                   param_grid={\"C\": [1e0, 1e1, 1e2, 1e3],\n",
    "                               \"gamma\": np.logspace(-2, 2, 5)})\n",
    "\n",
    "kr = GridSearchCV(KernelRidge(kernel='rbf', gamma=0.1), cv=5,\n",
    "                  param_grid={\"alpha\": [1e0, 0.1, 1e-2, 1e-3],\n",
    "                              \"gamma\": np.logspace(-2, 2, 5)})\n",
    "\n",
    "t0 = time.time()\n",
    "svr.fit(X[:train_size], y[:train_size])\n",
    "svr_fit = time.time() - t0\n",
    "print(\"SVR complexity and bandwidth selected and model fitted in %.3f s\"\n",
    "      % svr_fit)\n",
    "\n",
    "t0 = time.time()\n",
    "kr.fit(X[:train_size], y[:train_size])\n",
    "kr_fit = time.time() - t0\n",
    "print(\"KRR complexity and bandwidth selected and model fitted in %.3f s\"\n",
    "      % kr_fit)\n",
    "\n",
    "sv_ratio = svr.best_estimator_.support_.shape[0] / train_size\n",
    "print(\"Support vector ratio: %.3f\" % sv_ratio)\n",
    "\n",
    "t0 = time.time()\n",
    "y_svr = svr.predict(X_plot)\n",
    "svr_predict = time.time() - t0\n",
    "print(\"SVR prediction for %d inputs in %.3f s\"\n",
    "      % (X_plot.shape[0], svr_predict))\n",
    "\n",
    "t0 = time.time()\n",
    "y_kr = kr.predict(X_plot)\n",
    "kr_predict = time.time() - t0\n",
    "print(\"KRR prediction for %d inputs in %.3f s\"\n",
    "      % (X_plot.shape[0], kr_predict))"
   ]
  },
  {
   "cell_type": "markdown",
   "metadata": {},
   "source": [
    "### Plot Results"
   ]
  },
  {
   "cell_type": "code",
   "execution_count": 5,
   "metadata": {
    "collapsed": false
   },
   "outputs": [
    {
     "name": "stdout",
     "output_type": "stream",
     "text": [
      "This is the format of your plot grid:\n",
      "[ (1,1) x1,y1 ]  [ (1,2) x2,y2 ]\n",
      "[ (2,1) x3,y3 ]      (empty)    \n",
      "\n"
     ]
    },
    {
     "name": "stderr",
     "output_type": "stream",
     "text": [
      "/home/diksha/anaconda2/lib/python2.7/site-packages/ipykernel/__main__.py:56: VisibleDeprecationWarning:\n",
      "\n",
      "using a non-integer number instead of an integer will result in an error in the future\n",
      "\n",
      "/home/diksha/anaconda2/lib/python2.7/site-packages/ipykernel/__main__.py:67: VisibleDeprecationWarning:\n",
      "\n",
      "using a non-integer number instead of an integer will result in an error in the future\n",
      "\n"
     ]
    }
   ],
   "source": [
    "def to_plotly(n):\n",
    "    l = []\n",
    "    for i in range(len(n)):\n",
    "        k=float(n[i])\n",
    "        l.append( k)\n",
    "    return l\n",
    "fig = tools.make_subplots(rows=2, cols=2,specs=[[{}, {}],\n",
    "                                 [{}, None],],\n",
    "                          subplot_titles=('SVR versus Kernel Ridge', \n",
    "                                                         'Execution Time',\n",
    "                                                          'Learning Curves',))\n",
    "\n",
    "sv_ind = svr.best_estimator_.support_\n",
    "\n",
    "trace1 = go.Scatter(x=to_plotly(X[sv_ind]),\n",
    "                    y=to_plotly(y[sv_ind]), \n",
    "                    name='SVR support vectors',\n",
    "                    mode='markers',\n",
    "                    marker=dict(\n",
    "                            color='red', size=10,\n",
    "                            line=dict(\n",
    "                                color='black', width=1))\n",
    "                   )\n",
    "trace2 = go.Scatter(x = to_plotly(X[:100]),\n",
    "                    y= to_plotly(y[:100]),\n",
    "                    name='data', mode='markers', \n",
    "                    marker=dict(\n",
    "                                color='green',size=5,\n",
    "                                line=dict(\n",
    "                                        color='black'))\n",
    "                   )\n",
    "trace3 = go.Scatter(x=to_plotly(X_plot), y=to_plotly(y_svr),\n",
    "                    marker=dict(\n",
    "                            line=dict(color='red')),\n",
    "                            mode='lines',\n",
    "                            name='SVR (fit: %.3fs, predict: %.3fs)' % (svr_fit, svr_predict)\n",
    "                   )\n",
    "trace4 = go.Scatter(x=to_plotly(X_plot), y=to_plotly(y_kr),\n",
    "                    marker=dict(\n",
    "                                line=dict(color='green')),\n",
    "                    mode='lines',\n",
    "                    name='KRR (fit: %.3fs, predict: %.3fs)' % (kr_fit, kr_predict)\n",
    "                   )\n",
    "\n",
    "fig['layout']['xaxis1'].update(title='data')\n",
    "fig['layout']['yaxis1'].update(title='target')\n",
    "\n",
    "for i in [trace1,trace2,trace3,trace4]:\n",
    "    fig.append_trace(i , 1, 1)\n",
    "\n",
    "# Visualize training and prediction time\n",
    "\n",
    "# Generate sample data\n",
    "X = 5 * rng.rand(10000, 1)\n",
    "y = np.sin(X).ravel()\n",
    "y[::5] += 3 * (0.5 - rng.rand(X.shape[0]/5))\n",
    "sizes = np.logspace(1, 4, 7)\n",
    "plot2=[]\n",
    "\n",
    "for name, estimator in {\"KRR\": KernelRidge(kernel='rbf', alpha=0.1,\n",
    "                                           gamma=10),\n",
    "                        \"SVR\": SVR(kernel='rbf', C=1e1, gamma=10)}.items():\n",
    "    train_time = []\n",
    "    test_time = []\n",
    "    for train_test_size in sizes:\n",
    "        t0 = time.time()\n",
    "        estimator.fit(X[:train_test_size], y[:train_test_size])\n",
    "        train_time.append(time.time() - t0)\n",
    "\n",
    "        t0 = time.time()\n",
    "        estimator.predict(X_plot[:1000])\n",
    "        test_time.append(time.time() - t0)\n",
    "\n",
    "    trace5 = go.Scatter(x=sizes, y=train_time,\n",
    "                        mode='lines+markers',\n",
    "                        marker=dict(\n",
    "                                color=\"red\" if name == \"SVR\" else \"green\"),\n",
    "                                name=\"%s (train)\" % name)\n",
    "    trace6 = go.Scatter(x=sizes, y=test_time, \n",
    "                        mode='lines+markers',\n",
    "                        marker=dict(\n",
    "                                color=\"red\" if name == \"SVR\" else \"green\"),\n",
    "                        line=dict(dash = 'dash'),\n",
    "                        name=\"%s (test)\" % name)\n",
    "    plot2.append(trace5)\n",
    "    plot2.append(trace6)\n",
    "\n",
    "\n",
    "for i in range(len(plot2)):\n",
    "     fig.append_trace(plot2[i] , 1, 2)\n",
    "    \n",
    "fig['layout']['xaxis2'].update(title='Train size',type='log')\n",
    "fig['layout']['yaxis2'].update(title='Time (seconds)',type='log')\n",
    "\n",
    "# Visualize learning curves\n",
    "\n",
    "svr = SVR(kernel='rbf', C=1e1, gamma=0.1)\n",
    "kr = KernelRidge(kernel='rbf', alpha=0.1, gamma=0.1)\n",
    "train_sizes, train_scores_svr, test_scores_svr = \\\n",
    "    learning_curve(svr, X[:100], y[:100], train_sizes=np.linspace(0.1, 1, 10),\n",
    "                   scoring=\"neg_mean_squared_error\", cv=10)\n",
    "train_sizes_abs, train_scores_kr, test_scores_kr = \\\n",
    "    learning_curve(kr, X[:100], y[:100], train_sizes=np.linspace(0.1, 1, 10),\n",
    "                   scoring=\"neg_mean_squared_error\", cv=10)\n",
    "\n",
    "trace7 = go.Scatter(x=train_sizes, y=-test_scores_svr.mean(1), \n",
    "                    mode='lines+markers',\n",
    "                    marker=dict(color=\"red\",),\n",
    "                    name=\"SVR\")\n",
    "trace8 = go.Scatter(x=train_sizes, y=-test_scores_kr.mean(1), \n",
    "                    mode='lines+markers',\n",
    "                    marker=dict(color=\"green\",),\n",
    "                    name=\"KRR\")\n",
    "\n",
    "fig.append_trace(trace7 , 2, 1)\n",
    "fig.append_trace(trace8 , 2, 1)\n",
    "                    \n",
    "fig['layout']['xaxis3'].update(title='Train size')\n",
    "fig['layout']['yaxis3'].update(title='Mean Squared Error')\n",
    "fig['layout'].update(height = 900)\n"
   ]
  },
  {
   "cell_type": "code",
   "execution_count": 6,
   "metadata": {
    "collapsed": false
   },
   "outputs": [
    {
     "name": "stderr",
     "output_type": "stream",
     "text": [
      "/home/diksha/.local/lib/python2.7/site-packages/plotly/plotly/plotly.py:236: UserWarning:\n",
      "\n",
      "Woah there! Look at all those points! Due to browser limitations, the Plotly SVG drawing functions have a hard time graphing more than 500k data points for line charts, or 40k points for other types of charts. Here are some suggestions:\n",
      "(1) Use the `plotly.graph_objs.Scattergl` trace object to generate a WebGl graph.\n",
      "(2) Trying using the image API to return an image instead of a graph URL\n",
      "(3) Use matplotlib\n",
      "(4) See if you can create your visualization with fewer data points\n",
      "\n",
      "If the visualization you're using aggregates points (e.g., box plot, histogram, etc.) you can disregard this warning.\n",
      "\n"
     ]
    },
    {
     "name": "stdout",
     "output_type": "stream",
     "text": [
      "The draw time for this plot will be slow for all clients.\n"
     ]
    },
    {
     "name": "stderr",
     "output_type": "stream",
     "text": [
      "/home/diksha/.local/lib/python2.7/site-packages/plotly/plotly/plotly.py:1443: UserWarning:\n",
      "\n",
      "Estimated Draw Time Too Long\n",
      "\n"
     ]
    },
    {
     "data": {
      "text/html": [
       "<iframe id=\"igraph\" scrolling=\"no\" style=\"border:none;\" seamless=\"seamless\" src=\"https://plot.ly/~Diksha_Gabha/2543.embed\" height=\"900px\" width=\"100%\"></iframe>"
      ],
      "text/plain": [
       "<plotly.tools.PlotlyDisplay object>"
      ]
     },
     "execution_count": 6,
     "metadata": {},
     "output_type": "execute_result"
    }
   ],
   "source": [
    "py.iplot(fig, filename='comparision')"
   ]
  },
  {
   "cell_type": "markdown",
   "metadata": {},
   "source": [
    "### License"
   ]
  },
  {
   "cell_type": "markdown",
   "metadata": {},
   "source": [
    "Authors: \n",
    "            \n",
    "            Jan Hendrik Metzen <jhm@informatik.uni-bremen.de>\n",
    "License: \n",
    "            \n",
    "            BSD 3 clause"
   ]
  },
  {
   "cell_type": "code",
   "execution_count": 2,
   "metadata": {
    "collapsed": false
   },
   "outputs": [
    {
     "data": {
      "text/html": [
       "<link href=\"//fonts.googleapis.com/css?family=Open+Sans:600,400,300,200|Inconsolata|Ubuntu+Mono:400,700\" rel=\"stylesheet\" type=\"text/css\" />"
      ],
      "text/plain": [
       "<IPython.core.display.HTML object>"
      ]
     },
     "metadata": {},
     "output_type": "display_data"
    },
    {
     "data": {
      "text/html": [
       "<link rel=\"stylesheet\" type=\"text/css\" href=\"http://help.plot.ly/documentation/all_static/css/ipython-notebook-custom.css\">"
      ],
      "text/plain": [
       "<IPython.core.display.HTML object>"
      ]
     },
     "metadata": {},
     "output_type": "display_data"
    },
    {
     "name": "stdout",
     "output_type": "stream",
     "text": [
      "Collecting git+https://github.com/plotly/publisher.git\n",
      "  Cloning https://github.com/plotly/publisher.git to /tmp/pip-WGlmWt-build\n",
      "Installing collected packages: publisher\n",
      "  Running setup.py install for publisher ... \u001b[?25l-\b \berror\n",
      "    Complete output from command /usr/bin/python -u -c \"import setuptools, tokenize;__file__='/tmp/pip-WGlmWt-build/setup.py';exec(compile(getattr(tokenize, 'open', open)(__file__).read().replace('\\r\\n', '\\n'), __file__, 'exec'))\" install --record /tmp/pip-DfImZj-record/install-record.txt --single-version-externally-managed --compile:\n",
      "    running install\n",
      "    running build\n",
      "    running build_py\n",
      "    creating build\n",
      "    creating build/lib.linux-x86_64-2.7\n",
      "    creating build/lib.linux-x86_64-2.7/publisher\n",
      "    copying publisher/publisher.py -> build/lib.linux-x86_64-2.7/publisher\n",
      "    copying publisher/__init__.py -> build/lib.linux-x86_64-2.7/publisher\n",
      "    running install_lib\n",
      "    creating /usr/local/lib/python2.7/dist-packages/publisher\n",
      "    error: could not create '/usr/local/lib/python2.7/dist-packages/publisher': Permission denied\n",
      "    \n",
      "    ----------------------------------------\n",
      "\u001b[31mCommand \"/usr/bin/python -u -c \"import setuptools, tokenize;__file__='/tmp/pip-WGlmWt-build/setup.py';exec(compile(getattr(tokenize, 'open', open)(__file__).read().replace('\\r\\n', '\\n'), __file__, 'exec'))\" install --record /tmp/pip-DfImZj-record/install-record.txt --single-version-externally-managed --compile\" failed with error code 1 in /tmp/pip-WGlmWt-build/\u001b[0m\n",
      "\u001b[33mYou are using pip version 8.1.2, however version 9.0.1 is available.\n",
      "You should consider upgrading via the 'pip install --upgrade pip' command.\u001b[0m\n",
      "\u001b[?25h"
     ]
    }
   ],
   "source": [
    "from IPython.display import display, HTML\n",
    "\n",
    "display(HTML('<link href=\"//fonts.googleapis.com/css?family=Open+Sans:600,400,300,200|Inconsolata|Ubuntu+Mono:400,700\" rel=\"stylesheet\" type=\"text/css\" />'))\n",
    "display(HTML('<link rel=\"stylesheet\" type=\"text/css\" href=\"http://help.plot.ly/documentation/all_static/css/ipython-notebook-custom.css\">'))\n",
    "\n",
    "! pip install git+https://github.com/plotly/publisher.git --upgrade\n",
    "import publisher\n",
    "publisher.publish(\n",
    "    'comparision.ipynb', 'scikit-learn/plot-kernel-ridge-regression/', 'Plot kernel ridge regression| plotly',\n",
    "    ' ',\n",
    "    title = 'Plot kernel ridge regression | plotly',\n",
    "    name = 'Comparison of Kernel Ridge Regression and SVR',\n",
    "    has_thumbnail='true', thumbnail='thumbnail/kernel-ridge.jpg', \n",
    "    language='scikit-learn', page_type='example_index',\n",
    "    display_as='general_examples', order=8,ipynb='~Diksha_Gabha/2659')  "
   ]
  },
  {
   "cell_type": "code",
   "execution_count": null,
   "metadata": {
    "collapsed": true
   },
   "outputs": [],
   "source": []
  }
 ],
 "metadata": {
  "kernelspec": {
   "display_name": "Python 2",
   "language": "python",
   "name": "python2"
  },
  "language_info": {
   "codemirror_mode": {
    "name": "ipython",
    "version": 2
   },
   "file_extension": ".py",
   "mimetype": "text/x-python",
   "name": "python",
   "nbconvert_exporter": "python",
   "pygments_lexer": "ipython2",
   "version": "2.7.11"
  }
 },
 "nbformat": 4,
 "nbformat_minor": 0
}
