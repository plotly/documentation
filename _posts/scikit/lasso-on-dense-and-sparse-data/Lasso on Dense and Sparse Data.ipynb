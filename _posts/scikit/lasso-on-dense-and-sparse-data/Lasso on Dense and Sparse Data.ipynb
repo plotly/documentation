{
 "cells": [
  {
   "cell_type": "markdown",
   "metadata": {},
   "source": [
    "We show that linear_model.Lasso provides the same results for dense and sparse data and that in the case of sparse data the speed is improved."
   ]
  },
  {
   "cell_type": "markdown",
   "metadata": {},
   "source": [
    "#### New to Plotly?\n",
    "Plotly's Python library is free and open source! [Get started](https://plot.ly/python/getting-started/) by downloading the client and [reading the primer](https://plot.ly/python/getting-started/).\n",
    "<br>You can set up Plotly to work in [online](https://plot.ly/python/getting-started/#initialization-for-online-plotting) or [offline](https://plot.ly/python/getting-started/#initialization-for-offline-plotting) mode, or in [jupyter notebooks](https://plot.ly/python/getting-started/#start-plotting-online).\n",
    "<br>We also have a quick-reference [cheatsheet](https://images.plot.ly/plotly-documentation/images/python_cheat_sheet.pdf) (new!) to help you get started!"
   ]
  },
  {
   "cell_type": "markdown",
   "metadata": {},
   "source": [
    "### Version"
   ]
  },
  {
   "cell_type": "code",
   "execution_count": 1,
   "metadata": {
    "collapsed": false
   },
   "outputs": [
    {
     "data": {
      "text/plain": [
       "'0.18.1'"
      ]
     },
     "execution_count": 1,
     "metadata": {},
     "output_type": "execute_result"
    }
   ],
   "source": [
    "import sklearn\n",
    "sklearn.__version__"
   ]
  },
  {
   "cell_type": "markdown",
   "metadata": {},
   "source": [
    "### Imports"
   ]
  },
  {
   "cell_type": "code",
   "execution_count": 2,
   "metadata": {
    "collapsed": false
   },
   "outputs": [
    {
     "name": "stdout",
     "output_type": "stream",
     "text": [
      "Automatically created module for IPython interactive environment\n"
     ]
    }
   ],
   "source": [
    "print(__doc__)\n",
    "\n",
    "from time import time\n",
    "from scipy import sparse\n",
    "from scipy import linalg\n",
    "\n",
    "from sklearn.datasets.samples_generator import make_regression\n",
    "from sklearn.linear_model import Lasso"
   ]
  },
  {
   "cell_type": "markdown",
   "metadata": {},
   "source": [
    "### The two Lasso implementations on Dense data"
   ]
  },
  {
   "cell_type": "code",
   "execution_count": 3,
   "metadata": {
    "collapsed": false
   },
   "outputs": [
    {
     "name": "stdout",
     "output_type": "stream",
     "text": [
      "--- Dense matrices\n",
      "Sparse Lasso done in 0.131697s\n",
      "Dense Lasso done in 0.047787s\n",
      "Distance between coefficients : 8.01528740104e-14\n"
     ]
    }
   ],
   "source": [
    "print(\"--- Dense matrices\")\n",
    "\n",
    "X, y = make_regression(n_samples=200, n_features=5000, random_state=0)\n",
    "X_sp = sparse.coo_matrix(X)\n",
    "\n",
    "alpha = 1\n",
    "sparse_lasso = Lasso(alpha=alpha, fit_intercept=False, max_iter=1000)\n",
    "dense_lasso = Lasso(alpha=alpha, fit_intercept=False, max_iter=1000)\n",
    "\n",
    "t0 = time()\n",
    "sparse_lasso.fit(X_sp, y)\n",
    "print(\"Sparse Lasso done in %fs\" % (time() - t0))\n",
    "\n",
    "t0 = time()\n",
    "dense_lasso.fit(X, y)\n",
    "print(\"Dense Lasso done in %fs\" % (time() - t0))\n",
    "\n",
    "print(\"Distance between coefficients : %s\"\n",
    "      % linalg.norm(sparse_lasso.coef_ - dense_lasso.coef_))"
   ]
  },
  {
   "cell_type": "markdown",
   "metadata": {},
   "source": [
    "### The two Lasso implementations on Sparse data"
   ]
  },
  {
   "cell_type": "code",
   "execution_count": 4,
   "metadata": {
    "collapsed": false
   },
   "outputs": [
    {
     "name": "stdout",
     "output_type": "stream",
     "text": [
      "--- Sparse matrices\n",
      "Matrix density : 0.6263 %\n",
      "Sparse Lasso done in 0.183157s\n",
      "Dense Lasso done in 1.208756s\n",
      "Distance between coefficients : 8.03421128671e-12\n"
     ]
    }
   ],
   "source": [
    "print(\"--- Sparse matrices\")\n",
    "\n",
    "Xs = X.copy()\n",
    "Xs[Xs < 2.5] = 0.0\n",
    "Xs = sparse.coo_matrix(Xs)\n",
    "Xs = Xs.tocsc()\n",
    "\n",
    "print(\"Matrix density : %s %%\" % (Xs.nnz / float(X.size) * 100))\n",
    "\n",
    "alpha = 0.1\n",
    "sparse_lasso = Lasso(alpha=alpha, fit_intercept=False, max_iter=10000)\n",
    "dense_lasso = Lasso(alpha=alpha, fit_intercept=False, max_iter=10000)\n",
    "\n",
    "t0 = time()\n",
    "sparse_lasso.fit(Xs, y)\n",
    "print(\"Sparse Lasso done in %fs\" % (time() - t0))\n",
    "\n",
    "t0 = time()\n",
    "dense_lasso.fit(Xs.toarray(), y)\n",
    "print(\"Dense Lasso done in %fs\" % (time() - t0))\n",
    "\n",
    "print(\"Distance between coefficients : %s\"\n",
    "      % linalg.norm(sparse_lasso.coef_ - dense_lasso.coef_))"
   ]
  },
  {
   "cell_type": "code",
   "execution_count": 7,
   "metadata": {
    "collapsed": false
   },
   "outputs": [
    {
     "data": {
      "text/html": [
       "<link href=\"//fonts.googleapis.com/css?family=Open+Sans:600,400,300,200|Inconsolata|Ubuntu+Mono:400,700\" rel=\"stylesheet\" type=\"text/css\" />"
      ],
      "text/plain": [
       "<IPython.core.display.HTML object>"
      ]
     },
     "metadata": {},
     "output_type": "display_data"
    },
    {
     "data": {
      "text/html": [
       "<link rel=\"stylesheet\" type=\"text/css\" href=\"http://help.plot.ly/documentation/all_static/css/ipython-notebook-custom.css\">"
      ],
      "text/plain": [
       "<IPython.core.display.HTML object>"
      ]
     },
     "metadata": {},
     "output_type": "display_data"
    },
    {
     "name": "stdout",
     "output_type": "stream",
     "text": [
      "Collecting git+https://github.com/plotly/publisher.git\n",
      "  Cloning https://github.com/plotly/publisher.git to /tmp/pip-2I7kb6-build\n",
      "Installing collected packages: publisher\n",
      "  Found existing installation: publisher 0.10\n",
      "    Uninstalling publisher-0.10:\n",
      "      Successfully uninstalled publisher-0.10\n",
      "  Running setup.py install for publisher ... \u001b[?25l-\b \bdone\n",
      "\u001b[?25hSuccessfully installed publisher-0.10\n"
     ]
    }
   ],
   "source": [
    "from IPython.display import display, HTML\n",
    "\n",
    "display(HTML('<link href=\"//fonts.googleapis.com/css?family=Open+Sans:600,400,300,200|Inconsolata|Ubuntu+Mono:400,700\" rel=\"stylesheet\" type=\"text/css\" />'))\n",
    "display(HTML('<link rel=\"stylesheet\" type=\"text/css\" href=\"http://help.plot.ly/documentation/all_static/css/ipython-notebook-custom.css\">'))\n",
    "\n",
    "! pip install git+https://github.com/plotly/publisher.git --upgrade\n",
    "import publisher\n",
    "publisher.publish(\n",
    "    'Lasso on Dense and Sparse Data.ipynb', 'scikit-learn/lasso-dense-vs-sparse-data/', 'Lasso on Dense and Sparse Data | plotly',\n",
    "    ' ',\n",
    "    title = 'Lasso on Dense and Sparse Data | plotly',\n",
    "    name = 'Lasso on Dense and Sparse Data',\n",
    "    has_thumbnail='true', thumbnail='thumbnail/scikit-default.jpg', \n",
    "    language='scikit-learn', page_type='example_index',\n",
    "    display_as='linear_models', order=13,\n",
    "    ipynb= '~Diksha_Gabha/3202')"
   ]
  },
  {
   "cell_type": "code",
   "execution_count": null,
   "metadata": {
    "collapsed": true
   },
   "outputs": [],
   "source": []
  }
 ],
 "metadata": {
  "anaconda-cloud": {},
  "kernelspec": {
   "display_name": "Python [default]",
   "language": "python",
   "name": "python2"
  },
  "language_info": {
   "codemirror_mode": {
    "name": "ipython",
    "version": 2
   },
   "file_extension": ".py",
   "mimetype": "text/x-python",
   "name": "python",
   "nbconvert_exporter": "python",
   "pygments_lexer": "ipython2",
   "version": "2.7.12"
  }
 },
 "nbformat": 4,
 "nbformat_minor": 1
}
