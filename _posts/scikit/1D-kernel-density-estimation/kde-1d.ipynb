{
 "cells": [
  {
   "cell_type": "markdown",
   "metadata": {},
   "source": [
    "\n",
    "This example uses the [sklearn.neighbors.KernelDensity](http://scikit-learn.org/stable/modules/generated/sklearn.neighbors.KernelDensity.html#sklearn.neighbors.KernelDensity) class to demonstrate the principles of Kernel Density Estimation in one dimension.\n",
    "\n",
    "The first plot shows one of the problems with using histograms to visualize the density of points in 1D. Intuitively, a histogram can be thought of as a scheme in which a unit “block” is stacked above each point on a regular grid. As the top two panels show, however, the choice of gridding for these blocks can lead to wildly divergent ideas about the underlying shape of the density distribution. If we instead center each block on the point it represents, we get the estimate shown in the bottom left panel. This is a kernel density estimation with a “top hat” kernel. This idea can be generalized to other kernel shapes: the bottom-right panel of the first figure shows a Gaussian kernel density estimate over the same distribution.\n",
    "Scikit-learn implements efficient kernel density estimation using either a Ball Tree or KD Tree structure, through the [sklearn.neighbors.KernelDensity](http://scikit-learn.org/stable/modules/generated/sklearn.neighbors.KernelDensity.html#sklearn.neighbors.KernelDensity) estimator. The available kernels are shown in the second figure of this example.\n",
    "\n",
    "The third figure compares kernel density estimates for a distribution of 100 samples in 1 dimension. Though this example uses 1D distributions, kernel density estimation is easily and efficiently extensible to higher dimensions as well."
   ]
  },
  {
   "cell_type": "markdown",
   "metadata": {},
   "source": [
    "### Version"
   ]
  },
  {
   "cell_type": "code",
   "execution_count": 1,
   "metadata": {
    "collapsed": false
   },
   "outputs": [
    {
     "data": {
      "text/plain": [
       "'0.18.1'"
      ]
     },
     "execution_count": 1,
     "metadata": {},
     "output_type": "execute_result"
    }
   ],
   "source": [
    "import sklearn\n",
    "sklearn.__version__"
   ]
  },
  {
   "cell_type": "markdown",
   "metadata": {},
   "source": [
    "### Imports "
   ]
  },
  {
   "cell_type": "markdown",
   "metadata": {},
   "source": [
    "This tutorial imports [norm](http://docs.scipy.org/doc/scipy-0.11.0/reference/generated/scipy.stats.norm.html#scipy.stats.norm) and [KernelDensity](http://scikit-learn.org/stable/modules/generated/sklearn.neighbors.KernelDensity.html#sklearn.neighbors.KernelDensity)."
   ]
  },
  {
   "cell_type": "code",
   "execution_count": 2,
   "metadata": {
    "collapsed": true
   },
   "outputs": [],
   "source": [
    "import plotly.plotly as py\n",
    "import plotly.graph_objs as go\n",
    "from plotly import tools\n",
    "\n",
    "import numpy as np\n",
    "from scipy.stats import norm\n",
    "from sklearn.neighbors import KernelDensity"
   ]
  },
  {
   "cell_type": "markdown",
   "metadata": {},
   "source": [
    "### Plot the Progression of Histograms to Kernels"
   ]
  },
  {
   "cell_type": "code",
   "execution_count": 3,
   "metadata": {
    "collapsed": false
   },
   "outputs": [
    {
     "name": "stderr",
     "output_type": "stream",
     "text": [
      "/home/diksha/anaconda2/lib/python2.7/site-packages/ipykernel/__main__.py:4: VisibleDeprecationWarning:\n",
      "\n",
      "using a non-integer number instead of an integer will result in an error in the future\n",
      "\n",
      "/home/diksha/anaconda2/lib/python2.7/site-packages/ipykernel/__main__.py:5: VisibleDeprecationWarning:\n",
      "\n",
      "using a non-integer number instead of an integer will result in an error in the future\n",
      "\n"
     ]
    },
    {
     "name": "stdout",
     "output_type": "stream",
     "text": [
      "This is the format of your plot grid:\n",
      "[ (1,1) x1,y1 ]  [ (1,2) x2,y2 ]\n",
      "[ (2,1) x3,y3 ]  [ (2,2) x4,y4 ]\n",
      "\n"
     ]
    },
    {
     "data": {
      "text/html": [
       "<iframe id=\"igraph\" scrolling=\"no\" style=\"border:none;\" seamless=\"seamless\" src=\"https://plot.ly/~Diksha_Gabha/3471.embed\" height=\"600px\" width=\"100%\"></iframe>"
      ],
      "text/plain": [
       "<plotly.tools.PlotlyDisplay object>"
      ]
     },
     "execution_count": 3,
     "metadata": {},
     "output_type": "execute_result"
    }
   ],
   "source": [
    "# Plot the progression of histograms to kernels\n",
    "np.random.seed(1)\n",
    "N = 20\n",
    "X = np.concatenate((np.random.normal(0, 1, 0.3 * N),\n",
    "                    np.random.normal(5, 1, 0.7 * N)))[:, np.newaxis]\n",
    "X_plot = np.linspace(-5, 10, 1000)[:, np.newaxis]\n",
    "bins = 10\n",
    "\n",
    "fig =tools.make_subplots(rows=2, cols=2,\n",
    "                         subplot_titles=(\"Histogram\", \"Histogram, bins shifted\",\n",
    "                                          \"Tophat Kernel Density\", \"Gaussian Kernel Density\"))\n",
    "# histogram 1\n",
    "fig.append_trace(go.Histogram(x=X[:, 0], nbinsy=bins, \n",
    "                  marker=dict(color='#AAAAFF', \n",
    "                              line=dict(color='black', width=1))), \n",
    "                 1, 1)\n",
    "\n",
    "# histogram 2\n",
    "fig.append_trace(go.Histogram(x=X[:, 0], nbinsy=bins + 20, \n",
    "                              marker=dict(color='#AAAAFF',\n",
    "                                          line=dict(color='black',\n",
    "                                                    width=1))),\n",
    "                              1, 2)\n",
    "\n",
    "# tophat KDE\n",
    "kde = KernelDensity(kernel='tophat', bandwidth=0.75).fit(X)\n",
    "log_dens = kde.score_samples(X_plot)\n",
    "\n",
    "fig.append_trace(go.Scatter(x=X_plot[:, 0], y=np.exp(log_dens),\n",
    "                            mode='lines', fill='tozeroy',\n",
    "                            line=dict(color='#AAAAFF', width=2)), \n",
    "                 2, 1)\n",
    "\n",
    "# Gaussian KDE\n",
    "kde = KernelDensity(kernel='gaussian', bandwidth=0.75).fit(X)\n",
    "log_dens = kde.score_samples(X_plot)\n",
    "fig.append_trace(go.Scatter(x=X_plot[:, 0], y=np.exp(log_dens), \n",
    "                            mode='lines', fill='tozeroy',\n",
    "                            line=dict(color='#AAAAFF', width=2)),\n",
    "                 2, 2)\n",
    "\n",
    "for i in map(str, range(1, 5, 2)):\n",
    "        y = 'yaxis' + i\n",
    "        fig['layout'][y].update(title='Normalized Density', )\n",
    "        \n",
    "fig['layout'].update(hovermode='closest', height=600,\n",
    "                     showlegend=False)\n",
    "        \n",
    "py.iplot(fig)"
   ]
  },
  {
   "cell_type": "markdown",
   "metadata": {},
   "source": [
    "### Plot all available kernels"
   ]
  },
  {
   "cell_type": "code",
   "execution_count": 4,
   "metadata": {
    "collapsed": false
   },
   "outputs": [],
   "source": [
    "X_plot = np.linspace(-6, 6, 1000)[:, None]\n",
    "X_src = np.zeros((1, 1))\n",
    "\n",
    "fig = tools.make_subplots(rows=2, cols=3, print_grid=False,\n",
    "                          subplot_titles=('gaussian', 'tophat', 'epanechnikov',\n",
    "                                          'exponential', 'linear', 'cosine'))\n",
    "\n",
    "def format_func(x, loc):\n",
    "    if x == 0:\n",
    "        return '0'\n",
    "    elif x == 1:\n",
    "        return 'h'\n",
    "    elif x == -1:\n",
    "        return '-h'\n",
    "    else:\n",
    "        return '%ih' % x\n",
    "\n",
    "\n",
    "\n",
    "for i, kernel in enumerate(['gaussian', 'tophat', 'epanechnikov',\n",
    "                            'exponential', 'linear', 'cosine']):\n",
    "    log_dens = KernelDensity(kernel=kernel).fit(X_src).score_samples(X_plot)\n",
    "    \n",
    "    trace=go.Scatter(x=X_plot[:, 0], y=np.exp(log_dens),\n",
    "                     mode='lines', fill='tozeroy',\n",
    "                     line=dict(color='#AAAAFF', width=2)) \n",
    "    fig.append_trace(trace, i/3+1, i%3+1)               \n",
    "    \n",
    "fig['layout'].update(hovermode='closest',\n",
    "                     showlegend=False, height=600, \n",
    "                     title='Available Kernels')\n"
   ]
  },
  {
   "cell_type": "code",
   "execution_count": 5,
   "metadata": {
    "collapsed": false
   },
   "outputs": [
    {
     "data": {
      "text/html": [
       "<iframe id=\"igraph\" scrolling=\"no\" style=\"border:none;\" seamless=\"seamless\" src=\"https://plot.ly/~Diksha_Gabha/3473.embed\" height=\"600px\" width=\"100%\"></iframe>"
      ],
      "text/plain": [
       "<plotly.tools.PlotlyDisplay object>"
      ]
     },
     "execution_count": 5,
     "metadata": {},
     "output_type": "execute_result"
    }
   ],
   "source": [
    "py.iplot(fig)"
   ]
  },
  {
   "cell_type": "markdown",
   "metadata": {},
   "source": [
    "### Plot a 1D density example"
   ]
  },
  {
   "cell_type": "code",
   "execution_count": 6,
   "metadata": {
    "collapsed": false
   },
   "outputs": [
    {
     "name": "stderr",
     "output_type": "stream",
     "text": [
      "/home/diksha/anaconda2/lib/python2.7/site-packages/ipykernel/__main__.py:4: VisibleDeprecationWarning:\n",
      "\n",
      "using a non-integer number instead of an integer will result in an error in the future\n",
      "\n",
      "/home/diksha/anaconda2/lib/python2.7/site-packages/ipykernel/__main__.py:5: VisibleDeprecationWarning:\n",
      "\n",
      "using a non-integer number instead of an integer will result in an error in the future\n",
      "\n"
     ]
    }
   ],
   "source": [
    "N = 100\n",
    "np.random.seed(1)\n",
    "data = []\n",
    "X = np.concatenate((np.random.normal(0, 1, 0.3 * N),\n",
    "                    np.random.normal(5, 1, 0.7 * N)))[:, np.newaxis]\n",
    "\n",
    "X_plot = np.linspace(-5, 10, 1000)[:, np.newaxis]\n",
    "\n",
    "true_dens = (0.3 * norm(0, 1).pdf(X_plot[:, 0])\n",
    "             + 0.7 * norm(5, 1).pdf(X_plot[:, 0]))\n",
    "\n",
    "\n",
    "trace1 = go.Scatter(x=X_plot[:, 0], y=true_dens, \n",
    "                    mode='lines', fill='tozeroy',\n",
    "                    line=dict(color='black', width=2), \n",
    "                    name='input distribution')\n",
    "data.append(trace1)\n",
    "\n",
    "for kernel in ['gaussian', 'tophat', 'epanechnikov']:\n",
    "    kde = KernelDensity(kernel=kernel, bandwidth=0.5).fit(X)\n",
    "    log_dens = kde.score_samples(X_plot)\n",
    "    trace2 = go.Scatter(x=X_plot[:, 0], y=np.exp(log_dens),\n",
    "                        mode='lines', \n",
    "                        line=dict(width=2, dash='dash'), \n",
    "                        name=\"kernel = '{0}'\".format(kernel))\n",
    "    data.append(trace2)\n",
    "    \n",
    "trace3 = go.Scatter(x=X[:, 0],\n",
    "                    y=-0.005 - 0.01 * np.random.random(X.shape[0]), \n",
    "                    mode='markers', showlegend=False,\n",
    "                    marker=dict(color='black'))  \n",
    "data.append(trace3)\n",
    "\n",
    "layout=go.Layout(annotations=[dict(x=6, y=0.38, showarrow=False,\n",
    "                                   text=\"N={0} points\".format(N)),\n",
    "                                   ],\n",
    "                 xaxis=dict(zeroline=False), hovermode='closest')\n",
    "fig = go.Figure(data=data, layout=layout)"
   ]
  },
  {
   "cell_type": "code",
   "execution_count": 7,
   "metadata": {
    "collapsed": false
   },
   "outputs": [
    {
     "data": {
      "text/html": [
       "<iframe id=\"igraph\" scrolling=\"no\" style=\"border:none;\" seamless=\"seamless\" src=\"https://plot.ly/~Diksha_Gabha/3475.embed\" height=\"525px\" width=\"100%\"></iframe>"
      ],
      "text/plain": [
       "<plotly.tools.PlotlyDisplay object>"
      ]
     },
     "execution_count": 7,
     "metadata": {},
     "output_type": "execute_result"
    }
   ],
   "source": [
    "py.iplot(fig)"
   ]
  },
  {
   "cell_type": "markdown",
   "metadata": {},
   "source": [
    "### License"
   ]
  },
  {
   "cell_type": "markdown",
   "metadata": {},
   "source": [
    "Author: \n",
    "\n",
    "        Jake Vanderplas <jakevdp@cs.washington.edu>\n"
   ]
  },
  {
   "cell_type": "code",
   "execution_count": 3,
   "metadata": {
    "collapsed": false
   },
   "outputs": [
    {
     "data": {
      "text/html": [
       "<link href=\"//fonts.googleapis.com/css?family=Open+Sans:600,400,300,200|Inconsolata|Ubuntu+Mono:400,700\" rel=\"stylesheet\" type=\"text/css\" />"
      ],
      "text/plain": [
       "<IPython.core.display.HTML object>"
      ]
     },
     "metadata": {},
     "output_type": "display_data"
    },
    {
     "data": {
      "text/html": [
       "<link rel=\"stylesheet\" type=\"text/css\" href=\"http://help.plot.ly/documentation/all_static/css/ipython-notebook-custom.css\">"
      ],
      "text/plain": [
       "<IPython.core.display.HTML object>"
      ]
     },
     "metadata": {},
     "output_type": "display_data"
    },
    {
     "name": "stdout",
     "output_type": "stream",
     "text": [
      "Collecting git+https://github.com/plotly/publisher.git\n",
      "  Cloning https://github.com/plotly/publisher.git to /tmp/pip-MIUc5z-build\n",
      "Installing collected packages: publisher\n",
      "  Found existing installation: publisher 0.10\n",
      "    Uninstalling publisher-0.10:\n",
      "      Successfully uninstalled publisher-0.10\n",
      "  Running setup.py install for publisher ... \u001b[?25l-\b \bdone\n",
      "\u001b[?25hSuccessfully installed publisher-0.10\n"
     ]
    }
   ],
   "source": [
    "from IPython.display import display, HTML\n",
    "\n",
    "display(HTML('<link href=\"//fonts.googleapis.com/css?family=Open+Sans:600,400,300,200|Inconsolata|Ubuntu+Mono:400,700\" rel=\"stylesheet\" type=\"text/css\" />'))\n",
    "display(HTML('<link rel=\"stylesheet\" type=\"text/css\" href=\"http://help.plot.ly/documentation/all_static/css/ipython-notebook-custom.css\">'))\n",
    "\n",
    "! pip install git+https://github.com/plotly/publisher.git --upgrade\n",
    "import publisher\n",
    "publisher.publish(\n",
    "    'kde-1d.ipynb', 'scikit-learn/plot-kde-1d/', 'Simple 1D Kernel Density Estimation | plotly',\n",
    "    ' ',\n",
    "    title = 'Simple 1D Kernel Density Estimation | plotly',\n",
    "    name = 'Simple 1D Kernel Density Estimation',\n",
    "    has_thumbnail='true', thumbnail='thumbnail/kde.jpg', \n",
    "    language='scikit-learn', page_type='example_index',\n",
    "    display_as='nearest_neighbors', order=6,\n",
    "    ipynb= '~Diksha_Gabha/3477')"
   ]
  },
  {
   "cell_type": "code",
   "execution_count": null,
   "metadata": {
    "collapsed": true
   },
   "outputs": [],
   "source": []
  }
 ],
 "metadata": {
  "kernelspec": {
   "display_name": "Python 2",
   "language": "python",
   "name": "python2"
  },
  "language_info": {
   "codemirror_mode": {
    "name": "ipython",
    "version": 2
   },
   "file_extension": ".py",
   "mimetype": "text/x-python",
   "name": "python",
   "nbconvert_exporter": "python",
   "pygments_lexer": "ipython2",
   "version": "2.7.13"
  }
 },
 "nbformat": 4,
 "nbformat_minor": 2
}
