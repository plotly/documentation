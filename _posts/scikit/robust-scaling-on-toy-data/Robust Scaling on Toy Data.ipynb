{
 "cells": [
  {
   "cell_type": "markdown",
   "metadata": {},
   "source": [
    "Making sure that each Feature has approximately the same scale can be a crucial preprocessing step. However, when data contains outliers, StandardScaler can often be mislead. In such cases, it is better to use a scaler that is robust against outliers.\n",
    "\n",
    "Here, we demonstrate this on a toy dataset, where one single datapoint is a large outlier."
   ]
  },
  {
   "cell_type": "markdown",
   "metadata": {},
   "source": [
    "#### New to Plotly?\n",
    "Plotly's Python library is free and open source! [Get started](https://plot.ly/python/getting-started/) by downloading the client and [reading the primer](https://plot.ly/python/getting-started/).\n",
    "<br>You can set up Plotly to work in [online](https://plot.ly/python/getting-started/#initialization-for-online-plotting) or [offline](https://plot.ly/python/getting-started/#initialization-for-offline-plotting) mode, or in [jupyter notebooks](https://plot.ly/python/getting-started/#start-plotting-online).\n",
    "<br>We also have a quick-reference [cheatsheet](https://images.plot.ly/plotly-documentation/images/python_cheat_sheet.pdf) (new!) to help you get started!"
   ]
  },
  {
   "cell_type": "markdown",
   "metadata": {},
   "source": [
    "### Version"
   ]
  },
  {
   "cell_type": "code",
   "execution_count": 1,
   "metadata": {
    "collapsed": false
   },
   "outputs": [
    {
     "data": {
      "text/plain": [
       "'0.18.1'"
      ]
     },
     "execution_count": 1,
     "metadata": {},
     "output_type": "execute_result"
    }
   ],
   "source": [
    "import sklearn\n",
    "sklearn.__version__"
   ]
  },
  {
   "cell_type": "markdown",
   "metadata": {},
   "source": [
    "### Imports"
   ]
  },
  {
   "cell_type": "markdown",
   "metadata": {},
   "source": [
    "This tutprial imports [StandardScaler](http://scikit-learn.org/stable/modules/generated/sklearn.preprocessing.StandardScaler.html#sklearn.preprocessing.StandardScaler) and [RobustScaler](http://scikit-learn.org/stable/modules/generated/sklearn.preprocessing.RobustScaler.html#sklearn.preprocessing.RobustScaler)."
   ]
  },
  {
   "cell_type": "code",
   "execution_count": 2,
   "metadata": {
    "collapsed": false
   },
   "outputs": [
    {
     "name": "stdout",
     "output_type": "stream",
     "text": [
      "Automatically created module for IPython interactive environment\n"
     ]
    }
   ],
   "source": [
    "from __future__ import print_function\n",
    "print(__doc__)\n",
    "\n",
    "import plotly.plotly as py\n",
    "import plotly.graph_objs as go\n",
    "from plotly import tools\n",
    "\n",
    "import numpy as np\n",
    "from sklearn.preprocessing import StandardScaler, RobustScaler"
   ]
  },
  {
   "cell_type": "markdown",
   "metadata": {},
   "source": [
    "### Calculations"
   ]
  },
  {
   "cell_type": "code",
   "execution_count": 3,
   "metadata": {
    "collapsed": true
   },
   "outputs": [],
   "source": [
    "# Create training and test data\n",
    "np.random.seed(42)\n",
    "n_datapoints = 100\n",
    "Cov = [[0.9, 0.0], [0.0, 20.0]]\n",
    "mu1 = [100.0, -3.0]\n",
    "mu2 = [101.0, -3.0]\n",
    "X1 = np.random.multivariate_normal(mean=mu1, cov=Cov, size=n_datapoints)\n",
    "X2 = np.random.multivariate_normal(mean=mu2, cov=Cov, size=n_datapoints)\n",
    "Y_train = np.hstack([[-1]*n_datapoints, [1]*n_datapoints])\n",
    "X_train = np.vstack([X1, X2])\n",
    "\n",
    "X1 = np.random.multivariate_normal(mean=mu1, cov=Cov, size=n_datapoints)\n",
    "X2 = np.random.multivariate_normal(mean=mu2, cov=Cov, size=n_datapoints)\n",
    "Y_test = np.hstack([[-1]*n_datapoints, [1]*n_datapoints])\n",
    "X_test = np.vstack([X1, X2])\n",
    "\n",
    "X_train[0, 0] = -1000  # a fairly large outlier\n",
    "\n",
    "\n",
    "# Scale data\n",
    "standard_scaler = StandardScaler()\n",
    "Xtr_s = standard_scaler.fit_transform(X_train)\n",
    "Xte_s = standard_scaler.transform(X_test)\n",
    "\n",
    "robust_scaler = RobustScaler()\n",
    "Xtr_r = robust_scaler.fit_transform(X_train)\n",
    "Xte_r = robust_scaler.transform(X_test)"
   ]
  },
  {
   "cell_type": "markdown",
   "metadata": {},
   "source": [
    "### Plot Results"
   ]
  },
  {
   "cell_type": "code",
   "execution_count": 4,
   "metadata": {
    "collapsed": false
   },
   "outputs": [],
   "source": [
    "fig = tools.make_subplots(rows=1, cols=3,\n",
    "                          print_grid=False,\n",
    "                          subplot_titles=(\"Unscaled data\",\n",
    "                                          \"After standard scaling (zoomed in)\",\n",
    "                                          \"After robust scaling (zoomed in)\"))\n",
    "\n",
    "fig.append_trace(go.Scatter(x=X_train[:, 0],\n",
    "                            y=X_train[:, 1],\n",
    "                            mode='markers',\n",
    "                            marker=dict(color=\n",
    "                                        np.where(Y_train > 0, 'red', 'blue'))), 1, 1)\n",
    "                            \n",
    "fig.append_trace(go.Scatter(x=Xtr_s[:, 0], \n",
    "                            y=Xtr_s[:, 1], \n",
    "                            mode='markers',\n",
    "                            marker=dict(color=\n",
    "                                        np.where(Y_train > 0, 'red', 'blue'))), 1, 2)\n",
    "\n",
    "fig.append_trace(go.Scatter(x=Xtr_r[:, 0], \n",
    "                            y=Xtr_r[:, 1], \n",
    "                            mode='markers',\n",
    "                            marker=dict(color=\n",
    "                                        np.where(Y_train > 0, 'red', 'blue'))), 1, 3)\n",
    "\n",
    "fig['layout']['yaxis1'].update(zeroline=False)\n",
    "fig['layout']['xaxis1'].update(zeroline=False)\n",
    "\n",
    "for i in map(str, range(2, 4)):\n",
    "        y = 'yaxis' + i\n",
    "        x = 'xaxis' + i\n",
    "        fig['layout'][y].update(range=[-3, 3], zeroline=False)\n",
    "        fig['layout'][x].update(range=[-3, 3], zeroline=False)\n",
    "\n",
    "fig['layout'].update(showlegend=False)"
   ]
  },
  {
   "cell_type": "code",
   "execution_count": 5,
   "metadata": {
    "collapsed": false,
    "scrolled": false
   },
   "outputs": [
    {
     "data": {
      "text/html": [
       "<iframe id=\"igraph\" scrolling=\"no\" style=\"border:none;\" seamless=\"seamless\" src=\"https://plot.ly/~Diksha_Gabha/3505.embed\" height=\"525px\" width=\"100%\"></iframe>"
      ],
      "text/plain": [
       "<plotly.tools.PlotlyDisplay object>"
      ]
     },
     "execution_count": 5,
     "metadata": {},
     "output_type": "execute_result"
    }
   ],
   "source": [
    "py.iplot(fig)"
   ]
  },
  {
   "cell_type": "markdown",
   "metadata": {},
   "source": [
    "### Classify using k-NN"
   ]
  },
  {
   "cell_type": "code",
   "execution_count": 8,
   "metadata": {
    "collapsed": false
   },
   "outputs": [
    {
     "name": "stdout",
     "output_type": "stream",
     "text": [
      "Testset accuracy using standard scaler: 0.545\n",
      "Testset accuracy using robust scaler:   0.705\n"
     ]
    }
   ],
   "source": [
    "from sklearn.neighbors import KNeighborsClassifier\n",
    "\n",
    "knn = KNeighborsClassifier()\n",
    "knn.fit(Xtr_s, Y_train)\n",
    "acc_s = knn.score(Xte_s, Y_test)\n",
    "print(\"Testset accuracy using standard scaler: %.3f\" % acc_s)\n",
    "knn.fit(Xtr_r, Y_train)\n",
    "acc_r = knn.score(Xte_r, Y_test)\n",
    "print(\"Testset accuracy using robust scaler:   %.3f\" % acc_r)"
   ]
  },
  {
   "cell_type": "markdown",
   "metadata": {},
   "source": [
    "### License\n",
    "\n",
    "Code source: \n",
    "            \n",
    "            Thomas Unterthiner\n",
    "License: \n",
    "\n",
    "            BSD 3 clause"
   ]
  },
  {
   "cell_type": "code",
   "execution_count": 9,
   "metadata": {
    "collapsed": false
   },
   "outputs": [
    {
     "data": {
      "text/html": [
       "<link href=\"//fonts.googleapis.com/css?family=Open+Sans:600,400,300,200|Inconsolata|Ubuntu+Mono:400,700\" rel=\"stylesheet\" type=\"text/css\" />"
      ],
      "text/plain": [
       "<IPython.core.display.HTML object>"
      ]
     },
     "metadata": {},
     "output_type": "display_data"
    },
    {
     "data": {
      "text/html": [
       "<link rel=\"stylesheet\" type=\"text/css\" href=\"http://help.plot.ly/documentation/all_static/css/ipython-notebook-custom.css\">"
      ],
      "text/plain": [
       "<IPython.core.display.HTML object>"
      ]
     },
     "metadata": {},
     "output_type": "display_data"
    },
    {
     "name": "stdout",
     "output_type": "stream",
     "text": [
      "Collecting git+https://github.com/plotly/publisher.git\n",
      "  Cloning https://github.com/plotly/publisher.git to /tmp/pip-lZEAFI-build\n",
      "Installing collected packages: publisher\n",
      "  Found existing installation: publisher 0.10\n",
      "    Uninstalling publisher-0.10:\n",
      "      Successfully uninstalled publisher-0.10\n",
      "  Running setup.py install for publisher ... \u001b[?25l-\b \bdone\n",
      "\u001b[?25hSuccessfully installed publisher-0.10\n"
     ]
    }
   ],
   "source": [
    "from IPython.display import display, HTML\n",
    "\n",
    "display(HTML('<link href=\"//fonts.googleapis.com/css?family=Open+Sans:600,400,300,200|Inconsolata|Ubuntu+Mono:400,700\" rel=\"stylesheet\" type=\"text/css\" />'))\n",
    "display(HTML('<link rel=\"stylesheet\" type=\"text/css\" href=\"http://help.plot.ly/documentation/all_static/css/ipython-notebook-custom.css\">'))\n",
    "\n",
    "! pip install git+https://github.com/plotly/publisher.git --upgrade\n",
    "import publisher\n",
    "publisher.publish(\n",
    "    'Robust Scaling on Toy Data.ipynb', 'scikit-learn/plot-robust-scaling/', 'Robust Scaling on Toy Data | plotly',\n",
    "    ' ',\n",
    "    title = 'Robust Scaling on Toy Data | plotly',\n",
    "    name = 'Robust Scaling on Toy Data',\n",
    "    has_thumbnail='true', thumbnail='thumbnail/robust-scaling.jpg', \n",
    "    language='scikit-learn', page_type='example_index',\n",
    "    display_as='preprocessing', order=2,\n",
    "    ipynb= '~Diksha_Gabha/3507')"
   ]
  },
  {
   "cell_type": "code",
   "execution_count": null,
   "metadata": {
    "collapsed": true
   },
   "outputs": [],
   "source": []
  }
 ],
 "metadata": {
  "kernelspec": {
   "display_name": "Python 2",
   "language": "python",
   "name": "python2"
  },
  "language_info": {
   "codemirror_mode": {
    "name": "ipython",
    "version": 2
   },
   "file_extension": ".py",
   "mimetype": "text/x-python",
   "name": "python",
   "nbconvert_exporter": "python",
   "pygments_lexer": "ipython2",
   "version": "2.7.13"
  }
 },
 "nbformat": 4,
 "nbformat_minor": 2
}
