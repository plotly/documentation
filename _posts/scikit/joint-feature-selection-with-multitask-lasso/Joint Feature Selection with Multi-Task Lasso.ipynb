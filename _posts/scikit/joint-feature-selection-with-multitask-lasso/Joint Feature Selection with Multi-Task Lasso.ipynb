{
 "cells": [
  {
   "cell_type": "markdown",
   "metadata": {},
   "source": [
    "The multi-task lasso allows to fit multiple regression problems jointly enforcing the selected features to be the same across tasks. This example simulates sequential measurements, each task is a time instant, and the relevant features vary in amplitude over time while being the same. The multi-task lasso imposes that features that are selected at one time point are select for all time point. This makes feature selection by the Lasso more stable."
   ]
  },
  {
   "cell_type": "markdown",
   "metadata": {},
   "source": [
    "#### New to Plotly?\n",
    "Plotly's Python library is free and open source! [Get started](https://plot.ly/python/getting-started/) by downloading the client and [reading the primer](https://plot.ly/python/getting-started/).\n",
    "<br>You can set up Plotly to work in [online](https://plot.ly/python/getting-started/#initialization-for-online-plotting) or [offline](https://plot.ly/python/getting-started/#initialization-for-offline-plotting) mode, or in [jupyter notebooks](https://plot.ly/python/getting-started/#start-plotting-online).\n",
    "<br>We also have a quick-reference [cheatsheet](https://images.plot.ly/plotly-documentation/images/python_cheat_sheet.pdf) (new!) to help you get started!"
   ]
  },
  {
   "cell_type": "markdown",
   "metadata": {},
   "source": [
    "### Version"
   ]
  },
  {
   "cell_type": "code",
   "execution_count": 1,
   "metadata": {
    "collapsed": false
   },
   "outputs": [
    {
     "data": {
      "text/plain": [
       "'0.18.1'"
      ]
     },
     "execution_count": 1,
     "metadata": {},
     "output_type": "execute_result"
    }
   ],
   "source": [
    "import sklearn\n",
    "sklearn.__version__"
   ]
  },
  {
   "cell_type": "markdown",
   "metadata": {},
   "source": [
    "### Imports"
   ]
  },
  {
   "cell_type": "code",
   "execution_count": 2,
   "metadata": {
    "collapsed": false
   },
   "outputs": [
    {
     "name": "stdout",
     "output_type": "stream",
     "text": [
      "Automatically created module for IPython interactive environment\n"
     ]
    }
   ],
   "source": [
    "print(__doc__)\n",
    " \n",
    "import plotly.plotly as py\n",
    "import plotly.graph_objs as go\n",
    "from plotly import tools\n",
    "\n",
    "\n",
    "import numpy as np\n",
    "from sklearn.linear_model import MultiTaskLasso, Lasso"
   ]
  },
  {
   "cell_type": "markdown",
   "metadata": {},
   "source": [
    "### Calculations"
   ]
  },
  {
   "cell_type": "code",
   "execution_count": 3,
   "metadata": {
    "collapsed": true
   },
   "outputs": [],
   "source": [
    "rng = np.random.RandomState(42)\n",
    "\n",
    "# Generate some 2D coefficients with sine waves with random frequency and phase\n",
    "n_samples, n_features, n_tasks = 100, 30, 40\n",
    "n_relevant_features = 5\n",
    "coef = np.zeros((n_tasks, n_features))\n",
    "times = np.linspace(0, 2 * np.pi, n_tasks)\n",
    "for k in range(n_relevant_features):\n",
    "    coef[:, k] = np.sin((1. + rng.randn(1)) * times + 3 * rng.randn(1))\n",
    "\n",
    "X = rng.randn(n_samples, n_features)\n",
    "Y = np.dot(X, coef.T) + rng.randn(n_samples, n_tasks)\n",
    "\n",
    "coef_lasso_ = np.array([Lasso(alpha=0.5).fit(X, y).coef_ for y in Y.T])\n",
    "coef_multi_task_lasso_ = MultiTaskLasso(alpha=1.).fit(X, Y).coef_"
   ]
  },
  {
   "cell_type": "markdown",
   "metadata": {},
   "source": [
    "### Plot Results"
   ]
  },
  {
   "cell_type": "code",
   "execution_count": 4,
   "metadata": {
    "collapsed": false
   },
   "outputs": [],
   "source": [
    "fig = tools.make_subplots(rows=1, cols=2, \n",
    "                          print_grid=False)\n",
    "\n",
    "trace1 = go.Heatmap(z=coef_lasso_,\n",
    "                    colorscale=[[0, 'white'],[1,'black']],\n",
    "                    showscale=False)\n",
    "\n",
    "fig.append_trace(trace1, 1, 1)\n",
    "\n",
    "trace2 = go.Heatmap(z=coef_multi_task_lasso_,\n",
    "                    colorscale=[[0, 'white'],[1,'black']],\n",
    "                    showscale=False)\n",
    "fig.append_trace(trace2, 1, 2)\n",
    "\n",
    "fig['layout']['xaxis1'].update(title='Feature')\n",
    "fig['layout']['yaxis1'].update(title='Time (or Task)')\n",
    "fig['layout']['xaxis2'].update(title='Feature')\n",
    "fig['layout']['yaxis2'].update(title='Time (or Task)')\n",
    "    \n",
    "fig['layout'].update(title='Coefficient non-zero location',\n",
    "                     annotations=[\n",
    "        dict(x=0.2, y=.5,\n",
    "             xref='paper', yref='paper',\n",
    "             text='Lasso', showarrow=False\n",
    "            ),\n",
    "        dict(x=0.85, y=.5,\n",
    "             xref='paper', yref='paper',\n",
    "             text='MultiTaskLasso', showarrow=False\n",
    "            )\n",
    "    ])\n"
   ]
  },
  {
   "cell_type": "code",
   "execution_count": 5,
   "metadata": {
    "collapsed": false
   },
   "outputs": [
    {
     "data": {
      "text/html": [
       "<iframe id=\"igraph\" scrolling=\"no\" style=\"border:none;\" seamless=\"seamless\" src=\"https://plot.ly/~Diksha_Gabha/3213.embed\" height=\"525px\" width=\"100%\"></iframe>"
      ],
      "text/plain": [
       "<plotly.tools.PlotlyDisplay object>"
      ]
     },
     "execution_count": 5,
     "metadata": {},
     "output_type": "execute_result"
    }
   ],
   "source": [
    "py.iplot(fig)"
   ]
  },
  {
   "cell_type": "code",
   "execution_count": 6,
   "metadata": {
    "collapsed": false
   },
   "outputs": [],
   "source": [
    "lw = 2\n",
    "feature_to_plot = 0\n",
    "\n",
    "p1 = go.Scatter(y=coef[:, feature_to_plot], \n",
    "                mode='lines',\n",
    "                line=dict(color='seagreen', width=lw),\n",
    "                name='Ground truth')\n",
    "p2 = go.Scatter(y=coef_lasso_[:, feature_to_plot], \n",
    "                mode='lines',\n",
    "                line=dict(color='cornflowerblue', width=lw),\n",
    "                name='Lasso')\n",
    "p3 = go.Scatter(y=coef_multi_task_lasso_[:, feature_to_plot],\n",
    "                mode='lines',\n",
    "                line=dict(color='gold', width=lw),\n",
    "                name='MultiTaskLasso')\n",
    "\n",
    "data = [p1, p2, p3]"
   ]
  },
  {
   "cell_type": "code",
   "execution_count": 7,
   "metadata": {
    "collapsed": false
   },
   "outputs": [
    {
     "data": {
      "text/html": [
       "<iframe id=\"igraph\" scrolling=\"no\" style=\"border:none;\" seamless=\"seamless\" src=\"https://plot.ly/~Diksha_Gabha/3215.embed\" height=\"525px\" width=\"100%\"></iframe>"
      ],
      "text/plain": [
       "<plotly.tools.PlotlyDisplay object>"
      ]
     },
     "execution_count": 7,
     "metadata": {},
     "output_type": "execute_result"
    }
   ],
   "source": [
    "py.iplot(data)"
   ]
  },
  {
   "cell_type": "markdown",
   "metadata": {},
   "source": [
    "### License"
   ]
  },
  {
   "cell_type": "markdown",
   "metadata": {},
   "source": [
    "Author: \n",
    "    \n",
    "        Alexandre Gramfort <alexandre.gramfort@inria.fr>\n",
    "\n",
    "License:\n",
    "    \n",
    "        BSD 3 clause"
   ]
  },
  {
   "cell_type": "code",
   "execution_count": 9,
   "metadata": {
    "collapsed": false
   },
   "outputs": [
    {
     "data": {
      "text/html": [
       "<link href=\"//fonts.googleapis.com/css?family=Open+Sans:600,400,300,200|Inconsolata|Ubuntu+Mono:400,700\" rel=\"stylesheet\" type=\"text/css\" />"
      ],
      "text/plain": [
       "<IPython.core.display.HTML object>"
      ]
     },
     "metadata": {},
     "output_type": "display_data"
    },
    {
     "data": {
      "text/html": [
       "<link rel=\"stylesheet\" type=\"text/css\" href=\"http://help.plot.ly/documentation/all_static/css/ipython-notebook-custom.css\">"
      ],
      "text/plain": [
       "<IPython.core.display.HTML object>"
      ]
     },
     "metadata": {},
     "output_type": "display_data"
    },
    {
     "name": "stdout",
     "output_type": "stream",
     "text": [
      "Collecting git+https://github.com/plotly/publisher.git\n",
      "  Cloning https://github.com/plotly/publisher.git to /tmp/pip-qrf4Jn-build\n",
      "Installing collected packages: publisher\n",
      "  Found existing installation: publisher 0.10\n",
      "    Uninstalling publisher-0.10:\n",
      "      Successfully uninstalled publisher-0.10\n",
      "  Running setup.py install for publisher ... \u001b[?25l-\b \bdone\n",
      "\u001b[?25hSuccessfully installed publisher-0.10\n"
     ]
    }
   ],
   "source": [
    "from IPython.display import display, HTML\n",
    "\n",
    "display(HTML('<link href=\"//fonts.googleapis.com/css?family=Open+Sans:600,400,300,200|Inconsolata|Ubuntu+Mono:400,700\" rel=\"stylesheet\" type=\"text/css\" />'))\n",
    "display(HTML('<link rel=\"stylesheet\" type=\"text/css\" href=\"http://help.plot.ly/documentation/all_static/css/ipython-notebook-custom.css\">'))\n",
    "\n",
    "! pip install git+https://github.com/plotly/publisher.git --upgrade\n",
    "import publisher\n",
    "publisher.publish(\n",
    "    'Joint Feature Selection with Multi-Task Lasso.ipynb', 'scikit-learn/plot-multi-task-lasso-support/', 'Joint Feature Selection with Multi-Task Lasso | plotly',\n",
    "    ' ',\n",
    "    title = 'Joint Feature Selection with Multi-Task Lasso | plotly',\n",
    "    name = 'Joint Feature Selection with Multi-Task Lasso',\n",
    "    has_thumbnail='true', thumbnail='thumbnail/multi-task-lasso.jpg', \n",
    "    language='scikit-learn', page_type='example_index',\n",
    "    display_as='linear_models', order=16,\n",
    "    ipynb= '~Diksha_Gabha/3217')"
   ]
  },
  {
   "cell_type": "code",
   "execution_count": null,
   "metadata": {
    "collapsed": true
   },
   "outputs": [],
   "source": []
  }
 ],
 "metadata": {
  "anaconda-cloud": {},
  "kernelspec": {
   "display_name": "Python [default]",
   "language": "python",
   "name": "python2"
  },
  "language_info": {
   "codemirror_mode": {
    "name": "ipython",
    "version": 2
   },
   "file_extension": ".py",
   "mimetype": "text/x-python",
   "name": "python",
   "nbconvert_exporter": "python",
   "pygments_lexer": "ipython2",
   "version": "2.7.12"
  }
 },
 "nbformat": 4,
 "nbformat_minor": 1
}
