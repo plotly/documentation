{
 "cells": [
  {
   "cell_type": "markdown",
   "metadata": {},
   "source": [
    "This example plots the ellipsoids obtained from a toy dataset (mixture of three Gaussians) fitted by the BayesianGaussianMixture class models with a Dirichlet distribution prior (weight_concentration_prior_type='dirichlet_distribution') and a Dirichlet process prior (weight_concentration_prior_type='dirichlet_process'). On each figure, we plot the results for three different values of the weight concentration prior.\n",
    "\n",
    "The BayesianGaussianMixture class can adapt its number of mixture componentsautomatically. The parameter weight_concentration_prior has a direct link with the resulting number of components with non-zero weights. \n",
    "\n",
    "Specifying a low value for the concentration prior will make the model put most of the weight on few components set the remaining components weights very close to zero. High values of the concentration prior will allow a larger number of components to be active in the mixture.\n",
    "\n",
    "The Dirichlet process prior allows to define an infinite number of components and automatically selects the correct number of components: it activates a component only if it is necessary.\n",
    "On the contrary the classical finite mixture model with a Dirichlet distribution prior will favor more uniformly weighted components and therefore tends to divide natural clusters into unnecessary sub-components."
   ]
  },
  {
   "cell_type": "markdown",
   "metadata": {},
   "source": [
    "#### New to Plotly?\n",
    "Plotly's Python library is free and open source! [Get started](https://plot.ly/python/getting-started/) by downloading the client and [reading the primer](https://plot.ly/python/getting-started/).\n",
    "<br>You can set up Plotly to work in [online](https://plot.ly/python/getting-started/#initialization-for-online-plotting) or [offline](https://plot.ly/python/getting-started/#initialization-for-offline-plotting) mode, or in [jupyter notebooks](https://plot.ly/python/getting-started/#start-plotting-online).\n",
    "<br>We also have a quick-reference [cheatsheet](https://images.plot.ly/plotly-documentation/images/python_cheat_sheet.pdf) (new!) to help you get started!"
   ]
  },
  {
   "cell_type": "markdown",
   "metadata": {},
   "source": [
    "### Version"
   ]
  },
  {
   "cell_type": "code",
   "execution_count": 1,
   "metadata": {
    "collapsed": false
   },
   "outputs": [
    {
     "data": {
      "text/plain": [
       "'0.18.1'"
      ]
     },
     "execution_count": 1,
     "metadata": {},
     "output_type": "execute_result"
    }
   ],
   "source": [
    "import sklearn\n",
    "sklearn.__version__"
   ]
  },
  {
   "cell_type": "markdown",
   "metadata": {},
   "source": [
    "### Imports"
   ]
  },
  {
   "cell_type": "markdown",
   "metadata": {},
   "source": [
    "This tutorial imports [BayesianGaussianMixture](http://scikit-learn.org/stable/modules/generated/sklearn.mixture.BayesianGaussianMixture.html#sklearn.mixture.BayesianGaussianMixture)."
   ]
  },
  {
   "cell_type": "code",
   "execution_count": 2,
   "metadata": {
    "collapsed": true
   },
   "outputs": [],
   "source": [
    "import plotly.plotly as py\n",
    "import plotly.graph_objs as go\n",
    "from plotly import tools\n",
    "\n",
    "import math\n",
    "import numpy as np\n",
    "from sklearn.mixture import BayesianGaussianMixture\n"
   ]
  },
  {
   "cell_type": "markdown",
   "metadata": {},
   "source": [
    "### Calculations"
   ]
  },
  {
   "cell_type": "code",
   "execution_count": 3,
   "metadata": {
    "collapsed": false
   },
   "outputs": [],
   "source": [
    "\n",
    "def plot_ellipses(weights, means, covars):\n",
    "    data = []\n",
    "    for n in range(means.shape[0]):\n",
    "        eig_vals, eig_vecs = np.linalg.eigh(covars[n])\n",
    "        unit_eig_vec = eig_vecs[0] / np.linalg.norm(eig_vecs[0])\n",
    "        angle = np.arctan2(unit_eig_vec[1], unit_eig_vec[0])\n",
    "        \n",
    "        # eigenvector normalization\n",
    "        eig_vals = 2 * np.sqrt(2) * np.sqrt(eig_vals)\n",
    "        a =  eig_vals[0]\n",
    "        b =  eig_vals[1]\n",
    "        x_origin = means[n][0]\n",
    "        y_origin = means[n][1]\n",
    "        x_ = [ ]\n",
    "        y_ = [ ]\n",
    "        \n",
    "        for t in range(0, 360,10):\n",
    "            x = a*(math.cos(math.radians(t))) + x_origin\n",
    "            x_.append(x)\n",
    "            y = b*(math.sin(math.radians(t))) + y_origin\n",
    "            y_.append(y)\n",
    "        \n",
    "        \n",
    "        elle = go.Scatter(x=x_ , y=y_, mode='lines',\n",
    "                          \n",
    "                          line=dict(color='#56B4E9', width=1))\n",
    "        data.append(elle)\n",
    "    \n",
    "    return data\n",
    "\n",
    "\n",
    "def plot_results(estimator, X, y):\n",
    "    data = [[], []]\n",
    "    trace = go.Scatter(x=X[:, 0], y=X[:, 1],\n",
    "                       mode='markers',\n",
    "                       marker=dict(color=colors[y]))\n",
    "    data[0].append(trace)\n",
    "    k = plot_ellipses(estimator.weights_, estimator.means_,\n",
    "                      estimator.covariances_)\n",
    "    \n",
    "    for i in range(0, len(k)):\n",
    "        data[0].append(k[i])\n",
    "    \n",
    "    for k, w in enumerate(estimator.weights_):\n",
    "       \n",
    "        trace = go.Bar(x=[k - .45], y=[w], \n",
    "                       marker=dict(color='#56B4E9', \n",
    "                                   line=dict(color='black', width=1)))\n",
    "        data[1].append(trace)\n",
    "    \n",
    "    return data"
   ]
  },
  {
   "cell_type": "code",
   "execution_count": 4,
   "metadata": {
    "collapsed": true
   },
   "outputs": [],
   "source": [
    "random_state, n_components, n_features = 2, 3, 2\n",
    "colors = np.array(['#0072B2', '#F0E442', '#D55E00'])\n",
    "\n",
    "covars = np.array([[[.7, .0], [.0, .1]],\n",
    "                   [[.5, .0], [.0, .1]],\n",
    "                   [[.5, .0], [.0, .1]]])\n",
    "samples = np.array([200, 500, 200])\n",
    "means = np.array([[.0, -.70],\n",
    "                  [.0, .0],\n",
    "                  [.0, .70]])\n"
   ]
  },
  {
   "cell_type": "code",
   "execution_count": 5,
   "metadata": {
    "collapsed": true
   },
   "outputs": [],
   "source": [
    "# mean_precision_prior= 0.8 to minimize the influence of the prior\n",
    "estimators = [\n",
    "    (\"Finite mixture <br>with a Dirichlet distribution<br>prior and \"\n",
    "      \"gamma=\", BayesianGaussianMixture(\n",
    "        weight_concentration_prior_type=\"dirichlet_distribution\",\n",
    "        n_components=2 * n_components, reg_covar=0, init_params='random',\n",
    "        max_iter=1500, mean_precision_prior=.8,\n",
    "        random_state=random_state), [0.001, 1, 1000]),\n",
    "    (\"Infinite mixture <br>with a Dirichlet process<br> prior and gamma=\",\n",
    "     BayesianGaussianMixture(\n",
    "        weight_concentration_prior_type=\"dirichlet_process\",\n",
    "        n_components=2 * n_components, reg_covar=0, init_params='random',\n",
    "        max_iter=1500, mean_precision_prior=.8,\n",
    "        random_state=random_state), [1, 1000, 100000])]\n",
    "\n",
    "# Generate data\n",
    "rng = np.random.RandomState(random_state)\n",
    "X = np.vstack([\n",
    "    rng.multivariate_normal(means[j], covars[j], samples[j])\n",
    "    for j in range(n_components)])\n",
    "y = np.concatenate([j * np.ones(samples[j], dtype=int)\n",
    "                    for j in range(n_components)])\n"
   ]
  },
  {
   "cell_type": "code",
   "execution_count": 6,
   "metadata": {
    "collapsed": false
   },
   "outputs": [],
   "source": [
    "# Plot results in two different figures\n",
    "titles = []\n",
    "data = []\n",
    "i = 0\n",
    "for (title, estimator, concentrations_prior) in estimators:\n",
    "    \n",
    "    data.append([[], []])\n",
    "    for k, concentration in enumerate(concentrations_prior):\n",
    "        estimator.weight_concentration_prior = concentration\n",
    "        estimator.fit(X)\n",
    "        \n",
    "        titles.append(\"%s %.1e \" % (title, concentration))\n",
    "        k = plot_results(estimator, X, y)\n",
    "        data[i][0].append(k[0])\n",
    "        data[i][1].append(k[1])\n",
    "        \n",
    "    i+=1"
   ]
  },
  {
   "cell_type": "markdown",
   "metadata": {},
   "source": [
    "### Finite Mixture"
   ]
  },
  {
   "cell_type": "code",
   "execution_count": 7,
   "metadata": {
    "collapsed": false
   },
   "outputs": [
    {
     "name": "stdout",
     "output_type": "stream",
     "text": [
      "This is the format of your plot grid:\n",
      "[ (1,1) x1,y1 ]  [ (1,2) x2,y2 ]  [ (1,3) x3,y3 ]\n",
      "[ (2,1) x4,y4 ]  [ (2,2) x5,y5 ]  [ (2,3) x6,y6 ]\n",
      "\n"
     ]
    }
   ],
   "source": [
    "fig = tools.make_subplots(rows=2, cols=3, \n",
    "                          subplot_titles=tuple(titles[: 3]))\n",
    "\n",
    "for i in range(0, 2):\n",
    "    for j in range(0, len(data[0][i])):\n",
    "        for k in range(0, len(data[0][i][j])):\n",
    "            fig.append_trace(data[0][i][j][k], i+1, j+1)\n",
    "\n",
    "for i in map(str, range(1,6)):\n",
    "    y = 'yaxis'+i\n",
    "    x = 'xaxis'+i\n",
    "    fig['layout'][y].update(showgrid=False)\n",
    "    fig['layout'][x].update(showgrid=False)\n",
    "    \n",
    "fig['layout'].update(height=700, hovermode='closest',\n",
    "                     showlegend=False)\n",
    "\n",
    "fig['layout']['yaxis1'].update(title='Estimated Mixtures')\n",
    "fig['layout']['yaxis4'].update(title='Weight of each component')"
   ]
  },
  {
   "cell_type": "code",
   "execution_count": 8,
   "metadata": {
    "collapsed": false,
    "scrolled": false
   },
   "outputs": [
    {
     "data": {
      "text/html": [
       "<iframe id=\"igraph\" scrolling=\"no\" style=\"border:none;\" seamless=\"seamless\" src=\"https://plot.ly/~Diksha_Gabha/3399.embed\" height=\"700px\" width=\"100%\"></iframe>"
      ],
      "text/plain": [
       "<plotly.tools.PlotlyDisplay object>"
      ]
     },
     "execution_count": 8,
     "metadata": {},
     "output_type": "execute_result"
    }
   ],
   "source": [
    "py.iplot(fig)"
   ]
  },
  {
   "cell_type": "markdown",
   "metadata": {},
   "source": [
    "### Infinite Mixture"
   ]
  },
  {
   "cell_type": "code",
   "execution_count": 9,
   "metadata": {
    "collapsed": false
   },
   "outputs": [
    {
     "name": "stdout",
     "output_type": "stream",
     "text": [
      "This is the format of your plot grid:\n",
      "[ (1,1) x1,y1 ]  [ (1,2) x2,y2 ]  [ (1,3) x3,y3 ]\n",
      "[ (2,1) x4,y4 ]  [ (2,2) x5,y5 ]  [ (2,3) x6,y6 ]\n",
      "\n"
     ]
    }
   ],
   "source": [
    "fig = tools.make_subplots(rows=2, cols=3, \n",
    "                          subplot_titles=tuple(titles[3: 6]))\n",
    "\n",
    "for i in range(0, 2):\n",
    "    for j in range(0, len(data[1][i])):\n",
    "        for k in range(0, len(data[1][i][j])):\n",
    "            fig.append_trace(data[1][i][j][k], i+1, j+1)\n",
    "\n",
    "for i in map(str, range(1,6)):\n",
    "    y = 'yaxis'+i\n",
    "    x = 'xaxis'+i\n",
    "    fig['layout'][y].update(showgrid=False)\n",
    "    fig['layout'][x].update(showgrid=False)\n",
    "    \n",
    "fig['layout'].update(height=700, hovermode='closest',\n",
    "                     showlegend=False)\n",
    "\n",
    "fig['layout']['yaxis1'].update(title='Estimated Mixtures')\n",
    "fig['layout']['yaxis4'].update(title='Weight of each component')"
   ]
  },
  {
   "cell_type": "code",
   "execution_count": 10,
   "metadata": {
    "collapsed": false
   },
   "outputs": [
    {
     "data": {
      "text/html": [
       "<iframe id=\"igraph\" scrolling=\"no\" style=\"border:none;\" seamless=\"seamless\" src=\"https://plot.ly/~Diksha_Gabha/3401.embed\" height=\"700px\" width=\"100%\"></iframe>"
      ],
      "text/plain": [
       "<plotly.tools.PlotlyDisplay object>"
      ]
     },
     "execution_count": 10,
     "metadata": {},
     "output_type": "execute_result"
    }
   ],
   "source": [
    "py.iplot(fig)"
   ]
  },
  {
   "cell_type": "markdown",
   "metadata": {},
   "source": [
    "### License"
   ]
  },
  {
   "cell_type": "markdown",
   "metadata": {},
   "source": [
    "Author: \n",
    "\n",
    "        Thierry Guillemot <thierry.guillemot.work@gmail.com>\n",
    "\n",
    "License: \n",
    "\n",
    "        BSD 3 clause\n"
   ]
  },
  {
   "cell_type": "code",
   "execution_count": 13,
   "metadata": {
    "collapsed": false
   },
   "outputs": [
    {
     "data": {
      "text/html": [
       "<link href=\"//fonts.googleapis.com/css?family=Open+Sans:600,400,300,200|Inconsolata|Ubuntu+Mono:400,700\" rel=\"stylesheet\" type=\"text/css\" />"
      ],
      "text/plain": [
       "<IPython.core.display.HTML object>"
      ]
     },
     "metadata": {},
     "output_type": "display_data"
    },
    {
     "data": {
      "text/html": [
       "<link rel=\"stylesheet\" type=\"text/css\" href=\"http://help.plot.ly/documentation/all_static/css/ipython-notebook-custom.css\">"
      ],
      "text/plain": [
       "<IPython.core.display.HTML object>"
      ]
     },
     "metadata": {},
     "output_type": "display_data"
    },
    {
     "name": "stdout",
     "output_type": "stream",
     "text": [
      "Collecting git+https://github.com/plotly/publisher.git\n",
      "  Cloning https://github.com/plotly/publisher.git to /tmp/pip-ij2kWw-build\n",
      "Installing collected packages: publisher\n",
      "  Found existing installation: publisher 0.10\n",
      "    Uninstalling publisher-0.10:\n",
      "      Successfully uninstalled publisher-0.10\n",
      "  Running setup.py install for publisher ... \u001b[?25l-\b \bdone\n",
      "\u001b[?25hSuccessfully installed publisher-0.10\n"
     ]
    }
   ],
   "source": [
    "from IPython.display import display, HTML\n",
    "\n",
    "display(HTML('<link href=\"//fonts.googleapis.com/css?family=Open+Sans:600,400,300,200|Inconsolata|Ubuntu+Mono:400,700\" rel=\"stylesheet\" type=\"text/css\" />'))\n",
    "display(HTML('<link rel=\"stylesheet\" type=\"text/css\" href=\"http://help.plot.ly/documentation/all_static/css/ipython-notebook-custom.css\">'))\n",
    "\n",
    "! pip install git+https://github.com/plotly/publisher.git --upgrade\n",
    "import publisher\n",
    "publisher.publish(\n",
    "    'Bayesian Gaussian Mixture.ipynb', 'scikit-learn/plot-concentration-prior/', 'Gaussian Mixture Model Sine Curve | plotly',\n",
    "    ' ',\n",
    "    title = 'Concentration Prior Type Analysis of Variation Bayesian Gaussian Mixture| plotly',\n",
    "    name = 'Concentration Prior Type Analysis of Variation Bayesian Gaussian Mixture',\n",
    "    has_thumbnail='true', thumbnail='thumbnail/rfe-cv.jpg', \n",
    "    language='scikit-learn', page_type='example_index',\n",
    "    display_as='gaussian_mixture', order=6,\n",
    "    ipynb= '~Diksha_Gabha/3403')"
   ]
  },
  {
   "cell_type": "code",
   "execution_count": null,
   "metadata": {
    "collapsed": true
   },
   "outputs": [],
   "source": []
  }
 ],
 "metadata": {
  "anaconda-cloud": {},
  "kernelspec": {
   "display_name": "Python [default]",
   "language": "python",
   "name": "python2"
  },
  "language_info": {
   "codemirror_mode": {
    "name": "ipython",
    "version": 2
   },
   "file_extension": ".py",
   "mimetype": "text/x-python",
   "name": "python",
   "nbconvert_exporter": "python",
   "pygments_lexer": "ipython2",
   "version": "2.7.12"
  }
 },
 "nbformat": 4,
 "nbformat_minor": 1
}
