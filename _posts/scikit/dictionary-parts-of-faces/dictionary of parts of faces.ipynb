{
 "cells": [
  {
   "cell_type": "markdown",
   "metadata": {},
   "source": [
    "This example uses a large dataset of faces to learn a set of 20 x 20 images patches that constitute faces.\n",
    "From the programming standpoint, it is interesting because it shows how to use the online API of the scikit-learn to process a very large dataset by chunks. The way we proceed is that we load an image at a time and extract randomly 50 patches from this image. Once we have accumulated 500 of these patches (using 10 images), we run the partial_fit method of the online KMeans object, MiniBatchKMeans.\n",
    "\n",
    "The verbose setting on the MiniBatchKMeans enables us to see that some clusters are reassigned during the successive calls to partial-fit. This is because the number of patches that they represent has become too low, and it is better to choose a random new cluster."
   ]
  },
  {
   "cell_type": "markdown",
   "metadata": {},
   "source": [
    "#### New to Plotly?\n",
    "Plotly's Python library is free and open source! [Get started](https://plot.ly/python/getting-started/) by downloading the client and [reading the primer](https://plot.ly/python/getting-started/).\n",
    "<br>You can set up Plotly to work in [online](https://plot.ly/python/getting-started/#initialization-for-online-plotting) or [offline](https://plot.ly/python/getting-started/#initialization-for-offline-plotting) mode, or in [jupyter notebooks](https://plot.ly/python/getting-started/#start-plotting-online).\n",
    "<br>We also have a quick-reference [cheatsheet](https://images.plot.ly/plotly-documentation/images/python_cheat_sheet.pdf) (new!) to help you get started!"
   ]
  },
  {
   "cell_type": "markdown",
   "metadata": {},
   "source": [
    "### Version"
   ]
  },
  {
   "cell_type": "code",
   "execution_count": 1,
   "metadata": {
    "collapsed": false
   },
   "outputs": [
    {
     "data": {
      "text/plain": [
       "'0.18'"
      ]
     },
     "execution_count": 1,
     "metadata": {},
     "output_type": "execute_result"
    }
   ],
   "source": [
    "import sklearn\n",
    "sklearn.__version__"
   ]
  },
  {
   "cell_type": "markdown",
   "metadata": {},
   "source": [
    "### Imports"
   ]
  },
  {
   "cell_type": "markdown",
   "metadata": {},
   "source": [
    "This tutorial imports [MiniBatchKMeans](http://scikit-learn.org/stable/modules/generated/sklearn.cluster.MiniBatchKMeans.html#sklearn.cluster.MiniBatchKMeans) and [extract_patches_2d](http://scikit-learn.org/stable/modules/generated/sklearn.feature_extraction.image.extract_patches_2d.html#sklearn.feature_extraction.image.extract_patches_2d)."
   ]
  },
  {
   "cell_type": "code",
   "execution_count": 2,
   "metadata": {
    "collapsed": false
   },
   "outputs": [
    {
     "name": "stdout",
     "output_type": "stream",
     "text": [
      "Automatically created module for IPython interactive environment\n"
     ]
    }
   ],
   "source": [
    "print(__doc__)\n",
    "\n",
    "import plotly.plotly as py\n",
    "import plotly.graph_objs as go\n",
    "from plotly import tools\n",
    "\n",
    "import time\n",
    "import matplotlib.pyplot as plt\n",
    "import numpy as np\n",
    "\n",
    "\n",
    "from sklearn import datasets\n",
    "from sklearn.cluster import MiniBatchKMeans\n",
    "from sklearn.feature_extraction.image import extract_patches_2d\n",
    "\n",
    "faces = datasets.fetch_olivetti_faces()"
   ]
  },
  {
   "cell_type": "markdown",
   "metadata": {},
   "source": [
    "### Calculations"
   ]
  },
  {
   "cell_type": "markdown",
   "metadata": {},
   "source": [
    "Learn the dictionary of images."
   ]
  },
  {
   "cell_type": "code",
   "execution_count": 3,
   "metadata": {
    "collapsed": false
   },
   "outputs": [
    {
     "name": "stdout",
     "output_type": "stream",
     "text": [
      "Learning the dictionary... \n",
      "Partial fit of  100 out of 2400\n",
      "Partial fit of  200 out of 2400\n",
      "[MiniBatchKMeans] Reassigning 16 cluster centers.\n",
      "Partial fit of  300 out of 2400\n",
      "Partial fit of  400 out of 2400\n",
      "Partial fit of  500 out of 2400\n",
      "Partial fit of  600 out of 2400\n",
      "Partial fit of  700 out of 2400\n",
      "Partial fit of  800 out of 2400\n",
      "Partial fit of  900 out of 2400\n",
      "Partial fit of 1000 out of 2400\n",
      "Partial fit of 1100 out of 2400\n",
      "Partial fit of 1200 out of 2400\n",
      "Partial fit of 1300 out of 2400\n",
      "Partial fit of 1400 out of 2400\n",
      "Partial fit of 1500 out of 2400\n",
      "Partial fit of 1600 out of 2400\n",
      "Partial fit of 1700 out of 2400\n",
      "Partial fit of 1800 out of 2400\n",
      "Partial fit of 1900 out of 2400\n",
      "Partial fit of 2000 out of 2400\n",
      "Partial fit of 2100 out of 2400\n",
      "Partial fit of 2200 out of 2400\n",
      "Partial fit of 2300 out of 2400\n",
      "Partial fit of 2400 out of 2400\n",
      "done in 3.78s.\n"
     ]
    }
   ],
   "source": [
    "print('Learning the dictionary... ')\n",
    "rng = np.random.RandomState(0)\n",
    "kmeans = MiniBatchKMeans(n_clusters=81, random_state=rng, verbose=True)\n",
    "patch_size = (20, 20)\n",
    "\n",
    "buffer = []\n",
    "index = 1\n",
    "t0 = time.time()\n",
    "\n",
    "# The online learning part: cycle over the whole dataset 6 times\n",
    "index = 0\n",
    "for _ in range(6):\n",
    "    for img in faces.images:\n",
    "        data = extract_patches_2d(img, patch_size, max_patches=50,\n",
    "                                  random_state=rng)\n",
    "        data = np.reshape(data, (len(data), -1))\n",
    "        buffer.append(data)\n",
    "        index += 1\n",
    "        if index % 10 == 0:\n",
    "            data = np.concatenate(buffer, axis=0)\n",
    "            data -= np.mean(data, axis=0)\n",
    "            data /= np.std(data, axis=0)\n",
    "            kmeans.partial_fit(data)\n",
    "            buffer = []\n",
    "        if index % 100 == 0:\n",
    "            print('Partial fit of %4i out of %i'\n",
    "                  % (index, 6 * len(faces.images)))\n",
    "\n",
    "dt = time.time() - t0\n",
    "print('done in %.2fs.' % dt)"
   ]
  },
  {
   "cell_type": "markdown",
   "metadata": {},
   "source": [
    "### Plots"
   ]
  },
  {
   "cell_type": "code",
   "execution_count": 4,
   "metadata": {
    "collapsed": false
   },
   "outputs": [
    {
     "name": "stdout",
     "output_type": "stream",
     "text": [
      "The draw time for this plot will be slow for all clients.\n"
     ]
    },
    {
     "name": "stderr",
     "output_type": "stream",
     "text": [
      "/home/diksha/.local/lib/python2.7/site-packages/plotly/plotly/plotly.py:1443: UserWarning:\n",
      "\n",
      "Estimated Draw Time Too Long\n",
      "\n"
     ]
    },
    {
     "data": {
      "text/html": [
       "<iframe id=\"igraph\" scrolling=\"no\" style=\"border:none;\" seamless=\"seamless\" src=\"https://plot.ly/~Diksha_Gabha/2753.embed\" height=\"1200px\" width=\"100%\"></iframe>"
      ],
      "text/plain": [
       "<plotly.tools.PlotlyDisplay object>"
      ]
     },
     "execution_count": 4,
     "metadata": {},
     "output_type": "execute_result"
    }
   ],
   "source": [
    "def matplotlib_to_plotly(cmap, pl_entries):\n",
    "    h = 1.0/(pl_entries-1)\n",
    "    pl_colorscale = []\n",
    "    \n",
    "    for k in range(pl_entries):\n",
    "        C = map(np.uint8, np.array(cmap(k*h)[:3])*255)\n",
    "        pl_colorscale.append([k*h, 'rgb'+str((C[0], C[1], C[2]))])\n",
    "        \n",
    "    return pl_colorscale\n",
    "\n",
    "fig = tools.make_subplots(rows=9, cols=9,\n",
    "                         print_grid=False)\n",
    "j = 1\n",
    "\n",
    "for i, patch in enumerate(kmeans.cluster_centers_):\n",
    "    trace = go.Heatmap(z=patch.reshape(patch_size), \n",
    "                       showscale=False,\n",
    "                       colorscale=matplotlib_to_plotly(plt.cm.gray,\n",
    "                                                       len(patch.reshape(patch_size))\n",
    "               ))\n",
    "    k = i/9+1\n",
    "    j = j%9\n",
    "    if(j==0):\n",
    "        j = 9\n",
    "    \n",
    "    fig.append_trace(trace, k, j)\n",
    "    j=j+1\n",
    "    \n",
    "fig['layout'].update(title='Patches of faces<br>Train time %.1fs on %d patches' %\n",
    "                     (dt, 8 * len(faces.images)),\n",
    "                      height = 1200)\n",
    "\n",
    "for i in map(str,range(1,82)):\n",
    "        y = 'yaxis'+ i\n",
    "        x = 'xaxis'+i\n",
    "        fig['layout'][y].update(autorange='reversed',\n",
    "                                   showticklabels=False, ticks='')\n",
    "        fig['layout'][x].update(showticklabels=False, ticks='')\n",
    "        \n",
    "py.iplot(fig)"
   ]
  },
  {
   "cell_type": "code",
   "execution_count": 2,
   "metadata": {
    "collapsed": false
   },
   "outputs": [
    {
     "data": {
      "text/html": [
       "<link href=\"//fonts.googleapis.com/css?family=Open+Sans:600,400,300,200|Inconsolata|Ubuntu+Mono:400,700\" rel=\"stylesheet\" type=\"text/css\" />"
      ],
      "text/plain": [
       "<IPython.core.display.HTML object>"
      ]
     },
     "metadata": {},
     "output_type": "display_data"
    },
    {
     "data": {
      "text/html": [
       "<link rel=\"stylesheet\" type=\"text/css\" href=\"http://help.plot.ly/documentation/all_static/css/ipython-notebook-custom.css\">"
      ],
      "text/plain": [
       "<IPython.core.display.HTML object>"
      ]
     },
     "metadata": {},
     "output_type": "display_data"
    },
    {
     "name": "stdout",
     "output_type": "stream",
     "text": [
      "Collecting git+https://github.com/plotly/publisher.git\n",
      "  Cloning https://github.com/plotly/publisher.git to /tmp/pip-EtLRwb-build\n",
      "Installing collected packages: publisher\n",
      "  Running setup.py install for publisher ... \u001b[?25l-\b \berror\n",
      "    Complete output from command /usr/bin/python -u -c \"import setuptools, tokenize;__file__='/tmp/pip-EtLRwb-build/setup.py';exec(compile(getattr(tokenize, 'open', open)(__file__).read().replace('\\r\\n', '\\n'), __file__, 'exec'))\" install --record /tmp/pip-duDP6X-record/install-record.txt --single-version-externally-managed --compile:\n",
      "    running install\n",
      "    running build\n",
      "    running build_py\n",
      "    creating build\n",
      "    creating build/lib.linux-x86_64-2.7\n",
      "    creating build/lib.linux-x86_64-2.7/publisher\n",
      "    copying publisher/publisher.py -> build/lib.linux-x86_64-2.7/publisher\n",
      "    copying publisher/__init__.py -> build/lib.linux-x86_64-2.7/publisher\n",
      "    running install_lib\n",
      "    creating /usr/local/lib/python2.7/dist-packages/publisher\n",
      "    error: could not create '/usr/local/lib/python2.7/dist-packages/publisher': Permission denied\n",
      "    \n",
      "    ----------------------------------------\n",
      "\u001b[31mCommand \"/usr/bin/python -u -c \"import setuptools, tokenize;__file__='/tmp/pip-EtLRwb-build/setup.py';exec(compile(getattr(tokenize, 'open', open)(__file__).read().replace('\\r\\n', '\\n'), __file__, 'exec'))\" install --record /tmp/pip-duDP6X-record/install-record.txt --single-version-externally-managed --compile\" failed with error code 1 in /tmp/pip-EtLRwb-build/\u001b[0m\n",
      "\u001b[33mYou are using pip version 8.1.2, however version 9.0.1 is available.\n",
      "You should consider upgrading via the 'pip install --upgrade pip' command.\u001b[0m\n",
      "\u001b[?25h"
     ]
    }
   ],
   "source": [
    "from IPython.display import display, HTML\n",
    "\n",
    "display(HTML('<link href=\"//fonts.googleapis.com/css?family=Open+Sans:600,400,300,200|Inconsolata|Ubuntu+Mono:400,700\" rel=\"stylesheet\" type=\"text/css\" />'))\n",
    "display(HTML('<link rel=\"stylesheet\" type=\"text/css\" href=\"http://help.plot.ly/documentation/all_static/css/ipython-notebook-custom.css\">'))\n",
    "\n",
    "! pip install git+https://github.com/plotly/publisher.git --upgrade\n",
    "import publisher\n",
    "publisher.publish(\n",
    "    'dictionary of parts of faces.ipynb', 'scikit-learn/plot-dict-face-patches/', 'Online Learning of a Dictionary of parts of Faces  | plotly',\n",
    "    ' ',\n",
    "    title = 'Online learning of a dictionary of parts of faces | plotly',\n",
    "    name = 'Online learning of a dictionary of parts of faces',\n",
    "    has_thumbnail='true', thumbnail='thumbnail/dict-faces.jpg', \n",
    "    language='scikit-learn', page_type='example_index',\n",
    "    display_as='clustering', order=4,\n",
    "    ipynb='~Diksha_Gabha/2756')"
   ]
  },
  {
   "cell_type": "code",
   "execution_count": null,
   "metadata": {
    "collapsed": true
   },
   "outputs": [],
   "source": []
  }
 ],
 "metadata": {
  "kernelspec": {
   "display_name": "Python 2",
   "language": "python",
   "name": "python2"
  },
  "language_info": {
   "codemirror_mode": {
    "name": "ipython",
    "version": 2
   },
   "file_extension": ".py",
   "mimetype": "text/x-python",
   "name": "python",
   "nbconvert_exporter": "python",
   "pygments_lexer": "ipython2",
   "version": "2.7.11"
  }
 },
 "nbformat": 4,
 "nbformat_minor": 0
}
