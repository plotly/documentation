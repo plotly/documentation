{
 "cells": [
  {
   "cell_type": "markdown",
   "metadata": {},
   "source": [
    "This example illustrates the predicted probability of GPC for an RBF kernel with different choices of the hyperparameters. The first figure shows the predicted probability of GPC with arbitrarily chosen hyperparameters and with the hyperparameters corresponding to the maximum log-marginal-likelihood (LML).\n",
    "\n",
    "While the hyperparameters chosen by optimizing LML have a considerable larger LML, they perform slightly worse according to the log-loss on test data. The figure shows that this is because they exhibit a steep change of the class probabilities at the class boundaries (which is good) but have predicted probabilities close to 0.5 far away from the class boundaries (which is bad) This undesirable effect is caused by the Laplace approximation used internally by GPC.\n",
    "\n",
    "The second figure shows the log-marginal-likelihood for different choices of the kernel’s hyperparameters, highlighting the two choices of the hyperparameters used in the first figure by black dots."
   ]
  },
  {
   "cell_type": "markdown",
   "metadata": {},
   "source": [
    "#### New to Plotly?\n",
    "Plotly's Python library is free and open source! [Get started](https://plot.ly/python/getting-started/) by downloading the client and [reading the primer](https://plot.ly/python/getting-started/).\n",
    "<br>You can set up Plotly to work in [online](https://plot.ly/python/getting-started/#initialization-for-online-plotting) or [offline](https://plot.ly/python/getting-started/#initialization-for-offline-plotting) mode, or in [jupyter notebooks](https://plot.ly/python/getting-started/#start-plotting-online).\n",
    "<br>We also have a quick-reference [cheatsheet](https://images.plot.ly/plotly-documentation/images/python_cheat_sheet.pdf) (new!) to help you get started!"
   ]
  },
  {
   "cell_type": "markdown",
   "metadata": {},
   "source": [
    "### Version"
   ]
  },
  {
   "cell_type": "code",
   "execution_count": 1,
   "metadata": {
    "collapsed": false
   },
   "outputs": [
    {
     "data": {
      "text/plain": [
       "'0.18.1'"
      ]
     },
     "execution_count": 1,
     "metadata": {},
     "output_type": "execute_result"
    }
   ],
   "source": [
    "import sklearn\n",
    "sklearn.__version__"
   ]
  },
  {
   "cell_type": "markdown",
   "metadata": {},
   "source": [
    "### Imports"
   ]
  },
  {
   "cell_type": "markdown",
   "metadata": {},
   "source": [
    "This tutorial includes [accuracy_score](http://scikit-learn.org/stable/modules/generated/sklearn.metrics.accuracy_score.html#sklearn.metrics.accuracy_score), [log_loss](http://scikit-learn.org/stable/modules/generated/sklearn.metrics.log_loss.html#sklearn.metrics.log_loss), [GaussianProcessClassifier](http://scikit-learn.org/stable/modules/generated/sklearn.gaussian_process.GaussianProcessClassifier.html#sklearn.gaussian_process.GaussianProcessClassifier) and [RBF](http://scikit-learn.org/stable/modules/generated/sklearn.gaussian_process.kernels.RBF.html#sklearn.gaussian_process.kernels.RBF)."
   ]
  },
  {
   "cell_type": "code",
   "execution_count": 2,
   "metadata": {
    "collapsed": true
   },
   "outputs": [],
   "source": [
    "import plotly.plotly as py\n",
    "import plotly.graph_objs as go\n",
    "\n",
    "import numpy as np\n",
    "from matplotlib import pyplot as plt\n",
    "from sklearn.metrics.classification import accuracy_score, log_loss\n",
    "from sklearn.gaussian_process import GaussianProcessClassifier\n",
    "from sklearn.gaussian_process.kernels import RBF"
   ]
  },
  {
   "cell_type": "markdown",
   "metadata": {},
   "source": [
    "### Calculations"
   ]
  },
  {
   "cell_type": "code",
   "execution_count": 3,
   "metadata": {
    "collapsed": false
   },
   "outputs": [
    {
     "name": "stdout",
     "output_type": "stream",
     "text": [
      "Log Marginal Likelihood (initial): -17.598\n",
      "Log Marginal Likelihood (optimized): -3.875\n",
      "Accuracy: 1.000 (initial) 1.000 (optimized)\n",
      "Log-loss: 0.214 (initial) 0.319 (optimized)\n"
     ]
    }
   ],
   "source": [
    "# Generate data\n",
    "train_size = 50\n",
    "rng = np.random.RandomState(0)\n",
    "X = rng.uniform(0, 5, 100)[:, np.newaxis]\n",
    "y = np.array(X[:, 0] > 2.5, dtype=int)\n",
    "\n",
    "# Specify Gaussian Processes with fixed and optimized hyperparameters\n",
    "gp_fix = GaussianProcessClassifier(kernel=1.0 * RBF(length_scale=1.0),\n",
    "                                   optimizer=None)\n",
    "gp_fix.fit(X[:train_size], y[:train_size])\n",
    "\n",
    "gp_opt = GaussianProcessClassifier(kernel=1.0 * RBF(length_scale=1.0))\n",
    "gp_opt.fit(X[:train_size], y[:train_size])\n",
    "\n",
    "print(\"Log Marginal Likelihood (initial): %.3f\"\n",
    "      % gp_fix.log_marginal_likelihood(gp_fix.kernel_.theta))\n",
    "print(\"Log Marginal Likelihood (optimized): %.3f\"\n",
    "      % gp_opt.log_marginal_likelihood(gp_opt.kernel_.theta))\n",
    "\n",
    "print(\"Accuracy: %.3f (initial) %.3f (optimized)\"\n",
    "      % (accuracy_score(y[:train_size], gp_fix.predict(X[:train_size])),\n",
    "         accuracy_score(y[:train_size], gp_opt.predict(X[:train_size]))))\n",
    "print(\"Log-loss: %.3f (initial) %.3f (optimized)\"\n",
    "      % (log_loss(y[:train_size], gp_fix.predict_proba(X[:train_size])[:, 1]),\n",
    "         log_loss(y[:train_size], gp_opt.predict_proba(X[:train_size])[:, 1])))"
   ]
  },
  {
   "cell_type": "markdown",
   "metadata": {},
   "source": [
    "### Plot posteriors"
   ]
  },
  {
   "cell_type": "code",
   "execution_count": 4,
   "metadata": {
    "collapsed": true
   },
   "outputs": [],
   "source": [
    "trace1 = go.Scatter(x=X[:train_size, 0], \n",
    "                    y=y[:train_size],\n",
    "                    mode='markers',\n",
    "                    marker=dict(color='black'),\n",
    "                    name=\"Train data\")\n",
    "\n",
    "trace2 = go.Scatter(x=X[train_size:, 0],\n",
    "                    y=y[train_size:],\n",
    "                    mode='markers',\n",
    "                    marker=dict(color='green'),\n",
    "                    name=\"Test data\")\n",
    "\n",
    "X_ = np.linspace(0, 5, 100)\n",
    "\n",
    "trace3 = go.Scatter(x=X_, \n",
    "                    y=gp_fix.predict_proba(X_[:, np.newaxis])[:, 1], \n",
    "                    mode='lines',\n",
    "                    line=dict(color='red'),\n",
    "                    name=\"Initial kernel: %s\" % gp_fix.kernel_)\n",
    "\n",
    "trace4 = go.Scatter(x=X_,\n",
    "                    y=gp_opt.predict_proba(X_[:, np.newaxis])[:, 1],\n",
    "                    mode='lines',\n",
    "                    line=dict(color='blue'),\n",
    "                    name=\"Optimized kernel: %s\" % gp_opt.kernel_)\n",
    "\n",
    "layout = go.Layout(yaxis=dict(title='Class 1 probability'),\n",
    "                   xaxis=dict(title='Feature'),\n",
    "                   hovermode='closest')\n",
    "\n",
    "fig  = go.Figure(data=[trace1, trace2, trace3, trace4], \n",
    "                 layout=layout)"
   ]
  },
  {
   "cell_type": "code",
   "execution_count": 5,
   "metadata": {
    "collapsed": false
   },
   "outputs": [
    {
     "data": {
      "text/html": [
       "<iframe id=\"igraph\" scrolling=\"no\" style=\"border:none;\" seamless=\"seamless\" src=\"https://plot.ly/~Diksha_Gabha/3133.embed\" height=\"525px\" width=\"100%\"></iframe>"
      ],
      "text/plain": [
       "<plotly.tools.PlotlyDisplay object>"
      ]
     },
     "execution_count": 5,
     "metadata": {},
     "output_type": "execute_result"
    }
   ],
   "source": [
    "py.iplot(fig)"
   ]
  },
  {
   "cell_type": "markdown",
   "metadata": {},
   "source": [
    "### Plot LML landscape"
   ]
  },
  {
   "cell_type": "code",
   "execution_count": 6,
   "metadata": {
    "collapsed": false
   },
   "outputs": [],
   "source": [
    "theta0 = np.logspace(0, 8, 30)\n",
    "theta1 = np.logspace(-1, 1, 29)\n",
    "Theta0, Theta1 = np.meshgrid(theta0, theta1)\n",
    "LML = [[gp_opt.log_marginal_likelihood(np.log([Theta0[i, j], Theta1[i, j]]))\n",
    "        for i in range(Theta0.shape[0])] for j in range(Theta0.shape[1])]\n",
    "LML = np.array(LML).T\n",
    "\n",
    "trace1 = go.Scatter(x=[np.exp(gp_fix.kernel_.theta)[0]], \n",
    "                    y=[np.exp(gp_fix.kernel_.theta)[1]],\n",
    "                    mode='markers',\n",
    "                    marker=dict(color='black'),\n",
    "                    showlegend=False\n",
    "                   )\n",
    "\n",
    "trace2 = go.Scatter(x=[np.exp(gp_opt.kernel_.theta)[0]], \n",
    "                    y=[np.exp(gp_opt.kernel_.theta)[1]],\n",
    "                    mode='markers',\n",
    "                    marker=dict(color='black'),\n",
    "                    showlegend=False\n",
    "                   )\n",
    "trace3 = go.Heatmap(x=theta0, \n",
    "                    y=theta1, \n",
    "                    z=LML,\n",
    "                    colorscale='Jet'\n",
    "                   )\n",
    "layout = go.Layout(title=\"Log-marginal-likelihood\",\n",
    "                   xaxis=dict(type='log', title=\"Magnitude\"),\n",
    "                   yaxis=dict(type='log', title=\"Length-scale\")\n",
    "                  )\n",
    "fig  = go.Figure(data=[trace3, trace1, trace2], \n",
    "                 layout=layout)"
   ]
  },
  {
   "cell_type": "code",
   "execution_count": 7,
   "metadata": {
    "collapsed": false
   },
   "outputs": [
    {
     "data": {
      "text/html": [
       "<iframe id=\"igraph\" scrolling=\"no\" style=\"border:none;\" seamless=\"seamless\" src=\"https://plot.ly/~Diksha_Gabha/3135.embed\" height=\"525px\" width=\"100%\"></iframe>"
      ],
      "text/plain": [
       "<plotly.tools.PlotlyDisplay object>"
      ]
     },
     "execution_count": 7,
     "metadata": {},
     "output_type": "execute_result"
    }
   ],
   "source": [
    "py.iplot(fig)"
   ]
  },
  {
   "cell_type": "markdown",
   "metadata": {},
   "source": [
    "### License"
   ]
  },
  {
   "cell_type": "markdown",
   "metadata": {},
   "source": [
    "Authors: \n",
    "\n",
    "        Jan Hendrik Metzen <jhm@informatik.uni-bremen.de>\n",
    "\n",
    "License:\n",
    "\n",
    "        BSD 3 clause"
   ]
  },
  {
   "cell_type": "code",
   "execution_count": 2,
   "metadata": {
    "collapsed": false
   },
   "outputs": [
    {
     "data": {
      "text/html": [
       "<link href=\"//fonts.googleapis.com/css?family=Open+Sans:600,400,300,200|Inconsolata|Ubuntu+Mono:400,700\" rel=\"stylesheet\" type=\"text/css\" />"
      ],
      "text/plain": [
       "<IPython.core.display.HTML object>"
      ]
     },
     "metadata": {},
     "output_type": "display_data"
    },
    {
     "data": {
      "text/html": [
       "<link rel=\"stylesheet\" type=\"text/css\" href=\"http://help.plot.ly/documentation/all_static/css/ipython-notebook-custom.css\">"
      ],
      "text/plain": [
       "<IPython.core.display.HTML object>"
      ]
     },
     "metadata": {},
     "output_type": "display_data"
    },
    {
     "name": "stdout",
     "output_type": "stream",
     "text": [
      "Collecting git+https://github.com/plotly/publisher.git\n",
      "  Cloning https://github.com/plotly/publisher.git to /tmp/pip-sU5Yux-build\n",
      "Installing collected packages: publisher\n",
      "  Found existing installation: publisher 0.10\n",
      "    Uninstalling publisher-0.10:\n",
      "      Successfully uninstalled publisher-0.10\n",
      "  Running setup.py install for publisher ... \u001b[?25l-\b \bdone\n",
      "\u001b[?25hSuccessfully installed publisher-0.10\n"
     ]
    }
   ],
   "source": [
    "from IPython.display import display, HTML\n",
    "\n",
    "display(HTML('<link href=\"//fonts.googleapis.com/css?family=Open+Sans:600,400,300,200|Inconsolata|Ubuntu+Mono:400,700\" rel=\"stylesheet\" type=\"text/css\" />'))\n",
    "display(HTML('<link rel=\"stylesheet\" type=\"text/css\" href=\"http://help.plot.ly/documentation/all_static/css/ipython-notebook-custom.css\">'))\n",
    "\n",
    "! pip install git+https://github.com/plotly/publisher.git --upgrade\n",
    "import publisher\n",
    "publisher.publish(\n",
    "    'Probabilistic Predictions with Gaussian Process Classification (GPC).ipynb', 'scikit-learn/plot-gpc/', 'Probabilistic Predictions with Gaussian Process Classification | plotly',\n",
    "    ' ',\n",
    "    title = 'Probabilistic Predictions with Gaussian Process Classification | plotly',\n",
    "    name = 'Probabilistic Predictions with Gaussian Process Classification',\n",
    "    has_thumbnail='true', thumbnail='thumbnail/plot-gpc.jpg', \n",
    "    language='scikit-learn', page_type='example_index',\n",
    "    display_as='gaussian-process', order=7,\n",
    "    ipynb= '~Diksha_Gabha/3137')"
   ]
  },
  {
   "cell_type": "code",
   "execution_count": null,
   "metadata": {
    "collapsed": true
   },
   "outputs": [],
   "source": []
  }
 ],
 "metadata": {
  "anaconda-cloud": {},
  "kernelspec": {
   "display_name": "Python [default]",
   "language": "python",
   "name": "python2"
  },
  "language_info": {
   "codemirror_mode": {
    "name": "ipython",
    "version": 2
   },
   "file_extension": ".py",
   "mimetype": "text/x-python",
   "name": "python",
   "nbconvert_exporter": "python",
   "pygments_lexer": "ipython2",
   "version": "2.7.12"
  }
 },
 "nbformat": 4,
 "nbformat_minor": 1
}
