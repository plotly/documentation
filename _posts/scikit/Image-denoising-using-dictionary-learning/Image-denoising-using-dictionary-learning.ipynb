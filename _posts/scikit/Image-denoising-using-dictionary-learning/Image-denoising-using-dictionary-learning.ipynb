{
 "cells": [
  {
   "cell_type": "markdown",
   "metadata": {},
   "source": [
    "An example comparing the effect of reconstructing noisy fragments of a raccoon face image using firstly online [Dictionary Learning](http://scikit-learn.org/stable/modules/decomposition.html#dictionarylearning) and various transform methods.\n",
    "\n",
    "The dictionary is fitted on the distorted left half of the image, and subsequently used to reconstruct the right half. Note that even better performance could be achieved by fitting to an undistorted (i.e. noiseless) image, but here we start from the assumption that it is not available.\n",
    "\n",
    "A common practice for evaluating the results of image denoising is by looking at the difference between the reconstruction and the original image. If the reconstruction is perfect this will look like Gaussian noise.\n",
    "It can be seen from the plots that the results of [Orthogonal Matching Pursuit](http://scikit-learn.org/stable/modules/linear_model.html#omp) (OMP) with two non-zero coefficients is a bit less biased than when keeping only one (the edges look less prominent). It is in addition closer from the ground truth in Frobenius norm.\n",
    "\n",
    "The result of [Least Angle Regression](http://scikit-learn.org/stable/modules/linear_model.html#least-angle-regression) is much more strongly biased: the difference is reminiscent of the local intensity value of the original image.\n",
    "\n",
    "Thresholding is clearly not useful for denoising, but it is here to show that it can produce a suggestive output with very high speed, and thus be useful for other tasks such as object classification, where performance is not necessarily related to visualisation.\n"
   ]
  },
  {
   "cell_type": "markdown",
   "metadata": {},
   "source": [
    "#### New to Plotly?\n",
    "Plotly's Python library is free and open source! [Get started](https://plot.ly/python/getting-started/) by downloading the client and [reading the primer](https://plot.ly/python/getting-started/).\n",
    "<br>You can set up Plotly to work in [online](https://plot.ly/python/getting-started/#initialization-for-online-plotting) or [offline](https://plot.ly/python/getting-started/#initialization-for-offline-plotting) mode, or in [jupyter notebooks](https://plot.ly/python/getting-started/#start-plotting-online).\n",
    "<br>We also have a quick-reference [cheatsheet](https://images.plot.ly/plotly-documentation/images/python_cheat_sheet.pdf) (new!) to help you get started!"
   ]
  },
  {
   "cell_type": "markdown",
   "metadata": {},
   "source": [
    "### Version"
   ]
  },
  {
   "cell_type": "code",
   "execution_count": 1,
   "metadata": {
    "collapsed": false
   },
   "outputs": [
    {
     "data": {
      "text/plain": [
       "'0.18'"
      ]
     },
     "execution_count": 1,
     "metadata": {},
     "output_type": "execute_result"
    }
   ],
   "source": [
    "import sklearn\n",
    "sklearn.__version__"
   ]
  },
  {
   "cell_type": "markdown",
   "metadata": {},
   "source": [
    "### Imports"
   ]
  },
  {
   "cell_type": "markdown",
   "metadata": {},
   "source": [
    "This tutorial imports [MiniBatchDictionaryLearning](http://scikit-learn.org/stable/modules/generated/sklearn.decomposition.MiniBatchDictionaryLearning.html#sklearn.decomposition.MiniBatchDictionaryLearning), [extract_patches_2d](http://scikit-learn.org/stable/modules/generated/sklearn.feature_extraction.image.extract_patches_2d.html#sklearn.feature_extraction.image.extract_patches_2d) and [reconstruct_from_patches_2d](http://scikit-learn.org/stable/modules/generated/sklearn.feature_extraction.image.reconstruct_from_patches_2d.html#sklearn.feature_extraction.image.reconstruct_from_patches_2d)."
   ]
  },
  {
   "cell_type": "code",
   "execution_count": 2,
   "metadata": {
    "collapsed": false
   },
   "outputs": [
    {
     "name": "stdout",
     "output_type": "stream",
     "text": [
      "Automatically created module for IPython interactive environment\n"
     ]
    }
   ],
   "source": [
    "print(__doc__)\n",
    "\n",
    "import plotly.plotly as py\n",
    "import plotly.graph_objs as go\n",
    "from plotly import tools\n",
    "\n",
    "from time import time\n",
    "import matplotlib.pyplot as plt\n",
    "import numpy as np\n",
    "import scipy as sp\n",
    "\n",
    "from sklearn.decomposition import MiniBatchDictionaryLearning\n",
    "from sklearn.feature_extraction.image import extract_patches_2d\n",
    "from sklearn.feature_extraction.image import reconstruct_from_patches_2d\n",
    "from sklearn.utils.testing import SkipTest\n",
    "from sklearn.utils.fixes import sp_version\n",
    "\n",
    "if sp_version < (0, 12):\n",
    "    raise SkipTest(\"Skipping because SciPy version earlier than 0.12.0 and \"\n",
    "                   \"thus does not include the scipy.misc.face() image.\")\n"
   ]
  },
  {
   "cell_type": "markdown",
   "metadata": {},
   "source": [
    "### Calculations"
   ]
  },
  {
   "cell_type": "code",
   "execution_count": 3,
   "metadata": {
    "collapsed": false
   },
   "outputs": [
    {
     "name": "stdout",
     "output_type": "stream",
     "text": [
      "Distorting image...\n",
      "Extracting reference patches...\n",
      "done in 0.20s.\n"
     ]
    }
   ],
   "source": [
    "try:\n",
    "    from scipy import misc\n",
    "    face = misc.face(gray=True)\n",
    "except AttributeError:\n",
    "    # Old versions of scipy have face in the top level package\n",
    "    face = sp.face(gray=True)\n",
    "\n",
    "height, width = face.shape\n",
    "\n",
    "# Distort the right half of the image\n",
    "print('Distorting image...')\n",
    "distorted = face.copy()\n",
    "distorted[:, width // 2:] = distorted[:, width // 2:] + 0.075 * np.random.randn(height, width // 2)\n",
    "\n",
    "# Extract all reference patches from the left half of the image\n",
    "print('Extracting reference patches...')\n",
    "t0 = time()\n",
    "patch_size = (7, 7)\n",
    "data = extract_patches_2d(distorted[:, :width // 2], patch_size)\n",
    "data = data.reshape(data.shape[0], -1)\n",
    "data = data - np.mean(data, axis=0)\n",
    "data = data/np.std(data, axis=0)\n",
    "print('done in %.2fs.' % (time() - t0))"
   ]
  },
  {
   "cell_type": "markdown",
   "metadata": {},
   "source": [
    "### Plot Results"
   ]
  },
  {
   "cell_type": "markdown",
   "metadata": {},
   "source": [
    "Learn the dictionary from reference patches"
   ]
  },
  {
   "cell_type": "code",
   "execution_count": 4,
   "metadata": {
    "collapsed": false
   },
   "outputs": [
    {
     "name": "stdout",
     "output_type": "stream",
     "text": [
      "Learning the dictionary...\n",
      "done in 12.13s.\n"
     ]
    }
   ],
   "source": [
    "print('Learning the dictionary...')\n",
    "t0 = time()\n",
    "dico = MiniBatchDictionaryLearning(n_components=100, alpha=1, n_iter=500)\n",
    "V = dico.fit(data).components_\n",
    "dt = time() - t0\n",
    "print('done in %.2fs.' % dt)\n"
   ]
  },
  {
   "cell_type": "code",
   "execution_count": 5,
   "metadata": {
    "collapsed": true
   },
   "outputs": [],
   "source": [
    "def matplotlib_to_plotly(cmap, pl_entries):\n",
    "    h = 1.0/(pl_entries-1)\n",
    "    pl_colorscale = []\n",
    "    \n",
    "    for k in range(pl_entries):\n",
    "        C = map(np.uint8, np.array(cmap(k*h)[:3])*255)\n",
    "        pl_colorscale.append([k*h, 'rgb'+str((C[0], C[1], C[2]))])\n",
    "        \n",
    "    return pl_colorscale\n"
   ]
  },
  {
   "cell_type": "markdown",
   "metadata": {},
   "source": [
    "### Plot Dictionary Learned from Face Patches"
   ]
  },
  {
   "cell_type": "code",
   "execution_count": 6,
   "metadata": {
    "collapsed": false
   },
   "outputs": [],
   "source": [
    "fig = tools.make_subplots(rows=10, cols=10,\n",
    "                         print_grid=False)\n",
    "j = 1\n",
    "\n",
    "for i, comp in enumerate(V[:100]):\n",
    "    trace = go.Heatmap(z=comp.reshape(patch_size), \n",
    "                       colorscale=matplotlib_to_plotly(plt.cm.gray_r, len(comp.reshape(patch_size))),\n",
    "                       showscale=False)\n",
    "    \n",
    "    k = i/10+1\n",
    "    j = j%10\n",
    "    if(j==0):\n",
    "        j = 10\n",
    "    fig.append_trace(trace, k, j)\n",
    "    j=j+1\n",
    "    \n",
    "fig['layout'].update(title='Dictionary learned from face patches<br>' +\n",
    "                            'Train time %.1fs on %d patches' % (dt, len(data)),\n",
    "                     height=1000\n",
    "                    )\n",
    "for i in map(str,range(1,101)):\n",
    "        y = 'yaxis' + i\n",
    "        x = 'xaxis' + i\n",
    "        fig['layout'][y].update(autorange='reversed',\n",
    "                                showticklabels=False, ticks='')\n",
    "        fig['layout'][x].update(showticklabels=False, ticks='')\n",
    "        "
   ]
  },
  {
   "cell_type": "code",
   "execution_count": 7,
   "metadata": {
    "collapsed": false
   },
   "outputs": [
    {
     "name": "stdout",
     "output_type": "stream",
     "text": [
      "The draw time for this plot will be slow for all clients.\n"
     ]
    },
    {
     "name": "stderr",
     "output_type": "stream",
     "text": [
      "/home/diksha/.local/lib/python2.7/site-packages/plotly/plotly/plotly.py:1443: UserWarning:\n",
      "\n",
      "Estimated Draw Time Too Long\n",
      "\n"
     ]
    },
    {
     "data": {
      "text/html": [
       "<iframe id=\"igraph\" scrolling=\"no\" style=\"border:none;\" seamless=\"seamless\" src=\"https://plot.ly/~Diksha_Gabha/2962.embed\" height=\"1000px\" width=\"100%\"></iframe>"
      ],
      "text/plain": [
       "<plotly.tools.PlotlyDisplay object>"
      ]
     },
     "execution_count": 7,
     "metadata": {},
     "output_type": "execute_result"
    }
   ],
   "source": [
    "py.iplot(fig)"
   ]
  },
  {
   "cell_type": "markdown",
   "metadata": {},
   "source": [
    "###  Display the distorted image"
   ]
  },
  {
   "cell_type": "code",
   "execution_count": 8,
   "metadata": {
    "collapsed": true
   },
   "outputs": [],
   "source": [
    "def show_with_diff(image, reference, title):\n",
    "    \"\"\"Helper function to display denoising\"\"\"\n",
    "    \n",
    "    trace1 = go.Heatmap(z=image, \n",
    "                        showscale=False,\n",
    "                        colorscale=matplotlib_to_plotly(plt.cm.gray, 20),\n",
    "                       )\n",
    "    \n",
    "    difference = image - reference\n",
    "    fig = tools.make_subplots(rows=1, cols=2,\n",
    "                              print_grid=False,\n",
    "                              subplot_titles=('Image',\n",
    "                                              'Difference (norm: %.2f)' % np.sqrt(np.sum(difference ** 2)))\n",
    "                             )\n",
    "    \n",
    "    trace2 = go.Heatmap(z=difference, \n",
    "                        showscale=False,\n",
    "                        colorscale=matplotlib_to_plotly(plt.cm.Blues, 10),\n",
    "                       )\n",
    "    fig.append_trace(trace1, 1, 1)\n",
    "    fig.append_trace(trace2, 1, 2)\n",
    "    \n",
    "    for i in map(str, range(1,3)):\n",
    "        y = 'yaxis' + i\n",
    "        x = 'xaxis' + i\n",
    "        fig['layout'][y].update(autorange='reversed',\n",
    "                                showticklabels=False, ticks='')\n",
    "        fig['layout'][x].update(showticklabels=False, ticks='')\n",
    "    \n",
    "    fig['layout'].update(title=title)\n",
    "    return fig"
   ]
  },
  {
   "cell_type": "code",
   "execution_count": 9,
   "metadata": {
    "collapsed": false
   },
   "outputs": [
    {
     "name": "stdout",
     "output_type": "stream",
     "text": [
      "The draw time for this plot will be slow for all clients.\n"
     ]
    },
    {
     "data": {
      "text/html": [
       "<iframe id=\"igraph\" scrolling=\"no\" style=\"border:none;\" seamless=\"seamless\" src=\"https://plot.ly/~Diksha_Gabha/2964.embed\" height=\"525px\" width=\"100%\"></iframe>"
      ],
      "text/plain": [
       "<plotly.tools.PlotlyDisplay object>"
      ]
     },
     "execution_count": 9,
     "metadata": {},
     "output_type": "execute_result"
    }
   ],
   "source": [
    "py.iplot(show_with_diff(distorted, face, 'Distorted image'))"
   ]
  },
  {
   "cell_type": "markdown",
   "metadata": {},
   "source": [
    "Extract noisy patches and reconstruct them using the dictionary"
   ]
  },
  {
   "cell_type": "code",
   "execution_count": 10,
   "metadata": {
    "collapsed": false
   },
   "outputs": [
    {
     "name": "stdout",
     "output_type": "stream",
     "text": [
      "Extracting noisy patches... \n",
      "done in 0.10s.\n"
     ]
    }
   ],
   "source": [
    "print('Extracting noisy patches... ')\n",
    "t0 = time()\n",
    "data = extract_patches_2d(distorted[:, width // 2:], patch_size)\n",
    "data = data.reshape(data.shape[0], -1)\n",
    "intercept = np.mean(data, axis=0)\n",
    "data = data - intercept\n",
    "print('done in %.2fs.' % (time() - t0))"
   ]
  },
  {
   "cell_type": "code",
   "execution_count": 11,
   "metadata": {
    "collapsed": false
   },
   "outputs": [
    {
     "name": "stdout",
     "output_type": "stream",
     "text": [
      "Orthogonal Matching Pursuit<br>1 atom...\n",
      "done in 20.44s.\n",
      "Orthogonal Matching Pursuit<br>2 atoms...\n",
      "done in 40.17s.\n",
      "Least-angle regression<br>5 atoms...\n",
      "done in 220.06s.\n",
      "Thresholding<br> alpha=0.1...\n",
      "done in 2.02s.\n"
     ]
    }
   ],
   "source": [
    "transform_algorithms = [\n",
    "            ('Orthogonal Matching Pursuit<br>1 atom', 'omp',\n",
    "             {'transform_n_nonzero_coefs': 1}),\n",
    "            ('Orthogonal Matching Pursuit<br>2 atoms', 'omp',\n",
    "             {'transform_n_nonzero_coefs': 2}),\n",
    "            ('Least-angle regression<br>5 atoms', 'lars',\n",
    "             {'transform_n_nonzero_coefs': 5}),\n",
    "            ('Thresholding<br> alpha=0.1', 'threshold', {'transform_alpha': .1})\n",
    "            ]\n",
    "\n",
    "reconstructions = {}\n",
    "plot = []\n",
    "\n",
    "for title, transform_algorithm, kwargs in transform_algorithms:\n",
    "    print(title + '...')\n",
    "    reconstructions[title] = face.copy()\n",
    "    t0 = time()\n",
    "    dico.set_params(transform_algorithm=transform_algorithm, **kwargs)\n",
    "    code = dico.transform(data)\n",
    "    patches = np.dot(code, V)\n",
    "\n",
    "    patches += intercept\n",
    "    patches = patches.reshape(len(data), *patch_size)\n",
    "    if transform_algorithm == 'threshold':\n",
    "        patches -= patches.min()\n",
    "        patches /= patches.max()\n",
    "    reconstructions[title][:, width // 2:] = reconstruct_from_patches_2d(\n",
    "        patches, (height, width // 2))\n",
    "    dt = time() - t0\n",
    "    print('done in %.2fs.' % dt)\n",
    "    \n",
    "    plot.append(show_with_diff(reconstructions[title], face,\n",
    "                               title + ' (time: %.1fs)' % dt))\n"
   ]
  },
  {
   "cell_type": "markdown",
   "metadata": {},
   "source": [
    "### Orthogonal Matching Pursuit 1 atom"
   ]
  },
  {
   "cell_type": "code",
   "execution_count": 12,
   "metadata": {
    "collapsed": false
   },
   "outputs": [
    {
     "name": "stdout",
     "output_type": "stream",
     "text": [
      "The draw time for this plot will be slow for all clients.\n"
     ]
    },
    {
     "data": {
      "text/html": [
       "<iframe id=\"igraph\" scrolling=\"no\" style=\"border:none;\" seamless=\"seamless\" src=\"https://plot.ly/~Diksha_Gabha/2966.embed\" height=\"525px\" width=\"100%\"></iframe>"
      ],
      "text/plain": [
       "<plotly.tools.PlotlyDisplay object>"
      ]
     },
     "execution_count": 12,
     "metadata": {},
     "output_type": "execute_result"
    }
   ],
   "source": [
    "py.iplot(plot[0])"
   ]
  },
  {
   "cell_type": "markdown",
   "metadata": {},
   "source": [
    "### Orthogonal Matching Pursuit 2 atoms"
   ]
  },
  {
   "cell_type": "code",
   "execution_count": 13,
   "metadata": {
    "collapsed": false
   },
   "outputs": [
    {
     "name": "stdout",
     "output_type": "stream",
     "text": [
      "The draw time for this plot will be slow for all clients.\n"
     ]
    },
    {
     "data": {
      "text/html": [
       "<iframe id=\"igraph\" scrolling=\"no\" style=\"border:none;\" seamless=\"seamless\" src=\"https://plot.ly/~Diksha_Gabha/2968.embed\" height=\"525px\" width=\"100%\"></iframe>"
      ],
      "text/plain": [
       "<plotly.tools.PlotlyDisplay object>"
      ]
     },
     "execution_count": 13,
     "metadata": {},
     "output_type": "execute_result"
    }
   ],
   "source": [
    "py.iplot(plot[1])"
   ]
  },
  {
   "cell_type": "markdown",
   "metadata": {},
   "source": [
    "### Least-angle regression 5 atoms"
   ]
  },
  {
   "cell_type": "code",
   "execution_count": 14,
   "metadata": {
    "collapsed": false
   },
   "outputs": [
    {
     "name": "stdout",
     "output_type": "stream",
     "text": [
      "The draw time for this plot will be slow for all clients.\n"
     ]
    },
    {
     "data": {
      "text/html": [
       "<iframe id=\"igraph\" scrolling=\"no\" style=\"border:none;\" seamless=\"seamless\" src=\"https://plot.ly/~Diksha_Gabha/2970.embed\" height=\"525px\" width=\"100%\"></iframe>"
      ],
      "text/plain": [
       "<plotly.tools.PlotlyDisplay object>"
      ]
     },
     "execution_count": 14,
     "metadata": {},
     "output_type": "execute_result"
    }
   ],
   "source": [
    "py.iplot(plot[2])"
   ]
  },
  {
   "cell_type": "markdown",
   "metadata": {},
   "source": [
    "### Thresholding alpha=0.1"
   ]
  },
  {
   "cell_type": "code",
   "execution_count": 15,
   "metadata": {
    "collapsed": false
   },
   "outputs": [
    {
     "name": "stdout",
     "output_type": "stream",
     "text": [
      "The draw time for this plot will be slow for all clients.\n"
     ]
    },
    {
     "data": {
      "text/html": [
       "<iframe id=\"igraph\" scrolling=\"no\" style=\"border:none;\" seamless=\"seamless\" src=\"https://plot.ly/~Diksha_Gabha/2972.embed\" height=\"525px\" width=\"100%\"></iframe>"
      ],
      "text/plain": [
       "<plotly.tools.PlotlyDisplay object>"
      ]
     },
     "execution_count": 15,
     "metadata": {},
     "output_type": "execute_result"
    }
   ],
   "source": [
    "py.iplot(plot[3])"
   ]
  },
  {
   "cell_type": "code",
   "execution_count": 3,
   "metadata": {
    "collapsed": false
   },
   "outputs": [
    {
     "data": {
      "text/html": [
       "<link href=\"//fonts.googleapis.com/css?family=Open+Sans:600,400,300,200|Inconsolata|Ubuntu+Mono:400,700\" rel=\"stylesheet\" type=\"text/css\" />"
      ],
      "text/plain": [
       "<IPython.core.display.HTML object>"
      ]
     },
     "metadata": {},
     "output_type": "display_data"
    },
    {
     "data": {
      "text/html": [
       "<link rel=\"stylesheet\" type=\"text/css\" href=\"http://help.plot.ly/documentation/all_static/css/ipython-notebook-custom.css\">"
      ],
      "text/plain": [
       "<IPython.core.display.HTML object>"
      ]
     },
     "metadata": {},
     "output_type": "display_data"
    },
    {
     "name": "stdout",
     "output_type": "stream",
     "text": [
      "Collecting git+https://github.com/plotly/publisher.git\n",
      "  Cloning https://github.com/plotly/publisher.git to /tmp/pip-VFpy_U-build\n",
      "Installing collected packages: publisher\n",
      "  Running setup.py install for publisher ... \u001b[?25l-\b \berror\n",
      "    Complete output from command /usr/bin/python -u -c \"import setuptools, tokenize;__file__='/tmp/pip-VFpy_U-build/setup.py';exec(compile(getattr(tokenize, 'open', open)(__file__).read().replace('\\r\\n', '\\n'), __file__, 'exec'))\" install --record /tmp/pip-BBskGN-record/install-record.txt --single-version-externally-managed --compile:\n",
      "    running install\n",
      "    running build\n",
      "    running build_py\n",
      "    creating build\n",
      "    creating build/lib.linux-x86_64-2.7\n",
      "    creating build/lib.linux-x86_64-2.7/publisher\n",
      "    copying publisher/publisher.py -> build/lib.linux-x86_64-2.7/publisher\n",
      "    copying publisher/__init__.py -> build/lib.linux-x86_64-2.7/publisher\n",
      "    running install_lib\n",
      "    creating /usr/local/lib/python2.7/dist-packages/publisher\n",
      "    error: could not create '/usr/local/lib/python2.7/dist-packages/publisher': Permission denied\n",
      "    \n",
      "    ----------------------------------------\n",
      "\u001b[31mCommand \"/usr/bin/python -u -c \"import setuptools, tokenize;__file__='/tmp/pip-VFpy_U-build/setup.py';exec(compile(getattr(tokenize, 'open', open)(__file__).read().replace('\\r\\n', '\\n'), __file__, 'exec'))\" install --record /tmp/pip-BBskGN-record/install-record.txt --single-version-externally-managed --compile\" failed with error code 1 in /tmp/pip-VFpy_U-build/\u001b[0m\n",
      "\u001b[33mYou are using pip version 8.1.2, however version 9.0.1 is available.\n",
      "You should consider upgrading via the 'pip install --upgrade pip' command.\u001b[0m\n",
      "\u001b[?25h"
     ]
    }
   ],
   "source": [
    "from IPython.display import display, HTML\n",
    "\n",
    "display(HTML('<link href=\"//fonts.googleapis.com/css?family=Open+Sans:600,400,300,200|Inconsolata|Ubuntu+Mono:400,700\" rel=\"stylesheet\" type=\"text/css\" />'))\n",
    "display(HTML('<link rel=\"stylesheet\" type=\"text/css\" href=\"http://help.plot.ly/documentation/all_static/css/ipython-notebook-custom.css\">'))\n",
    "\n",
    "! pip install git+https://github.com/plotly/publisher.git --upgrade\n",
    "import publisher\n",
    "publisher.publish(\n",
    "    'Image-denoising-using-dictionary-learning.ipynb', 'scikit-learn/plot-image-denoising/', 'Image Denoising using Dictionary Learning | plotly',\n",
    "    ' ',\n",
    "    title = 'Image Denoising using Dictionary Learning  | plotly',\n",
    "    name = 'Image Denoising using Dictionary Learning ',\n",
    "    has_thumbnail='true', thumbnail='thumbnail/racoon.jpg', \n",
    "    language='scikit-learn', page_type='example_index',\n",
    "    display_as='decomposition', order=11,\n",
    "    ipynb= '~Diksha_Gabha/2974')"
   ]
  },
  {
   "cell_type": "code",
   "execution_count": null,
   "metadata": {
    "collapsed": true
   },
   "outputs": [],
   "source": []
  }
 ],
 "metadata": {
  "kernelspec": {
   "display_name": "Python 2",
   "language": "python",
   "name": "python2"
  },
  "language_info": {
   "codemirror_mode": {
    "name": "ipython",
    "version": 2
   },
   "file_extension": ".py",
   "mimetype": "text/x-python",
   "name": "python",
   "nbconvert_exporter": "python",
   "pygments_lexer": "ipython2",
   "version": "2.7.11"
  }
 },
 "nbformat": 4,
 "nbformat_minor": 0
}
