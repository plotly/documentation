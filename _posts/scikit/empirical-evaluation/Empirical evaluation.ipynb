{
 "cells": [
  {
   "cell_type": "markdown",
   "metadata": {},
   "source": [
    "Evaluate the ability of k-means initializations strategies to make the algorithm convergence robust as measured by the relative standard deviation of the inertia of the clustering (i.e. the sum of distances to the nearest cluster center).\n",
    "\n",
    "The first plot shows the best inertia reached for each combination of the model (`KMeans` or `MiniBatchKMeans`) and the init method (`init=\"random\"` or `init=\"kmeans++\"`) for increasing values of the `n_init` parameter that controls the number of initializations.\n",
    "\n",
    "The second plot demonstrate one single run of the MiniBatchKMeans estimator using a `init=\"random\"` and `n_init=1`. This run leads to a bad convergence (local optimum) with estimated centers stuck between ground truth clusters.\n",
    "\n",
    "The dataset used for evaluation is a 2D grid of isotropic Gaussian clusters widely spaced."
   ]
  },
  {
   "cell_type": "markdown",
   "metadata": {},
   "source": [
    "#### New to Plotly?\n",
    "Plotly's Python library is free and open source! [Get started](https://plot.ly/python/getting-started/) by downloading the client and [reading the primer](https://plot.ly/python/getting-started/).\n",
    "<br>You can set up Plotly to work in [online](https://plot.ly/python/getting-started/#initialization-for-online-plotting) or [offline](https://plot.ly/python/getting-started/#initialization-for-offline-plotting) mode, or in [jupyter notebooks](https://plot.ly/python/getting-started/#start-plotting-online).\n",
    "<br>We also have a quick-reference [cheatsheet](https://images.plot.ly/plotly-documentation/images/python_cheat_sheet.pdf) (new!) to help you get started!"
   ]
  },
  {
   "cell_type": "markdown",
   "metadata": {},
   "source": [
    "### Version"
   ]
  },
  {
   "cell_type": "code",
   "execution_count": 1,
   "metadata": {
    "collapsed": false
   },
   "outputs": [
    {
     "data": {
      "text/plain": [
       "'0.18'"
      ]
     },
     "execution_count": 1,
     "metadata": {},
     "output_type": "execute_result"
    }
   ],
   "source": [
    "import sklearn\n",
    "sklearn.__version__"
   ]
  },
  {
   "cell_type": "markdown",
   "metadata": {},
   "source": [
    "### Imports"
   ]
  },
  {
   "cell_type": "markdown",
   "metadata": {},
   "source": [
    "This tutorial imports [shuffle](http://scikit-learn.org/stable/modules/generated/sklearn.utils.shuffle.html#sklearn.utils.shuffle), [check_random_state](http://scikit-learn.org/stable/modules/generated/sklearn.utils.check_random_state.html#sklearn.utils.check_random_state), [MiniBatchKMeans](http://scikit-learn.org/stable/modules/generated/sklearn.cluster.MiniBatchKMeans.html#sklearn.cluster.MiniBatchKMeans) and [KMeans](http://scikit-learn.org/stable/modules/generated/sklearn.cluster.KMeans.html#sklearn.cluster.KMeans)."
   ]
  },
  {
   "cell_type": "code",
   "execution_count": 2,
   "metadata": {
    "collapsed": true
   },
   "outputs": [],
   "source": [
    "import plotly.plotly as py\n",
    "import plotly.graph_objs as go\n",
    "\n",
    "import numpy as np\n",
    "import matplotlib.pyplot as plt\n",
    "import matplotlib.cm as cm\n",
    "import matplotlib\n",
    "\n",
    "from sklearn.utils import shuffle\n",
    "from sklearn.utils import check_random_state\n",
    "from sklearn.cluster import MiniBatchKMeans\n",
    "from sklearn.cluster import KMeans"
   ]
  },
  {
   "cell_type": "markdown",
   "metadata": {},
   "source": [
    "### Calculations"
   ]
  },
  {
   "cell_type": "code",
   "execution_count": 3,
   "metadata": {
    "collapsed": true
   },
   "outputs": [],
   "source": [
    "random_state = np.random.RandomState(0)\n",
    "\n",
    "# Number of run (with randomly generated dataset) for each strategy so as\n",
    "# to be able to compute an estimate of the standard deviation\n",
    "n_runs = 5\n",
    "\n",
    "# k-means models can do several random inits so as to be able to trade\n",
    "# CPU time for convergence robustness\n",
    "n_init_range = np.array([1, 5, 10, 15, 20])\n",
    "\n",
    "# Datasets generation parameters\n",
    "n_samples_per_center = 100\n",
    "grid_size = 3\n",
    "scale = 0.1\n",
    "n_clusters = grid_size ** 2\n",
    "\n",
    "\n",
    "def make_data(random_state, n_samples_per_center, grid_size, scale):\n",
    "    random_state = check_random_state(random_state)\n",
    "    centers = np.array([[i, j]\n",
    "                        for i in range(grid_size)\n",
    "                        for j in range(grid_size)])\n",
    "    n_clusters_true, n_features = centers.shape\n",
    "\n",
    "    noise = random_state.normal(\n",
    "        scale=scale, size=(n_samples_per_center, centers.shape[1]))\n",
    "\n",
    "    X = np.concatenate([c + noise for c in centers])\n",
    "    y = np.concatenate([[i] * n_samples_per_center\n",
    "                        for i in range(n_clusters_true)])\n",
    "    return shuffle(X, y, random_state=random_state)\n"
   ]
  },
  {
   "cell_type": "markdown",
   "metadata": {},
   "source": [
    "### Quantitative evaluation of various init methods"
   ]
  },
  {
   "cell_type": "code",
   "execution_count": 4,
   "metadata": {
    "collapsed": false
   },
   "outputs": [
    {
     "name": "stdout",
     "output_type": "stream",
     "text": [
      "Evaluation of KMeans with k-means++ init\n",
      "Evaluation of KMeans with random init\n",
      "Evaluation of MiniBatchKMeans with k-means++ init\n",
      "Evaluation of MiniBatchKMeans with random init\n"
     ]
    }
   ],
   "source": [
    "fig = plt.figure()\n",
    "plots = []\n",
    "legends = []\n",
    "\n",
    "cases = [\n",
    "    (KMeans, 'k-means++', {}),\n",
    "    (KMeans, 'random', {}),\n",
    "    (MiniBatchKMeans, 'k-means++', {'max_no_improvement': 3}),\n",
    "    (MiniBatchKMeans, 'random', {'max_no_improvement': 3, 'init_size': 500}),\n",
    "]\n",
    "\n",
    "for factory, init, params in cases:\n",
    "    print(\"Evaluation of %s with %s init\" % (factory.__name__, init))\n",
    "    inertia = np.empty((len(n_init_range), n_runs))\n",
    "\n",
    "    for run_id in range(n_runs):\n",
    "        X, y = make_data(run_id, n_samples_per_center, grid_size, scale)\n",
    "        for i, n_init in enumerate(n_init_range):\n",
    "            km = factory(n_clusters=n_clusters, init=init, random_state=run_id,\n",
    "                         n_init=n_init, **params).fit(X)\n",
    "            inertia[i, run_id] = km.inertia_\n",
    "    p = go.Scatter(y=inertia.mean(axis=1),\n",
    "                   x=n_init_range,\n",
    "                   name=\"%s with %s init\" % (factory.__name__, init),\n",
    "                   error_y=dict(visible=True, arrayminus=inertia.std(axis=1)),\n",
    "                   line=dict(width=1))\n",
    "    plots.append(p)\n",
    "\n",
    "layout=go.Layout(title = \"Mean inertia for various k-means init across %d runs\" % n_runs,\n",
    "                 hovermode='closest',\n",
    "                 xaxis = dict(title='n_init'),\n",
    "                 yaxis = dict(title='inertia'))\n",
    "\n",
    "fig = go.Figure(data=plots, layout=layout)"
   ]
  },
  {
   "cell_type": "code",
   "execution_count": 5,
   "metadata": {
    "collapsed": false
   },
   "outputs": [
    {
     "data": {
      "text/html": [
       "<iframe id=\"igraph\" scrolling=\"no\" style=\"border:none;\" seamless=\"seamless\" src=\"https://plot.ly/~Diksha_Gabha/2819.embed\" height=\"525px\" width=\"100%\"></iframe>"
      ],
      "text/plain": [
       "<plotly.tools.PlotlyDisplay object>"
      ]
     },
     "execution_count": 5,
     "metadata": {},
     "output_type": "execute_result"
    }
   ],
   "source": [
    "py.iplot(fig)"
   ]
  },
  {
   "cell_type": "markdown",
   "metadata": {},
   "source": [
    "### Qualitative visual inspection of the convergence"
   ]
  },
  {
   "cell_type": "code",
   "execution_count": 6,
   "metadata": {
    "collapsed": false
   },
   "outputs": [],
   "source": [
    "X, y = make_data(random_state, n_samples_per_center, grid_size, scale)\n",
    "km = MiniBatchKMeans(n_clusters=n_clusters, init='random', n_init=1,\n",
    "                     random_state=random_state).fit(X)\n",
    "plot=[]\n",
    "\n",
    "for k in range(n_clusters):\n",
    "    my_members = km.labels_ == k\n",
    "    c = matplotlib.colors.colorConverter.to_rgb(cm.spectral(float(k) / n_clusters, 1))\n",
    "    c ='rgb'+str(c)\n",
    "    cluster = go.Scatter(x=X[my_members, 0], y=X[my_members, 1],\n",
    "                         showlegend=False,\n",
    "                         mode='markers', marker=dict(color=c, size=4,\n",
    "                                           line=dict(color='black', width=1)))\n",
    "    center = km.cluster_centers_[k]\n",
    "    \n",
    "    cluster_center = go.Scatter(x=[center[0]],y=[center[1]],\n",
    "                                showlegend=False,\n",
    "                                mode='markers', marker=dict(color=c, size=10,\n",
    "                                         line=dict(color='black', width=1)))\n",
    "    plot.append(cluster)\n",
    "    plot.append(cluster_center)\n",
    "\n",
    "layout = go.Layout(title=\"Example cluster allocation with a single random init<br>\"\n",
    "                          \"with MiniBatchKMeans\",\n",
    "                   hovermode='closest',\n",
    "                   xaxis=dict(zeroline = False),\n",
    "                   yaxis=dict(zeroline = False))\n",
    "\n",
    "fig = go.Figure(data=plot, layout=layout)"
   ]
  },
  {
   "cell_type": "code",
   "execution_count": 7,
   "metadata": {
    "collapsed": false
   },
   "outputs": [
    {
     "data": {
      "text/html": [
       "<iframe id=\"igraph\" scrolling=\"no\" style=\"border:none;\" seamless=\"seamless\" src=\"https://plot.ly/~Diksha_Gabha/2821.embed\" height=\"525px\" width=\"100%\"></iframe>"
      ],
      "text/plain": [
       "<plotly.tools.PlotlyDisplay object>"
      ]
     },
     "execution_count": 7,
     "metadata": {},
     "output_type": "execute_result"
    }
   ],
   "source": [
    "py.iplot(fig)"
   ]
  },
  {
   "cell_type": "markdown",
   "metadata": {},
   "source": [
    "### License\n",
    "\n",
    "Author: \n",
    "\n",
    "        Olivier Grisel <olivier.grisel@ensta.org>\n",
    "        \n",
    "License: \n",
    "\n",
    "        BSD 3 clause"
   ]
  },
  {
   "cell_type": "code",
   "execution_count": 2,
   "metadata": {
    "collapsed": false
   },
   "outputs": [
    {
     "data": {
      "text/html": [
       "<link href=\"//fonts.googleapis.com/css?family=Open+Sans:600,400,300,200|Inconsolata|Ubuntu+Mono:400,700\" rel=\"stylesheet\" type=\"text/css\" />"
      ],
      "text/plain": [
       "<IPython.core.display.HTML object>"
      ]
     },
     "metadata": {},
     "output_type": "display_data"
    },
    {
     "data": {
      "text/html": [
       "<link rel=\"stylesheet\" type=\"text/css\" href=\"http://help.plot.ly/documentation/all_static/css/ipython-notebook-custom.css\">"
      ],
      "text/plain": [
       "<IPython.core.display.HTML object>"
      ]
     },
     "metadata": {},
     "output_type": "display_data"
    },
    {
     "name": "stdout",
     "output_type": "stream",
     "text": [
      "Collecting git+https://github.com/plotly/publisher.git\n",
      "  Cloning https://github.com/plotly/publisher.git to /tmp/pip-iYYYnf-build\n",
      "Installing collected packages: publisher\n",
      "  Running setup.py install for publisher ... \u001b[?25l-\b \berror\n",
      "    Complete output from command /usr/bin/python -u -c \"import setuptools, tokenize;__file__='/tmp/pip-iYYYnf-build/setup.py';exec(compile(getattr(tokenize, 'open', open)(__file__).read().replace('\\r\\n', '\\n'), __file__, 'exec'))\" install --record /tmp/pip-ok6ZyQ-record/install-record.txt --single-version-externally-managed --compile:\n",
      "    running install\n",
      "    running build\n",
      "    running build_py\n",
      "    creating build\n",
      "    creating build/lib.linux-x86_64-2.7\n",
      "    creating build/lib.linux-x86_64-2.7/publisher\n",
      "    copying publisher/publisher.py -> build/lib.linux-x86_64-2.7/publisher\n",
      "    copying publisher/__init__.py -> build/lib.linux-x86_64-2.7/publisher\n",
      "    running install_lib\n",
      "    creating /usr/local/lib/python2.7/dist-packages/publisher\n",
      "    error: could not create '/usr/local/lib/python2.7/dist-packages/publisher': Permission denied\n",
      "    \n",
      "    ----------------------------------------\n",
      "\u001b[31mCommand \"/usr/bin/python -u -c \"import setuptools, tokenize;__file__='/tmp/pip-iYYYnf-build/setup.py';exec(compile(getattr(tokenize, 'open', open)(__file__).read().replace('\\r\\n', '\\n'), __file__, 'exec'))\" install --record /tmp/pip-ok6ZyQ-record/install-record.txt --single-version-externally-managed --compile\" failed with error code 1 in /tmp/pip-iYYYnf-build/\u001b[0m\n",
      "\u001b[33mYou are using pip version 8.1.2, however version 9.0.1 is available.\n",
      "You should consider upgrading via the 'pip install --upgrade pip' command.\u001b[0m\n",
      "\u001b[?25h"
     ]
    }
   ],
   "source": [
    "from IPython.display import display, HTML\n",
    "\n",
    "display(HTML('<link href=\"//fonts.googleapis.com/css?family=Open+Sans:600,400,300,200|Inconsolata|Ubuntu+Mono:400,700\" rel=\"stylesheet\" type=\"text/css\" />'))\n",
    "display(HTML('<link rel=\"stylesheet\" type=\"text/css\" href=\"http://help.plot.ly/documentation/all_static/css/ipython-notebook-custom.css\">'))\n",
    "\n",
    "! pip install git+https://github.com/plotly/publisher.git --upgrade\n",
    "import publisher\n",
    "publisher.publish(\n",
    "    'Empirical evaluation.ipynb', 'scikit-learn/plot-kmeans-stability-low-dim-dense/', 'Empirical evaluation of the impact of k-means initialization| plotly',\n",
    "    ' ',\n",
    "    title = 'Empirical evaluation of the impact of k-means initialization | plotly',\n",
    "    name = 'Empirical evaluation of the impact of k-means initialization',\n",
    "    has_thumbnail='true', thumbnail='thumbnail/empirical-evaluation.jpg', \n",
    "    language='scikit-learn', page_type='example_index',\n",
    "    display_as='clustering', order=15,\n",
    "    ipynb= '~Diksha_Gabha/2826')"
   ]
  },
  {
   "cell_type": "code",
   "execution_count": null,
   "metadata": {
    "collapsed": true
   },
   "outputs": [],
   "source": []
  }
 ],
 "metadata": {
  "kernelspec": {
   "display_name": "Python 2",
   "language": "python",
   "name": "python2"
  },
  "language_info": {
   "codemirror_mode": {
    "name": "ipython",
    "version": 2
   },
   "file_extension": ".py",
   "mimetype": "text/x-python",
   "name": "python",
   "nbconvert_exporter": "python",
   "pygments_lexer": "ipython2",
   "version": "2.7.11"
  }
 },
 "nbformat": 4,
 "nbformat_minor": 0
}
