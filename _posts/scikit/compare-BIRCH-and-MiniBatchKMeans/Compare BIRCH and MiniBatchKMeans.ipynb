{
 "cells": [
  {
   "cell_type": "markdown",
   "metadata": {},
   "source": [
    "This example compares the timing of Birch (with and without the global clustering step) and MiniBatchKMeans on a synthetic dataset having 100,000 samples and 2 features generated using make_blobs.\n",
    "\n",
    "If `n_clusters` is set to None, the data is reduced from 100,000 samples to a set of 158 clusters. This can be viewed as a preprocessing step before the final (global) clustering step that further reduces these 158 clusters to 100 clusters."
   ]
  },
  {
   "cell_type": "markdown",
   "metadata": {},
   "source": [
    "#### New to Plotly?\n",
    "Plotly's Python library is free and open source! [Get started](https://plot.ly/python/getting-started/) by downloading the client and [reading the primer](https://plot.ly/python/getting-started/).\n",
    "<br>You can set up Plotly to work in [online](https://plot.ly/python/getting-started/#initialization-for-online-plotting) or [offline](https://plot.ly/python/getting-started/#initialization-for-offline-plotting) mode, or in [jupyter notebooks](https://plot.ly/python/getting-started/#start-plotting-online).\n",
    "<br>We also have a quick-reference [cheatsheet](https://images.plot.ly/plotly-documentation/images/python_cheat_sheet.pdf) (new!) to help you get started!"
   ]
  },
  {
   "cell_type": "markdown",
   "metadata": {},
   "source": [
    "### Version"
   ]
  },
  {
   "cell_type": "code",
   "execution_count": 1,
   "metadata": {
    "collapsed": false
   },
   "outputs": [
    {
     "data": {
      "text/plain": [
       "'0.18'"
      ]
     },
     "execution_count": 1,
     "metadata": {},
     "output_type": "execute_result"
    }
   ],
   "source": [
    "import sklearn\n",
    "sklearn.__version__"
   ]
  },
  {
   "cell_type": "markdown",
   "metadata": {},
   "source": [
    "### Imports"
   ]
  },
  {
   "cell_type": "markdown",
   "metadata": {},
   "source": [
    "This tutorial imports [Birch](http://scikit-learn.org/stable/modules/generated/sklearn.cluster.Birch.html#sklearn.cluster.Birch), [MiniBatchKMeans](http://scikit-learn.org/stable/modules/generated/sklearn.cluster.MiniBatchKMeans.html#sklearn.cluster.MiniBatchKMeans) and [make_blobs](http://scikit-learn.org/stable/modules/generated/sklearn.datasets.make_blobs.html#sklearn.datasets.make_blobs)."
   ]
  },
  {
   "cell_type": "code",
   "execution_count": 2,
   "metadata": {
    "collapsed": false
   },
   "outputs": [
    {
     "name": "stdout",
     "output_type": "stream",
     "text": [
      "Automatically created module for IPython interactive environment\n"
     ]
    }
   ],
   "source": [
    "print(__doc__)\n",
    "\n",
    "import plotly.plotly as py\n",
    "import plotly.graph_objs as go\n",
    "from plotly import tools\n",
    "\n",
    "from itertools import cycle\n",
    "from time import time\n",
    "import numpy as np\n",
    "import matplotlib.pyplot as plt\n",
    "import matplotlib.colors as colors\n",
    "\n",
    "from sklearn.preprocessing import StandardScaler\n",
    "from sklearn.cluster import Birch, MiniBatchKMeans\n",
    "from sklearn.datasets.samples_generator import make_blobs\n"
   ]
  },
  {
   "cell_type": "markdown",
   "metadata": {},
   "source": [
    "### Calculations"
   ]
  },
  {
   "cell_type": "code",
   "execution_count": 3,
   "metadata": {
    "collapsed": true
   },
   "outputs": [],
   "source": [
    "# Generate centers for the blobs so that it forms a 10 X 10 grid.\n",
    "xx = np.linspace(-22, 22, 10)\n",
    "yy = np.linspace(-22, 22, 10)\n",
    "xx, yy = np.meshgrid(xx, yy)\n",
    "n_centres = np.hstack((np.ravel(xx)[:, np.newaxis],\n",
    "                       np.ravel(yy)[:, np.newaxis]))\n",
    "\n",
    "# Generate blobs to do a comparison between MiniBatchKMeans and Birch.\n",
    "X, y = make_blobs(n_samples=100000, centers=n_centres, random_state=0)\n",
    "\n",
    "\n",
    "# Use all colors that matplotlib provides by default.\n",
    "colors_ = cycle(colors.cnames.keys())\n",
    "birch_models = [Birch(threshold=1.7, n_clusters=None),\n",
    "                Birch(threshold=1.7, n_clusters=100)]\n",
    "final_step = ['without global clustering', 'with global clustering']\n"
   ]
  },
  {
   "cell_type": "code",
   "execution_count": 4,
   "metadata": {
    "collapsed": false
   },
   "outputs": [
    {
     "name": "stdout",
     "output_type": "stream",
     "text": [
      "This is the format of your plot grid:\n",
      "[ (1,1) x1,y1 ]  [ (1,2) x2,y2 ]  [ (1,3) x3,y3 ]\n",
      "\n"
     ]
    }
   ],
   "source": [
    "fig = tools.make_subplots(rows=1, cols=3,\n",
    "                          subplot_titles=('BIRCH without global clustering',\n",
    "                                          'BIRCH with global clustering',\n",
    "                                          'MiniBatchKMeans'))\n"
   ]
  },
  {
   "cell_type": "markdown",
   "metadata": {},
   "source": [
    "### Compute clustering with BIRCH"
   ]
  },
  {
   "cell_type": "code",
   "execution_count": 5,
   "metadata": {
    "collapsed": false
   },
   "outputs": [
    {
     "name": "stdout",
     "output_type": "stream",
     "text": [
      "Birch without global clustering as the final step took 2.49 seconds\n",
      "n_clusters : 158\n",
      "Birch with global clustering as the final step took 2.30 seconds\n",
      "n_clusters : 100\n"
     ]
    }
   ],
   "source": [
    "fignum = 1\n",
    "\n",
    "for ind, (birch_model, info) in enumerate(zip(birch_models, final_step)):\n",
    "    t = time()\n",
    "    birch_model.fit(X)\n",
    "    time_ = time() - t\n",
    "    print(\"Birch %s as the final step took %0.2f seconds\" % (\n",
    "          info, (time() - t)))\n",
    "\n",
    "    # Plot result\n",
    "    labels = birch_model.labels_\n",
    "    centroids = birch_model.subcluster_centers_\n",
    "    n_clusters = np.unique(labels).size\n",
    "    print(\"n_clusters : %d\" % n_clusters)\n",
    "    \n",
    "    \n",
    "    for this_centroid, k, col in zip(centroids, range(n_clusters), colors_):\n",
    "        mask = labels == k\n",
    "       \n",
    "        birch = go.Scattergl(x=X[mask, 0], y=X[mask, 1],\n",
    "                           showlegend=False,\n",
    "                           mode='markers', marker=dict(size=2,\n",
    "                                                       color=col))\n",
    "        fig.append_trace(birch, 1, fignum)\n",
    "        if birch_model.n_clusters is None:\n",
    "            center1 = go.Scatter(x=this_centroid[0], y=this_centroid[1],\n",
    "                                 showlegend=False,\n",
    "                                 mode='markers', marker=dict(color='black'))\n",
    "            fig.append_trace(center1, 1, fignum)\n",
    "        \n",
    "        \n",
    "    fignum+=1"
   ]
  },
  {
   "cell_type": "markdown",
   "metadata": {},
   "source": [
    "### Compute clustering with MiniBatchKMeans."
   ]
  },
  {
   "cell_type": "code",
   "execution_count": 6,
   "metadata": {
    "collapsed": false
   },
   "outputs": [
    {
     "name": "stdout",
     "output_type": "stream",
     "text": [
      "Time taken to run MiniBatchKMeans 3.11 seconds\n"
     ]
    }
   ],
   "source": [
    "mbk = MiniBatchKMeans(init='k-means++', n_clusters=100, batch_size=100,\n",
    "                      n_init=10, max_no_improvement=10, verbose=0,\n",
    "                      random_state=0)\n",
    "t0 = time()\n",
    "mbk.fit(X)\n",
    "t_mini_batch = time() - t0\n",
    "print(\"Time taken to run MiniBatchKMeans %0.2f seconds\" % t_mini_batch)\n",
    "mbk_means_labels_unique = np.unique(mbk.labels_)\n",
    "\n",
    "for this_centroid, k, col in zip(mbk.cluster_centers_,\n",
    "                                 range(n_clusters), colors_):\n",
    "    mask = mbk.labels_ == k\n",
    "    minibatchkmeans_ = go.Scattergl(x=X[mask, 0], y=X[mask, 1],\n",
    "                                  showlegend=False,\n",
    "                                  mode='markers', marker=dict(size=2,\n",
    "                                                              color=col))\n",
    "    center2 = go.Scatter(x=[this_centroid[0]], y=[this_centroid[1]],\n",
    "                         showlegend=False,\n",
    "                         mode='markers', marker=dict(color='black', size=6))\n",
    "    \n",
    "    fig.append_trace(minibatchkmeans_, 1, 3)\n",
    "    fig.append_trace(center2, 1, 3)\n",
    "   "
   ]
  },
  {
   "cell_type": "code",
   "execution_count": 7,
   "metadata": {
    "collapsed": false
   },
   "outputs": [
    {
     "data": {
      "text/html": [
       "<iframe id=\"igraph\" scrolling=\"no\" style=\"border:none;\" seamless=\"seamless\" src=\"https://plot.ly/~Diksha_Gabha/2829.embed\" height=\"900px\" width=\"900px\"></iframe>"
      ],
      "text/plain": [
       "<plotly.tools.PlotlyDisplay object>"
      ]
     },
     "execution_count": 7,
     "metadata": {},
     "output_type": "execute_result"
    }
   ],
   "source": [
    "for i in map(str, range(1, 4)):\n",
    "    x = 'xaxis' + i\n",
    "    y = 'yaxis' + i\n",
    "    fig['layout'][x].update(zeroline=False, showgrid=False,\n",
    "                            ticks='', showticklabels=False)\n",
    "    fig['layout'][y].update(zeroline=False, showgrid=False,\n",
    "                            ticks='', showticklabels=False)\n",
    "    \n",
    "\n",
    "fig['layout'].update(height=900, width=900,\n",
    "                     margin=dict(l=10, r=10))\n",
    "py.iplot(fig, validate=False)"
   ]
  },
  {
   "cell_type": "markdown",
   "metadata": {},
   "source": [
    "### License\n",
    "\n",
    "Authors: \n",
    "\n",
    "           Manoj Kumar <manojkumarsivaraj334@gmail.com\n",
    "          \n",
    "           Alexandre Gramfort <alexandre.gramfort@telecom-paristech.fr>\n",
    "           \n",
    "License: \n",
    "\n",
    "           BSD 3 clause"
   ]
  },
  {
   "cell_type": "code",
   "execution_count": 2,
   "metadata": {
    "collapsed": false
   },
   "outputs": [
    {
     "data": {
      "text/html": [
       "<link href=\"//fonts.googleapis.com/css?family=Open+Sans:600,400,300,200|Inconsolata|Ubuntu+Mono:400,700\" rel=\"stylesheet\" type=\"text/css\" />"
      ],
      "text/plain": [
       "<IPython.core.display.HTML object>"
      ]
     },
     "metadata": {},
     "output_type": "display_data"
    },
    {
     "data": {
      "text/html": [
       "<link rel=\"stylesheet\" type=\"text/css\" href=\"http://help.plot.ly/documentation/all_static/css/ipython-notebook-custom.css\">"
      ],
      "text/plain": [
       "<IPython.core.display.HTML object>"
      ]
     },
     "metadata": {},
     "output_type": "display_data"
    },
    {
     "name": "stdout",
     "output_type": "stream",
     "text": [
      "Collecting git+https://github.com/plotly/publisher.git\n",
      "  Cloning https://github.com/plotly/publisher.git to /tmp/pip-ecFZQa-build\n",
      "Installing collected packages: publisher\n",
      "  Running setup.py install for publisher ... \u001b[?25l-\b \berror\n",
      "    Complete output from command /usr/bin/python -u -c \"import setuptools, tokenize;__file__='/tmp/pip-ecFZQa-build/setup.py';exec(compile(getattr(tokenize, 'open', open)(__file__).read().replace('\\r\\n', '\\n'), __file__, 'exec'))\" install --record /tmp/pip-YRruyP-record/install-record.txt --single-version-externally-managed --compile:\n",
      "    running install\n",
      "    running build\n",
      "    running build_py\n",
      "    creating build\n",
      "    creating build/lib.linux-x86_64-2.7\n",
      "    creating build/lib.linux-x86_64-2.7/publisher\n",
      "    copying publisher/publisher.py -> build/lib.linux-x86_64-2.7/publisher\n",
      "    copying publisher/__init__.py -> build/lib.linux-x86_64-2.7/publisher\n",
      "    running install_lib\n",
      "    creating /usr/local/lib/python2.7/dist-packages/publisher\n",
      "    error: could not create '/usr/local/lib/python2.7/dist-packages/publisher': Permission denied\n",
      "    \n",
      "    ----------------------------------------\n",
      "\u001b[31mCommand \"/usr/bin/python -u -c \"import setuptools, tokenize;__file__='/tmp/pip-ecFZQa-build/setup.py';exec(compile(getattr(tokenize, 'open', open)(__file__).read().replace('\\r\\n', '\\n'), __file__, 'exec'))\" install --record /tmp/pip-YRruyP-record/install-record.txt --single-version-externally-managed --compile\" failed with error code 1 in /tmp/pip-ecFZQa-build/\u001b[0m\n",
      "\u001b[33mYou are using pip version 8.1.2, however version 9.0.1 is available.\n",
      "You should consider upgrading via the 'pip install --upgrade pip' command.\u001b[0m\n",
      "\u001b[?25h"
     ]
    }
   ],
   "source": [
    "from IPython.display import display, HTML\n",
    "\n",
    "display(HTML('<link href=\"//fonts.googleapis.com/css?family=Open+Sans:600,400,300,200|Inconsolata|Ubuntu+Mono:400,700\" rel=\"stylesheet\" type=\"text/css\" />'))\n",
    "display(HTML('<link rel=\"stylesheet\" type=\"text/css\" href=\"http://help.plot.ly/documentation/all_static/css/ipython-notebook-custom.css\">'))\n",
    "\n",
    "! pip install git+https://github.com/plotly/publisher.git --upgrade\n",
    "import publisher\n",
    "publisher.publish(\n",
    "    'Compare BIRCH and MiniBatchKMeans.ipynb', 'scikit-learn/plot-birch-vs-minibatchkmeans/', 'Compare BIRCH and MiniBatchKMeans | plotly',\n",
    "    ' ',\n",
    "    title = 'Compare BIRCH and MiniBatchKMeans | plotly',\n",
    "    name = 'Compare BIRCH and MiniBatchKMeans',\n",
    "    has_thumbnail='true', thumbnail='thumbnail/birch-vs-minibatchkmeans.jpg', \n",
    "    language='scikit-learn', page_type='example_index',\n",
    "    display_as='clustering', order=16,\n",
    "    ipynb= '~Diksha_Gabha/2831')"
   ]
  },
  {
   "cell_type": "code",
   "execution_count": null,
   "metadata": {
    "collapsed": true
   },
   "outputs": [],
   "source": []
  }
 ],
 "metadata": {
  "kernelspec": {
   "display_name": "Python 2",
   "language": "python",
   "name": "python2"
  },
  "language_info": {
   "codemirror_mode": {
    "name": "ipython",
    "version": 2
   },
   "file_extension": ".py",
   "mimetype": "text/x-python",
   "name": "python",
   "nbconvert_exporter": "python",
   "pygments_lexer": "ipython2",
   "version": "2.7.11"
  }
 },
 "nbformat": 4,
 "nbformat_minor": 0
}
