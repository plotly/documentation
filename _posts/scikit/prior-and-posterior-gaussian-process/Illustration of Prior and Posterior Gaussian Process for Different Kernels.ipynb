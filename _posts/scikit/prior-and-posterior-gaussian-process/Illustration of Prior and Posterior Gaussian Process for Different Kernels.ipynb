{
 "cells": [
  {
   "cell_type": "markdown",
   "metadata": {},
   "source": [
    "This example illustrates the prior and posterior of a GPR with different kernels. Mean, standard deviation, and 10 samples are shown for both prior and posterior."
   ]
  },
  {
   "cell_type": "markdown",
   "metadata": {},
   "source": [
    "#### New to Plotly?\n",
    "Plotly's Python library is free and open source! [Get started](https://plot.ly/python/getting-started/) by downloading the client and [reading the primer](https://plot.ly/python/getting-started/).\n",
    "<br>You can set up Plotly to work in [online](https://plot.ly/python/getting-started/#initialization-for-online-plotting) or [offline](https://plot.ly/python/getting-started/#initialization-for-offline-plotting) mode, or in [jupyter notebooks](https://plot.ly/python/getting-started/#start-plotting-online).\n",
    "<br>We also have a quick-reference [cheatsheet](https://images.plot.ly/plotly-documentation/images/python_cheat_sheet.pdf) (new!) to help you get started!"
   ]
  },
  {
   "cell_type": "markdown",
   "metadata": {},
   "source": [
    "### Version"
   ]
  },
  {
   "cell_type": "code",
   "execution_count": 1,
   "metadata": {
    "collapsed": false
   },
   "outputs": [
    {
     "data": {
      "text/plain": [
       "'0.18.1'"
      ]
     },
     "execution_count": 1,
     "metadata": {},
     "output_type": "execute_result"
    }
   ],
   "source": [
    "import sklearn\n",
    "sklearn.__version__"
   ]
  },
  {
   "cell_type": "markdown",
   "metadata": {},
   "source": [
    "### Imports"
   ]
  },
  {
   "cell_type": "markdown",
   "metadata": {},
   "source": [
    "This tutorial imports [GaussianProcessRegressor](http://scikit-learn.org/stable/modules/generated/sklearn.gaussian_process.GaussianProcessRegressor.html#sklearn.gaussian_process.GaussianProcessRegressor), [RBF](http://scikit-learn.org/stable/modules/generated/sklearn.gaussian_process.kernels.RBF.html#sklearn.gaussian_process.kernels.RBF), [Matern](http://scikit-learn.org/stable/modules/generated/sklearn.gaussian_process.kernels.Matern.html#sklearn.gaussian_process.kernels.Matern), [RationalQuadratic](http://scikit-learn.org/stable/modules/generated/sklearn.gaussian_process.kernels.RationalQuadratic.html#sklearn.gaussian_process.kernels.RationalQuadratic), [ExpSineSquared](http://scikit-learn.org/stable/modules/generated/sklearn.gaussian_process.kernels.ExpSineSquared.html#sklearn.gaussian_process.kernels.ExpSineSquared), [DotProduct](http://scikit-learn.org/stable/modules/generated/sklearn.gaussian_process.kernels.DotProduct.html#sklearn.gaussian_process.kernels.DotProduct) and [ConstantKernel](http://scikit-learn.org/stable/modules/generated/sklearn.gaussian_process.kernels.ConstantKernel.html#sklearn.gaussian_process.kernels.ConstantKernel)."
   ]
  },
  {
   "cell_type": "code",
   "execution_count": 2,
   "metadata": {
    "collapsed": true
   },
   "outputs": [],
   "source": [
    "import plotly.plotly as py\n",
    "import plotly.graph_objs as go\n",
    "from plotly import tools\n",
    "\n",
    "import numpy as np\n",
    "from sklearn.gaussian_process import GaussianProcessRegressor\n",
    "from sklearn.gaussian_process.kernels import (RBF, Matern, RationalQuadratic,\n",
    "                                              ExpSineSquared, DotProduct,\n",
    "                                              ConstantKernel)\n"
   ]
  },
  {
   "cell_type": "markdown",
   "metadata": {},
   "source": [
    "### Calculations"
   ]
  },
  {
   "cell_type": "code",
   "execution_count": 3,
   "metadata": {
    "collapsed": true
   },
   "outputs": [],
   "source": [
    "kernels = [1.0 * RBF(length_scale=1.0, length_scale_bounds=(1e-1, 10.0)),\n",
    "           1.0 * RationalQuadratic(length_scale=1.0, alpha=0.1),\n",
    "           1.0 * ExpSineSquared(length_scale=1.0, periodicity=3.0,\n",
    "                                length_scale_bounds=(0.1, 10.0),\n",
    "                                periodicity_bounds=(1.0, 10.0)),\n",
    "           ConstantKernel(0.1, (0.01, 10.0))\n",
    "               * (DotProduct(sigma_0=1.0, sigma_0_bounds=(0.0, 10.0)) ** 2),\n",
    "           1.0 * Matern(length_scale=1.0, length_scale_bounds=(1e-1, 10.0),\n",
    "                        nu=1.5)]\n",
    " \n",
    "color = 2 * ['red', 'green', 'blue', 'cyan', 'magenta', 'orange']"
   ]
  },
  {
   "cell_type": "markdown",
   "metadata": {},
   "source": [
    "### Plot Results"
   ]
  },
  {
   "cell_type": "code",
   "execution_count": 11,
   "metadata": {
    "collapsed": false
   },
   "outputs": [],
   "source": [
    "plots = []\n",
    "titles = []\n",
    "\n",
    "for fig_index, kernel in enumerate(kernels):\n",
    "    # Specify Gaussian Process\n",
    "    plots.append([[], []])\n",
    "    gp = GaussianProcessRegressor(kernel=kernel)\n",
    "\n",
    "    # Plot prior\n",
    "    X_ = np.linspace(0, 5, 100)\n",
    "    y_mean, y_std = gp.predict(X_[:, np.newaxis], return_std=True)\n",
    "    \n",
    "    p1 = go.Scatter(x=X_, y=y_mean, \n",
    "                    showlegend=False,\n",
    "                    mode='lines',\n",
    "                    line=dict(color='black')\n",
    "                   )\n",
    "    \n",
    "    p2 = go.Scatter(x=X_, y=y_mean + y_std,\n",
    "                    mode='lines',\n",
    "                    showlegend=False,\n",
    "                    line=dict(color='black')\n",
    "                   )\n",
    "    \n",
    "    p3 = go.Scatter(x=X_, y=y_mean - y_std,\n",
    "                    mode='lines',\n",
    "                    showlegend=False,\n",
    "                    line=dict(color='black'),\n",
    "                    fill = 'tonexty'\n",
    "                   )\n",
    "    plots[fig_index][0].append(p2)\n",
    "    plots[fig_index][0].append(p3)\n",
    "    plots[fig_index][0].append(p1)\n",
    "    \n",
    "    y_samples = gp.sample_y(X_[:, np.newaxis], 10)\n",
    "    \n",
    "    k = []\n",
    "    for col in range(0, len(y_samples[0])):\n",
    "            k.append([])\n",
    "            for row in range(0, len(y_samples)):\n",
    "                k[col].append(y_samples[row][col])\n",
    "        \n",
    "    for l in range(0, 10):\n",
    "        p4 = go.Scatter(x=X_, y=k[l],\n",
    "                        showlegend=False,\n",
    "                        mode='lines',\n",
    "                        line=dict(color=color[l], width=1),\n",
    "                       )\n",
    "        \n",
    "        plots[fig_index][0].append(p4)\n",
    "        \n",
    "    titles.append(\"Prior <br>(kernel:  %s)\" % kernel)\n",
    "\n",
    "    # Generate data and fit GP\n",
    "    rng = np.random.RandomState(4)\n",
    "    X = rng.uniform(0, 5, 10)[:, np.newaxis]\n",
    "    y = np.sin((X[:, 0] - 2.5) ** 2)\n",
    "    gp.fit(X, y)\n",
    "\n",
    "    # Plot posterior\n",
    "    y_mean, y_std = gp.predict(X_[:, np.newaxis], return_std=True)\n",
    "    p1 = go.Scatter(x=X_, y=y_mean,\n",
    "                    showlegend=False,\n",
    "                    mode='lines',\n",
    "                    line=dict(color='black')\n",
    "                   )\n",
    "    \n",
    "    p2 = go.Scatter(x=X_, y=y_mean + y_std,\n",
    "                    showlegend=False,\n",
    "                    mode='lines',\n",
    "                    line=dict(color='black')\n",
    "                   )\n",
    "    \n",
    "    p3 = go.Scatter(x=X_, y=y_mean - y_std,\n",
    "                    mode='lines',\n",
    "                    showlegend=False,\n",
    "                    line=dict(color='black'),\n",
    "                    fill = 'tonexty'\n",
    "                   )\n",
    "    plots[fig_index][1].append(p2)\n",
    "    plots[fig_index][1].append(p3)\n",
    "    plots[fig_index][1].append(p1)\n",
    "    \n",
    "    y_samples = gp.sample_y(X_[:, np.newaxis], 10)\n",
    "    \n",
    "    k = []\n",
    "    for col in range(0, len(y_samples[0])):\n",
    "            k.append([])\n",
    "            for row in range(0, len(y_samples)):\n",
    "                k[col].append(y_samples[row][col])\n",
    "        \n",
    "    for l in range(0, 10):\n",
    "        p4 = go.Scatter(x=X_, y=k[l],\n",
    "                        showlegend=False,\n",
    "                        mode='lines',\n",
    "                        line=dict(color=color[l], width=1),\n",
    "                       )\n",
    "        \n",
    "        plots[fig_index][1].append(p4)\n",
    "        \n",
    "    p5 = go.Scatter(x=X[:, 0], y=y,\n",
    "                    showlegend=False,\n",
    "                    mode='markers',\n",
    "                    line=dict(color='red'),\n",
    "                   )\n",
    "    plots[fig_index][1].append(p5)\n",
    "    \n",
    "    titles.append(\"Posterior <br>(kernel: %s)<br>Log-Likelihood: %.3f\"\n",
    "                  % (gp.kernel_, gp.log_marginal_likelihood(gp.kernel_.theta)))"
   ]
  },
  {
   "cell_type": "markdown",
   "metadata": {},
   "source": [
    "Create Plotly subplots"
   ]
  },
  {
   "cell_type": "code",
   "execution_count": 5,
   "metadata": {
    "collapsed": false
   },
   "outputs": [],
   "source": [
    "def create_subplots(plots, titles):\n",
    "    fig = tools.make_subplots(rows=1, cols=2,\n",
    "                          subplot_titles=tuple(titles),\n",
    "                          print_grid=False)\n",
    "    \n",
    "    for j in range(0, len(plots[0])):\n",
    "        fig.append_trace(plots[0][j], 1, 1)\n",
    "    for k in range(0, len(plots[1])):\n",
    "        fig.append_trace(plots[1][k], 1, 2)\n",
    "        \n",
    "    for i in map(str, range(1, 3)):\n",
    "        y = 'yaxis' + i\n",
    "        x = 'xaxis' + i\n",
    "        fig['layout'][y].update(showticklabels=False, ticks='', \n",
    "                                zeroline=False, showgrid=False)\n",
    "        fig['layout'][x].update(showticklabels=False, ticks='',\n",
    "                                zeroline=False, showgrid=False)\n",
    "\n",
    "    fig['layout'].update(hovermode='closest',\n",
    "                         margin=dict(l=0, b=10,\n",
    "                                     r=0, ))\n",
    "    return fig\n",
    "    "
   ]
  },
  {
   "cell_type": "markdown",
   "metadata": {},
   "source": [
    "### RBF Kernels"
   ]
  },
  {
   "cell_type": "code",
   "execution_count": 6,
   "metadata": {
    "collapsed": false
   },
   "outputs": [
    {
     "data": {
      "text/html": [
       "<iframe id=\"igraph\" scrolling=\"no\" style=\"border:none;\" seamless=\"seamless\" src=\"https://plot.ly/~Diksha_Gabha/3116.embed\" height=\"525px\" width=\"100%\"></iframe>"
      ],
      "text/plain": [
       "<plotly.tools.PlotlyDisplay object>"
      ]
     },
     "execution_count": 6,
     "metadata": {},
     "output_type": "execute_result"
    }
   ],
   "source": [
    "fig = create_subplots(plots[0], titles[0 : 2])\n",
    "py.iplot(fig)"
   ]
  },
  {
   "cell_type": "markdown",
   "metadata": {},
   "source": [
    "### RationalQuadratic Kernels"
   ]
  },
  {
   "cell_type": "code",
   "execution_count": 7,
   "metadata": {
    "collapsed": false
   },
   "outputs": [
    {
     "data": {
      "text/html": [
       "<iframe id=\"igraph\" scrolling=\"no\" style=\"border:none;\" seamless=\"seamless\" src=\"https://plot.ly/~Diksha_Gabha/3118.embed\" height=\"525px\" width=\"100%\"></iframe>"
      ],
      "text/plain": [
       "<plotly.tools.PlotlyDisplay object>"
      ]
     },
     "execution_count": 7,
     "metadata": {},
     "output_type": "execute_result"
    }
   ],
   "source": [
    "fig = create_subplots(plots[1], titles[2 : 4])\n",
    "py.iplot(fig)"
   ]
  },
  {
   "cell_type": "markdown",
   "metadata": {},
   "source": [
    "### ExpSineSquared Kernel"
   ]
  },
  {
   "cell_type": "code",
   "execution_count": 8,
   "metadata": {
    "collapsed": false
   },
   "outputs": [
    {
     "data": {
      "text/html": [
       "<iframe id=\"igraph\" scrolling=\"no\" style=\"border:none;\" seamless=\"seamless\" src=\"https://plot.ly/~Diksha_Gabha/3120.embed\" height=\"525px\" width=\"100%\"></iframe>"
      ],
      "text/plain": [
       "<plotly.tools.PlotlyDisplay object>"
      ]
     },
     "execution_count": 8,
     "metadata": {},
     "output_type": "execute_result"
    }
   ],
   "source": [
    "fig = create_subplots(plots[2], titles[4 : 6])\n",
    "py.iplot(fig)"
   ]
  },
  {
   "cell_type": "markdown",
   "metadata": {},
   "source": [
    "### DotProduct Kernel"
   ]
  },
  {
   "cell_type": "code",
   "execution_count": 9,
   "metadata": {
    "collapsed": false
   },
   "outputs": [
    {
     "data": {
      "text/html": [
       "<iframe id=\"igraph\" scrolling=\"no\" style=\"border:none;\" seamless=\"seamless\" src=\"https://plot.ly/~Diksha_Gabha/3122.embed\" height=\"525px\" width=\"100%\"></iframe>"
      ],
      "text/plain": [
       "<plotly.tools.PlotlyDisplay object>"
      ]
     },
     "execution_count": 9,
     "metadata": {},
     "output_type": "execute_result"
    }
   ],
   "source": [
    "fig = create_subplots(plots[3], titles[6 : 8])\n",
    "py.iplot(fig)"
   ]
  },
  {
   "cell_type": "markdown",
   "metadata": {},
   "source": [
    "### Matern"
   ]
  },
  {
   "cell_type": "code",
   "execution_count": 10,
   "metadata": {
    "collapsed": false,
    "scrolled": false
   },
   "outputs": [
    {
     "data": {
      "text/html": [
       "<iframe id=\"igraph\" scrolling=\"no\" style=\"border:none;\" seamless=\"seamless\" src=\"https://plot.ly/~Diksha_Gabha/3124.embed\" height=\"525px\" width=\"100%\"></iframe>"
      ],
      "text/plain": [
       "<plotly.tools.PlotlyDisplay object>"
      ]
     },
     "execution_count": 10,
     "metadata": {},
     "output_type": "execute_result"
    }
   ],
   "source": [
    "fig = create_subplots(plots[4], titles[8 : 10])\n",
    "py.iplot(fig)"
   ]
  },
  {
   "cell_type": "markdown",
   "metadata": {},
   "source": [
    "### License"
   ]
  },
  {
   "cell_type": "markdown",
   "metadata": {},
   "source": [
    "Authors: \n",
    "\n",
    "        Jan Hendrik Metzen <jhm@informatik.uni-bremen.de>\n",
    "\n",
    "License:\n",
    "\n",
    "        BSD 3 clause"
   ]
  },
  {
   "cell_type": "code",
   "execution_count": 13,
   "metadata": {
    "collapsed": false
   },
   "outputs": [
    {
     "data": {
      "text/html": [
       "<link href=\"//fonts.googleapis.com/css?family=Open+Sans:600,400,300,200|Inconsolata|Ubuntu+Mono:400,700\" rel=\"stylesheet\" type=\"text/css\" />"
      ],
      "text/plain": [
       "<IPython.core.display.HTML object>"
      ]
     },
     "metadata": {},
     "output_type": "display_data"
    },
    {
     "data": {
      "text/html": [
       "<link rel=\"stylesheet\" type=\"text/css\" href=\"http://help.plot.ly/documentation/all_static/css/ipython-notebook-custom.css\">"
      ],
      "text/plain": [
       "<IPython.core.display.HTML object>"
      ]
     },
     "metadata": {},
     "output_type": "display_data"
    },
    {
     "name": "stdout",
     "output_type": "stream",
     "text": [
      "Collecting git+https://github.com/plotly/publisher.git\n",
      "  Cloning https://github.com/plotly/publisher.git to /tmp/pip-XQPOVb-build\n",
      "Installing collected packages: publisher\n",
      "  Found existing installation: publisher 0.10\n",
      "    Uninstalling publisher-0.10:\n",
      "      Successfully uninstalled publisher-0.10\n",
      "  Running setup.py install for publisher ... \u001b[?25l-\b \bdone\n",
      "\u001b[?25hSuccessfully installed publisher-0.10\n"
     ]
    }
   ],
   "source": [
    "\n",
    "from IPython.display import display, HTML\n",
    "\n",
    "display(HTML('<link href=\"//fonts.googleapis.com/css?family=Open+Sans:600,400,300,200|Inconsolata|Ubuntu+Mono:400,700\" rel=\"stylesheet\" type=\"text/css\" />'))\n",
    "display(HTML('<link rel=\"stylesheet\" type=\"text/css\" href=\"http://help.plot.ly/documentation/all_static/css/ipython-notebook-custom.css\">'))\n",
    "\n",
    "! pip install git+https://github.com/plotly/publisher.git --upgrade\n",
    "import publisher\n",
    "publisher.publish(\n",
    "    'Illustration of Prior and Posterior Gaussian Process for Different Kernels.ipynb', 'scikit-learn/plot-gpr-prior-posterior/', 'Illustration of Prior and Posterior Gaussian Process for Different Kernels | plotly',\n",
    "    ' ',\n",
    "    title = 'Illustration of Prior and Posterior Gaussian Process for Different Kernels | plotly',\n",
    "    name = 'Illustration of Prior and Posterior Gaussian Process for Different Kernels',\n",
    "    has_thumbnail='true', thumbnail='thumbnail/prior.jpg', \n",
    "    language='scikit-learn', page_type='example_index',\n",
    "    display_as='gaussian-process', order=5,\n",
    "    ipynb= '~Diksha_Gabha/3101')"
   ]
  },
  {
   "cell_type": "code",
   "execution_count": null,
   "metadata": {
    "collapsed": true
   },
   "outputs": [],
   "source": []
  }
 ],
 "metadata": {
  "anaconda-cloud": {},
  "kernelspec": {
   "display_name": "Python [default]",
   "language": "python",
   "name": "python2"
  },
  "language_info": {
   "codemirror_mode": {
    "name": "ipython",
    "version": 2
   },
   "file_extension": ".py",
   "mimetype": "text/x-python",
   "name": "python",
   "nbconvert_exporter": "python",
   "pygments_lexer": "ipython2",
   "version": "2.7.12"
  }
 },
 "nbformat": 4,
 "nbformat_minor": 1
}
