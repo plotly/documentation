{
 "cells": [
  {
   "cell_type": "markdown",
   "metadata": {},
   "source": [
    "The [Johnson-Lindenstrauss](https://en.wikipedia.org/wiki/Johnson%E2%80%93Lindenstrauss_lemma) lemma states that any high dimensional dataset can be randomly projected into a lower dimensional Euclidean space while controlling the distortion in the pairwise distances."
   ]
  },
  {
   "cell_type": "markdown",
   "metadata": {},
   "source": [
    "### Theoretical bounds"
   ]
  },
  {
   "cell_type": "markdown",
   "metadata": {},
   "source": [
    "The distortion introduced by a random projection p is asserted by the fact that p is defining an eps-embedding with good probability as defined by:"
   ]
  },
  {
   "cell_type": "markdown",
   "metadata": {},
   "source": [
    "![image not found](http://scikit-learn.org/stable/_images/math/f959343b770e80df34786eebb08e80e60d69d91f.png)"
   ]
  },
  {
   "cell_type": "markdown",
   "metadata": {},
   "source": [
    "Where u and v are any rows taken from a dataset of shape [n_samples, n_features] and p is a projection by a random Gaussian N(0, 1) matrix with shape [n_components, n_features] (or a sparse Achlioptas matrix).\n",
    "\n",
    "The minimum number of components to guarantees the eps-embedding is given by:"
   ]
  },
  {
   "cell_type": "markdown",
   "metadata": {},
   "source": [
    "![image not found](http://scikit-learn.org/stable/_images/math/065d63cc8b891d9269d412a42f0691aeaec0f49f.png)"
   ]
  },
  {
   "cell_type": "markdown",
   "metadata": {},
   "source": [
    "he first plot shows that with an increasing number of samples `n_samples`, the minimal number of dimensions `n_components` increased logarithmically in order to guarantee an `eps`-embedding.\n",
    "\n",
    "The second plot shows that an increase of the admissible distortion `eps` allows to reduce drastically the minimal number of dimensions `n_components` for a given number of samples `n_samples`"
   ]
  },
  {
   "cell_type": "markdown",
   "metadata": {},
   "source": [
    "### Empirical validation"
   ]
  },
  {
   "cell_type": "markdown",
   "metadata": {},
   "source": [
    "We validate the above bounds on the digits dataset or on the 20 newsgroups text document (TF-IDF word frequencies) dataset:\n",
    "\n",
    "* for the digits dataset, some 8x8 gray level pixels data for 500 handwritten digits pictures are randomly projected to spaces for various larger number of dimensions `n_components`.\n",
    "\n",
    "* for the 20 newsgroups dataset some 500 documents with 100k features in total are projected using a sparse random matrix to smaller euclidean spaces with various values for the target number of dimensions `n_components`.\n",
    "\n",
    "The default dataset is the digits dataset. To run the example on the twenty newsgroups dataset, pass the –twenty-newsgroups command line argument to this script.\n",
    "\n",
    "For each value of n_components, we plot:\n",
    "\n",
    "* 2D distribution of sample pairs with pairwise distances in original and projected spaces as x and y axis respectively.\n",
    "* 1D histogram of the ratio of those distances (projected / original).\n",
    "\n",
    "We can see that for low values of `n_components` the distribution is wide with many distorted pairs and a skewed distribution (due to the hard limit of zero ratio on the left as distances are always positives) while for larger values of `n_components` the distortion is controlled and the distances are well preserved by the random projection."
   ]
  },
  {
   "cell_type": "markdown",
   "metadata": {},
   "source": [
    "#### New to Plotly?\n",
    "Plotly's Python library is free and open source! [Get started](https://plot.ly/python/getting-started/) by downloading the client and [reading the primer](https://plot.ly/python/getting-started/).\n",
    "<br>You can set up Plotly to work in [online](https://plot.ly/python/getting-started/#initialization-for-online-plotting) or [offline](https://plot.ly/python/getting-started/#initialization-for-offline-plotting) mode, or in [jupyter notebooks](https://plot.ly/python/getting-started/#start-plotting-online).\n",
    "<br>We also have a quick-reference [cheatsheet](https://images.plot.ly/plotly-documentation/images/python_cheat_sheet.pdf) (new!) to help you get started!"
   ]
  },
  {
   "cell_type": "markdown",
   "metadata": {},
   "source": [
    "### Version"
   ]
  },
  {
   "cell_type": "code",
   "execution_count": 1,
   "metadata": {
    "collapsed": false
   },
   "outputs": [
    {
     "data": {
      "text/plain": [
       "'0.18'"
      ]
     },
     "execution_count": 1,
     "metadata": {},
     "output_type": "execute_result"
    }
   ],
   "source": [
    "import sklearn\n",
    "sklearn.__version__"
   ]
  },
  {
   "cell_type": "markdown",
   "metadata": {},
   "source": [
    "### Imports"
   ]
  },
  {
   "cell_type": "code",
   "execution_count": 2,
   "metadata": {
    "collapsed": true
   },
   "outputs": [],
   "source": [
    "from plotly import tools\n",
    "import plotly.plotly as py\n",
    "import plotly.graph_objs as go\n",
    "\n",
    "import sys\n",
    "from time import time\n",
    "import numpy as np\n",
    "import matplotlib.pyplot as plt\n",
    "\n",
    "\n",
    "from sklearn.random_projection import johnson_lindenstrauss_min_dim\n",
    "from sklearn.random_projection import SparseRandomProjection\n",
    "from sklearn.datasets import fetch_20newsgroups_vectorized\n",
    "from sklearn.datasets import load_digits\n",
    "from sklearn.metrics.pairwise import euclidean_distances\n"
   ]
  },
  {
   "cell_type": "markdown",
   "metadata": {},
   "source": [
    "### Calculations and Plots"
   ]
  },
  {
   "cell_type": "markdown",
   "metadata": {},
   "source": [
    "### Part 1\n",
    "\n",
    "Plot the theoretical dependency between n_components_min and n_samples"
   ]
  },
  {
   "cell_type": "code",
   "execution_count": 3,
   "metadata": {
    "collapsed": false
   },
   "outputs": [
    {
     "name": "stdout",
     "output_type": "stream",
     "text": [
      "Automatically created module for IPython interactive environment\n",
      "This is the format of your plot grid:\n",
      "[ (1,1) x1,y1 ]  [ (1,2) x2,y2 ]\n",
      "\n"
     ]
    },
    {
     "data": {
      "text/html": [
       "<iframe id=\"igraph\" scrolling=\"no\" style=\"border:none;\" seamless=\"seamless\" src=\"https://plot.ly/~Diksha_Gabha/2535.embed\" height=\"525px\" width=\"1000px\"></iframe>"
      ],
      "text/plain": [
       "<plotly.tools.PlotlyDisplay object>"
      ]
     },
     "execution_count": 3,
     "metadata": {},
     "output_type": "execute_result"
    }
   ],
   "source": [
    "print(__doc__)\n",
    "\n",
    "fig1 = tools.make_subplots(rows=1, cols=2, subplot_titles=(\n",
    "        'Johnson-Lindenstrauss bounds:<br>n_samples vs n_components',\n",
    "        'Johnson-Lindenstrauss bounds:<br>n_components vs eps'))\n",
    "\n",
    "def matplotlib_to_plotly(cmap, pl_entries):\n",
    "    h = 1.0/(pl_entries-1)\n",
    "    pl_colorscale = []\n",
    "    \n",
    "    for k in range(pl_entries):\n",
    "        C = map(np.uint8, np.array(cmap(k*h)[:3])*255)\n",
    "        pl_colorscale.append([k*h, 'rgb'+str((C[0], C[1], C[2]))])\n",
    "        \n",
    "    return pl_colorscale\n",
    "c = matplotlib_to_plotly(plt.cm.Blues,500)\n",
    "\n",
    "# range of admissible distortions\n",
    "eps_range = np.linspace(0.1, 0.99, 5)\n",
    "\n",
    "# range of number of samples (observation) to embed\n",
    "n_samples_range = np.logspace(1, 9, 9)\n",
    "\n",
    "names=[]\n",
    "\n",
    "for eps in eps_range:\n",
    "    l = (\"eps = \" + str(eps))\n",
    "    names.append(l)\n",
    "    \n",
    "colors = plt.cm.Blues(np.linspace(0.3, 1.0, len(eps_range)))\n",
    "trace=[]   \n",
    "j=0\n",
    "\n",
    "for eps, color in zip(eps_range, colors):\n",
    "    \n",
    "    if j==0:\n",
    "        col = c[90][1]\n",
    "    else: \n",
    "        col = c[j*100][1]\n",
    "    \n",
    "    min_n_components = johnson_lindenstrauss_min_dim(n_samples_range, eps=eps)\n",
    "    trace=go.Scatter(x=n_samples_range, y=min_n_components,mode=\"lines\",\n",
    "                     line=dict(color = col),\n",
    "                     name=names[j])\n",
    "    fig1.append_trace(trace, 1, 1)\n",
    "    j = j+1\n",
    "    if(j>3):\n",
    "            break\n",
    "fig1['layout']['xaxis1'].update(title='Number of observations to eps-embed',\n",
    "                                type=\"log\")\n",
    "fig1['layout']['yaxis1'].update(title='Minimum number of dimensions',\n",
    "                                  type=\"log\")\n",
    "# range of admissible distortions\n",
    "eps_range = np.linspace(0.01, 0.99, 100)\n",
    "names2 = []\n",
    "\n",
    "for n in n_samples_range:\n",
    "    l = (\"n_samples = \"+str(n))\n",
    "    names2.append(l)\n",
    "\n",
    "# range of number of samples (observation) to embed\n",
    "n_samples_range = np.logspace(2, 6, 5)\n",
    "colors = plt.cm.Blues(np.linspace(0.3, 1.0, len(n_samples_range)))\n",
    "\n",
    "i=0\n",
    "for n_samples, color in zip(n_samples_range,colors):\n",
    "    if i==0:\n",
    "        col = c[90][1]\n",
    "    else: \n",
    "        col = c[i*100][1]\n",
    "    \n",
    "    min_n_components = johnson_lindenstrauss_min_dim(n_samples, eps=eps_range)\n",
    "    trace1= go.Scatter(x=eps_range, y=min_n_components, mode=\"lines\",\n",
    "                       line=dict(color = col),\n",
    "                       name=names2[i])\n",
    "    fig1.append_trace(trace1, 1, 2)\n",
    "    i=i+1\n",
    "\n",
    "fig1['layout']['xaxis2'].update(title='Distortion eps')\n",
    "fig1['layout']['yaxis2'].update(title='Minimum number of dimensions',\n",
    "                                  type=\"log\")\n",
    "fig1['layout'].update(width= 1000)\n",
    "\n",
    "py.iplot(fig1, filename=\"J-L-1\")"
   ]
  },
  {
   "cell_type": "markdown",
   "metadata": {},
   "source": [
    "### Part 2\n",
    " \n",
    " Perform sparse random projection of some digits images which are\n",
    " quite low dimensional and dense or documents of the 20 newsgroups dataset\n",
    " which is both high dimensional and sparse\n"
   ]
  },
  {
   "cell_type": "code",
   "execution_count": 4,
   "metadata": {
    "collapsed": false
   },
   "outputs": [
    {
     "name": "stdout",
     "output_type": "stream",
     "text": [
      "Embedding 500 samples with dim 64 using various random projections\n",
      "Projected 500 samples from 64 to 300 in 0.016s\n",
      "Random matrix with size: 0.029MB\n",
      "Mean distances rate: 0.97 (0.07)\n",
      "Projected 500 samples from 64 to 1000 in 0.026s\n",
      "Random matrix with size: 0.095MB\n",
      "Mean distances rate: 0.98 (0.04)\n"
     ]
    },
    {
     "name": "stderr",
     "output_type": "stream",
     "text": [
      "/home/diksha/anaconda2/lib/python2.7/site-packages/sklearn/random_projection.py:376: DataDimensionalityWarning:\n",
      "\n",
      "The number of components is higher than the number of features: n_features < n_components (64 < 300).The dimensionality of the problem will not be reduced.\n",
      "\n",
      "/home/diksha/anaconda2/lib/python2.7/site-packages/sklearn/random_projection.py:376: DataDimensionalityWarning:\n",
      "\n",
      "The number of components is higher than the number of features: n_features < n_components (64 < 1000).The dimensionality of the problem will not be reduced.\n",
      "\n",
      "/home/diksha/anaconda2/lib/python2.7/site-packages/sklearn/random_projection.py:376: DataDimensionalityWarning:\n",
      "\n",
      "The number of components is higher than the number of features: n_features < n_components (64 < 10000).The dimensionality of the problem will not be reduced.\n",
      "\n"
     ]
    },
    {
     "name": "stdout",
     "output_type": "stream",
     "text": [
      "Projected 500 samples from 64 to 10000 in 0.316s\n",
      "Random matrix with size: 0.961MB\n",
      "Mean distances rate: 1.00 (0.02)\n"
     ]
    }
   ],
   "source": [
    "if '--twenty-newsgroups' in sys.argv:\n",
    "    # Need an internet connection hence not enabled by default\n",
    "    data = fetch_20newsgroups_vectorized().data[:500]\n",
    "else:\n",
    "    data = load_digits().data[:500]\n",
    "\n",
    "n_samples, n_features = data.shape\n",
    "print(\"Embedding %d samples with dim %d using various random projections\"\n",
    "      % (n_samples, n_features))\n",
    "\n",
    "n_components_range = np.array([300, 1000, 10000])\n",
    "dists = euclidean_distances(data, squared=True).ravel()\n",
    "\n",
    "# select only non-identical samples pairs\n",
    "nonzero = dists != 0\n",
    "dists = dists[nonzero]\n",
    "\n",
    "tracen = []\n",
    "hist_trace = []\n",
    "\n",
    "for n_components in n_components_range:\n",
    "    t0 = time()\n",
    "    rp = SparseRandomProjection(n_components=n_components)\n",
    "    projected_data = rp.fit_transform(data)\n",
    "    print(\"Projected %d samples from %d to %d in %0.3fs\"\n",
    "          % (n_samples, n_features, n_components, time() - t0))\n",
    "   \n",
    "    if hasattr(rp, 'components_'):\n",
    "        n_bytes = rp.components_.data.nbytes\n",
    "        n_bytes += rp.components_.indices.nbytes\n",
    "        print(\"Random matrix with size: %0.3fMB\" % (n_bytes / 1e6))\n",
    "\n",
    "    projected_dists = euclidean_distances(\n",
    "        projected_data, squared=True).ravel()[nonzero]\n",
    "   \n",
    "    trace3 = go.Histogram2d(x=dists, y=projected_dists, histnorm='probability',\n",
    "                           colorscale=matplotlib_to_plotly(plt.cm.PuBu,100),\n",
    "                           showscale=False)\n",
    "    \n",
    "    tracen.append(trace3)\n",
    "    \n",
    "    rates = projected_dists / dists\n",
    "    print(\"Mean distances rate: %0.2f (%0.2f)\"\n",
    "          % (np.mean(rates), np.std(rates)))\n",
    "\n",
    "    trace4 = go.Histogram(x=rates, histnorm='probability density', nbinsx=40,nbinsy=40,\n",
    "                          showlegend=False,\n",
    "                          marker=dict(color='blue',\n",
    "                                    line=dict(color='black',width=2))\n",
    "                       )\n",
    "    hist_trace.append(trace4)\n",
    "    \n",
    "    # TODO: compute the expected value of eps and add them to the previous plot\n",
    "    # as vertical lines / region"
   ]
  },
  {
   "cell_type": "code",
   "execution_count": 5,
   "metadata": {
    "collapsed": false,
    "scrolled": false
   },
   "outputs": [
    {
     "name": "stdout",
     "output_type": "stream",
     "text": [
      "This is the format of your plot grid:\n",
      "[ (1,1) x1,y1 ]  [ (1,2) x2,y2 ]\n",
      "\n"
     ]
    },
    {
     "name": "stderr",
     "output_type": "stream",
     "text": [
      "/home/diksha/.local/lib/python2.7/site-packages/plotly/plotly/plotly.py:236: UserWarning:\n",
      "\n",
      "Woah there! Look at all those points! Due to browser limitations, the Plotly SVG drawing functions have a hard time graphing more than 500k data points for line charts, or 40k points for other types of charts. Here are some suggestions:\n",
      "(1) Use the `plotly.graph_objs.Scattergl` trace object to generate a WebGl graph.\n",
      "(2) Trying using the image API to return an image instead of a graph URL\n",
      "(3) Use matplotlib\n",
      "(4) See if you can create your visualization with fewer data points\n",
      "\n",
      "If the visualization you're using aggregates points (e.g., box plot, histogram, etc.) you can disregard this warning.\n",
      "\n"
     ]
    },
    {
     "data": {
      "text/html": [
       "<iframe id=\"igraph\" scrolling=\"no\" style=\"border:none;\" seamless=\"seamless\" src=\"https://plot.ly/~Diksha_Gabha/2537.embed\" height=\"525px\" width=\"100%\"></iframe>"
      ],
      "text/plain": [
       "<plotly.tools.PlotlyDisplay object>"
      ]
     },
     "execution_count": 5,
     "metadata": {},
     "output_type": "execute_result"
    }
   ],
   "source": [
    "fig2 = tools.make_subplots(rows=1, cols=2, subplot_titles=(\n",
    "        'Pairwise distances distribution for n_components=300',\n",
    "        'Histogram of pairwise distance rates for n_components=300',\n",
    "        ))\n",
    "\n",
    "fig2.append_trace(tracen[0], 1, 1)\n",
    "fig2.append_trace(hist_trace[0], 1, 2)\n",
    "\n",
    "fig2['layout']['xaxis1'].update(title='Pairwise squared distances in original space',)\n",
    "fig2['layout']['yaxis1'].update(title='Minimum number of dimensions',)\n",
    "\n",
    "fig2['layout']['xaxis2'].update(title='Pairwise squared distances in original space',)\n",
    "fig2['layout']['yaxis2'].update(title='Minimum number of dimensions',)\n",
    "\n",
    "py.iplot(fig2, filename='J-L-2')"
   ]
  },
  {
   "cell_type": "code",
   "execution_count": 6,
   "metadata": {
    "collapsed": false
   },
   "outputs": [
    {
     "name": "stdout",
     "output_type": "stream",
     "text": [
      "This is the format of your plot grid:\n",
      "[ (1,1) x1,y1 ]  [ (1,2) x2,y2 ]\n",
      "\n"
     ]
    },
    {
     "data": {
      "text/html": [
       "<iframe id=\"igraph\" scrolling=\"no\" style=\"border:none;\" seamless=\"seamless\" src=\"https://plot.ly/~Diksha_Gabha/2539.embed\" height=\"525px\" width=\"100%\"></iframe>"
      ],
      "text/plain": [
       "<plotly.tools.PlotlyDisplay object>"
      ]
     },
     "execution_count": 6,
     "metadata": {},
     "output_type": "execute_result"
    }
   ],
   "source": [
    "fig3 = tools.make_subplots(rows=1, cols=2, subplot_titles=(\n",
    "        'Pairwise distances distribution for n_components=1000',\n",
    "        'Histogram of pairwise distance rates for n_components=1000',\n",
    "        ))\n",
    "\n",
    "fig3.append_trace(tracen[1], 1, 1)\n",
    "fig3.append_trace(hist_trace[1], 1, 2)\n",
    "\n",
    "fig3['layout']['xaxis1'].update(title='Pairwise squared distances in original space',)\n",
    "fig3['layout']['yaxis1'].update(title='Minimum number of dimensions',)\n",
    "\n",
    "fig3['layout']['xaxis2'].update(title='Pairwise squared distances in original space',)\n",
    "fig3['layout']['yaxis2'].update(title='Minimum number of dimensions',)\n",
    "\n",
    "py.iplot(fig3, filename='J-L-3')"
   ]
  },
  {
   "cell_type": "code",
   "execution_count": 5,
   "metadata": {
    "collapsed": false
   },
   "outputs": [
    {
     "name": "stdout",
     "output_type": "stream",
     "text": [
      "This is the format of your plot grid:\n",
      "[ (1,1) x1,y1 ]  [ (1,2) x2,y2 ]\n",
      "\n"
     ]
    },
    {
     "name": "stderr",
     "output_type": "stream",
     "text": [
      "/home/diksha/.local/lib/python2.7/site-packages/plotly/plotly/plotly.py:236: UserWarning:\n",
      "\n",
      "Woah there! Look at all those points! Due to browser limitations, the Plotly SVG drawing functions have a hard time graphing more than 500k data points for line charts, or 40k points for other types of charts. Here are some suggestions:\n",
      "(1) Use the `plotly.graph_objs.Scattergl` trace object to generate a WebGl graph.\n",
      "(2) Trying using the image API to return an image instead of a graph URL\n",
      "(3) Use matplotlib\n",
      "(4) See if you can create your visualization with fewer data points\n",
      "\n",
      "If the visualization you're using aggregates points (e.g., box plot, histogram, etc.) you can disregard this warning.\n",
      "\n"
     ]
    },
    {
     "data": {
      "text/html": [
       "<iframe id=\"igraph\" scrolling=\"no\" style=\"border:none;\" seamless=\"seamless\" src=\"https://plot.ly/~Diksha_Gabha/2541.embed\" height=\"525px\" width=\"100%\"></iframe>"
      ],
      "text/plain": [
       "<plotly.tools.PlotlyDisplay object>"
      ]
     },
     "execution_count": 5,
     "metadata": {},
     "output_type": "execute_result"
    }
   ],
   "source": [
    "fig4 = tools.make_subplots(rows=1, cols=2, subplot_titles=(\n",
    "        'Pairwise distances distribution for n_components=1000',\n",
    "        'Histogram of pairwise distance rates for n_components=1000',\n",
    "        ))\n",
    "\n",
    "fig4.append_trace(tracen[2], 1, 1)\n",
    "fig4.append_trace(hist_trace[2], 1, 2)\n",
    "\n",
    "fig4['layout']['xaxis1'].update(title='Pairwise squared distances in original space',)\n",
    "fig4['layout']['yaxis1'].update(title='Minimum number of dimensions',)\n",
    "\n",
    "fig4['layout']['xaxis2'].update(title='Pairwise squared distances in original space',)\n",
    "fig4['layout']['yaxis2'].update(title='Minimum number of dimensions',)\n",
    "\n",
    "py.iplot(fig4, filename='J-L-4')"
   ]
  },
  {
   "cell_type": "markdown",
   "metadata": {
    "collapsed": false
   },
   "source": [
    "### Remarks"
   ]
  },
  {
   "cell_type": "markdown",
   "metadata": {
    "collapsed": true
   },
   "source": [
    "According to the JL lemma, projecting 500 samples without too much distortion will require at least several thousands dimensions, irrespective of the number of features of the original dataset.\n",
    "\n",
    "Hence using random projections on the digits dataset which only has 64 features in the input space does not make sense: it does not allow for dimensionality reduction in this case.\n",
    "\n",
    "On the twenty newsgroups on the other hand the dimensionality can be decreased from 56436 down to 10000 while reasonably preserving pairwise distances."
   ]
  },
  {
   "cell_type": "code",
   "execution_count": 2,
   "metadata": {
    "collapsed": false,
    "scrolled": false
   },
   "outputs": [
    {
     "data": {
      "text/html": [
       "<link href=\"//fonts.googleapis.com/css?family=Open+Sans:600,400,300,200|Inconsolata|Ubuntu+Mono:400,700\" rel=\"stylesheet\" type=\"text/css\" />"
      ],
      "text/plain": [
       "<IPython.core.display.HTML object>"
      ]
     },
     "metadata": {},
     "output_type": "display_data"
    },
    {
     "data": {
      "text/html": [
       "<link rel=\"stylesheet\" type=\"text/css\" href=\"http://help.plot.ly/documentation/all_static/css/ipython-notebook-custom.css\">"
      ],
      "text/plain": [
       "<IPython.core.display.HTML object>"
      ]
     },
     "metadata": {},
     "output_type": "display_data"
    },
    {
     "name": "stdout",
     "output_type": "stream",
     "text": [
      "Collecting git+https://github.com/plotly/publisher.git\n",
      "  Cloning https://github.com/plotly/publisher.git to /tmp/pip-7L9Fhq-build\n",
      "Installing collected packages: publisher\n",
      "  Running setup.py install for publisher ... \u001b[?25l-\b \berror\n",
      "    Complete output from command /usr/bin/python -u -c \"import setuptools, tokenize;__file__='/tmp/pip-7L9Fhq-build/setup.py';exec(compile(getattr(tokenize, 'open', open)(__file__).read().replace('\\r\\n', '\\n'), __file__, 'exec'))\" install --record /tmp/pip-4JsuHe-record/install-record.txt --single-version-externally-managed --compile:\n",
      "    running install\n",
      "    running build\n",
      "    running build_py\n",
      "    creating build\n",
      "    creating build/lib.linux-x86_64-2.7\n",
      "    creating build/lib.linux-x86_64-2.7/publisher\n",
      "    copying publisher/publisher.py -> build/lib.linux-x86_64-2.7/publisher\n",
      "    copying publisher/__init__.py -> build/lib.linux-x86_64-2.7/publisher\n",
      "    running install_lib\n",
      "    creating /usr/local/lib/python2.7/dist-packages/publisher\n",
      "    error: could not create '/usr/local/lib/python2.7/dist-packages/publisher': Permission denied\n",
      "    \n",
      "    ----------------------------------------\n",
      "\u001b[31mCommand \"/usr/bin/python -u -c \"import setuptools, tokenize;__file__='/tmp/pip-7L9Fhq-build/setup.py';exec(compile(getattr(tokenize, 'open', open)(__file__).read().replace('\\r\\n', '\\n'), __file__, 'exec'))\" install --record /tmp/pip-4JsuHe-record/install-record.txt --single-version-externally-managed --compile\" failed with error code 1 in /tmp/pip-7L9Fhq-build/\u001b[0m\n",
      "\u001b[33mYou are using pip version 8.1.2, however version 9.0.1 is available.\n",
      "You should consider upgrading via the 'pip install --upgrade pip' command.\u001b[0m\n",
      "\u001b[?25h"
     ]
    }
   ],
   "source": [
    "from IPython.display import display, HTML\n",
    "\n",
    "display(HTML('<link href=\"//fonts.googleapis.com/css?family=Open+Sans:600,400,300,200|Inconsolata|Ubuntu+Mono:400,700\" rel=\"stylesheet\" type=\"text/css\" />'))\n",
    "display(HTML('<link rel=\"stylesheet\" type=\"text/css\" href=\"http://help.plot.ly/documentation/all_static/css/ipython-notebook-custom.css\">'))\n",
    "\n",
    "! pip install git+https://github.com/plotly/publisher.git --upgrade\n",
    "import publisher\n",
    "publisher.publish(\n",
    "    'johnson-lindenstrauss.ipynb', 'scikit-learn/plot-johnson-lindenstrauss-bound/', 'Johnson-Lindenstrauss bound  | plotly',\n",
    "    'The Johnson-Lindenstrauss bound for embedding with random projections',\n",
    "    title = 'Johnson-Lindenstrauss bound  | plotly',\n",
    "    name = 'Johnson-Lindenstrauss bound ',\n",
    "    has_thumbnail='true', thumbnail='thumbnail/j-l-bound.jpg', \n",
    "    language='scikit-learn', page_type='example_index',\n",
    "    display_as='general_examples', order=7,ipynb='~Diksha_Gabha/2664')  \n"
   ]
  },
  {
   "cell_type": "code",
   "execution_count": null,
   "metadata": {
    "collapsed": true
   },
   "outputs": [],
   "source": []
  }
 ],
 "metadata": {
  "kernelspec": {
   "display_name": "Python 2",
   "language": "python",
   "name": "python2"
  },
  "language_info": {
   "codemirror_mode": {
    "name": "ipython",
    "version": 2
   },
   "file_extension": ".py",
   "mimetype": "text/x-python",
   "name": "python",
   "nbconvert_exporter": "python",
   "pygments_lexer": "ipython2",
   "version": "2.7.11"
  }
 },
 "nbformat": 4,
 "nbformat_minor": 0
}
