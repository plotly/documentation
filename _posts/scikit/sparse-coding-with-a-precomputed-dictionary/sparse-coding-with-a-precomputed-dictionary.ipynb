{
 "cells": [
  {
   "cell_type": "markdown",
   "metadata": {},
   "source": [
    "Transform a signal as a sparse combination of Ricker wavelets. This example visually compares different sparse coding methods using the [sklearn.decomposition.SparseCoder](http://scikit-learn.org/stable/modules/generated/sklearn.decomposition.SparseCoder.html#sklearn.decomposition.SparseCoder) estimator. The Ricker (also known as Mexican hat or the second derivative of a Gaussian) is not a particularly good kernel to represent piecewise constant signals like this one. It can therefore be seen how much adding different widths of atoms matters and it therefore motivates learning the dictionary to best fit your type of signals.\n",
    "\n",
    "The richer dictionary on the right is not larger in size, heavier subsampling is performed in order to stay on the same order of magnitude."
   ]
  },
  {
   "cell_type": "markdown",
   "metadata": {},
   "source": [
    "#### New to Plotly?\n",
    "Plotly's Python library is free and open source! [Get started](https://plot.ly/python/getting-started/) by downloading the client and [reading the primer](https://plot.ly/python/getting-started/).\n",
    "<br>You can set up Plotly to work in [online](https://plot.ly/python/getting-started/#initialization-for-online-plotting) or [offline](https://plot.ly/python/getting-started/#initialization-for-offline-plotting) mode, or in [jupyter notebooks](https://plot.ly/python/getting-started/#start-plotting-online).\n",
    "<br>We also have a quick-reference [cheatsheet](https://images.plot.ly/plotly-documentation/images/python_cheat_sheet.pdf) (new!) to help you get started!"
   ]
  },
  {
   "cell_type": "markdown",
   "metadata": {},
   "source": [
    "### Version"
   ]
  },
  {
   "cell_type": "code",
   "execution_count": 1,
   "metadata": {
    "collapsed": false
   },
   "outputs": [
    {
     "data": {
      "text/plain": [
       "'0.18'"
      ]
     },
     "execution_count": 1,
     "metadata": {},
     "output_type": "execute_result"
    }
   ],
   "source": [
    "import sklearn\n",
    "sklearn.__version__"
   ]
  },
  {
   "cell_type": "markdown",
   "metadata": {},
   "source": [
    "### Imports"
   ]
  },
  {
   "cell_type": "markdown",
   "metadata": {},
   "source": [
    "This tutorial imports [SparseCoder](http://scikit-learn.org/stable/modules/generated/sklearn.decomposition.SparseCoder.html#sklearn.decomposition.SparseCoder)"
   ]
  },
  {
   "cell_type": "code",
   "execution_count": 2,
   "metadata": {
    "collapsed": false
   },
   "outputs": [
    {
     "name": "stdout",
     "output_type": "stream",
     "text": [
      "Automatically created module for IPython interactive environment\n"
     ]
    }
   ],
   "source": [
    "print(__doc__)\n",
    "\n",
    "import plotly.plotly as py\n",
    "import plotly.graph_objs as go\n",
    "from plotly import tools\n",
    "\n",
    "import numpy as np\n",
    "from sklearn.decomposition import SparseCoder\n"
   ]
  },
  {
   "cell_type": "markdown",
   "metadata": {},
   "source": [
    "### Calculations"
   ]
  },
  {
   "cell_type": "code",
   "execution_count": 3,
   "metadata": {
    "collapsed": false
   },
   "outputs": [
    {
     "name": "stderr",
     "output_type": "stream",
     "text": [
      "/home/diksha/anaconda2/lib/python2.7/site-packages/ipykernel/__main__.py:13: VisibleDeprecationWarning:\n",
      "\n",
      "using a non-integer number instead of an integer will result in an error in the future\n",
      "\n"
     ]
    }
   ],
   "source": [
    "def ricker_function(resolution, center, width):\n",
    "    \"\"\"Discrete sub-sampled Ricker (Mexican hat) wavelet\"\"\"\n",
    "    x = np.linspace(0, resolution - 1, resolution)\n",
    "    x = ((2 / ((np.sqrt(3 * width) * np.pi ** 1 / 4)))\n",
    "         * (1 - ((x - center) ** 2 / width ** 2))\n",
    "         * np.exp((-(x - center) ** 2) / (2 * width ** 2)))\n",
    "    return x\n",
    "\n",
    "\n",
    "def ricker_matrix(width, resolution, n_components):\n",
    "    \"\"\"Dictionary of Ricker (Mexican hat) wavelets\"\"\"\n",
    "    centers = np.linspace(0, resolution - 1, n_components)\n",
    "    D = np.empty((n_components, resolution))\n",
    "    for i, center in enumerate(centers):\n",
    "        D[i] = ricker_function(resolution, center, width)\n",
    "    D /= np.sqrt(np.sum(D ** 2, axis=1))[:, np.newaxis]\n",
    "    return D\n",
    "\n",
    "\n",
    "resolution = 1024\n",
    "subsampling = 3  # subsampling factor\n",
    "width = 100\n",
    "n_components = resolution / subsampling\n",
    "\n",
    "# Compute a wavelet dictionary\n",
    "D_fixed = ricker_matrix(width=width, resolution=resolution,\n",
    "                        n_components=n_components)\n",
    "D_multi = np.r_[tuple(ricker_matrix(width=w, resolution=resolution,\n",
    "                                    n_components=np.floor(n_components / 5))\n",
    "                for w in (10, 50, 100, 500, 1000))]\n",
    "\n",
    "# Generate a signal\n",
    "y = np.linspace(0, resolution - 1, resolution)\n",
    "first_quarter = y < resolution / 4\n",
    "y[first_quarter] = 3.\n",
    "y[np.logical_not(first_quarter)] = -1.\n",
    "\n",
    "# List the different sparse coding methods in the following format:\n",
    "# (title, transform_algorithm, transform_alpha, transform_n_nozero_coefs)\n",
    "estimators = [('OMP', 'omp', None, 15, 'navy'),\n",
    "              ('Lasso', 'lasso_cd', 2, None, 'turquoise'), ]"
   ]
  },
  {
   "cell_type": "markdown",
   "metadata": {},
   "source": [
    "### Plot Results"
   ]
  },
  {
   "cell_type": "code",
   "execution_count": 4,
   "metadata": {
    "collapsed": false
   },
   "outputs": [
    {
     "name": "stderr",
     "output_type": "stream",
     "text": [
      "/home/diksha/anaconda2/lib/python2.7/site-packages/sklearn/linear_model/coordinate_descent.py:479: ConvergenceWarning:\n",
      "\n",
      "Objective did not converge. You might want to increase the number of iterations. Fitting data with very small alpha may cause precision problems.\n",
      "\n"
     ]
    }
   ],
   "source": [
    "data = [[],[]]\n",
    "for plot, (D, title) in enumerate(zip((D_fixed, D_multi),\n",
    "                                         ('fixed width', 'multiple widths'))):\n",
    "   \n",
    "    original_signal = go.Scatter(x=y,\n",
    "                                 mode='lines',\n",
    "                                 name='Original signal',\n",
    "                                 line=dict(dash='dash'))\n",
    "    data[plot].append(original_signal)\n",
    "    \n",
    "    # Do a wavelet approximation\n",
    "    for title, algo, alpha, n_nonzero, color in estimators:\n",
    "        coder = SparseCoder(dictionary=D, transform_n_nonzero_coefs=n_nonzero,\n",
    "                            transform_alpha=alpha, transform_algorithm=algo)\n",
    "        x = coder.transform(y.reshape(1, -1))\n",
    "        density = len(np.flatnonzero(x))\n",
    "        x = np.ravel(np.dot(x, D))\n",
    "        squared_error = np.sum((y - x) ** 2)\n",
    "        non_zero_coeff = go.Scatter(x=x,\n",
    "                                    mode='lines',\n",
    "                                    line=dict(color=color),\n",
    "                                    name='%s: %s nonzero coefs,<br>%.2f error'\n",
    "                                         % (title, density, squared_error))\n",
    "        data[plot].append(non_zero_coeff)\n",
    "    \n",
    "    # Soft thresholding debiasing\n",
    "    coder = SparseCoder(dictionary=D, transform_algorithm='threshold',\n",
    "                        transform_alpha=20)\n",
    "    x = coder.transform(y.reshape(1, -1))\n",
    "    _, idx = np.where(x != 0)\n",
    "    x[0, idx], _, _, _ = np.linalg.lstsq(D[idx, :].T, y)\n",
    "    x = np.ravel(np.dot(x, D))\n",
    "    squared_error = np.sum((y - x) ** 2)\n",
    "    threshold = go.Scatter(x=x, \n",
    "                           mode='lines',\n",
    "                           line=dict(color='darkorange'),\n",
    "                           name='Thresholding w/ debiasing:<br>%d nonzero coefs, %.2f error'\n",
    "                           % (len(idx), squared_error))\n",
    "    data[plot].append(threshold)\n",
    "    "
   ]
  },
  {
   "cell_type": "markdown",
   "metadata": {},
   "source": [
    "Sparse coding against fixed width dictionary"
   ]
  },
  {
   "cell_type": "code",
   "execution_count": 5,
   "metadata": {
    "collapsed": false
   },
   "outputs": [
    {
     "data": {
      "text/html": [
       "<iframe id=\"igraph\" scrolling=\"no\" style=\"border:none;\" seamless=\"seamless\" src=\"https://plot.ly/~Diksha_Gabha/2938.embed\" height=\"525px\" width=\"100%\"></iframe>"
      ],
      "text/plain": [
       "<plotly.tools.PlotlyDisplay object>"
      ]
     },
     "execution_count": 5,
     "metadata": {},
     "output_type": "execute_result"
    }
   ],
   "source": [
    "layout = go.Layout(title='Sparse coding against fixed width dictionary')\n",
    "fig = go.Figure(data = data[0], layout=layout)\n",
    "\n",
    "py.iplot(fig)"
   ]
  },
  {
   "cell_type": "markdown",
   "metadata": {},
   "source": [
    "Sparse coding against multiple widths dictionary"
   ]
  },
  {
   "cell_type": "code",
   "execution_count": 6,
   "metadata": {
    "collapsed": false
   },
   "outputs": [
    {
     "data": {
      "text/html": [
       "<iframe id=\"igraph\" scrolling=\"no\" style=\"border:none;\" seamless=\"seamless\" src=\"https://plot.ly/~Diksha_Gabha/2940.embed\" height=\"525px\" width=\"100%\"></iframe>"
      ],
      "text/plain": [
       "<plotly.tools.PlotlyDisplay object>"
      ]
     },
     "execution_count": 6,
     "metadata": {},
     "output_type": "execute_result"
    }
   ],
   "source": [
    "layout = go.Layout(title='Sparse coding against multiple widths dictionary')\n",
    "fig = go.Figure(data = data[1], layout=layout)\n",
    "\n",
    "py.iplot(fig)"
   ]
  },
  {
   "cell_type": "code",
   "execution_count": 2,
   "metadata": {
    "collapsed": false
   },
   "outputs": [
    {
     "data": {
      "text/html": [
       "<link href=\"//fonts.googleapis.com/css?family=Open+Sans:600,400,300,200|Inconsolata|Ubuntu+Mono:400,700\" rel=\"stylesheet\" type=\"text/css\" />"
      ],
      "text/plain": [
       "<IPython.core.display.HTML object>"
      ]
     },
     "metadata": {},
     "output_type": "display_data"
    },
    {
     "data": {
      "text/html": [
       "<link rel=\"stylesheet\" type=\"text/css\" href=\"http://help.plot.ly/documentation/all_static/css/ipython-notebook-custom.css\">"
      ],
      "text/plain": [
       "<IPython.core.display.HTML object>"
      ]
     },
     "metadata": {},
     "output_type": "display_data"
    },
    {
     "name": "stdout",
     "output_type": "stream",
     "text": [
      "Collecting git+https://github.com/plotly/publisher.git\n",
      "  Cloning https://github.com/plotly/publisher.git to /tmp/pip-G7ZV3d-build\n",
      "Installing collected packages: publisher\n",
      "  Running setup.py install for publisher ... \u001b[?25l-\b \berror\n",
      "    Complete output from command /usr/bin/python -u -c \"import setuptools, tokenize;__file__='/tmp/pip-G7ZV3d-build/setup.py';exec(compile(getattr(tokenize, 'open', open)(__file__).read().replace('\\r\\n', '\\n'), __file__, 'exec'))\" install --record /tmp/pip-XGDv1x-record/install-record.txt --single-version-externally-managed --compile:\n",
      "    running install\n",
      "    running build\n",
      "    running build_py\n",
      "    creating build\n",
      "    creating build/lib.linux-x86_64-2.7\n",
      "    creating build/lib.linux-x86_64-2.7/publisher\n",
      "    copying publisher/publisher.py -> build/lib.linux-x86_64-2.7/publisher\n",
      "    copying publisher/__init__.py -> build/lib.linux-x86_64-2.7/publisher\n",
      "    running install_lib\n",
      "    creating /usr/local/lib/python2.7/dist-packages/publisher\n",
      "    error: could not create '/usr/local/lib/python2.7/dist-packages/publisher': Permission denied\n",
      "    \n",
      "    ----------------------------------------\n",
      "\u001b[31mCommand \"/usr/bin/python -u -c \"import setuptools, tokenize;__file__='/tmp/pip-G7ZV3d-build/setup.py';exec(compile(getattr(tokenize, 'open', open)(__file__).read().replace('\\r\\n', '\\n'), __file__, 'exec'))\" install --record /tmp/pip-XGDv1x-record/install-record.txt --single-version-externally-managed --compile\" failed with error code 1 in /tmp/pip-G7ZV3d-build/\u001b[0m\n",
      "\u001b[33mYou are using pip version 8.1.2, however version 9.0.1 is available.\n",
      "You should consider upgrading via the 'pip install --upgrade pip' command.\u001b[0m\n",
      "\u001b[?25h"
     ]
    }
   ],
   "source": [
    "\n",
    "from IPython.display import display, HTML\n",
    "\n",
    "display(HTML('<link href=\"//fonts.googleapis.com/css?family=Open+Sans:600,400,300,200|Inconsolata|Ubuntu+Mono:400,700\" rel=\"stylesheet\" type=\"text/css\" />'))\n",
    "display(HTML('<link rel=\"stylesheet\" type=\"text/css\" href=\"http://help.plot.ly/documentation/all_static/css/ipython-notebook-custom.css\">'))\n",
    "\n",
    "! pip install git+https://github.com/plotly/publisher.git --upgrade\n",
    "import publisher\n",
    "publisher.publish(\n",
    "    'sparse-coding-with-a-precomputed-dictionary.ipynb', 'scikit-learn/plot-sparse-coding/', 'Sparse Coding with a Precomputed Dictionary | plotly',\n",
    "    ' ',\n",
    "    title = 'Sparse Coding with a Precomputed Dictionary | plotly',\n",
    "    name = 'Sparse Coding with a Precomputed Dictionary',\n",
    "    has_thumbnail='true', thumbnail='thumbnail/sparse-coding.jpg', \n",
    "    language='scikit-learn', page_type='example_index',\n",
    "    display_as='decomposition', order=8,\n",
    "    ipynb= '~Diksha_Gabha/2942')\n"
   ]
  },
  {
   "cell_type": "code",
   "execution_count": null,
   "metadata": {
    "collapsed": true
   },
   "outputs": [],
   "source": []
  }
 ],
 "metadata": {
  "kernelspec": {
   "display_name": "Python 2",
   "language": "python",
   "name": "python2"
  },
  "language_info": {
   "codemirror_mode": {
    "name": "ipython",
    "version": 2
   },
   "file_extension": ".py",
   "mimetype": "text/x-python",
   "name": "python",
   "nbconvert_exporter": "python",
   "pygments_lexer": "ipython2",
   "version": "2.7.11"
  }
 },
 "nbformat": 4,
 "nbformat_minor": 0
}
