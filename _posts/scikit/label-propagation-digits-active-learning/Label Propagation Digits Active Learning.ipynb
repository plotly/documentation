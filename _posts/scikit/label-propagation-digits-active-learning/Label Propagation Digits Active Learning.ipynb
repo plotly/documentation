{
 "cells": [
  {
   "cell_type": "markdown",
   "metadata": {},
   "source": [
    "Demonstrates an active learning technique to learn handwritten digits using label propagation.\n",
    "\n",
    "We start by training a label propagation model with only 10 labeled points, then we select the top five most uncertain points to label. Next, we train with 15 labeled points (original 10 + 5 new ones). We repeat this process four times to have a model trained with 30 labeled examples.\n",
    "\n",
    "A plot will appear showing the top 5 most uncertain digits for each iteration of training. These may or may not contain mistakes, but we will train the next model with their true labels."
   ]
  },
  {
   "cell_type": "markdown",
   "metadata": {},
   "source": [
    "### Version"
   ]
  },
  {
   "cell_type": "code",
   "execution_count": 1,
   "metadata": {
    "collapsed": false
   },
   "outputs": [
    {
     "data": {
      "text/plain": [
       "'0.18.1'"
      ]
     },
     "execution_count": 1,
     "metadata": {},
     "output_type": "execute_result"
    }
   ],
   "source": [
    "import sklearn\n",
    "sklearn.__version__"
   ]
  },
  {
   "cell_type": "markdown",
   "metadata": {},
   "source": [
    "### Imports"
   ]
  },
  {
   "cell_type": "markdown",
   "metadata": {},
   "source": [
    "This tutorial imports [classification_report](http://scikit-learn.org/stable/modules/generated/sklearn.metrics.classification_report.html#sklearn.metrics.classification_report) and [confusion_matrix](http://scikit-learn.org/stable/modules/generated/sklearn.metrics.confusion_matrix.html#sklearn.metrics.confusion_matrix)."
   ]
  },
  {
   "cell_type": "code",
   "execution_count": 2,
   "metadata": {
    "collapsed": false
   },
   "outputs": [
    {
     "name": "stdout",
     "output_type": "stream",
     "text": [
      "Automatically created module for IPython interactive environment\n"
     ]
    }
   ],
   "source": [
    "print(__doc__)\n",
    "\n",
    "import plotly.plotly as py\n",
    "import plotly.graph_objs as go\n",
    "from plotly import tools\n",
    "\n",
    "import numpy as np\n",
    "import matplotlib.pyplot as plt\n",
    "from scipy import stats\n",
    "\n",
    "from sklearn import datasets\n",
    "from sklearn.semi_supervised import label_propagation\n",
    "from sklearn.metrics import classification_report, confusion_matrix"
   ]
  },
  {
   "cell_type": "markdown",
   "metadata": {},
   "source": [
    "### Calculations"
   ]
  },
  {
   "cell_type": "code",
   "execution_count": 3,
   "metadata": {
    "collapsed": true
   },
   "outputs": [],
   "source": [
    "\n",
    "digits = datasets.load_digits()\n",
    "rng = np.random.RandomState(0)\n",
    "indices = np.arange(len(digits.data))\n",
    "rng.shuffle(indices)\n",
    "\n",
    "X = digits.data[indices[:330]]\n",
    "y = digits.target[indices[:330]]\n",
    "images = digits.images[indices[:330]]\n",
    "\n",
    "n_total_samples = len(y)\n",
    "n_labeled_points = 10\n",
    "\n",
    "unlabeled_indices = np.arange(n_total_samples)[n_labeled_points:]"
   ]
  },
  {
   "cell_type": "markdown",
   "metadata": {},
   "source": [
    "### Plot Results"
   ]
  },
  {
   "cell_type": "code",
   "execution_count": 4,
   "metadata": {
    "collapsed": true
   },
   "outputs": [],
   "source": [
    "data = []\n",
    "text = []\n",
    "titles = []\n",
    "\n",
    "def matplotlib_to_plotly(cmap, pl_entries):\n",
    "    h = 1.0/(pl_entries-1)\n",
    "    pl_colorscale = []\n",
    "    \n",
    "    for k in range(pl_entries):\n",
    "        C = map(np.uint8, np.array(cmap(k*h)[:3])*255)\n",
    "        pl_colorscale.append([k*h, 'rgb'+str((C[0], C[1], C[2]))])\n",
    "        \n",
    "    return pl_colorscale"
   ]
  },
  {
   "cell_type": "code",
   "execution_count": 5,
   "metadata": {
    "collapsed": false,
    "scrolled": false
   },
   "outputs": [
    {
     "name": "stdout",
     "output_type": "stream",
     "text": [
      "Iteration 0 ______________________________________________________________________\n",
      "Label Spreading model: 10 labeled & 320 unlabeled (330 total)\n",
      "             precision    recall  f1-score   support\n",
      "\n",
      "          0       0.00      0.00      0.00        24\n",
      "          1       0.49      0.90      0.63        29\n",
      "          2       0.88      0.97      0.92        31\n",
      "          3       0.00      0.00      0.00        28\n",
      "          4       0.00      0.00      0.00        27\n",
      "          5       0.89      0.49      0.63        35\n",
      "          6       0.86      0.95      0.90        40\n",
      "          7       0.75      0.92      0.83        36\n",
      "          8       0.54      0.79      0.64        33\n",
      "          9       0.41      0.86      0.56        37\n",
      "\n",
      "avg / total       0.52      0.63      0.55       320\n",
      "\n",
      "Confusion matrix\n",
      "[[26  1  0  0  1  0  1]\n",
      " [ 1 30  0  0  0  0  0]\n",
      " [ 0  0 17  6  0  2 10]\n",
      " [ 2  0  0 38  0  0  0]\n",
      " [ 0  3  0  0 33  0  0]\n",
      " [ 7  0  0  0  0 26  0]\n",
      " [ 0  0  2  0  0  3 32]]\n",
      "Iteration 1 ______________________________________________________________________\n",
      "Label Spreading model: 15 labeled & 315 unlabeled (330 total)\n",
      "             precision    recall  f1-score   support\n",
      "\n",
      "          0       1.00      1.00      1.00        23\n",
      "          1       0.61      0.59      0.60        29\n",
      "          2       0.91      0.97      0.94        31\n",
      "          3       1.00      0.56      0.71        27\n",
      "          4       0.79      0.88      0.84        26\n",
      "          5       0.89      0.46      0.60        35\n",
      "          6       0.86      0.95      0.90        40\n",
      "          7       0.97      0.92      0.94        36\n",
      "          8       0.54      0.84      0.66        31\n",
      "          9       0.70      0.81      0.75        37\n",
      "\n",
      "avg / total       0.82      0.80      0.79       315\n",
      "\n",
      "Confusion matrix\n",
      "[[23  0  0  0  0  0  0  0  0  0]\n",
      " [ 0 17  1  0  2  0  0  1  7  1]\n",
      " [ 0  1 30  0  0  0  0  0  0  0]\n",
      " [ 0  0  0 15  0  0  0  0 10  2]\n",
      " [ 0  3  0  0 23  0  0  0  0  0]\n",
      " [ 0  0  0  0  1 16  6  0  2 10]\n",
      " [ 0  2  0  0  0  0 38  0  0  0]\n",
      " [ 0  0  2  0  1  0  0 33  0  0]\n",
      " [ 0  5  0  0  0  0  0  0 26  0]\n",
      " [ 0  0  0  0  2  2  0  0  3 30]]\n",
      "Iteration 2 ______________________________________________________________________\n",
      "Label Spreading model: 20 labeled & 310 unlabeled (330 total)\n",
      "             precision    recall  f1-score   support\n",
      "\n",
      "          0       1.00      1.00      1.00        23\n",
      "          1       0.68      0.59      0.63        29\n",
      "          2       0.91      0.97      0.94        31\n",
      "          3       0.96      1.00      0.98        23\n",
      "          4       0.81      1.00      0.89        25\n",
      "          5       0.89      0.46      0.60        35\n",
      "          6       0.86      0.95      0.90        40\n",
      "          7       0.97      0.92      0.94        36\n",
      "          8       0.68      0.84      0.75        31\n",
      "          9       0.75      0.81      0.78        37\n",
      "\n",
      "avg / total       0.85      0.84      0.83       310\n",
      "\n",
      "Confusion matrix\n",
      "[[23  0  0  0  0  0  0  0  0  0]\n",
      " [ 0 17  1  0  2  0  0  1  7  1]\n",
      " [ 0  1 30  0  0  0  0  0  0  0]\n",
      " [ 0  0  0 23  0  0  0  0  0  0]\n",
      " [ 0  0  0  0 25  0  0  0  0  0]\n",
      " [ 0  0  0  1  1 16  6  0  2  9]\n",
      " [ 0  2  0  0  0  0 38  0  0  0]\n",
      " [ 0  0  2  0  1  0  0 33  0  0]\n",
      " [ 0  5  0  0  0  0  0  0 26  0]\n",
      " [ 0  0  0  0  2  2  0  0  3 30]]\n",
      "Iteration 3 ______________________________________________________________________\n",
      "Label Spreading model: 25 labeled & 305 unlabeled (330 total)\n",
      "             precision    recall  f1-score   support\n",
      "\n",
      "          0       1.00      1.00      1.00        23\n",
      "          1       0.70      0.85      0.77        27\n",
      "          2       1.00      0.90      0.95        31\n",
      "          3       1.00      1.00      1.00        23\n",
      "          4       1.00      1.00      1.00        25\n",
      "          5       0.96      0.74      0.83        34\n",
      "          6       1.00      0.95      0.97        40\n",
      "          7       0.90      1.00      0.95        35\n",
      "          8       0.83      0.81      0.82        31\n",
      "          9       0.75      0.83      0.79        36\n",
      "\n",
      "avg / total       0.91      0.90      0.90       305\n",
      "\n",
      "Confusion matrix\n",
      "[[23  0  0  0  0  0  0  0  0  0]\n",
      " [ 0 23  0  0  0  0  0  0  4  0]\n",
      " [ 0  1 28  0  0  0  0  2  0  0]\n",
      " [ 0  0  0 23  0  0  0  0  0  0]\n",
      " [ 0  0  0  0 25  0  0  0  0  0]\n",
      " [ 0  0  0  0  0 25  0  0  0  9]\n",
      " [ 0  2  0  0  0  0 38  0  0  0]\n",
      " [ 0  0  0  0  0  0  0 35  0  0]\n",
      " [ 0  5  0  0  0  0  0  0 25  1]\n",
      " [ 0  2  0  0  0  1  0  2  1 30]]\n",
      "Iteration 4 ______________________________________________________________________\n",
      "Label Spreading model: 30 labeled & 300 unlabeled (330 total)\n",
      "             precision    recall  f1-score   support\n",
      "\n",
      "          0       1.00      1.00      1.00        23\n",
      "          1       0.77      0.88      0.82        26\n",
      "          2       1.00      0.90      0.95        31\n",
      "          3       1.00      1.00      1.00        23\n",
      "          4       1.00      1.00      1.00        25\n",
      "          5       0.94      0.97      0.95        32\n",
      "          6       1.00      0.97      0.99        39\n",
      "          7       0.90      1.00      0.95        35\n",
      "          8       0.89      0.81      0.85        31\n",
      "          9       0.94      0.89      0.91        35\n",
      "\n",
      "avg / total       0.94      0.94      0.94       300\n",
      "\n",
      "Confusion matrix\n",
      "[[23  0  0  0  0  0  0  0  0  0]\n",
      " [ 0 23  0  0  0  0  0  0  3  0]\n",
      " [ 0  1 28  0  0  0  0  2  0  0]\n",
      " [ 0  0  0 23  0  0  0  0  0  0]\n",
      " [ 0  0  0  0 25  0  0  0  0  0]\n",
      " [ 0  0  0  0  0 31  0  0  0  1]\n",
      " [ 0  1  0  0  0  0 38  0  0  0]\n",
      " [ 0  0  0  0  0  0  0 35  0  0]\n",
      " [ 0  5  0  0  0  0  0  0 25  1]\n",
      " [ 0  0  0  0  0  2  0  2  0 31]]\n"
     ]
    },
    {
     "name": "stderr",
     "output_type": "stream",
     "text": [
      "/home/diksha/anaconda2/lib/python2.7/site-packages/sklearn/metrics/classification.py:1113: UndefinedMetricWarning:\n",
      "\n",
      "Precision and F-score are ill-defined and being set to 0.0 in labels with no predicted samples.\n",
      "\n"
     ]
    }
   ],
   "source": [
    "for i in range(5):\n",
    "    y_train = np.copy(y)\n",
    "    y_train[unlabeled_indices] = -1\n",
    "\n",
    "    lp_model = label_propagation.LabelSpreading(gamma=0.25, max_iter=5)\n",
    "    lp_model.fit(X, y_train)\n",
    "\n",
    "    predicted_labels = lp_model.transduction_[unlabeled_indices]\n",
    "    true_labels = y[unlabeled_indices]\n",
    "\n",
    "    cm = confusion_matrix(true_labels, predicted_labels,\n",
    "                          labels=lp_model.classes_)\n",
    "\n",
    "    print('Iteration %i %s' % (i, 70 * '_'))\n",
    "    print(\"Label Spreading model: %d labeled & %d unlabeled (%d total)\"\n",
    "          % (n_labeled_points, n_total_samples - n_labeled_points, n_total_samples))\n",
    "\n",
    "    print(classification_report(true_labels, predicted_labels))\n",
    "\n",
    "    print(\"Confusion matrix\")\n",
    "    print(cm)\n",
    "\n",
    "    # compute the entropies of transduced label distributions\n",
    "    pred_entropies = stats.distributions.entropy(\n",
    "        lp_model.label_distributions_.T)\n",
    "\n",
    "    # select five digit examples that the classifier is most uncertain about\n",
    "    uncertainty_index = uncertainty_index = np.argsort(pred_entropies)[-5:]\n",
    "\n",
    "    # keep track of indices that we get labels for\n",
    "    delete_indices = np.array([])\n",
    "    data.append([])\n",
    "    text.append(\"model %d<br>fit with<br>%d labels\" % ((i + 1), i * 5 + 10))\n",
    "    for index, image_index in enumerate(uncertainty_index):\n",
    "        image = images[image_index]\n",
    "\n",
    "        trace = go.Heatmap(z=image, showscale=False, \n",
    "                           colorscale=matplotlib_to_plotly(plt.cm.gray_r, 5))\n",
    "        data[i].append(trace)\n",
    "        \n",
    "        titles.append('predict: %i<br>true: %i' % (\n",
    "            lp_model.transduction_[image_index], y[image_index]))\n",
    "        \n",
    "\n",
    "        # labeling 5 points, remote from labeled set\n",
    "        delete_index, = np.where(unlabeled_indices == image_index)\n",
    "        delete_indices = np.concatenate((delete_indices, delete_index))\n",
    "\n",
    "    unlabeled_indices = np.delete(unlabeled_indices, delete_indices)\n",
    "    n_labeled_points += 5\n"
   ]
  },
  {
   "cell_type": "code",
   "execution_count": 10,
   "metadata": {
    "collapsed": false
   },
   "outputs": [],
   "source": [
    "fig = tools.make_subplots(rows=5, cols=5,\n",
    "                          subplot_titles=tuple(titles),\n",
    "                          print_grid=False)\n",
    "\n",
    "for i in range(0, len(data)):\n",
    "    for j in range(0, len(data[i])):\n",
    "        fig.append_trace(data[i][j], i+1, j+1)\n",
    "\n",
    "for i in map(str,range(1, 26)):\n",
    "        y = 'yaxis' + i\n",
    "        x = 'xaxis' + i\n",
    "        \n",
    "        fig['layout'][y].update(autorange='reversed',\n",
    "                                showticklabels=False, ticks='')\n",
    "        fig['layout'][x].update(showticklabels=False, ticks='')\n",
    "        \n",
    "j = 0\n",
    "for i in map(str,range(1, 26, 5)):\n",
    "        y = 'yaxis' + i\n",
    "        x = 'xaxis' + i\n",
    "        \n",
    "        fig['layout'][y].update(title=text[j],\n",
    "                                autorange='reversed',\n",
    "                                showticklabels=False, ticks='')\n",
    "        j+=1\n",
    "fig['layout'].update(height=1000, title=\"Active learning with Label Propagation.<br>\"\n",
    "                     +\"Rows show 5 most uncertain labels to learn with the next model.\",\n",
    "                     margin=dict(t=200))"
   ]
  },
  {
   "cell_type": "code",
   "execution_count": 11,
   "metadata": {
    "collapsed": false
   },
   "outputs": [
    {
     "name": "stdout",
     "output_type": "stream",
     "text": [
      "The draw time for this plot will be slow for all clients.\n"
     ]
    },
    {
     "data": {
      "text/html": [
       "<iframe id=\"igraph\" scrolling=\"no\" style=\"border:none;\" seamless=\"seamless\" src=\"https://plot.ly/~Diksha_Gabha/3527.embed\" height=\"1000px\" width=\"100%\"></iframe>"
      ],
      "text/plain": [
       "<plotly.tools.PlotlyDisplay object>"
      ]
     },
     "execution_count": 11,
     "metadata": {},
     "output_type": "execute_result"
    }
   ],
   "source": [
    "py.iplot(fig)"
   ]
  },
  {
   "cell_type": "markdown",
   "metadata": {
    "collapsed": true
   },
   "source": [
    "### License"
   ]
  },
  {
   "cell_type": "markdown",
   "metadata": {},
   "source": [
    "Authors: \n",
    "\n",
    "          Clay Woolam <clay@woolam.org>\n",
    "\n",
    "License: \n",
    "\n",
    "          BSD"
   ]
  },
  {
   "cell_type": "code",
   "execution_count": 13,
   "metadata": {
    "collapsed": false
   },
   "outputs": [
    {
     "data": {
      "text/html": [
       "<link href=\"//fonts.googleapis.com/css?family=Open+Sans:600,400,300,200|Inconsolata|Ubuntu+Mono:400,700\" rel=\"stylesheet\" type=\"text/css\" />"
      ],
      "text/plain": [
       "<IPython.core.display.HTML object>"
      ]
     },
     "metadata": {},
     "output_type": "display_data"
    },
    {
     "data": {
      "text/html": [
       "<link rel=\"stylesheet\" type=\"text/css\" href=\"http://help.plot.ly/documentation/all_static/css/ipython-notebook-custom.css\">"
      ],
      "text/plain": [
       "<IPython.core.display.HTML object>"
      ]
     },
     "metadata": {},
     "output_type": "display_data"
    },
    {
     "name": "stdout",
     "output_type": "stream",
     "text": [
      "Collecting git+https://github.com/plotly/publisher.git\n",
      "  Cloning https://github.com/plotly/publisher.git to /tmp/pip-wZUPah-build\n",
      "Installing collected packages: publisher\n",
      "  Found existing installation: publisher 0.10\n",
      "    Uninstalling publisher-0.10:\n",
      "      Successfully uninstalled publisher-0.10\n",
      "  Running setup.py install for publisher ... \u001b[?25l-\b \bdone\n",
      "\u001b[?25hSuccessfully installed publisher-0.10\n"
     ]
    }
   ],
   "source": [
    "from IPython.display import display, HTML\n",
    "\n",
    "display(HTML('<link href=\"//fonts.googleapis.com/css?family=Open+Sans:600,400,300,200|Inconsolata|Ubuntu+Mono:400,700\" rel=\"stylesheet\" type=\"text/css\" />'))\n",
    "display(HTML('<link rel=\"stylesheet\" type=\"text/css\" href=\"http://help.plot.ly/documentation/all_static/css/ipython-notebook-custom.css\">'))\n",
    "\n",
    "! pip install git+https://github.com/plotly/publisher.git --upgrade\n",
    "import publisher\n",
    "publisher.publish(\n",
    "    'Label Propagation Digits Active Learning.ipynb', 'scikit-learn/plot-label-propagation-digits-active-learning/', 'Label Propagation Digits Active Learning | plotly',\n",
    "    ' ',\n",
    "    title = 'Label Propagation Digits Active Learning | plotly',\n",
    "    name = 'Label Propagation Digits Active Learning',\n",
    "    has_thumbnail='true', thumbnail='thumbnail/label-propagation-digits.jpg', \n",
    "    language='scikit-learn', page_type='example_index',\n",
    "    display_as='semi_supervised', order=4,\n",
    "    ipynb= '~Diksha_Gabha/3529')"
   ]
  },
  {
   "cell_type": "code",
   "execution_count": null,
   "metadata": {
    "collapsed": true
   },
   "outputs": [],
   "source": []
  }
 ],
 "metadata": {
  "kernelspec": {
   "display_name": "Python 2",
   "language": "python",
   "name": "python2"
  },
  "language_info": {
   "codemirror_mode": {
    "name": "ipython",
    "version": 2
   },
   "file_extension": ".py",
   "mimetype": "text/x-python",
   "name": "python",
   "nbconvert_exporter": "python",
   "pygments_lexer": "ipython2",
   "version": "2.7.13"
  }
 },
 "nbformat": 4,
 "nbformat_minor": 2
}
