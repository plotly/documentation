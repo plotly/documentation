{
 "cells": [
  {
   "cell_type": "markdown",
   "metadata": {},
   "source": [
    "An illustration of dimensionality reduction on the S-curve dataset with various manifold learning methods.\n",
    "\n",
    "For a discussion and comparison of these algorithms, see the [manifold module page](http://scikit-learn.org/stable/modules/manifold.html#manifold)\n",
    "\n",
    "For a similar example, where the methods are applied to a sphere dataset, see [Manifold Learning methods on a severed sphere](http://scikit-learn.org/stable/auto_examples/manifold/plot_manifold_sphere.html#sphx-glr-auto-examples-manifold-plot-manifold-sphere-py)\n",
    "\n",
    "Note that the purpose of the MDS is to find a low-dimensional representation of the data (here 2D) in which the distances respect well the distances in the original high-dimensional space, unlike other manifold-learning algorithms, it does not seeks an isotropic representation of the data in the low-dimensional space."
   ]
  },
  {
   "cell_type": "markdown",
   "metadata": {},
   "source": [
    "#### New to Plotly?\n",
    "Plotly's Python library is free and open source! [Get started](https://plot.ly/python/getting-started/) by downloading the client and [reading the primer](https://plot.ly/python/getting-started/).\n",
    "<br>You can set up Plotly to work in [online](https://plot.ly/python/getting-started/#initialization-for-online-plotting) or [offline](https://plot.ly/python/getting-started/#initialization-for-offline-plotting) mode, or in [jupyter notebooks](https://plot.ly/python/getting-started/#start-plotting-online).\n",
    "<br>We also have a quick-reference [cheatsheet](https://images.plot.ly/plotly-documentation/images/python_cheat_sheet.pdf) (new!) to help you get started!"
   ]
  },
  {
   "cell_type": "markdown",
   "metadata": {},
   "source": [
    "### Version"
   ]
  },
  {
   "cell_type": "code",
   "execution_count": 1,
   "metadata": {
    "collapsed": false
   },
   "outputs": [
    {
     "data": {
      "text/plain": [
       "'0.18.1'"
      ]
     },
     "execution_count": 1,
     "metadata": {},
     "output_type": "execute_result"
    }
   ],
   "source": [
    "import sklearn\n",
    "sklearn.__version__"
   ]
  },
  {
   "cell_type": "markdown",
   "metadata": {},
   "source": [
    "### Imports"
   ]
  },
  {
   "cell_type": "code",
   "execution_count": 2,
   "metadata": {
    "collapsed": false
   },
   "outputs": [
    {
     "name": "stdout",
     "output_type": "stream",
     "text": [
      "Automatically created module for IPython interactive environment\n"
     ]
    }
   ],
   "source": [
    "print(__doc__)\n",
    "\n",
    "import plotly.plotly as py\n",
    "import plotly.graph_objs as go\n",
    "from plotly import tools\n",
    "\n",
    "from time import time\n",
    "import numpy as np\n",
    "\n",
    "import matplotlib.pyplot as plt\n",
    "from sklearn import manifold, datasets"
   ]
  },
  {
   "cell_type": "markdown",
   "metadata": {},
   "source": [
    "### Calculations"
   ]
  },
  {
   "cell_type": "code",
   "execution_count": 3,
   "metadata": {
    "collapsed": true
   },
   "outputs": [],
   "source": [
    "n_points = 1000\n",
    "X, color = datasets.samples_generator.make_s_curve(n_points, random_state=0)\n",
    "n_neighbors = 10\n",
    "n_components = 2"
   ]
  },
  {
   "cell_type": "markdown",
   "metadata": {},
   "source": [
    "### Plot Results"
   ]
  },
  {
   "cell_type": "code",
   "execution_count": 4,
   "metadata": {
    "collapsed": false
   },
   "outputs": [],
   "source": [
    "def matplotlib_to_plotly(cmap, pl_entries):\n",
    "    h = 1.0/(pl_entries-1)\n",
    "    pl_colorscale = []\n",
    "    \n",
    "    for k in range(pl_entries):\n",
    "        C = map(np.uint8, np.array(cmap(k*h)[:3])*255)\n",
    "        pl_colorscale.append([k*h, 'rgb'+str((C[0], C[1], C[2]))])\n",
    "        \n",
    "    return pl_colorscale\n",
    "\n",
    "cmap = matplotlib_to_plotly(plt.cm.Spectral, 4)"
   ]
  },
  {
   "cell_type": "markdown",
   "metadata": {},
   "source": [
    "### Plot Dataset"
   ]
  },
  {
   "cell_type": "code",
   "execution_count": 5,
   "metadata": {
    "collapsed": false
   },
   "outputs": [],
   "source": [
    "try:\n",
    "    p1 = go.Scatter3d(x=X[:, 0], y=X[:, 1], z=X[:, 2],\n",
    "                      mode='markers', \n",
    "                      marker=dict(color=color, \n",
    "                                  colorscale=cmap,\n",
    "                                  showscale=False,\n",
    "                                  line=dict(color='black', width=1)))\n",
    "\n",
    "except:\n",
    "    p1 = go.Scatter(x=X[:, 0], y=X[:, 2], \n",
    "                    mode='markers', \n",
    "                    marker=dict(color=color, \n",
    "                                colorscale=cmap,\n",
    "                                showscale=False,\n",
    "                                line=dict(color='black', width=1)))\n",
    "\n",
    "layout=dict(margin=dict(l=10, r=10,\n",
    "                        t=30, b=10)\n",
    "           )\n",
    "fig = go.Figure(data=[p1], layout=layout)"
   ]
  },
  {
   "cell_type": "code",
   "execution_count": 6,
   "metadata": {
    "collapsed": false
   },
   "outputs": [
    {
     "data": {
      "text/html": [
       "<iframe id=\"igraph\" scrolling=\"no\" style=\"border:none;\" seamless=\"seamless\" src=\"https://plot.ly/~Diksha_Gabha/3321.embed\" height=\"525px\" width=\"100%\"></iframe>"
      ],
      "text/plain": [
       "<plotly.tools.PlotlyDisplay object>"
      ]
     },
     "execution_count": 6,
     "metadata": {},
     "output_type": "execute_result"
    }
   ],
   "source": [
    "py.iplot(fig)"
   ]
  },
  {
   "cell_type": "markdown",
   "metadata": {},
   "source": [
    "### Methods: Standard, Ltsa, Hessian, Modified"
   ]
  },
  {
   "cell_type": "code",
   "execution_count": 7,
   "metadata": {
    "collapsed": false
   },
   "outputs": [
    {
     "name": "stdout",
     "output_type": "stream",
     "text": [
      "standard: 0.15 sec\n",
      "ltsa: 0.32 sec\n",
      "hessian: 0.5 sec\n",
      "modified: 0.43 sec\n"
     ]
    }
   ],
   "source": [
    "methods = ['standard', 'ltsa', 'hessian', 'modified']\n",
    "labels = ['LLE', 'LTSA', 'Hessian LLE', 'Modified LLE']\n",
    "data = []\n",
    "titles = []\n",
    "\n",
    "for i, method in enumerate(methods):\n",
    "    t0 = time()\n",
    "    Y = manifold.LocallyLinearEmbedding(n_neighbors, n_components,\n",
    "                                        eigen_solver='auto',\n",
    "                                        method=method).fit_transform(X)\n",
    "    t1 = time()\n",
    "    print(\"%s: %.2g sec\" % (methods[i], t1 - t0))\n",
    "\n",
    "    trace = go.Scatter(x=Y[:, 0], y=Y[:, 1], \n",
    "                       mode='markers', \n",
    "                       marker=dict(color=color, \n",
    "                                   colorscale=cmap,\n",
    "                                   showscale=False,\n",
    "                                   line=dict(color='black', width=1)))\n",
    "    data.append(trace)\n",
    "    titles.append(\"%s (%.2g sec)\" % (labels[i], t1 - t0))\n",
    "    "
   ]
  },
  {
   "cell_type": "markdown",
   "metadata": {},
   "source": [
    "### Isomap"
   ]
  },
  {
   "cell_type": "code",
   "execution_count": 8,
   "metadata": {
    "collapsed": false
   },
   "outputs": [
    {
     "name": "stdout",
     "output_type": "stream",
     "text": [
      "Isomap: 0.59 sec\n"
     ]
    }
   ],
   "source": [
    "t0 = time()\n",
    "Y = manifold.Isomap(n_neighbors, n_components).fit_transform(X)\n",
    "t1 = time()\n",
    "print(\"Isomap: %.2g sec\" % (t1 - t0))\n",
    "\n",
    "trace = go.Scatter(x=Y[:, 0], y=Y[:, 1],\n",
    "                   mode='markers', \n",
    "                   marker=dict(color=color, \n",
    "                               colorscale=cmap,\n",
    "                               showscale=False,\n",
    "                               line=dict(color='black', width=1)))\n",
    "data.append(trace)\n",
    "titles.append(\"Isomap (%.2g sec)\" % (t1 - t0))"
   ]
  },
  {
   "cell_type": "markdown",
   "metadata": {},
   "source": [
    "### MDS"
   ]
  },
  {
   "cell_type": "code",
   "execution_count": 9,
   "metadata": {
    "collapsed": false
   },
   "outputs": [
    {
     "name": "stdout",
     "output_type": "stream",
     "text": [
      "MDS: 1.7 sec\n"
     ]
    }
   ],
   "source": [
    "t0 = time()\n",
    "mds = manifold.MDS(n_components, max_iter=100, n_init=1)\n",
    "Y = mds.fit_transform(X)\n",
    "t1 = time()\n",
    "print(\"MDS: %.2g sec\" % (t1 - t0))\n",
    "\n",
    "trace = go.Scatter(x=Y[:, 0], y=Y[:, 1],\n",
    "                   mode='markers', \n",
    "                   marker=dict(color=color, \n",
    "                               colorscale=cmap,\n",
    "                               showscale=False,\n",
    "                               line=dict(color='black', width=1)))\n",
    "data.append(trace)\n",
    "\n",
    "titles.append(\"MDS (%.2g sec)\" % (t1 - t0))"
   ]
  },
  {
   "cell_type": "markdown",
   "metadata": {},
   "source": [
    "### SpectralEmbedding"
   ]
  },
  {
   "cell_type": "code",
   "execution_count": 10,
   "metadata": {
    "collapsed": false
   },
   "outputs": [
    {
     "name": "stdout",
     "output_type": "stream",
     "text": [
      "SpectralEmbedding: 0.16 sec\n"
     ]
    }
   ],
   "source": [
    "t0 = time()\n",
    "se = manifold.SpectralEmbedding(n_components=n_components,\n",
    "                                n_neighbors=n_neighbors)\n",
    "Y = se.fit_transform(X)\n",
    "t1 = time()\n",
    "print(\"SpectralEmbedding: %.2g sec\" % (t1 - t0))\n",
    "\n",
    "trace = go.Scatter(x=Y[:, 0], y=Y[:, 1],\n",
    "                   mode='markers', \n",
    "                   marker=dict(color=color, \n",
    "                               colorscale=cmap,\n",
    "                               showscale=False,\n",
    "                               line=dict(color='black', width=1)))\n",
    "data.append(trace)\n",
    "\n",
    "titles.append(\"SpectralEmbedding (%.2g sec)\" % (t1 - t0))"
   ]
  },
  {
   "cell_type": "markdown",
   "metadata": {},
   "source": [
    "### t-SNE"
   ]
  },
  {
   "cell_type": "code",
   "execution_count": 11,
   "metadata": {
    "collapsed": false
   },
   "outputs": [
    {
     "name": "stdout",
     "output_type": "stream",
     "text": [
      "t-SNE: 3.6 sec\n"
     ]
    }
   ],
   "source": [
    "t0 = time()\n",
    "tsne = manifold.TSNE(n_components=n_components, init='pca', random_state=0)\n",
    "Y = tsne.fit_transform(X)\n",
    "t1 = time()\n",
    "print(\"t-SNE: %.2g sec\" % (t1 - t0))\n",
    "\n",
    "trace = go.Scatter(x=Y[:, 0], y=Y[:, 1],\n",
    "                   mode='markers', \n",
    "                   marker=dict(color=color, \n",
    "                               colorscale=cmap,\n",
    "                               showscale=False,\n",
    "                               line=dict(color='black', width=1)))\n",
    "data.append(trace)\n",
    "titles.append(\"t-SNE (%.2g sec)\" % (t1 - t0))"
   ]
  },
  {
   "cell_type": "code",
   "execution_count": 12,
   "metadata": {
    "collapsed": false
   },
   "outputs": [
    {
     "name": "stdout",
     "output_type": "stream",
     "text": [
      "This is the format of your plot grid:\n",
      "[ (1,1) x1,y1 ]  [ (1,2) x2,y2 ]  [ (1,3) x3,y3 ]  [ (1,4) x4,y4 ]\n",
      "[ (2,1) x5,y5 ]  [ (2,2) x6,y6 ]  [ (2,3) x7,y7 ]  [ (2,4) x8,y8 ]\n",
      "\n"
     ]
    }
   ],
   "source": [
    "fig = tools.make_subplots(rows=2, cols=4, \n",
    "                          subplot_titles=tuple(titles))\n",
    "\n",
    "for i in range(0, len(data)):\n",
    "    fig.append_trace(data[i], (i/4)+1, (i%4)+1)\n",
    "\n",
    "    \n",
    "fig['layout'].update(title=\"Manifold Learning with %i points, %i neighbors\" % (1000, n_neighbors),\n",
    "                     showlegend=False, height=900, hovermode='closest')\n"
   ]
  },
  {
   "cell_type": "code",
   "execution_count": 13,
   "metadata": {
    "collapsed": false
   },
   "outputs": [
    {
     "data": {
      "text/html": [
       "<iframe id=\"igraph\" scrolling=\"no\" style=\"border:none;\" seamless=\"seamless\" src=\"https://plot.ly/~Diksha_Gabha/3323.embed\" height=\"900px\" width=\"100%\"></iframe>"
      ],
      "text/plain": [
       "<plotly.tools.PlotlyDisplay object>"
      ]
     },
     "execution_count": 13,
     "metadata": {},
     "output_type": "execute_result"
    }
   ],
   "source": [
    "py.iplot(fig)"
   ]
  },
  {
   "cell_type": "markdown",
   "metadata": {},
   "source": [
    "### License"
   ]
  },
  {
   "cell_type": "markdown",
   "metadata": {},
   "source": [
    "Author: \n",
    "\n",
    "        Jake Vanderplas -- <vanderplas@astro.washington.edu>\n"
   ]
  },
  {
   "cell_type": "code",
   "execution_count": 19,
   "metadata": {
    "collapsed": false
   },
   "outputs": [
    {
     "data": {
      "text/html": [
       "<link href=\"//fonts.googleapis.com/css?family=Open+Sans:600,400,300,200|Inconsolata|Ubuntu+Mono:400,700\" rel=\"stylesheet\" type=\"text/css\" />"
      ],
      "text/plain": [
       "<IPython.core.display.HTML object>"
      ]
     },
     "metadata": {},
     "output_type": "display_data"
    },
    {
     "data": {
      "text/html": [
       "<link rel=\"stylesheet\" type=\"text/css\" href=\"http://help.plot.ly/documentation/all_static/css/ipython-notebook-custom.css\">"
      ],
      "text/plain": [
       "<IPython.core.display.HTML object>"
      ]
     },
     "metadata": {},
     "output_type": "display_data"
    },
    {
     "name": "stdout",
     "output_type": "stream",
     "text": [
      "Collecting git+https://github.com/plotly/publisher.git\n",
      "  Cloning https://github.com/plotly/publisher.git to /tmp/pip-wW4DQK-build\n",
      "Installing collected packages: publisher\n",
      "  Found existing installation: publisher 0.10\n",
      "    Uninstalling publisher-0.10:\n",
      "      Successfully uninstalled publisher-0.10\n",
      "  Running setup.py install for publisher ... \u001b[?25l-\b \bdone\n",
      "\u001b[?25hSuccessfully installed publisher-0.10\n"
     ]
    }
   ],
   "source": [
    "from IPython.display import display, HTML\n",
    "\n",
    "display(HTML('<link href=\"//fonts.googleapis.com/css?family=Open+Sans:600,400,300,200|Inconsolata|Ubuntu+Mono:400,700\" rel=\"stylesheet\" type=\"text/css\" />'))\n",
    "display(HTML('<link rel=\"stylesheet\" type=\"text/css\" href=\"http://help.plot.ly/documentation/all_static/css/ipython-notebook-custom.css\">'))\n",
    "\n",
    "! pip install git+https://github.com/plotly/publisher.git --upgrade\n",
    "import publisher\n",
    "publisher.publish(\n",
    "    'Comparison of Manifold Learning Methods.ipynb', 'scikit-learn/plot-compare-methods/', 'Comparison of Manifold Learning Methods | plotly',\n",
    "    '',\n",
    "    title = 'Comparison of Manifold Learning Methods | plotly',\n",
    "    name = 'Comparison of Manifold Learning Methods',\n",
    "    has_thumbnail='true', thumbnail='thumbnail/manifold.jpg', \n",
    "    language='scikit-learn', page_type='example_index',\n",
    "    display_as='manifold_learning', order=3,\n",
    "    ipynb= '~Diksha_Gabha/3325')"
   ]
  },
  {
   "cell_type": "code",
   "execution_count": null,
   "metadata": {
    "collapsed": true
   },
   "outputs": [],
   "source": []
  }
 ],
 "metadata": {
  "anaconda-cloud": {},
  "kernelspec": {
   "display_name": "Python [default]",
   "language": "python",
   "name": "python2"
  },
  "language_info": {
   "codemirror_mode": {
    "name": "ipython",
    "version": 2
   },
   "file_extension": ".py",
   "mimetype": "text/x-python",
   "name": "python",
   "nbconvert_exporter": "python",
   "pygments_lexer": "ipython2",
   "version": "2.7.12"
  }
 },
 "nbformat": 4,
 "nbformat_minor": 1
}
