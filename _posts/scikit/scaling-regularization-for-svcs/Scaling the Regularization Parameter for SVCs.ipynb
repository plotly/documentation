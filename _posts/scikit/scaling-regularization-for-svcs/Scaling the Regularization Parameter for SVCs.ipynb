{
 "cells": [
  {
   "cell_type": "markdown",
   "metadata": {},
   "source": [
    "The following example illustrates the effect of scaling the regularization parameter when using Support Vector Machines for classification. For SVC classification, we are interested in a risk minimization for the equation:\n",
    "\n",
    "![image_not_found](http://scikit-learn.org/stable/_images/math/8f8b07a48d22d808a36357e982790f1a34486fed.png)\n",
    "\n",
    "where\n",
    "\n",
    " * ![C](http://scikit-learn.org/stable/_images/math/afce44aa7c55836ca9345404c22fc7b599d2ed84.png)is used to set the amount of regularization\n",
    "\n",
    " * ![L](http://scikit-learn.org/stable/_images/math/fbafa98177a4e80f5b20c54216c5fa7ed736f5f0.png)is a loss function of our samples and our model parameters.\n",
    "\n",
    " * ![Omega](http://scikit-learn.org/stable/_images/math/cd30e0b91d2b53728ae09ccac9d857b79b3adfcb.png)is a penalty function of our model parameters\n",
    "\n",
    "If we consider the loss function to be the individual error per sample, then the data-fit term, or the sum of the error for each sample, will increase as we add more samples. The penalization term, however, will not increase.\n",
    "When using, for example, cross validation, to set the amount of regularization with C, there will be a different amount of samples between the main problem and the smaller problems within the folds of the cross validation.\n",
    "\n",
    "Since our loss function is dependent on the amount of samples, the latter will influence the selected value of C. The question that arises is How do we optimally adjust C to account for the different amount of training samples?\n",
    "The figures below are used to illustrate the effect of scaling our C to compensate for the change in the number of samples, in the case of using an l1 penalty, as well as the l2 penalty."
   ]
  },
  {
   "cell_type": "markdown",
   "metadata": {},
   "source": [
    "### l1-penalty case"
   ]
  },
  {
   "cell_type": "markdown",
   "metadata": {},
   "source": [
    "In the l1 case, theory says that prediction consistency (i.e. that under given hypothesis, the estimator learned predicts as well as a model knowing the true distribution) is not possible because of the bias of the l1. It does say, however, that model consistency, in terms of finding the right set of non-zero parameters as well as their signs, can be achieved by scaling C1.\n"
   ]
  },
  {
   "cell_type": "markdown",
   "metadata": {},
   "source": [
    "### l2-penalty case"
   ]
  },
  {
   "cell_type": "markdown",
   "metadata": {},
   "source": [
    "The theory says that in order to achieve prediction consistency, the penalty parameter should be kept constant as the number of samples grow."
   ]
  },
  {
   "cell_type": "markdown",
   "metadata": {},
   "source": [
    "### Simulations"
   ]
  },
  {
   "cell_type": "markdown",
   "metadata": {},
   "source": [
    "The two figures below plot the values of C on the x-axis and the corresponding cross-validation scores on the y-axis, for several different fractions of a generated data-set.\n",
    "\n",
    "In the l1 penalty case, the cross-validation-error correlates best with the test-error, when scaling our C with the number of samples, n, which can be seen in the first figure.\n",
    "\n",
    "For the l2 penalty case, the best result comes from the case where C is not scaled."
   ]
  },
  {
   "cell_type": "markdown",
   "metadata": {},
   "source": [
    "#### New to Plotly?\n",
    "Plotly's Python library is free and open source! [Get started](https://plot.ly/python/getting-started/) by downloading the client and [reading the primer](https://plot.ly/python/getting-started/).\n",
    "<br>You can set up Plotly to work in [online](https://plot.ly/python/getting-started/#initialization-for-online-plotting) or [offline](https://plot.ly/python/getting-started/#initialization-for-offline-plotting) mode, or in [jupyter notebooks](https://plot.ly/python/getting-started/#start-plotting-online).\n",
    "<br>We also have a quick-reference [cheatsheet](https://images.plot.ly/plotly-documentation/images/python_cheat_sheet.pdf) (new!) to help you get started!"
   ]
  },
  {
   "cell_type": "markdown",
   "metadata": {},
   "source": [
    "### Version"
   ]
  },
  {
   "cell_type": "code",
   "execution_count": 1,
   "metadata": {
    "collapsed": false
   },
   "outputs": [
    {
     "data": {
      "text/plain": [
       "'0.18.1'"
      ]
     },
     "execution_count": 1,
     "metadata": {},
     "output_type": "execute_result"
    }
   ],
   "source": [
    "import sklearn\n",
    "sklearn.__version__"
   ]
  },
  {
   "cell_type": "markdown",
   "metadata": {},
   "source": [
    "### Imports"
   ]
  },
  {
   "cell_type": "markdown",
   "metadata": {},
   "source": [
    "This tutorial imports [LinearSVC](http://scikit-learn.org/stable/modules/generated/sklearn.svm.LinearSVC.html#sklearn.svm.LinearSVC), [ShuffleSplit](http://scikit-learn.org/stable/modules/generated/sklearn.model_selection.ShuffleSplit.html#sklearn.model_selection.ShuffleSplit), [GridSearchCV](http://scikit-learn.org/stable/modules/generated/sklearn.model_selection.GridSearchCV.html#sklearn.model_selection.GridSearchCV) and [check_random_state](http://scikit-learn.org/stable/modules/generated/sklearn.utils.check_random_state.html#sklearn.utils.check_random_state)."
   ]
  },
  {
   "cell_type": "code",
   "execution_count": 2,
   "metadata": {
    "collapsed": true
   },
   "outputs": [],
   "source": [
    "import plotly.plotly as py\n",
    "import plotly.graph_objs as go\n",
    "from plotly import tools\n",
    "\n",
    "import numpy as np\n",
    "from sklearn.svm import LinearSVC\n",
    "from sklearn.model_selection import ShuffleSplit\n",
    "from sklearn.model_selection import GridSearchCV\n",
    "from sklearn.utils import check_random_state\n",
    "from sklearn import datasets"
   ]
  },
  {
   "cell_type": "markdown",
   "metadata": {},
   "source": [
    "### Calculations"
   ]
  },
  {
   "cell_type": "code",
   "execution_count": 3,
   "metadata": {
    "collapsed": true
   },
   "outputs": [],
   "source": [
    "rnd = check_random_state(1)\n",
    "\n",
    "# set up dataset\n",
    "n_samples = 100\n",
    "n_features = 300"
   ]
  },
  {
   "cell_type": "markdown",
   "metadata": {},
   "source": [
    "l1 data (only 5 informative features)"
   ]
  },
  {
   "cell_type": "code",
   "execution_count": 4,
   "metadata": {
    "collapsed": true
   },
   "outputs": [],
   "source": [
    "X_1, y_1 = datasets.make_classification(n_samples=n_samples,\n",
    "                                        n_features=n_features, n_informative=5,\n",
    "                                        random_state=1)\n"
   ]
  },
  {
   "cell_type": "markdown",
   "metadata": {},
   "source": [
    "l2 data: non sparse, but less features"
   ]
  },
  {
   "cell_type": "code",
   "execution_count": 5,
   "metadata": {
    "collapsed": true
   },
   "outputs": [],
   "source": [
    "y_2 = np.sign(.5 - rnd.rand(n_samples))\n",
    "X_2 = rnd.randn(n_samples, n_features / 5) + y_2[:, np.newaxis]\n",
    "X_2 += 5 * rnd.randn(n_samples, n_features / 5)"
   ]
  },
  {
   "cell_type": "code",
   "execution_count": 6,
   "metadata": {
    "collapsed": true
   },
   "outputs": [],
   "source": [
    "clf_sets = [(LinearSVC(penalty='l1', loss='squared_hinge', dual=False,\n",
    "                       tol=1e-3),\n",
    "             np.logspace(-2.3, -1.3, 10), X_1, y_1),\n",
    "            (LinearSVC(penalty='l2', loss='squared_hinge', dual=True,\n",
    "                       tol=1e-4),\n",
    "             np.logspace(-4.5, -2, 10), X_2, y_2)]\n",
    "\n",
    "colors = ['navy', 'cyan', 'darkorange']\n",
    "lw = 2\n",
    "data = []\n",
    "titles= []"
   ]
  },
  {
   "cell_type": "markdown",
   "metadata": {},
   "source": [
    "### Plot Results"
   ]
  },
  {
   "cell_type": "code",
   "execution_count": 7,
   "metadata": {
    "collapsed": false
   },
   "outputs": [],
   "source": [
    "for fignum, (clf, cs, X, y) in enumerate(clf_sets):\n",
    "    # set up the plot for each regressor\n",
    "    data.append([[],[]])\n",
    "\n",
    "    for k, train_size in enumerate(np.linspace(0.3, 0.7, 3)[::-1]):\n",
    "        param_grid = dict(C=cs)\n",
    "       \n",
    "        # To get nice curve, we need a large number of iterations to\n",
    "        # reduce the variance\n",
    "        grid = GridSearchCV(clf, refit=False, param_grid=param_grid,\n",
    "                            cv=ShuffleSplit(train_size=train_size,\n",
    "                                            n_splits=250, random_state=1))\n",
    "        grid.fit(X, y)\n",
    "        scores = grid.cv_results_['mean_test_score']\n",
    "\n",
    "        scales = [(1, 'No scaling'),\n",
    "                  ((n_samples * train_size), '1/n_samples'),\n",
    "                  ]\n",
    "        \n",
    "        for subplotnum, (scaler, name) in enumerate(scales):\n",
    "            \n",
    "            grid_cs = cs * float(scaler)  # scale the C's\n",
    "            \n",
    "            trace = go.Scatter(x=grid_cs, y=scores,\n",
    "                               name=\"fraction %.2f\" %\n",
    "                                     train_size,\n",
    "                               mode='lines',\n",
    "                               line=dict(color=colors[k], width=lw))\n",
    "            data[fignum][subplotnum].append(trace)            \n",
    "            titles.append('scaling=%s, penalty=%s, loss=%s' %\n",
    "                 (name, clf.penalty, clf.loss))\n",
    "    "
   ]
  },
  {
   "cell_type": "markdown",
   "metadata": {},
   "source": [
    "### Plot l1-penalty"
   ]
  },
  {
   "cell_type": "code",
   "execution_count": 8,
   "metadata": {
    "collapsed": false
   },
   "outputs": [
    {
     "name": "stdout",
     "output_type": "stream",
     "text": [
      "This is the format of your plot grid:\n",
      "[ (1,1) x1,y1 ]\n",
      "[ (2,1) x2,y2 ]\n",
      "\n"
     ]
    }
   ],
   "source": [
    "fig1 = tools.make_subplots(rows=2, cols=1,\n",
    "                           subplot_titles=tuple(titles[ :2]))\n",
    "\n",
    "for i in range(0, len(data[0][0])):\n",
    "    fig1.append_trace(data[0][0][i], 1, 1)\n",
    "\n",
    "for i in range(0, len(data[0][1])):\n",
    "    fig1.append_trace(data[0][1][i], 2, 1)\n",
    "\n",
    "for i in map(str, range(1, 3)):\n",
    "    y = 'yaxis' + i\n",
    "    x = 'xaxis' + i\n",
    "    fig1['layout'][y].update(title='CV Score')\n",
    "    fig1['layout'][x].update(title='C', type='log')    \n",
    "fig1['layout'].update(height=700)"
   ]
  },
  {
   "cell_type": "code",
   "execution_count": 9,
   "metadata": {
    "collapsed": false
   },
   "outputs": [
    {
     "data": {
      "text/html": [
       "<iframe id=\"igraph\" scrolling=\"no\" style=\"border:none;\" seamless=\"seamless\" src=\"https://plot.ly/~Diksha_Gabha/3586.embed\" height=\"700px\" width=\"100%\"></iframe>"
      ],
      "text/plain": [
       "<plotly.tools.PlotlyDisplay object>"
      ]
     },
     "execution_count": 9,
     "metadata": {},
     "output_type": "execute_result"
    }
   ],
   "source": [
    "py.iplot(fig1)"
   ]
  },
  {
   "cell_type": "markdown",
   "metadata": {},
   "source": [
    "### Plot l2-penalty"
   ]
  },
  {
   "cell_type": "code",
   "execution_count": 10,
   "metadata": {
    "collapsed": false
   },
   "outputs": [
    {
     "name": "stdout",
     "output_type": "stream",
     "text": [
      "This is the format of your plot grid:\n",
      "[ (1,1) x1,y1 ]\n",
      "[ (2,1) x2,y2 ]\n",
      "\n"
     ]
    }
   ],
   "source": [
    "fig2 = tools.make_subplots(rows=2, cols=1,\n",
    "                           subplot_titles=tuple(titles[6 : 8]))\n",
    "\n",
    "for i in range(0, len(data[1][0])):\n",
    "    fig2.append_trace(data[1][0][i], 1, 1)\n",
    "\n",
    "for i in range(0, len(data[1][1])):\n",
    "    fig2.append_trace(data[1][1][i], 2, 1)\n",
    "\n",
    "for i in map(str, range(1, 3)):\n",
    "    y = 'yaxis' + i\n",
    "    x = 'xaxis' + i\n",
    "    fig2['layout'][y].update(title='CV Score')\n",
    "    fig2['layout'][x].update(title='C', type='log')    \n",
    "fig2['layout'].update(height=700)"
   ]
  },
  {
   "cell_type": "code",
   "execution_count": 11,
   "metadata": {
    "collapsed": false
   },
   "outputs": [
    {
     "data": {
      "text/html": [
       "<iframe id=\"igraph\" scrolling=\"no\" style=\"border:none;\" seamless=\"seamless\" src=\"https://plot.ly/~Diksha_Gabha/3588.embed\" height=\"700px\" width=\"100%\"></iframe>"
      ],
      "text/plain": [
       "<plotly.tools.PlotlyDisplay object>"
      ]
     },
     "execution_count": 11,
     "metadata": {},
     "output_type": "execute_result"
    }
   ],
   "source": [
    "py.iplot(fig2)"
   ]
  },
  {
   "cell_type": "markdown",
   "metadata": {},
   "source": [
    "### License"
   ]
  },
  {
   "cell_type": "markdown",
   "metadata": {},
   "source": [
    "Author: \n",
    "         \n",
    "         Andreas Mueller <amueller@ais.uni-bonn.de>\n",
    "         \n",
    "         Jaques Grobler <jaques.grobler@inria.fr>\n",
    "\n",
    "License: \n",
    "\n",
    "         BSD 3 clause"
   ]
  },
  {
   "cell_type": "code",
   "execution_count": 13,
   "metadata": {
    "collapsed": false
   },
   "outputs": [
    {
     "data": {
      "text/html": [
       "<link href=\"//fonts.googleapis.com/css?family=Open+Sans:600,400,300,200|Inconsolata|Ubuntu+Mono:400,700\" rel=\"stylesheet\" type=\"text/css\" />"
      ],
      "text/plain": [
       "<IPython.core.display.HTML object>"
      ]
     },
     "metadata": {},
     "output_type": "display_data"
    },
    {
     "data": {
      "text/html": [
       "<link rel=\"stylesheet\" type=\"text/css\" href=\"http://help.plot.ly/documentation/all_static/css/ipython-notebook-custom.css\">"
      ],
      "text/plain": [
       "<IPython.core.display.HTML object>"
      ]
     },
     "metadata": {},
     "output_type": "display_data"
    },
    {
     "name": "stdout",
     "output_type": "stream",
     "text": [
      "Collecting git+https://github.com/plotly/publisher.git\n",
      "  Cloning https://github.com/plotly/publisher.git to /tmp/pip-Q0xigK-build\n",
      "fatal: unable to access 'https://github.com/plotly/publisher.git/': Failed to connect to github.com port 443: Connection timed out\n",
      "\u001b[31mCommand \"git clone -q https://github.com/plotly/publisher.git /tmp/pip-Q0xigK-build\" failed with error code 128 in None\u001b[0m\n"
     ]
    }
   ],
   "source": [
    "\n",
    "from IPython.display import display, HTML\n",
    "\n",
    "display(HTML('<link href=\"//fonts.googleapis.com/css?family=Open+Sans:600,400,300,200|Inconsolata|Ubuntu+Mono:400,700\" rel=\"stylesheet\" type=\"text/css\" />'))\n",
    "display(HTML('<link rel=\"stylesheet\" type=\"text/css\" href=\"http://help.plot.ly/documentation/all_static/css/ipython-notebook-custom.css\">'))\n",
    "\n",
    "! pip install git+https://github.com/plotly/publisher.git --upgrade\n",
    "import publisher\n",
    "publisher.publish(\n",
    "    'Scaling the Regularization Parameter for SVCs.ipynb', 'scikit-learn/plot-svm-scale-c/', 'Scaling the Regularization Parameter for SVCs | plotly',\n",
    "    ' ',\n",
    "    title = 'Scaling the Regularization Parameter for SVCs | plotly',\n",
    "    name = 'Scaling the Regularization Parameter for SVCs',\n",
    "    has_thumbnail='true', thumbnail='thumbnail/scale.jpg', \n",
    "    language='scikit-learn', page_type='example_index',\n",
    "    display_as='vector_machines', order=12,\n",
    "    ipynb= '~Diksha_Gabha/3590')"
   ]
  },
  {
   "cell_type": "code",
   "execution_count": null,
   "metadata": {
    "collapsed": true
   },
   "outputs": [],
   "source": []
  }
 ],
 "metadata": {
  "kernelspec": {
   "display_name": "Python 2",
   "language": "python",
   "name": "python2"
  },
  "language_info": {
   "codemirror_mode": {
    "name": "ipython",
    "version": 2
   },
   "file_extension": ".py",
   "mimetype": "text/x-python",
   "name": "python",
   "nbconvert_exporter": "python",
   "pygments_lexer": "ipython2",
   "version": "2.7.13"
  }
 },
 "nbformat": 4,
 "nbformat_minor": 2
}
