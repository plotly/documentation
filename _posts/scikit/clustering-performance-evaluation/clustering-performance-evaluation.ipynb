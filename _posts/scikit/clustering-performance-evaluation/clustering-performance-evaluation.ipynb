{
 "cells": [
  {
   "cell_type": "markdown",
   "metadata": {},
   "source": [
    "The following plots demonstrate the impact of the number of clusters and number of samples on various clustering performance evaluation metrics.\n",
    "\n",
    "Non-adjusted measures such as the V-Measure show a dependency between the number of clusters and the number of samples: the mean V-Measure of random labeling increases significantly as the number of clusters is closer to the total number of samples used to compute the measure.\n",
    "\n",
    "Adjusted for chance measure such as ARI display some random variations centered around a mean score of 0.0 for any number of samples and clusters.\n",
    "\n",
    "Only adjusted measures can hence safely be used as a consensus index to evaluate the average stability of clustering algorithms for a given value of k on various overlapping sub-samples of the dataset.\n"
   ]
  },
  {
   "cell_type": "markdown",
   "metadata": {},
   "source": [
    "#### New to Plotly?\n",
    "Plotly's Python library is free and open source! [Get started](https://plot.ly/python/getting-started/) by downloading the client and [reading the primer](https://plot.ly/python/getting-started/).\n",
    "<br>You can set up Plotly to work in [online](https://plot.ly/python/getting-started/#initialization-for-online-plotting) or [offline](https://plot.ly/python/getting-started/#initialization-for-offline-plotting) mode, or in [jupyter notebooks](https://plot.ly/python/getting-started/#start-plotting-online).\n",
    "<br>We also have a quick-reference [cheatsheet](https://images.plot.ly/plotly-documentation/images/python_cheat_sheet.pdf) (new!) to help you get started!"
   ]
  },
  {
   "cell_type": "markdown",
   "metadata": {},
   "source": [
    "### Version"
   ]
  },
  {
   "cell_type": "code",
   "execution_count": 1,
   "metadata": {
    "collapsed": false
   },
   "outputs": [
    {
     "data": {
      "text/plain": [
       "'0.18'"
      ]
     },
     "execution_count": 1,
     "metadata": {},
     "output_type": "execute_result"
    }
   ],
   "source": [
    "import sklearn\n",
    "sklearn.__version__"
   ]
  },
  {
   "cell_type": "markdown",
   "metadata": {},
   "source": [
    "### Imports"
   ]
  },
  {
   "cell_type": "code",
   "execution_count": 2,
   "metadata": {
    "collapsed": true
   },
   "outputs": [],
   "source": [
    "import plotly.plotly as py\n",
    "import plotly.graph_objs as go\n",
    "\n",
    "import numpy as np\n",
    "import matplotlib.pyplot as plt\n",
    "from time import time\n",
    "from sklearn import metrics"
   ]
  },
  {
   "cell_type": "markdown",
   "metadata": {},
   "source": [
    "### Calculations"
   ]
  },
  {
   "cell_type": "code",
   "execution_count": 3,
   "metadata": {
    "collapsed": true
   },
   "outputs": [],
   "source": [
    "\n",
    "def uniform_labelings_scores(score_func, n_samples, n_clusters_range,\n",
    "                             fixed_n_classes=None, n_runs=5, seed=42):\n",
    "    \"\"\"Compute score for 2 random uniform cluster labelings.\n",
    "\n",
    "    Both random labelings have the same number of clusters for each value\n",
    "    possible value in ``n_clusters_range``.\n",
    "\n",
    "    When fixed_n_classes is not None the first labeling is considered a ground\n",
    "    truth class assignment with fixed number of classes.\n",
    "    \"\"\"\n",
    "    random_labels = np.random.RandomState(seed).randint\n",
    "    scores = np.zeros((len(n_clusters_range), n_runs))\n",
    "\n",
    "    if fixed_n_classes is not None:\n",
    "        labels_a = random_labels(low=0, high=fixed_n_classes, size=n_samples)\n",
    "\n",
    "    for i, k in enumerate(n_clusters_range):\n",
    "        for j in range(n_runs):\n",
    "            if fixed_n_classes is None:\n",
    "                labels_a = random_labels(low=0, high=k, size=n_samples)\n",
    "            labels_b = random_labels(low=0, high=k, size=n_samples)\n",
    "            scores[i, j] = score_func(labels_a, labels_b)\n",
    "    return scores\n",
    "\n",
    "score_funcs = [\n",
    "    metrics.adjusted_rand_score,\n",
    "    metrics.v_measure_score,\n",
    "    metrics.adjusted_mutual_info_score,\n",
    "    metrics.mutual_info_score,\n",
    "]\n"
   ]
  },
  {
   "cell_type": "markdown",
   "metadata": {},
   "source": [
    "### Independent random clusterings with equal cluster number"
   ]
  },
  {
   "cell_type": "code",
   "execution_count": 4,
   "metadata": {
    "collapsed": false
   },
   "outputs": [
    {
     "name": "stdout",
     "output_type": "stream",
     "text": [
      "Computing adjusted_rand_score for 10 values of n_clusters and n_samples=100\n",
      "done in 0.043s\n",
      "Computing v_measure_score for 10 values of n_clusters and n_samples=100\n",
      "done in 0.058s\n",
      "Computing adjusted_mutual_info_score for 10 values of n_clusters and n_samples=100\n",
      "done in 0.393s\n",
      "Computing mutual_info_score for 10 values of n_clusters and n_samples=100\n",
      "done in 0.049s\n"
     ]
    }
   ],
   "source": [
    "n_samples = 100\n",
    "n_clusters_range = np.linspace(2, n_samples, 10).astype(np.int)\n",
    "\n",
    "plots = []\n",
    "names = []\n",
    "for score_func in score_funcs:\n",
    "    print(\"Computing %s for %d values of n_clusters and n_samples=%d\"\n",
    "          % (score_func.__name__, len(n_clusters_range), n_samples))\n",
    "\n",
    "    t0 = time()\n",
    "    scores = uniform_labelings_scores(score_func, n_samples, n_clusters_range)\n",
    "    print(\"done in %0.3fs\" % (time() - t0))\n",
    "    \n",
    "    plots.append(\n",
    "            go.Scatter(\n",
    "                x=n_clusters_range, y=np.median(scores, axis=1),\n",
    "                name=score_func.__name__, mode='lines',\n",
    "                error_y=dict(visible=True, arrayminus=scores.std(axis=1)[0]),\n",
    "                line=dict(width=2))\n",
    "            )"
   ]
  },
  {
   "cell_type": "code",
   "execution_count": 6,
   "metadata": {
    "collapsed": false
   },
   "outputs": [
    {
     "data": {
      "text/html": [
       "<iframe id=\"igraph\" scrolling=\"no\" style=\"border:none;\" seamless=\"seamless\" src=\"https://plot.ly/~Diksha_Gabha/2848.embed\" height=\"525px\" width=\"100%\"></iframe>"
      ],
      "text/plain": [
       "<plotly.tools.PlotlyDisplay object>"
      ]
     },
     "execution_count": 6,
     "metadata": {},
     "output_type": "execute_result"
    }
   ],
   "source": [
    "layout = go.Layout(title=\"Clustering measures for 2 random uniform labelings<br>\"\n",
    "                          \"with equal number of clusters\",\n",
    "                   hovermode='closest',\n",
    "                   xaxis=dict(title='Number of clusters (Number of samples is fixed to %d)' \n",
    "                                     % n_samples),\n",
    "                   yaxis=dict(title='Score value', range=[0, 5]))\n",
    "\n",
    "fig = go.Figure(data=plots, layout=layout)\n",
    "\n",
    "py.iplot(fig)"
   ]
  },
  {
   "cell_type": "markdown",
   "metadata": {},
   "source": [
    "### Random labeling with varying n_clusters against ground class labels"
   ]
  },
  {
   "cell_type": "code",
   "execution_count": 8,
   "metadata": {
    "collapsed": false
   },
   "outputs": [
    {
     "name": "stdout",
     "output_type": "stream",
     "text": [
      "Computing adjusted_rand_score for 10 values of n_clusters and n_samples=1000\n",
      "done in 0.069s\n",
      "Computing v_measure_score for 10 values of n_clusters and n_samples=1000\n",
      "done in 0.061s\n",
      "Computing adjusted_mutual_info_score for 10 values of n_clusters and n_samples=1000\n",
      "done in 0.235s\n",
      "Computing mutual_info_score for 10 values of n_clusters and n_samples=1000\n",
      "done in 0.047s\n"
     ]
    }
   ],
   "source": [
    "n_samples = 1000\n",
    "n_clusters_range = np.linspace(2, 100, 10).astype(np.int)\n",
    "n_classes = 10\n",
    "\n",
    "plots = []\n",
    "names = []\n",
    "for score_func in score_funcs:\n",
    "    print(\"Computing %s for %d values of n_clusters and n_samples=%d\"\n",
    "          % (score_func.__name__, len(n_clusters_range), n_samples))\n",
    "\n",
    "    t0 = time()\n",
    "    scores = uniform_labelings_scores(score_func, n_samples, n_clusters_range,\n",
    "                                      fixed_n_classes=n_classes)\n",
    "    print(\"done in %0.3fs\" % (time() - t0))\n",
    "    plots.append(\n",
    "            go.Scatter(\n",
    "                x=n_clusters_range, y=np.median(scores, axis=1),\n",
    "                name=score_func.__name__, mode='lines',\n",
    "                error_y=dict(visible=True, arrayminus=scores.std(axis=1)[0]),\n",
    "                line=dict(width=2))\n",
    "            )"
   ]
  },
  {
   "cell_type": "code",
   "execution_count": 9,
   "metadata": {
    "collapsed": false
   },
   "outputs": [
    {
     "data": {
      "text/html": [
       "<iframe id=\"igraph\" scrolling=\"no\" style=\"border:none;\" seamless=\"seamless\" src=\"https://plot.ly/~Diksha_Gabha/2850.embed\" height=\"525px\" width=\"100%\"></iframe>"
      ],
      "text/plain": [
       "<plotly.tools.PlotlyDisplay object>"
      ]
     },
     "execution_count": 9,
     "metadata": {},
     "output_type": "execute_result"
    }
   ],
   "source": [
    "layout = go.Layout(title=\"Clustering measures for random uniform labeling<br>\"\n",
    "                          \"against reference assignment with %d classes\" % n_classes,\n",
    "                   hovermode='closest',\n",
    "                   xaxis=dict(title='Number of clusters (Number of samples is fixed to %d)' \n",
    "                                     % n_samples),\n",
    "                   yaxis=dict(title='Score value'))\n",
    "\n",
    "fig = go.Figure(data=plots, layout=layout)\n",
    "\n",
    "py.iplot(fig)"
   ]
  },
  {
   "cell_type": "markdown",
   "metadata": {},
   "source": [
    "### License"
   ]
  },
  {
   "cell_type": "markdown",
   "metadata": {},
   "source": [
    "Author: \n",
    "\n",
    "        Olivier Grisel <olivier.grisel@ensta.org>\n",
    "\n",
    "License: \n",
    "\n",
    "        BSD 3 clause"
   ]
  },
  {
   "cell_type": "code",
   "execution_count": 5,
   "metadata": {
    "collapsed": false
   },
   "outputs": [
    {
     "data": {
      "text/html": [
       "<link href=\"//fonts.googleapis.com/css?family=Open+Sans:600,400,300,200|Inconsolata|Ubuntu+Mono:400,700\" rel=\"stylesheet\" type=\"text/css\" />"
      ],
      "text/plain": [
       "<IPython.core.display.HTML object>"
      ]
     },
     "metadata": {},
     "output_type": "display_data"
    },
    {
     "data": {
      "text/html": [
       "<link rel=\"stylesheet\" type=\"text/css\" href=\"http://help.plot.ly/documentation/all_static/css/ipython-notebook-custom.css\">"
      ],
      "text/plain": [
       "<IPython.core.display.HTML object>"
      ]
     },
     "metadata": {},
     "output_type": "display_data"
    },
    {
     "name": "stdout",
     "output_type": "stream",
     "text": [
      "Collecting git+https://github.com/plotly/publisher.git\n",
      "  Cloning https://github.com/plotly/publisher.git to /tmp/pip-Kz_prz-build\n",
      "Installing collected packages: publisher\n",
      "  Running setup.py install for publisher ... \u001b[?25l-\b \berror\n",
      "    Complete output from command /usr/bin/python -u -c \"import setuptools, tokenize;__file__='/tmp/pip-Kz_prz-build/setup.py';exec(compile(getattr(tokenize, 'open', open)(__file__).read().replace('\\r\\n', '\\n'), __file__, 'exec'))\" install --record /tmp/pip-1MDbAG-record/install-record.txt --single-version-externally-managed --compile:\n",
      "    running install\n",
      "    running build\n",
      "    running build_py\n",
      "    creating build\n",
      "    creating build/lib.linux-x86_64-2.7\n",
      "    creating build/lib.linux-x86_64-2.7/publisher\n",
      "    copying publisher/publisher.py -> build/lib.linux-x86_64-2.7/publisher\n",
      "    copying publisher/__init__.py -> build/lib.linux-x86_64-2.7/publisher\n",
      "    running install_lib\n",
      "    creating /usr/local/lib/python2.7/dist-packages/publisher\n",
      "    error: could not create '/usr/local/lib/python2.7/dist-packages/publisher': Permission denied\n",
      "    \n",
      "    ----------------------------------------\n",
      "\u001b[31mCommand \"/usr/bin/python -u -c \"import setuptools, tokenize;__file__='/tmp/pip-Kz_prz-build/setup.py';exec(compile(getattr(tokenize, 'open', open)(__file__).read().replace('\\r\\n', '\\n'), __file__, 'exec'))\" install --record /tmp/pip-1MDbAG-record/install-record.txt --single-version-externally-managed --compile\" failed with error code 1 in /tmp/pip-Kz_prz-build/\u001b[0m\n",
      "\u001b[33mYou are using pip version 8.1.2, however version 9.0.1 is available.\n",
      "You should consider upgrading via the 'pip install --upgrade pip' command.\u001b[0m\n",
      "\u001b[?25h"
     ]
    }
   ],
   "source": [
    "from IPython.display import display, HTML\n",
    "\n",
    "display(HTML('<link href=\"//fonts.googleapis.com/css?family=Open+Sans:600,400,300,200|Inconsolata|Ubuntu+Mono:400,700\" rel=\"stylesheet\" type=\"text/css\" />'))\n",
    "display(HTML('<link rel=\"stylesheet\" type=\"text/css\" href=\"http://help.plot.ly/documentation/all_static/css/ipython-notebook-custom.css\">'))\n",
    "\n",
    "! pip install git+https://github.com/plotly/publisher.git --upgrade\n",
    "import publisher\n",
    "publisher.publish(\n",
    "    'clustering-performance-evaluation.ipynb', 'scikit-learn/plot-adjusted-for-chance-measures/', 'Adjustment for chance in Clustering Performance Evaluation | plotly',\n",
    "    ' ',\n",
    "    title = 'Adjustment for chance in Clustering Performance Evaluation | plotly',\n",
    "    name = 'Adjustment for chance in Clustering Performance Evaluation',\n",
    "    has_thumbnail='true', thumbnail='thumbnail/clustering-performance.jpg', \n",
    "    language='scikit-learn', page_type='example_index',\n",
    "    display_as='clustering', order=16,\n",
    "    ipynb= '~Diksha_Gabha/2865')"
   ]
  },
  {
   "cell_type": "code",
   "execution_count": null,
   "metadata": {
    "collapsed": true
   },
   "outputs": [],
   "source": []
  }
 ],
 "metadata": {
  "kernelspec": {
   "display_name": "Python 2",
   "language": "python",
   "name": "python2"
  },
  "language_info": {
   "codemirror_mode": {
    "name": "ipython",
    "version": 2
   },
   "file_extension": ".py",
   "mimetype": "text/x-python",
   "name": "python",
   "nbconvert_exporter": "python",
   "pygments_lexer": "ipython2",
   "version": "2.7.11"
  }
 },
 "nbformat": 4,
 "nbformat_minor": 0
}
