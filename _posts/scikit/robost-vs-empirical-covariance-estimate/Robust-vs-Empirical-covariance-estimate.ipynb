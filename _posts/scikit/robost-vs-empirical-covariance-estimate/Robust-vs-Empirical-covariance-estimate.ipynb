{
 "cells": [
  {
   "cell_type": "markdown",
   "metadata": {},
   "source": [
    "The usual covariance maximum likelihood estimate is very sensitive to the presence of outliers in the data set. In such a case, it would be better to use a robust estimator of covariance to guarantee that the estimation is resistant to “erroneous” observations in the data set."
   ]
  },
  {
   "cell_type": "markdown",
   "metadata": {},
   "source": [
    "### Minimum Covariance Determinant Estimator"
   ]
  },
  {
   "cell_type": "markdown",
   "metadata": {},
   "source": [
    "The Minimum Covariance Determinant estimator is a robust, high-breakdown point (i.e. it can be used to estimate the covariance matrix of highly contaminated datasets, up to `(n_samples - n_features-1)/2` outliers) estimator of covariance. The idea is to find `(n_samples + n_features+1)/2` observations whose empirical covariance has the smallest determinant, yielding a “pure” subset of observations from which to compute standards estimates of location and covariance. After a correction step aiming at compensating the fact that the estimates were learned from only a portion of the initial data, we end up with robust estimates of the data set location and covariance.\n",
    "\n",
    "The Minimum Covariance Determinant estimator (MCD) has been introduced by P.J.Rousseuw."
   ]
  },
  {
   "cell_type": "markdown",
   "metadata": {},
   "source": [
    "### Evaluation"
   ]
  },
  {
   "cell_type": "markdown",
   "metadata": {},
   "source": [
    "In this example, we compare the estimation errors that are made when using various types of location and covariance estimates on contaminated Gaussian distributed data sets:\n",
    "The mean and the empirical covariance of the full dataset, which break down as soon as there are outliers in the data set\n",
    "\n",
    "The robust MCD, that has a low error provided `n_samples > 5n_features`\n",
    "The mean and the empirical covariance of the observations that are known to be good ones. This can be considered as a “perfect” MCD estimation, so one can trust our implementation by comparing to this case.\n"
   ]
  },
  {
   "cell_type": "markdown",
   "metadata": {},
   "source": [
    "#### New to Plotly?\n",
    "Plotly's Python library is free and open source! [Get started](https://plot.ly/python/getting-started/) by downloading the client and [reading the primer](https://plot.ly/python/getting-started/).\n",
    "<br>You can set up Plotly to work in [online](https://plot.ly/python/getting-started/#initialization-for-online-plotting) or [offline](https://plot.ly/python/getting-started/#initialization-for-offline-plotting) mode, or in [jupyter notebooks](https://plot.ly/python/getting-started/#start-plotting-online).\n",
    "<br>We also have a quick-reference [cheatsheet](https://images.plot.ly/plotly-documentation/images/python_cheat_sheet.pdf) (new!) to help you get started!"
   ]
  },
  {
   "cell_type": "markdown",
   "metadata": {},
   "source": [
    "### Version"
   ]
  },
  {
   "cell_type": "code",
   "execution_count": 1,
   "metadata": {
    "collapsed": false
   },
   "outputs": [
    {
     "data": {
      "text/plain": [
       "'0.18'"
      ]
     },
     "execution_count": 1,
     "metadata": {},
     "output_type": "execute_result"
    }
   ],
   "source": [
    "import sklearn\n",
    "sklearn.__version__"
   ]
  },
  {
   "cell_type": "markdown",
   "metadata": {},
   "source": [
    "### Imports"
   ]
  },
  {
   "cell_type": "markdown",
   "metadata": {},
   "source": [
    "This tutorial imports [EmpiricalCovariance](http://scikit-learn.org/stable/modules/generated/sklearn.covariance.EmpiricalCovariance.html#sklearn.covariance.EmpiricalCovariance) and [MinCovDet](http://scikit-learn.org/stable/modules/generated/sklearn.covariance.MinCovDet.html#sklearn.covariance.MinCovDet). "
   ]
  },
  {
   "cell_type": "code",
   "execution_count": 1,
   "metadata": {
    "collapsed": false
   },
   "outputs": [
    {
     "name": "stdout",
     "output_type": "stream",
     "text": [
      "Automatically created module for IPython interactive environment\n"
     ]
    }
   ],
   "source": [
    "import plotly.plotly as py\n",
    "import plotly.graph_objs as go\n",
    "\n",
    "print(__doc__)\n",
    "\n",
    "import numpy as np\n",
    "import matplotlib.pyplot as plt\n",
    "import matplotlib.font_manager\n",
    "\n",
    "from sklearn.covariance import EmpiricalCovariance, MinCovDet"
   ]
  },
  {
   "cell_type": "markdown",
   "metadata": {},
   "source": [
    "### Calculations"
   ]
  },
  {
   "cell_type": "code",
   "execution_count": 2,
   "metadata": {
    "collapsed": false
   },
   "outputs": [
    {
     "name": "stderr",
     "output_type": "stream",
     "text": [
      "/home/diksha/anaconda2/lib/python2.7/site-packages/ipykernel/__main__.py:27: VisibleDeprecationWarning:\n",
      "\n",
      "using a non-integer number instead of an integer will result in an error in the future\n",
      "\n",
      "/home/diksha/anaconda2/lib/python2.7/site-packages/ipykernel/__main__.py:28: VisibleDeprecationWarning:\n",
      "\n",
      "using a non-integer number instead of an integer will result in an error in the future\n",
      "\n"
     ]
    }
   ],
   "source": [
    "# example settings\n",
    "n_samples = 80\n",
    "n_features = 5\n",
    "repeat = 10\n",
    "\n",
    "range_n_outliers = np.concatenate(\n",
    "    (np.linspace(0, n_samples / 8, 5),\n",
    "     np.linspace(n_samples / 8, n_samples / 2, 5)[1:-1]))\n",
    "\n",
    "# definition of arrays to store results\n",
    "err_loc_mcd = np.zeros((range_n_outliers.size, repeat))\n",
    "err_cov_mcd = np.zeros((range_n_outliers.size, repeat))\n",
    "err_loc_emp_full = np.zeros((range_n_outliers.size, repeat))\n",
    "err_cov_emp_full = np.zeros((range_n_outliers.size, repeat))\n",
    "err_loc_emp_pure = np.zeros((range_n_outliers.size, repeat))\n",
    "err_cov_emp_pure = np.zeros((range_n_outliers.size, repeat))\n",
    "\n",
    "# computation\n",
    "for i, n_outliers in enumerate(range_n_outliers):\n",
    "    for j in range(repeat):\n",
    "\n",
    "        rng = np.random.RandomState(i * j)\n",
    "\n",
    "        # generate data\n",
    "        X = rng.randn(n_samples, n_features)\n",
    "        # add some outliers\n",
    "        outliers_index = rng.permutation(n_samples)[:n_outliers]\n",
    "        outliers_offset = 10. * \\\n",
    "            (np.random.randint(2, size=(n_outliers, n_features)) - 0.5)\n",
    "        X[outliers_index] += outliers_offset\n",
    "        inliers_mask = np.ones(n_samples).astype(bool)\n",
    "        inliers_mask[outliers_index] = False\n",
    "\n",
    "        # fit a Minimum Covariance Determinant (MCD) robust estimator to data\n",
    "        mcd = MinCovDet().fit(X)\n",
    "        # compare raw robust estimates with the true location and covariance\n",
    "        err_loc_mcd[i, j] = np.sum(mcd.location_ ** 2)\n",
    "        err_cov_mcd[i, j] = mcd.error_norm(np.eye(n_features))\n",
    "\n",
    "        # compare estimators learned from the full data set with true\n",
    "        # parameters\n",
    "        err_loc_emp_full[i, j] = np.sum(X.mean(0) ** 2)\n",
    "        err_cov_emp_full[i, j] = EmpiricalCovariance().fit(X).error_norm(\n",
    "            np.eye(n_features))\n",
    "\n",
    "        # compare with an empirical covariance learned from a pure data set\n",
    "        # (i.e. \"perfect\" mcd)\n",
    "        pure_X = X[inliers_mask]\n",
    "        pure_location = pure_X.mean(0)\n",
    "        pure_emp_cov = EmpiricalCovariance().fit(pure_X)\n",
    "        err_loc_emp_pure[i, j] = np.sum(pure_location ** 2)\n",
    "        err_cov_emp_pure[i, j] = pure_emp_cov.error_norm(np.eye(n_features))\n"
   ]
  },
  {
   "cell_type": "markdown",
   "metadata": {},
   "source": [
    "### Plot Results"
   ]
  },
  {
   "cell_type": "markdown",
   "metadata": {},
   "source": [
    "Influence of outliers on the location estimation"
   ]
  },
  {
   "cell_type": "code",
   "execution_count": 3,
   "metadata": {
    "collapsed": false
   },
   "outputs": [],
   "source": [
    "font_prop = matplotlib.font_manager.FontProperties(size=11)\n",
    "\n",
    "robust_location = go.Scatter(x=range_n_outliers, \n",
    "                             y=err_loc_mcd.mean(1),\n",
    "                             error_y=dict(visible=True, \n",
    "                                          arrayminus=err_loc_mcd.std(1) / np.sqrt(repeat)),\n",
    "                             name=\"Robust location\",\n",
    "                             mode='lines',\n",
    "                             line=dict(color='magenta')\n",
    "                            )\n",
    "\n",
    "full_data_set_mean = go.Scatter(x=range_n_outliers, \n",
    "                                y=err_loc_emp_full.mean(1),\n",
    "                                error_y=dict(visible=True, \n",
    "                                             arrayminus=err_loc_emp_full.std(1) / np.sqrt(repeat)),\n",
    "                                mode='lines',\n",
    "                                name=\"Full data set mean\", \n",
    "                                line=dict(color='green')\n",
    "                               )\n",
    "pure_data_set_mean = go.Scatter(x=range_n_outliers, \n",
    "                                y=err_loc_emp_pure.mean(1),\n",
    "                                error_y=dict(visible=True, \n",
    "                                             arrayminus=err_loc_emp_pure.std(1) / np.sqrt(repeat)),\n",
    "                                mode='lines',\n",
    "                                name=\"Pure data set mean\",\n",
    "                                line=dict(color='black')\n",
    "                               )\n",
    "\n",
    "layout = go.Layout(title='Influence of outliers on the location estimation',\n",
    "                   yaxis=dict(title=\"Error\"),\n",
    "                   xaxis=dict(title='Amount of contamination (%)') )\n",
    "\n",
    "fig = go.Figure(data= [robust_location, pure_data_set_mean, full_data_set_mean],\n",
    "                layout=layout)"
   ]
  },
  {
   "cell_type": "code",
   "execution_count": 4,
   "metadata": {
    "collapsed": false
   },
   "outputs": [
    {
     "data": {
      "text/html": [
       "<iframe id=\"igraph\" scrolling=\"no\" style=\"border:none;\" seamless=\"seamless\" src=\"https://plot.ly/~Diksha_Gabha/2884.embed\" height=\"525px\" width=\"100%\"></iframe>"
      ],
      "text/plain": [
       "<plotly.tools.PlotlyDisplay object>"
      ]
     },
     "execution_count": 4,
     "metadata": {},
     "output_type": "execute_result"
    }
   ],
   "source": [
    "py.iplot(fig)"
   ]
  },
  {
   "cell_type": "markdown",
   "metadata": {},
   "source": [
    "Influence of outliers on the covariance estimation"
   ]
  },
  {
   "cell_type": "code",
   "execution_count": 5,
   "metadata": {
    "collapsed": false
   },
   "outputs": [],
   "source": [
    "\n",
    "x_size = range_n_outliers.size\n",
    "\n",
    "robust_covariance = go.Scatter(x=range_n_outliers, \n",
    "                               y=err_cov_mcd.mean(1),\n",
    "                               error_y=dict(visible=True, \n",
    "                                            arrayminus=err_cov_mcd.std(1)),\n",
    "                               name=\"Robust covariance (mcd)\",\n",
    "                               mode='lines',\n",
    "                               line=dict(color='magenta')\n",
    "                             )\n",
    "full_data_set1 = go.Scatter(x=range_n_outliers[:(x_size / 5 + 1)],\n",
    "                           y=err_cov_emp_full.mean(1)[:(x_size / 5 + 1)],\n",
    "                           error_y=dict(visible=True, \n",
    "                                            arrayminus=err_cov_emp_full.std(1)[:(x_size / 5 + 1)]),\n",
    "                           name=\"Full data set empirical covariance\", \n",
    "                           mode='lines',\n",
    "                           line=dict(color='green')\n",
    "                          )\n",
    "\n",
    "full_data_set2 = go.Scatter(x=range_n_outliers[(x_size / 5):(x_size / 2 - 1)],\n",
    "                            y=err_cov_emp_full.mean(1)[(x_size / 5):(x_size / 2 - 1)], \n",
    "                            name=\"Full data set empirical covariance\", \n",
    "                            showlegend=False,\n",
    "                            mode='lines',\n",
    "                            line=dict(color='green',\n",
    "                                      dash='dash')\n",
    "                           )\n",
    "pure_data_set = go.Scatter(x=range_n_outliers, \n",
    "                           y=err_cov_emp_pure.mean(1),\n",
    "                           error_y=dict(visible=True, \n",
    "                                        arrayminus=err_cov_emp_pure.std(1)),\n",
    "                           mode='lines',\n",
    "                           name=\"Pure data set empirical covariance\", \n",
    "                           line=dict(color='black')\n",
    "                           )\n",
    "\n",
    "layout = go.Layout(title='Influence of outliers on the covariance estimation',\n",
    "                   yaxis=dict(title=\"RMSE\"),\n",
    "                   xaxis=dict(title='Amount of contamination (%)') \n",
    "                  )\n",
    "\n",
    "fig = go.Figure(data= [robust_covariance, full_data_set1, full_data_set2, pure_data_set],\n",
    "                layout=layout)\n"
   ]
  },
  {
   "cell_type": "code",
   "execution_count": 6,
   "metadata": {
    "collapsed": false
   },
   "outputs": [
    {
     "data": {
      "text/html": [
       "<iframe id=\"igraph\" scrolling=\"no\" style=\"border:none;\" seamless=\"seamless\" src=\"https://plot.ly/~Diksha_Gabha/2886.embed\" height=\"525px\" width=\"100%\"></iframe>"
      ],
      "text/plain": [
       "<plotly.tools.PlotlyDisplay object>"
      ]
     },
     "execution_count": 6,
     "metadata": {},
     "output_type": "execute_result"
    }
   ],
   "source": [
    "py.iplot(fig)"
   ]
  },
  {
   "cell_type": "markdown",
   "metadata": {},
   "source": [
    "### References"
   ]
  },
  {
   "cell_type": "markdown",
   "metadata": {},
   "source": [
    "1. P. J. Rousseeuw. Least median of squares regression. Journal of American Statistical Ass., 79:871, 1984.\n",
    "\n",
    "2. Johanna Hardin, David M Rocke. The distribution of robust distances. Journal of Computational and Graphical Statistics. December 1, 2005, 14(4): 928-946.\n",
    "\n",
    "3. Zoubir A., Koivunen V., Chakhchoukh Y. and Muma M. (2012). Robust estimation in signal processing: A tutorial-style treatment of fundamental concepts. IEEE Signal Processing Magazine 29(4), 61-80."
   ]
  },
  {
   "cell_type": "code",
   "execution_count": 4,
   "metadata": {
    "collapsed": false
   },
   "outputs": [
    {
     "data": {
      "text/html": [
       "<link href=\"//fonts.googleapis.com/css?family=Open+Sans:600,400,300,200|Inconsolata|Ubuntu+Mono:400,700\" rel=\"stylesheet\" type=\"text/css\" />"
      ],
      "text/plain": [
       "<IPython.core.display.HTML object>"
      ]
     },
     "metadata": {},
     "output_type": "display_data"
    },
    {
     "data": {
      "text/html": [
       "<link rel=\"stylesheet\" type=\"text/css\" href=\"http://help.plot.ly/documentation/all_static/css/ipython-notebook-custom.css\">"
      ],
      "text/plain": [
       "<IPython.core.display.HTML object>"
      ]
     },
     "metadata": {},
     "output_type": "display_data"
    },
    {
     "name": "stdout",
     "output_type": "stream",
     "text": [
      "Collecting git+https://github.com/plotly/publisher.git\n",
      "  Cloning https://github.com/plotly/publisher.git to /tmp/pip-NCrI88-build\n",
      "Installing collected packages: publisher\n",
      "  Running setup.py install for publisher ... \u001b[?25l-\b \berror\n",
      "    Complete output from command /usr/bin/python -u -c \"import setuptools, tokenize;__file__='/tmp/pip-NCrI88-build/setup.py';exec(compile(getattr(tokenize, 'open', open)(__file__).read().replace('\\r\\n', '\\n'), __file__, 'exec'))\" install --record /tmp/pip-tJnxV6-record/install-record.txt --single-version-externally-managed --compile:\n",
      "    running install\n",
      "    running build\n",
      "    running build_py\n",
      "    creating build\n",
      "    creating build/lib.linux-x86_64-2.7\n",
      "    creating build/lib.linux-x86_64-2.7/publisher\n",
      "    copying publisher/publisher.py -> build/lib.linux-x86_64-2.7/publisher\n",
      "    copying publisher/__init__.py -> build/lib.linux-x86_64-2.7/publisher\n",
      "    running install_lib\n",
      "    creating /usr/local/lib/python2.7/dist-packages/publisher\n",
      "    error: could not create '/usr/local/lib/python2.7/dist-packages/publisher': Permission denied\n",
      "    \n",
      "    ----------------------------------------\n",
      "\u001b[31mCommand \"/usr/bin/python -u -c \"import setuptools, tokenize;__file__='/tmp/pip-NCrI88-build/setup.py';exec(compile(getattr(tokenize, 'open', open)(__file__).read().replace('\\r\\n', '\\n'), __file__, 'exec'))\" install --record /tmp/pip-tJnxV6-record/install-record.txt --single-version-externally-managed --compile\" failed with error code 1 in /tmp/pip-NCrI88-build/\u001b[0m\n",
      "\u001b[33mYou are using pip version 8.1.2, however version 9.0.1 is available.\n",
      "You should consider upgrading via the 'pip install --upgrade pip' command.\u001b[0m\n",
      "\u001b[?25h"
     ]
    }
   ],
   "source": [
    "from IPython.display import display, HTML\n",
    "\n",
    "display(HTML('<link href=\"//fonts.googleapis.com/css?family=Open+Sans:600,400,300,200|Inconsolata|Ubuntu+Mono:400,700\" rel=\"stylesheet\" type=\"text/css\" />'))\n",
    "display(HTML('<link rel=\"stylesheet\" type=\"text/css\" href=\"http://help.plot.ly/documentation/all_static/css/ipython-notebook-custom.css\">'))\n",
    "\n",
    "! pip install git+https://github.com/plotly/publisher.git --upgrade\n",
    "import publisher\n",
    "publisher.publish(\n",
    "    'Robust-vs-Empirical-covariance-estimate.ipynb', 'scikit-learn/plot-robust-vs-empirical-covariance/', 'Robust vs Empirical Covariance Estimate | plotly',\n",
    "    ' ',\n",
    "    title = 'Robust vs Empirical Covariance Estimate | plotly',\n",
    "    name = 'Robust vs Empirical Covariance Estimate',\n",
    "    has_thumbnail='true', thumbnail='thumbnail/robust.jpg', \n",
    "    language='scikit-learn', page_type='example_index',\n",
    "    display_as='covariance_estimation', order=5,\n",
    "    ipynb= '~Diksha_Gabha/2888')"
   ]
  },
  {
   "cell_type": "code",
   "execution_count": null,
   "metadata": {
    "collapsed": true
   },
   "outputs": [],
   "source": []
  }
 ],
 "metadata": {
  "kernelspec": {
   "display_name": "Python 2",
   "language": "python",
   "name": "python2"
  },
  "language_info": {
   "codemirror_mode": {
    "name": "ipython",
    "version": 2
   },
   "file_extension": ".py",
   "mimetype": "text/x-python",
   "name": "python",
   "nbconvert_exporter": "python",
   "pygments_lexer": "ipython2",
   "version": "2.7.11"
  }
 },
 "nbformat": 4,
 "nbformat_minor": 0
}
