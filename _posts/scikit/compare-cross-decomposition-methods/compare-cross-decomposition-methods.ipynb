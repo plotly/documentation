{
 "cells": [
  {
   "cell_type": "markdown",
   "metadata": {},
   "source": [
    "Simple usage of various cross decomposition algorithms: - PLSCanonical - PLSRegression, with multivariate response, a.k.a. PLS2 - PLSRegression, with univariate response, a.k.a. PLS1 - CCA\n",
    "\n",
    "Given 2 multivariate covarying two-dimensional datasets, X, and Y, PLS extracts the ‘directions of covariance’, i.e. the components of each datasets that explain the most shared variance between both datasets. This is apparent on the scatterplot matrix display: components 1 in dataset X and dataset Y are maximally correlated (points lie around the first diagonal). This is also true for components 2 in both dataset, however, the correlation across datasets for different components is weak: the point cloud is very spherical.\n"
   ]
  },
  {
   "cell_type": "markdown",
   "metadata": {},
   "source": [
    "#### New to Plotly?\n",
    "Plotly's Python library is free and open source! [Get started](https://plot.ly/python/getting-started/) by downloading the client and [reading the primer](https://plot.ly/python/getting-started/).\n",
    "<br>You can set up Plotly to work in [online](https://plot.ly/python/getting-started/#initialization-for-online-plotting) or [offline](https://plot.ly/python/getting-started/#initialization-for-offline-plotting) mode, or in [jupyter notebooks](https://plot.ly/python/getting-started/#start-plotting-online).\n",
    "<br>We also have a quick-reference [cheatsheet](https://images.plot.ly/plotly-documentation/images/python_cheat_sheet.pdf) (new!) to help you get started!"
   ]
  },
  {
   "cell_type": "markdown",
   "metadata": {},
   "source": [
    "### Version"
   ]
  },
  {
   "cell_type": "code",
   "execution_count": 1,
   "metadata": {
    "collapsed": false
   },
   "outputs": [
    {
     "data": {
      "text/plain": [
       "'0.18'"
      ]
     },
     "execution_count": 1,
     "metadata": {},
     "output_type": "execute_result"
    }
   ],
   "source": [
    "import sklearn\n",
    "sklearn.__version__"
   ]
  },
  {
   "cell_type": "markdown",
   "metadata": {},
   "source": [
    "### Imports"
   ]
  },
  {
   "cell_type": "markdown",
   "metadata": {},
   "source": [
    "This tutorails imports [PLSCanonical](http://scikit-learn.org/stable/modules/generated/sklearn.cross_decomposition.PLSCanonical.html#sklearn.cross_decomposition.PLSCanonical), [PLSRegression](http://scikit-learn.org/stable/modules/generated/sklearn.cross_decomposition.PLSRegression.html#sklearn.cross_decomposition.PLSRegression) and [CCA](http://scikit-learn.org/stable/modules/generated/sklearn.cross_decomposition.CCA.html#sklearn.cross_decomposition.CCA)."
   ]
  },
  {
   "cell_type": "code",
   "execution_count": 2,
   "metadata": {
    "collapsed": false
   },
   "outputs": [
    {
     "name": "stdout",
     "output_type": "stream",
     "text": [
      "Automatically created module for IPython interactive environment\n"
     ]
    }
   ],
   "source": [
    "print(__doc__)\n",
    "\n",
    "import plotly.plotly as py\n",
    "import plotly.graph_objs as go\n",
    "from plotly import tools\n",
    "\n",
    "import numpy as np\n",
    "import matplotlib.pyplot as plt\n",
    "from sklearn.cross_decomposition import PLSCanonical, PLSRegression, CCA"
   ]
  },
  {
   "cell_type": "markdown",
   "metadata": {},
   "source": [
    "### Calculations"
   ]
  },
  {
   "cell_type": "markdown",
   "metadata": {},
   "source": [
    "Dataset based latent variables model"
   ]
  },
  {
   "cell_type": "code",
   "execution_count": 3,
   "metadata": {
    "collapsed": false
   },
   "outputs": [
    {
     "name": "stdout",
     "output_type": "stream",
     "text": [
      "Corr(X)\n",
      "[[ 1.    0.5  -0.06 -0.1 ]\n",
      " [ 0.5   1.    0.02 -0.01]\n",
      " [-0.06  0.02  1.    0.43]\n",
      " [-0.1  -0.01  0.43  1.  ]]\n",
      "Corr(Y)\n",
      "[[ 1.    0.48 -0.11 -0.06]\n",
      " [ 0.48  1.   -0.03  0.01]\n",
      " [-0.11 -0.03  1.    0.51]\n",
      " [-0.06  0.01  0.51  1.  ]]\n"
     ]
    }
   ],
   "source": [
    "n = 500\n",
    "# 2 latents vars:\n",
    "l1 = np.random.normal(size=n)\n",
    "l2 = np.random.normal(size=n)\n",
    "\n",
    "latents = np.array([l1, l1, l2, l2]).T\n",
    "X = latents + np.random.normal(size=4 * n).reshape((n, 4))\n",
    "Y = latents + np.random.normal(size=4 * n).reshape((n, 4))\n",
    "\n",
    "X_train = X[:n / 2]\n",
    "Y_train = Y[:n / 2]\n",
    "X_test = X[n / 2:]\n",
    "Y_test = Y[n / 2:]\n",
    "\n",
    "print(\"Corr(X)\")\n",
    "print(np.round(np.corrcoef(X.T), 2))\n",
    "print(\"Corr(Y)\")\n",
    "print(np.round(np.corrcoef(Y.T), 2))"
   ]
  },
  {
   "cell_type": "markdown",
   "metadata": {},
   "source": [
    "### Canonical (symmetric) PLS"
   ]
  },
  {
   "cell_type": "markdown",
   "metadata": {},
   "source": [
    "Transform Data"
   ]
  },
  {
   "cell_type": "code",
   "execution_count": 4,
   "metadata": {
    "collapsed": true
   },
   "outputs": [],
   "source": [
    "plsca = PLSCanonical(n_components=2)\n",
    "plsca.fit(X_train, Y_train)\n",
    "X_train_r, Y_train_r = plsca.transform(X_train, Y_train)\n",
    "X_test_r, Y_test_r = plsca.transform(X_test, Y_test)\n"
   ]
  },
  {
   "cell_type": "markdown",
   "metadata": {},
   "source": [
    "Scatter plot of scores"
   ]
  },
  {
   "cell_type": "code",
   "execution_count": 5,
   "metadata": {
    "collapsed": false
   },
   "outputs": [],
   "source": [
    "\n",
    "fig = tools.make_subplots(rows=2, cols=2,\n",
    "                          print_grid=False,\n",
    "                          subplot_titles=('Comp. 1: X vs Y (test corr = %.2f)' %\n",
    "                                          np.corrcoef(X_test_r[:, 0], Y_test_r[:, 0])[0, 1],\n",
    "                                          'X comp. 1 vs X comp. 2 (test corr = %.2f)'\n",
    "                                          % np.corrcoef(X_test_r[:, 0], X_test_r[:, 1])[0, 1],\n",
    "                                          'Y comp. 1 vs Y comp. 2 , (test corr = %.2f)'\n",
    "                                          % np.corrcoef(Y_test_r[:, 0], Y_test_r[:, 1])[0, 1],\n",
    "                                          'Comp. 2: X vs Y (test corr = %.2f)' %\n",
    "                                          np.corrcoef(X_test_r[:, 1], Y_test_r[:, 1])[0, 1]))\n",
    "\n",
    "# 1) On diagonal plot X vs Y scores on each components\n",
    "\n",
    "comp1 = go.Scatter(x=X_train_r[:, 0], \n",
    "                   y=Y_train_r[:, 0], \n",
    "                   name=\"train\",\n",
    "                   mode='markers',\n",
    "                   marker=dict(color='red',\n",
    "                               line=dict(color='black', width=1))\n",
    "                  )\n",
    "comp1_ = go.Scatter(x=X_test_r[:, 0],\n",
    "                    y=Y_test_r[:, 0], \n",
    "                    name=\"test\",\n",
    "                    mode='markers',\n",
    "                    marker=dict(color='green',\n",
    "                               line=dict(color='black', width=1))\n",
    "                   )\n",
    "fig.append_trace(comp1, 1, 1)\n",
    "fig.append_trace(comp1_, 1, 1)\n",
    "\n",
    "fig['layout']['xaxis1'].update(title='x scores', zeroline=False,\n",
    "                               showgrid=False)\n",
    "fig['layout']['yaxis1'].update(title='y scores', zeroline=False,\n",
    "                               showgrid=False)\n",
    "\n",
    "comp2 = go.Scatter(x=X_train_r[:, 1], \n",
    "                   y=Y_train_r[:, 1],\n",
    "                   name=\"train\",\n",
    "                   showlegend=False,\n",
    "                   mode='markers',\n",
    "                   marker=dict(color='red',\n",
    "                               line=dict(color='black', width=1))\n",
    "                  )\n",
    "\n",
    "comp2_ = go.Scatter(x=X_test_r[:, 1], \n",
    "                    y=Y_test_r[:, 1], \n",
    "                    name=\"test\",\n",
    "                    showlegend=False,\n",
    "                    mode='markers',\n",
    "                    marker=dict(color='green',\n",
    "                                line=dict(color='black', width=1))\n",
    "                   )\n",
    "fig.append_trace(comp2, 2, 2)\n",
    "fig.append_trace(comp2_, 2, 2)\n",
    "\n",
    "fig['layout']['xaxis4'].update(title='x scores', zeroline=False,\n",
    "                               showgrid=False)\n",
    "fig['layout']['yaxis4'].update(title='y scores', zeroline=False,\n",
    "                               showgrid=False)\n",
    "\n",
    "# 2) Off diagonal plot components 1 vs 2 for X and Y\n",
    "\n",
    "xcomp = go.Scatter(x=X_train_r[:, 0], \n",
    "                   y=X_train_r[:, 1],\n",
    "                   name=\"train\",\n",
    "                   showlegend=False,\n",
    "                   mode='markers',\n",
    "                   marker=dict(color='red',\n",
    "                              line=dict(color='black', width=1))\n",
    "                  )\n",
    "xcomp_ = go.Scatter(x=X_test_r[:, 0], \n",
    "                    y=X_test_r[:, 1], \n",
    "                    name=\"test\",\n",
    "                    showlegend=False,\n",
    "                    mode='markers',\n",
    "                    marker=dict(color='green',\n",
    "                                line=dict(color='black', width=1))\n",
    "                   )\n",
    "\n",
    "fig.append_trace(xcomp, 1, 2)\n",
    "fig.append_trace(xcomp_, 1, 2)\n",
    "\n",
    "fig['layout']['xaxis2'].update(title='X comp. 1', zeroline=False,\n",
    "                               showgrid=False)\n",
    "fig['layout']['yaxis2'].update(title='X comp. 2', zeroline=False,\n",
    "                               showgrid=False)\n",
    "\n",
    "ycomp1 = go.Scatter(x=Y_train_r[:, 0], \n",
    "                    y=Y_train_r[:, 1], \n",
    "                    name=\"train\",\n",
    "                    showlegend=False,\n",
    "                    mode='markers',\n",
    "                    marker=dict(color='red',\n",
    "                              line=dict(color='black', width=1))\n",
    "                   )\n",
    "\n",
    "ycomp1_ = go.Scatter(x=Y_test_r[:, 0], \n",
    "                     y=Y_test_r[:, 1],\n",
    "                     name=\"test\",\n",
    "                     showlegend=False,\n",
    "                     mode='markers',\n",
    "                     marker=dict(color='green',\n",
    "                                 line=dict(color='black', width=1))\n",
    "                    )\n",
    "fig.append_trace(ycomp1, 2, 1)\n",
    "fig.append_trace(ycomp1_, 2, 1)\n",
    "\n",
    "fig['layout']['xaxis3'].update(title='Y comp. 1', zeroline=False,\n",
    "                               showgrid=False)\n",
    "fig['layout']['yaxis3'].update(title='Y comp. 2', zeroline=False,\n",
    "                               showgrid=False)\n",
    "\n",
    "fig['layout'].update(height=800)"
   ]
  },
  {
   "cell_type": "code",
   "execution_count": 6,
   "metadata": {
    "collapsed": false
   },
   "outputs": [
    {
     "data": {
      "text/html": [
       "<iframe id=\"igraph\" scrolling=\"no\" style=\"border:none;\" seamless=\"seamless\" src=\"https://plot.ly/~Diksha_Gabha/2889.embed\" height=\"800px\" width=\"100%\"></iframe>"
      ],
      "text/plain": [
       "<plotly.tools.PlotlyDisplay object>"
      ]
     },
     "execution_count": 6,
     "metadata": {},
     "output_type": "execute_result"
    }
   ],
   "source": [
    "py.iplot(fig)"
   ]
  },
  {
   "cell_type": "markdown",
   "metadata": {},
   "source": [
    "### PLS Regression"
   ]
  },
  {
   "cell_type": "markdown",
   "metadata": {},
   "source": [
    "PLS regression, with multivariate response, a.k.a. PLS2"
   ]
  },
  {
   "cell_type": "code",
   "execution_count": 7,
   "metadata": {
    "collapsed": false
   },
   "outputs": [
    {
     "name": "stdout",
     "output_type": "stream",
     "text": [
      "True B (such that: Y = XB + Err)\n",
      "[[1 1 1]\n",
      " [2 2 2]\n",
      " [0 0 0]\n",
      " [0 0 0]\n",
      " [0 0 0]\n",
      " [0 0 0]\n",
      " [0 0 0]\n",
      " [0 0 0]\n",
      " [0 0 0]\n",
      " [0 0 0]]\n",
      "Estimated B\n",
      "[[ 1.   1.   1. ]\n",
      " [ 2.   2.   2. ]\n",
      " [ 0.   0.   0. ]\n",
      " [ 0.   0.  -0. ]\n",
      " [-0.  -0.1 -0. ]\n",
      " [ 0.   0.   0. ]\n",
      " [-0.   0.  -0. ]\n",
      " [-0.  -0.  -0. ]\n",
      " [-0.  -0.  -0. ]\n",
      " [ 0.1  0.1 -0. ]]\n"
     ]
    },
    {
     "data": {
      "text/plain": [
       "array([[ 2.2696561 ,  2.32455797,  2.40508248],\n",
       "       [ 9.78256978,  9.95096021,  9.88771175],\n",
       "       [ 6.86635142,  6.99968069,  6.7605165 ],\n",
       "       ..., \n",
       "       [ 6.75327401,  6.87061734,  6.72441019],\n",
       "       [ 7.57312605,  7.71579299,  7.56704522],\n",
       "       [ 3.11627201,  3.19632039,  3.08518641]])"
      ]
     },
     "execution_count": 7,
     "metadata": {},
     "output_type": "execute_result"
    }
   ],
   "source": [
    "n = 1000\n",
    "q = 3\n",
    "p = 10\n",
    "X = np.random.normal(size=n * p).reshape((n, p))\n",
    "B = np.array([[1, 2] + [0] * (p - 2)] * q).T\n",
    "# each Yj = 1*X1 + 2*X2 + noize\n",
    "Y = np.dot(X, B) + np.random.normal(size=n * q).reshape((n, q)) + 5\n",
    "\n",
    "pls2 = PLSRegression(n_components=3)\n",
    "pls2.fit(X, Y)\n",
    "print(\"True B (such that: Y = XB + Err)\")\n",
    "print(B)\n",
    "# compare pls2.coef_ with B\n",
    "print(\"Estimated B\")\n",
    "print(np.round(pls2.coef_, 1))\n",
    "pls2.predict(X)"
   ]
  },
  {
   "cell_type": "markdown",
   "metadata": {},
   "source": [
    "PLS regression, with univariate response, a.k.a. PLS1"
   ]
  },
  {
   "cell_type": "code",
   "execution_count": 8,
   "metadata": {
    "collapsed": false
   },
   "outputs": [
    {
     "name": "stdout",
     "output_type": "stream",
     "text": [
      "Estimated betas\n",
      "[[ 1. ]\n",
      " [ 2. ]\n",
      " [-0. ]\n",
      " [ 0. ]\n",
      " [-0. ]\n",
      " [-0.1]\n",
      " [-0. ]\n",
      " [-0. ]\n",
      " [-0. ]\n",
      " [ 0. ]]\n"
     ]
    }
   ],
   "source": [
    "n = 1000\n",
    "p = 10\n",
    "X = np.random.normal(size=n * p).reshape((n, p))\n",
    "y = X[:, 0] + 2 * X[:, 1] + np.random.normal(size=n * 1) + 5\n",
    "pls1 = PLSRegression(n_components=3)\n",
    "pls1.fit(X, y)\n",
    "# note that the number of components exceeds 1 (the dimension of y)\n",
    "print(\"Estimated betas\")\n",
    "print(np.round(pls1.coef_, 1))"
   ]
  },
  {
   "cell_type": "markdown",
   "metadata": {},
   "source": [
    "CCA (PLS mode B with symmetric deflation)"
   ]
  },
  {
   "cell_type": "code",
   "execution_count": 9,
   "metadata": {
    "collapsed": true
   },
   "outputs": [],
   "source": [
    "cca = CCA(n_components=2)\n",
    "cca.fit(X_train, Y_train)\n",
    "X_train_r, Y_train_r = plsca.transform(X_train, Y_train)\n",
    "X_test_r, Y_test_r = plsca.transform(X_test, Y_test)"
   ]
  },
  {
   "cell_type": "code",
   "execution_count": 3,
   "metadata": {
    "collapsed": false
   },
   "outputs": [
    {
     "data": {
      "text/html": [
       "<link href=\"//fonts.googleapis.com/css?family=Open+Sans:600,400,300,200|Inconsolata|Ubuntu+Mono:400,700\" rel=\"stylesheet\" type=\"text/css\" />"
      ],
      "text/plain": [
       "<IPython.core.display.HTML object>"
      ]
     },
     "metadata": {},
     "output_type": "display_data"
    },
    {
     "data": {
      "text/html": [
       "<link rel=\"stylesheet\" type=\"text/css\" href=\"http://help.plot.ly/documentation/all_static/css/ipython-notebook-custom.css\">"
      ],
      "text/plain": [
       "<IPython.core.display.HTML object>"
      ]
     },
     "metadata": {},
     "output_type": "display_data"
    },
    {
     "name": "stdout",
     "output_type": "stream",
     "text": [
      "Collecting git+https://github.com/plotly/publisher.git\n",
      "  Cloning https://github.com/plotly/publisher.git to /tmp/pip-k5YOjN-build\n",
      "Installing collected packages: publisher\n",
      "  Running setup.py install for publisher ... \u001b[?25l-\b \berror\n",
      "    Complete output from command /usr/bin/python -u -c \"import setuptools, tokenize;__file__='/tmp/pip-k5YOjN-build/setup.py';exec(compile(getattr(tokenize, 'open', open)(__file__).read().replace('\\r\\n', '\\n'), __file__, 'exec'))\" install --record /tmp/pip-4pp7o6-record/install-record.txt --single-version-externally-managed --compile:\n",
      "    running install\n",
      "    running build\n",
      "    running build_py\n",
      "    creating build\n",
      "    creating build/lib.linux-x86_64-2.7\n",
      "    creating build/lib.linux-x86_64-2.7/publisher\n",
      "    copying publisher/publisher.py -> build/lib.linux-x86_64-2.7/publisher\n",
      "    copying publisher/__init__.py -> build/lib.linux-x86_64-2.7/publisher\n",
      "    running install_lib\n",
      "    creating /usr/local/lib/python2.7/dist-packages/publisher\n",
      "    error: could not create '/usr/local/lib/python2.7/dist-packages/publisher': Permission denied\n",
      "    \n",
      "    ----------------------------------------\n",
      "\u001b[31mCommand \"/usr/bin/python -u -c \"import setuptools, tokenize;__file__='/tmp/pip-k5YOjN-build/setup.py';exec(compile(getattr(tokenize, 'open', open)(__file__).read().replace('\\r\\n', '\\n'), __file__, 'exec'))\" install --record /tmp/pip-4pp7o6-record/install-record.txt --single-version-externally-managed --compile\" failed with error code 1 in /tmp/pip-k5YOjN-build/\u001b[0m\n",
      "\u001b[33mYou are using pip version 8.1.2, however version 9.0.1 is available.\n",
      "You should consider upgrading via the 'pip install --upgrade pip' command.\u001b[0m\n",
      "\u001b[?25h"
     ]
    }
   ],
   "source": [
    "from IPython.display import display, HTML\n",
    "\n",
    "display(HTML('<link href=\"//fonts.googleapis.com/css?family=Open+Sans:600,400,300,200|Inconsolata|Ubuntu+Mono:400,700\" rel=\"stylesheet\" type=\"text/css\" />'))\n",
    "display(HTML('<link rel=\"stylesheet\" type=\"text/css\" href=\"http://help.plot.ly/documentation/all_static/css/ipython-notebook-custom.css\">'))\n",
    "\n",
    "! pip install git+https://github.com/plotly/publisher.git --upgrade\n",
    "import publisher\n",
    "publisher.publish(\n",
    "    'compare-cross-decomposition-methods.ipynb', 'scikit-learn/plot-compare-cross-decomposition/', 'Compare Cross Decomposition Methods | plotly',\n",
    "    ' ',\n",
    "    title = 'Compare Cross Decomposition Methods | plotly',\n",
    "    name = 'Compare Cross Decomposition Methods',\n",
    "    has_thumbnail='true', thumbnail='thumbnail/cross-decomposition.jpg', \n",
    "    language='scikit-learn', page_type='example_index',\n",
    "    display_as='cross_decomposition', order=1,\n",
    "    ipynb= '~Diksha_Gabha/2891')"
   ]
  },
  {
   "cell_type": "code",
   "execution_count": null,
   "metadata": {
    "collapsed": true
   },
   "outputs": [],
   "source": []
  }
 ],
 "metadata": {
  "kernelspec": {
   "display_name": "Python 2",
   "language": "python",
   "name": "python2"
  },
  "language_info": {
   "codemirror_mode": {
    "name": "ipython",
    "version": 2
   },
   "file_extension": ".py",
   "mimetype": "text/x-python",
   "name": "python",
   "nbconvert_exporter": "python",
   "pygments_lexer": "ipython2",
   "version": "2.7.11"
  }
 },
 "nbformat": 4,
 "nbformat_minor": 0
}
