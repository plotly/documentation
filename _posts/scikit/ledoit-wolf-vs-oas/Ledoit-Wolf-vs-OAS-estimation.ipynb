{
 "cells": [
  {
   "cell_type": "markdown",
   "metadata": {},
   "source": [
    "The usual covariance maximum likelihood estimate can be regularized using shrinkage. Ledoit and Wolf proposed a close formula to compute the asymptotically optimal shrinkage parameter (minimizing a MSE criterion), yielding the Ledoit-Wolf covariance estimate.\n",
    "\n",
    "Chen et al. proposed an improvement of the Ledoit-Wolf shrinkage parameter, the OAS coefficient, whose convergence is significantly better under the assumption that the data are Gaussian.\n",
    "\n",
    "This example, inspired from Chen’s publication [1], shows a comparison of the estimated MSE of the LW and OAS \n",
    "methods, using Gaussian distributed data.\n",
    "\n",
    "[1] “Shrinkage Algorithms for MMSE Covariance Estimation” Chen et al., IEEE Trans. on Sign. Proc., Volume 58, Issue 10, October 2010."
   ]
  },
  {
   "cell_type": "markdown",
   "metadata": {},
   "source": [
    "#### New to Plotly?\n",
    "Plotly's Python library is free and open source! [Get started](https://plot.ly/python/getting-started/) by downloading the client and [reading the primer](https://plot.ly/python/getting-started/).\n",
    "<br>You can set up Plotly to work in [online](https://plot.ly/python/getting-started/#initialization-for-online-plotting) or [offline](https://plot.ly/python/getting-started/#initialization-for-offline-plotting) mode, or in [jupyter notebooks](https://plot.ly/python/getting-started/#start-plotting-online).\n",
    "<br>We also have a quick-reference [cheatsheet](https://images.plot.ly/plotly-documentation/images/python_cheat_sheet.pdf) (new!) to help you get started!"
   ]
  },
  {
   "cell_type": "markdown",
   "metadata": {},
   "source": [
    "### Version"
   ]
  },
  {
   "cell_type": "code",
   "execution_count": 1,
   "metadata": {
    "collapsed": false
   },
   "outputs": [
    {
     "data": {
      "text/plain": [
       "'0.18'"
      ]
     },
     "execution_count": 1,
     "metadata": {},
     "output_type": "execute_result"
    }
   ],
   "source": [
    "import sklearn\n",
    "sklearn.__version__"
   ]
  },
  {
   "cell_type": "markdown",
   "metadata": {},
   "source": [
    "### Imports"
   ]
  },
  {
   "cell_type": "markdown",
   "metadata": {},
   "source": [
    "This tutorial imports [toeplitz](http://docs.scipy.org/doc/scipy-0.11.0/reference/generated/scipy.linalg.toeplitz.html#scipy.linalg.toeplitz), [cholesky](http://docs.scipy.org/doc/scipy-0.11.0/reference/generated/scipy.linalg.cholesky.html#scipy.linalg.cholesky),[LedoitWolf](http://scikit-learn.org/stable/modules/generated/sklearn.covariance.LedoitWolf.html#sklearn.covariance.LedoitWolf) and [OAS](http://scikit-learn.org/stable/modules/generated/sklearn.covariance.OAS.html#sklearn.covariance.OAS)."
   ]
  },
  {
   "cell_type": "code",
   "execution_count": 2,
   "metadata": {
    "collapsed": false
   },
   "outputs": [
    {
     "name": "stdout",
     "output_type": "stream",
     "text": [
      "Automatically created module for IPython interactive environment\n"
     ]
    }
   ],
   "source": [
    "print(__doc__)\n",
    "\n",
    "import plotly.plotly as py\n",
    "import plotly.graph_objs as go\n",
    "\n",
    "import numpy as np\n",
    "from scipy.linalg import toeplitz, cholesky\n",
    "\n",
    "from sklearn.covariance import LedoitWolf, OAS"
   ]
  },
  {
   "cell_type": "markdown",
   "metadata": {},
   "source": [
    "### Calculations"
   ]
  },
  {
   "cell_type": "code",
   "execution_count": 3,
   "metadata": {
    "collapsed": true
   },
   "outputs": [],
   "source": [
    "np.random.seed(0)\n",
    "n_features = 100\n",
    "# simulation covariance matrix (AR(1) process)\n",
    "r = 0.1\n",
    "real_cov = toeplitz(r ** np.arange(n_features))\n",
    "coloring_matrix = cholesky(real_cov)\n",
    "\n",
    "n_samples_range = np.arange(6, 31, 1)\n",
    "repeat = 100\n",
    "lw_mse = np.zeros((n_samples_range.size, repeat))\n",
    "oa_mse = np.zeros((n_samples_range.size, repeat))\n",
    "lw_shrinkage = np.zeros((n_samples_range.size, repeat))\n",
    "oa_shrinkage = np.zeros((n_samples_range.size, repeat))\n",
    "for i, n_samples in enumerate(n_samples_range):\n",
    "    for j in range(repeat):\n",
    "        X = np.dot(\n",
    "            np.random.normal(size=(n_samples, n_features)), coloring_matrix.T)\n",
    "\n",
    "        lw = LedoitWolf(store_precision=False, assume_centered=True)\n",
    "        lw.fit(X)\n",
    "        lw_mse[i, j] = lw.error_norm(real_cov, scaling=False)\n",
    "        lw_shrinkage[i, j] = lw.shrinkage_\n",
    "\n",
    "        oa = OAS(store_precision=False, assume_centered=True)\n",
    "        oa.fit(X)\n",
    "        oa_mse[i, j] = oa.error_norm(real_cov, scaling=False)\n",
    "        oa_shrinkage[i, j] = oa.shrinkage_"
   ]
  },
  {
   "cell_type": "markdown",
   "metadata": {},
   "source": [
    "### Plot MSE"
   ]
  },
  {
   "cell_type": "code",
   "execution_count": 4,
   "metadata": {
    "collapsed": false
   },
   "outputs": [],
   "source": [
    "Ledoit_Wolf = go.Scatter(x=n_samples_range, \n",
    "                  y=lw_mse.mean(1), \n",
    "                  error_y=dict(visible=True, arrayminus=lw_mse.std(1)),\n",
    "                  name='Ledoit-Wolf', \n",
    "                  mode='lines',\n",
    "                  line= dict(color='navy', width=2)\n",
    "                 )\n",
    "OAS = go.Scatter(x=n_samples_range, \n",
    "                 y=oa_mse.mean(1), \n",
    "                 error_y=dict(visible=True, arrayminus=oa_mse.std(1)),\n",
    "                 name='OAS', \n",
    "                 mode='lines',\n",
    "                 line=dict(color='#FF8C00', width=2)\n",
    "                )\n",
    "\n",
    "data = [Ledoit_Wolf, OAS]\n",
    "layout = go.Layout(title=\"Comparison of covariance estimators\",\n",
    "                   yaxis=dict(title=\"Squared error\"),\n",
    "                   xaxis=dict(title=\"n_samples\")\n",
    "                  )\n",
    "\n",
    "fig = go.Figure(data=data, layout=layout)"
   ]
  },
  {
   "cell_type": "code",
   "execution_count": 5,
   "metadata": {
    "collapsed": false
   },
   "outputs": [
    {
     "data": {
      "text/html": [
       "<iframe id=\"igraph\" scrolling=\"no\" style=\"border:none;\" seamless=\"seamless\" src=\"https://plot.ly/~Diksha_Gabha/2867.embed\" height=\"525px\" width=\"100%\"></iframe>"
      ],
      "text/plain": [
       "<plotly.tools.PlotlyDisplay object>"
      ]
     },
     "execution_count": 5,
     "metadata": {},
     "output_type": "execute_result"
    }
   ],
   "source": [
    "py.iplot(fig)"
   ]
  },
  {
   "cell_type": "markdown",
   "metadata": {},
   "source": [
    "### Plot shrinkage coefficient"
   ]
  },
  {
   "cell_type": "code",
   "execution_count": 6,
   "metadata": {
    "collapsed": true
   },
   "outputs": [],
   "source": [
    "\n",
    "Ledoit_Wolf = go.Scatter(x=n_samples_range, \n",
    "                    y=lw_shrinkage.mean(1),\n",
    "                    error_y=dict(visible=True, arrayminus=lw_mse.std(1)),\n",
    "                    name='Ledoit-Wolf', \n",
    "                    mode='lines',\n",
    "                    line= dict(color='navy', width=2)\n",
    "                    )\n",
    "\n",
    "OAS = go.Scatter(x=n_samples_range, \n",
    "                 y=oa_shrinkage.mean(1), \n",
    "                 error_y=dict(visible=True, arrayminus=oa_shrinkage.std(1)),\n",
    "                 name='OAS', \n",
    "                 mode='lines',\n",
    "                 line=dict(color='#FF8C00', width=2)\n",
    "                )\n",
    "\n",
    "data = [Ledoit_Wolf, OAS]\n",
    "layout = go.Layout(title=\"Comparison of covariance estimators\",\n",
    "                   yaxis=dict(title=\"Shrinkage\"),\n",
    "                   xaxis=dict(title=\"n_samples\")\n",
    "                  )\n",
    "\n",
    "fig = go.Figure(data=data, layout=layout)"
   ]
  },
  {
   "cell_type": "code",
   "execution_count": 7,
   "metadata": {
    "collapsed": false
   },
   "outputs": [
    {
     "data": {
      "text/html": [
       "<iframe id=\"igraph\" scrolling=\"no\" style=\"border:none;\" seamless=\"seamless\" src=\"https://plot.ly/~Diksha_Gabha/2869.embed\" height=\"525px\" width=\"100%\"></iframe>"
      ],
      "text/plain": [
       "<plotly.tools.PlotlyDisplay object>"
      ]
     },
     "execution_count": 7,
     "metadata": {},
     "output_type": "execute_result"
    }
   ],
   "source": [
    "py.iplot(fig)"
   ]
  },
  {
   "cell_type": "code",
   "execution_count": 2,
   "metadata": {
    "collapsed": false
   },
   "outputs": [
    {
     "data": {
      "text/html": [
       "<link href=\"//fonts.googleapis.com/css?family=Open+Sans:600,400,300,200|Inconsolata|Ubuntu+Mono:400,700\" rel=\"stylesheet\" type=\"text/css\" />"
      ],
      "text/plain": [
       "<IPython.core.display.HTML object>"
      ]
     },
     "metadata": {},
     "output_type": "display_data"
    },
    {
     "data": {
      "text/html": [
       "<link rel=\"stylesheet\" type=\"text/css\" href=\"http://help.plot.ly/documentation/all_static/css/ipython-notebook-custom.css\">"
      ],
      "text/plain": [
       "<IPython.core.display.HTML object>"
      ]
     },
     "metadata": {},
     "output_type": "display_data"
    },
    {
     "name": "stdout",
     "output_type": "stream",
     "text": [
      "Collecting git+https://github.com/plotly/publisher.git\n",
      "  Cloning https://github.com/plotly/publisher.git to /tmp/pip-mhXnyL-build\n",
      "Installing collected packages: publisher\n",
      "  Running setup.py install for publisher ... \u001b[?25l-\b \berror\n",
      "    Complete output from command /usr/bin/python -u -c \"import setuptools, tokenize;__file__='/tmp/pip-mhXnyL-build/setup.py';exec(compile(getattr(tokenize, 'open', open)(__file__).read().replace('\\r\\n', '\\n'), __file__, 'exec'))\" install --record /tmp/pip-neKoOx-record/install-record.txt --single-version-externally-managed --compile:\n",
      "    running install\n",
      "    running build\n",
      "    running build_py\n",
      "    creating build\n",
      "    creating build/lib.linux-x86_64-2.7\n",
      "    creating build/lib.linux-x86_64-2.7/publisher\n",
      "    copying publisher/publisher.py -> build/lib.linux-x86_64-2.7/publisher\n",
      "    copying publisher/__init__.py -> build/lib.linux-x86_64-2.7/publisher\n",
      "    running install_lib\n",
      "    creating /usr/local/lib/python2.7/dist-packages/publisher\n",
      "    error: could not create '/usr/local/lib/python2.7/dist-packages/publisher': Permission denied\n",
      "    \n",
      "    ----------------------------------------\n",
      "\u001b[31mCommand \"/usr/bin/python -u -c \"import setuptools, tokenize;__file__='/tmp/pip-mhXnyL-build/setup.py';exec(compile(getattr(tokenize, 'open', open)(__file__).read().replace('\\r\\n', '\\n'), __file__, 'exec'))\" install --record /tmp/pip-neKoOx-record/install-record.txt --single-version-externally-managed --compile\" failed with error code 1 in /tmp/pip-mhXnyL-build/\u001b[0m\n",
      "\u001b[33mYou are using pip version 8.1.2, however version 9.0.1 is available.\n",
      "You should consider upgrading via the 'pip install --upgrade pip' command.\u001b[0m\n",
      "\u001b[?25h"
     ]
    }
   ],
   "source": [
    "from IPython.display import display, HTML\n",
    "\n",
    "display(HTML('<link href=\"//fonts.googleapis.com/css?family=Open+Sans:600,400,300,200|Inconsolata|Ubuntu+Mono:400,700\" rel=\"stylesheet\" type=\"text/css\" />'))\n",
    "display(HTML('<link rel=\"stylesheet\" type=\"text/css\" href=\"http://help.plot.ly/documentation/all_static/css/ipython-notebook-custom.css\">'))\n",
    "\n",
    "! pip install git+https://github.com/plotly/publisher.git --upgrade\n",
    "import publisher\n",
    "publisher.publish(\n",
    "    'Ledoit-Wolf-vs-OAS-estimation.ipynb', 'scikit-learn/plot-lw-vs-oas/', 'Ledoit-Wolf vs OAS Estimation | plotly',\n",
    "    ' ',\n",
    "    title = 'Ledoit-Wolf vs OAS Estimation | plotly',\n",
    "    name = 'Ledoit-Wolf vs OAS Estimation',\n",
    "    has_thumbnail='true', thumbnail='thumbnail/ledoit.jpg', \n",
    "    language='scikit-learn', page_type='example_index',\n",
    "    display_as='covariance_estimation', order=1,\n",
    "    ipynb= '~Diksha_Gabha/2871')"
   ]
  },
  {
   "cell_type": "code",
   "execution_count": null,
   "metadata": {
    "collapsed": true
   },
   "outputs": [],
   "source": []
  }
 ],
 "metadata": {
  "kernelspec": {
   "display_name": "Python 2",
   "language": "python",
   "name": "python2"
  },
  "language_info": {
   "codemirror_mode": {
    "name": "ipython",
    "version": 2
   },
   "file_extension": ".py",
   "mimetype": "text/x-python",
   "name": "python",
   "nbconvert_exporter": "python",
   "pygments_lexer": "ipython2",
   "version": "2.7.11"
  }
 },
 "nbformat": 4,
 "nbformat_minor": 0
}
