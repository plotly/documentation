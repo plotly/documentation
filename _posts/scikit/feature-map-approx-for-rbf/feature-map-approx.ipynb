{
 "cells": [
  {
   "cell_type": "markdown",
   "metadata": {},
   "source": [
    "An example illustrating the approximation of the feature map of an RBF kernel.\n",
    "\n",
    "It shows how to use [RBFSampler](http://scikit-learn.org/stable/modules/generated/sklearn.kernel_approximation.RBFSampler.html#sklearn.kernel_approximation.RBFSampler) and [Nystroem](http://scikit-learn.org/stable/modules/generated/sklearn.kernel_approximation.Nystroem.html#sklearn.kernel_approximation.Nystroem) to approximate the feature map of an RBF kernel for classification with an SVM on the digits dataset. Results using a linear SVM in the original space, a linear SVM using the approximate mappings and using a kernelized SVM are compared. Timings and accuracy for varying amounts of Monte Carlo samplings (in the case of [RBFSampler](http://scikit-learn.org/stable/modules/generated/sklearn.kernel_approximation.RBFSampler.html#sklearn.kernel_approximation.RBFSampler), which uses random Fourier features) and different sized subsets of the training set (for [Nystroem](http://scikit-learn.org/stable/modules/generated/sklearn.kernel_approximation.Nystroem.html#sklearn.kernel_approximation.Nystroem)) for the approximate mapping are shown.\n",
    "\n",
    "Please note that the dataset here is not large enough to show the benefits of kernel approximation, as the exact SVM is still reasonably fast.\n",
    "\n",
    "Sampling more dimensions clearly leads to better classification results, but comes at a greater cost. This means there is a tradeoff between runtime and accuracy, given by the parameter n_components. Note that solving the \n",
    "Linear SVM and also the approximate kernel SVM could be greatly accelerated by using stochastic gradient descent via [sklearn.linear_model.SGDClassifier](http://scikit-learn.org/stable/modules/generated/sklearn.linear_model.SGDClassifier.html#sklearn.linear_model.SGDClassifier). This is not easily possible for the case of the kernelized SVM.\n",
    "\n",
    "The second plot visualized the decision surfaces of the RBF kernel SVM and the linear SVM with approximate kernel maps. The plot shows decision surfaces of the classifiers projected onto the first two principal components of the data. This visualization should be taken with a grain of salt since it is just an interesting slice through the decision surface in 64 dimensions. In particular note that a datapoint (represented as a dot) does not necessarily be classified into the region it is lying in, since it will not lie on the plane that the first two principal components span.\n",
    "\n",
    "The usage of [RBFSampler](http://scikit-learn.org/stable/modules/generated/sklearn.kernel_approximation.RBFSampler.html#sklearn.kernel_approximation.RBFSampler) and [Nystroem](http://scikit-learn.org/stable/modules/generated/sklearn.kernel_approximation.Nystroem.html#sklearn.kernel_approximation.Nystroem) is described in detail in [Kernel Approximation](http://scikit-learn.org/stable/modules/kernel_approximation.html#kernel-approximation).\n"
   ]
  },
  {
   "cell_type": "markdown",
   "metadata": {},
   "source": [
    "#### New to Plotly?\n",
    "Plotly's Python library is free and open source! [Get started](https://plot.ly/python/getting-started/) by downloading the client and [reading the primer](https://plot.ly/python/getting-started/).\n",
    "<br>You can set up Plotly to work in [online](https://plot.ly/python/getting-started/#initialization-for-online-plotting) or [offline](https://plot.ly/python/getting-started/#initialization-for-offline-plotting) mode, or in [jupyter notebooks](https://plot.ly/python/getting-started/#start-plotting-online).\n",
    "<br>We also have a quick-reference [cheatsheet](https://images.plot.ly/plotly-documentation/images/python_cheat_sheet.pdf) (new!) to help you get started!"
   ]
  },
  {
   "cell_type": "markdown",
   "metadata": {},
   "source": [
    "### Version"
   ]
  },
  {
   "cell_type": "code",
   "execution_count": 1,
   "metadata": {
    "collapsed": false
   },
   "outputs": [
    {
     "data": {
      "text/plain": [
       "'0.18'"
      ]
     },
     "execution_count": 1,
     "metadata": {},
     "output_type": "execute_result"
    }
   ],
   "source": [
    "import sklearn\n",
    "sklearn.__version__"
   ]
  },
  {
   "cell_type": "markdown",
   "metadata": {},
   "source": [
    "### Imports"
   ]
  },
  {
   "cell_type": "markdown",
   "metadata": {},
   "source": [
    "This tutorial imports [RBFSampler](http://scikit-learn.org/stable/modules/generated/sklearn.kernel_approximation.RBFSampler.html#sklearn.kernel_approximation.RBFSampler), [Nystroem](http://scikit-learn.org/stable/modules/generated/sklearn.kernel_approximation.Nystroem.html#sklearn.kernel_approximation.Nystroem) and [PCA](http://scikit-learn.org/stable/modules/generated/sklearn.decomposition.PCA.html#sklearn.decomposition.PCA)."
   ]
  },
  {
   "cell_type": "code",
   "execution_count": 2,
   "metadata": {
    "collapsed": true
   },
   "outputs": [],
   "source": [
    "import plotly.plotly as py\n",
    "import plotly.graph_objs as go\n",
    "from plotly import tools\n",
    "\n",
    "import numpy as np\n",
    "from time import time\n",
    "import matplotlib.pyplot as plt\n",
    "from sklearn import datasets, svm, pipeline\n",
    "from sklearn.kernel_approximation import (RBFSampler,\n",
    "                                          Nystroem)\n",
    "from sklearn.decomposition import PCA\n"
   ]
  },
  {
   "cell_type": "markdown",
   "metadata": {},
   "source": [
    "### Calculations"
   ]
  },
  {
   "cell_type": "code",
   "execution_count": 3,
   "metadata": {
    "collapsed": false
   },
   "outputs": [
    {
     "name": "stdout",
     "output_type": "stream",
     "text": [
      "Automatically created module for IPython interactive environment\n"
     ]
    }
   ],
   "source": [
    "print(__doc__)\n",
    "\n",
    "# The digits dataset\n",
    "digits = datasets.load_digits(n_class=9)\n",
    "\n",
    "# To apply an classifier on this data, we need to flatten the image, to\n",
    "# turn the data in a (samples, feature) matrix:\n",
    "n_samples = len(digits.data)\n",
    "data = digits.data / 16.\n",
    "data -= data.mean(axis=0)\n",
    "\n",
    "# We learn the digits on the first half of the digits\n",
    "data_train, targets_train = data[:n_samples / 2], digits.target[:n_samples / 2]\n",
    "\n",
    "\n",
    "# Now predict the value of the digit on the second half:\n",
    "data_test, targets_test = data[n_samples / 2:], digits.target[n_samples / 2:]\n",
    "#data_test = scaler.transform(data_test)\n",
    "\n",
    "# Create a classifier: a support vector classifier\n",
    "kernel_svm = svm.SVC(gamma=.2)\n",
    "linear_svm = svm.LinearSVC()\n",
    "\n",
    "# create pipeline from kernel approximation\n",
    "# and linear svm\n",
    "feature_map_fourier = RBFSampler(gamma=.2, random_state=1)\n",
    "feature_map_nystroem = Nystroem(gamma=.2, random_state=1)\n",
    "fourier_approx_svm = pipeline.Pipeline([(\"feature_map\", feature_map_fourier),\n",
    "                                        (\"svm\", svm.LinearSVC())])\n",
    "\n",
    "nystroem_approx_svm = pipeline.Pipeline([(\"feature_map\", feature_map_nystroem),\n",
    "                                        (\"svm\", svm.LinearSVC())])\n",
    "\n",
    "# fit and predict using linear and kernel svm:\n",
    "\n",
    "kernel_svm_time = time()\n",
    "kernel_svm.fit(data_train, targets_train)\n",
    "kernel_svm_score = kernel_svm.score(data_test, targets_test)\n",
    "kernel_svm_time = time() - kernel_svm_time\n",
    "\n",
    "linear_svm_time = time()\n",
    "linear_svm.fit(data_train, targets_train)\n",
    "linear_svm_score = linear_svm.score(data_test, targets_test)\n",
    "linear_svm_time = time() - linear_svm_time\n",
    "\n",
    "sample_sizes = 30 * np.arange(1, 10)\n",
    "fourier_scores = []\n",
    "nystroem_scores = []\n",
    "fourier_times = []\n",
    "nystroem_times = []\n",
    "\n",
    "for D in sample_sizes:\n",
    "    fourier_approx_svm.set_params(feature_map__n_components=D)\n",
    "    nystroem_approx_svm.set_params(feature_map__n_components=D)\n",
    "    start = time()\n",
    "    nystroem_approx_svm.fit(data_train, targets_train)\n",
    "    nystroem_times.append(time() - start)\n",
    "\n",
    "    start = time()\n",
    "    fourier_approx_svm.fit(data_train, targets_train)\n",
    "    fourier_times.append(time() - start)\n",
    "\n",
    "    fourier_score = fourier_approx_svm.score(data_test, targets_test)\n",
    "    nystroem_score = nystroem_approx_svm.score(data_test, targets_test)\n",
    "    nystroem_scores.append(nystroem_score)\n",
    "    fourier_scores.append(fourier_score)"
   ]
  },
  {
   "cell_type": "markdown",
   "metadata": {},
   "source": [
    "### Plotting Classification accuracy and Training Times"
   ]
  },
  {
   "cell_type": "code",
   "execution_count": 4,
   "metadata": {
    "collapsed": false
   },
   "outputs": [
    {
     "name": "stdout",
     "output_type": "stream",
     "text": [
      "This is the format of your plot grid:\n",
      "[ (1,1) x1,y1 ]\n",
      "[ (2,1) x2,y2 ]\n",
      "\n"
     ]
    },
    {
     "data": {
      "text/html": [
       "<iframe id=\"igraph\" scrolling=\"no\" style=\"border:none;\" seamless=\"seamless\" src=\"https://plot.ly/~Diksha_Gabha/2545.embed\" height=\"900px\" width=\"100%\"></iframe>"
      ],
      "text/plain": [
       "<plotly.tools.PlotlyDisplay object>"
      ]
     },
     "execution_count": 4,
     "metadata": {},
     "output_type": "execute_result"
    }
   ],
   "source": [
    "fig = tools.make_subplots(rows=2, cols=1, \n",
    "                          subplot_titles=('Classification accuracy', \n",
    "                                           'Training times'))\n",
    "\n",
    "accuracy_trace1 = go.Scatter(x=sample_sizes, y=nystroem_scores,\n",
    "                             name=\"Nystroem approx. kernel\",\n",
    "                             mode=\"lines\", line=dict(\n",
    "                                                 color=\"rgb(65,105,255)\"))\n",
    "timescale_trace1 = go.Scatter(x=sample_sizes, y=nystroem_times, \n",
    "                              mode=\"lines\", line=dict(\n",
    "                                                  color=\"rgb(65,105,255)\",\n",
    "                                                  dash=\"dash\"),\n",
    "                              name='Nystroem approx. kernel')\n",
    "\n",
    "accuracy_trace2= go.Scatter(x=sample_sizes, y=fourier_scores, \n",
    "                            name=\"Fourier approx. kernel\",\n",
    "                            mode=\"lines\", line=dict(\n",
    "                                                color=\"green\"))\n",
    "timescale_trace2 = go.Scatter(x=sample_sizes, y=fourier_times,\n",
    "                               mode=\"lines\", line=dict(\n",
    "                                                   color=\"green\", \n",
    "                                                   dash=\"dash\"),\n",
    "                              name='Fourier approx. kernel')\n",
    "\n",
    "# horizontal lines for exact rbf and linear kernels:\n",
    "accuracy_trace3 = go.Scatter(x=[sample_sizes[0], sample_sizes[-1]],\n",
    "                             y=[linear_svm_score, linear_svm_score], \n",
    "                             name=\"linear svm\",\n",
    "                             mode=\"lines\", line=dict(\n",
    "                                                 color=\"red\"))\n",
    "timescale_trace3 = go.Scatter(x=[sample_sizes[0], sample_sizes[-1]],\n",
    "                              y=[linear_svm_time, linear_svm_time],\n",
    "                              mode=\"lines\", line=dict(\n",
    "                                                  color=\"red\", dash=\"dash\"),\n",
    "                              name='linear svm')\n",
    "\n",
    "accuracy_trace4=go.Scatter(x=[sample_sizes[0], sample_sizes[-1]],\n",
    "                           y=[kernel_svm_score, kernel_svm_score], \n",
    "                           name=\"rbf svm\",\n",
    "                           mode=\"lines\", line=dict(\n",
    "                                               color=\"rgb(135,206,235)\"))\n",
    "timescale_trace4 = go.Scatter(x=[sample_sizes[0], sample_sizes[-1]],\n",
    "                              y= [kernel_svm_time, kernel_svm_time],name='rbf svm',\n",
    "                              mode=\"lines\", line=dict(\n",
    "                                                  color=\"rgb(135,206,235)\",\n",
    "                                                  dash=\"dash\"))\n",
    "\n",
    "# vertical line for dataset dimensionality = 64\n",
    "accuracy_trace5= go.Scatter(x=[64, 64], y=[0.7, 1], name=\"n_features\",\n",
    "                            mode=\"lines\", line=dict(\n",
    "                                                color=\"rgb(138,43,238)\"))\n",
    "\n",
    "for i in [accuracy_trace1,accuracy_trace2,\n",
    "          accuracy_trace3,accuracy_trace4,\n",
    "          accuracy_trace5]:\n",
    "    fig.append_trace(i , 1, 1)\n",
    "\n",
    "for i in [timescale_trace1,timescale_trace2,\n",
    "          timescale_trace3,timescale_trace4]:\n",
    "    fig.append_trace(i , 2, 1)\n",
    "        \n",
    "fig['layout'].update(height = 900)\n",
    "fig['layout']['xaxis1'].update(showticklabels=False, \n",
    "                               range=[sample_sizes[0], \n",
    "                                      sample_sizes[-1]])\n",
    "fig['layout']['yaxis1'].update(title='Classification accuracy',\n",
    "                               range=[np.min(fourier_scores), 1])\n",
    "\n",
    "fig['layout']['xaxis2'].update(title='Sampling steps = transformed feature dimension')\n",
    "fig['layout']['yaxis2'].update(title='Training time in seconds')\n",
    "\n",
    "\n",
    "py.iplot(fig, filename=\"accuracy-training\")"
   ]
  },
  {
   "cell_type": "markdown",
   "metadata": {},
   "source": [
    "### Plotting SVC Kernel"
   ]
  },
  {
   "cell_type": "code",
   "execution_count": 5,
   "metadata": {
    "collapsed": false
   },
   "outputs": [
    {
     "name": "stdout",
     "output_type": "stream",
     "text": [
      "This is the format of your plot grid:\n",
      "[ (1,1) x1,y1 ]  [ (1,2) x2,y2 ]  [ (1,3) x3,y3 ]\n",
      "\n"
     ]
    },
    {
     "data": {
      "text/html": [
       "<iframe id=\"igraph\" scrolling=\"no\" style=\"border:none;\" seamless=\"seamless\" src=\"https://plot.ly/~Diksha_Gabha/2547.embed\" height=\"525px\" width=\"100%\"></iframe>"
      ],
      "text/plain": [
       "<plotly.tools.PlotlyDisplay object>"
      ]
     },
     "execution_count": 5,
     "metadata": {},
     "output_type": "execute_result"
    }
   ],
   "source": [
    "fig1 = tools.make_subplots(rows=1, cols=3, subplot_titles=(\n",
    "                          'SVC with rbf kernel',\n",
    "                          'SVC (linear kernel)<br> with Fourier rbf feature map<br>'+\n",
    "                          'n_components=100',\n",
    "                          'SVC (linear kernel)<br> with Nystroem rbf feature map<br>'+\n",
    "                          'n_components=100'))\n",
    "\n",
    "# visualize the decision surface, projected down to the first\n",
    "# two principal components of the dataset\n",
    "pca = PCA(n_components=8).fit(data_train)\n",
    "\n",
    "X = pca.transform(data_train)\n",
    "\n",
    "# Generate grid along first two principal components\n",
    "multiples = np.arange(-2, 2, 0.1)\n",
    "# steps along first component\n",
    "first = multiples[:, np.newaxis] * pca.components_[0, :]\n",
    "# steps along second component\n",
    "second = multiples[:, np.newaxis] * pca.components_[1, :]\n",
    "# combine\n",
    "grid = first[np.newaxis, :, :] + second[:, np.newaxis, :]\n",
    "flat_grid = grid.reshape(-1, data.shape[1])\n",
    "\n",
    "# title for the plots\n",
    "titles = []\n",
    "def matplotlib_to_plotly(cmap, pl_entries):\n",
    "    h = 1.0/(pl_entries-1)\n",
    "    pl_colorscale = []\n",
    "    \n",
    "    for k in range(pl_entries):\n",
    "        C = map(np.uint8, np.array(cmap(k*h)[:3])*255)\n",
    "        pl_colorscale.append([k*h, 'rgb'+str((C[0], C[1], C[2]))])\n",
    "        \n",
    "    return pl_colorscale\n",
    "\n",
    "contour_list=[]\n",
    "\n",
    "scatter_list=[]\n",
    "# predict and plot\n",
    "for i, clf in enumerate((kernel_svm, nystroem_approx_svm,\n",
    "                         fourier_approx_svm)):\n",
    "    # Plot the decision boundary. For that, we will assign a color to each\n",
    "    # point in the mesh [x_min, x_max]x[y_min, y_max].\n",
    "    Z = clf.predict(flat_grid)\n",
    "\n",
    "    # Put the result into a color plot\n",
    "    Z = Z.reshape(grid.shape[:-1])\n",
    "    trace1 = go.Contour(x=multiples, y=multiples, z=Z,\n",
    "                        line=dict(smoothing=0.85),\n",
    "                        contours=dict( coloring='heatmap'),\n",
    "                        colorscale= matplotlib_to_plotly(plt.cm.Paired,300),\n",
    "                        opacity = 0.7, showscale=False)\n",
    "    \n",
    "    contour_list.append(trace1)\n",
    "\n",
    "    # Plot also the training points\n",
    "    trace2 = go.Scatter(x=X[:, 0], y= X[:, 1], mode=\"markers\",\n",
    "                        showlegend=False,\n",
    "                        marker=dict(\n",
    "                                size=8, color=targets_train, \n",
    "                                colorscale=matplotlib_to_plotly(plt.cm.Paired,300),\n",
    "                                showscale=False, \n",
    "                                line = dict(width=1))\n",
    "                       )\n",
    "    scatter_list.append(trace2)   \n",
    "    \n",
    "for i in range(0,3):\n",
    "    fig1.append_trace(contour_list[i], 1, i+1)\n",
    "    fig1.append_trace(scatter_list[i], 1, i+1)\n",
    "\n",
    "for i in range(1,4):\n",
    "    x='xaxis'+str(i)\n",
    "    y='yaxis'+str(i)\n",
    "    fig1['layout'][x].update(showticklabels=False,range=[-2,1.8],\n",
    "                                   zeroline=False,  ticklen=0)\n",
    "\n",
    "    fig1['layout'][y].update(showticklabels=False, range=[-2,1.8],\n",
    "                               zeroline=False, ticklen=0)\n",
    "\n",
    "py.iplot(fig1, filename=\"svm\")"
   ]
  },
  {
   "cell_type": "markdown",
   "metadata": {},
   "source": [
    "### License\n",
    "\n",
    "Author:\n",
    "    \n",
    "        Gael Varoquaux <gael.varoquaux@normalesup.org>\n",
    "        Andreas Mueller <amueller@ais.uni-bonn.de>\n",
    "        \n",
    "License: \n",
    "        \n",
    "        BSD 3 clause"
   ]
  },
  {
   "cell_type": "code",
   "execution_count": 2,
   "metadata": {
    "collapsed": false
   },
   "outputs": [
    {
     "data": {
      "text/html": [
       "<link href=\"//fonts.googleapis.com/css?family=Open+Sans:600,400,300,200|Inconsolata|Ubuntu+Mono:400,700\" rel=\"stylesheet\" type=\"text/css\" />"
      ],
      "text/plain": [
       "<IPython.core.display.HTML object>"
      ]
     },
     "metadata": {},
     "output_type": "display_data"
    },
    {
     "data": {
      "text/html": [
       "<link rel=\"stylesheet\" type=\"text/css\" href=\"http://help.plot.ly/documentation/all_static/css/ipython-notebook-custom.css\">"
      ],
      "text/plain": [
       "<IPython.core.display.HTML object>"
      ]
     },
     "metadata": {},
     "output_type": "display_data"
    },
    {
     "name": "stdout",
     "output_type": "stream",
     "text": [
      "Collecting git+https://github.com/plotly/publisher.git\n",
      "  Cloning https://github.com/plotly/publisher.git to /tmp/pip-GBYkwW-build\n",
      "Installing collected packages: publisher\n",
      "  Found existing installation: publisher 0.10\n",
      "    Uninstalling publisher-0.10:\n",
      "      Successfully uninstalled publisher-0.10\n",
      "  Running setup.py install for publisher ... \u001b[?25l-\b \bdone\n",
      "\u001b[?25hSuccessfully installed publisher-0.10\n"
     ]
    }
   ],
   "source": [
    "from IPython.display import display, HTML\n",
    "\n",
    "display(HTML('<link href=\"//fonts.googleapis.com/css?family=Open+Sans:600,400,300,200|Inconsolata|Ubuntu+Mono:400,700\" rel=\"stylesheet\" type=\"text/css\" />'))\n",
    "display(HTML('<link rel=\"stylesheet\" type=\"text/css\" href=\"http://help.plot.ly/documentation/all_static/css/ipython-notebook-custom.css\">'))\n",
    "\n",
    "! pip install git+https://github.com/plotly/publisher.git --upgrade\n",
    "import publisher\n",
    "publisher.publish(\n",
    "    'feature-map-approx.ipynb', 'scikit-learn/plot-kernel-approximation/', 'Explicit feature map approximation for RBF kernels| plotly',\n",
    "    ' ',\n",
    "    title = 'Explicit Feature Map Approximation for RBF Kernels | plotly',\n",
    "    name = 'Explicit Feature Map Approximation for RBF Kernels',\n",
    "    has_thumbnail='true', thumbnail='thumbnail/rbf-kernel.jpg', \n",
    "    language='scikit-learn', page_type='example_index',\n",
    "    display_as='general_examples', order=11,\n",
    "    ipynb='~Diksha_Gabha/2666')"
   ]
  },
  {
   "cell_type": "code",
   "execution_count": null,
   "metadata": {
    "collapsed": true
   },
   "outputs": [],
   "source": []
  }
 ],
 "metadata": {
  "kernelspec": {
   "display_name": "Python 2",
   "language": "python",
   "name": "python2"
  },
  "language_info": {
   "codemirror_mode": {
    "name": "ipython",
    "version": 2
   },
   "file_extension": ".py",
   "mimetype": "text/x-python",
   "name": "python",
   "nbconvert_exporter": "python",
   "pygments_lexer": "ipython2",
   "version": "2.7.13"
  }
 },
 "nbformat": 4,
 "nbformat_minor": 0
}
