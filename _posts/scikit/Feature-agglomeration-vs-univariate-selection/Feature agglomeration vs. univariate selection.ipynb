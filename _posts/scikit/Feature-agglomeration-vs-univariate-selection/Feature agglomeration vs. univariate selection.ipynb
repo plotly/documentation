{
 "cells": [
  {
   "cell_type": "markdown",
   "metadata": {},
   "source": [
    "This example compares 2 dimensionality reduction strategies:\n",
    "\n",
    "* univariate feature selection with Anova\n",
    "\n",
    "* feature agglomeration with Ward hierarchical clustering\n",
    "\n",
    "Both methods are compared in a regression problem using a BayesianRidge as supervised estimator."
   ]
  },
  {
   "cell_type": "markdown",
   "metadata": {},
   "source": [
    "#### New to Plotly?\n",
    "Plotly's Python library is free and open source! [Get started](https://plot.ly/python/getting-started/) by downloading the client and [reading the primer](https://plot.ly/python/getting-started/).\n",
    "<br>You can set up Plotly to work in [online](https://plot.ly/python/getting-started/#initialization-for-online-plotting) or [offline](https://plot.ly/python/getting-started/#initialization-for-offline-plotting) mode, or in [jupyter notebooks](https://plot.ly/python/getting-started/#start-plotting-online).\n",
    "<br>We also have a quick-reference [cheatsheet](https://images.plot.ly/plotly-documentation/images/python_cheat_sheet.pdf) (new!) to help you get started!"
   ]
  },
  {
   "cell_type": "markdown",
   "metadata": {},
   "source": [
    "### Version"
   ]
  },
  {
   "cell_type": "code",
   "execution_count": 1,
   "metadata": {
    "collapsed": false
   },
   "outputs": [
    {
     "data": {
      "text/plain": [
       "'0.18'"
      ]
     },
     "execution_count": 1,
     "metadata": {},
     "output_type": "execute_result"
    }
   ],
   "source": [
    "import sklearn\n",
    "sklearn.__version__"
   ]
  },
  {
   "cell_type": "markdown",
   "metadata": {},
   "source": [
    "### Imports"
   ]
  },
  {
   "cell_type": "markdown",
   "metadata": {},
   "source": [
    "This tutorial imports [FeatureAgglomeration](http://scikit-learn.org/stable/modules/generated/sklearn.cluster.FeatureAgglomeration.html#sklearn.cluster.FeatureAgglomeration), [BayesianRidge](http://scikit-learn.org/stable/modules/generated/sklearn.linear_model.BayesianRidge.html#sklearn.linear_model.BayesianRidge), [Pipeline](http://scikit-learn.org/stable/modules/generated/sklearn.pipeline.Pipeline.html#sklearn.pipeline.Pipeline), [GridSearchCV](http://scikit-learn.org/stable/modules/generated/sklearn.model_selection.GridSearchCV.html#sklearn.model_selection.GridSearchCV) and [KFold](http://scikit-learn.org/stable/modules/generated/sklearn.model_selection.KFold.html#sklearn.model_selection.KFold)."
   ]
  },
  {
   "cell_type": "code",
   "execution_count": 2,
   "metadata": {
    "collapsed": false
   },
   "outputs": [
    {
     "name": "stdout",
     "output_type": "stream",
     "text": [
      "Automatically created module for IPython interactive environment\n"
     ]
    }
   ],
   "source": [
    "print(__doc__)\n",
    "\n",
    "import plotly.plotly as py\n",
    "import plotly.graph_objs as go\n",
    "from plotly import tools\n",
    "\n",
    "import shutil\n",
    "import tempfile\n",
    "import numpy as np\n",
    "import matplotlib.pyplot as plt\n",
    "from scipy import linalg, ndimage\n",
    "\n",
    "from sklearn.feature_extraction.image import grid_to_graph\n",
    "from sklearn import feature_selection\n",
    "from sklearn.cluster import FeatureAgglomeration\n",
    "from sklearn.linear_model import BayesianRidge\n",
    "from sklearn.pipeline import Pipeline\n",
    "from sklearn.externals.joblib import Memory\n",
    "from sklearn.model_selection import GridSearchCV\n",
    "from sklearn.model_selection import KFold"
   ]
  },
  {
   "cell_type": "markdown",
   "metadata": {},
   "source": [
    "### Calculations"
   ]
  },
  {
   "cell_type": "markdown",
   "metadata": {},
   "source": [
    "Generate data"
   ]
  },
  {
   "cell_type": "code",
   "execution_count": 3,
   "metadata": {
    "collapsed": true
   },
   "outputs": [],
   "source": [
    "n_samples = 200\n",
    "size = 40  # image size\n",
    "roi_size = 15\n",
    "snr = 5.\n",
    "np.random.seed(0)\n",
    "mask = np.ones([size, size], dtype=np.bool)\n",
    "\n",
    "coef = np.zeros((size, size))\n",
    "coef[0:roi_size, 0:roi_size] = -1.\n",
    "coef[-roi_size:, -roi_size:] = 1.\n",
    "\n",
    "X = np.random.randn(n_samples, size ** 2)\n",
    "for x in X:  # smooth data\n",
    "    x[:] = ndimage.gaussian_filter(x.reshape(size, size), sigma=1.0).ravel()\n",
    "X -= X.mean(axis=0)\n",
    "X /= X.std(axis=0)\n",
    "\n",
    "y = np.dot(X, coef.ravel())\n",
    "noise = np.random.randn(y.shape[0])\n",
    "noise_coef = (linalg.norm(y, 2) / np.exp(snr / 20.)) / linalg.norm(noise, 2)\n",
    "y += noise_coef * noise  # add noise\n"
   ]
  },
  {
   "cell_type": "markdown",
   "metadata": {},
   "source": [
    "Compute the coefs of a Bayesian Ridge with GridSearch"
   ]
  },
  {
   "cell_type": "code",
   "execution_count": 4,
   "metadata": {
    "collapsed": false
   },
   "outputs": [
    {
     "name": "stdout",
     "output_type": "stream",
     "text": [
      "________________________________________________________________________________\n",
      "[Memory] Calling sklearn.cluster.hierarchical.ward_tree...\n",
      "ward_tree(array([[-0.451933, ..., -0.675318],\n",
      "       ..., \n",
      "       [ 0.275706, ..., -1.085711]]), \n",
      "<1600x1600 sparse matrix of type '<type 'numpy.int64'>'\n",
      "\twith 7840 stored elements in COOrdinate format>, n_clusters=None)\n",
      "________________________________________________________ward_tree - 0.2s, 0.0min\n",
      "________________________________________________________________________________\n",
      "[Memory] Calling sklearn.cluster.hierarchical.ward_tree...\n",
      "ward_tree(array([[ 0.905206, ...,  0.161245],\n",
      "       ..., \n",
      "       [-0.849835, ..., -1.091621]]), \n",
      "<1600x1600 sparse matrix of type '<type 'numpy.int64'>'\n",
      "\twith 7840 stored elements in COOrdinate format>, n_clusters=None)\n",
      "________________________________________________________ward_tree - 0.1s, 0.0min\n",
      "________________________________________________________________________________\n",
      "[Memory] Calling sklearn.cluster.hierarchical.ward_tree...\n",
      "ward_tree(array([[ 0.905206, ..., -0.675318],\n",
      "       ..., \n",
      "       [-0.849835, ..., -1.085711]]), \n",
      "<1600x1600 sparse matrix of type '<type 'numpy.int64'>'\n",
      "\twith 7840 stored elements in COOrdinate format>, n_clusters=None)\n",
      "________________________________________________________ward_tree - 0.1s, 0.0min\n",
      "________________________________________________________________________________\n",
      "[Memory] Calling sklearn.feature_selection.univariate_selection.f_regression...\n",
      "f_regression(array([[-0.451933, ...,  0.275706],\n",
      "       ..., \n",
      "       [-0.675318, ..., -1.085711]]), \n",
      "array([ 25.267703, ..., -25.026711]))\n",
      "_____________________________________________________f_regression - 0.0s, 0.0min\n",
      "________________________________________________________________________________\n",
      "[Memory] Calling sklearn.feature_selection.univariate_selection.f_regression...\n",
      "f_regression(array([[ 0.905206, ..., -0.849835],\n",
      "       ..., \n",
      "       [ 0.161245, ..., -1.091621]]), \n",
      "array([ -27.447268, ..., -112.638768]))\n",
      "_____________________________________________________f_regression - 0.0s, 0.0min\n",
      "________________________________________________________________________________\n",
      "[Memory] Calling sklearn.feature_selection.univariate_selection.f_regression...\n",
      "f_regression(array([[ 0.905206, ..., -0.849835],\n",
      "       ..., \n",
      "       [-0.675318, ..., -1.085711]]), \n",
      "array([-27.447268, ..., -25.026711]))\n",
      "_____________________________________________________f_regression - 0.0s, 0.0min\n"
     ]
    }
   ],
   "source": [
    "cv = KFold(2)  # cross-validation generator for model selection\n",
    "ridge = BayesianRidge()\n",
    "cachedir = tempfile.mkdtemp()\n",
    "mem = Memory(cachedir=cachedir, verbose=1)\n",
    "\n",
    "# Ward agglomeration followed by BayesianRidge\n",
    "connectivity = grid_to_graph(n_x=size, n_y=size)\n",
    "ward = FeatureAgglomeration(n_clusters=10, connectivity=connectivity,\n",
    "                            memory=mem)\n",
    "clf = Pipeline([('ward', ward), ('ridge', ridge)])\n",
    "# Select the optimal number of parcels with grid search\n",
    "clf = GridSearchCV(clf, {'ward__n_clusters': [10, 20, 30]}, n_jobs=1, cv=cv)\n",
    "clf.fit(X, y)  # set the best parameters\n",
    "coef_ = clf.best_estimator_.steps[-1][1].coef_\n",
    "coef_ = clf.best_estimator_.steps[0][1].inverse_transform(coef_)\n",
    "coef_agglomeration_ = coef_.reshape(size, size)\n",
    "\n",
    "# Anova univariate feature selection followed by BayesianRidge\n",
    "f_regression = mem.cache(feature_selection.f_regression)  # caching function\n",
    "anova = feature_selection.SelectPercentile(f_regression)\n",
    "clf = Pipeline([('anova', anova), ('ridge', ridge)])\n",
    "# Select the optimal percentage of features with grid search\n",
    "clf = GridSearchCV(clf, {'anova__percentile': [5, 10, 20]}, cv=cv)\n",
    "clf.fit(X, y)  # set the best parameters\n",
    "coef_ = clf.best_estimator_.steps[-1][1].coef_\n",
    "coef_ = clf.best_estimator_.steps[0][1].inverse_transform(coef_.reshape(1, -1))\n",
    "coef_selection_ = coef_.reshape(size, size)"
   ]
  },
  {
   "cell_type": "markdown",
   "metadata": {},
   "source": [
    "### Plot Result"
   ]
  },
  {
   "cell_type": "code",
   "execution_count": 5,
   "metadata": {
    "collapsed": false
   },
   "outputs": [
    {
     "name": "stdout",
     "output_type": "stream",
     "text": [
      "This is the format of your plot grid:\n",
      "[ (1,1) x1,y1 ]  [ (1,2) x2,y2 ]  [ (1,3) x3,y3 ]\n",
      "\n"
     ]
    }
   ],
   "source": [
    "def matplotlib_to_plotly(cmap, pl_entries):\n",
    "    h = 1.0/(pl_entries-1)\n",
    "    pl_colorscale = []\n",
    "    \n",
    "    for k in range(pl_entries):\n",
    "        C = map(np.uint8, np.array(cmap(k*h)[:3])*255)\n",
    "        pl_colorscale.append([k*h, 'rgb'+str((C[0], C[1], C[2]))])\n",
    "        \n",
    "    return pl_colorscale\n",
    "\n",
    "fig = tools.make_subplots(rows=1, cols=3,\n",
    "                          subplot_titles=('True weights',\n",
    "                                          'Feature Selection',\n",
    "                                          'Feature Agglomeration'))"
   ]
  },
  {
   "cell_type": "code",
   "execution_count": 6,
   "metadata": {
    "collapsed": true
   },
   "outputs": [],
   "source": [
    "\n",
    "true_weights = go.Heatmap(z=coef, \n",
    "                          showscale=False,\n",
    "                          colorscale=matplotlib_to_plotly(plt.cm.RdBu_r, len(coef)))\n",
    "\n",
    "feature_selection = go.Heatmap(z=coef_selection_, \n",
    "                               showscale=False,\n",
    "                               colorscale=matplotlib_to_plotly(plt.cm.RdBu_r, len(coef_selection_)))\n",
    "\n",
    "feature_agglomeration = go.Heatmap(z=coef_agglomeration_, \n",
    "                                   showscale=False, \n",
    "                                   colorscale=matplotlib_to_plotly(plt.cm.RdBu_r, len(coef_agglomeration_)))\n",
    "\n",
    "# Attempt to remove the temporary cachedir, but don't worry if it fails\n",
    "shutil.rmtree(cachedir, ignore_errors=True)\n",
    "\n",
    "fig.append_trace(true_weights, 1, 1)\n",
    "fig.append_trace(feature_selection, 1, 2)\n",
    "fig.append_trace(feature_agglomeration, 1, 3)"
   ]
  },
  {
   "cell_type": "code",
   "execution_count": 7,
   "metadata": {
    "collapsed": false
   },
   "outputs": [
    {
     "data": {
      "text/html": [
       "<iframe id=\"igraph\" scrolling=\"no\" style=\"border:none;\" seamless=\"seamless\" src=\"https://plot.ly/~Diksha_Gabha/2787.embed\" height=\"525px\" width=\"100%\"></iframe>"
      ],
      "text/plain": [
       "<plotly.tools.PlotlyDisplay object>"
      ]
     },
     "execution_count": 7,
     "metadata": {},
     "output_type": "execute_result"
    }
   ],
   "source": [
    "py.iplot(fig)"
   ]
  },
  {
   "cell_type": "markdown",
   "metadata": {
    "collapsed": true
   },
   "source": [
    "### License\n",
    "\n",
    "Author: \n",
    "    \n",
    "        Alexandre Gramfort <alexandre.gramfort@inria.fr>\n",
    "\n",
    "License: \n",
    "    \n",
    "        BSD 3 clause"
   ]
  },
  {
   "cell_type": "code",
   "execution_count": 2,
   "metadata": {
    "collapsed": false
   },
   "outputs": [
    {
     "data": {
      "text/html": [
       "<link href=\"//fonts.googleapis.com/css?family=Open+Sans:600,400,300,200|Inconsolata|Ubuntu+Mono:400,700\" rel=\"stylesheet\" type=\"text/css\" />"
      ],
      "text/plain": [
       "<IPython.core.display.HTML object>"
      ]
     },
     "metadata": {},
     "output_type": "display_data"
    },
    {
     "data": {
      "text/html": [
       "<link rel=\"stylesheet\" type=\"text/css\" href=\"http://help.plot.ly/documentation/all_static/css/ipython-notebook-custom.css\">"
      ],
      "text/plain": [
       "<IPython.core.display.HTML object>"
      ]
     },
     "metadata": {},
     "output_type": "display_data"
    },
    {
     "name": "stdout",
     "output_type": "stream",
     "text": [
      "Collecting git+https://github.com/plotly/publisher.git\n",
      "  Cloning https://github.com/plotly/publisher.git to /tmp/pip-Bb0MwY-build\n",
      "Installing collected packages: publisher\n",
      "  Running setup.py install for publisher ... \u001b[?25l-\b \berror\n",
      "    Complete output from command /usr/bin/python -u -c \"import setuptools, tokenize;__file__='/tmp/pip-Bb0MwY-build/setup.py';exec(compile(getattr(tokenize, 'open', open)(__file__).read().replace('\\r\\n', '\\n'), __file__, 'exec'))\" install --record /tmp/pip-9GGlKS-record/install-record.txt --single-version-externally-managed --compile:\n",
      "    running install\n",
      "    running build\n",
      "    running build_py\n",
      "    creating build\n",
      "    creating build/lib.linux-x86_64-2.7\n",
      "    creating build/lib.linux-x86_64-2.7/publisher\n",
      "    copying publisher/publisher.py -> build/lib.linux-x86_64-2.7/publisher\n",
      "    copying publisher/__init__.py -> build/lib.linux-x86_64-2.7/publisher\n",
      "    running install_lib\n",
      "    creating /usr/local/lib/python2.7/dist-packages/publisher\n",
      "    error: could not create '/usr/local/lib/python2.7/dist-packages/publisher': Permission denied\n",
      "    \n",
      "    ----------------------------------------\n",
      "\u001b[31mCommand \"/usr/bin/python -u -c \"import setuptools, tokenize;__file__='/tmp/pip-Bb0MwY-build/setup.py';exec(compile(getattr(tokenize, 'open', open)(__file__).read().replace('\\r\\n', '\\n'), __file__, 'exec'))\" install --record /tmp/pip-9GGlKS-record/install-record.txt --single-version-externally-managed --compile\" failed with error code 1 in /tmp/pip-Bb0MwY-build/\u001b[0m\n",
      "\u001b[33mYou are using pip version 8.1.2, however version 9.0.1 is available.\n",
      "You should consider upgrading via the 'pip install --upgrade pip' command.\u001b[0m\n",
      "\u001b[?25h"
     ]
    }
   ],
   "source": [
    "from IPython.display import display, HTML\n",
    "\n",
    "display(HTML('<link href=\"//fonts.googleapis.com/css?family=Open+Sans:600,400,300,200|Inconsolata|Ubuntu+Mono:400,700\" rel=\"stylesheet\" type=\"text/css\" />'))\n",
    "display(HTML('<link rel=\"stylesheet\" type=\"text/css\" href=\"http://help.plot.ly/documentation/all_static/css/ipython-notebook-custom.css\">'))\n",
    "\n",
    "! pip install git+https://github.com/plotly/publisher.git --upgrade\n",
    "import publisher\n",
    "publisher.publish(\n",
    "    'Feature agglomeration vs. univariate selection.ipynb', 'scikit-learn/plot-feature-agglomeration-vs-univariate-selection/', 'Feature Agglomeration vs Univariate Selection | plotly',\n",
    "    ' ',\n",
    "    title = 'Feature Agglomeration vs Univariate Selection | plotly',\n",
    "    name = 'Feature Agglomeration vs Univariate Selection',\n",
    "    has_thumbnail='true', thumbnail='thumbnail/fa-vs-us.jpg', \n",
    "    language='scikit-learn', page_type='example_index',\n",
    "    display_as='clustering', order=12,\n",
    "    ipynb= '~Diksha_Gabha/2789')"
   ]
  },
  {
   "cell_type": "code",
   "execution_count": null,
   "metadata": {
    "collapsed": true
   },
   "outputs": [],
   "source": []
  }
 ],
 "metadata": {
  "kernelspec": {
   "display_name": "Python 2",
   "language": "python",
   "name": "python2"
  },
  "language_info": {
   "codemirror_mode": {
    "name": "ipython",
    "version": 2
   },
   "file_extension": ".py",
   "mimetype": "text/x-python",
   "name": "python",
   "nbconvert_exporter": "python",
   "pygments_lexer": "ipython2",
   "version": "2.7.11"
  }
 },
 "nbformat": 4,
 "nbformat_minor": 0
}
