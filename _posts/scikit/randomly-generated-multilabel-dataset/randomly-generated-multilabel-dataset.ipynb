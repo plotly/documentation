{
 "cells": [
  {
   "cell_type": "markdown",
   "metadata": {},
   "source": [
    "This illustrates the datasets.make_multilabel_classification dataset generator. Each sample consists of counts of two features (up to 50 in total), which are differently distributed in each of two classes.\n",
    "\n",
    "Points are labeled as follows, where Y means the class is present:\n",
    "\n",
    "| 1 \t| 2 \t| 3 \t| Color  \t|\n",
    "|---\t|---\t|---\t|--------\t|\n",
    "| Y \t| N \t| N \t| Red    \t|\n",
    "| N \t| Y \t| N \t| Blue   \t|\n",
    "| N \t| N \t| Y \t| Yellow \t|\n",
    "| Y \t| Y \t| N \t| Purple \t|\n",
    "| Y \t| N \t| Y \t| Orange \t|\n",
    "| Y \t| Y \t| N \t| Green  \t|\n",
    "| Y \t| Y \t| Y \t| Brown  \t|\n",
    "\n",
    "A big circle marks the expected sample for each class; its size reflects the probability of selecting that class label.\n",
    "\n",
    "The left and right examples highlight the n_labels parameter: more of the samples in the right plot have 2 or 3 labels.\n",
    "\n",
    "Note that this two-dimensional example is very degenerate: generally the number of features would be much greater than the “document length”, while here we have much larger documents than vocabulary. Similarly, with n_classes > n_features, it is much less likely that a feature distinguishes a particular class."
   ]
  },
  {
   "cell_type": "markdown",
   "metadata": {},
   "source": [
    "#### New to Plotly?\n",
    "Plotly's Python library is free and open source! [Get started](https://plot.ly/python/getting-started/) by downloading the client and [reading the primer](https://plot.ly/python/getting-started/).\n",
    "<br>You can set up Plotly to work in [online](https://plot.ly/python/getting-started/#initialization-for-online-plotting) or [offline](https://plot.ly/python/getting-started/#initialization-for-offline-plotting) mode, or in [jupyter notebooks](https://plot.ly/python/getting-started/#start-plotting-online).\n",
    "<br>We also have a quick-reference [cheatsheet](https://images.plot.ly/plotly-documentation/images/python_cheat_sheet.pdf) (new!) to help you get started!"
   ]
  },
  {
   "cell_type": "markdown",
   "metadata": {},
   "source": [
    "### Version"
   ]
  },
  {
   "cell_type": "code",
   "execution_count": 1,
   "metadata": {
    "collapsed": false
   },
   "outputs": [
    {
     "data": {
      "text/plain": [
       "'0.18'"
      ]
     },
     "execution_count": 1,
     "metadata": {},
     "output_type": "execute_result"
    }
   ],
   "source": [
    "import sklearn\n",
    "sklearn.__version__"
   ]
  },
  {
   "cell_type": "markdown",
   "metadata": {},
   "source": [
    "### Imports"
   ]
  },
  {
   "cell_type": "markdown",
   "metadata": {},
   "source": [
    "This tutorial imports [make_ml_clf](http://scikit-learn.org/stable/modules/generated/sklearn.datasets.make_multilabel_classification.html#sklearn.datasets.make_multilabel_classification)."
   ]
  },
  {
   "cell_type": "code",
   "execution_count": 2,
   "metadata": {
    "collapsed": true
   },
   "outputs": [],
   "source": [
    "import plotly.plotly as py\n",
    "import plotly.graph_objs as go\n",
    "\n",
    "from __future__ import print_function\n",
    "import numpy as np\n",
    "import matplotlib.pyplot as plt\n",
    "\n",
    "from sklearn.datasets import make_multilabel_classification as make_ml_clf"
   ]
  },
  {
   "cell_type": "markdown",
   "metadata": {},
   "source": [
    "### Calculations"
   ]
  },
  {
   "cell_type": "code",
   "execution_count": 3,
   "metadata": {
    "collapsed": true
   },
   "outputs": [],
   "source": [
    "\n",
    "COLORS = np.array(['!',\n",
    "                   '#FF3333',  # red\n",
    "                   '#0198E1',  # blue\n",
    "                   '#BF5FFF',  # purple\n",
    "                   '#FCD116',  # yellow\n",
    "                   '#FF7216',  # orange\n",
    "                   '#4DBD33',  # green\n",
    "                   '#87421F'   # brown\n",
    "                   ])\n",
    "\n",
    "# Use same random seed for multiple calls to make_multilabel_classification to\n",
    "# ensure same distributions\n",
    "RANDOM_SEED = np.random.randint(2 ** 10)\n",
    "\n",
    "def plot_2d(n_labels=1, n_classes=3, length=50):\n",
    "    X, Y, p_c, p_w_c = make_ml_clf(n_samples=150, n_features=2,\n",
    "                                   n_classes=n_classes, n_labels=n_labels,\n",
    "                                   length=length, allow_unlabeled=False,\n",
    "                                   return_distributions=True,\n",
    "                                   random_state=RANDOM_SEED)\n",
    "\n",
    "    trace1 = go.Scatter(x=X[:, 0], y=X[:, 1], \n",
    "                        mode='markers',\n",
    "                        showlegend=False,\n",
    "                        marker=dict(size=8,\n",
    "                                    color=COLORS.take((Y * [1, 2, 4]).sum(axis=1)))\n",
    "                        )\n",
    "    trace2 = go.Scatter(x=p_w_c[0] * length, y=p_w_c[1] * length,\n",
    "                        mode='markers',\n",
    "                        showlegend=False,\n",
    "                        marker=dict(color=COLORS.take([1, 2, 4]),\n",
    "                                    size=14,\n",
    "                                    line=dict(width=1, color='black'))\n",
    "                        )\n",
    "    \n",
    "    data = [trace1, trace2]\n",
    "    return data, p_c, p_w_c\n"
   ]
  },
  {
   "cell_type": "markdown",
   "metadata": {},
   "source": [
    "### Plot Results"
   ]
  },
  {
   "cell_type": "markdown",
   "metadata": {},
   "source": [
    "n_labels=1"
   ]
  },
  {
   "cell_type": "code",
   "execution_count": 4,
   "metadata": {
    "collapsed": false
   },
   "outputs": [
    {
     "data": {
      "text/html": [
       "<iframe id=\"igraph\" scrolling=\"no\" style=\"border:none;\" seamless=\"seamless\" src=\"https://plot.ly/~Diksha_Gabha/2905.embed\" height=\"525px\" width=\"100%\"></iframe>"
      ],
      "text/plain": [
       "<plotly.tools.PlotlyDisplay object>"
      ]
     },
     "execution_count": 4,
     "metadata": {},
     "output_type": "execute_result"
    }
   ],
   "source": [
    "data, p_c, p_w_c = plot_2d(n_labels=1)\n",
    "\n",
    "layout=go.Layout(title='n_labels=1, length=50',\n",
    "                 xaxis=dict(title='Feature 0 count',\n",
    "                            showgrid=False),\n",
    "                 yaxis=dict(title='Feature 1 count',\n",
    "                            showgrid=False),\n",
    "                )\n",
    "\n",
    "fig = go.Figure(data=data, layout=layout)\n",
    "py.iplot(fig)"
   ]
  },
  {
   "cell_type": "markdown",
   "metadata": {},
   "source": [
    "n_labels=3"
   ]
  },
  {
   "cell_type": "code",
   "execution_count": 5,
   "metadata": {
    "collapsed": false
   },
   "outputs": [
    {
     "data": {
      "text/html": [
       "<iframe id=\"igraph\" scrolling=\"no\" style=\"border:none;\" seamless=\"seamless\" src=\"https://plot.ly/~Diksha_Gabha/2907.embed\" height=\"525px\" width=\"100%\"></iframe>"
      ],
      "text/plain": [
       "<plotly.tools.PlotlyDisplay object>"
      ]
     },
     "execution_count": 5,
     "metadata": {},
     "output_type": "execute_result"
    }
   ],
   "source": [
    "data = plot_2d(n_labels=3)\n",
    "\n",
    "layout=go.Layout(title='n_labels=3, length=50',\n",
    "                 xaxis=dict(title='Feature 0 count',\n",
    "                            showgrid=False),\n",
    "                 yaxis=dict(title='Feature 1 count',\n",
    "                            showgrid=False),\n",
    "                )\n",
    "\n",
    "fig = go.Figure(data=data[0], layout=layout)\n",
    "py.iplot(fig)"
   ]
  },
  {
   "cell_type": "code",
   "execution_count": 6,
   "metadata": {
    "collapsed": false
   },
   "outputs": [
    {
     "name": "stdout",
     "output_type": "stream",
     "text": [
      "The data was generated from (random_state=701):\n",
      "Class\tP(C)\tP(w0|C)\tP(w1|C)\n",
      "red\t0.11\t0.66\t0.34\n",
      "blue\t0.59\t0.52\t0.48\n",
      "yellow\t0.30\t0.66\t0.34\n"
     ]
    }
   ],
   "source": [
    "print('The data was generated from (random_state=%d):' % RANDOM_SEED)\n",
    "print('Class', 'P(C)', 'P(w0|C)', 'P(w1|C)', sep='\\t')\n",
    "for k, p, p_w in zip(['red', 'blue', 'yellow'], p_c, p_w_c.T):\n",
    "    print('%s\\t%0.2f\\t%0.2f\\t%0.2f' % (k, p, p_w[0], p_w[1]))"
   ]
  },
  {
   "cell_type": "code",
   "execution_count": 2,
   "metadata": {
    "collapsed": false
   },
   "outputs": [
    {
     "data": {
      "text/html": [
       "<link href=\"//fonts.googleapis.com/css?family=Open+Sans:600,400,300,200|Inconsolata|Ubuntu+Mono:400,700\" rel=\"stylesheet\" type=\"text/css\" />"
      ],
      "text/plain": [
       "<IPython.core.display.HTML object>"
      ]
     },
     "metadata": {},
     "output_type": "display_data"
    },
    {
     "data": {
      "text/html": [
       "<link rel=\"stylesheet\" type=\"text/css\" href=\"http://help.plot.ly/documentation/all_static/css/ipython-notebook-custom.css\">"
      ],
      "text/plain": [
       "<IPython.core.display.HTML object>"
      ]
     },
     "metadata": {},
     "output_type": "display_data"
    },
    {
     "name": "stdout",
     "output_type": "stream",
     "text": [
      "Collecting git+https://github.com/plotly/publisher.git\n",
      "  Cloning https://github.com/plotly/publisher.git to /tmp/pip-hDe6nd-build\n",
      "Installing collected packages: publisher\n",
      "  Running setup.py install for publisher ... \u001b[?25l-\b \berror\n",
      "    Complete output from command /usr/bin/python -u -c \"import setuptools, tokenize;__file__='/tmp/pip-hDe6nd-build/setup.py';exec(compile(getattr(tokenize, 'open', open)(__file__).read().replace('\\r\\n', '\\n'), __file__, 'exec'))\" install --record /tmp/pip-x4cKvp-record/install-record.txt --single-version-externally-managed --compile:\n",
      "    running install\n",
      "    running build\n",
      "    running build_py\n",
      "    creating build\n",
      "    creating build/lib.linux-x86_64-2.7\n",
      "    creating build/lib.linux-x86_64-2.7/publisher\n",
      "    copying publisher/publisher.py -> build/lib.linux-x86_64-2.7/publisher\n",
      "    copying publisher/__init__.py -> build/lib.linux-x86_64-2.7/publisher\n",
      "    running install_lib\n",
      "    creating /usr/local/lib/python2.7/dist-packages/publisher\n",
      "    error: could not create '/usr/local/lib/python2.7/dist-packages/publisher': Permission denied\n",
      "    \n",
      "    ----------------------------------------\n",
      "\u001b[31mCommand \"/usr/bin/python -u -c \"import setuptools, tokenize;__file__='/tmp/pip-hDe6nd-build/setup.py';exec(compile(getattr(tokenize, 'open', open)(__file__).read().replace('\\r\\n', '\\n'), __file__, 'exec'))\" install --record /tmp/pip-x4cKvp-record/install-record.txt --single-version-externally-managed --compile\" failed with error code 1 in /tmp/pip-hDe6nd-build/\u001b[0m\n",
      "\u001b[33mYou are using pip version 8.1.2, however version 9.0.1 is available.\n",
      "You should consider upgrading via the 'pip install --upgrade pip' command.\u001b[0m\n",
      "\u001b[?25h"
     ]
    }
   ],
   "source": [
    "\n",
    "from IPython.display import display, HTML\n",
    "\n",
    "display(HTML('<link href=\"//fonts.googleapis.com/css?family=Open+Sans:600,400,300,200|Inconsolata|Ubuntu+Mono:400,700\" rel=\"stylesheet\" type=\"text/css\" />'))\n",
    "display(HTML('<link rel=\"stylesheet\" type=\"text/css\" href=\"http://help.plot.ly/documentation/all_static/css/ipython-notebook-custom.css\">'))\n",
    "\n",
    "! pip install git+https://github.com/plotly/publisher.git --upgrade\n",
    "import publisher\n",
    "publisher.publish(\n",
    "    'randomly-generated-multilabel-dataset.ipynb', 'scikit-learn/plot-random-multilabel-dataset/', 'Randomly Generated Multilabel Dataset | plotly',\n",
    "    ' ',\n",
    "    title = 'Randomly Generated Multilabel Dataset| plotly',\n",
    "    name = 'Randomly Generated Multilabel Dataset',\n",
    "    has_thumbnail='true', thumbnail='thumbnail/multilabel-dataset.jpg', \n",
    "    language='scikit-learn', page_type='example_index',\n",
    "    display_as='dataset', order=4,\n",
    "    ipynb= '~Diksha_Gabha/2909')"
   ]
  },
  {
   "cell_type": "code",
   "execution_count": null,
   "metadata": {
    "collapsed": true
   },
   "outputs": [],
   "source": []
  }
 ],
 "metadata": {
  "kernelspec": {
   "display_name": "Python 2",
   "language": "python",
   "name": "python2"
  },
  "language_info": {
   "codemirror_mode": {
    "name": "ipython",
    "version": 2
   },
   "file_extension": ".py",
   "mimetype": "text/x-python",
   "name": "python",
   "nbconvert_exporter": "python",
   "pygments_lexer": "ipython2",
   "version": "2.7.11"
  }
 },
 "nbformat": 4,
 "nbformat_minor": 0
}
