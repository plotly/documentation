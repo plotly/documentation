{
 "cells": [
  {
   "cell_type": "markdown",
   "metadata": {},
   "source": [
    "Plot several randomly generated 2D classification datasets. This example illustrates the **datasets.make_classification datasets.make_blobs** and **datasets.make_gaussian_quantiles** functions.\n",
    "\n",
    "For `make_classification`, three binary and two multi-class classification datasets are generated, with different numbers of informative features and clusters per class."
   ]
  },
  {
   "cell_type": "markdown",
   "metadata": {},
   "source": [
    "#### New to Plotly?\n",
    "Plotly's Python library is free and open source! [Get started](https://plot.ly/python/getting-started/) by downloading the client and [reading the primer](https://plot.ly/python/getting-started/).\n",
    "<br>You can set up Plotly to work in [online](https://plot.ly/python/getting-started/#initialization-for-online-plotting) or [offline](https://plot.ly/python/getting-started/#initialization-for-offline-plotting) mode, or in [jupyter notebooks](https://plot.ly/python/getting-started/#start-plotting-online).\n",
    "<br>We also have a quick-reference [cheatsheet](https://images.plot.ly/plotly-documentation/images/python_cheat_sheet.pdf) (new!) to help you get started!"
   ]
  },
  {
   "cell_type": "markdown",
   "metadata": {},
   "source": [
    "### Version"
   ]
  },
  {
   "cell_type": "code",
   "execution_count": 1,
   "metadata": {
    "collapsed": false
   },
   "outputs": [
    {
     "data": {
      "text/plain": [
       "'0.18'"
      ]
     },
     "execution_count": 1,
     "metadata": {},
     "output_type": "execute_result"
    }
   ],
   "source": [
    "import sklearn\n",
    "sklearn.__version__"
   ]
  },
  {
   "cell_type": "markdown",
   "metadata": {},
   "source": [
    "### Imports"
   ]
  },
  {
   "cell_type": "markdown",
   "metadata": {},
   "source": [
    "This tutorial imports [make_classification](http://scikit-learn.org/stable/modules/generated/sklearn.datasets.make_classification.html#sklearn.datasets.make_classification), [make_blobs](http://scikit-learn.org/stable/modules/generated/sklearn.datasets.make_blobs.html#sklearn.datasets.make_blobs) and [make_gaussian_quantiles](http://scikit-learn.org/stable/modules/generated/sklearn.datasets.make_gaussian_quantiles.html#sklearn.datasets.make_gaussian_quantiles)."
   ]
  },
  {
   "cell_type": "code",
   "execution_count": 2,
   "metadata": {
    "collapsed": true
   },
   "outputs": [],
   "source": [
    "import plotly.plotly as py\n",
    "import plotly.graph_objs as go\n",
    "from plotly import tools\n",
    "\n",
    "import matplotlib.pyplot as plt\n",
    "\n",
    "from sklearn.datasets import make_classification\n",
    "from sklearn.datasets import make_blobs\n",
    "from sklearn.datasets import make_gaussian_quantiles"
   ]
  },
  {
   "cell_type": "markdown",
   "metadata": {},
   "source": [
    "### Plot Dataset"
   ]
  },
  {
   "cell_type": "code",
   "execution_count": 3,
   "metadata": {
    "collapsed": false
   },
   "outputs": [],
   "source": [
    "fig = tools.make_subplots(rows=3, cols=2,\n",
    "                          print_grid=False,\n",
    "                          subplot_titles=(\"One informative feature, one cluster per class\",\n",
    "                                          \"Two informative features, one cluster per class\",\n",
    "                                          \"Two informative features, two clusters per class\",\n",
    "                                          \"Multi-class, two informative features, one cluster\",\n",
    "                                          \"Three blobs\",\n",
    "                                          \"Gaussian divided into three quantiles\",))"
   ]
  },
  {
   "cell_type": "code",
   "execution_count": 4,
   "metadata": {
    "collapsed": true
   },
   "outputs": [],
   "source": [
    "X1, Y1 = make_classification(n_features=2, n_redundant=0, n_informative=1,\n",
    "                             n_clusters_per_class=1)\n",
    "\n",
    "one_informative = go.Scatter(x=X1[:, 0], y=X1[:, 1], \n",
    "                             mode='markers',\n",
    "                             showlegend=False,\n",
    "                             marker=dict(color=Y1,\n",
    "                                         line=dict(color='black', width=1))\n",
    "                            )\n",
    "\n",
    "fig.append_trace(one_informative, 1, 1)\n",
    "\n",
    "X1, Y1 = make_classification(n_features=2, n_redundant=0, n_informative=2,\n",
    "                             n_clusters_per_class=1)\n",
    "\n",
    "two_informative1 = go.Scatter(x=X1[:, 0], y=X1[:, 1],\n",
    "                             mode='markers',\n",
    "                             showlegend=False,\n",
    "                             marker=dict(color=Y1,\n",
    "                                         line=dict(color='black', width=1))\n",
    "                            )\n",
    "\n",
    "fig.append_trace(two_informative1, 1, 2)\n",
    "\n",
    "X2, Y2 = make_classification(n_features=2, n_redundant=0, n_informative=2)\n",
    "two_informative2 = go.Scatter(x=X2[:, 0], y=X2[:, 1],\n",
    "                              mode='markers',\n",
    "                              showlegend=False,\n",
    "                              marker=dict(color=Y1,\n",
    "                                          line=dict(color='black', width=1))\n",
    "                             )\n",
    "\n",
    "\n",
    "fig.append_trace(two_informative2, 2, 1)\n",
    "\n",
    "X1, Y1 = make_classification(n_features=2, n_redundant=0, n_informative=2,\n",
    "                             n_clusters_per_class=1, n_classes=3)\n",
    "\n",
    "multiclass = go.Scatter(x=X1[:, 0], y=X1[:, 1],\n",
    "                        mode='markers',\n",
    "                        showlegend=False,\n",
    "                        marker=dict(color=Y1,\n",
    "                                    line=dict(color='black', width=1))\n",
    "                       )\n",
    "\n",
    "fig.append_trace(two_informative2, 2, 2)\n",
    "\n",
    "X1, Y1 = make_blobs(n_features=2, centers=3)\n",
    "three_blobs = go.Scatter(x=X1[:, 0], y=X1[:, 1], \n",
    "                         mode='markers',\n",
    "                         showlegend=False,\n",
    "                         marker=dict(color=Y1,\n",
    "                                     line=dict(color='black', width=1))\n",
    "                        )\n",
    "fig.append_trace(three_blobs, 3, 1)\n",
    "\n",
    "X1, Y1 = make_gaussian_quantiles(n_features=2, n_classes=3)\n",
    "gaussian = go.Scatter(x=X1[:, 0], y=X1[:, 1], \n",
    "                      mode='markers',\n",
    "                      showlegend=False,\n",
    "                      marker=dict(color=Y1,\n",
    "                                 line=dict(color='black', width=1))\n",
    "                     )\n",
    "fig.append_trace(gaussian, 3, 2)\n"
   ]
  },
  {
   "cell_type": "code",
   "execution_count": 5,
   "metadata": {
    "collapsed": false
   },
   "outputs": [
    {
     "data": {
      "text/html": [
       "<iframe id=\"igraph\" scrolling=\"no\" style=\"border:none;\" seamless=\"seamless\" src=\"https://plot.ly/~Diksha_Gabha/2902.embed\" height=\"900px\" width=\"100%\"></iframe>"
      ],
      "text/plain": [
       "<plotly.tools.PlotlyDisplay object>"
      ]
     },
     "execution_count": 5,
     "metadata": {},
     "output_type": "execute_result"
    }
   ],
   "source": [
    "fig['layout'].update(height=900)\n",
    "\n",
    "for i in map(str, range(1, 7)):\n",
    "    x = 'xaxis' + i\n",
    "    y = 'yaxis' + i\n",
    "    fig['layout'][x].update(zeroline=False, showgrid=False)\n",
    "    fig['layout'][y].update(zeroline=False, showgrid=False)\n",
    "    \n",
    "py.iplot(fig)    "
   ]
  },
  {
   "cell_type": "code",
   "execution_count": 2,
   "metadata": {
    "collapsed": false
   },
   "outputs": [
    {
     "data": {
      "text/html": [
       "<link href=\"//fonts.googleapis.com/css?family=Open+Sans:600,400,300,200|Inconsolata|Ubuntu+Mono:400,700\" rel=\"stylesheet\" type=\"text/css\" />"
      ],
      "text/plain": [
       "<IPython.core.display.HTML object>"
      ]
     },
     "metadata": {},
     "output_type": "display_data"
    },
    {
     "data": {
      "text/html": [
       "<link rel=\"stylesheet\" type=\"text/css\" href=\"http://help.plot.ly/documentation/all_static/css/ipython-notebook-custom.css\">"
      ],
      "text/plain": [
       "<IPython.core.display.HTML object>"
      ]
     },
     "metadata": {},
     "output_type": "display_data"
    },
    {
     "name": "stdout",
     "output_type": "stream",
     "text": [
      "Collecting git+https://github.com/plotly/publisher.git\n",
      "  Cloning https://github.com/plotly/publisher.git to /tmp/pip-xLPYgu-build\n",
      "Installing collected packages: publisher\n",
      "  Running setup.py install for publisher ... \u001b[?25l-\b \berror\n",
      "    Complete output from command /usr/bin/python -u -c \"import setuptools, tokenize;__file__='/tmp/pip-xLPYgu-build/setup.py';exec(compile(getattr(tokenize, 'open', open)(__file__).read().replace('\\r\\n', '\\n'), __file__, 'exec'))\" install --record /tmp/pip-JbFcRy-record/install-record.txt --single-version-externally-managed --compile:\n",
      "    running install\n",
      "    running build\n",
      "    running build_py\n",
      "    creating build\n",
      "    creating build/lib.linux-x86_64-2.7\n",
      "    creating build/lib.linux-x86_64-2.7/publisher\n",
      "    copying publisher/publisher.py -> build/lib.linux-x86_64-2.7/publisher\n",
      "    copying publisher/__init__.py -> build/lib.linux-x86_64-2.7/publisher\n",
      "    running install_lib\n",
      "    creating /usr/local/lib/python2.7/dist-packages/publisher\n",
      "    error: could not create '/usr/local/lib/python2.7/dist-packages/publisher': Permission denied\n",
      "    \n",
      "    ----------------------------------------\n",
      "\u001b[31mCommand \"/usr/bin/python -u -c \"import setuptools, tokenize;__file__='/tmp/pip-xLPYgu-build/setup.py';exec(compile(getattr(tokenize, 'open', open)(__file__).read().replace('\\r\\n', '\\n'), __file__, 'exec'))\" install --record /tmp/pip-JbFcRy-record/install-record.txt --single-version-externally-managed --compile\" failed with error code 1 in /tmp/pip-xLPYgu-build/\u001b[0m\n",
      "\u001b[33mYou are using pip version 8.1.2, however version 9.0.1 is available.\n",
      "You should consider upgrading via the 'pip install --upgrade pip' command.\u001b[0m\n",
      "\u001b[?25h"
     ]
    }
   ],
   "source": [
    "from IPython.display import display, HTML\n",
    "\n",
    "display(HTML('<link href=\"//fonts.googleapis.com/css?family=Open+Sans:600,400,300,200|Inconsolata|Ubuntu+Mono:400,700\" rel=\"stylesheet\" type=\"text/css\" />'))\n",
    "display(HTML('<link rel=\"stylesheet\" type=\"text/css\" href=\"http://help.plot.ly/documentation/all_static/css/ipython-notebook-custom.css\">'))\n",
    "\n",
    "! pip install git+https://github.com/plotly/publisher.git --upgrade\n",
    "import publisher\n",
    "publisher.publish(\n",
    "    'Plot-randomly-generated-classification-dataset.ipynb', 'scikit-learn/plot-random-dataset/', 'Randomly Generated Classification Dataset| plotly',\n",
    "    ' ',\n",
    "    title = 'Randomly Generated Classification Dataset | plotly',\n",
    "    name = 'Randomly Generated Classification Dataset',\n",
    "    has_thumbnail='true', thumbnail='thumbnail/random_dataset.jpg', \n",
    "    language='scikit-learn', page_type='example_index',\n",
    "    display_as='dataset', order=3,\n",
    "    ipynb= '~Diksha_Gabha/2904')"
   ]
  },
  {
   "cell_type": "code",
   "execution_count": null,
   "metadata": {
    "collapsed": true
   },
   "outputs": [],
   "source": []
  }
 ],
 "metadata": {
  "kernelspec": {
   "display_name": "Python 2",
   "language": "python",
   "name": "python2"
  },
  "language_info": {
   "codemirror_mode": {
    "name": "ipython",
    "version": 2
   },
   "file_extension": ".py",
   "mimetype": "text/x-python",
   "name": "python",
   "nbconvert_exporter": "python",
   "pygments_lexer": "ipython2",
   "version": "2.7.11"
  }
 },
 "nbformat": 4,
 "nbformat_minor": 0
}
