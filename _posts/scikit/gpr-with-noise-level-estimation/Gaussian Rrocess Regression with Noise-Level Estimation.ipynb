{
 "cells": [
  {
   "cell_type": "markdown",
   "metadata": {},
   "source": [
    "This example illustrates that GPR with a sum-kernel including a WhiteKernel can estimate the noise level of data. An illustration of the log-marginal-likelihood (LML) landscape shows that there exist two local maxima of LML. The first corresponds to a model with a high noise level and a large length scale, which explains all variations in the data by noise. The second one has a smaller noise level and shorter length scale, which explains most of the variation by the noise-free functional relationship. The second model has a higher likelihood; however, depending on the initial value for the hyperparameters, the gradient-based optimization might also converge to the high-noise solution. It is thus important to repeat the optimization several times for different initializations."
   ]
  },
  {
   "cell_type": "markdown",
   "metadata": {},
   "source": [
    "#### New to Plotly?\n",
    "Plotly's Python library is free and open source! [Get started](https://plot.ly/python/getting-started/) by downloading the client and [reading the primer](https://plot.ly/python/getting-started/).\n",
    "<br>You can set up Plotly to work in [online](https://plot.ly/python/getting-started/#initialization-for-online-plotting) or [offline](https://plot.ly/python/getting-started/#initialization-for-offline-plotting) mode, or in [jupyter notebooks](https://plot.ly/python/getting-started/#start-plotting-online).\n",
    "<br>We also have a quick-reference [cheatsheet](https://images.plot.ly/plotly-documentation/images/python_cheat_sheet.pdf) (new!) to help you get started!"
   ]
  },
  {
   "cell_type": "markdown",
   "metadata": {},
   "source": [
    "### Version"
   ]
  },
  {
   "cell_type": "code",
   "execution_count": 1,
   "metadata": {
    "collapsed": false
   },
   "outputs": [
    {
     "data": {
      "text/plain": [
       "'0.18.1'"
      ]
     },
     "execution_count": 1,
     "metadata": {},
     "output_type": "execute_result"
    }
   ],
   "source": [
    "import sklearn\n",
    "sklearn.__version__"
   ]
  },
  {
   "cell_type": "markdown",
   "metadata": {},
   "source": [
    "### Imports"
   ]
  },
  {
   "cell_type": "markdown",
   "metadata": {},
   "source": [
    "This tutorial imports [GaussianProcessRegressor](http://scikit-learn.org/stable/modules/generated/sklearn.gaussian_process.GaussianProcessRegressor.html#sklearn.gaussian_process.GaussianProcessRegressor), [RBF](http://scikit-learn.org/stable/modules/generated/sklearn.gaussian_process.kernels.RBF.html#sklearn.gaussian_process.kernels.RBF) and [WhiteKernel](http://scikit-learn.org/stable/modules/generated/sklearn.gaussian_process.kernels.WhiteKernel.html#sklearn.gaussian_process.kernels.WhiteKernel)."
   ]
  },
  {
   "cell_type": "code",
   "execution_count": 2,
   "metadata": {
    "collapsed": false
   },
   "outputs": [],
   "source": [
    "import plotly.plotly as py\n",
    "import plotly.graph_objs as go\n",
    "\n",
    "import numpy as np\n",
    "from matplotlib import pyplot as plt\n",
    "from matplotlib.colors import LogNorm\n",
    "\n",
    "from sklearn.gaussian_process import GaussianProcessRegressor\n",
    "from sklearn.gaussian_process.kernels import RBF, WhiteKernel"
   ]
  },
  {
   "cell_type": "markdown",
   "metadata": {},
   "source": [
    "### Calculations"
   ]
  },
  {
   "cell_type": "code",
   "execution_count": 13,
   "metadata": {
    "collapsed": true
   },
   "outputs": [],
   "source": [
    "rng = np.random.RandomState(0)\n",
    "X = rng.uniform(0, 5, 20)[:, np.newaxis]\n",
    "y = 0.5 * np.sin(3 * X[:, 0]) + rng.normal(0, 0.5, X.shape[0])\n",
    "\n"
   ]
  },
  {
   "cell_type": "markdown",
   "metadata": {},
   "source": [
    "### First Run"
   ]
  },
  {
   "cell_type": "code",
   "execution_count": 4,
   "metadata": {
    "collapsed": false
   },
   "outputs": [],
   "source": [
    "kernel = 1.0 * RBF(length_scale=100.0, length_scale_bounds=(1e-2, 1e3)) \\\n",
    "    + WhiteKernel(noise_level=1, noise_level_bounds=(1e-10, 1e+1))\n",
    "gp = GaussianProcessRegressor(kernel=kernel,\n",
    "                              alpha=0.0).fit(X, y)\n",
    "X_ = np.linspace(0, 5, 100)\n",
    "y_mean, y_cov = gp.predict(X_[:, np.newaxis], return_cov=True)\n",
    "\n",
    "trace1 = go.Scatter(x=X_,y=y_mean, \n",
    "                    mode='lines',\n",
    "                    line=dict(color='black'),\n",
    "                    showlegend=False,\n",
    "                    fill = 'tonexty'\n",
    "                   )\n",
    "\n",
    "trace2 = go.Scatter(x=X_, y=y_mean - np.sqrt(np.diag(y_cov)),\n",
    "                    mode='lines',\n",
    "                    line=dict(color='black'),\n",
    "                    showlegend=False,\n",
    "                    fill='tonexty'\n",
    "                   )\n",
    "\n",
    "trace3 = go.Scatter(x=X_, y=y_mean + np.sqrt(np.diag(y_cov)),\n",
    "                    mode='lines',\n",
    "                    line=dict(color='black'),\n",
    "                    showlegend=False\n",
    "                   )\n",
    "\n",
    "trace4 = go.Scatter(x=X_, y=0.5*np.sin(3*X_), \n",
    "                    mode='lines',\n",
    "                    line=dict(color='red'),\n",
    "                    showlegend=False \n",
    "                   )\n",
    "\n",
    "trace5 = go.Scatter(x=X[:, 0], y=y,\n",
    "                    mode='markers',\n",
    "                    marker=dict(color='red'),\n",
    "                    showlegend=False\n",
    "                   )\n",
    "data = [ trace2, trace3,  trace1,trace4, trace5]\n",
    "layout = go.Layout(title=\"Initial: %s<br>Optimum: %s<br>Log-Marginal-Likelihood: %s\"\n",
    "                          % (kernel, gp.kernel_,\n",
    "                          gp.log_marginal_likelihood(gp.kernel_.theta)))\n",
    "fig = go.Figure(data=data, layout=layout)\n",
    "\n"
   ]
  },
  {
   "cell_type": "code",
   "execution_count": 5,
   "metadata": {
    "collapsed": false
   },
   "outputs": [
    {
     "data": {
      "text/html": [
       "<iframe id=\"igraph\" scrolling=\"no\" style=\"border:none;\" seamless=\"seamless\" src=\"https://plot.ly/~Diksha_Gabha/3138.embed\" height=\"525px\" width=\"100%\"></iframe>"
      ],
      "text/plain": [
       "<plotly.tools.PlotlyDisplay object>"
      ]
     },
     "execution_count": 5,
     "metadata": {},
     "output_type": "execute_result"
    }
   ],
   "source": [
    "py.iplot(fig)"
   ]
  },
  {
   "cell_type": "markdown",
   "metadata": {},
   "source": [
    "### Second Run"
   ]
  },
  {
   "cell_type": "code",
   "execution_count": 6,
   "metadata": {
    "collapsed": true
   },
   "outputs": [],
   "source": [
    "kernel = 1.0 * RBF(length_scale=1.0, length_scale_bounds=(1e-2, 1e3)) \\\n",
    "    + WhiteKernel(noise_level=1e-5, noise_level_bounds=(1e-10, 1e+1))\n",
    "gp = GaussianProcessRegressor(kernel=kernel,\n",
    "                              alpha=0.0).fit(X, y)\n",
    "X_ = np.linspace(0, 5, 100)\n",
    "y_mean, y_cov = gp.predict(X_[:, np.newaxis], return_cov=True)\n",
    "\n",
    "trace1 = go.Scatter(x=X_,y=y_mean, \n",
    "                    mode='lines',\n",
    "                    line=dict(color='black'),\n",
    "                    showlegend=False,\n",
    "                    fill = 'tozeroy'\n",
    "                   )\n",
    "\n",
    "trace2 = go.Scatter(x=X_, y=y_mean - np.sqrt(np.diag(y_cov)),\n",
    "                    mode='lines',\n",
    "                    line=dict(color='black'),\n",
    "                    showlegend=False,\n",
    "                    fill='tonexty'\n",
    "                   )\n",
    "\n",
    "trace3 = go.Scatter(x=X_, y=y_mean + np.sqrt(np.diag(y_cov)),\n",
    "                    mode='lines',\n",
    "                    line=dict(color='black'),\n",
    "                    showlegend=False,\n",
    "                    fill='tonexty'\n",
    "                   )\n",
    "\n",
    "trace4 = go.Scatter(x=X_, y=0.5*np.sin(3*X_), \n",
    "                    mode='lines',\n",
    "                    line=dict(color='red'),\n",
    "                    showlegend=False \n",
    "                   )\n",
    "\n",
    "trace5 = go.Scatter(x=X[:, 0], y=y,\n",
    "                    mode='markers',\n",
    "                    marker=dict(color='red'),\n",
    "                    showlegend=False\n",
    "                   )\n",
    "data = [ trace2, trace3, trace1, trace4, trace5]\n",
    "layout = go.Layout(title=\"Initial: %s<br>Optimum: %s<br>Log-Marginal-Likelihood: %s\"\n",
    "                          % (kernel, gp.kernel_,\n",
    "                          gp.log_marginal_likelihood(gp.kernel_.theta)))\n",
    "fig = go.Figure(data=data, layout=layout)\n"
   ]
  },
  {
   "cell_type": "code",
   "execution_count": 7,
   "metadata": {
    "collapsed": false
   },
   "outputs": [
    {
     "data": {
      "text/html": [
       "<iframe id=\"igraph\" scrolling=\"no\" style=\"border:none;\" seamless=\"seamless\" src=\"https://plot.ly/~Diksha_Gabha/3140.embed\" height=\"525px\" width=\"100%\"></iframe>"
      ],
      "text/plain": [
       "<plotly.tools.PlotlyDisplay object>"
      ]
     },
     "execution_count": 7,
     "metadata": {},
     "output_type": "execute_result"
    }
   ],
   "source": [
    "py.iplot(fig)"
   ]
  },
  {
   "cell_type": "markdown",
   "metadata": {},
   "source": [
    "### Plot LML landscape"
   ]
  },
  {
   "cell_type": "code",
   "execution_count": 8,
   "metadata": {
    "collapsed": true
   },
   "outputs": [],
   "source": [
    "theta0 = np.logspace(-2, 3, 49)\n",
    "theta1 = np.logspace(-2, 0, 50)\n",
    "Theta0, Theta1 = np.meshgrid(theta0, theta1)\n",
    "LML = [[gp.log_marginal_likelihood(np.log([0.36, Theta0[i, j], Theta1[i, j]]))\n",
    "        for i in range(Theta0.shape[0])] for j in range(Theta0.shape[1])]\n",
    "LML = np.array(LML).T\n",
    "\n",
    "vmin, vmax = (-LML).min(), (-LML).max()\n",
    "vmax = 50\n",
    "\n",
    "trace = go.Contour(x=theta0, \n",
    "                   y=theta1,\n",
    "                   z=-LML,\n",
    "                   ncontours=np.logspace(np.log10(vmin), np.log10(vmax), 50),\n",
    "                   contours=dict(coloring='lines')\n",
    "                  )\n",
    "layout = go.Layout(title=\"Log-marginal-likelihood\",\n",
    "                   xaxis=dict(type='log', title=\"Length-scale\",\n",
    "                              showgrid=False),\n",
    "                   yaxis=dict(type='log', title=\"Noise-level\",\n",
    "                              showgrid=False)\n",
    "                  )\n",
    "fig = go.Figure(data=[trace], layout=layout)"
   ]
  },
  {
   "cell_type": "code",
   "execution_count": 10,
   "metadata": {
    "collapsed": false
   },
   "outputs": [
    {
     "data": {
      "text/html": [
       "<iframe id=\"igraph\" scrolling=\"no\" style=\"border:none;\" seamless=\"seamless\" src=\"https://plot.ly/~Diksha_Gabha/3144.embed\" height=\"525px\" width=\"100%\"></iframe>"
      ],
      "text/plain": [
       "<plotly.tools.PlotlyDisplay object>"
      ]
     },
     "execution_count": 10,
     "metadata": {},
     "output_type": "execute_result"
    }
   ],
   "source": [
    "py.iplot(fig)"
   ]
  },
  {
   "cell_type": "markdown",
   "metadata": {},
   "source": [
    "### License"
   ]
  },
  {
   "cell_type": "markdown",
   "metadata": {},
   "source": [
    "Authors: \n",
    "\n",
    "        Jan Hendrik Metzen <jhm@informatik.uni-bremen.de>\n",
    "\n",
    "License: \n",
    "\n",
    "        BSD 3 clause"
   ]
  },
  {
   "cell_type": "code",
   "execution_count": 12,
   "metadata": {
    "collapsed": false
   },
   "outputs": [
    {
     "data": {
      "text/html": [
       "<link href=\"//fonts.googleapis.com/css?family=Open+Sans:600,400,300,200|Inconsolata|Ubuntu+Mono:400,700\" rel=\"stylesheet\" type=\"text/css\" />"
      ],
      "text/plain": [
       "<IPython.core.display.HTML object>"
      ]
     },
     "metadata": {},
     "output_type": "display_data"
    },
    {
     "data": {
      "text/html": [
       "<link rel=\"stylesheet\" type=\"text/css\" href=\"http://help.plot.ly/documentation/all_static/css/ipython-notebook-custom.css\">"
      ],
      "text/plain": [
       "<IPython.core.display.HTML object>"
      ]
     },
     "metadata": {},
     "output_type": "display_data"
    },
    {
     "name": "stdout",
     "output_type": "stream",
     "text": [
      "Collecting git+https://github.com/plotly/publisher.git\n",
      "  Cloning https://github.com/plotly/publisher.git to /tmp/pip-IyPPRf-build\n",
      "Installing collected packages: publisher\n",
      "  Found existing installation: publisher 0.10\n",
      "    Uninstalling publisher-0.10:\n",
      "      Successfully uninstalled publisher-0.10\n",
      "  Running setup.py install for publisher ... \u001b[?25l-\b \bdone\n",
      "\u001b[?25hSuccessfully installed publisher-0.10\n"
     ]
    }
   ],
   "source": [
    "from IPython.display import display, HTML\n",
    "\n",
    "display(HTML('<link href=\"//fonts.googleapis.com/css?family=Open+Sans:600,400,300,200|Inconsolata|Ubuntu+Mono:400,700\" rel=\"stylesheet\" type=\"text/css\" />'))\n",
    "display(HTML('<link rel=\"stylesheet\" type=\"text/css\" href=\"http://help.plot.ly/documentation/all_static/css/ipython-notebook-custom.css\">'))\n",
    "\n",
    "! pip install git+https://github.com/plotly/publisher.git --upgrade\n",
    "import publisher\n",
    "publisher.publish(\n",
    "    'Gaussian Rrocess Regression with Noise-Level Estimation.ipynb', 'scikit-learn/plot-gpr-noisy/', 'Gaussian Rrocess Regression with Noise-Level Estimation | plotly',\n",
    "    ' ',\n",
    "    title = 'Gaussian Rrocess Regression with Noise-Level Estimation | plotly',\n",
    "    name = 'Gaussian Rrocess Regression with Noise-Level Estimation',\n",
    "    has_thumbnail='true', thumbnail='thumbnail/plot-gpr.jpg', \n",
    "    language='scikit-learn', page_type='example_index',\n",
    "    display_as='gaussian-process', order=7,\n",
    "    ipynb= '~Diksha_Gabha/3146')"
   ]
  },
  {
   "cell_type": "code",
   "execution_count": null,
   "metadata": {
    "collapsed": true
   },
   "outputs": [],
   "source": []
  }
 ],
 "metadata": {
  "anaconda-cloud": {},
  "kernelspec": {
   "display_name": "Python [default]",
   "language": "python",
   "name": "python2"
  },
  "language_info": {
   "codemirror_mode": {
    "name": "ipython",
    "version": 2
   },
   "file_extension": ".py",
   "mimetype": "text/x-python",
   "name": "python",
   "nbconvert_exporter": "python",
   "pygments_lexer": "ipython2",
   "version": "2.7.12"
  }
 },
 "nbformat": 4,
 "nbformat_minor": 1
}
