{
 "cells": [
  {
   "cell_type": "markdown",
   "metadata": {},
   "source": [
    "This is an example showing the prediction latency of various scikit-learn estimators.\n",
    "\n",
    "The goal is to measure the latency one can expect when doing predictions either in bulk or atomic (i.e. one by one) mode.\n",
    "\n",
    "The plots represent the distribution of the prediction latency as a boxplot."
   ]
  },
  {
   "cell_type": "markdown",
   "metadata": {},
   "source": [
    "#### New to Plotly?\n",
    "Plotly's Python library is free and open source! [Get started](https://plot.ly/python/getting-started/) by downloading the client and [reading the primer](https://plot.ly/python/getting-started/).\n",
    "<br>You can set up Plotly to work in [online](https://plot.ly/python/getting-started/#initialization-for-online-plotting) or [offline](https://plot.ly/python/getting-started/#initialization-for-offline-plotting) mode, or in [jupyter notebooks](https://plot.ly/python/getting-started/#start-plotting-online).\n",
    "<br>We also have a quick-reference [cheatsheet](https://images.plot.ly/plotly-documentation/images/python_cheat_sheet.pdf) (new!) to help you get started!"
   ]
  },
  {
   "cell_type": "markdown",
   "metadata": {},
   "source": [
    "### Version"
   ]
  },
  {
   "cell_type": "code",
   "execution_count": 1,
   "metadata": {
    "collapsed": false
   },
   "outputs": [
    {
     "data": {
      "text/plain": [
       "'0.18'"
      ]
     },
     "execution_count": 1,
     "metadata": {},
     "output_type": "execute_result"
    }
   ],
   "source": [
    "import sklearn\n",
    "sklearn.__version__"
   ]
  },
  {
   "cell_type": "markdown",
   "metadata": {},
   "source": [
    "### Imports"
   ]
  },
  {
   "cell_type": "markdown",
   "metadata": {},
   "source": [
    "This tutorial imports [StandardScaler](http://scikit-learn.org/stable/modules/generated/sklearn.preprocessing.StandardScaler.html#sklearn.preprocessing.StandardScaler),  [train_test_split](http://scikit-learn.org/stable/modules/generated/sklearn.model_selection.train_test_split.html#sklearn.model_selection.train_test_split),  [scoreatpercentile](http://docs.scipy.org/doc/scipy-0.11.0/reference/generated/scipy.stats.scoreatpercentile.html#scipy.stats.scoreatpercentile),   [make_regression](http://scikit-learn.org/stable/modules/generated/sklearn.datasets.make_regression.html#sklearn.datasets.make_regression), [RandomForestRegressor](http://scikit-learn.org/stable/modules/generated/sklearn.ensemble.RandomForestRegressor.html#sklearn.ensemble.RandomForestRegressor), [Ridge](http://scikit-learn.org/stable/modules/generated/sklearn.linear_model.Ridge.html#sklearn.linear_model.Ridge), [SGDRegressor](http://scikit-learn.org/stable/modules/generated/sklearn.linear_model.SGDRegressor.html#sklearn.linear_model.SGDRegressor), [SVR](http://scikit-learn.org/stable/modules/generated/sklearn.svm.SVR.html#sklearn.svm.SVR) and [shuffle](http://scikit-learn.org/stable/modules/generated/sklearn.utils.shuffle.html#sklearn.utils.shuffle)."
   ]
  },
  {
   "cell_type": "code",
   "execution_count": 2,
   "metadata": {
    "collapsed": true
   },
   "outputs": [],
   "source": [
    "from __future__ import print_function\n",
    "from collections import defaultdict\n",
    "\n",
    "from plotly import tools\n",
    "import plotly.plotly as py\n",
    "import plotly.graph_objs as go\n",
    "import time\n",
    "import gc\n",
    "import numpy as np\n",
    "import matplotlib.pyplot as plt\n",
    "\n",
    "from sklearn.preprocessing import StandardScaler\n",
    "from sklearn.model_selection import train_test_split\n",
    "from scipy.stats import scoreatpercentile\n",
    "from sklearn.datasets.samples_generator import make_regression\n",
    "from sklearn.ensemble.forest import RandomForestRegressor\n",
    "from sklearn.linear_model.ridge import Ridge\n",
    "from sklearn.linear_model.stochastic_gradient import SGDRegressor\n",
    "from sklearn.svm.classes import SVR\n",
    "from sklearn.utils import shuffle"
   ]
  },
  {
   "cell_type": "markdown",
   "metadata": {},
   "source": [
    "### Calculations"
   ]
  },
  {
   "cell_type": "code",
   "execution_count": 5,
   "metadata": {
    "collapsed": false
   },
   "outputs": [
    {
     "name": "stdout",
     "output_type": "stream",
     "text": [
      "This is the format of your plot grid:\n",
      "[ (1,1) x1,y1 ]\n",
      "[ (2,1) x2,y2 ]\n",
      "[ (3,1) x3,y3 ]\n",
      "[ (4,1) x4,y4 ]\n",
      "\n"
     ]
    }
   ],
   "source": [
    "fig1 = tools.make_subplots(rows=4, cols=1,\n",
    "                          subplot_titles=(\n",
    "                          'Prediction Time per instance - Atomic, 100 feats',\n",
    "                          'Prediction Time per instance - Bulk(100), 100 feats',\n",
    "                          'Evolution of Prediction Time with #Features ',\n",
    "                          'Prediction Throughput for different estimators (%d '\n",
    "                          'features)' % configuration['n_features']))\n",
    "\n",
    "def _not_in_sphinx():\n",
    "    # Hack to detect whether we are running by the sphinx builder\n",
    "    return '__file__' in globals()\n",
    "\n",
    "\n",
    "def atomic_benchmark_estimator(estimator, X_test, verbose=False):\n",
    "    \"\"\"Measure runtime prediction of each instance.\"\"\"\n",
    "    n_instances = X_test.shape[0]\n",
    "    runtimes = np.zeros(n_instances, dtype=np.float)\n",
    "    for i in range(n_instances):\n",
    "        instance = X_test[[i], :]\n",
    "        start = time.time()\n",
    "        estimator.predict(instance)\n",
    "        runtimes[i] = time.time() - start\n",
    "    if verbose:\n",
    "        print(\"atomic_benchmark runtimes:\", min(runtimes), scoreatpercentile(\n",
    "            runtimes, 50), max(runtimes))\n",
    "    return runtimes\n",
    "\n",
    "\n",
    "def bulk_benchmark_estimator(estimator, X_test, n_bulk_repeats, verbose):\n",
    "    \"\"\"Measure runtime prediction of the whole input.\"\"\"\n",
    "    n_instances = X_test.shape[0]\n",
    "    runtimes = np.zeros(n_bulk_repeats, dtype=np.float)\n",
    "    for i in range(n_bulk_repeats):\n",
    "        start = time.time()\n",
    "        estimator.predict(X_test)\n",
    "        runtimes[i] = time.time() - start\n",
    "    runtimes = np.array(list(map(lambda x: x / float(n_instances), runtimes)))\n",
    "    if verbose:\n",
    "        print(\"bulk_benchmark runtimes:\", min(runtimes), scoreatpercentile(\n",
    "            runtimes, 50), max(runtimes))\n",
    "    return runtimes\n",
    "\n",
    "\n",
    "def benchmark_estimator(estimator, X_test, n_bulk_repeats=30, verbose=False):\n",
    "    \"\"\"\n",
    "    Measure runtimes of prediction in both atomic and bulk mode.\n",
    "\n",
    "    Parameters\n",
    "    ----------\n",
    "    estimator : already trained estimator supporting `predict()`\n",
    "    X_test : test input\n",
    "    n_bulk_repeats : how many times to repeat when evaluating bulk mode\n",
    "\n",
    "    Returns\n",
    "    -------\n",
    "    atomic_runtimes, bulk_runtimes : a pair of `np.array` which contain the\n",
    "    runtimes in seconds.\n",
    "\n",
    "    \"\"\"\n",
    "    atomic_runtimes = atomic_benchmark_estimator(estimator, X_test, verbose)\n",
    "    bulk_runtimes = bulk_benchmark_estimator(estimator, X_test, n_bulk_repeats,\n",
    "                                             verbose)\n",
    "    return atomic_runtimes, bulk_runtimes\n",
    "\n",
    "\n",
    "def generate_dataset(n_train, n_test, n_features, noise=0.1, verbose=False):\n",
    "    \"\"\"Generate a regression dataset with the given parameters.\"\"\"\n",
    "    if verbose:\n",
    "        print(\"generating dataset...\")\n",
    "\n",
    "    X, y, coef = make_regression(n_samples=n_train + n_test,\n",
    "                                 n_features=n_features, noise=noise, coef=True)\n",
    "\n",
    "    random_seed = 13\n",
    "    X_train, X_test, y_train, y_test = train_test_split(\n",
    "        X, y, train_size=n_train, random_state=random_seed)\n",
    "    X_train, y_train = shuffle(X_train, y_train, random_state=random_seed)\n",
    "\n",
    "    X_scaler = StandardScaler()\n",
    "    X_train = X_scaler.fit_transform(X_train)\n",
    "    X_test = X_scaler.transform(X_test)\n",
    "\n",
    "    y_scaler = StandardScaler()\n",
    "    y_train = y_scaler.fit_transform(y_train[:, None])[:, 0]\n",
    "    y_test = y_scaler.transform(y_test[:, None])[:, 0]\n",
    "\n",
    "    gc.collect()\n",
    "    if verbose:\n",
    "        print(\"ok\")\n",
    "    return X_train, y_train, X_test, y_test\n",
    "\n",
    "\n",
    "\n",
    "def benchmark(configuration):\n",
    "    \"\"\"Run the whole benchmark.\"\"\"\n",
    "    X_train, y_train, X_test, y_test = generate_dataset(\n",
    "        configuration['n_train'], configuration['n_test'],\n",
    "        configuration['n_features'])\n",
    "\n",
    "    stats = {}\n",
    "    for estimator_conf in configuration['estimators']:\n",
    "        print(\"Benchmarking\", estimator_conf['instance'])\n",
    "        estimator_conf['instance'].fit(X_train, y_train)\n",
    "        gc.collect()\n",
    "        a, b = benchmark_estimator(estimator_conf['instance'], X_test)\n",
    "        stats[estimator_conf['name']] = {'atomic': a, 'bulk': b}\n",
    "\n",
    "    cls_names = [estimator_conf['name'] for estimator_conf in configuration[\n",
    "        'estimators']]\n",
    "    runtimes = [1e6 * stats[clf_name]['atomic'] for clf_name in cls_names]\n",
    "    \n",
    "    boxplot_runtimes(runtimes, 'atomic', configuration, 1)\n",
    "    runtimes = [1e6 * stats[clf_name]['bulk'] for clf_name in cls_names]\n",
    "    \n",
    "    boxplot_runtimes(runtimes, 'bulk (%d)' % configuration['n_test'],\n",
    "                     configuration, 2)\n",
    "\n",
    "\n",
    "def n_feature_influence(estimators, n_train, n_test, n_features, percentile):\n",
    "    \"\"\"\n",
    "    Estimate influence of the number of features on prediction time.\n",
    "\n",
    "    Parameters\n",
    "    ----------\n",
    "\n",
    "    estimators : dict of (name (str), estimator) to benchmark\n",
    "    n_train : nber of training instances (int)\n",
    "    n_test : nber of testing instances (int)\n",
    "    n_features : list of feature-space dimensionality to test (int)\n",
    "    percentile : percentile at which to measure the speed (int [0-100])\n",
    "\n",
    "    Returns:\n",
    "    --------\n",
    "\n",
    "    percentiles : dict(estimator_name,\n",
    "                       dict(n_features, percentile_perf_in_us))\n",
    "\n",
    "    \"\"\"\n",
    "    percentiles = defaultdict(defaultdict)\n",
    "    for n in n_features:\n",
    "        print(\"benchmarking with %d features\" % n)\n",
    "        X_train, y_train, X_test, y_test = generate_dataset(n_train, n_test, n)\n",
    "        for cls_name, estimator in estimators.items():\n",
    "            estimator.fit(X_train, y_train)\n",
    "            gc.collect()\n",
    "            runtimes = bulk_benchmark_estimator(estimator, X_test, 30, False)\n",
    "            percentiles[cls_name][n] = 1e6 * scoreatpercentile(runtimes,\n",
    "                                                               percentile)\n",
    "    return percentiles\n",
    "\n",
    "\n",
    "def benchmark_throughputs(configuration, duration_secs=0.1):\n",
    "    \"\"\"benchmark throughput for different estimators.\"\"\"\n",
    "    X_train, y_train, X_test, y_test = generate_dataset(\n",
    "        configuration['n_train'], configuration['n_test'],\n",
    "        configuration['n_features'])\n",
    "    throughputs = dict()\n",
    "    for estimator_config in configuration['estimators']:\n",
    "        estimator_config['instance'].fit(X_train, y_train)\n",
    "        start_time = time.time()\n",
    "        n_predictions = 0\n",
    "        while (time.time() - start_time) < duration_secs:\n",
    "            estimator_config['instance'].predict(X_test[[0]])\n",
    "            n_predictions += 1\n",
    "        throughputs[estimator_config['name']] = n_predictions / duration_secs\n",
    "    return throughputs\n",
    "\n",
    "\n"
   ]
  },
  {
   "cell_type": "markdown",
   "metadata": {},
   "source": [
    "### Plot Results"
   ]
  },
  {
   "cell_type": "markdown",
   "metadata": {},
   "source": [
    "Boxplot Runtimes"
   ]
  },
  {
   "cell_type": "code",
   "execution_count": 6,
   "metadata": {
    "collapsed": false
   },
   "outputs": [],
   "source": [
    "def boxplot_runtimes(runtimes, pred_type, configuration, subplot):\n",
    "    \"\"\"\n",
    "    Plot a new `Figure` with boxplots of prediction runtimes.\n",
    "\n",
    "    Parameters\n",
    "    ----------\n",
    "    runtimes : list of `np.array` of latencies in micro-seconds\n",
    "    cls_names : list of estimator class names that generated the runtimes\n",
    "    pred_type : 'bulk' or 'atomic'\n",
    "\n",
    "    \"\"\"\n",
    "    cls_infos = ['%s<br>(%d %s)' % (estimator_conf['name'],\n",
    "                                  estimator_conf['complexity_computer'](\n",
    "                                      estimator_conf['instance']),\n",
    "                                  estimator_conf['complexity_label']) for\n",
    "                 estimator_conf in configuration['estimators']]\n",
    "    \n",
    "    box_plot1 = go.Box(y=runtimes[0],showlegend=False,name=cls_infos[0],\n",
    "                       fillcolor='rgba(0.4,225, 128, 128)',\n",
    "                       line=dict(color=\"black\", width=1))\n",
    "                     \n",
    "    box_plot2 = go.Box(y=runtimes[1],showlegend=False,name=cls_infos[1],\n",
    "                      fillcolor='rgba(0.4,225, 128, 128)',\n",
    "                      line=dict(color=\"black\", width=1))\n",
    "    box_plot3 = go.Box(y=runtimes[2],showlegend=False,name=cls_infos[2],\n",
    "                       fillcolor='rgba(0.4,225, 128, 128)',\n",
    "                      line=dict(color=\"black\", width=1))\n",
    "    \n",
    "    fig1.append_trace(box_plot1, subplot, 1) \n",
    "    fig1.append_trace(box_plot2, subplot, 1) \n",
    "    fig1.append_trace(box_plot3, subplot, 1)\n",
    "    \n",
    "    axis='yaxis'+str(subplot)\n",
    "    fig1['layout'][axis].update(title='Prediction Time (us)')\n",
    "    axis='xaxis'+str(subplot)\n",
    "    fig1['layout'][axis].update(ticks='Prediction Time (us)')\n"
   ]
  },
  {
   "cell_type": "markdown",
   "metadata": {},
   "source": [
    "Plot n_features influence."
   ]
  },
  {
   "cell_type": "code",
   "execution_count": 7,
   "metadata": {
    "collapsed": false
   },
   "outputs": [],
   "source": [
    "\n",
    "def plot_n_features_influence(percentiles, percentile):\n",
    "    \n",
    "    for i, cls_name in enumerate(percentiles.keys()):\n",
    "        x = np.array(sorted([n for n in percentiles[cls_name].keys()]))\n",
    "        y = np.array([percentiles[cls_name][n] for n in x])\n",
    "        line_plot = go.Scatter(x=x, y=y,\n",
    "                               showlegend=False,\n",
    "                               mode='lines',\n",
    "                               line=dict(color=\"red\"))\n",
    "\n",
    "    fig1.append_trace(line_plot, 3, 1) \n",
    "    \n",
    "    fig1['layout']['xaxis3'].update(title='#Features')\n",
    "    fig1['layout']['yaxis3'].update(title='Prediction Time at %d%%-ile (us)' % percentile)\n"
   ]
  },
  {
   "cell_type": "code",
   "execution_count": 8,
   "metadata": {
    "collapsed": true
   },
   "outputs": [],
   "source": [
    "def plot_benchmark_throughput(throughputs, configuration):\n",
    "    fig, ax = plt.subplots(figsize=(10, 6))\n",
    "   \n",
    "    cls_infos = ['%s<br>(%d %s)' % (estimator_conf['name'],\n",
    "                                  estimator_conf['complexity_computer'](\n",
    "                                      estimator_conf['instance']),\n",
    "                                  estimator_conf['complexity_label']) for\n",
    "                 estimator_conf in configuration['estimators']]\n",
    "    cls_values = [throughputs[estimator_conf['name']] for estimator_conf in\n",
    "                  configuration['estimators']]\n",
    "    \n",
    "    bar_plot = go.Bar(x=cls_infos, y= cls_values,\n",
    "                      showlegend=False, marker=dict(\n",
    "                        color=['red', 'green', 'blue']))\n",
    "    fig1.append_trace(bar_plot, 4, 1)\n",
    "    \n",
    "    fig1['layout']['yaxis4'].update(title='Throughput (predictions/sec)')\n",
    "\n",
    "    \n",
    "    "
   ]
  },
  {
   "cell_type": "markdown",
   "metadata": {},
   "source": [
    "Plot data"
   ]
  },
  {
   "cell_type": "code",
   "execution_count": 9,
   "metadata": {
    "collapsed": false
   },
   "outputs": [
    {
     "name": "stdout",
     "output_type": "stream",
     "text": [
      "Benchmarking SGDRegressor(alpha=0.01, average=False, epsilon=0.1, eta0=0.01,\n",
      "       fit_intercept=True, l1_ratio=0.25, learning_rate='invscaling',\n",
      "       loss='squared_loss', n_iter=5, penalty='elasticnet', power_t=0.25,\n",
      "       random_state=None, shuffle=True, verbose=0, warm_start=False)\n",
      "Benchmarking RandomForestRegressor(bootstrap=True, criterion='mse', max_depth=None,\n",
      "           max_features='auto', max_leaf_nodes=None,\n",
      "           min_impurity_split=1e-07, min_samples_leaf=1,\n",
      "           min_samples_split=2, min_weight_fraction_leaf=0.0,\n",
      "           n_estimators=10, n_jobs=1, oob_score=False, random_state=None,\n",
      "           verbose=0, warm_start=False)\n",
      "Benchmarking SVR(C=1.0, cache_size=200, coef0=0.0, degree=3, epsilon=0.1, gamma='auto',\n",
      "  kernel='rbf', max_iter=-1, shrinking=True, tol=0.001, verbose=False)\n",
      "benchmarking with 100 features\n",
      "benchmarking with 250 features\n",
      "benchmarking with 500 features\n",
      "example run in 3.50s\n"
     ]
    }
   ],
   "source": [
    "\n",
    "start_time = time.time()\n",
    "\n",
    "# benchmark bulk/atomic prediction speed for various regressors\n",
    "configuration = {\n",
    "'n_train': int(1e3),\n",
    "'n_test': int(1e2),\n",
    "'n_features': int(1e2),\n",
    "'estimators': [\n",
    "    {'name': 'Linear Model',\n",
    "     'instance': SGDRegressor(penalty='elasticnet', alpha=0.01,\n",
    "                              l1_ratio=0.25, fit_intercept=True),\n",
    "     'complexity_label': 'non-zero coefficients',\n",
    "     'complexity_computer': lambda clf: np.count_nonzero(clf.coef_)},\n",
    "    {'name': 'RandomForest',\n",
    "     'instance': RandomForestRegressor(),\n",
    "     'complexity_label': 'estimators',\n",
    "     'complexity_computer': lambda clf: clf.n_estimators},\n",
    "    {'name': 'SVR',\n",
    "     'instance': SVR(kernel='rbf'),\n",
    "     'complexity_label': 'support vectors',\n",
    "     'complexity_computer': lambda clf: len(clf.support_vectors_)},\n",
    "]\n",
    "}\n",
    "benchmark(configuration)\n",
    "\n",
    "# benchmark n_features influence on prediction speed\n",
    "percentile = 90\n",
    "percentiles = n_feature_influence({'ridge': Ridge()},\n",
    "                              configuration['n_train'],\n",
    "                              configuration['n_test'],\n",
    "                              [100, 250, 500], percentile)\n",
    "plot_n_features_influence(percentiles, percentile)\n",
    "\n",
    "# benchmark throughput\n",
    "throughputs = benchmark_throughputs(configuration)\n",
    "plot_benchmark_throughput(throughputs, configuration)\n",
    "\n",
    "stop_time = time.time()\n",
    "print(\"example run in %.2fs\" % (stop_time - start_time))\n",
    "\n"
   ]
  },
  {
   "cell_type": "code",
   "execution_count": 11,
   "metadata": {
    "collapsed": false
   },
   "outputs": [
    {
     "data": {
      "text/html": [
       "<iframe id=\"igraph\" scrolling=\"no\" style=\"border:none;\" seamless=\"seamless\" src=\"https://plot.ly/~Diksha_Gabha/2647.embed\" height=\"2000px\" width=\"100%\"></iframe>"
      ],
      "text/plain": [
       "<plotly.tools.PlotlyDisplay object>"
      ]
     },
     "execution_count": 11,
     "metadata": {},
     "output_type": "execute_result"
    }
   ],
   "source": [
    "fig1['layout'].update(height=2000)\n",
    "py.iplot(fig1)"
   ]
  },
  {
   "cell_type": "markdown",
   "metadata": {},
   "source": [
    "### License\n",
    "\n",
    "Authors: \n",
    "\n",
    "        Eustache Diemert <eustache@diemert.fr>\n",
    "        \n",
    "License:\n",
    "\n",
    "        BSD 3 clause"
   ]
  },
  {
   "cell_type": "code",
   "execution_count": 3,
   "metadata": {
    "collapsed": false
   },
   "outputs": [
    {
     "data": {
      "text/html": [
       "<link href=\"//fonts.googleapis.com/css?family=Open+Sans:600,400,300,200|Inconsolata|Ubuntu+Mono:400,700\" rel=\"stylesheet\" type=\"text/css\" />"
      ],
      "text/plain": [
       "<IPython.core.display.HTML object>"
      ]
     },
     "metadata": {},
     "output_type": "display_data"
    },
    {
     "data": {
      "text/html": [
       "<link rel=\"stylesheet\" type=\"text/css\" href=\"http://help.plot.ly/documentation/all_static/css/ipython-notebook-custom.css\">"
      ],
      "text/plain": [
       "<IPython.core.display.HTML object>"
      ]
     },
     "metadata": {},
     "output_type": "display_data"
    },
    {
     "name": "stdout",
     "output_type": "stream",
     "text": [
      "Collecting git+https://github.com/plotly/publisher.git\n",
      "  Cloning https://github.com/plotly/publisher.git to /tmp/pip-mSusny-build\n",
      "Installing collected packages: publisher\n",
      "  Running setup.py install for publisher ... \u001b[?25l-\b \berror\n",
      "    Complete output from command /usr/bin/python -u -c \"import setuptools, tokenize;__file__='/tmp/pip-mSusny-build/setup.py';exec(compile(getattr(tokenize, 'open', open)(__file__).read().replace('\\r\\n', '\\n'), __file__, 'exec'))\" install --record /tmp/pip-k3Enyp-record/install-record.txt --single-version-externally-managed --compile:\n",
      "    running install\n",
      "    running build\n",
      "    running build_py\n",
      "    creating build\n",
      "    creating build/lib.linux-x86_64-2.7\n",
      "    creating build/lib.linux-x86_64-2.7/publisher\n",
      "    copying publisher/publisher.py -> build/lib.linux-x86_64-2.7/publisher\n",
      "    copying publisher/__init__.py -> build/lib.linux-x86_64-2.7/publisher\n",
      "    running install_lib\n",
      "    creating /usr/local/lib/python2.7/dist-packages/publisher\n",
      "    error: could not create '/usr/local/lib/python2.7/dist-packages/publisher': Permission denied\n",
      "    \n",
      "    ----------------------------------------\n",
      "\u001b[31mCommand \"/usr/bin/python -u -c \"import setuptools, tokenize;__file__='/tmp/pip-mSusny-build/setup.py';exec(compile(getattr(tokenize, 'open', open)(__file__).read().replace('\\r\\n', '\\n'), __file__, 'exec'))\" install --record /tmp/pip-k3Enyp-record/install-record.txt --single-version-externally-managed --compile\" failed with error code 1 in /tmp/pip-mSusny-build/\u001b[0m\n",
      "\u001b[33mYou are using pip version 8.1.2, however version 9.0.1 is available.\n",
      "You should consider upgrading via the 'pip install --upgrade pip' command.\u001b[0m\n",
      "\u001b[?25h"
     ]
    }
   ],
   "source": [
    "from IPython.display import display, HTML\n",
    "\n",
    "display(HTML('<link href=\"//fonts.googleapis.com/css?family=Open+Sans:600,400,300,200|Inconsolata|Ubuntu+Mono:400,700\" rel=\"stylesheet\" type=\"text/css\" />'))\n",
    "display(HTML('<link rel=\"stylesheet\" type=\"text/css\" href=\"http://help.plot.ly/documentation/all_static/css/ipython-notebook-custom.css\">'))\n",
    "\n",
    "! pip install git+https://github.com/plotly/publisher.git --upgrade\n",
    "import publisher\n",
    "publisher.publish(\n",
    "    'Prediction-Latency.ipynb', 'scikit-learn/plot-prediction-latency/', 'Prediction Latency | plotly',\n",
    "    ' ',\n",
    "    title = 'Prediction Latency | plotly',\n",
    "    name = 'Prediction Latency',\n",
    "    has_thumbnail='true', thumbnail='thumbnail/prediction-latency.jpg', \n",
    "    language='scikit-learn', page_type='example_index',\n",
    "    display_as='real_dataset', order=9,ipynb='~Diksha_Gabha/2674')  "
   ]
  },
  {
   "cell_type": "code",
   "execution_count": null,
   "metadata": {
    "collapsed": true
   },
   "outputs": [],
   "source": []
  }
 ],
 "metadata": {
  "kernelspec": {
   "display_name": "Python 2",
   "language": "python",
   "name": "python2"
  },
  "language_info": {
   "codemirror_mode": {
    "name": "ipython",
    "version": 2
   },
   "file_extension": ".py",
   "mimetype": "text/x-python",
   "name": "python",
   "nbconvert_exporter": "python",
   "pygments_lexer": "ipython2",
   "version": "2.7.11"
  }
 },
 "nbformat": 4,
 "nbformat_minor": 0
}
