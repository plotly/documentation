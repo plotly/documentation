{
 "cells": [
  {
   "cell_type": "markdown",
   "metadata": {},
   "source": [
    "This example simulates a multi-label document classification problem. The dataset is generated randomly based on the following process:\n",
    "\n",
    "pick the number of labels: n ~ Poisson(n_labels)\n",
    "n times, choose a class c: c ~ Multinomial(theta)\n",
    "pick the document length: k ~ Poisson(length)\n",
    "k times, choose a word: w ~ Multinomial(theta_c)\n",
    "\n",
    "In the above process, rejection sampling is used to make sure that n is more than 2, and that the document length is never zero. Likewise, we reject classes which have already been chosen. The documents that are assigned to both classes are plotted surrounded by two colored circles.\n",
    "\n",
    "The classification is performed by projecting to the first two principal components found by PCA and CCA for visualisation purposes, followed by using the [sklearn.multiclass.OneVsRestClassifier](http://scikit-learn.org/stable/modules/generated/sklearn.multiclass.OneVsRestClassifier.html#sklearn.multiclass.OneVsRestClassifier) metaclassifier using two SVCs with linear kernels to learn a discriminative model for each class. Note that PCA is used to perform an unsupervised dimensionality reduction, while CCA is used to perform a supervised one.\n",
    "\n",
    "Note: in the plot, “unlabeled samples” does not mean that we don’t know the labels (as in semi-supervised learning) but that the samples simply do not have a label."
   ]
  },
  {
   "cell_type": "markdown",
   "metadata": {},
   "source": [
    "#### New to Plotly?\n",
    "Plotly's Python library is free and open source! [Get started](https://plot.ly/python/getting-started/) by downloading the client and [reading the primer](https://plot.ly/python/getting-started/).\n",
    "<br>You can set up Plotly to work in [online](https://plot.ly/python/getting-started/#initialization-for-online-plotting) or [offline](https://plot.ly/python/getting-started/#initialization-for-offline-plotting) mode, or in [jupyter notebooks](https://plot.ly/python/getting-started/#start-plotting-online).\n",
    "<br>We also have a quick-reference [cheatsheet](https://images.plot.ly/plotly-documentation/images/python_cheat_sheet.pdf) (new!) to help you get started!"
   ]
  },
  {
   "cell_type": "markdown",
   "metadata": {},
   "source": [
    "### Version"
   ]
  },
  {
   "cell_type": "code",
   "execution_count": 1,
   "metadata": {
    "collapsed": false
   },
   "outputs": [
    {
     "data": {
      "text/plain": [
       "'0.18'"
      ]
     },
     "execution_count": 1,
     "metadata": {},
     "output_type": "execute_result"
    }
   ],
   "source": [
    "import sklearn\n",
    "sklearn.__version__"
   ]
  },
  {
   "cell_type": "markdown",
   "metadata": {},
   "source": [
    "### Imports"
   ]
  },
  {
   "cell_type": "markdown",
   "metadata": {},
   "source": [
    "This tutorial imports [make_multilabel_classification](http://scikit-learn.org/stable/modules/generated/sklearn.datasets.make_multilabel_classification.html#sklearn.datasets.make_multilabel_classification), [OneVsRestClassifier](http://scikit-learn.org/stable/modules/generated/sklearn.multiclass.OneVsRestClassifier.html#sklearn.multiclass.OneVsRestClassifier), [SVC](http://scikit-learn.org/stable/modules/generated/sklearn.svm.SVC.html#sklearn.svm.SVC), [PCA](http://scikit-learn.org/stable/modules/generated/sklearn.decomposition.PCA.html#sklearn.decomposition.PCA) and [CCA](http://scikit-learn.org/stable/modules/generated/sklearn.cross_decomposition.CCA.html#sklearn.cross_decomposition.CCA)"
   ]
  },
  {
   "cell_type": "code",
   "execution_count": 2,
   "metadata": {
    "collapsed": true
   },
   "outputs": [],
   "source": [
    "import numpy as np\n",
    "\n",
    "import plotly.plotly as py\n",
    "import plotly.graph_objs as go\n",
    "from plotly import tools\n",
    "\n",
    "from sklearn.datasets import make_multilabel_classification\n",
    "from sklearn.multiclass import OneVsRestClassifier\n",
    "from sklearn.svm import SVC\n",
    "from sklearn.preprocessing import LabelBinarizer\n",
    "from sklearn.decomposition import PCA\n",
    "from sklearn.cross_decomposition import CCA"
   ]
  },
  {
   "cell_type": "markdown",
   "metadata": {},
   "source": [
    "### Calculations"
   ]
  },
  {
   "cell_type": "code",
   "execution_count": 3,
   "metadata": {
    "collapsed": false
   },
   "outputs": [
    {
     "name": "stdout",
     "output_type": "stream",
     "text": [
      "Automatically created module for IPython interactive environment\n",
      "This is the format of your plot grid:\n",
      "[ (1,1) x1,y1 ]  [ (1,2) x2,y2 ]\n",
      "[ (2,1) x3,y3 ]  [ (2,2) x4,y4 ]\n",
      "\n"
     ]
    }
   ],
   "source": [
    "print(__doc__)\n",
    "fig = tools.make_subplots(rows=2, cols=2, \n",
    "                          subplot_titles=('With unlabeled samples + CCA',\n",
    "                                          'With unlabeled samples + PCA', \n",
    "                                          'Without unlabeled samples + CCA',\n",
    "                                          'Without unlabeled samples + PCA')\n",
    "                         )\n",
    "def plot_hyperplane(clf, min_x, max_x, name, shape, leg):\n",
    "    # get the separating hyperplane\n",
    "    w = clf.coef_[0]\n",
    "    a = -w[0] / w[1]\n",
    "    xx = np.linspace(min_x - 5, max_x + 5)  # make sure the line is long enough\n",
    "    yy = a * xx - (clf.intercept_[0]) / w[1]\n",
    "    if leg ==1: leg = True\n",
    "    else: leg = False\n",
    "    return go.Scatter(x=xx, y=yy, name=name, mode=\"lines\",\n",
    "                      showlegend=leg,\n",
    "                      line=dict(\n",
    "                            color=('black'),\n",
    "                            width=1.5,\n",
    "                            dash=shape)\n",
    "                     )\n",
    "\n",
    "def plot_subfigure(X, Y, subplot_row ,subplot_col , transform ,leg):\n",
    "    if transform == \"pca\":\n",
    "        X = PCA(n_components=2).fit_transform(X)\n",
    "    elif transform == \"cca\":\n",
    "        X = CCA(n_components=2).fit(X, Y).transform(X)\n",
    "    else:\n",
    "        raise ValueError\n",
    "\n",
    "    min_x = np.min(X[:, 0])\n",
    "    max_x = np.max(X[:, 0])\n",
    "\n",
    "    min_y = np.min(X[:, 1])\n",
    "    max_y = np.max(X[:, 1])\n",
    "\n",
    "    classif = OneVsRestClassifier(SVC(kernel='linear'))\n",
    "    classif.fit(X, Y)\n",
    "    zero_class = np.where(Y[:, 0])\n",
    "    one_class = np.where(Y[:, 1])\n",
    "    \n",
    "    trace1 = go.Scatter(x=X[:, 0], y=X[:, 1], mode=\"markers\",\n",
    "                        showlegend=False,\n",
    "                        marker=dict(\n",
    "                                color='gray',size =10,\n",
    "                                line = dict(\n",
    "                                        width = 2, color=\"black\")\n",
    "                        ))\n",
    "    \n",
    "    trace2 = go.Scatter(x=X[zero_class, 0][0], y=X[zero_class, 1][0],\n",
    "                        name=\"Class 1\", showlegend=leg,\n",
    "                        mode='markers', \n",
    "                        marker=dict(\n",
    "                                size=14, color='white',\n",
    "                                line=dict(\n",
    "                                        width=3, color='blue')\n",
    "                       ))\n",
    "\n",
    "    trace3 = go.Scatter(x=X[one_class, 0][0], y=X[one_class, 1][0],\n",
    "                        name='Class 2', showlegend=leg,\n",
    "                        mode = 'markers',\n",
    "                        marker = dict(\n",
    "                                size=14, color='white',\n",
    "                                line=dict(\n",
    "                                        width = 3, color='orange')\n",
    "                        ))\n",
    "\n",
    "    \n",
    "    fig.append_trace(trace2, subplot_row, subplot_col)\n",
    "    fig.append_trace(trace3, subplot_row, subplot_col)\n",
    "    fig.append_trace(trace1, subplot_row, subplot_col)\n",
    "    \n",
    "    trace4 = plot_hyperplane(classif.estimators_[0], min_x, max_x, \n",
    "                    'Boundary<br>for class 1','dash', leg,)\n",
    "    \n",
    "    trace5 = plot_hyperplane(classif.estimators_[1], min_x, max_x, \n",
    "                    'Boundary<br>for class 2','dashdot',leg,)\n",
    "    \n",
    "    fig.append_trace(trace4, subplot_row, subplot_col)\n",
    "    fig.append_trace(trace5, subplot_row, subplot_col)\n",
    "    \n",
    "    \n",
    "    fig['layout']['xaxis1'].update(range=[-3, 3], zeroline=False,\n",
    "                                  showgrid=False)\n",
    "    fig['layout']['yaxis1'].update(range=[-5, 5], zeroline=False,\n",
    "                                  showgrid=False)\n",
    "    fig['layout']['xaxis3'].update(range=[-4, 4], zeroline=False,\n",
    "                                  showgrid=False)\n",
    "    fig['layout']['yaxis3'].update(range=[-4, 4], zeroline=False,\n",
    "                                  showgrid=False)\n",
    "    fig['layout']['xaxis4'].update(range=[-8, 8], zeroline=False,\n",
    "                                  showgrid=False)\n",
    "    fig['layout']['yaxis4'].update(range=[-10, 10], zeroline=False,\n",
    "                                  showgrid=False)\n",
    "    fig['layout']['xaxis2'].update(title='First principal component', range=[-3, 8],\n",
    "                                   zeroline=False, showgrid=False)\n",
    "    fig['layout']['yaxis2'].update(title='Second principal component', range=[-10, 10],\n",
    "                                   zeroline= False, showgrid=False)\n",
    "    fig['layout'].update(height=900, width=1000)"
   ]
  },
  {
   "cell_type": "markdown",
   "metadata": {},
   "source": [
    "### Plot Result"
   ]
  },
  {
   "cell_type": "code",
   "execution_count": 4,
   "metadata": {
    "collapsed": false
   },
   "outputs": [
    {
     "data": {
      "text/html": [
       "<iframe id=\"igraph\" scrolling=\"no\" style=\"border:none;\" seamless=\"seamless\" src=\"https://plot.ly/~Diksha_Gabha/2529.embed\" height=\"900px\" width=\"1000px\"></iframe>"
      ],
      "text/plain": [
       "<plotly.tools.PlotlyDisplay object>"
      ]
     },
     "execution_count": 4,
     "metadata": {},
     "output_type": "execute_result"
    }
   ],
   "source": [
    "X, Y = make_multilabel_classification(n_classes=2, n_labels=1,\n",
    "                                      allow_unlabeled=True,\n",
    "                                      random_state=1)\n",
    "\n",
    "plot_subfigure(X, Y, 1,1,  \"cca\", True)\n",
    "plot_subfigure(X, Y, 1,2,  \"pca\", False)\n",
    "\n",
    "X, Y = make_multilabel_classification(n_classes=2, n_labels=1,\n",
    "                                      allow_unlabeled=False,\n",
    "                                      random_state=1)\n",
    "\n",
    "plot_subfigure(X, Y, 2,1,\"cca\", False)\n",
    "plot_subfigure(X, Y, 2,2, \"pca\", False)\n",
    "\n",
    "py.iplot(fig, filename=\"multilabel-classification\")"
   ]
  },
  {
   "cell_type": "code",
   "execution_count": 2,
   "metadata": {
    "collapsed": false
   },
   "outputs": [
    {
     "data": {
      "text/html": [
       "<link href=\"//fonts.googleapis.com/css?family=Open+Sans:600,400,300,200|Inconsolata|Ubuntu+Mono:400,700\" rel=\"stylesheet\" type=\"text/css\" />"
      ],
      "text/plain": [
       "<IPython.core.display.HTML object>"
      ]
     },
     "metadata": {},
     "output_type": "display_data"
    },
    {
     "data": {
      "text/html": [
       "<link rel=\"stylesheet\" type=\"text/css\" href=\"http://help.plot.ly/documentation/all_static/css/ipython-notebook-custom.css\">"
      ],
      "text/plain": [
       "<IPython.core.display.HTML object>"
      ]
     },
     "metadata": {},
     "output_type": "display_data"
    },
    {
     "name": "stdout",
     "output_type": "stream",
     "text": [
      "Collecting git+https://github.com/plotly/publisher.git\n",
      "  Cloning https://github.com/plotly/publisher.git to /tmp/pip-DeMfiw-build\n",
      "Installing collected packages: publisher\n",
      "  Running setup.py install for publisher ... \u001b[?25l-\b \berror\n",
      "    Complete output from command /usr/bin/python -u -c \"import setuptools, tokenize;__file__='/tmp/pip-DeMfiw-build/setup.py';exec(compile(getattr(tokenize, 'open', open)(__file__).read().replace('\\r\\n', '\\n'), __file__, 'exec'))\" install --record /tmp/pip-HnxXjs-record/install-record.txt --single-version-externally-managed --compile:\n",
      "    running install\n",
      "    running build\n",
      "    running build_py\n",
      "    creating build\n",
      "    creating build/lib.linux-x86_64-2.7\n",
      "    creating build/lib.linux-x86_64-2.7/publisher\n",
      "    copying publisher/publisher.py -> build/lib.linux-x86_64-2.7/publisher\n",
      "    copying publisher/__init__.py -> build/lib.linux-x86_64-2.7/publisher\n",
      "    running install_lib\n",
      "    creating /usr/local/lib/python2.7/dist-packages/publisher\n",
      "    error: could not create '/usr/local/lib/python2.7/dist-packages/publisher': Permission denied\n",
      "    \n",
      "    ----------------------------------------\n",
      "\u001b[31mCommand \"/usr/bin/python -u -c \"import setuptools, tokenize;__file__='/tmp/pip-DeMfiw-build/setup.py';exec(compile(getattr(tokenize, 'open', open)(__file__).read().replace('\\r\\n', '\\n'), __file__, 'exec'))\" install --record /tmp/pip-HnxXjs-record/install-record.txt --single-version-externally-managed --compile\" failed with error code 1 in /tmp/pip-DeMfiw-build/\u001b[0m\n",
      "\u001b[33mYou are using pip version 8.1.2, however version 9.0.1 is available.\n",
      "You should consider upgrading via the 'pip install --upgrade pip' command.\u001b[0m\n",
      "\u001b[?25h"
     ]
    }
   ],
   "source": [
    "from IPython.display import display, HTML\n",
    "\n",
    "display(HTML('<link href=\"//fonts.googleapis.com/css?family=Open+Sans:600,400,300,200|Inconsolata|Ubuntu+Mono:400,700\" rel=\"stylesheet\" type=\"text/css\" />'))\n",
    "display(HTML('<link rel=\"stylesheet\" type=\"text/css\" href=\"http://help.plot.ly/documentation/all_static/css/ipython-notebook-custom.css\">'))\n",
    "\n",
    "! pip install git+https://github.com/plotly/publisher.git --upgrade\n",
    "import publisher\n",
    "publisher.publish(\n",
    "    'multilabel-classification.ipynb', 'scikit-learn/plot-multilabel/', 'Multilabel classification | plotly',\n",
    "    '',\n",
    "    title = 'Multilabel classification | plotly',\n",
    "    name = 'Multilabel classification',\n",
    "    has_thumbnail='true', thumbnail='thumbnail/multilabel.jpg', \n",
    "    language='scikit-learn', page_type='example_index',\n",
    "    display_as='general_examples', order=7,\n",
    "    ipynb='~Diksha_Gabha/2665')  "
   ]
  },
  {
   "cell_type": "code",
   "execution_count": null,
   "metadata": {
    "collapsed": true
   },
   "outputs": [],
   "source": []
  }
 ],
 "metadata": {
  "kernelspec": {
   "display_name": "Python 2",
   "language": "python",
   "name": "python2"
  },
  "language_info": {
   "codemirror_mode": {
    "name": "ipython",
    "version": 2
   },
   "file_extension": ".py",
   "mimetype": "text/x-python",
   "name": "python",
   "nbconvert_exporter": "python",
   "pygments_lexer": "ipython2",
   "version": "2.7.11"
  }
 },
 "nbformat": 4,
 "nbformat_minor": 0
}
