{
 "cells": [
  {
   "cell_type": "markdown",
   "metadata": {},
   "source": [
    "Plot the contours of the three penalties.\n",
    "\n",
    "All of the above are supported by **sklearn.linear_model.stochastic_gradient**."
   ]
  },
  {
   "cell_type": "markdown",
   "metadata": {},
   "source": [
    "#### New to Plotly?\n",
    "Plotly's Python library is free and open source! [Get started](https://plot.ly/python/getting-started/) by downloading the client and [reading the primer](https://plot.ly/python/getting-started/).\n",
    "<br>You can set up Plotly to work in [online](https://plot.ly/python/getting-started/#initialization-for-online-plotting) or [offline](https://plot.ly/python/getting-started/#initialization-for-offline-plotting) mode, or in [jupyter notebooks](https://plot.ly/python/getting-started/#start-plotting-online).\n",
    "<br>We also have a quick-reference [cheatsheet](https://images.plot.ly/plotly-documentation/images/python_cheat_sheet.pdf) (new!) to help you get started!"
   ]
  },
  {
   "cell_type": "markdown",
   "metadata": {},
   "source": [
    "### Version"
   ]
  },
  {
   "cell_type": "code",
   "execution_count": 1,
   "metadata": {
    "collapsed": false
   },
   "outputs": [
    {
     "data": {
      "text/plain": [
       "'0.18.1'"
      ]
     },
     "execution_count": 1,
     "metadata": {},
     "output_type": "execute_result"
    }
   ],
   "source": [
    "import sklearn\n",
    "sklearn.__version__"
   ]
  },
  {
   "cell_type": "markdown",
   "metadata": {},
   "source": [
    "### Imports"
   ]
  },
  {
   "cell_type": "code",
   "execution_count": 2,
   "metadata": {
    "collapsed": true
   },
   "outputs": [],
   "source": [
    "import plotly.plotly as py\n",
    "import plotly.graph_objs as go\n",
    "\n",
    "from __future__ import division\n",
    "import numpy as np"
   ]
  },
  {
   "cell_type": "markdown",
   "metadata": {},
   "source": [
    "### Calculations"
   ]
  },
  {
   "cell_type": "code",
   "execution_count": 3,
   "metadata": {
    "collapsed": false
   },
   "outputs": [],
   "source": [
    "def l1(xs):\n",
    "    return np.array([np.sqrt((1 - np.sqrt(x ** 2.0)) ** 2.0) for x in xs])\n",
    "\n",
    "\n",
    "def l2(xs):\n",
    "    return np.array([np.sqrt(1.0 - x ** 2.0) for x in xs])\n",
    "\n",
    "\n",
    "def el(xs, z):\n",
    "    return np.array([(2 - 2 * x - 2 * z + 4 * x * z -\n",
    "                      (4 * z ** 2\n",
    "                       - 8 * x * z ** 2\n",
    "                       + 8 * x ** 2 * z ** 2\n",
    "                       - 16 * x ** 2 * z ** 3\n",
    "                       + 8 * x * z ** 3 + 4 * x ** 2 * z ** 4) ** (1. / 2)\n",
    "                      - 2 * x * z ** 2) / (2 - 4 * z) for x in xs])\n",
    "def cross(ext):\n",
    "    p1 = go.Scatter(x=[-ext, ext], y=[0, 0], \n",
    "                    mode='lines', line=dict(color='black', width=1),\n",
    "                    showlegend=False)\n",
    "    p2 = go.Scatter(x=[0, 0], y=[-ext, ext],\n",
    "                    mode='lines', line=dict(color='black', width=1),\n",
    "                    showlegend=False)\n",
    "    return [p1, p2]\n"
   ]
  },
  {
   "cell_type": "code",
   "execution_count": 4,
   "metadata": {
    "collapsed": true
   },
   "outputs": [],
   "source": [
    "xs = np.linspace(0, 1, 100)\n",
    "\n",
    "alpha = 0.501  # 0.5 division throuh zero\n",
    "\n",
    "data = cross(1.2)\n",
    "\n",
    "l1_color = \"cyan\"\n",
    "l2_color = \"blue\"\n",
    "elastic_net_color = \"orange\"\n",
    "lw = 2"
   ]
  },
  {
   "cell_type": "code",
   "execution_count": 5,
   "metadata": {
    "collapsed": false
   },
   "outputs": [],
   "source": [
    "p1 = go.Scatter(x=xs, y=l1(xs),\n",
    "                mode='lines',\n",
    "                line=dict(color=l1_color, width=lw),\n",
    "                name=\"L1\")\n",
    "data.append(p1)\n",
    "\n",
    "p2 = go.Scatter(x=xs, y=-1.0 * l1(xs), \n",
    "                mode='lines',\n",
    "                line=dict(color=l1_color, width=lw),\n",
    "                showlegend=False)\n",
    "data.append(p2)\n",
    "\n",
    "p3 = go.Scatter(x=-1 * xs, y=l1(xs), \n",
    "                mode='lines',\n",
    "                line=dict(color=l1_color, width=lw),\n",
    "                showlegend=False)\n",
    "data.append(p3)\n",
    "\n",
    "p4 = go.Scatter(x=-1 * xs, y=-1.0 * l1(xs), \n",
    "                mode='lines',\n",
    "                line=dict(color=l1_color, width=lw),\n",
    "                showlegend=False)\n",
    "data.append(p4)\n",
    "\n",
    "p5 = go.Scatter(x=xs, y=l2(xs),\n",
    "                mode='lines',\n",
    "                line=dict(color=l2_color, width=lw),\n",
    "                name='L2')\n",
    "data.append(p5)\n",
    "\n",
    "p6 = go.Scatter(x=xs, y=-1.0 * l2(xs), \n",
    "                mode='lines',\n",
    "                line=dict(color=l2_color, width=lw),\n",
    "                showlegend=False)\n",
    "data.append(p6)\n",
    "\n",
    "p7 = go.Scatter(x=-1 * xs, y=l2(xs),\n",
    "                mode='lines',\n",
    "                line=dict(color=l2_color, width=lw),\n",
    "                showlegend=False)\n",
    "data.append(p7)\n",
    "\n",
    "p8 = go.Scatter(x=-1 * xs, y=-1.0 * l2(xs),\n",
    "                mode='lines',\n",
    "                line=dict(color=l2_color, width=lw),\n",
    "                showlegend=False) \n",
    "data.append(p8)\n",
    "\n",
    "p9 = go.Scatter(x=xs, y=el(xs, alpha), \n",
    "                mode='lines',\n",
    "                line=dict(color=elastic_net_color, width=lw),\n",
    "                name=\"Elastic Net\")\n",
    "data.append(p9)\n",
    "\n",
    "p10 = go.Scatter(x=xs, y=-1.0 * el(xs, alpha), \n",
    "                mode='lines',\n",
    "                line=dict(color=elastic_net_color, width=lw),\n",
    "                showlegend=False)\n",
    "data.append(p10)\n",
    "\n",
    "p11 = go.Scatter(x=-1 * xs, y=el(xs, alpha), \n",
    "                mode='lines',\n",
    "                line=dict(color=elastic_net_color, width=lw),\n",
    "                showlegend=False)\n",
    "data.append(p11)\n",
    "\n",
    "p12 = go.Scatter(x=-1 * xs, y=-1.0 * el(xs, alpha),\n",
    "                mode='lines',\n",
    "                line=dict(color=elastic_net_color, width=lw),\n",
    "                showlegend=False)\n",
    "data.append(p12)\n",
    "\n",
    "layout = go.Layout(xaxis=dict(title='w<sub>0</sub>', \n",
    "                              zeroline=False, showgrid=False),\n",
    "                   yaxis=dict(title='w<sub>1</sub>',\n",
    "                              zeroline=False, showgrid=False),\n",
    "                   hovermode='closest'\n",
    "                  )\n",
    "fig = go.Figure(data=data, layout=layout)"
   ]
  },
  {
   "cell_type": "code",
   "execution_count": 7,
   "metadata": {
    "collapsed": false
   },
   "outputs": [
    {
     "data": {
      "text/html": [
       "<iframe id=\"igraph\" scrolling=\"no\" style=\"border:none;\" seamless=\"seamless\" src=\"https://plot.ly/~Diksha_Gabha/3228.embed\" height=\"525px\" width=\"100%\"></iframe>"
      ],
      "text/plain": [
       "<plotly.tools.PlotlyDisplay object>"
      ]
     },
     "execution_count": 7,
     "metadata": {},
     "output_type": "execute_result"
    }
   ],
   "source": [
    "py.iplot(fig)"
   ]
  },
  {
   "cell_type": "code",
   "execution_count": 9,
   "metadata": {
    "collapsed": false
   },
   "outputs": [
    {
     "data": {
      "text/html": [
       "<link href=\"//fonts.googleapis.com/css?family=Open+Sans:600,400,300,200|Inconsolata|Ubuntu+Mono:400,700\" rel=\"stylesheet\" type=\"text/css\" />"
      ],
      "text/plain": [
       "<IPython.core.display.HTML object>"
      ]
     },
     "metadata": {},
     "output_type": "display_data"
    },
    {
     "data": {
      "text/html": [
       "<link rel=\"stylesheet\" type=\"text/css\" href=\"http://help.plot.ly/documentation/all_static/css/ipython-notebook-custom.css\">"
      ],
      "text/plain": [
       "<IPython.core.display.HTML object>"
      ]
     },
     "metadata": {},
     "output_type": "display_data"
    },
    {
     "name": "stdout",
     "output_type": "stream",
     "text": [
      "Collecting git+https://github.com/plotly/publisher.git\n",
      "  Cloning https://github.com/plotly/publisher.git to /tmp/pip-aT49ep-build\n",
      "Installing collected packages: publisher\n",
      "  Found existing installation: publisher 0.10\n",
      "    Uninstalling publisher-0.10:\n",
      "      Successfully uninstalled publisher-0.10\n",
      "  Running setup.py install for publisher ... \u001b[?25l-\b \bdone\n",
      "\u001b[?25hSuccessfully installed publisher-0.10\n"
     ]
    }
   ],
   "source": [
    "\n",
    "from IPython.display import display, HTML\n",
    "\n",
    "display(HTML('<link href=\"//fonts.googleapis.com/css?family=Open+Sans:600,400,300,200|Inconsolata|Ubuntu+Mono:400,700\" rel=\"stylesheet\" type=\"text/css\" />'))\n",
    "display(HTML('<link rel=\"stylesheet\" type=\"text/css\" href=\"http://help.plot.ly/documentation/all_static/css/ipython-notebook-custom.css\">'))\n",
    "\n",
    "! pip install git+https://github.com/plotly/publisher.git --upgrade\n",
    "import publisher\n",
    "publisher.publish(\n",
    "    'SGD Penalties.ipynb', 'scikit-learn/plot-sgd-penalties/', 'SGD Penalties | plotly',\n",
    "    '',\n",
    "    title = 'SGD Penalties | plotly',\n",
    "    name = 'SGD Penalties',\n",
    "    has_thumbnail='true', thumbnail='thumbnail/sgd-penalties.jpg', \n",
    "    language='scikit-learn', page_type='example_index',\n",
    "    display_as='linear_models', order=20,\n",
    "    ipynb= '~Diksha_Gabha/3230')"
   ]
  },
  {
   "cell_type": "code",
   "execution_count": null,
   "metadata": {
    "collapsed": true
   },
   "outputs": [],
   "source": []
  }
 ],
 "metadata": {
  "anaconda-cloud": {},
  "kernelspec": {
   "display_name": "Python [default]",
   "language": "python",
   "name": "python2"
  },
  "language_info": {
   "codemirror_mode": {
    "name": "ipython",
    "version": 2
   },
   "file_extension": ".py",
   "mimetype": "text/x-python",
   "name": "python",
   "nbconvert_exporter": "python",
   "pygments_lexer": "ipython2",
   "version": "2.7.12"
  }
 },
 "nbformat": 4,
 "nbformat_minor": 1
}
