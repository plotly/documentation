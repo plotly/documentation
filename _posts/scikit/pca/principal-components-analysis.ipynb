{
 "cells": [
  {
   "cell_type": "markdown",
   "metadata": {},
   "source": [
    "These figures aid in illustrating how a point cloud can be very flat in one direction–which is where PCA comes in to choose a direction that is not flat."
   ]
  },
  {
   "cell_type": "markdown",
   "metadata": {},
   "source": [
    "#### New to Plotly?\n",
    "Plotly's Python library is free and open source! [Get started](https://plot.ly/python/getting-started/) by downloading the client and [reading the primer](https://plot.ly/python/getting-started/).\n",
    "<br>You can set up Plotly to work in [online](https://plot.ly/python/getting-started/#initialization-for-online-plotting) or [offline](https://plot.ly/python/getting-started/#initialization-for-offline-plotting) mode, or in [jupyter notebooks](https://plot.ly/python/getting-started/#start-plotting-online).\n",
    "<br>We also have a quick-reference [cheatsheet](https://images.plot.ly/plotly-documentation/images/python_cheat_sheet.pdf) (new!) to help you get started!"
   ]
  },
  {
   "cell_type": "markdown",
   "metadata": {},
   "source": [
    "### Version"
   ]
  },
  {
   "cell_type": "code",
   "execution_count": 1,
   "metadata": {
    "collapsed": false
   },
   "outputs": [
    {
     "data": {
      "text/plain": [
       "'0.18'"
      ]
     },
     "execution_count": 1,
     "metadata": {},
     "output_type": "execute_result"
    }
   ],
   "source": [
    "import sklearn\n",
    "sklearn.__version__"
   ]
  },
  {
   "cell_type": "markdown",
   "metadata": {},
   "source": [
    "### Imports"
   ]
  },
  {
   "cell_type": "markdown",
   "metadata": {},
   "source": [
    "This tutorial imports [PCA](http://scikit-learn.org/stable/modules/generated/sklearn.decomposition.PCA.html#sklearn.decomposition.PCA)."
   ]
  },
  {
   "cell_type": "code",
   "execution_count": 2,
   "metadata": {
    "collapsed": false
   },
   "outputs": [
    {
     "name": "stdout",
     "output_type": "stream",
     "text": [
      "Automatically created module for IPython interactive environment\n"
     ]
    }
   ],
   "source": [
    "print(__doc__)\n",
    "\n",
    "import plotly.plotly as py\n",
    "import plotly.graph_objs as go\n",
    "\n",
    "from sklearn.decomposition import PCA\n",
    "\n",
    "import numpy as np\n",
    "import matplotlib.pyplot as plt\n",
    "from scipy import stats"
   ]
  },
  {
   "cell_type": "markdown",
   "metadata": {},
   "source": [
    "### Calculations"
   ]
  },
  {
   "cell_type": "markdown",
   "metadata": {},
   "source": [
    "Create the data"
   ]
  },
  {
   "cell_type": "code",
   "execution_count": 3,
   "metadata": {
    "collapsed": true
   },
   "outputs": [],
   "source": [
    "e = np.exp(1)\n",
    "np.random.seed(4)\n",
    "\n",
    "\n",
    "def pdf(x):\n",
    "    return 0.5 * (stats.norm(scale=0.25 / e).pdf(x)\n",
    "                  + stats.norm(scale=4 / e).pdf(x))\n",
    "\n",
    "y = np.random.normal(scale=0.5, size=(30000))\n",
    "x = np.random.normal(scale=0.5, size=(30000))\n",
    "z = np.random.normal(scale=0.1, size=len(x))\n",
    "\n",
    "density = pdf(x) * pdf(y)\n",
    "pdf_z = pdf(5 * z)\n",
    "\n",
    "density *= pdf_z\n",
    "\n",
    "a = x + y\n",
    "b = 2 * y\n",
    "c = a - b + z\n",
    "\n",
    "norm = np.sqrt(a.var() + b.var())\n",
    "a /= norm\n",
    "b /= norm"
   ]
  },
  {
   "cell_type": "markdown",
   "metadata": {},
   "source": [
    "### Plot Figures"
   ]
  },
  {
   "cell_type": "code",
   "execution_count": 4,
   "metadata": {
    "collapsed": false
   },
   "outputs": [],
   "source": [
    "def plot_figs(elev, azim):\n",
    "    \n",
    "    scatter = go.Scatter3d(x=a[::10], \n",
    "                           y=b[::10], \n",
    "                           z=c[::10], \n",
    "                           mode='markers',\n",
    "                           opacity=0.5,\n",
    "                           marker=dict(color='pink')\n",
    "                         )\n",
    "    Y = np.c_[a, b, c]\n",
    "\n",
    "    # Using SciPy's SVD, this would be:\n",
    "    # _, pca_score, V = scipy.linalg.svd(Y, full_matrices=False)\n",
    "\n",
    "    pca = PCA(n_components=3)\n",
    "    pca.fit(Y)\n",
    "    pca_score = pca.explained_variance_ratio_\n",
    "    V = pca.components_\n",
    "\n",
    "    x_pca_axis, y_pca_axis, z_pca_axis = V.T * pca_score / pca_score.min()\n",
    "\n",
    "    x_pca_axis, y_pca_axis, z_pca_axis = 3 * V.T\n",
    "    x_pca_plane = np.r_[x_pca_axis[:2], - x_pca_axis[1::-1]]\n",
    "    y_pca_plane = np.r_[y_pca_axis[:2], - y_pca_axis[1::-1]]\n",
    "    z_pca_plane = np.r_[z_pca_axis[:2], - z_pca_axis[1::-1]]\n",
    "    x_pca_plane.shape = (2, 2)\n",
    "    y_pca_plane.shape = (2, 2)\n",
    "    z_pca_plane.shape = (2, 2)\n",
    "    \n",
    "    surface = go.Surface(x=x_pca_plane,\n",
    "                         y=y_pca_plane, \n",
    "                         z=z_pca_plane,\n",
    "                         showscale=False,\n",
    "                        colorscale=[[0,'white'],[1,'cyan']])\n",
    "    data = [scatter, surface]\n",
    "    layout=go.Layout(scene=dict(\n",
    "                                xaxis=dict(showgrid=False, ticks='', \n",
    "                                           showticklabels=False, zeroline=False),\n",
    "                                yaxis=dict(showgrid=False, ticks='', \n",
    "                                           showticklabels=False, zeroline=False),\n",
    "                                zaxis=dict(showgrid=False, ticks='', \n",
    "                                           showticklabels=False, zeroline=False))\n",
    "                    )\n",
    "    fig = go.Figure(data=data, layout=layout)\n",
    "    return fig"
   ]
  },
  {
   "cell_type": "code",
   "execution_count": 5,
   "metadata": {
    "collapsed": false
   },
   "outputs": [
    {
     "data": {
      "text/html": [
       "<iframe id=\"igraph\" scrolling=\"no\" style=\"border:none;\" seamless=\"seamless\" src=\"https://plot.ly/~Diksha_Gabha/2928.embed\" height=\"525px\" width=\"100%\"></iframe>"
      ],
      "text/plain": [
       "<plotly.tools.PlotlyDisplay object>"
      ]
     },
     "execution_count": 5,
     "metadata": {},
     "output_type": "execute_result"
    }
   ],
   "source": [
    "elev = -40\n",
    "azim = -80\n",
    "py.iplot(plot_figs(elev, azim))"
   ]
  },
  {
   "cell_type": "code",
   "execution_count": 6,
   "metadata": {
    "collapsed": false
   },
   "outputs": [
    {
     "data": {
      "text/html": [
       "<iframe id=\"igraph\" scrolling=\"no\" style=\"border:none;\" seamless=\"seamless\" src=\"https://plot.ly/~Diksha_Gabha/2930.embed\" height=\"525px\" width=\"100%\"></iframe>"
      ],
      "text/plain": [
       "<plotly.tools.PlotlyDisplay object>"
      ]
     },
     "execution_count": 6,
     "metadata": {},
     "output_type": "execute_result"
    }
   ],
   "source": [
    "elev = 30\n",
    "azim = 20\n",
    "py.iplot(plot_figs(elev, azim))"
   ]
  },
  {
   "cell_type": "markdown",
   "metadata": {},
   "source": [
    "### License"
   ]
  },
  {
   "cell_type": "markdown",
   "metadata": {},
   "source": [
    "Authors:  \n",
    "    \n",
    "          Gael Varoquaux\n",
    "          \n",
    "          Jaques Grobler\n",
    "            \n",
    "          Kevin Hughes\n",
    "\n",
    "License: \n",
    "    \n",
    "          BSD 3 clause"
   ]
  },
  {
   "cell_type": "code",
   "execution_count": null,
   "metadata": {
    "collapsed": false
   },
   "outputs": [
    {
     "data": {
      "text/html": [
       "<link href=\"//fonts.googleapis.com/css?family=Open+Sans:600,400,300,200|Inconsolata|Ubuntu+Mono:400,700\" rel=\"stylesheet\" type=\"text/css\" />"
      ],
      "text/plain": [
       "<IPython.core.display.HTML object>"
      ]
     },
     "metadata": {},
     "output_type": "display_data"
    },
    {
     "data": {
      "text/html": [
       "<link rel=\"stylesheet\" type=\"text/css\" href=\"http://help.plot.ly/documentation/all_static/css/ipython-notebook-custom.css\">"
      ],
      "text/plain": [
       "<IPython.core.display.HTML object>"
      ]
     },
     "metadata": {},
     "output_type": "display_data"
    },
    {
     "name": "stdout",
     "output_type": "stream",
     "text": [
      "Collecting git+https://github.com/plotly/publisher.git\r\n",
      "  Cloning https://github.com/plotly/publisher.git to /tmp/pip-zqIqrE-build\r\n"
     ]
    }
   ],
   "source": [
    "\n",
    "from IPython.display import display, HTML\n",
    "\n",
    "display(HTML('<link href=\"//fonts.googleapis.com/css?family=Open+Sans:600,400,300,200|Inconsolata|Ubuntu+Mono:400,700\" rel=\"stylesheet\" type=\"text/css\" />'))\n",
    "display(HTML('<link rel=\"stylesheet\" type=\"text/css\" href=\"http://help.plot.ly/documentation/all_static/css/ipython-notebook-custom.css\">'))\n",
    "\n",
    "! pip install git+https://github.com/plotly/publisher.git --upgrade\n",
    "import publisher\n",
    "publisher.publish(\n",
    "    'principal-components-analysis.ipynb', 'scikit-learn/plot-pca-3d/', 'Principal Components Analysis (PCA) | plotly',\n",
    "    'pca',\n",
    "    title = 'Principal Components Analysis (PCA) | plotly',\n",
    "    name = 'Principal Components Analysis (PCA)',\n",
    "    has_thumbnail='true', thumbnail='thumbnail/pca.jpg', \n",
    "    language='scikit-learn', page_type='example_index',\n",
    "    display_as='decomposition', order=6,\n",
    "    ipynb= '~Diksha_Gabha/2932')"
   ]
  },
  {
   "cell_type": "code",
   "execution_count": null,
   "metadata": {
    "collapsed": true
   },
   "outputs": [],
   "source": []
  }
 ],
 "metadata": {
  "kernelspec": {
   "display_name": "Python 2",
   "language": "python",
   "name": "python2"
  },
  "language_info": {
   "codemirror_mode": {
    "name": "ipython",
    "version": 2
   },
   "file_extension": ".py",
   "mimetype": "text/x-python",
   "name": "python",
   "nbconvert_exporter": "python",
   "pygments_lexer": "ipython2",
   "version": "2.7.11"
  }
 },
 "nbformat": 4,
 "nbformat_minor": 0
}
