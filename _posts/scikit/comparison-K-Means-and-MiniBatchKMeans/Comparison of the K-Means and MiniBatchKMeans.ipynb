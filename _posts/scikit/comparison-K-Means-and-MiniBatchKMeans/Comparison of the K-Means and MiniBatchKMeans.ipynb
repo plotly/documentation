{
 "cells": [
  {
   "cell_type": "markdown",
   "metadata": {},
   "source": [
    "We want to compare the performance of the MiniBatchKMeans and KMeans: the MiniBatchKMeans is faster, but gives slightly different results (see [Mini Batch K-Means](http://scikit-learn.org/stable/modules/clustering.html#mini-batch-kmeans)).\n",
    "\n",
    "We will cluster a set of data, first with KMeans and then with MiniBatchKMeans, and plot the results. We will also plot the points that are labelled differently between the two algorithms."
   ]
  },
  {
   "cell_type": "markdown",
   "metadata": {},
   "source": [
    "#### New to Plotly?\n",
    "Plotly's Python library is free and open source! [Get started](https://plot.ly/python/getting-started/) by downloading the client and [reading the primer](https://plot.ly/python/getting-started/).\n",
    "<br>You can set up Plotly to work in [online](https://plot.ly/python/getting-started/#initialization-for-online-plotting) or [offline](https://plot.ly/python/getting-started/#initialization-for-offline-plotting) mode, or in [jupyter notebooks](https://plot.ly/python/getting-started/#start-plotting-online).\n",
    "<br>We also have a quick-reference [cheatsheet](https://images.plot.ly/plotly-documentation/images/python_cheat_sheet.pdf) (new!) to help you get started!"
   ]
  },
  {
   "cell_type": "markdown",
   "metadata": {},
   "source": [
    "### Version"
   ]
  },
  {
   "cell_type": "code",
   "execution_count": 1,
   "metadata": {
    "collapsed": false
   },
   "outputs": [
    {
     "data": {
      "text/plain": [
       "'0.18'"
      ]
     },
     "execution_count": 1,
     "metadata": {},
     "output_type": "execute_result"
    }
   ],
   "source": [
    "import sklearn\n",
    "sklearn.__version__"
   ]
  },
  {
   "cell_type": "markdown",
   "metadata": {},
   "source": [
    "### Imports"
   ]
  },
  {
   "cell_type": "markdown",
   "metadata": {},
   "source": [
    "This tutorial imports [MiniBatchKMeans](http://scikit-learn.org/stable/modules/generated/sklearn.cluster.MiniBatchKMeans.html#sklearn.cluster.MiniBatchKMeans), [KMeans](http://scikit-learn.org/stable/modules/generated/sklearn.cluster.KMeans.html#sklearn.cluster.KMeans), [pairwise_distances_argmin](http://scikit-learn.org/stable/modules/generated/sklearn.metrics.pairwise_distances_argmin.html#sklearn.metrics.pairwise_distances_argmin) and [make_blobs](http://scikit-learn.org/stable/modules/generated/sklearn.datasets.make_blobs.html#sklearn.datasets.make_blobs)."
   ]
  },
  {
   "cell_type": "code",
   "execution_count": 2,
   "metadata": {
    "collapsed": false
   },
   "outputs": [
    {
     "name": "stdout",
     "output_type": "stream",
     "text": [
      "Automatically created module for IPython interactive environment\n"
     ]
    }
   ],
   "source": [
    "print(__doc__)\n",
    "\n",
    "import plotly.plotly as py\n",
    "import plotly.graph_objs as go\n",
    "from plotly import tools\n",
    "\n",
    "import time\n",
    "import numpy as np\n",
    "\n",
    "from sklearn.cluster import MiniBatchKMeans, KMeans\n",
    "from sklearn.metrics.pairwise import pairwise_distances_argmin\n",
    "from sklearn.datasets.samples_generator import make_blobs"
   ]
  },
  {
   "cell_type": "markdown",
   "metadata": {},
   "source": [
    "### Calculations"
   ]
  },
  {
   "cell_type": "markdown",
   "metadata": {},
   "source": [
    "Generate sample data."
   ]
  },
  {
   "cell_type": "code",
   "execution_count": 3,
   "metadata": {
    "collapsed": true
   },
   "outputs": [],
   "source": [
    "np.random.seed(0)\n",
    "\n",
    "batch_size = 45\n",
    "centers = [[1, 1], [-1, -1], [1, -1]]\n",
    "n_clusters = len(centers)\n",
    "X, labels_true = make_blobs(n_samples=3000, centers=centers, cluster_std=0.7)\n"
   ]
  },
  {
   "cell_type": "markdown",
   "metadata": {},
   "source": [
    "Compute clustering with KMeans"
   ]
  },
  {
   "cell_type": "code",
   "execution_count": 4,
   "metadata": {
    "collapsed": true
   },
   "outputs": [],
   "source": [
    "k_means = KMeans(init='k-means++', n_clusters=3, n_init=10)\n",
    "t0 = time.time()\n",
    "k_means.fit(X)\n",
    "t_batch = time.time() - t0"
   ]
  },
  {
   "cell_type": "markdown",
   "metadata": {},
   "source": [
    "Compute clustering with MiniBatchKMeans"
   ]
  },
  {
   "cell_type": "code",
   "execution_count": 5,
   "metadata": {
    "collapsed": true
   },
   "outputs": [],
   "source": [
    "mbk = MiniBatchKMeans(init='k-means++', n_clusters=3, batch_size=batch_size,\n",
    "                      n_init=10, max_no_improvement=10, verbose=0)\n",
    "t0 = time.time()\n",
    "mbk.fit(X)\n",
    "t_mini_batch = time.time() - t0"
   ]
  },
  {
   "cell_type": "markdown",
   "metadata": {},
   "source": [
    "### Plot Result"
   ]
  },
  {
   "cell_type": "code",
   "execution_count": 6,
   "metadata": {
    "collapsed": true
   },
   "outputs": [],
   "source": [
    "colors = ['#4EACC5', '#FF9C34', '#4E9A06']\n",
    "\n",
    "# We want to have the same colors for the same cluster from the\n",
    "# MiniBatchKMeans and the KMeans algorithm. Let's pair the cluster centers per\n",
    "# closest one.\n",
    "k_means_cluster_centers = np.sort(k_means.cluster_centers_, axis=0)\n",
    "mbk_means_cluster_centers = np.sort(mbk.cluster_centers_, axis=0)\n",
    "k_means_labels = pairwise_distances_argmin(X, k_means_cluster_centers)\n",
    "mbk_means_labels = pairwise_distances_argmin(X, mbk_means_cluster_centers)\n",
    "order = pairwise_distances_argmin(k_means_cluster_centers,\n",
    "                                  mbk_means_cluster_centers)\n",
    "\n",
    "fig = tools.make_subplots(rows=1, cols=3,\n",
    "                          print_grid=False,\n",
    "                          subplot_titles=('KMeans<br>train time: %.2fs\\ninertia: %f' %\n",
    "                                          (t_mini_batch, mbk.inertia_),\n",
    "                                          'MiniBatchKmeans<br>train time: %.2fs\\ninertia: %f' %\n",
    "                                          (t_mini_batch, mbk.inertia_), \n",
    "                                          'Difference'))"
   ]
  },
  {
   "cell_type": "markdown",
   "metadata": {},
   "source": [
    "### K Means"
   ]
  },
  {
   "cell_type": "code",
   "execution_count": 7,
   "metadata": {
    "collapsed": true
   },
   "outputs": [],
   "source": [
    "for k, col in zip(range(n_clusters), colors):\n",
    "    my_members = k_means_labels == k\n",
    "    cluster_center = k_means_cluster_centers[k]\n",
    "    kmeans1 = go.Scatter(x=X[my_members, 0], y=X[my_members, 1],\n",
    "                         showlegend=False,\n",
    "                         mode='markers', marker=dict(color=col, size=4))\n",
    "    kmeans2 = go.Scatter(x=[cluster_center[0]], y=[cluster_center[1]],\n",
    "                         showlegend=False,\n",
    "                         mode='markers', marker=dict(color=col, size=14,\n",
    "                                                    line=dict(color='black',\n",
    "                                                              width=1)))\n",
    "    fig.append_trace(kmeans1, 1, 1)\n",
    "    fig.append_trace(kmeans2, 1, 1)\n",
    "    \n",
    "fig['layout']['xaxis1'].update(showticklabels=False, ticks='',\n",
    "                               zeroline=False, showgrid=False)\n",
    "fig['layout']['yaxis1'].update(showticklabels=False, ticks='',\n",
    "                               zeroline=False, showgrid=False)"
   ]
  },
  {
   "cell_type": "markdown",
   "metadata": {},
   "source": [
    "### MiniBatchKMeans"
   ]
  },
  {
   "cell_type": "code",
   "execution_count": 8,
   "metadata": {
    "collapsed": true
   },
   "outputs": [],
   "source": [
    "for k, col in zip(range(n_clusters), colors):\n",
    "    my_members = mbk_means_labels == order[k]\n",
    "    cluster_center = mbk_means_cluster_centers[order[k]]\n",
    "    minibatchkmeans1 = go.Scatter(x=X[my_members, 0], y=X[my_members, 1],\n",
    "                                 showlegend=False,\n",
    "                                 mode='markers', marker=dict(color=col, size=4))\n",
    "    minibatchkmeans2 = go.Scatter(x=[cluster_center[0]], y=[cluster_center[1]],\n",
    "                                 showlegend=False,\n",
    "                                 mode='markers', marker=dict(color=col, size=14,\n",
    "                                                            line=dict(color='black',\n",
    "                                                                      width=1)))\n",
    "    fig.append_trace(minibatchkmeans1, 1, 2)\n",
    "    fig.append_trace(minibatchkmeans2, 1, 2)\n",
    "\n",
    "fig['layout']['xaxis2'].update(showticklabels=False, ticks='',\n",
    "                               zeroline=False, showgrid=False)\n",
    "fig['layout']['yaxis2'].update(showticklabels=False, ticks='',\n",
    "                               zeroline=False, showgrid=False)"
   ]
  },
  {
   "cell_type": "markdown",
   "metadata": {},
   "source": [
    "### Difference"
   ]
  },
  {
   "cell_type": "code",
   "execution_count": 9,
   "metadata": {
    "collapsed": false
   },
   "outputs": [],
   "source": [
    "# Initialise the different array to all False\n",
    "different = (mbk_means_labels == 4)\n",
    "\n",
    "for k in range(n_clusters):\n",
    "    different += ((k_means_labels == k) != (mbk_means_labels == order[k]))\n",
    "\n",
    "identic = np.logical_not(different)\n",
    "difference1 = go.Scatter(x=X[identic, 0], y=X[identic, 1],\n",
    "                         showlegend=False,\n",
    "                         mode='markers', marker=dict(color='#bbbbbb', size=4))\n",
    "        \n",
    "difference2 = go.Scatter(x=X[different, 0], y=X[different, 1], \n",
    "                         showlegend=False,\n",
    "                         mode='markers', marker=dict(color='magenta', size=4))\n",
    "\n",
    "fig.append_trace(difference1, 1, 3)\n",
    "fig.append_trace(difference2, 1, 3)\n",
    "\n",
    "fig['layout']['xaxis3'].update(showticklabels=False, ticks='',\n",
    "                               zeroline=False, showgrid=False)\n",
    "fig['layout']['yaxis3'].update(showticklabels=False, ticks='',\n",
    "                               zeroline=False, showgrid=False)"
   ]
  },
  {
   "cell_type": "code",
   "execution_count": 10,
   "metadata": {
    "collapsed": false
   },
   "outputs": [
    {
     "name": "stderr",
     "output_type": "stream",
     "text": [
      "/home/diksha/.local/lib/python2.7/site-packages/plotly/tools.py:1392: UserWarning:\n",
      "\n",
      "Looks like you used a newline character: '\\n'.\n",
      "\n",
      "Plotly uses a subset of HTML escape characters\n",
      "to do things like newline (<br>), bold (<b></b>),\n",
      "italics (<i></i>), etc. Your newline characters \n",
      "have been converted to '<br>' so they will show \n",
      "up right on your Plotly figure!\n",
      "\n"
     ]
    },
    {
     "data": {
      "text/html": [
       "<iframe id=\"igraph\" scrolling=\"no\" style=\"border:none;\" seamless=\"seamless\" src=\"https://plot.ly/~Diksha_Gabha/2781.embed\" height=\"525px\" width=\"100%\"></iframe>"
      ],
      "text/plain": [
       "<plotly.tools.PlotlyDisplay object>"
      ]
     },
     "execution_count": 10,
     "metadata": {},
     "output_type": "execute_result"
    }
   ],
   "source": [
    "py.iplot(fig)"
   ]
  },
  {
   "cell_type": "code",
   "execution_count": 2,
   "metadata": {
    "collapsed": false
   },
   "outputs": [
    {
     "data": {
      "text/html": [
       "<link href=\"//fonts.googleapis.com/css?family=Open+Sans:600,400,300,200|Inconsolata|Ubuntu+Mono:400,700\" rel=\"stylesheet\" type=\"text/css\" />"
      ],
      "text/plain": [
       "<IPython.core.display.HTML object>"
      ]
     },
     "metadata": {},
     "output_type": "display_data"
    },
    {
     "data": {
      "text/html": [
       "<link rel=\"stylesheet\" type=\"text/css\" href=\"http://help.plot.ly/documentation/all_static/css/ipython-notebook-custom.css\">"
      ],
      "text/plain": [
       "<IPython.core.display.HTML object>"
      ]
     },
     "metadata": {},
     "output_type": "display_data"
    },
    {
     "name": "stdout",
     "output_type": "stream",
     "text": [
      "Collecting git+https://github.com/plotly/publisher.git\n",
      "  Cloning https://github.com/plotly/publisher.git to /tmp/pip-nC92g9-build\n",
      "Installing collected packages: publisher\n",
      "  Running setup.py install for publisher ... \u001b[?25l-\b \berror\n",
      "    Complete output from command /usr/bin/python -u -c \"import setuptools, tokenize;__file__='/tmp/pip-nC92g9-build/setup.py';exec(compile(getattr(tokenize, 'open', open)(__file__).read().replace('\\r\\n', '\\n'), __file__, 'exec'))\" install --record /tmp/pip-tT99EH-record/install-record.txt --single-version-externally-managed --compile:\n",
      "    running install\n",
      "    running build\n",
      "    running build_py\n",
      "    creating build\n",
      "    creating build/lib.linux-x86_64-2.7\n",
      "    creating build/lib.linux-x86_64-2.7/publisher\n",
      "    copying publisher/publisher.py -> build/lib.linux-x86_64-2.7/publisher\n",
      "    copying publisher/__init__.py -> build/lib.linux-x86_64-2.7/publisher\n",
      "    running install_lib\n",
      "    creating /usr/local/lib/python2.7/dist-packages/publisher\n",
      "    error: could not create '/usr/local/lib/python2.7/dist-packages/publisher': Permission denied\n",
      "    \n",
      "    ----------------------------------------\n",
      "\u001b[31mCommand \"/usr/bin/python -u -c \"import setuptools, tokenize;__file__='/tmp/pip-nC92g9-build/setup.py';exec(compile(getattr(tokenize, 'open', open)(__file__).read().replace('\\r\\n', '\\n'), __file__, 'exec'))\" install --record /tmp/pip-tT99EH-record/install-record.txt --single-version-externally-managed --compile\" failed with error code 1 in /tmp/pip-nC92g9-build/\u001b[0m\n",
      "\u001b[33mYou are using pip version 8.1.2, however version 9.0.1 is available.\n",
      "You should consider upgrading via the 'pip install --upgrade pip' command.\u001b[0m\n",
      "\u001b[?25h"
     ]
    }
   ],
   "source": [
    "from IPython.display import display, HTML\n",
    "\n",
    "display(HTML('<link href=\"//fonts.googleapis.com/css?family=Open+Sans:600,400,300,200|Inconsolata|Ubuntu+Mono:400,700\" rel=\"stylesheet\" type=\"text/css\" />'))\n",
    "display(HTML('<link rel=\"stylesheet\" type=\"text/css\" href=\"http://help.plot.ly/documentation/all_static/css/ipython-notebook-custom.css\">'))\n",
    "\n",
    "! pip install git+https://github.com/plotly/publisher.git --upgrade\n",
    "import publisher\n",
    "publisher.publish(\n",
    "    'Comparison of the K-Means and MiniBatchKMeans.ipynb', 'scikit-learn/plot-mini-batch-kmeans/', 'Comparison of the K-Means and MiniBatchKMeans clustering algorithms | plotly',\n",
    "    ' ',\n",
    "    title = 'Comparison of the K-Means and MiniBatchKMeans clustering algorithms | plotly',\n",
    "    name = 'Comparison of the K-Means and MiniBatchKMeans clustering algorithms',\n",
    "    has_thumbnail='true', thumbnail='thumbnail/kmeans-vs-minibatch.jpg', \n",
    "    language='scikit-learn', page_type='example_index',\n",
    "    display_as='clustering', order=11,\n",
    "    ipynb= '~Diksha_Gabha/2783')"
   ]
  },
  {
   "cell_type": "code",
   "execution_count": null,
   "metadata": {
    "collapsed": true
   },
   "outputs": [],
   "source": []
  }
 ],
 "metadata": {
  "kernelspec": {
   "display_name": "Python 2",
   "language": "python",
   "name": "python2"
  },
  "language_info": {
   "codemirror_mode": {
    "name": "ipython",
    "version": 2
   },
   "file_extension": ".py",
   "mimetype": "text/x-python",
   "name": "python",
   "nbconvert_exporter": "python",
   "pygments_lexer": "ipython2",
   "version": "2.7.11"
  }
 },
 "nbformat": 4,
 "nbformat_minor": 0
}
