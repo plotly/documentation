{
 "cells": [
  {
   "cell_type": "markdown",
   "metadata": {},
   "source": [
    "Modeling species’ geographic distributions is an important problem in conservation biology. In this example we model the geographic distribution of two south american mammals given past observations and 14 environmental variables. Since we have only positive examples (there are no unsuccessful observations), we cast this problem as a density estimation problem and use the OneClassSVM provided by the package sklearn.svm as our modeling tool. The dataset is provided by Phillips et. al. (2006).\n",
    "The two species are:\n",
    "\n",
    "* “[Bradypus variegatus](http://www.iucnredlist.org/details/3038/0)” , the Brown-throated Sloth.\n",
    "* “[Microryzomys minutus](http://www.iucnredlist.org/details/13408/0)” , also known as the Forest Small Rice Rat, a rodent that lives in Peru, Colombia, Ecuador, Peru, and Venezuela."
   ]
  },
  {
   "cell_type": "markdown",
   "metadata": {},
   "source": [
    "### References"
   ]
  },
  {
   "cell_type": "markdown",
   "metadata": {},
   "source": [
    "* “[Maximum entropy modeling of species geographic distributions](http://www.cs.princeton.edu/~schapire/papers/ecolmod.pdf)” S. J. Phillips, R. P. Anderson, R. E. Schapire - Ecological Modelling, 190:231-259, 2006."
   ]
  },
  {
   "cell_type": "markdown",
   "metadata": {},
   "source": [
    "#### New to Plotly?\n",
    "Plotly's Python library is free and open source! [Get started](https://plot.ly/python/getting-started/) by downloading the client and [reading the primer](https://plot.ly/python/getting-started/).\n",
    "<br>You can set up Plotly to work in [online](https://plot.ly/python/getting-started/#initialization-for-online-plotting) or [offline](https://plot.ly/python/getting-started/#initialization-for-offline-plotting) mode, or in [jupyter notebooks](https://plot.ly/python/getting-started/#start-plotting-online).\n",
    "<br>We also have a quick-reference [cheatsheet](https://images.plot.ly/plotly-documentation/images/python_cheat_sheet.pdf) (new!) to help you get started!"
   ]
  },
  {
   "cell_type": "markdown",
   "metadata": {},
   "source": [
    "### Version"
   ]
  },
  {
   "cell_type": "code",
   "execution_count": 1,
   "metadata": {
    "collapsed": false
   },
   "outputs": [
    {
     "data": {
      "text/plain": [
       "'0.18'"
      ]
     },
     "execution_count": 1,
     "metadata": {},
     "output_type": "execute_result"
    }
   ],
   "source": [
    "import sklearn\n",
    "sklearn.__version__"
   ]
  },
  {
   "cell_type": "markdown",
   "metadata": {},
   "source": [
    "### Imports"
   ]
  },
  {
   "cell_type": "markdown",
   "metadata": {},
   "source": [
    "This tutorial imports [fetch_species_distributions](http://scikit-learn.org/stable/modules/generated/sklearn.datasets.fetch_species_distributions.html#sklearn.datasets.fetch_species_distributions)."
   ]
  },
  {
   "cell_type": "code",
   "execution_count": 2,
   "metadata": {
    "collapsed": false
   },
   "outputs": [
    {
     "name": "stdout",
     "output_type": "stream",
     "text": [
      "Automatically created module for IPython interactive environment\n"
     ]
    }
   ],
   "source": [
    "import plotly.graph_objs as go\n",
    "import plotly.plotly as py\n",
    "\n",
    "from __future__ import print_function\n",
    "\n",
    "from time import time\n",
    "import numpy as np\n",
    "\n",
    "from sklearn.datasets.base import Bunch\n",
    "from sklearn.datasets import fetch_species_distributions\n",
    "from sklearn.datasets.species_distributions import construct_grids\n",
    "from sklearn import svm, metrics\n",
    "\n",
    "print(__doc__)"
   ]
  },
  {
   "cell_type": "markdown",
   "metadata": {},
   "source": [
    "### Calculaions"
   ]
  },
  {
   "cell_type": "code",
   "execution_count": 3,
   "metadata": {
    "collapsed": false
   },
   "outputs": [],
   "source": [
    "\n",
    "def create_species_bunch(species_name, train, test, coverages, xgrid, ygrid):\n",
    "    \"\"\"Create a bunch with information about a particular organism\n",
    "\n",
    "    This will use the test/train record arrays to extract the\n",
    "    data specific to the given species name.\n",
    "    \"\"\"\n",
    "    bunch = Bunch(name=' '.join(species_name.split(\"_\")[:2]))\n",
    "    species_name = species_name.encode('ascii')\n",
    "    points = dict(test=test, train=train)\n",
    "\n",
    "    for label, pts in points.items():\n",
    "        # choose points associated with the desired species\n",
    "        pts = pts[pts['species'] == species_name]\n",
    "        bunch['pts_%s' % label] = pts\n",
    "\n",
    "        # determine coverage values for each of the training & testing points\n",
    "        ix = np.searchsorted(xgrid, pts['dd long'])\n",
    "        iy = np.searchsorted(ygrid, pts['dd lat'])\n",
    "        bunch['cov_%s' % label] = coverages[:, -iy, ix].T\n",
    "\n",
    "    return bunch"
   ]
  },
  {
   "cell_type": "markdown",
   "metadata": {},
   "source": [
    "### Plotting"
   ]
  },
  {
   "cell_type": "code",
   "execution_count": 5,
   "metadata": {
    "collapsed": false
   },
   "outputs": [
    {
     "name": "stdout",
     "output_type": "stream",
     "text": [
      "________________________________________________________________________________\n",
      "Modeling distribution of species 'bradypus variegatus'\n",
      " - fit OneClassSVM ... done.\n",
      " - predict species distribution\n",
      "\n",
      " Area under the ROC curve : 0.868443\n",
      "________________________________________________________________________________\n",
      "Modeling distribution of species 'microryzomys minutus'\n",
      " - fit OneClassSVM ... done.\n",
      " - predict species distribution\n",
      "\n",
      " Area under the ROC curve : 0.993919\n",
      "\n",
      "time elapsed: 3.80s\n"
     ]
    }
   ],
   "source": [
    "\n",
    "final_plot_data=[]\n",
    "final_plot_layout=[]\n",
    "name = []\n",
    "name.append(\"Bradypus variegatus\")\n",
    "name.append(\"Microryzomys minutus\")\n",
    "\n",
    "species=(\"bradypus_variegatus_0\",\"microryzomys_minutus_0\")\n",
    "\n",
    "\"\"\"\n",
    "Plot the species distribution.\n",
    "\"\"\"\n",
    "\n",
    "if len(species) > 2:\n",
    "    print(\"Note: when more than two species are provided,\"\n",
    "          \" only the first two will be used\")\n",
    "\n",
    "t0 = time()\n",
    "\n",
    "# Load the compressed data\n",
    "data = fetch_species_distributions()\n",
    "\n",
    "# Set up the data grid\n",
    "xgrid, ygrid = construct_grids(data)\n",
    "\n",
    "# The grid in x,y coordinates\n",
    "X, Y = np.meshgrid(xgrid, ygrid[::-1])\n",
    "\n",
    "# create a bunch for each species\n",
    "BV_bunch = create_species_bunch(species[0],\n",
    "                                data.train, data.test,\n",
    "                                data.coverages, xgrid, ygrid)\n",
    "MM_bunch = create_species_bunch(species[1],\n",
    "                                data.train, data.test,\n",
    "                                data.coverages, xgrid, ygrid)\n",
    "\n",
    "# background points (grid coordinates) for evaluation\n",
    "np.random.seed(13)\n",
    "background_points = np.c_[np.random.randint(low=0, high=data.Ny,\n",
    "                                            size=10000),\n",
    "                          np.random.randint(low=0, high=data.Nx,\n",
    "                                            size=10000)].T\n",
    "\n",
    "# We'll make use of the fact that coverages[6] has measurements at all\n",
    "# land points.  This will help us decide between land and water.\n",
    "land_reference = data.coverages[6]\n",
    "\n",
    "# Fit, predict, and plot for each species.\n",
    "for i, species in enumerate([BV_bunch, MM_bunch]):\n",
    "    print(\"_\" * 80)\n",
    "    print(\"Modeling distribution of species '%s'\" % species.name)\n",
    "\n",
    "    # Standardize features\n",
    "    mean = species.cov_train.mean(axis=0)\n",
    "    std = species.cov_train.std(axis=0)\n",
    "    train_cover_std = (species.cov_train - mean) / std\n",
    "\n",
    "    # Fit OneClassSVM\n",
    "    print(\" - fit OneClassSVM ... \", end='')\n",
    "    clf = svm.OneClassSVM(nu=0.1, kernel=\"rbf\", gamma=0.5)\n",
    "    clf.fit(train_cover_std)\n",
    "    print(\"done.\")\n",
    "       \n",
    "    print(\" - predict species distribution\")\n",
    "\n",
    "    # Predict species distribution using the training data\n",
    "    Z = np.ones((data.Ny, data.Nx), dtype=np.float64)\n",
    "\n",
    "    # We'll predict only for the land points.\n",
    "    idx = np.where(land_reference > -9999)\n",
    "    coverages_land = data.coverages[:, idx[0], idx[1]].T\n",
    "\n",
    "    pred = clf.decision_function((coverages_land - mean) / std)[:, 0]\n",
    "    Z *= pred.min()\n",
    "    Z[idx[0], idx[1]] = pred\n",
    "\n",
    "    levels = np.linspace(Z.min(), Z.max(), 25)\n",
    "    Z[land_reference == -9999] = -9999\n",
    "   \n",
    "    data1 = [\n",
    "        dict(\n",
    "            lat = species.pts_train['dd lat'] ,\n",
    "            lon = species.pts_train['dd long'],\n",
    "            marker = dict(\n",
    "                    color ='red',\n",
    "                    size=5),\n",
    "            name=\"Train\",\n",
    "            type = 'scattergeo') ,\n",
    "        dict(\n",
    "            lat = species.pts_test['dd lat'] ,\n",
    "            lon = species.pts_test['dd long'],\n",
    "            marker = dict(\n",
    "                    color = 'green',\n",
    "                    size=5 ),\n",
    "            type = 'scattergeo',\n",
    "            name=\"Test\") \n",
    "    ]\n",
    "    \n",
    "    final_plot_data.append(data1)\n",
    "\n",
    "    layout = dict(\n",
    "        title=name[i],\n",
    "        height=700,\n",
    "        geo = dict(\n",
    "            scope = 'south america',\n",
    "            showland = True,\n",
    "            landcolor = \"rgb(255, 240, 225)\",\n",
    "            showlakes = True,\n",
    "            lakecolor = \"rgb(255, 255, 255)\",\n",
    "            showcountries = True,\n",
    "             projection = dict(\n",
    "                type = 'conic conformal',\n",
    "                rotation = dict(\n",
    "                    lon = -100)),\n",
    "            lonaxis = dict(\n",
    "                showgrid = False),\n",
    "            lataxis = dict (\n",
    "                showgrid = False),\n",
    "        ))\n",
    "    \n",
    "    final_plot_layout.append(layout)\n",
    "    \n",
    "    # Compute AUC with regards to background points\n",
    "    pred_background = Z[background_points[0], background_points[1]]\n",
    "    pred_test = clf.decision_function((species.cov_test - mean)\n",
    "                                      / std)[:, 0]\n",
    "    scores = np.r_[pred_test, pred_background]\n",
    "    y = np.r_[np.ones(pred_test.shape), np.zeros(pred_background.shape)]\n",
    "    fpr, tpr, thresholds = metrics.roc_curve(y, scores)\n",
    "    roc_auc = metrics.auc(fpr, tpr)\n",
    "   \n",
    "    print(\"\\n Area under the ROC curve : %f\" % roc_auc)\n",
    "\n",
    "print(\"\\ntime elapsed: %.2fs\" % (time() - t0))"
   ]
  },
  {
   "cell_type": "code",
   "execution_count": 6,
   "metadata": {
    "collapsed": false
   },
   "outputs": [
    {
     "data": {
      "text/html": [
       "<iframe id=\"igraph\" scrolling=\"no\" style=\"border:none;\" seamless=\"seamless\" src=\"https://plot.ly/~Diksha_Gabha/2643.embed\" height=\"700px\" width=\"100%\"></iframe>"
      ],
      "text/plain": [
       "<plotly.tools.PlotlyDisplay object>"
      ]
     },
     "execution_count": 6,
     "metadata": {},
     "output_type": "execute_result"
    }
   ],
   "source": [
    "fig = {'data':final_plot_data[0], 'layout':final_plot_layout[0]}\n",
    "py.iplot(fig)"
   ]
  },
  {
   "cell_type": "code",
   "execution_count": 7,
   "metadata": {
    "collapsed": false
   },
   "outputs": [
    {
     "data": {
      "text/html": [
       "<iframe id=\"igraph\" scrolling=\"no\" style=\"border:none;\" seamless=\"seamless\" src=\"https://plot.ly/~Diksha_Gabha/2645.embed\" height=\"700px\" width=\"100%\"></iframe>"
      ],
      "text/plain": [
       "<plotly.tools.PlotlyDisplay object>"
      ]
     },
     "execution_count": 7,
     "metadata": {},
     "output_type": "execute_result"
    }
   ],
   "source": [
    "fig = { 'data':final_plot_data[1], 'layout':final_plot_layout[1] }\n",
    "py.iplot(fig)"
   ]
  },
  {
   "cell_type": "markdown",
   "metadata": {},
   "source": [
    "### License"
   ]
  },
  {
   "cell_type": "markdown",
   "metadata": {},
   "source": [
    " Authors:\n",
    " \n",
    "          Peter Prettenhofer <peter.prettenhofer@gmail.com>\n",
    "          Jake Vanderplas <vanderplas@astro.washington.edu>\n",
    "\n",
    " License: \n",
    "  \n",
    "          BSD 3 clause"
   ]
  },
  {
   "cell_type": "code",
   "execution_count": null,
   "metadata": {
    "collapsed": false
   },
   "outputs": [
    {
     "data": {
      "text/html": [
       "<link href=\"//fonts.googleapis.com/css?family=Open+Sans:600,400,300,200|Inconsolata|Ubuntu+Mono:400,700\" rel=\"stylesheet\" type=\"text/css\" />"
      ],
      "text/plain": [
       "<IPython.core.display.HTML object>"
      ]
     },
     "metadata": {},
     "output_type": "display_data"
    },
    {
     "data": {
      "text/html": [
       "<link rel=\"stylesheet\" type=\"text/css\" href=\"http://help.plot.ly/documentation/all_static/css/ipython-notebook-custom.css\">"
      ],
      "text/plain": [
       "<IPython.core.display.HTML object>"
      ]
     },
     "metadata": {},
     "output_type": "display_data"
    },
    {
     "name": "stdout",
     "output_type": "stream",
     "text": [
      "Collecting git+https://github.com/plotly/publisher.git\r\n",
      "  Cloning https://github.com/plotly/publisher.git to /tmp/pip-ufkEQ2-build\r\n"
     ]
    }
   ],
   "source": [
    "from IPython.display import display, HTML\n",
    "\n",
    "display(HTML('<link href=\"//fonts.googleapis.com/css?family=Open+Sans:600,400,300,200|Inconsolata|Ubuntu+Mono:400,700\" rel=\"stylesheet\" type=\"text/css\" />'))\n",
    "display(HTML('<link rel=\"stylesheet\" type=\"text/css\" href=\"http://help.plot.ly/documentation/all_static/css/ipython-notebook-custom.css\">'))\n",
    "\n",
    "! pip install git+https://github.com/plotly/publisher.git --upgrade\n",
    "import publisher\n",
    "publisher.publish(\n",
    "    'species-distribution.ipynb', 'scikit-learn/plot-species-distribution-modeling/', 'Species Distribution Modeling | plotly',\n",
    "    '',\n",
    "    title = 'Species Distribution Modeling | plotly',\n",
    "    name = 'Species Distribution Modeling',\n",
    "    has_thumbnail='true', thumbnail='thumbnail/species.jpg', \n",
    "    language='scikit-learn', page_type='example_index',\n",
    "    display_as='real_dataset', order=7,\n",
    "    ipynb='~Diksha_Gabha/2672')  "
   ]
  },
  {
   "cell_type": "code",
   "execution_count": null,
   "metadata": {
    "collapsed": true
   },
   "outputs": [],
   "source": []
  }
 ],
 "metadata": {
  "kernelspec": {
   "display_name": "Python 2",
   "language": "python",
   "name": "python2"
  },
  "language_info": {
   "codemirror_mode": {
    "name": "ipython",
    "version": 2
   },
   "file_extension": ".py",
   "mimetype": "text/x-python",
   "name": "python",
   "nbconvert_exporter": "python",
   "pygments_lexer": "ipython2",
   "version": "2.7.11"
  }
 },
 "nbformat": 4,
 "nbformat_minor": 0
}
