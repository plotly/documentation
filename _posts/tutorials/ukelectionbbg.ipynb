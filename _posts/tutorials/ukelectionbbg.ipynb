{
 "cells": [
  {
   "cell_type": "markdown",
   "metadata": {},
   "source": [
    "# Plot market price action in GBP/USD around UK general elections"
   ]
  },
  {
   "cell_type": "markdown",
   "metadata": {},
   "source": [
    "By Saeed Amen (@thalesians) - Managing Director & Co-founder of [the Thalesians](http://www.thalesians.com)"
   ]
  },
  {
   "cell_type": "markdown",
   "metadata": {},
   "source": [
    "## Introduction"
   ]
  },
  {
   "cell_type": "markdown",
   "metadata": {},
   "source": [
    "With the UK general election in early May 2015, we thought it would be a fun exercise to demonstrate how you can investigate market price action over historial elections. We shall be using Python, together with Plotly for plotting. Plotly is a free web-based platform for making graphs. You can keep graphs private, make them public, and run Plotly on your [Plotly Enterprise on your own servers](https://plot.ly/product/enterprise/). You can find more details [here](https://plot.ly/python/getting-started/)."
   ]
  },
  {
   "cell_type": "markdown",
   "metadata": {},
   "source": [
    "## Getting market data with Bloomberg"
   ]
  },
  {
   "cell_type": "markdown",
   "metadata": {},
   "source": [
    "To get market data, we shall be using Bloomberg. As a starting point, we have used bbg_py from [Brian Smith's TIA project](https://github.com/bpsmith/tia/tree/master/tia/bbg), which allows you to access Bloomberg via COM (older method), modifying it to make it compatible for Python 3.4. Whilst, we shall note use it to access historical daily data, there are functions which enable us to download intraday data. This method is only compatible with 32 bit versions of Python and assumes you are running the code on a Bloomberg terminal (it won't work without a valid Bloomberg licence).\n",
    "\n",
    "In my opinion a better way to access Bloomberg via Python, is via the official Bloomberg open source Python API, however, at time of writing the official version is not yet compatible with Python 3.4. Fil Mackay has created a Python 3.4 compatible version of this [here](https://github.com/filmackay/blpapi-py), which I have used successfully. Whilst it takes slightly more time to configure (and compile using Windows SDK 7.1), it has the benefit of being compatible with 64 bit Python, which I have found invaluable in my analysis (have a read of [this](http://ta.speot.is/2012/04/09/visual-studio-2010-sp1-windows-sdk-7-1-install-order/) in case of failed installations of Windows SDK 7.1).\n",
    "\n",
    "Quandl can be used as an alternative data source, if you don't have access to a Bloomberg terminal, which I have also included in the code."
   ]
  },
  {
   "cell_type": "markdown",
   "metadata": {},
   "source": [
    "## Breaking down the steps in Python"
   ]
  },
  {
   "cell_type": "markdown",
   "metadata": {},
   "source": [
    "Our project will consist of several parts:\n",
    "- bbg_com - low level interaction with BBG COM object (adapted for Python 3.4) (which we are simply calling)\n",
    "- datadownloader - wrapper for BBG COM, Quandl and CSV access to data\n",
    "- eventplot - reusuable functions for interacting with Plotly and creating event studies\n",
    "- ukelection - kicks off the whole script process"
   ]
  },
  {
   "cell_type": "markdown",
   "metadata": {},
   "source": [
    "### Downloading the market data"
   ]
  },
  {
   "cell_type": "markdown",
   "metadata": {},
   "source": [
    "As with any sort of financial market analysis, the first step is obtaining market data. We create the DataDownloader class, which acts a wrapper for Bloomberg, Quandl and CSV market data. We write a single function \"download_time_series\" for this. We could of course extend this for other data sources such as Yahoo Finance. Our output will be Pandas based dataframes. We want to make this code generic, so the tickers are not hard coded."
   ]
  },
  {
   "cell_type": "code",
   "execution_count": 1,
   "metadata": {
    "collapsed": false
   },
   "outputs": [],
   "source": [
    "# for time series manipulation\n",
    "import pandas\n",
    "\n",
    "class DataDownloader:\n",
    "    def download_time_series(self, vendor_ticker, pretty_ticker, start_date, source, csv_file = None):\n",
    "\n",
    "        if source == 'Quandl':\n",
    "            import Quandl\n",
    "            # Quandl requires API key for large number of daily downloads\n",
    "            # https://www.quandl.com/help/api\n",
    "            spot = Quandl.get(vendor_ticker)    # Bank of England's database on Quandl\n",
    "            spot = pandas.DataFrame(data=spot['Value'], index=spot.index)\n",
    "            spot.columns = [pretty_ticker]\n",
    "\n",
    "        elif source == 'Bloomberg':\n",
    "            from bbg_com import HistoricalDataRequest\n",
    "            req = HistoricalDataRequest([vendor_ticker], ['PX_LAST'], start = start_date)\n",
    "            req.execute()\n",
    "\n",
    "            spot = req.response_as_single()\n",
    "            spot.columns = [pretty_ticker]\n",
    "        elif source == 'CSV':\n",
    "            dateparse = lambda x: pandas.datetime.strptime(x, '%Y-%m-%d')\n",
    "\n",
    "            # in case you want to use a source other than Bloomberg/Quandl\n",
    "            spot = pandas.read_csv(csv_file, index_col=0, parse_dates=0, date_parser=dateparse)\n",
    "\n",
    "        return spot"
   ]
  },
  {
   "cell_type": "markdown",
   "metadata": {},
   "source": [
    "### Generic functions for event study and Plotly plotting"
   ]
  },
  {
   "cell_type": "markdown",
   "metadata": {},
   "source": [
    "We now focus our efforts on the EventPlot class. Here we shall do our basic analysis. We shall aslo create functions for creating plotly traces and layouts that we shall reuse a number of times. The analysis we shall conduct is fairly simple. Given a time series of spot, and a number of dates, we shall create an event study around these times for that asset. We also include the \"Mean\" move over all the various dates."
   ]
  },
  {
   "cell_type": "code",
   "execution_count": 2,
   "metadata": {
    "collapsed": false
   },
   "outputs": [],
   "source": [
    "# for dates\n",
    "import datetime\n",
    "\n",
    "# time series manipulation\n",
    "import pandas\n",
    "\n",
    "# for plotting data\n",
    "import plotly\n",
    "from plotly.graph_objs import *\n",
    "\n",
    "class EventPlot:    \n",
    "    def event_study(self, spot, dates, pre, post, mean_label = 'Mean'):\n",
    "        # event_study - calculates the asset price moves over windows around event days\n",
    "        #\n",
    "        # spot = price of asset to study\n",
    "        # dates = event days to anchor our event study\n",
    "        # pre = days before the event day to start our study\n",
    "        # post = days after the event day to start our study\n",
    "        #\n",
    "\n",
    "        data_frame = pandas.DataFrame()\n",
    "\n",
    "        # for each date grab spot data the days before and after\n",
    "        for i in range(0, len(dates)):\n",
    "            mid_index = spot.index.searchsorted(dates[i])\n",
    "            start_index = mid_index + pre\n",
    "            finish_index = mid_index + post + 1\n",
    "\n",
    "            x = (spot.ix[start_index:finish_index])[spot.columns.values[0]]\n",
    "\n",
    "            data_frame[dates[i]] = x.values\n",
    "\n",
    "        data_frame.index = range(pre, post + 1)\n",
    "\n",
    "        data_frame = data_frame / data_frame.shift(1) - 1   # returns\n",
    "\n",
    "        # add the mean on to the end\n",
    "        data_frame[mean_label] = data_frame.mean(axis=1)\n",
    "\n",
    "        data_frame = 100.0 * (1.0 + data_frame).cumprod()   # index\n",
    "        data_frame.ix[pre,:] = 100\n",
    "\n",
    "        return data_frame"
   ]
  },
  {
   "cell_type": "markdown",
   "metadata": {},
   "source": [
    "We write a function to convert dates represented in a string format to Python format."
   ]
  },
  {
   "cell_type": "code",
   "execution_count": 3,
   "metadata": {
    "collapsed": false
   },
   "outputs": [],
   "source": [
    "    def parse_dates(self, str_dates):\n",
    "        # parse_dates - parses string dates into Python format\n",
    "        #\n",
    "        # str_dates = dates to be parsed in the format of day/month/year\n",
    "        #\n",
    "\n",
    "        dates = []\n",
    "\n",
    "        for d in str_dates:\n",
    "            dates.append(datetime.datetime.strptime(d, '%d/%m/%Y'))\n",
    "\n",
    "        return dates\n",
    "    \n",
    "    EventPlot.parse_dates = parse_dates"
   ]
  },
  {
   "cell_type": "markdown",
   "metadata": {},
   "source": [
    "Our next focus is on the Plotly functions which create a layout. This enables us to specify axes labels, the width and height of the final plot and so on. We could of course add further properties into it."
   ]
  },
  {
   "cell_type": "code",
   "execution_count": 4,
   "metadata": {
    "collapsed": false
   },
   "outputs": [],
   "source": [
    "    def create_layout(self, title, xaxis, yaxis, width = -1, height = -1):\n",
    "        # create_layout - populates a layout object\n",
    "        # title = title of the plot\n",
    "        # xaxis = xaxis label\n",
    "        # yaxis = yaxis label\n",
    "        # width (optional) = width of plot\n",
    "        # height (optional) = height of plot\n",
    "        #\n",
    "\n",
    "        layout = Layout(\n",
    "                    title = title,\n",
    "                    xaxis = plotly.graph_objs.XAxis(\n",
    "                        title = xaxis,\n",
    "                        showgrid = False\n",
    "                ),\n",
    "                    yaxis = plotly.graph_objs.YAxis(\n",
    "                        title= yaxis,\n",
    "                        showline = False\n",
    "                )\n",
    "            )\n",
    "\n",
    "        if width > 0 and height > 0:\n",
    "            layout['width'] = width\n",
    "            layout['height'] = height\n",
    "\n",
    "        return layout\n",
    "    \n",
    "    EventPlot.create_layout = create_layout"
   ]
  },
  {
   "cell_type": "markdown",
   "metadata": {},
   "source": [
    "Earlier, in the DataDownloader class, our output was Pandas based dataframes. Our convert_df_plotly function will convert these each series from Pandas dataframe into plotly traces. Along the way, we shall add various properties such as markers with varying levels of opacity, graduated coloring of lines (which uses colorlover) and so on."
   ]
  },
  {
   "cell_type": "code",
   "execution_count": 5,
   "metadata": {
    "collapsed": false
   },
   "outputs": [],
   "source": [
    "    def convert_df_plotly(self, dataframe, axis_no = 1, color_def = ['default'],\n",
    "                          special_line = 'Mean', showlegend = True, addmarker = False, gradcolor = None):\n",
    "        # convert_df_plotly - converts a Pandas data frame to Plotly format for line plots\n",
    "        # dataframe = data frame due to be converted\n",
    "        # axis_no = axis for plot to be drawn (default = 1)\n",
    "        # special_line = make lines named this extra thick\n",
    "        # color_def = color scheme to be used (default = ['default']), colour will alternate in the list\n",
    "        # showlegend = True or False to show legend of this line on plot\n",
    "        # addmarker = True or False to add markers\n",
    "        # gradcolor = Create a graduated color scheme for the lines\n",
    "        #\n",
    "        # Also see http://nbviewer.ipython.org/gist/nipunreddevil/7734529 for converting dataframe to traces\n",
    "        # Also see http://moderndata.plot.ly/color-scales-in-ipython-notebook/\n",
    "\n",
    "        x = dataframe.index.values\n",
    "\n",
    "        traces = []\n",
    "\n",
    "        # will be used for market opacity for the markers\n",
    "        increments = 0.95 / float(len(dataframe.columns))\n",
    "\n",
    "        if gradcolor is not None:\n",
    "            try:\n",
    "                import colorlover as cl\n",
    "                color_def = cl.scales[str(len(dataframe.columns))]['seq'][gradcolor]\n",
    "            except:\n",
    "                print('Check colorlover installation...')\n",
    "\n",
    "        i = 0\n",
    "\n",
    "        for key in dataframe:\n",
    "            scatter = plotly.graph_objs.Scatter(\n",
    "                        x = x,\n",
    "                        y = dataframe[key].values,\n",
    "                        name = key,\n",
    "                        xaxis = 'x' + str(axis_no),\n",
    "                        yaxis = 'y' + str(axis_no),\n",
    "                        showlegend = showlegend)\n",
    "\n",
    "            # only apply color/marker properties if not \"default\"\n",
    "            if color_def[i % len(color_def)] != \"default\":\n",
    "                if special_line in str(key):\n",
    "                    # special case for lines labelled \"mean\"\n",
    "                    # make line thicker\n",
    "                    scatter['mode'] = 'lines'\n",
    "                    scatter['line'] = plotly.graph_objs.Line(\n",
    "                                color = color_def[i % len(color_def)],\n",
    "                                width = 2\n",
    "                            )\n",
    "                else:\n",
    "                    line_width = 1\n",
    "\n",
    "                    # set properties for the markers which change opacity\n",
    "                    # for markers make lines thinner\n",
    "                    if addmarker:\n",
    "                        opacity = 0.05 + (increments * i)\n",
    "                        scatter['mode'] = 'markers+lines'\n",
    "                        scatter['marker'] = plotly.graph_objs.Marker(\n",
    "                                    color=color_def[i % len(color_def)],  # marker color\n",
    "                                    opacity = opacity,\n",
    "                                    size = 5)\n",
    "                        line_width = 0.2\n",
    "\n",
    "                    else:\n",
    "                        scatter['mode'] = 'lines'\n",
    "\n",
    "                    scatter['line'] = plotly.graph_objs.Line(\n",
    "                            color = color_def[i % len(color_def)],\n",
    "                            width = line_width)\n",
    "                    \n",
    "                i = i + 1\n",
    "\n",
    "            traces.append(scatter)\n",
    "\n",
    "        return traces\n",
    "    \n",
    "    EventPlot.convert_df_plotly = convert_df_plotly"
   ]
  },
  {
   "cell_type": "markdown",
   "metadata": {},
   "source": [
    "### UK election analysis"
   ]
  },
  {
   "cell_type": "markdown",
   "metadata": {},
   "source": [
    "We've now created several generic functions for downloading data, doing an event study and also for helping us out with plotting via Plotly. We now start work on the ukelection.py script, for pulling it all together. As a very first step we need to provide credentials for Plotly (you can get your own Plotly key and username [here](https://plot.ly/python/getting-started/))."
   ]
  },
  {
   "cell_type": "code",
   "execution_count": 6,
   "metadata": {
    "collapsed": false
   },
   "outputs": [],
   "source": [
    "# for time series/maths\n",
    "import pandas\n",
    "\n",
    "# for plotting data\n",
    "import plotly\n",
    "import plotly.plotly as py\n",
    "from plotly.graph_objs import *\n",
    "\n",
    "def ukelection():    \n",
    "    # Learn about API authentication here: https://plot.ly/python/getting-started\n",
    "    # Find your api_key here: https://plot.ly/settings/api\n",
    "    plotly_username = \"thalesians\"\n",
    "    plotly_api_key = \"XXXXXXXXX\"\n",
    "\n",
    "    plotly.tools.set_credentials_file(username=plotly_username, api_key=plotly_api_key)"
   ]
  },
  {
   "cell_type": "markdown",
   "metadata": {},
   "source": [
    "Let's download our market data that we need (GBP/USD spot data) using the DataDownloader class. As a default, I've opted to use Bloomberg data. You can try other currency pairs or markets (for example FTSE), to compare results for the event study. Note that obviously each data vendor will have a different ticker in their system for what could well be the same asset. With FX, care must be taken to know which close the vendor is snapping. As a default we have opted for BGN, which for GBP/USD is the NY close value."
   ]
  },
  {
   "cell_type": "code",
   "execution_count": 7,
   "metadata": {
    "collapsed": false
   },
   "outputs": [],
   "source": [
    "    ticker = 'GBPUSD' # will use in plot titles later (and for creating Plotly URL)\n",
    "\n",
    "    ##### download market GBP/USD data from Quandl, Bloomberg or CSV file\n",
    "    source = \"Bloomberg\"\n",
    "    # source  = \"Quandl\"\n",
    "    # source = \"CSV\"\n",
    "\n",
    "    csv_file = None\n",
    "\n",
    "    event_plot = EventPlot()\n",
    "    \n",
    "    data_downloader = DataDownloader()\n",
    "    start_date = event_plot.parse_dates(['01/01/1975'])\n",
    "\n",
    "    if source == 'Quandl':\n",
    "        vendor_ticker = \"BOE/XUDLUSS\"\n",
    "    elif source == 'Bloomberg':\n",
    "        vendor_ticker = 'GBPUSD BGN Curncy'\n",
    "    elif source == 'CSV':\n",
    "        vendor_ticker = 'GBPUSD'\n",
    "        csv_file = 'D:/GBPUSD.csv'\n",
    "\n",
    "    spot = data_downloader.download_time_series(vendor_ticker, ticker, start_date[0], source, csv_file = csv_file)"
   ]
  },
  {
   "cell_type": "markdown",
   "metadata": {},
   "source": [
    "The most important part of the study is getting the historical UK election dates! We can obtain these from Wikipedia. We then convert into Python format. We need to make sure we filter the UK election dates, for where we have spot data available."
   ]
  },
  {
   "cell_type": "code",
   "execution_count": 8,
   "metadata": {
    "collapsed": false
   },
   "outputs": [],
   "source": [
    "    labour_wins = ['28/02/1974', '10/10/1974', '01/05/1997', '07/06/2001', '05/05/2005']\n",
    "    conservative_wins = ['03/05/1979', '09/06/1983', '11/06/1987', '09/04/1992', '06/05/2010']\n",
    "\n",
    "    # convert to more easily readable format\n",
    "    labour_wins_d = event_plot.parse_dates(labour_wins)\n",
    "    conservative_wins_d = event_plot.parse_dates(conservative_wins)\n",
    "\n",
    "    # only takes those elections where we have data\n",
    "    labour_wins_d = [d for d in labour_wins_d if d > spot.index[0].to_pydatetime()]\n",
    "    conservative_wins_d = [d for d in conservative_wins_d if d > spot.index[0].to_pydatetime()]\n",
    "\n",
    "    spot.index.name = 'Date'"
   ]
  },
  {
   "cell_type": "markdown",
   "metadata": {},
   "source": [
    "We then call our event study function in EventPlot on our spot data, which compromises of the 20 days before up till the 20 days after the UK general election. We shall plot these lines later."
   ]
  },
  {
   "cell_type": "code",
   "execution_count": 9,
   "metadata": {
    "collapsed": false
   },
   "outputs": [],
   "source": [
    "    # number of days before and after for our event study\n",
    "    pre = -20\n",
    "    post = 20\n",
    "\n",
    "    # calculate spot path during Labour wins\n",
    "    labour_wins_spot = event_plot.event_study(spot, labour_wins_d, pre, post, mean_label = 'Labour Mean')\n",
    "\n",
    "    # calculate spot path during Conservative wins\n",
    "    conservative_wins_spot = event_plot.event_study(spot, conservative_wins_d, pre, post, mean_label = 'Conservative Mean')"
   ]
  },
  {
   "cell_type": "markdown",
   "metadata": {},
   "source": [
    "Define our xaxis and yaxis labels, as well as our source, which we shall later include in the title."
   ]
  },
  {
   "cell_type": "code",
   "execution_count": 10,
   "metadata": {
    "collapsed": false
   },
   "outputs": [],
   "source": [
    "    ##### Create separate plots of price action during Labour and Conservative wins\n",
    "    xaxis = 'Days'\n",
    "    yaxis = 'Index'\n",
    "    source_label = \"Source: @thalesians/BBG/Wikipedia\""
   ]
  },
  {
   "cell_type": "markdown",
   "metadata": {},
   "source": [
    "We're finally ready for our first plot! We shall plot GBP/USD moves over Labour election wins, using the default palette and then we shall embed it into the sheet, using the URL given to us from the Plotly website."
   ]
  },
  {
   "cell_type": "code",
   "execution_count": 11,
   "metadata": {
    "collapsed": false
   },
   "outputs": [
    {
     "data": {
      "text/html": [
       "<iframe id=\"igraph\" scrolling=\"no\" style=\"border:none;\"seamless=\"seamless\" src=\"https://plot.ly/~thalesians/244.embed\" height=\"525\" width=\"100%\"></iframe>"
      ],
      "text/plain": [
       "<plotly.tools.PlotlyDisplay at 0x862bf10>"
      ]
     },
     "execution_count": 11,
     "metadata": {},
     "output_type": "execute_result"
    }
   ],
   "source": [
    "    ###### Plot market reaction during Labour UK election wins\n",
    "    ###### Using default color scheme\n",
    "\n",
    "    title = ticker + ' during UK gen elect - Lab wins' + '<BR>' + source_label\n",
    "\n",
    "    fig = Figure(data=event_plot.convert_df_plotly(labour_wins_spot),\n",
    "                 layout=event_plot.create_layout(title, xaxis, yaxis)\n",
    "    )\n",
    "\n",
    "    py.iplot(fig, filename='labour-wins-' + ticker)"
   ]
  },
  {
   "cell_type": "markdown",
   "metadata": {},
   "source": [
    "The \"iplot\" function will send it to Plotly's server (provided we have all the dependencies installed)."
   ]
  },
  {
   "cell_type": "markdown",
   "metadata": {},
   "source": [
    "Alternatively, we could embed the HTML as an image, which we have taken from the Plotly website. Note this approach will yield a static image which is fetched from Plotly's servers. It also possible to write the image to disk. Later we shall show the embed function."
   ]
  },
  {
   "cell_type": "markdown",
   "metadata": {},
   "source": [
    "<div>\n",
    "    <a href=\"https://plot.ly/~thalesians/244/\" target=\"_blank\" title=\"GBPUSD during UK gen elect - Lab wins&lt;br&gt;Source: @thalesians/BBG/Wikipedia\" style=\"display: block; text-align: center;\"><img src=\"https://plot.ly/~thalesians/244.png\" alt=\"GBPUSD during UK gen elect - Lab wins&lt;br&gt;Source: @thalesians/BBG/Wikipedia\" style=\"max-width: 100%;\"  onerror=\"this.onerror=null;this.src='https://plot.ly/404.png';\" /></a>\n",
    "    <script data-plotly=\"thalesians:244\" src=\"https://plot.ly/embed.js\" async></script>\n",
    "</div>\n"
   ]
  },
  {
   "cell_type": "markdown",
   "metadata": {},
   "source": [
    "We next plot GBP/USD over Conservative wins. In this instance, however, we have a graduated 'Blues' color scheme, given obviously that blue is the color of the Conserative party in the UK!"
   ]
  },
  {
   "cell_type": "code",
   "execution_count": 12,
   "metadata": {
    "collapsed": false
   },
   "outputs": [],
   "source": [
    "    ###### Plot market reaction during Conservative UK election wins\n",
    "    ###### Using varying shades of blue for each line (helped by colorlover library)\n",
    "\n",
    "    title = ticker + ' during UK gen elect - Con wins ' + '<BR>' + source_label\n",
    "\n",
    "    # also apply graduated color scheme of blues (from light to dark)\n",
    "    # see http://moderndata.plot.ly/color-scales-in-ipython-notebook/ for details on colorlover package\n",
    "    # which allows you to set scales\n",
    "    fig = Figure(data=event_plot.convert_df_plotly(conservative_wins_spot, gradcolor='Blues', addmarker=False),\n",
    "                 layout=event_plot.create_layout(title, xaxis, yaxis),\n",
    "    )\n",
    "\n",
    "    plot_url = py.iplot(fig, filename='conservative-wins-' + ticker)"
   ]
  },
  {
   "cell_type": "markdown",
   "metadata": {},
   "source": [
    "Embed the chart into the document using \"embed\". This essentially embeds the Javascript code, necessary to make it interactive."
   ]
  },
  {
   "cell_type": "code",
   "execution_count": 13,
   "metadata": {
    "collapsed": false
   },
   "outputs": [
    {
     "data": {
      "text/html": [
       "<iframe id=\"igraph\" scrolling=\"no\" style=\"border:none;\"seamless=\"seamless\" src=\"https://plot.ly/~thalesians/245.embed\" height=\"525\" width=\"100%\"></iframe>"
      ],
      "text/plain": [
       "<plotly.tools.PlotlyDisplay at 0x74ad130>"
      ]
     },
     "execution_count": 13,
     "metadata": {},
     "output_type": "execute_result"
    }
   ],
   "source": [
    "import plotly.tools as tls\n",
    "\n",
    "tls.embed(\"https://plot.ly/~thalesians/245\")"
   ]
  },
  {
   "cell_type": "markdown",
   "metadata": {},
   "source": [
    "Our final plot, will consist of three subplots, Labour wins, Conservative wins, and average moves for both. We also add a grid and a grey background for each plot."
   ]
  },
  {
   "cell_type": "code",
   "execution_count": 14,
   "metadata": {
    "collapsed": false
   },
   "outputs": [
    {
     "name": "stdout",
     "output_type": "stream",
     "text": [
      "This is the format of your plot grid:\n",
      "[ (1,1) x1,y1 ]  [ (1,2) x2,y2 ]  [ (1,3) x3,y3 ]\n",
      "\n"
     ]
    }
   ],
   "source": [
    "    ##### Plot market reaction during Conservative UK election wins\n",
    "    ##### create a plot consisting of 3 subplots (from left to right)\n",
    "    ##### 1. Labour wins, 2. Conservative wins, 3. Conservative/Labour mean move\n",
    "\n",
    "    # create a dataframe which grabs the mean from the respective Lab & Con election wins\n",
    "    mean_wins_spot = pandas.DataFrame()\n",
    "    mean_wins_spot['Labour Mean'] = labour_wins_spot['Labour Mean']\n",
    "    mean_wins_spot['Conservative Mean'] = conservative_wins_spot['Conservative Mean']\n",
    "\n",
    "    fig = plotly.tools.make_subplots(rows=1, cols=3)\n",
    "\n",
    "    # apply different color scheme (red = Lab, blue = Con)\n",
    "    # also add markets, which will have varying levels of opacity\n",
    "    fig['data'] += Data(\n",
    "        event_plot.convert_df_plotly(conservative_wins_spot, axis_no=1, \n",
    "                                     color_def=['blue'], addmarker=True) +\n",
    "        event_plot.convert_df_plotly(labour_wins_spot, axis_no=2, \n",
    "                                     color_def=['red'], addmarker=True) +\n",
    "        event_plot.convert_df_plotly(mean_wins_spot, axis_no=3, \n",
    "                                     color_def=['red', 'blue'], addmarker=True, showlegend = False)\n",
    "                        )\n",
    "        \n",
    "    fig['layout'].update(title=ticker + ' during UK gen elects by winning party ' + '<BR>' + source_label)\n",
    "\n",
    "    # use the scheme from https://plot.ly/python/bubble-charts-tutorial/\n",
    "    # can use dict approach, rather than specifying each separately\n",
    "    axis_style = dict(\n",
    "            gridcolor='#FFFFFF',  # white grid lines\n",
    "            ticks='outside',      # draw ticks outside axes\n",
    "            ticklen=8,            # tick length\n",
    "            tickwidth=1.5         #   and width\n",
    "        )\n",
    "\n",
    "    # create the various axes for the three separate charts\n",
    "    fig['layout'].update(xaxis1=plotly.graph_objs.XAxis(axis_style, title=xaxis))\n",
    "    fig['layout'].update(yaxis1=plotly.graph_objs.YAxis(axis_style, title=yaxis))\n",
    "\n",
    "    fig['layout'].update(xaxis2=plotly.graph_objs.XAxis(axis_style, title=xaxis))\n",
    "    fig['layout'].update(yaxis2=plotly.graph_objs.YAxis(axis_style))\n",
    "\n",
    "    fig['layout'].update(xaxis3=plotly.graph_objs.XAxis(axis_style, title=xaxis))\n",
    "    fig['layout'].update(yaxis3=plotly.graph_objs.YAxis(axis_style))\n",
    "\n",
    "    fig['layout'].update(plot_bgcolor='#EFECEA')  # set plot background to grey\n",
    "\n",
    "    plot_url = py.iplot(fig, filename='labour-conservative-wins-'+ ticker + '-subplot')"
   ]
  },
  {
   "cell_type": "markdown",
   "metadata": {},
   "source": [
    "This time we use \"embed\", which grab the plot from Plotly's server, we did earlier (given we have already uploaded it)."
   ]
  },
  {
   "cell_type": "code",
   "execution_count": 15,
   "metadata": {
    "collapsed": false
   },
   "outputs": [
    {
     "data": {
      "text/html": [
       "<iframe id=\"igraph\" scrolling=\"no\" style=\"border:none;\"seamless=\"seamless\" src=\"https://plot.ly/~thalesians/246.embed\" height=\"525\" width=\"100%\"></iframe>"
      ],
      "text/plain": [
       "<plotly.tools.PlotlyDisplay at 0x97a95d0>"
      ]
     },
     "execution_count": 15,
     "metadata": {},
     "output_type": "execute_result"
    }
   ],
   "source": [
    "import plotly.tools as tls\n",
    "\n",
    "tls.embed(\"https://plot.ly/~thalesians/246\")"
   ]
  },
  {
   "cell_type": "markdown",
   "metadata": {},
   "source": [
    "<B>That's about it!</B> I hope the code I've written proves fruitful for creating some very cool Plotly plots and also for doing some very timely analysis ahead of the UK general election! Hoping this will be first of many blogs on using Plotly data."
   ]
  },
  {
   "cell_type": "markdown",
   "metadata": {},
   "source": [
    "The analysis in this blog is based on a report I wrote for Thalesians, a quant finance thinktank. If you are interested in getting access to the full copy of the report (Thalesians: My kingdom for a vote - The definitive quant guide to UK general elections), feel free to e-mail me at <b>saeed@thalesians.com</b> or tweet me <b>@thalesians</b>"
   ]
  },
  {
   "cell_type": "markdown",
   "metadata": {},
   "source": [
    "## Want to hear more about global macro and UK election developments?"
   ]
  },
  {
   "cell_type": "markdown",
   "metadata": {},
   "source": [
    "If you're interested in FX and the UK general election, come to our Thalesians panel in London on April 29th 2015 at 7.30pm in Canary Wharf, which will feature, Eric Burroughs (Reuters - FX Buzz Editor), Mark Cudmore (Bloomberg - First Word EM Strategist), Jordan Rochester (Nomura - FX strategist), Jeremy Wilkinson-Smith (Independent FX trader) and myself as the moderator. Tickets are available [here](http://www.meetup.com/thalesians/events/221147156/)"
   ]
  },
  {
   "cell_type": "markdown",
   "metadata": {},
   "source": [
    "## Biography"
   ]
  },
  {
   "cell_type": "markdown",
   "metadata": {},
   "source": [
    "<b>Saeed Amen</b> is the managing director and co-founder of the Thalesians. He has a decade of experience creating and successfully running systematic trading models at Lehman Brothers, Nomura and now at the Thalesians. Independently, he runs a systematic trading model with proprietary capital. He is the author of Trading Thalesians – What the ancient world can teach us about trading today (Palgrave Macmillan). He graduated with a first class honours master’s degree from Imperial College in Mathematics & Computer Science. He is also a fan of Python and has written an extensive library for financial market backtesting called PyThalesians.\n",
    "<BR>\n",
    "\n",
    "Follow the Thalesians on Twitter @thalesians and get my book on Amazon [here](http://www.amazon.co.uk/Trading-Thalesians-Saeed-Amen/dp/113739952X)"
   ]
  },
  {
   "cell_type": "markdown",
   "metadata": {},
   "source": [
    "All the code here is available to download from the [Thalesians GitHub page](https://github.com/thalesians/pythalesians)"
   ]
  },
  {
   "cell_type": "code",
   "execution_count": 1,
   "metadata": {
    "collapsed": false
   },
   "outputs": [
    {
     "name": "stdout",
     "output_type": "stream",
     "text": [
      "Requirement already up-to-date: publisher in /Users/chriddyp/Repos/venvpy27/lib/python2.7/site-packages/publisher-0.4-py2.7.egg\r\n"
     ]
    },
    {
     "name": "stderr",
     "output_type": "stream",
     "text": [
      "/Users/chriddyp/Repos/venvpy27/lib/python2.7/site-packages/publisher-0.4-py2.7.egg/publisher/publisher.py:50: UserWarning: Did you \"Save\" this notebook before running this command? Remember to save, always save.\n",
      "/Users/chriddyp/Repos/venvpy27/lib/python2.7/site-packages/publisher-0.4-py2.7.egg/publisher/publisher.py:55: UserWarning: Your URL has more than 2 parts... are you sure?\n"
     ]
    }
   ],
   "source": [
    "from IPython.display import display, HTML\n",
    "\n",
    "display(HTML('<link href=\"//fonts.googleapis.com/css?family=Open+Sans:600,400,300,200|Inconsolata|Ubuntu+Mono:400,700\" rel=\"stylesheet\" type=\"text/css\" />'))\n",
    "display(HTML('<link rel=\"stylesheet\" type=\"text/css\" href=\"http://help.plot.ly/documentation/all_static/css/ipython-notebook-custom.css\">'))\n",
    "\n",
    "! pip install publisher --upgrade\n",
    "import publisher\n",
    "publisher.publish(\n",
    "    'ukelectionbbg.ipynb', '/ipython-notebooks/ukelectionbbg', 'Plotting GBP/USD price action around UK general elections', \n",
    "    'Create interactive graphs with market data, IPython Notebook and Plotly')"
   ]
  },
  {
   "cell_type": "code",
   "execution_count": null,
   "metadata": {
    "collapsed": true
   },
   "outputs": [],
   "source": []
  }
 ],
 "metadata": {
  "kernelspec": {
   "display_name": "Python 2",
   "language": "python",
   "name": "python2"
  },
  "language_info": {
   "codemirror_mode": {
    "name": "ipython",
    "version": 2
   },
   "file_extension": ".py",
   "mimetype": "text/x-python",
   "name": "python",
   "nbconvert_exporter": "python",
   "pygments_lexer": "ipython2",
   "version": "2.7.10"
  }
 },
 "nbformat": 4,
 "nbformat_minor": 0
}
