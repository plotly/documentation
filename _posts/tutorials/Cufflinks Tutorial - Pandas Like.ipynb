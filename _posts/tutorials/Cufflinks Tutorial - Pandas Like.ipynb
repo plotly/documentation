{
 "cells": [
  {
   "cell_type": "markdown",
   "metadata": {},
   "source": [
    "# Plotly Visualization "
   ]
  },
  {
   "cell_type": "markdown",
   "metadata": {},
   "source": [
    "The aim of this notebook is to proivde guidelines on how to achieve parity with Pandas' visualization methods as explained in http://pandas.pydata.org/pandas-docs/stable/visualization.html with the use of **Plotly** and **Cufflinks**"
   ]
  },
  {
   "cell_type": "code",
   "execution_count": 1,
   "metadata": {
    "collapsed": false
   },
   "outputs": [
    {
     "name": "stdout",
     "output_type": "stream",
     "text": [
      "0.5.1\n"
     ]
    }
   ],
   "source": [
    "# ! pip install cufflinks --upgrade\n",
    "import cufflinks as cf\n",
    "print cf.__version__"
   ]
  },
  {
   "cell_type": "code",
   "execution_count": 2,
   "metadata": {
    "collapsed": false
   },
   "outputs": [],
   "source": [
    "import pandas as pd\n",
    "import numpy as np\n",
    "from IPython.display import display,HTML"
   ]
  },
  {
   "cell_type": "code",
   "execution_count": 3,
   "metadata": {
    "collapsed": true
   },
   "outputs": [],
   "source": [
    "%reload_ext autoreload\n",
    "%autoreload 2"
   ]
  },
  {
   "cell_type": "markdown",
   "metadata": {},
   "source": [
    "## Theme"
   ]
  },
  {
   "cell_type": "markdown",
   "metadata": {},
   "source": [
    "Cufflinks can set global theme (sytle) to used. \n",
    "In this case we will use Matplotlib's `ggplot` style. "
   ]
  },
  {
   "cell_type": "code",
   "execution_count": 4,
   "metadata": {
    "collapsed": false
   },
   "outputs": [],
   "source": [
    "cf.set_config_file(theme='ggplot',world_readable=True)"
   ]
  },
  {
   "cell_type": "markdown",
   "metadata": {},
   "source": [
    "## Basic Plotting"
   ]
  },
  {
   "cell_type": "markdown",
   "metadata": {},
   "source": [
    "The `iplot` method on Series and DataFrame is wrapper of Plotly's `plot` method"
   ]
  },
  {
   "cell_type": "code",
   "execution_count": 5,
   "metadata": {
    "collapsed": false
   },
   "outputs": [
    {
     "data": {
      "text/html": [
       "<iframe id=\"igraph\" scrolling=\"no\" style=\"border:none;\"seamless=\"seamless\" src=\"https://plot.ly/~christopherp/575.embed\" height=\"525\" width=\"100%\"></iframe>"
      ],
      "text/plain": [
       "<plotly.tools.PlotlyDisplay object>"
      ]
     },
     "execution_count": 5,
     "metadata": {},
     "output_type": "execute_result"
    }
   ],
   "source": [
    "# Cufflinks can generate random data for different shapes\n",
    "# Let's generate a single line with 1000 points\n",
    "cf.datagen.lines(1,1000).iplot()"
   ]
  },
  {
   "cell_type": "code",
   "execution_count": 6,
   "metadata": {
    "collapsed": false
   },
   "outputs": [
    {
     "data": {
      "text/html": [
       "<iframe id=\"igraph\" scrolling=\"no\" style=\"border:none;\"seamless=\"seamless\" src=\"https://plot.ly/~christopherp/577.embed\" height=\"525\" width=\"100%\"></iframe>"
      ],
      "text/plain": [
       "<plotly.tools.PlotlyDisplay object>"
      ]
     },
     "execution_count": 6,
     "metadata": {},
     "output_type": "execute_result"
    }
   ],
   "source": [
    "# Generating 4 timeseries \n",
    "df=cf.datagen.lines(4,1000)\n",
    "df.iplot()"
   ]
  },
  {
   "cell_type": "markdown",
   "metadata": {},
   "source": [
    "You can plot one column versus another using the *x* and *y* keywords in `iplot`"
   ]
  },
  {
   "cell_type": "code",
   "execution_count": 7,
   "metadata": {
    "collapsed": false
   },
   "outputs": [
    {
     "data": {
      "text/html": [
       "<iframe id=\"igraph\" scrolling=\"no\" style=\"border:none;\"seamless=\"seamless\" src=\"https://plot.ly/~christopherp/579.embed\" height=\"525\" width=\"100%\"></iframe>"
      ],
      "text/plain": [
       "<plotly.tools.PlotlyDisplay object>"
      ]
     },
     "execution_count": 7,
     "metadata": {},
     "output_type": "execute_result"
    }
   ],
   "source": [
    "df3 = pd.DataFrame(np.random.randn(1000, 2), columns=['B', 'C']).cumsum()\n",
    "df3['A'] = pd.Series(list(range(len(df3))))\n",
    "df3.iplot(x='A', y='B')"
   ]
  },
  {
   "cell_type": "markdown",
   "metadata": {},
   "source": [
    "## Bar Plots"
   ]
  },
  {
   "cell_type": "code",
   "execution_count": 8,
   "metadata": {
    "collapsed": false
   },
   "outputs": [
    {
     "data": {
      "text/html": [
       "<iframe id=\"igraph\" scrolling=\"no\" style=\"border:none;\"seamless=\"seamless\" src=\"https://plot.ly/~christopherp/581.embed\" height=\"525\" width=\"100%\"></iframe>"
      ],
      "text/plain": [
       "<plotly.tools.PlotlyDisplay object>"
      ]
     },
     "execution_count": 8,
     "metadata": {},
     "output_type": "execute_result"
    }
   ],
   "source": [
    "df.ix[3].iplot(kind='bar',bargap=.5)"
   ]
  },
  {
   "cell_type": "markdown",
   "metadata": {},
   "source": [
    "Calling a DataFrame’s `plot()` method with `kind='bar'` produces a multiple bar plot:"
   ]
  },
  {
   "cell_type": "code",
   "execution_count": 9,
   "metadata": {
    "collapsed": false
   },
   "outputs": [
    {
     "data": {
      "text/html": [
       "<iframe id=\"igraph\" scrolling=\"no\" style=\"border:none;\"seamless=\"seamless\" src=\"https://plot.ly/~christopherp/583.embed\" height=\"525\" width=\"100%\"></iframe>"
      ],
      "text/plain": [
       "<plotly.tools.PlotlyDisplay object>"
      ]
     },
     "execution_count": 9,
     "metadata": {},
     "output_type": "execute_result"
    }
   ],
   "source": [
    "df=pd.DataFrame(np.random.rand(10, 4), columns=['a', 'b', 'c', 'd'])\n",
    "df.iplot(kind='bar')\n"
   ]
  },
  {
   "cell_type": "markdown",
   "metadata": {},
   "source": [
    "To produce a stacked bar plot, use `barmode=stack`"
   ]
  },
  {
   "cell_type": "code",
   "execution_count": 10,
   "metadata": {
    "collapsed": false
   },
   "outputs": [
    {
     "data": {
      "text/html": [
       "<iframe id=\"igraph\" scrolling=\"no\" style=\"border:none;\"seamless=\"seamless\" src=\"https://plot.ly/~christopherp/585.embed\" height=\"525\" width=\"100%\"></iframe>"
      ],
      "text/plain": [
       "<plotly.tools.PlotlyDisplay object>"
      ]
     },
     "execution_count": 10,
     "metadata": {},
     "output_type": "execute_result"
    }
   ],
   "source": [
    "df.iplot(kind='bar',barmode='stack')"
   ]
  },
  {
   "cell_type": "markdown",
   "metadata": {},
   "source": [
    "To get horizontal bar plots, pass `kind='barh'`"
   ]
  },
  {
   "cell_type": "code",
   "execution_count": 11,
   "metadata": {
    "collapsed": false
   },
   "outputs": [
    {
     "data": {
      "text/html": [
       "<iframe id=\"igraph\" scrolling=\"no\" style=\"border:none;\"seamless=\"seamless\" src=\"https://plot.ly/~christopherp/587.embed\" height=\"525\" width=\"100%\"></iframe>"
      ],
      "text/plain": [
       "<plotly.tools.PlotlyDisplay object>"
      ]
     },
     "execution_count": 11,
     "metadata": {},
     "output_type": "execute_result"
    }
   ],
   "source": [
    "df.iplot(kind='barh',barmode='stack',bargap=.1)"
   ]
  },
  {
   "cell_type": "markdown",
   "metadata": {},
   "source": [
    "## Histograms"
   ]
  },
  {
   "cell_type": "markdown",
   "metadata": {},
   "source": [
    "Historgrams can be used with `kind='histogram'`"
   ]
  },
  {
   "cell_type": "code",
   "execution_count": 12,
   "metadata": {
    "collapsed": false
   },
   "outputs": [],
   "source": [
    "df = pd.DataFrame({'a': np.random.randn(1000) + 1, 'b': np.random.randn(1000),\n",
    "                    'c': np.random.randn(1000) - 1}, columns=['a', 'b', 'c'])\n",
    "   "
   ]
  },
  {
   "cell_type": "code",
   "execution_count": 13,
   "metadata": {
    "collapsed": false
   },
   "outputs": [
    {
     "data": {
      "text/html": [
       "<iframe id=\"igraph\" scrolling=\"no\" style=\"border:none;\"seamless=\"seamless\" src=\"https://plot.ly/~christopherp/589.embed\" height=\"525\" width=\"100%\"></iframe>"
      ],
      "text/plain": [
       "<plotly.tools.PlotlyDisplay object>"
      ]
     },
     "execution_count": 13,
     "metadata": {},
     "output_type": "execute_result"
    }
   ],
   "source": [
    "df.iplot(kind='histogram')"
   ]
  },
  {
   "cell_type": "markdown",
   "metadata": {},
   "source": [
    "Histogram can be stacked by using `barmode=stack`. Bin size can be changed by `bin` keyword. "
   ]
  },
  {
   "cell_type": "code",
   "execution_count": 14,
   "metadata": {
    "collapsed": false
   },
   "outputs": [
    {
     "data": {
      "text/html": [
       "<iframe id=\"igraph\" scrolling=\"no\" style=\"border:none;\"seamless=\"seamless\" src=\"https://plot.ly/~christopherp/591.embed\" height=\"525\" width=\"100%\"></iframe>"
      ],
      "text/plain": [
       "<plotly.tools.PlotlyDisplay object>"
      ]
     },
     "execution_count": 14,
     "metadata": {},
     "output_type": "execute_result"
    }
   ],
   "source": [
    "df.iplot(kind='histogram',barmode='stack',bins=20)"
   ]
  },
  {
   "cell_type": "markdown",
   "metadata": {},
   "source": [
    "Orientation can normalization can also be set for Histograms by using `orientation='horizontal'` and `histnorm=probability`."
   ]
  },
  {
   "cell_type": "code",
   "execution_count": 15,
   "metadata": {
    "collapsed": false
   },
   "outputs": [
    {
     "data": {
      "text/html": [
       "<iframe id=\"igraph\" scrolling=\"no\" style=\"border:none;\"seamless=\"seamless\" src=\"https://plot.ly/~christopherp/593.embed\" height=\"525\" width=\"100%\"></iframe>"
      ],
      "text/plain": [
       "<plotly.tools.PlotlyDisplay object>"
      ]
     },
     "execution_count": 15,
     "metadata": {},
     "output_type": "execute_result"
    }
   ],
   "source": [
    "df.iplot(kind='histogram',columns=['a'],orientation='h',histnorm='probability')"
   ]
  },
  {
   "cell_type": "markdown",
   "metadata": {},
   "source": [
    "Histograms (and any other kind of plot) can be set in a multiple layout by using `subplots=True`"
   ]
  },
  {
   "cell_type": "code",
   "execution_count": 16,
   "metadata": {
    "collapsed": false
   },
   "outputs": [
    {
     "data": {
      "text/html": [
       "<iframe id=\"igraph\" scrolling=\"no\" style=\"border:none;\"seamless=\"seamless\" src=\"https://plot.ly/~christopherp/593.embed\" height=\"525\" width=\"100%\"></iframe>"
      ],
      "text/plain": [
       "<plotly.tools.PlotlyDisplay object>"
      ]
     },
     "execution_count": 16,
     "metadata": {},
     "output_type": "execute_result"
    }
   ],
   "source": [
    "df_h=cf.datagen.histogram(4)\n",
    "df_h.iplot(kind='histogram',subplots=True,bins=50)"
   ]
  },
  {
   "cell_type": "markdown",
   "metadata": {},
   "source": [
    "## Box Plots"
   ]
  },
  {
   "cell_type": "markdown",
   "metadata": {},
   "source": [
    "Boxplots can be drawn calling a `Series` and `DataFrame` with `kind='box'`"
   ]
  },
  {
   "cell_type": "code",
   "execution_count": 17,
   "metadata": {
    "collapsed": false
   },
   "outputs": [
    {
     "data": {
      "text/html": [
       "<iframe id=\"igraph\" scrolling=\"no\" style=\"border:none;\"seamless=\"seamless\" src=\"https://plot.ly/~christopherp/595.embed\" height=\"525\" width=\"100%\"></iframe>"
      ],
      "text/plain": [
       "<plotly.tools.PlotlyDisplay object>"
      ]
     },
     "execution_count": 17,
     "metadata": {},
     "output_type": "execute_result"
    }
   ],
   "source": [
    "df = pd.DataFrame(np.random.rand(10, 5), columns=['A', 'B', 'C', 'D', 'E'])\n",
    "df.iplot(kind='box')"
   ]
  },
  {
   "cell_type": "markdown",
   "metadata": {
    "collapsed": true
   },
   "source": [
    "### Grouping values"
   ]
  },
  {
   "cell_type": "code",
   "execution_count": 18,
   "metadata": {
    "collapsed": true
   },
   "outputs": [],
   "source": [
    "df = pd.DataFrame(np.random.rand(10,2), columns=['Col1', 'Col2'] )\n",
    "df['X'] = pd.Series(['A','A','A','A','A','B','B','B','B','B'])"
   ]
  },
  {
   "cell_type": "markdown",
   "metadata": {},
   "source": [
    "Grouping values by generating a list of figures"
   ]
  },
  {
   "cell_type": "code",
   "execution_count": 19,
   "metadata": {
    "collapsed": false
   },
   "outputs": [],
   "source": [
    "figs=[df[df['X']==d][['Col1','Col2']].iplot(kind='box',asFigure=True) for d in pd.unique(df['X']) ]"
   ]
  },
  {
   "cell_type": "code",
   "execution_count": 20,
   "metadata": {
    "collapsed": false
   },
   "outputs": [
    {
     "data": {
      "text/html": [
       "<iframe id=\"igraph\" scrolling=\"no\" style=\"border:none;\"seamless=\"seamless\" src=\"https://plot.ly/~christopherp/541.embed\" height=\"525\" width=\"100%\"></iframe>"
      ],
      "text/plain": [
       "<plotly.tools.PlotlyDisplay object>"
      ]
     },
     "execution_count": 20,
     "metadata": {},
     "output_type": "execute_result"
    }
   ],
   "source": [
    "cf.iplot(cf.subplots(figs), world_readable=True)"
   ]
  },
  {
   "cell_type": "markdown",
   "metadata": {},
   "source": [
    "Grouping values and ammending the keys"
   ]
  },
  {
   "cell_type": "code",
   "execution_count": 21,
   "metadata": {
    "collapsed": false
   },
   "outputs": [],
   "source": [
    "def by(df,category):\n",
    "    l=[]\n",
    "    for cat in pd.unique(df[category]):\n",
    "        _df=df[df[category]==cat]\n",
    "        del _df[category]\n",
    "        _df=_df.rename(columns=dict([(k,'{0}_{1}'.format(cat,k)) for k in _df.columns]))\n",
    "        l.append(_df.iplot(kind='box',asFigure=True))\n",
    "    return l\n",
    "    "
   ]
  },
  {
   "cell_type": "code",
   "execution_count": 22,
   "metadata": {
    "collapsed": false
   },
   "outputs": [
    {
     "data": {
      "text/html": [
       "<iframe id=\"igraph\" scrolling=\"no\" style=\"border:none;\"seamless=\"seamless\" src=\"https://plot.ly/~christopherp/541.embed\" height=\"525\" width=\"100%\"></iframe>"
      ],
      "text/plain": [
       "<plotly.tools.PlotlyDisplay object>"
      ]
     },
     "execution_count": 22,
     "metadata": {},
     "output_type": "execute_result"
    }
   ],
   "source": [
    "cf.iplot(cf.subplots(by(df,'X')), world_readable=True)"
   ]
  },
  {
   "cell_type": "markdown",
   "metadata": {
    "collapsed": true
   },
   "source": [
    "## Area Plots"
   ]
  },
  {
   "cell_type": "markdown",
   "metadata": {},
   "source": [
    "You can create area plots with Series.plot and DataFrame.plot by passing `kind='area'`.  To produce stacked area plot, each column must be either all positive or all negative values.\n",
    "\n",
    "When input data contains NaN, it will be automatically filled by 0. If you want to drop or fill by different values, use dataframe.dropna() or dataframe.fillna() before calling plot.\n",
    "\n",
    "To fill the area you can use `fill=True`"
   ]
  },
  {
   "cell_type": "code",
   "execution_count": 23,
   "metadata": {
    "collapsed": true
   },
   "outputs": [],
   "source": [
    "df = pd.DataFrame(np.random.rand(10, 4), columns=['a', 'b', 'c', 'd'])"
   ]
  },
  {
   "cell_type": "code",
   "execution_count": 24,
   "metadata": {
    "collapsed": false
   },
   "outputs": [
    {
     "data": {
      "text/html": [
       "<iframe id=\"igraph\" scrolling=\"no\" style=\"border:none;\"seamless=\"seamless\" src=\"https://plot.ly/~christopherp/597.embed\" height=\"525\" width=\"100%\"></iframe>"
      ],
      "text/plain": [
       "<plotly.tools.PlotlyDisplay object>"
      ]
     },
     "execution_count": 24,
     "metadata": {},
     "output_type": "execute_result"
    }
   ],
   "source": [
    "df.iplot(kind='area',fill=True,opacity=1)"
   ]
  },
  {
   "cell_type": "markdown",
   "metadata": {},
   "source": [
    "For non-stacked charts you can use `kind=scatter` with `fill=True`. Alpha value is set to 0.3 unless otherwise specified:"
   ]
  },
  {
   "cell_type": "code",
   "execution_count": 25,
   "metadata": {
    "collapsed": false
   },
   "outputs": [
    {
     "data": {
      "text/html": [
       "<iframe id=\"igraph\" scrolling=\"no\" style=\"border:none;\"seamless=\"seamless\" src=\"https://plot.ly/~christopherp/599.embed\" height=\"525\" width=\"100%\"></iframe>"
      ],
      "text/plain": [
       "<plotly.tools.PlotlyDisplay object>"
      ]
     },
     "execution_count": 25,
     "metadata": {},
     "output_type": "execute_result"
    }
   ],
   "source": [
    "df.iplot(fill=True)"
   ]
  },
  {
   "cell_type": "markdown",
   "metadata": {},
   "source": [
    "## Scatter Plot"
   ]
  },
  {
   "cell_type": "markdown",
   "metadata": {},
   "source": [
    "You can create scatter plots with DataFrame.plot by passing `kind='scatter'`. Scatter plot requires numeric columns for x and y axis. These can be specified by x and y keywords each, otherwise the DataFrame index will be used as `x`"
   ]
  },
  {
   "cell_type": "code",
   "execution_count": 26,
   "metadata": {
    "collapsed": true
   },
   "outputs": [],
   "source": [
    "df = pd.DataFrame(np.random.rand(50, 4), columns=['a', 'b', 'c', 'd'])"
   ]
  },
  {
   "cell_type": "code",
   "execution_count": 27,
   "metadata": {
    "collapsed": false
   },
   "outputs": [
    {
     "data": {
      "text/html": [
       "<iframe id=\"igraph\" scrolling=\"no\" style=\"border:none;\"seamless=\"seamless\" src=\"https://plot.ly/~christopherp/599.embed\" height=\"525\" width=\"100%\"></iframe>"
      ],
      "text/plain": [
       "<plotly.tools.PlotlyDisplay object>"
      ]
     },
     "execution_count": 27,
     "metadata": {},
     "output_type": "execute_result"
    }
   ],
   "source": [
    "df.iplot(kind='scatter',x='a',y='b',mode='markers')"
   ]
  },
  {
   "cell_type": "markdown",
   "metadata": {},
   "source": [
    "Colors can be assigned as either a list or dicitonary by using `color`. \n",
    "The marker symbol can be defined by using `symbol`"
   ]
  },
  {
   "cell_type": "code",
   "execution_count": 65,
   "metadata": {
    "collapsed": false
   },
   "outputs": [
    {
     "data": {
      "text/html": [
       "<ul style=\"list-style-type: none;\"><li style=\"text-align:center;line-height:30px;background-color:#FFD700;\"> \n",
       "\t\t\t<span style=\" text-shadow:0 1px 0 rgba(255,255,255,0.6); color:#000000;\">gold : #FFD700</span>\n",
       "\t\t\t</li><li style=\"text-align:center;line-height:30px;background-color:#ffff33;\"> \n",
       "\t\t\t<span style=\" text-shadow:0 1px 0 rgba(255,255,255,0.6); color:#000000;\">yellow : #FFFF33</span>\n",
       "\t\t\t</li><li style=\"text-align:center;line-height:30px;background-color:#8FBC8F;\"> \n",
       "\t\t\t<span style=\" text-shadow:0 1px 0 rgba(255,255,255,0.6); color:#000000;\">darkseagreen : #8FBC8F</span>\n",
       "\t\t\t</li><li style=\"text-align:center;line-height:30px;background-color:#8dd3c7;\"> \n",
       "\t\t\t<span style=\" text-shadow:0 1px 0 rgba(255,255,255,0.6); color:#000000;\">lightteal : #8DD3C7</span>\n",
       "\t\t\t</li><li style=\"text-align:center;line-height:30px;background-color:#8EBA42;\"> \n",
       "\t\t\t<span style=\" text-shadow:0 1px 0 rgba(255,255,255,0.6); color:#000000;\">lime2 : #8EBA42</span>\n",
       "\t\t\t</li><li style=\"text-align:center;line-height:30px;background-color:#FFEFD5;\"> \n",
       "\t\t\t<span style=\" text-shadow:0 1px 0 rgba(255,255,255,0.6); color:#000000;\">papayawhip : #FFEFD5</span>\n",
       "\t\t\t</li><li style=\"text-align:center;line-height:30px;background-color:#000000;\"> \n",
       "\t\t\t<span style=\" text-shadow:0 1px 0 #000; color:#ffffff;\">black : #000000</span>\n",
       "\t\t\t</li><li style=\"text-align:center;line-height:30px;background-color:#DC143C;\"> \n",
       "\t\t\t<span style=\" text-shadow:0 1px 0 rgba(255,255,255,0.6); color:#000000;\">crimson : #DC143C</span>\n",
       "\t\t\t</li><li style=\"text-align:center;line-height:30px;background-color:#A52A2A;\"> \n",
       "\t\t\t<span style=\" text-shadow:0 1px 0 rgba(255,255,255,0.6); color:#000000;\">brown : #A52A2A</span>\n",
       "\t\t\t</li><li style=\"text-align:center;line-height:30px;background-color:#E0FFFF;\"> \n",
       "\t\t\t<span style=\" text-shadow:0 1px 0 rgba(255,255,255,0.6); color:#000000;\">lightcyan : #E0FFFF</span>\n",
       "\t\t\t</li><li style=\"text-align:center;line-height:30px;background-color:#00FFFF;\"> \n",
       "\t\t\t<span style=\" text-shadow:0 1px 0 rgba(255,255,255,0.6); color:#000000;\">cyan : #00FFFF</span>\n",
       "\t\t\t</li><li style=\"text-align:center;line-height:30px;background-color:#b3de69;\"> \n",
       "\t\t\t<span style=\" text-shadow:0 1px 0 rgba(255,255,255,0.6); color:#000000;\">paleolive : #B3DE69</span>\n",
       "\t\t\t</li><li style=\"text-align:center;line-height:30px;background-color:#87CEEB;\"> \n",
       "\t\t\t<span style=\" text-shadow:0 1px 0 rgba(255,255,255,0.6); color:#000000;\">skyblue : #87CEEB</span>\n",
       "\t\t\t</li><li style=\"text-align:center;line-height:30px;background-color:#808080;\"> \n",
       "\t\t\t<span style=\" text-shadow:0 1px 0 rgba(255,255,255,0.6); color:#000000;\">gray : #808080</span>\n",
       "\t\t\t</li><li style=\"text-align:center;line-height:30px;background-color:#00CED1;\"> \n",
       "\t\t\t<span style=\" text-shadow:0 1px 0 rgba(255,255,255,0.6); color:#000000;\">darkturquoise : #00CED1</span>\n",
       "\t\t\t</li><li style=\"text-align:center;line-height:30px;background-color:#A9A9A9;\"> \n",
       "\t\t\t<span style=\" text-shadow:0 1px 0 rgba(255,255,255,0.6); color:#000000;\">darkgray : #A9A9A9</span>\n",
       "\t\t\t</li><li style=\"text-align:center;line-height:30px;background-color:#FFB6C1;\"> \n",
       "\t\t\t<span style=\" text-shadow:0 1px 0 rgba(255,255,255,0.6); color:#000000;\">lightpink : #FFB6C1</span>\n",
       "\t\t\t</li><li style=\"text-align:center;line-height:30px;background-color:#008080;\"> \n",
       "\t\t\t<span style=\" text-shadow:0 1px 0 rgba(255,255,255,0.6); color:#000000;\">teal : #008080</span>\n",
       "\t\t\t</li><li style=\"text-align:center;line-height:30px;background-color:#FAFAD2;\"> \n",
       "\t\t\t<span style=\" text-shadow:0 1px 0 rgba(255,255,255,0.6); color:#000000;\">lightgoldenrodyellow : #FAFAD2</span>\n",
       "\t\t\t</li><li style=\"text-align:center;line-height:30px;background-color:#E6E6FA;\"> \n",
       "\t\t\t<span style=\" text-shadow:0 1px 0 rgba(255,255,255,0.6); color:#000000;\">lavender : #E6E6FA</span>\n",
       "\t\t\t</li><li style=\"text-align:center;line-height:30px;background-color:#D8BFD8;\"> \n",
       "\t\t\t<span style=\" text-shadow:0 1px 0 rgba(255,255,255,0.6); color:#000000;\">thistle : #D8BFD8</span>\n",
       "\t\t\t</li><li style=\"text-align:center;line-height:30px;background-color:#EE82EE;\"> \n",
       "\t\t\t<span style=\" text-shadow:0 1px 0 rgba(255,255,255,0.6); color:#000000;\">violet : #EE82EE</span>\n",
       "\t\t\t</li><li style=\"text-align:center;line-height:30px;background-color:#696969;\"> \n",
       "\t\t\t<span style=\" text-shadow:0 1px 0 #000; color:#ffffff;\">dimgrey : #696969</span>\n",
       "\t\t\t</li><li style=\"text-align:center;line-height:30px;background-color:#3780bf;\"> \n",
       "\t\t\t<span style=\" text-shadow:0 1px 0 rgba(255,255,255,0.6); color:#000000;\">blue : #3780BF</span>\n",
       "\t\t\t</li><li style=\"text-align:center;line-height:30px;background-color:#F0FFF0;\"> \n",
       "\t\t\t<span style=\" text-shadow:0 1px 0 rgba(255,255,255,0.6); color:#000000;\">honeydew : #F0FFF0</span>\n",
       "\t\t\t</li><li style=\"text-align:center;line-height:30px;background-color:#6495ED;\"> \n",
       "\t\t\t<span style=\" text-shadow:0 1px 0 rgba(255,255,255,0.6); color:#000000;\">cornflowerblue : #6495ED</span>\n",
       "\t\t\t</li><li style=\"text-align:center;line-height:30px;background-color:#00008B;\"> \n",
       "\t\t\t<span style=\" text-shadow:0 1px 0 rgba(255,255,255,0.6); color:#000000;\">darkblue : #00008B</span>\n",
       "\t\t\t</li><li style=\"text-align:center;line-height:30px;background-color:#9370DB;\"> \n",
       "\t\t\t<span style=\" text-shadow:0 1px 0 rgba(255,255,255,0.6); color:#000000;\">mediumpurple : #9370DB</span>\n",
       "\t\t\t</li><li style=\"text-align:center;line-height:30px;background-color:#80b1d3;\"> \n",
       "\t\t\t<span style=\" text-shadow:0 1px 0 rgba(255,255,255,0.6); color:#000000;\">lightblue2 : #80B1D3</span>\n",
       "\t\t\t</li><li style=\"text-align:center;line-height:30px;background-color:#008B8B;\"> \n",
       "\t\t\t<span style=\" text-shadow:0 1px 0 rgba(255,255,255,0.6); color:#000000;\">darkcyan : #008B8B</span>\n",
       "\t\t\t</li><li style=\"text-align:center;line-height:30px;background-color:#8B0000;\"> \n",
       "\t\t\t<span style=\" text-shadow:0 1px 0 rgba(255,255,255,0.6); color:#000000;\">darkred : #8B0000</span>\n",
       "\t\t\t</li><li style=\"text-align:center;line-height:30px;background-color:#48D1CC;\"> \n",
       "\t\t\t<span style=\" text-shadow:0 1px 0 rgba(255,255,255,0.6); color:#000000;\">mediumturquoise : #48D1CC</span>\n",
       "\t\t\t</li><li style=\"text-align:center;line-height:30px;background-color:#FFFAF0;\"> \n",
       "\t\t\t<span style=\" text-shadow:0 1px 0 rgba(255,255,255,0.6); color:#000000;\">floralwhite : #FFFAF0</span>\n",
       "\t\t\t</li><li style=\"text-align:center;line-height:30px;background-color:#00FFFF;\"> \n",
       "\t\t\t<span style=\" text-shadow:0 1px 0 rgba(255,255,255,0.6); color:#000000;\">aqua : #00FFFF</span>\n",
       "\t\t\t</li><li style=\"text-align:center;line-height:30px;background-color:#B0C4DE;\"> \n",
       "\t\t\t<span style=\" text-shadow:0 1px 0 rgba(255,255,255,0.6); color:#000000;\">lightsteelblue : #B0C4DE</span>\n",
       "\t\t\t</li><li style=\"text-align:center;line-height:30px;background-color:#ADFF2F;\"> \n",
       "\t\t\t<span style=\" text-shadow:0 1px 0 rgba(255,255,255,0.6); color:#000000;\">greenyellow : #ADFF2F</span>\n",
       "\t\t\t</li><li style=\"text-align:center;line-height:30px;background-color:#20B2AA;\"> \n",
       "\t\t\t<span style=\" text-shadow:0 1px 0 rgba(255,255,255,0.6); color:#000000;\">lightseagreen : #20B2AA</span>\n",
       "\t\t\t</li><li style=\"text-align:center;line-height:30px;background-color:#656565;\"> \n",
       "\t\t\t<span style=\" text-shadow:0 1px 0 #000; color:#ffffff;\">mediumgray : #656565</span>\n",
       "\t\t\t</li><li style=\"text-align:center;line-height:30px;background-color:#A0522D;\"> \n",
       "\t\t\t<span style=\" text-shadow:0 1px 0 rgba(255,255,255,0.6); color:#000000;\">sienna : #A0522D</span>\n",
       "\t\t\t</li><li style=\"text-align:center;line-height:30px;background-color:#00FF00;\"> \n",
       "\t\t\t<span style=\" text-shadow:0 1px 0 rgba(255,255,255,0.6); color:#000000;\">lime : #00FF00</span>\n",
       "\t\t\t</li><li style=\"text-align:center;line-height:30px;background-color:#98FB98;\"> \n",
       "\t\t\t<span style=\" text-shadow:0 1px 0 rgba(255,255,255,0.6); color:#000000;\">palegreen : #98FB98</span>\n",
       "\t\t\t</li><li style=\"text-align:center;line-height:30px;background-color:#FFF5EE;\"> \n",
       "\t\t\t<span style=\" text-shadow:0 1px 0 rgba(255,255,255,0.6); color:#000000;\">seashell : #FFF5EE</span>\n",
       "\t\t\t</li><li style=\"text-align:center;line-height:30px;background-color:#4169E1;\"> \n",
       "\t\t\t<span style=\" text-shadow:0 1px 0 rgba(255,255,255,0.6); color:#000000;\">royalblue : #4169E1</span>\n",
       "\t\t\t</li><li style=\"text-align:center;line-height:30px;background-color:#E1E5ED;\"> \n",
       "\t\t\t<span style=\" text-shadow:0 1px 0 rgba(255,255,255,0.6); color:#000000;\">pearl03 : #E1E5ED</span>\n",
       "\t\t\t</li><li style=\"text-align:center;line-height:30px;background-color:#F5F6F9;\"> \n",
       "\t\t\t<span style=\" text-shadow:0 1px 0 rgba(255,255,255,0.6); color:#000000;\">pearl02 : #F5F6F9</span>\n",
       "\t\t\t</li><li style=\"text-align:center;line-height:30px;background-color:#4D5663;\"> \n",
       "\t\t\t<span style=\" text-shadow:0 1px 0 #000; color:#ffffff;\">pearl06 : #4D5663</span>\n",
       "\t\t\t</li><li style=\"text-align:center;line-height:30px;background-color:#CD853F;\"> \n",
       "\t\t\t<span style=\" text-shadow:0 1px 0 rgba(255,255,255,0.6); color:#000000;\">peru : #CD853F</span>\n",
       "\t\t\t</li><li style=\"text-align:center;line-height:30px;background-color:#9499A3;\"> \n",
       "\t\t\t<span style=\" text-shadow:0 1px 0 rgba(255,255,255,0.6); color:#000000;\">pearl04 : #9499A3</span>\n",
       "\t\t\t</li><li style=\"text-align:center;line-height:30px;background-color:#7FFFD4;\"> \n",
       "\t\t\t<span style=\" text-shadow:0 1px 0 rgba(255,255,255,0.6); color:#000000;\">aquamarine : #7FFFD4</span>\n",
       "\t\t\t</li><li style=\"text-align:center;line-height:30px;background-color:#E24A33;\"> \n",
       "\t\t\t<span style=\" text-shadow:0 1px 0 rgba(255,255,255,0.6); color:#000000;\">brick : #E24A33</span>\n",
       "\t\t\t</li><li style=\"text-align:center;line-height:30px;background-color:#8476CA;\"> \n",
       "\t\t\t<span style=\" text-shadow:0 1px 0 rgba(255,255,255,0.6); color:#000000;\">lightviolet : #8476CA</span>\n",
       "\t\t\t</li><li style=\"text-align:center;line-height:30px;background-color:#2F4F4F;\"> \n",
       "\t\t\t<span style=\" text-shadow:0 1px 0 #000; color:#ffffff;\">darkslategray : #2F4F4F</span>\n",
       "\t\t\t</li><li style=\"text-align:center;line-height:30px;background-color:#151516;\"> \n",
       "\t\t\t<span style=\" text-shadow:0 1px 0 #000; color:#ffffff;\">charcoal : #151516</span>\n",
       "\t\t\t</li><li style=\"text-align:center;line-height:30px;background-color:#B8860B;\"> \n",
       "\t\t\t<span style=\" text-shadow:0 1px 0 rgba(255,255,255,0.6); color:#000000;\">darkgoldenrod : #B8860B</span>\n",
       "\t\t\t</li><li style=\"text-align:center;line-height:30px;background-color:#7CFC00;\"> \n",
       "\t\t\t<span style=\" text-shadow:0 1px 0 rgba(255,255,255,0.6); color:#000000;\">lawngreen : #7CFC00</span>\n",
       "\t\t\t</li><li style=\"text-align:center;line-height:30px;background-color:#D2691E;\"> \n",
       "\t\t\t<span style=\" text-shadow:0 1px 0 rgba(255,255,255,0.6); color:#000000;\">chocolate : #D2691E</span>\n",
       "\t\t\t</li><li style=\"text-align:center;line-height:30px;background-color:#A9A9A9;\"> \n",
       "\t\t\t<span style=\" text-shadow:0 1px 0 rgba(255,255,255,0.6); color:#000000;\">darkgrey : #A9A9A9</span>\n",
       "\t\t\t</li><li style=\"text-align:center;line-height:30px;background-color:#808000;\"> \n",
       "\t\t\t<span style=\" text-shadow:0 1px 0 rgba(255,255,255,0.6); color:#000000;\">olive : #808000</span>\n",
       "\t\t\t</li><li style=\"text-align:center;line-height:30px;background-color:#F5FFFA;\"> \n",
       "\t\t\t<span style=\" text-shadow:0 1px 0 rgba(255,255,255,0.6); color:#000000;\">mintcream : #F5FFFA</span>\n",
       "\t\t\t</li><li style=\"text-align:center;line-height:30px;background-color:#FAEBD7;\"> \n",
       "\t\t\t<span style=\" text-shadow:0 1px 0 rgba(255,255,255,0.6); color:#000000;\">antiquewhite : #FAEBD7</span>\n",
       "\t\t\t</li><li style=\"text-align:center;line-height:30px;background-color:#FFE4B5;\"> \n",
       "\t\t\t<span style=\" text-shadow:0 1px 0 rgba(255,255,255,0.6); color:#000000;\">moccasin : #FFE4B5</span>\n",
       "\t\t\t</li><li style=\"text-align:center;line-height:30px;background-color:#666666;\"> \n",
       "\t\t\t<span style=\" text-shadow:0 1px 0 #000; color:#ffffff;\">grey10 : #666666</span>\n",
       "\t\t\t</li><li style=\"text-align:center;line-height:30px;background-color:#8C8C8C;\"> \n",
       "\t\t\t<span style=\" text-shadow:0 1px 0 rgba(255,255,255,0.6); color:#000000;\">grey11 : #8C8C8C</span>\n",
       "\t\t\t</li><li style=\"text-align:center;line-height:30px;background-color:#C2C2C2;\"> \n",
       "\t\t\t<span style=\" text-shadow:0 1px 0 rgba(255,255,255,0.6); color:#000000;\">grey12 : #C2C2C2</span>\n",
       "\t\t\t</li><li style=\"text-align:center;line-height:30px;background-color:#E2E2E2;\"> \n",
       "\t\t\t<span style=\" text-shadow:0 1px 0 rgba(255,255,255,0.6); color:#000000;\">grey13 : #E2E2E2</span>\n",
       "\t\t\t</li><li style=\"text-align:center;line-height:30px;background-color:#8B4513;\"> \n",
       "\t\t\t<span style=\" text-shadow:0 1px 0 rgba(255,255,255,0.6); color:#000000;\">saddlebrown : #8B4513</span>\n",
       "\t\t\t</li><li style=\"text-align:center;line-height:30px;background-color:#483D8B;\"> \n",
       "\t\t\t<span style=\" text-shadow:0 1px 0 rgba(255,255,255,0.6); color:#000000;\">darkslateblue : #483D8B</span>\n",
       "\t\t\t</li><li style=\"text-align:center;line-height:30px;background-color:#87CEFA;\"> \n",
       "\t\t\t<span style=\" text-shadow:0 1px 0 rgba(255,255,255,0.6); color:#000000;\">lightskyblue : #87CEFA</span>\n",
       "\t\t\t</li><li style=\"text-align:center;line-height:30px;background-color:#FF1493;\"> \n",
       "\t\t\t<span style=\" text-shadow:0 1px 0 rgba(255,255,255,0.6); color:#000000;\">deeppink : #FF1493</span>\n",
       "\t\t\t</li><li style=\"text-align:center;line-height:30px;background-color:#3E6FB0;\"> \n",
       "\t\t\t<span style=\" text-shadow:0 1px 0 rgba(255,255,255,0.6); color:#000000;\">smurf : #3E6FB0</span>\n",
       "\t\t\t</li><li style=\"text-align:center;line-height:30px;background-color:#FF7F50;\"> \n",
       "\t\t\t<span style=\" text-shadow:0 1px 0 rgba(255,255,255,0.6); color:#000000;\">coral : #FF7F50</span>\n",
       "\t\t\t</li><li style=\"text-align:center;line-height:30px;background-color:#1E90FF;\"> \n",
       "\t\t\t<span style=\" text-shadow:0 1px 0 rgba(255,255,255,0.6); color:#000000;\">dodgerblue : #1E90FF</span>\n",
       "\t\t\t</li><li style=\"text-align:center;line-height:30px;background-color:#FAA460;\"> \n",
       "\t\t\t<span style=\" text-shadow:0 1px 0 rgba(255,255,255,0.6); color:#000000;\">sandybrown : #FAA460</span>\n",
       "\t\t\t</li><li style=\"text-align:center;line-height:30px;background-color:#FF00FF;\"> \n",
       "\t\t\t<span style=\" text-shadow:0 1px 0 rgba(255,255,255,0.6); color:#000000;\">magenta : #FF00FF</span>\n",
       "\t\t\t</li><li style=\"text-align:center;line-height:30px;background-color:#D2B48C;\"> \n",
       "\t\t\t<span style=\" text-shadow:0 1px 0 rgba(255,255,255,0.6); color:#000000;\">tan : #D2B48C</span>\n",
       "\t\t\t</li><li style=\"text-align:center;line-height:30px;background-color:#ff0088;\"> \n",
       "\t\t\t<span style=\" text-shadow:0 1px 0 rgba(255,255,255,0.6); color:#000000;\">pink : #FF0088</span>\n",
       "\t\t\t</li><li style=\"text-align:center;line-height:30px;background-color:#DB7093;\"> \n",
       "\t\t\t<span style=\" text-shadow:0 1px 0 rgba(255,255,255,0.6); color:#000000;\">palevioletred : #DB7093</span>\n",
       "\t\t\t</li><li style=\"text-align:center;line-height:30px;background-color:#3CB371;\"> \n",
       "\t\t\t<span style=\" text-shadow:0 1px 0 rgba(255,255,255,0.6); color:#000000;\">mediumseagreen : #3CB371</span>\n",
       "\t\t\t</li><li style=\"text-align:center;line-height:30px;background-color:#FF8C00;\"> \n",
       "\t\t\t<span style=\" text-shadow:0 1px 0 rgba(255,255,255,0.6); color:#000000;\">darkorange : #FF8C00</span>\n",
       "\t\t\t</li><li style=\"text-align:center;line-height:30px;background-color:#B0E0E6;\"> \n",
       "\t\t\t<span style=\" text-shadow:0 1px 0 rgba(255,255,255,0.6); color:#000000;\">powderblue : #B0E0E6</span>\n",
       "\t\t\t</li><li style=\"text-align:center;line-height:30px;background-color:#0000CD;\"> \n",
       "\t\t\t<span style=\" text-shadow:0 1px 0 rgba(255,255,255,0.6); color:#000000;\">mediumblue : #0000CD</span>\n",
       "\t\t\t</li><li style=\"text-align:center;line-height:30px;background-color:#BC8F8F;\"> \n",
       "\t\t\t<span style=\" text-shadow:0 1px 0 rgba(255,255,255,0.6); color:#000000;\">rosybrown : #BC8F8F</span>\n",
       "\t\t\t</li><li style=\"text-align:center;line-height:30px;background-color:#565656;\"> \n",
       "\t\t\t<span style=\" text-shadow:0 1px 0 #000; color:#ffffff;\">bluegray : #565656</span>\n",
       "\t\t\t</li><li style=\"text-align:center;line-height:30px;background-color:#191970;\"> \n",
       "\t\t\t<span style=\" text-shadow:0 1px 0 #000; color:#ffffff;\">midnightblue : #191970</span>\n",
       "\t\t\t</li><li style=\"text-align:center;line-height:30px;background-color:#EEE8AA;\"> \n",
       "\t\t\t<span style=\" text-shadow:0 1px 0 rgba(255,255,255,0.6); color:#000000;\">palegoldenrod : #EEE8AA</span>\n",
       "\t\t\t</li><li style=\"text-align:center;line-height:30px;background-color:#778899;\"> \n",
       "\t\t\t<span style=\" text-shadow:0 1px 0 rgba(255,255,255,0.6); color:#000000;\">lightslategray : #778899</span>\n",
       "\t\t\t</li><li style=\"text-align:center;line-height:30px;background-color:#D3D3D3;\"> \n",
       "\t\t\t<span style=\" text-shadow:0 1px 0 rgba(255,255,255,0.6); color:#000000;\">lightgray : #D3D3D3</span>\n",
       "\t\t\t</li><li style=\"text-align:center;line-height:30px;background-color:#FF69B4;\"> \n",
       "\t\t\t<span style=\" text-shadow:0 1px 0 rgba(255,255,255,0.6); color:#000000;\">hotpink : #FF69B4</span>\n",
       "\t\t\t</li><li style=\"text-align:center;line-height:30px;background-color:#FFFFE0;\"> \n",
       "\t\t\t<span style=\" text-shadow:0 1px 0 rgba(255,255,255,0.6); color:#000000;\">lightyellow : #FFFFE0</span>\n",
       "\t\t\t</li><li style=\"text-align:center;line-height:30px;background-color:#FFF0F5;\"> \n",
       "\t\t\t<span style=\" text-shadow:0 1px 0 rgba(255,255,255,0.6); color:#000000;\">lavenderblush : #FFF0F5</span>\n",
       "\t\t\t</li><li style=\"text-align:center;line-height:30px;background-color:#FAF0E6;\"> \n",
       "\t\t\t<span style=\" text-shadow:0 1px 0 rgba(255,255,255,0.6); color:#000000;\">linen : #FAF0E6</span>\n",
       "\t\t\t</li><li style=\"text-align:center;line-height:30px;background-color:#008000;\"> \n",
       "\t\t\t<span style=\" text-shadow:0 1px 0 rgba(255,255,255,0.6); color:#000000;\">green : #008000</span>\n",
       "\t\t\t</li><li style=\"text-align:center;line-height:30px;background-color:#8A2BE2;\"> \n",
       "\t\t\t<span style=\" text-shadow:0 1px 0 rgba(255,255,255,0.6); color:#000000;\">blueviolet : #8A2BE2</span>\n",
       "\t\t\t</li><li style=\"text-align:center;line-height:30px;background-color:#FFDAB9;\"> \n",
       "\t\t\t<span style=\" text-shadow:0 1px 0 rgba(255,255,255,0.6); color:#000000;\">peachpuff : #FFDAB9</span>\n",
       "\t\t\t</li><li style=\"text-align:center;line-height:30px;background-color:#4B0082;\"> \n",
       "\t\t\t<span style=\" text-shadow:0 1px 0 rgba(255,255,255,0.6); color:#000000;\">indigo : #4B0082</span>\n",
       "\t\t\t</li><li style=\"text-align:center;line-height:30px;background-color:#B22222;\"> \n",
       "\t\t\t<span style=\" text-shadow:0 1px 0 rgba(255,255,255,0.6); color:#000000;\">firebrick : #B22222</span>\n",
       "\t\t\t</li><li style=\"text-align:center;line-height:30px;background-color:#CD5C5C;\"> \n",
       "\t\t\t<span style=\" text-shadow:0 1px 0 rgba(255,255,255,0.6); color:#000000;\">indianred : #CD5C5C</span>\n",
       "\t\t\t</li><li style=\"text-align:center;line-height:30px;background-color:#556B2F;\"> \n",
       "\t\t\t<span style=\" text-shadow:0 1px 0 #000; color:#ffffff;\">darkolivegreen : #556B2F</span>\n",
       "\t\t\t</li><li style=\"text-align:center;line-height:30px;background-color:#708090;\"> \n",
       "\t\t\t<span style=\" text-shadow:0 1px 0 rgba(255,255,255,0.6); color:#000000;\">slategrey : #708090</span>\n",
       "\t\t\t</li><li style=\"text-align:center;line-height:30px;background-color:#2F4F4F;\"> \n",
       "\t\t\t<span style=\" text-shadow:0 1px 0 #000; color:#ffffff;\">darkslategrey : #2F4F4F</span>\n",
       "\t\t\t</li><li style=\"text-align:center;line-height:30px;background-color:#FFC0CB;\"> \n",
       "\t\t\t<span style=\" text-shadow:0 1px 0 rgba(255,255,255,0.6); color:#000000;\">rose : #FFC0CB</span>\n",
       "\t\t\t</li><li style=\"text-align:center;line-height:30px;background-color:#BA55D3;\"> \n",
       "\t\t\t<span style=\" text-shadow:0 1px 0 rgba(255,255,255,0.6); color:#000000;\">mediumorchid : #BA55D3</span>\n",
       "\t\t\t</li><li style=\"text-align:center;line-height:30px;background-color:#7FFF00;\"> \n",
       "\t\t\t<span style=\" text-shadow:0 1px 0 rgba(255,255,255,0.6); color:#000000;\">chartreuse : #7FFF00</span>\n",
       "\t\t\t</li><li style=\"text-align:center;line-height:30px;background-color:#00FF7F;\"> \n",
       "\t\t\t<span style=\" text-shadow:0 1px 0 rgba(255,255,255,0.6); color:#000000;\">springgreen : #00FF7F</span>\n",
       "\t\t\t</li><li style=\"text-align:center;line-height:30px;background-color:#ff9933;\"> \n",
       "\t\t\t<span style=\" text-shadow:0 1px 0 rgba(255,255,255,0.6); color:#000000;\">orange : #FF9933</span>\n",
       "\t\t\t</li><li style=\"text-align:center;line-height:30px;background-color:#FFA07A;\"> \n",
       "\t\t\t<span style=\" text-shadow:0 1px 0 rgba(255,255,255,0.6); color:#000000;\">lightsalmon : #FFA07A</span>\n",
       "\t\t\t</li><li style=\"text-align:center;line-height:30px;background-color:#40E0D0;\"> \n",
       "\t\t\t<span style=\" text-shadow:0 1px 0 rgba(255,255,255,0.6); color:#000000;\">turquoise : #40E0D0</span>\n",
       "\t\t\t</li><li style=\"text-align:center;line-height:30px;background-color:#6B8E23;\"> \n",
       "\t\t\t<span style=\" text-shadow:0 1px 0 rgba(255,255,255,0.6); color:#000000;\">olivedrab : #6B8E23</span>\n",
       "\t\t\t</li><li style=\"text-align:center;line-height:30px;background-color:#C0C0C0;\"> \n",
       "\t\t\t<span style=\" text-shadow:0 1px 0 rgba(255,255,255,0.6); color:#000000;\">silver : #C0C0C0</span>\n",
       "\t\t\t</li><li style=\"text-align:center;line-height:30px;background-color:#DAA520;\"> \n",
       "\t\t\t<span style=\" text-shadow:0 1px 0 rgba(255,255,255,0.6); color:#000000;\">goldenrod : #DAA520</span>\n",
       "\t\t\t</li><li style=\"text-align:center;line-height:30px;background-color:#006400;\"> \n",
       "\t\t\t<span style=\" text-shadow:0 1px 0 #000; color:#ffffff;\">darkgreen : #006400</span>\n",
       "\t\t\t</li><li style=\"text-align:center;line-height:30px;background-color:#9400D3;\"> \n",
       "\t\t\t<span style=\" text-shadow:0 1px 0 rgba(255,255,255,0.6); color:#000000;\">darkviolet : #9400D3</span>\n",
       "\t\t\t</li><li style=\"text-align:center;line-height:30px;background-color:#8B008B;\"> \n",
       "\t\t\t<span style=\" text-shadow:0 1px 0 rgba(255,255,255,0.6); color:#000000;\">darkmagenta : #8B008B</span>\n",
       "\t\t\t</li><li style=\"text-align:center;line-height:30px;background-color:#FF0000;\"> \n",
       "\t\t\t<span style=\" text-shadow:0 1px 0 rgba(255,255,255,0.6); color:#000000;\">brightred : #FF0000</span>\n",
       "\t\t\t</li><li style=\"text-align:center;line-height:30px;background-color:#9ACD32;\"> \n",
       "\t\t\t<span style=\" text-shadow:0 1px 0 rgba(255,255,255,0.6); color:#000000;\">yellowgreen : #9ACD32</span>\n",
       "\t\t\t</li><li style=\"text-align:center;line-height:30px;background-color:#000080;\"> \n",
       "\t\t\t<span style=\" text-shadow:0 1px 0 rgba(255,255,255,0.6); color:#000000;\">navy : #000080</span>\n",
       "\t\t\t</li><li style=\"text-align:center;line-height:30px;background-color:#DA70D6;\"> \n",
       "\t\t\t<span style=\" text-shadow:0 1px 0 rgba(255,255,255,0.6); color:#000000;\">orchid : #DA70D6</span>\n",
       "\t\t\t</li><li style=\"text-align:center;line-height:30px;background-color:#F8F8FF;\"> \n",
       "\t\t\t<span style=\" text-shadow:0 1px 0 rgba(255,255,255,0.6); color:#000000;\">ghostwhite : #F8F8FF</span>\n",
       "\t\t\t</li><li style=\"text-align:center;line-height:30px;background-color:#EAE7E4;\"> \n",
       "\t\t\t<span style=\" text-shadow:0 1px 0 rgba(255,255,255,0.6); color:#000000;\">seaborn : #EAE7E4</span>\n",
       "\t\t\t</li><li style=\"text-align:center;line-height:30px;background-color:#800080;\"> \n",
       "\t\t\t<span style=\" text-shadow:0 1px 0 rgba(255,255,255,0.6); color:#000000;\">purple : #800080</span>\n",
       "\t\t\t</li><li style=\"text-align:center;line-height:30px;background-color:#bc80bd;\"> \n",
       "\t\t\t<span style=\" text-shadow:0 1px 0 rgba(255,255,255,0.6); color:#000000;\">lightpurple : #BC80BD</span>\n",
       "\t\t\t</li><li style=\"text-align:center;line-height:30px;background-color:#BDB76B;\"> \n",
       "\t\t\t<span style=\" text-shadow:0 1px 0 rgba(255,255,255,0.6); color:#000000;\">darkkhaki : #BDB76B</span>\n",
       "\t\t\t</li><li style=\"text-align:center;line-height:30px;background-color:#FFF8DC;\"> \n",
       "\t\t\t<span style=\" text-shadow:0 1px 0 rgba(255,255,255,0.6); color:#000000;\">cornsilk : #FFF8DC</span>\n",
       "\t\t\t</li><li style=\"text-align:center;line-height:30px;background-color:#db4052;\"> \n",
       "\t\t\t<span style=\" text-shadow:0 1px 0 rgba(255,255,255,0.6); color:#000000;\">red : #DB4052</span>\n",
       "\t\t\t</li><li style=\"text-align:center;line-height:30px;background-color:#FFE4C4;\"> \n",
       "\t\t\t<span style=\" text-shadow:0 1px 0 rgba(255,255,255,0.6); color:#000000;\">bisque : #FFE4C4</span>\n",
       "\t\t\t</li><li style=\"text-align:center;line-height:30px;background-color:#F0E68C;\"> \n",
       "\t\t\t<span style=\" text-shadow:0 1px 0 rgba(255,255,255,0.6); color:#000000;\">khaki : #F0E68C</span>\n",
       "\t\t\t</li><li style=\"text-align:center;line-height:30px;background-color:#F5DEB3;\"> \n",
       "\t\t\t<span style=\" text-shadow:0 1px 0 rgba(255,255,255,0.6); color:#000000;\">wheat : #F5DEB3</span>\n",
       "\t\t\t</li><li style=\"text-align:center;line-height:30px;background-color:#00BFFF;\"> \n",
       "\t\t\t<span style=\" text-shadow:0 1px 0 rgba(255,255,255,0.6); color:#000000;\">deepskyblue : #00BFFF</span>\n",
       "\t\t\t</li><li style=\"text-align:center;line-height:30px;background-color:#4682B4;\"> \n",
       "\t\t\t<span style=\" text-shadow:0 1px 0 rgba(255,255,255,0.6); color:#000000;\">steelblue : #4682B4</span>\n",
       "\t\t\t</li><li style=\"text-align:center;line-height:30px;background-color:#F0F8FF;\"> \n",
       "\t\t\t<span style=\" text-shadow:0 1px 0 rgba(255,255,255,0.6); color:#000000;\">aliceblue : #F0F8FF</span>\n",
       "\t\t\t</li><li style=\"text-align:center;line-height:30px;background-color:#778899;\"> \n",
       "\t\t\t<span style=\" text-shadow:0 1px 0 rgba(255,255,255,0.6); color:#000000;\">lightslategrey : #778899</span>\n",
       "\t\t\t</li><li style=\"text-align:center;line-height:30px;background-color:#DCDCDC;\"> \n",
       "\t\t\t<span style=\" text-shadow:0 1px 0 rgba(255,255,255,0.6); color:#000000;\">gainsboro : #DCDCDC</span>\n",
       "\t\t\t</li><li style=\"text-align:center;line-height:30px;background-color:#DDA0DD;\"> \n",
       "\t\t\t<span style=\" text-shadow:0 1px 0 rgba(255,255,255,0.6); color:#000000;\">plum : #DDA0DD</span>\n",
       "\t\t\t</li><li style=\"text-align:center;line-height:30px;background-color:#D3D3D3;\"> \n",
       "\t\t\t<span style=\" text-shadow:0 1px 0 rgba(255,255,255,0.6); color:#000000;\">lightgrey : #D3D3D3</span>\n",
       "\t\t\t</li><li style=\"text-align:center;line-height:30px;background-color:#DEB887;\"> \n",
       "\t\t\t<span style=\" text-shadow:0 1px 0 rgba(255,255,255,0.6); color:#000000;\">burlywood : #DEB887</span>\n",
       "\t\t\t</li><li style=\"text-align:center;line-height:30px;background-color:#E9967A;\"> \n",
       "\t\t\t<span style=\" text-shadow:0 1px 0 rgba(255,255,255,0.6); color:#000000;\">darksalmon : #E9967A</span>\n",
       "\t\t\t</li><li style=\"text-align:center;line-height:30px;background-color:#F5F5DC;\"> \n",
       "\t\t\t<span style=\" text-shadow:0 1px 0 rgba(255,255,255,0.6); color:#000000;\">beige : #F5F5DC</span>\n",
       "\t\t\t</li><li style=\"text-align:center;line-height:30px;background-color:#F0FFFF;\"> \n",
       "\t\t\t<span style=\" text-shadow:0 1px 0 rgba(255,255,255,0.6); color:#000000;\">azure : #F0FFFF</span>\n",
       "\t\t\t</li><li style=\"text-align:center;line-height:30px;background-color:#32ab60;\"> \n",
       "\t\t\t<span style=\" text-shadow:0 1px 0 rgba(255,255,255,0.6); color:#000000;\">grassgreen : #32AB60</span>\n",
       "\t\t\t</li><li style=\"text-align:center;line-height:30px;background-color:#C71585;\"> \n",
       "\t\t\t<span style=\" text-shadow:0 1px 0 rgba(255,255,255,0.6); color:#000000;\">mediumvioletred : #C71585</span>\n",
       "\t\t\t</li><li style=\"text-align:center;line-height:30px;background-color:#F08080;\"> \n",
       "\t\t\t<span style=\" text-shadow:0 1px 0 rgba(255,255,255,0.6); color:#000000;\">lightcoral : #F08080</span>\n",
       "\t\t\t</li><li style=\"text-align:center;line-height:30px;background-color:#FF4500;\"> \n",
       "\t\t\t<span style=\" text-shadow:0 1px 0 rgba(255,255,255,0.6); color:#000000;\">orangered : #FF4500</span>\n",
       "\t\t\t</li><li style=\"text-align:center;line-height:30px;background-color:#FFDEAD;\"> \n",
       "\t\t\t<span style=\" text-shadow:0 1px 0 rgba(255,255,255,0.6); color:#000000;\">navajowhite : #FFDEAD</span>\n",
       "\t\t\t</li><li style=\"text-align:center;line-height:30px;background-color:#708090;\"> \n",
       "\t\t\t<span style=\" text-shadow:0 1px 0 rgba(255,255,255,0.6); color:#000000;\">slategray : #708090</span>\n",
       "\t\t\t</li><li style=\"text-align:center;line-height:30px;background-color:#D9D9D9;\"> \n",
       "\t\t\t<span style=\" text-shadow:0 1px 0 rgba(255,255,255,0.6); color:#000000;\">pearl : #D9D9D9</span>\n",
       "\t\t\t</li><li style=\"text-align:center;line-height:30px;background-color:#FFE4E1;\"> \n",
       "\t\t\t<span style=\" text-shadow:0 1px 0 rgba(255,255,255,0.6); color:#000000;\">mistyrose : #FFE4E1</span>\n",
       "\t\t\t</li><li style=\"text-align:center;line-height:30px;background-color:#00FA9A;\"> \n",
       "\t\t\t<span style=\" text-shadow:0 1px 0 rgba(255,255,255,0.6); color:#000000;\">mediumspringgreen : #00FA9A</span>\n",
       "\t\t\t</li><li style=\"text-align:center;line-height:30px;background-color:#FF00FF;\"> \n",
       "\t\t\t<span style=\" text-shadow:0 1px 0 rgba(255,255,255,0.6); color:#000000;\">fuchsia : #FF00FF</span>\n",
       "\t\t\t</li><li style=\"text-align:center;line-height:30px;background-color:#FFEBCD;\"> \n",
       "\t\t\t<span style=\" text-shadow:0 1px 0 rgba(255,255,255,0.6); color:#000000;\">blanchedalmond : #FFEBCD</span>\n",
       "\t\t\t</li><li style=\"text-align:center;line-height:30px;background-color:#FFFACD;\"> \n",
       "\t\t\t<span style=\" text-shadow:0 1px 0 rgba(255,255,255,0.6); color:#000000;\">lemonchiffon : #FFFACD</span>\n",
       "\t\t\t</li><li style=\"text-align:center;line-height:30px;background-color:#FFFFFF;\"> \n",
       "\t\t\t<span style=\" text-shadow:0 1px 0 rgba(255,255,255,0.6); color:#000000;\">white : #FFFFFF</span>\n",
       "\t\t\t</li><li style=\"text-align:center;line-height:30px;background-color:#FF6347;\"> \n",
       "\t\t\t<span style=\" text-shadow:0 1px 0 rgba(255,255,255,0.6); color:#000000;\">tomato : #FF6347</span>\n",
       "\t\t\t</li><li style=\"text-align:center;line-height:30px;background-color:#FFFFF0;\"> \n",
       "\t\t\t<span style=\" text-shadow:0 1px 0 rgba(255,255,255,0.6); color:#000000;\">ivory : #FFFFF0</span>\n",
       "\t\t\t</li><li style=\"text-align:center;line-height:30px;background-color:#6F7B8B;\"> \n",
       "\t\t\t<span style=\" text-shadow:0 1px 0 rgba(255,255,255,0.6); color:#000000;\">pearl05 : #6F7B8B</span>\n",
       "\t\t\t</li><li style=\"text-align:center;line-height:30px;background-color:#fccde5;\"> \n",
       "\t\t\t<span style=\" text-shadow:0 1px 0 rgba(255,255,255,0.6); color:#000000;\">lightpink2 : #FCCDE5</span>\n",
       "\t\t\t</li><li style=\"text-align:center;line-height:30px;background-color:#228B22;\"> \n",
       "\t\t\t<span style=\" text-shadow:0 1px 0 rgba(255,255,255,0.6); color:#000000;\">forestgreen : #228B22</span>\n",
       "\t\t\t</li><li style=\"text-align:center;line-height:30px;background-color:#5F9EA0;\"> \n",
       "\t\t\t<span style=\" text-shadow:0 1px 0 rgba(255,255,255,0.6); color:#000000;\">cadetblue : #5F9EA0</span>\n",
       "\t\t\t</li><li style=\"text-align:center;line-height:30px;background-color:#32CD32;\"> \n",
       "\t\t\t<span style=\" text-shadow:0 1px 0 rgba(255,255,255,0.6); color:#000000;\">limegreen : #32CD32</span>\n",
       "\t\t\t</li><li style=\"text-align:center;line-height:30px;background-color:#0000FF;\"> \n",
       "\t\t\t<span style=\" text-shadow:0 1px 0 rgba(255,255,255,0.6); color:#000000;\">brightblue : #0000FF</span>\n",
       "\t\t\t</li><li style=\"text-align:center;line-height:30px;background-color:#808080;\"> \n",
       "\t\t\t<span style=\" text-shadow:0 1px 0 rgba(255,255,255,0.6); color:#000000;\">grey : #808080</span>\n",
       "\t\t\t</li><li style=\"text-align:center;line-height:30px;background-color:#6432AB;\"> \n",
       "\t\t\t<span style=\" text-shadow:0 1px 0 rgba(255,255,255,0.6); color:#000000;\">bluepurple : #6432AB</span>\n",
       "\t\t\t</li><li style=\"text-align:center;line-height:30px;background-color:#800000;\"> \n",
       "\t\t\t<span style=\" text-shadow:0 1px 0 rgba(255,255,255,0.6); color:#000000;\">maroon : #800000</span>\n",
       "\t\t\t</li><li style=\"text-align:center;line-height:30px;background-color:#3C3C42;\"> \n",
       "\t\t\t<span style=\" text-shadow:0 1px 0 #000; color:#ffffff;\">grey07 : #3C3C42</span>\n",
       "\t\t\t</li><li style=\"text-align:center;line-height:30px;background-color:#36363C;\"> \n",
       "\t\t\t<span style=\" text-shadow:0 1px 0 #000; color:#ffffff;\">grey06 : #36363C</span>\n",
       "\t\t\t</li><li style=\"text-align:center;line-height:30px;background-color:#252529;\"> \n",
       "\t\t\t<span style=\" text-shadow:0 1px 0 #000; color:#ffffff;\">grey05 : #252529</span>\n",
       "\t\t\t</li><li style=\"text-align:center;line-height:30px;background-color:#1E1E21;\"> \n",
       "\t\t\t<span style=\" text-shadow:0 1px 0 #000; color:#ffffff;\">grey04 : #1E1E21</span>\n",
       "\t\t\t</li><li style=\"text-align:center;line-height:30px;background-color:#1A1A1C;\"> \n",
       "\t\t\t<span style=\" text-shadow:0 1px 0 #000; color:#ffffff;\">grey03 : #1A1A1C</span>\n",
       "\t\t\t</li><li style=\"text-align:center;line-height:30px;background-color:#151516;\"> \n",
       "\t\t\t<span style=\" text-shadow:0 1px 0 #000; color:#ffffff;\">grey02 : #151516</span>\n",
       "\t\t\t</li><li style=\"text-align:center;line-height:30px;background-color:#0A0A0A;\"> \n",
       "\t\t\t<span style=\" text-shadow:0 1px 0 #000; color:#ffffff;\">grey01 : #0A0A0A</span>\n",
       "\t\t\t</li><li style=\"text-align:center;line-height:30px;background-color:#666570;\"> \n",
       "\t\t\t<span style=\" text-shadow:0 1px 0 #000; color:#ffffff;\">grey09 : #666570</span>\n",
       "\t\t\t</li><li style=\"text-align:center;line-height:30px;background-color:#434343;\"> \n",
       "\t\t\t<span style=\" text-shadow:0 1px 0 #000; color:#ffffff;\">grey08 : #434343</span>\n",
       "\t\t\t</li><li style=\"text-align:center;line-height:30px;background-color:#F5F5F5;\"> \n",
       "\t\t\t<span style=\" text-shadow:0 1px 0 rgba(255,255,255,0.6); color:#000000;\">whitesmoke : #F5F5F5</span>\n",
       "\t\t\t</li><li style=\"text-align:center;line-height:30px;background-color:#ADD8E6;\"> \n",
       "\t\t\t<span style=\" text-shadow:0 1px 0 rgba(255,255,255,0.6); color:#000000;\">lightblue : #ADD8E6</span>\n",
       "\t\t\t</li><li style=\"text-align:center;line-height:30px;background-color:#FFB5B8;\"> \n",
       "\t\t\t<span style=\" text-shadow:0 1px 0 rgba(255,255,255,0.6); color:#000000;\">pinksalmon : #FFB5B8</span>\n",
       "\t\t\t</li><li style=\"text-align:center;line-height:30px;background-color:#6A5ACD;\"> \n",
       "\t\t\t<span style=\" text-shadow:0 1px 0 rgba(255,255,255,0.6); color:#000000;\">slateblue : #6A5ACD</span>\n",
       "\t\t\t</li><li style=\"text-align:center;line-height:30px;background-color:#696969;\"> \n",
       "\t\t\t<span style=\" text-shadow:0 1px 0 #000; color:#ffffff;\">dimgray : #696969</span>\n",
       "\t\t\t</li><li style=\"text-align:center;line-height:30px;background-color:#2E8B57;\"> \n",
       "\t\t\t<span style=\" text-shadow:0 1px 0 rgba(255,255,255,0.6); color:#000000;\">seagreen : #2E8B57</span>\n",
       "\t\t\t</li><li style=\"text-align:center;line-height:30px;background-color:#FFFAFA;\"> \n",
       "\t\t\t<span style=\" text-shadow:0 1px 0 rgba(255,255,255,0.6); color:#000000;\">snow : #FFFAFA</span>\n",
       "\t\t\t</li><li style=\"text-align:center;line-height:30px;background-color:#7B68EE;\"> \n",
       "\t\t\t<span style=\" text-shadow:0 1px 0 rgba(255,255,255,0.6); color:#000000;\">mediumslateblue : #7B68EE</span>\n",
       "\t\t\t</li><li style=\"text-align:center;line-height:30px;background-color:#AFEEEE;\"> \n",
       "\t\t\t<span style=\" text-shadow:0 1px 0 rgba(255,255,255,0.6); color:#000000;\">paleturquoise : #AFEEEE</span>\n",
       "\t\t\t</li><li style=\"text-align:center;line-height:30px;background-color:#FBC15E;\"> \n",
       "\t\t\t<span style=\" text-shadow:0 1px 0 rgba(255,255,255,0.6); color:#000000;\">mustard : #FBC15E</span>\n",
       "\t\t\t</li><li style=\"text-align:center;line-height:30px;background-color:#9932CC;\"> \n",
       "\t\t\t<span style=\" text-shadow:0 1px 0 rgba(255,255,255,0.6); color:#000000;\">darkorchid : #9932CC</span>\n",
       "\t\t\t</li><li style=\"text-align:center;line-height:30px;background-color:#fb8072;\"> \n",
       "\t\t\t<span style=\" text-shadow:0 1px 0 rgba(255,255,255,0.6); color:#000000;\">salmon : #FB8072</span>\n",
       "\t\t\t</li><li style=\"text-align:center;line-height:30px;background-color:#FDF5E6;\"> \n",
       "\t\t\t<span style=\" text-shadow:0 1px 0 rgba(255,255,255,0.6); color:#000000;\">oldlace : #FDF5E6</span>\n",
       "\t\t\t</li><li style=\"text-align:center;line-height:30px;background-color:#90EE90;\"> \n",
       "\t\t\t<span style=\" text-shadow:0 1px 0 rgba(255,255,255,0.6); color:#000000;\">lightgreen : #90EE90</span>\n",
       "\t\t\t</li><li style=\"text-align:center;line-height:30px;background-color:#66CDAA;\"> \n",
       "\t\t\t<span style=\" text-shadow:0 1px 0 rgba(255,255,255,0.6); color:#000000;\">mediumaquamarine : #66CDAA</span>\n",
       "\t\t\t</li></ul>"
      ],
      "text/plain": [
       "<IPython.core.display.HTML object>"
      ]
     },
     "metadata": {},
     "output_type": "display_data"
    }
   ],
   "source": [
    "cf.colors.color_table(cf.colors.cnames)"
   ]
  },
  {
   "cell_type": "code",
   "execution_count": 63,
   "metadata": {
    "collapsed": false
   },
   "outputs": [
    {
     "name": "stdout",
     "output_type": "stream",
     "text": [
      "Help on module cufflinks.colors in cufflinks:\n",
      "\n",
      "NAME\n",
      "    cufflinks.colors\n",
      "\n",
      "FILE\n",
      "    /Users/chriddyp/Repos/cufflinks/cufflinks/colors.py\n",
      "\n",
      "CLASSES\n",
      "    exceptions.Exception(exceptions.BaseException)\n",
      "        CufflinksError\n",
      "    \n",
      "    class CufflinksError(exceptions.Exception)\n",
      "     |  Method resolution order:\n",
      "     |      CufflinksError\n",
      "     |      exceptions.Exception\n",
      "     |      exceptions.BaseException\n",
      "     |      __builtin__.object\n",
      "     |  \n",
      "     |  Data descriptors defined here:\n",
      "     |  \n",
      "     |  __weakref__\n",
      "     |      list of weak references to the object (if defined)\n",
      "     |  \n",
      "     |  ----------------------------------------------------------------------\n",
      "     |  Methods inherited from exceptions.Exception:\n",
      "     |  \n",
      "     |  __init__(...)\n",
      "     |      x.__init__(...) initializes x; see help(type(x)) for signature\n",
      "     |  \n",
      "     |  ----------------------------------------------------------------------\n",
      "     |  Data and other attributes inherited from exceptions.Exception:\n",
      "     |  \n",
      "     |  __new__ = <built-in method __new__ of type object>\n",
      "     |      T.__new__(S, ...) -> a new object with type S, a subtype of T\n",
      "     |  \n",
      "     |  ----------------------------------------------------------------------\n",
      "     |  Methods inherited from exceptions.BaseException:\n",
      "     |  \n",
      "     |  __delattr__(...)\n",
      "     |      x.__delattr__('name') <==> del x.name\n",
      "     |  \n",
      "     |  __getattribute__(...)\n",
      "     |      x.__getattribute__('name') <==> x.name\n",
      "     |  \n",
      "     |  __getitem__(...)\n",
      "     |      x.__getitem__(y) <==> x[y]\n",
      "     |  \n",
      "     |  __getslice__(...)\n",
      "     |      x.__getslice__(i, j) <==> x[i:j]\n",
      "     |      \n",
      "     |      Use of negative indices is not supported.\n",
      "     |  \n",
      "     |  __reduce__(...)\n",
      "     |  \n",
      "     |  __repr__(...)\n",
      "     |      x.__repr__() <==> repr(x)\n",
      "     |  \n",
      "     |  __setattr__(...)\n",
      "     |      x.__setattr__('name', value) <==> x.name = value\n",
      "     |  \n",
      "     |  __setstate__(...)\n",
      "     |  \n",
      "     |  __str__(...)\n",
      "     |      x.__str__() <==> str(x)\n",
      "     |  \n",
      "     |  __unicode__(...)\n",
      "     |  \n",
      "     |  ----------------------------------------------------------------------\n",
      "     |  Data descriptors inherited from exceptions.BaseException:\n",
      "     |  \n",
      "     |  __dict__\n",
      "     |  \n",
      "     |  args\n",
      "     |  \n",
      "     |  message\n",
      "\n",
      "FUNCTIONS\n",
      "    color_range(color, N=20)\n",
      "        Generates a scale of colours from a base colour\n",
      "        \n",
      "        Parameters:\n",
      "        -----------\n",
      "                color : string\n",
      "                        Color representation in hex\n",
      "                N   : int\n",
      "                        number of colours to generate\n",
      "        \n",
      "        Example:\n",
      "                color_range('#ff9933',20)\n",
      "    \n",
      "    color_table(color, N=1, sort=False, sort_values=False, inline=False, as_html=False)\n",
      "        Generates a colour table \n",
      "        \n",
      "        Parameters:\n",
      "        -----------\n",
      "                color : string | list | dict\n",
      "                        Color representation in rgba|rgb|hex\n",
      "                        If a list of colors is passed then these\n",
      "                        are displayed in a table\n",
      "                N   : int\n",
      "                        number of colours to generate\n",
      "                        When color is not a list then it generaes \n",
      "                        a range of N colors\n",
      "                sort : bool \n",
      "                        if True then items are sorted\n",
      "                sort_values : bool \n",
      "                        if True then items are sorted by color values.\n",
      "                        Only applies if color is a dictionary\n",
      "                inline : bool\n",
      "                        if True it returns single line color blocks\n",
      "                as_html : bool\n",
      "                        if True it returns the HTML code\n",
      "        \n",
      "        Example:\n",
      "                color_table('#ff9933')\n",
      "                color_table(cufflinks.cnames)\n",
      "                color_table(['pink','salmon','yellow'])\n",
      "        Note:\n",
      "                This function only works in iPython Notebook\n",
      "    \n",
      "    colorgen(colors=None, n=None, scale=None, theme=None)\n",
      "        Returns a generator with a list of colors\n",
      "        and gradients of those colors\n",
      "        \n",
      "        Parameters:\n",
      "        -----------\n",
      "                colors : list(colors)\n",
      "                        List of colors to use\n",
      "        \n",
      "        Example:\n",
      "                colorgen()\n",
      "                colorgen(['blue','red','pink'])\n",
      "                colorgen(['#f03','rgb(23,25,25)'])\n",
      "    \n",
      "    get_scales(scale=None, n=None)\n",
      "        Returns a color scale \n",
      "        \n",
      "        Parameters:\n",
      "        -----------\n",
      "                scale : str\n",
      "                        Color scale name\n",
      "                        If the color name is preceded by a minus (-) \n",
      "                        then the scale is inversed\n",
      "                n : int\n",
      "                        Number of colors \n",
      "                        If n < number of colors available for a given scale then \n",
      "                                the minimum number will be returned \n",
      "                        If n > number of colors available for a given scale then\n",
      "                                the maximum number will be returned \n",
      "        \n",
      "        Example:\n",
      "                get_scales('accent',8)\n",
      "                get_scales('pastel1')\n",
      "    \n",
      "    hex_to_hsv(color)\n",
      "        Converts from hex to hsv\n",
      "        \n",
      "        Parameters:\n",
      "        -----------\n",
      "                color : string\n",
      "                        Color representation on color\n",
      "        \n",
      "        Example:\n",
      "                hex_to_hsv('#ff9933')\n",
      "    \n",
      "    hex_to_rgb(color)\n",
      "        Converts from hex to rgb\n",
      "        \n",
      "        Parameters:\n",
      "        -----------\n",
      "                color : string\n",
      "                        Color representation on hex or rgb\n",
      "        \n",
      "        Example:\n",
      "                hex_to_rgb('#E1E5ED')\n",
      "                hex_to_rgb('#f03')\n",
      "    \n",
      "    interp(colors, N)\n",
      "    \n",
      "    normalize(color)\n",
      "        Returns an hex color \n",
      "        \n",
      "        Parameters:\n",
      "        -----------\n",
      "                color : string\n",
      "                        Color representation in rgba|rgb|hex\n",
      "        \n",
      "        Example:\n",
      "                normalize('#f03')\n",
      "    \n",
      "    reset_scales()\n",
      "    \n",
      "    rgb_to_hex(color)\n",
      "        Converts from rgb to hex\n",
      "        \n",
      "        Parameters:\n",
      "        -----------\n",
      "                color : string\n",
      "                        Color representation on hex or rgb\n",
      "        \n",
      "        Example:\n",
      "                rgb_to_hex('rgb(23,25,24)')\n",
      "    \n",
      "    rgba_to_rgb(color, bg='rgb(255,255,255)')\n",
      "        Converts from rgba to rgb\n",
      "        \n",
      "        Parameters:\n",
      "        -----------\n",
      "                color : string\n",
      "                        Color representation in rgba\n",
      "                bg : string\n",
      "                        Color representation in rgb\n",
      "        \n",
      "        Example:\n",
      "                rgba_to_rgb('rgb(23,25,24,.4)''\n",
      "    \n",
      "    scales(scale=None)\n",
      "        Displays a color scale (HTML)\n",
      "        \n",
      "        Parameters:\n",
      "        -----------\n",
      "                scale : str\n",
      "                        Color scale name\n",
      "                        If no scale name is provided then all scales are returned\n",
      "                                (max number for each scale)\n",
      "                        If scale='all' then all scale combinations available \n",
      "                                will be returned\n",
      "        \n",
      "        Example:\n",
      "                scales('accent')\n",
      "                scales('all')\n",
      "                scales()\n",
      "    \n",
      "    to_rgba(color, alpha)\n",
      "        Converts from hex|rgb to rgba\n",
      "        \n",
      "        Parameters:\n",
      "        -----------\n",
      "                color : string\n",
      "                        Color representation on hex or rgb\n",
      "                alpha : float\n",
      "                        Value from 0 to 1.0 that represents the \n",
      "                        alpha value.\n",
      "        \n",
      "        Example:\n",
      "                to_rgba('#E1E5ED',0.6)\n",
      "                to_rgba('#f03',0.7)\n",
      "                to_rgba('rgb(23,23,23)',.5)\n",
      "\n",
      "DATA\n",
      "    cnames = {'aliceblue': '#F0F8FF', 'antiquewhite': '#FAEBD7', 'aqua': '...\n",
      "\n",
      "\n"
     ]
    }
   ],
   "source": [
    "help(cf.colors)"
   ]
  },
  {
   "cell_type": "code",
   "execution_count": 28,
   "metadata": {
    "collapsed": false
   },
   "outputs": [
    {
     "data": {
      "text/html": [
       "<iframe id=\"igraph\" scrolling=\"no\" style=\"border:none;\"seamless=\"seamless\" src=\"https://plot.ly/~christopherp/601.embed\" height=\"525\" width=\"100%\"></iframe>"
      ],
      "text/plain": [
       "<plotly.tools.PlotlyDisplay object>"
      ]
     },
     "execution_count": 28,
     "metadata": {},
     "output_type": "execute_result"
    }
   ],
   "source": [
    "df.iplot(kind='scatter',mode='markers',symbol='dot',colors=['orange','teal','blue','yellow'],size=10)"
   ]
  },
  {
   "cell_type": "markdown",
   "metadata": {},
   "source": [
    "Bubble charts can be used with `kind=bubble` and by assigning one column as the `size`"
   ]
  },
  {
   "cell_type": "code",
   "execution_count": 29,
   "metadata": {
    "collapsed": false
   },
   "outputs": [
    {
     "data": {
      "text/html": [
       "<iframe id=\"igraph\" scrolling=\"no\" style=\"border:none;\"seamless=\"seamless\" src=\"https://plot.ly/~christopherp/603.embed\" height=\"525\" width=\"100%\"></iframe>"
      ],
      "text/plain": [
       "<plotly.tools.PlotlyDisplay object>"
      ]
     },
     "execution_count": 29,
     "metadata": {},
     "output_type": "execute_result"
    }
   ],
   "source": [
    "df.iplot(kind='bubble',x='a',y='b',size='c')"
   ]
  },
  {
   "cell_type": "markdown",
   "metadata": {},
   "source": [
    "## Scatter Matrix"
   ]
  },
  {
   "cell_type": "markdown",
   "metadata": {},
   "source": [
    "You can create a scatter plot matrix using the function `scatter_matrix` "
   ]
  },
  {
   "cell_type": "code",
   "execution_count": 30,
   "metadata": {
    "collapsed": false
   },
   "outputs": [],
   "source": [
    "df = pd.DataFrame(np.random.randn(1000, 4), columns=['a', 'b', 'c', 'd'])"
   ]
  },
  {
   "cell_type": "code",
   "execution_count": 31,
   "metadata": {
    "collapsed": false
   },
   "outputs": [
    {
     "data": {
      "text/html": [
       "<iframe id=\"igraph\" scrolling=\"no\" style=\"border:none;\"seamless=\"seamless\" src=\"https://plot.ly/~christopherp/541.embed\" height=\"525\" width=\"100%\"></iframe>"
      ],
      "text/plain": [
       "<plotly.tools.PlotlyDisplay object>"
      ]
     },
     "execution_count": 31,
     "metadata": {},
     "output_type": "execute_result"
    }
   ],
   "source": [
    "df.scatter_matrix(world_readable=True)"
   ]
  },
  {
   "cell_type": "markdown",
   "metadata": {},
   "source": [
    "## Subplots"
   ]
  },
  {
   "cell_type": "markdown",
   "metadata": {},
   "source": [
    "Subplots can be defined with `subplots=True`. The shape of the output can also be determined with `shape=(rows,cols)`. If omitted then the subplot shape will automatically defined. \n",
    "\n",
    "Axes can be shared across plots with `shared_xaxes=True` as well as `shared_yaxes=True`"
   ]
  },
  {
   "cell_type": "code",
   "execution_count": 32,
   "metadata": {
    "collapsed": true
   },
   "outputs": [],
   "source": [
    "df=cf.datagen.lines(4)"
   ]
  },
  {
   "cell_type": "code",
   "execution_count": 33,
   "metadata": {
    "collapsed": false
   },
   "outputs": [
    {
     "data": {
      "text/html": [
       "<iframe id=\"igraph\" scrolling=\"no\" style=\"border:none;\"seamless=\"seamless\" src=\"https://plot.ly/~christopherp/605.embed\" height=\"525\" width=\"100%\"></iframe>"
      ],
      "text/plain": [
       "<plotly.tools.PlotlyDisplay object>"
      ]
     },
     "execution_count": 33,
     "metadata": {},
     "output_type": "execute_result"
    }
   ],
   "source": [
    "df.iplot(subplots=True,shape=(4,1),shared_xaxes=True,vertical_spacing=.02,fill=True)"
   ]
  },
  {
   "cell_type": "markdown",
   "metadata": {},
   "source": [
    "Subplot Title can be set with `subplot_titles`. If set to `True` then the column names will be used. Otherwise a list of strings can be passed. "
   ]
  },
  {
   "cell_type": "code",
   "execution_count": 34,
   "metadata": {
    "collapsed": false
   },
   "outputs": [
    {
     "data": {
      "text/html": [
       "<iframe id=\"igraph\" scrolling=\"no\" style=\"border:none;\"seamless=\"seamless\" src=\"https://plot.ly/~christopherp/605.embed\" height=\"525\" width=\"100%\"></iframe>"
      ],
      "text/plain": [
       "<plotly.tools.PlotlyDisplay object>"
      ]
     },
     "execution_count": 34,
     "metadata": {},
     "output_type": "execute_result"
    }
   ],
   "source": [
    "df.iplot(subplots=True,subplot_titles=True,legend=False)"
   ]
  },
  {
   "cell_type": "markdown",
   "metadata": {},
   "source": [
    "Irregular Subplots can also be drawn using `specs`.  \n",
    "For example, for getting a charts that spans across 2 rows we can use `specs=[[{'rowspan':2},{}],[None,{}]]`.  \n",
    "For a full set of advanced layout you can see `help(cufflinks.subplots)`"
   ]
  },
  {
   "cell_type": "code",
   "execution_count": 35,
   "metadata": {
    "collapsed": true
   },
   "outputs": [],
   "source": [
    "df=cf.datagen.bubble(10,50)"
   ]
  },
  {
   "cell_type": "code",
   "execution_count": 41,
   "metadata": {
    "collapsed": false
   },
   "outputs": [
    {
     "name": "stdout",
     "output_type": "stream",
     "text": [
      "Requirement already satisfied (use --upgrade to upgrade): scikits.statsmodels in /Library/Frameworks/Python.framework/Versions/2.7/lib/python2.7/site-packages\n",
      "Collecting scipy\n",
      "  Downloading scipy-0.16.0-cp27-none-macosx_10_6_intel.macosx_10_9_intel.macosx_10_9_x86_64.macosx_10_10_intel.macosx_10_10_x86_64.whl (20.5MB)\n",
      "\u001b[K    100% |████████████████████████████████| 20.5MB 22kB/s \n",
      "\u001b[?25hInstalling collected packages: scipy\n",
      "Successfully installed scipy-0.16.0\n"
     ]
    }
   ],
   "source": [
    "! pip install scikits.statsmodels\n",
    "! pip install scipy"
   ]
  },
  {
   "cell_type": "code",
   "execution_count": 42,
   "metadata": {
    "collapsed": false
   },
   "outputs": [],
   "source": [
    "figs=cf.figures(df,[dict(kind='histogram',keys='x',color='blue'),\n",
    "                    dict(kind='scatter',mode='markers',x='x',y='y',size=5),\n",
    "                    dict(kind='scatter',mode='markers',x='x',y='y',size=5,color='teal')])\n",
    "figs.append(cf.datagen.lines(1).figure(bestfit=True,colors=['blue'],bestfit_colors=['pink']))\n",
    "base_layout=cf.tools.get_base_layout(figs)\n",
    "sp=cf.subplots(figs,shape=(3,2),base_layout=base_layout,vertical_spacing=.15,horizontal_spacing=.03,\n",
    "               specs=[[{'rowspan':2},{}],[None,{}],[{'colspan':2},None]],\n",
    "               subplot_titles=['Histogram','Scatter 1','Scatter 2','Bestfit Line'])\n",
    "sp['layout'].update(showlegend=False)"
   ]
  },
  {
   "cell_type": "code",
   "execution_count": 43,
   "metadata": {
    "collapsed": false,
    "scrolled": false
   },
   "outputs": [
    {
     "data": {
      "text/html": [
       "<iframe id=\"igraph\" scrolling=\"no\" style=\"border:none;\"seamless=\"seamless\" src=\"https://plot.ly/~christopherp/608.embed\" height=\"525\" width=\"100%\"></iframe>"
      ],
      "text/plain": [
       "<plotly.tools.PlotlyDisplay object>"
      ]
     },
     "execution_count": 43,
     "metadata": {},
     "output_type": "execute_result"
    }
   ],
   "source": [
    "cf.iplot(sp)"
   ]
  },
  {
   "cell_type": "markdown",
   "metadata": {},
   "source": [
    "### Shapes"
   ]
  },
  {
   "cell_type": "markdown",
   "metadata": {},
   "source": [
    "Lines can be added with `hline` and `vline` for horizontal and vertical lines respectively. \n",
    "These can be either a list of values (relative to the axis) or a dictionary. "
   ]
  },
  {
   "cell_type": "code",
   "execution_count": 44,
   "metadata": {
    "collapsed": true
   },
   "outputs": [],
   "source": [
    "df=cf.datagen.lines(3,columns=['a','b','c'])"
   ]
  },
  {
   "cell_type": "code",
   "execution_count": 45,
   "metadata": {
    "collapsed": false
   },
   "outputs": [
    {
     "data": {
      "text/html": [
       "<iframe id=\"igraph\" scrolling=\"no\" style=\"border:none;\"seamless=\"seamless\" src=\"https://plot.ly/~christopherp/610.embed\" height=\"525\" width=\"100%\"></iframe>"
      ],
      "text/plain": [
       "<plotly.tools.PlotlyDisplay object>"
      ]
     },
     "execution_count": 45,
     "metadata": {},
     "output_type": "execute_result"
    }
   ],
   "source": [
    "df.iplot(hline=[2,4],vline=['2015-02-10'])"
   ]
  },
  {
   "cell_type": "markdown",
   "metadata": {},
   "source": [
    "More advanced parameters can be passed in the form of a dictionary, including `width` and  `color` and `dash` for the line dash type. "
   ]
  },
  {
   "cell_type": "code",
   "execution_count": 46,
   "metadata": {
    "collapsed": false
   },
   "outputs": [
    {
     "data": {
      "text/html": [
       "<iframe id=\"igraph\" scrolling=\"no\" style=\"border:none;\"seamless=\"seamless\" src=\"https://plot.ly/~christopherp/612.embed\" height=\"525\" width=\"100%\"></iframe>"
      ],
      "text/plain": [
       "<plotly.tools.PlotlyDisplay object>"
      ]
     },
     "execution_count": 46,
     "metadata": {},
     "output_type": "execute_result"
    }
   ],
   "source": [
    "df.iplot(hline=[dict(y=-1,color='blue',width=3),dict(y=1,color='pink',dash='dash')])"
   ]
  },
  {
   "cell_type": "markdown",
   "metadata": {},
   "source": [
    "Shaded areas can be plotted using `hspan` and `vspan` for horizontal and vertical areas respectively.  \n",
    "These can be set with a list of paired tuples (v0,v1) or a list of dictionaries with further parameters. "
   ]
  },
  {
   "cell_type": "code",
   "execution_count": 47,
   "metadata": {
    "collapsed": false
   },
   "outputs": [
    {
     "data": {
      "text/html": [
       "<iframe id=\"igraph\" scrolling=\"no\" style=\"border:none;\"seamless=\"seamless\" src=\"https://plot.ly/~christopherp/614.embed\" height=\"525\" width=\"100%\"></iframe>"
      ],
      "text/plain": [
       "<plotly.tools.PlotlyDisplay object>"
      ]
     },
     "execution_count": 47,
     "metadata": {},
     "output_type": "execute_result"
    }
   ],
   "source": [
    "df.iplot(hspan=[(-1,1),(2,5)])"
   ]
  },
  {
   "cell_type": "markdown",
   "metadata": {},
   "source": [
    "Extra parameters can be passed in the form of dictionaries, `width`, `fill`, `color`, `fillcolor`, `opacity`"
   ]
  },
  {
   "cell_type": "code",
   "execution_count": 48,
   "metadata": {
    "collapsed": false
   },
   "outputs": [
    {
     "data": {
      "text/html": [
       "<iframe id=\"igraph\" scrolling=\"no\" style=\"border:none;\"seamless=\"seamless\" src=\"https://plot.ly/~christopherp/616.embed\" height=\"525\" width=\"100%\"></iframe>"
      ],
      "text/plain": [
       "<plotly.tools.PlotlyDisplay object>"
      ]
     },
     "execution_count": 48,
     "metadata": {},
     "output_type": "execute_result"
    }
   ],
   "source": [
    "df.iplot(vspan={'x0':'2015-02-15','x1':'2015-03-15','color':'teal','fill':True,'opacity':.4})"
   ]
  },
  {
   "cell_type": "code",
   "execution_count": 49,
   "metadata": {
    "collapsed": false
   },
   "outputs": [
    {
     "data": {
      "text/html": [
       "<iframe id=\"igraph\" scrolling=\"no\" style=\"border:none;\"seamless=\"seamless\" src=\"https://plot.ly/~christopherp/618.embed\" height=\"525\" width=\"100%\"></iframe>"
      ],
      "text/plain": [
       "<plotly.tools.PlotlyDisplay object>"
      ]
     },
     "execution_count": 49,
     "metadata": {},
     "output_type": "execute_result"
    }
   ],
   "source": [
    "# Plotting resistance lines\n",
    "max_vals=df.max().values.tolist()\n",
    "resistance=[dict(kind='line',y=i,color=j,width=2) for i,j in zip(max_vals,['red','blue','pink'])]\n",
    "df.iplot(hline=resistance)"
   ]
  },
  {
   "cell_type": "markdown",
   "metadata": {},
   "source": [
    "Different shapes can also be used with `shapes` and identifying the `kind` which can be either *line*, *rect* or *circle*"
   ]
  },
  {
   "cell_type": "code",
   "execution_count": 50,
   "metadata": {
    "collapsed": false
   },
   "outputs": [],
   "source": [
    "# Get min to max values\n",
    "\n",
    "df_a=df['a']\n",
    "max_val=df_a.max()\n",
    "min_val=df_a.min()\n",
    "max_date=df_a[df_a==max_val].index[0].strftime('%Y-%m-%d')\n",
    "min_date=df_a[df_a==min_val].index[0].strftime('%Y-%m-%d')\n",
    "shape1=dict(kind='line',x0=max_date,y0=max_val,x1=min_date,y1=min_val,color='blue',width=2)\n",
    "shape2=dict(kind='rect',x0=max_date,x1=min_date,fill=True,color='gray',opacity=.3)"
   ]
  },
  {
   "cell_type": "code",
   "execution_count": 51,
   "metadata": {
    "collapsed": false
   },
   "outputs": [
    {
     "data": {
      "text/html": [
       "<iframe id=\"igraph\" scrolling=\"no\" style=\"border:none;\"seamless=\"seamless\" src=\"https://plot.ly/~christopherp/620.embed\" height=\"525\" width=\"100%\"></iframe>"
      ],
      "text/plain": [
       "<plotly.tools.PlotlyDisplay object>"
      ]
     },
     "execution_count": 51,
     "metadata": {},
     "output_type": "execute_result"
    }
   ],
   "source": [
    "df_a.iplot(shapes=[shape1,shape2])"
   ]
  },
  {
   "cell_type": "markdown",
   "metadata": {},
   "source": [
    "#### Other Shapes"
   ]
  },
  {
   "cell_type": "code",
   "execution_count": 52,
   "metadata": {
    "collapsed": false
   },
   "outputs": [],
   "source": [
    "x0 = np.random.normal(2, 0.45, 300)\n",
    "y0 = np.random.normal(2, 0.45, 300)\n",
    "\n",
    "x1 = np.random.normal(6, 0.4, 200)\n",
    "y1 = np.random.normal(6, 0.4, 200)\n",
    "\n",
    "x2 = np.random.normal(4, 0.3, 200)\n",
    "y2 = np.random.normal(4, 0.3, 200)\n",
    "\n",
    "distributions = [(x0,y0),(x1,y1),(x2,y2)]"
   ]
  },
  {
   "cell_type": "code",
   "execution_count": 53,
   "metadata": {
    "collapsed": false
   },
   "outputs": [],
   "source": [
    "dfs=[pd.DataFrame(dict(x=i,y=j)) for i,j in distributions]"
   ]
  },
  {
   "cell_type": "code",
   "execution_count": 54,
   "metadata": {
    "collapsed": false
   },
   "outputs": [],
   "source": [
    "d=cf.Data()\n",
    "gen=cf.colorgen(scale='ggplot')\n",
    "for df in dfs:\n",
    "    d_=df.figure(kind='scatter',mode='markers',x='x',y='y',size=5,colors=gen.next())['data']\n",
    "    for _ in d_:\n",
    "        d.append(_)"
   ]
  },
  {
   "cell_type": "code",
   "execution_count": 55,
   "metadata": {
    "collapsed": false
   },
   "outputs": [],
   "source": [
    "gen=cf.colorgen(scale='ggplot')\n",
    "shapes=[cf.tools.get_shape(kind='circle',x0=min(x),x1=max(x),\n",
    "         y0=min(y),y1=max(y),color=gen.next(),fill=True,\n",
    "         opacity=.3,width=.4) for x,y in distributions]"
   ]
  },
  {
   "cell_type": "code",
   "execution_count": 56,
   "metadata": {
    "collapsed": false,
    "scrolled": false
   },
   "outputs": [
    {
     "data": {
      "text/html": [
       "<iframe id=\"igraph\" scrolling=\"no\" style=\"border:none;\"seamless=\"seamless\" src=\"https://plot.ly/~christopherp/608.embed\" height=\"525\" width=\"100%\"></iframe>"
      ],
      "text/plain": [
       "<plotly.tools.PlotlyDisplay object>"
      ]
     },
     "execution_count": 56,
     "metadata": {},
     "output_type": "execute_result"
    }
   ],
   "source": [
    "fig=cf.Figure(data=d)\n",
    "fig['layout']=cf.getLayout(shapes=shapes,legend=False,title='Distribution Comparison')\n",
    "cf.iplot(fig,validate=False)"
   ]
  },
  {
   "cell_type": "code",
   "execution_count": 57,
   "metadata": {
    "collapsed": false
   },
   "outputs": [
    {
     "ename": "IOError",
     "evalue": "[Errno 2] No such file or directory: 'sphinx.css'",
     "output_type": "error",
     "traceback": [
      "\u001b[0;31m---------------------------------------------------------------------------\u001b[0m",
      "\u001b[0;31mIOError\u001b[0m                                   Traceback (most recent call last)",
      "\u001b[0;32m<ipython-input-57-476f70eabb8f>\u001b[0m in \u001b[0;36m<module>\u001b[0;34m()\u001b[0m\n\u001b[0;32m----> 1\u001b[0;31m \u001b[0mstyles\u001b[0m \u001b[0;34m=\u001b[0m \u001b[0;34m\"<style>\\n%s\\n</style>\"\u001b[0m \u001b[0;34m%\u001b[0m \u001b[0;34m(\u001b[0m\u001b[0mopen\u001b[0m\u001b[0;34m(\u001b[0m\u001b[0;34m'sphinx.css'\u001b[0m\u001b[0;34m,\u001b[0m\u001b[0;34m'r'\u001b[0m\u001b[0;34m)\u001b[0m\u001b[0;34m.\u001b[0m\u001b[0mread\u001b[0m\u001b[0;34m(\u001b[0m\u001b[0;34m)\u001b[0m\u001b[0;34m)\u001b[0m\u001b[0;34m\u001b[0m\u001b[0m\n\u001b[0m\u001b[1;32m      2\u001b[0m \u001b[0mdisplay\u001b[0m\u001b[0;34m(\u001b[0m\u001b[0mHTML\u001b[0m\u001b[0;34m(\u001b[0m\u001b[0mstyles\u001b[0m\u001b[0;34m)\u001b[0m\u001b[0;34m)\u001b[0m\u001b[0;34m\u001b[0m\u001b[0m\n",
      "\u001b[0;31mIOError\u001b[0m: [Errno 2] No such file or directory: 'sphinx.css'"
     ]
    }
   ],
   "source": [
    "styles = \"<style>\\n%s\\n</style>\" % (open('sphinx.css','r').read())\n",
    "display(HTML(styles))"
   ]
  },
  {
   "cell_type": "code",
   "execution_count": null,
   "metadata": {
    "collapsed": true
   },
   "outputs": [],
   "source": []
  },
  {
   "cell_type": "code",
   "execution_count": null,
   "metadata": {
    "collapsed": true
   },
   "outputs": [],
   "source": []
  }
 ],
 "metadata": {
  "kernelspec": {
   "display_name": "Python 2",
   "language": "python",
   "name": "python2"
  }
 },
 "nbformat": 4,
 "nbformat_minor": 0
}
